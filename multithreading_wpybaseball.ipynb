{
 "cells": [
  {
   "cell_type": "markdown",
   "metadata": {},
   "source": [
    "**Multithreading with pybaseball**\n",
    "\n",
    "While working on the education project and the baseball project, I wrote for loops which downloaded sets of data one at a time in series. This worked, but it took a very long time. The advantage of doing this is that it was easier to correct errors. However, I looked at ways to get this done faster for the practical benefit of simply getting my project done faster. I came across multiprocessing and multithreading in Python. [This](https://vsoch.github.io/2017/multiprocess/) was a nice post which had some details but ultimately I ended up following something closer to [this post](https://stackoverflow.com/questions/16982569/making-multiple-api-calls-in-parallel-using-python-ipython) which was sufficient to serve my needs. Of course, along the way, I learned more about multiprocessing and multithreading and not just \"How do I get data faster?\""
   ]
  },
  {
   "cell_type": "markdown",
   "metadata": {},
   "source": [
    "This notebook was created within my \"insight\" virtual environment."
   ]
  },
  {
   "cell_type": "code",
   "execution_count": 1,
   "metadata": {
    "ExecuteTime": {
     "end_time": "2020-01-15T23:43:37.146532Z",
     "start_time": "2020-01-15T23:43:30.329559Z"
    }
   },
   "outputs": [],
   "source": [
    "import os\n",
    "import numpy as np\n",
    "import pandas as pd\n",
    "from termcolor import colored\n",
    "\n",
    "# Web/database stuff\n",
    "import urllib.request\n",
    "import xml.etree.ElementTree as ET\n",
    "from bs4 import BeautifulSoup\n",
    "\n",
    "# Multiprocessing/threading\n",
    "import multiprocess\n",
    "import threading\n",
    "from threading import Thread"
   ]
  },
  {
   "cell_type": "markdown",
   "metadata": {},
   "source": [
    "# Evaluate on pybaseball scraping serially"
   ]
  },
  {
   "cell_type": "code",
   "execution_count": 2,
   "metadata": {
    "ExecuteTime": {
     "end_time": "2020-01-15T23:43:39.830347Z",
     "start_time": "2020-01-15T23:43:39.071925Z"
    }
   },
   "outputs": [],
   "source": [
    "from pybaseball import pitching_stats\n",
    "from pybaseball import statcast_pitcher\n",
    "from pybaseball import playerid_lookup\n",
    "from pybaseball import statcast"
   ]
  },
  {
   "cell_type": "code",
   "execution_count": null,
   "metadata": {},
   "outputs": [],
   "source": [
    "# Input"
   ]
  },
  {
   "cell_type": "code",
   "execution_count": null,
   "metadata": {},
   "outputs": [],
   "source": []
  },
  {
   "cell_type": "code",
   "execution_count": 3,
   "metadata": {
    "ExecuteTime": {
     "end_time": "2020-01-15T23:43:40.838217Z",
     "start_time": "2020-01-15T23:43:40.830658Z"
    }
   },
   "outputs": [],
   "source": [
    "# Pitch result designation dictionary\n",
    "# A similar question and approach here https://www.reddit.com/r/Sabermetrics/comments/e130el/how_to_calculate_whiff_rate/\n",
    "# Note that bunts are included\n",
    "contact_desc = (['pitchout_hit_into_play_score', 'hit_into_play_score', 'hit_into_play',\n",
    "                 'hit_by_pitch', 'hit_into_play_no_out', 'pitchout_hit_into_play_no_out',\n",
    "                 'pitchout_hit_into_play'])\n",
    "foul_desc = ['foul_pitchout', 'foul_bunt', 'bunt_foul_tip', 'foul', 'foul_tip']\n",
    "takeball_desc = ['intent_ball', 'blocked_ball', 'pitchout', 'ball']\n",
    "takestrike_desc = ['called_strike']\n",
    "unknownstrike_desc = ['unknown_strike']\n",
    "whiff_desc = ['swinging_strike_blocked', 'swinging_strike', 'missed_bunt', 'swinging_strike']\n",
    "\n",
    "desc_dict = {'contact':contact_desc, 'foul':foul_desc, 'take_ball':takeball_desc,\n",
    "             'take_strike':takestrike_desc, 'unknown_strike':unknownstrike_desc,\n",
    "             'whiff':whiff_desc}\n",
    "\n",
    "bat_stand_list = ['L', 'R']\n",
    "zone_list = list(range(1, 13))\n",
    "sw_types = list(desc_dict.keys())"
   ]
  },
  {
   "cell_type": "code",
   "execution_count": 4,
   "metadata": {
    "ExecuteTime": {
     "end_time": "2020-01-15T23:43:42.401079Z",
     "start_time": "2020-01-15T23:43:42.389806Z"
    },
    "code_folding": [
     0
    ]
   },
   "outputs": [],
   "source": [
    "def get_pitcher_pb_sc_data(pitcher):\n",
    "    print(colored(pitcher, 'blue'))\n",
    "    pitcher_for_lookup = pitcher.split()\n",
    "    \n",
    "    # Account for Chi Chi Gonzales since I'm splitting by space\n",
    "    if len(pitcher_for_lookup) > 2:\n",
    "        p_id = playerid_lookup(pitcher_for_lookup[2], pitcher_for_lookup[0] + ' ' + pitcher_for_lookup[1])\n",
    "    else:\n",
    "        p_id = playerid_lookup(pitcher_for_lookup[1], pitcher_for_lookup[0])\n",
    "    \n",
    "    # Account for common names\n",
    "    if p_id.shape[0] > 1:\n",
    "        p_id = p_id[p_id['mlb_played_last'] > 2008]\n",
    "    df_pitcher_sc = statcast_pitcher('2019-03-28', '2019-09-29', player_id = int(p_id['key_mlbam']))\n",
    "    \n",
    "    # Swing designation info\n",
    "    df_pitcher_sc['sw_type'] = None\n",
    "    for key, value in desc_dict.items():\n",
    "        df_pitcher_sc.loc[df_pitcher_sc['description'].isin(value), 'sw_type'] = key\n",
    "    df_pitcher_sc['sw_true'] = 0\n",
    "    df_pitcher_sc.loc[df_pitcher_sc['sw_type'].isin(['whiff', 'contact', 'foul']), 'sw_true'] = 1\n",
    "    \n",
    "    return p_id, df_pitcher_sc"
   ]
  },
  {
   "cell_type": "code",
   "execution_count": 5,
   "metadata": {
    "ExecuteTime": {
     "end_time": "2020-01-15T23:43:54.713398Z",
     "start_time": "2020-01-15T23:43:42.886170Z"
    }
   },
   "outputs": [
    {
     "name": "stdout",
     "output_type": "stream",
     "text": [
      "\u001b[34mGerrit Cole\u001b[0m\n",
      "Gathering player lookup table. This may take a moment.\n",
      "Gathering Player Data\n"
     ]
    }
   ],
   "source": [
    "# Example\n",
    "pitcher = 'Gerrit Cole'\n",
    "df_pitcher_sc_cole = get_pitcher_pb_sc_data(pitcher)"
   ]
  },
  {
   "cell_type": "code",
   "execution_count": 18,
   "metadata": {
    "ExecuteTime": {
     "end_time": "2020-01-05T17:42:48.248451Z",
     "start_time": "2020-01-05T17:42:40.807765Z"
    }
   },
   "outputs": [
    {
     "name": "stdout",
     "output_type": "stream",
     "text": [
      "92.4 ns ± 6.55 ns per loop (mean ± std. dev. of 7 runs, 10000000 loops each)\n"
     ]
    }
   ],
   "source": [
    "%%timeit\n",
    "\n",
    "pitcher_list = (['Gerrit Cole',\n",
    "                 'Justin Verlander',\n",
    "                 'Caleb Smith',\n",
    "                 'Chris Paddack',\n",
    "                 'Reynaldo Lopez',\n",
    "                 'Robbie Ray',\n",
    "                 'Zach Eflin',\n",
    "                 'Dylan Bundy',\n",
    "                 'Zach Plesac',\n",
    "                 'Merrill Kelly'])"
   ]
  },
  {
   "cell_type": "code",
   "execution_count": 6,
   "metadata": {
    "ExecuteTime": {
     "end_time": "2020-01-15T23:48:22.662243Z",
     "start_time": "2020-01-15T23:48:22.656172Z"
    }
   },
   "outputs": [],
   "source": [
    "\n",
    "# Make a list of 10 pitchers as a test set\n",
    "pitcher_list = (['Gerrit Cole',\n",
    "                 'Justin Verlander',\n",
    "                 'Caleb Smith',\n",
    "                 'Chris Paddack',\n",
    "                 'Reynaldo Lopez',\n",
    "                 'Robbie Ray',\n",
    "                 'Zach Eflin',\n",
    "                 'Dylan Bundy',\n",
    "                 'Zach Plesac',\n",
    "                 'Merrill Kelly'])\n",
    "\n",
    "# Make a list of 10 pitchers that includes a name not in the database as a test set that can throw an error\n",
    "pitcher_list_werror = (['Gerrit Cole',\n",
    "                 'Justin Verlander',\n",
    "                 'Caleb Smith',\n",
    "                 'Chris Paddack',\n",
    "                 'Ben Lacar',\n",
    "                 'Robbie Ray',\n",
    "                 'Zach Eflin',\n",
    "                 'Dylan Bundy',\n",
    "                 'Zach Plesac',\n",
    "                 'Merrill Kelly'])"
   ]
  },
  {
   "cell_type": "code",
   "execution_count": 7,
   "metadata": {
    "ExecuteTime": {
     "end_time": "2020-01-15T23:48:40.651149Z",
     "start_time": "2020-01-15T23:48:23.422557Z"
    }
   },
   "outputs": [
    {
     "name": "stdout",
     "output_type": "stream",
     "text": [
      "Gerrit Cole\n",
      "\u001b[34mGerrit Cole\u001b[0m\n",
      "Gathering player lookup table. This may take a moment.\n",
      "Gathering Player Data\n",
      "Justin Verlander\n",
      "\u001b[34mJustin Verlander\u001b[0m\n",
      "Gathering player lookup table. This may take a moment.\n",
      "Gathering Player Data\n"
     ]
    },
    {
     "name": "stderr",
     "output_type": "stream",
     "text": [
      "UsageError: Line magic function `%%time` not found.\n"
     ]
    }
   ],
   "source": [
    "# Done serially (two pitchers), takes 21.4 s\n",
    "for pitcher in pitcher_list[0:2]:\n",
    "    print(pitcher)\n",
    "    df_pitcher_sc = get_pitcher_pb_sc_data(pitcher)\n",
    "    \n",
    "%%time"
   ]
  },
  {
   "cell_type": "markdown",
   "metadata": {},
   "source": [
    "# Evaluate on pybaseball scraping serially\n",
    "\n",
    "I mainly modified functions based on [this StackOverflow post](https://stackoverflow.com/questions/16982569/making-multiple-api-calls-in-parallel-using-python-ipython).\n",
    "\n",
    "- What happens if # of threads > # items to download?\n",
    "- What happens if # items to download > # of threads?\n",
    "- What happens if you max out the threads? (How do you know the max?)\n",
    "- What if there is an error in an item you download?\n",
    "- How do you do a loop with each pass through the loop doing a batch download? (e.g., scrape 10 items 2 at a time, so 5 passes through the loop)\n"
   ]
  },
  {
   "cell_type": "code",
   "execution_count": 8,
   "metadata": {
    "ExecuteTime": {
     "end_time": "2020-01-15T23:48:44.024804Z",
     "start_time": "2020-01-15T23:48:44.019392Z"
    },
    "code_folding": []
   },
   "outputs": [],
   "source": [
    "def get_pitcher_pb_sc_data_range(pitcher_range, store=None):\n",
    "    \"\"\"process a number of ids, storing the results in a dict\"\"\"\n",
    "    if store is None:\n",
    "        store = {}\n",
    "    for pitcher in pitcher_range:\n",
    "        # Easy way to skip if there's an error\n",
    "        try:\n",
    "            store[pitcher] = get_pitcher_pb_sc_data(pitcher)\n",
    "        except:\n",
    "            continue\n",
    "    return store"
   ]
  },
  {
   "cell_type": "code",
   "execution_count": 9,
   "metadata": {
    "ExecuteTime": {
     "end_time": "2020-01-15T23:48:44.834513Z",
     "start_time": "2020-01-15T23:48:44.829694Z"
    }
   },
   "outputs": [],
   "source": [
    "from threading import Thread"
   ]
  },
  {
   "cell_type": "code",
   "execution_count": 10,
   "metadata": {
    "ExecuteTime": {
     "end_time": "2020-01-15T23:48:46.285748Z",
     "start_time": "2020-01-15T23:48:46.279309Z"
    },
    "code_folding": [
     0
    ]
   },
   "outputs": [],
   "source": [
    "# def threaded_process_range(nthreads, id_range):\n",
    "#     \"\"\"process the id range in a specified number of threads\"\"\"\n",
    "#     store = {}\n",
    "#     threads = []\n",
    "#     # create the threads\n",
    "#     for i in range(nthreads):\n",
    "#         ids = id_range[i::nthreads]\n",
    "#         t = Thread(target=process_range, args=(ids,store))\n",
    "#         threads.append(t)\n",
    "\n",
    "#     # start the threads\n",
    "#     [ t.start() for t in threads ]\n",
    "#     # wait for the threads to finish\n",
    "#     [ t.join() for t in threads ]\n",
    "#     return store"
   ]
  },
  {
   "cell_type": "code",
   "execution_count": 11,
   "metadata": {
    "ExecuteTime": {
     "end_time": "2020-01-15T23:48:46.562508Z",
     "start_time": "2020-01-15T23:48:46.556406Z"
    },
    "code_folding": [
     0
    ]
   },
   "outputs": [],
   "source": [
    "def threaded_process_range(nthreads, pitcher_list):\n",
    "    \"\"\"process the pitcher list in a specified number of threads\"\"\"\n",
    "    store = {}\n",
    "    threads = []\n",
    "    # create the threads\n",
    "    for i in range(nthreads):\n",
    "        ids = pitcher_list[i::nthreads]\n",
    "        t = Thread(target=get_pitcher_pb_sc_data_range, args=(ids,store))\n",
    "        threads.append(t)\n",
    "\n",
    "    # start the threads\n",
    "    [ t.start() for t in threads ]\n",
    "    # wait for the threads to finish\n",
    "    [ t.join() for t in threads ]\n",
    "    return store"
   ]
  },
  {
   "cell_type": "code",
   "execution_count": 12,
   "metadata": {
    "ExecuteTime": {
     "end_time": "2020-01-15T23:49:35.688237Z",
     "start_time": "2020-01-15T23:48:47.209964Z"
    }
   },
   "outputs": [
    {
     "name": "stdout",
     "output_type": "stream",
     "text": [
      "\u001b[34mGerrit Cole\u001b[0m\n",
      "Gathering player lookup table. This may take a moment.\n",
      "\u001b[34mJustin Verlander\u001b[0m\n",
      "Gathering player lookup table. This may take a moment.\n",
      "\u001b[34mCaleb Smith\u001b[0m\n",
      "Gathering player lookup table. This may take a moment.\n",
      "\u001b[34mChris Paddack\u001b[0m\n",
      "Gathering player lookup table. This may take a moment.\n",
      "Gathering Player Data\n",
      "Gathering Player Data\n",
      "\u001b[34mDylan Bundy\u001b[0m\n",
      "Gathering player lookup table. This may take a moment.\n",
      "\u001b[34mReynaldo Lopez\u001b[0m\n",
      "Gathering player lookup table. This may take a moment.\n",
      "Gathering Player Data\n",
      "Gathering Player Data\n",
      "\u001b[34mZach Eflin\u001b[0m\n",
      "Gathering player lookup table. This may take a moment.\n",
      "\u001b[34mRobbie Ray\u001b[0m\n",
      "Gathering player lookup table. This may take a moment.\n",
      "Gathering Player Data\n",
      "Gathering Player Data\n",
      "\u001b[34mZach Plesac\u001b[0m\n",
      "Gathering player lookup table. This may take a moment.\n",
      "Gathering Player Data\n",
      "Gathering Player Data\n",
      "Gathering Player Data\n",
      "\u001b[34mMerrill Kelly\u001b[0m\n",
      "Gathering player lookup table. This may take a moment.\n",
      "Gathering Player Data\n"
     ]
    }
   ],
   "source": [
    "my_store = threaded_process_range(4, pitcher_list)"
   ]
  },
  {
   "cell_type": "code",
   "execution_count": 63,
   "metadata": {
    "ExecuteTime": {
     "end_time": "2020-01-05T06:24:59.001163Z",
     "start_time": "2020-01-05T06:24:31.681661Z"
    }
   },
   "outputs": [
    {
     "name": "stdout",
     "output_type": "stream",
     "text": [
      "\u001b[34mGerrit Cole\u001b[0m\n",
      "Gathering player lookup table. This may take a moment.\n",
      "\u001b[34mJustin Verlander\u001b[0m\n",
      "Gathering player lookup table. This may take a moment.\u001b[34mCaleb Smith\u001b[0m\n",
      "\n",
      "Gathering player lookup table. This may take a moment.\n",
      "\u001b[34mBen Lacar\u001b[0m\n",
      "Gathering player lookup table. This may take a moment.\n",
      "Gathering Player Data\n",
      "Gathering Player Data\n",
      "Gathering Player Data\n"
     ]
    }
   ],
   "source": [
    "my_store = threaded_process_range(4, pitcher_list_werror)"
   ]
  },
  {
   "cell_type": "code",
   "execution_count": 13,
   "metadata": {
    "ExecuteTime": {
     "end_time": "2020-01-15T23:49:35.976889Z",
     "start_time": "2020-01-15T23:49:35.961622Z"
    }
   },
   "outputs": [
    {
     "data": {
      "text/plain": [
       "dict_keys(['Chris Paddack', 'Gerrit Cole', 'Caleb Smith', 'Justin Verlander', 'Dylan Bundy', 'Reynaldo Lopez', 'Zach Eflin', 'Robbie Ray', 'Zach Plesac', 'Merrill Kelly'])"
      ]
     },
     "execution_count": 13,
     "metadata": {},
     "output_type": "execute_result"
    }
   ],
   "source": [
    "my_store.keys()"
   ]
  },
  {
   "cell_type": "code",
   "execution_count": 14,
   "metadata": {
    "ExecuteTime": {
     "end_time": "2020-01-15T23:49:36.341798Z",
     "start_time": "2020-01-15T23:49:36.264683Z"
    },
    "collapsed": true
   },
   "outputs": [
    {
     "data": {
      "text/html": [
       "<div>\n",
       "<style scoped>\n",
       "    .dataframe tbody tr th:only-of-type {\n",
       "        vertical-align: middle;\n",
       "    }\n",
       "\n",
       "    .dataframe tbody tr th {\n",
       "        vertical-align: top;\n",
       "    }\n",
       "\n",
       "    .dataframe thead th {\n",
       "        text-align: right;\n",
       "    }\n",
       "</style>\n",
       "<table border=\"1\" class=\"dataframe\">\n",
       "  <thead>\n",
       "    <tr style=\"text-align: right;\">\n",
       "      <th></th>\n",
       "      <th>pitch_type</th>\n",
       "      <th>game_date</th>\n",
       "      <th>release_speed</th>\n",
       "      <th>release_pos_x</th>\n",
       "      <th>release_pos_z</th>\n",
       "      <th>player_name</th>\n",
       "      <th>batter</th>\n",
       "      <th>pitcher</th>\n",
       "      <th>events</th>\n",
       "      <th>description</th>\n",
       "      <th>...</th>\n",
       "      <th>bat_score</th>\n",
       "      <th>fld_score</th>\n",
       "      <th>post_away_score</th>\n",
       "      <th>post_home_score</th>\n",
       "      <th>post_bat_score</th>\n",
       "      <th>post_fld_score</th>\n",
       "      <th>if_fielding_alignment</th>\n",
       "      <th>of_fielding_alignment</th>\n",
       "      <th>sw_type</th>\n",
       "      <th>sw_true</th>\n",
       "    </tr>\n",
       "  </thead>\n",
       "  <tbody>\n",
       "    <tr>\n",
       "      <th>0</th>\n",
       "      <td>FF</td>\n",
       "      <td>2019-09-29</td>\n",
       "      <td>98.4</td>\n",
       "      <td>-1.9530</td>\n",
       "      <td>5.7396</td>\n",
       "      <td>Gerrit Cole</td>\n",
       "      <td>592230</td>\n",
       "      <td>543037</td>\n",
       "      <td>strikeout</td>\n",
       "      <td>swinging_strike</td>\n",
       "      <td>...</td>\n",
       "      <td>1</td>\n",
       "      <td>8</td>\n",
       "      <td>8</td>\n",
       "      <td>1</td>\n",
       "      <td>1</td>\n",
       "      <td>8</td>\n",
       "      <td>Infield shift</td>\n",
       "      <td>Standard</td>\n",
       "      <td>whiff</td>\n",
       "      <td>1</td>\n",
       "    </tr>\n",
       "    <tr>\n",
       "      <th>1</th>\n",
       "      <td>FF</td>\n",
       "      <td>2019-09-29</td>\n",
       "      <td>99.0</td>\n",
       "      <td>-1.8961</td>\n",
       "      <td>5.7786</td>\n",
       "      <td>Gerrit Cole</td>\n",
       "      <td>592230</td>\n",
       "      <td>543037</td>\n",
       "      <td>NaN</td>\n",
       "      <td>ball</td>\n",
       "      <td>...</td>\n",
       "      <td>1</td>\n",
       "      <td>8</td>\n",
       "      <td>8</td>\n",
       "      <td>1</td>\n",
       "      <td>1</td>\n",
       "      <td>8</td>\n",
       "      <td>Infield shift</td>\n",
       "      <td>Standard</td>\n",
       "      <td>take_ball</td>\n",
       "      <td>0</td>\n",
       "    </tr>\n",
       "    <tr>\n",
       "      <th>2</th>\n",
       "      <td>KC</td>\n",
       "      <td>2019-09-29</td>\n",
       "      <td>86.2</td>\n",
       "      <td>-1.9253</td>\n",
       "      <td>5.7561</td>\n",
       "      <td>Gerrit Cole</td>\n",
       "      <td>592230</td>\n",
       "      <td>543037</td>\n",
       "      <td>NaN</td>\n",
       "      <td>foul</td>\n",
       "      <td>...</td>\n",
       "      <td>1</td>\n",
       "      <td>8</td>\n",
       "      <td>8</td>\n",
       "      <td>1</td>\n",
       "      <td>1</td>\n",
       "      <td>8</td>\n",
       "      <td>Infield shift</td>\n",
       "      <td>Standard</td>\n",
       "      <td>foul</td>\n",
       "      <td>1</td>\n",
       "    </tr>\n",
       "    <tr>\n",
       "      <th>3</th>\n",
       "      <td>FF</td>\n",
       "      <td>2019-09-29</td>\n",
       "      <td>99.4</td>\n",
       "      <td>-1.9853</td>\n",
       "      <td>5.7987</td>\n",
       "      <td>Gerrit Cole</td>\n",
       "      <td>592230</td>\n",
       "      <td>543037</td>\n",
       "      <td>NaN</td>\n",
       "      <td>foul</td>\n",
       "      <td>...</td>\n",
       "      <td>1</td>\n",
       "      <td>8</td>\n",
       "      <td>8</td>\n",
       "      <td>1</td>\n",
       "      <td>1</td>\n",
       "      <td>8</td>\n",
       "      <td>Infield shift</td>\n",
       "      <td>Standard</td>\n",
       "      <td>foul</td>\n",
       "      <td>1</td>\n",
       "    </tr>\n",
       "    <tr>\n",
       "      <th>4</th>\n",
       "      <td>FF</td>\n",
       "      <td>2019-09-29</td>\n",
       "      <td>98.5</td>\n",
       "      <td>-1.9848</td>\n",
       "      <td>5.7508</td>\n",
       "      <td>Gerrit Cole</td>\n",
       "      <td>592230</td>\n",
       "      <td>543037</td>\n",
       "      <td>NaN</td>\n",
       "      <td>swinging_strike</td>\n",
       "      <td>...</td>\n",
       "      <td>1</td>\n",
       "      <td>8</td>\n",
       "      <td>8</td>\n",
       "      <td>1</td>\n",
       "      <td>1</td>\n",
       "      <td>8</td>\n",
       "      <td>Infield shift</td>\n",
       "      <td>Standard</td>\n",
       "      <td>whiff</td>\n",
       "      <td>1</td>\n",
       "    </tr>\n",
       "    <tr>\n",
       "      <th>...</th>\n",
       "      <td>...</td>\n",
       "      <td>...</td>\n",
       "      <td>...</td>\n",
       "      <td>...</td>\n",
       "      <td>...</td>\n",
       "      <td>...</td>\n",
       "      <td>...</td>\n",
       "      <td>...</td>\n",
       "      <td>...</td>\n",
       "      <td>...</td>\n",
       "      <td>...</td>\n",
       "      <td>...</td>\n",
       "      <td>...</td>\n",
       "      <td>...</td>\n",
       "      <td>...</td>\n",
       "      <td>...</td>\n",
       "      <td>...</td>\n",
       "      <td>...</td>\n",
       "      <td>...</td>\n",
       "      <td>...</td>\n",
       "      <td>...</td>\n",
       "    </tr>\n",
       "    <tr>\n",
       "      <th>3357</th>\n",
       "      <td>SL</td>\n",
       "      <td>2019-03-29</td>\n",
       "      <td>89.8</td>\n",
       "      <td>-2.3465</td>\n",
       "      <td>5.9531</td>\n",
       "      <td>Gerrit Cole</td>\n",
       "      <td>640457</td>\n",
       "      <td>543037</td>\n",
       "      <td>NaN</td>\n",
       "      <td>foul</td>\n",
       "      <td>...</td>\n",
       "      <td>0</td>\n",
       "      <td>0</td>\n",
       "      <td>0</td>\n",
       "      <td>0</td>\n",
       "      <td>0</td>\n",
       "      <td>0</td>\n",
       "      <td>Infield shift</td>\n",
       "      <td>Standard</td>\n",
       "      <td>foul</td>\n",
       "      <td>1</td>\n",
       "    </tr>\n",
       "    <tr>\n",
       "      <th>3358</th>\n",
       "      <td>FF</td>\n",
       "      <td>2019-03-29</td>\n",
       "      <td>96.3</td>\n",
       "      <td>-2.1579</td>\n",
       "      <td>5.8887</td>\n",
       "      <td>Gerrit Cole</td>\n",
       "      <td>640457</td>\n",
       "      <td>543037</td>\n",
       "      <td>NaN</td>\n",
       "      <td>foul</td>\n",
       "      <td>...</td>\n",
       "      <td>0</td>\n",
       "      <td>0</td>\n",
       "      <td>0</td>\n",
       "      <td>0</td>\n",
       "      <td>0</td>\n",
       "      <td>0</td>\n",
       "      <td>Infield shift</td>\n",
       "      <td>Standard</td>\n",
       "      <td>foul</td>\n",
       "      <td>1</td>\n",
       "    </tr>\n",
       "    <tr>\n",
       "      <th>3359</th>\n",
       "      <td>SL</td>\n",
       "      <td>2019-03-29</td>\n",
       "      <td>88.5</td>\n",
       "      <td>-2.3414</td>\n",
       "      <td>5.9628</td>\n",
       "      <td>Gerrit Cole</td>\n",
       "      <td>640457</td>\n",
       "      <td>543037</td>\n",
       "      <td>NaN</td>\n",
       "      <td>ball</td>\n",
       "      <td>...</td>\n",
       "      <td>0</td>\n",
       "      <td>0</td>\n",
       "      <td>0</td>\n",
       "      <td>0</td>\n",
       "      <td>0</td>\n",
       "      <td>0</td>\n",
       "      <td>Infield shift</td>\n",
       "      <td>Standard</td>\n",
       "      <td>take_ball</td>\n",
       "      <td>0</td>\n",
       "    </tr>\n",
       "    <tr>\n",
       "      <th>3360</th>\n",
       "      <td>FT</td>\n",
       "      <td>2019-03-29</td>\n",
       "      <td>96.7</td>\n",
       "      <td>-2.3392</td>\n",
       "      <td>5.7665</td>\n",
       "      <td>Gerrit Cole</td>\n",
       "      <td>640457</td>\n",
       "      <td>543037</td>\n",
       "      <td>NaN</td>\n",
       "      <td>ball</td>\n",
       "      <td>...</td>\n",
       "      <td>0</td>\n",
       "      <td>0</td>\n",
       "      <td>0</td>\n",
       "      <td>0</td>\n",
       "      <td>0</td>\n",
       "      <td>0</td>\n",
       "      <td>Infield shift</td>\n",
       "      <td>Standard</td>\n",
       "      <td>take_ball</td>\n",
       "      <td>0</td>\n",
       "    </tr>\n",
       "    <tr>\n",
       "      <th>3361</th>\n",
       "      <td>FF</td>\n",
       "      <td>2019-03-29</td>\n",
       "      <td>96.2</td>\n",
       "      <td>-2.2387</td>\n",
       "      <td>5.9256</td>\n",
       "      <td>Gerrit Cole</td>\n",
       "      <td>640457</td>\n",
       "      <td>543037</td>\n",
       "      <td>NaN</td>\n",
       "      <td>swinging_strike</td>\n",
       "      <td>...</td>\n",
       "      <td>0</td>\n",
       "      <td>0</td>\n",
       "      <td>0</td>\n",
       "      <td>0</td>\n",
       "      <td>0</td>\n",
       "      <td>0</td>\n",
       "      <td>Infield shift</td>\n",
       "      <td>Standard</td>\n",
       "      <td>whiff</td>\n",
       "      <td>1</td>\n",
       "    </tr>\n",
       "  </tbody>\n",
       "</table>\n",
       "<p>3362 rows × 91 columns</p>\n",
       "</div>"
      ],
      "text/plain": [
       "     pitch_type   game_date  release_speed  release_pos_x  release_pos_z  \\\n",
       "0            FF  2019-09-29           98.4        -1.9530         5.7396   \n",
       "1            FF  2019-09-29           99.0        -1.8961         5.7786   \n",
       "2            KC  2019-09-29           86.2        -1.9253         5.7561   \n",
       "3            FF  2019-09-29           99.4        -1.9853         5.7987   \n",
       "4            FF  2019-09-29           98.5        -1.9848         5.7508   \n",
       "...         ...         ...            ...            ...            ...   \n",
       "3357         SL  2019-03-29           89.8        -2.3465         5.9531   \n",
       "3358         FF  2019-03-29           96.3        -2.1579         5.8887   \n",
       "3359         SL  2019-03-29           88.5        -2.3414         5.9628   \n",
       "3360         FT  2019-03-29           96.7        -2.3392         5.7665   \n",
       "3361         FF  2019-03-29           96.2        -2.2387         5.9256   \n",
       "\n",
       "      player_name  batter  pitcher     events      description  ...  \\\n",
       "0     Gerrit Cole  592230   543037  strikeout  swinging_strike  ...   \n",
       "1     Gerrit Cole  592230   543037        NaN             ball  ...   \n",
       "2     Gerrit Cole  592230   543037        NaN             foul  ...   \n",
       "3     Gerrit Cole  592230   543037        NaN             foul  ...   \n",
       "4     Gerrit Cole  592230   543037        NaN  swinging_strike  ...   \n",
       "...           ...     ...      ...        ...              ...  ...   \n",
       "3357  Gerrit Cole  640457   543037        NaN             foul  ...   \n",
       "3358  Gerrit Cole  640457   543037        NaN             foul  ...   \n",
       "3359  Gerrit Cole  640457   543037        NaN             ball  ...   \n",
       "3360  Gerrit Cole  640457   543037        NaN             ball  ...   \n",
       "3361  Gerrit Cole  640457   543037        NaN  swinging_strike  ...   \n",
       "\n",
       "      bat_score  fld_score  post_away_score  post_home_score  post_bat_score  \\\n",
       "0             1          8                8                1               1   \n",
       "1             1          8                8                1               1   \n",
       "2             1          8                8                1               1   \n",
       "3             1          8                8                1               1   \n",
       "4             1          8                8                1               1   \n",
       "...         ...        ...              ...              ...             ...   \n",
       "3357          0          0                0                0               0   \n",
       "3358          0          0                0                0               0   \n",
       "3359          0          0                0                0               0   \n",
       "3360          0          0                0                0               0   \n",
       "3361          0          0                0                0               0   \n",
       "\n",
       "     post_fld_score if_fielding_alignment of_fielding_alignment    sw_type  \\\n",
       "0                 8         Infield shift              Standard      whiff   \n",
       "1                 8         Infield shift              Standard  take_ball   \n",
       "2                 8         Infield shift              Standard       foul   \n",
       "3                 8         Infield shift              Standard       foul   \n",
       "4                 8         Infield shift              Standard      whiff   \n",
       "...             ...                   ...                   ...        ...   \n",
       "3357              0         Infield shift              Standard       foul   \n",
       "3358              0         Infield shift              Standard       foul   \n",
       "3359              0         Infield shift              Standard  take_ball   \n",
       "3360              0         Infield shift              Standard  take_ball   \n",
       "3361              0         Infield shift              Standard      whiff   \n",
       "\n",
       "     sw_true  \n",
       "0          1  \n",
       "1          0  \n",
       "2          1  \n",
       "3          1  \n",
       "4          1  \n",
       "...      ...  \n",
       "3357       1  \n",
       "3358       1  \n",
       "3359       0  \n",
       "3360       0  \n",
       "3361       1  \n",
       "\n",
       "[3362 rows x 91 columns]"
      ]
     },
     "execution_count": 14,
     "metadata": {},
     "output_type": "execute_result"
    }
   ],
   "source": [
    "my_store['Gerrit Cole'][1]"
   ]
  },
  {
   "cell_type": "markdown",
   "metadata": {
    "ExecuteTime": {
     "end_time": "2020-01-05T17:36:45.789366Z",
     "start_time": "2020-01-05T17:36:45.786087Z"
    }
   },
   "source": [
    "# What are threads? What are processes and what is going on?"
   ]
  },
  {
   "cell_type": "code",
   "execution_count": null,
   "metadata": {},
   "outputs": [],
   "source": []
  },
  {
   "cell_type": "code",
   "execution_count": null,
   "metadata": {},
   "outputs": [],
   "source": []
  },
  {
   "cell_type": "code",
   "execution_count": null,
   "metadata": {},
   "outputs": [],
   "source": [
    "# "
   ]
  },
  {
   "cell_type": "code",
   "execution_count": null,
   "metadata": {},
   "outputs": [],
   "source": []
  }
 ],
 "metadata": {
  "kernelspec": {
   "display_name": "Python 3",
   "language": "python",
   "name": "python3"
  },
  "language_info": {
   "codemirror_mode": {
    "name": "ipython",
    "version": 3
   },
   "file_extension": ".py",
   "mimetype": "text/x-python",
   "name": "python",
   "nbconvert_exporter": "python",
   "pygments_lexer": "ipython3",
   "version": "3.6.9"
  },
  "toc": {
   "base_numbering": 1,
   "nav_menu": {},
   "number_sections": true,
   "sideBar": true,
   "skip_h1_title": false,
   "title_cell": "Table of Contents",
   "title_sidebar": "Contents",
   "toc_cell": false,
   "toc_position": {
    "height": "calc(100% - 180px)",
    "left": "10px",
    "top": "150px",
    "width": "249.390625px"
   },
   "toc_section_display": "block",
   "toc_window_display": true
  },
  "varInspector": {
   "cols": {
    "lenName": 16,
    "lenType": 16,
    "lenVar": 40
   },
   "kernels_config": {
    "python": {
     "delete_cmd_postfix": "",
     "delete_cmd_prefix": "del ",
     "library": "var_list.py",
     "varRefreshCmd": "print(var_dic_list())"
    },
    "r": {
     "delete_cmd_postfix": ") ",
     "delete_cmd_prefix": "rm(",
     "library": "var_list.r",
     "varRefreshCmd": "cat(var_dic_list()) "
    }
   },
   "types_to_exclude": [
    "module",
    "function",
    "builtin_function_or_method",
    "instance",
    "_Feature"
   ],
   "window_display": false
  }
 },
 "nbformat": 4,
 "nbformat_minor": 2
}
