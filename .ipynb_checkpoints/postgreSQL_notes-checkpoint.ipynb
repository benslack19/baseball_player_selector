{
 "cells": [
  {
   "cell_type": "markdown",
   "metadata": {},
   "source": [
    "**Notes for querying postgreSQL in the terminal**"
   ]
  },
  {
   "cell_type": "markdown",
   "metadata": {},
   "source": [
    "Enter the database:\n",
    "<br>\n",
    "`psql baseball -h localhost -U lacar`\n",
    "\n",
    "pw: "
   ]
  },
  {
   "cell_type": "markdown",
   "metadata": {
    "ExecuteTime": {
     "end_time": "2020-01-19T14:56:58.642185Z",
     "start_time": "2020-01-19T14:56:58.635666Z"
    }
   },
   "source": [
    "Find the tables of the database:\n",
    "<br>\n",
    "`\\dt`"
   ]
  },
  {
   "cell_type": "markdown",
   "metadata": {},
   "source": [
    "Get all columns of a table\n",
    "<br>\n",
    "`\\d+ my_table`"
   ]
  },
  {
   "cell_type": "markdown",
   "metadata": {},
   "source": [
    "Selecting based on column value (note single quote marks)\n",
    "<br>\n",
    "`SELECT * FROM player_id\n",
    "WHERE name_last='machado';`"
   ]
  },
  {
   "cell_type": "markdown",
   "metadata": {
    "ExecuteTime": {
     "end_time": "2020-01-19T15:26:14.287120Z",
     "start_time": "2020-01-19T15:26:14.269633Z"
    }
   },
   "source": [
    "Selecting based on two column values\n",
    "<br>\n",
    "`SELECT * FROM player_id\n",
    "WHERE name_last='machado'\n",
    "AND name_first='manny';`"
   ]
  },
  {
   "cell_type": "markdown",
   "metadata": {
    "ExecuteTime": {
     "end_time": "2020-01-19T15:56:47.957725Z",
     "start_time": "2020-01-19T15:56:47.947991Z"
    }
   },
   "source": [
    "Count the number of games that Machado has played 3B in 2019\n",
    "<br>\n",
    "Machado's MLB key: 592518\n",
    "\n",
    "Tried several things\n",
    "\n",
    "Gives all pitches:\n",
    "`SELECT COUNT(\"game_date\") FROM statcast\n",
    "WHERE \"fielder_5\"=592518 AND \"game_date\"\n",
    "BETWEEN '2019-01-01' AND '2019-12-31' LIMIT 5;`\n",
    "\n",
    "To get unique game dates:\n",
    "`SELECT DISTINCT \"game_date\" FROM statcast WHERE \"fielder_5\"=592518 AND \"game_date\" BETWEEN '2019-01-01' AND '2019-12-31' LIMIT 5;`\n",
    "\n",
    "To get number of unique game dates (need the table AS):\n",
    "<br>\n",
    "`SELECT COUNT(*) FROM (SELECT DISTINCT \"game_date\" FROM statcast WHERE \"fielder_5\"=592518 AND \"game_date\" BETWEEN '2019-01-01' AND '2019-12-31' LIMIT 5) AS machado_3b_games;`\n",
    "\n",
    "... and without limit\n",
    "<br>\n",
    "`SELECT COUNT(*) FROM (SELECT DISTINCT \"game_date\" FROM statcast WHERE \"fielder_5\"=592518 AND \"game_date\" BETWEEN '2019-01-01' AND '2019-12-31') AS machado_3b_games;`\n",
    " \n",
    " `count \n",
    "   119\n",
    "(1 row)`\n",
    "\n",
    "Games at SS:\n",
    "<br>\n",
    "`SELECT COUNT(*) FROM (SELECT DISTINCT \"game_date\" FROM statcast WHERE \"fielder_6\"=592518 AND \"game_date\" BETWEEN '2019-01-01' AND '2019-12-31') AS machado_3b_games;`\n",
    "<br>\n",
    "`count \n",
    "    37\n",
    "(1 row)`\n",
    "\n",
    "\n"
   ]
  },
  {
   "cell_type": "markdown",
   "metadata": {},
   "source": [
    "Try advanced query"
   ]
  },
  {
   "cell_type": "markdown",
   "metadata": {
    "ExecuteTime": {
     "end_time": "2020-01-25T23:53:39.852566Z",
     "start_time": "2020-01-25T23:53:39.849377Z"
    }
   },
   "source": [
    "# Example of how to format a long query"
   ]
  },
  {
   "cell_type": "code",
   "execution_count": null,
   "metadata": {},
   "outputs": [],
   "source": [
    "def return_df_metric_rate_batter(metric, batter_id):\n",
    "\n",
    "    sql_query = \"\"\"\n",
    "    SELECT \"game_date\", \"batter\", \"events\" FROM statcast\n",
    "    WHERE \"batter\"= \n",
    "    \"\"\" + str(batter_id) + \"\"\"\n",
    "    AND \"game_date\" BETWEEN '2019-03-28' AND '2019-04-30'\n",
    "    AND \"events\" IS NOT NULL\n",
    "    \"\"\"\n",
    "\n",
    "    df_events = pd.read_sql_query(sql_query,con)\n",
    "    \n",
    "    df_summary = df_events.groupby('events').count()['game_date'] / df_events.count()[0]\n",
    "    return df_summary[metric]"
   ]
  },
  {
   "cell_type": "code",
   "execution_count": null,
   "metadata": {},
   "outputs": [],
   "source": []
  },
  {
   "cell_type": "code",
   "execution_count": null,
   "metadata": {},
   "outputs": [],
   "source": []
  },
  {
   "cell_type": "markdown",
   "metadata": {
    "ExecuteTime": {
     "end_time": "2020-02-12T17:08:06.102762Z",
     "start_time": "2020-02-12T17:08:06.099915Z"
    }
   },
   "source": [
    "# For practice"
   ]
  },
  {
   "cell_type": "code",
   "execution_count": 6,
   "metadata": {
    "ExecuteTime": {
     "end_time": "2020-02-12T17:14:04.253280Z",
     "start_time": "2020-02-12T17:14:04.247621Z"
    }
   },
   "outputs": [],
   "source": [
    "import pandas as pd\n",
    "\n",
    "import sqlalchemy\n",
    "import sqlalchemy_utils\n",
    "from sqlalchemy import create_engine\n",
    "from sqlalchemy_utils import database_exists, create_database\n",
    "import psycopg2"
   ]
  },
  {
   "cell_type": "code",
   "execution_count": 7,
   "metadata": {
    "ExecuteTime": {
     "end_time": "2020-02-12T17:14:05.457210Z",
     "start_time": "2020-02-12T17:14:05.453020Z"
    }
   },
   "outputs": [],
   "source": [
    "# Define a database name\n",
    "# Set your postgres username\n",
    "dbname = \"baseball\"\n",
    "username = \"lacar\"  # change this to your username"
   ]
  },
  {
   "cell_type": "code",
   "execution_count": 9,
   "metadata": {
    "ExecuteTime": {
     "end_time": "2020-02-12T17:14:06.712371Z",
     "start_time": "2020-02-12T17:14:06.645207Z"
    }
   },
   "outputs": [],
   "source": [
    "# Working with PostgreSQL in Python\n",
    "# Connect to make queries using psycopg2\n",
    "con = None\n",
    "con = psycopg2.connect(database=dbname, user=username)"
   ]
  },
  {
   "cell_type": "code",
   "execution_count": 10,
   "metadata": {
    "ExecuteTime": {
     "end_time": "2020-02-12T17:14:10.147047Z",
     "start_time": "2020-02-12T17:14:08.840852Z"
    }
   },
   "outputs": [
    {
     "name": "stdout",
     "output_type": "stream",
     "text": [
      "   game_date    batter                     events home_team\n",
      "0 2019-04-24  570267.0  grounded_into_double_play        SD\n",
      "1 2019-04-24  596129.0                     single        SD\n",
      "2 2019-04-24  571745.0                  field_out        SD\n",
      "3 2019-04-24  571976.0                  strikeout        SD\n",
      "4 2019-04-24  665487.0                  force_out        SD\n",
      "5 2019-04-24  594824.0                     single        SD\n",
      "6 2019-04-24  642336.0                  field_out        SD\n",
      "7 2019-04-24  429665.0                  strikeout        SD\n",
      "8 2019-04-24  605480.0                  field_out        SD\n",
      "9 2019-04-24  592387.0                  field_out        SD\n"
     ]
    }
   ],
   "source": [
    "## Get Padres stats for 2019\n",
    "\n",
    "\n",
    "sql_query = \"\"\"\n",
    "SELECT \"game_date\", \"batter\", \"events\", \"home_team\" FROM statcast\n",
    "WHERE \"game_date\" BETWEEN '2019-03-28' AND '2019-04-30'\n",
    "AND \"events\" IS NOT NULL\n",
    "AND \"home_team\"='SD'\n",
    "LIMIT 10\n",
    "\"\"\"\n",
    "\n",
    "df_query = pd.read_sql_query(sql_query,con)\n",
    "    \n",
    "print(df_query)\n",
    "\n"
   ]
  },
  {
   "cell_type": "code",
   "execution_count": null,
   "metadata": {},
   "outputs": [],
   "source": []
  },
  {
   "cell_type": "code",
   "execution_count": null,
   "metadata": {},
   "outputs": [],
   "source": []
  },
  {
   "cell_type": "code",
   "execution_count": null,
   "metadata": {},
   "outputs": [],
   "source": [
    "\n",
    "\n",
    "sql_query = \"\"\"\n",
    "SELECT \"game_date\", \"batter\", \"events\" FROM statcast\n",
    "WHERE \"batter\"= \n",
    "\"\"\" + str(batter_id) + \"\"\"\n",
    "AND \"game_date\" BETWEEN '2019-03-28' AND '2019-04-30'\n",
    "AND \"events\" IS NOT NULL\n",
    "\"\"\"\n",
    "\n",
    "df_query = pd.read_sql_query(sql_query,con)\n",
    "    \n",
    "print(df_query)\n",
    "\n"
   ]
  },
  {
   "cell_type": "code",
   "execution_count": null,
   "metadata": {},
   "outputs": [],
   "source": [
    "\n",
    "\n",
    "sql_query = \"\"\"\n",
    "SELECT \"game_date\", \"batter\", \"events\" FROM statcast\n",
    "WHERE \"batter\"= \n",
    "\"\"\" + str(batter_id) + \"\"\"\n",
    "AND \"game_date\" BETWEEN '2019-03-28' AND '2019-04-30'\n",
    "AND \"events\" IS NOT NULL\n",
    "\"\"\"\n",
    "\n",
    "df_query = pd.read_sql_query(sql_query,con)\n",
    "    \n",
    "print(df_query)\n"
   ]
  },
  {
   "cell_type": "code",
   "execution_count": null,
   "metadata": {},
   "outputs": [],
   "source": []
  },
  {
   "cell_type": "code",
   "execution_count": null,
   "metadata": {},
   "outputs": [],
   "source": []
  },
  {
   "cell_type": "code",
   "execution_count": null,
   "metadata": {},
   "outputs": [],
   "source": []
  },
  {
   "cell_type": "code",
   "execution_count": null,
   "metadata": {},
   "outputs": [],
   "source": []
  }
 ],
 "metadata": {
  "kernelspec": {
   "display_name": "Python 3",
   "language": "python",
   "name": "python3"
  },
  "language_info": {
   "codemirror_mode": {
    "name": "ipython",
    "version": 3
   },
   "file_extension": ".py",
   "mimetype": "text/x-python",
   "name": "python",
   "nbconvert_exporter": "python",
   "pygments_lexer": "ipython3",
   "version": "3.6.9"
  },
  "toc": {
   "base_numbering": 1,
   "nav_menu": {},
   "number_sections": true,
   "sideBar": true,
   "skip_h1_title": false,
   "title_cell": "Table of Contents",
   "title_sidebar": "Contents",
   "toc_cell": false,
   "toc_position": {},
   "toc_section_display": true,
   "toc_window_display": false
  },
  "varInspector": {
   "cols": {
    "lenName": 16,
    "lenType": 16,
    "lenVar": 40
   },
   "kernels_config": {
    "python": {
     "delete_cmd_postfix": "",
     "delete_cmd_prefix": "del ",
     "library": "var_list.py",
     "varRefreshCmd": "print(var_dic_list())"
    },
    "r": {
     "delete_cmd_postfix": ") ",
     "delete_cmd_prefix": "rm(",
     "library": "var_list.r",
     "varRefreshCmd": "cat(var_dic_list()) "
    }
   },
   "types_to_exclude": [
    "module",
    "function",
    "builtin_function_or_method",
    "instance",
    "_Feature"
   ],
   "window_display": false
  }
 },
 "nbformat": 4,
 "nbformat_minor": 2
}
