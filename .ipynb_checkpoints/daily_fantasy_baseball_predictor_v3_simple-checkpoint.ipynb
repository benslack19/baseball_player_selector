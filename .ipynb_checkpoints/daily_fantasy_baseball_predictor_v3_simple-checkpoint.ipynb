{
 "cells": [
  {
   "cell_type": "markdown",
   "metadata": {},
   "source": [
    "**How to identify position players on a given date?**\n",
    "\n",
    "**Problem:**\n",
    "<br>\n",
    "In daily fantasy baseball, a participant sets up their team against another player of their league. Some position players are stars and should play nearly all the time, but often a position is shared between other players on your roster. How do you choose which platooning player to start (especially if there is a limited sample size for the batter facing that pitcher)?\n",
    "\n",
    "**Strategy:**\n",
    "<br>\n",
    "- Focus on features of the batter (e.g. historical batting average) and pitcher (e.g. historical ERA, WHIP) to predict whether the batter would output a hit (or HR, single, double, etc.) in a given batter-pitcher at-bat matchup.\n",
    "\n",
    "- If you choose a given date (e.g. May 9), you know the starting pitcher a batter would face. Use data to build a model taht predicts how well a batter would do against the pitcher as a guide for a decision. (Lower priority: If the matchup for a particular batter-pitcher is small, find similar players to serve as a guide. Similar players can be found by using Erdos score.)\n",
    "\n",
    "- How do I know if my strategy is improved over other models? Look at which player one would choose from a simple player ranking.\n",
    "\n",
    "- Validation: Historical data\n",
    "\n",
    "This notebook was created within my \"insight\" virtual environment."
   ]
  },
  {
   "cell_type": "markdown",
   "metadata": {},
   "source": [
    "**Inputs and outputs**\n",
    "\n",
    "*Version 1:*\n",
    "- Input: Two players under consideration for one position and a date of interest (2019 season for historical validation).\n",
    "- Output: Player recommendation for that position with a predicted score.\n",
    "\n",
    "*Version 2:*\n",
    "- Input: A participant's player roster (e.g. 20 players)\n",
    "- Output: A recommended lineup."
   ]
  },
  {
   "cell_type": "markdown",
   "metadata": {},
   "source": [
    "Order of features of product to incorporate: (still to be determined)\n",
    "\n",
    "0.  Try a simple model where each at-bat batter-pitcher matchup is simply its own row and selected features are done. (DONE)\n",
    "1.\tRoster’s “basic” baseball statistics from 2018 season? Or 50 games (including previous season) - (minimum viable product level) (DONE)\n",
    "2.\tSpecific matchup against that pitcher - “basic” baseball statistics\n",
    "3.\tRoster’s statcast statistics from last 50 games (including previous season) (DONE)\n",
    "4.\tLimit to more recent performance (last 100 at-bats games - dataframe for model does 200 rows)\n",
    "5.\tWeather, park effects, team defense, night/day, lineup order\n",
    "6. Use batted ball characteristics as a feature of player and pitcher (launch angle average, launch speed average)\n",
    "7.\tUse of player similarity (lower priority)\n",
    "\n",
    "Similar idea\n",
    "https://community.fangraphs.com/the-outcome-machine-predicting-at-bats-before-they-happen/\n",
    "\n",
    "\n",
    "EDA, do HR over time and by date for each player\n"
   ]
  },
  {
   "cell_type": "markdown",
   "metadata": {},
   "source": [
    "**Product pitch**\n",
    "\n",
    "I'm creating a fantasy baseball application that suggests players on a given day. Fantasy baseball has over 11 million participants with the winners of leagues collecting entry fees and host platforms receiving a commission. The projected market for fantasy baseball in 2020 is over 8 billion dollars. A participant's success depends in part on daily player selection. For player selection, participants must rely on their own research or use a site's recommendation, which uses black-box algorithms behind pay walls. I'm developing an alternative algorithm to assist in player selection to save participants time and expose the important features in player performance prediction."
   ]
  },
  {
   "cell_type": "markdown",
   "metadata": {},
   "source": [
    "# Ideas\n",
    "\n",
    "- Will hit happen based on pitch count\n",
    "- Use last 100 at-bats from the date of interest.\n",
    "- Use Bayesian?\n",
    "- EDA  - plot someone's hits over game-dates as a time series\n",
    "- Look at the player's last 100 hits \n",
    "\n",
    "Other:\n",
    "- Use all info for at-bat and then do backwards selection.\n",
    "\n",
    "**Motivation: Learning analytics requries some skills I can develop here**"
   ]
  },
  {
   "cell_type": "markdown",
   "metadata": {},
   "source": [
    "# Setup"
   ]
  },
  {
   "cell_type": "code",
   "execution_count": 1,
   "metadata": {
    "ExecuteTime": {
     "end_time": "2020-01-30T04:11:53.962117Z",
     "start_time": "2020-01-30T04:11:47.997021Z"
    }
   },
   "outputs": [],
   "source": [
    "import os\n",
    "import numpy as np\n",
    "import pandas as pd\n",
    "import matplotlib\n",
    "import matplotlib.pyplot as plt\n",
    "import seaborn as sns\n",
    "import sklearn\n",
    "\n",
    "from termcolor import colored\n",
    "\n",
    "# Web/database stuff\n",
    "import urllib.request\n",
    "import xml.etree.ElementTree as ET\n",
    "from bs4 import BeautifulSoup\n",
    "\n",
    "# Multiprocessing/threading\n",
    "import multiprocess\n",
    "import threading\n",
    "from threading import Thread"
   ]
  },
  {
   "cell_type": "code",
   "execution_count": 2,
   "metadata": {
    "ExecuteTime": {
     "end_time": "2020-01-30T04:11:55.816775Z",
     "start_time": "2020-01-30T04:11:53.981084Z"
    }
   },
   "outputs": [],
   "source": [
    "# Web/database stuff\n",
    "# import urllib.request\n",
    "# import xml.etree.ElementTree as ET\n",
    "# from bs4 import BeautifulSoup\n",
    "import sqlalchemy\n",
    "import sqlalchemy_utils\n",
    "from sqlalchemy import create_engine\n",
    "from sqlalchemy_utils import database_exists, create_database\n",
    "import psycopg2\n",
    "\n",
    "# Multiprocessing/threading\n",
    "import multiprocess\n",
    "import threading   # included in base"
   ]
  },
  {
   "cell_type": "code",
   "execution_count": 3,
   "metadata": {
    "ExecuteTime": {
     "end_time": "2020-01-30T04:11:55.841721Z",
     "start_time": "2020-01-30T04:11:55.835657Z"
    }
   },
   "outputs": [],
   "source": [
    "# Stats\n",
    "from scipy.stats import mannwhitneyu\n",
    "from scipy.stats import ttest_ind"
   ]
  },
  {
   "cell_type": "code",
   "execution_count": 4,
   "metadata": {
    "ExecuteTime": {
     "end_time": "2020-01-30T04:11:56.144995Z",
     "start_time": "2020-01-30T04:11:55.863913Z"
    }
   },
   "outputs": [],
   "source": [
    "# ML\n",
    "from sklearn.linear_model import LogisticRegression\n",
    "from sklearn.preprocessing import StandardScaler\n",
    "from sklearn.model_selection import train_test_split\n",
    "from sklearn import metrics\n",
    "from sklearn.metrics import accuracy_score\n",
    "from sklearn.metrics import classification_report"
   ]
  },
  {
   "cell_type": "code",
   "execution_count": 5,
   "metadata": {
    "ExecuteTime": {
     "end_time": "2020-01-30T04:11:56.175094Z",
     "start_time": "2020-01-30T04:11:56.164897Z"
    }
   },
   "outputs": [
    {
     "name": "stdout",
     "output_type": "stream",
     "text": [
      "numpy:  1.17.4\n",
      "pandas:  0.25.3\n",
      "matplotlib:  3.1.1\n",
      "seaborn:  0.9.0\n",
      "sklearn:  0.22\n",
      "psycopg2:  2.8.4 (dt dec pq3 ext lo64)\n",
      "sqlalchemy:  1.3.11\n",
      "sqlalchemy_utils:  0.36.1\n",
      "multiprocess:  0.70.9\n"
     ]
    }
   ],
   "source": [
    "# Check versioning\n",
    "print('numpy: ', np.__version__)\n",
    "print('pandas: ', pd.__version__)\n",
    "print('matplotlib: ', matplotlib.__version__)\n",
    "print('seaborn: ', sns.__version__)\n",
    "print('sklearn: ', sklearn.__version__)\n",
    "\n",
    "print('psycopg2: ', psycopg2.__version__)\n",
    "print('sqlalchemy: ', sqlalchemy.__version__)\n",
    "print('sqlalchemy_utils: ', sqlalchemy_utils.__version__)\n",
    "print('multiprocess: ', multiprocess.__version__)"
   ]
  },
  {
   "cell_type": "code",
   "execution_count": 6,
   "metadata": {
    "ExecuteTime": {
     "end_time": "2020-01-30T04:11:57.911870Z",
     "start_time": "2020-01-30T04:11:57.508438Z"
    }
   },
   "outputs": [
    {
     "data": {
      "application/javascript": [
       "\n",
       "            setTimeout(function() {\n",
       "                var nbb_cell_id = 6;\n",
       "                var nbb_unformatted_code = \"# Code formatting with Jupyter black\\n%load_ext nb_black\";\n",
       "                var nbb_formatted_code = \"# Code formatting with Jupyter black\\n%load_ext nb_black\";\n",
       "                var nbb_cells = Jupyter.notebook.get_cells();\n",
       "                for (var i = 0; i < nbb_cells.length; ++i) {\n",
       "                    if (nbb_cells[i].input_prompt_number == nbb_cell_id) {\n",
       "                        if (nbb_cells[i].get_text() == nbb_unformatted_code) {\n",
       "                             nbb_cells[i].set_text(nbb_formatted_code);\n",
       "                        }\n",
       "                        break;\n",
       "                    }\n",
       "                }\n",
       "            }, 500);\n",
       "            "
      ],
      "text/plain": [
       "<IPython.core.display.Javascript object>"
      ]
     },
     "metadata": {},
     "output_type": "display_data"
    }
   ],
   "source": [
    "# Code formatting with Jupyter black\n",
    "%load_ext nb_black"
   ]
  },
  {
   "cell_type": "code",
   "execution_count": 7,
   "metadata": {
    "ExecuteTime": {
     "end_time": "2020-01-30T04:11:58.769134Z",
     "start_time": "2020-01-30T04:11:58.515325Z"
    }
   },
   "outputs": [
    {
     "data": {
      "application/javascript": [
       "\n",
       "            setTimeout(function() {\n",
       "                var nbb_cell_id = 7;\n",
       "                var nbb_unformatted_code = \"from pybaseball import pitching_stats\\nfrom pybaseball import batting_stats\\nfrom pybaseball import statcast_pitcher\\nfrom pybaseball import playerid_lookup\\nfrom pybaseball import statcast\\nfrom pybaseball import playerid_reverse_lookup\";\n",
       "                var nbb_formatted_code = \"from pybaseball import pitching_stats\\nfrom pybaseball import batting_stats\\nfrom pybaseball import statcast_pitcher\\nfrom pybaseball import playerid_lookup\\nfrom pybaseball import statcast\\nfrom pybaseball import playerid_reverse_lookup\";\n",
       "                var nbb_cells = Jupyter.notebook.get_cells();\n",
       "                for (var i = 0; i < nbb_cells.length; ++i) {\n",
       "                    if (nbb_cells[i].input_prompt_number == nbb_cell_id) {\n",
       "                        if (nbb_cells[i].get_text() == nbb_unformatted_code) {\n",
       "                             nbb_cells[i].set_text(nbb_formatted_code);\n",
       "                        }\n",
       "                        break;\n",
       "                    }\n",
       "                }\n",
       "            }, 500);\n",
       "            "
      ],
      "text/plain": [
       "<IPython.core.display.Javascript object>"
      ]
     },
     "metadata": {},
     "output_type": "display_data"
    }
   ],
   "source": [
    "from pybaseball import pitching_stats\n",
    "from pybaseball import batting_stats\n",
    "from pybaseball import statcast_pitcher\n",
    "from pybaseball import playerid_lookup\n",
    "from pybaseball import statcast\n",
    "from pybaseball import playerid_reverse_lookup"
   ]
  },
  {
   "cell_type": "markdown",
   "metadata": {
    "ExecuteTime": {
     "end_time": "2020-01-25T23:36:27.350958Z",
     "start_time": "2020-01-25T23:36:27.343990Z"
    }
   },
   "source": [
    "# Database info"
   ]
  },
  {
   "cell_type": "code",
   "execution_count": 8,
   "metadata": {
    "ExecuteTime": {
     "end_time": "2020-01-30T04:12:00.932037Z",
     "start_time": "2020-01-30T04:12:00.921376Z"
    }
   },
   "outputs": [
    {
     "data": {
      "application/javascript": [
       "\n",
       "            setTimeout(function() {\n",
       "                var nbb_cell_id = 8;\n",
       "                var nbb_unformatted_code = \"# Define a database name\\n# Set your postgres username\\ndbname = \\\"baseball\\\"\\nusername = \\\"lacar\\\"  # change this to your username\";\n",
       "                var nbb_formatted_code = \"# Define a database name\\n# Set your postgres username\\ndbname = \\\"baseball\\\"\\nusername = \\\"lacar\\\"  # change this to your username\";\n",
       "                var nbb_cells = Jupyter.notebook.get_cells();\n",
       "                for (var i = 0; i < nbb_cells.length; ++i) {\n",
       "                    if (nbb_cells[i].input_prompt_number == nbb_cell_id) {\n",
       "                        if (nbb_cells[i].get_text() == nbb_unformatted_code) {\n",
       "                             nbb_cells[i].set_text(nbb_formatted_code);\n",
       "                        }\n",
       "                        break;\n",
       "                    }\n",
       "                }\n",
       "            }, 500);\n",
       "            "
      ],
      "text/plain": [
       "<IPython.core.display.Javascript object>"
      ]
     },
     "metadata": {},
     "output_type": "display_data"
    }
   ],
   "source": [
    "# Define a database name\n",
    "# Set your postgres username\n",
    "dbname = \"baseball\"\n",
    "username = \"lacar\"  # change this to your username"
   ]
  },
  {
   "cell_type": "code",
   "execution_count": 9,
   "metadata": {
    "ExecuteTime": {
     "end_time": "2020-01-30T04:12:02.811901Z",
     "start_time": "2020-01-30T04:12:02.797749Z"
    }
   },
   "outputs": [
    {
     "name": "stdout",
     "output_type": "stream",
     "text": [
      "postgres://lacar@localhost/baseball\n"
     ]
    },
    {
     "data": {
      "application/javascript": [
       "\n",
       "            setTimeout(function() {\n",
       "                var nbb_cell_id = 9;\n",
       "                var nbb_unformatted_code = \"## 'engine' is a connection to a database\\n## Here, we're using postgres, but sqlalchemy can connect to other things too.\\nengine = create_engine(\\\"postgres://%s@localhost/%s\\\" % (username, dbname))\\nprint(engine.url)\";\n",
       "                var nbb_formatted_code = \"## 'engine' is a connection to a database\\n## Here, we're using postgres, but sqlalchemy can connect to other things too.\\nengine = create_engine(\\\"postgres://%s@localhost/%s\\\" % (username, dbname))\\nprint(engine.url)\";\n",
       "                var nbb_cells = Jupyter.notebook.get_cells();\n",
       "                for (var i = 0; i < nbb_cells.length; ++i) {\n",
       "                    if (nbb_cells[i].input_prompt_number == nbb_cell_id) {\n",
       "                        if (nbb_cells[i].get_text() == nbb_unformatted_code) {\n",
       "                             nbb_cells[i].set_text(nbb_formatted_code);\n",
       "                        }\n",
       "                        break;\n",
       "                    }\n",
       "                }\n",
       "            }, 500);\n",
       "            "
      ],
      "text/plain": [
       "<IPython.core.display.Javascript object>"
      ]
     },
     "metadata": {},
     "output_type": "display_data"
    }
   ],
   "source": [
    "## 'engine' is a connection to a database\n",
    "## Here, we're using postgres, but sqlalchemy can connect to other things too.\n",
    "engine = create_engine(\"postgres://%s@localhost/%s\" % (username, dbname))\n",
    "print(engine.url)"
   ]
  },
  {
   "cell_type": "markdown",
   "metadata": {
    "ExecuteTime": {
     "end_time": "2020-01-25T23:37:21.428885Z",
     "start_time": "2020-01-25T23:37:21.423228Z"
    }
   },
   "source": [
    "**Statcast data to database**\n",
    "<br>\n",
    "(done already, see previous versions of notebooks)"
   ]
  },
  {
   "cell_type": "markdown",
   "metadata": {},
   "source": [
    "## Use this notebook to add data while working in other notebook"
   ]
  },
  {
   "cell_type": "code",
   "execution_count": null,
   "metadata": {},
   "outputs": [],
   "source": []
  },
  {
   "cell_type": "code",
   "execution_count": 640,
   "metadata": {
    "ExecuteTime": {
     "end_time": "2020-02-01T17:19:24.897727Z",
     "start_time": "2020-02-01T17:10:43.182818Z"
    }
   },
   "outputs": [
    {
     "name": "stdout",
     "output_type": "stream",
     "text": [
      "This is a large query, it may take a moment to complete\n",
      "Completed sub-query from 2016-04-03 to 2016-04-08\n",
      "Completed sub-query from 2016-04-09 to 2016-04-14\n",
      "Completed sub-query from 2016-04-15 to 2016-04-20\n",
      "Completed sub-query from 2016-04-21 to 2016-04-26\n",
      "Completed sub-query from 2016-04-27 to 2016-05-02\n",
      "Completed sub-query from 2016-05-03 to 2016-05-08\n",
      "Completed sub-query from 2016-05-09 to 2016-05-14\n",
      "Completed sub-query from 2016-05-15 to 2016-05-20\n",
      "Completed sub-query from 2016-05-21 to 2016-05-26\n",
      "Completed sub-query from 2016-05-27 to 2016-06-01\n",
      "Completed sub-query from 2016-06-02 to 2016-06-07\n",
      "Completed sub-query from 2016-06-08 to 2016-06-13\n",
      "Completed sub-query from 2016-06-14 to 2016-06-19\n",
      "Completed sub-query from 2016-06-20 to 2016-06-25\n",
      "Completed sub-query from 2016-06-26 to 2016-07-01\n",
      "Completed sub-query from 2016-07-02 to 2016-07-07\n",
      "Completed sub-query from 2016-07-08 to 2016-07-13\n",
      "Completed sub-query from 2016-07-14 to 2016-07-19\n",
      "Completed sub-query from 2016-07-20 to 2016-07-25\n",
      "Completed sub-query from 2016-07-26 to 2016-07-31\n",
      "Completed sub-query from 2016-08-01 to 2016-08-06\n",
      "Completed sub-query from 2016-08-07 to 2016-08-12\n",
      "Completed sub-query from 2016-08-13 to 2016-08-18\n",
      "Completed sub-query from 2016-08-19 to 2016-08-24\n",
      "Completed sub-query from 2016-08-25 to 2016-08-30\n",
      "Completed sub-query from 2016-08-31 to 2016-09-05\n",
      "Completed sub-query from 2016-09-06 to 2016-09-11\n",
      "Completed sub-query from 2016-09-12 to 2016-09-17\n",
      "Completed sub-query from 2016-09-18 to 2016-09-23\n",
      "Completed sub-query from 2016-09-24 to 2016-09-29\n",
      "Completed sub-query from 2016-09-30 to 2016-09-30\n"
     ]
    },
    {
     "data": {
      "application/javascript": [
       "\n",
       "            setTimeout(function() {\n",
       "                var nbb_cell_id = 640;\n",
       "                var nbb_unformatted_code = \"# 2016 regular season\\ndf_statcast_16 = statcast(\\\"2016-04-03\\\", \\\"2016-09-30\\\")\\n\\n# Send to database\\n# df_statcast_16.to_sql(\\\"statcast_16\\\", engine)\";\n",
       "                var nbb_formatted_code = \"# 2016 regular season\\ndf_statcast_16 = statcast(\\\"2016-04-03\\\", \\\"2016-09-30\\\")\\n\\n# Send to database\\n# df_statcast_16.to_sql(\\\"statcast_16\\\", engine)\";\n",
       "                var nbb_cells = Jupyter.notebook.get_cells();\n",
       "                for (var i = 0; i < nbb_cells.length; ++i) {\n",
       "                    if (nbb_cells[i].input_prompt_number == nbb_cell_id) {\n",
       "                        if (nbb_cells[i].get_text() == nbb_unformatted_code) {\n",
       "                             nbb_cells[i].set_text(nbb_formatted_code);\n",
       "                        }\n",
       "                        break;\n",
       "                    }\n",
       "                }\n",
       "            }, 500);\n",
       "            "
      ],
      "text/plain": [
       "<IPython.core.display.Javascript object>"
      ]
     },
     "metadata": {},
     "output_type": "display_data"
    }
   ],
   "source": [
    "# 2016 regular season\n",
    "df_statcast_16 = statcast(\"2016-04-03\", \"2016-09-30\")\n",
    "\n"
   ]
  },
  {
   "cell_type": "code",
   "execution_count": 641,
   "metadata": {
    "ExecuteTime": {
     "end_time": "2020-02-01T18:33:18.160087Z",
     "start_time": "2020-02-01T18:11:46.252935Z"
    }
   },
   "outputs": [
    {
     "data": {
      "application/javascript": [
       "\n",
       "            setTimeout(function() {\n",
       "                var nbb_cell_id = 641;\n",
       "                var nbb_unformatted_code = \"# Send to database\\ndf_statcast_16.to_sql(\\\"statcast_16\\\", engine)\";\n",
       "                var nbb_formatted_code = \"# Send to database\\ndf_statcast_16.to_sql(\\\"statcast_16\\\", engine)\";\n",
       "                var nbb_cells = Jupyter.notebook.get_cells();\n",
       "                for (var i = 0; i < nbb_cells.length; ++i) {\n",
       "                    if (nbb_cells[i].input_prompt_number == nbb_cell_id) {\n",
       "                        if (nbb_cells[i].get_text() == nbb_unformatted_code) {\n",
       "                             nbb_cells[i].set_text(nbb_formatted_code);\n",
       "                        }\n",
       "                        break;\n",
       "                    }\n",
       "                }\n",
       "            }, 500);\n",
       "            "
      ],
      "text/plain": [
       "<IPython.core.display.Javascript object>"
      ]
     },
     "metadata": {},
     "output_type": "display_data"
    }
   ],
   "source": [
    "# Send to database\n",
    "# df_statcast_16.to_sql(\"statcast_16\", engine)"
   ]
  },
  {
   "cell_type": "code",
   "execution_count": 10,
   "metadata": {
    "ExecuteTime": {
     "end_time": "2020-01-30T04:12:05.318684Z",
     "start_time": "2020-01-30T04:12:05.313125Z"
    }
   },
   "outputs": [
    {
     "data": {
      "application/javascript": [
       "\n",
       "            setTimeout(function() {\n",
       "                var nbb_cell_id = 10;\n",
       "                var nbb_unformatted_code = \"## create a database (if it doesn't exist)\\n# if not database_exists(engine.url):\\n#     create_database(engine.url)\\n# print(database_exists(engine.url))\";\n",
       "                var nbb_formatted_code = \"## create a database (if it doesn't exist)\\n# if not database_exists(engine.url):\\n#     create_database(engine.url)\\n# print(database_exists(engine.url))\";\n",
       "                var nbb_cells = Jupyter.notebook.get_cells();\n",
       "                for (var i = 0; i < nbb_cells.length; ++i) {\n",
       "                    if (nbb_cells[i].input_prompt_number == nbb_cell_id) {\n",
       "                        if (nbb_cells[i].get_text() == nbb_unformatted_code) {\n",
       "                             nbb_cells[i].set_text(nbb_formatted_code);\n",
       "                        }\n",
       "                        break;\n",
       "                    }\n",
       "                }\n",
       "            }, 500);\n",
       "            "
      ],
      "text/plain": [
       "<IPython.core.display.Javascript object>"
      ]
     },
     "metadata": {},
     "output_type": "display_data"
    }
   ],
   "source": [
    "## create a database (if it doesn't exist)\n",
    "# if not database_exists(engine.url):\n",
    "#     create_database(engine.url)\n",
    "# print(database_exists(engine.url))"
   ]
  },
  {
   "cell_type": "code",
   "execution_count": 11,
   "metadata": {
    "ExecuteTime": {
     "end_time": "2020-01-30T04:12:07.279979Z",
     "start_time": "2020-01-30T04:12:07.272493Z"
    }
   },
   "outputs": [
    {
     "data": {
      "application/javascript": [
       "\n",
       "            setTimeout(function() {\n",
       "                var nbb_cell_id = 11;\n",
       "                var nbb_unformatted_code = \"# This is done, but note it's out of order\\n\\n# date_list = [\\n#     (\\\"2019-03-20\\\", \\\"2019-09-29\\\"),\\n#     (\\\"2018-03-29\\\", \\\"2018-10-01\\\"),\\n#     (\\\"2017-04-02\\\", \\\"2017-10-01\\\"),\\n# ]\\n\\n# Above gave **2,174,906** pitch-by-pitch results in the database\\n\\n#     (\\\"2016-04-03\\\", \\\"2016-10-02\\\"),   # didn't get\\n#     (\\\"2015-04-05\\\", \\\"2015-10-04\\\"),   # didn't get \\n\\n\\n# for i, date_pair in enumerate(date_list):\\n#     if i < 1:\\n#         df_sc = statcast(date_pair[0], date_pair[1])\\n#         df_sc.to_sql(\\\"statcast\\\", engine, if_exists=\\\"replace\\\")\\n#         print(date_pair, \\\"replace mode\\\")\\n#     else:\\n#         df_sc = statcast(date_pair[0], date_pair[1])\\n#         df_sc.to_sql(\\\"statcast\\\", engine, if_exists=\\\"append\\\")\\n#         print(date_pair, \\\"append mode\\\")\";\n",
       "                var nbb_formatted_code = \"# This is done, but note it's out of order\\n\\n# date_list = [\\n#     (\\\"2019-03-20\\\", \\\"2019-09-29\\\"),\\n#     (\\\"2018-03-29\\\", \\\"2018-10-01\\\"),\\n#     (\\\"2017-04-02\\\", \\\"2017-10-01\\\"),\\n# ]\\n\\n# Above gave **2,174,906** pitch-by-pitch results in the database\\n\\n#     (\\\"2016-04-03\\\", \\\"2016-10-02\\\"),   # didn't get\\n#     (\\\"2015-04-05\\\", \\\"2015-10-04\\\"),   # didn't get\\n\\n\\n# for i, date_pair in enumerate(date_list):\\n#     if i < 1:\\n#         df_sc = statcast(date_pair[0], date_pair[1])\\n#         df_sc.to_sql(\\\"statcast\\\", engine, if_exists=\\\"replace\\\")\\n#         print(date_pair, \\\"replace mode\\\")\\n#     else:\\n#         df_sc = statcast(date_pair[0], date_pair[1])\\n#         df_sc.to_sql(\\\"statcast\\\", engine, if_exists=\\\"append\\\")\\n#         print(date_pair, \\\"append mode\\\")\";\n",
       "                var nbb_cells = Jupyter.notebook.get_cells();\n",
       "                for (var i = 0; i < nbb_cells.length; ++i) {\n",
       "                    if (nbb_cells[i].input_prompt_number == nbb_cell_id) {\n",
       "                        if (nbb_cells[i].get_text() == nbb_unformatted_code) {\n",
       "                             nbb_cells[i].set_text(nbb_formatted_code);\n",
       "                        }\n",
       "                        break;\n",
       "                    }\n",
       "                }\n",
       "            }, 500);\n",
       "            "
      ],
      "text/plain": [
       "<IPython.core.display.Javascript object>"
      ]
     },
     "metadata": {},
     "output_type": "display_data"
    }
   ],
   "source": [
    "# This is done, but note it's out of order\n",
    "\n",
    "# date_list = [\n",
    "#     (\"2019-03-20\", \"2019-09-29\"),\n",
    "#     (\"2018-03-29\", \"2018-10-01\"),\n",
    "#     (\"2017-04-02\", \"2017-10-01\"),\n",
    "# ]\n",
    "\n",
    "# Above gave **2,174,906** pitch-by-pitch results in the database\n",
    "\n",
    "#     (\"2016-04-03\", \"2016-10-02\"),   # didn't get\n",
    "#     (\"2015-04-05\", \"2015-10-04\"),   # didn't get\n",
    "\n",
    "\n",
    "# for i, date_pair in enumerate(date_list):\n",
    "#     if i < 1:\n",
    "#         df_sc = statcast(date_pair[0], date_pair[1])\n",
    "#         df_sc.to_sql(\"statcast\", engine, if_exists=\"replace\")\n",
    "#         print(date_pair, \"replace mode\")\n",
    "#     else:\n",
    "#         df_sc = statcast(date_pair[0], date_pair[1])\n",
    "#         df_sc.to_sql(\"statcast\", engine, if_exists=\"append\")\n",
    "#         print(date_pair, \"append mode\")"
   ]
  },
  {
   "cell_type": "code",
   "execution_count": 12,
   "metadata": {
    "ExecuteTime": {
     "end_time": "2020-01-30T04:12:07.950444Z",
     "start_time": "2020-01-30T04:12:07.910632Z"
    }
   },
   "outputs": [
    {
     "data": {
      "application/javascript": [
       "\n",
       "            setTimeout(function() {\n",
       "                var nbb_cell_id = 12;\n",
       "                var nbb_unformatted_code = \"# Working with PostgreSQL in Python\\n# Connect to make queries using psycopg2\\ncon = None\\ncon = psycopg2.connect(database=dbname, user=username)\";\n",
       "                var nbb_formatted_code = \"# Working with PostgreSQL in Python\\n# Connect to make queries using psycopg2\\ncon = None\\ncon = psycopg2.connect(database=dbname, user=username)\";\n",
       "                var nbb_cells = Jupyter.notebook.get_cells();\n",
       "                for (var i = 0; i < nbb_cells.length; ++i) {\n",
       "                    if (nbb_cells[i].input_prompt_number == nbb_cell_id) {\n",
       "                        if (nbb_cells[i].get_text() == nbb_unformatted_code) {\n",
       "                             nbb_cells[i].set_text(nbb_formatted_code);\n",
       "                        }\n",
       "                        break;\n",
       "                    }\n",
       "                }\n",
       "            }, 500);\n",
       "            "
      ],
      "text/plain": [
       "<IPython.core.display.Javascript object>"
      ]
     },
     "metadata": {},
     "output_type": "display_data"
    }
   ],
   "source": [
    "# Working with PostgreSQL in Python\n",
    "# Connect to make queries using psycopg2\n",
    "con = None\n",
    "con = psycopg2.connect(database=dbname, user=username)"
   ]
  },
  {
   "cell_type": "markdown",
   "metadata": {},
   "source": [
    "See other notebook for more info\n",
    "\n"
   ]
  },
  {
   "cell_type": "code",
   "execution_count": 13,
   "metadata": {
    "ExecuteTime": {
     "end_time": "2020-01-30T04:12:09.601246Z",
     "start_time": "2020-01-30T04:12:09.534278Z"
    }
   },
   "outputs": [
    {
     "data": {
      "application/javascript": [
       "\n",
       "            setTimeout(function() {\n",
       "                var nbb_cell_id = 13;\n",
       "                var nbb_unformatted_code = \"# Get player id\\nsql_query = \\\"\\\"\\\"\\nSELECT * FROM player_id;\\n\\\"\\\"\\\"\\n\\ndf_player_id = pd.read_sql_query(sql_query, con)\";\n",
       "                var nbb_formatted_code = \"# Get player id\\nsql_query = \\\"\\\"\\\"\\nSELECT * FROM player_id;\\n\\\"\\\"\\\"\\n\\ndf_player_id = pd.read_sql_query(sql_query, con)\";\n",
       "                var nbb_cells = Jupyter.notebook.get_cells();\n",
       "                for (var i = 0; i < nbb_cells.length; ++i) {\n",
       "                    if (nbb_cells[i].input_prompt_number == nbb_cell_id) {\n",
       "                        if (nbb_cells[i].get_text() == nbb_unformatted_code) {\n",
       "                             nbb_cells[i].set_text(nbb_formatted_code);\n",
       "                        }\n",
       "                        break;\n",
       "                    }\n",
       "                }\n",
       "            }, 500);\n",
       "            "
      ],
      "text/plain": [
       "<IPython.core.display.Javascript object>"
      ]
     },
     "metadata": {},
     "output_type": "display_data"
    }
   ],
   "source": [
    "# Get player id\n",
    "sql_query = \"\"\"\n",
    "SELECT * FROM player_id;\n",
    "\"\"\"\n",
    "\n",
    "df_player_id = pd.read_sql_query(sql_query, con)"
   ]
  },
  {
   "cell_type": "code",
   "execution_count": 14,
   "metadata": {
    "ExecuteTime": {
     "end_time": "2020-01-30T04:12:11.410817Z",
     "start_time": "2020-01-30T04:12:11.088368Z"
    }
   },
   "outputs": [
    {
     "data": {
      "application/javascript": [
       "\n",
       "            setTimeout(function() {\n",
       "                var nbb_cell_id = 14;\n",
       "                var nbb_unformatted_code = \"# Batting stats\\n\\nsql_query = \\\"\\\"\\\"\\nSELECT * FROM batting_stats18_wpid;\\n\\\"\\\"\\\"\\n\\ndf_batting_stats_wpid = pd.read_sql_query(sql_query, con)\";\n",
       "                var nbb_formatted_code = \"# Batting stats\\n\\nsql_query = \\\"\\\"\\\"\\nSELECT * FROM batting_stats18_wpid;\\n\\\"\\\"\\\"\\n\\ndf_batting_stats_wpid = pd.read_sql_query(sql_query, con)\";\n",
       "                var nbb_cells = Jupyter.notebook.get_cells();\n",
       "                for (var i = 0; i < nbb_cells.length; ++i) {\n",
       "                    if (nbb_cells[i].input_prompt_number == nbb_cell_id) {\n",
       "                        if (nbb_cells[i].get_text() == nbb_unformatted_code) {\n",
       "                             nbb_cells[i].set_text(nbb_formatted_code);\n",
       "                        }\n",
       "                        break;\n",
       "                    }\n",
       "                }\n",
       "            }, 500);\n",
       "            "
      ],
      "text/plain": [
       "<IPython.core.display.Javascript object>"
      ]
     },
     "metadata": {},
     "output_type": "display_data"
    }
   ],
   "source": [
    "# Batting stats\n",
    "\n",
    "sql_query = \"\"\"\n",
    "SELECT * FROM batting_stats18_wpid;\n",
    "\"\"\"\n",
    "\n",
    "df_batting_stats_wpid = pd.read_sql_query(sql_query, con)"
   ]
  },
  {
   "cell_type": "code",
   "execution_count": 15,
   "metadata": {
    "ExecuteTime": {
     "end_time": "2020-01-30T04:12:12.014741Z",
     "start_time": "2020-01-30T04:12:12.004880Z"
    }
   },
   "outputs": [
    {
     "data": {
      "text/plain": [
       "(955, 300)"
      ]
     },
     "execution_count": 15,
     "metadata": {},
     "output_type": "execute_result"
    },
    {
     "data": {
      "application/javascript": [
       "\n",
       "            setTimeout(function() {\n",
       "                var nbb_cell_id = 15;\n",
       "                var nbb_unformatted_code = \"df_batting_stats_wpid.shape\";\n",
       "                var nbb_formatted_code = \"df_batting_stats_wpid.shape\";\n",
       "                var nbb_cells = Jupyter.notebook.get_cells();\n",
       "                for (var i = 0; i < nbb_cells.length; ++i) {\n",
       "                    if (nbb_cells[i].input_prompt_number == nbb_cell_id) {\n",
       "                        if (nbb_cells[i].get_text() == nbb_unformatted_code) {\n",
       "                             nbb_cells[i].set_text(nbb_formatted_code);\n",
       "                        }\n",
       "                        break;\n",
       "                    }\n",
       "                }\n",
       "            }, 500);\n",
       "            "
      ],
      "text/plain": [
       "<IPython.core.display.Javascript object>"
      ]
     },
     "metadata": {},
     "output_type": "display_data"
    }
   ],
   "source": [
    "df_batting_stats_wpid.shape"
   ]
  },
  {
   "cell_type": "code",
   "execution_count": 16,
   "metadata": {
    "ExecuteTime": {
     "end_time": "2020-01-30T04:12:13.408504Z",
     "start_time": "2020-01-30T04:12:13.370050Z"
    }
   },
   "outputs": [
    {
     "data": {
      "text/html": [
       "<div>\n",
       "<style scoped>\n",
       "    .dataframe tbody tr th:only-of-type {\n",
       "        vertical-align: middle;\n",
       "    }\n",
       "\n",
       "    .dataframe tbody tr th {\n",
       "        vertical-align: top;\n",
       "    }\n",
       "\n",
       "    .dataframe thead th {\n",
       "        text-align: right;\n",
       "    }\n",
       "</style>\n",
       "<table border=\"1\" class=\"dataframe\">\n",
       "  <thead>\n",
       "    <tr style=\"text-align: right;\">\n",
       "      <th></th>\n",
       "      <th>index</th>\n",
       "      <th>index_x</th>\n",
       "      <th>Season</th>\n",
       "      <th>Name</th>\n",
       "      <th>Team</th>\n",
       "      <th>Age</th>\n",
       "      <th>G</th>\n",
       "      <th>AB</th>\n",
       "      <th>PA</th>\n",
       "      <th>H</th>\n",
       "      <th>...</th>\n",
       "      <th>first_name</th>\n",
       "      <th>index_y</th>\n",
       "      <th>name_last</th>\n",
       "      <th>name_first</th>\n",
       "      <th>key_mlbam</th>\n",
       "      <th>key_retro</th>\n",
       "      <th>key_bbref</th>\n",
       "      <th>key_fangraphs</th>\n",
       "      <th>mlb_played_first</th>\n",
       "      <th>mlb_played_last</th>\n",
       "    </tr>\n",
       "  </thead>\n",
       "  <tbody>\n",
       "    <tr>\n",
       "      <th>0</th>\n",
       "      <td>0</td>\n",
       "      <td>63</td>\n",
       "      <td>2018.0</td>\n",
       "      <td>Mookie Betts</td>\n",
       "      <td>Red Sox</td>\n",
       "      <td>25.0</td>\n",
       "      <td>136.0</td>\n",
       "      <td>520.0</td>\n",
       "      <td>614.0</td>\n",
       "      <td>180.0</td>\n",
       "      <td>...</td>\n",
       "      <td>mookie</td>\n",
       "      <td>166</td>\n",
       "      <td>betts</td>\n",
       "      <td>mookie</td>\n",
       "      <td>605141</td>\n",
       "      <td>bettm001</td>\n",
       "      <td>bettsmo01</td>\n",
       "      <td>13611</td>\n",
       "      <td>2014.0</td>\n",
       "      <td>2019.0</td>\n",
       "    </tr>\n",
       "    <tr>\n",
       "      <th>1</th>\n",
       "      <td>1</td>\n",
       "      <td>67</td>\n",
       "      <td>2018.0</td>\n",
       "      <td>Mike Trout</td>\n",
       "      <td>Angels</td>\n",
       "      <td>26.0</td>\n",
       "      <td>140.0</td>\n",
       "      <td>471.0</td>\n",
       "      <td>608.0</td>\n",
       "      <td>147.0</td>\n",
       "      <td>...</td>\n",
       "      <td>mike</td>\n",
       "      <td>1789</td>\n",
       "      <td>trout</td>\n",
       "      <td>mike</td>\n",
       "      <td>545361</td>\n",
       "      <td>troum001</td>\n",
       "      <td>troutmi01</td>\n",
       "      <td>10155</td>\n",
       "      <td>2011.0</td>\n",
       "      <td>2019.0</td>\n",
       "    </tr>\n",
       "    <tr>\n",
       "      <th>2</th>\n",
       "      <td>2</td>\n",
       "      <td>153</td>\n",
       "      <td>2018.0</td>\n",
       "      <td>Jose Ramirez</td>\n",
       "      <td>Indians</td>\n",
       "      <td>25.0</td>\n",
       "      <td>157.0</td>\n",
       "      <td>578.0</td>\n",
       "      <td>698.0</td>\n",
       "      <td>156.0</td>\n",
       "      <td>...</td>\n",
       "      <td>jose</td>\n",
       "      <td>1417</td>\n",
       "      <td>ramirez</td>\n",
       "      <td>jose</td>\n",
       "      <td>542432</td>\n",
       "      <td>ramij004</td>\n",
       "      <td>ramirjo02</td>\n",
       "      <td>10171</td>\n",
       "      <td>2014.0</td>\n",
       "      <td>2018.0</td>\n",
       "    </tr>\n",
       "    <tr>\n",
       "      <th>3</th>\n",
       "      <td>68</td>\n",
       "      <td>38</td>\n",
       "      <td>2018.0</td>\n",
       "      <td>Ryder Jones</td>\n",
       "      <td>Giants</td>\n",
       "      <td>24.0</td>\n",
       "      <td>5.0</td>\n",
       "      <td>8.0</td>\n",
       "      <td>8.0</td>\n",
       "      <td>3.0</td>\n",
       "      <td>...</td>\n",
       "      <td>ryder</td>\n",
       "      <td>903</td>\n",
       "      <td>jones</td>\n",
       "      <td>ryder</td>\n",
       "      <td>624507</td>\n",
       "      <td>joner005</td>\n",
       "      <td>jonesry01</td>\n",
       "      <td>15982</td>\n",
       "      <td>2017.0</td>\n",
       "      <td>2018.0</td>\n",
       "    </tr>\n",
       "    <tr>\n",
       "      <th>4</th>\n",
       "      <td>3</td>\n",
       "      <td>153</td>\n",
       "      <td>2018.0</td>\n",
       "      <td>Jose Ramirez</td>\n",
       "      <td>Indians</td>\n",
       "      <td>25.0</td>\n",
       "      <td>157.0</td>\n",
       "      <td>578.0</td>\n",
       "      <td>698.0</td>\n",
       "      <td>156.0</td>\n",
       "      <td>...</td>\n",
       "      <td>jose</td>\n",
       "      <td>1418</td>\n",
       "      <td>ramirez</td>\n",
       "      <td>jose</td>\n",
       "      <td>608070</td>\n",
       "      <td>ramij003</td>\n",
       "      <td>ramirjo01</td>\n",
       "      <td>13510</td>\n",
       "      <td>2013.0</td>\n",
       "      <td>2019.0</td>\n",
       "    </tr>\n",
       "  </tbody>\n",
       "</table>\n",
       "<p>5 rows × 300 columns</p>\n",
       "</div>"
      ],
      "text/plain": [
       "   index  index_x  Season          Name     Team   Age      G     AB     PA  \\\n",
       "0      0       63  2018.0  Mookie Betts  Red Sox  25.0  136.0  520.0  614.0   \n",
       "1      1       67  2018.0    Mike Trout   Angels  26.0  140.0  471.0  608.0   \n",
       "2      2      153  2018.0  Jose Ramirez  Indians  25.0  157.0  578.0  698.0   \n",
       "3     68       38  2018.0   Ryder Jones   Giants  24.0    5.0    8.0    8.0   \n",
       "4      3      153  2018.0  Jose Ramirez  Indians  25.0  157.0  578.0  698.0   \n",
       "\n",
       "       H  ...  first_name  index_y  name_last  name_first  key_mlbam  \\\n",
       "0  180.0  ...      mookie      166      betts      mookie     605141   \n",
       "1  147.0  ...        mike     1789      trout        mike     545361   \n",
       "2  156.0  ...        jose     1417    ramirez        jose     542432   \n",
       "3    3.0  ...       ryder      903      jones       ryder     624507   \n",
       "4  156.0  ...        jose     1418    ramirez        jose     608070   \n",
       "\n",
       "   key_retro  key_bbref  key_fangraphs  mlb_played_first  mlb_played_last  \n",
       "0   bettm001  bettsmo01          13611            2014.0           2019.0  \n",
       "1   troum001  troutmi01          10155            2011.0           2019.0  \n",
       "2   ramij004  ramirjo02          10171            2014.0           2018.0  \n",
       "3   joner005  jonesry01          15982            2017.0           2018.0  \n",
       "4   ramij003  ramirjo01          13510            2013.0           2019.0  \n",
       "\n",
       "[5 rows x 300 columns]"
      ]
     },
     "execution_count": 16,
     "metadata": {},
     "output_type": "execute_result"
    },
    {
     "data": {
      "application/javascript": [
       "\n",
       "            setTimeout(function() {\n",
       "                var nbb_cell_id = 16;\n",
       "                var nbb_unformatted_code = \"df_batting_stats_wpid.head()\";\n",
       "                var nbb_formatted_code = \"df_batting_stats_wpid.head()\";\n",
       "                var nbb_cells = Jupyter.notebook.get_cells();\n",
       "                for (var i = 0; i < nbb_cells.length; ++i) {\n",
       "                    if (nbb_cells[i].input_prompt_number == nbb_cell_id) {\n",
       "                        if (nbb_cells[i].get_text() == nbb_unformatted_code) {\n",
       "                             nbb_cells[i].set_text(nbb_formatted_code);\n",
       "                        }\n",
       "                        break;\n",
       "                    }\n",
       "                }\n",
       "            }, 500);\n",
       "            "
      ],
      "text/plain": [
       "<IPython.core.display.Javascript object>"
      ]
     },
     "metadata": {},
     "output_type": "display_data"
    }
   ],
   "source": [
    "df_batting_stats_wpid.head()"
   ]
  },
  {
   "cell_type": "code",
   "execution_count": 17,
   "metadata": {
    "ExecuteTime": {
     "end_time": "2020-01-30T04:12:15.638702Z",
     "start_time": "2020-01-30T04:12:15.018613Z"
    }
   },
   "outputs": [
    {
     "data": {
      "application/javascript": [
       "\n",
       "            setTimeout(function() {\n",
       "                var nbb_cell_id = 17;\n",
       "                var nbb_unformatted_code = \"# Pitching stats\\n\\nsql_query = \\\"\\\"\\\"\\nSELECT * FROM pitching_stats_wpid;\\n\\\"\\\"\\\"\\n\\ndf_pitching_stats_wpid = pd.read_sql_query(sql_query, con)\\n# Limit to 2018, like with baseball stats\\ndf_pitching_stats_wpid = df_pitching_stats_wpid[\\n    df_pitching_stats_wpid[\\\"Season\\\"] == 2018\\n].copy()\";\n",
       "                var nbb_formatted_code = \"# Pitching stats\\n\\nsql_query = \\\"\\\"\\\"\\nSELECT * FROM pitching_stats_wpid;\\n\\\"\\\"\\\"\\n\\ndf_pitching_stats_wpid = pd.read_sql_query(sql_query, con)\\n# Limit to 2018, like with baseball stats\\ndf_pitching_stats_wpid = df_pitching_stats_wpid[\\n    df_pitching_stats_wpid[\\\"Season\\\"] == 2018\\n].copy()\";\n",
       "                var nbb_cells = Jupyter.notebook.get_cells();\n",
       "                for (var i = 0; i < nbb_cells.length; ++i) {\n",
       "                    if (nbb_cells[i].input_prompt_number == nbb_cell_id) {\n",
       "                        if (nbb_cells[i].get_text() == nbb_unformatted_code) {\n",
       "                             nbb_cells[i].set_text(nbb_formatted_code);\n",
       "                        }\n",
       "                        break;\n",
       "                    }\n",
       "                }\n",
       "            }, 500);\n",
       "            "
      ],
      "text/plain": [
       "<IPython.core.display.Javascript object>"
      ]
     },
     "metadata": {},
     "output_type": "display_data"
    }
   ],
   "source": [
    "# Pitching stats\n",
    "\n",
    "sql_query = \"\"\"\n",
    "SELECT * FROM pitching_stats_wpid;\n",
    "\"\"\"\n",
    "\n",
    "df_pitching_stats_wpid = pd.read_sql_query(sql_query, con)\n",
    "# Limit to 2018, like with baseball stats\n",
    "df_pitching_stats_wpid = df_pitching_stats_wpid[\n",
    "    df_pitching_stats_wpid[\"Season\"] == 2018\n",
    "].copy()"
   ]
  },
  {
   "cell_type": "code",
   "execution_count": 18,
   "metadata": {
    "ExecuteTime": {
     "end_time": "2020-01-30T04:12:16.279621Z",
     "start_time": "2020-01-30T04:12:16.271266Z"
    }
   },
   "outputs": [
    {
     "data": {
      "text/plain": [
       "(789, 310)"
      ]
     },
     "execution_count": 18,
     "metadata": {},
     "output_type": "execute_result"
    },
    {
     "data": {
      "application/javascript": [
       "\n",
       "            setTimeout(function() {\n",
       "                var nbb_cell_id = 18;\n",
       "                var nbb_unformatted_code = \"df_pitching_stats_wpid.shape\";\n",
       "                var nbb_formatted_code = \"df_pitching_stats_wpid.shape\";\n",
       "                var nbb_cells = Jupyter.notebook.get_cells();\n",
       "                for (var i = 0; i < nbb_cells.length; ++i) {\n",
       "                    if (nbb_cells[i].input_prompt_number == nbb_cell_id) {\n",
       "                        if (nbb_cells[i].get_text() == nbb_unformatted_code) {\n",
       "                             nbb_cells[i].set_text(nbb_formatted_code);\n",
       "                        }\n",
       "                        break;\n",
       "                    }\n",
       "                }\n",
       "            }, 500);\n",
       "            "
      ],
      "text/plain": [
       "<IPython.core.display.Javascript object>"
      ]
     },
     "metadata": {},
     "output_type": "display_data"
    }
   ],
   "source": [
    "df_pitching_stats_wpid.shape"
   ]
  },
  {
   "cell_type": "code",
   "execution_count": 19,
   "metadata": {
    "ExecuteTime": {
     "end_time": "2020-01-30T04:12:17.503482Z",
     "start_time": "2020-01-30T04:12:17.469101Z"
    }
   },
   "outputs": [
    {
     "data": {
      "text/html": [
       "<div>\n",
       "<style scoped>\n",
       "    .dataframe tbody tr th:only-of-type {\n",
       "        vertical-align: middle;\n",
       "    }\n",
       "\n",
       "    .dataframe tbody tr th {\n",
       "        vertical-align: top;\n",
       "    }\n",
       "\n",
       "    .dataframe thead th {\n",
       "        text-align: right;\n",
       "    }\n",
       "</style>\n",
       "<table border=\"1\" class=\"dataframe\">\n",
       "  <thead>\n",
       "    <tr style=\"text-align: right;\">\n",
       "      <th></th>\n",
       "      <th>index</th>\n",
       "      <th>Season</th>\n",
       "      <th>Name</th>\n",
       "      <th>Team</th>\n",
       "      <th>Age</th>\n",
       "      <th>W</th>\n",
       "      <th>L</th>\n",
       "      <th>ERA</th>\n",
       "      <th>WAR</th>\n",
       "      <th>G</th>\n",
       "      <th>...</th>\n",
       "      <th>first_name</th>\n",
       "      <th>last_name</th>\n",
       "      <th>name_last</th>\n",
       "      <th>name_first</th>\n",
       "      <th>key_mlbam</th>\n",
       "      <th>key_retro</th>\n",
       "      <th>key_bbref</th>\n",
       "      <th>key_fangraphs</th>\n",
       "      <th>mlb_played_first</th>\n",
       "      <th>mlb_played_last</th>\n",
       "    </tr>\n",
       "  </thead>\n",
       "  <tbody>\n",
       "    <tr>\n",
       "      <th>0</th>\n",
       "      <td>0</td>\n",
       "      <td>2018.0</td>\n",
       "      <td>Jacob deGrom</td>\n",
       "      <td>Mets</td>\n",
       "      <td>30.0</td>\n",
       "      <td>10.0</td>\n",
       "      <td>9.0</td>\n",
       "      <td>1.70</td>\n",
       "      <td>9.0</td>\n",
       "      <td>32.0</td>\n",
       "      <td>...</td>\n",
       "      <td>jacob</td>\n",
       "      <td>degrom</td>\n",
       "      <td>degrom</td>\n",
       "      <td>jacob</td>\n",
       "      <td>594798.0</td>\n",
       "      <td>degrj001</td>\n",
       "      <td>degroja01</td>\n",
       "      <td>10954.0</td>\n",
       "      <td>2014.0</td>\n",
       "      <td>2019.0</td>\n",
       "    </tr>\n",
       "    <tr>\n",
       "      <th>2</th>\n",
       "      <td>2</td>\n",
       "      <td>2018.0</td>\n",
       "      <td>Max Scherzer</td>\n",
       "      <td>Nationals</td>\n",
       "      <td>33.0</td>\n",
       "      <td>18.0</td>\n",
       "      <td>7.0</td>\n",
       "      <td>2.53</td>\n",
       "      <td>7.5</td>\n",
       "      <td>33.0</td>\n",
       "      <td>...</td>\n",
       "      <td>max</td>\n",
       "      <td>scherzer</td>\n",
       "      <td>scherzer</td>\n",
       "      <td>max</td>\n",
       "      <td>453286.0</td>\n",
       "      <td>schem001</td>\n",
       "      <td>scherma01</td>\n",
       "      <td>3137.0</td>\n",
       "      <td>2008.0</td>\n",
       "      <td>2019.0</td>\n",
       "    </tr>\n",
       "    <tr>\n",
       "      <th>4</th>\n",
       "      <td>1587</td>\n",
       "      <td>2018.0</td>\n",
       "      <td>Scott Kingery</td>\n",
       "      <td>Phillies</td>\n",
       "      <td>24.0</td>\n",
       "      <td>0.0</td>\n",
       "      <td>0.0</td>\n",
       "      <td>13.50</td>\n",
       "      <td>0.0</td>\n",
       "      <td>1.0</td>\n",
       "      <td>...</td>\n",
       "      <td>scott</td>\n",
       "      <td>kingery</td>\n",
       "      <td>kingery</td>\n",
       "      <td>scott</td>\n",
       "      <td>664068.0</td>\n",
       "      <td>kings001</td>\n",
       "      <td>kingesc01</td>\n",
       "      <td>17975.0</td>\n",
       "      <td>2018.0</td>\n",
       "      <td>2019.0</td>\n",
       "    </tr>\n",
       "    <tr>\n",
       "      <th>8</th>\n",
       "      <td>7</td>\n",
       "      <td>2018.0</td>\n",
       "      <td>Justin Verlander</td>\n",
       "      <td>Astros</td>\n",
       "      <td>35.0</td>\n",
       "      <td>16.0</td>\n",
       "      <td>9.0</td>\n",
       "      <td>2.52</td>\n",
       "      <td>6.6</td>\n",
       "      <td>34.0</td>\n",
       "      <td>...</td>\n",
       "      <td>justin</td>\n",
       "      <td>verlander</td>\n",
       "      <td>verlander</td>\n",
       "      <td>justin</td>\n",
       "      <td>434378.0</td>\n",
       "      <td>verlj001</td>\n",
       "      <td>verlaju01</td>\n",
       "      <td>8700.0</td>\n",
       "      <td>2005.0</td>\n",
       "      <td>2019.0</td>\n",
       "    </tr>\n",
       "    <tr>\n",
       "      <th>12</th>\n",
       "      <td>11</td>\n",
       "      <td>2018.0</td>\n",
       "      <td>Chris Sale</td>\n",
       "      <td>Red Sox</td>\n",
       "      <td>29.0</td>\n",
       "      <td>12.0</td>\n",
       "      <td>4.0</td>\n",
       "      <td>2.11</td>\n",
       "      <td>6.2</td>\n",
       "      <td>27.0</td>\n",
       "      <td>...</td>\n",
       "      <td>chris</td>\n",
       "      <td>sale</td>\n",
       "      <td>sale</td>\n",
       "      <td>chris</td>\n",
       "      <td>519242.0</td>\n",
       "      <td>salec001</td>\n",
       "      <td>salech01</td>\n",
       "      <td>10603.0</td>\n",
       "      <td>2010.0</td>\n",
       "      <td>2019.0</td>\n",
       "    </tr>\n",
       "  </tbody>\n",
       "</table>\n",
       "<p>5 rows × 310 columns</p>\n",
       "</div>"
      ],
      "text/plain": [
       "    index  Season              Name       Team   Age     W    L    ERA  WAR  \\\n",
       "0       0  2018.0      Jacob deGrom       Mets  30.0  10.0  9.0   1.70  9.0   \n",
       "2       2  2018.0      Max Scherzer  Nationals  33.0  18.0  7.0   2.53  7.5   \n",
       "4    1587  2018.0     Scott Kingery   Phillies  24.0   0.0  0.0  13.50  0.0   \n",
       "8       7  2018.0  Justin Verlander     Astros  35.0  16.0  9.0   2.52  6.6   \n",
       "12     11  2018.0        Chris Sale    Red Sox  29.0  12.0  4.0   2.11  6.2   \n",
       "\n",
       "       G  ...  first_name  last_name  name_last  name_first  key_mlbam  \\\n",
       "0   32.0  ...       jacob     degrom     degrom       jacob   594798.0   \n",
       "2   33.0  ...         max   scherzer   scherzer         max   453286.0   \n",
       "4    1.0  ...       scott    kingery    kingery       scott   664068.0   \n",
       "8   34.0  ...      justin  verlander  verlander      justin   434378.0   \n",
       "12  27.0  ...       chris       sale       sale       chris   519242.0   \n",
       "\n",
       "    key_retro  key_bbref  key_fangraphs  mlb_played_first  mlb_played_last  \n",
       "0    degrj001  degroja01        10954.0            2014.0           2019.0  \n",
       "2    schem001  scherma01         3137.0            2008.0           2019.0  \n",
       "4    kings001  kingesc01        17975.0            2018.0           2019.0  \n",
       "8    verlj001  verlaju01         8700.0            2005.0           2019.0  \n",
       "12   salec001   salech01        10603.0            2010.0           2019.0  \n",
       "\n",
       "[5 rows x 310 columns]"
      ]
     },
     "execution_count": 19,
     "metadata": {},
     "output_type": "execute_result"
    },
    {
     "data": {
      "application/javascript": [
       "\n",
       "            setTimeout(function() {\n",
       "                var nbb_cell_id = 19;\n",
       "                var nbb_unformatted_code = \"df_pitching_stats_wpid.head()\";\n",
       "                var nbb_formatted_code = \"df_pitching_stats_wpid.head()\";\n",
       "                var nbb_cells = Jupyter.notebook.get_cells();\n",
       "                for (var i = 0; i < nbb_cells.length; ++i) {\n",
       "                    if (nbb_cells[i].input_prompt_number == nbb_cell_id) {\n",
       "                        if (nbb_cells[i].get_text() == nbb_unformatted_code) {\n",
       "                             nbb_cells[i].set_text(nbb_formatted_code);\n",
       "                        }\n",
       "                        break;\n",
       "                    }\n",
       "                }\n",
       "            }, 500);\n",
       "            "
      ],
      "text/plain": [
       "<IPython.core.display.Javascript object>"
      ]
     },
     "metadata": {},
     "output_type": "display_data"
    }
   ],
   "source": [
    "df_pitching_stats_wpid.head()"
   ]
  },
  {
   "cell_type": "markdown",
   "metadata": {},
   "source": [
    "# Notes"
   ]
  },
  {
   "cell_type": "markdown",
   "metadata": {},
   "source": [
    "## Contingencies\n",
    "\n",
    "1. What if player has day off? or no game is scheduled?\n",
    "2. What if player or pitcher doesn't have minimum nback at-bats?\n",
    "3. What if player doesn't have minimum nback at-bats against same or opposite handedness?"
   ]
  },
  {
   "cell_type": "markdown",
   "metadata": {},
   "source": [
    "**Quora answer on number of plate appearances**\n",
    "https://www.quora.com/How-many-at-bats-does-the-average-MLB-player-go-through-per-year\n",
    "\n",
    "One direction to go with is how many PA wpild a player accumulate if theu were to play every day, and not rest. That would be around 725. Though that total is not really an average as few players exceed such a total each year.\n",
    "\n",
    "A second number would be how many plate appearances bases on normal rest during a season if a player never was injured, about 145-150 games for position players other then the catcher and 110 to 115 for catchers. Those totals would be around 650 and 450 respectively.\n",
    "\n",
    "Yet another way to answer this would be the number of PA by all position players on a roster that were supposed to be starters, but may receive less playing time due to injury or a team developing, trading for or discovering a better player. That would probably be closer to 400.\n",
    "\n",
    "You could also thing about all position players on a team including bench players, if we include them our total now is closer to 200-250.\n",
    "\n",
    "Yet another way to look at this is to include all players on the roster including pitcher who may notbat intentionally. Include them and tour total is closer to 100-120."
   ]
  },
  {
   "cell_type": "markdown",
   "metadata": {},
   "source": [
    "## Other ideas"
   ]
  },
  {
   "cell_type": "markdown",
   "metadata": {},
   "source": [
    "\n",
    "- Look at probabilities, instead of looking for 1 (done - not strong)\n",
    "- Aggregate per game (potentially something there - not sure)\n",
    "- Look at Ty France\n",
    "- Add in pitcher info \n",
    "- See what pitches they're hitting, then see how that matches with pitchers \n",
    "- Remember that ultimately, we want to see that we're picking the right player - someone who has a higher probability overall will be better choice\n",
    "\n",
    "\n",
    "**Motivation: Learning analytics requries some skills I can develop here**"
   ]
  },
  {
   "cell_type": "markdown",
   "metadata": {},
   "source": [
    "## Questions to ask\n",
    "\n",
    "- Am I inputting handedness correctly? How to input values if they're transformed in the model? (L -1.41421356, R 0.70710678)\n",
    "- Add pitcher specific ID as a factor?\n"
   ]
  },
  {
   "cell_type": "markdown",
   "metadata": {},
   "source": [
    "## Things to fix\n",
    "\n",
    "- Why is dataframe model going to <200 - cause of the day of separation.\n",
    "- Standardize train-test before split"
   ]
  },
  {
   "cell_type": "markdown",
   "metadata": {},
   "source": [
    "# Build one model"
   ]
  },
  {
   "cell_type": "code",
   "execution_count": 464,
   "metadata": {
    "ExecuteTime": {
     "end_time": "2020-01-31T20:34:52.190070Z",
     "start_time": "2020-01-31T20:34:52.073470Z"
    }
   },
   "outputs": [
    {
     "data": {
      "application/javascript": [
       "\n",
       "            setTimeout(function() {\n",
       "                var nbb_cell_id = 464;\n",
       "                var nbb_unformatted_code = \"def get_sc_event_data():\\n    sql_query = \\\"\\\"\\\"\\n    (SELECT statcast.game_date, statcast.batter,\\n    statcast.pitcher, statcast.events,\\n    statcast.stand, statcast.p_throws,\\n    statcast.inning_topbot\\n    FROM statcast\\n    WHERE statcast.events IS NOT NULL);\\n    \\\"\\\"\\\"\\n\\n    print(sql_query)\\n\\n    df_sc_events = pd.read_sql_query(sql_query, con)\\n\\n    return df_sc_events\";\n",
       "                var nbb_formatted_code = \"def get_sc_event_data():\\n    sql_query = \\\"\\\"\\\"\\n    (SELECT statcast.game_date, statcast.batter,\\n    statcast.pitcher, statcast.events,\\n    statcast.stand, statcast.p_throws,\\n    statcast.inning_topbot\\n    FROM statcast\\n    WHERE statcast.events IS NOT NULL);\\n    \\\"\\\"\\\"\\n\\n    print(sql_query)\\n\\n    df_sc_events = pd.read_sql_query(sql_query, con)\\n\\n    return df_sc_events\";\n",
       "                var nbb_cells = Jupyter.notebook.get_cells();\n",
       "                for (var i = 0; i < nbb_cells.length; ++i) {\n",
       "                    if (nbb_cells[i].input_prompt_number == nbb_cell_id) {\n",
       "                        if (nbb_cells[i].get_text() == nbb_unformatted_code) {\n",
       "                             nbb_cells[i].set_text(nbb_formatted_code);\n",
       "                        }\n",
       "                        break;\n",
       "                    }\n",
       "                }\n",
       "            }, 500);\n",
       "            "
      ],
      "text/plain": [
       "<IPython.core.display.Javascript object>"
      ]
     },
     "metadata": {},
     "output_type": "display_data"
    }
   ],
   "source": [
    "def get_sc_event_data():\n",
    "    sql_query = \"\"\"\n",
    "    (SELECT statcast.game_date, statcast.batter,\n",
    "    statcast.pitcher, statcast.events,\n",
    "    statcast.stand, statcast.p_throws,\n",
    "    statcast.inning_topbot\n",
    "    FROM statcast\n",
    "    WHERE statcast.events IS NOT NULL);\n",
    "    \"\"\"\n",
    "\n",
    "    print(sql_query)\n",
    "\n",
    "    df_sc_events = pd.read_sql_query(sql_query, con)\n",
    "\n",
    "    return df_sc_events"
   ]
  },
  {
   "cell_type": "code",
   "execution_count": 465,
   "metadata": {
    "ExecuteTime": {
     "end_time": "2020-01-31T20:34:56.631030Z",
     "start_time": "2020-01-31T20:34:55.465604Z"
    },
    "code_folding": []
   },
   "outputs": [
    {
     "name": "stdout",
     "output_type": "stream",
     "text": [
      "\n",
      "SELECT * FROM batting_stats18_wpid;\n",
      "\n"
     ]
    },
    {
     "data": {
      "text/html": [
       "<div>\n",
       "<style scoped>\n",
       "    .dataframe tbody tr th:only-of-type {\n",
       "        vertical-align: middle;\n",
       "    }\n",
       "\n",
       "    .dataframe tbody tr th {\n",
       "        vertical-align: top;\n",
       "    }\n",
       "\n",
       "    .dataframe thead th {\n",
       "        text-align: right;\n",
       "    }\n",
       "</style>\n",
       "<table border=\"1\" class=\"dataframe\">\n",
       "  <thead>\n",
       "    <tr style=\"text-align: right;\">\n",
       "      <th></th>\n",
       "      <th>Season</th>\n",
       "      <th>Name</th>\n",
       "      <th>Team</th>\n",
       "      <th>Age</th>\n",
       "      <th>G</th>\n",
       "      <th>AB</th>\n",
       "      <th>PA</th>\n",
       "      <th>H</th>\n",
       "      <th>1B</th>\n",
       "      <th>2B</th>\n",
       "      <th>...</th>\n",
       "      <th>first_name</th>\n",
       "      <th>index_y</th>\n",
       "      <th>name_last</th>\n",
       "      <th>name_first</th>\n",
       "      <th>key_mlbam</th>\n",
       "      <th>key_retro</th>\n",
       "      <th>key_bbref</th>\n",
       "      <th>key_fangraphs</th>\n",
       "      <th>mlb_played_first</th>\n",
       "      <th>mlb_played_last</th>\n",
       "    </tr>\n",
       "  </thead>\n",
       "  <tbody>\n",
       "    <tr>\n",
       "      <th>0</th>\n",
       "      <td>2018.0</td>\n",
       "      <td>Mookie Betts</td>\n",
       "      <td>Red Sox</td>\n",
       "      <td>25.0</td>\n",
       "      <td>136.0</td>\n",
       "      <td>520.0</td>\n",
       "      <td>614.0</td>\n",
       "      <td>180.0</td>\n",
       "      <td>96.0</td>\n",
       "      <td>47.0</td>\n",
       "      <td>...</td>\n",
       "      <td>mookie</td>\n",
       "      <td>166</td>\n",
       "      <td>betts</td>\n",
       "      <td>mookie</td>\n",
       "      <td>605141</td>\n",
       "      <td>bettm001</td>\n",
       "      <td>bettsmo01</td>\n",
       "      <td>13611</td>\n",
       "      <td>2014.0</td>\n",
       "      <td>2019.0</td>\n",
       "    </tr>\n",
       "    <tr>\n",
       "      <th>1</th>\n",
       "      <td>2018.0</td>\n",
       "      <td>Mike Trout</td>\n",
       "      <td>Angels</td>\n",
       "      <td>26.0</td>\n",
       "      <td>140.0</td>\n",
       "      <td>471.0</td>\n",
       "      <td>608.0</td>\n",
       "      <td>147.0</td>\n",
       "      <td>80.0</td>\n",
       "      <td>24.0</td>\n",
       "      <td>...</td>\n",
       "      <td>mike</td>\n",
       "      <td>1789</td>\n",
       "      <td>trout</td>\n",
       "      <td>mike</td>\n",
       "      <td>545361</td>\n",
       "      <td>troum001</td>\n",
       "      <td>troutmi01</td>\n",
       "      <td>10155</td>\n",
       "      <td>2011.0</td>\n",
       "      <td>2019.0</td>\n",
       "    </tr>\n",
       "    <tr>\n",
       "      <th>2</th>\n",
       "      <td>2018.0</td>\n",
       "      <td>Jose Ramirez</td>\n",
       "      <td>Indians</td>\n",
       "      <td>25.0</td>\n",
       "      <td>157.0</td>\n",
       "      <td>578.0</td>\n",
       "      <td>698.0</td>\n",
       "      <td>156.0</td>\n",
       "      <td>75.0</td>\n",
       "      <td>38.0</td>\n",
       "      <td>...</td>\n",
       "      <td>jose</td>\n",
       "      <td>1417</td>\n",
       "      <td>ramirez</td>\n",
       "      <td>jose</td>\n",
       "      <td>542432</td>\n",
       "      <td>ramij004</td>\n",
       "      <td>ramirjo02</td>\n",
       "      <td>10171</td>\n",
       "      <td>2014.0</td>\n",
       "      <td>2018.0</td>\n",
       "    </tr>\n",
       "    <tr>\n",
       "      <th>3</th>\n",
       "      <td>2018.0</td>\n",
       "      <td>Ryder Jones</td>\n",
       "      <td>Giants</td>\n",
       "      <td>24.0</td>\n",
       "      <td>5.0</td>\n",
       "      <td>8.0</td>\n",
       "      <td>8.0</td>\n",
       "      <td>3.0</td>\n",
       "      <td>1.0</td>\n",
       "      <td>0.0</td>\n",
       "      <td>...</td>\n",
       "      <td>ryder</td>\n",
       "      <td>903</td>\n",
       "      <td>jones</td>\n",
       "      <td>ryder</td>\n",
       "      <td>624507</td>\n",
       "      <td>joner005</td>\n",
       "      <td>jonesry01</td>\n",
       "      <td>15982</td>\n",
       "      <td>2017.0</td>\n",
       "      <td>2018.0</td>\n",
       "    </tr>\n",
       "    <tr>\n",
       "      <th>4</th>\n",
       "      <td>2018.0</td>\n",
       "      <td>Jose Ramirez</td>\n",
       "      <td>Indians</td>\n",
       "      <td>25.0</td>\n",
       "      <td>157.0</td>\n",
       "      <td>578.0</td>\n",
       "      <td>698.0</td>\n",
       "      <td>156.0</td>\n",
       "      <td>75.0</td>\n",
       "      <td>38.0</td>\n",
       "      <td>...</td>\n",
       "      <td>jose</td>\n",
       "      <td>1418</td>\n",
       "      <td>ramirez</td>\n",
       "      <td>jose</td>\n",
       "      <td>608070</td>\n",
       "      <td>ramij003</td>\n",
       "      <td>ramirjo01</td>\n",
       "      <td>13510</td>\n",
       "      <td>2013.0</td>\n",
       "      <td>2019.0</td>\n",
       "    </tr>\n",
       "    <tr>\n",
       "      <th>...</th>\n",
       "      <td>...</td>\n",
       "      <td>...</td>\n",
       "      <td>...</td>\n",
       "      <td>...</td>\n",
       "      <td>...</td>\n",
       "      <td>...</td>\n",
       "      <td>...</td>\n",
       "      <td>...</td>\n",
       "      <td>...</td>\n",
       "      <td>...</td>\n",
       "      <td>...</td>\n",
       "      <td>...</td>\n",
       "      <td>...</td>\n",
       "      <td>...</td>\n",
       "      <td>...</td>\n",
       "      <td>...</td>\n",
       "      <td>...</td>\n",
       "      <td>...</td>\n",
       "      <td>...</td>\n",
       "      <td>...</td>\n",
       "      <td>...</td>\n",
       "    </tr>\n",
       "    <tr>\n",
       "      <th>950</th>\n",
       "      <td>2018.0</td>\n",
       "      <td>Pat Valaika</td>\n",
       "      <td>Rockies</td>\n",
       "      <td>25.0</td>\n",
       "      <td>68.0</td>\n",
       "      <td>122.0</td>\n",
       "      <td>133.0</td>\n",
       "      <td>19.0</td>\n",
       "      <td>12.0</td>\n",
       "      <td>5.0</td>\n",
       "      <td>...</td>\n",
       "      <td>pat</td>\n",
       "      <td>1813</td>\n",
       "      <td>valaika</td>\n",
       "      <td>pat</td>\n",
       "      <td>642162</td>\n",
       "      <td>valap001</td>\n",
       "      <td>valaipa01</td>\n",
       "      <td>14885</td>\n",
       "      <td>2016.0</td>\n",
       "      <td>2019.0</td>\n",
       "    </tr>\n",
       "    <tr>\n",
       "      <th>951</th>\n",
       "      <td>2018.0</td>\n",
       "      <td>Yangervis Solarte</td>\n",
       "      <td>Blue Jays</td>\n",
       "      <td>30.0</td>\n",
       "      <td>122.0</td>\n",
       "      <td>468.0</td>\n",
       "      <td>506.0</td>\n",
       "      <td>106.0</td>\n",
       "      <td>69.0</td>\n",
       "      <td>20.0</td>\n",
       "      <td>...</td>\n",
       "      <td>yangervis</td>\n",
       "      <td>1660</td>\n",
       "      <td>solarte</td>\n",
       "      <td>yangervis</td>\n",
       "      <td>500208</td>\n",
       "      <td>solay001</td>\n",
       "      <td>solarya01</td>\n",
       "      <td>5352</td>\n",
       "      <td>2014.0</td>\n",
       "      <td>2019.0</td>\n",
       "    </tr>\n",
       "    <tr>\n",
       "      <th>952</th>\n",
       "      <td>2018.0</td>\n",
       "      <td>Magneuris Sierra</td>\n",
       "      <td>Marlins</td>\n",
       "      <td>22.0</td>\n",
       "      <td>54.0</td>\n",
       "      <td>147.0</td>\n",
       "      <td>156.0</td>\n",
       "      <td>28.0</td>\n",
       "      <td>25.0</td>\n",
       "      <td>3.0</td>\n",
       "      <td>...</td>\n",
       "      <td>magneuris</td>\n",
       "      <td>1615</td>\n",
       "      <td>sierra</td>\n",
       "      <td>magneuris</td>\n",
       "      <td>642423</td>\n",
       "      <td>sierm002</td>\n",
       "      <td>sierrma01</td>\n",
       "      <td>17023</td>\n",
       "      <td>2017.0</td>\n",
       "      <td>2019.0</td>\n",
       "    </tr>\n",
       "    <tr>\n",
       "      <th>953</th>\n",
       "      <td>2018.0</td>\n",
       "      <td>Victor Martinez</td>\n",
       "      <td>Tigers</td>\n",
       "      <td>39.0</td>\n",
       "      <td>133.0</td>\n",
       "      <td>467.0</td>\n",
       "      <td>508.0</td>\n",
       "      <td>117.0</td>\n",
       "      <td>87.0</td>\n",
       "      <td>21.0</td>\n",
       "      <td>...</td>\n",
       "      <td>victor</td>\n",
       "      <td>1100</td>\n",
       "      <td>martinez</td>\n",
       "      <td>victor</td>\n",
       "      <td>400121</td>\n",
       "      <td>martv001</td>\n",
       "      <td>martivi01</td>\n",
       "      <td>393</td>\n",
       "      <td>2002.0</td>\n",
       "      <td>2018.0</td>\n",
       "    </tr>\n",
       "    <tr>\n",
       "      <th>954</th>\n",
       "      <td>2018.0</td>\n",
       "      <td>Chris Davis</td>\n",
       "      <td>Orioles</td>\n",
       "      <td>32.0</td>\n",
       "      <td>128.0</td>\n",
       "      <td>470.0</td>\n",
       "      <td>522.0</td>\n",
       "      <td>79.0</td>\n",
       "      <td>51.0</td>\n",
       "      <td>12.0</td>\n",
       "      <td>...</td>\n",
       "      <td>chris</td>\n",
       "      <td>411</td>\n",
       "      <td>davis</td>\n",
       "      <td>chris</td>\n",
       "      <td>448801</td>\n",
       "      <td>davic003</td>\n",
       "      <td>davisch02</td>\n",
       "      <td>9272</td>\n",
       "      <td>2008.0</td>\n",
       "      <td>2019.0</td>\n",
       "    </tr>\n",
       "  </tbody>\n",
       "</table>\n",
       "<p>955 rows × 298 columns</p>\n",
       "</div>"
      ],
      "text/plain": [
       "     Season               Name       Team   Age      G     AB     PA      H  \\\n",
       "0    2018.0       Mookie Betts    Red Sox  25.0  136.0  520.0  614.0  180.0   \n",
       "1    2018.0         Mike Trout     Angels  26.0  140.0  471.0  608.0  147.0   \n",
       "2    2018.0       Jose Ramirez    Indians  25.0  157.0  578.0  698.0  156.0   \n",
       "3    2018.0        Ryder Jones     Giants  24.0    5.0    8.0    8.0    3.0   \n",
       "4    2018.0       Jose Ramirez    Indians  25.0  157.0  578.0  698.0  156.0   \n",
       "..      ...                ...        ...   ...    ...    ...    ...    ...   \n",
       "950  2018.0        Pat Valaika    Rockies  25.0   68.0  122.0  133.0   19.0   \n",
       "951  2018.0  Yangervis Solarte  Blue Jays  30.0  122.0  468.0  506.0  106.0   \n",
       "952  2018.0   Magneuris Sierra    Marlins  22.0   54.0  147.0  156.0   28.0   \n",
       "953  2018.0    Victor Martinez     Tigers  39.0  133.0  467.0  508.0  117.0   \n",
       "954  2018.0        Chris Davis    Orioles  32.0  128.0  470.0  522.0   79.0   \n",
       "\n",
       "       1B    2B  ...  first_name  index_y  name_last  name_first  key_mlbam  \\\n",
       "0    96.0  47.0  ...      mookie      166      betts      mookie     605141   \n",
       "1    80.0  24.0  ...        mike     1789      trout        mike     545361   \n",
       "2    75.0  38.0  ...        jose     1417    ramirez        jose     542432   \n",
       "3     1.0   0.0  ...       ryder      903      jones       ryder     624507   \n",
       "4    75.0  38.0  ...        jose     1418    ramirez        jose     608070   \n",
       "..    ...   ...  ...         ...      ...        ...         ...        ...   \n",
       "950  12.0   5.0  ...         pat     1813    valaika         pat     642162   \n",
       "951  69.0  20.0  ...   yangervis     1660    solarte   yangervis     500208   \n",
       "952  25.0   3.0  ...   magneuris     1615     sierra   magneuris     642423   \n",
       "953  87.0  21.0  ...      victor     1100   martinez      victor     400121   \n",
       "954  51.0  12.0  ...       chris      411      davis       chris     448801   \n",
       "\n",
       "     key_retro  key_bbref  key_fangraphs  mlb_played_first  mlb_played_last  \n",
       "0     bettm001  bettsmo01          13611            2014.0           2019.0  \n",
       "1     troum001  troutmi01          10155            2011.0           2019.0  \n",
       "2     ramij004  ramirjo02          10171            2014.0           2018.0  \n",
       "3     joner005  jonesry01          15982            2017.0           2018.0  \n",
       "4     ramij003  ramirjo01          13510            2013.0           2019.0  \n",
       "..         ...        ...            ...               ...              ...  \n",
       "950   valap001  valaipa01          14885            2016.0           2019.0  \n",
       "951   solay001  solarya01           5352            2014.0           2019.0  \n",
       "952   sierm002  sierrma01          17023            2017.0           2019.0  \n",
       "953   martv001  martivi01            393            2002.0           2018.0  \n",
       "954   davic003  davisch02           9272            2008.0           2019.0  \n",
       "\n",
       "[955 rows x 298 columns]"
      ]
     },
     "execution_count": 465,
     "metadata": {},
     "output_type": "execute_result"
    },
    {
     "data": {
      "application/javascript": [
       "\n",
       "            setTimeout(function() {\n",
       "                var nbb_cell_id = 465;\n",
       "                var nbb_unformatted_code = \"sql_query = \\\"\\\"\\\"\\nSELECT * FROM batting_stats18_wpid;\\n\\\"\\\"\\\"\\n\\nprint(sql_query)\\n\\ndf_batting = pd.read_sql_query(sql_query, con)\\ndf_batting.drop([\\\"index\\\", \\\"index_x\\\"], axis=1)\";\n",
       "                var nbb_formatted_code = \"sql_query = \\\"\\\"\\\"\\nSELECT * FROM batting_stats18_wpid;\\n\\\"\\\"\\\"\\n\\nprint(sql_query)\\n\\ndf_batting = pd.read_sql_query(sql_query, con)\\ndf_batting.drop([\\\"index\\\", \\\"index_x\\\"], axis=1)\";\n",
       "                var nbb_cells = Jupyter.notebook.get_cells();\n",
       "                for (var i = 0; i < nbb_cells.length; ++i) {\n",
       "                    if (nbb_cells[i].input_prompt_number == nbb_cell_id) {\n",
       "                        if (nbb_cells[i].get_text() == nbb_unformatted_code) {\n",
       "                             nbb_cells[i].set_text(nbb_formatted_code);\n",
       "                        }\n",
       "                        break;\n",
       "                    }\n",
       "                }\n",
       "            }, 500);\n",
       "            "
      ],
      "text/plain": [
       "<IPython.core.display.Javascript object>"
      ]
     },
     "metadata": {},
     "output_type": "display_data"
    }
   ],
   "source": [
    "sql_query = \"\"\"\n",
    "SELECT * FROM batting_stats18_wpid;\n",
    "\"\"\"\n",
    "\n",
    "print(sql_query)\n",
    "\n",
    "df_batting = pd.read_sql_query(sql_query, con)\n",
    "df_batting.drop([\"index\", \"index_x\"], axis=1)"
   ]
  },
  {
   "cell_type": "code",
   "execution_count": 466,
   "metadata": {
    "ExecuteTime": {
     "end_time": "2020-01-31T20:34:58.870910Z",
     "start_time": "2020-01-31T20:34:58.860160Z"
    }
   },
   "outputs": [
    {
     "data": {
      "text/plain": [
       "(955, 300)"
      ]
     },
     "execution_count": 466,
     "metadata": {},
     "output_type": "execute_result"
    },
    {
     "data": {
      "application/javascript": [
       "\n",
       "            setTimeout(function() {\n",
       "                var nbb_cell_id = 466;\n",
       "                var nbb_unformatted_code = \"df_batting.shape\";\n",
       "                var nbb_formatted_code = \"df_batting.shape\";\n",
       "                var nbb_cells = Jupyter.notebook.get_cells();\n",
       "                for (var i = 0; i < nbb_cells.length; ++i) {\n",
       "                    if (nbb_cells[i].input_prompt_number == nbb_cell_id) {\n",
       "                        if (nbb_cells[i].get_text() == nbb_unformatted_code) {\n",
       "                             nbb_cells[i].set_text(nbb_formatted_code);\n",
       "                        }\n",
       "                        break;\n",
       "                    }\n",
       "                }\n",
       "            }, 500);\n",
       "            "
      ],
      "text/plain": [
       "<IPython.core.display.Javascript object>"
      ]
     },
     "metadata": {},
     "output_type": "display_data"
    }
   ],
   "source": [
    "df_batting.shape"
   ]
  },
  {
   "cell_type": "code",
   "execution_count": 467,
   "metadata": {
    "ExecuteTime": {
     "end_time": "2020-01-31T20:35:01.960910Z",
     "start_time": "2020-01-31T20:35:00.845251Z"
    }
   },
   "outputs": [
    {
     "name": "stdout",
     "output_type": "stream",
     "text": [
      "\n",
      "SELECT * FROM pitching_stats_wpid;\n",
      "\n"
     ]
    },
    {
     "data": {
      "text/html": [
       "<div>\n",
       "<style scoped>\n",
       "    .dataframe tbody tr th:only-of-type {\n",
       "        vertical-align: middle;\n",
       "    }\n",
       "\n",
       "    .dataframe tbody tr th {\n",
       "        vertical-align: top;\n",
       "    }\n",
       "\n",
       "    .dataframe thead th {\n",
       "        text-align: right;\n",
       "    }\n",
       "</style>\n",
       "<table border=\"1\" class=\"dataframe\">\n",
       "  <thead>\n",
       "    <tr style=\"text-align: right;\">\n",
       "      <th></th>\n",
       "      <th>Season</th>\n",
       "      <th>Name</th>\n",
       "      <th>Team</th>\n",
       "      <th>Age</th>\n",
       "      <th>W</th>\n",
       "      <th>L</th>\n",
       "      <th>ERA</th>\n",
       "      <th>WAR</th>\n",
       "      <th>G</th>\n",
       "      <th>GS</th>\n",
       "      <th>...</th>\n",
       "      <th>first_name</th>\n",
       "      <th>last_name</th>\n",
       "      <th>name_last</th>\n",
       "      <th>name_first</th>\n",
       "      <th>key_mlbam</th>\n",
       "      <th>key_retro</th>\n",
       "      <th>key_bbref</th>\n",
       "      <th>key_fangraphs</th>\n",
       "      <th>mlb_played_first</th>\n",
       "      <th>mlb_played_last</th>\n",
       "    </tr>\n",
       "  </thead>\n",
       "  <tbody>\n",
       "    <tr>\n",
       "      <th>0</th>\n",
       "      <td>2018.0</td>\n",
       "      <td>Jacob deGrom</td>\n",
       "      <td>Mets</td>\n",
       "      <td>30.0</td>\n",
       "      <td>10.0</td>\n",
       "      <td>9.0</td>\n",
       "      <td>1.70</td>\n",
       "      <td>9.0</td>\n",
       "      <td>32.0</td>\n",
       "      <td>32.0</td>\n",
       "      <td>...</td>\n",
       "      <td>jacob</td>\n",
       "      <td>degrom</td>\n",
       "      <td>degrom</td>\n",
       "      <td>jacob</td>\n",
       "      <td>594798.0</td>\n",
       "      <td>degrj001</td>\n",
       "      <td>degroja01</td>\n",
       "      <td>10954.0</td>\n",
       "      <td>2014.0</td>\n",
       "      <td>2019.0</td>\n",
       "    </tr>\n",
       "    <tr>\n",
       "      <th>2</th>\n",
       "      <td>2018.0</td>\n",
       "      <td>Max Scherzer</td>\n",
       "      <td>Nationals</td>\n",
       "      <td>33.0</td>\n",
       "      <td>18.0</td>\n",
       "      <td>7.0</td>\n",
       "      <td>2.53</td>\n",
       "      <td>7.5</td>\n",
       "      <td>33.0</td>\n",
       "      <td>33.0</td>\n",
       "      <td>...</td>\n",
       "      <td>max</td>\n",
       "      <td>scherzer</td>\n",
       "      <td>scherzer</td>\n",
       "      <td>max</td>\n",
       "      <td>453286.0</td>\n",
       "      <td>schem001</td>\n",
       "      <td>scherma01</td>\n",
       "      <td>3137.0</td>\n",
       "      <td>2008.0</td>\n",
       "      <td>2019.0</td>\n",
       "    </tr>\n",
       "    <tr>\n",
       "      <th>4</th>\n",
       "      <td>2018.0</td>\n",
       "      <td>Scott Kingery</td>\n",
       "      <td>Phillies</td>\n",
       "      <td>24.0</td>\n",
       "      <td>0.0</td>\n",
       "      <td>0.0</td>\n",
       "      <td>13.50</td>\n",
       "      <td>0.0</td>\n",
       "      <td>1.0</td>\n",
       "      <td>0.0</td>\n",
       "      <td>...</td>\n",
       "      <td>scott</td>\n",
       "      <td>kingery</td>\n",
       "      <td>kingery</td>\n",
       "      <td>scott</td>\n",
       "      <td>664068.0</td>\n",
       "      <td>kings001</td>\n",
       "      <td>kingesc01</td>\n",
       "      <td>17975.0</td>\n",
       "      <td>2018.0</td>\n",
       "      <td>2019.0</td>\n",
       "    </tr>\n",
       "    <tr>\n",
       "      <th>8</th>\n",
       "      <td>2018.0</td>\n",
       "      <td>Justin Verlander</td>\n",
       "      <td>Astros</td>\n",
       "      <td>35.0</td>\n",
       "      <td>16.0</td>\n",
       "      <td>9.0</td>\n",
       "      <td>2.52</td>\n",
       "      <td>6.6</td>\n",
       "      <td>34.0</td>\n",
       "      <td>34.0</td>\n",
       "      <td>...</td>\n",
       "      <td>justin</td>\n",
       "      <td>verlander</td>\n",
       "      <td>verlander</td>\n",
       "      <td>justin</td>\n",
       "      <td>434378.0</td>\n",
       "      <td>verlj001</td>\n",
       "      <td>verlaju01</td>\n",
       "      <td>8700.0</td>\n",
       "      <td>2005.0</td>\n",
       "      <td>2019.0</td>\n",
       "    </tr>\n",
       "    <tr>\n",
       "      <th>12</th>\n",
       "      <td>2018.0</td>\n",
       "      <td>Chris Sale</td>\n",
       "      <td>Red Sox</td>\n",
       "      <td>29.0</td>\n",
       "      <td>12.0</td>\n",
       "      <td>4.0</td>\n",
       "      <td>2.11</td>\n",
       "      <td>6.2</td>\n",
       "      <td>27.0</td>\n",
       "      <td>27.0</td>\n",
       "      <td>...</td>\n",
       "      <td>chris</td>\n",
       "      <td>sale</td>\n",
       "      <td>sale</td>\n",
       "      <td>chris</td>\n",
       "      <td>519242.0</td>\n",
       "      <td>salec001</td>\n",
       "      <td>salech01</td>\n",
       "      <td>10603.0</td>\n",
       "      <td>2010.0</td>\n",
       "      <td>2019.0</td>\n",
       "    </tr>\n",
       "    <tr>\n",
       "      <th>...</th>\n",
       "      <td>...</td>\n",
       "      <td>...</td>\n",
       "      <td>...</td>\n",
       "      <td>...</td>\n",
       "      <td>...</td>\n",
       "      <td>...</td>\n",
       "      <td>...</td>\n",
       "      <td>...</td>\n",
       "      <td>...</td>\n",
       "      <td>...</td>\n",
       "      <td>...</td>\n",
       "      <td>...</td>\n",
       "      <td>...</td>\n",
       "      <td>...</td>\n",
       "      <td>...</td>\n",
       "      <td>...</td>\n",
       "      <td>...</td>\n",
       "      <td>...</td>\n",
       "      <td>...</td>\n",
       "      <td>...</td>\n",
       "      <td>...</td>\n",
       "    </tr>\n",
       "    <tr>\n",
       "      <th>2334</th>\n",
       "      <td>2018.0</td>\n",
       "      <td>Blaine Boyer</td>\n",
       "      <td>Royals</td>\n",
       "      <td>36.0</td>\n",
       "      <td>2.0</td>\n",
       "      <td>1.0</td>\n",
       "      <td>12.05</td>\n",
       "      <td>-0.8</td>\n",
       "      <td>21.0</td>\n",
       "      <td>0.0</td>\n",
       "      <td>...</td>\n",
       "      <td>blaine</td>\n",
       "      <td>boyer</td>\n",
       "      <td>boyer</td>\n",
       "      <td>blaine</td>\n",
       "      <td>430641.0</td>\n",
       "      <td>boyeb001</td>\n",
       "      <td>boyerbl01</td>\n",
       "      <td>2237.0</td>\n",
       "      <td>2005.0</td>\n",
       "      <td>2018.0</td>\n",
       "    </tr>\n",
       "    <tr>\n",
       "      <th>2336</th>\n",
       "      <td>2018.0</td>\n",
       "      <td>Brandon Maurer</td>\n",
       "      <td>Royals</td>\n",
       "      <td>27.0</td>\n",
       "      <td>0.0</td>\n",
       "      <td>4.0</td>\n",
       "      <td>7.76</td>\n",
       "      <td>-0.8</td>\n",
       "      <td>37.0</td>\n",
       "      <td>0.0</td>\n",
       "      <td>...</td>\n",
       "      <td>brandon</td>\n",
       "      <td>maurer</td>\n",
       "      <td>maurer</td>\n",
       "      <td>brandon</td>\n",
       "      <td>543506.0</td>\n",
       "      <td>maurb001</td>\n",
       "      <td>maurebr01</td>\n",
       "      <td>4878.0</td>\n",
       "      <td>2013.0</td>\n",
       "      <td>2018.0</td>\n",
       "    </tr>\n",
       "    <tr>\n",
       "      <th>2341</th>\n",
       "      <td>2018.0</td>\n",
       "      <td>Matt Albers</td>\n",
       "      <td>Brewers</td>\n",
       "      <td>35.0</td>\n",
       "      <td>3.0</td>\n",
       "      <td>3.0</td>\n",
       "      <td>7.34</td>\n",
       "      <td>-0.9</td>\n",
       "      <td>34.0</td>\n",
       "      <td>0.0</td>\n",
       "      <td>...</td>\n",
       "      <td>matt</td>\n",
       "      <td>albers</td>\n",
       "      <td>albers</td>\n",
       "      <td>matt</td>\n",
       "      <td>458006.0</td>\n",
       "      <td>albem001</td>\n",
       "      <td>alberma01</td>\n",
       "      <td>4300.0</td>\n",
       "      <td>2006.0</td>\n",
       "      <td>2019.0</td>\n",
       "    </tr>\n",
       "    <tr>\n",
       "      <th>2359</th>\n",
       "      <td>2018.0</td>\n",
       "      <td>Jarlin Garcia</td>\n",
       "      <td>Marlins</td>\n",
       "      <td>25.0</td>\n",
       "      <td>3.0</td>\n",
       "      <td>3.0</td>\n",
       "      <td>4.91</td>\n",
       "      <td>-1.3</td>\n",
       "      <td>29.0</td>\n",
       "      <td>7.0</td>\n",
       "      <td>...</td>\n",
       "      <td>jarlin</td>\n",
       "      <td>garcia</td>\n",
       "      <td>garcia</td>\n",
       "      <td>jarlin</td>\n",
       "      <td>606424.0</td>\n",
       "      <td>garcj006</td>\n",
       "      <td>garcija04</td>\n",
       "      <td>18282.0</td>\n",
       "      <td>2017.0</td>\n",
       "      <td>2019.0</td>\n",
       "    </tr>\n",
       "    <tr>\n",
       "      <th>2360</th>\n",
       "      <td>2018.0</td>\n",
       "      <td>Josh Tomlin</td>\n",
       "      <td>Indians</td>\n",
       "      <td>33.0</td>\n",
       "      <td>2.0</td>\n",
       "      <td>5.0</td>\n",
       "      <td>6.14</td>\n",
       "      <td>-1.4</td>\n",
       "      <td>32.0</td>\n",
       "      <td>9.0</td>\n",
       "      <td>...</td>\n",
       "      <td>josh</td>\n",
       "      <td>tomlin</td>\n",
       "      <td>tomlin</td>\n",
       "      <td>josh</td>\n",
       "      <td>458708.0</td>\n",
       "      <td>tomlj001</td>\n",
       "      <td>tomlijo01</td>\n",
       "      <td>9388.0</td>\n",
       "      <td>2010.0</td>\n",
       "      <td>2019.0</td>\n",
       "    </tr>\n",
       "  </tbody>\n",
       "</table>\n",
       "<p>789 rows × 309 columns</p>\n",
       "</div>"
      ],
      "text/plain": [
       "      Season              Name       Team   Age     W    L    ERA  WAR     G  \\\n",
       "0     2018.0      Jacob deGrom       Mets  30.0  10.0  9.0   1.70  9.0  32.0   \n",
       "2     2018.0      Max Scherzer  Nationals  33.0  18.0  7.0   2.53  7.5  33.0   \n",
       "4     2018.0     Scott Kingery   Phillies  24.0   0.0  0.0  13.50  0.0   1.0   \n",
       "8     2018.0  Justin Verlander     Astros  35.0  16.0  9.0   2.52  6.6  34.0   \n",
       "12    2018.0        Chris Sale    Red Sox  29.0  12.0  4.0   2.11  6.2  27.0   \n",
       "...      ...               ...        ...   ...   ...  ...    ...  ...   ...   \n",
       "2334  2018.0      Blaine Boyer     Royals  36.0   2.0  1.0  12.05 -0.8  21.0   \n",
       "2336  2018.0    Brandon Maurer     Royals  27.0   0.0  4.0   7.76 -0.8  37.0   \n",
       "2341  2018.0       Matt Albers    Brewers  35.0   3.0  3.0   7.34 -0.9  34.0   \n",
       "2359  2018.0     Jarlin Garcia    Marlins  25.0   3.0  3.0   4.91 -1.3  29.0   \n",
       "2360  2018.0       Josh Tomlin    Indians  33.0   2.0  5.0   6.14 -1.4  32.0   \n",
       "\n",
       "        GS  ...  first_name  last_name  name_last  name_first  key_mlbam  \\\n",
       "0     32.0  ...       jacob     degrom     degrom       jacob   594798.0   \n",
       "2     33.0  ...         max   scherzer   scherzer         max   453286.0   \n",
       "4      0.0  ...       scott    kingery    kingery       scott   664068.0   \n",
       "8     34.0  ...      justin  verlander  verlander      justin   434378.0   \n",
       "12    27.0  ...       chris       sale       sale       chris   519242.0   \n",
       "...    ...  ...         ...        ...        ...         ...        ...   \n",
       "2334   0.0  ...      blaine      boyer      boyer      blaine   430641.0   \n",
       "2336   0.0  ...     brandon     maurer     maurer     brandon   543506.0   \n",
       "2341   0.0  ...        matt     albers     albers        matt   458006.0   \n",
       "2359   7.0  ...      jarlin     garcia     garcia      jarlin   606424.0   \n",
       "2360   9.0  ...        josh     tomlin     tomlin        josh   458708.0   \n",
       "\n",
       "      key_retro  key_bbref  key_fangraphs  mlb_played_first  mlb_played_last  \n",
       "0      degrj001  degroja01        10954.0            2014.0           2019.0  \n",
       "2      schem001  scherma01         3137.0            2008.0           2019.0  \n",
       "4      kings001  kingesc01        17975.0            2018.0           2019.0  \n",
       "8      verlj001  verlaju01         8700.0            2005.0           2019.0  \n",
       "12     salec001   salech01        10603.0            2010.0           2019.0  \n",
       "...         ...        ...            ...               ...              ...  \n",
       "2334   boyeb001  boyerbl01         2237.0            2005.0           2018.0  \n",
       "2336   maurb001  maurebr01         4878.0            2013.0           2018.0  \n",
       "2341   albem001  alberma01         4300.0            2006.0           2019.0  \n",
       "2359   garcj006  garcija04        18282.0            2017.0           2019.0  \n",
       "2360   tomlj001  tomlijo01         9388.0            2010.0           2019.0  \n",
       "\n",
       "[789 rows x 309 columns]"
      ]
     },
     "execution_count": 467,
     "metadata": {},
     "output_type": "execute_result"
    },
    {
     "data": {
      "application/javascript": [
       "\n",
       "            setTimeout(function() {\n",
       "                var nbb_cell_id = 467;\n",
       "                var nbb_unformatted_code = \"sql_query = \\\"\\\"\\\"\\nSELECT * FROM pitching_stats_wpid;\\n\\\"\\\"\\\"\\n\\nprint(sql_query)\\n\\ndf_pitching = pd.read_sql_query(sql_query, con)\\ndf_pitching = df_pitching[df_pitching[\\\"Season\\\"] == 2018].copy()\\n\\ndf_pitching.drop([\\\"index\\\"], axis=1)\";\n",
       "                var nbb_formatted_code = \"sql_query = \\\"\\\"\\\"\\nSELECT * FROM pitching_stats_wpid;\\n\\\"\\\"\\\"\\n\\nprint(sql_query)\\n\\ndf_pitching = pd.read_sql_query(sql_query, con)\\ndf_pitching = df_pitching[df_pitching[\\\"Season\\\"] == 2018].copy()\\n\\ndf_pitching.drop([\\\"index\\\"], axis=1)\";\n",
       "                var nbb_cells = Jupyter.notebook.get_cells();\n",
       "                for (var i = 0; i < nbb_cells.length; ++i) {\n",
       "                    if (nbb_cells[i].input_prompt_number == nbb_cell_id) {\n",
       "                        if (nbb_cells[i].get_text() == nbb_unformatted_code) {\n",
       "                             nbb_cells[i].set_text(nbb_formatted_code);\n",
       "                        }\n",
       "                        break;\n",
       "                    }\n",
       "                }\n",
       "            }, 500);\n",
       "            "
      ],
      "text/plain": [
       "<IPython.core.display.Javascript object>"
      ]
     },
     "metadata": {},
     "output_type": "display_data"
    }
   ],
   "source": [
    "sql_query = \"\"\"\n",
    "SELECT * FROM pitching_stats_wpid;\n",
    "\"\"\"\n",
    "\n",
    "print(sql_query)\n",
    "\n",
    "df_pitching = pd.read_sql_query(sql_query, con)\n",
    "df_pitching = df_pitching[df_pitching[\"Season\"] == 2018].copy()\n",
    "\n",
    "df_pitching.drop([\"index\"], axis=1)"
   ]
  },
  {
   "cell_type": "code",
   "execution_count": 468,
   "metadata": {
    "ExecuteTime": {
     "end_time": "2020-01-31T20:35:04.264497Z",
     "start_time": "2020-01-31T20:35:04.253493Z"
    }
   },
   "outputs": [
    {
     "data": {
      "text/plain": [
       "(789, 310)"
      ]
     },
     "execution_count": 468,
     "metadata": {},
     "output_type": "execute_result"
    },
    {
     "data": {
      "application/javascript": [
       "\n",
       "            setTimeout(function() {\n",
       "                var nbb_cell_id = 468;\n",
       "                var nbb_unformatted_code = \"df_pitching.shape\";\n",
       "                var nbb_formatted_code = \"df_pitching.shape\";\n",
       "                var nbb_cells = Jupyter.notebook.get_cells();\n",
       "                for (var i = 0; i < nbb_cells.length; ++i) {\n",
       "                    if (nbb_cells[i].input_prompt_number == nbb_cell_id) {\n",
       "                        if (nbb_cells[i].get_text() == nbb_unformatted_code) {\n",
       "                             nbb_cells[i].set_text(nbb_formatted_code);\n",
       "                        }\n",
       "                        break;\n",
       "                    }\n",
       "                }\n",
       "            }, 500);\n",
       "            "
      ],
      "text/plain": [
       "<IPython.core.display.Javascript object>"
      ]
     },
     "metadata": {},
     "output_type": "display_data"
    }
   ],
   "source": [
    "df_pitching.shape"
   ]
  },
  {
   "cell_type": "code",
   "execution_count": 469,
   "metadata": {
    "ExecuteTime": {
     "end_time": "2020-01-31T20:35:19.153495Z",
     "start_time": "2020-01-31T20:35:06.526186Z"
    }
   },
   "outputs": [
    {
     "name": "stdout",
     "output_type": "stream",
     "text": [
      "\n",
      "    (SELECT statcast.game_date, statcast.batter,\n",
      "    statcast.pitcher, statcast.events,\n",
      "    statcast.stand, statcast.p_throws,\n",
      "    statcast.inning_topbot\n",
      "    FROM statcast\n",
      "    WHERE statcast.events IS NOT NULL);\n",
      "    \n"
     ]
    },
    {
     "data": {
      "application/javascript": [
       "\n",
       "            setTimeout(function() {\n",
       "                var nbb_cell_id = 469;\n",
       "                var nbb_unformatted_code = \"df_sc_events = get_sc_event_data()\";\n",
       "                var nbb_formatted_code = \"df_sc_events = get_sc_event_data()\";\n",
       "                var nbb_cells = Jupyter.notebook.get_cells();\n",
       "                for (var i = 0; i < nbb_cells.length; ++i) {\n",
       "                    if (nbb_cells[i].input_prompt_number == nbb_cell_id) {\n",
       "                        if (nbb_cells[i].get_text() == nbb_unformatted_code) {\n",
       "                             nbb_cells[i].set_text(nbb_formatted_code);\n",
       "                        }\n",
       "                        break;\n",
       "                    }\n",
       "                }\n",
       "            }, 500);\n",
       "            "
      ],
      "text/plain": [
       "<IPython.core.display.Javascript object>"
      ]
     },
     "metadata": {},
     "output_type": "display_data"
    }
   ],
   "source": [
    "df_sc_events = get_sc_event_data()"
   ]
  },
  {
   "cell_type": "code",
   "execution_count": 471,
   "metadata": {
    "ExecuteTime": {
     "end_time": "2020-01-31T20:35:23.223158Z",
     "start_time": "2020-01-31T20:35:23.209542Z"
    }
   },
   "outputs": [
    {
     "name": "stdout",
     "output_type": "stream",
     "text": [
      "size of data frame:  (555396, 7)\n"
     ]
    },
    {
     "data": {
      "application/javascript": [
       "\n",
       "            setTimeout(function() {\n",
       "                var nbb_cell_id = 471;\n",
       "                var nbb_unformatted_code = \"print(\\\"size of data frame: \\\", df_sc_events.shape)\";\n",
       "                var nbb_formatted_code = \"print(\\\"size of data frame: \\\", df_sc_events.shape)\";\n",
       "                var nbb_cells = Jupyter.notebook.get_cells();\n",
       "                for (var i = 0; i < nbb_cells.length; ++i) {\n",
       "                    if (nbb_cells[i].input_prompt_number == nbb_cell_id) {\n",
       "                        if (nbb_cells[i].get_text() == nbb_unformatted_code) {\n",
       "                             nbb_cells[i].set_text(nbb_formatted_code);\n",
       "                        }\n",
       "                        break;\n",
       "                    }\n",
       "                }\n",
       "            }, 500);\n",
       "            "
      ],
      "text/plain": [
       "<IPython.core.display.Javascript object>"
      ]
     },
     "metadata": {},
     "output_type": "display_data"
    }
   ],
   "source": [
    "print(\"size of data frame: \", df_sc_events.shape)"
   ]
  },
  {
   "cell_type": "code",
   "execution_count": 472,
   "metadata": {
    "ExecuteTime": {
     "end_time": "2020-01-31T20:35:25.475353Z",
     "start_time": "2020-01-31T20:35:25.455293Z"
    }
   },
   "outputs": [
    {
     "data": {
      "text/html": [
       "<div>\n",
       "<style scoped>\n",
       "    .dataframe tbody tr th:only-of-type {\n",
       "        vertical-align: middle;\n",
       "    }\n",
       "\n",
       "    .dataframe tbody tr th {\n",
       "        vertical-align: top;\n",
       "    }\n",
       "\n",
       "    .dataframe thead th {\n",
       "        text-align: right;\n",
       "    }\n",
       "</style>\n",
       "<table border=\"1\" class=\"dataframe\">\n",
       "  <thead>\n",
       "    <tr style=\"text-align: right;\">\n",
       "      <th></th>\n",
       "      <th>game_date</th>\n",
       "      <th>batter</th>\n",
       "      <th>pitcher</th>\n",
       "      <th>events</th>\n",
       "      <th>stand</th>\n",
       "      <th>p_throws</th>\n",
       "      <th>inning_topbot</th>\n",
       "    </tr>\n",
       "  </thead>\n",
       "  <tbody>\n",
       "    <tr>\n",
       "      <th>0</th>\n",
       "      <td>2017-04-03</td>\n",
       "      <td>425783.0</td>\n",
       "      <td>446372.0</td>\n",
       "      <td>strikeout</td>\n",
       "      <td>L</td>\n",
       "      <td>R</td>\n",
       "      <td>Bot</td>\n",
       "    </tr>\n",
       "    <tr>\n",
       "      <th>1</th>\n",
       "      <td>2017-04-03</td>\n",
       "      <td>488726.0</td>\n",
       "      <td>506433.0</td>\n",
       "      <td>field_out</td>\n",
       "      <td>L</td>\n",
       "      <td>R</td>\n",
       "      <td>Top</td>\n",
       "    </tr>\n",
       "    <tr>\n",
       "      <th>2</th>\n",
       "      <td>2017-04-03</td>\n",
       "      <td>596019.0</td>\n",
       "      <td>506433.0</td>\n",
       "      <td>grounded_into_double_play</td>\n",
       "      <td>L</td>\n",
       "      <td>R</td>\n",
       "      <td>Top</td>\n",
       "    </tr>\n",
       "    <tr>\n",
       "      <th>3</th>\n",
       "      <td>2017-04-03</td>\n",
       "      <td>467793.0</td>\n",
       "      <td>506433.0</td>\n",
       "      <td>walk</td>\n",
       "      <td>L</td>\n",
       "      <td>R</td>\n",
       "      <td>Top</td>\n",
       "    </tr>\n",
       "    <tr>\n",
       "      <th>4</th>\n",
       "      <td>2017-04-03</td>\n",
       "      <td>501659.0</td>\n",
       "      <td>506433.0</td>\n",
       "      <td>walk</td>\n",
       "      <td>L</td>\n",
       "      <td>R</td>\n",
       "      <td>Top</td>\n",
       "    </tr>\n",
       "  </tbody>\n",
       "</table>\n",
       "</div>"
      ],
      "text/plain": [
       "   game_date    batter   pitcher                     events stand p_throws  \\\n",
       "0 2017-04-03  425783.0  446372.0                  strikeout     L        R   \n",
       "1 2017-04-03  488726.0  506433.0                  field_out     L        R   \n",
       "2 2017-04-03  596019.0  506433.0  grounded_into_double_play     L        R   \n",
       "3 2017-04-03  467793.0  506433.0                       walk     L        R   \n",
       "4 2017-04-03  501659.0  506433.0                       walk     L        R   \n",
       "\n",
       "  inning_topbot  \n",
       "0           Bot  \n",
       "1           Top  \n",
       "2           Top  \n",
       "3           Top  \n",
       "4           Top  "
      ]
     },
     "execution_count": 472,
     "metadata": {},
     "output_type": "execute_result"
    },
    {
     "data": {
      "application/javascript": [
       "\n",
       "            setTimeout(function() {\n",
       "                var nbb_cell_id = 472;\n",
       "                var nbb_unformatted_code = \"df_sc_events.head()\";\n",
       "                var nbb_formatted_code = \"df_sc_events.head()\";\n",
       "                var nbb_cells = Jupyter.notebook.get_cells();\n",
       "                for (var i = 0; i < nbb_cells.length; ++i) {\n",
       "                    if (nbb_cells[i].input_prompt_number == nbb_cell_id) {\n",
       "                        if (nbb_cells[i].get_text() == nbb_unformatted_code) {\n",
       "                             nbb_cells[i].set_text(nbb_formatted_code);\n",
       "                        }\n",
       "                        break;\n",
       "                    }\n",
       "                }\n",
       "            }, 500);\n",
       "            "
      ],
      "text/plain": [
       "<IPython.core.display.Javascript object>"
      ]
     },
     "metadata": {},
     "output_type": "display_data"
    }
   ],
   "source": [
    "df_sc_events.head()"
   ]
  },
  {
   "cell_type": "code",
   "execution_count": 473,
   "metadata": {
    "ExecuteTime": {
     "end_time": "2020-01-31T20:35:29.216908Z",
     "start_time": "2020-01-31T20:35:29.123225Z"
    }
   },
   "outputs": [
    {
     "data": {
      "application/javascript": [
       "\n",
       "            setTimeout(function() {\n",
       "                var nbb_cell_id = 473;\n",
       "                var nbb_unformatted_code = \"df_sc_events4model = df_sc_events.copy()\";\n",
       "                var nbb_formatted_code = \"df_sc_events4model = df_sc_events.copy()\";\n",
       "                var nbb_cells = Jupyter.notebook.get_cells();\n",
       "                for (var i = 0; i < nbb_cells.length; ++i) {\n",
       "                    if (nbb_cells[i].input_prompt_number == nbb_cell_id) {\n",
       "                        if (nbb_cells[i].get_text() == nbb_unformatted_code) {\n",
       "                             nbb_cells[i].set_text(nbb_formatted_code);\n",
       "                        }\n",
       "                        break;\n",
       "                    }\n",
       "                }\n",
       "            }, 500);\n",
       "            "
      ],
      "text/plain": [
       "<IPython.core.display.Javascript object>"
      ]
     },
     "metadata": {},
     "output_type": "display_data"
    }
   ],
   "source": [
    "df_sc_events4model = df_sc_events.copy()"
   ]
  },
  {
   "cell_type": "code",
   "execution_count": 474,
   "metadata": {
    "ExecuteTime": {
     "end_time": "2020-01-31T20:35:31.382653Z",
     "start_time": "2020-01-31T20:35:31.373243Z"
    }
   },
   "outputs": [
    {
     "data": {
      "text/plain": [
       "(555396, 7)"
      ]
     },
     "execution_count": 474,
     "metadata": {},
     "output_type": "execute_result"
    },
    {
     "data": {
      "application/javascript": [
       "\n",
       "            setTimeout(function() {\n",
       "                var nbb_cell_id = 474;\n",
       "                var nbb_unformatted_code = \"df_sc_events4model.shape\";\n",
       "                var nbb_formatted_code = \"df_sc_events4model.shape\";\n",
       "                var nbb_cells = Jupyter.notebook.get_cells();\n",
       "                for (var i = 0; i < nbb_cells.length; ++i) {\n",
       "                    if (nbb_cells[i].input_prompt_number == nbb_cell_id) {\n",
       "                        if (nbb_cells[i].get_text() == nbb_unformatted_code) {\n",
       "                             nbb_cells[i].set_text(nbb_formatted_code);\n",
       "                        }\n",
       "                        break;\n",
       "                    }\n",
       "                }\n",
       "            }, 500);\n",
       "            "
      ],
      "text/plain": [
       "<IPython.core.display.Javascript object>"
      ]
     },
     "metadata": {},
     "output_type": "display_data"
    }
   ],
   "source": [
    "df_sc_events4model.shape"
   ]
  },
  {
   "cell_type": "code",
   "execution_count": 475,
   "metadata": {
    "ExecuteTime": {
     "end_time": "2020-01-31T20:35:33.895236Z",
     "start_time": "2020-01-31T20:35:33.321666Z"
    }
   },
   "outputs": [
    {
     "data": {
      "text/plain": [
       "<matplotlib.axes._subplots.AxesSubplot at 0x1a292e2b00>"
      ]
     },
     "execution_count": 475,
     "metadata": {},
     "output_type": "execute_result"
    },
    {
     "data": {
      "image/png": "[encoded data removed]",
      "text/plain": [
       "<Figure size 432x288 with 1 Axes>"
      ]
     },
     "metadata": {
      "needs_background": "light"
     },
     "output_type": "display_data"
    },
    {
     "data": {
      "application/javascript": [
       "\n",
       "            setTimeout(function() {\n",
       "                var nbb_cell_id = 475;\n",
       "                var nbb_unformatted_code = \"df_batting_stats_wpid[\\\"AB\\\"].hist()\";\n",
       "                var nbb_formatted_code = \"df_batting_stats_wpid[\\\"AB\\\"].hist()\";\n",
       "                var nbb_cells = Jupyter.notebook.get_cells();\n",
       "                for (var i = 0; i < nbb_cells.length; ++i) {\n",
       "                    if (nbb_cells[i].input_prompt_number == nbb_cell_id) {\n",
       "                        if (nbb_cells[i].get_text() == nbb_unformatted_code) {\n",
       "                             nbb_cells[i].set_text(nbb_formatted_code);\n",
       "                        }\n",
       "                        break;\n",
       "                    }\n",
       "                }\n",
       "            }, 500);\n",
       "            "
      ],
      "text/plain": [
       "<IPython.core.display.Javascript object>"
      ]
     },
     "metadata": {},
     "output_type": "display_data"
    }
   ],
   "source": [
    "df_batting_stats_wpid[\"AB\"].hist()"
   ]
  },
  {
   "cell_type": "code",
   "execution_count": 476,
   "metadata": {
    "ExecuteTime": {
     "end_time": "2020-01-31T20:35:36.026648Z",
     "start_time": "2020-01-31T20:35:35.949659Z"
    }
   },
   "outputs": [
    {
     "data": {
      "application/javascript": [
       "\n",
       "            setTimeout(function() {\n",
       "                var nbb_cell_id = 476;\n",
       "                var nbb_unformatted_code = \"df_batting_stats_wpid_100ab = df_batting_stats_wpid[\\n    df_batting_stats_wpid[\\\"AB\\\"] > 100\\n].copy()\";\n",
       "                var nbb_formatted_code = \"df_batting_stats_wpid_100ab = df_batting_stats_wpid[\\n    df_batting_stats_wpid[\\\"AB\\\"] > 100\\n].copy()\";\n",
       "                var nbb_cells = Jupyter.notebook.get_cells();\n",
       "                for (var i = 0; i < nbb_cells.length; ++i) {\n",
       "                    if (nbb_cells[i].input_prompt_number == nbb_cell_id) {\n",
       "                        if (nbb_cells[i].get_text() == nbb_unformatted_code) {\n",
       "                             nbb_cells[i].set_text(nbb_formatted_code);\n",
       "                        }\n",
       "                        break;\n",
       "                    }\n",
       "                }\n",
       "            }, 500);\n",
       "            "
      ],
      "text/plain": [
       "<IPython.core.display.Javascript object>"
      ]
     },
     "metadata": {},
     "output_type": "display_data"
    }
   ],
   "source": [
    "df_batting_stats_wpid_100ab = df_batting_stats_wpid[\n",
    "    df_batting_stats_wpid[\"AB\"] > 100\n",
    "].copy()"
   ]
  },
  {
   "cell_type": "code",
   "execution_count": 477,
   "metadata": {
    "ExecuteTime": {
     "end_time": "2020-01-31T20:35:38.154066Z",
     "start_time": "2020-01-31T20:35:38.145054Z"
    }
   },
   "outputs": [
    {
     "data": {
      "text/plain": [
       "(420, 300)"
      ]
     },
     "execution_count": 477,
     "metadata": {},
     "output_type": "execute_result"
    },
    {
     "data": {
      "application/javascript": [
       "\n",
       "            setTimeout(function() {\n",
       "                var nbb_cell_id = 477;\n",
       "                var nbb_unformatted_code = \"df_batting_stats_wpid_100ab.shape\";\n",
       "                var nbb_formatted_code = \"df_batting_stats_wpid_100ab.shape\";\n",
       "                var nbb_cells = Jupyter.notebook.get_cells();\n",
       "                for (var i = 0; i < nbb_cells.length; ++i) {\n",
       "                    if (nbb_cells[i].input_prompt_number == nbb_cell_id) {\n",
       "                        if (nbb_cells[i].get_text() == nbb_unformatted_code) {\n",
       "                             nbb_cells[i].set_text(nbb_formatted_code);\n",
       "                        }\n",
       "                        break;\n",
       "                    }\n",
       "                }\n",
       "            }, 500);\n",
       "            "
      ],
      "text/plain": [
       "<IPython.core.display.Javascript object>"
      ]
     },
     "metadata": {},
     "output_type": "display_data"
    }
   ],
   "source": [
    "df_batting_stats_wpid_100ab.shape"
   ]
  },
  {
   "cell_type": "code",
   "execution_count": 478,
   "metadata": {
    "ExecuteTime": {
     "end_time": "2020-01-31T20:35:40.354919Z",
     "start_time": "2020-01-31T20:35:40.337406Z"
    }
   },
   "outputs": [
    {
     "data": {
      "text/plain": [
       "955"
      ]
     },
     "execution_count": 478,
     "metadata": {},
     "output_type": "execute_result"
    },
    {
     "data": {
      "application/javascript": [
       "\n",
       "            setTimeout(function() {\n",
       "                var nbb_cell_id = 478;\n",
       "                var nbb_unformatted_code = \"len(df_batting_stats_wpid[\\\"key_mlbam\\\"].unique())\";\n",
       "                var nbb_formatted_code = \"len(df_batting_stats_wpid[\\\"key_mlbam\\\"].unique())\";\n",
       "                var nbb_cells = Jupyter.notebook.get_cells();\n",
       "                for (var i = 0; i < nbb_cells.length; ++i) {\n",
       "                    if (nbb_cells[i].input_prompt_number == nbb_cell_id) {\n",
       "                        if (nbb_cells[i].get_text() == nbb_unformatted_code) {\n",
       "                             nbb_cells[i].set_text(nbb_formatted_code);\n",
       "                        }\n",
       "                        break;\n",
       "                    }\n",
       "                }\n",
       "            }, 500);\n",
       "            "
      ],
      "text/plain": [
       "<IPython.core.display.Javascript object>"
      ]
     },
     "metadata": {},
     "output_type": "display_data"
    }
   ],
   "source": [
    "len(df_batting_stats_wpid[\"key_mlbam\"].unique())"
   ]
  },
  {
   "cell_type": "markdown",
   "metadata": {},
   "source": [
    "## Batter features"
   ]
  },
  {
   "cell_type": "code",
   "execution_count": 642,
   "metadata": {
    "ExecuteTime": {
     "end_time": "2020-02-02T22:08:01.933520Z",
     "start_time": "2020-02-02T22:07:58.755300Z"
    }
   },
   "outputs": [
    {
     "data": {
      "application/javascript": [
       "\n",
       "            setTimeout(function() {\n",
       "                var nbb_cell_id = 642;\n",
       "                var nbb_unformatted_code = \"# Merge batter characteristics\\ncolbatter2get = [\\\"WAR\\\", \\\"OBP\\\", \\\"SLG\\\", \\\"OPS\\\", \\\"BB_perc\\\", \\\"K_perc\\\", \\\"key_mlbam\\\"]\\n\\ndf_sc_events4model_b = pd.merge(\\n    df_sc_events4model,\\n    df_batting_stats_wpid_100ab[colbatter2get],\\n    left_on=\\\"batter\\\",\\n    right_on=\\\"key_mlbam\\\",\\n)\";\n",
       "                var nbb_formatted_code = \"# Merge batter characteristics\\ncolbatter2get = [\\\"WAR\\\", \\\"OBP\\\", \\\"SLG\\\", \\\"OPS\\\", \\\"BB_perc\\\", \\\"K_perc\\\", \\\"key_mlbam\\\"]\\n\\ndf_sc_events4model_b = pd.merge(\\n    df_sc_events4model,\\n    df_batting_stats_wpid_100ab[colbatter2get],\\n    left_on=\\\"batter\\\",\\n    right_on=\\\"key_mlbam\\\",\\n)\";\n",
       "                var nbb_cells = Jupyter.notebook.get_cells();\n",
       "                for (var i = 0; i < nbb_cells.length; ++i) {\n",
       "                    if (nbb_cells[i].input_prompt_number == nbb_cell_id) {\n",
       "                        if (nbb_cells[i].get_text() == nbb_unformatted_code) {\n",
       "                             nbb_cells[i].set_text(nbb_formatted_code);\n",
       "                        }\n",
       "                        break;\n",
       "                    }\n",
       "                }\n",
       "            }, 500);\n",
       "            "
      ],
      "text/plain": [
       "<IPython.core.display.Javascript object>"
      ]
     },
     "metadata": {},
     "output_type": "display_data"
    }
   ],
   "source": [
    "# Merge batter characteristics\n",
    "colbatter2get = [\"WAR\", \"OBP\", \"SLG\", \"OPS\", \"BB_perc\", \"K_perc\", \"key_mlbam\"]\n",
    "\n",
    "df_sc_events4model_b = pd.merge(\n",
    "    df_sc_events4model,\n",
    "    df_batting_stats_wpid_100ab[colbatter2get],\n",
    "    left_on=\"batter\",\n",
    "    right_on=\"key_mlbam\",\n",
    ")"
   ]
  },
  {
   "cell_type": "code",
   "execution_count": 643,
   "metadata": {
    "ExecuteTime": {
     "end_time": "2020-02-02T22:08:14.715705Z",
     "start_time": "2020-02-02T22:08:13.336747Z"
    }
   },
   "outputs": [
    {
     "data": {
      "text/plain": [
       "<matplotlib.axes._subplots.AxesSubplot at 0x1a2c867160>"
      ]
     },
     "execution_count": 643,
     "metadata": {},
     "output_type": "execute_result"
    },
    {
     "data": {
      "image/png": "[encoded data removed]",
      "text/plain": [
       "<Figure size 432x288 with 1 Axes>"
      ]
     },
     "metadata": {
      "needs_background": "light"
     },
     "output_type": "display_data"
    },
    {
     "data": {
      "application/javascript": [
       "\n",
       "            setTimeout(function() {\n",
       "                var nbb_cell_id = 643;\n",
       "                var nbb_unformatted_code = \"df_batting_stats_wpid_100ab[\\\"OBP\\\"].hist()\";\n",
       "                var nbb_formatted_code = \"df_batting_stats_wpid_100ab[\\\"OBP\\\"].hist()\";\n",
       "                var nbb_cells = Jupyter.notebook.get_cells();\n",
       "                for (var i = 0; i < nbb_cells.length; ++i) {\n",
       "                    if (nbb_cells[i].input_prompt_number == nbb_cell_id) {\n",
       "                        if (nbb_cells[i].get_text() == nbb_unformatted_code) {\n",
       "                             nbb_cells[i].set_text(nbb_formatted_code);\n",
       "                        }\n",
       "                        break;\n",
       "                    }\n",
       "                }\n",
       "            }, 500);\n",
       "            "
      ],
      "text/plain": [
       "<IPython.core.display.Javascript object>"
      ]
     },
     "metadata": {},
     "output_type": "display_data"
    }
   ],
   "source": [
    "df_batting_stats_wpid_100ab[\"OBP\"].hist()"
   ]
  },
  {
   "cell_type": "code",
   "execution_count": 644,
   "metadata": {
    "ExecuteTime": {
     "end_time": "2020-02-02T22:08:20.521376Z",
     "start_time": "2020-02-02T22:08:20.506761Z"
    }
   },
   "outputs": [
    {
     "data": {
      "text/plain": [
       "(447172, 14)"
      ]
     },
     "execution_count": 644,
     "metadata": {},
     "output_type": "execute_result"
    },
    {
     "data": {
      "application/javascript": [
       "\n",
       "            setTimeout(function() {\n",
       "                var nbb_cell_id = 644;\n",
       "                var nbb_unformatted_code = \"df_sc_events4model_b.shape\";\n",
       "                var nbb_formatted_code = \"df_sc_events4model_b.shape\";\n",
       "                var nbb_cells = Jupyter.notebook.get_cells();\n",
       "                for (var i = 0; i < nbb_cells.length; ++i) {\n",
       "                    if (nbb_cells[i].input_prompt_number == nbb_cell_id) {\n",
       "                        if (nbb_cells[i].get_text() == nbb_unformatted_code) {\n",
       "                             nbb_cells[i].set_text(nbb_formatted_code);\n",
       "                        }\n",
       "                        break;\n",
       "                    }\n",
       "                }\n",
       "            }, 500);\n",
       "            "
      ],
      "text/plain": [
       "<IPython.core.display.Javascript object>"
      ]
     },
     "metadata": {},
     "output_type": "display_data"
    }
   ],
   "source": [
    "df_sc_events4model_b.shape"
   ]
  },
  {
   "cell_type": "markdown",
   "metadata": {},
   "source": [
    "### Try some feature engineering off raw statcast data"
   ]
  },
  {
   "cell_type": "code",
   "execution_count": null,
   "metadata": {},
   "outputs": [],
   "source": []
  },
  {
   "cell_type": "code",
   "execution_count": null,
   "metadata": {},
   "outputs": [],
   "source": []
  },
  {
   "cell_type": "markdown",
   "metadata": {},
   "source": [
    "## Pitcher features"
   ]
  },
  {
   "cell_type": "code",
   "execution_count": 645,
   "metadata": {
    "ExecuteTime": {
     "end_time": "2020-02-02T22:09:28.399903Z",
     "start_time": "2020-02-02T22:09:28.268958Z"
    }
   },
   "outputs": [
    {
     "data": {
      "text/plain": [
       "763"
      ]
     },
     "execution_count": 645,
     "metadata": {},
     "output_type": "execute_result"
    },
    {
     "data": {
      "application/javascript": [
       "\n",
       "            setTimeout(function() {\n",
       "                var nbb_cell_id = 645;\n",
       "                var nbb_unformatted_code = \"len(df_pitching_stats_wpid[\\\"key_mlbam\\\"].unique())\";\n",
       "                var nbb_formatted_code = \"len(df_pitching_stats_wpid[\\\"key_mlbam\\\"].unique())\";\n",
       "                var nbb_cells = Jupyter.notebook.get_cells();\n",
       "                for (var i = 0; i < nbb_cells.length; ++i) {\n",
       "                    if (nbb_cells[i].input_prompt_number == nbb_cell_id) {\n",
       "                        if (nbb_cells[i].get_text() == nbb_unformatted_code) {\n",
       "                             nbb_cells[i].set_text(nbb_formatted_code);\n",
       "                        }\n",
       "                        break;\n",
       "                    }\n",
       "                }\n",
       "            }, 500);\n",
       "            "
      ],
      "text/plain": [
       "<IPython.core.display.Javascript object>"
      ]
     },
     "metadata": {},
     "output_type": "display_data"
    }
   ],
   "source": [
    "len(df_pitching_stats_wpid[\"key_mlbam\"].unique())"
   ]
  },
  {
   "cell_type": "code",
   "execution_count": 646,
   "metadata": {
    "ExecuteTime": {
     "end_time": "2020-02-02T22:09:35.017126Z",
     "start_time": "2020-02-02T22:09:34.658256Z"
    }
   },
   "outputs": [
    {
     "data": {
      "text/plain": [
       "<matplotlib.axes._subplots.AxesSubplot at 0x1a2b824860>"
      ]
     },
     "execution_count": 646,
     "metadata": {},
     "output_type": "execute_result"
    },
    {
     "data": {
      "image/png": "[encoded data removed]",
      "text/plain": [
       "<Figure size 432x288 with 1 Axes>"
      ]
     },
     "metadata": {
      "needs_background": "light"
     },
     "output_type": "display_data"
    },
    {
     "data": {
      "application/javascript": [
       "\n",
       "            setTimeout(function() {\n",
       "                var nbb_cell_id = 646;\n",
       "                var nbb_unformatted_code = \"df_pitching_stats_wpid[\\\"GS\\\"].hist()\";\n",
       "                var nbb_formatted_code = \"df_pitching_stats_wpid[\\\"GS\\\"].hist()\";\n",
       "                var nbb_cells = Jupyter.notebook.get_cells();\n",
       "                for (var i = 0; i < nbb_cells.length; ++i) {\n",
       "                    if (nbb_cells[i].input_prompt_number == nbb_cell_id) {\n",
       "                        if (nbb_cells[i].get_text() == nbb_unformatted_code) {\n",
       "                             nbb_cells[i].set_text(nbb_formatted_code);\n",
       "                        }\n",
       "                        break;\n",
       "                    }\n",
       "                }\n",
       "            }, 500);\n",
       "            "
      ],
      "text/plain": [
       "<IPython.core.display.Javascript object>"
      ]
     },
     "metadata": {},
     "output_type": "display_data"
    }
   ],
   "source": [
    "df_pitching_stats_wpid[\"GS\"].hist()"
   ]
  },
  {
   "cell_type": "code",
   "execution_count": 647,
   "metadata": {
    "ExecuteTime": {
     "end_time": "2020-02-02T22:09:40.810331Z",
     "start_time": "2020-02-02T22:09:40.628844Z"
    }
   },
   "outputs": [
    {
     "data": {
      "application/javascript": [
       "\n",
       "            setTimeout(function() {\n",
       "                var nbb_cell_id = 647;\n",
       "                var nbb_unformatted_code = \"df_pitching_stats_wpid_sp = df_pitching_stats_wpid[\\n    df_pitching_stats_wpid[\\\"GS\\\"] > 5\\n].copy()\";\n",
       "                var nbb_formatted_code = \"df_pitching_stats_wpid_sp = df_pitching_stats_wpid[\\n    df_pitching_stats_wpid[\\\"GS\\\"] > 5\\n].copy()\";\n",
       "                var nbb_cells = Jupyter.notebook.get_cells();\n",
       "                for (var i = 0; i < nbb_cells.length; ++i) {\n",
       "                    if (nbb_cells[i].input_prompt_number == nbb_cell_id) {\n",
       "                        if (nbb_cells[i].get_text() == nbb_unformatted_code) {\n",
       "                             nbb_cells[i].set_text(nbb_formatted_code);\n",
       "                        }\n",
       "                        break;\n",
       "                    }\n",
       "                }\n",
       "            }, 500);\n",
       "            "
      ],
      "text/plain": [
       "<IPython.core.display.Javascript object>"
      ]
     },
     "metadata": {},
     "output_type": "display_data"
    }
   ],
   "source": [
    "df_pitching_stats_wpid_sp = df_pitching_stats_wpid[\n",
    "    df_pitching_stats_wpid[\"GS\"] > 5\n",
    "].copy()"
   ]
  },
  {
   "cell_type": "code",
   "execution_count": 648,
   "metadata": {
    "ExecuteTime": {
     "end_time": "2020-02-02T22:09:44.428195Z",
     "start_time": "2020-02-02T22:09:44.418273Z"
    }
   },
   "outputs": [
    {
     "data": {
      "text/plain": [
       "(218, 310)"
      ]
     },
     "execution_count": 648,
     "metadata": {},
     "output_type": "execute_result"
    },
    {
     "data": {
      "application/javascript": [
       "\n",
       "            setTimeout(function() {\n",
       "                var nbb_cell_id = 648;\n",
       "                var nbb_unformatted_code = \"df_pitching_stats_wpid_sp.shape\";\n",
       "                var nbb_formatted_code = \"df_pitching_stats_wpid_sp.shape\";\n",
       "                var nbb_cells = Jupyter.notebook.get_cells();\n",
       "                for (var i = 0; i < nbb_cells.length; ++i) {\n",
       "                    if (nbb_cells[i].input_prompt_number == nbb_cell_id) {\n",
       "                        if (nbb_cells[i].get_text() == nbb_unformatted_code) {\n",
       "                             nbb_cells[i].set_text(nbb_formatted_code);\n",
       "                        }\n",
       "                        break;\n",
       "                    }\n",
       "                }\n",
       "            }, 500);\n",
       "            "
      ],
      "text/plain": [
       "<IPython.core.display.Javascript object>"
      ]
     },
     "metadata": {},
     "output_type": "display_data"
    }
   ],
   "source": [
    "df_pitching_stats_wpid_sp.shape"
   ]
  },
  {
   "cell_type": "code",
   "execution_count": null,
   "metadata": {},
   "outputs": [],
   "source": []
  },
  {
   "cell_type": "code",
   "execution_count": 649,
   "metadata": {
    "ExecuteTime": {
     "end_time": "2020-02-02T22:09:48.426054Z",
     "start_time": "2020-02-02T22:09:48.117541Z"
    }
   },
   "outputs": [
    {
     "data": {
      "text/plain": [
       "Text(0, 0.5, 'No. of pitchers')"
      ]
     },
     "execution_count": 649,
     "metadata": {},
     "output_type": "execute_result"
    },
    {
     "data": {
      "image/png": "[encoded data removed]",
      "text/plain": [
       "<Figure size 432x288 with 1 Axes>"
      ]
     },
     "metadata": {
      "needs_background": "light"
     },
     "output_type": "display_data"
    },
    {
     "data": {
      "application/javascript": [
       "\n",
       "            setTimeout(function() {\n",
       "                var nbb_cell_id = 649;\n",
       "                var nbb_unformatted_code = \"f, ax1 = plt.subplots()\\ndf_pitching_stats_wpid_sp[\\\"WHIP\\\"].hist(ax=ax1)\\nax1.set_xlabel(\\\"Walks plus hits per innings pitched\\\")\\nax1.set_ylabel(\\\"No. of pitchers\\\")\";\n",
       "                var nbb_formatted_code = \"f, ax1 = plt.subplots()\\ndf_pitching_stats_wpid_sp[\\\"WHIP\\\"].hist(ax=ax1)\\nax1.set_xlabel(\\\"Walks plus hits per innings pitched\\\")\\nax1.set_ylabel(\\\"No. of pitchers\\\")\";\n",
       "                var nbb_cells = Jupyter.notebook.get_cells();\n",
       "                for (var i = 0; i < nbb_cells.length; ++i) {\n",
       "                    if (nbb_cells[i].input_prompt_number == nbb_cell_id) {\n",
       "                        if (nbb_cells[i].get_text() == nbb_unformatted_code) {\n",
       "                             nbb_cells[i].set_text(nbb_formatted_code);\n",
       "                        }\n",
       "                        break;\n",
       "                    }\n",
       "                }\n",
       "            }, 500);\n",
       "            "
      ],
      "text/plain": [
       "<IPython.core.display.Javascript object>"
      ]
     },
     "metadata": {},
     "output_type": "display_data"
    }
   ],
   "source": [
    "f, ax1 = plt.subplots()\n",
    "df_pitching_stats_wpid_sp[\"WHIP\"].hist(ax=ax1)\n",
    "ax1.set_xlabel(\"Walks plus hits per innings pitched\")\n",
    "ax1.set_ylabel(\"No. of pitchers\")"
   ]
  },
  {
   "cell_type": "code",
   "execution_count": null,
   "metadata": {},
   "outputs": [],
   "source": []
  },
  {
   "cell_type": "code",
   "execution_count": 650,
   "metadata": {
    "ExecuteTime": {
     "end_time": "2020-02-02T22:09:52.552475Z",
     "start_time": "2020-02-02T22:09:52.226840Z"
    }
   },
   "outputs": [
    {
     "data": {
      "application/javascript": [
       "\n",
       "            setTimeout(function() {\n",
       "                var nbb_cell_id = 650;\n",
       "                var nbb_unformatted_code = \"# Merge pitcher characteristics\\ncolpitcher2get = [\\\"WAR\\\", \\\"WHIP\\\", \\\"ERA\\\", \\\"BB/9\\\", \\\"K/9\\\", \\\"key_mlbam\\\"]\\n\\ndf_sc_events4model_bp = pd.merge(\\n    df_sc_events4model_b,\\n    df_pitching_stats_wpid_sp[colpitcher2get],\\n    left_on=\\\"pitcher\\\",\\n    right_on=\\\"key_mlbam\\\",\\n)\";\n",
       "                var nbb_formatted_code = \"# Merge pitcher characteristics\\ncolpitcher2get = [\\\"WAR\\\", \\\"WHIP\\\", \\\"ERA\\\", \\\"BB/9\\\", \\\"K/9\\\", \\\"key_mlbam\\\"]\\n\\ndf_sc_events4model_bp = pd.merge(\\n    df_sc_events4model_b,\\n    df_pitching_stats_wpid_sp[colpitcher2get],\\n    left_on=\\\"pitcher\\\",\\n    right_on=\\\"key_mlbam\\\",\\n)\";\n",
       "                var nbb_cells = Jupyter.notebook.get_cells();\n",
       "                for (var i = 0; i < nbb_cells.length; ++i) {\n",
       "                    if (nbb_cells[i].input_prompt_number == nbb_cell_id) {\n",
       "                        if (nbb_cells[i].get_text() == nbb_unformatted_code) {\n",
       "                             nbb_cells[i].set_text(nbb_formatted_code);\n",
       "                        }\n",
       "                        break;\n",
       "                    }\n",
       "                }\n",
       "            }, 500);\n",
       "            "
      ],
      "text/plain": [
       "<IPython.core.display.Javascript object>"
      ]
     },
     "metadata": {},
     "output_type": "display_data"
    }
   ],
   "source": [
    "# Merge pitcher characteristics\n",
    "colpitcher2get = [\"WAR\", \"WHIP\", \"ERA\", \"BB/9\", \"K/9\", \"key_mlbam\"]\n",
    "\n",
    "df_sc_events4model_bp = pd.merge(\n",
    "    df_sc_events4model_b,\n",
    "    df_pitching_stats_wpid_sp[colpitcher2get],\n",
    "    left_on=\"pitcher\",\n",
    "    right_on=\"key_mlbam\",\n",
    ")"
   ]
  },
  {
   "cell_type": "code",
   "execution_count": 651,
   "metadata": {
    "ExecuteTime": {
     "end_time": "2020-02-02T22:09:56.189697Z",
     "start_time": "2020-02-02T22:09:56.178705Z"
    }
   },
   "outputs": [
    {
     "data": {
      "text/plain": [
       "(232703, 20)"
      ]
     },
     "execution_count": 651,
     "metadata": {},
     "output_type": "execute_result"
    },
    {
     "data": {
      "application/javascript": [
       "\n",
       "            setTimeout(function() {\n",
       "                var nbb_cell_id = 651;\n",
       "                var nbb_unformatted_code = \"df_sc_events4model_bp.shape\";\n",
       "                var nbb_formatted_code = \"df_sc_events4model_bp.shape\";\n",
       "                var nbb_cells = Jupyter.notebook.get_cells();\n",
       "                for (var i = 0; i < nbb_cells.length; ++i) {\n",
       "                    if (nbb_cells[i].input_prompt_number == nbb_cell_id) {\n",
       "                        if (nbb_cells[i].get_text() == nbb_unformatted_code) {\n",
       "                             nbb_cells[i].set_text(nbb_formatted_code);\n",
       "                        }\n",
       "                        break;\n",
       "                    }\n",
       "                }\n",
       "            }, 500);\n",
       "            "
      ],
      "text/plain": [
       "<IPython.core.display.Javascript object>"
      ]
     },
     "metadata": {},
     "output_type": "display_data"
    }
   ],
   "source": [
    "df_sc_events4model_bp.shape"
   ]
  },
  {
   "cell_type": "code",
   "execution_count": 652,
   "metadata": {
    "ExecuteTime": {
     "end_time": "2020-02-02T22:09:59.940716Z",
     "start_time": "2020-02-02T22:09:59.837626Z"
    }
   },
   "outputs": [
    {
     "data": {
      "text/html": [
       "<div>\n",
       "<style scoped>\n",
       "    .dataframe tbody tr th:only-of-type {\n",
       "        vertical-align: middle;\n",
       "    }\n",
       "\n",
       "    .dataframe tbody tr th {\n",
       "        vertical-align: top;\n",
       "    }\n",
       "\n",
       "    .dataframe thead th {\n",
       "        text-align: right;\n",
       "    }\n",
       "</style>\n",
       "<table border=\"1\" class=\"dataframe\">\n",
       "  <thead>\n",
       "    <tr style=\"text-align: right;\">\n",
       "      <th></th>\n",
       "      <th>game_date</th>\n",
       "      <th>batter</th>\n",
       "      <th>pitcher</th>\n",
       "      <th>events</th>\n",
       "      <th>stand</th>\n",
       "      <th>p_throws</th>\n",
       "      <th>inning_topbot</th>\n",
       "      <th>WAR_x</th>\n",
       "      <th>OBP</th>\n",
       "      <th>SLG</th>\n",
       "      <th>OPS</th>\n",
       "      <th>BB_perc</th>\n",
       "      <th>K_perc</th>\n",
       "      <th>key_mlbam_x</th>\n",
       "      <th>WAR_y</th>\n",
       "      <th>WHIP</th>\n",
       "      <th>ERA</th>\n",
       "      <th>BB/9</th>\n",
       "      <th>K/9</th>\n",
       "      <th>key_mlbam_y</th>\n",
       "    </tr>\n",
       "  </thead>\n",
       "  <tbody>\n",
       "    <tr>\n",
       "      <th>0</th>\n",
       "      <td>2017-04-03</td>\n",
       "      <td>425783.0</td>\n",
       "      <td>446372.0</td>\n",
       "      <td>strikeout</td>\n",
       "      <td>L</td>\n",
       "      <td>R</td>\n",
       "      <td>Bot</td>\n",
       "      <td>2.3</td>\n",
       "      <td>0.377</td>\n",
       "      <td>0.434</td>\n",
       "      <td>0.81</td>\n",
       "      <td>0.138</td>\n",
       "      <td>0.235</td>\n",
       "      <td>425783</td>\n",
       "      <td>5.5</td>\n",
       "      <td>0.99</td>\n",
       "      <td>2.89</td>\n",
       "      <td>1.42</td>\n",
       "      <td>9.29</td>\n",
       "      <td>446372.0</td>\n",
       "    </tr>\n",
       "    <tr>\n",
       "      <th>1</th>\n",
       "      <td>2017-04-03</td>\n",
       "      <td>425783.0</td>\n",
       "      <td>446372.0</td>\n",
       "      <td>field_out</td>\n",
       "      <td>L</td>\n",
       "      <td>R</td>\n",
       "      <td>Bot</td>\n",
       "      <td>2.3</td>\n",
       "      <td>0.377</td>\n",
       "      <td>0.434</td>\n",
       "      <td>0.81</td>\n",
       "      <td>0.138</td>\n",
       "      <td>0.235</td>\n",
       "      <td>425783</td>\n",
       "      <td>5.5</td>\n",
       "      <td>0.99</td>\n",
       "      <td>2.89</td>\n",
       "      <td>1.42</td>\n",
       "      <td>9.29</td>\n",
       "      <td>446372.0</td>\n",
       "    </tr>\n",
       "    <tr>\n",
       "      <th>2</th>\n",
       "      <td>2017-04-03</td>\n",
       "      <td>425783.0</td>\n",
       "      <td>446372.0</td>\n",
       "      <td>field_out</td>\n",
       "      <td>L</td>\n",
       "      <td>R</td>\n",
       "      <td>Bot</td>\n",
       "      <td>2.3</td>\n",
       "      <td>0.377</td>\n",
       "      <td>0.434</td>\n",
       "      <td>0.81</td>\n",
       "      <td>0.138</td>\n",
       "      <td>0.235</td>\n",
       "      <td>425783</td>\n",
       "      <td>5.5</td>\n",
       "      <td>0.99</td>\n",
       "      <td>2.89</td>\n",
       "      <td>1.42</td>\n",
       "      <td>9.29</td>\n",
       "      <td>446372.0</td>\n",
       "    </tr>\n",
       "    <tr>\n",
       "      <th>3</th>\n",
       "      <td>2018-05-02</td>\n",
       "      <td>425783.0</td>\n",
       "      <td>446372.0</td>\n",
       "      <td>field_out</td>\n",
       "      <td>L</td>\n",
       "      <td>R</td>\n",
       "      <td>Top</td>\n",
       "      <td>2.3</td>\n",
       "      <td>0.377</td>\n",
       "      <td>0.434</td>\n",
       "      <td>0.81</td>\n",
       "      <td>0.138</td>\n",
       "      <td>0.235</td>\n",
       "      <td>425783</td>\n",
       "      <td>5.5</td>\n",
       "      <td>0.99</td>\n",
       "      <td>2.89</td>\n",
       "      <td>1.42</td>\n",
       "      <td>9.29</td>\n",
       "      <td>446372.0</td>\n",
       "    </tr>\n",
       "    <tr>\n",
       "      <th>4</th>\n",
       "      <td>2018-05-02</td>\n",
       "      <td>425783.0</td>\n",
       "      <td>446372.0</td>\n",
       "      <td>single</td>\n",
       "      <td>L</td>\n",
       "      <td>R</td>\n",
       "      <td>Top</td>\n",
       "      <td>2.3</td>\n",
       "      <td>0.377</td>\n",
       "      <td>0.434</td>\n",
       "      <td>0.81</td>\n",
       "      <td>0.138</td>\n",
       "      <td>0.235</td>\n",
       "      <td>425783</td>\n",
       "      <td>5.5</td>\n",
       "      <td>0.99</td>\n",
       "      <td>2.89</td>\n",
       "      <td>1.42</td>\n",
       "      <td>9.29</td>\n",
       "      <td>446372.0</td>\n",
       "    </tr>\n",
       "  </tbody>\n",
       "</table>\n",
       "</div>"
      ],
      "text/plain": [
       "   game_date    batter   pitcher     events stand p_throws inning_topbot  \\\n",
       "0 2017-04-03  425783.0  446372.0  strikeout     L        R           Bot   \n",
       "1 2017-04-03  425783.0  446372.0  field_out     L        R           Bot   \n",
       "2 2017-04-03  425783.0  446372.0  field_out     L        R           Bot   \n",
       "3 2018-05-02  425783.0  446372.0  field_out     L        R           Top   \n",
       "4 2018-05-02  425783.0  446372.0     single     L        R           Top   \n",
       "\n",
       "   WAR_x    OBP    SLG   OPS  BB_perc  K_perc  key_mlbam_x  WAR_y  WHIP   ERA  \\\n",
       "0    2.3  0.377  0.434  0.81    0.138   0.235       425783    5.5  0.99  2.89   \n",
       "1    2.3  0.377  0.434  0.81    0.138   0.235       425783    5.5  0.99  2.89   \n",
       "2    2.3  0.377  0.434  0.81    0.138   0.235       425783    5.5  0.99  2.89   \n",
       "3    2.3  0.377  0.434  0.81    0.138   0.235       425783    5.5  0.99  2.89   \n",
       "4    2.3  0.377  0.434  0.81    0.138   0.235       425783    5.5  0.99  2.89   \n",
       "\n",
       "   BB/9   K/9  key_mlbam_y  \n",
       "0  1.42  9.29     446372.0  \n",
       "1  1.42  9.29     446372.0  \n",
       "2  1.42  9.29     446372.0  \n",
       "3  1.42  9.29     446372.0  \n",
       "4  1.42  9.29     446372.0  "
      ]
     },
     "execution_count": 652,
     "metadata": {},
     "output_type": "execute_result"
    },
    {
     "data": {
      "application/javascript": [
       "\n",
       "            setTimeout(function() {\n",
       "                var nbb_cell_id = 652;\n",
       "                var nbb_unformatted_code = \"df_sc_events4model_bp.head()\";\n",
       "                var nbb_formatted_code = \"df_sc_events4model_bp.head()\";\n",
       "                var nbb_cells = Jupyter.notebook.get_cells();\n",
       "                for (var i = 0; i < nbb_cells.length; ++i) {\n",
       "                    if (nbb_cells[i].input_prompt_number == nbb_cell_id) {\n",
       "                        if (nbb_cells[i].get_text() == nbb_unformatted_code) {\n",
       "                             nbb_cells[i].set_text(nbb_formatted_code);\n",
       "                        }\n",
       "                        break;\n",
       "                    }\n",
       "                }\n",
       "            }, 500);\n",
       "            "
      ],
      "text/plain": [
       "<IPython.core.display.Javascript object>"
      ]
     },
     "metadata": {},
     "output_type": "display_data"
    }
   ],
   "source": [
    "df_sc_events4model_bp.head()"
   ]
  },
  {
   "cell_type": "code",
   "execution_count": 653,
   "metadata": {
    "ExecuteTime": {
     "end_time": "2020-02-02T22:10:09.846049Z",
     "start_time": "2020-02-02T22:10:09.680960Z"
    }
   },
   "outputs": [
    {
     "data": {
      "application/javascript": [
       "\n",
       "            setTimeout(function() {\n",
       "                var nbb_cell_id = 653;\n",
       "                var nbb_unformatted_code = \"# Encode events\\nevent_list = [\\\"hit_by_pitch\\\", \\\"walk\\\", \\\"single\\\", \\\"double\\\", \\\"triple\\\", \\\"home_run\\\"]\\ndf_sc_events4model_bp[\\\"event_code\\\"] = 0\\ndf_sc_events4model_bp.loc[\\n    df_sc_events4model_bp[\\\"events\\\"].isin(event_list), \\\"event_code\\\"\\n] = 1\";\n",
       "                var nbb_formatted_code = \"# Encode events\\nevent_list = [\\\"hit_by_pitch\\\", \\\"walk\\\", \\\"single\\\", \\\"double\\\", \\\"triple\\\", \\\"home_run\\\"]\\ndf_sc_events4model_bp[\\\"event_code\\\"] = 0\\ndf_sc_events4model_bp.loc[\\n    df_sc_events4model_bp[\\\"events\\\"].isin(event_list), \\\"event_code\\\"\\n] = 1\";\n",
       "                var nbb_cells = Jupyter.notebook.get_cells();\n",
       "                for (var i = 0; i < nbb_cells.length; ++i) {\n",
       "                    if (nbb_cells[i].input_prompt_number == nbb_cell_id) {\n",
       "                        if (nbb_cells[i].get_text() == nbb_unformatted_code) {\n",
       "                             nbb_cells[i].set_text(nbb_formatted_code);\n",
       "                        }\n",
       "                        break;\n",
       "                    }\n",
       "                }\n",
       "            }, 500);\n",
       "            "
      ],
      "text/plain": [
       "<IPython.core.display.Javascript object>"
      ]
     },
     "metadata": {},
     "output_type": "display_data"
    }
   ],
   "source": [
    "# Encode events\n",
    "event_list = [\"hit_by_pitch\", \"walk\", \"single\", \"double\", \"triple\", \"home_run\"]\n",
    "df_sc_events4model_bp[\"event_code\"] = 0\n",
    "df_sc_events4model_bp.loc[\n",
    "    df_sc_events4model_bp[\"events\"].isin(event_list), \"event_code\"\n",
    "] = 1"
   ]
  },
  {
   "cell_type": "markdown",
   "metadata": {},
   "source": [
    "### Simple check - only OBP, WHIP and event detection\n",
    "- strip batter, pitcher identity"
   ]
  },
  {
   "cell_type": "code",
   "execution_count": null,
   "metadata": {},
   "outputs": [],
   "source": []
  },
  {
   "cell_type": "code",
   "execution_count": 658,
   "metadata": {
    "ExecuteTime": {
     "end_time": "2020-02-02T22:54:27.693541Z",
     "start_time": "2020-02-02T22:54:27.646262Z"
    }
   },
   "outputs": [
    {
     "data": {
      "application/javascript": [
       "\n",
       "            setTimeout(function() {\n",
       "                var nbb_cell_id = 658;\n",
       "                var nbb_unformatted_code = \"col2keep = [\\\"event_code\\\", \\\"OBP\\\", \\\"WHIP\\\"]\\n\\ndf_sc_events4model_bp_simplecheck = df_sc_events4model_bp[col2keep].copy()\";\n",
       "                var nbb_formatted_code = \"col2keep = [\\\"event_code\\\", \\\"OBP\\\", \\\"WHIP\\\"]\\n\\ndf_sc_events4model_bp_simplecheck = df_sc_events4model_bp[col2keep].copy()\";\n",
       "                var nbb_cells = Jupyter.notebook.get_cells();\n",
       "                for (var i = 0; i < nbb_cells.length; ++i) {\n",
       "                    if (nbb_cells[i].input_prompt_number == nbb_cell_id) {\n",
       "                        if (nbb_cells[i].get_text() == nbb_unformatted_code) {\n",
       "                             nbb_cells[i].set_text(nbb_formatted_code);\n",
       "                        }\n",
       "                        break;\n",
       "                    }\n",
       "                }\n",
       "            }, 500);\n",
       "            "
      ],
      "text/plain": [
       "<IPython.core.display.Javascript object>"
      ]
     },
     "metadata": {},
     "output_type": "display_data"
    }
   ],
   "source": [
    "col2keep = [\"event_code\", \"OBP\", \"WHIP\"]\n",
    "\n",
    "df_sc_events4model_bp_simplecheck = df_sc_events4model_bp[col2keep].copy()"
   ]
  },
  {
   "cell_type": "code",
   "execution_count": 659,
   "metadata": {
    "ExecuteTime": {
     "end_time": "2020-02-02T22:54:31.397442Z",
     "start_time": "2020-02-02T22:54:31.365332Z"
    }
   },
   "outputs": [
    {
     "data": {
      "text/html": [
       "<div>\n",
       "<style scoped>\n",
       "    .dataframe tbody tr th:only-of-type {\n",
       "        vertical-align: middle;\n",
       "    }\n",
       "\n",
       "    .dataframe tbody tr th {\n",
       "        vertical-align: top;\n",
       "    }\n",
       "\n",
       "    .dataframe thead th {\n",
       "        text-align: right;\n",
       "    }\n",
       "</style>\n",
       "<table border=\"1\" class=\"dataframe\">\n",
       "  <thead>\n",
       "    <tr style=\"text-align: right;\">\n",
       "      <th></th>\n",
       "      <th>event_code</th>\n",
       "      <th>OBP</th>\n",
       "      <th>WHIP</th>\n",
       "    </tr>\n",
       "  </thead>\n",
       "  <tbody>\n",
       "    <tr>\n",
       "      <th>0</th>\n",
       "      <td>0</td>\n",
       "      <td>0.377</td>\n",
       "      <td>0.99</td>\n",
       "    </tr>\n",
       "    <tr>\n",
       "      <th>1</th>\n",
       "      <td>0</td>\n",
       "      <td>0.377</td>\n",
       "      <td>0.99</td>\n",
       "    </tr>\n",
       "    <tr>\n",
       "      <th>2</th>\n",
       "      <td>0</td>\n",
       "      <td>0.377</td>\n",
       "      <td>0.99</td>\n",
       "    </tr>\n",
       "    <tr>\n",
       "      <th>3</th>\n",
       "      <td>0</td>\n",
       "      <td>0.377</td>\n",
       "      <td>0.99</td>\n",
       "    </tr>\n",
       "    <tr>\n",
       "      <th>4</th>\n",
       "      <td>1</td>\n",
       "      <td>0.377</td>\n",
       "      <td>0.99</td>\n",
       "    </tr>\n",
       "  </tbody>\n",
       "</table>\n",
       "</div>"
      ],
      "text/plain": [
       "   event_code    OBP  WHIP\n",
       "0           0  0.377  0.99\n",
       "1           0  0.377  0.99\n",
       "2           0  0.377  0.99\n",
       "3           0  0.377  0.99\n",
       "4           1  0.377  0.99"
      ]
     },
     "execution_count": 659,
     "metadata": {},
     "output_type": "execute_result"
    },
    {
     "data": {
      "application/javascript": [
       "\n",
       "            setTimeout(function() {\n",
       "                var nbb_cell_id = 659;\n",
       "                var nbb_unformatted_code = \"df_sc_events4model_bp_simplecheck.head()\";\n",
       "                var nbb_formatted_code = \"df_sc_events4model_bp_simplecheck.head()\";\n",
       "                var nbb_cells = Jupyter.notebook.get_cells();\n",
       "                for (var i = 0; i < nbb_cells.length; ++i) {\n",
       "                    if (nbb_cells[i].input_prompt_number == nbb_cell_id) {\n",
       "                        if (nbb_cells[i].get_text() == nbb_unformatted_code) {\n",
       "                             nbb_cells[i].set_text(nbb_formatted_code);\n",
       "                        }\n",
       "                        break;\n",
       "                    }\n",
       "                }\n",
       "            }, 500);\n",
       "            "
      ],
      "text/plain": [
       "<IPython.core.display.Javascript object>"
      ]
     },
     "metadata": {},
     "output_type": "display_data"
    }
   ],
   "source": [
    "df_sc_events4model_bp_simplecheck.head()"
   ]
  },
  {
   "cell_type": "code",
   "execution_count": 656,
   "metadata": {
    "ExecuteTime": {
     "end_time": "2020-02-02T22:12:17.171322Z",
     "start_time": "2020-02-02T22:12:15.286188Z"
    }
   },
   "outputs": [
    {
     "data": {
      "text/plain": [
       "<matplotlib.collections.PathCollection at 0x1a2994c4a8>"
      ]
     },
     "execution_count": 656,
     "metadata": {},
     "output_type": "execute_result"
    },
    {
     "data": {
      "image/png": "[encoded data removed]",
      "text/plain": [
       "<Figure size 432x288 with 1 Axes>"
      ]
     },
     "metadata": {
      "needs_background": "light"
     },
     "output_type": "display_data"
    },
    {
     "data": {
      "application/javascript": [
       "\n",
       "            setTimeout(function() {\n",
       "                var nbb_cell_id = 656;\n",
       "                var nbb_unformatted_code = \"f, ax1 = plt.subplots()\\nax1.scatter(df_sc_events4model_bp_simplecheck['OBP'], df_sc_events4model_bp_simplecheck['event_code'])\";\n",
       "                var nbb_formatted_code = \"f, ax1 = plt.subplots()\\nax1.scatter(\\n    df_sc_events4model_bp_simplecheck[\\\"OBP\\\"],\\n    df_sc_events4model_bp_simplecheck[\\\"event_code\\\"],\\n)\";\n",
       "                var nbb_cells = Jupyter.notebook.get_cells();\n",
       "                for (var i = 0; i < nbb_cells.length; ++i) {\n",
       "                    if (nbb_cells[i].input_prompt_number == nbb_cell_id) {\n",
       "                        if (nbb_cells[i].get_text() == nbb_unformatted_code) {\n",
       "                             nbb_cells[i].set_text(nbb_formatted_code);\n",
       "                        }\n",
       "                        break;\n",
       "                    }\n",
       "                }\n",
       "            }, 500);\n",
       "            "
      ],
      "text/plain": [
       "<IPython.core.display.Javascript object>"
      ]
     },
     "metadata": {},
     "output_type": "display_data"
    }
   ],
   "source": [
    "f, ax1 = plt.subplots()\n",
    "ax1.scatter(\n",
    "    df_sc_events4model_bp_simplecheck[\"OBP\"],\n",
    "    df_sc_events4model_bp_simplecheck[\"event_code\"],\n",
    ")"
   ]
  },
  {
   "cell_type": "code",
   "execution_count": null,
   "metadata": {},
   "outputs": [],
   "source": []
  },
  {
   "cell_type": "code",
   "execution_count": 661,
   "metadata": {
    "ExecuteTime": {
     "end_time": "2020-02-02T22:55:25.563253Z",
     "start_time": "2020-02-02T22:55:25.354843Z"
    }
   },
   "outputs": [
    {
     "data": {
      "application/javascript": [
       "\n",
       "            setTimeout(function() {\n",
       "                var nbb_cell_id = 661;\n",
       "                var nbb_unformatted_code = \"X_train_scale_1M, X_test_scale_1M, y_train_1M, y_test_1M, scale_vals = get_split_data(\\n    df_sc_events4model_bp_simplecheck, 0.4\\n)\";\n",
       "                var nbb_formatted_code = \"X_train_scale_1M, X_test_scale_1M, y_train_1M, y_test_1M, scale_vals = get_split_data(\\n    df_sc_events4model_bp_simplecheck, 0.4\\n)\";\n",
       "                var nbb_cells = Jupyter.notebook.get_cells();\n",
       "                for (var i = 0; i < nbb_cells.length; ++i) {\n",
       "                    if (nbb_cells[i].input_prompt_number == nbb_cell_id) {\n",
       "                        if (nbb_cells[i].get_text() == nbb_unformatted_code) {\n",
       "                             nbb_cells[i].set_text(nbb_formatted_code);\n",
       "                        }\n",
       "                        break;\n",
       "                    }\n",
       "                }\n",
       "            }, 500);\n",
       "            "
      ],
      "text/plain": [
       "<IPython.core.display.Javascript object>"
      ]
     },
     "metadata": {},
     "output_type": "display_data"
    }
   ],
   "source": [
    "X_train_scale_1M, X_test_scale_1M, y_train_1M, y_test_1M, scale_vals = get_split_data(\n",
    "    df_sc_events4model_bp_simplecheck, 0.4\n",
    ")"
   ]
  },
  {
   "cell_type": "code",
   "execution_count": 733,
   "metadata": {
    "ExecuteTime": {
     "end_time": "2020-02-03T01:25:53.667088Z",
     "start_time": "2020-02-03T01:25:53.519845Z"
    }
   },
   "outputs": [
    {
     "data": {
      "application/javascript": [
       "\n",
       "            setTimeout(function() {\n",
       "                var nbb_cell_id = 733;\n",
       "                var nbb_unformatted_code = \"def run_logreg_model(X_train_scale_set, y_train_set, X_test_scale_set, y_test_set):\\n\\n    log_reg = LogisticRegression(class_weight='balanced')\\n    log_reg.fit(X_train_scale_set, y_train_set)\\n\\n    y_pred = log_reg.predict(X_test_scale_set)\\n    y_predprob = log_reg.predict_proba(X_test_scale_set)[:, 1]\\n    df_eval = pd.DataFrame({\\\"test\\\": y_test_set, \\\"pred\\\": y_pred, \\\"predprob\\\": y_predprob})\\n\\n    return log_reg, df_eval\";\n",
       "                var nbb_formatted_code = \"def run_logreg_model(X_train_scale_set, y_train_set, X_test_scale_set, y_test_set):\\n\\n    log_reg = LogisticRegression(class_weight=\\\"balanced\\\")\\n    log_reg.fit(X_train_scale_set, y_train_set)\\n\\n    y_pred = log_reg.predict(X_test_scale_set)\\n    y_predprob = log_reg.predict_proba(X_test_scale_set)[:, 1]\\n    df_eval = pd.DataFrame({\\\"test\\\": y_test_set, \\\"pred\\\": y_pred, \\\"predprob\\\": y_predprob})\\n\\n    return log_reg, df_eval\";\n",
       "                var nbb_cells = Jupyter.notebook.get_cells();\n",
       "                for (var i = 0; i < nbb_cells.length; ++i) {\n",
       "                    if (nbb_cells[i].input_prompt_number == nbb_cell_id) {\n",
       "                        if (nbb_cells[i].get_text() == nbb_unformatted_code) {\n",
       "                             nbb_cells[i].set_text(nbb_formatted_code);\n",
       "                        }\n",
       "                        break;\n",
       "                    }\n",
       "                }\n",
       "            }, 500);\n",
       "            "
      ],
      "text/plain": [
       "<IPython.core.display.Javascript object>"
      ]
     },
     "metadata": {},
     "output_type": "display_data"
    }
   ],
   "source": [
    "def run_logreg_model(X_train_scale_set, y_train_set, X_test_scale_set, y_test_set):\n",
    "\n",
    "    log_reg = LogisticRegression(class_weight=\"balanced\")\n",
    "    log_reg.fit(X_train_scale_set, y_train_set)\n",
    "\n",
    "    y_pred = log_reg.predict(X_test_scale_set)\n",
    "    y_predprob = log_reg.predict_proba(X_test_scale_set)[:, 1]\n",
    "    df_eval = pd.DataFrame({\"test\": y_test_set, \"pred\": y_pred, \"predprob\": y_predprob})\n",
    "\n",
    "    return log_reg, df_eval"
   ]
  },
  {
   "cell_type": "code",
   "execution_count": 734,
   "metadata": {
    "ExecuteTime": {
     "end_time": "2020-02-03T01:25:57.645028Z",
     "start_time": "2020-02-03T01:25:57.147815Z"
    }
   },
   "outputs": [
    {
     "data": {
      "application/javascript": [
       "\n",
       "            setTimeout(function() {\n",
       "                var nbb_cell_id = 734;\n",
       "                var nbb_unformatted_code = \"# Run models\\nlog_reg_1M, df_eval_1M = run_logreg_model(\\n    X_train_scale_1M, y_train_1M, X_test_scale_1M, y_test_1M\\n)\";\n",
       "                var nbb_formatted_code = \"# Run models\\nlog_reg_1M, df_eval_1M = run_logreg_model(\\n    X_train_scale_1M, y_train_1M, X_test_scale_1M, y_test_1M\\n)\";\n",
       "                var nbb_cells = Jupyter.notebook.get_cells();\n",
       "                for (var i = 0; i < nbb_cells.length; ++i) {\n",
       "                    if (nbb_cells[i].input_prompt_number == nbb_cell_id) {\n",
       "                        if (nbb_cells[i].get_text() == nbb_unformatted_code) {\n",
       "                             nbb_cells[i].set_text(nbb_formatted_code);\n",
       "                        }\n",
       "                        break;\n",
       "                    }\n",
       "                }\n",
       "            }, 500);\n",
       "            "
      ],
      "text/plain": [
       "<IPython.core.display.Javascript object>"
      ]
     },
     "metadata": {},
     "output_type": "display_data"
    }
   ],
   "source": [
    "# Run models\n",
    "log_reg_1M, df_eval_1M = run_logreg_model(\n",
    "    X_train_scale_1M, y_train_1M, X_test_scale_1M, y_test_1M\n",
    ")"
   ]
  },
  {
   "cell_type": "code",
   "execution_count": 735,
   "metadata": {
    "ExecuteTime": {
     "end_time": "2020-02-03T01:26:01.173876Z",
     "start_time": "2020-02-03T01:26:01.150731Z"
    }
   },
   "outputs": [
    {
     "data": {
      "text/html": [
       "<div>\n",
       "<style scoped>\n",
       "    .dataframe tbody tr th:only-of-type {\n",
       "        vertical-align: middle;\n",
       "    }\n",
       "\n",
       "    .dataframe tbody tr th {\n",
       "        vertical-align: top;\n",
       "    }\n",
       "\n",
       "    .dataframe thead th {\n",
       "        text-align: right;\n",
       "    }\n",
       "</style>\n",
       "<table border=\"1\" class=\"dataframe\">\n",
       "  <thead>\n",
       "    <tr style=\"text-align: right;\">\n",
       "      <th></th>\n",
       "      <th>test</th>\n",
       "      <th>pred</th>\n",
       "      <th>predprob</th>\n",
       "    </tr>\n",
       "  </thead>\n",
       "  <tbody>\n",
       "    <tr>\n",
       "      <th>116951</th>\n",
       "      <td>1</td>\n",
       "      <td>1</td>\n",
       "      <td>0.528203</td>\n",
       "    </tr>\n",
       "    <tr>\n",
       "      <th>146125</th>\n",
       "      <td>1</td>\n",
       "      <td>0</td>\n",
       "      <td>0.479493</td>\n",
       "    </tr>\n",
       "    <tr>\n",
       "      <th>142042</th>\n",
       "      <td>0</td>\n",
       "      <td>1</td>\n",
       "      <td>0.523284</td>\n",
       "    </tr>\n",
       "    <tr>\n",
       "      <th>57356</th>\n",
       "      <td>0</td>\n",
       "      <td>1</td>\n",
       "      <td>0.574968</td>\n",
       "    </tr>\n",
       "    <tr>\n",
       "      <th>67644</th>\n",
       "      <td>0</td>\n",
       "      <td>1</td>\n",
       "      <td>0.573082</td>\n",
       "    </tr>\n",
       "  </tbody>\n",
       "</table>\n",
       "</div>"
      ],
      "text/plain": [
       "        test  pred  predprob\n",
       "116951     1     1  0.528203\n",
       "146125     1     0  0.479493\n",
       "142042     0     1  0.523284\n",
       "57356      0     1  0.574968\n",
       "67644      0     1  0.573082"
      ]
     },
     "execution_count": 735,
     "metadata": {},
     "output_type": "execute_result"
    },
    {
     "data": {
      "application/javascript": [
       "\n",
       "            setTimeout(function() {\n",
       "                var nbb_cell_id = 735;\n",
       "                var nbb_unformatted_code = \"df_eval_1M.head()\";\n",
       "                var nbb_formatted_code = \"df_eval_1M.head()\";\n",
       "                var nbb_cells = Jupyter.notebook.get_cells();\n",
       "                for (var i = 0; i < nbb_cells.length; ++i) {\n",
       "                    if (nbb_cells[i].input_prompt_number == nbb_cell_id) {\n",
       "                        if (nbb_cells[i].get_text() == nbb_unformatted_code) {\n",
       "                             nbb_cells[i].set_text(nbb_formatted_code);\n",
       "                        }\n",
       "                        break;\n",
       "                    }\n",
       "                }\n",
       "            }, 500);\n",
       "            "
      ],
      "text/plain": [
       "<IPython.core.display.Javascript object>"
      ]
     },
     "metadata": {},
     "output_type": "display_data"
    }
   ],
   "source": [
    "df_eval_1M.head()"
   ]
  },
  {
   "cell_type": "code",
   "execution_count": 736,
   "metadata": {
    "ExecuteTime": {
     "end_time": "2020-02-03T01:26:57.926555Z",
     "start_time": "2020-02-03T01:26:57.716056Z"
    }
   },
   "outputs": [
    {
     "name": "stdout",
     "output_type": "stream",
     "text": [
      "              precision    recall  f1-score   support\n",
      "\n",
      "           0       0.70      0.55      0.61     62864\n",
      "           1       0.35      0.52      0.42     30218\n",
      "\n",
      "    accuracy                           0.54     93082\n",
      "   macro avg       0.53      0.53      0.52     93082\n",
      "weighted avg       0.59      0.54      0.55     93082\n",
      "\n"
     ]
    },
    {
     "data": {
      "application/javascript": [
       "\n",
       "            setTimeout(function() {\n",
       "                var nbb_cell_id = 736;\n",
       "                var nbb_unformatted_code = \"print(metrics.classification_report(df_eval_1M[\\\"test\\\"], df_eval_1M[\\\"pred\\\"]))\";\n",
       "                var nbb_formatted_code = \"print(metrics.classification_report(df_eval_1M[\\\"test\\\"], df_eval_1M[\\\"pred\\\"]))\";\n",
       "                var nbb_cells = Jupyter.notebook.get_cells();\n",
       "                for (var i = 0; i < nbb_cells.length; ++i) {\n",
       "                    if (nbb_cells[i].input_prompt_number == nbb_cell_id) {\n",
       "                        if (nbb_cells[i].get_text() == nbb_unformatted_code) {\n",
       "                             nbb_cells[i].set_text(nbb_formatted_code);\n",
       "                        }\n",
       "                        break;\n",
       "                    }\n",
       "                }\n",
       "            }, 500);\n",
       "            "
      ],
      "text/plain": [
       "<IPython.core.display.Javascript object>"
      ]
     },
     "metadata": {},
     "output_type": "display_data"
    }
   ],
   "source": [
    "print(metrics.classification_report(df_eval_1M[\"test\"], df_eval_1M[\"pred\"]))"
   ]
  },
  {
   "cell_type": "code",
   "execution_count": 680,
   "metadata": {
    "ExecuteTime": {
     "end_time": "2020-02-02T23:02:30.510787Z",
     "start_time": "2020-02-02T23:02:30.295068Z"
    }
   },
   "outputs": [
    {
     "data": {
      "text/plain": [
       "<matplotlib.axes._subplots.AxesSubplot at 0x1a61d3be10>"
      ]
     },
     "execution_count": 680,
     "metadata": {},
     "output_type": "execute_result"
    },
    {
     "data": {
      "image/png": "[encoded data removed]",
      "text/plain": [
       "<Figure size 432x288 with 1 Axes>"
      ]
     },
     "metadata": {
      "needs_background": "light"
     },
     "output_type": "display_data"
    },
    {
     "data": {
      "application/javascript": [
       "\n",
       "            setTimeout(function() {\n",
       "                var nbb_cell_id = 680;\n",
       "                var nbb_unformatted_code = \"df_eval_1M[\\\"predprob\\\"].hist()\";\n",
       "                var nbb_formatted_code = \"df_eval_1M[\\\"predprob\\\"].hist()\";\n",
       "                var nbb_cells = Jupyter.notebook.get_cells();\n",
       "                for (var i = 0; i < nbb_cells.length; ++i) {\n",
       "                    if (nbb_cells[i].input_prompt_number == nbb_cell_id) {\n",
       "                        if (nbb_cells[i].get_text() == nbb_unformatted_code) {\n",
       "                             nbb_cells[i].set_text(nbb_formatted_code);\n",
       "                        }\n",
       "                        break;\n",
       "                    }\n",
       "                }\n",
       "            }, 500);\n",
       "            "
      ],
      "text/plain": [
       "<IPython.core.display.Javascript object>"
      ]
     },
     "metadata": {},
     "output_type": "display_data"
    }
   ],
   "source": [
    "df_eval_1M[\"predprob\"].hist()"
   ]
  },
  {
   "cell_type": "code",
   "execution_count": 681,
   "metadata": {
    "ExecuteTime": {
     "end_time": "2020-02-02T23:02:33.899454Z",
     "start_time": "2020-02-02T23:02:33.833034Z"
    }
   },
   "outputs": [
    {
     "data": {
      "application/javascript": [
       "\n",
       "            setTimeout(function() {\n",
       "                var nbb_cell_id = 681;\n",
       "                var nbb_unformatted_code = \"df_temp = pd.merge(\\n    df_eval_1M, df_sc_events4model_bp_simplecheck, left_index=True, right_index=True\\n)\";\n",
       "                var nbb_formatted_code = \"df_temp = pd.merge(\\n    df_eval_1M, df_sc_events4model_bp_simplecheck, left_index=True, right_index=True\\n)\";\n",
       "                var nbb_cells = Jupyter.notebook.get_cells();\n",
       "                for (var i = 0; i < nbb_cells.length; ++i) {\n",
       "                    if (nbb_cells[i].input_prompt_number == nbb_cell_id) {\n",
       "                        if (nbb_cells[i].get_text() == nbb_unformatted_code) {\n",
       "                             nbb_cells[i].set_text(nbb_formatted_code);\n",
       "                        }\n",
       "                        break;\n",
       "                    }\n",
       "                }\n",
       "            }, 500);\n",
       "            "
      ],
      "text/plain": [
       "<IPython.core.display.Javascript object>"
      ]
     },
     "metadata": {},
     "output_type": "display_data"
    }
   ],
   "source": [
    "df_temp = pd.merge(\n",
    "    df_eval_1M, df_sc_events4model_bp_simplecheck, left_index=True, right_index=True\n",
    ")"
   ]
  },
  {
   "cell_type": "code",
   "execution_count": 682,
   "metadata": {
    "ExecuteTime": {
     "end_time": "2020-02-02T23:02:37.617880Z",
     "start_time": "2020-02-02T23:02:37.601271Z"
    }
   },
   "outputs": [
    {
     "data": {
      "text/html": [
       "<div>\n",
       "<style scoped>\n",
       "    .dataframe tbody tr th:only-of-type {\n",
       "        vertical-align: middle;\n",
       "    }\n",
       "\n",
       "    .dataframe tbody tr th {\n",
       "        vertical-align: top;\n",
       "    }\n",
       "\n",
       "    .dataframe thead th {\n",
       "        text-align: right;\n",
       "    }\n",
       "</style>\n",
       "<table border=\"1\" class=\"dataframe\">\n",
       "  <thead>\n",
       "    <tr style=\"text-align: right;\">\n",
       "      <th></th>\n",
       "      <th>test</th>\n",
       "      <th>pred</th>\n",
       "      <th>predprob</th>\n",
       "      <th>event_code</th>\n",
       "      <th>OBP</th>\n",
       "      <th>WHIP</th>\n",
       "    </tr>\n",
       "  </thead>\n",
       "  <tbody>\n",
       "    <tr>\n",
       "      <th>116951</th>\n",
       "      <td>1</td>\n",
       "      <td>0</td>\n",
       "      <td>0.343435</td>\n",
       "      <td>1</td>\n",
       "      <td>0.290</td>\n",
       "      <td>1.77</td>\n",
       "    </tr>\n",
       "    <tr>\n",
       "      <th>146125</th>\n",
       "      <td>1</td>\n",
       "      <td>0</td>\n",
       "      <td>0.305458</td>\n",
       "      <td>1</td>\n",
       "      <td>0.303</td>\n",
       "      <td>1.30</td>\n",
       "    </tr>\n",
       "    <tr>\n",
       "      <th>142042</th>\n",
       "      <td>0</td>\n",
       "      <td>0</td>\n",
       "      <td>0.339035</td>\n",
       "      <td>0</td>\n",
       "      <td>0.352</td>\n",
       "      <td>1.29</td>\n",
       "    </tr>\n",
       "    <tr>\n",
       "      <th>57356</th>\n",
       "      <td>0</td>\n",
       "      <td>0</td>\n",
       "      <td>0.392314</td>\n",
       "      <td>0</td>\n",
       "      <td>0.460</td>\n",
       "      <td>1.03</td>\n",
       "    </tr>\n",
       "    <tr>\n",
       "      <th>67644</th>\n",
       "      <td>0</td>\n",
       "      <td>0</td>\n",
       "      <td>0.389803</td>\n",
       "      <td>0</td>\n",
       "      <td>0.366</td>\n",
       "      <td>1.67</td>\n",
       "    </tr>\n",
       "  </tbody>\n",
       "</table>\n",
       "</div>"
      ],
      "text/plain": [
       "        test  pred  predprob  event_code    OBP  WHIP\n",
       "116951     1     0  0.343435           1  0.290  1.77\n",
       "146125     1     0  0.305458           1  0.303  1.30\n",
       "142042     0     0  0.339035           0  0.352  1.29\n",
       "57356      0     0  0.392314           0  0.460  1.03\n",
       "67644      0     0  0.389803           0  0.366  1.67"
      ]
     },
     "execution_count": 682,
     "metadata": {},
     "output_type": "execute_result"
    },
    {
     "data": {
      "application/javascript": [
       "\n",
       "            setTimeout(function() {\n",
       "                var nbb_cell_id = 682;\n",
       "                var nbb_unformatted_code = \"df_temp.head()\";\n",
       "                var nbb_formatted_code = \"df_temp.head()\";\n",
       "                var nbb_cells = Jupyter.notebook.get_cells();\n",
       "                for (var i = 0; i < nbb_cells.length; ++i) {\n",
       "                    if (nbb_cells[i].input_prompt_number == nbb_cell_id) {\n",
       "                        if (nbb_cells[i].get_text() == nbb_unformatted_code) {\n",
       "                             nbb_cells[i].set_text(nbb_formatted_code);\n",
       "                        }\n",
       "                        break;\n",
       "                    }\n",
       "                }\n",
       "            }, 500);\n",
       "            "
      ],
      "text/plain": [
       "<IPython.core.display.Javascript object>"
      ]
     },
     "metadata": {},
     "output_type": "display_data"
    }
   ],
   "source": [
    "df_temp.head()"
   ]
  },
  {
   "cell_type": "code",
   "execution_count": 702,
   "metadata": {
    "ExecuteTime": {
     "end_time": "2020-02-03T00:00:04.190439Z",
     "start_time": "2020-02-03T00:00:02.566773Z"
    }
   },
   "outputs": [
    {
     "data": {
      "text/plain": [
       "Text(0.5, 0, 'WHIP')"
      ]
     },
     "execution_count": 702,
     "metadata": {},
     "output_type": "execute_result"
    },
    {
     "data": {
      "image/png": "[encoded data removed]",
      "text/plain": [
       "<Figure size 864x288 with 2 Axes>"
      ]
     },
     "metadata": {
      "needs_background": "light"
     },
     "output_type": "display_data"
    },
    {
     "data": {
      "application/javascript": [
       "\n",
       "            setTimeout(function() {\n",
       "                var nbb_cell_id = 702;\n",
       "                var nbb_unformatted_code = \"f, (ax1, ax2) = plt.subplots(1, 2, figsize=(12, 4), sharey=True)\\nax1.scatter(\\n    df_temp[\\\"OBP\\\"], df_temp[\\\"predprob\\\"], facecolor=\\\"blue\\\", edgecolors=\\\"black\\\", alpha=0.2\\n)\\nax1.set_xlabel(\\\"OBP\\\")\\nax1.set_ylabel(\\\"predicted probability\\\")\\n\\nax2.scatter(\\n    df_temp[\\\"WHIP\\\"],\\n    df_temp[\\\"predprob\\\"],\\n    facecolor=\\\"blue\\\",\\n    edgecolors=\\\"black\\\",\\n    alpha=0.2,\\n)\\nax2.set_xlabel(\\\"WHIP\\\")\";\n",
       "                var nbb_formatted_code = \"f, (ax1, ax2) = plt.subplots(1, 2, figsize=(12, 4), sharey=True)\\nax1.scatter(\\n    df_temp[\\\"OBP\\\"], df_temp[\\\"predprob\\\"], facecolor=\\\"blue\\\", edgecolors=\\\"black\\\", alpha=0.2\\n)\\nax1.set_xlabel(\\\"OBP\\\")\\nax1.set_ylabel(\\\"predicted probability\\\")\\n\\nax2.scatter(\\n    df_temp[\\\"WHIP\\\"],\\n    df_temp[\\\"predprob\\\"],\\n    facecolor=\\\"blue\\\",\\n    edgecolors=\\\"black\\\",\\n    alpha=0.2,\\n)\\nax2.set_xlabel(\\\"WHIP\\\")\";\n",
       "                var nbb_cells = Jupyter.notebook.get_cells();\n",
       "                for (var i = 0; i < nbb_cells.length; ++i) {\n",
       "                    if (nbb_cells[i].input_prompt_number == nbb_cell_id) {\n",
       "                        if (nbb_cells[i].get_text() == nbb_unformatted_code) {\n",
       "                             nbb_cells[i].set_text(nbb_formatted_code);\n",
       "                        }\n",
       "                        break;\n",
       "                    }\n",
       "                }\n",
       "            }, 500);\n",
       "            "
      ],
      "text/plain": [
       "<IPython.core.display.Javascript object>"
      ]
     },
     "metadata": {},
     "output_type": "display_data"
    }
   ],
   "source": [
    "f, (ax1, ax2) = plt.subplots(1, 2, figsize=(12, 4), sharey=True)\n",
    "ax1.scatter(\n",
    "    df_temp[\"OBP\"], df_temp[\"predprob\"], facecolor=\"blue\", edgecolors=\"black\", alpha=0.2\n",
    ")\n",
    "ax1.set_xlabel(\"OBP\")\n",
    "ax1.set_ylabel(\"predicted probability\")\n",
    "\n",
    "ax2.scatter(\n",
    "    df_temp[\"WHIP\"],\n",
    "    df_temp[\"predprob\"],\n",
    "    facecolor=\"blue\",\n",
    "    edgecolors=\"black\",\n",
    "    alpha=0.2,\n",
    ")\n",
    "ax2.set_xlabel(\"WHIP\");"
   ]
  },
  {
   "cell_type": "code",
   "execution_count": 701,
   "metadata": {
    "ExecuteTime": {
     "end_time": "2020-02-02T23:58:57.038844Z",
     "start_time": "2020-02-02T23:58:48.332144Z"
    }
   },
   "outputs": [
    {
     "data": {
      "text/plain": [
       "Text(0.5, 0, 'OBP')"
      ]
     },
     "execution_count": 701,
     "metadata": {},
     "output_type": "execute_result"
    },
    {
     "data": {
      "image/png": "[encoded data removed]",
      "text/plain": [
       "<Figure size 864x288 with 2 Axes>"
      ]
     },
     "metadata": {
      "needs_background": "light"
     },
     "output_type": "display_data"
    },
    {
     "data": {
      "application/javascript": [
       "\n",
       "            setTimeout(function() {\n",
       "                var nbb_cell_id = 701;\n",
       "                var nbb_unformatted_code = \"f, (ax1, ax2) = plt.subplots(1, 2, figsize=(12, 4), sharey=True)\\nax1.scatter(\\n    df_temp[\\\"OBP\\\"], df_temp[\\\"WHIP\\\"], facecolor=\\\"blue\\\", edgecolors=\\\"black\\\", alpha=0.2\\n)\\nax1.set_ylabel('WHIP')\\nax1.set_xlabel('OBP')\\n\\nsns.scatterplot(\\n    data=df_temp, x=\\\"OBP\\\", y=\\\"WHIP\\\", hue=\\\"predprob\\\", ax=ax2\\n)  # , legend=False)\\n\\nax2.set_xlabel('OBP')\";\n",
       "                var nbb_formatted_code = \"f, (ax1, ax2) = plt.subplots(1, 2, figsize=(12, 4), sharey=True)\\nax1.scatter(\\n    df_temp[\\\"OBP\\\"], df_temp[\\\"WHIP\\\"], facecolor=\\\"blue\\\", edgecolors=\\\"black\\\", alpha=0.2\\n)\\nax1.set_ylabel(\\\"WHIP\\\")\\nax1.set_xlabel(\\\"OBP\\\")\\n\\nsns.scatterplot(\\n    data=df_temp, x=\\\"OBP\\\", y=\\\"WHIP\\\", hue=\\\"predprob\\\", ax=ax2\\n)  # , legend=False)\\n\\nax2.set_xlabel(\\\"OBP\\\")\";\n",
       "                var nbb_cells = Jupyter.notebook.get_cells();\n",
       "                for (var i = 0; i < nbb_cells.length; ++i) {\n",
       "                    if (nbb_cells[i].input_prompt_number == nbb_cell_id) {\n",
       "                        if (nbb_cells[i].get_text() == nbb_unformatted_code) {\n",
       "                             nbb_cells[i].set_text(nbb_formatted_code);\n",
       "                        }\n",
       "                        break;\n",
       "                    }\n",
       "                }\n",
       "            }, 500);\n",
       "            "
      ],
      "text/plain": [
       "<IPython.core.display.Javascript object>"
      ]
     },
     "metadata": {},
     "output_type": "display_data"
    }
   ],
   "source": [
    "f, (ax1, ax2) = plt.subplots(1, 2, figsize=(12, 4), sharey=True)\n",
    "ax1.scatter(\n",
    "    df_temp[\"OBP\"], df_temp[\"WHIP\"], facecolor=\"blue\", edgecolors=\"black\", alpha=0.2\n",
    ")\n",
    "ax1.set_ylabel(\"WHIP\")\n",
    "ax1.set_xlabel(\"OBP\")\n",
    "\n",
    "sns.scatterplot(\n",
    "    data=df_temp, x=\"OBP\", y=\"WHIP\", hue=\"predprob\", ax=ax2\n",
    ")  # , legend=False)\n",
    "\n",
    "ax2.set_xlabel(\"OBP\")"
   ]
  },
  {
   "cell_type": "code",
   "execution_count": 700,
   "metadata": {
    "ExecuteTime": {
     "end_time": "2020-02-02T23:58:00.027920Z",
     "start_time": "2020-02-02T23:58:00.017008Z"
    }
   },
   "outputs": [
    {
     "name": "stdout",
     "output_type": "stream",
     "text": [
      "logistic regression coefficients:  [[0.1218267  0.08641798]]\n"
     ]
    },
    {
     "data": {
      "application/javascript": [
       "\n",
       "            setTimeout(function() {\n",
       "                var nbb_cell_id = 700;\n",
       "                var nbb_unformatted_code = \"print('logistic regression coefficients: ', log_reg_1M.coef_)\";\n",
       "                var nbb_formatted_code = \"print(\\\"logistic regression coefficients: \\\", log_reg_1M.coef_)\";\n",
       "                var nbb_cells = Jupyter.notebook.get_cells();\n",
       "                for (var i = 0; i < nbb_cells.length; ++i) {\n",
       "                    if (nbb_cells[i].input_prompt_number == nbb_cell_id) {\n",
       "                        if (nbb_cells[i].get_text() == nbb_unformatted_code) {\n",
       "                             nbb_cells[i].set_text(nbb_formatted_code);\n",
       "                        }\n",
       "                        break;\n",
       "                    }\n",
       "                }\n",
       "            }, 500);\n",
       "            "
      ],
      "text/plain": [
       "<IPython.core.display.Javascript object>"
      ]
     },
     "metadata": {},
     "output_type": "display_data"
    }
   ],
   "source": [
    "print(\"logistic regression coefficients: \", log_reg_1M.coef_)"
   ]
  },
  {
   "cell_type": "code",
   "execution_count": null,
   "metadata": {},
   "outputs": [],
   "source": []
  },
  {
   "cell_type": "code",
   "execution_count": null,
   "metadata": {},
   "outputs": [],
   "source": []
  },
  {
   "cell_type": "markdown",
   "metadata": {},
   "source": [
    "### More simple features"
   ]
  },
  {
   "cell_type": "code",
   "execution_count": 737,
   "metadata": {
    "ExecuteTime": {
     "end_time": "2020-02-03T01:27:11.591845Z",
     "start_time": "2020-02-03T01:27:11.580948Z"
    }
   },
   "outputs": [
    {
     "data": {
      "text/plain": [
       "Index(['game_date', 'batter', 'pitcher', 'events', 'stand', 'p_throws',\n",
       "       'inning_topbot', 'WAR_x', 'OBP', 'SLG', 'OPS', 'BB_perc', 'K_perc',\n",
       "       'key_mlbam_x', 'WAR_y', 'WHIP', 'ERA', 'BB/9', 'K/9', 'key_mlbam_y',\n",
       "       'event_code'],\n",
       "      dtype='object')"
      ]
     },
     "execution_count": 737,
     "metadata": {},
     "output_type": "execute_result"
    },
    {
     "data": {
      "application/javascript": [
       "\n",
       "            setTimeout(function() {\n",
       "                var nbb_cell_id = 737;\n",
       "                var nbb_unformatted_code = \"df_sc_events4model_bp.columns\";\n",
       "                var nbb_formatted_code = \"df_sc_events4model_bp.columns\";\n",
       "                var nbb_cells = Jupyter.notebook.get_cells();\n",
       "                for (var i = 0; i < nbb_cells.length; ++i) {\n",
       "                    if (nbb_cells[i].input_prompt_number == nbb_cell_id) {\n",
       "                        if (nbb_cells[i].get_text() == nbb_unformatted_code) {\n",
       "                             nbb_cells[i].set_text(nbb_formatted_code);\n",
       "                        }\n",
       "                        break;\n",
       "                    }\n",
       "                }\n",
       "            }, 500);\n",
       "            "
      ],
      "text/plain": [
       "<IPython.core.display.Javascript object>"
      ]
     },
     "metadata": {},
     "output_type": "display_data"
    }
   ],
   "source": [
    "df_sc_events4model_bp.columns"
   ]
  },
  {
   "cell_type": "code",
   "execution_count": 738,
   "metadata": {
    "ExecuteTime": {
     "end_time": "2020-02-03T01:27:15.149668Z",
     "start_time": "2020-02-03T01:27:14.956845Z"
    }
   },
   "outputs": [
    {
     "data": {
      "application/javascript": [
       "\n",
       "            setTimeout(function() {\n",
       "                var nbb_cell_id = 738;\n",
       "                var nbb_unformatted_code = \"col2keep = [\\\"event_code\\\", \\\"OBP\\\", \\\"WHIP\\\", \\\"stand\\\", \\\"p_throws\\\"]\\n\\ndf_sc_events4model_bp_simplecheck = df_sc_events4model_bp[col2keep].copy()\\n\\ndf_sc_events4model_bp_simplecheck[\\\"stand\\\"].replace({\\\"L\\\": 0, \\\"R\\\": 1}, inplace=True)\\ndf_sc_events4model_bp_simplecheck[\\\"p_throws\\\"].replace({\\\"L\\\": 0, \\\"R\\\": 1}, inplace=True)\";\n",
       "                var nbb_formatted_code = \"col2keep = [\\\"event_code\\\", \\\"OBP\\\", \\\"WHIP\\\", \\\"stand\\\", \\\"p_throws\\\"]\\n\\ndf_sc_events4model_bp_simplecheck = df_sc_events4model_bp[col2keep].copy()\\n\\ndf_sc_events4model_bp_simplecheck[\\\"stand\\\"].replace({\\\"L\\\": 0, \\\"R\\\": 1}, inplace=True)\\ndf_sc_events4model_bp_simplecheck[\\\"p_throws\\\"].replace({\\\"L\\\": 0, \\\"R\\\": 1}, inplace=True)\";\n",
       "                var nbb_cells = Jupyter.notebook.get_cells();\n",
       "                for (var i = 0; i < nbb_cells.length; ++i) {\n",
       "                    if (nbb_cells[i].input_prompt_number == nbb_cell_id) {\n",
       "                        if (nbb_cells[i].get_text() == nbb_unformatted_code) {\n",
       "                             nbb_cells[i].set_text(nbb_formatted_code);\n",
       "                        }\n",
       "                        break;\n",
       "                    }\n",
       "                }\n",
       "            }, 500);\n",
       "            "
      ],
      "text/plain": [
       "<IPython.core.display.Javascript object>"
      ]
     },
     "metadata": {},
     "output_type": "display_data"
    }
   ],
   "source": [
    "col2keep = [\"event_code\", \"OBP\", \"WHIP\", \"stand\", \"p_throws\"]\n",
    "\n",
    "df_sc_events4model_bp_simplecheck = df_sc_events4model_bp[col2keep].copy()\n",
    "\n",
    "df_sc_events4model_bp_simplecheck[\"stand\"].replace({\"L\": 0, \"R\": 1}, inplace=True)\n",
    "df_sc_events4model_bp_simplecheck[\"p_throws\"].replace({\"L\": 0, \"R\": 1}, inplace=True)"
   ]
  },
  {
   "cell_type": "code",
   "execution_count": 739,
   "metadata": {
    "ExecuteTime": {
     "end_time": "2020-02-03T01:27:18.715191Z",
     "start_time": "2020-02-03T01:27:18.696380Z"
    }
   },
   "outputs": [
    {
     "data": {
      "text/html": [
       "<div>\n",
       "<style scoped>\n",
       "    .dataframe tbody tr th:only-of-type {\n",
       "        vertical-align: middle;\n",
       "    }\n",
       "\n",
       "    .dataframe tbody tr th {\n",
       "        vertical-align: top;\n",
       "    }\n",
       "\n",
       "    .dataframe thead th {\n",
       "        text-align: right;\n",
       "    }\n",
       "</style>\n",
       "<table border=\"1\" class=\"dataframe\">\n",
       "  <thead>\n",
       "    <tr style=\"text-align: right;\">\n",
       "      <th></th>\n",
       "      <th>event_code</th>\n",
       "      <th>OBP</th>\n",
       "      <th>WHIP</th>\n",
       "      <th>stand</th>\n",
       "      <th>p_throws</th>\n",
       "    </tr>\n",
       "  </thead>\n",
       "  <tbody>\n",
       "    <tr>\n",
       "      <th>0</th>\n",
       "      <td>0</td>\n",
       "      <td>0.377</td>\n",
       "      <td>0.99</td>\n",
       "      <td>0</td>\n",
       "      <td>1</td>\n",
       "    </tr>\n",
       "    <tr>\n",
       "      <th>1</th>\n",
       "      <td>0</td>\n",
       "      <td>0.377</td>\n",
       "      <td>0.99</td>\n",
       "      <td>0</td>\n",
       "      <td>1</td>\n",
       "    </tr>\n",
       "    <tr>\n",
       "      <th>2</th>\n",
       "      <td>0</td>\n",
       "      <td>0.377</td>\n",
       "      <td>0.99</td>\n",
       "      <td>0</td>\n",
       "      <td>1</td>\n",
       "    </tr>\n",
       "    <tr>\n",
       "      <th>3</th>\n",
       "      <td>0</td>\n",
       "      <td>0.377</td>\n",
       "      <td>0.99</td>\n",
       "      <td>0</td>\n",
       "      <td>1</td>\n",
       "    </tr>\n",
       "    <tr>\n",
       "      <th>4</th>\n",
       "      <td>1</td>\n",
       "      <td>0.377</td>\n",
       "      <td>0.99</td>\n",
       "      <td>0</td>\n",
       "      <td>1</td>\n",
       "    </tr>\n",
       "  </tbody>\n",
       "</table>\n",
       "</div>"
      ],
      "text/plain": [
       "   event_code    OBP  WHIP  stand  p_throws\n",
       "0           0  0.377  0.99      0         1\n",
       "1           0  0.377  0.99      0         1\n",
       "2           0  0.377  0.99      0         1\n",
       "3           0  0.377  0.99      0         1\n",
       "4           1  0.377  0.99      0         1"
      ]
     },
     "execution_count": 739,
     "metadata": {},
     "output_type": "execute_result"
    },
    {
     "data": {
      "application/javascript": [
       "\n",
       "            setTimeout(function() {\n",
       "                var nbb_cell_id = 739;\n",
       "                var nbb_unformatted_code = \"df_sc_events4model_bp_simplecheck.head()\";\n",
       "                var nbb_formatted_code = \"df_sc_events4model_bp_simplecheck.head()\";\n",
       "                var nbb_cells = Jupyter.notebook.get_cells();\n",
       "                for (var i = 0; i < nbb_cells.length; ++i) {\n",
       "                    if (nbb_cells[i].input_prompt_number == nbb_cell_id) {\n",
       "                        if (nbb_cells[i].get_text() == nbb_unformatted_code) {\n",
       "                             nbb_cells[i].set_text(nbb_formatted_code);\n",
       "                        }\n",
       "                        break;\n",
       "                    }\n",
       "                }\n",
       "            }, 500);\n",
       "            "
      ],
      "text/plain": [
       "<IPython.core.display.Javascript object>"
      ]
     },
     "metadata": {},
     "output_type": "display_data"
    }
   ],
   "source": [
    "df_sc_events4model_bp_simplecheck.head()"
   ]
  },
  {
   "cell_type": "code",
   "execution_count": 740,
   "metadata": {
    "ExecuteTime": {
     "end_time": "2020-02-03T01:27:22.525841Z",
     "start_time": "2020-02-03T01:27:22.341982Z"
    }
   },
   "outputs": [
    {
     "data": {
      "application/javascript": [
       "\n",
       "            setTimeout(function() {\n",
       "                var nbb_cell_id = 740;\n",
       "                var nbb_unformatted_code = \"X_train_scale_1M, X_test_scale_1M, y_train_1M, y_test_1M, scale_vals = get_split_data(\\n    df_sc_events4model_bp_simplecheck, 0.4\\n)\";\n",
       "                var nbb_formatted_code = \"X_train_scale_1M, X_test_scale_1M, y_train_1M, y_test_1M, scale_vals = get_split_data(\\n    df_sc_events4model_bp_simplecheck, 0.4\\n)\";\n",
       "                var nbb_cells = Jupyter.notebook.get_cells();\n",
       "                for (var i = 0; i < nbb_cells.length; ++i) {\n",
       "                    if (nbb_cells[i].input_prompt_number == nbb_cell_id) {\n",
       "                        if (nbb_cells[i].get_text() == nbb_unformatted_code) {\n",
       "                             nbb_cells[i].set_text(nbb_formatted_code);\n",
       "                        }\n",
       "                        break;\n",
       "                    }\n",
       "                }\n",
       "            }, 500);\n",
       "            "
      ],
      "text/plain": [
       "<IPython.core.display.Javascript object>"
      ]
     },
     "metadata": {},
     "output_type": "display_data"
    }
   ],
   "source": [
    "X_train_scale_1M, X_test_scale_1M, y_train_1M, y_test_1M, scale_vals = get_split_data(\n",
    "    df_sc_events4model_bp_simplecheck, 0.4\n",
    ")"
   ]
  },
  {
   "cell_type": "code",
   "execution_count": 741,
   "metadata": {
    "ExecuteTime": {
     "end_time": "2020-02-03T01:27:26.193623Z",
     "start_time": "2020-02-03T01:27:26.178114Z"
    }
   },
   "outputs": [
    {
     "data": {
      "text/html": [
       "<div>\n",
       "<style scoped>\n",
       "    .dataframe tbody tr th:only-of-type {\n",
       "        vertical-align: middle;\n",
       "    }\n",
       "\n",
       "    .dataframe tbody tr th {\n",
       "        vertical-align: top;\n",
       "    }\n",
       "\n",
       "    .dataframe thead th {\n",
       "        text-align: right;\n",
       "    }\n",
       "</style>\n",
       "<table border=\"1\" class=\"dataframe\">\n",
       "  <thead>\n",
       "    <tr style=\"text-align: right;\">\n",
       "      <th></th>\n",
       "      <th>test</th>\n",
       "      <th>pred</th>\n",
       "      <th>predprob</th>\n",
       "    </tr>\n",
       "  </thead>\n",
       "  <tbody>\n",
       "    <tr>\n",
       "      <th>116951</th>\n",
       "      <td>1</td>\n",
       "      <td>1</td>\n",
       "      <td>0.528203</td>\n",
       "    </tr>\n",
       "    <tr>\n",
       "      <th>146125</th>\n",
       "      <td>1</td>\n",
       "      <td>0</td>\n",
       "      <td>0.479493</td>\n",
       "    </tr>\n",
       "    <tr>\n",
       "      <th>142042</th>\n",
       "      <td>0</td>\n",
       "      <td>1</td>\n",
       "      <td>0.523284</td>\n",
       "    </tr>\n",
       "    <tr>\n",
       "      <th>57356</th>\n",
       "      <td>0</td>\n",
       "      <td>1</td>\n",
       "      <td>0.574968</td>\n",
       "    </tr>\n",
       "    <tr>\n",
       "      <th>67644</th>\n",
       "      <td>0</td>\n",
       "      <td>1</td>\n",
       "      <td>0.573082</td>\n",
       "    </tr>\n",
       "  </tbody>\n",
       "</table>\n",
       "</div>"
      ],
      "text/plain": [
       "        test  pred  predprob\n",
       "116951     1     1  0.528203\n",
       "146125     1     0  0.479493\n",
       "142042     0     1  0.523284\n",
       "57356      0     1  0.574968\n",
       "67644      0     1  0.573082"
      ]
     },
     "execution_count": 741,
     "metadata": {},
     "output_type": "execute_result"
    },
    {
     "data": {
      "application/javascript": [
       "\n",
       "            setTimeout(function() {\n",
       "                var nbb_cell_id = 741;\n",
       "                var nbb_unformatted_code = \"df_eval_1M.head()\";\n",
       "                var nbb_formatted_code = \"df_eval_1M.head()\";\n",
       "                var nbb_cells = Jupyter.notebook.get_cells();\n",
       "                for (var i = 0; i < nbb_cells.length; ++i) {\n",
       "                    if (nbb_cells[i].input_prompt_number == nbb_cell_id) {\n",
       "                        if (nbb_cells[i].get_text() == nbb_unformatted_code) {\n",
       "                             nbb_cells[i].set_text(nbb_formatted_code);\n",
       "                        }\n",
       "                        break;\n",
       "                    }\n",
       "                }\n",
       "            }, 500);\n",
       "            "
      ],
      "text/plain": [
       "<IPython.core.display.Javascript object>"
      ]
     },
     "metadata": {},
     "output_type": "display_data"
    }
   ],
   "source": [
    "df_eval_1M.head()"
   ]
  },
  {
   "cell_type": "code",
   "execution_count": 742,
   "metadata": {
    "ExecuteTime": {
     "end_time": "2020-02-03T01:27:34.531040Z",
     "start_time": "2020-02-03T01:27:34.342223Z"
    }
   },
   "outputs": [
    {
     "name": "stdout",
     "output_type": "stream",
     "text": [
      "              precision    recall  f1-score   support\n",
      "\n",
      "           0       0.70      0.55      0.61     62864\n",
      "           1       0.35      0.52      0.42     30218\n",
      "\n",
      "    accuracy                           0.54     93082\n",
      "   macro avg       0.53      0.53      0.52     93082\n",
      "weighted avg       0.59      0.54      0.55     93082\n",
      "\n"
     ]
    },
    {
     "data": {
      "application/javascript": [
       "\n",
       "            setTimeout(function() {\n",
       "                var nbb_cell_id = 742;\n",
       "                var nbb_unformatted_code = \"print(metrics.classification_report(df_eval_1M[\\\"test\\\"], df_eval_1M[\\\"pred\\\"]))\";\n",
       "                var nbb_formatted_code = \"print(metrics.classification_report(df_eval_1M[\\\"test\\\"], df_eval_1M[\\\"pred\\\"]))\";\n",
       "                var nbb_cells = Jupyter.notebook.get_cells();\n",
       "                for (var i = 0; i < nbb_cells.length; ++i) {\n",
       "                    if (nbb_cells[i].input_prompt_number == nbb_cell_id) {\n",
       "                        if (nbb_cells[i].get_text() == nbb_unformatted_code) {\n",
       "                             nbb_cells[i].set_text(nbb_formatted_code);\n",
       "                        }\n",
       "                        break;\n",
       "                    }\n",
       "                }\n",
       "            }, 500);\n",
       "            "
      ],
      "text/plain": [
       "<IPython.core.display.Javascript object>"
      ]
     },
     "metadata": {},
     "output_type": "display_data"
    }
   ],
   "source": [
    "print(metrics.classification_report(df_eval_1M[\"test\"], df_eval_1M[\"pred\"]))"
   ]
  },
  {
   "cell_type": "code",
   "execution_count": 709,
   "metadata": {
    "ExecuteTime": {
     "end_time": "2020-02-03T00:10:21.409522Z",
     "start_time": "2020-02-03T00:10:21.261623Z"
    }
   },
   "outputs": [
    {
     "data": {
      "application/javascript": [
       "\n",
       "            setTimeout(function() {\n",
       "                var nbb_cell_id = 709;\n",
       "                var nbb_unformatted_code = \"df_temp = pd.merge(\\n    df_eval_1M, df_sc_events4model_bp_simplecheck, left_index=True, right_index=True\\n)\";\n",
       "                var nbb_formatted_code = \"df_temp = pd.merge(\\n    df_eval_1M, df_sc_events4model_bp_simplecheck, left_index=True, right_index=True\\n)\";\n",
       "                var nbb_cells = Jupyter.notebook.get_cells();\n",
       "                for (var i = 0; i < nbb_cells.length; ++i) {\n",
       "                    if (nbb_cells[i].input_prompt_number == nbb_cell_id) {\n",
       "                        if (nbb_cells[i].get_text() == nbb_unformatted_code) {\n",
       "                             nbb_cells[i].set_text(nbb_formatted_code);\n",
       "                        }\n",
       "                        break;\n",
       "                    }\n",
       "                }\n",
       "            }, 500);\n",
       "            "
      ],
      "text/plain": [
       "<IPython.core.display.Javascript object>"
      ]
     },
     "metadata": {},
     "output_type": "display_data"
    }
   ],
   "source": [
    "df_temp = pd.merge(\n",
    "    df_eval_1M, df_sc_events4model_bp_simplecheck, left_index=True, right_index=True\n",
    ")"
   ]
  },
  {
   "cell_type": "code",
   "execution_count": 710,
   "metadata": {
    "ExecuteTime": {
     "end_time": "2020-02-03T00:10:25.455882Z",
     "start_time": "2020-02-03T00:10:25.434670Z"
    }
   },
   "outputs": [
    {
     "data": {
      "text/html": [
       "<div>\n",
       "<style scoped>\n",
       "    .dataframe tbody tr th:only-of-type {\n",
       "        vertical-align: middle;\n",
       "    }\n",
       "\n",
       "    .dataframe tbody tr th {\n",
       "        vertical-align: top;\n",
       "    }\n",
       "\n",
       "    .dataframe thead th {\n",
       "        text-align: right;\n",
       "    }\n",
       "</style>\n",
       "<table border=\"1\" class=\"dataframe\">\n",
       "  <thead>\n",
       "    <tr style=\"text-align: right;\">\n",
       "      <th></th>\n",
       "      <th>test</th>\n",
       "      <th>pred</th>\n",
       "      <th>predprob</th>\n",
       "      <th>event_code</th>\n",
       "      <th>OBP</th>\n",
       "      <th>WHIP</th>\n",
       "      <th>stand</th>\n",
       "      <th>p_throws</th>\n",
       "    </tr>\n",
       "  </thead>\n",
       "  <tbody>\n",
       "    <tr>\n",
       "      <th>116951</th>\n",
       "      <td>1</td>\n",
       "      <td>0</td>\n",
       "      <td>0.343435</td>\n",
       "      <td>1</td>\n",
       "      <td>0.290</td>\n",
       "      <td>1.77</td>\n",
       "      <td>1</td>\n",
       "      <td>0</td>\n",
       "    </tr>\n",
       "    <tr>\n",
       "      <th>146125</th>\n",
       "      <td>1</td>\n",
       "      <td>0</td>\n",
       "      <td>0.305458</td>\n",
       "      <td>1</td>\n",
       "      <td>0.303</td>\n",
       "      <td>1.30</td>\n",
       "      <td>1</td>\n",
       "      <td>1</td>\n",
       "    </tr>\n",
       "    <tr>\n",
       "      <th>142042</th>\n",
       "      <td>0</td>\n",
       "      <td>0</td>\n",
       "      <td>0.339035</td>\n",
       "      <td>0</td>\n",
       "      <td>0.352</td>\n",
       "      <td>1.29</td>\n",
       "      <td>0</td>\n",
       "      <td>0</td>\n",
       "    </tr>\n",
       "    <tr>\n",
       "      <th>57356</th>\n",
       "      <td>0</td>\n",
       "      <td>0</td>\n",
       "      <td>0.392314</td>\n",
       "      <td>0</td>\n",
       "      <td>0.460</td>\n",
       "      <td>1.03</td>\n",
       "      <td>1</td>\n",
       "      <td>1</td>\n",
       "    </tr>\n",
       "    <tr>\n",
       "      <th>67644</th>\n",
       "      <td>0</td>\n",
       "      <td>0</td>\n",
       "      <td>0.389803</td>\n",
       "      <td>0</td>\n",
       "      <td>0.366</td>\n",
       "      <td>1.67</td>\n",
       "      <td>0</td>\n",
       "      <td>1</td>\n",
       "    </tr>\n",
       "  </tbody>\n",
       "</table>\n",
       "</div>"
      ],
      "text/plain": [
       "        test  pred  predprob  event_code    OBP  WHIP  stand  p_throws\n",
       "116951     1     0  0.343435           1  0.290  1.77      1         0\n",
       "146125     1     0  0.305458           1  0.303  1.30      1         1\n",
       "142042     0     0  0.339035           0  0.352  1.29      0         0\n",
       "57356      0     0  0.392314           0  0.460  1.03      1         1\n",
       "67644      0     0  0.389803           0  0.366  1.67      0         1"
      ]
     },
     "execution_count": 710,
     "metadata": {},
     "output_type": "execute_result"
    },
    {
     "data": {
      "application/javascript": [
       "\n",
       "            setTimeout(function() {\n",
       "                var nbb_cell_id = 710;\n",
       "                var nbb_unformatted_code = \"df_temp.head()\";\n",
       "                var nbb_formatted_code = \"df_temp.head()\";\n",
       "                var nbb_cells = Jupyter.notebook.get_cells();\n",
       "                for (var i = 0; i < nbb_cells.length; ++i) {\n",
       "                    if (nbb_cells[i].input_prompt_number == nbb_cell_id) {\n",
       "                        if (nbb_cells[i].get_text() == nbb_unformatted_code) {\n",
       "                             nbb_cells[i].set_text(nbb_formatted_code);\n",
       "                        }\n",
       "                        break;\n",
       "                    }\n",
       "                }\n",
       "            }, 500);\n",
       "            "
      ],
      "text/plain": [
       "<IPython.core.display.Javascript object>"
      ]
     },
     "metadata": {},
     "output_type": "display_data"
    }
   ],
   "source": [
    "df_temp.head()"
   ]
  },
  {
   "cell_type": "code",
   "execution_count": 711,
   "metadata": {
    "ExecuteTime": {
     "end_time": "2020-02-03T00:10:54.743113Z",
     "start_time": "2020-02-03T00:10:54.473033Z"
    }
   },
   "outputs": [
    {
     "data": {
      "text/plain": [
       "<matplotlib.axes._subplots.AxesSubplot at 0x1acc4b3c18>"
      ]
     },
     "execution_count": 711,
     "metadata": {},
     "output_type": "execute_result"
    },
    {
     "data": {
      "image/png": "[encoded data removed]",
      "text/plain": [
       "<Figure size 432x288 with 1 Axes>"
      ]
     },
     "metadata": {
      "needs_background": "light"
     },
     "output_type": "display_data"
    },
    {
     "data": {
      "application/javascript": [
       "\n",
       "            setTimeout(function() {\n",
       "                var nbb_cell_id = 711;\n",
       "                var nbb_unformatted_code = \"df_temp['predprob'].hist()\";\n",
       "                var nbb_formatted_code = \"df_temp[\\\"predprob\\\"].hist()\";\n",
       "                var nbb_cells = Jupyter.notebook.get_cells();\n",
       "                for (var i = 0; i < nbb_cells.length; ++i) {\n",
       "                    if (nbb_cells[i].input_prompt_number == nbb_cell_id) {\n",
       "                        if (nbb_cells[i].get_text() == nbb_unformatted_code) {\n",
       "                             nbb_cells[i].set_text(nbb_formatted_code);\n",
       "                        }\n",
       "                        break;\n",
       "                    }\n",
       "                }\n",
       "            }, 500);\n",
       "            "
      ],
      "text/plain": [
       "<IPython.core.display.Javascript object>"
      ]
     },
     "metadata": {},
     "output_type": "display_data"
    }
   ],
   "source": [
    "# Right-handed batters against right-handed pitchersdf_temp[\"predprob\"].hist()"
   ]
  },
  {
   "cell_type": "code",
   "execution_count": 726,
   "metadata": {
    "ExecuteTime": {
     "end_time": "2020-02-03T00:43:33.631198Z",
     "start_time": "2020-02-03T00:43:32.987327Z"
    }
   },
   "outputs": [
    {
     "data": {
      "text/plain": [
       "Text(0.5, 1.0, 'R vs. L')"
      ]
     },
     "execution_count": 726,
     "metadata": {},
     "output_type": "execute_result"
    },
    {
     "data": {
      "image/png": "[encoded data removed]",
      "text/plain": [
       "<Figure size 864x288 with 2 Axes>"
      ]
     },
     "metadata": {
      "needs_background": "light"
     },
     "output_type": "display_data"
    },
    {
     "data": {
      "application/javascript": [
       "\n",
       "            setTimeout(function() {\n",
       "                var nbb_cell_id = 726;\n",
       "                var nbb_unformatted_code = \"f, (ax1, ax2) = plt.subplots(2, 1, figsize=(12, 4), sharex=True)\\n\\n# Right-handed batters against right-handed pitchers\\ndf_temp_RR = df_temp[(df_temp[\\\"stand\\\"] == 1) & (df_temp[\\\"p_throws\\\"] == 1)].copy()\\ndf_temp_RR[\\\"predprob\\\"].hist(bins=50, ax=ax1)\\nax1.axvline(x=df_temp_RR[\\\"predprob\\\"].median(), ymin=0, ymax=3000, color=\\\"red\\\")\\nax1.set_title(\\\"R vs. R\\\")\\n\\n# Right-handed batters against left-handed pitchers\\ndf_temp_RL = df_temp[(df_temp[\\\"stand\\\"] == 1) & (df_temp[\\\"p_throws\\\"] == 0)].copy()\\ndf_temp_RL[\\\"predprob\\\"].hist(bins=50, ax=ax2)\\nax2.axvline(x=df_temp_RL[\\\"predprob\\\"].median(), ymin=0, ymax=3000, color=\\\"red\\\")\\nax2.set_title(\\\"R vs. L\\\")\";\n",
       "                var nbb_formatted_code = \"f, (ax1, ax2) = plt.subplots(2, 1, figsize=(12, 4), sharex=True)\\n\\n# Right-handed batters against right-handed pitchers\\ndf_temp_RR = df_temp[(df_temp[\\\"stand\\\"] == 1) & (df_temp[\\\"p_throws\\\"] == 1)].copy()\\ndf_temp_RR[\\\"predprob\\\"].hist(bins=50, ax=ax1)\\nax1.axvline(x=df_temp_RR[\\\"predprob\\\"].median(), ymin=0, ymax=3000, color=\\\"red\\\")\\nax1.set_title(\\\"R vs. R\\\")\\n\\n# Right-handed batters against left-handed pitchers\\ndf_temp_RL = df_temp[(df_temp[\\\"stand\\\"] == 1) & (df_temp[\\\"p_throws\\\"] == 0)].copy()\\ndf_temp_RL[\\\"predprob\\\"].hist(bins=50, ax=ax2)\\nax2.axvline(x=df_temp_RL[\\\"predprob\\\"].median(), ymin=0, ymax=3000, color=\\\"red\\\")\\nax2.set_title(\\\"R vs. L\\\")\";\n",
       "                var nbb_cells = Jupyter.notebook.get_cells();\n",
       "                for (var i = 0; i < nbb_cells.length; ++i) {\n",
       "                    if (nbb_cells[i].input_prompt_number == nbb_cell_id) {\n",
       "                        if (nbb_cells[i].get_text() == nbb_unformatted_code) {\n",
       "                             nbb_cells[i].set_text(nbb_formatted_code);\n",
       "                        }\n",
       "                        break;\n",
       "                    }\n",
       "                }\n",
       "            }, 500);\n",
       "            "
      ],
      "text/plain": [
       "<IPython.core.display.Javascript object>"
      ]
     },
     "metadata": {},
     "output_type": "display_data"
    }
   ],
   "source": [
    "f, (ax1, ax2) = plt.subplots(2, 1, figsize=(12, 4), sharex=True)\n",
    "\n",
    "# Right-handed batters against right-handed pitchers\n",
    "df_temp_RR = df_temp[(df_temp[\"stand\"] == 1) & (df_temp[\"p_throws\"] == 1)].copy()\n",
    "df_temp_RR[\"predprob\"].hist(bins=50, ax=ax1)\n",
    "ax1.axvline(x=df_temp_RR[\"predprob\"].median(), ymin=0, ymax=3000, color=\"red\")\n",
    "ax1.set_title(\"R vs. R\")\n",
    "\n",
    "# Right-handed batters against left-handed pitchers\n",
    "df_temp_RL = df_temp[(df_temp[\"stand\"] == 1) & (df_temp[\"p_throws\"] == 0)].copy()\n",
    "df_temp_RL[\"predprob\"].hist(bins=50, ax=ax2)\n",
    "ax2.axvline(x=df_temp_RL[\"predprob\"].median(), ymin=0, ymax=3000, color=\"red\")\n",
    "ax2.set_title(\"R vs. L\")"
   ]
  },
  {
   "cell_type": "code",
   "execution_count": null,
   "metadata": {},
   "outputs": [],
   "source": []
  },
  {
   "cell_type": "code",
   "execution_count": 723,
   "metadata": {
    "ExecuteTime": {
     "end_time": "2020-02-03T00:39:34.084113Z",
     "start_time": "2020-02-03T00:39:33.338910Z"
    }
   },
   "outputs": [
    {
     "data": {
      "text/plain": [
       "<matplotlib.lines.Line2D at 0x1a6c1649e8>"
      ]
     },
     "execution_count": 723,
     "metadata": {},
     "output_type": "execute_result"
    },
    {
     "data": {
      "image/png": "[encoded data removed]",
      "text/plain": [
       "<Figure size 864x288 with 2 Axes>"
      ]
     },
     "metadata": {
      "needs_background": "light"
     },
     "output_type": "display_data"
    },
    {
     "data": {
      "application/javascript": [
       "\n",
       "            setTimeout(function() {\n",
       "                var nbb_cell_id = 723;\n",
       "                var nbb_unformatted_code = \"f, (ax1, ax2) = plt.subplots(2, 1, figsize=(12, 4), sharex=True)\\n\\n# Left-handed batters against right-handed pitchers\\ndf_temp_RR = df_temp[(df_temp['stand']==0) & (df_temp['p_throws']==1)].copy()\\ndf_temp_RR['predprob'].hist(bins=50, ax=ax1)\\nax1.axvline(x=df_temp_RR[\\\"predprob\\\"].median(), ymin=0, ymax=3000, color='red')\\n\\n# Left-handed batters against left-handed pitchers\\ndf_temp_RL = df_temp[(df_temp['stand']==0) & (df_temp['p_throws']==0)].copy()\\ndf_temp_RL['predprob'].hist(bins=50, ax=ax2)\\nax2.axvline(x=df_temp_RL[\\\"predprob\\\"].median(), ymin=0, ymax=3000, color='red')\";\n",
       "                var nbb_formatted_code = \"f, (ax1, ax2) = plt.subplots(2, 1, figsize=(12, 4), sharex=True)\\n\\n# Left-handed batters against right-handed pitchers\\ndf_temp_RR = df_temp[(df_temp[\\\"stand\\\"] == 0) & (df_temp[\\\"p_throws\\\"] == 1)].copy()\\ndf_temp_RR[\\\"predprob\\\"].hist(bins=50, ax=ax1)\\nax1.axvline(x=df_temp_RR[\\\"predprob\\\"].median(), ymin=0, ymax=3000, color=\\\"red\\\")\\n\\n# Left-handed batters against left-handed pitchers\\ndf_temp_RL = df_temp[(df_temp[\\\"stand\\\"] == 0) & (df_temp[\\\"p_throws\\\"] == 0)].copy()\\ndf_temp_RL[\\\"predprob\\\"].hist(bins=50, ax=ax2)\\nax2.axvline(x=df_temp_RL[\\\"predprob\\\"].median(), ymin=0, ymax=3000, color=\\\"red\\\")\";\n",
       "                var nbb_cells = Jupyter.notebook.get_cells();\n",
       "                for (var i = 0; i < nbb_cells.length; ++i) {\n",
       "                    if (nbb_cells[i].input_prompt_number == nbb_cell_id) {\n",
       "                        if (nbb_cells[i].get_text() == nbb_unformatted_code) {\n",
       "                             nbb_cells[i].set_text(nbb_formatted_code);\n",
       "                        }\n",
       "                        break;\n",
       "                    }\n",
       "                }\n",
       "            }, 500);\n",
       "            "
      ],
      "text/plain": [
       "<IPython.core.display.Javascript object>"
      ]
     },
     "metadata": {},
     "output_type": "display_data"
    }
   ],
   "source": [
    "f, (ax1, ax2) = plt.subplots(2, 1, figsize=(12, 4), sharex=True)\n",
    "\n",
    "# Left-handed batters against right-handed pitchers\n",
    "df_temp_LR = df_temp[(df_temp['stand']==0) & (df_temp['p_throws']==1)].copy()\n",
    "df_temp_LR['predprob'].hist(bins=50, ax=ax1)\n",
    "ax1.axvline(x=df_temp_LR[\"predprob\"].median(), ymin=0, ymax=3000, color='red')\n",
    "ax1.set_title('L vs. R')\n",
    "\n",
    "# Left-handed batters against left-handed pitchers\n",
    "df_temp_LL = df_temp[(df_temp['stand']==0) & (df_temp['p_throws']==0)].copy()\n",
    "df_temp_LL['predprob'].hist(bins=50, ax=ax2)\n",
    "ax2.axvline(x=df_temp_LL[\"predprob\"].median(), ymin=0, ymax=3000, color='red')\n",
    "ax2.set_title('L vs. L')\n"
   ]
  },
  {
   "cell_type": "code",
   "execution_count": 714,
   "metadata": {
    "ExecuteTime": {
     "end_time": "2020-02-03T00:17:12.472949Z",
     "start_time": "2020-02-03T00:17:12.455496Z"
    }
   },
   "outputs": [
    {
     "data": {
      "text/html": [
       "<div>\n",
       "<style scoped>\n",
       "    .dataframe tbody tr th:only-of-type {\n",
       "        vertical-align: middle;\n",
       "    }\n",
       "\n",
       "    .dataframe tbody tr th {\n",
       "        vertical-align: top;\n",
       "    }\n",
       "\n",
       "    .dataframe thead th {\n",
       "        text-align: right;\n",
       "    }\n",
       "</style>\n",
       "<table border=\"1\" class=\"dataframe\">\n",
       "  <thead>\n",
       "    <tr style=\"text-align: right;\">\n",
       "      <th></th>\n",
       "      <th>test</th>\n",
       "      <th>pred</th>\n",
       "      <th>predprob</th>\n",
       "      <th>event_code</th>\n",
       "      <th>OBP</th>\n",
       "      <th>WHIP</th>\n",
       "      <th>stand</th>\n",
       "      <th>p_throws</th>\n",
       "    </tr>\n",
       "  </thead>\n",
       "  <tbody>\n",
       "    <tr>\n",
       "      <th>116951</th>\n",
       "      <td>1</td>\n",
       "      <td>0</td>\n",
       "      <td>0.343435</td>\n",
       "      <td>1</td>\n",
       "      <td>0.290</td>\n",
       "      <td>1.77</td>\n",
       "      <td>1</td>\n",
       "      <td>0</td>\n",
       "    </tr>\n",
       "    <tr>\n",
       "      <th>54294</th>\n",
       "      <td>0</td>\n",
       "      <td>0</td>\n",
       "      <td>0.329671</td>\n",
       "      <td>0</td>\n",
       "      <td>0.356</td>\n",
       "      <td>1.17</td>\n",
       "      <td>1</td>\n",
       "      <td>0</td>\n",
       "    </tr>\n",
       "    <tr>\n",
       "      <th>179052</th>\n",
       "      <td>1</td>\n",
       "      <td>0</td>\n",
       "      <td>0.297914</td>\n",
       "      <td>1</td>\n",
       "      <td>0.282</td>\n",
       "      <td>1.37</td>\n",
       "      <td>1</td>\n",
       "      <td>0</td>\n",
       "    </tr>\n",
       "    <tr>\n",
       "      <th>201265</th>\n",
       "      <td>0</td>\n",
       "      <td>0</td>\n",
       "      <td>0.267126</td>\n",
       "      <td>0</td>\n",
       "      <td>0.252</td>\n",
       "      <td>1.25</td>\n",
       "      <td>1</td>\n",
       "      <td>0</td>\n",
       "    </tr>\n",
       "    <tr>\n",
       "      <th>176854</th>\n",
       "      <td>0</td>\n",
       "      <td>0</td>\n",
       "      <td>0.323166</td>\n",
       "      <td>0</td>\n",
       "      <td>0.327</td>\n",
       "      <td>1.31</td>\n",
       "      <td>1</td>\n",
       "      <td>0</td>\n",
       "    </tr>\n",
       "  </tbody>\n",
       "</table>\n",
       "</div>"
      ],
      "text/plain": [
       "        test  pred  predprob  event_code    OBP  WHIP  stand  p_throws\n",
       "116951     1     0  0.343435           1  0.290  1.77      1         0\n",
       "54294      0     0  0.329671           0  0.356  1.17      1         0\n",
       "179052     1     0  0.297914           1  0.282  1.37      1         0\n",
       "201265     0     0  0.267126           0  0.252  1.25      1         0\n",
       "176854     0     0  0.323166           0  0.327  1.31      1         0"
      ]
     },
     "execution_count": 714,
     "metadata": {},
     "output_type": "execute_result"
    },
    {
     "data": {
      "application/javascript": [
       "\n",
       "            setTimeout(function() {\n",
       "                var nbb_cell_id = 714;\n",
       "                var nbb_unformatted_code = \"df_temp_RL.head()\";\n",
       "                var nbb_formatted_code = \"df_temp_RL.head()\";\n",
       "                var nbb_cells = Jupyter.notebook.get_cells();\n",
       "                for (var i = 0; i < nbb_cells.length; ++i) {\n",
       "                    if (nbb_cells[i].input_prompt_number == nbb_cell_id) {\n",
       "                        if (nbb_cells[i].get_text() == nbb_unformatted_code) {\n",
       "                             nbb_cells[i].set_text(nbb_formatted_code);\n",
       "                        }\n",
       "                        break;\n",
       "                    }\n",
       "                }\n",
       "            }, 500);\n",
       "            "
      ],
      "text/plain": [
       "<IPython.core.display.Javascript object>"
      ]
     },
     "metadata": {},
     "output_type": "display_data"
    }
   ],
   "source": [
    "df_temp_RL.head()"
   ]
  },
  {
   "cell_type": "code",
   "execution_count": 731,
   "metadata": {
    "ExecuteTime": {
     "end_time": "2020-02-03T00:47:05.593998Z",
     "start_time": "2020-02-03T00:47:05.527620Z"
    }
   },
   "outputs": [
    {
     "data": {
      "text/html": [
       "<div>\n",
       "<style scoped>\n",
       "    .dataframe tbody tr th:only-of-type {\n",
       "        vertical-align: middle;\n",
       "    }\n",
       "\n",
       "    .dataframe tbody tr th {\n",
       "        vertical-align: top;\n",
       "    }\n",
       "\n",
       "    .dataframe thead th {\n",
       "        text-align: right;\n",
       "    }\n",
       "</style>\n",
       "<table border=\"1\" class=\"dataframe\">\n",
       "  <thead>\n",
       "    <tr style=\"text-align: right;\">\n",
       "      <th></th>\n",
       "      <th></th>\n",
       "      <th>event_code</th>\n",
       "      <th>predprob</th>\n",
       "    </tr>\n",
       "    <tr>\n",
       "      <th>stand</th>\n",
       "      <th>p_throws</th>\n",
       "      <th></th>\n",
       "      <th></th>\n",
       "    </tr>\n",
       "  </thead>\n",
       "  <tbody>\n",
       "    <tr>\n",
       "      <th rowspan=\"2\" valign=\"top\">0</th>\n",
       "      <th>0</th>\n",
       "      <td>0.309752</td>\n",
       "      <td>0.328529</td>\n",
       "    </tr>\n",
       "    <tr>\n",
       "      <th>1</th>\n",
       "      <td>0.332953</td>\n",
       "      <td>0.324170</td>\n",
       "    </tr>\n",
       "    <tr>\n",
       "      <th rowspan=\"2\" valign=\"top\">1</th>\n",
       "      <th>0</th>\n",
       "      <td>0.331221</td>\n",
       "      <td>0.318084</td>\n",
       "    </tr>\n",
       "    <tr>\n",
       "      <th>1</th>\n",
       "      <td>0.315277</td>\n",
       "      <td>0.320297</td>\n",
       "    </tr>\n",
       "  </tbody>\n",
       "</table>\n",
       "</div>"
      ],
      "text/plain": [
       "                event_code  predprob\n",
       "stand p_throws                      \n",
       "0     0           0.309752  0.328529\n",
       "      1           0.332953  0.324170\n",
       "1     0           0.331221  0.318084\n",
       "      1           0.315277  0.320297"
      ]
     },
     "execution_count": 731,
     "metadata": {},
     "output_type": "execute_result"
    },
    {
     "data": {
      "application/javascript": [
       "\n",
       "            setTimeout(function() {\n",
       "                var nbb_cell_id = 731;\n",
       "                var nbb_unformatted_code = \"df_temp.groupby([\\\"stand\\\", \\\"p_throws\\\"]).mean()[[\\\"event_code\\\", \\\"predprob\\\"]]\";\n",
       "                var nbb_formatted_code = \"df_temp.groupby([\\\"stand\\\", \\\"p_throws\\\"]).mean()[[\\\"event_code\\\", \\\"predprob\\\"]]\";\n",
       "                var nbb_cells = Jupyter.notebook.get_cells();\n",
       "                for (var i = 0; i < nbb_cells.length; ++i) {\n",
       "                    if (nbb_cells[i].input_prompt_number == nbb_cell_id) {\n",
       "                        if (nbb_cells[i].get_text() == nbb_unformatted_code) {\n",
       "                             nbb_cells[i].set_text(nbb_formatted_code);\n",
       "                        }\n",
       "                        break;\n",
       "                    }\n",
       "                }\n",
       "            }, 500);\n",
       "            "
      ],
      "text/plain": [
       "<IPython.core.display.Javascript object>"
      ]
     },
     "metadata": {},
     "output_type": "display_data"
    }
   ],
   "source": [
    "df_temp.groupby([\"stand\", \"p_throws\"]).mean()[[\"event_code\", \"predprob\"]]"
   ]
  },
  {
   "cell_type": "code",
   "execution_count": 729,
   "metadata": {
    "ExecuteTime": {
     "end_time": "2020-02-03T00:45:05.404171Z",
     "start_time": "2020-02-03T00:45:05.345694Z"
    }
   },
   "outputs": [
    {
     "data": {
      "text/plain": [
       "stand  p_throws\n",
       "0      0            6460\n",
       "       1           32389\n",
       "1      0           20986\n",
       "       1           33247\n",
       "Name: event_code, dtype: int64"
      ]
     },
     "execution_count": 729,
     "metadata": {},
     "output_type": "execute_result"
    },
    {
     "data": {
      "application/javascript": [
       "\n",
       "            setTimeout(function() {\n",
       "                var nbb_cell_id = 729;\n",
       "                var nbb_unformatted_code = \"df_temp.groupby([\\\"stand\\\", \\\"p_throws\\\"]).count()[\\\"event_code\\\"]\";\n",
       "                var nbb_formatted_code = \"df_temp.groupby([\\\"stand\\\", \\\"p_throws\\\"]).count()[\\\"event_code\\\"]\";\n",
       "                var nbb_cells = Jupyter.notebook.get_cells();\n",
       "                for (var i = 0; i < nbb_cells.length; ++i) {\n",
       "                    if (nbb_cells[i].input_prompt_number == nbb_cell_id) {\n",
       "                        if (nbb_cells[i].get_text() == nbb_unformatted_code) {\n",
       "                             nbb_cells[i].set_text(nbb_formatted_code);\n",
       "                        }\n",
       "                        break;\n",
       "                    }\n",
       "                }\n",
       "            }, 500);\n",
       "            "
      ],
      "text/plain": [
       "<IPython.core.display.Javascript object>"
      ]
     },
     "metadata": {},
     "output_type": "display_data"
    }
   ],
   "source": [
    "df_temp.groupby([\"stand\", \"p_throws\"]).count()[\"event_code\"]"
   ]
  },
  {
   "cell_type": "code",
   "execution_count": null,
   "metadata": {},
   "outputs": [],
   "source": []
  },
  {
   "cell_type": "code",
   "execution_count": null,
   "metadata": {},
   "outputs": [],
   "source": []
  },
  {
   "cell_type": "markdown",
   "metadata": {},
   "source": [
    "### Adding other features"
   ]
  },
  {
   "cell_type": "code",
   "execution_count": 491,
   "metadata": {
    "ExecuteTime": {
     "end_time": "2020-01-31T20:36:22.791212Z",
     "start_time": "2020-01-31T20:36:22.276759Z"
    }
   },
   "outputs": [
    {
     "data": {
      "application/javascript": [
       "\n",
       "            setTimeout(function() {\n",
       "                var nbb_cell_id = 491;\n",
       "                var nbb_unformatted_code = \"# OHE batter, pitcher handedness\\n# OHE top/away, home/bottom\\ndf_sc_events4model_bp_ohe = pd.get_dummies(\\n    df_sc_events4model_bp, prefix=[\\\"bs\\\"], columns=[\\\"stand\\\"]\\n)\\n\\ndf_sc_events4model_bp_ohe = pd.get_dummies(\\n    df_sc_events4model_bp_ohe, prefix=[\\\"pt\\\"], columns=[\\\"p_throws\\\"]\\n)\\n\\ndf_sc_events4model_bp_ohe = pd.get_dummies(\\n    df_sc_events4model_bp_ohe, prefix=[\\\"ah\\\"], columns=[\\\"inning_topbot\\\"]\\n)\";\n",
       "                var nbb_formatted_code = \"# OHE batter, pitcher handedness\\n# OHE top/away, home/bottom\\ndf_sc_events4model_bp_ohe = pd.get_dummies(\\n    df_sc_events4model_bp, prefix=[\\\"bs\\\"], columns=[\\\"stand\\\"]\\n)\\n\\ndf_sc_events4model_bp_ohe = pd.get_dummies(\\n    df_sc_events4model_bp_ohe, prefix=[\\\"pt\\\"], columns=[\\\"p_throws\\\"]\\n)\\n\\ndf_sc_events4model_bp_ohe = pd.get_dummies(\\n    df_sc_events4model_bp_ohe, prefix=[\\\"ah\\\"], columns=[\\\"inning_topbot\\\"]\\n)\";\n",
       "                var nbb_cells = Jupyter.notebook.get_cells();\n",
       "                for (var i = 0; i < nbb_cells.length; ++i) {\n",
       "                    if (nbb_cells[i].input_prompt_number == nbb_cell_id) {\n",
       "                        if (nbb_cells[i].get_text() == nbb_unformatted_code) {\n",
       "                             nbb_cells[i].set_text(nbb_formatted_code);\n",
       "                        }\n",
       "                        break;\n",
       "                    }\n",
       "                }\n",
       "            }, 500);\n",
       "            "
      ],
      "text/plain": [
       "<IPython.core.display.Javascript object>"
      ]
     },
     "metadata": {},
     "output_type": "display_data"
    }
   ],
   "source": [
    "# OHE batter, pitcher handedness\n",
    "# OHE top/away, home/bottom\n",
    "df_sc_events4model_bp_ohe = pd.get_dummies(\n",
    "    df_sc_events4model_bp, prefix=[\"bs\"], columns=[\"stand\"]\n",
    ")\n",
    "\n",
    "df_sc_events4model_bp_ohe = pd.get_dummies(\n",
    "    df_sc_events4model_bp_ohe, prefix=[\"pt\"], columns=[\"p_throws\"]\n",
    ")\n",
    "\n",
    "df_sc_events4model_bp_ohe = pd.get_dummies(\n",
    "    df_sc_events4model_bp_ohe, prefix=[\"ah\"], columns=[\"inning_topbot\"]\n",
    ")\n"
   ]
  },
  {
   "cell_type": "code",
   "execution_count": 492,
   "metadata": {
    "ExecuteTime": {
     "end_time": "2020-01-31T20:36:25.089996Z",
     "start_time": "2020-01-31T20:36:25.051901Z"
    }
   },
   "outputs": [
    {
     "data": {
      "text/html": [
       "<div>\n",
       "<style scoped>\n",
       "    .dataframe tbody tr th:only-of-type {\n",
       "        vertical-align: middle;\n",
       "    }\n",
       "\n",
       "    .dataframe tbody tr th {\n",
       "        vertical-align: top;\n",
       "    }\n",
       "\n",
       "    .dataframe thead th {\n",
       "        text-align: right;\n",
       "    }\n",
       "</style>\n",
       "<table border=\"1\" class=\"dataframe\">\n",
       "  <thead>\n",
       "    <tr style=\"text-align: right;\">\n",
       "      <th></th>\n",
       "      <th>game_date</th>\n",
       "      <th>batter</th>\n",
       "      <th>pitcher</th>\n",
       "      <th>events</th>\n",
       "      <th>WAR_x</th>\n",
       "      <th>OBP</th>\n",
       "      <th>SLG</th>\n",
       "      <th>OPS</th>\n",
       "      <th>BB_perc</th>\n",
       "      <th>K_perc</th>\n",
       "      <th>...</th>\n",
       "      <th>BB/9</th>\n",
       "      <th>K/9</th>\n",
       "      <th>key_mlbam_y</th>\n",
       "      <th>event_code</th>\n",
       "      <th>bs_L</th>\n",
       "      <th>bs_R</th>\n",
       "      <th>pt_L</th>\n",
       "      <th>pt_R</th>\n",
       "      <th>ah_Bot</th>\n",
       "      <th>ah_Top</th>\n",
       "    </tr>\n",
       "  </thead>\n",
       "  <tbody>\n",
       "    <tr>\n",
       "      <th>0</th>\n",
       "      <td>2017-04-03</td>\n",
       "      <td>425783.0</td>\n",
       "      <td>446372.0</td>\n",
       "      <td>strikeout</td>\n",
       "      <td>2.3</td>\n",
       "      <td>0.377</td>\n",
       "      <td>0.434</td>\n",
       "      <td>0.81</td>\n",
       "      <td>0.138</td>\n",
       "      <td>0.235</td>\n",
       "      <td>...</td>\n",
       "      <td>1.42</td>\n",
       "      <td>9.29</td>\n",
       "      <td>446372.0</td>\n",
       "      <td>0</td>\n",
       "      <td>1</td>\n",
       "      <td>0</td>\n",
       "      <td>0</td>\n",
       "      <td>1</td>\n",
       "      <td>1</td>\n",
       "      <td>0</td>\n",
       "    </tr>\n",
       "    <tr>\n",
       "      <th>1</th>\n",
       "      <td>2017-04-03</td>\n",
       "      <td>425783.0</td>\n",
       "      <td>446372.0</td>\n",
       "      <td>field_out</td>\n",
       "      <td>2.3</td>\n",
       "      <td>0.377</td>\n",
       "      <td>0.434</td>\n",
       "      <td>0.81</td>\n",
       "      <td>0.138</td>\n",
       "      <td>0.235</td>\n",
       "      <td>...</td>\n",
       "      <td>1.42</td>\n",
       "      <td>9.29</td>\n",
       "      <td>446372.0</td>\n",
       "      <td>0</td>\n",
       "      <td>1</td>\n",
       "      <td>0</td>\n",
       "      <td>0</td>\n",
       "      <td>1</td>\n",
       "      <td>1</td>\n",
       "      <td>0</td>\n",
       "    </tr>\n",
       "    <tr>\n",
       "      <th>2</th>\n",
       "      <td>2017-04-03</td>\n",
       "      <td>425783.0</td>\n",
       "      <td>446372.0</td>\n",
       "      <td>field_out</td>\n",
       "      <td>2.3</td>\n",
       "      <td>0.377</td>\n",
       "      <td>0.434</td>\n",
       "      <td>0.81</td>\n",
       "      <td>0.138</td>\n",
       "      <td>0.235</td>\n",
       "      <td>...</td>\n",
       "      <td>1.42</td>\n",
       "      <td>9.29</td>\n",
       "      <td>446372.0</td>\n",
       "      <td>0</td>\n",
       "      <td>1</td>\n",
       "      <td>0</td>\n",
       "      <td>0</td>\n",
       "      <td>1</td>\n",
       "      <td>1</td>\n",
       "      <td>0</td>\n",
       "    </tr>\n",
       "    <tr>\n",
       "      <th>3</th>\n",
       "      <td>2018-05-02</td>\n",
       "      <td>425783.0</td>\n",
       "      <td>446372.0</td>\n",
       "      <td>field_out</td>\n",
       "      <td>2.3</td>\n",
       "      <td>0.377</td>\n",
       "      <td>0.434</td>\n",
       "      <td>0.81</td>\n",
       "      <td>0.138</td>\n",
       "      <td>0.235</td>\n",
       "      <td>...</td>\n",
       "      <td>1.42</td>\n",
       "      <td>9.29</td>\n",
       "      <td>446372.0</td>\n",
       "      <td>0</td>\n",
       "      <td>1</td>\n",
       "      <td>0</td>\n",
       "      <td>0</td>\n",
       "      <td>1</td>\n",
       "      <td>0</td>\n",
       "      <td>1</td>\n",
       "    </tr>\n",
       "    <tr>\n",
       "      <th>4</th>\n",
       "      <td>2018-05-02</td>\n",
       "      <td>425783.0</td>\n",
       "      <td>446372.0</td>\n",
       "      <td>single</td>\n",
       "      <td>2.3</td>\n",
       "      <td>0.377</td>\n",
       "      <td>0.434</td>\n",
       "      <td>0.81</td>\n",
       "      <td>0.138</td>\n",
       "      <td>0.235</td>\n",
       "      <td>...</td>\n",
       "      <td>1.42</td>\n",
       "      <td>9.29</td>\n",
       "      <td>446372.0</td>\n",
       "      <td>1</td>\n",
       "      <td>1</td>\n",
       "      <td>0</td>\n",
       "      <td>0</td>\n",
       "      <td>1</td>\n",
       "      <td>0</td>\n",
       "      <td>1</td>\n",
       "    </tr>\n",
       "  </tbody>\n",
       "</table>\n",
       "<p>5 rows × 24 columns</p>\n",
       "</div>"
      ],
      "text/plain": [
       "   game_date    batter   pitcher     events  WAR_x    OBP    SLG   OPS  \\\n",
       "0 2017-04-03  425783.0  446372.0  strikeout    2.3  0.377  0.434  0.81   \n",
       "1 2017-04-03  425783.0  446372.0  field_out    2.3  0.377  0.434  0.81   \n",
       "2 2017-04-03  425783.0  446372.0  field_out    2.3  0.377  0.434  0.81   \n",
       "3 2018-05-02  425783.0  446372.0  field_out    2.3  0.377  0.434  0.81   \n",
       "4 2018-05-02  425783.0  446372.0     single    2.3  0.377  0.434  0.81   \n",
       "\n",
       "   BB_perc  K_perc  ...  BB/9   K/9  key_mlbam_y  event_code  bs_L  bs_R  \\\n",
       "0    0.138   0.235  ...  1.42  9.29     446372.0           0     1     0   \n",
       "1    0.138   0.235  ...  1.42  9.29     446372.0           0     1     0   \n",
       "2    0.138   0.235  ...  1.42  9.29     446372.0           0     1     0   \n",
       "3    0.138   0.235  ...  1.42  9.29     446372.0           0     1     0   \n",
       "4    0.138   0.235  ...  1.42  9.29     446372.0           1     1     0   \n",
       "\n",
       "   pt_L  pt_R  ah_Bot  ah_Top  \n",
       "0     0     1       1       0  \n",
       "1     0     1       1       0  \n",
       "2     0     1       1       0  \n",
       "3     0     1       0       1  \n",
       "4     0     1       0       1  \n",
       "\n",
       "[5 rows x 24 columns]"
      ]
     },
     "execution_count": 492,
     "metadata": {},
     "output_type": "execute_result"
    },
    {
     "data": {
      "application/javascript": [
       "\n",
       "            setTimeout(function() {\n",
       "                var nbb_cell_id = 492;\n",
       "                var nbb_unformatted_code = \"df_sc_events4model_bp_ohe.head()\";\n",
       "                var nbb_formatted_code = \"df_sc_events4model_bp_ohe.head()\";\n",
       "                var nbb_cells = Jupyter.notebook.get_cells();\n",
       "                for (var i = 0; i < nbb_cells.length; ++i) {\n",
       "                    if (nbb_cells[i].input_prompt_number == nbb_cell_id) {\n",
       "                        if (nbb_cells[i].get_text() == nbb_unformatted_code) {\n",
       "                             nbb_cells[i].set_text(nbb_formatted_code);\n",
       "                        }\n",
       "                        break;\n",
       "                    }\n",
       "                }\n",
       "            }, 500);\n",
       "            "
      ],
      "text/plain": [
       "<IPython.core.display.Javascript object>"
      ]
     },
     "metadata": {},
     "output_type": "display_data"
    }
   ],
   "source": [
    "df_sc_events4model_bp_ohe.head()"
   ]
  },
  {
   "cell_type": "code",
   "execution_count": 493,
   "metadata": {
    "ExecuteTime": {
     "end_time": "2020-01-31T20:36:29.759011Z",
     "start_time": "2020-01-31T20:36:27.570955Z"
    }
   },
   "outputs": [
    {
     "data": {
      "application/javascript": [
       "\n",
       "            setTimeout(function() {\n",
       "                var nbb_cell_id = 493;\n",
       "                var nbb_unformatted_code = \"# OHE pitcher\\ndf_sc_events4model_bp_ohe = pd.get_dummies(\\n    df_sc_events4model_bp_ohe, prefix=[\\\"p\\\"], columns=[\\\"pitcher\\\"]\\n)\\n\\n# OHE batter\\ndf_sc_events4model_bp_ohe = pd.get_dummies(\\n    df_sc_events4model_bp_ohe, prefix=[\\\"b\\\"], columns=[\\\"batter\\\"]\\n)\";\n",
       "                var nbb_formatted_code = \"# OHE pitcher\\ndf_sc_events4model_bp_ohe = pd.get_dummies(\\n    df_sc_events4model_bp_ohe, prefix=[\\\"p\\\"], columns=[\\\"pitcher\\\"]\\n)\\n\\n# OHE batter\\ndf_sc_events4model_bp_ohe = pd.get_dummies(\\n    df_sc_events4model_bp_ohe, prefix=[\\\"b\\\"], columns=[\\\"batter\\\"]\\n)\";\n",
       "                var nbb_cells = Jupyter.notebook.get_cells();\n",
       "                for (var i = 0; i < nbb_cells.length; ++i) {\n",
       "                    if (nbb_cells[i].input_prompt_number == nbb_cell_id) {\n",
       "                        if (nbb_cells[i].get_text() == nbb_unformatted_code) {\n",
       "                             nbb_cells[i].set_text(nbb_formatted_code);\n",
       "                        }\n",
       "                        break;\n",
       "                    }\n",
       "                }\n",
       "            }, 500);\n",
       "            "
      ],
      "text/plain": [
       "<IPython.core.display.Javascript object>"
      ]
     },
     "metadata": {},
     "output_type": "display_data"
    }
   ],
   "source": [
    "# OHE pitcher\n",
    "df_sc_events4model_bp_ohe = pd.get_dummies(\n",
    "    df_sc_events4model_bp_ohe, prefix=[\"p\"], columns=[\"pitcher\"]\n",
    ")\n",
    "\n",
    "# OHE batter\n",
    "df_sc_events4model_bp_ohe = pd.get_dummies(\n",
    "    df_sc_events4model_bp_ohe, prefix=[\"b\"], columns=[\"batter\"]\n",
    ")"
   ]
  },
  {
   "cell_type": "code",
   "execution_count": 494,
   "metadata": {
    "ExecuteTime": {
     "end_time": "2020-01-31T20:36:31.997570Z",
     "start_time": "2020-01-31T20:36:31.984672Z"
    }
   },
   "outputs": [
    {
     "data": {
      "application/javascript": [
       "\n",
       "            setTimeout(function() {\n",
       "                var nbb_cell_id = 494;\n",
       "                var nbb_unformatted_code = \"col2remove = [\\\"game_date\\\", \\\"events\\\", \\\"key_mlbam_x\\\", \\\"key_mlbam_y\\\"]\\nall_col = df_sc_events4model_bp_ohe.columns.tolist()\";\n",
       "                var nbb_formatted_code = \"col2remove = [\\\"game_date\\\", \\\"events\\\", \\\"key_mlbam_x\\\", \\\"key_mlbam_y\\\"]\\nall_col = df_sc_events4model_bp_ohe.columns.tolist()\";\n",
       "                var nbb_cells = Jupyter.notebook.get_cells();\n",
       "                for (var i = 0; i < nbb_cells.length; ++i) {\n",
       "                    if (nbb_cells[i].input_prompt_number == nbb_cell_id) {\n",
       "                        if (nbb_cells[i].get_text() == nbb_unformatted_code) {\n",
       "                             nbb_cells[i].set_text(nbb_formatted_code);\n",
       "                        }\n",
       "                        break;\n",
       "                    }\n",
       "                }\n",
       "            }, 500);\n",
       "            "
      ],
      "text/plain": [
       "<IPython.core.display.Javascript object>"
      ]
     },
     "metadata": {},
     "output_type": "display_data"
    }
   ],
   "source": [
    "col2remove = [\"game_date\", \"events\", \"key_mlbam_x\", \"key_mlbam_y\"]\n",
    "all_col = df_sc_events4model_bp_ohe.columns.tolist()"
   ]
  },
  {
   "cell_type": "code",
   "execution_count": 495,
   "metadata": {
    "ExecuteTime": {
     "end_time": "2020-01-31T20:36:33.989618Z",
     "start_time": "2020-01-31T20:36:33.978715Z"
    }
   },
   "outputs": [
    {
     "data": {
      "application/javascript": [
       "\n",
       "            setTimeout(function() {\n",
       "                var nbb_cell_id = 495;\n",
       "                var nbb_unformatted_code = \"feature_col_w_target = sorted(list(set(all_col) - set(col2remove)))\";\n",
       "                var nbb_formatted_code = \"feature_col_w_target = sorted(list(set(all_col) - set(col2remove)))\";\n",
       "                var nbb_cells = Jupyter.notebook.get_cells();\n",
       "                for (var i = 0; i < nbb_cells.length; ++i) {\n",
       "                    if (nbb_cells[i].input_prompt_number == nbb_cell_id) {\n",
       "                        if (nbb_cells[i].get_text() == nbb_unformatted_code) {\n",
       "                             nbb_cells[i].set_text(nbb_formatted_code);\n",
       "                        }\n",
       "                        break;\n",
       "                    }\n",
       "                }\n",
       "            }, 500);\n",
       "            "
      ],
      "text/plain": [
       "<IPython.core.display.Javascript object>"
      ]
     },
     "metadata": {},
     "output_type": "display_data"
    }
   ],
   "source": [
    "feature_col_w_target = sorted(list(set(all_col) - set(col2remove)))"
   ]
  },
  {
   "cell_type": "code",
   "execution_count": 261,
   "metadata": {
    "ExecuteTime": {
     "end_time": "2020-01-31T07:56:54.518594Z",
     "start_time": "2020-01-31T07:56:54.512963Z"
    }
   },
   "outputs": [
    {
     "data": {
      "application/javascript": [
       "\n",
       "            setTimeout(function() {\n",
       "                var nbb_cell_id = 261;\n",
       "                var nbb_unformatted_code = \"#[print(col) for col in df_sc_events4model_bp_ohe.columns]\";\n",
       "                var nbb_formatted_code = \"# [print(col) for col in df_sc_events4model_bp_ohe.columns]\";\n",
       "                var nbb_cells = Jupyter.notebook.get_cells();\n",
       "                for (var i = 0; i < nbb_cells.length; ++i) {\n",
       "                    if (nbb_cells[i].input_prompt_number == nbb_cell_id) {\n",
       "                        if (nbb_cells[i].get_text() == nbb_unformatted_code) {\n",
       "                             nbb_cells[i].set_text(nbb_formatted_code);\n",
       "                        }\n",
       "                        break;\n",
       "                    }\n",
       "                }\n",
       "            }, 500);\n",
       "            "
      ],
      "text/plain": [
       "<IPython.core.display.Javascript object>"
      ]
     },
     "metadata": {},
     "output_type": "display_data"
    }
   ],
   "source": [
    "# [print(col) for col in df_sc_events4model_bp_ohe.columns]"
   ]
  },
  {
   "cell_type": "markdown",
   "metadata": {},
   "source": [
    "## Split data, train model"
   ]
  },
  {
   "cell_type": "code",
   "execution_count": 665,
   "metadata": {
    "ExecuteTime": {
     "end_time": "2020-02-02T22:56:04.848688Z",
     "start_time": "2020-02-02T22:56:04.822604Z"
    },
    "code_folding": [
     0
    ]
   },
   "outputs": [
    {
     "data": {
      "application/javascript": [
       "\n",
       "            setTimeout(function() {\n",
       "                var nbb_cell_id = 665;\n",
       "                var nbb_unformatted_code = \"def get_split_data(df4model, testsize):\\n    y = df4model[\\\"event_code\\\"]\\n    full_list = df4model.columns.tolist()\\n    full_list.remove(\\\"event_code\\\")\\n    X = df4model[full_list]\\n\\n    # Split data between train and test_and_holdout\\n    X_train, X_test, y_train, y_test = train_test_split(\\n        X, y, test_size=testsize, random_state=19\\n    )\\n\\n    from sklearn import preprocessing\\n\\n    # Scale features based on training data\\n    scaler = preprocessing.StandardScaler().fit(X_train)\\n    X_train_scale = scaler.transform(X_train)\\n\\n    # Apply transformation to test data\\n    X_test_scale = scaler.transform(X_test)\\n\\n    return X_train_scale, X_test_scale, y_train, y_test, scaler\";\n",
       "                var nbb_formatted_code = \"def get_split_data(df4model, testsize):\\n    y = df4model[\\\"event_code\\\"]\\n    full_list = df4model.columns.tolist()\\n    full_list.remove(\\\"event_code\\\")\\n    X = df4model[full_list]\\n\\n    # Split data between train and test_and_holdout\\n    X_train, X_test, y_train, y_test = train_test_split(\\n        X, y, test_size=testsize, random_state=19\\n    )\\n\\n    from sklearn import preprocessing\\n\\n    # Scale features based on training data\\n    scaler = preprocessing.StandardScaler().fit(X_train)\\n    X_train_scale = scaler.transform(X_train)\\n\\n    # Apply transformation to test data\\n    X_test_scale = scaler.transform(X_test)\\n\\n    return X_train_scale, X_test_scale, y_train, y_test, scaler\";\n",
       "                var nbb_cells = Jupyter.notebook.get_cells();\n",
       "                for (var i = 0; i < nbb_cells.length; ++i) {\n",
       "                    if (nbb_cells[i].input_prompt_number == nbb_cell_id) {\n",
       "                        if (nbb_cells[i].get_text() == nbb_unformatted_code) {\n",
       "                             nbb_cells[i].set_text(nbb_formatted_code);\n",
       "                        }\n",
       "                        break;\n",
       "                    }\n",
       "                }\n",
       "            }, 500);\n",
       "            "
      ],
      "text/plain": [
       "<IPython.core.display.Javascript object>"
      ]
     },
     "metadata": {},
     "output_type": "display_data"
    }
   ],
   "source": [
    "def get_split_data(df4model, testsize):\n",
    "    y = df4model[\"event_code\"]\n",
    "    full_list = df4model.columns.tolist()\n",
    "    full_list.remove(\"event_code\")\n",
    "    X = df4model[full_list]\n",
    "\n",
    "    # Split data between train and test_and_holdout\n",
    "    X_train, X_test, y_train, y_test = train_test_split(\n",
    "        X, y, test_size=testsize, random_state=19\n",
    "    )\n",
    "\n",
    "    from sklearn import preprocessing\n",
    "\n",
    "    # Scale features based on training data\n",
    "    scaler = preprocessing.StandardScaler().fit(X_train)\n",
    "    X_train_scale = scaler.transform(X_train)\n",
    "\n",
    "    # Apply transformation to test data\n",
    "    X_test_scale = scaler.transform(X_test)\n",
    "\n",
    "    return X_train_scale, X_test_scale, y_train, y_test, scaler"
   ]
  },
  {
   "cell_type": "code",
   "execution_count": 497,
   "metadata": {
    "ExecuteTime": {
     "end_time": "2020-01-31T20:36:47.788146Z",
     "start_time": "2020-01-31T20:36:38.007023Z"
    },
    "code_folding": []
   },
   "outputs": [
    {
     "data": {
      "application/javascript": [
       "\n",
       "            setTimeout(function() {\n",
       "                var nbb_cell_id = 497;\n",
       "                var nbb_unformatted_code = \"X_train_scale_1M, X_test_scale_1M, y_train_1M, y_test_1M, scale_vals = get_split_data(\\n    df_sc_events4model_bp_ohe[feature_col_w_target], 0.4\\n)\";\n",
       "                var nbb_formatted_code = \"X_train_scale_1M, X_test_scale_1M, y_train_1M, y_test_1M, scale_vals = get_split_data(\\n    df_sc_events4model_bp_ohe[feature_col_w_target], 0.4\\n)\";\n",
       "                var nbb_cells = Jupyter.notebook.get_cells();\n",
       "                for (var i = 0; i < nbb_cells.length; ++i) {\n",
       "                    if (nbb_cells[i].input_prompt_number == nbb_cell_id) {\n",
       "                        if (nbb_cells[i].get_text() == nbb_unformatted_code) {\n",
       "                             nbb_cells[i].set_text(nbb_formatted_code);\n",
       "                        }\n",
       "                        break;\n",
       "                    }\n",
       "                }\n",
       "            }, 500);\n",
       "            "
      ],
      "text/plain": [
       "<IPython.core.display.Javascript object>"
      ]
     },
     "metadata": {},
     "output_type": "display_data"
    }
   ],
   "source": [
    "X_train_scale_1M, X_test_scale_1M, y_train_1M, y_test_1M, scale_vals = get_split_data(\n",
    "    df_sc_events4model_bp_ohe[feature_col_w_target], 0.4\n",
    ")"
   ]
  },
  {
   "cell_type": "markdown",
   "metadata": {},
   "source": [
    "### Logistic regression model with default (L2 regularization)"
   ]
  },
  {
   "cell_type": "code",
   "execution_count": 664,
   "metadata": {
    "ExecuteTime": {
     "end_time": "2020-02-02T22:56:00.782432Z",
     "start_time": "2020-02-02T22:56:00.751596Z"
    },
    "code_folding": []
   },
   "outputs": [
    {
     "data": {
      "application/javascript": [
       "\n",
       "            setTimeout(function() {\n",
       "                var nbb_cell_id = 664;\n",
       "                var nbb_unformatted_code = \"def run_logreg_model(X_train_scale_set, y_train_set, X_test_scale_set, y_test_set):\\n\\n    log_reg = LogisticRegression(class_weight=\\\"balanced\\\")\\n    log_reg.fit(X_train_scale_set, y_train_set)\\n\\n    y_pred = log_reg.predict(X_test_scale_set)\\n    y_predprob = log_reg.predict_proba(X_test_scale_set)[:, 1]\\n    df_eval = pd.DataFrame({\\\"test\\\": y_test_set, \\\"pred\\\": y_pred, \\\"predprob\\\": y_predprob})\\n\\n    return log_reg, df_eval\";\n",
       "                var nbb_formatted_code = \"def run_logreg_model(X_train_scale_set, y_train_set, X_test_scale_set, y_test_set):\\n\\n    log_reg = LogisticRegression(class_weight=\\\"balanced\\\")\\n    log_reg.fit(X_train_scale_set, y_train_set)\\n\\n    y_pred = log_reg.predict(X_test_scale_set)\\n    y_predprob = log_reg.predict_proba(X_test_scale_set)[:, 1]\\n    df_eval = pd.DataFrame({\\\"test\\\": y_test_set, \\\"pred\\\": y_pred, \\\"predprob\\\": y_predprob})\\n\\n    return log_reg, df_eval\";\n",
       "                var nbb_cells = Jupyter.notebook.get_cells();\n",
       "                for (var i = 0; i < nbb_cells.length; ++i) {\n",
       "                    if (nbb_cells[i].input_prompt_number == nbb_cell_id) {\n",
       "                        if (nbb_cells[i].get_text() == nbb_unformatted_code) {\n",
       "                             nbb_cells[i].set_text(nbb_formatted_code);\n",
       "                        }\n",
       "                        break;\n",
       "                    }\n",
       "                }\n",
       "            }, 500);\n",
       "            "
      ],
      "text/plain": [
       "<IPython.core.display.Javascript object>"
      ]
     },
     "metadata": {},
     "output_type": "display_data"
    }
   ],
   "source": [
    "def run_logreg_model(X_train_scale_set, y_train_set, X_test_scale_set, y_test_set):\n",
    "\n",
    "    log_reg = LogisticRegression(class_weight=\"balanced\")\n",
    "    log_reg.fit(X_train_scale_set, y_train_set)\n",
    "\n",
    "    y_pred = log_reg.predict(X_test_scale_set)\n",
    "    y_predprob = log_reg.predict_proba(X_test_scale_set)[:, 1]\n",
    "    df_eval = pd.DataFrame({\"test\": y_test_set, \"pred\": y_pred, \"predprob\": y_predprob})\n",
    "\n",
    "    return log_reg, df_eval"
   ]
  },
  {
   "cell_type": "code",
   "execution_count": 499,
   "metadata": {
    "ExecuteTime": {
     "end_time": "2020-01-31T20:36:57.440472Z",
     "start_time": "2020-01-31T20:36:52.257598Z"
    }
   },
   "outputs": [
    {
     "data": {
      "application/javascript": [
       "\n",
       "            setTimeout(function() {\n",
       "                var nbb_cell_id = 499;\n",
       "                var nbb_unformatted_code = \"# Run models\\nlog_reg_1M, df_eval_1M = run_logreg_model(\\n    X_train_scale_1M, y_train_1M, X_test_scale_1M, y_test_1M\\n)\";\n",
       "                var nbb_formatted_code = \"# Run models\\nlog_reg_1M, df_eval_1M = run_logreg_model(\\n    X_train_scale_1M, y_train_1M, X_test_scale_1M, y_test_1M\\n)\";\n",
       "                var nbb_cells = Jupyter.notebook.get_cells();\n",
       "                for (var i = 0; i < nbb_cells.length; ++i) {\n",
       "                    if (nbb_cells[i].input_prompt_number == nbb_cell_id) {\n",
       "                        if (nbb_cells[i].get_text() == nbb_unformatted_code) {\n",
       "                             nbb_cells[i].set_text(nbb_formatted_code);\n",
       "                        }\n",
       "                        break;\n",
       "                    }\n",
       "                }\n",
       "            }, 500);\n",
       "            "
      ],
      "text/plain": [
       "<IPython.core.display.Javascript object>"
      ]
     },
     "metadata": {},
     "output_type": "display_data"
    }
   ],
   "source": [
    "# Run models\n",
    "log_reg_1M, df_eval_1M = run_logreg_model(\n",
    "    X_train_scale_1M, y_train_1M, X_test_scale_1M, y_test_1M\n",
    ")"
   ]
  },
  {
   "cell_type": "code",
   "execution_count": 500,
   "metadata": {
    "ExecuteTime": {
     "end_time": "2020-01-31T20:36:59.747461Z",
     "start_time": "2020-01-31T20:36:59.732742Z"
    }
   },
   "outputs": [
    {
     "data": {
      "text/html": [
       "<div>\n",
       "<style scoped>\n",
       "    .dataframe tbody tr th:only-of-type {\n",
       "        vertical-align: middle;\n",
       "    }\n",
       "\n",
       "    .dataframe tbody tr th {\n",
       "        vertical-align: top;\n",
       "    }\n",
       "\n",
       "    .dataframe thead th {\n",
       "        text-align: right;\n",
       "    }\n",
       "</style>\n",
       "<table border=\"1\" class=\"dataframe\">\n",
       "  <thead>\n",
       "    <tr style=\"text-align: right;\">\n",
       "      <th></th>\n",
       "      <th>test</th>\n",
       "      <th>pred</th>\n",
       "      <th>predprob</th>\n",
       "    </tr>\n",
       "  </thead>\n",
       "  <tbody>\n",
       "    <tr>\n",
       "      <th>116951</th>\n",
       "      <td>1</td>\n",
       "      <td>1</td>\n",
       "      <td>0.512590</td>\n",
       "    </tr>\n",
       "    <tr>\n",
       "      <th>146125</th>\n",
       "      <td>1</td>\n",
       "      <td>1</td>\n",
       "      <td>0.504611</td>\n",
       "    </tr>\n",
       "    <tr>\n",
       "      <th>142042</th>\n",
       "      <td>0</td>\n",
       "      <td>1</td>\n",
       "      <td>0.537627</td>\n",
       "    </tr>\n",
       "    <tr>\n",
       "      <th>57356</th>\n",
       "      <td>0</td>\n",
       "      <td>1</td>\n",
       "      <td>0.563145</td>\n",
       "    </tr>\n",
       "    <tr>\n",
       "      <th>67644</th>\n",
       "      <td>0</td>\n",
       "      <td>1</td>\n",
       "      <td>0.596069</td>\n",
       "    </tr>\n",
       "  </tbody>\n",
       "</table>\n",
       "</div>"
      ],
      "text/plain": [
       "        test  pred  predprob\n",
       "116951     1     1  0.512590\n",
       "146125     1     1  0.504611\n",
       "142042     0     1  0.537627\n",
       "57356      0     1  0.563145\n",
       "67644      0     1  0.596069"
      ]
     },
     "execution_count": 500,
     "metadata": {},
     "output_type": "execute_result"
    },
    {
     "data": {
      "application/javascript": [
       "\n",
       "            setTimeout(function() {\n",
       "                var nbb_cell_id = 500;\n",
       "                var nbb_unformatted_code = \"df_eval_1M.head()\";\n",
       "                var nbb_formatted_code = \"df_eval_1M.head()\";\n",
       "                var nbb_cells = Jupyter.notebook.get_cells();\n",
       "                for (var i = 0; i < nbb_cells.length; ++i) {\n",
       "                    if (nbb_cells[i].input_prompt_number == nbb_cell_id) {\n",
       "                        if (nbb_cells[i].get_text() == nbb_unformatted_code) {\n",
       "                             nbb_cells[i].set_text(nbb_formatted_code);\n",
       "                        }\n",
       "                        break;\n",
       "                    }\n",
       "                }\n",
       "            }, 500);\n",
       "            "
      ],
      "text/plain": [
       "<IPython.core.display.Javascript object>"
      ]
     },
     "metadata": {},
     "output_type": "display_data"
    }
   ],
   "source": [
    "df_eval_1M.head()"
   ]
  },
  {
   "cell_type": "code",
   "execution_count": 501,
   "metadata": {
    "ExecuteTime": {
     "end_time": "2020-01-31T20:37:03.843746Z",
     "start_time": "2020-01-31T20:37:03.677425Z"
    }
   },
   "outputs": [
    {
     "name": "stdout",
     "output_type": "stream",
     "text": [
      "              precision    recall  f1-score   support\n",
      "\n",
      "           0       0.70      0.52      0.60     62864\n",
      "           1       0.35      0.53      0.42     30218\n",
      "\n",
      "    accuracy                           0.52     93082\n",
      "   macro avg       0.52      0.52      0.51     93082\n",
      "weighted avg       0.58      0.52      0.54     93082\n",
      "\n"
     ]
    },
    {
     "data": {
      "application/javascript": [
       "\n",
       "            setTimeout(function() {\n",
       "                var nbb_cell_id = 501;\n",
       "                var nbb_unformatted_code = \"print(metrics.classification_report(df_eval_1M[\\\"test\\\"], df_eval_1M[\\\"pred\\\"]))\";\n",
       "                var nbb_formatted_code = \"print(metrics.classification_report(df_eval_1M[\\\"test\\\"], df_eval_1M[\\\"pred\\\"]))\";\n",
       "                var nbb_cells = Jupyter.notebook.get_cells();\n",
       "                for (var i = 0; i < nbb_cells.length; ++i) {\n",
       "                    if (nbb_cells[i].input_prompt_number == nbb_cell_id) {\n",
       "                        if (nbb_cells[i].get_text() == nbb_unformatted_code) {\n",
       "                             nbb_cells[i].set_text(nbb_formatted_code);\n",
       "                        }\n",
       "                        break;\n",
       "                    }\n",
       "                }\n",
       "            }, 500);\n",
       "            "
      ],
      "text/plain": [
       "<IPython.core.display.Javascript object>"
      ]
     },
     "metadata": {},
     "output_type": "display_data"
    }
   ],
   "source": [
    "print(metrics.classification_report(df_eval_1M[\"test\"], df_eval_1M[\"pred\"]))"
   ]
  },
  {
   "cell_type": "code",
   "execution_count": 502,
   "metadata": {
    "ExecuteTime": {
     "end_time": "2020-01-31T20:37:06.872453Z",
     "start_time": "2020-01-31T20:37:05.942001Z"
    }
   },
   "outputs": [
    {
     "data": {
      "text/plain": [
       "<matplotlib.collections.PathCollection at 0x1a292ace48>"
      ]
     },
     "execution_count": 502,
     "metadata": {},
     "output_type": "execute_result"
    },
    {
     "data": {
      "image/png": "[encoded data removed]",
      "text/plain": [
       "<Figure size 432x288 with 1 Axes>"
      ]
     },
     "metadata": {
      "needs_background": "light"
     },
     "output_type": "display_data"
    },
    {
     "data": {
      "application/javascript": [
       "\n",
       "            setTimeout(function() {\n",
       "                var nbb_cell_id = 502;\n",
       "                var nbb_unformatted_code = \"f, ax1 = plt.subplots()\\nax1.scatter(df_eval_1M[\\\"predprob\\\"], df_eval_1M[\\\"test\\\"])\";\n",
       "                var nbb_formatted_code = \"f, ax1 = plt.subplots()\\nax1.scatter(df_eval_1M[\\\"predprob\\\"], df_eval_1M[\\\"test\\\"])\";\n",
       "                var nbb_cells = Jupyter.notebook.get_cells();\n",
       "                for (var i = 0; i < nbb_cells.length; ++i) {\n",
       "                    if (nbb_cells[i].input_prompt_number == nbb_cell_id) {\n",
       "                        if (nbb_cells[i].get_text() == nbb_unformatted_code) {\n",
       "                             nbb_cells[i].set_text(nbb_formatted_code);\n",
       "                        }\n",
       "                        break;\n",
       "                    }\n",
       "                }\n",
       "            }, 500);\n",
       "            "
      ],
      "text/plain": [
       "<IPython.core.display.Javascript object>"
      ]
     },
     "metadata": {},
     "output_type": "display_data"
    }
   ],
   "source": [
    "f, ax1 = plt.subplots()\n",
    "ax1.scatter(df_eval_1M[\"predprob\"], df_eval_1M[\"test\"])"
   ]
  },
  {
   "cell_type": "code",
   "execution_count": 290,
   "metadata": {
    "ExecuteTime": {
     "end_time": "2020-01-31T08:23:16.478498Z",
     "start_time": "2020-01-31T08:23:16.448855Z"
    },
    "code_folding": [
     0
    ]
   },
   "outputs": [
    {
     "data": {
      "application/javascript": [
       "\n",
       "            setTimeout(function() {\n",
       "                var nbb_cell_id = 290;\n",
       "                var nbb_unformatted_code = \"def run_logreg_model_ub(X_train_scale_set, y_train_set, X_test_scale_set, y_test_set):\\n\\n    log_reg = LogisticRegression()\\n    log_reg.fit(X_train_scale_set, y_train_set)\\n\\n    y_pred = log_reg.predict(X_test_scale_set)\\n    y_predprob = log_reg.predict_proba(X_test_scale_set)[:, 1]\\n    df_eval = pd.DataFrame({\\\"test\\\": y_test_set, \\\"pred\\\": y_pred, \\\"predprob\\\": y_predprob})\\n\\n    return log_reg, df_eval\";\n",
       "                var nbb_formatted_code = \"def run_logreg_model_ub(X_train_scale_set, y_train_set, X_test_scale_set, y_test_set):\\n\\n    log_reg = LogisticRegression()\\n    log_reg.fit(X_train_scale_set, y_train_set)\\n\\n    y_pred = log_reg.predict(X_test_scale_set)\\n    y_predprob = log_reg.predict_proba(X_test_scale_set)[:, 1]\\n    df_eval = pd.DataFrame({\\\"test\\\": y_test_set, \\\"pred\\\": y_pred, \\\"predprob\\\": y_predprob})\\n\\n    return log_reg, df_eval\";\n",
       "                var nbb_cells = Jupyter.notebook.get_cells();\n",
       "                for (var i = 0; i < nbb_cells.length; ++i) {\n",
       "                    if (nbb_cells[i].input_prompt_number == nbb_cell_id) {\n",
       "                        if (nbb_cells[i].get_text() == nbb_unformatted_code) {\n",
       "                             nbb_cells[i].set_text(nbb_formatted_code);\n",
       "                        }\n",
       "                        break;\n",
       "                    }\n",
       "                }\n",
       "            }, 500);\n",
       "            "
      ],
      "text/plain": [
       "<IPython.core.display.Javascript object>"
      ]
     },
     "metadata": {},
     "output_type": "display_data"
    }
   ],
   "source": [
    "#def run_logreg_model_ub(X_train_scale_set, y_train_set, X_test_scale_set, y_test_set):\n",
    "\n",
    "    log_reg = LogisticRegression()\n",
    "    log_reg.fit(X_train_scale_set, y_train_set)\n",
    "\n",
    "    y_pred = log_reg.predict(X_test_scale_set)\n",
    "    y_predprob = log_reg.predict_proba(X_test_scale_set)[:, 1]\n",
    "    df_eval = pd.DataFrame({\"test\": y_test_set, \"pred\": y_pred, \"predprob\": y_predprob})\n",
    "\n",
    "    return log_reg, df_eval"
   ]
  },
  {
   "cell_type": "code",
   "execution_count": 291,
   "metadata": {
    "ExecuteTime": {
     "end_time": "2020-01-31T08:23:21.186126Z",
     "start_time": "2020-01-31T08:23:18.252107Z"
    },
    "code_folding": []
   },
   "outputs": [
    {
     "data": {
      "application/javascript": [
       "\n",
       "            setTimeout(function() {\n",
       "                var nbb_cell_id = 291;\n",
       "                var nbb_unformatted_code = \"# Run models\\nlog_reg_1M, df_eval_1M = run_logreg_model_ub(\\n    X_train_scale_1M, y_train_1M, X_test_1M, y_test_1M\\n)\";\n",
       "                var nbb_formatted_code = \"# Run models\\nlog_reg_1M, df_eval_1M = run_logreg_model_ub(\\n    X_train_scale_1M, y_train_1M, X_test_1M, y_test_1M\\n)\";\n",
       "                var nbb_cells = Jupyter.notebook.get_cells();\n",
       "                for (var i = 0; i < nbb_cells.length; ++i) {\n",
       "                    if (nbb_cells[i].input_prompt_number == nbb_cell_id) {\n",
       "                        if (nbb_cells[i].get_text() == nbb_unformatted_code) {\n",
       "                             nbb_cells[i].set_text(nbb_formatted_code);\n",
       "                        }\n",
       "                        break;\n",
       "                    }\n",
       "                }\n",
       "            }, 500);\n",
       "            "
      ],
      "text/plain": [
       "<IPython.core.display.Javascript object>"
      ]
     },
     "metadata": {},
     "output_type": "display_data"
    }
   ],
   "source": [
    "# Run models\n",
    "# log_reg_1M, df_eval_1M = run_logreg_model_ub(\n",
    "#     X_train_scale_1M, y_train_1M, X_test_1M, y_test_1M\n",
    "# )"
   ]
  },
  {
   "cell_type": "code",
   "execution_count": 503,
   "metadata": {
    "ExecuteTime": {
     "end_time": "2020-01-31T20:37:19.801322Z",
     "start_time": "2020-01-31T20:37:19.570230Z"
    }
   },
   "outputs": [
    {
     "data": {
      "text/plain": [
       "<matplotlib.collections.PathCollection at 0x1a289d7908>"
      ]
     },
     "execution_count": 503,
     "metadata": {},
     "output_type": "execute_result"
    },
    {
     "data": {
      "image/png": "[encoded data removed]",
      "text/plain": [
       "<Figure size 432x288 with 1 Axes>"
      ]
     },
     "metadata": {
      "needs_background": "light"
     },
     "output_type": "display_data"
    },
    {
     "data": {
      "application/javascript": [
       "\n",
       "            setTimeout(function() {\n",
       "                var nbb_cell_id = 503;\n",
       "                var nbb_unformatted_code = \"f, ax1 = plt.subplots()\\nax1.scatter(df_pitching_stats_wpid_sp[\\\"WAR\\\"], df_pitching_stats_wpid_sp[\\\"WHIP\\\"])\";\n",
       "                var nbb_formatted_code = \"f, ax1 = plt.subplots()\\nax1.scatter(df_pitching_stats_wpid_sp[\\\"WAR\\\"], df_pitching_stats_wpid_sp[\\\"WHIP\\\"])\";\n",
       "                var nbb_cells = Jupyter.notebook.get_cells();\n",
       "                for (var i = 0; i < nbb_cells.length; ++i) {\n",
       "                    if (nbb_cells[i].input_prompt_number == nbb_cell_id) {\n",
       "                        if (nbb_cells[i].get_text() == nbb_unformatted_code) {\n",
       "                             nbb_cells[i].set_text(nbb_formatted_code);\n",
       "                        }\n",
       "                        break;\n",
       "                    }\n",
       "                }\n",
       "            }, 500);\n",
       "            "
      ],
      "text/plain": [
       "<IPython.core.display.Javascript object>"
      ]
     },
     "metadata": {},
     "output_type": "display_data"
    }
   ],
   "source": [
    "f, ax1 = plt.subplots()\n",
    "ax1.scatter(df_pitching_stats_wpid_sp[\"WAR\"], df_pitching_stats_wpid_sp[\"WHIP\"])"
   ]
  },
  {
   "cell_type": "code",
   "execution_count": 504,
   "metadata": {
    "ExecuteTime": {
     "end_time": "2020-01-31T20:37:23.723098Z",
     "start_time": "2020-01-31T20:37:21.919895Z"
    }
   },
   "outputs": [
    {
     "data": {
      "text/plain": [
       "<matplotlib.collections.PathCollection at 0x1a2aaec5c0>"
      ]
     },
     "execution_count": 504,
     "metadata": {},
     "output_type": "execute_result"
    },
    {
     "data": {
      "image/png": "[encoded data removed]",
      "text/plain": [
       "<Figure size 432x288 with 1 Axes>"
      ]
     },
     "metadata": {
      "needs_background": "light"
     },
     "output_type": "display_data"
    },
    {
     "data": {
      "application/javascript": [
       "\n",
       "            setTimeout(function() {\n",
       "                var nbb_cell_id = 504;\n",
       "                var nbb_unformatted_code = \"f, ax1 = plt.subplots()\\nax1.scatter(df_sc_events4model_bp_ohe[\\\"WHIP\\\"], df_sc_events4model_bp_ohe[\\\"event_code\\\"])\";\n",
       "                var nbb_formatted_code = \"f, ax1 = plt.subplots()\\nax1.scatter(df_sc_events4model_bp_ohe[\\\"WHIP\\\"], df_sc_events4model_bp_ohe[\\\"event_code\\\"])\";\n",
       "                var nbb_cells = Jupyter.notebook.get_cells();\n",
       "                for (var i = 0; i < nbb_cells.length; ++i) {\n",
       "                    if (nbb_cells[i].input_prompt_number == nbb_cell_id) {\n",
       "                        if (nbb_cells[i].get_text() == nbb_unformatted_code) {\n",
       "                             nbb_cells[i].set_text(nbb_formatted_code);\n",
       "                        }\n",
       "                        break;\n",
       "                    }\n",
       "                }\n",
       "            }, 500);\n",
       "            "
      ],
      "text/plain": [
       "<IPython.core.display.Javascript object>"
      ]
     },
     "metadata": {},
     "output_type": "display_data"
    }
   ],
   "source": [
    "f, ax1 = plt.subplots()\n",
    "ax1.scatter(df_sc_events4model_bp_ohe[\"WHIP\"], df_sc_events4model_bp_ohe[\"event_code\"])"
   ]
  },
  {
   "cell_type": "markdown",
   "metadata": {},
   "source": [
    "### Logistic regression with L1 penalization"
   ]
  },
  {
   "cell_type": "code",
   "execution_count": 507,
   "metadata": {
    "ExecuteTime": {
     "end_time": "2020-01-31T20:42:13.083898Z",
     "start_time": "2020-01-31T20:42:13.061056Z"
    }
   },
   "outputs": [
    {
     "data": {
      "application/javascript": [
       "\n",
       "            setTimeout(function() {\n",
       "                var nbb_cell_id = 507;\n",
       "                var nbb_unformatted_code = \"def run_logreg_model_L1(X_train_scale_set, y_train_set, X_test_scale_set, y_test_set):\\n\\n    log_reg = LogisticRegression(class_weight=\\\"balanced\\\", penalty=\\\"l1\\\", solver='liblinear')\\n    log_reg.fit(X_train_scale_set, y_train_set)\\n\\n    y_pred = log_reg.predict(X_test_scale_set)\\n    y_predprob = log_reg.predict_proba(X_test_scale_set)[:, 1]\\n    df_eval = pd.DataFrame({\\\"test\\\": y_test_set, \\\"pred\\\": y_pred, \\\"predprob\\\": y_predprob})\\n\\n    return log_reg, df_eval\";\n",
       "                var nbb_formatted_code = \"def run_logreg_model_L1(X_train_scale_set, y_train_set, X_test_scale_set, y_test_set):\\n\\n    log_reg = LogisticRegression(\\n        class_weight=\\\"balanced\\\", penalty=\\\"l1\\\", solver=\\\"liblinear\\\"\\n    )\\n    log_reg.fit(X_train_scale_set, y_train_set)\\n\\n    y_pred = log_reg.predict(X_test_scale_set)\\n    y_predprob = log_reg.predict_proba(X_test_scale_set)[:, 1]\\n    df_eval = pd.DataFrame({\\\"test\\\": y_test_set, \\\"pred\\\": y_pred, \\\"predprob\\\": y_predprob})\\n\\n    return log_reg, df_eval\";\n",
       "                var nbb_cells = Jupyter.notebook.get_cells();\n",
       "                for (var i = 0; i < nbb_cells.length; ++i) {\n",
       "                    if (nbb_cells[i].input_prompt_number == nbb_cell_id) {\n",
       "                        if (nbb_cells[i].get_text() == nbb_unformatted_code) {\n",
       "                             nbb_cells[i].set_text(nbb_formatted_code);\n",
       "                        }\n",
       "                        break;\n",
       "                    }\n",
       "                }\n",
       "            }, 500);\n",
       "            "
      ],
      "text/plain": [
       "<IPython.core.display.Javascript object>"
      ]
     },
     "metadata": {},
     "output_type": "display_data"
    }
   ],
   "source": [
    "def run_logreg_model_L1(X_train_scale_set, y_train_set, X_test_scale_set, y_test_set):\n",
    "\n",
    "    log_reg = LogisticRegression(\n",
    "        class_weight=\"balanced\", penalty=\"l1\", solver=\"liblinear\"\n",
    "    )\n",
    "    log_reg.fit(X_train_scale_set, y_train_set)\n",
    "\n",
    "    y_pred = log_reg.predict(X_test_scale_set)\n",
    "    y_predprob = log_reg.predict_proba(X_test_scale_set)[:, 1]\n",
    "    df_eval = pd.DataFrame({\"test\": y_test_set, \"pred\": y_pred, \"predprob\": y_predprob})\n",
    "\n",
    "    return log_reg, df_eval"
   ]
  },
  {
   "cell_type": "code",
   "execution_count": 508,
   "metadata": {
    "ExecuteTime": {
     "end_time": "2020-01-31T21:07:28.868575Z",
     "start_time": "2020-01-31T20:42:15.109843Z"
    }
   },
   "outputs": [
    {
     "data": {
      "application/javascript": [
       "\n",
       "            setTimeout(function() {\n",
       "                var nbb_cell_id = 508;\n",
       "                var nbb_unformatted_code = \"# Run models\\nlog_reg_1M_L1, df_eval_1M_L1 = run_logreg_model_L1(\\n    X_train_scale_1M, y_train_1M, X_test_scale_1M, y_test_1M\\n)\";\n",
       "                var nbb_formatted_code = \"# Run models\\nlog_reg_1M_L1, df_eval_1M_L1 = run_logreg_model_L1(\\n    X_train_scale_1M, y_train_1M, X_test_scale_1M, y_test_1M\\n)\";\n",
       "                var nbb_cells = Jupyter.notebook.get_cells();\n",
       "                for (var i = 0; i < nbb_cells.length; ++i) {\n",
       "                    if (nbb_cells[i].input_prompt_number == nbb_cell_id) {\n",
       "                        if (nbb_cells[i].get_text() == nbb_unformatted_code) {\n",
       "                             nbb_cells[i].set_text(nbb_formatted_code);\n",
       "                        }\n",
       "                        break;\n",
       "                    }\n",
       "                }\n",
       "            }, 500);\n",
       "            "
      ],
      "text/plain": [
       "<IPython.core.display.Javascript object>"
      ]
     },
     "metadata": {},
     "output_type": "display_data"
    }
   ],
   "source": [
    "# Run models\n",
    "log_reg_1M_L1, df_eval_1M_L1 = run_logreg_model_L1(\n",
    "    X_train_scale_1M, y_train_1M, X_test_scale_1M, y_test_1M\n",
    ")"
   ]
  },
  {
   "cell_type": "code",
   "execution_count": 510,
   "metadata": {
    "ExecuteTime": {
     "end_time": "2020-01-31T22:18:55.101407Z",
     "start_time": "2020-01-31T22:18:55.020494Z"
    }
   },
   "outputs": [
    {
     "data": {
      "text/html": [
       "<div>\n",
       "<style scoped>\n",
       "    .dataframe tbody tr th:only-of-type {\n",
       "        vertical-align: middle;\n",
       "    }\n",
       "\n",
       "    .dataframe tbody tr th {\n",
       "        vertical-align: top;\n",
       "    }\n",
       "\n",
       "    .dataframe thead th {\n",
       "        text-align: right;\n",
       "    }\n",
       "</style>\n",
       "<table border=\"1\" class=\"dataframe\">\n",
       "  <thead>\n",
       "    <tr style=\"text-align: right;\">\n",
       "      <th></th>\n",
       "      <th>test</th>\n",
       "      <th>pred</th>\n",
       "      <th>predprob</th>\n",
       "    </tr>\n",
       "  </thead>\n",
       "  <tbody>\n",
       "    <tr>\n",
       "      <th>116951</th>\n",
       "      <td>1</td>\n",
       "      <td>1</td>\n",
       "      <td>0.512521</td>\n",
       "    </tr>\n",
       "    <tr>\n",
       "      <th>146125</th>\n",
       "      <td>1</td>\n",
       "      <td>1</td>\n",
       "      <td>0.504385</td>\n",
       "    </tr>\n",
       "    <tr>\n",
       "      <th>142042</th>\n",
       "      <td>0</td>\n",
       "      <td>1</td>\n",
       "      <td>0.537577</td>\n",
       "    </tr>\n",
       "    <tr>\n",
       "      <th>57356</th>\n",
       "      <td>0</td>\n",
       "      <td>1</td>\n",
       "      <td>0.563058</td>\n",
       "    </tr>\n",
       "    <tr>\n",
       "      <th>67644</th>\n",
       "      <td>0</td>\n",
       "      <td>1</td>\n",
       "      <td>0.596083</td>\n",
       "    </tr>\n",
       "  </tbody>\n",
       "</table>\n",
       "</div>"
      ],
      "text/plain": [
       "        test  pred  predprob\n",
       "116951     1     1  0.512521\n",
       "146125     1     1  0.504385\n",
       "142042     0     1  0.537577\n",
       "57356      0     1  0.563058\n",
       "67644      0     1  0.596083"
      ]
     },
     "execution_count": 510,
     "metadata": {},
     "output_type": "execute_result"
    },
    {
     "data": {
      "application/javascript": [
       "\n",
       "            setTimeout(function() {\n",
       "                var nbb_cell_id = 510;\n",
       "                var nbb_unformatted_code = \"df_eval_1M_L1.head()\";\n",
       "                var nbb_formatted_code = \"df_eval_1M_L1.head()\";\n",
       "                var nbb_cells = Jupyter.notebook.get_cells();\n",
       "                for (var i = 0; i < nbb_cells.length; ++i) {\n",
       "                    if (nbb_cells[i].input_prompt_number == nbb_cell_id) {\n",
       "                        if (nbb_cells[i].get_text() == nbb_unformatted_code) {\n",
       "                             nbb_cells[i].set_text(nbb_formatted_code);\n",
       "                        }\n",
       "                        break;\n",
       "                    }\n",
       "                }\n",
       "            }, 500);\n",
       "            "
      ],
      "text/plain": [
       "<IPython.core.display.Javascript object>"
      ]
     },
     "metadata": {},
     "output_type": "display_data"
    }
   ],
   "source": [
    "df_eval_1M_L1.head()"
   ]
  },
  {
   "cell_type": "code",
   "execution_count": 511,
   "metadata": {
    "ExecuteTime": {
     "end_time": "2020-01-31T22:19:01.927979Z",
     "start_time": "2020-01-31T22:19:01.741955Z"
    }
   },
   "outputs": [
    {
     "name": "stdout",
     "output_type": "stream",
     "text": [
      "              precision    recall  f1-score   support\n",
      "\n",
      "           0       0.70      0.52      0.60     62864\n",
      "           1       0.35      0.53      0.42     30218\n",
      "\n",
      "    accuracy                           0.52     93082\n",
      "   macro avg       0.52      0.52      0.51     93082\n",
      "weighted avg       0.58      0.52      0.54     93082\n",
      "\n"
     ]
    },
    {
     "data": {
      "application/javascript": [
       "\n",
       "            setTimeout(function() {\n",
       "                var nbb_cell_id = 511;\n",
       "                var nbb_unformatted_code = \"print(metrics.classification_report(df_eval_1M_L1[\\\"test\\\"], df_eval_1M_L1[\\\"pred\\\"]))\";\n",
       "                var nbb_formatted_code = \"print(metrics.classification_report(df_eval_1M_L1[\\\"test\\\"], df_eval_1M_L1[\\\"pred\\\"]))\";\n",
       "                var nbb_cells = Jupyter.notebook.get_cells();\n",
       "                for (var i = 0; i < nbb_cells.length; ++i) {\n",
       "                    if (nbb_cells[i].input_prompt_number == nbb_cell_id) {\n",
       "                        if (nbb_cells[i].get_text() == nbb_unformatted_code) {\n",
       "                             nbb_cells[i].set_text(nbb_formatted_code);\n",
       "                        }\n",
       "                        break;\n",
       "                    }\n",
       "                }\n",
       "            }, 500);\n",
       "            "
      ],
      "text/plain": [
       "<IPython.core.display.Javascript object>"
      ]
     },
     "metadata": {},
     "output_type": "display_data"
    }
   ],
   "source": [
    "print(metrics.classification_report(df_eval_1M_L1[\"test\"], df_eval_1M_L1[\"pred\"]))"
   ]
  },
  {
   "cell_type": "code",
   "execution_count": 636,
   "metadata": {
    "ExecuteTime": {
     "end_time": "2020-02-01T01:59:05.236610Z",
     "start_time": "2020-02-01T01:59:05.189961Z"
    }
   },
   "outputs": [
    {
     "name": "stdout",
     "output_type": "stream",
     "text": [
      "AUC:  0.5238877570463994\n"
     ]
    },
    {
     "data": {
      "application/javascript": [
       "\n",
       "            setTimeout(function() {\n",
       "                var nbb_cell_id = 636;\n",
       "                var nbb_unformatted_code = \"print(\\\"AUC: \\\", roc_auc_score(df_eval_1M_L1[\\\"test\\\"], df_eval_1M_L1[\\\"pred\\\"]))\";\n",
       "                var nbb_formatted_code = \"print(\\\"AUC: \\\", roc_auc_score(df_eval_1M_L1[\\\"test\\\"], df_eval_1M_L1[\\\"pred\\\"]))\";\n",
       "                var nbb_cells = Jupyter.notebook.get_cells();\n",
       "                for (var i = 0; i < nbb_cells.length; ++i) {\n",
       "                    if (nbb_cells[i].input_prompt_number == nbb_cell_id) {\n",
       "                        if (nbb_cells[i].get_text() == nbb_unformatted_code) {\n",
       "                             nbb_cells[i].set_text(nbb_formatted_code);\n",
       "                        }\n",
       "                        break;\n",
       "                    }\n",
       "                }\n",
       "            }, 500);\n",
       "            "
      ],
      "text/plain": [
       "<IPython.core.display.Javascript object>"
      ]
     },
     "metadata": {},
     "output_type": "display_data"
    }
   ],
   "source": [
    "print(\"AUC: \", roc_auc_score(df_eval_1M_L1[\"test\"], df_eval_1M_L1[\"pred\"]))"
   ]
  },
  {
   "cell_type": "markdown",
   "metadata": {
    "ExecuteTime": {
     "end_time": "2020-01-31T22:54:53.149868Z",
     "start_time": "2020-01-31T22:54:53.122207Z"
    }
   },
   "source": [
    "### Random Forest"
   ]
  },
  {
   "cell_type": "code",
   "execution_count": 514,
   "metadata": {
    "ExecuteTime": {
     "end_time": "2020-01-31T22:58:57.893051Z",
     "start_time": "2020-01-31T22:58:55.787048Z"
    }
   },
   "outputs": [
    {
     "data": {
      "application/javascript": [
       "\n",
       "            setTimeout(function() {\n",
       "                var nbb_cell_id = 514;\n",
       "                var nbb_unformatted_code = \"# Import the model we are using\\nfrom sklearn.ensemble import RandomForestClassifier\";\n",
       "                var nbb_formatted_code = \"# Import the model we are using\\nfrom sklearn.ensemble import RandomForestClassifier\";\n",
       "                var nbb_cells = Jupyter.notebook.get_cells();\n",
       "                for (var i = 0; i < nbb_cells.length; ++i) {\n",
       "                    if (nbb_cells[i].input_prompt_number == nbb_cell_id) {\n",
       "                        if (nbb_cells[i].get_text() == nbb_unformatted_code) {\n",
       "                             nbb_cells[i].set_text(nbb_formatted_code);\n",
       "                        }\n",
       "                        break;\n",
       "                    }\n",
       "                }\n",
       "            }, 500);\n",
       "            "
      ],
      "text/plain": [
       "<IPython.core.display.Javascript object>"
      ]
     },
     "metadata": {},
     "output_type": "display_data"
    }
   ],
   "source": [
    "# Import the model we are using\n",
    "from sklearn.ensemble import RandomForestClassifier\n"
   ]
  },
  {
   "cell_type": "code",
   "execution_count": 517,
   "metadata": {
    "ExecuteTime": {
     "end_time": "2020-01-31T23:00:45.678036Z",
     "start_time": "2020-01-31T23:00:45.659742Z"
    }
   },
   "outputs": [
    {
     "data": {
      "application/javascript": [
       "\n",
       "            setTimeout(function() {\n",
       "                var nbb_cell_id = 517;\n",
       "                var nbb_unformatted_code = \"def run_randomforest_v0(X_train_scale_set, y_train_set, X_test_scale_set, y_test_set):\\n\\n    # Instantiate model with 1000 decision trees\\n    rf = RandomForestClassifier(n_estimators=1000, random_state=19)\\n    rf.fit(X_train_scale_set, y_train_set)\\n\\n    y_pred = rf.predict(X_test_scale_set)\\n    y_predprob = rf.predict_proba(X_test_scale_set)[:, 1]\\n    df_eval = pd.DataFrame({\\\"test\\\": y_test_set, \\\"pred\\\": y_pred, \\\"predprob\\\": y_predprob})\\n\\n    return rf, df_eval\";\n",
       "                var nbb_formatted_code = \"def run_randomforest_v0(X_train_scale_set, y_train_set, X_test_scale_set, y_test_set):\\n\\n    # Instantiate model with 1000 decision trees\\n    rf = RandomForestClassifier(n_estimators=1000, random_state=19)\\n    rf.fit(X_train_scale_set, y_train_set)\\n\\n    y_pred = rf.predict(X_test_scale_set)\\n    y_predprob = rf.predict_proba(X_test_scale_set)[:, 1]\\n    df_eval = pd.DataFrame({\\\"test\\\": y_test_set, \\\"pred\\\": y_pred, \\\"predprob\\\": y_predprob})\\n\\n    return rf, df_eval\";\n",
       "                var nbb_cells = Jupyter.notebook.get_cells();\n",
       "                for (var i = 0; i < nbb_cells.length; ++i) {\n",
       "                    if (nbb_cells[i].input_prompt_number == nbb_cell_id) {\n",
       "                        if (nbb_cells[i].get_text() == nbb_unformatted_code) {\n",
       "                             nbb_cells[i].set_text(nbb_formatted_code);\n",
       "                        }\n",
       "                        break;\n",
       "                    }\n",
       "                }\n",
       "            }, 500);\n",
       "            "
      ],
      "text/plain": [
       "<IPython.core.display.Javascript object>"
      ]
     },
     "metadata": {},
     "output_type": "display_data"
    }
   ],
   "source": [
    "def run_randomforest_v0(X_train_scale_set, y_train_set, X_test_scale_set, y_test_set):\n",
    "\n",
    "    # Instantiate model with 1000 decision trees\n",
    "    rf = RandomForestClassifier(n_estimators=1000, random_state=19)\n",
    "    rf.fit(X_train_scale_set, y_train_set)\n",
    "\n",
    "    y_pred = rf.predict(X_test_scale_set)\n",
    "    y_predprob = rf.predict_proba(X_test_scale_set)[:, 1]\n",
    "    df_eval = pd.DataFrame({\"test\": y_test_set, \"pred\": y_pred, \"predprob\": y_predprob})\n",
    "\n",
    "    return rf, df_eval"
   ]
  },
  {
   "cell_type": "markdown",
   "metadata": {},
   "source": [
    "### Testing with small test set\n",
    "\n"
   ]
  },
  {
   "cell_type": "code",
   "execution_count": 519,
   "metadata": {
    "ExecuteTime": {
     "end_time": "2020-02-01T00:13:09.215158Z",
     "start_time": "2020-02-01T00:13:09.198806Z"
    }
   },
   "outputs": [
    {
     "data": {
      "text/plain": [
       "(232703, 654)"
      ]
     },
     "execution_count": 519,
     "metadata": {},
     "output_type": "execute_result"
    },
    {
     "data": {
      "application/javascript": [
       "\n",
       "            setTimeout(function() {\n",
       "                var nbb_cell_id = 519;\n",
       "                var nbb_unformatted_code = \"df_sc_events4model_bp_ohe.shape\";\n",
       "                var nbb_formatted_code = \"df_sc_events4model_bp_ohe.shape\";\n",
       "                var nbb_cells = Jupyter.notebook.get_cells();\n",
       "                for (var i = 0; i < nbb_cells.length; ++i) {\n",
       "                    if (nbb_cells[i].input_prompt_number == nbb_cell_id) {\n",
       "                        if (nbb_cells[i].get_text() == nbb_unformatted_code) {\n",
       "                             nbb_cells[i].set_text(nbb_formatted_code);\n",
       "                        }\n",
       "                        break;\n",
       "                    }\n",
       "                }\n",
       "            }, 500);\n",
       "            "
      ],
      "text/plain": [
       "<IPython.core.display.Javascript object>"
      ]
     },
     "metadata": {},
     "output_type": "display_data"
    }
   ],
   "source": [
    "df_sc_events4model_bp_ohe.shape"
   ]
  },
  {
   "cell_type": "code",
   "execution_count": 553,
   "metadata": {
    "ExecuteTime": {
     "end_time": "2020-02-01T01:01:11.314264Z",
     "start_time": "2020-02-01T01:01:11.304462Z"
    }
   },
   "outputs": [
    {
     "data": {
      "application/javascript": [
       "\n",
       "            setTimeout(function() {\n",
       "                var nbb_cell_id = 553;\n",
       "                var nbb_unformatted_code = \"df_sc_events4model_bp_ohe_small_test = df_sc_events4model_bp_ohe.iloc[0:100000, :]\";\n",
       "                var nbb_formatted_code = \"df_sc_events4model_bp_ohe_small_test = df_sc_events4model_bp_ohe.iloc[0:100000, :]\";\n",
       "                var nbb_cells = Jupyter.notebook.get_cells();\n",
       "                for (var i = 0; i < nbb_cells.length; ++i) {\n",
       "                    if (nbb_cells[i].input_prompt_number == nbb_cell_id) {\n",
       "                        if (nbb_cells[i].get_text() == nbb_unformatted_code) {\n",
       "                             nbb_cells[i].set_text(nbb_formatted_code);\n",
       "                        }\n",
       "                        break;\n",
       "                    }\n",
       "                }\n",
       "            }, 500);\n",
       "            "
      ],
      "text/plain": [
       "<IPython.core.display.Javascript object>"
      ]
     },
     "metadata": {},
     "output_type": "display_data"
    }
   ],
   "source": [
    "df_sc_events4model_bp_ohe_small_test = df_sc_events4model_bp_ohe.iloc[0:100000, :]"
   ]
  },
  {
   "cell_type": "code",
   "execution_count": 554,
   "metadata": {
    "ExecuteTime": {
     "end_time": "2020-02-01T01:01:13.631852Z",
     "start_time": "2020-02-01T01:01:13.622053Z"
    }
   },
   "outputs": [
    {
     "data": {
      "text/plain": [
       "(100000, 654)"
      ]
     },
     "execution_count": 554,
     "metadata": {},
     "output_type": "execute_result"
    },
    {
     "data": {
      "application/javascript": [
       "\n",
       "            setTimeout(function() {\n",
       "                var nbb_cell_id = 554;\n",
       "                var nbb_unformatted_code = \"df_sc_events4model_bp_ohe_small_test.shape\";\n",
       "                var nbb_formatted_code = \"df_sc_events4model_bp_ohe_small_test.shape\";\n",
       "                var nbb_cells = Jupyter.notebook.get_cells();\n",
       "                for (var i = 0; i < nbb_cells.length; ++i) {\n",
       "                    if (nbb_cells[i].input_prompt_number == nbb_cell_id) {\n",
       "                        if (nbb_cells[i].get_text() == nbb_unformatted_code) {\n",
       "                             nbb_cells[i].set_text(nbb_formatted_code);\n",
       "                        }\n",
       "                        break;\n",
       "                    }\n",
       "                }\n",
       "            }, 500);\n",
       "            "
      ],
      "text/plain": [
       "<IPython.core.display.Javascript object>"
      ]
     },
     "metadata": {},
     "output_type": "display_data"
    }
   ],
   "source": [
    "df_sc_events4model_bp_ohe_small_test.shape"
   ]
  },
  {
   "cell_type": "code",
   "execution_count": 557,
   "metadata": {
    "ExecuteTime": {
     "end_time": "2020-02-01T01:01:41.131130Z",
     "start_time": "2020-02-01T01:01:38.141105Z"
    }
   },
   "outputs": [
    {
     "data": {
      "application/javascript": [
       "\n",
       "            setTimeout(function() {\n",
       "                var nbb_cell_id = 557;\n",
       "                var nbb_unformatted_code = \"(\\n    X_train_scale_1M_small,\\n    X_test_scale_1M_small,\\n    y_train_1M_small,\\n    y_test_1M_small,\\n    scale_vals,\\n) = get_split_data(df_sc_events4model_bp_ohe_small_test[feature_col_w_target], 0.4)\";\n",
       "                var nbb_formatted_code = \"(\\n    X_train_scale_1M_small,\\n    X_test_scale_1M_small,\\n    y_train_1M_small,\\n    y_test_1M_small,\\n    scale_vals,\\n) = get_split_data(df_sc_events4model_bp_ohe_small_test[feature_col_w_target], 0.4)\";\n",
       "                var nbb_cells = Jupyter.notebook.get_cells();\n",
       "                for (var i = 0; i < nbb_cells.length; ++i) {\n",
       "                    if (nbb_cells[i].input_prompt_number == nbb_cell_id) {\n",
       "                        if (nbb_cells[i].get_text() == nbb_unformatted_code) {\n",
       "                             nbb_cells[i].set_text(nbb_formatted_code);\n",
       "                        }\n",
       "                        break;\n",
       "                    }\n",
       "                }\n",
       "            }, 500);\n",
       "            "
      ],
      "text/plain": [
       "<IPython.core.display.Javascript object>"
      ]
     },
     "metadata": {},
     "output_type": "display_data"
    }
   ],
   "source": [
    "(\n",
    "    X_train_scale_1M_small,\n",
    "    X_test_scale_1M_small,\n",
    "    y_train_1M_small,\n",
    "    y_test_1M_small,\n",
    "    scale_vals,\n",
    ") = get_split_data(df_sc_events4model_bp_ohe_small_test[feature_col_w_target], 0.4)"
   ]
  },
  {
   "cell_type": "code",
   "execution_count": 558,
   "metadata": {
    "ExecuteTime": {
     "end_time": "2020-02-01T01:14:09.817647Z",
     "start_time": "2020-02-01T01:01:43.897216Z"
    }
   },
   "outputs": [
    {
     "data": {
      "application/javascript": [
       "\n",
       "            setTimeout(function() {\n",
       "                var nbb_cell_id = 558;\n",
       "                var nbb_unformatted_code = \"# Run models\\nrand_for_1M_small_L1, df_eval_1M_small_L1 = run_randomforest_v0(\\n    X_train_scale_1M_small, y_train_1M_small, X_test_scale_1M_small, y_test_1M_small\\n)\";\n",
       "                var nbb_formatted_code = \"# Run models\\nrand_for_1M_small_L1, df_eval_1M_small_L1 = run_randomforest_v0(\\n    X_train_scale_1M_small, y_train_1M_small, X_test_scale_1M_small, y_test_1M_small\\n)\";\n",
       "                var nbb_cells = Jupyter.notebook.get_cells();\n",
       "                for (var i = 0; i < nbb_cells.length; ++i) {\n",
       "                    if (nbb_cells[i].input_prompt_number == nbb_cell_id) {\n",
       "                        if (nbb_cells[i].get_text() == nbb_unformatted_code) {\n",
       "                             nbb_cells[i].set_text(nbb_formatted_code);\n",
       "                        }\n",
       "                        break;\n",
       "                    }\n",
       "                }\n",
       "            }, 500);\n",
       "            "
      ],
      "text/plain": [
       "<IPython.core.display.Javascript object>"
      ]
     },
     "metadata": {},
     "output_type": "display_data"
    }
   ],
   "source": [
    "# Run models\n",
    "rand_for_1M_small_L1, df_eval_1M_small_L1 = run_randomforest_v0(\n",
    "    X_train_scale_1M_small, y_train_1M_small, X_test_scale_1M_small, y_test_1M_small\n",
    ")"
   ]
  },
  {
   "cell_type": "code",
   "execution_count": 559,
   "metadata": {
    "ExecuteTime": {
     "end_time": "2020-02-01T01:15:03.168296Z",
     "start_time": "2020-02-01T01:15:03.152290Z"
    }
   },
   "outputs": [
    {
     "data": {
      "text/plain": [
       "(40000, 3)"
      ]
     },
     "execution_count": 559,
     "metadata": {},
     "output_type": "execute_result"
    },
    {
     "data": {
      "application/javascript": [
       "\n",
       "            setTimeout(function() {\n",
       "                var nbb_cell_id = 559;\n",
       "                var nbb_unformatted_code = \"df_eval_1M_small_L1.shape\";\n",
       "                var nbb_formatted_code = \"df_eval_1M_small_L1.shape\";\n",
       "                var nbb_cells = Jupyter.notebook.get_cells();\n",
       "                for (var i = 0; i < nbb_cells.length; ++i) {\n",
       "                    if (nbb_cells[i].input_prompt_number == nbb_cell_id) {\n",
       "                        if (nbb_cells[i].get_text() == nbb_unformatted_code) {\n",
       "                             nbb_cells[i].set_text(nbb_formatted_code);\n",
       "                        }\n",
       "                        break;\n",
       "                    }\n",
       "                }\n",
       "            }, 500);\n",
       "            "
      ],
      "text/plain": [
       "<IPython.core.display.Javascript object>"
      ]
     },
     "metadata": {},
     "output_type": "display_data"
    }
   ],
   "source": [
    "df_eval_1M_small_L1.shape"
   ]
  },
  {
   "cell_type": "code",
   "execution_count": 637,
   "metadata": {
    "ExecuteTime": {
     "end_time": "2020-02-01T01:59:37.968243Z",
     "start_time": "2020-02-01T01:59:37.879494Z"
    }
   },
   "outputs": [
    {
     "name": "stdout",
     "output_type": "stream",
     "text": [
      "              precision    recall  f1-score   support\n",
      "\n",
      "           0       0.69      0.80      0.74     27401\n",
      "           1       0.33      0.21      0.25     12599\n",
      "\n",
      "    accuracy                           0.62     40000\n",
      "   macro avg       0.51      0.51      0.50     40000\n",
      "weighted avg       0.57      0.62      0.59     40000\n",
      "\n"
     ]
    },
    {
     "data": {
      "application/javascript": [
       "\n",
       "            setTimeout(function() {\n",
       "                var nbb_cell_id = 637;\n",
       "                var nbb_unformatted_code = \"print(\\n    metrics.classification_report(\\n        df_eval_1M_small_L1[\\\"test\\\"], df_eval_1M_small_L1[\\\"pred\\\"]\\n    )\\n)\";\n",
       "                var nbb_formatted_code = \"print(\\n    metrics.classification_report(\\n        df_eval_1M_small_L1[\\\"test\\\"], df_eval_1M_small_L1[\\\"pred\\\"]\\n    )\\n)\";\n",
       "                var nbb_cells = Jupyter.notebook.get_cells();\n",
       "                for (var i = 0; i < nbb_cells.length; ++i) {\n",
       "                    if (nbb_cells[i].input_prompt_number == nbb_cell_id) {\n",
       "                        if (nbb_cells[i].get_text() == nbb_unformatted_code) {\n",
       "                             nbb_cells[i].set_text(nbb_formatted_code);\n",
       "                        }\n",
       "                        break;\n",
       "                    }\n",
       "                }\n",
       "            }, 500);\n",
       "            "
      ],
      "text/plain": [
       "<IPython.core.display.Javascript object>"
      ]
     },
     "metadata": {},
     "output_type": "display_data"
    }
   ],
   "source": [
    "print(\n",
    "    metrics.classification_report(\n",
    "        df_eval_1M_small_L1[\"test\"], df_eval_1M_small_L1[\"pred\"]\n",
    "    )\n",
    ")"
   ]
  },
  {
   "cell_type": "code",
   "execution_count": 638,
   "metadata": {
    "ExecuteTime": {
     "end_time": "2020-02-01T01:59:51.088161Z",
     "start_time": "2020-02-01T01:59:51.063654Z"
    }
   },
   "outputs": [
    {
     "name": "stdout",
     "output_type": "stream",
     "text": [
      "AUC:  0.5050818885906414\n"
     ]
    },
    {
     "data": {
      "application/javascript": [
       "\n",
       "            setTimeout(function() {\n",
       "                var nbb_cell_id = 638;\n",
       "                var nbb_unformatted_code = \"print(\\\"AUC: \\\", roc_auc_score(df_eval_1M_small_L1[\\\"test\\\"], df_eval_1M_small_L1[\\\"pred\\\"]))\";\n",
       "                var nbb_formatted_code = \"print(\\\"AUC: \\\", roc_auc_score(df_eval_1M_small_L1[\\\"test\\\"], df_eval_1M_small_L1[\\\"pred\\\"]))\";\n",
       "                var nbb_cells = Jupyter.notebook.get_cells();\n",
       "                for (var i = 0; i < nbb_cells.length; ++i) {\n",
       "                    if (nbb_cells[i].input_prompt_number == nbb_cell_id) {\n",
       "                        if (nbb_cells[i].get_text() == nbb_unformatted_code) {\n",
       "                             nbb_cells[i].set_text(nbb_formatted_code);\n",
       "                        }\n",
       "                        break;\n",
       "                    }\n",
       "                }\n",
       "            }, 500);\n",
       "            "
      ],
      "text/plain": [
       "<IPython.core.display.Javascript object>"
      ]
     },
     "metadata": {},
     "output_type": "display_data"
    }
   ],
   "source": [
    "print(\"AUC: \", roc_auc_score(df_eval_1M_small_L1[\"test\"], df_eval_1M_small_L1[\"pred\"]))"
   ]
  },
  {
   "cell_type": "code",
   "execution_count": null,
   "metadata": {},
   "outputs": [],
   "source": []
  },
  {
   "cell_type": "code",
   "execution_count": 563,
   "metadata": {
    "ExecuteTime": {
     "end_time": "2020-02-01T01:16:52.638955Z",
     "start_time": "2020-02-01T01:16:52.624477Z"
    }
   },
   "outputs": [
    {
     "data": {
      "text/plain": [
       "0    68397\n",
       "1    31603\n",
       "Name: event_code, dtype: int64"
      ]
     },
     "execution_count": 563,
     "metadata": {},
     "output_type": "execute_result"
    },
    {
     "data": {
      "application/javascript": [
       "\n",
       "            setTimeout(function() {\n",
       "                var nbb_cell_id = 563;\n",
       "                var nbb_unformatted_code = \"df_sc_events4model_bp_ohe_small_test[\\\"event_code\\\"].value_counts()\";\n",
       "                var nbb_formatted_code = \"df_sc_events4model_bp_ohe_small_test[\\\"event_code\\\"].value_counts()\";\n",
       "                var nbb_cells = Jupyter.notebook.get_cells();\n",
       "                for (var i = 0; i < nbb_cells.length; ++i) {\n",
       "                    if (nbb_cells[i].input_prompt_number == nbb_cell_id) {\n",
       "                        if (nbb_cells[i].get_text() == nbb_unformatted_code) {\n",
       "                             nbb_cells[i].set_text(nbb_formatted_code);\n",
       "                        }\n",
       "                        break;\n",
       "                    }\n",
       "                }\n",
       "            }, 500);\n",
       "            "
      ],
      "text/plain": [
       "<IPython.core.display.Javascript object>"
      ]
     },
     "metadata": {},
     "output_type": "display_data"
    }
   ],
   "source": [
    "df_sc_events4model_bp_ohe_small_test[\"event_code\"].value_counts()"
   ]
  },
  {
   "cell_type": "code",
   "execution_count": null,
   "metadata": {},
   "outputs": [],
   "source": []
  },
  {
   "cell_type": "code",
   "execution_count": null,
   "metadata": {},
   "outputs": [],
   "source": [
    "# decision tree, gradient boosting\n",
    "# bagging\n"
   ]
  },
  {
   "cell_type": "code",
   "execution_count": null,
   "metadata": {},
   "outputs": [],
   "source": []
  },
  {
   "cell_type": "code",
   "execution_count": null,
   "metadata": {},
   "outputs": [],
   "source": []
  },
  {
   "cell_type": "code",
   "execution_count": null,
   "metadata": {},
   "outputs": [],
   "source": []
  },
  {
   "cell_type": "code",
   "execution_count": null,
   "metadata": {},
   "outputs": [],
   "source": []
  },
  {
   "cell_type": "markdown",
   "metadata": {},
   "source": [
    "### GridSearch\n",
    "\n",
    "- try different models\n"
   ]
  },
  {
   "cell_type": "code",
   "execution_count": null,
   "metadata": {},
   "outputs": [],
   "source": []
  },
  {
   "cell_type": "markdown",
   "metadata": {},
   "source": [
    "### PoissonRegression"
   ]
  },
  {
   "cell_type": "code",
   "execution_count": null,
   "metadata": {},
   "outputs": [],
   "source": []
  },
  {
   "cell_type": "code",
   "execution_count": null,
   "metadata": {},
   "outputs": [],
   "source": []
  },
  {
   "cell_type": "code",
   "execution_count": null,
   "metadata": {},
   "outputs": [],
   "source": []
  },
  {
   "cell_type": "code",
   "execution_count": null,
   "metadata": {},
   "outputs": [],
   "source": []
  },
  {
   "cell_type": "code",
   "execution_count": null,
   "metadata": {},
   "outputs": [],
   "source": []
  },
  {
   "cell_type": "code",
   "execution_count": null,
   "metadata": {},
   "outputs": [],
   "source": [
    "## Validation with historical data (already in split set)"
   ]
  },
  {
   "cell_type": "code",
   "execution_count": null,
   "metadata": {},
   "outputs": [],
   "source": [
    "# Pick dates where a playerA-pitcher combination has shown up\n",
    "# Input into the model - identify which is better\n",
    "\n",
    "# Imagine that you wake up on August 1, 2019 and you didn't know who to pick.\n",
    "\n",
    "# You had to choose between Santander and Leury Garcia (623993, 544725) \n",
    "# The starting pitcher Garcia is facing is...\n",
    "# The starting pitcher Santander is facing is..."
   ]
  },
  {
   "cell_type": "code",
   "execution_count": 361,
   "metadata": {
    "ExecuteTime": {
     "end_time": "2020-01-31T16:56:29.412304Z",
     "start_time": "2020-01-31T16:56:29.366562Z"
    }
   },
   "outputs": [
    {
     "data": {
      "text/html": [
       "<div>\n",
       "<style scoped>\n",
       "    .dataframe tbody tr th:only-of-type {\n",
       "        vertical-align: middle;\n",
       "    }\n",
       "\n",
       "    .dataframe tbody tr th {\n",
       "        vertical-align: top;\n",
       "    }\n",
       "\n",
       "    .dataframe thead th {\n",
       "        text-align: right;\n",
       "    }\n",
       "</style>\n",
       "<table border=\"1\" class=\"dataframe\">\n",
       "  <thead>\n",
       "    <tr style=\"text-align: right;\">\n",
       "      <th></th>\n",
       "      <th>game_date</th>\n",
       "      <th>batter</th>\n",
       "      <th>pitcher</th>\n",
       "      <th>events</th>\n",
       "      <th>stand</th>\n",
       "      <th>p_throws</th>\n",
       "      <th>inning_topbot</th>\n",
       "      <th>WAR_x</th>\n",
       "      <th>OBP</th>\n",
       "      <th>SLG</th>\n",
       "      <th>...</th>\n",
       "      <th>BB_perc</th>\n",
       "      <th>K_perc</th>\n",
       "      <th>key_mlbam_x</th>\n",
       "      <th>WAR_y</th>\n",
       "      <th>WHIP</th>\n",
       "      <th>ERA</th>\n",
       "      <th>BB/9</th>\n",
       "      <th>K/9</th>\n",
       "      <th>key_mlbam_y</th>\n",
       "      <th>event_code</th>\n",
       "    </tr>\n",
       "  </thead>\n",
       "  <tbody>\n",
       "    <tr>\n",
       "      <th>0</th>\n",
       "      <td>2017-04-03</td>\n",
       "      <td>425783.0</td>\n",
       "      <td>446372.0</td>\n",
       "      <td>strikeout</td>\n",
       "      <td>L</td>\n",
       "      <td>R</td>\n",
       "      <td>Bot</td>\n",
       "      <td>2.3</td>\n",
       "      <td>0.377</td>\n",
       "      <td>0.434</td>\n",
       "      <td>...</td>\n",
       "      <td>0.138</td>\n",
       "      <td>0.235</td>\n",
       "      <td>425783</td>\n",
       "      <td>5.5</td>\n",
       "      <td>0.99</td>\n",
       "      <td>2.89</td>\n",
       "      <td>1.42</td>\n",
       "      <td>9.29</td>\n",
       "      <td>446372.0</td>\n",
       "      <td>0</td>\n",
       "    </tr>\n",
       "    <tr>\n",
       "      <th>1</th>\n",
       "      <td>2017-04-03</td>\n",
       "      <td>425783.0</td>\n",
       "      <td>446372.0</td>\n",
       "      <td>field_out</td>\n",
       "      <td>L</td>\n",
       "      <td>R</td>\n",
       "      <td>Bot</td>\n",
       "      <td>2.3</td>\n",
       "      <td>0.377</td>\n",
       "      <td>0.434</td>\n",
       "      <td>...</td>\n",
       "      <td>0.138</td>\n",
       "      <td>0.235</td>\n",
       "      <td>425783</td>\n",
       "      <td>5.5</td>\n",
       "      <td>0.99</td>\n",
       "      <td>2.89</td>\n",
       "      <td>1.42</td>\n",
       "      <td>9.29</td>\n",
       "      <td>446372.0</td>\n",
       "      <td>0</td>\n",
       "    </tr>\n",
       "    <tr>\n",
       "      <th>2</th>\n",
       "      <td>2017-04-03</td>\n",
       "      <td>425783.0</td>\n",
       "      <td>446372.0</td>\n",
       "      <td>field_out</td>\n",
       "      <td>L</td>\n",
       "      <td>R</td>\n",
       "      <td>Bot</td>\n",
       "      <td>2.3</td>\n",
       "      <td>0.377</td>\n",
       "      <td>0.434</td>\n",
       "      <td>...</td>\n",
       "      <td>0.138</td>\n",
       "      <td>0.235</td>\n",
       "      <td>425783</td>\n",
       "      <td>5.5</td>\n",
       "      <td>0.99</td>\n",
       "      <td>2.89</td>\n",
       "      <td>1.42</td>\n",
       "      <td>9.29</td>\n",
       "      <td>446372.0</td>\n",
       "      <td>0</td>\n",
       "    </tr>\n",
       "    <tr>\n",
       "      <th>3</th>\n",
       "      <td>2018-05-02</td>\n",
       "      <td>425783.0</td>\n",
       "      <td>446372.0</td>\n",
       "      <td>field_out</td>\n",
       "      <td>L</td>\n",
       "      <td>R</td>\n",
       "      <td>Top</td>\n",
       "      <td>2.3</td>\n",
       "      <td>0.377</td>\n",
       "      <td>0.434</td>\n",
       "      <td>...</td>\n",
       "      <td>0.138</td>\n",
       "      <td>0.235</td>\n",
       "      <td>425783</td>\n",
       "      <td>5.5</td>\n",
       "      <td>0.99</td>\n",
       "      <td>2.89</td>\n",
       "      <td>1.42</td>\n",
       "      <td>9.29</td>\n",
       "      <td>446372.0</td>\n",
       "      <td>0</td>\n",
       "    </tr>\n",
       "    <tr>\n",
       "      <th>4</th>\n",
       "      <td>2018-05-02</td>\n",
       "      <td>425783.0</td>\n",
       "      <td>446372.0</td>\n",
       "      <td>single</td>\n",
       "      <td>L</td>\n",
       "      <td>R</td>\n",
       "      <td>Top</td>\n",
       "      <td>2.3</td>\n",
       "      <td>0.377</td>\n",
       "      <td>0.434</td>\n",
       "      <td>...</td>\n",
       "      <td>0.138</td>\n",
       "      <td>0.235</td>\n",
       "      <td>425783</td>\n",
       "      <td>5.5</td>\n",
       "      <td>0.99</td>\n",
       "      <td>2.89</td>\n",
       "      <td>1.42</td>\n",
       "      <td>9.29</td>\n",
       "      <td>446372.0</td>\n",
       "      <td>1</td>\n",
       "    </tr>\n",
       "  </tbody>\n",
       "</table>\n",
       "<p>5 rows × 21 columns</p>\n",
       "</div>"
      ],
      "text/plain": [
       "   game_date    batter   pitcher     events stand p_throws inning_topbot  \\\n",
       "0 2017-04-03  425783.0  446372.0  strikeout     L        R           Bot   \n",
       "1 2017-04-03  425783.0  446372.0  field_out     L        R           Bot   \n",
       "2 2017-04-03  425783.0  446372.0  field_out     L        R           Bot   \n",
       "3 2018-05-02  425783.0  446372.0  field_out     L        R           Top   \n",
       "4 2018-05-02  425783.0  446372.0     single     L        R           Top   \n",
       "\n",
       "   WAR_x    OBP    SLG  ...  BB_perc  K_perc  key_mlbam_x  WAR_y  WHIP   ERA  \\\n",
       "0    2.3  0.377  0.434  ...    0.138   0.235       425783    5.5  0.99  2.89   \n",
       "1    2.3  0.377  0.434  ...    0.138   0.235       425783    5.5  0.99  2.89   \n",
       "2    2.3  0.377  0.434  ...    0.138   0.235       425783    5.5  0.99  2.89   \n",
       "3    2.3  0.377  0.434  ...    0.138   0.235       425783    5.5  0.99  2.89   \n",
       "4    2.3  0.377  0.434  ...    0.138   0.235       425783    5.5  0.99  2.89   \n",
       "\n",
       "   BB/9   K/9  key_mlbam_y  event_code  \n",
       "0  1.42  9.29     446372.0           0  \n",
       "1  1.42  9.29     446372.0           0  \n",
       "2  1.42  9.29     446372.0           0  \n",
       "3  1.42  9.29     446372.0           0  \n",
       "4  1.42  9.29     446372.0           1  \n",
       "\n",
       "[5 rows x 21 columns]"
      ]
     },
     "execution_count": 361,
     "metadata": {},
     "output_type": "execute_result"
    },
    {
     "data": {
      "application/javascript": [
       "\n",
       "            setTimeout(function() {\n",
       "                var nbb_cell_id = 361;\n",
       "                var nbb_unformatted_code = \"df_sc_events4model_bp.head()\";\n",
       "                var nbb_formatted_code = \"df_sc_events4model_bp.head()\";\n",
       "                var nbb_cells = Jupyter.notebook.get_cells();\n",
       "                for (var i = 0; i < nbb_cells.length; ++i) {\n",
       "                    if (nbb_cells[i].input_prompt_number == nbb_cell_id) {\n",
       "                        if (nbb_cells[i].get_text() == nbb_unformatted_code) {\n",
       "                             nbb_cells[i].set_text(nbb_formatted_code);\n",
       "                        }\n",
       "                        break;\n",
       "                    }\n",
       "                }\n",
       "            }, 500);\n",
       "            "
      ],
      "text/plain": [
       "<IPython.core.display.Javascript object>"
      ]
     },
     "metadata": {},
     "output_type": "display_data"
    }
   ],
   "source": [
    "df_sc_events4model_bp.head()"
   ]
  },
  {
   "cell_type": "code",
   "execution_count": 358,
   "metadata": {
    "ExecuteTime": {
     "end_time": "2020-01-31T16:53:25.433176Z",
     "start_time": "2020-01-31T16:53:25.289166Z"
    }
   },
   "outputs": [
    {
     "data": {
      "text/html": [
       "<div>\n",
       "<style scoped>\n",
       "    .dataframe tbody tr th:only-of-type {\n",
       "        vertical-align: middle;\n",
       "    }\n",
       "\n",
       "    .dataframe tbody tr th {\n",
       "        vertical-align: top;\n",
       "    }\n",
       "\n",
       "    .dataframe thead th {\n",
       "        text-align: right;\n",
       "    }\n",
       "</style>\n",
       "<table border=\"1\" class=\"dataframe\">\n",
       "  <thead>\n",
       "    <tr style=\"text-align: right;\">\n",
       "      <th></th>\n",
       "      <th>game_date</th>\n",
       "      <th>events</th>\n",
       "      <th>WAR_x</th>\n",
       "      <th>OBP</th>\n",
       "      <th>SLG</th>\n",
       "      <th>OPS</th>\n",
       "      <th>BB_perc</th>\n",
       "      <th>K_perc</th>\n",
       "      <th>key_mlbam_x</th>\n",
       "      <th>WAR_y</th>\n",
       "      <th>...</th>\n",
       "      <th>b_660162.0</th>\n",
       "      <th>b_660271.0</th>\n",
       "      <th>b_660670.0</th>\n",
       "      <th>b_664023.0</th>\n",
       "      <th>b_664040.0</th>\n",
       "      <th>b_664056.0</th>\n",
       "      <th>b_664058.0</th>\n",
       "      <th>b_664068.0</th>\n",
       "      <th>b_665742.0</th>\n",
       "      <th>b_666971.0</th>\n",
       "    </tr>\n",
       "  </thead>\n",
       "  <tbody>\n",
       "    <tr>\n",
       "      <th>0</th>\n",
       "      <td>2017-04-03</td>\n",
       "      <td>strikeout</td>\n",
       "      <td>2.3</td>\n",
       "      <td>0.377</td>\n",
       "      <td>0.434</td>\n",
       "      <td>0.81</td>\n",
       "      <td>0.138</td>\n",
       "      <td>0.235</td>\n",
       "      <td>425783</td>\n",
       "      <td>5.5</td>\n",
       "      <td>...</td>\n",
       "      <td>0</td>\n",
       "      <td>0</td>\n",
       "      <td>0</td>\n",
       "      <td>0</td>\n",
       "      <td>0</td>\n",
       "      <td>0</td>\n",
       "      <td>0</td>\n",
       "      <td>0</td>\n",
       "      <td>0</td>\n",
       "      <td>0</td>\n",
       "    </tr>\n",
       "    <tr>\n",
       "      <th>1</th>\n",
       "      <td>2017-04-03</td>\n",
       "      <td>field_out</td>\n",
       "      <td>2.3</td>\n",
       "      <td>0.377</td>\n",
       "      <td>0.434</td>\n",
       "      <td>0.81</td>\n",
       "      <td>0.138</td>\n",
       "      <td>0.235</td>\n",
       "      <td>425783</td>\n",
       "      <td>5.5</td>\n",
       "      <td>...</td>\n",
       "      <td>0</td>\n",
       "      <td>0</td>\n",
       "      <td>0</td>\n",
       "      <td>0</td>\n",
       "      <td>0</td>\n",
       "      <td>0</td>\n",
       "      <td>0</td>\n",
       "      <td>0</td>\n",
       "      <td>0</td>\n",
       "      <td>0</td>\n",
       "    </tr>\n",
       "    <tr>\n",
       "      <th>2</th>\n",
       "      <td>2017-04-03</td>\n",
       "      <td>field_out</td>\n",
       "      <td>2.3</td>\n",
       "      <td>0.377</td>\n",
       "      <td>0.434</td>\n",
       "      <td>0.81</td>\n",
       "      <td>0.138</td>\n",
       "      <td>0.235</td>\n",
       "      <td>425783</td>\n",
       "      <td>5.5</td>\n",
       "      <td>...</td>\n",
       "      <td>0</td>\n",
       "      <td>0</td>\n",
       "      <td>0</td>\n",
       "      <td>0</td>\n",
       "      <td>0</td>\n",
       "      <td>0</td>\n",
       "      <td>0</td>\n",
       "      <td>0</td>\n",
       "      <td>0</td>\n",
       "      <td>0</td>\n",
       "    </tr>\n",
       "    <tr>\n",
       "      <th>3</th>\n",
       "      <td>2018-05-02</td>\n",
       "      <td>field_out</td>\n",
       "      <td>2.3</td>\n",
       "      <td>0.377</td>\n",
       "      <td>0.434</td>\n",
       "      <td>0.81</td>\n",
       "      <td>0.138</td>\n",
       "      <td>0.235</td>\n",
       "      <td>425783</td>\n",
       "      <td>5.5</td>\n",
       "      <td>...</td>\n",
       "      <td>0</td>\n",
       "      <td>0</td>\n",
       "      <td>0</td>\n",
       "      <td>0</td>\n",
       "      <td>0</td>\n",
       "      <td>0</td>\n",
       "      <td>0</td>\n",
       "      <td>0</td>\n",
       "      <td>0</td>\n",
       "      <td>0</td>\n",
       "    </tr>\n",
       "    <tr>\n",
       "      <th>4</th>\n",
       "      <td>2018-05-02</td>\n",
       "      <td>single</td>\n",
       "      <td>2.3</td>\n",
       "      <td>0.377</td>\n",
       "      <td>0.434</td>\n",
       "      <td>0.81</td>\n",
       "      <td>0.138</td>\n",
       "      <td>0.235</td>\n",
       "      <td>425783</td>\n",
       "      <td>5.5</td>\n",
       "      <td>...</td>\n",
       "      <td>0</td>\n",
       "      <td>0</td>\n",
       "      <td>0</td>\n",
       "      <td>0</td>\n",
       "      <td>0</td>\n",
       "      <td>0</td>\n",
       "      <td>0</td>\n",
       "      <td>0</td>\n",
       "      <td>0</td>\n",
       "      <td>0</td>\n",
       "    </tr>\n",
       "  </tbody>\n",
       "</table>\n",
       "<p>5 rows × 654 columns</p>\n",
       "</div>"
      ],
      "text/plain": [
       "   game_date     events  WAR_x    OBP    SLG   OPS  BB_perc  K_perc  \\\n",
       "0 2017-04-03  strikeout    2.3  0.377  0.434  0.81    0.138   0.235   \n",
       "1 2017-04-03  field_out    2.3  0.377  0.434  0.81    0.138   0.235   \n",
       "2 2017-04-03  field_out    2.3  0.377  0.434  0.81    0.138   0.235   \n",
       "3 2018-05-02  field_out    2.3  0.377  0.434  0.81    0.138   0.235   \n",
       "4 2018-05-02     single    2.3  0.377  0.434  0.81    0.138   0.235   \n",
       "\n",
       "   key_mlbam_x  WAR_y  ...  b_660162.0  b_660271.0  b_660670.0  b_664023.0  \\\n",
       "0       425783    5.5  ...           0           0           0           0   \n",
       "1       425783    5.5  ...           0           0           0           0   \n",
       "2       425783    5.5  ...           0           0           0           0   \n",
       "3       425783    5.5  ...           0           0           0           0   \n",
       "4       425783    5.5  ...           0           0           0           0   \n",
       "\n",
       "   b_664040.0  b_664056.0  b_664058.0  b_664068.0  b_665742.0  b_666971.0  \n",
       "0           0           0           0           0           0           0  \n",
       "1           0           0           0           0           0           0  \n",
       "2           0           0           0           0           0           0  \n",
       "3           0           0           0           0           0           0  \n",
       "4           0           0           0           0           0           0  \n",
       "\n",
       "[5 rows x 654 columns]"
      ]
     },
     "execution_count": 358,
     "metadata": {},
     "output_type": "execute_result"
    },
    {
     "data": {
      "application/javascript": [
       "\n",
       "            setTimeout(function() {\n",
       "                var nbb_cell_id = 358;\n",
       "                var nbb_unformatted_code = \"df_sc_events4model_bp_ohe.head()\";\n",
       "                var nbb_formatted_code = \"df_sc_events4model_bp_ohe.head()\";\n",
       "                var nbb_cells = Jupyter.notebook.get_cells();\n",
       "                for (var i = 0; i < nbb_cells.length; ++i) {\n",
       "                    if (nbb_cells[i].input_prompt_number == nbb_cell_id) {\n",
       "                        if (nbb_cells[i].get_text() == nbb_unformatted_code) {\n",
       "                             nbb_cells[i].set_text(nbb_formatted_code);\n",
       "                        }\n",
       "                        break;\n",
       "                    }\n",
       "                }\n",
       "            }, 500);\n",
       "            "
      ],
      "text/plain": [
       "<IPython.core.display.Javascript object>"
      ]
     },
     "metadata": {},
     "output_type": "display_data"
    }
   ],
   "source": [
    "df_sc_events4model_bp_ohe.head()"
   ]
  },
  {
   "cell_type": "code",
   "execution_count": null,
   "metadata": {},
   "outputs": [],
   "source": []
  },
  {
   "cell_type": "code",
   "execution_count": 566,
   "metadata": {
    "ExecuteTime": {
     "end_time": "2020-02-01T01:21:09.760306Z",
     "start_time": "2020-02-01T01:21:09.678282Z"
    }
   },
   "outputs": [
    {
     "data": {
      "text/plain": [
       "field_out                       95188\n",
       "strikeout                       48041\n",
       "single                          34127\n",
       "walk                            18469\n",
       "double                          11051\n",
       "home_run                         8189\n",
       "grounded_into_double_play        4555\n",
       "force_out                        4235\n",
       "hit_by_pitch                     2243\n",
       "field_error                      1868\n",
       "sac_fly                          1390\n",
       "triple                           1055\n",
       "double_play                       549\n",
       "sac_bunt                          370\n",
       "fielders_choice_out               351\n",
       "caught_stealing_2b                249\n",
       "strikeout_double_play             247\n",
       "fielders_choice                   207\n",
       "pickoff_caught_stealing_2b         57\n",
       "other_out                          56\n",
       "pickoff_1b                         55\n",
       "catcher_interf                     46\n",
       "caught_stealing_3b                 23\n",
       "pickoff_2b                         22\n",
       "sac_fly_double_play                20\n",
       "caught_stealing_home               15\n",
       "triple_play                         9\n",
       "pickoff_caught_stealing_3b          5\n",
       "pickoff_caught_stealing_home        3\n",
       "batter_interference                 2\n",
       "pickoff_3b                          2\n",
       "run                                 2\n",
       "sac_bunt_double_play                2\n",
       "Name: events, dtype: int64"
      ]
     },
     "execution_count": 566,
     "metadata": {},
     "output_type": "execute_result"
    },
    {
     "data": {
      "application/javascript": [
       "\n",
       "            setTimeout(function() {\n",
       "                var nbb_cell_id = 566;\n",
       "                var nbb_unformatted_code = \"df_sc_events4model_bp_ohe[\\\"events\\\"].value_counts()\";\n",
       "                var nbb_formatted_code = \"df_sc_events4model_bp_ohe[\\\"events\\\"].value_counts()\";\n",
       "                var nbb_cells = Jupyter.notebook.get_cells();\n",
       "                for (var i = 0; i < nbb_cells.length; ++i) {\n",
       "                    if (nbb_cells[i].input_prompt_number == nbb_cell_id) {\n",
       "                        if (nbb_cells[i].get_text() == nbb_unformatted_code) {\n",
       "                             nbb_cells[i].set_text(nbb_formatted_code);\n",
       "                        }\n",
       "                        break;\n",
       "                    }\n",
       "                }\n",
       "            }, 500);\n",
       "            "
      ],
      "text/plain": [
       "<IPython.core.display.Javascript object>"
      ]
     },
     "metadata": {},
     "output_type": "display_data"
    }
   ],
   "source": [
    "df_sc_events4model_bp_ohe[\"events\"].value_counts()"
   ]
  },
  {
   "cell_type": "code",
   "execution_count": null,
   "metadata": {},
   "outputs": [],
   "source": []
  },
  {
   "cell_type": "code",
   "execution_count": null,
   "metadata": {},
   "outputs": [],
   "source": []
  },
  {
   "cell_type": "code",
   "execution_count": 387,
   "metadata": {
    "ExecuteTime": {
     "end_time": "2020-01-31T17:14:12.327483Z",
     "start_time": "2020-01-31T17:14:12.094679Z"
    },
    "code_folding": [
     0
    ]
   },
   "outputs": [
    {
     "name": "stdout",
     "output_type": "stream",
     "text": [
      "'2019-08-02'\n",
      "'2019-08-03'\n",
      "'2019-08-09'\n",
      "'2019-08-10'\n",
      "'2019-08-19'\n",
      "'2019-08-21'\n",
      "'2019-08-22'\n",
      "'2019-08-23'\n",
      "'2019-08-28'\n",
      "'2019-08-31'\n",
      "'2019-09-01'\n",
      "'2019-09-03'\n",
      "'2019-09-10'\n",
      "'2019-09-18'\n"
     ]
    },
    {
     "data": {
      "application/javascript": [
       "\n",
       "            setTimeout(function() {\n",
       "                var nbb_cell_id = 387;\n",
       "                var nbb_unformatted_code = \"# Return dates when both Santander and Sarcia played against a starting pitcher\\n\\npid1 = 623993\\npid2 = 544725\\n\\ndate_list = [\\n    \\\"'2019-08-02'\\\",\\n    \\\"'2019-08-03'\\\",\\n    \\\"'2019-08-04'\\\",\\n    \\\"'2019-08-05'\\\",\\n    \\\"'2019-08-06'\\\",\\n    \\\"'2019-08-07'\\\",\\n    \\\"'2019-08-09'\\\",\\n    \\\"'2019-08-10'\\\",\\n    \\\"'2019-08-16'\\\",\\n    \\\"'2019-08-17'\\\",\\n    \\\"'2019-08-18'\\\",\\n    \\\"'2019-08-19'\\\",\\n    \\\"'2019-08-20'\\\",\\n    \\\"'2019-08-21'\\\",\\n    \\\"'2019-08-22'\\\",\\n    \\\"'2019-08-23'\\\",\\n    \\\"'2019-08-24'\\\",\\n    \\\"'2019-08-25'\\\",\\n    \\\"'2019-08-27'\\\",\\n    \\\"'2019-08-28'\\\",\\n    \\\"'2019-08-30'\\\",\\n    \\\"'2019-08-31'\\\",\\n    \\\"'2019-09-01'\\\",\\n    \\\"'2019-09-02'\\\",\\n    \\\"'2019-09-03'\\\",\\n    \\\"'2019-09-10'\\\",\\n    \\\"'2019-09-11'\\\",\\n    \\\"'2019-09-12'\\\",\\n    \\\"'2019-09-16'\\\",\\n    \\\"'2019-09-18'\\\",\\n    \\\"'2019-09-21'\\\",\\n]\\n\\nfor date in date_list:\\n    playerA_ab = (\\n        (df_sc_events4model_bp[\\\"batter\\\"] == pid1)\\n        & (df_sc_events4model_bp[\\\"game_date\\\"] == date)\\n    ).sum()\\n\\n    playerB_ab = (\\n        (df_sc_events4model_bp[\\\"batter\\\"] == pid2)\\n        & (df_sc_events4model_bp[\\\"game_date\\\"] == date)\\n    ).sum()\\n\\n    if (playerA_ab > 1) & (playerB_ab > 1):\\n        print(date)\\n\\n    if date is \\\"2019-09-18\\\":\\n        break\";\n",
       "                var nbb_formatted_code = \"# Return dates when both Santander and Sarcia played against a starting pitcher\\n\\npid1 = 623993\\npid2 = 544725\\n\\ndate_list = [\\n    \\\"'2019-08-02'\\\",\\n    \\\"'2019-08-03'\\\",\\n    \\\"'2019-08-04'\\\",\\n    \\\"'2019-08-05'\\\",\\n    \\\"'2019-08-06'\\\",\\n    \\\"'2019-08-07'\\\",\\n    \\\"'2019-08-09'\\\",\\n    \\\"'2019-08-10'\\\",\\n    \\\"'2019-08-16'\\\",\\n    \\\"'2019-08-17'\\\",\\n    \\\"'2019-08-18'\\\",\\n    \\\"'2019-08-19'\\\",\\n    \\\"'2019-08-20'\\\",\\n    \\\"'2019-08-21'\\\",\\n    \\\"'2019-08-22'\\\",\\n    \\\"'2019-08-23'\\\",\\n    \\\"'2019-08-24'\\\",\\n    \\\"'2019-08-25'\\\",\\n    \\\"'2019-08-27'\\\",\\n    \\\"'2019-08-28'\\\",\\n    \\\"'2019-08-30'\\\",\\n    \\\"'2019-08-31'\\\",\\n    \\\"'2019-09-01'\\\",\\n    \\\"'2019-09-02'\\\",\\n    \\\"'2019-09-03'\\\",\\n    \\\"'2019-09-10'\\\",\\n    \\\"'2019-09-11'\\\",\\n    \\\"'2019-09-12'\\\",\\n    \\\"'2019-09-16'\\\",\\n    \\\"'2019-09-18'\\\",\\n    \\\"'2019-09-21'\\\",\\n]\\n\\nfor date in date_list:\\n    playerA_ab = (\\n        (df_sc_events4model_bp[\\\"batter\\\"] == pid1)\\n        & (df_sc_events4model_bp[\\\"game_date\\\"] == date)\\n    ).sum()\\n\\n    playerB_ab = (\\n        (df_sc_events4model_bp[\\\"batter\\\"] == pid2)\\n        & (df_sc_events4model_bp[\\\"game_date\\\"] == date)\\n    ).sum()\\n\\n    if (playerA_ab > 1) & (playerB_ab > 1):\\n        print(date)\\n\\n    if date is \\\"2019-09-18\\\":\\n        break\";\n",
       "                var nbb_cells = Jupyter.notebook.get_cells();\n",
       "                for (var i = 0; i < nbb_cells.length; ++i) {\n",
       "                    if (nbb_cells[i].input_prompt_number == nbb_cell_id) {\n",
       "                        if (nbb_cells[i].get_text() == nbb_unformatted_code) {\n",
       "                             nbb_cells[i].set_text(nbb_formatted_code);\n",
       "                        }\n",
       "                        break;\n",
       "                    }\n",
       "                }\n",
       "            }, 500);\n",
       "            "
      ],
      "text/plain": [
       "<IPython.core.display.Javascript object>"
      ]
     },
     "metadata": {},
     "output_type": "display_data"
    }
   ],
   "source": [
    "# Return dates when both Santander and Sarcia played against a starting pitcher\n",
    "\n",
    "pid1 = 623993\n",
    "pid2 = 544725\n",
    "\n",
    "date_list = [\n",
    "    \"'2019-08-02'\",\n",
    "    \"'2019-08-03'\",\n",
    "    \"'2019-08-04'\",\n",
    "    \"'2019-08-05'\",\n",
    "    \"'2019-08-06'\",\n",
    "    \"'2019-08-07'\",\n",
    "    \"'2019-08-09'\",\n",
    "    \"'2019-08-10'\",\n",
    "    \"'2019-08-16'\",\n",
    "    \"'2019-08-17'\",\n",
    "    \"'2019-08-18'\",\n",
    "    \"'2019-08-19'\",\n",
    "    \"'2019-08-20'\",\n",
    "    \"'2019-08-21'\",\n",
    "    \"'2019-08-22'\",\n",
    "    \"'2019-08-23'\",\n",
    "    \"'2019-08-24'\",\n",
    "    \"'2019-08-25'\",\n",
    "    \"'2019-08-27'\",\n",
    "    \"'2019-08-28'\",\n",
    "    \"'2019-08-30'\",\n",
    "    \"'2019-08-31'\",\n",
    "    \"'2019-09-01'\",\n",
    "    \"'2019-09-02'\",\n",
    "    \"'2019-09-03'\",\n",
    "    \"'2019-09-10'\",\n",
    "    \"'2019-09-11'\",\n",
    "    \"'2019-09-12'\",\n",
    "    \"'2019-09-16'\",\n",
    "    \"'2019-09-18'\",\n",
    "    \"'2019-09-21'\",\n",
    "]\n",
    "\n",
    "for date in date_list:\n",
    "    playerA_ab = (\n",
    "        (df_sc_events4model_bp[\"batter\"] == pid1)\n",
    "        & (df_sc_events4model_bp[\"game_date\"] == date)\n",
    "    ).sum()\n",
    "\n",
    "    playerB_ab = (\n",
    "        (df_sc_events4model_bp[\"batter\"] == pid2)\n",
    "        & (df_sc_events4model_bp[\"game_date\"] == date)\n",
    "    ).sum()\n",
    "\n",
    "    if (playerA_ab > 1) & (playerB_ab > 1):\n",
    "        print(date)\n",
    "\n",
    "    if date is \"2019-09-18\":\n",
    "        break"
   ]
  },
  {
   "cell_type": "code",
   "execution_count": 389,
   "metadata": {
    "ExecuteTime": {
     "end_time": "2020-01-31T17:14:30.712686Z",
     "start_time": "2020-01-31T17:14:30.705575Z"
    }
   },
   "outputs": [
    {
     "data": {
      "application/javascript": [
       "\n",
       "            setTimeout(function() {\n",
       "                var nbb_cell_id = 389;\n",
       "                var nbb_unformatted_code = \"date = '2019-09-18'\";\n",
       "                var nbb_formatted_code = \"date = \\\"2019-09-18\\\"\";\n",
       "                var nbb_cells = Jupyter.notebook.get_cells();\n",
       "                for (var i = 0; i < nbb_cells.length; ++i) {\n",
       "                    if (nbb_cells[i].input_prompt_number == nbb_cell_id) {\n",
       "                        if (nbb_cells[i].get_text() == nbb_unformatted_code) {\n",
       "                             nbb_cells[i].set_text(nbb_formatted_code);\n",
       "                        }\n",
       "                        break;\n",
       "                    }\n",
       "                }\n",
       "            }, 500);\n",
       "            "
      ],
      "text/plain": [
       "<IPython.core.display.Javascript object>"
      ]
     },
     "metadata": {},
     "output_type": "display_data"
    }
   ],
   "source": [
    "date = \"2019-09-18\""
   ]
  },
  {
   "cell_type": "code",
   "execution_count": 394,
   "metadata": {
    "ExecuteTime": {
     "end_time": "2020-01-31T17:14:53.234631Z",
     "start_time": "2020-01-31T17:14:53.218505Z"
    }
   },
   "outputs": [
    {
     "data": {
      "application/javascript": [
       "\n",
       "            setTimeout(function() {\n",
       "                var nbb_cell_id = 394;\n",
       "                var nbb_unformatted_code = \"playerA_ab = (\\n    (df_sc_events4model_bp[\\\"batter\\\"] == pid1)\\n    & (df_sc_events4model_bp[\\\"game_date\\\"] == date)\\n).sum()\";\n",
       "                var nbb_formatted_code = \"playerA_ab = (\\n    (df_sc_events4model_bp[\\\"batter\\\"] == pid1)\\n    & (df_sc_events4model_bp[\\\"game_date\\\"] == date)\\n).sum()\";\n",
       "                var nbb_cells = Jupyter.notebook.get_cells();\n",
       "                for (var i = 0; i < nbb_cells.length; ++i) {\n",
       "                    if (nbb_cells[i].input_prompt_number == nbb_cell_id) {\n",
       "                        if (nbb_cells[i].get_text() == nbb_unformatted_code) {\n",
       "                             nbb_cells[i].set_text(nbb_formatted_code);\n",
       "                        }\n",
       "                        break;\n",
       "                    }\n",
       "                }\n",
       "            }, 500);\n",
       "            "
      ],
      "text/plain": [
       "<IPython.core.display.Javascript object>"
      ]
     },
     "metadata": {},
     "output_type": "display_data"
    }
   ],
   "source": [
    "playerA_ab = (\n",
    "    (df_sc_events4model_bp[\"batter\"] == pid1)\n",
    "    & (df_sc_events4model_bp[\"game_date\"] == date)\n",
    ").sum()"
   ]
  },
  {
   "cell_type": "code",
   "execution_count": 395,
   "metadata": {
    "ExecuteTime": {
     "end_time": "2020-01-31T17:14:55.304710Z",
     "start_time": "2020-01-31T17:14:55.295437Z"
    }
   },
   "outputs": [
    {
     "data": {
      "text/plain": [
       "3"
      ]
     },
     "execution_count": 395,
     "metadata": {},
     "output_type": "execute_result"
    },
    {
     "data": {
      "application/javascript": [
       "\n",
       "            setTimeout(function() {\n",
       "                var nbb_cell_id = 395;\n",
       "                var nbb_unformatted_code = \"playerA_ab\";\n",
       "                var nbb_formatted_code = \"playerA_ab\";\n",
       "                var nbb_cells = Jupyter.notebook.get_cells();\n",
       "                for (var i = 0; i < nbb_cells.length; ++i) {\n",
       "                    if (nbb_cells[i].input_prompt_number == nbb_cell_id) {\n",
       "                        if (nbb_cells[i].get_text() == nbb_unformatted_code) {\n",
       "                             nbb_cells[i].set_text(nbb_formatted_code);\n",
       "                        }\n",
       "                        break;\n",
       "                    }\n",
       "                }\n",
       "            }, 500);\n",
       "            "
      ],
      "text/plain": [
       "<IPython.core.display.Javascript object>"
      ]
     },
     "metadata": {},
     "output_type": "display_data"
    }
   ],
   "source": [
    "playerA_ab"
   ]
  },
  {
   "cell_type": "code",
   "execution_count": 376,
   "metadata": {
    "ExecuteTime": {
     "end_time": "2020-01-31T17:09:11.159017Z",
     "start_time": "2020-01-31T17:09:11.118777Z"
    }
   },
   "outputs": [
    {
     "data": {
      "text/html": [
       "<div>\n",
       "<style scoped>\n",
       "    .dataframe tbody tr th:only-of-type {\n",
       "        vertical-align: middle;\n",
       "    }\n",
       "\n",
       "    .dataframe tbody tr th {\n",
       "        vertical-align: top;\n",
       "    }\n",
       "\n",
       "    .dataframe thead th {\n",
       "        text-align: right;\n",
       "    }\n",
       "</style>\n",
       "<table border=\"1\" class=\"dataframe\">\n",
       "  <thead>\n",
       "    <tr style=\"text-align: right;\">\n",
       "      <th></th>\n",
       "      <th>game_date</th>\n",
       "      <th>batter</th>\n",
       "      <th>pitcher</th>\n",
       "      <th>events</th>\n",
       "      <th>stand</th>\n",
       "      <th>p_throws</th>\n",
       "      <th>inning_topbot</th>\n",
       "      <th>WAR_x</th>\n",
       "      <th>OBP</th>\n",
       "      <th>SLG</th>\n",
       "      <th>...</th>\n",
       "      <th>BB_perc</th>\n",
       "      <th>K_perc</th>\n",
       "      <th>key_mlbam_x</th>\n",
       "      <th>WAR_y</th>\n",
       "      <th>WHIP</th>\n",
       "      <th>ERA</th>\n",
       "      <th>BB/9</th>\n",
       "      <th>K/9</th>\n",
       "      <th>key_mlbam_y</th>\n",
       "      <th>event_code</th>\n",
       "    </tr>\n",
       "  </thead>\n",
       "  <tbody>\n",
       "    <tr>\n",
       "      <th>0</th>\n",
       "      <td>2017-04-03</td>\n",
       "      <td>425783.0</td>\n",
       "      <td>446372.0</td>\n",
       "      <td>strikeout</td>\n",
       "      <td>L</td>\n",
       "      <td>R</td>\n",
       "      <td>Bot</td>\n",
       "      <td>2.3</td>\n",
       "      <td>0.377</td>\n",
       "      <td>0.434</td>\n",
       "      <td>...</td>\n",
       "      <td>0.138</td>\n",
       "      <td>0.235</td>\n",
       "      <td>425783</td>\n",
       "      <td>5.5</td>\n",
       "      <td>0.99</td>\n",
       "      <td>2.89</td>\n",
       "      <td>1.42</td>\n",
       "      <td>9.29</td>\n",
       "      <td>446372.0</td>\n",
       "      <td>0</td>\n",
       "    </tr>\n",
       "    <tr>\n",
       "      <th>1</th>\n",
       "      <td>2017-04-03</td>\n",
       "      <td>425783.0</td>\n",
       "      <td>446372.0</td>\n",
       "      <td>field_out</td>\n",
       "      <td>L</td>\n",
       "      <td>R</td>\n",
       "      <td>Bot</td>\n",
       "      <td>2.3</td>\n",
       "      <td>0.377</td>\n",
       "      <td>0.434</td>\n",
       "      <td>...</td>\n",
       "      <td>0.138</td>\n",
       "      <td>0.235</td>\n",
       "      <td>425783</td>\n",
       "      <td>5.5</td>\n",
       "      <td>0.99</td>\n",
       "      <td>2.89</td>\n",
       "      <td>1.42</td>\n",
       "      <td>9.29</td>\n",
       "      <td>446372.0</td>\n",
       "      <td>0</td>\n",
       "    </tr>\n",
       "    <tr>\n",
       "      <th>2</th>\n",
       "      <td>2017-04-03</td>\n",
       "      <td>425783.0</td>\n",
       "      <td>446372.0</td>\n",
       "      <td>field_out</td>\n",
       "      <td>L</td>\n",
       "      <td>R</td>\n",
       "      <td>Bot</td>\n",
       "      <td>2.3</td>\n",
       "      <td>0.377</td>\n",
       "      <td>0.434</td>\n",
       "      <td>...</td>\n",
       "      <td>0.138</td>\n",
       "      <td>0.235</td>\n",
       "      <td>425783</td>\n",
       "      <td>5.5</td>\n",
       "      <td>0.99</td>\n",
       "      <td>2.89</td>\n",
       "      <td>1.42</td>\n",
       "      <td>9.29</td>\n",
       "      <td>446372.0</td>\n",
       "      <td>0</td>\n",
       "    </tr>\n",
       "    <tr>\n",
       "      <th>3</th>\n",
       "      <td>2018-05-02</td>\n",
       "      <td>425783.0</td>\n",
       "      <td>446372.0</td>\n",
       "      <td>field_out</td>\n",
       "      <td>L</td>\n",
       "      <td>R</td>\n",
       "      <td>Top</td>\n",
       "      <td>2.3</td>\n",
       "      <td>0.377</td>\n",
       "      <td>0.434</td>\n",
       "      <td>...</td>\n",
       "      <td>0.138</td>\n",
       "      <td>0.235</td>\n",
       "      <td>425783</td>\n",
       "      <td>5.5</td>\n",
       "      <td>0.99</td>\n",
       "      <td>2.89</td>\n",
       "      <td>1.42</td>\n",
       "      <td>9.29</td>\n",
       "      <td>446372.0</td>\n",
       "      <td>0</td>\n",
       "    </tr>\n",
       "    <tr>\n",
       "      <th>4</th>\n",
       "      <td>2018-05-02</td>\n",
       "      <td>425783.0</td>\n",
       "      <td>446372.0</td>\n",
       "      <td>single</td>\n",
       "      <td>L</td>\n",
       "      <td>R</td>\n",
       "      <td>Top</td>\n",
       "      <td>2.3</td>\n",
       "      <td>0.377</td>\n",
       "      <td>0.434</td>\n",
       "      <td>...</td>\n",
       "      <td>0.138</td>\n",
       "      <td>0.235</td>\n",
       "      <td>425783</td>\n",
       "      <td>5.5</td>\n",
       "      <td>0.99</td>\n",
       "      <td>2.89</td>\n",
       "      <td>1.42</td>\n",
       "      <td>9.29</td>\n",
       "      <td>446372.0</td>\n",
       "      <td>1</td>\n",
       "    </tr>\n",
       "  </tbody>\n",
       "</table>\n",
       "<p>5 rows × 21 columns</p>\n",
       "</div>"
      ],
      "text/plain": [
       "   game_date    batter   pitcher     events stand p_throws inning_topbot  \\\n",
       "0 2017-04-03  425783.0  446372.0  strikeout     L        R           Bot   \n",
       "1 2017-04-03  425783.0  446372.0  field_out     L        R           Bot   \n",
       "2 2017-04-03  425783.0  446372.0  field_out     L        R           Bot   \n",
       "3 2018-05-02  425783.0  446372.0  field_out     L        R           Top   \n",
       "4 2018-05-02  425783.0  446372.0     single     L        R           Top   \n",
       "\n",
       "   WAR_x    OBP    SLG  ...  BB_perc  K_perc  key_mlbam_x  WAR_y  WHIP   ERA  \\\n",
       "0    2.3  0.377  0.434  ...    0.138   0.235       425783    5.5  0.99  2.89   \n",
       "1    2.3  0.377  0.434  ...    0.138   0.235       425783    5.5  0.99  2.89   \n",
       "2    2.3  0.377  0.434  ...    0.138   0.235       425783    5.5  0.99  2.89   \n",
       "3    2.3  0.377  0.434  ...    0.138   0.235       425783    5.5  0.99  2.89   \n",
       "4    2.3  0.377  0.434  ...    0.138   0.235       425783    5.5  0.99  2.89   \n",
       "\n",
       "   BB/9   K/9  key_mlbam_y  event_code  \n",
       "0  1.42  9.29     446372.0           0  \n",
       "1  1.42  9.29     446372.0           0  \n",
       "2  1.42  9.29     446372.0           0  \n",
       "3  1.42  9.29     446372.0           0  \n",
       "4  1.42  9.29     446372.0           1  \n",
       "\n",
       "[5 rows x 21 columns]"
      ]
     },
     "execution_count": 376,
     "metadata": {},
     "output_type": "execute_result"
    },
    {
     "data": {
      "application/javascript": [
       "\n",
       "            setTimeout(function() {\n",
       "                var nbb_cell_id = 376;\n",
       "                var nbb_unformatted_code = \"df_sc_events4model_bp.head()\";\n",
       "                var nbb_formatted_code = \"df_sc_events4model_bp.head()\";\n",
       "                var nbb_cells = Jupyter.notebook.get_cells();\n",
       "                for (var i = 0; i < nbb_cells.length; ++i) {\n",
       "                    if (nbb_cells[i].input_prompt_number == nbb_cell_id) {\n",
       "                        if (nbb_cells[i].get_text() == nbb_unformatted_code) {\n",
       "                             nbb_cells[i].set_text(nbb_formatted_code);\n",
       "                        }\n",
       "                        break;\n",
       "                    }\n",
       "                }\n",
       "            }, 500);\n",
       "            "
      ],
      "text/plain": [
       "<IPython.core.display.Javascript object>"
      ]
     },
     "metadata": {},
     "output_type": "display_data"
    }
   ],
   "source": [
    "df_sc_events4model_bp.head()"
   ]
  },
  {
   "cell_type": "code",
   "execution_count": 405,
   "metadata": {
    "ExecuteTime": {
     "end_time": "2020-01-31T17:17:03.497408Z",
     "start_time": "2020-01-31T17:17:03.488810Z"
    }
   },
   "outputs": [
    {
     "data": {
      "application/javascript": [
       "\n",
       "            setTimeout(function() {\n",
       "                var nbb_cell_id = 405;\n",
       "                var nbb_unformatted_code = \"date_to_pick = \\\"2019-08-02\\\"\";\n",
       "                var nbb_formatted_code = \"date_to_pick = \\\"2019-08-02\\\"\";\n",
       "                var nbb_cells = Jupyter.notebook.get_cells();\n",
       "                for (var i = 0; i < nbb_cells.length; ++i) {\n",
       "                    if (nbb_cells[i].input_prompt_number == nbb_cell_id) {\n",
       "                        if (nbb_cells[i].get_text() == nbb_unformatted_code) {\n",
       "                             nbb_cells[i].set_text(nbb_formatted_code);\n",
       "                        }\n",
       "                        break;\n",
       "                    }\n",
       "                }\n",
       "            }, 500);\n",
       "            "
      ],
      "text/plain": [
       "<IPython.core.display.Javascript object>"
      ]
     },
     "metadata": {},
     "output_type": "display_data"
    }
   ],
   "source": [
    "date_to_pick = \"2019-08-02\""
   ]
  },
  {
   "cell_type": "code",
   "execution_count": 406,
   "metadata": {
    "ExecuteTime": {
     "end_time": "2020-01-31T17:17:05.735890Z",
     "start_time": "2020-01-31T17:17:05.717313Z"
    }
   },
   "outputs": [
    {
     "data": {
      "application/javascript": [
       "\n",
       "            setTimeout(function() {\n",
       "                var nbb_cell_id = 406;\n",
       "                var nbb_unformatted_code = \"df_sc_events4model_bp_p1_dayof = df_sc_events4model_bp.loc[\\n    (\\n        (df_sc_events4model_bp[\\\"batter\\\"] == pid1)\\n        & (df_sc_events4model_bp[\\\"game_date\\\"] == date_to_pick)\\n    ),\\n    :,\\n]\";\n",
       "                var nbb_formatted_code = \"df_sc_events4model_bp_p1_dayof = df_sc_events4model_bp.loc[\\n    (\\n        (df_sc_events4model_bp[\\\"batter\\\"] == pid1)\\n        & (df_sc_events4model_bp[\\\"game_date\\\"] == date_to_pick)\\n    ),\\n    :,\\n]\";\n",
       "                var nbb_cells = Jupyter.notebook.get_cells();\n",
       "                for (var i = 0; i < nbb_cells.length; ++i) {\n",
       "                    if (nbb_cells[i].input_prompt_number == nbb_cell_id) {\n",
       "                        if (nbb_cells[i].get_text() == nbb_unformatted_code) {\n",
       "                             nbb_cells[i].set_text(nbb_formatted_code);\n",
       "                        }\n",
       "                        break;\n",
       "                    }\n",
       "                }\n",
       "            }, 500);\n",
       "            "
      ],
      "text/plain": [
       "<IPython.core.display.Javascript object>"
      ]
     },
     "metadata": {},
     "output_type": "display_data"
    }
   ],
   "source": [
    "df_sc_events4model_bp_p1_dayof = df_sc_events4model_bp.loc[\n",
    "    (\n",
    "        (df_sc_events4model_bp[\"batter\"] == pid1)\n",
    "        & (df_sc_events4model_bp[\"game_date\"] == date_to_pick)\n",
    "    ),\n",
    "    :,\n",
    "]"
   ]
  },
  {
   "cell_type": "code",
   "execution_count": 407,
   "metadata": {
    "ExecuteTime": {
     "end_time": "2020-01-31T17:17:07.990353Z",
     "start_time": "2020-01-31T17:17:07.971945Z"
    }
   },
   "outputs": [
    {
     "data": {
      "application/javascript": [
       "\n",
       "            setTimeout(function() {\n",
       "                var nbb_cell_id = 407;\n",
       "                var nbb_unformatted_code = \"df_sc_events4model_bp_p2_dayof = df_sc_events4model_bp.loc[\\n    (\\n        (df_sc_events4model_bp[\\\"batter\\\"] == pid2)\\n        & (df_sc_events4model_bp[\\\"game_date\\\"] == date_to_pick)\\n    ),\\n    :,\\n]\";\n",
       "                var nbb_formatted_code = \"df_sc_events4model_bp_p2_dayof = df_sc_events4model_bp.loc[\\n    (\\n        (df_sc_events4model_bp[\\\"batter\\\"] == pid2)\\n        & (df_sc_events4model_bp[\\\"game_date\\\"] == date_to_pick)\\n    ),\\n    :,\\n]\";\n",
       "                var nbb_cells = Jupyter.notebook.get_cells();\n",
       "                for (var i = 0; i < nbb_cells.length; ++i) {\n",
       "                    if (nbb_cells[i].input_prompt_number == nbb_cell_id) {\n",
       "                        if (nbb_cells[i].get_text() == nbb_unformatted_code) {\n",
       "                             nbb_cells[i].set_text(nbb_formatted_code);\n",
       "                        }\n",
       "                        break;\n",
       "                    }\n",
       "                }\n",
       "            }, 500);\n",
       "            "
      ],
      "text/plain": [
       "<IPython.core.display.Javascript object>"
      ]
     },
     "metadata": {},
     "output_type": "display_data"
    }
   ],
   "source": [
    "df_sc_events4model_bp_p2_dayof = df_sc_events4model_bp.loc[\n",
    "    (\n",
    "        (df_sc_events4model_bp[\"batter\"] == pid2)\n",
    "        & (df_sc_events4model_bp[\"game_date\"] == date_to_pick)\n",
    "    ),\n",
    "    :,\n",
    "]"
   ]
  },
  {
   "cell_type": "code",
   "execution_count": 408,
   "metadata": {
    "ExecuteTime": {
     "end_time": "2020-01-31T17:17:10.143024Z",
     "start_time": "2020-01-31T17:17:10.111865Z"
    }
   },
   "outputs": [
    {
     "data": {
      "text/html": [
       "<div>\n",
       "<style scoped>\n",
       "    .dataframe tbody tr th:only-of-type {\n",
       "        vertical-align: middle;\n",
       "    }\n",
       "\n",
       "    .dataframe tbody tr th {\n",
       "        vertical-align: top;\n",
       "    }\n",
       "\n",
       "    .dataframe thead th {\n",
       "        text-align: right;\n",
       "    }\n",
       "</style>\n",
       "<table border=\"1\" class=\"dataframe\">\n",
       "  <thead>\n",
       "    <tr style=\"text-align: right;\">\n",
       "      <th></th>\n",
       "      <th>game_date</th>\n",
       "      <th>batter</th>\n",
       "      <th>pitcher</th>\n",
       "      <th>events</th>\n",
       "      <th>stand</th>\n",
       "      <th>p_throws</th>\n",
       "      <th>inning_topbot</th>\n",
       "      <th>WAR_x</th>\n",
       "      <th>OBP</th>\n",
       "      <th>SLG</th>\n",
       "      <th>...</th>\n",
       "      <th>BB_perc</th>\n",
       "      <th>K_perc</th>\n",
       "      <th>key_mlbam_x</th>\n",
       "      <th>WAR_y</th>\n",
       "      <th>WHIP</th>\n",
       "      <th>ERA</th>\n",
       "      <th>BB/9</th>\n",
       "      <th>K/9</th>\n",
       "      <th>key_mlbam_y</th>\n",
       "      <th>event_code</th>\n",
       "    </tr>\n",
       "  </thead>\n",
       "  <tbody>\n",
       "    <tr>\n",
       "      <th>130524</th>\n",
       "      <td>2019-08-02</td>\n",
       "      <td>623993.0</td>\n",
       "      <td>592468.0</td>\n",
       "      <td>field_out</td>\n",
       "      <td>L</td>\n",
       "      <td>R</td>\n",
       "      <td>Bot</td>\n",
       "      <td>-0.4</td>\n",
       "      <td>0.25</td>\n",
       "      <td>0.297</td>\n",
       "      <td>...</td>\n",
       "      <td>0.056</td>\n",
       "      <td>0.194</td>\n",
       "      <td>623993</td>\n",
       "      <td>-0.3</td>\n",
       "      <td>1.38</td>\n",
       "      <td>5.21</td>\n",
       "      <td>3.08</td>\n",
       "      <td>8.17</td>\n",
       "      <td>592468.0</td>\n",
       "      <td>0</td>\n",
       "    </tr>\n",
       "    <tr>\n",
       "      <th>132126</th>\n",
       "      <td>2019-08-02</td>\n",
       "      <td>623993.0</td>\n",
       "      <td>543208.0</td>\n",
       "      <td>single</td>\n",
       "      <td>L</td>\n",
       "      <td>R</td>\n",
       "      <td>Bot</td>\n",
       "      <td>-0.4</td>\n",
       "      <td>0.25</td>\n",
       "      <td>0.297</td>\n",
       "      <td>...</td>\n",
       "      <td>0.056</td>\n",
       "      <td>0.194</td>\n",
       "      <td>623993</td>\n",
       "      <td>0.8</td>\n",
       "      <td>1.44</td>\n",
       "      <td>5.31</td>\n",
       "      <td>2.77</td>\n",
       "      <td>7.64</td>\n",
       "      <td>543208.0</td>\n",
       "      <td>1</td>\n",
       "    </tr>\n",
       "  </tbody>\n",
       "</table>\n",
       "<p>2 rows × 21 columns</p>\n",
       "</div>"
      ],
      "text/plain": [
       "        game_date    batter   pitcher     events stand p_throws inning_topbot  \\\n",
       "130524 2019-08-02  623993.0  592468.0  field_out     L        R           Bot   \n",
       "132126 2019-08-02  623993.0  543208.0     single     L        R           Bot   \n",
       "\n",
       "        WAR_x   OBP    SLG  ...  BB_perc  K_perc  key_mlbam_x  WAR_y  WHIP  \\\n",
       "130524   -0.4  0.25  0.297  ...    0.056   0.194       623993   -0.3  1.38   \n",
       "132126   -0.4  0.25  0.297  ...    0.056   0.194       623993    0.8  1.44   \n",
       "\n",
       "         ERA  BB/9   K/9  key_mlbam_y  event_code  \n",
       "130524  5.21  3.08  8.17     592468.0           0  \n",
       "132126  5.31  2.77  7.64     543208.0           1  \n",
       "\n",
       "[2 rows x 21 columns]"
      ]
     },
     "execution_count": 408,
     "metadata": {},
     "output_type": "execute_result"
    },
    {
     "data": {
      "application/javascript": [
       "\n",
       "            setTimeout(function() {\n",
       "                var nbb_cell_id = 408;\n",
       "                var nbb_unformatted_code = \"df_sc_events4model_bp_p1_dayof\";\n",
       "                var nbb_formatted_code = \"df_sc_events4model_bp_p1_dayof\";\n",
       "                var nbb_cells = Jupyter.notebook.get_cells();\n",
       "                for (var i = 0; i < nbb_cells.length; ++i) {\n",
       "                    if (nbb_cells[i].input_prompt_number == nbb_cell_id) {\n",
       "                        if (nbb_cells[i].get_text() == nbb_unformatted_code) {\n",
       "                             nbb_cells[i].set_text(nbb_formatted_code);\n",
       "                        }\n",
       "                        break;\n",
       "                    }\n",
       "                }\n",
       "            }, 500);\n",
       "            "
      ],
      "text/plain": [
       "<IPython.core.display.Javascript object>"
      ]
     },
     "metadata": {},
     "output_type": "display_data"
    }
   ],
   "source": [
    "df_sc_events4model_bp_p1_dayof"
   ]
  },
  {
   "cell_type": "code",
   "execution_count": 409,
   "metadata": {
    "ExecuteTime": {
     "end_time": "2020-01-31T17:17:12.298492Z",
     "start_time": "2020-01-31T17:17:12.261344Z"
    }
   },
   "outputs": [
    {
     "data": {
      "text/html": [
       "<div>\n",
       "<style scoped>\n",
       "    .dataframe tbody tr th:only-of-type {\n",
       "        vertical-align: middle;\n",
       "    }\n",
       "\n",
       "    .dataframe tbody tr th {\n",
       "        vertical-align: top;\n",
       "    }\n",
       "\n",
       "    .dataframe thead th {\n",
       "        text-align: right;\n",
       "    }\n",
       "</style>\n",
       "<table border=\"1\" class=\"dataframe\">\n",
       "  <thead>\n",
       "    <tr style=\"text-align: right;\">\n",
       "      <th></th>\n",
       "      <th>game_date</th>\n",
       "      <th>batter</th>\n",
       "      <th>pitcher</th>\n",
       "      <th>events</th>\n",
       "      <th>stand</th>\n",
       "      <th>p_throws</th>\n",
       "      <th>inning_topbot</th>\n",
       "      <th>WAR_x</th>\n",
       "      <th>OBP</th>\n",
       "      <th>SLG</th>\n",
       "      <th>...</th>\n",
       "      <th>BB_perc</th>\n",
       "      <th>K_perc</th>\n",
       "      <th>key_mlbam_x</th>\n",
       "      <th>WAR_y</th>\n",
       "      <th>WHIP</th>\n",
       "      <th>ERA</th>\n",
       "      <th>BB/9</th>\n",
       "      <th>K/9</th>\n",
       "      <th>key_mlbam_y</th>\n",
       "      <th>event_code</th>\n",
       "    </tr>\n",
       "  </thead>\n",
       "  <tbody>\n",
       "    <tr>\n",
       "      <th>162833</th>\n",
       "      <td>2019-08-02</td>\n",
       "      <td>544725.0</td>\n",
       "      <td>601713.0</td>\n",
       "      <td>strikeout</td>\n",
       "      <td>L</td>\n",
       "      <td>R</td>\n",
       "      <td>Top</td>\n",
       "      <td>0.1</td>\n",
       "      <td>0.303</td>\n",
       "      <td>0.376</td>\n",
       "      <td>...</td>\n",
       "      <td>0.033</td>\n",
       "      <td>0.251</td>\n",
       "      <td>544725</td>\n",
       "      <td>2.8</td>\n",
       "      <td>1.30</td>\n",
       "      <td>4.77</td>\n",
       "      <td>2.80</td>\n",
       "      <td>10.32</td>\n",
       "      <td>601713.0</td>\n",
       "      <td>0</td>\n",
       "    </tr>\n",
       "    <tr>\n",
       "      <th>164140</th>\n",
       "      <td>2019-08-02</td>\n",
       "      <td>544725.0</td>\n",
       "      <td>621107.0</td>\n",
       "      <td>field_out</td>\n",
       "      <td>L</td>\n",
       "      <td>R</td>\n",
       "      <td>Top</td>\n",
       "      <td>0.1</td>\n",
       "      <td>0.303</td>\n",
       "      <td>0.376</td>\n",
       "      <td>...</td>\n",
       "      <td>0.033</td>\n",
       "      <td>0.251</td>\n",
       "      <td>544725</td>\n",
       "      <td>2.2</td>\n",
       "      <td>1.30</td>\n",
       "      <td>4.36</td>\n",
       "      <td>2.60</td>\n",
       "      <td>8.65</td>\n",
       "      <td>621107.0</td>\n",
       "      <td>0</td>\n",
       "    </tr>\n",
       "    <tr>\n",
       "      <th>197404</th>\n",
       "      <td>2019-08-02</td>\n",
       "      <td>544725.0</td>\n",
       "      <td>450306.0</td>\n",
       "      <td>strikeout</td>\n",
       "      <td>R</td>\n",
       "      <td>L</td>\n",
       "      <td>Top</td>\n",
       "      <td>0.1</td>\n",
       "      <td>0.303</td>\n",
       "      <td>0.376</td>\n",
       "      <td>...</td>\n",
       "      <td>0.033</td>\n",
       "      <td>0.251</td>\n",
       "      <td>544725</td>\n",
       "      <td>0.2</td>\n",
       "      <td>1.41</td>\n",
       "      <td>5.77</td>\n",
       "      <td>2.93</td>\n",
       "      <td>8.22</td>\n",
       "      <td>450306.0</td>\n",
       "      <td>0</td>\n",
       "    </tr>\n",
       "    <tr>\n",
       "      <th>197405</th>\n",
       "      <td>2019-08-02</td>\n",
       "      <td>544725.0</td>\n",
       "      <td>450306.0</td>\n",
       "      <td>field_out</td>\n",
       "      <td>R</td>\n",
       "      <td>L</td>\n",
       "      <td>Top</td>\n",
       "      <td>0.1</td>\n",
       "      <td>0.303</td>\n",
       "      <td>0.376</td>\n",
       "      <td>...</td>\n",
       "      <td>0.033</td>\n",
       "      <td>0.251</td>\n",
       "      <td>544725</td>\n",
       "      <td>0.2</td>\n",
       "      <td>1.41</td>\n",
       "      <td>5.77</td>\n",
       "      <td>2.93</td>\n",
       "      <td>8.22</td>\n",
       "      <td>450306.0</td>\n",
       "      <td>0</td>\n",
       "    </tr>\n",
       "    <tr>\n",
       "      <th>197406</th>\n",
       "      <td>2019-08-02</td>\n",
       "      <td>544725.0</td>\n",
       "      <td>450306.0</td>\n",
       "      <td>single</td>\n",
       "      <td>R</td>\n",
       "      <td>L</td>\n",
       "      <td>Top</td>\n",
       "      <td>0.1</td>\n",
       "      <td>0.303</td>\n",
       "      <td>0.376</td>\n",
       "      <td>...</td>\n",
       "      <td>0.033</td>\n",
       "      <td>0.251</td>\n",
       "      <td>544725</td>\n",
       "      <td>0.2</td>\n",
       "      <td>1.41</td>\n",
       "      <td>5.77</td>\n",
       "      <td>2.93</td>\n",
       "      <td>8.22</td>\n",
       "      <td>450306.0</td>\n",
       "      <td>1</td>\n",
       "    </tr>\n",
       "  </tbody>\n",
       "</table>\n",
       "<p>5 rows × 21 columns</p>\n",
       "</div>"
      ],
      "text/plain": [
       "        game_date    batter   pitcher     events stand p_throws inning_topbot  \\\n",
       "162833 2019-08-02  544725.0  601713.0  strikeout     L        R           Top   \n",
       "164140 2019-08-02  544725.0  621107.0  field_out     L        R           Top   \n",
       "197404 2019-08-02  544725.0  450306.0  strikeout     R        L           Top   \n",
       "197405 2019-08-02  544725.0  450306.0  field_out     R        L           Top   \n",
       "197406 2019-08-02  544725.0  450306.0     single     R        L           Top   \n",
       "\n",
       "        WAR_x    OBP    SLG  ...  BB_perc  K_perc  key_mlbam_x  WAR_y  WHIP  \\\n",
       "162833    0.1  0.303  0.376  ...    0.033   0.251       544725    2.8  1.30   \n",
       "164140    0.1  0.303  0.376  ...    0.033   0.251       544725    2.2  1.30   \n",
       "197404    0.1  0.303  0.376  ...    0.033   0.251       544725    0.2  1.41   \n",
       "197405    0.1  0.303  0.376  ...    0.033   0.251       544725    0.2  1.41   \n",
       "197406    0.1  0.303  0.376  ...    0.033   0.251       544725    0.2  1.41   \n",
       "\n",
       "         ERA  BB/9    K/9  key_mlbam_y  event_code  \n",
       "162833  4.77  2.80  10.32     601713.0           0  \n",
       "164140  4.36  2.60   8.65     621107.0           0  \n",
       "197404  5.77  2.93   8.22     450306.0           0  \n",
       "197405  5.77  2.93   8.22     450306.0           0  \n",
       "197406  5.77  2.93   8.22     450306.0           1  \n",
       "\n",
       "[5 rows x 21 columns]"
      ]
     },
     "execution_count": 409,
     "metadata": {},
     "output_type": "execute_result"
    },
    {
     "data": {
      "application/javascript": [
       "\n",
       "            setTimeout(function() {\n",
       "                var nbb_cell_id = 409;\n",
       "                var nbb_unformatted_code = \"df_sc_events4model_bp_p2_dayof\";\n",
       "                var nbb_formatted_code = \"df_sc_events4model_bp_p2_dayof\";\n",
       "                var nbb_cells = Jupyter.notebook.get_cells();\n",
       "                for (var i = 0; i < nbb_cells.length; ++i) {\n",
       "                    if (nbb_cells[i].input_prompt_number == nbb_cell_id) {\n",
       "                        if (nbb_cells[i].get_text() == nbb_unformatted_code) {\n",
       "                             nbb_cells[i].set_text(nbb_formatted_code);\n",
       "                        }\n",
       "                        break;\n",
       "                    }\n",
       "                }\n",
       "            }, 500);\n",
       "            "
      ],
      "text/plain": [
       "<IPython.core.display.Javascript object>"
      ]
     },
     "metadata": {},
     "output_type": "display_data"
    }
   ],
   "source": [
    "df_sc_events4model_bp_p2_dayof"
   ]
  },
  {
   "cell_type": "code",
   "execution_count": 411,
   "metadata": {
    "ExecuteTime": {
     "end_time": "2020-01-31T17:17:48.822482Z",
     "start_time": "2020-01-31T17:17:48.811206Z"
    }
   },
   "outputs": [
    {
     "data": {
      "application/javascript": [
       "\n",
       "            setTimeout(function() {\n",
       "                var nbb_cell_id = 411;\n",
       "                var nbb_unformatted_code = \"p1_index4model = df_sc_events4model_bp_p1_dayof.index\";\n",
       "                var nbb_formatted_code = \"p1_index4model = df_sc_events4model_bp_p1_dayof.index\";\n",
       "                var nbb_cells = Jupyter.notebook.get_cells();\n",
       "                for (var i = 0; i < nbb_cells.length; ++i) {\n",
       "                    if (nbb_cells[i].input_prompt_number == nbb_cell_id) {\n",
       "                        if (nbb_cells[i].get_text() == nbb_unformatted_code) {\n",
       "                             nbb_cells[i].set_text(nbb_formatted_code);\n",
       "                        }\n",
       "                        break;\n",
       "                    }\n",
       "                }\n",
       "            }, 500);\n",
       "            "
      ],
      "text/plain": [
       "<IPython.core.display.Javascript object>"
      ]
     },
     "metadata": {},
     "output_type": "display_data"
    }
   ],
   "source": [
    "p1_index4model = df_sc_events4model_bp_p1_dayof.index"
   ]
  },
  {
   "cell_type": "code",
   "execution_count": 412,
   "metadata": {
    "ExecuteTime": {
     "end_time": "2020-01-31T17:17:58.904839Z",
     "start_time": "2020-01-31T17:17:58.894054Z"
    }
   },
   "outputs": [
    {
     "data": {
      "application/javascript": [
       "\n",
       "            setTimeout(function() {\n",
       "                var nbb_cell_id = 412;\n",
       "                var nbb_unformatted_code = \"p2_index4model = df_sc_events4model_bp_p2_dayof.index\";\n",
       "                var nbb_formatted_code = \"p2_index4model = df_sc_events4model_bp_p2_dayof.index\";\n",
       "                var nbb_cells = Jupyter.notebook.get_cells();\n",
       "                for (var i = 0; i < nbb_cells.length; ++i) {\n",
       "                    if (nbb_cells[i].input_prompt_number == nbb_cell_id) {\n",
       "                        if (nbb_cells[i].get_text() == nbb_unformatted_code) {\n",
       "                             nbb_cells[i].set_text(nbb_formatted_code);\n",
       "                        }\n",
       "                        break;\n",
       "                    }\n",
       "                }\n",
       "            }, 500);\n",
       "            "
      ],
      "text/plain": [
       "<IPython.core.display.Javascript object>"
      ]
     },
     "metadata": {},
     "output_type": "display_data"
    }
   ],
   "source": [
    "p2_index4model = df_sc_events4model_bp_p2_dayof.index"
   ]
  },
  {
   "cell_type": "code",
   "execution_count": 453,
   "metadata": {
    "ExecuteTime": {
     "end_time": "2020-01-31T17:45:56.145398Z",
     "start_time": "2020-01-31T17:45:56.115778Z"
    },
    "code_folding": [
     0
    ]
   },
   "outputs": [
    {
     "data": {
      "application/javascript": [
       "\n",
       "            setTimeout(function() {\n",
       "                var nbb_cell_id = 453;\n",
       "                var nbb_unformatted_code = \"def run_logreg_model_new_data(df4model, index_new_set, scaler, log_model):\\n\\n    full_list = df4model.columns.tolist()\\n    full_list.remove(\\\"event_code\\\")\\n    X_new_set = df4model.loc[index_new_set, full_list]\\n    X_new_set = np.array(X_new_set)\\n    \\n    y_test_set = df4model.loc[index_new_set, 'event_code']\\n\\n    from sklearn import preprocessing\\n\\n    # Apply transformation to test data\\n    X_new_set_scale = scaler.transform(X_new_set)\\n\\n    y_pred = log_model.predict(X_new_set_scale)\\n    y_predprob = log_model.predict_proba(X_new_set_scale)[:, 1]\\n    df_pred_actual = pd.DataFrame(\\n        {\\\"results\\\": y_test_set, \\\"pred\\\": y_pred, \\\"predprob\\\": y_predprob}\\n    )\\n\\n    return df_pred_actual\";\n",
       "                var nbb_formatted_code = \"def run_logreg_model_new_data(df4model, index_new_set, scaler, log_model):\\n\\n    full_list = df4model.columns.tolist()\\n    full_list.remove(\\\"event_code\\\")\\n    X_new_set = df4model.loc[index_new_set, full_list]\\n    X_new_set = np.array(X_new_set)\\n\\n    y_test_set = df4model.loc[index_new_set, \\\"event_code\\\"]\\n\\n    from sklearn import preprocessing\\n\\n    # Apply transformation to test data\\n    X_new_set_scale = scaler.transform(X_new_set)\\n\\n    y_pred = log_model.predict(X_new_set_scale)\\n    y_predprob = log_model.predict_proba(X_new_set_scale)[:, 1]\\n    df_pred_actual = pd.DataFrame(\\n        {\\\"results\\\": y_test_set, \\\"pred\\\": y_pred, \\\"predprob\\\": y_predprob}\\n    )\\n\\n    return df_pred_actual\";\n",
       "                var nbb_cells = Jupyter.notebook.get_cells();\n",
       "                for (var i = 0; i < nbb_cells.length; ++i) {\n",
       "                    if (nbb_cells[i].input_prompt_number == nbb_cell_id) {\n",
       "                        if (nbb_cells[i].get_text() == nbb_unformatted_code) {\n",
       "                             nbb_cells[i].set_text(nbb_formatted_code);\n",
       "                        }\n",
       "                        break;\n",
       "                    }\n",
       "                }\n",
       "            }, 500);\n",
       "            "
      ],
      "text/plain": [
       "<IPython.core.display.Javascript object>"
      ]
     },
     "metadata": {},
     "output_type": "display_data"
    }
   ],
   "source": [
    "def run_logreg_model_new_data(df4model, index_new_set, scaler, log_model):\n",
    "\n",
    "    full_list = df4model.columns.tolist()\n",
    "    full_list.remove(\"event_code\")\n",
    "    X_new_set = df4model.loc[index_new_set, full_list]\n",
    "    X_new_set = np.array(X_new_set)\n",
    "\n",
    "    y_test_set = df4model.loc[index_new_set, \"event_code\"]\n",
    "\n",
    "    from sklearn import preprocessing\n",
    "\n",
    "    # Apply transformation to test data\n",
    "    X_new_set_scale = scaler.transform(X_new_set)\n",
    "\n",
    "    y_pred = log_model.predict(X_new_set_scale)\n",
    "    y_predprob = log_model.predict_proba(X_new_set_scale)[:, 1]\n",
    "    df_pred_actual = pd.DataFrame(\n",
    "        {\"results\": y_test_set, \"pred\": y_pred, \"predprob\": y_predprob}\n",
    "    )\n",
    "\n",
    "    return df_pred_actual"
   ]
  },
  {
   "cell_type": "code",
   "execution_count": 456,
   "metadata": {
    "ExecuteTime": {
     "end_time": "2020-01-31T17:47:13.823101Z",
     "start_time": "2020-01-31T17:47:12.818113Z"
    }
   },
   "outputs": [
    {
     "data": {
      "application/javascript": [
       "\n",
       "            setTimeout(function() {\n",
       "                var nbb_cell_id = 456;\n",
       "                var nbb_unformatted_code = \"df_pa_b1 =run_logreg_model_new_data(\\n    df_sc_events4model_bp_ohe[feature_col_w_target],\\n    p1_index4model,\\n    scale_vals,\\n    log_reg_1M,\\n)\";\n",
       "                var nbb_formatted_code = \"df_pa_b1 = run_logreg_model_new_data(\\n    df_sc_events4model_bp_ohe[feature_col_w_target],\\n    p1_index4model,\\n    scale_vals,\\n    log_reg_1M,\\n)\";\n",
       "                var nbb_cells = Jupyter.notebook.get_cells();\n",
       "                for (var i = 0; i < nbb_cells.length; ++i) {\n",
       "                    if (nbb_cells[i].input_prompt_number == nbb_cell_id) {\n",
       "                        if (nbb_cells[i].get_text() == nbb_unformatted_code) {\n",
       "                             nbb_cells[i].set_text(nbb_formatted_code);\n",
       "                        }\n",
       "                        break;\n",
       "                    }\n",
       "                }\n",
       "            }, 500);\n",
       "            "
      ],
      "text/plain": [
       "<IPython.core.display.Javascript object>"
      ]
     },
     "metadata": {},
     "output_type": "display_data"
    }
   ],
   "source": [
    "df_pa_b1 = run_logreg_model_new_data(\n",
    "    df_sc_events4model_bp_ohe[feature_col_w_target],\n",
    "    p1_index4model,\n",
    "    scale_vals,\n",
    "    log_reg_1M,\n",
    ")"
   ]
  },
  {
   "cell_type": "code",
   "execution_count": 457,
   "metadata": {
    "ExecuteTime": {
     "end_time": "2020-01-31T17:47:21.106233Z",
     "start_time": "2020-01-31T17:47:21.092032Z"
    }
   },
   "outputs": [
    {
     "data": {
      "text/html": [
       "<div>\n",
       "<style scoped>\n",
       "    .dataframe tbody tr th:only-of-type {\n",
       "        vertical-align: middle;\n",
       "    }\n",
       "\n",
       "    .dataframe tbody tr th {\n",
       "        vertical-align: top;\n",
       "    }\n",
       "\n",
       "    .dataframe thead th {\n",
       "        text-align: right;\n",
       "    }\n",
       "</style>\n",
       "<table border=\"1\" class=\"dataframe\">\n",
       "  <thead>\n",
       "    <tr style=\"text-align: right;\">\n",
       "      <th></th>\n",
       "      <th>results</th>\n",
       "      <th>pred</th>\n",
       "      <th>predprob</th>\n",
       "    </tr>\n",
       "  </thead>\n",
       "  <tbody>\n",
       "    <tr>\n",
       "      <th>130524</th>\n",
       "      <td>0</td>\n",
       "      <td>0</td>\n",
       "      <td>0.493440</td>\n",
       "    </tr>\n",
       "    <tr>\n",
       "      <th>132126</th>\n",
       "      <td>1</td>\n",
       "      <td>1</td>\n",
       "      <td>0.502157</td>\n",
       "    </tr>\n",
       "  </tbody>\n",
       "</table>\n",
       "</div>"
      ],
      "text/plain": [
       "        results  pred  predprob\n",
       "130524        0     0  0.493440\n",
       "132126        1     1  0.502157"
      ]
     },
     "execution_count": 457,
     "metadata": {},
     "output_type": "execute_result"
    },
    {
     "data": {
      "application/javascript": [
       "\n",
       "            setTimeout(function() {\n",
       "                var nbb_cell_id = 457;\n",
       "                var nbb_unformatted_code = \"df_pa_b1.head()\";\n",
       "                var nbb_formatted_code = \"df_pa_b1.head()\";\n",
       "                var nbb_cells = Jupyter.notebook.get_cells();\n",
       "                for (var i = 0; i < nbb_cells.length; ++i) {\n",
       "                    if (nbb_cells[i].input_prompt_number == nbb_cell_id) {\n",
       "                        if (nbb_cells[i].get_text() == nbb_unformatted_code) {\n",
       "                             nbb_cells[i].set_text(nbb_formatted_code);\n",
       "                        }\n",
       "                        break;\n",
       "                    }\n",
       "                }\n",
       "            }, 500);\n",
       "            "
      ],
      "text/plain": [
       "<IPython.core.display.Javascript object>"
      ]
     },
     "metadata": {},
     "output_type": "display_data"
    }
   ],
   "source": [
    "df_pa_b1.head()"
   ]
  },
  {
   "cell_type": "code",
   "execution_count": 463,
   "metadata": {
    "ExecuteTime": {
     "end_time": "2020-01-31T17:48:18.186639Z",
     "start_time": "2020-01-31T17:48:18.176020Z"
    }
   },
   "outputs": [
    {
     "data": {
      "text/plain": [
       "0.4977984262309553"
      ]
     },
     "execution_count": 463,
     "metadata": {},
     "output_type": "execute_result"
    },
    {
     "data": {
      "application/javascript": [
       "\n",
       "            setTimeout(function() {\n",
       "                var nbb_cell_id = 463;\n",
       "                var nbb_unformatted_code = \"df_pa_b1['predprob'].mean()\";\n",
       "                var nbb_formatted_code = \"df_pa_b1[\\\"predprob\\\"].mean()\";\n",
       "                var nbb_cells = Jupyter.notebook.get_cells();\n",
       "                for (var i = 0; i < nbb_cells.length; ++i) {\n",
       "                    if (nbb_cells[i].input_prompt_number == nbb_cell_id) {\n",
       "                        if (nbb_cells[i].get_text() == nbb_unformatted_code) {\n",
       "                             nbb_cells[i].set_text(nbb_formatted_code);\n",
       "                        }\n",
       "                        break;\n",
       "                    }\n",
       "                }\n",
       "            }, 500);\n",
       "            "
      ],
      "text/plain": [
       "<IPython.core.display.Javascript object>"
      ]
     },
     "metadata": {},
     "output_type": "display_data"
    }
   ],
   "source": [
    "df_pa_b1[\"predprob\"].mean()"
   ]
  },
  {
   "cell_type": "code",
   "execution_count": 459,
   "metadata": {
    "ExecuteTime": {
     "end_time": "2020-01-31T17:47:44.405997Z",
     "start_time": "2020-01-31T17:47:43.895603Z"
    }
   },
   "outputs": [
    {
     "data": {
      "application/javascript": [
       "\n",
       "            setTimeout(function() {\n",
       "                var nbb_cell_id = 459;\n",
       "                var nbb_unformatted_code = \"df_pa_b2 = run_logreg_model_new_data(\\n    df_sc_events4model_bp_ohe[feature_col_w_target],\\n    p2_index4model,\\n    scale_vals,\\n    log_reg_1M,\\n)\";\n",
       "                var nbb_formatted_code = \"df_pa_b2 = run_logreg_model_new_data(\\n    df_sc_events4model_bp_ohe[feature_col_w_target],\\n    p2_index4model,\\n    scale_vals,\\n    log_reg_1M,\\n)\";\n",
       "                var nbb_cells = Jupyter.notebook.get_cells();\n",
       "                for (var i = 0; i < nbb_cells.length; ++i) {\n",
       "                    if (nbb_cells[i].input_prompt_number == nbb_cell_id) {\n",
       "                        if (nbb_cells[i].get_text() == nbb_unformatted_code) {\n",
       "                             nbb_cells[i].set_text(nbb_formatted_code);\n",
       "                        }\n",
       "                        break;\n",
       "                    }\n",
       "                }\n",
       "            }, 500);\n",
       "            "
      ],
      "text/plain": [
       "<IPython.core.display.Javascript object>"
      ]
     },
     "metadata": {},
     "output_type": "display_data"
    }
   ],
   "source": [
    "df_pa_b2 = run_logreg_model_new_data(\n",
    "    df_sc_events4model_bp_ohe[feature_col_w_target],\n",
    "    p2_index4model,\n",
    "    scale_vals,\n",
    "    log_reg_1M,\n",
    ")"
   ]
  },
  {
   "cell_type": "code",
   "execution_count": null,
   "metadata": {},
   "outputs": [],
   "source": []
  },
  {
   "cell_type": "markdown",
   "metadata": {},
   "source": [
    "# Predicting strikeouts"
   ]
  },
  {
   "cell_type": "markdown",
   "metadata": {
    "ExecuteTime": {
     "end_time": "2020-02-01T01:27:18.366629Z",
     "start_time": "2020-02-01T01:27:18.360450Z"
    }
   },
   "source": [
    "## New copy of events dataframe"
   ]
  },
  {
   "cell_type": "code",
   "execution_count": 578,
   "metadata": {
    "ExecuteTime": {
     "end_time": "2020-02-01T01:28:07.668731Z",
     "start_time": "2020-02-01T01:28:07.563108Z"
    }
   },
   "outputs": [
    {
     "data": {
      "application/javascript": [
       "\n",
       "            setTimeout(function() {\n",
       "                var nbb_cell_id = 578;\n",
       "                var nbb_unformatted_code = \"df_sc_events4model_bp_k = df_sc_events4model_bp.copy()\";\n",
       "                var nbb_formatted_code = \"df_sc_events4model_bp_k = df_sc_events4model_bp.copy()\";\n",
       "                var nbb_cells = Jupyter.notebook.get_cells();\n",
       "                for (var i = 0; i < nbb_cells.length; ++i) {\n",
       "                    if (nbb_cells[i].input_prompt_number == nbb_cell_id) {\n",
       "                        if (nbb_cells[i].get_text() == nbb_unformatted_code) {\n",
       "                             nbb_cells[i].set_text(nbb_formatted_code);\n",
       "                        }\n",
       "                        break;\n",
       "                    }\n",
       "                }\n",
       "            }, 500);\n",
       "            "
      ],
      "text/plain": [
       "<IPython.core.display.Javascript object>"
      ]
     },
     "metadata": {},
     "output_type": "display_data"
    }
   ],
   "source": [
    "df_sc_events4model_bp_k = df_sc_events4model_bp.copy()"
   ]
  },
  {
   "cell_type": "code",
   "execution_count": 579,
   "metadata": {
    "ExecuteTime": {
     "end_time": "2020-02-01T01:28:13.777475Z",
     "start_time": "2020-02-01T01:28:13.739327Z"
    }
   },
   "outputs": [
    {
     "data": {
      "text/html": [
       "<div>\n",
       "<style scoped>\n",
       "    .dataframe tbody tr th:only-of-type {\n",
       "        vertical-align: middle;\n",
       "    }\n",
       "\n",
       "    .dataframe tbody tr th {\n",
       "        vertical-align: top;\n",
       "    }\n",
       "\n",
       "    .dataframe thead th {\n",
       "        text-align: right;\n",
       "    }\n",
       "</style>\n",
       "<table border=\"1\" class=\"dataframe\">\n",
       "  <thead>\n",
       "    <tr style=\"text-align: right;\">\n",
       "      <th></th>\n",
       "      <th>game_date</th>\n",
       "      <th>batter</th>\n",
       "      <th>pitcher</th>\n",
       "      <th>events</th>\n",
       "      <th>stand</th>\n",
       "      <th>p_throws</th>\n",
       "      <th>inning_topbot</th>\n",
       "      <th>WAR_x</th>\n",
       "      <th>OBP</th>\n",
       "      <th>SLG</th>\n",
       "      <th>...</th>\n",
       "      <th>BB_perc</th>\n",
       "      <th>K_perc</th>\n",
       "      <th>key_mlbam_x</th>\n",
       "      <th>WAR_y</th>\n",
       "      <th>WHIP</th>\n",
       "      <th>ERA</th>\n",
       "      <th>BB/9</th>\n",
       "      <th>K/9</th>\n",
       "      <th>key_mlbam_y</th>\n",
       "      <th>event_code</th>\n",
       "    </tr>\n",
       "  </thead>\n",
       "  <tbody>\n",
       "    <tr>\n",
       "      <th>0</th>\n",
       "      <td>2017-04-03</td>\n",
       "      <td>425783.0</td>\n",
       "      <td>446372.0</td>\n",
       "      <td>strikeout</td>\n",
       "      <td>L</td>\n",
       "      <td>R</td>\n",
       "      <td>Bot</td>\n",
       "      <td>2.3</td>\n",
       "      <td>0.377</td>\n",
       "      <td>0.434</td>\n",
       "      <td>...</td>\n",
       "      <td>0.138</td>\n",
       "      <td>0.235</td>\n",
       "      <td>425783</td>\n",
       "      <td>5.5</td>\n",
       "      <td>0.99</td>\n",
       "      <td>2.89</td>\n",
       "      <td>1.42</td>\n",
       "      <td>9.29</td>\n",
       "      <td>446372.0</td>\n",
       "      <td>0</td>\n",
       "    </tr>\n",
       "    <tr>\n",
       "      <th>1</th>\n",
       "      <td>2017-04-03</td>\n",
       "      <td>425783.0</td>\n",
       "      <td>446372.0</td>\n",
       "      <td>field_out</td>\n",
       "      <td>L</td>\n",
       "      <td>R</td>\n",
       "      <td>Bot</td>\n",
       "      <td>2.3</td>\n",
       "      <td>0.377</td>\n",
       "      <td>0.434</td>\n",
       "      <td>...</td>\n",
       "      <td>0.138</td>\n",
       "      <td>0.235</td>\n",
       "      <td>425783</td>\n",
       "      <td>5.5</td>\n",
       "      <td>0.99</td>\n",
       "      <td>2.89</td>\n",
       "      <td>1.42</td>\n",
       "      <td>9.29</td>\n",
       "      <td>446372.0</td>\n",
       "      <td>0</td>\n",
       "    </tr>\n",
       "    <tr>\n",
       "      <th>2</th>\n",
       "      <td>2017-04-03</td>\n",
       "      <td>425783.0</td>\n",
       "      <td>446372.0</td>\n",
       "      <td>field_out</td>\n",
       "      <td>L</td>\n",
       "      <td>R</td>\n",
       "      <td>Bot</td>\n",
       "      <td>2.3</td>\n",
       "      <td>0.377</td>\n",
       "      <td>0.434</td>\n",
       "      <td>...</td>\n",
       "      <td>0.138</td>\n",
       "      <td>0.235</td>\n",
       "      <td>425783</td>\n",
       "      <td>5.5</td>\n",
       "      <td>0.99</td>\n",
       "      <td>2.89</td>\n",
       "      <td>1.42</td>\n",
       "      <td>9.29</td>\n",
       "      <td>446372.0</td>\n",
       "      <td>0</td>\n",
       "    </tr>\n",
       "    <tr>\n",
       "      <th>3</th>\n",
       "      <td>2018-05-02</td>\n",
       "      <td>425783.0</td>\n",
       "      <td>446372.0</td>\n",
       "      <td>field_out</td>\n",
       "      <td>L</td>\n",
       "      <td>R</td>\n",
       "      <td>Top</td>\n",
       "      <td>2.3</td>\n",
       "      <td>0.377</td>\n",
       "      <td>0.434</td>\n",
       "      <td>...</td>\n",
       "      <td>0.138</td>\n",
       "      <td>0.235</td>\n",
       "      <td>425783</td>\n",
       "      <td>5.5</td>\n",
       "      <td>0.99</td>\n",
       "      <td>2.89</td>\n",
       "      <td>1.42</td>\n",
       "      <td>9.29</td>\n",
       "      <td>446372.0</td>\n",
       "      <td>0</td>\n",
       "    </tr>\n",
       "    <tr>\n",
       "      <th>4</th>\n",
       "      <td>2018-05-02</td>\n",
       "      <td>425783.0</td>\n",
       "      <td>446372.0</td>\n",
       "      <td>single</td>\n",
       "      <td>L</td>\n",
       "      <td>R</td>\n",
       "      <td>Top</td>\n",
       "      <td>2.3</td>\n",
       "      <td>0.377</td>\n",
       "      <td>0.434</td>\n",
       "      <td>...</td>\n",
       "      <td>0.138</td>\n",
       "      <td>0.235</td>\n",
       "      <td>425783</td>\n",
       "      <td>5.5</td>\n",
       "      <td>0.99</td>\n",
       "      <td>2.89</td>\n",
       "      <td>1.42</td>\n",
       "      <td>9.29</td>\n",
       "      <td>446372.0</td>\n",
       "      <td>1</td>\n",
       "    </tr>\n",
       "  </tbody>\n",
       "</table>\n",
       "<p>5 rows × 21 columns</p>\n",
       "</div>"
      ],
      "text/plain": [
       "   game_date    batter   pitcher     events stand p_throws inning_topbot  \\\n",
       "0 2017-04-03  425783.0  446372.0  strikeout     L        R           Bot   \n",
       "1 2017-04-03  425783.0  446372.0  field_out     L        R           Bot   \n",
       "2 2017-04-03  425783.0  446372.0  field_out     L        R           Bot   \n",
       "3 2018-05-02  425783.0  446372.0  field_out     L        R           Top   \n",
       "4 2018-05-02  425783.0  446372.0     single     L        R           Top   \n",
       "\n",
       "   WAR_x    OBP    SLG  ...  BB_perc  K_perc  key_mlbam_x  WAR_y  WHIP   ERA  \\\n",
       "0    2.3  0.377  0.434  ...    0.138   0.235       425783    5.5  0.99  2.89   \n",
       "1    2.3  0.377  0.434  ...    0.138   0.235       425783    5.5  0.99  2.89   \n",
       "2    2.3  0.377  0.434  ...    0.138   0.235       425783    5.5  0.99  2.89   \n",
       "3    2.3  0.377  0.434  ...    0.138   0.235       425783    5.5  0.99  2.89   \n",
       "4    2.3  0.377  0.434  ...    0.138   0.235       425783    5.5  0.99  2.89   \n",
       "\n",
       "   BB/9   K/9  key_mlbam_y  event_code  \n",
       "0  1.42  9.29     446372.0           0  \n",
       "1  1.42  9.29     446372.0           0  \n",
       "2  1.42  9.29     446372.0           0  \n",
       "3  1.42  9.29     446372.0           0  \n",
       "4  1.42  9.29     446372.0           1  \n",
       "\n",
       "[5 rows x 21 columns]"
      ]
     },
     "execution_count": 579,
     "metadata": {},
     "output_type": "execute_result"
    },
    {
     "data": {
      "application/javascript": [
       "\n",
       "            setTimeout(function() {\n",
       "                var nbb_cell_id = 579;\n",
       "                var nbb_unformatted_code = \"df_sc_events4model_bp_k.head()\";\n",
       "                var nbb_formatted_code = \"df_sc_events4model_bp_k.head()\";\n",
       "                var nbb_cells = Jupyter.notebook.get_cells();\n",
       "                for (var i = 0; i < nbb_cells.length; ++i) {\n",
       "                    if (nbb_cells[i].input_prompt_number == nbb_cell_id) {\n",
       "                        if (nbb_cells[i].get_text() == nbb_unformatted_code) {\n",
       "                             nbb_cells[i].set_text(nbb_formatted_code);\n",
       "                        }\n",
       "                        break;\n",
       "                    }\n",
       "                }\n",
       "            }, 500);\n",
       "            "
      ],
      "text/plain": [
       "<IPython.core.display.Javascript object>"
      ]
     },
     "metadata": {},
     "output_type": "display_data"
    }
   ],
   "source": [
    "df_sc_events4model_bp_k.head()"
   ]
  },
  {
   "cell_type": "code",
   "execution_count": 580,
   "metadata": {
    "ExecuteTime": {
     "end_time": "2020-02-01T01:28:25.066862Z",
     "start_time": "2020-02-01T01:28:24.979355Z"
    }
   },
   "outputs": [
    {
     "data": {
      "text/plain": [
       "field_out                       95188\n",
       "strikeout                       48041\n",
       "single                          34127\n",
       "walk                            18469\n",
       "double                          11051\n",
       "home_run                         8189\n",
       "grounded_into_double_play        4555\n",
       "force_out                        4235\n",
       "hit_by_pitch                     2243\n",
       "field_error                      1868\n",
       "sac_fly                          1390\n",
       "triple                           1055\n",
       "double_play                       549\n",
       "sac_bunt                          370\n",
       "fielders_choice_out               351\n",
       "caught_stealing_2b                249\n",
       "strikeout_double_play             247\n",
       "fielders_choice                   207\n",
       "pickoff_caught_stealing_2b         57\n",
       "other_out                          56\n",
       "pickoff_1b                         55\n",
       "catcher_interf                     46\n",
       "caught_stealing_3b                 23\n",
       "pickoff_2b                         22\n",
       "sac_fly_double_play                20\n",
       "caught_stealing_home               15\n",
       "triple_play                         9\n",
       "pickoff_caught_stealing_3b          5\n",
       "pickoff_caught_stealing_home        3\n",
       "batter_interference                 2\n",
       "pickoff_3b                          2\n",
       "run                                 2\n",
       "sac_bunt_double_play                2\n",
       "Name: events, dtype: int64"
      ]
     },
     "execution_count": 580,
     "metadata": {},
     "output_type": "execute_result"
    },
    {
     "data": {
      "application/javascript": [
       "\n",
       "            setTimeout(function() {\n",
       "                var nbb_cell_id = 580;\n",
       "                var nbb_unformatted_code = \"df_sc_events4model_bp_k[\\\"events\\\"].value_counts()\";\n",
       "                var nbb_formatted_code = \"df_sc_events4model_bp_k[\\\"events\\\"].value_counts()\";\n",
       "                var nbb_cells = Jupyter.notebook.get_cells();\n",
       "                for (var i = 0; i < nbb_cells.length; ++i) {\n",
       "                    if (nbb_cells[i].input_prompt_number == nbb_cell_id) {\n",
       "                        if (nbb_cells[i].get_text() == nbb_unformatted_code) {\n",
       "                             nbb_cells[i].set_text(nbb_formatted_code);\n",
       "                        }\n",
       "                        break;\n",
       "                    }\n",
       "                }\n",
       "            }, 500);\n",
       "            "
      ],
      "text/plain": [
       "<IPython.core.display.Javascript object>"
      ]
     },
     "metadata": {},
     "output_type": "display_data"
    }
   ],
   "source": [
    "df_sc_events4model_bp_k[\"events\"].value_counts()"
   ]
  },
  {
   "cell_type": "code",
   "execution_count": 581,
   "metadata": {
    "ExecuteTime": {
     "end_time": "2020-02-01T01:28:36.218623Z",
     "start_time": "2020-02-01T01:28:36.171534Z"
    }
   },
   "outputs": [
    {
     "data": {
      "application/javascript": [
       "\n",
       "            setTimeout(function() {\n",
       "                var nbb_cell_id = 581;\n",
       "                var nbb_unformatted_code = \"# Encode events\\nevent_list = [\\\"strikeout\\\"]\\ndf_sc_events4model_bp_k[\\\"event_code\\\"] = 0\\ndf_sc_events4model_bp_k.loc[\\n    df_sc_events4model_bp_k[\\\"events\\\"].isin(event_list), \\\"event_code\\\"\\n] = 1\";\n",
       "                var nbb_formatted_code = \"# Encode events\\nevent_list = [\\\"strikeout\\\"]\\ndf_sc_events4model_bp_k[\\\"event_code\\\"] = 0\\ndf_sc_events4model_bp_k.loc[\\n    df_sc_events4model_bp_k[\\\"events\\\"].isin(event_list), \\\"event_code\\\"\\n] = 1\";\n",
       "                var nbb_cells = Jupyter.notebook.get_cells();\n",
       "                for (var i = 0; i < nbb_cells.length; ++i) {\n",
       "                    if (nbb_cells[i].input_prompt_number == nbb_cell_id) {\n",
       "                        if (nbb_cells[i].get_text() == nbb_unformatted_code) {\n",
       "                             nbb_cells[i].set_text(nbb_formatted_code);\n",
       "                        }\n",
       "                        break;\n",
       "                    }\n",
       "                }\n",
       "            }, 500);\n",
       "            "
      ],
      "text/plain": [
       "<IPython.core.display.Javascript object>"
      ]
     },
     "metadata": {},
     "output_type": "display_data"
    }
   ],
   "source": [
    "# Encode events\n",
    "event_list = [\"strikeout\"]\n",
    "df_sc_events4model_bp_k[\"event_code\"] = 0\n",
    "df_sc_events4model_bp_k.loc[\n",
    "    df_sc_events4model_bp_k[\"events\"].isin(event_list), \"event_code\"\n",
    "] = 1"
   ]
  },
  {
   "cell_type": "code",
   "execution_count": 591,
   "metadata": {
    "ExecuteTime": {
     "end_time": "2020-02-01T01:37:09.689137Z",
     "start_time": "2020-02-01T01:37:09.540003Z"
    }
   },
   "outputs": [
    {
     "data": {
      "application/javascript": [
       "\n",
       "            setTimeout(function() {\n",
       "                var nbb_cell_id = 591;\n",
       "                var nbb_unformatted_code = \"# OHE batter, pitcher handedness\\n# OHE top/away, home/bottom\\n# df_sc_events4model_bp_k['stand'].replace({'L':0, 'R':1}, inplace=True)\\n\\n# df_sc_events4model_bp_k['p_throws'].replace({'L':0, 'R':1}, inplace=True)\\n\\ndf_sc_events4model_bp_k['inning_topbot'].replace({'Top':0, 'Bot':1}, inplace=True)\";\n",
       "                var nbb_formatted_code = \"# OHE batter, pitcher handedness\\n# OHE top/away, home/bottom\\n# df_sc_events4model_bp_k['stand'].replace({'L':0, 'R':1}, inplace=True)\\n\\n# df_sc_events4model_bp_k['p_throws'].replace({'L':0, 'R':1}, inplace=True)\\n\\ndf_sc_events4model_bp_k[\\\"inning_topbot\\\"].replace({\\\"Top\\\": 0, \\\"Bot\\\": 1}, inplace=True)\";\n",
       "                var nbb_cells = Jupyter.notebook.get_cells();\n",
       "                for (var i = 0; i < nbb_cells.length; ++i) {\n",
       "                    if (nbb_cells[i].input_prompt_number == nbb_cell_id) {\n",
       "                        if (nbb_cells[i].get_text() == nbb_unformatted_code) {\n",
       "                             nbb_cells[i].set_text(nbb_formatted_code);\n",
       "                        }\n",
       "                        break;\n",
       "                    }\n",
       "                }\n",
       "            }, 500);\n",
       "            "
      ],
      "text/plain": [
       "<IPython.core.display.Javascript object>"
      ]
     },
     "metadata": {},
     "output_type": "display_data"
    }
   ],
   "source": [
    "# OHE batter, pitcher handedness\n",
    "# OHE top/away, home/bottom\n",
    "df_sc_events4model_bp_k['stand'].replace({'L':0, 'R':1}, inplace=True)\n",
    "\n",
    "df_sc_events4model_bp_k['p_throws'].replace({'L':0, 'R':1}, inplace=True)\n",
    "\n",
    "df_sc_events4model_bp_k['inning_topbot'].replace({'Top':0, 'Bot':1}, inplace=True)\n"
   ]
  },
  {
   "cell_type": "code",
   "execution_count": 592,
   "metadata": {
    "ExecuteTime": {
     "end_time": "2020-02-01T01:37:15.371605Z",
     "start_time": "2020-02-01T01:37:15.325445Z"
    }
   },
   "outputs": [
    {
     "data": {
      "text/html": [
       "<div>\n",
       "<style scoped>\n",
       "    .dataframe tbody tr th:only-of-type {\n",
       "        vertical-align: middle;\n",
       "    }\n",
       "\n",
       "    .dataframe tbody tr th {\n",
       "        vertical-align: top;\n",
       "    }\n",
       "\n",
       "    .dataframe thead th {\n",
       "        text-align: right;\n",
       "    }\n",
       "</style>\n",
       "<table border=\"1\" class=\"dataframe\">\n",
       "  <thead>\n",
       "    <tr style=\"text-align: right;\">\n",
       "      <th></th>\n",
       "      <th>game_date</th>\n",
       "      <th>batter</th>\n",
       "      <th>pitcher</th>\n",
       "      <th>events</th>\n",
       "      <th>stand</th>\n",
       "      <th>p_throws</th>\n",
       "      <th>inning_topbot</th>\n",
       "      <th>WAR_x</th>\n",
       "      <th>OBP</th>\n",
       "      <th>SLG</th>\n",
       "      <th>...</th>\n",
       "      <th>BB_perc</th>\n",
       "      <th>K_perc</th>\n",
       "      <th>key_mlbam_x</th>\n",
       "      <th>WAR_y</th>\n",
       "      <th>WHIP</th>\n",
       "      <th>ERA</th>\n",
       "      <th>BB/9</th>\n",
       "      <th>K/9</th>\n",
       "      <th>key_mlbam_y</th>\n",
       "      <th>event_code</th>\n",
       "    </tr>\n",
       "  </thead>\n",
       "  <tbody>\n",
       "    <tr>\n",
       "      <th>0</th>\n",
       "      <td>2017-04-03</td>\n",
       "      <td>425783.0</td>\n",
       "      <td>446372.0</td>\n",
       "      <td>strikeout</td>\n",
       "      <td>0</td>\n",
       "      <td>1</td>\n",
       "      <td>1</td>\n",
       "      <td>2.3</td>\n",
       "      <td>0.377</td>\n",
       "      <td>0.434</td>\n",
       "      <td>...</td>\n",
       "      <td>0.138</td>\n",
       "      <td>0.235</td>\n",
       "      <td>425783</td>\n",
       "      <td>5.5</td>\n",
       "      <td>0.99</td>\n",
       "      <td>2.89</td>\n",
       "      <td>1.42</td>\n",
       "      <td>9.29</td>\n",
       "      <td>446372.0</td>\n",
       "      <td>1</td>\n",
       "    </tr>\n",
       "    <tr>\n",
       "      <th>1</th>\n",
       "      <td>2017-04-03</td>\n",
       "      <td>425783.0</td>\n",
       "      <td>446372.0</td>\n",
       "      <td>field_out</td>\n",
       "      <td>0</td>\n",
       "      <td>1</td>\n",
       "      <td>1</td>\n",
       "      <td>2.3</td>\n",
       "      <td>0.377</td>\n",
       "      <td>0.434</td>\n",
       "      <td>...</td>\n",
       "      <td>0.138</td>\n",
       "      <td>0.235</td>\n",
       "      <td>425783</td>\n",
       "      <td>5.5</td>\n",
       "      <td>0.99</td>\n",
       "      <td>2.89</td>\n",
       "      <td>1.42</td>\n",
       "      <td>9.29</td>\n",
       "      <td>446372.0</td>\n",
       "      <td>0</td>\n",
       "    </tr>\n",
       "    <tr>\n",
       "      <th>2</th>\n",
       "      <td>2017-04-03</td>\n",
       "      <td>425783.0</td>\n",
       "      <td>446372.0</td>\n",
       "      <td>field_out</td>\n",
       "      <td>0</td>\n",
       "      <td>1</td>\n",
       "      <td>1</td>\n",
       "      <td>2.3</td>\n",
       "      <td>0.377</td>\n",
       "      <td>0.434</td>\n",
       "      <td>...</td>\n",
       "      <td>0.138</td>\n",
       "      <td>0.235</td>\n",
       "      <td>425783</td>\n",
       "      <td>5.5</td>\n",
       "      <td>0.99</td>\n",
       "      <td>2.89</td>\n",
       "      <td>1.42</td>\n",
       "      <td>9.29</td>\n",
       "      <td>446372.0</td>\n",
       "      <td>0</td>\n",
       "    </tr>\n",
       "    <tr>\n",
       "      <th>3</th>\n",
       "      <td>2018-05-02</td>\n",
       "      <td>425783.0</td>\n",
       "      <td>446372.0</td>\n",
       "      <td>field_out</td>\n",
       "      <td>0</td>\n",
       "      <td>1</td>\n",
       "      <td>0</td>\n",
       "      <td>2.3</td>\n",
       "      <td>0.377</td>\n",
       "      <td>0.434</td>\n",
       "      <td>...</td>\n",
       "      <td>0.138</td>\n",
       "      <td>0.235</td>\n",
       "      <td>425783</td>\n",
       "      <td>5.5</td>\n",
       "      <td>0.99</td>\n",
       "      <td>2.89</td>\n",
       "      <td>1.42</td>\n",
       "      <td>9.29</td>\n",
       "      <td>446372.0</td>\n",
       "      <td>0</td>\n",
       "    </tr>\n",
       "    <tr>\n",
       "      <th>4</th>\n",
       "      <td>2018-05-02</td>\n",
       "      <td>425783.0</td>\n",
       "      <td>446372.0</td>\n",
       "      <td>single</td>\n",
       "      <td>0</td>\n",
       "      <td>1</td>\n",
       "      <td>0</td>\n",
       "      <td>2.3</td>\n",
       "      <td>0.377</td>\n",
       "      <td>0.434</td>\n",
       "      <td>...</td>\n",
       "      <td>0.138</td>\n",
       "      <td>0.235</td>\n",
       "      <td>425783</td>\n",
       "      <td>5.5</td>\n",
       "      <td>0.99</td>\n",
       "      <td>2.89</td>\n",
       "      <td>1.42</td>\n",
       "      <td>9.29</td>\n",
       "      <td>446372.0</td>\n",
       "      <td>0</td>\n",
       "    </tr>\n",
       "  </tbody>\n",
       "</table>\n",
       "<p>5 rows × 21 columns</p>\n",
       "</div>"
      ],
      "text/plain": [
       "   game_date    batter   pitcher     events  stand  p_throws  inning_topbot  \\\n",
       "0 2017-04-03  425783.0  446372.0  strikeout      0         1              1   \n",
       "1 2017-04-03  425783.0  446372.0  field_out      0         1              1   \n",
       "2 2017-04-03  425783.0  446372.0  field_out      0         1              1   \n",
       "3 2018-05-02  425783.0  446372.0  field_out      0         1              0   \n",
       "4 2018-05-02  425783.0  446372.0     single      0         1              0   \n",
       "\n",
       "   WAR_x    OBP    SLG  ...  BB_perc  K_perc  key_mlbam_x  WAR_y  WHIP   ERA  \\\n",
       "0    2.3  0.377  0.434  ...    0.138   0.235       425783    5.5  0.99  2.89   \n",
       "1    2.3  0.377  0.434  ...    0.138   0.235       425783    5.5  0.99  2.89   \n",
       "2    2.3  0.377  0.434  ...    0.138   0.235       425783    5.5  0.99  2.89   \n",
       "3    2.3  0.377  0.434  ...    0.138   0.235       425783    5.5  0.99  2.89   \n",
       "4    2.3  0.377  0.434  ...    0.138   0.235       425783    5.5  0.99  2.89   \n",
       "\n",
       "   BB/9   K/9  key_mlbam_y  event_code  \n",
       "0  1.42  9.29     446372.0           1  \n",
       "1  1.42  9.29     446372.0           0  \n",
       "2  1.42  9.29     446372.0           0  \n",
       "3  1.42  9.29     446372.0           0  \n",
       "4  1.42  9.29     446372.0           0  \n",
       "\n",
       "[5 rows x 21 columns]"
      ]
     },
     "execution_count": 592,
     "metadata": {},
     "output_type": "execute_result"
    },
    {
     "data": {
      "application/javascript": [
       "\n",
       "            setTimeout(function() {\n",
       "                var nbb_cell_id = 592;\n",
       "                var nbb_unformatted_code = \"df_sc_events4model_bp_k.head()\";\n",
       "                var nbb_formatted_code = \"df_sc_events4model_bp_k.head()\";\n",
       "                var nbb_cells = Jupyter.notebook.get_cells();\n",
       "                for (var i = 0; i < nbb_cells.length; ++i) {\n",
       "                    if (nbb_cells[i].input_prompt_number == nbb_cell_id) {\n",
       "                        if (nbb_cells[i].get_text() == nbb_unformatted_code) {\n",
       "                             nbb_cells[i].set_text(nbb_formatted_code);\n",
       "                        }\n",
       "                        break;\n",
       "                    }\n",
       "                }\n",
       "            }, 500);\n",
       "            "
      ],
      "text/plain": [
       "<IPython.core.display.Javascript object>"
      ]
     },
     "metadata": {},
     "output_type": "display_data"
    }
   ],
   "source": [
    "df_sc_events4model_bp_k.head()"
   ]
  },
  {
   "cell_type": "code",
   "execution_count": 593,
   "metadata": {
    "ExecuteTime": {
     "end_time": "2020-02-01T01:37:22.636858Z",
     "start_time": "2020-02-01T01:37:20.688460Z"
    }
   },
   "outputs": [
    {
     "data": {
      "application/javascript": [
       "\n",
       "            setTimeout(function() {\n",
       "                var nbb_cell_id = 593;\n",
       "                var nbb_unformatted_code = \"# OHE pitcher\\ndf_sc_events4model_bp_k_ohe = pd.get_dummies(\\n    df_sc_events4model_bp_k, prefix=[\\\"p\\\"], columns=[\\\"pitcher\\\"]\\n)\\n\\n# OHE batter\\ndf_sc_events4model_bp_k_ohe = pd.get_dummies(\\n    df_sc_events4model_bp_k_ohe, prefix=[\\\"b\\\"], columns=[\\\"batter\\\"]\\n)\";\n",
       "                var nbb_formatted_code = \"# OHE pitcher\\ndf_sc_events4model_bp_k_ohe = pd.get_dummies(\\n    df_sc_events4model_bp_k, prefix=[\\\"p\\\"], columns=[\\\"pitcher\\\"]\\n)\\n\\n# OHE batter\\ndf_sc_events4model_bp_k_ohe = pd.get_dummies(\\n    df_sc_events4model_bp_k_ohe, prefix=[\\\"b\\\"], columns=[\\\"batter\\\"]\\n)\";\n",
       "                var nbb_cells = Jupyter.notebook.get_cells();\n",
       "                for (var i = 0; i < nbb_cells.length; ++i) {\n",
       "                    if (nbb_cells[i].input_prompt_number == nbb_cell_id) {\n",
       "                        if (nbb_cells[i].get_text() == nbb_unformatted_code) {\n",
       "                             nbb_cells[i].set_text(nbb_formatted_code);\n",
       "                        }\n",
       "                        break;\n",
       "                    }\n",
       "                }\n",
       "            }, 500);\n",
       "            "
      ],
      "text/plain": [
       "<IPython.core.display.Javascript object>"
      ]
     },
     "metadata": {},
     "output_type": "display_data"
    }
   ],
   "source": [
    "# OHE pitcher\n",
    "df_sc_events4model_bp_k_ohe = pd.get_dummies(\n",
    "    df_sc_events4model_bp_k, prefix=[\"p\"], columns=[\"pitcher\"]\n",
    ")\n",
    "\n",
    "# OHE batter\n",
    "df_sc_events4model_bp_k_ohe = pd.get_dummies(\n",
    "    df_sc_events4model_bp_k_ohe, prefix=[\"b\"], columns=[\"batter\"]\n",
    ")"
   ]
  },
  {
   "cell_type": "code",
   "execution_count": 594,
   "metadata": {
    "ExecuteTime": {
     "end_time": "2020-02-01T01:37:29.737109Z",
     "start_time": "2020-02-01T01:37:29.706823Z"
    }
   },
   "outputs": [
    {
     "data": {
      "text/html": [
       "<div>\n",
       "<style scoped>\n",
       "    .dataframe tbody tr th:only-of-type {\n",
       "        vertical-align: middle;\n",
       "    }\n",
       "\n",
       "    .dataframe tbody tr th {\n",
       "        vertical-align: top;\n",
       "    }\n",
       "\n",
       "    .dataframe thead th {\n",
       "        text-align: right;\n",
       "    }\n",
       "</style>\n",
       "<table border=\"1\" class=\"dataframe\">\n",
       "  <thead>\n",
       "    <tr style=\"text-align: right;\">\n",
       "      <th></th>\n",
       "      <th>game_date</th>\n",
       "      <th>events</th>\n",
       "      <th>stand</th>\n",
       "      <th>p_throws</th>\n",
       "      <th>inning_topbot</th>\n",
       "      <th>WAR_x</th>\n",
       "      <th>OBP</th>\n",
       "      <th>SLG</th>\n",
       "      <th>OPS</th>\n",
       "      <th>BB_perc</th>\n",
       "      <th>...</th>\n",
       "      <th>b_660162.0</th>\n",
       "      <th>b_660271.0</th>\n",
       "      <th>b_660670.0</th>\n",
       "      <th>b_664023.0</th>\n",
       "      <th>b_664040.0</th>\n",
       "      <th>b_664056.0</th>\n",
       "      <th>b_664058.0</th>\n",
       "      <th>b_664068.0</th>\n",
       "      <th>b_665742.0</th>\n",
       "      <th>b_666971.0</th>\n",
       "    </tr>\n",
       "  </thead>\n",
       "  <tbody>\n",
       "    <tr>\n",
       "      <th>0</th>\n",
       "      <td>2017-04-03</td>\n",
       "      <td>strikeout</td>\n",
       "      <td>0</td>\n",
       "      <td>1</td>\n",
       "      <td>1</td>\n",
       "      <td>2.3</td>\n",
       "      <td>0.377</td>\n",
       "      <td>0.434</td>\n",
       "      <td>0.81</td>\n",
       "      <td>0.138</td>\n",
       "      <td>...</td>\n",
       "      <td>0</td>\n",
       "      <td>0</td>\n",
       "      <td>0</td>\n",
       "      <td>0</td>\n",
       "      <td>0</td>\n",
       "      <td>0</td>\n",
       "      <td>0</td>\n",
       "      <td>0</td>\n",
       "      <td>0</td>\n",
       "      <td>0</td>\n",
       "    </tr>\n",
       "    <tr>\n",
       "      <th>1</th>\n",
       "      <td>2017-04-03</td>\n",
       "      <td>field_out</td>\n",
       "      <td>0</td>\n",
       "      <td>1</td>\n",
       "      <td>1</td>\n",
       "      <td>2.3</td>\n",
       "      <td>0.377</td>\n",
       "      <td>0.434</td>\n",
       "      <td>0.81</td>\n",
       "      <td>0.138</td>\n",
       "      <td>...</td>\n",
       "      <td>0</td>\n",
       "      <td>0</td>\n",
       "      <td>0</td>\n",
       "      <td>0</td>\n",
       "      <td>0</td>\n",
       "      <td>0</td>\n",
       "      <td>0</td>\n",
       "      <td>0</td>\n",
       "      <td>0</td>\n",
       "      <td>0</td>\n",
       "    </tr>\n",
       "    <tr>\n",
       "      <th>2</th>\n",
       "      <td>2017-04-03</td>\n",
       "      <td>field_out</td>\n",
       "      <td>0</td>\n",
       "      <td>1</td>\n",
       "      <td>1</td>\n",
       "      <td>2.3</td>\n",
       "      <td>0.377</td>\n",
       "      <td>0.434</td>\n",
       "      <td>0.81</td>\n",
       "      <td>0.138</td>\n",
       "      <td>...</td>\n",
       "      <td>0</td>\n",
       "      <td>0</td>\n",
       "      <td>0</td>\n",
       "      <td>0</td>\n",
       "      <td>0</td>\n",
       "      <td>0</td>\n",
       "      <td>0</td>\n",
       "      <td>0</td>\n",
       "      <td>0</td>\n",
       "      <td>0</td>\n",
       "    </tr>\n",
       "    <tr>\n",
       "      <th>3</th>\n",
       "      <td>2018-05-02</td>\n",
       "      <td>field_out</td>\n",
       "      <td>0</td>\n",
       "      <td>1</td>\n",
       "      <td>0</td>\n",
       "      <td>2.3</td>\n",
       "      <td>0.377</td>\n",
       "      <td>0.434</td>\n",
       "      <td>0.81</td>\n",
       "      <td>0.138</td>\n",
       "      <td>...</td>\n",
       "      <td>0</td>\n",
       "      <td>0</td>\n",
       "      <td>0</td>\n",
       "      <td>0</td>\n",
       "      <td>0</td>\n",
       "      <td>0</td>\n",
       "      <td>0</td>\n",
       "      <td>0</td>\n",
       "      <td>0</td>\n",
       "      <td>0</td>\n",
       "    </tr>\n",
       "    <tr>\n",
       "      <th>4</th>\n",
       "      <td>2018-05-02</td>\n",
       "      <td>single</td>\n",
       "      <td>0</td>\n",
       "      <td>1</td>\n",
       "      <td>0</td>\n",
       "      <td>2.3</td>\n",
       "      <td>0.377</td>\n",
       "      <td>0.434</td>\n",
       "      <td>0.81</td>\n",
       "      <td>0.138</td>\n",
       "      <td>...</td>\n",
       "      <td>0</td>\n",
       "      <td>0</td>\n",
       "      <td>0</td>\n",
       "      <td>0</td>\n",
       "      <td>0</td>\n",
       "      <td>0</td>\n",
       "      <td>0</td>\n",
       "      <td>0</td>\n",
       "      <td>0</td>\n",
       "      <td>0</td>\n",
       "    </tr>\n",
       "  </tbody>\n",
       "</table>\n",
       "<p>5 rows × 651 columns</p>\n",
       "</div>"
      ],
      "text/plain": [
       "   game_date     events  stand  p_throws  inning_topbot  WAR_x    OBP    SLG  \\\n",
       "0 2017-04-03  strikeout      0         1              1    2.3  0.377  0.434   \n",
       "1 2017-04-03  field_out      0         1              1    2.3  0.377  0.434   \n",
       "2 2017-04-03  field_out      0         1              1    2.3  0.377  0.434   \n",
       "3 2018-05-02  field_out      0         1              0    2.3  0.377  0.434   \n",
       "4 2018-05-02     single      0         1              0    2.3  0.377  0.434   \n",
       "\n",
       "    OPS  BB_perc  ...  b_660162.0  b_660271.0  b_660670.0  b_664023.0  \\\n",
       "0  0.81    0.138  ...           0           0           0           0   \n",
       "1  0.81    0.138  ...           0           0           0           0   \n",
       "2  0.81    0.138  ...           0           0           0           0   \n",
       "3  0.81    0.138  ...           0           0           0           0   \n",
       "4  0.81    0.138  ...           0           0           0           0   \n",
       "\n",
       "   b_664040.0  b_664056.0  b_664058.0  b_664068.0  b_665742.0  b_666971.0  \n",
       "0           0           0           0           0           0           0  \n",
       "1           0           0           0           0           0           0  \n",
       "2           0           0           0           0           0           0  \n",
       "3           0           0           0           0           0           0  \n",
       "4           0           0           0           0           0           0  \n",
       "\n",
       "[5 rows x 651 columns]"
      ]
     },
     "execution_count": 594,
     "metadata": {},
     "output_type": "execute_result"
    },
    {
     "data": {
      "application/javascript": [
       "\n",
       "            setTimeout(function() {\n",
       "                var nbb_cell_id = 594;\n",
       "                var nbb_unformatted_code = \"df_sc_events4model_bp_k_ohe.head()\";\n",
       "                var nbb_formatted_code = \"df_sc_events4model_bp_k_ohe.head()\";\n",
       "                var nbb_cells = Jupyter.notebook.get_cells();\n",
       "                for (var i = 0; i < nbb_cells.length; ++i) {\n",
       "                    if (nbb_cells[i].input_prompt_number == nbb_cell_id) {\n",
       "                        if (nbb_cells[i].get_text() == nbb_unformatted_code) {\n",
       "                             nbb_cells[i].set_text(nbb_formatted_code);\n",
       "                        }\n",
       "                        break;\n",
       "                    }\n",
       "                }\n",
       "            }, 500);\n",
       "            "
      ],
      "text/plain": [
       "<IPython.core.display.Javascript object>"
      ]
     },
     "metadata": {},
     "output_type": "display_data"
    }
   ],
   "source": [
    "df_sc_events4model_bp_k_ohe.head()"
   ]
  },
  {
   "cell_type": "code",
   "execution_count": 595,
   "metadata": {
    "ExecuteTime": {
     "end_time": "2020-02-01T01:37:38.997248Z",
     "start_time": "2020-02-01T01:37:38.987226Z"
    }
   },
   "outputs": [
    {
     "data": {
      "application/javascript": [
       "\n",
       "            setTimeout(function() {\n",
       "                var nbb_cell_id = 595;\n",
       "                var nbb_unformatted_code = \"col2remove = [\\\"game_date\\\", \\\"events\\\", \\\"key_mlbam_x\\\", \\\"key_mlbam_y\\\"]\\nall_col = df_sc_events4model_bp_k_ohe.columns.tolist()\";\n",
       "                var nbb_formatted_code = \"col2remove = [\\\"game_date\\\", \\\"events\\\", \\\"key_mlbam_x\\\", \\\"key_mlbam_y\\\"]\\nall_col = df_sc_events4model_bp_k_ohe.columns.tolist()\";\n",
       "                var nbb_cells = Jupyter.notebook.get_cells();\n",
       "                for (var i = 0; i < nbb_cells.length; ++i) {\n",
       "                    if (nbb_cells[i].input_prompt_number == nbb_cell_id) {\n",
       "                        if (nbb_cells[i].get_text() == nbb_unformatted_code) {\n",
       "                             nbb_cells[i].set_text(nbb_formatted_code);\n",
       "                        }\n",
       "                        break;\n",
       "                    }\n",
       "                }\n",
       "            }, 500);\n",
       "            "
      ],
      "text/plain": [
       "<IPython.core.display.Javascript object>"
      ]
     },
     "metadata": {},
     "output_type": "display_data"
    }
   ],
   "source": [
    "col2remove = [\"game_date\", \"events\", \"key_mlbam_x\", \"key_mlbam_y\"]\n",
    "all_col = df_sc_events4model_bp_k_ohe.columns.tolist()"
   ]
  },
  {
   "cell_type": "code",
   "execution_count": 596,
   "metadata": {
    "ExecuteTime": {
     "end_time": "2020-02-01T01:37:41.897862Z",
     "start_time": "2020-02-01T01:37:41.884416Z"
    }
   },
   "outputs": [
    {
     "data": {
      "application/javascript": [
       "\n",
       "            setTimeout(function() {\n",
       "                var nbb_cell_id = 596;\n",
       "                var nbb_unformatted_code = \"feature_col_w_target = sorted(list(set(all_col) - set(col2remove)))\";\n",
       "                var nbb_formatted_code = \"feature_col_w_target = sorted(list(set(all_col) - set(col2remove)))\";\n",
       "                var nbb_cells = Jupyter.notebook.get_cells();\n",
       "                for (var i = 0; i < nbb_cells.length; ++i) {\n",
       "                    if (nbb_cells[i].input_prompt_number == nbb_cell_id) {\n",
       "                        if (nbb_cells[i].get_text() == nbb_unformatted_code) {\n",
       "                             nbb_cells[i].set_text(nbb_formatted_code);\n",
       "                        }\n",
       "                        break;\n",
       "                    }\n",
       "                }\n",
       "            }, 500);\n",
       "            "
      ],
      "text/plain": [
       "<IPython.core.display.Javascript object>"
      ]
     },
     "metadata": {},
     "output_type": "display_data"
    }
   ],
   "source": [
    "feature_col_w_target = sorted(list(set(all_col) - set(col2remove)))"
   ]
  },
  {
   "cell_type": "code",
   "execution_count": 597,
   "metadata": {
    "ExecuteTime": {
     "end_time": "2020-02-01T01:37:44.857858Z",
     "start_time": "2020-02-01T01:37:44.841792Z"
    },
    "collapsed": true
   },
   "outputs": [
    {
     "data": {
      "text/plain": [
       "['BB/9',\n",
       " 'BB_perc',\n",
       " 'ERA',\n",
       " 'K/9',\n",
       " 'K_perc',\n",
       " 'OBP',\n",
       " 'OPS',\n",
       " 'SLG',\n",
       " 'WAR_x',\n",
       " 'WAR_y',\n",
       " 'WHIP',\n",
       " 'b_134181.0',\n",
       " 'b_400121.0',\n",
       " 'b_400284.0',\n",
       " 'b_405395.0',\n",
       " 'b_408045.0',\n",
       " 'b_408234.0',\n",
       " 'b_408236.0',\n",
       " 'b_408314.0',\n",
       " 'b_425772.0',\n",
       " 'b_425783.0',\n",
       " 'b_425877.0',\n",
       " 'b_429664.0',\n",
       " 'b_429665.0',\n",
       " 'b_430832.0',\n",
       " 'b_430945.0',\n",
       " 'b_431145.0',\n",
       " 'b_434158.0',\n",
       " 'b_434658.0',\n",
       " 'b_434670.0',\n",
       " 'b_434778.0',\n",
       " 'b_435062.0',\n",
       " 'b_435064.0',\n",
       " 'b_435079.0',\n",
       " 'b_435263.0',\n",
       " 'b_435522.0',\n",
       " 'b_435559.0',\n",
       " 'b_435622.0',\n",
       " 'b_443558.0',\n",
       " 'b_444432.0',\n",
       " 'b_444482.0',\n",
       " 'b_444489.0',\n",
       " 'b_444876.0',\n",
       " 'b_445055.0',\n",
       " 'b_445988.0',\n",
       " 'b_446263.0',\n",
       " 'b_446308.0',\n",
       " 'b_446334.0',\n",
       " 'b_446359.0',\n",
       " 'b_446386.0',\n",
       " 'b_446481.0',\n",
       " 'b_448602.0',\n",
       " 'b_448801.0',\n",
       " 'b_450314.0',\n",
       " 'b_451192.0',\n",
       " 'b_451594.0',\n",
       " 'b_452095.0',\n",
       " 'b_452254.0',\n",
       " 'b_452655.0',\n",
       " 'b_452678.0',\n",
       " 'b_453568.0',\n",
       " 'b_453923.0',\n",
       " 'b_453943.0',\n",
       " 'b_455104.0',\n",
       " 'b_455117.0',\n",
       " 'b_455139.0',\n",
       " 'b_455759.0',\n",
       " 'b_455976.0',\n",
       " 'b_456078.0',\n",
       " 'b_456124.0',\n",
       " 'b_456488.0',\n",
       " 'b_456665.0',\n",
       " 'b_456715.0',\n",
       " 'b_457705.0',\n",
       " 'b_457706.0',\n",
       " 'b_457708.0',\n",
       " 'b_457727.0',\n",
       " 'b_457759.0',\n",
       " 'b_457763.0',\n",
       " 'b_457803.0',\n",
       " 'b_458015.0',\n",
       " 'b_458731.0',\n",
       " 'b_458913.0',\n",
       " 'b_460026.0',\n",
       " 'b_460075.0',\n",
       " 'b_460077.0',\n",
       " 'b_460086.0',\n",
       " 'b_460576.0',\n",
       " 'b_461314.0',\n",
       " 'b_461865.0',\n",
       " 'b_462101.0',\n",
       " 'b_465041.0',\n",
       " 'b_466320.0',\n",
       " 'b_467055.0',\n",
       " 'b_467092.0',\n",
       " 'b_467793.0',\n",
       " 'b_467827.0',\n",
       " 'b_471865.0',\n",
       " 'b_472528.0',\n",
       " 'b_474568.0',\n",
       " 'b_474832.0',\n",
       " 'b_475174.0',\n",
       " 'b_475247.0',\n",
       " 'b_475253.0',\n",
       " 'b_475582.0',\n",
       " 'b_476704.0',\n",
       " 'b_476883.0',\n",
       " 'b_488671.0',\n",
       " 'b_488726.0',\n",
       " 'b_489149.0',\n",
       " 'b_491676.0',\n",
       " 'b_491696.0',\n",
       " 'b_493316.0',\n",
       " 'b_493329.0',\n",
       " 'b_500135.0',\n",
       " 'b_500208.0',\n",
       " 'b_500743.0',\n",
       " 'b_500871.0',\n",
       " 'b_500874.0',\n",
       " 'b_501303.0',\n",
       " 'b_501659.0',\n",
       " 'b_501896.0',\n",
       " 'b_501981.0',\n",
       " 'b_502054.0',\n",
       " 'b_502143.0',\n",
       " 'b_502210.0',\n",
       " 'b_502226.0',\n",
       " 'b_502481.0',\n",
       " 'b_502517.0',\n",
       " 'b_502671.0',\n",
       " 'b_503556.0',\n",
       " 'b_506702.0',\n",
       " 'b_506747.0',\n",
       " 'b_514888.0',\n",
       " 'b_514917.0',\n",
       " 'b_516416.0',\n",
       " 'b_516472.0',\n",
       " 'b_516770.0',\n",
       " 'b_516782.0',\n",
       " 'b_517369.0',\n",
       " 'b_518586.0',\n",
       " 'b_518614.0',\n",
       " 'b_518618.0',\n",
       " 'b_518626.0',\n",
       " 'b_518692.0',\n",
       " 'b_518735.0',\n",
       " 'b_518792.0',\n",
       " 'b_518934.0',\n",
       " 'b_518960.0',\n",
       " 'b_519023.0',\n",
       " 'b_519048.0',\n",
       " 'b_519058.0',\n",
       " 'b_519203.0',\n",
       " 'b_519222.0',\n",
       " 'b_519306.0',\n",
       " 'b_519317.0',\n",
       " 'b_519346.0',\n",
       " 'b_520471.0',\n",
       " 'b_521692.0',\n",
       " 'b_523253.0',\n",
       " 'b_527038.0',\n",
       " 'b_527043.0',\n",
       " 'b_534606.0',\n",
       " 'b_541645.0',\n",
       " 'b_541650.0',\n",
       " 'b_542255.0',\n",
       " 'b_542303.0',\n",
       " 'b_542340.0',\n",
       " 'b_542364.0',\n",
       " 'b_542583.0',\n",
       " 'b_542921.0',\n",
       " 'b_543063.0',\n",
       " 'b_543228.0',\n",
       " 'b_543257.0',\n",
       " 'b_543281.0',\n",
       " 'b_543305.0',\n",
       " 'b_543308.0',\n",
       " 'b_543333.0',\n",
       " 'b_543376.0',\n",
       " 'b_543401.0',\n",
       " 'b_543484.0',\n",
       " 'b_543510.0',\n",
       " 'b_543543.0',\n",
       " 'b_543685.0',\n",
       " 'b_543760.0',\n",
       " 'b_543768.0',\n",
       " 'b_543776.0',\n",
       " 'b_543807.0',\n",
       " 'b_543829.0',\n",
       " 'b_543877.0',\n",
       " 'b_543939.0',\n",
       " 'b_544369.0',\n",
       " 'b_544725.0',\n",
       " 'b_545341.0',\n",
       " 'b_545350.0',\n",
       " 'b_545358.0',\n",
       " 'b_545361.0',\n",
       " 'b_546318.0',\n",
       " 'b_546991.0',\n",
       " 'b_547172.0',\n",
       " 'b_547180.0',\n",
       " 'b_547379.0',\n",
       " 'b_547982.0',\n",
       " 'b_547989.0',\n",
       " 'b_553869.0',\n",
       " 'b_553882.0',\n",
       " 'b_553988.0',\n",
       " 'b_553993.0',\n",
       " 'b_570256.0',\n",
       " 'b_570267.0',\n",
       " 'b_570481.0',\n",
       " 'b_570731.0',\n",
       " 'b_570799.0',\n",
       " 'b_571431.0',\n",
       " 'b_571437.0',\n",
       " 'b_571448.0',\n",
       " 'b_571466.0',\n",
       " 'b_571506.0',\n",
       " 'b_571595.0',\n",
       " 'b_571602.0',\n",
       " 'b_571697.0',\n",
       " 'b_571718.0',\n",
       " 'b_571740.0',\n",
       " 'b_571745.0',\n",
       " 'b_571771.0',\n",
       " 'b_571788.0',\n",
       " 'b_571851.0',\n",
       " 'b_571875.0',\n",
       " 'b_571912.0',\n",
       " 'b_571970.0',\n",
       " 'b_571976.0',\n",
       " 'b_571980.0',\n",
       " 'b_572008.0',\n",
       " 'b_572039.0',\n",
       " 'b_572073.0',\n",
       " 'b_572122.0',\n",
       " 'b_572204.0',\n",
       " 'b_572228.0',\n",
       " 'b_572287.0',\n",
       " 'b_572365.0',\n",
       " 'b_572761.0',\n",
       " 'b_572816.0',\n",
       " 'b_572821.0',\n",
       " 'b_573135.0',\n",
       " 'b_575929.0',\n",
       " 'b_576397.0',\n",
       " 'b_578428.0',\n",
       " 'b_581527.0',\n",
       " 'b_588751.0',\n",
       " 'b_591741.0',\n",
       " 'b_592122.0',\n",
       " 'b_592178.0',\n",
       " 'b_592192.0',\n",
       " 'b_592200.0',\n",
       " 'b_592230.0',\n",
       " 'b_592261.0',\n",
       " 'b_592325.0',\n",
       " 'b_592348.0',\n",
       " 'b_592387.0',\n",
       " 'b_592407.0',\n",
       " 'b_592444.0',\n",
       " 'b_592450.0',\n",
       " 'b_592518.0',\n",
       " 'b_592567.0',\n",
       " 'b_592626.0',\n",
       " 'b_592669.0',\n",
       " 'b_592680.0',\n",
       " 'b_592685.0',\n",
       " 'b_592696.0',\n",
       " 'b_592743.0',\n",
       " 'b_592863.0',\n",
       " 'b_592885.0',\n",
       " 'b_593160.0',\n",
       " 'b_593428.0',\n",
       " 'b_593528.0',\n",
       " 'b_593700.0',\n",
       " 'b_593871.0',\n",
       " 'b_593934.0',\n",
       " 'b_593993.0',\n",
       " 'b_594011.0',\n",
       " 'b_594694.0',\n",
       " 'b_594777.0',\n",
       " 'b_594807.0',\n",
       " 'b_594809.0',\n",
       " 'b_594824.0',\n",
       " 'b_594828.0',\n",
       " 'b_594953.0',\n",
       " 'b_594988.0',\n",
       " 'b_595281.0',\n",
       " 'b_595284.0',\n",
       " 'b_595751.0',\n",
       " 'b_595777.0',\n",
       " 'b_595879.0',\n",
       " 'b_595885.0',\n",
       " 'b_595909.0',\n",
       " 'b_595978.0',\n",
       " 'b_596019.0',\n",
       " 'b_596059.0',\n",
       " 'b_596103.0',\n",
       " 'b_596115.0',\n",
       " 'b_596119.0',\n",
       " 'b_596142.0',\n",
       " 'b_596144.0',\n",
       " 'b_596146.0',\n",
       " 'b_596451.0',\n",
       " 'b_596748.0',\n",
       " 'b_596847.0',\n",
       " 'b_598265.0',\n",
       " 'b_600474.0',\n",
       " 'b_600524.0',\n",
       " 'b_600869.0',\n",
       " 'b_605113.0',\n",
       " 'b_605119.0',\n",
       " 'b_605131.0',\n",
       " 'b_605137.0',\n",
       " 'b_605141.0',\n",
       " 'b_605170.0',\n",
       " 'b_605361.0',\n",
       " 'b_605412.0',\n",
       " 'b_605480.0',\n",
       " 'b_605486.0',\n",
       " 'b_605508.0',\n",
       " 'b_605509.0',\n",
       " 'b_605512.0',\n",
       " 'b_605548.0',\n",
       " 'b_606115.0',\n",
       " 'b_606192.0',\n",
       " 'b_606299.0',\n",
       " 'b_606466.0',\n",
       " 'b_607043.0',\n",
       " 'b_607054.0',\n",
       " 'b_607208.0',\n",
       " 'b_607345.0',\n",
       " 'b_607387.0',\n",
       " 'b_607468.0',\n",
       " 'b_607680.0',\n",
       " 'b_608070.0',\n",
       " 'b_608324.0',\n",
       " 'b_608336.0',\n",
       " 'b_608365.0',\n",
       " 'b_608369.0',\n",
       " 'b_608384.0',\n",
       " 'b_608385.0',\n",
       " 'b_608577.0',\n",
       " 'b_608597.0',\n",
       " 'b_608654.0',\n",
       " 'b_608671.0',\n",
       " 'b_608700.0',\n",
       " 'b_609275.0',\n",
       " 'b_609280.0',\n",
       " 'b_614173.0',\n",
       " 'b_614177.0',\n",
       " 'b_621002.0',\n",
       " 'b_621020.0',\n",
       " 'b_621035.0',\n",
       " 'b_621043.0',\n",
       " 'b_621311.0',\n",
       " 'b_621433.0',\n",
       " 'b_621446.0',\n",
       " 'b_621453.0',\n",
       " 'b_621493.0',\n",
       " 'b_621563.0',\n",
       " 'b_621566.0',\n",
       " 'b_621573.0',\n",
       " 'b_622110.0',\n",
       " 'b_622168.0',\n",
       " 'b_622534.0',\n",
       " 'b_622666.0',\n",
       " 'b_622682.0',\n",
       " 'b_623520.0',\n",
       " 'b_623993.0',\n",
       " 'b_624424.0',\n",
       " 'b_624428.0',\n",
       " 'b_624577.0',\n",
       " 'b_624585.0',\n",
       " 'b_624636.0',\n",
       " 'b_628336.0',\n",
       " 'b_628338.0',\n",
       " 'b_640457.0',\n",
       " 'b_640461.0',\n",
       " 'b_641313.0',\n",
       " 'b_641319.0',\n",
       " 'b_641343.0',\n",
       " 'b_641355.0',\n",
       " 'b_641525.0',\n",
       " 'b_641531.0',\n",
       " 'b_641553.0',\n",
       " 'b_641583.0',\n",
       " 'b_641598.0',\n",
       " 'b_641820.0',\n",
       " 'b_641856.0',\n",
       " 'b_641857.0',\n",
       " 'b_641933.0',\n",
       " 'b_642082.0',\n",
       " 'b_642086.0',\n",
       " 'b_642162.0',\n",
       " 'b_642423.0',\n",
       " 'b_642708.0',\n",
       " 'b_642715.0',\n",
       " 'b_642851.0',\n",
       " 'b_643217.0',\n",
       " 'b_643393.0',\n",
       " 'b_643396.0',\n",
       " 'b_643446.0',\n",
       " 'b_643603.0',\n",
       " 'b_645277.0',\n",
       " 'b_646240.0',\n",
       " 'b_649557.0',\n",
       " 'b_650402.0',\n",
       " 'b_650490.0',\n",
       " 'b_656185.0',\n",
       " 'b_656305.0',\n",
       " 'b_656555.0',\n",
       " 'b_656775.0',\n",
       " 'b_656811.0',\n",
       " 'b_656941.0',\n",
       " 'b_657557.0',\n",
       " 'b_657656.0',\n",
       " 'b_660162.0',\n",
       " 'b_660271.0',\n",
       " 'b_660670.0',\n",
       " 'b_664023.0',\n",
       " 'b_664040.0',\n",
       " 'b_664056.0',\n",
       " 'b_664058.0',\n",
       " 'b_664068.0',\n",
       " 'b_665742.0',\n",
       " 'b_666971.0',\n",
       " 'event_code',\n",
       " 'inning_topbot',\n",
       " 'p_112526.0',\n",
       " 'p_282332.0',\n",
       " 'p_425794.0',\n",
       " 'p_425844.0',\n",
       " 'p_429719.0',\n",
       " 'p_430935.0',\n",
       " 'p_433587.0',\n",
       " 'p_434378.0',\n",
       " 'p_434538.0',\n",
       " 'p_434628.0',\n",
       " 'p_434671.0',\n",
       " 'p_435221.0',\n",
       " 'p_446372.0',\n",
       " 'p_448179.0',\n",
       " 'p_448306.0',\n",
       " 'p_448802.0',\n",
       " 'p_448855.0',\n",
       " 'p_450203.0',\n",
       " 'p_450306.0',\n",
       " 'p_450729.0',\n",
       " 'p_451596.0',\n",
       " 'p_452657.0',\n",
       " 'p_453178.0',\n",
       " 'p_453281.0',\n",
       " 'p_453286.0',\n",
       " 'p_453329.0',\n",
       " 'p_453385.0',\n",
       " 'p_453562.0',\n",
       " 'p_456034.0',\n",
       " 'p_456501.0',\n",
       " 'p_456701.0',\n",
       " 'p_458681.0',\n",
       " 'p_458708.0',\n",
       " 'p_461829.0',\n",
       " 'p_462136.0',\n",
       " 'p_467100.0',\n",
       " 'p_468504.0',\n",
       " 'p_471911.0',\n",
       " 'p_474463.0',\n",
       " 'p_475115.0',\n",
       " 'p_476451.0',\n",
       " 'p_477132.0',\n",
       " 'p_488768.0',\n",
       " 'p_489119.0',\n",
       " 'p_500779.0',\n",
       " 'p_501957.0',\n",
       " 'p_501985.0',\n",
       " 'p_502042.0',\n",
       " 'p_502043.0',\n",
       " 'p_502171.0',\n",
       " 'p_502188.0',\n",
       " 'p_502190.0',\n",
       " 'p_502212.0',\n",
       " 'p_502239.0',\n",
       " 'p_502327.0',\n",
       " 'p_502624.0',\n",
       " 'p_502706.0',\n",
       " 'p_506433.0',\n",
       " 'p_518452.0',\n",
       " 'p_518516.0',\n",
       " 'p_518633.0',\n",
       " 'p_518774.0',\n",
       " 'p_519043.0',\n",
       " 'p_519141.0',\n",
       " 'p_519144.0',\n",
       " 'p_519242.0',\n",
       " 'p_519455.0',\n",
       " 'p_521230.0',\n",
       " 'p_527048.0',\n",
       " 'p_527054.0',\n",
       " 'p_533167.0',\n",
       " 'p_541640.0',\n",
       " 'p_542881.0',\n",
       " 'p_543022.0',\n",
       " 'p_543037.0',\n",
       " 'p_543101.0',\n",
       " 'p_543135.0',\n",
       " 'p_543208.0',\n",
       " 'p_543243.0',\n",
       " 'p_543278.0',\n",
       " 'p_543294.0',\n",
       " 'p_543475.0',\n",
       " 'p_543557.0',\n",
       " 'p_543606.0',\n",
       " 'p_543699.0',\n",
       " 'p_544931.0',\n",
       " 'p_545333.0',\n",
       " 'p_547888.0',\n",
       " 'p_547943.0',\n",
       " 'p_548389.0',\n",
       " 'p_570240.0',\n",
       " 'p_570632.0',\n",
       " 'p_571578.0',\n",
       " 'p_571666.0',\n",
       " 'p_571760.0',\n",
       " 'p_571863.0',\n",
       " 'p_571927.0',\n",
       " 'p_571945.0',\n",
       " 'p_571951.0',\n",
       " 'p_572020.0',\n",
       " 'p_572070.0',\n",
       " 'p_572140.0',\n",
       " 'p_572143.0',\n",
       " 'p_572362.0',\n",
       " 'p_572971.0',\n",
       " 'p_573185.0',\n",
       " 'p_573186.0',\n",
       " 'p_584171.0',\n",
       " 'p_592229.0',\n",
       " 'p_592314.0',\n",
       " 'p_592332.0',\n",
       " 'p_592351.0',\n",
       " 'p_592468.0',\n",
       " 'p_592644.0',\n",
       " 'p_592662.0',\n",
       " 'p_592717.0',\n",
       " 'p_592761.0',\n",
       " 'p_592773.0',\n",
       " 'p_592789.0',\n",
       " 'p_592791.0',\n",
       " 'p_592811.0',\n",
       " 'p_592826.0',\n",
       " 'p_592866.0',\n",
       " 'p_593334.0',\n",
       " 'p_593372.0',\n",
       " 'p_593423.0',\n",
       " 'p_593958.0',\n",
       " 'p_594798.0',\n",
       " 'p_594835.0',\n",
       " 'p_596001.0',\n",
       " 'p_596043.0',\n",
       " 'p_596057.0',\n",
       " 'p_596133.0',\n",
       " 'p_596295.0',\n",
       " 'p_598271.0',\n",
       " 'p_601713.0',\n",
       " 'p_605135.0',\n",
       " 'p_605164.0',\n",
       " 'p_605182.0',\n",
       " 'p_605200.0',\n",
       " 'p_605242.0',\n",
       " 'p_605276.0',\n",
       " 'p_605347.0',\n",
       " 'p_605397.0',\n",
       " 'p_605400.0',\n",
       " 'p_605446.0',\n",
       " 'p_605483.0',\n",
       " 'p_605498.0',\n",
       " 'p_606131.0',\n",
       " 'p_606162.0',\n",
       " 'p_606424.0',\n",
       " 'p_607074.0',\n",
       " 'p_607188.0',\n",
       " 'p_607192.0',\n",
       " 'p_607200.0',\n",
       " 'p_607215.0',\n",
       " 'p_607219.0',\n",
       " 'p_607231.0',\n",
       " 'p_607374.0',\n",
       " 'p_607536.0',\n",
       " 'p_608334.0',\n",
       " 'p_608337.0',\n",
       " 'p_608379.0',\n",
       " 'p_608566.0',\n",
       " 'p_608665.0',\n",
       " 'p_608717.0',\n",
       " 'p_608718.0',\n",
       " 'p_612672.0',\n",
       " 'p_621056.0',\n",
       " 'p_621107.0',\n",
       " 'p_621111.0',\n",
       " 'p_621112.0',\n",
       " 'p_621121.0',\n",
       " 'p_621244.0',\n",
       " 'p_621261.0',\n",
       " 'p_621366.0',\n",
       " 'p_621389.0',\n",
       " 'p_622072.0',\n",
       " 'p_622382.0',\n",
       " 'p_622446.0',\n",
       " 'p_622491.0',\n",
       " 'p_622608.0',\n",
       " 'p_622663.0',\n",
       " 'p_622694.0',\n",
       " 'p_622864.0',\n",
       " 'p_623381.0',\n",
       " 'p_625643.0',\n",
       " 'p_628317.0',\n",
       " 'p_630023.0',\n",
       " 'p_640455.0',\n",
       " 'p_641154.0',\n",
       " 'p_641571.0',\n",
       " 'p_641745.0',\n",
       " 'p_641771.0',\n",
       " 'p_641778.0',\n",
       " 'p_641816.0',\n",
       " 'p_642003.0',\n",
       " 'p_642231.0',\n",
       " 'p_642232.0',\n",
       " 'p_642545.0',\n",
       " 'p_642547.0',\n",
       " 'p_642558.0',\n",
       " 'p_643327.0',\n",
       " 'p_645261.0',\n",
       " 'p_650895.0',\n",
       " 'p_656427.0',\n",
       " 'p_656756.0',\n",
       " 'p_656794.0',\n",
       " 'p_656798.0',\n",
       " 'p_656887.0',\n",
       " 'p_660271.0',\n",
       " 'p_664028.0',\n",
       " 'p_664192.0',\n",
       " 'p_669456.0',\n",
       " 'p_670950.0',\n",
       " 'p_throws',\n",
       " 'stand']"
      ]
     },
     "execution_count": 597,
     "metadata": {},
     "output_type": "execute_result"
    },
    {
     "data": {
      "application/javascript": [
       "\n",
       "            setTimeout(function() {\n",
       "                var nbb_cell_id = 597;\n",
       "                var nbb_unformatted_code = \"feature_col_w_target\";\n",
       "                var nbb_formatted_code = \"feature_col_w_target\";\n",
       "                var nbb_cells = Jupyter.notebook.get_cells();\n",
       "                for (var i = 0; i < nbb_cells.length; ++i) {\n",
       "                    if (nbb_cells[i].input_prompt_number == nbb_cell_id) {\n",
       "                        if (nbb_cells[i].get_text() == nbb_unformatted_code) {\n",
       "                             nbb_cells[i].set_text(nbb_formatted_code);\n",
       "                        }\n",
       "                        break;\n",
       "                    }\n",
       "                }\n",
       "            }, 500);\n",
       "            "
      ],
      "text/plain": [
       "<IPython.core.display.Javascript object>"
      ]
     },
     "metadata": {},
     "output_type": "display_data"
    }
   ],
   "source": [
    "feature_col_w_target"
   ]
  },
  {
   "cell_type": "code",
   "execution_count": 598,
   "metadata": {
    "ExecuteTime": {
     "end_time": "2020-02-01T01:37:56.394361Z",
     "start_time": "2020-02-01T01:37:48.508790Z"
    }
   },
   "outputs": [
    {
     "data": {
      "application/javascript": [
       "\n",
       "            setTimeout(function() {\n",
       "                var nbb_cell_id = 598;\n",
       "                var nbb_unformatted_code = \"X_train_scale_1M, X_test_scale_1M, y_train_1M, y_test_1M, scale_vals = get_split_data(\\n    df_sc_events4model_bp_k_ohe[feature_col_w_target], 0.4\\n)\";\n",
       "                var nbb_formatted_code = \"X_train_scale_1M, X_test_scale_1M, y_train_1M, y_test_1M, scale_vals = get_split_data(\\n    df_sc_events4model_bp_k_ohe[feature_col_w_target], 0.4\\n)\";\n",
       "                var nbb_cells = Jupyter.notebook.get_cells();\n",
       "                for (var i = 0; i < nbb_cells.length; ++i) {\n",
       "                    if (nbb_cells[i].input_prompt_number == nbb_cell_id) {\n",
       "                        if (nbb_cells[i].get_text() == nbb_unformatted_code) {\n",
       "                             nbb_cells[i].set_text(nbb_formatted_code);\n",
       "                        }\n",
       "                        break;\n",
       "                    }\n",
       "                }\n",
       "            }, 500);\n",
       "            "
      ],
      "text/plain": [
       "<IPython.core.display.Javascript object>"
      ]
     },
     "metadata": {},
     "output_type": "display_data"
    }
   ],
   "source": [
    "X_train_scale_1M, X_test_scale_1M, y_train_1M, y_test_1M, scale_vals = get_split_data(\n",
    "    df_sc_events4model_bp_k_ohe[feature_col_w_target], 0.4\n",
    ")"
   ]
  },
  {
   "cell_type": "code",
   "execution_count": 599,
   "metadata": {
    "ExecuteTime": {
     "end_time": "2020-02-01T01:38:15.244674Z",
     "start_time": "2020-02-01T01:38:09.773840Z"
    }
   },
   "outputs": [
    {
     "data": {
      "application/javascript": [
       "\n",
       "            setTimeout(function() {\n",
       "                var nbb_cell_id = 599;\n",
       "                var nbb_unformatted_code = \"# Run models\\nlog_reg_1M, df_eval_1M = run_logreg_model(\\n    X_train_scale_1M, y_train_1M, X_test_scale_1M, y_test_1M\\n)\";\n",
       "                var nbb_formatted_code = \"# Run models\\nlog_reg_1M, df_eval_1M = run_logreg_model(\\n    X_train_scale_1M, y_train_1M, X_test_scale_1M, y_test_1M\\n)\";\n",
       "                var nbb_cells = Jupyter.notebook.get_cells();\n",
       "                for (var i = 0; i < nbb_cells.length; ++i) {\n",
       "                    if (nbb_cells[i].input_prompt_number == nbb_cell_id) {\n",
       "                        if (nbb_cells[i].get_text() == nbb_unformatted_code) {\n",
       "                             nbb_cells[i].set_text(nbb_formatted_code);\n",
       "                        }\n",
       "                        break;\n",
       "                    }\n",
       "                }\n",
       "            }, 500);\n",
       "            "
      ],
      "text/plain": [
       "<IPython.core.display.Javascript object>"
      ]
     },
     "metadata": {},
     "output_type": "display_data"
    }
   ],
   "source": [
    "# Run models\n",
    "log_reg_1M, df_eval_1M = run_logreg_model(\n",
    "    X_train_scale_1M, y_train_1M, X_test_scale_1M, y_test_1M\n",
    ")"
   ]
  },
  {
   "cell_type": "code",
   "execution_count": 605,
   "metadata": {
    "ExecuteTime": {
     "end_time": "2020-02-01T01:42:20.980146Z",
     "start_time": "2020-02-01T01:42:20.965442Z"
    }
   },
   "outputs": [
    {
     "data": {
      "text/html": [
       "<div>\n",
       "<style scoped>\n",
       "    .dataframe tbody tr th:only-of-type {\n",
       "        vertical-align: middle;\n",
       "    }\n",
       "\n",
       "    .dataframe tbody tr th {\n",
       "        vertical-align: top;\n",
       "    }\n",
       "\n",
       "    .dataframe thead th {\n",
       "        text-align: right;\n",
       "    }\n",
       "</style>\n",
       "<table border=\"1\" class=\"dataframe\">\n",
       "  <thead>\n",
       "    <tr style=\"text-align: right;\">\n",
       "      <th></th>\n",
       "      <th>test</th>\n",
       "      <th>pred</th>\n",
       "      <th>predprob</th>\n",
       "    </tr>\n",
       "  </thead>\n",
       "  <tbody>\n",
       "    <tr>\n",
       "      <th>116951</th>\n",
       "      <td>0</td>\n",
       "      <td>1</td>\n",
       "      <td>0.504093</td>\n",
       "    </tr>\n",
       "    <tr>\n",
       "      <th>146125</th>\n",
       "      <td>0</td>\n",
       "      <td>0</td>\n",
       "      <td>0.412483</td>\n",
       "    </tr>\n",
       "    <tr>\n",
       "      <th>142042</th>\n",
       "      <td>1</td>\n",
       "      <td>0</td>\n",
       "      <td>0.466282</td>\n",
       "    </tr>\n",
       "    <tr>\n",
       "      <th>57356</th>\n",
       "      <td>0</td>\n",
       "      <td>1</td>\n",
       "      <td>0.630782</td>\n",
       "    </tr>\n",
       "    <tr>\n",
       "      <th>67644</th>\n",
       "      <td>1</td>\n",
       "      <td>0</td>\n",
       "      <td>0.498161</td>\n",
       "    </tr>\n",
       "  </tbody>\n",
       "</table>\n",
       "</div>"
      ],
      "text/plain": [
       "        test  pred  predprob\n",
       "116951     0     1  0.504093\n",
       "146125     0     0  0.412483\n",
       "142042     1     0  0.466282\n",
       "57356      0     1  0.630782\n",
       "67644      1     0  0.498161"
      ]
     },
     "execution_count": 605,
     "metadata": {},
     "output_type": "execute_result"
    },
    {
     "data": {
      "application/javascript": [
       "\n",
       "            setTimeout(function() {\n",
       "                var nbb_cell_id = 605;\n",
       "                var nbb_unformatted_code = \"df_eval_1M.head()\";\n",
       "                var nbb_formatted_code = \"df_eval_1M.head()\";\n",
       "                var nbb_cells = Jupyter.notebook.get_cells();\n",
       "                for (var i = 0; i < nbb_cells.length; ++i) {\n",
       "                    if (nbb_cells[i].input_prompt_number == nbb_cell_id) {\n",
       "                        if (nbb_cells[i].get_text() == nbb_unformatted_code) {\n",
       "                             nbb_cells[i].set_text(nbb_formatted_code);\n",
       "                        }\n",
       "                        break;\n",
       "                    }\n",
       "                }\n",
       "            }, 500);\n",
       "            "
      ],
      "text/plain": [
       "<IPython.core.display.Javascript object>"
      ]
     },
     "metadata": {},
     "output_type": "display_data"
    }
   ],
   "source": [
    "df_eval_1M.head()"
   ]
  },
  {
   "cell_type": "code",
   "execution_count": 602,
   "metadata": {
    "ExecuteTime": {
     "end_time": "2020-02-01T01:39:27.762584Z",
     "start_time": "2020-02-01T01:39:27.603697Z"
    }
   },
   "outputs": [
    {
     "name": "stdout",
     "output_type": "stream",
     "text": [
      "              precision    recall  f1-score   support\n",
      "\n",
      "           0       0.84      0.58      0.69     73947\n",
      "           1       0.26      0.57      0.36     19135\n",
      "\n",
      "    accuracy                           0.58     93082\n",
      "   macro avg       0.55      0.58      0.52     93082\n",
      "weighted avg       0.72      0.58      0.62     93082\n",
      "\n"
     ]
    },
    {
     "data": {
      "application/javascript": [
       "\n",
       "            setTimeout(function() {\n",
       "                var nbb_cell_id = 602;\n",
       "                var nbb_unformatted_code = \"print(metrics.classification_report(df_eval_1M[\\\"test\\\"], df_eval_1M[\\\"pred\\\"]))\";\n",
       "                var nbb_formatted_code = \"print(metrics.classification_report(df_eval_1M[\\\"test\\\"], df_eval_1M[\\\"pred\\\"]))\";\n",
       "                var nbb_cells = Jupyter.notebook.get_cells();\n",
       "                for (var i = 0; i < nbb_cells.length; ++i) {\n",
       "                    if (nbb_cells[i].input_prompt_number == nbb_cell_id) {\n",
       "                        if (nbb_cells[i].get_text() == nbb_unformatted_code) {\n",
       "                             nbb_cells[i].set_text(nbb_formatted_code);\n",
       "                        }\n",
       "                        break;\n",
       "                    }\n",
       "                }\n",
       "            }, 500);\n",
       "            "
      ],
      "text/plain": [
       "<IPython.core.display.Javascript object>"
      ]
     },
     "metadata": {},
     "output_type": "display_data"
    }
   ],
   "source": [
    "print(metrics.classification_report(df_eval_1M[\"test\"], df_eval_1M[\"pred\"]))"
   ]
  },
  {
   "cell_type": "markdown",
   "metadata": {
    "ExecuteTime": {
     "end_time": "2020-02-01T01:40:42.062193Z",
     "start_time": "2020-02-01T01:40:42.055250Z"
    }
   },
   "source": [
    "## Plot ROC curve"
   ]
  },
  {
   "cell_type": "code",
   "execution_count": 604,
   "metadata": {
    "ExecuteTime": {
     "end_time": "2020-02-01T01:40:51.295232Z",
     "start_time": "2020-02-01T01:40:51.286866Z"
    }
   },
   "outputs": [
    {
     "data": {
      "application/javascript": [
       "\n",
       "            setTimeout(function() {\n",
       "                var nbb_cell_id = 604;\n",
       "                var nbb_unformatted_code = \"from sklearn import metrics\";\n",
       "                var nbb_formatted_code = \"from sklearn import metrics\";\n",
       "                var nbb_cells = Jupyter.notebook.get_cells();\n",
       "                for (var i = 0; i < nbb_cells.length; ++i) {\n",
       "                    if (nbb_cells[i].input_prompt_number == nbb_cell_id) {\n",
       "                        if (nbb_cells[i].get_text() == nbb_unformatted_code) {\n",
       "                             nbb_cells[i].set_text(nbb_formatted_code);\n",
       "                        }\n",
       "                        break;\n",
       "                    }\n",
       "                }\n",
       "            }, 500);\n",
       "            "
      ],
      "text/plain": [
       "<IPython.core.display.Javascript object>"
      ]
     },
     "metadata": {},
     "output_type": "display_data"
    }
   ],
   "source": [
    "from sklearn import metrics"
   ]
  },
  {
   "cell_type": "code",
   "execution_count": 629,
   "metadata": {
    "ExecuteTime": {
     "end_time": "2020-02-01T01:52:05.124070Z",
     "start_time": "2020-02-01T01:52:05.100858Z"
    }
   },
   "outputs": [
    {
     "data": {
      "application/javascript": [
       "\n",
       "            setTimeout(function() {\n",
       "                var nbb_cell_id = 629;\n",
       "                var nbb_unformatted_code = \"fpr, tpr, thresholds = metrics.roc_curve(df_eval_1M[\\\"test\\\"], df_eval_1M[\\\"pred\\\"])\";\n",
       "                var nbb_formatted_code = \"fpr, tpr, thresholds = metrics.roc_curve(df_eval_1M[\\\"test\\\"], df_eval_1M[\\\"pred\\\"])\";\n",
       "                var nbb_cells = Jupyter.notebook.get_cells();\n",
       "                for (var i = 0; i < nbb_cells.length; ++i) {\n",
       "                    if (nbb_cells[i].input_prompt_number == nbb_cell_id) {\n",
       "                        if (nbb_cells[i].get_text() == nbb_unformatted_code) {\n",
       "                             nbb_cells[i].set_text(nbb_formatted_code);\n",
       "                        }\n",
       "                        break;\n",
       "                    }\n",
       "                }\n",
       "            }, 500);\n",
       "            "
      ],
      "text/plain": [
       "<IPython.core.display.Javascript object>"
      ]
     },
     "metadata": {},
     "output_type": "display_data"
    }
   ],
   "source": [
    "fpr, tpr, thresholds = metrics.roc_curve(df_eval_1M[\"test\"], df_eval_1M[\"pred\"])"
   ]
  },
  {
   "cell_type": "code",
   "execution_count": 630,
   "metadata": {
    "ExecuteTime": {
     "end_time": "2020-02-01T01:52:07.667543Z",
     "start_time": "2020-02-01T01:52:07.657414Z"
    }
   },
   "outputs": [
    {
     "data": {
      "text/plain": [
       "array([0.        , 0.41907042, 1.        ])"
      ]
     },
     "execution_count": 630,
     "metadata": {},
     "output_type": "execute_result"
    },
    {
     "data": {
      "application/javascript": [
       "\n",
       "            setTimeout(function() {\n",
       "                var nbb_cell_id = 630;\n",
       "                var nbb_unformatted_code = \"fpr\";\n",
       "                var nbb_formatted_code = \"fpr\";\n",
       "                var nbb_cells = Jupyter.notebook.get_cells();\n",
       "                for (var i = 0; i < nbb_cells.length; ++i) {\n",
       "                    if (nbb_cells[i].input_prompt_number == nbb_cell_id) {\n",
       "                        if (nbb_cells[i].get_text() == nbb_unformatted_code) {\n",
       "                             nbb_cells[i].set_text(nbb_formatted_code);\n",
       "                        }\n",
       "                        break;\n",
       "                    }\n",
       "                }\n",
       "            }, 500);\n",
       "            "
      ],
      "text/plain": [
       "<IPython.core.display.Javascript object>"
      ]
     },
     "metadata": {},
     "output_type": "display_data"
    }
   ],
   "source": [
    "fpr"
   ]
  },
  {
   "cell_type": "code",
   "execution_count": 631,
   "metadata": {
    "ExecuteTime": {
     "end_time": "2020-02-01T01:52:10.430072Z",
     "start_time": "2020-02-01T01:52:10.420415Z"
    }
   },
   "outputs": [
    {
     "data": {
      "text/plain": [
       "array([0.        , 0.57496734, 1.        ])"
      ]
     },
     "execution_count": 631,
     "metadata": {},
     "output_type": "execute_result"
    },
    {
     "data": {
      "application/javascript": [
       "\n",
       "            setTimeout(function() {\n",
       "                var nbb_cell_id = 631;\n",
       "                var nbb_unformatted_code = \"tpr\";\n",
       "                var nbb_formatted_code = \"tpr\";\n",
       "                var nbb_cells = Jupyter.notebook.get_cells();\n",
       "                for (var i = 0; i < nbb_cells.length; ++i) {\n",
       "                    if (nbb_cells[i].input_prompt_number == nbb_cell_id) {\n",
       "                        if (nbb_cells[i].get_text() == nbb_unformatted_code) {\n",
       "                             nbb_cells[i].set_text(nbb_formatted_code);\n",
       "                        }\n",
       "                        break;\n",
       "                    }\n",
       "                }\n",
       "            }, 500);\n",
       "            "
      ],
      "text/plain": [
       "<IPython.core.display.Javascript object>"
      ]
     },
     "metadata": {},
     "output_type": "display_data"
    }
   ],
   "source": [
    "tpr"
   ]
  },
  {
   "cell_type": "code",
   "execution_count": 610,
   "metadata": {
    "ExecuteTime": {
     "end_time": "2020-02-01T01:43:23.733480Z",
     "start_time": "2020-02-01T01:43:23.724371Z"
    }
   },
   "outputs": [
    {
     "data": {
      "text/plain": [
       "array([2, 1, 0])"
      ]
     },
     "execution_count": 610,
     "metadata": {},
     "output_type": "execute_result"
    },
    {
     "data": {
      "application/javascript": [
       "\n",
       "            setTimeout(function() {\n",
       "                var nbb_cell_id = 610;\n",
       "                var nbb_unformatted_code = \"thresholds\";\n",
       "                var nbb_formatted_code = \"thresholds\";\n",
       "                var nbb_cells = Jupyter.notebook.get_cells();\n",
       "                for (var i = 0; i < nbb_cells.length; ++i) {\n",
       "                    if (nbb_cells[i].input_prompt_number == nbb_cell_id) {\n",
       "                        if (nbb_cells[i].get_text() == nbb_unformatted_code) {\n",
       "                             nbb_cells[i].set_text(nbb_formatted_code);\n",
       "                        }\n",
       "                        break;\n",
       "                    }\n",
       "                }\n",
       "            }, 500);\n",
       "            "
      ],
      "text/plain": [
       "<IPython.core.display.Javascript object>"
      ]
     },
     "metadata": {},
     "output_type": "display_data"
    }
   ],
   "source": [
    "thresholds"
   ]
  },
  {
   "cell_type": "code",
   "execution_count": 632,
   "metadata": {
    "ExecuteTime": {
     "end_time": "2020-02-01T01:52:13.220585Z",
     "start_time": "2020-02-01T01:52:13.209911Z"
    }
   },
   "outputs": [
    {
     "data": {
      "application/javascript": [
       "\n",
       "            setTimeout(function() {\n",
       "                var nbb_cell_id = 632;\n",
       "                var nbb_unformatted_code = \"from sklearn.metrics import roc_curve, auc\\nfrom sklearn.metrics import roc_auc_score\";\n",
       "                var nbb_formatted_code = \"from sklearn.metrics import roc_curve, auc\\nfrom sklearn.metrics import roc_auc_score\";\n",
       "                var nbb_cells = Jupyter.notebook.get_cells();\n",
       "                for (var i = 0; i < nbb_cells.length; ++i) {\n",
       "                    if (nbb_cells[i].input_prompt_number == nbb_cell_id) {\n",
       "                        if (nbb_cells[i].get_text() == nbb_unformatted_code) {\n",
       "                             nbb_cells[i].set_text(nbb_formatted_code);\n",
       "                        }\n",
       "                        break;\n",
       "                    }\n",
       "                }\n",
       "            }, 500);\n",
       "            "
      ],
      "text/plain": [
       "<IPython.core.display.Javascript object>"
      ]
     },
     "metadata": {},
     "output_type": "display_data"
    }
   ],
   "source": [
    "from sklearn.metrics import roc_curve, auc\n",
    "from sklearn.metrics import roc_auc_score"
   ]
  },
  {
   "cell_type": "code",
   "execution_count": null,
   "metadata": {},
   "outputs": [],
   "source": [
    "roc_auc_score"
   ]
  },
  {
   "cell_type": "code",
   "execution_count": 635,
   "metadata": {
    "ExecuteTime": {
     "end_time": "2020-02-01T01:57:37.575927Z",
     "start_time": "2020-02-01T01:57:37.508313Z"
    }
   },
   "outputs": [
    {
     "name": "stdout",
     "output_type": "stream",
     "text": [
      "AUC:  0.5779484610212551\n"
     ]
    },
    {
     "data": {
      "application/javascript": [
       "\n",
       "            setTimeout(function() {\n",
       "                var nbb_cell_id = 635;\n",
       "                var nbb_unformatted_code = \"# from sklearn.metrics import rocaucscore\\n\\n# predictions = model.predict(vect.transform(Xtest))\\n# print('AUC: ', rocaucscore(ytest, predictions))\\n\\nprint(\\\"AUC: \\\", roc_auc_score(df_eval_1M[\\\"test\\\"], df_eval_1M[\\\"pred\\\"]))\";\n",
       "                var nbb_formatted_code = \"# from sklearn.metrics import rocaucscore\\n\\n# predictions = model.predict(vect.transform(Xtest))\\n# print('AUC: ', rocaucscore(ytest, predictions))\\n\\nprint(\\\"AUC: \\\", roc_auc_score(df_eval_1M[\\\"test\\\"], df_eval_1M[\\\"pred\\\"]))\";\n",
       "                var nbb_cells = Jupyter.notebook.get_cells();\n",
       "                for (var i = 0; i < nbb_cells.length; ++i) {\n",
       "                    if (nbb_cells[i].input_prompt_number == nbb_cell_id) {\n",
       "                        if (nbb_cells[i].get_text() == nbb_unformatted_code) {\n",
       "                             nbb_cells[i].set_text(nbb_formatted_code);\n",
       "                        }\n",
       "                        break;\n",
       "                    }\n",
       "                }\n",
       "            }, 500);\n",
       "            "
      ],
      "text/plain": [
       "<IPython.core.display.Javascript object>"
      ]
     },
     "metadata": {},
     "output_type": "display_data"
    }
   ],
   "source": [
    "# from sklearn.metrics import rocaucscore\n",
    "\n",
    "# predictions = model.predict(vect.transform(Xtest))\n",
    "# print('AUC: ', rocaucscore(ytest, predictions))\n",
    "\n",
    "print(\"AUC: \", roc_auc_score(df_eval_1M[\"test\"], df_eval_1M[\"pred\"]))"
   ]
  },
  {
   "cell_type": "code",
   "execution_count": 633,
   "metadata": {
    "ExecuteTime": {
     "end_time": "2020-02-01T01:52:16.051316Z",
     "start_time": "2020-02-01T01:52:15.995456Z"
    }
   },
   "outputs": [
    {
     "ename": "TypeError",
     "evalue": "Singleton array 0.0 cannot be considered a valid collection.",
     "output_type": "error",
     "traceback": [
      "\u001b[0;31m---------------------------------------------------------------------------\u001b[0m",
      "\u001b[0;31mTypeError\u001b[0m                                 Traceback (most recent call last)",
      "\u001b[0;32m<ipython-input-633-67b9d501c5f0>\u001b[0m in \u001b[0;36m<module>\u001b[0;34m\u001b[0m\n\u001b[1;32m      9\u001b[0m     \u001b[0mfpr_d\u001b[0m\u001b[0;34m[\u001b[0m\u001b[0mi\u001b[0m\u001b[0;34m]\u001b[0m\u001b[0;34m,\u001b[0m \u001b[0mtpr_d\u001b[0m\u001b[0;34m[\u001b[0m\u001b[0mi\u001b[0m\u001b[0;34m]\u001b[0m \u001b[0;34m=\u001b[0m \u001b[0mfpr\u001b[0m\u001b[0;34m[\u001b[0m\u001b[0mi\u001b[0m\u001b[0;34m]\u001b[0m\u001b[0;34m,\u001b[0m \u001b[0mtpr\u001b[0m\u001b[0;34m[\u001b[0m\u001b[0mi\u001b[0m\u001b[0;34m]\u001b[0m\u001b[0;34m\u001b[0m\u001b[0;34m\u001b[0m\u001b[0m\n\u001b[1;32m     10\u001b[0m \u001b[0;34m\u001b[0m\u001b[0m\n\u001b[0;32m---> 11\u001b[0;31m     \u001b[0mroc_auc\u001b[0m\u001b[0;34m[\u001b[0m\u001b[0mi\u001b[0m\u001b[0;34m]\u001b[0m \u001b[0;34m=\u001b[0m \u001b[0mauc\u001b[0m\u001b[0;34m(\u001b[0m\u001b[0mfpr_d\u001b[0m\u001b[0;34m[\u001b[0m\u001b[0mi\u001b[0m\u001b[0;34m]\u001b[0m\u001b[0;34m,\u001b[0m \u001b[0mtpr_d\u001b[0m\u001b[0;34m[\u001b[0m\u001b[0mi\u001b[0m\u001b[0;34m]\u001b[0m\u001b[0;34m)\u001b[0m\u001b[0;34m\u001b[0m\u001b[0;34m\u001b[0m\u001b[0m\n\u001b[0m\u001b[1;32m     12\u001b[0m \u001b[0;34m\u001b[0m\u001b[0m\n\u001b[1;32m     13\u001b[0m \u001b[0;31m# Compute micro-average ROC curve and ROC area\u001b[0m\u001b[0;34m\u001b[0m\u001b[0;34m\u001b[0m\u001b[0;34m\u001b[0m\u001b[0m\n",
      "\u001b[0;32m~/anaconda/envs/insight/lib/python3.6/site-packages/sklearn/metrics/_ranking.py\u001b[0m in \u001b[0;36mauc\u001b[0;34m(x, y)\u001b[0m\n\u001b[1;32m     76\u001b[0m         \u001b[0mCompute\u001b[0m \u001b[0mprecision\u001b[0m\u001b[0;34m-\u001b[0m\u001b[0mrecall\u001b[0m \u001b[0mpairs\u001b[0m \u001b[0;32mfor\u001b[0m \u001b[0mdifferent\u001b[0m \u001b[0mprobability\u001b[0m \u001b[0mthresholds\u001b[0m\u001b[0;34m\u001b[0m\u001b[0;34m\u001b[0m\u001b[0m\n\u001b[1;32m     77\u001b[0m     \"\"\"\n\u001b[0;32m---> 78\u001b[0;31m     \u001b[0mcheck_consistent_length\u001b[0m\u001b[0;34m(\u001b[0m\u001b[0mx\u001b[0m\u001b[0;34m,\u001b[0m \u001b[0my\u001b[0m\u001b[0;34m)\u001b[0m\u001b[0;34m\u001b[0m\u001b[0;34m\u001b[0m\u001b[0m\n\u001b[0m\u001b[1;32m     79\u001b[0m     \u001b[0mx\u001b[0m \u001b[0;34m=\u001b[0m \u001b[0mcolumn_or_1d\u001b[0m\u001b[0;34m(\u001b[0m\u001b[0mx\u001b[0m\u001b[0;34m)\u001b[0m\u001b[0;34m\u001b[0m\u001b[0;34m\u001b[0m\u001b[0m\n\u001b[1;32m     80\u001b[0m     \u001b[0my\u001b[0m \u001b[0;34m=\u001b[0m \u001b[0mcolumn_or_1d\u001b[0m\u001b[0;34m(\u001b[0m\u001b[0my\u001b[0m\u001b[0;34m)\u001b[0m\u001b[0;34m\u001b[0m\u001b[0;34m\u001b[0m\u001b[0m\n",
      "\u001b[0;32m~/anaconda/envs/insight/lib/python3.6/site-packages/sklearn/utils/validation.py\u001b[0m in \u001b[0;36mcheck_consistent_length\u001b[0;34m(*arrays)\u001b[0m\n\u001b[1;32m    206\u001b[0m     \"\"\"\n\u001b[1;32m    207\u001b[0m \u001b[0;34m\u001b[0m\u001b[0m\n\u001b[0;32m--> 208\u001b[0;31m     \u001b[0mlengths\u001b[0m \u001b[0;34m=\u001b[0m \u001b[0;34m[\u001b[0m\u001b[0m_num_samples\u001b[0m\u001b[0;34m(\u001b[0m\u001b[0mX\u001b[0m\u001b[0;34m)\u001b[0m \u001b[0;32mfor\u001b[0m \u001b[0mX\u001b[0m \u001b[0;32min\u001b[0m \u001b[0marrays\u001b[0m \u001b[0;32mif\u001b[0m \u001b[0mX\u001b[0m \u001b[0;32mis\u001b[0m \u001b[0;32mnot\u001b[0m \u001b[0;32mNone\u001b[0m\u001b[0;34m]\u001b[0m\u001b[0;34m\u001b[0m\u001b[0;34m\u001b[0m\u001b[0m\n\u001b[0m\u001b[1;32m    209\u001b[0m     \u001b[0muniques\u001b[0m \u001b[0;34m=\u001b[0m \u001b[0mnp\u001b[0m\u001b[0;34m.\u001b[0m\u001b[0munique\u001b[0m\u001b[0;34m(\u001b[0m\u001b[0mlengths\u001b[0m\u001b[0;34m)\u001b[0m\u001b[0;34m\u001b[0m\u001b[0;34m\u001b[0m\u001b[0m\n\u001b[1;32m    210\u001b[0m     \u001b[0;32mif\u001b[0m \u001b[0mlen\u001b[0m\u001b[0;34m(\u001b[0m\u001b[0muniques\u001b[0m\u001b[0;34m)\u001b[0m \u001b[0;34m>\u001b[0m \u001b[0;36m1\u001b[0m\u001b[0;34m:\u001b[0m\u001b[0;34m\u001b[0m\u001b[0;34m\u001b[0m\u001b[0m\n",
      "\u001b[0;32m~/anaconda/envs/insight/lib/python3.6/site-packages/sklearn/utils/validation.py\u001b[0m in \u001b[0;36m<listcomp>\u001b[0;34m(.0)\u001b[0m\n\u001b[1;32m    206\u001b[0m     \"\"\"\n\u001b[1;32m    207\u001b[0m \u001b[0;34m\u001b[0m\u001b[0m\n\u001b[0;32m--> 208\u001b[0;31m     \u001b[0mlengths\u001b[0m \u001b[0;34m=\u001b[0m \u001b[0;34m[\u001b[0m\u001b[0m_num_samples\u001b[0m\u001b[0;34m(\u001b[0m\u001b[0mX\u001b[0m\u001b[0;34m)\u001b[0m \u001b[0;32mfor\u001b[0m \u001b[0mX\u001b[0m \u001b[0;32min\u001b[0m \u001b[0marrays\u001b[0m \u001b[0;32mif\u001b[0m \u001b[0mX\u001b[0m \u001b[0;32mis\u001b[0m \u001b[0;32mnot\u001b[0m \u001b[0;32mNone\u001b[0m\u001b[0;34m]\u001b[0m\u001b[0;34m\u001b[0m\u001b[0;34m\u001b[0m\u001b[0m\n\u001b[0m\u001b[1;32m    209\u001b[0m     \u001b[0muniques\u001b[0m \u001b[0;34m=\u001b[0m \u001b[0mnp\u001b[0m\u001b[0;34m.\u001b[0m\u001b[0munique\u001b[0m\u001b[0;34m(\u001b[0m\u001b[0mlengths\u001b[0m\u001b[0;34m)\u001b[0m\u001b[0;34m\u001b[0m\u001b[0;34m\u001b[0m\u001b[0m\n\u001b[1;32m    210\u001b[0m     \u001b[0;32mif\u001b[0m \u001b[0mlen\u001b[0m\u001b[0;34m(\u001b[0m\u001b[0muniques\u001b[0m\u001b[0;34m)\u001b[0m \u001b[0;34m>\u001b[0m \u001b[0;36m1\u001b[0m\u001b[0;34m:\u001b[0m\u001b[0;34m\u001b[0m\u001b[0;34m\u001b[0m\u001b[0m\n",
      "\u001b[0;32m~/anaconda/envs/insight/lib/python3.6/site-packages/sklearn/utils/validation.py\u001b[0m in \u001b[0;36m_num_samples\u001b[0;34m(x)\u001b[0m\n\u001b[1;32m    150\u001b[0m         \u001b[0;32mif\u001b[0m \u001b[0mlen\u001b[0m\u001b[0;34m(\u001b[0m\u001b[0mx\u001b[0m\u001b[0;34m.\u001b[0m\u001b[0mshape\u001b[0m\u001b[0;34m)\u001b[0m \u001b[0;34m==\u001b[0m \u001b[0;36m0\u001b[0m\u001b[0;34m:\u001b[0m\u001b[0;34m\u001b[0m\u001b[0;34m\u001b[0m\u001b[0m\n\u001b[1;32m    151\u001b[0m             raise TypeError(\"Singleton array %r cannot be considered\"\n\u001b[0;32m--> 152\u001b[0;31m                             \" a valid collection.\" % x)\n\u001b[0m\u001b[1;32m    153\u001b[0m         \u001b[0;31m# Check that shape is returning an integer or default to len\u001b[0m\u001b[0;34m\u001b[0m\u001b[0;34m\u001b[0m\u001b[0;34m\u001b[0m\u001b[0m\n\u001b[1;32m    154\u001b[0m         \u001b[0;31m# Dask dataframes may not return numeric shape[0] value\u001b[0m\u001b[0;34m\u001b[0m\u001b[0;34m\u001b[0m\u001b[0;34m\u001b[0m\u001b[0m\n",
      "\u001b[0;31mTypeError\u001b[0m: Singleton array 0.0 cannot be considered a valid collection."
     ]
    },
    {
     "data": {
      "application/javascript": [
       "\n",
       "            setTimeout(function() {\n",
       "                var nbb_cell_id = 633;\n",
       "                var nbb_unformatted_code = \"# Compute ROC curve and ROC area for each class\\nfpr_d = dict()\\ntpr_d = dict()\\nroc_auc = dict()\\nfor i in range(2):\\n    #     fpr[i], tpr[i], _ = roc_curve(\\n    #         df_eval_1M[\\\"test\\\"].iloc[i], df_eval_1M[\\\"pred\\\"].iloc[i]\\n    #     )\\n    fpr_d[i], tpr_d[i] = fpr[i], tpr[i]\\n\\n    roc_auc[i] = auc(fpr_d[i], tpr_d[i])\\n\\n# Compute micro-average ROC curve and ROC area\\nfpr_d[\\\"micro\\\"], tpr_d[\\\"micro\\\"], _ = roc_curve(\\n    df_eval_1M[\\\"test\\\"].ravel(), df_eval_1M[\\\"pred\\\"].ravel()\\n)\\nroc_auc[\\\"micro\\\"] = auc(fpr_d[\\\"micro\\\"], tpr_d[\\\"micro\\\"])\";\n",
       "                var nbb_formatted_code = \"# Compute ROC curve and ROC area for each class\\nfpr_d = dict()\\ntpr_d = dict()\\nroc_auc = dict()\\nfor i in range(2):\\n    #     fpr[i], tpr[i], _ = roc_curve(\\n    #         df_eval_1M[\\\"test\\\"].iloc[i], df_eval_1M[\\\"pred\\\"].iloc[i]\\n    #     )\\n    fpr_d[i], tpr_d[i] = fpr[i], tpr[i]\\n\\n    roc_auc[i] = auc(fpr_d[i], tpr_d[i])\\n\\n# Compute micro-average ROC curve and ROC area\\nfpr_d[\\\"micro\\\"], tpr_d[\\\"micro\\\"], _ = roc_curve(\\n    df_eval_1M[\\\"test\\\"].ravel(), df_eval_1M[\\\"pred\\\"].ravel()\\n)\\nroc_auc[\\\"micro\\\"] = auc(fpr_d[\\\"micro\\\"], tpr_d[\\\"micro\\\"])\";\n",
       "                var nbb_cells = Jupyter.notebook.get_cells();\n",
       "                for (var i = 0; i < nbb_cells.length; ++i) {\n",
       "                    if (nbb_cells[i].input_prompt_number == nbb_cell_id) {\n",
       "                        if (nbb_cells[i].get_text() == nbb_unformatted_code) {\n",
       "                             nbb_cells[i].set_text(nbb_formatted_code);\n",
       "                        }\n",
       "                        break;\n",
       "                    }\n",
       "                }\n",
       "            }, 500);\n",
       "            "
      ],
      "text/plain": [
       "<IPython.core.display.Javascript object>"
      ]
     },
     "metadata": {},
     "output_type": "display_data"
    }
   ],
   "source": [
    "# Compute ROC curve and ROC area for each class\n",
    "fpr_d = dict()\n",
    "tpr_d = dict()\n",
    "roc_auc = dict()\n",
    "for i in range(2):\n",
    "    #     fpr[i], tpr[i], _ = roc_curve(\n",
    "    #         df_eval_1M[\"test\"].iloc[i], df_eval_1M[\"pred\"].iloc[i]\n",
    "    #     )\n",
    "    fpr_d[i], tpr_d[i] = fpr[i], tpr[i]\n",
    "\n",
    "    roc_auc[i] = auc(fpr_d[i], tpr_d[i])\n",
    "\n",
    "# Compute micro-average ROC curve and ROC area\n",
    "fpr_d[\"micro\"], tpr_d[\"micro\"], _ = roc_curve(\n",
    "    df_eval_1M[\"test\"].ravel(), df_eval_1M[\"pred\"].ravel()\n",
    ")\n",
    "roc_auc[\"micro\"] = auc(fpr_d[\"micro\"], tpr_d[\"micro\"])"
   ]
  },
  {
   "cell_type": "code",
   "execution_count": null,
   "metadata": {},
   "outputs": [],
   "source": []
  }
 ],
 "metadata": {
  "kernelspec": {
   "display_name": "Python 3",
   "language": "python",
   "name": "python3"
  },
  "language_info": {
   "codemirror_mode": {
    "name": "ipython",
    "version": 3
   },
   "file_extension": ".py",
   "mimetype": "text/x-python",
   "name": "python",
   "nbconvert_exporter": "python",
   "pygments_lexer": "ipython3",
   "version": "3.6.9"
  },
  "toc": {
   "base_numbering": 1,
   "nav_menu": {},
   "number_sections": true,
   "sideBar": true,
   "skip_h1_title": false,
   "title_cell": "Table of Contents",
   "title_sidebar": "Contents",
   "toc_cell": false,
   "toc_position": {
    "height": "calc(100% - 180px)",
    "left": "10px",
    "top": "150px",
    "width": "194.03750610351562px"
   },
   "toc_section_display": true,
   "toc_window_display": true
  },
  "varInspector": {
   "cols": {
    "lenName": 16,
    "lenType": 16,
    "lenVar": 40
   },
   "kernels_config": {
    "python": {
     "delete_cmd_postfix": "",
     "delete_cmd_prefix": "del ",
     "library": "var_list.py",
     "varRefreshCmd": "print(var_dic_list())"
    },
    "r": {
     "delete_cmd_postfix": ") ",
     "delete_cmd_prefix": "rm(",
     "library": "var_list.r",
     "varRefreshCmd": "cat(var_dic_list()) "
    }
   },
   "types_to_exclude": [
    "module",
    "function",
    "builtin_function_or_method",
    "instance",
    "_Feature"
   ],
   "window_display": false
  }
 },
 "nbformat": 4,
 "nbformat_minor": 2
}
