{
 "cells": [
  {
   "cell_type": "markdown",
   "metadata": {},
   "source": [
    "**How to identify position players on a given date?**\n",
    "\n",
    "**Problem:**\n",
    "<br>\n",
    "In daily fantasy baseball, a participant sets up their team against another player of their league. Some position players are stars and should play nearly all the time, but often a position is shared between other players on your roster. How do you choose which platooning player to start (especially if there is a limited sample size for the batter facing that pitcher)?\n",
    "\n",
    "**Strategy:**\n",
    "<br>\n",
    "- Focus on features of the batter (e.g. historical batting average) and pitcher (e.g. historical ERA, WHIP) to predict whether the batter would output a hit (or HR, single, double, etc.) in a given batter-pitcher at-bat matchup.\n",
    "\n",
    "- If you choose a given date (e.g. May 9), you know the starting pitcher a batter would face. Use data to build a model taht predicts how well a batter would do against the pitcher as a guide for a decision. (Lower priority: If the matchup for a particular batter-pitcher is small, find similar players to serve as a guide. Similar players can be found by using Erdos score.)\n",
    "\n",
    "- How do I know if my strategy is improved over other models? Look at which player one would choose from a simple player ranking.\n",
    "\n",
    "- Validation: Historical data\n",
    "\n",
    "This notebook was created within my \"insight\" virtual environment."
   ]
  },
  {
   "cell_type": "markdown",
   "metadata": {},
   "source": [
    "**Inputs and outputs**\n",
    "\n",
    "*Version 1:*\n",
    "- Input: Two players under consideration for one position and a date of interest (2019 season for historical validation).\n",
    "- Output: Player recommendation for that position with a predicted score.\n",
    "\n",
    "*Version 2:*\n",
    "- Input: A participant's player roster (e.g. 20 players)\n",
    "- Output: A recommended lineup."
   ]
  },
  {
   "cell_type": "markdown",
   "metadata": {},
   "source": [
    "Order of features of product to incorporate: (still to be determined)\n",
    "\n",
    "0.  Try a simple model where each at-bat batter-pitcher matchup is simply its own row and selected features are done. (DONE)\n",
    "1.\tRoster’s “basic” baseball statistics from 2018 season? Or 50 games (including previous season) - (minimum viable product level) (DONE)\n",
    "2.\tSpecific matchup against that pitcher - “basic” baseball statistics\n",
    "3.\tRoster’s statcast statistics from last 50 games (including previous season) (DONE)\n",
    "4.\tLimit to more recent performance (last 100 at-bats games - dataframe for model does 200 rows)\n",
    "5.\tWeather, park effects, team defense, night/day, lineup order\n",
    "6. Use batted ball characteristics as a feature of player and pitcher (launch angle average, launch speed average)\n",
    "7.\tUse of player similarity (lower priority)\n",
    "\n",
    "Similar idea\n",
    "https://community.fangraphs.com/the-outcome-machine-predicting-at-bats-before-they-happen/\n",
    "\n",
    "\n",
    "EDA, do HR over time and by date for each player\n"
   ]
  },
  {
   "cell_type": "markdown",
   "metadata": {},
   "source": [
    "**Product pitch**\n",
    "\n",
    "I'm creating a fantasy baseball application that suggests players on a given day. Fantasy baseball has over 11 million participants with the winners of leagues collecting entry fees and host platforms receiving a commission. The projected market for fantasy baseball in 2020 is over 8 billion dollars. A participant's success depends in part on daily player selection. For player selection, participants must rely on their own research or use a site's recommendation, which uses black-box algorithms behind pay walls. I'm developing an alternative algorithm to assist in player selection to save participants time and expose the important features in player performance prediction."
   ]
  },
  {
   "cell_type": "markdown",
   "metadata": {},
   "source": [
    "# Ideas\n",
    "\n",
    "- Will hit happen based on pitch count\n",
    "- Use last 100 at-bats from the date of interest.\n",
    "- Use Bayesian?\n",
    "- EDA  - plot someone's hits over game-dates as a time series\n",
    "- Look at the player's last 100 hits \n",
    "\n",
    "Other:\n",
    "- Use all info for at-bat and then do backwards selection.\n",
    "\n",
    "**Motivation: Learning analytics requries some skills I can develop here**"
   ]
  },
  {
   "cell_type": "markdown",
   "metadata": {},
   "source": [
    "# Setup"
   ]
  },
  {
   "cell_type": "code",
   "execution_count": 1,
   "metadata": {
    "ExecuteTime": {
     "end_time": "2020-01-30T04:11:53.962117Z",
     "start_time": "2020-01-30T04:11:47.997021Z"
    }
   },
   "outputs": [],
   "source": [
    "import os\n",
    "import numpy as np\n",
    "import pandas as pd\n",
    "import matplotlib\n",
    "import matplotlib.pyplot as plt\n",
    "import seaborn as sns\n",
    "import sklearn\n",
    "\n",
    "from termcolor import colored\n",
    "\n",
    "# Web/database stuff\n",
    "import urllib.request\n",
    "import xml.etree.ElementTree as ET\n",
    "from bs4 import BeautifulSoup\n",
    "\n",
    "# Multiprocessing/threading\n",
    "import multiprocess\n",
    "import threading\n",
    "from threading import Thread"
   ]
  },
  {
   "cell_type": "code",
   "execution_count": 2,
   "metadata": {
    "ExecuteTime": {
     "end_time": "2020-01-30T04:11:55.816775Z",
     "start_time": "2020-01-30T04:11:53.981084Z"
    }
   },
   "outputs": [],
   "source": [
    "# Web/database stuff\n",
    "# import urllib.request\n",
    "# import xml.etree.ElementTree as ET\n",
    "# from bs4 import BeautifulSoup\n",
    "import sqlalchemy\n",
    "import sqlalchemy_utils\n",
    "from sqlalchemy import create_engine\n",
    "from sqlalchemy_utils import database_exists, create_database\n",
    "import psycopg2\n",
    "\n",
    "# Multiprocessing/threading\n",
    "import multiprocess\n",
    "import threading   # included in base"
   ]
  },
  {
   "cell_type": "code",
   "execution_count": 3,
   "metadata": {
    "ExecuteTime": {
     "end_time": "2020-01-30T04:11:55.841721Z",
     "start_time": "2020-01-30T04:11:55.835657Z"
    }
   },
   "outputs": [],
   "source": [
    "# Stats\n",
    "from scipy.stats import mannwhitneyu\n",
    "from scipy.stats import ttest_ind"
   ]
  },
  {
   "cell_type": "code",
   "execution_count": 4,
   "metadata": {
    "ExecuteTime": {
     "end_time": "2020-01-30T04:11:56.144995Z",
     "start_time": "2020-01-30T04:11:55.863913Z"
    }
   },
   "outputs": [],
   "source": [
    "# ML\n",
    "from sklearn.linear_model import LogisticRegression\n",
    "from sklearn.preprocessing import StandardScaler\n",
    "from sklearn.model_selection import train_test_split\n",
    "from sklearn import metrics\n",
    "from sklearn.metrics import accuracy_score\n",
    "from sklearn.metrics import classification_report"
   ]
  },
  {
   "cell_type": "code",
   "execution_count": 5,
   "metadata": {
    "ExecuteTime": {
     "end_time": "2020-01-30T04:11:56.175094Z",
     "start_time": "2020-01-30T04:11:56.164897Z"
    }
   },
   "outputs": [
    {
     "name": "stdout",
     "output_type": "stream",
     "text": [
      "numpy:  1.17.4\n",
      "pandas:  0.25.3\n",
      "matplotlib:  3.1.1\n",
      "seaborn:  0.9.0\n",
      "sklearn:  0.22\n",
      "psycopg2:  2.8.4 (dt dec pq3 ext lo64)\n",
      "sqlalchemy:  1.3.11\n",
      "sqlalchemy_utils:  0.36.1\n",
      "multiprocess:  0.70.9\n"
     ]
    }
   ],
   "source": [
    "# Check versioning\n",
    "print('numpy: ', np.__version__)\n",
    "print('pandas: ', pd.__version__)\n",
    "print('matplotlib: ', matplotlib.__version__)\n",
    "print('seaborn: ', sns.__version__)\n",
    "print('sklearn: ', sklearn.__version__)\n",
    "\n",
    "print('psycopg2: ', psycopg2.__version__)\n",
    "print('sqlalchemy: ', sqlalchemy.__version__)\n",
    "print('sqlalchemy_utils: ', sqlalchemy_utils.__version__)\n",
    "print('multiprocess: ', multiprocess.__version__)"
   ]
  },
  {
   "cell_type": "code",
   "execution_count": 6,
   "metadata": {
    "ExecuteTime": {
     "end_time": "2020-01-30T04:11:57.911870Z",
     "start_time": "2020-01-30T04:11:57.508438Z"
    }
   },
   "outputs": [
    {
     "data": {
      "application/javascript": [
       "\n",
       "            setTimeout(function() {\n",
       "                var nbb_cell_id = 6;\n",
       "                var nbb_unformatted_code = \"# Code formatting with Jupyter black\\n%load_ext nb_black\";\n",
       "                var nbb_formatted_code = \"# Code formatting with Jupyter black\\n%load_ext nb_black\";\n",
       "                var nbb_cells = Jupyter.notebook.get_cells();\n",
       "                for (var i = 0; i < nbb_cells.length; ++i) {\n",
       "                    if (nbb_cells[i].input_prompt_number == nbb_cell_id) {\n",
       "                        if (nbb_cells[i].get_text() == nbb_unformatted_code) {\n",
       "                             nbb_cells[i].set_text(nbb_formatted_code);\n",
       "                        }\n",
       "                        break;\n",
       "                    }\n",
       "                }\n",
       "            }, 500);\n",
       "            "
      ],
      "text/plain": [
       "<IPython.core.display.Javascript object>"
      ]
     },
     "metadata": {},
     "output_type": "display_data"
    }
   ],
   "source": [
    "# Code formatting with Jupyter black\n",
    "%load_ext nb_black"
   ]
  },
  {
   "cell_type": "code",
   "execution_count": 7,
   "metadata": {
    "ExecuteTime": {
     "end_time": "2020-01-30T04:11:58.769134Z",
     "start_time": "2020-01-30T04:11:58.515325Z"
    }
   },
   "outputs": [
    {
     "data": {
      "application/javascript": [
       "\n",
       "            setTimeout(function() {\n",
       "                var nbb_cell_id = 7;\n",
       "                var nbb_unformatted_code = \"from pybaseball import pitching_stats\\nfrom pybaseball import batting_stats\\nfrom pybaseball import statcast_pitcher\\nfrom pybaseball import playerid_lookup\\nfrom pybaseball import statcast\\nfrom pybaseball import playerid_reverse_lookup\";\n",
       "                var nbb_formatted_code = \"from pybaseball import pitching_stats\\nfrom pybaseball import batting_stats\\nfrom pybaseball import statcast_pitcher\\nfrom pybaseball import playerid_lookup\\nfrom pybaseball import statcast\\nfrom pybaseball import playerid_reverse_lookup\";\n",
       "                var nbb_cells = Jupyter.notebook.get_cells();\n",
       "                for (var i = 0; i < nbb_cells.length; ++i) {\n",
       "                    if (nbb_cells[i].input_prompt_number == nbb_cell_id) {\n",
       "                        if (nbb_cells[i].get_text() == nbb_unformatted_code) {\n",
       "                             nbb_cells[i].set_text(nbb_formatted_code);\n",
       "                        }\n",
       "                        break;\n",
       "                    }\n",
       "                }\n",
       "            }, 500);\n",
       "            "
      ],
      "text/plain": [
       "<IPython.core.display.Javascript object>"
      ]
     },
     "metadata": {},
     "output_type": "display_data"
    }
   ],
   "source": [
    "from pybaseball import pitching_stats\n",
    "from pybaseball import batting_stats\n",
    "from pybaseball import statcast_pitcher\n",
    "from pybaseball import playerid_lookup\n",
    "from pybaseball import statcast\n",
    "from pybaseball import playerid_reverse_lookup"
   ]
  },
  {
   "cell_type": "markdown",
   "metadata": {
    "ExecuteTime": {
     "end_time": "2020-01-25T23:36:27.350958Z",
     "start_time": "2020-01-25T23:36:27.343990Z"
    }
   },
   "source": [
    "# Database info"
   ]
  },
  {
   "cell_type": "code",
   "execution_count": 8,
   "metadata": {
    "ExecuteTime": {
     "end_time": "2020-01-30T04:12:00.932037Z",
     "start_time": "2020-01-30T04:12:00.921376Z"
    }
   },
   "outputs": [
    {
     "data": {
      "application/javascript": [
       "\n",
       "            setTimeout(function() {\n",
       "                var nbb_cell_id = 8;\n",
       "                var nbb_unformatted_code = \"# Define a database name\\n# Set your postgres username\\ndbname = \\\"baseball\\\"\\nusername = \\\"lacar\\\"  # change this to your username\";\n",
       "                var nbb_formatted_code = \"# Define a database name\\n# Set your postgres username\\ndbname = \\\"baseball\\\"\\nusername = \\\"lacar\\\"  # change this to your username\";\n",
       "                var nbb_cells = Jupyter.notebook.get_cells();\n",
       "                for (var i = 0; i < nbb_cells.length; ++i) {\n",
       "                    if (nbb_cells[i].input_prompt_number == nbb_cell_id) {\n",
       "                        if (nbb_cells[i].get_text() == nbb_unformatted_code) {\n",
       "                             nbb_cells[i].set_text(nbb_formatted_code);\n",
       "                        }\n",
       "                        break;\n",
       "                    }\n",
       "                }\n",
       "            }, 500);\n",
       "            "
      ],
      "text/plain": [
       "<IPython.core.display.Javascript object>"
      ]
     },
     "metadata": {},
     "output_type": "display_data"
    }
   ],
   "source": [
    "# Define a database name\n",
    "# Set your postgres username\n",
    "dbname = \"baseball\"\n",
    "username = \"lacar\"  # change this to your username"
   ]
  },
  {
   "cell_type": "code",
   "execution_count": 9,
   "metadata": {
    "ExecuteTime": {
     "end_time": "2020-01-30T04:12:02.811901Z",
     "start_time": "2020-01-30T04:12:02.797749Z"
    }
   },
   "outputs": [
    {
     "name": "stdout",
     "output_type": "stream",
     "text": [
      "postgres://lacar@localhost/baseball\n"
     ]
    },
    {
     "data": {
      "application/javascript": [
       "\n",
       "            setTimeout(function() {\n",
       "                var nbb_cell_id = 9;\n",
       "                var nbb_unformatted_code = \"## 'engine' is a connection to a database\\n## Here, we're using postgres, but sqlalchemy can connect to other things too.\\nengine = create_engine(\\\"postgres://%s@localhost/%s\\\" % (username, dbname))\\nprint(engine.url)\";\n",
       "                var nbb_formatted_code = \"## 'engine' is a connection to a database\\n## Here, we're using postgres, but sqlalchemy can connect to other things too.\\nengine = create_engine(\\\"postgres://%s@localhost/%s\\\" % (username, dbname))\\nprint(engine.url)\";\n",
       "                var nbb_cells = Jupyter.notebook.get_cells();\n",
       "                for (var i = 0; i < nbb_cells.length; ++i) {\n",
       "                    if (nbb_cells[i].input_prompt_number == nbb_cell_id) {\n",
       "                        if (nbb_cells[i].get_text() == nbb_unformatted_code) {\n",
       "                             nbb_cells[i].set_text(nbb_formatted_code);\n",
       "                        }\n",
       "                        break;\n",
       "                    }\n",
       "                }\n",
       "            }, 500);\n",
       "            "
      ],
      "text/plain": [
       "<IPython.core.display.Javascript object>"
      ]
     },
     "metadata": {},
     "output_type": "display_data"
    }
   ],
   "source": [
    "## 'engine' is a connection to a database\n",
    "## Here, we're using postgres, but sqlalchemy can connect to other things too.\n",
    "engine = create_engine(\"postgres://%s@localhost/%s\" % (username, dbname))\n",
    "print(engine.url)"
   ]
  },
  {
   "cell_type": "markdown",
   "metadata": {
    "ExecuteTime": {
     "end_time": "2020-01-25T23:37:21.428885Z",
     "start_time": "2020-01-25T23:37:21.423228Z"
    }
   },
   "source": [
    "**Statcast data to database**\n",
    "<br>\n",
    "(done already, see previous versions of notebooks)"
   ]
  },
  {
   "cell_type": "code",
   "execution_count": 10,
   "metadata": {
    "ExecuteTime": {
     "end_time": "2020-01-30T04:12:05.318684Z",
     "start_time": "2020-01-30T04:12:05.313125Z"
    }
   },
   "outputs": [
    {
     "data": {
      "application/javascript": [
       "\n",
       "            setTimeout(function() {\n",
       "                var nbb_cell_id = 10;\n",
       "                var nbb_unformatted_code = \"## create a database (if it doesn't exist)\\n# if not database_exists(engine.url):\\n#     create_database(engine.url)\\n# print(database_exists(engine.url))\";\n",
       "                var nbb_formatted_code = \"## create a database (if it doesn't exist)\\n# if not database_exists(engine.url):\\n#     create_database(engine.url)\\n# print(database_exists(engine.url))\";\n",
       "                var nbb_cells = Jupyter.notebook.get_cells();\n",
       "                for (var i = 0; i < nbb_cells.length; ++i) {\n",
       "                    if (nbb_cells[i].input_prompt_number == nbb_cell_id) {\n",
       "                        if (nbb_cells[i].get_text() == nbb_unformatted_code) {\n",
       "                             nbb_cells[i].set_text(nbb_formatted_code);\n",
       "                        }\n",
       "                        break;\n",
       "                    }\n",
       "                }\n",
       "            }, 500);\n",
       "            "
      ],
      "text/plain": [
       "<IPython.core.display.Javascript object>"
      ]
     },
     "metadata": {},
     "output_type": "display_data"
    }
   ],
   "source": [
    "## create a database (if it doesn't exist)\n",
    "# if not database_exists(engine.url):\n",
    "#     create_database(engine.url)\n",
    "# print(database_exists(engine.url))"
   ]
  },
  {
   "cell_type": "code",
   "execution_count": 11,
   "metadata": {
    "ExecuteTime": {
     "end_time": "2020-01-30T04:12:07.279979Z",
     "start_time": "2020-01-30T04:12:07.272493Z"
    }
   },
   "outputs": [
    {
     "data": {
      "application/javascript": [
       "\n",
       "            setTimeout(function() {\n",
       "                var nbb_cell_id = 11;\n",
       "                var nbb_unformatted_code = \"# This is done, but note it's out of order\\n\\n# date_list = [\\n#     (\\\"2019-03-20\\\", \\\"2019-09-29\\\"),\\n#     (\\\"2018-03-29\\\", \\\"2018-10-01\\\"),\\n#     (\\\"2017-04-02\\\", \\\"2017-10-01\\\"),\\n# ]\\n\\n# Above gave **2,174,906** pitch-by-pitch results in the database\\n\\n#     (\\\"2016-04-03\\\", \\\"2016-10-02\\\"),   # didn't get\\n#     (\\\"2015-04-05\\\", \\\"2015-10-04\\\"),   # didn't get \\n\\n\\n# for i, date_pair in enumerate(date_list):\\n#     if i < 1:\\n#         df_sc = statcast(date_pair[0], date_pair[1])\\n#         df_sc.to_sql(\\\"statcast\\\", engine, if_exists=\\\"replace\\\")\\n#         print(date_pair, \\\"replace mode\\\")\\n#     else:\\n#         df_sc = statcast(date_pair[0], date_pair[1])\\n#         df_sc.to_sql(\\\"statcast\\\", engine, if_exists=\\\"append\\\")\\n#         print(date_pair, \\\"append mode\\\")\";\n",
       "                var nbb_formatted_code = \"# This is done, but note it's out of order\\n\\n# date_list = [\\n#     (\\\"2019-03-20\\\", \\\"2019-09-29\\\"),\\n#     (\\\"2018-03-29\\\", \\\"2018-10-01\\\"),\\n#     (\\\"2017-04-02\\\", \\\"2017-10-01\\\"),\\n# ]\\n\\n# Above gave **2,174,906** pitch-by-pitch results in the database\\n\\n#     (\\\"2016-04-03\\\", \\\"2016-10-02\\\"),   # didn't get\\n#     (\\\"2015-04-05\\\", \\\"2015-10-04\\\"),   # didn't get\\n\\n\\n# for i, date_pair in enumerate(date_list):\\n#     if i < 1:\\n#         df_sc = statcast(date_pair[0], date_pair[1])\\n#         df_sc.to_sql(\\\"statcast\\\", engine, if_exists=\\\"replace\\\")\\n#         print(date_pair, \\\"replace mode\\\")\\n#     else:\\n#         df_sc = statcast(date_pair[0], date_pair[1])\\n#         df_sc.to_sql(\\\"statcast\\\", engine, if_exists=\\\"append\\\")\\n#         print(date_pair, \\\"append mode\\\")\";\n",
       "                var nbb_cells = Jupyter.notebook.get_cells();\n",
       "                for (var i = 0; i < nbb_cells.length; ++i) {\n",
       "                    if (nbb_cells[i].input_prompt_number == nbb_cell_id) {\n",
       "                        if (nbb_cells[i].get_text() == nbb_unformatted_code) {\n",
       "                             nbb_cells[i].set_text(nbb_formatted_code);\n",
       "                        }\n",
       "                        break;\n",
       "                    }\n",
       "                }\n",
       "            }, 500);\n",
       "            "
      ],
      "text/plain": [
       "<IPython.core.display.Javascript object>"
      ]
     },
     "metadata": {},
     "output_type": "display_data"
    }
   ],
   "source": [
    "# This is done, but note it's out of order\n",
    "\n",
    "# date_list = [\n",
    "#     (\"2019-03-20\", \"2019-09-29\"),\n",
    "#     (\"2018-03-29\", \"2018-10-01\"),\n",
    "#     (\"2017-04-02\", \"2017-10-01\"),\n",
    "# ]\n",
    "\n",
    "# Above gave **2,174,906** pitch-by-pitch results in the database\n",
    "\n",
    "#     (\"2016-04-03\", \"2016-10-02\"),   # didn't get\n",
    "#     (\"2015-04-05\", \"2015-10-04\"),   # didn't get\n",
    "\n",
    "\n",
    "# for i, date_pair in enumerate(date_list):\n",
    "#     if i < 1:\n",
    "#         df_sc = statcast(date_pair[0], date_pair[1])\n",
    "#         df_sc.to_sql(\"statcast\", engine, if_exists=\"replace\")\n",
    "#         print(date_pair, \"replace mode\")\n",
    "#     else:\n",
    "#         df_sc = statcast(date_pair[0], date_pair[1])\n",
    "#         df_sc.to_sql(\"statcast\", engine, if_exists=\"append\")\n",
    "#         print(date_pair, \"append mode\")"
   ]
  },
  {
   "cell_type": "code",
   "execution_count": 12,
   "metadata": {
    "ExecuteTime": {
     "end_time": "2020-01-30T04:12:07.950444Z",
     "start_time": "2020-01-30T04:12:07.910632Z"
    }
   },
   "outputs": [
    {
     "data": {
      "application/javascript": [
       "\n",
       "            setTimeout(function() {\n",
       "                var nbb_cell_id = 12;\n",
       "                var nbb_unformatted_code = \"# Working with PostgreSQL in Python\\n# Connect to make queries using psycopg2\\ncon = None\\ncon = psycopg2.connect(database=dbname, user=username)\";\n",
       "                var nbb_formatted_code = \"# Working with PostgreSQL in Python\\n# Connect to make queries using psycopg2\\ncon = None\\ncon = psycopg2.connect(database=dbname, user=username)\";\n",
       "                var nbb_cells = Jupyter.notebook.get_cells();\n",
       "                for (var i = 0; i < nbb_cells.length; ++i) {\n",
       "                    if (nbb_cells[i].input_prompt_number == nbb_cell_id) {\n",
       "                        if (nbb_cells[i].get_text() == nbb_unformatted_code) {\n",
       "                             nbb_cells[i].set_text(nbb_formatted_code);\n",
       "                        }\n",
       "                        break;\n",
       "                    }\n",
       "                }\n",
       "            }, 500);\n",
       "            "
      ],
      "text/plain": [
       "<IPython.core.display.Javascript object>"
      ]
     },
     "metadata": {},
     "output_type": "display_data"
    }
   ],
   "source": [
    "# Working with PostgreSQL in Python\n",
    "# Connect to make queries using psycopg2\n",
    "con = None\n",
    "con = psycopg2.connect(database=dbname, user=username)"
   ]
  },
  {
   "cell_type": "markdown",
   "metadata": {},
   "source": [
    "See other notebook for more info\n",
    "\n"
   ]
  },
  {
   "cell_type": "code",
   "execution_count": 13,
   "metadata": {
    "ExecuteTime": {
     "end_time": "2020-01-30T04:12:09.601246Z",
     "start_time": "2020-01-30T04:12:09.534278Z"
    }
   },
   "outputs": [
    {
     "data": {
      "application/javascript": [
       "\n",
       "            setTimeout(function() {\n",
       "                var nbb_cell_id = 13;\n",
       "                var nbb_unformatted_code = \"# Get player id\\nsql_query = \\\"\\\"\\\"\\nSELECT * FROM player_id;\\n\\\"\\\"\\\"\\n\\ndf_player_id = pd.read_sql_query(sql_query, con)\";\n",
       "                var nbb_formatted_code = \"# Get player id\\nsql_query = \\\"\\\"\\\"\\nSELECT * FROM player_id;\\n\\\"\\\"\\\"\\n\\ndf_player_id = pd.read_sql_query(sql_query, con)\";\n",
       "                var nbb_cells = Jupyter.notebook.get_cells();\n",
       "                for (var i = 0; i < nbb_cells.length; ++i) {\n",
       "                    if (nbb_cells[i].input_prompt_number == nbb_cell_id) {\n",
       "                        if (nbb_cells[i].get_text() == nbb_unformatted_code) {\n",
       "                             nbb_cells[i].set_text(nbb_formatted_code);\n",
       "                        }\n",
       "                        break;\n",
       "                    }\n",
       "                }\n",
       "            }, 500);\n",
       "            "
      ],
      "text/plain": [
       "<IPython.core.display.Javascript object>"
      ]
     },
     "metadata": {},
     "output_type": "display_data"
    }
   ],
   "source": [
    "# Get player id\n",
    "sql_query = \"\"\"\n",
    "SELECT * FROM player_id;\n",
    "\"\"\"\n",
    "\n",
    "df_player_id = pd.read_sql_query(sql_query, con)"
   ]
  },
  {
   "cell_type": "code",
   "execution_count": 14,
   "metadata": {
    "ExecuteTime": {
     "end_time": "2020-01-30T04:12:11.410817Z",
     "start_time": "2020-01-30T04:12:11.088368Z"
    }
   },
   "outputs": [
    {
     "data": {
      "application/javascript": [
       "\n",
       "            setTimeout(function() {\n",
       "                var nbb_cell_id = 14;\n",
       "                var nbb_unformatted_code = \"# Batting stats\\n\\nsql_query = \\\"\\\"\\\"\\nSELECT * FROM batting_stats18_wpid;\\n\\\"\\\"\\\"\\n\\ndf_batting_stats_wpid = pd.read_sql_query(sql_query, con)\";\n",
       "                var nbb_formatted_code = \"# Batting stats\\n\\nsql_query = \\\"\\\"\\\"\\nSELECT * FROM batting_stats18_wpid;\\n\\\"\\\"\\\"\\n\\ndf_batting_stats_wpid = pd.read_sql_query(sql_query, con)\";\n",
       "                var nbb_cells = Jupyter.notebook.get_cells();\n",
       "                for (var i = 0; i < nbb_cells.length; ++i) {\n",
       "                    if (nbb_cells[i].input_prompt_number == nbb_cell_id) {\n",
       "                        if (nbb_cells[i].get_text() == nbb_unformatted_code) {\n",
       "                             nbb_cells[i].set_text(nbb_formatted_code);\n",
       "                        }\n",
       "                        break;\n",
       "                    }\n",
       "                }\n",
       "            }, 500);\n",
       "            "
      ],
      "text/plain": [
       "<IPython.core.display.Javascript object>"
      ]
     },
     "metadata": {},
     "output_type": "display_data"
    }
   ],
   "source": [
    "# Batting stats\n",
    "\n",
    "sql_query = \"\"\"\n",
    "SELECT * FROM batting_stats18_wpid;\n",
    "\"\"\"\n",
    "\n",
    "df_batting_stats_wpid = pd.read_sql_query(sql_query, con)"
   ]
  },
  {
   "cell_type": "code",
   "execution_count": 15,
   "metadata": {
    "ExecuteTime": {
     "end_time": "2020-01-30T04:12:12.014741Z",
     "start_time": "2020-01-30T04:12:12.004880Z"
    }
   },
   "outputs": [
    {
     "data": {
      "text/plain": [
       "(955, 300)"
      ]
     },
     "execution_count": 15,
     "metadata": {},
     "output_type": "execute_result"
    },
    {
     "data": {
      "application/javascript": [
       "\n",
       "            setTimeout(function() {\n",
       "                var nbb_cell_id = 15;\n",
       "                var nbb_unformatted_code = \"df_batting_stats_wpid.shape\";\n",
       "                var nbb_formatted_code = \"df_batting_stats_wpid.shape\";\n",
       "                var nbb_cells = Jupyter.notebook.get_cells();\n",
       "                for (var i = 0; i < nbb_cells.length; ++i) {\n",
       "                    if (nbb_cells[i].input_prompt_number == nbb_cell_id) {\n",
       "                        if (nbb_cells[i].get_text() == nbb_unformatted_code) {\n",
       "                             nbb_cells[i].set_text(nbb_formatted_code);\n",
       "                        }\n",
       "                        break;\n",
       "                    }\n",
       "                }\n",
       "            }, 500);\n",
       "            "
      ],
      "text/plain": [
       "<IPython.core.display.Javascript object>"
      ]
     },
     "metadata": {},
     "output_type": "display_data"
    }
   ],
   "source": [
    "df_batting_stats_wpid.shape"
   ]
  },
  {
   "cell_type": "code",
   "execution_count": 16,
   "metadata": {
    "ExecuteTime": {
     "end_time": "2020-01-30T04:12:13.408504Z",
     "start_time": "2020-01-30T04:12:13.370050Z"
    }
   },
   "outputs": [
    {
     "data": {
      "text/html": [
       "<div>\n",
       "<style scoped>\n",
       "    .dataframe tbody tr th:only-of-type {\n",
       "        vertical-align: middle;\n",
       "    }\n",
       "\n",
       "    .dataframe tbody tr th {\n",
       "        vertical-align: top;\n",
       "    }\n",
       "\n",
       "    .dataframe thead th {\n",
       "        text-align: right;\n",
       "    }\n",
       "</style>\n",
       "<table border=\"1\" class=\"dataframe\">\n",
       "  <thead>\n",
       "    <tr style=\"text-align: right;\">\n",
       "      <th></th>\n",
       "      <th>index</th>\n",
       "      <th>index_x</th>\n",
       "      <th>Season</th>\n",
       "      <th>Name</th>\n",
       "      <th>Team</th>\n",
       "      <th>Age</th>\n",
       "      <th>G</th>\n",
       "      <th>AB</th>\n",
       "      <th>PA</th>\n",
       "      <th>H</th>\n",
       "      <th>...</th>\n",
       "      <th>first_name</th>\n",
       "      <th>index_y</th>\n",
       "      <th>name_last</th>\n",
       "      <th>name_first</th>\n",
       "      <th>key_mlbam</th>\n",
       "      <th>key_retro</th>\n",
       "      <th>key_bbref</th>\n",
       "      <th>key_fangraphs</th>\n",
       "      <th>mlb_played_first</th>\n",
       "      <th>mlb_played_last</th>\n",
       "    </tr>\n",
       "  </thead>\n",
       "  <tbody>\n",
       "    <tr>\n",
       "      <th>0</th>\n",
       "      <td>0</td>\n",
       "      <td>63</td>\n",
       "      <td>2018.0</td>\n",
       "      <td>Mookie Betts</td>\n",
       "      <td>Red Sox</td>\n",
       "      <td>25.0</td>\n",
       "      <td>136.0</td>\n",
       "      <td>520.0</td>\n",
       "      <td>614.0</td>\n",
       "      <td>180.0</td>\n",
       "      <td>...</td>\n",
       "      <td>mookie</td>\n",
       "      <td>166</td>\n",
       "      <td>betts</td>\n",
       "      <td>mookie</td>\n",
       "      <td>605141</td>\n",
       "      <td>bettm001</td>\n",
       "      <td>bettsmo01</td>\n",
       "      <td>13611</td>\n",
       "      <td>2014.0</td>\n",
       "      <td>2019.0</td>\n",
       "    </tr>\n",
       "    <tr>\n",
       "      <th>1</th>\n",
       "      <td>1</td>\n",
       "      <td>67</td>\n",
       "      <td>2018.0</td>\n",
       "      <td>Mike Trout</td>\n",
       "      <td>Angels</td>\n",
       "      <td>26.0</td>\n",
       "      <td>140.0</td>\n",
       "      <td>471.0</td>\n",
       "      <td>608.0</td>\n",
       "      <td>147.0</td>\n",
       "      <td>...</td>\n",
       "      <td>mike</td>\n",
       "      <td>1789</td>\n",
       "      <td>trout</td>\n",
       "      <td>mike</td>\n",
       "      <td>545361</td>\n",
       "      <td>troum001</td>\n",
       "      <td>troutmi01</td>\n",
       "      <td>10155</td>\n",
       "      <td>2011.0</td>\n",
       "      <td>2019.0</td>\n",
       "    </tr>\n",
       "    <tr>\n",
       "      <th>2</th>\n",
       "      <td>2</td>\n",
       "      <td>153</td>\n",
       "      <td>2018.0</td>\n",
       "      <td>Jose Ramirez</td>\n",
       "      <td>Indians</td>\n",
       "      <td>25.0</td>\n",
       "      <td>157.0</td>\n",
       "      <td>578.0</td>\n",
       "      <td>698.0</td>\n",
       "      <td>156.0</td>\n",
       "      <td>...</td>\n",
       "      <td>jose</td>\n",
       "      <td>1417</td>\n",
       "      <td>ramirez</td>\n",
       "      <td>jose</td>\n",
       "      <td>542432</td>\n",
       "      <td>ramij004</td>\n",
       "      <td>ramirjo02</td>\n",
       "      <td>10171</td>\n",
       "      <td>2014.0</td>\n",
       "      <td>2018.0</td>\n",
       "    </tr>\n",
       "    <tr>\n",
       "      <th>3</th>\n",
       "      <td>68</td>\n",
       "      <td>38</td>\n",
       "      <td>2018.0</td>\n",
       "      <td>Ryder Jones</td>\n",
       "      <td>Giants</td>\n",
       "      <td>24.0</td>\n",
       "      <td>5.0</td>\n",
       "      <td>8.0</td>\n",
       "      <td>8.0</td>\n",
       "      <td>3.0</td>\n",
       "      <td>...</td>\n",
       "      <td>ryder</td>\n",
       "      <td>903</td>\n",
       "      <td>jones</td>\n",
       "      <td>ryder</td>\n",
       "      <td>624507</td>\n",
       "      <td>joner005</td>\n",
       "      <td>jonesry01</td>\n",
       "      <td>15982</td>\n",
       "      <td>2017.0</td>\n",
       "      <td>2018.0</td>\n",
       "    </tr>\n",
       "    <tr>\n",
       "      <th>4</th>\n",
       "      <td>3</td>\n",
       "      <td>153</td>\n",
       "      <td>2018.0</td>\n",
       "      <td>Jose Ramirez</td>\n",
       "      <td>Indians</td>\n",
       "      <td>25.0</td>\n",
       "      <td>157.0</td>\n",
       "      <td>578.0</td>\n",
       "      <td>698.0</td>\n",
       "      <td>156.0</td>\n",
       "      <td>...</td>\n",
       "      <td>jose</td>\n",
       "      <td>1418</td>\n",
       "      <td>ramirez</td>\n",
       "      <td>jose</td>\n",
       "      <td>608070</td>\n",
       "      <td>ramij003</td>\n",
       "      <td>ramirjo01</td>\n",
       "      <td>13510</td>\n",
       "      <td>2013.0</td>\n",
       "      <td>2019.0</td>\n",
       "    </tr>\n",
       "  </tbody>\n",
       "</table>\n",
       "<p>5 rows × 300 columns</p>\n",
       "</div>"
      ],
      "text/plain": [
       "   index  index_x  Season          Name     Team   Age      G     AB     PA  \\\n",
       "0      0       63  2018.0  Mookie Betts  Red Sox  25.0  136.0  520.0  614.0   \n",
       "1      1       67  2018.0    Mike Trout   Angels  26.0  140.0  471.0  608.0   \n",
       "2      2      153  2018.0  Jose Ramirez  Indians  25.0  157.0  578.0  698.0   \n",
       "3     68       38  2018.0   Ryder Jones   Giants  24.0    5.0    8.0    8.0   \n",
       "4      3      153  2018.0  Jose Ramirez  Indians  25.0  157.0  578.0  698.0   \n",
       "\n",
       "       H  ...  first_name  index_y  name_last  name_first  key_mlbam  \\\n",
       "0  180.0  ...      mookie      166      betts      mookie     605141   \n",
       "1  147.0  ...        mike     1789      trout        mike     545361   \n",
       "2  156.0  ...        jose     1417    ramirez        jose     542432   \n",
       "3    3.0  ...       ryder      903      jones       ryder     624507   \n",
       "4  156.0  ...        jose     1418    ramirez        jose     608070   \n",
       "\n",
       "   key_retro  key_bbref  key_fangraphs  mlb_played_first  mlb_played_last  \n",
       "0   bettm001  bettsmo01          13611            2014.0           2019.0  \n",
       "1   troum001  troutmi01          10155            2011.0           2019.0  \n",
       "2   ramij004  ramirjo02          10171            2014.0           2018.0  \n",
       "3   joner005  jonesry01          15982            2017.0           2018.0  \n",
       "4   ramij003  ramirjo01          13510            2013.0           2019.0  \n",
       "\n",
       "[5 rows x 300 columns]"
      ]
     },
     "execution_count": 16,
     "metadata": {},
     "output_type": "execute_result"
    },
    {
     "data": {
      "application/javascript": [
       "\n",
       "            setTimeout(function() {\n",
       "                var nbb_cell_id = 16;\n",
       "                var nbb_unformatted_code = \"df_batting_stats_wpid.head()\";\n",
       "                var nbb_formatted_code = \"df_batting_stats_wpid.head()\";\n",
       "                var nbb_cells = Jupyter.notebook.get_cells();\n",
       "                for (var i = 0; i < nbb_cells.length; ++i) {\n",
       "                    if (nbb_cells[i].input_prompt_number == nbb_cell_id) {\n",
       "                        if (nbb_cells[i].get_text() == nbb_unformatted_code) {\n",
       "                             nbb_cells[i].set_text(nbb_formatted_code);\n",
       "                        }\n",
       "                        break;\n",
       "                    }\n",
       "                }\n",
       "            }, 500);\n",
       "            "
      ],
      "text/plain": [
       "<IPython.core.display.Javascript object>"
      ]
     },
     "metadata": {},
     "output_type": "display_data"
    }
   ],
   "source": [
    "df_batting_stats_wpid.head()"
   ]
  },
  {
   "cell_type": "code",
   "execution_count": 17,
   "metadata": {
    "ExecuteTime": {
     "end_time": "2020-01-30T04:12:15.638702Z",
     "start_time": "2020-01-30T04:12:15.018613Z"
    }
   },
   "outputs": [
    {
     "data": {
      "application/javascript": [
       "\n",
       "            setTimeout(function() {\n",
       "                var nbb_cell_id = 17;\n",
       "                var nbb_unformatted_code = \"# Pitching stats\\n\\nsql_query = \\\"\\\"\\\"\\nSELECT * FROM pitching_stats_wpid;\\n\\\"\\\"\\\"\\n\\ndf_pitching_stats_wpid = pd.read_sql_query(sql_query, con)\\n# Limit to 2018, like with baseball stats\\ndf_pitching_stats_wpid = df_pitching_stats_wpid[\\n    df_pitching_stats_wpid[\\\"Season\\\"] == 2018\\n].copy()\";\n",
       "                var nbb_formatted_code = \"# Pitching stats\\n\\nsql_query = \\\"\\\"\\\"\\nSELECT * FROM pitching_stats_wpid;\\n\\\"\\\"\\\"\\n\\ndf_pitching_stats_wpid = pd.read_sql_query(sql_query, con)\\n# Limit to 2018, like with baseball stats\\ndf_pitching_stats_wpid = df_pitching_stats_wpid[\\n    df_pitching_stats_wpid[\\\"Season\\\"] == 2018\\n].copy()\";\n",
       "                var nbb_cells = Jupyter.notebook.get_cells();\n",
       "                for (var i = 0; i < nbb_cells.length; ++i) {\n",
       "                    if (nbb_cells[i].input_prompt_number == nbb_cell_id) {\n",
       "                        if (nbb_cells[i].get_text() == nbb_unformatted_code) {\n",
       "                             nbb_cells[i].set_text(nbb_formatted_code);\n",
       "                        }\n",
       "                        break;\n",
       "                    }\n",
       "                }\n",
       "            }, 500);\n",
       "            "
      ],
      "text/plain": [
       "<IPython.core.display.Javascript object>"
      ]
     },
     "metadata": {},
     "output_type": "display_data"
    }
   ],
   "source": [
    "# Pitching stats\n",
    "\n",
    "sql_query = \"\"\"\n",
    "SELECT * FROM pitching_stats_wpid;\n",
    "\"\"\"\n",
    "\n",
    "df_pitching_stats_wpid = pd.read_sql_query(sql_query, con)\n",
    "# Limit to 2018, like with baseball stats\n",
    "df_pitching_stats_wpid = df_pitching_stats_wpid[\n",
    "    df_pitching_stats_wpid[\"Season\"] == 2018\n",
    "].copy()"
   ]
  },
  {
   "cell_type": "code",
   "execution_count": 18,
   "metadata": {
    "ExecuteTime": {
     "end_time": "2020-01-30T04:12:16.279621Z",
     "start_time": "2020-01-30T04:12:16.271266Z"
    }
   },
   "outputs": [
    {
     "data": {
      "text/plain": [
       "(789, 310)"
      ]
     },
     "execution_count": 18,
     "metadata": {},
     "output_type": "execute_result"
    },
    {
     "data": {
      "application/javascript": [
       "\n",
       "            setTimeout(function() {\n",
       "                var nbb_cell_id = 18;\n",
       "                var nbb_unformatted_code = \"df_pitching_stats_wpid.shape\";\n",
       "                var nbb_formatted_code = \"df_pitching_stats_wpid.shape\";\n",
       "                var nbb_cells = Jupyter.notebook.get_cells();\n",
       "                for (var i = 0; i < nbb_cells.length; ++i) {\n",
       "                    if (nbb_cells[i].input_prompt_number == nbb_cell_id) {\n",
       "                        if (nbb_cells[i].get_text() == nbb_unformatted_code) {\n",
       "                             nbb_cells[i].set_text(nbb_formatted_code);\n",
       "                        }\n",
       "                        break;\n",
       "                    }\n",
       "                }\n",
       "            }, 500);\n",
       "            "
      ],
      "text/plain": [
       "<IPython.core.display.Javascript object>"
      ]
     },
     "metadata": {},
     "output_type": "display_data"
    }
   ],
   "source": [
    "df_pitching_stats_wpid.shape"
   ]
  },
  {
   "cell_type": "code",
   "execution_count": 19,
   "metadata": {
    "ExecuteTime": {
     "end_time": "2020-01-30T04:12:17.503482Z",
     "start_time": "2020-01-30T04:12:17.469101Z"
    }
   },
   "outputs": [
    {
     "data": {
      "text/html": [
       "<div>\n",
       "<style scoped>\n",
       "    .dataframe tbody tr th:only-of-type {\n",
       "        vertical-align: middle;\n",
       "    }\n",
       "\n",
       "    .dataframe tbody tr th {\n",
       "        vertical-align: top;\n",
       "    }\n",
       "\n",
       "    .dataframe thead th {\n",
       "        text-align: right;\n",
       "    }\n",
       "</style>\n",
       "<table border=\"1\" class=\"dataframe\">\n",
       "  <thead>\n",
       "    <tr style=\"text-align: right;\">\n",
       "      <th></th>\n",
       "      <th>index</th>\n",
       "      <th>Season</th>\n",
       "      <th>Name</th>\n",
       "      <th>Team</th>\n",
       "      <th>Age</th>\n",
       "      <th>W</th>\n",
       "      <th>L</th>\n",
       "      <th>ERA</th>\n",
       "      <th>WAR</th>\n",
       "      <th>G</th>\n",
       "      <th>...</th>\n",
       "      <th>first_name</th>\n",
       "      <th>last_name</th>\n",
       "      <th>name_last</th>\n",
       "      <th>name_first</th>\n",
       "      <th>key_mlbam</th>\n",
       "      <th>key_retro</th>\n",
       "      <th>key_bbref</th>\n",
       "      <th>key_fangraphs</th>\n",
       "      <th>mlb_played_first</th>\n",
       "      <th>mlb_played_last</th>\n",
       "    </tr>\n",
       "  </thead>\n",
       "  <tbody>\n",
       "    <tr>\n",
       "      <th>0</th>\n",
       "      <td>0</td>\n",
       "      <td>2018.0</td>\n",
       "      <td>Jacob deGrom</td>\n",
       "      <td>Mets</td>\n",
       "      <td>30.0</td>\n",
       "      <td>10.0</td>\n",
       "      <td>9.0</td>\n",
       "      <td>1.70</td>\n",
       "      <td>9.0</td>\n",
       "      <td>32.0</td>\n",
       "      <td>...</td>\n",
       "      <td>jacob</td>\n",
       "      <td>degrom</td>\n",
       "      <td>degrom</td>\n",
       "      <td>jacob</td>\n",
       "      <td>594798.0</td>\n",
       "      <td>degrj001</td>\n",
       "      <td>degroja01</td>\n",
       "      <td>10954.0</td>\n",
       "      <td>2014.0</td>\n",
       "      <td>2019.0</td>\n",
       "    </tr>\n",
       "    <tr>\n",
       "      <th>2</th>\n",
       "      <td>2</td>\n",
       "      <td>2018.0</td>\n",
       "      <td>Max Scherzer</td>\n",
       "      <td>Nationals</td>\n",
       "      <td>33.0</td>\n",
       "      <td>18.0</td>\n",
       "      <td>7.0</td>\n",
       "      <td>2.53</td>\n",
       "      <td>7.5</td>\n",
       "      <td>33.0</td>\n",
       "      <td>...</td>\n",
       "      <td>max</td>\n",
       "      <td>scherzer</td>\n",
       "      <td>scherzer</td>\n",
       "      <td>max</td>\n",
       "      <td>453286.0</td>\n",
       "      <td>schem001</td>\n",
       "      <td>scherma01</td>\n",
       "      <td>3137.0</td>\n",
       "      <td>2008.0</td>\n",
       "      <td>2019.0</td>\n",
       "    </tr>\n",
       "    <tr>\n",
       "      <th>4</th>\n",
       "      <td>1587</td>\n",
       "      <td>2018.0</td>\n",
       "      <td>Scott Kingery</td>\n",
       "      <td>Phillies</td>\n",
       "      <td>24.0</td>\n",
       "      <td>0.0</td>\n",
       "      <td>0.0</td>\n",
       "      <td>13.50</td>\n",
       "      <td>0.0</td>\n",
       "      <td>1.0</td>\n",
       "      <td>...</td>\n",
       "      <td>scott</td>\n",
       "      <td>kingery</td>\n",
       "      <td>kingery</td>\n",
       "      <td>scott</td>\n",
       "      <td>664068.0</td>\n",
       "      <td>kings001</td>\n",
       "      <td>kingesc01</td>\n",
       "      <td>17975.0</td>\n",
       "      <td>2018.0</td>\n",
       "      <td>2019.0</td>\n",
       "    </tr>\n",
       "    <tr>\n",
       "      <th>8</th>\n",
       "      <td>7</td>\n",
       "      <td>2018.0</td>\n",
       "      <td>Justin Verlander</td>\n",
       "      <td>Astros</td>\n",
       "      <td>35.0</td>\n",
       "      <td>16.0</td>\n",
       "      <td>9.0</td>\n",
       "      <td>2.52</td>\n",
       "      <td>6.6</td>\n",
       "      <td>34.0</td>\n",
       "      <td>...</td>\n",
       "      <td>justin</td>\n",
       "      <td>verlander</td>\n",
       "      <td>verlander</td>\n",
       "      <td>justin</td>\n",
       "      <td>434378.0</td>\n",
       "      <td>verlj001</td>\n",
       "      <td>verlaju01</td>\n",
       "      <td>8700.0</td>\n",
       "      <td>2005.0</td>\n",
       "      <td>2019.0</td>\n",
       "    </tr>\n",
       "    <tr>\n",
       "      <th>12</th>\n",
       "      <td>11</td>\n",
       "      <td>2018.0</td>\n",
       "      <td>Chris Sale</td>\n",
       "      <td>Red Sox</td>\n",
       "      <td>29.0</td>\n",
       "      <td>12.0</td>\n",
       "      <td>4.0</td>\n",
       "      <td>2.11</td>\n",
       "      <td>6.2</td>\n",
       "      <td>27.0</td>\n",
       "      <td>...</td>\n",
       "      <td>chris</td>\n",
       "      <td>sale</td>\n",
       "      <td>sale</td>\n",
       "      <td>chris</td>\n",
       "      <td>519242.0</td>\n",
       "      <td>salec001</td>\n",
       "      <td>salech01</td>\n",
       "      <td>10603.0</td>\n",
       "      <td>2010.0</td>\n",
       "      <td>2019.0</td>\n",
       "    </tr>\n",
       "  </tbody>\n",
       "</table>\n",
       "<p>5 rows × 310 columns</p>\n",
       "</div>"
      ],
      "text/plain": [
       "    index  Season              Name       Team   Age     W    L    ERA  WAR  \\\n",
       "0       0  2018.0      Jacob deGrom       Mets  30.0  10.0  9.0   1.70  9.0   \n",
       "2       2  2018.0      Max Scherzer  Nationals  33.0  18.0  7.0   2.53  7.5   \n",
       "4    1587  2018.0     Scott Kingery   Phillies  24.0   0.0  0.0  13.50  0.0   \n",
       "8       7  2018.0  Justin Verlander     Astros  35.0  16.0  9.0   2.52  6.6   \n",
       "12     11  2018.0        Chris Sale    Red Sox  29.0  12.0  4.0   2.11  6.2   \n",
       "\n",
       "       G  ...  first_name  last_name  name_last  name_first  key_mlbam  \\\n",
       "0   32.0  ...       jacob     degrom     degrom       jacob   594798.0   \n",
       "2   33.0  ...         max   scherzer   scherzer         max   453286.0   \n",
       "4    1.0  ...       scott    kingery    kingery       scott   664068.0   \n",
       "8   34.0  ...      justin  verlander  verlander      justin   434378.0   \n",
       "12  27.0  ...       chris       sale       sale       chris   519242.0   \n",
       "\n",
       "    key_retro  key_bbref  key_fangraphs  mlb_played_first  mlb_played_last  \n",
       "0    degrj001  degroja01        10954.0            2014.0           2019.0  \n",
       "2    schem001  scherma01         3137.0            2008.0           2019.0  \n",
       "4    kings001  kingesc01        17975.0            2018.0           2019.0  \n",
       "8    verlj001  verlaju01         8700.0            2005.0           2019.0  \n",
       "12   salec001   salech01        10603.0            2010.0           2019.0  \n",
       "\n",
       "[5 rows x 310 columns]"
      ]
     },
     "execution_count": 19,
     "metadata": {},
     "output_type": "execute_result"
    },
    {
     "data": {
      "application/javascript": [
       "\n",
       "            setTimeout(function() {\n",
       "                var nbb_cell_id = 19;\n",
       "                var nbb_unformatted_code = \"df_pitching_stats_wpid.head()\";\n",
       "                var nbb_formatted_code = \"df_pitching_stats_wpid.head()\";\n",
       "                var nbb_cells = Jupyter.notebook.get_cells();\n",
       "                for (var i = 0; i < nbb_cells.length; ++i) {\n",
       "                    if (nbb_cells[i].input_prompt_number == nbb_cell_id) {\n",
       "                        if (nbb_cells[i].get_text() == nbb_unformatted_code) {\n",
       "                             nbb_cells[i].set_text(nbb_formatted_code);\n",
       "                        }\n",
       "                        break;\n",
       "                    }\n",
       "                }\n",
       "            }, 500);\n",
       "            "
      ],
      "text/plain": [
       "<IPython.core.display.Javascript object>"
      ]
     },
     "metadata": {},
     "output_type": "display_data"
    }
   ],
   "source": [
    "df_pitching_stats_wpid.head()"
   ]
  },
  {
   "cell_type": "markdown",
   "metadata": {},
   "source": [
    "# Notes"
   ]
  },
  {
   "cell_type": "markdown",
   "metadata": {},
   "source": [
    "## Contingencies\n",
    "\n",
    "1. What if player has day off? or no game is scheduled?\n",
    "2. What if player or pitcher doesn't have minimum nback at-bats?\n",
    "3. What if player doesn't have minimum nback at-bats against same or opposite handedness?"
   ]
  },
  {
   "cell_type": "markdown",
   "metadata": {},
   "source": [
    "**Quora answer on number of plate appearances**\n",
    "https://www.quora.com/How-many-at-bats-does-the-average-MLB-player-go-through-per-year\n",
    "\n",
    "One direction to go with is how many PA wpild a player accumulate if theu were to play every day, and not rest. That would be around 725. Though that total is not really an average as few players exceed such a total each year.\n",
    "\n",
    "A second number would be how many plate appearances bases on normal rest during a season if a player never was injured, about 145-150 games for position players other then the catcher and 110 to 115 for catchers. Those totals would be around 650 and 450 respectively.\n",
    "\n",
    "Yet another way to answer this would be the number of PA by all position players on a roster that were supposed to be starters, but may receive less playing time due to injury or a team developing, trading for or discovering a better player. That would probably be closer to 400.\n",
    "\n",
    "You could also thing about all position players on a team including bench players, if we include them our total now is closer to 200-250.\n",
    "\n",
    "Yet another way to look at this is to include all players on the roster including pitcher who may notbat intentionally. Include them and tour total is closer to 100-120."
   ]
  },
  {
   "cell_type": "markdown",
   "metadata": {},
   "source": [
    "## Other ideas"
   ]
  },
  {
   "cell_type": "markdown",
   "metadata": {},
   "source": [
    "\n",
    "- Look at probabilities, instead of looking for 1 (done - not strong)\n",
    "- Aggregate per game (potentially something there - not sure)\n",
    "- Look at Ty France\n",
    "- Add in pitcher info \n",
    "- See what pitches they're hitting, then see how that matches with pitchers \n",
    "- Remember that ultimately, we want to see that we're picking the right player - someone who has a higher probability overall will be better choice\n",
    "\n",
    "\n",
    "**Motivation: Learning analytics requries some skills I can develop here**"
   ]
  },
  {
   "cell_type": "markdown",
   "metadata": {},
   "source": [
    "## Questions to ask\n",
    "\n",
    "- Am I inputting handedness correctly? How to input values if they're transformed in the model? (L -1.41421356, R 0.70710678)\n",
    "- Add pitcher specific ID as a factor?\n"
   ]
  },
  {
   "cell_type": "markdown",
   "metadata": {},
   "source": [
    "## Things to fix\n",
    "\n",
    "- Why is dataframe model going to <200 - cause of the day of separation.\n",
    "- Standardize train-test before split"
   ]
  },
  {
   "cell_type": "markdown",
   "metadata": {},
   "source": [
    "# Super simple - just use batter and pitchers as features\n",
    "\n",
    "It should at least be better for prediction"
   ]
  },
  {
   "cell_type": "code",
   "execution_count": 125,
   "metadata": {
    "ExecuteTime": {
     "end_time": "2020-01-30T06:11:15.523281Z",
     "start_time": "2020-01-30T06:11:15.512138Z"
    }
   },
   "outputs": [
    {
     "data": {
      "application/javascript": [
       "\n",
       "            setTimeout(function() {\n",
       "                var nbb_cell_id = 125;\n",
       "                var nbb_unformatted_code = \"# FUNCTION FOR GETTING STATCAST DATA\\n\\n# Enter key_mlbam (Mike Trout, ESPN rank 1)\\n# pid_of_interest1 = 545361\\n# Enter key_mlbam (Jesse Winker, ESPN rank 280)\\n# pid_of_interest2 = 608385\\n\\n# Enter key_mlbam (Mookie Betts, ESPN rank 2?)\\n# pid_of_interest1 = 605141\\n# # Enter key_mlbam (Leury Garcia, ESPN rank 300)\\n# pid_of_interest2 = 544725\\n\\n\\n# Reynolds and Garcia (668804, 544725)\\n# Bryan Reynolds (PIT)\\n\\npid_of_interest1 = 668804\\npid_of_interest2 = 544725\\n\\ndate_of_interest = \\\"'2019-09-04'\\\"  # Note internal single quotes\\n\\nno_total_ab_events = 5000\";\n",
       "                var nbb_formatted_code = \"# FUNCTION FOR GETTING STATCAST DATA\\n\\n# Enter key_mlbam (Mike Trout, ESPN rank 1)\\n# pid_of_interest1 = 545361\\n# Enter key_mlbam (Jesse Winker, ESPN rank 280)\\n# pid_of_interest2 = 608385\\n\\n# Enter key_mlbam (Mookie Betts, ESPN rank 2?)\\n# pid_of_interest1 = 605141\\n# # Enter key_mlbam (Leury Garcia, ESPN rank 300)\\n# pid_of_interest2 = 544725\\n\\n\\n# Reynolds and Garcia (668804, 544725)\\n# Bryan Reynolds (PIT)\\n\\npid_of_interest1 = 668804\\npid_of_interest2 = 544725\\n\\ndate_of_interest = \\\"'2019-09-04'\\\"  # Note internal single quotes\\n\\nno_total_ab_events = 5000\";\n",
       "                var nbb_cells = Jupyter.notebook.get_cells();\n",
       "                for (var i = 0; i < nbb_cells.length; ++i) {\n",
       "                    if (nbb_cells[i].input_prompt_number == nbb_cell_id) {\n",
       "                        if (nbb_cells[i].get_text() == nbb_unformatted_code) {\n",
       "                             nbb_cells[i].set_text(nbb_formatted_code);\n",
       "                        }\n",
       "                        break;\n",
       "                    }\n",
       "                }\n",
       "            }, 500);\n",
       "            "
      ],
      "text/plain": [
       "<IPython.core.display.Javascript object>"
      ]
     },
     "metadata": {},
     "output_type": "display_data"
    }
   ],
   "source": [
    "# FUNCTION FOR GETTING STATCAST DATA\n",
    "\n",
    "# Enter key_mlbam (Mike Trout, ESPN rank 1)\n",
    "# pid_of_interest1 = 545361\n",
    "# Enter key_mlbam (Jesse Winker, ESPN rank 280)\n",
    "# pid_of_interest2 = 608385\n",
    "\n",
    "# Enter key_mlbam (Mookie Betts, ESPN rank 2?)\n",
    "# pid_of_interest1 = 605141\n",
    "# # Enter key_mlbam (Leury Garcia, ESPN rank 300)\n",
    "# pid_of_interest2 = 544725\n",
    "\n",
    "\n",
    "# Reynolds and Garcia (668804, 544725)\n",
    "# Bryan Reynolds (PIT)\n",
    "\n",
    "pid_of_interest1 = 668804\n",
    "pid_of_interest2 = 544725\n",
    "\n",
    "date_of_interest = \"'2019-09-04'\"  # Note internal single quotes\n",
    "\n",
    "no_total_ab_events = 5000\n"
   ]
  },
  {
   "cell_type": "code",
   "execution_count": 126,
   "metadata": {
    "ExecuteTime": {
     "end_time": "2020-01-30T06:11:18.415605Z",
     "start_time": "2020-01-30T06:11:18.399335Z"
    },
    "code_folding": [
     0
    ]
   },
   "outputs": [
    {
     "data": {
      "application/javascript": [
       "\n",
       "            setTimeout(function() {\n",
       "                var nbb_cell_id = 126;\n",
       "                var nbb_unformatted_code = \"def get_sc_batter_df(player_id, date, n_ab_events):\\n    sql_query = (\\n        \\\"\\\"\\\"\\n    (SELECT * FROM statcast \\n    JOIN player_id ON statcast.batter=player_id.key_mlbam \\n    WHERE statcast.batter= \\n    \\\"\\\"\\\"\\n        + str(player_id)\\n        + \\\"\\\"\\\"\\n    AND statcast.game_date<=\\n    \\\"\\\"\\\"\\n        + str(date)\\n        + \\\"\\\"\\\" \\n    AND statcast.events IS NOT NULL \\n    ORDER BY statcast.game_date DESC, statcast.inning DESC, statcast.outs_when_up DESC \\n    LIMIT\\n    \\\"\\\"\\\"\\n        + str(n_ab_events)\\n        + \\\");\\\"\\n    )\\n\\n    # print(sql_query)\\n\\n    df_sc_events = pd.read_sql_query(sql_query, con)\\n    df_sc_events.drop([\\\"level_0\\\", \\\"index\\\"], axis=1, inplace=True)  # Clean up df\\n\\n    return df_sc_events\";\n",
       "                var nbb_formatted_code = \"def get_sc_batter_df(player_id, date, n_ab_events):\\n    sql_query = (\\n        \\\"\\\"\\\"\\n    (SELECT * FROM statcast \\n    JOIN player_id ON statcast.batter=player_id.key_mlbam \\n    WHERE statcast.batter= \\n    \\\"\\\"\\\"\\n        + str(player_id)\\n        + \\\"\\\"\\\"\\n    AND statcast.game_date<=\\n    \\\"\\\"\\\"\\n        + str(date)\\n        + \\\"\\\"\\\" \\n    AND statcast.events IS NOT NULL \\n    ORDER BY statcast.game_date DESC, statcast.inning DESC, statcast.outs_when_up DESC \\n    LIMIT\\n    \\\"\\\"\\\"\\n        + str(n_ab_events)\\n        + \\\");\\\"\\n    )\\n\\n    # print(sql_query)\\n\\n    df_sc_events = pd.read_sql_query(sql_query, con)\\n    df_sc_events.drop([\\\"level_0\\\", \\\"index\\\"], axis=1, inplace=True)  # Clean up df\\n\\n    return df_sc_events\";\n",
       "                var nbb_cells = Jupyter.notebook.get_cells();\n",
       "                for (var i = 0; i < nbb_cells.length; ++i) {\n",
       "                    if (nbb_cells[i].input_prompt_number == nbb_cell_id) {\n",
       "                        if (nbb_cells[i].get_text() == nbb_unformatted_code) {\n",
       "                             nbb_cells[i].set_text(nbb_formatted_code);\n",
       "                        }\n",
       "                        break;\n",
       "                    }\n",
       "                }\n",
       "            }, 500);\n",
       "            "
      ],
      "text/plain": [
       "<IPython.core.display.Javascript object>"
      ]
     },
     "metadata": {},
     "output_type": "display_data"
    }
   ],
   "source": [
    "def get_sc_batter_df(player_id, date, n_ab_events):\n",
    "    sql_query = (\n",
    "        \"\"\"\n",
    "    (SELECT * FROM statcast \n",
    "    JOIN player_id ON statcast.batter=player_id.key_mlbam \n",
    "    WHERE statcast.batter= \n",
    "    \"\"\"\n",
    "        + str(player_id)\n",
    "        + \"\"\"\n",
    "    AND statcast.game_date<=\n",
    "    \"\"\"\n",
    "        + str(date)\n",
    "        + \"\"\" \n",
    "    AND statcast.events IS NOT NULL \n",
    "    ORDER BY statcast.game_date DESC, statcast.inning DESC, statcast.outs_when_up DESC \n",
    "    LIMIT\n",
    "    \"\"\"\n",
    "        + str(n_ab_events)\n",
    "        + \");\"\n",
    "    )\n",
    "\n",
    "    # print(sql_query)\n",
    "\n",
    "    df_sc_events = pd.read_sql_query(sql_query, con)\n",
    "    df_sc_events.drop([\"level_0\", \"index\"], axis=1, inplace=True)  # Clean up df\n",
    "\n",
    "    return df_sc_events"
   ]
  },
  {
   "cell_type": "code",
   "execution_count": 127,
   "metadata": {
    "ExecuteTime": {
     "end_time": "2020-01-30T06:11:19.229711Z",
     "start_time": "2020-01-30T06:11:19.185154Z"
    },
    "code_folding": [
     0
    ]
   },
   "outputs": [
    {
     "data": {
      "application/javascript": [
       "\n",
       "            setTimeout(function() {\n",
       "                var nbb_cell_id = 127;\n",
       "                var nbb_unformatted_code = \"def get_predf4model(pid1, pid2):\\n    df_sc_events_b1 = get_sc_batter_df(pid_of_interest1, date_of_interest, 5000)\\n    df_sc_events_b2 = get_sc_batter_df(pid_of_interest2, date_of_interest, 5000)\\n    df_sc_events_b1b2 = pd.concat([df_sc_events_b1, df_sc_events_b2], axis=0)\\n\\n    col2keep = [\\n        \\\"game_date\\\",\\n        \\\"batter\\\",\\n        \\\"stand\\\",\\n        \\\"pitcher\\\",\\n        \\\"p_throws\\\",\\n        \\\"events\\\",\\n        \\\"inning_topbot\\\",\\n    ]\\n\\n    df_sc_events_b1b2_bpe = df_sc_events_b1b2[col2keep].copy()\\n\\n    batter_code = {\\n        df_sc_events_b1b2_bpe[\\\"batter\\\"].unique()[0]: 0,\\n        df_sc_events_b1b2_bpe[\\\"batter\\\"].unique()[1]: 1,\\n    }\\n\\n    df_sc_events_b1b2_bpe[\\\"batter\\\"].replace(batter_code, inplace=True)\\n\\n    df_sc_events_b1b2_bpe[\\\"stand\\\"].replace({\\\"L\\\": 0, \\\"R\\\": 1}, inplace=True)\\n\\n    pitcher_code = dict(\\n        zip(\\n            range(len(df_sc_events_b1b2_bpe[\\\"pitcher\\\"].unique())),\\n            df_sc_events_b1b2_bpe[\\\"pitcher\\\"].unique(),\\n        )\\n    )\\n    df_sc_events_b1b2_bpe[\\\"pitcher\\\"].replace(pitcher_code, inplace=True)\\n\\n    df_sc_events_b1b2_bpe[\\\"p_throws\\\"].replace({\\\"L\\\": 0, \\\"R\\\": 1}, inplace=True)\\n\\n    df_sc_events_b1b2_bpe[\\\"inning_topbot\\\"].replace({\\\"Top\\\": 0, \\\"Bot\\\": 1}, inplace=True)\\n\\n    events2count = [\\\"walk\\\", \\\"single\\\", \\\"double\\\", \\\"triple\\\", \\\"home_run\\\"]\\n    df_sc_events_b1b2_bpe[\\\"event_code\\\"] = 0\\n    df_sc_events_b1b2_bpe.loc[\\n        df_sc_events_b1b2_bpe[\\\"events\\\"].isin(events2count), \\\"event_code\\\"\\n    ] = 1\\n\\n    return df_sc_events_b1b2_bpe\";\n",
       "                var nbb_formatted_code = \"def get_predf4model(pid1, pid2):\\n    df_sc_events_b1 = get_sc_batter_df(pid_of_interest1, date_of_interest, 5000)\\n    df_sc_events_b2 = get_sc_batter_df(pid_of_interest2, date_of_interest, 5000)\\n    df_sc_events_b1b2 = pd.concat([df_sc_events_b1, df_sc_events_b2], axis=0)\\n\\n    col2keep = [\\n        \\\"game_date\\\",\\n        \\\"batter\\\",\\n        \\\"stand\\\",\\n        \\\"pitcher\\\",\\n        \\\"p_throws\\\",\\n        \\\"events\\\",\\n        \\\"inning_topbot\\\",\\n    ]\\n\\n    df_sc_events_b1b2_bpe = df_sc_events_b1b2[col2keep].copy()\\n\\n    batter_code = {\\n        df_sc_events_b1b2_bpe[\\\"batter\\\"].unique()[0]: 0,\\n        df_sc_events_b1b2_bpe[\\\"batter\\\"].unique()[1]: 1,\\n    }\\n\\n    df_sc_events_b1b2_bpe[\\\"batter\\\"].replace(batter_code, inplace=True)\\n\\n    df_sc_events_b1b2_bpe[\\\"stand\\\"].replace({\\\"L\\\": 0, \\\"R\\\": 1}, inplace=True)\\n\\n    pitcher_code = dict(\\n        zip(\\n            range(len(df_sc_events_b1b2_bpe[\\\"pitcher\\\"].unique())),\\n            df_sc_events_b1b2_bpe[\\\"pitcher\\\"].unique(),\\n        )\\n    )\\n    df_sc_events_b1b2_bpe[\\\"pitcher\\\"].replace(pitcher_code, inplace=True)\\n\\n    df_sc_events_b1b2_bpe[\\\"p_throws\\\"].replace({\\\"L\\\": 0, \\\"R\\\": 1}, inplace=True)\\n\\n    df_sc_events_b1b2_bpe[\\\"inning_topbot\\\"].replace({\\\"Top\\\": 0, \\\"Bot\\\": 1}, inplace=True)\\n\\n    events2count = [\\\"walk\\\", \\\"single\\\", \\\"double\\\", \\\"triple\\\", \\\"home_run\\\"]\\n    df_sc_events_b1b2_bpe[\\\"event_code\\\"] = 0\\n    df_sc_events_b1b2_bpe.loc[\\n        df_sc_events_b1b2_bpe[\\\"events\\\"].isin(events2count), \\\"event_code\\\"\\n    ] = 1\\n\\n    return df_sc_events_b1b2_bpe\";\n",
       "                var nbb_cells = Jupyter.notebook.get_cells();\n",
       "                for (var i = 0; i < nbb_cells.length; ++i) {\n",
       "                    if (nbb_cells[i].input_prompt_number == nbb_cell_id) {\n",
       "                        if (nbb_cells[i].get_text() == nbb_unformatted_code) {\n",
       "                             nbb_cells[i].set_text(nbb_formatted_code);\n",
       "                        }\n",
       "                        break;\n",
       "                    }\n",
       "                }\n",
       "            }, 500);\n",
       "            "
      ],
      "text/plain": [
       "<IPython.core.display.Javascript object>"
      ]
     },
     "metadata": {},
     "output_type": "display_data"
    }
   ],
   "source": [
    "def get_predf4model(pid1, pid2):\n",
    "    df_sc_events_b1 = get_sc_batter_df(pid_of_interest1, date_of_interest, 5000)\n",
    "    df_sc_events_b2 = get_sc_batter_df(pid_of_interest2, date_of_interest, 5000)\n",
    "    df_sc_events_b1b2 = pd.concat([df_sc_events_b1, df_sc_events_b2], axis=0)\n",
    "\n",
    "    col2keep = [\n",
    "        \"game_date\",\n",
    "        \"batter\",\n",
    "        \"stand\",\n",
    "        \"pitcher\",\n",
    "        \"p_throws\",\n",
    "        \"events\",\n",
    "        \"inning_topbot\",\n",
    "    ]\n",
    "\n",
    "    df_sc_events_b1b2_bpe = df_sc_events_b1b2[col2keep].copy()\n",
    "\n",
    "    batter_code = {\n",
    "        df_sc_events_b1b2_bpe[\"batter\"].unique()[0]: 0,\n",
    "        df_sc_events_b1b2_bpe[\"batter\"].unique()[1]: 1,\n",
    "    }\n",
    "\n",
    "    df_sc_events_b1b2_bpe[\"batter\"].replace(batter_code, inplace=True)\n",
    "\n",
    "    df_sc_events_b1b2_bpe[\"stand\"].replace({\"L\": 0, \"R\": 1}, inplace=True)\n",
    "\n",
    "    pitcher_code = dict(\n",
    "        zip(\n",
    "            range(len(df_sc_events_b1b2_bpe[\"pitcher\"].unique())),\n",
    "            df_sc_events_b1b2_bpe[\"pitcher\"].unique(),\n",
    "        )\n",
    "    )\n",
    "    df_sc_events_b1b2_bpe[\"pitcher\"].replace(pitcher_code, inplace=True)\n",
    "\n",
    "    df_sc_events_b1b2_bpe[\"p_throws\"].replace({\"L\": 0, \"R\": 1}, inplace=True)\n",
    "\n",
    "    df_sc_events_b1b2_bpe[\"inning_topbot\"].replace({\"Top\": 0, \"Bot\": 1}, inplace=True)\n",
    "\n",
    "    events2count = [\"walk\", \"single\", \"double\", \"triple\", \"home_run\"]\n",
    "    df_sc_events_b1b2_bpe[\"event_code\"] = 0\n",
    "    df_sc_events_b1b2_bpe.loc[\n",
    "        df_sc_events_b1b2_bpe[\"events\"].isin(events2count), \"event_code\"\n",
    "    ] = 1\n",
    "\n",
    "    return df_sc_events_b1b2_bpe"
   ]
  },
  {
   "cell_type": "code",
   "execution_count": 128,
   "metadata": {
    "ExecuteTime": {
     "end_time": "2020-01-30T06:11:43.438655Z",
     "start_time": "2020-01-30T06:11:26.952506Z"
    }
   },
   "outputs": [
    {
     "data": {
      "application/javascript": [
       "\n",
       "            setTimeout(function() {\n",
       "                var nbb_cell_id = 128;\n",
       "                var nbb_unformatted_code = \"df_sc_b1b2 = get_predf4model(pid_of_interest1, pid_of_interest2)\";\n",
       "                var nbb_formatted_code = \"df_sc_b1b2 = get_predf4model(pid_of_interest1, pid_of_interest2)\";\n",
       "                var nbb_cells = Jupyter.notebook.get_cells();\n",
       "                for (var i = 0; i < nbb_cells.length; ++i) {\n",
       "                    if (nbb_cells[i].input_prompt_number == nbb_cell_id) {\n",
       "                        if (nbb_cells[i].get_text() == nbb_unformatted_code) {\n",
       "                             nbb_cells[i].set_text(nbb_formatted_code);\n",
       "                        }\n",
       "                        break;\n",
       "                    }\n",
       "                }\n",
       "            }, 500);\n",
       "            "
      ],
      "text/plain": [
       "<IPython.core.display.Javascript object>"
      ]
     },
     "metadata": {},
     "output_type": "display_data"
    }
   ],
   "source": [
    "df_sc_b1b2 = get_predf4model(pid_of_interest1, pid_of_interest2)"
   ]
  },
  {
   "cell_type": "code",
   "execution_count": 129,
   "metadata": {
    "ExecuteTime": {
     "end_time": "2020-01-30T06:11:44.301169Z",
     "start_time": "2020-01-30T06:11:44.283884Z"
    }
   },
   "outputs": [
    {
     "data": {
      "text/html": [
       "<div>\n",
       "<style scoped>\n",
       "    .dataframe tbody tr th:only-of-type {\n",
       "        vertical-align: middle;\n",
       "    }\n",
       "\n",
       "    .dataframe tbody tr th {\n",
       "        vertical-align: top;\n",
       "    }\n",
       "\n",
       "    .dataframe thead th {\n",
       "        text-align: right;\n",
       "    }\n",
       "</style>\n",
       "<table border=\"1\" class=\"dataframe\">\n",
       "  <thead>\n",
       "    <tr style=\"text-align: right;\">\n",
       "      <th></th>\n",
       "      <th>game_date</th>\n",
       "      <th>batter</th>\n",
       "      <th>stand</th>\n",
       "      <th>pitcher</th>\n",
       "      <th>p_throws</th>\n",
       "      <th>events</th>\n",
       "      <th>inning_topbot</th>\n",
       "      <th>event_code</th>\n",
       "    </tr>\n",
       "  </thead>\n",
       "  <tbody>\n",
       "    <tr>\n",
       "      <th>0</th>\n",
       "      <td>2019-09-04</td>\n",
       "      <td>0.0</td>\n",
       "      <td>0</td>\n",
       "      <td>570632.0</td>\n",
       "      <td>1</td>\n",
       "      <td>single</td>\n",
       "      <td>1</td>\n",
       "      <td>1</td>\n",
       "    </tr>\n",
       "    <tr>\n",
       "      <th>1</th>\n",
       "      <td>2019-09-04</td>\n",
       "      <td>0.0</td>\n",
       "      <td>1</td>\n",
       "      <td>543045.0</td>\n",
       "      <td>0</td>\n",
       "      <td>strikeout</td>\n",
       "      <td>1</td>\n",
       "      <td>0</td>\n",
       "    </tr>\n",
       "    <tr>\n",
       "      <th>2</th>\n",
       "      <td>2019-09-04</td>\n",
       "      <td>0.0</td>\n",
       "      <td>0</td>\n",
       "      <td>667498.0</td>\n",
       "      <td>1</td>\n",
       "      <td>field_out</td>\n",
       "      <td>1</td>\n",
       "      <td>0</td>\n",
       "    </tr>\n",
       "    <tr>\n",
       "      <th>3</th>\n",
       "      <td>2019-09-04</td>\n",
       "      <td>0.0</td>\n",
       "      <td>0</td>\n",
       "      <td>667498.0</td>\n",
       "      <td>1</td>\n",
       "      <td>double</td>\n",
       "      <td>1</td>\n",
       "      <td>1</td>\n",
       "    </tr>\n",
       "    <tr>\n",
       "      <th>4</th>\n",
       "      <td>2019-09-04</td>\n",
       "      <td>0.0</td>\n",
       "      <td>0</td>\n",
       "      <td>667498.0</td>\n",
       "      <td>1</td>\n",
       "      <td>field_error</td>\n",
       "      <td>1</td>\n",
       "      <td>0</td>\n",
       "    </tr>\n",
       "  </tbody>\n",
       "</table>\n",
       "</div>"
      ],
      "text/plain": [
       "   game_date  batter  stand   pitcher  p_throws       events  inning_topbot  \\\n",
       "0 2019-09-04     0.0      0  570632.0         1       single              1   \n",
       "1 2019-09-04     0.0      1  543045.0         0    strikeout              1   \n",
       "2 2019-09-04     0.0      0  667498.0         1    field_out              1   \n",
       "3 2019-09-04     0.0      0  667498.0         1       double              1   \n",
       "4 2019-09-04     0.0      0  667498.0         1  field_error              1   \n",
       "\n",
       "   event_code  \n",
       "0           1  \n",
       "1           0  \n",
       "2           0  \n",
       "3           1  \n",
       "4           0  "
      ]
     },
     "execution_count": 129,
     "metadata": {},
     "output_type": "execute_result"
    },
    {
     "data": {
      "application/javascript": [
       "\n",
       "            setTimeout(function() {\n",
       "                var nbb_cell_id = 129;\n",
       "                var nbb_unformatted_code = \"df_sc_b1b2.head()\";\n",
       "                var nbb_formatted_code = \"df_sc_b1b2.head()\";\n",
       "                var nbb_cells = Jupyter.notebook.get_cells();\n",
       "                for (var i = 0; i < nbb_cells.length; ++i) {\n",
       "                    if (nbb_cells[i].input_prompt_number == nbb_cell_id) {\n",
       "                        if (nbb_cells[i].get_text() == nbb_unformatted_code) {\n",
       "                             nbb_cells[i].set_text(nbb_formatted_code);\n",
       "                        }\n",
       "                        break;\n",
       "                    }\n",
       "                }\n",
       "            }, 500);\n",
       "            "
      ],
      "text/plain": [
       "<IPython.core.display.Javascript object>"
      ]
     },
     "metadata": {},
     "output_type": "display_data"
    }
   ],
   "source": [
    "df_sc_b1b2.head()"
   ]
  },
  {
   "cell_type": "code",
   "execution_count": 130,
   "metadata": {
    "ExecuteTime": {
     "end_time": "2020-01-30T06:11:51.611391Z",
     "start_time": "2020-01-30T06:11:51.600378Z"
    }
   },
   "outputs": [
    {
     "data": {
      "application/javascript": [
       "\n",
       "            setTimeout(function() {\n",
       "                var nbb_cell_id = 130;\n",
       "                var nbb_unformatted_code = \"df_sc_events_b1b2_bpe_4model = df_sc_b1b2[\\n    [\\\"batter\\\", \\\"p_throws\\\", \\\"inning_topbot\\\", \\\"event_code\\\"]\\n].copy()\";\n",
       "                var nbb_formatted_code = \"df_sc_events_b1b2_bpe_4model = df_sc_b1b2[\\n    [\\\"batter\\\", \\\"p_throws\\\", \\\"inning_topbot\\\", \\\"event_code\\\"]\\n].copy()\";\n",
       "                var nbb_cells = Jupyter.notebook.get_cells();\n",
       "                for (var i = 0; i < nbb_cells.length; ++i) {\n",
       "                    if (nbb_cells[i].input_prompt_number == nbb_cell_id) {\n",
       "                        if (nbb_cells[i].get_text() == nbb_unformatted_code) {\n",
       "                             nbb_cells[i].set_text(nbb_formatted_code);\n",
       "                        }\n",
       "                        break;\n",
       "                    }\n",
       "                }\n",
       "            }, 500);\n",
       "            "
      ],
      "text/plain": [
       "<IPython.core.display.Javascript object>"
      ]
     },
     "metadata": {},
     "output_type": "display_data"
    }
   ],
   "source": [
    "df_sc_events_b1b2_bpe_4model = df_sc_b1b2[\n",
    "    [\"batter\", \"p_throws\", \"inning_topbot\", \"event_code\"]\n",
    "].copy()"
   ]
  },
  {
   "cell_type": "code",
   "execution_count": 131,
   "metadata": {
    "ExecuteTime": {
     "end_time": "2020-01-30T06:11:52.668900Z",
     "start_time": "2020-01-30T06:11:52.653036Z"
    }
   },
   "outputs": [
    {
     "data": {
      "text/html": [
       "<div>\n",
       "<style scoped>\n",
       "    .dataframe tbody tr th:only-of-type {\n",
       "        vertical-align: middle;\n",
       "    }\n",
       "\n",
       "    .dataframe tbody tr th {\n",
       "        vertical-align: top;\n",
       "    }\n",
       "\n",
       "    .dataframe thead th {\n",
       "        text-align: right;\n",
       "    }\n",
       "</style>\n",
       "<table border=\"1\" class=\"dataframe\">\n",
       "  <thead>\n",
       "    <tr style=\"text-align: right;\">\n",
       "      <th></th>\n",
       "      <th>batter</th>\n",
       "      <th>p_throws</th>\n",
       "      <th>inning_topbot</th>\n",
       "      <th>event_code</th>\n",
       "    </tr>\n",
       "  </thead>\n",
       "  <tbody>\n",
       "    <tr>\n",
       "      <th>0</th>\n",
       "      <td>0.0</td>\n",
       "      <td>1</td>\n",
       "      <td>1</td>\n",
       "      <td>1</td>\n",
       "    </tr>\n",
       "    <tr>\n",
       "      <th>1</th>\n",
       "      <td>0.0</td>\n",
       "      <td>0</td>\n",
       "      <td>1</td>\n",
       "      <td>0</td>\n",
       "    </tr>\n",
       "    <tr>\n",
       "      <th>2</th>\n",
       "      <td>0.0</td>\n",
       "      <td>1</td>\n",
       "      <td>1</td>\n",
       "      <td>0</td>\n",
       "    </tr>\n",
       "    <tr>\n",
       "      <th>3</th>\n",
       "      <td>0.0</td>\n",
       "      <td>1</td>\n",
       "      <td>1</td>\n",
       "      <td>1</td>\n",
       "    </tr>\n",
       "    <tr>\n",
       "      <th>4</th>\n",
       "      <td>0.0</td>\n",
       "      <td>1</td>\n",
       "      <td>1</td>\n",
       "      <td>0</td>\n",
       "    </tr>\n",
       "  </tbody>\n",
       "</table>\n",
       "</div>"
      ],
      "text/plain": [
       "   batter  p_throws  inning_topbot  event_code\n",
       "0     0.0         1              1           1\n",
       "1     0.0         0              1           0\n",
       "2     0.0         1              1           0\n",
       "3     0.0         1              1           1\n",
       "4     0.0         1              1           0"
      ]
     },
     "execution_count": 131,
     "metadata": {},
     "output_type": "execute_result"
    },
    {
     "data": {
      "application/javascript": [
       "\n",
       "            setTimeout(function() {\n",
       "                var nbb_cell_id = 131;\n",
       "                var nbb_unformatted_code = \"df_sc_events_b1b2_bpe_4model.head()\";\n",
       "                var nbb_formatted_code = \"df_sc_events_b1b2_bpe_4model.head()\";\n",
       "                var nbb_cells = Jupyter.notebook.get_cells();\n",
       "                for (var i = 0; i < nbb_cells.length; ++i) {\n",
       "                    if (nbb_cells[i].input_prompt_number == nbb_cell_id) {\n",
       "                        if (nbb_cells[i].get_text() == nbb_unformatted_code) {\n",
       "                             nbb_cells[i].set_text(nbb_formatted_code);\n",
       "                        }\n",
       "                        break;\n",
       "                    }\n",
       "                }\n",
       "            }, 500);\n",
       "            "
      ],
      "text/plain": [
       "<IPython.core.display.Javascript object>"
      ]
     },
     "metadata": {},
     "output_type": "display_data"
    }
   ],
   "source": [
    "df_sc_events_b1b2_bpe_4model.head()"
   ]
  },
  {
   "cell_type": "markdown",
   "metadata": {},
   "source": [
    "## EDA"
   ]
  },
  {
   "cell_type": "code",
   "execution_count": 132,
   "metadata": {
    "ExecuteTime": {
     "end_time": "2020-01-30T06:11:56.857267Z",
     "start_time": "2020-01-30T06:11:56.675642Z"
    }
   },
   "outputs": [
    {
     "data": {
      "text/plain": [
       "<matplotlib.collections.PathCollection at 0x1a2746ebe0>"
      ]
     },
     "execution_count": 132,
     "metadata": {},
     "output_type": "execute_result"
    },
    {
     "data": {
      "image/png": "[encoded data removed]",
      "text/plain": [
       "<Figure size 432x288 with 1 Axes>"
      ]
     },
     "metadata": {
      "needs_background": "light"
     },
     "output_type": "display_data"
    },
    {
     "data": {
      "application/javascript": [
       "\n",
       "            setTimeout(function() {\n",
       "                var nbb_cell_id = 132;\n",
       "                var nbb_unformatted_code = \"f, ax1 = plt.subplots()\\nax1.scatter(\\n    df_sc_events_b1b2_bpe_4model[\\\"batter\\\"], df_sc_events_b1b2_bpe_4model[\\\"event_code\\\"]\\n)\";\n",
       "                var nbb_formatted_code = \"f, ax1 = plt.subplots()\\nax1.scatter(\\n    df_sc_events_b1b2_bpe_4model[\\\"batter\\\"], df_sc_events_b1b2_bpe_4model[\\\"event_code\\\"]\\n)\";\n",
       "                var nbb_cells = Jupyter.notebook.get_cells();\n",
       "                for (var i = 0; i < nbb_cells.length; ++i) {\n",
       "                    if (nbb_cells[i].input_prompt_number == nbb_cell_id) {\n",
       "                        if (nbb_cells[i].get_text() == nbb_unformatted_code) {\n",
       "                             nbb_cells[i].set_text(nbb_formatted_code);\n",
       "                        }\n",
       "                        break;\n",
       "                    }\n",
       "                }\n",
       "            }, 500);\n",
       "            "
      ],
      "text/plain": [
       "<IPython.core.display.Javascript object>"
      ]
     },
     "metadata": {},
     "output_type": "display_data"
    }
   ],
   "source": [
    "f, ax1 = plt.subplots()\n",
    "ax1.scatter(\n",
    "    df_sc_events_b1b2_bpe_4model[\"batter\"], df_sc_events_b1b2_bpe_4model[\"event_code\"]\n",
    ")"
   ]
  },
  {
   "cell_type": "markdown",
   "metadata": {},
   "source": [
    "## Logistic regression"
   ]
  },
  {
   "cell_type": "code",
   "execution_count": 133,
   "metadata": {
    "ExecuteTime": {
     "end_time": "2020-01-30T06:11:58.848959Z",
     "start_time": "2020-01-30T06:11:58.832085Z"
    },
    "code_folding": [
     0
    ]
   },
   "outputs": [
    {
     "data": {
      "application/javascript": [
       "\n",
       "            setTimeout(function() {\n",
       "                var nbb_cell_id = 133;\n",
       "                var nbb_unformatted_code = \"def get_split_data(df4model, testsize):\\n    y = df4model[\\\"event_code\\\"]\\n    X = df4model.iloc[:, :-1]\\n\\n    # Scale features based on training data\\n    std_scale = StandardScaler()\\n    X_scale = std_scale.fit_transform(X)\\n\\n    X_train_scale, X_test_scale, y_train, y_test = train_test_split(\\n        X_scale, y, test_size=testsize, random_state=19\\n    )\\n\\n    return X_train_scale, X_test_scale, y_train, y_test\";\n",
       "                var nbb_formatted_code = \"def get_split_data(df4model, testsize):\\n    y = df4model[\\\"event_code\\\"]\\n    X = df4model.iloc[:, :-1]\\n\\n    # Scale features based on training data\\n    std_scale = StandardScaler()\\n    X_scale = std_scale.fit_transform(X)\\n\\n    X_train_scale, X_test_scale, y_train, y_test = train_test_split(\\n        X_scale, y, test_size=testsize, random_state=19\\n    )\\n\\n    return X_train_scale, X_test_scale, y_train, y_test\";\n",
       "                var nbb_cells = Jupyter.notebook.get_cells();\n",
       "                for (var i = 0; i < nbb_cells.length; ++i) {\n",
       "                    if (nbb_cells[i].input_prompt_number == nbb_cell_id) {\n",
       "                        if (nbb_cells[i].get_text() == nbb_unformatted_code) {\n",
       "                             nbb_cells[i].set_text(nbb_formatted_code);\n",
       "                        }\n",
       "                        break;\n",
       "                    }\n",
       "                }\n",
       "            }, 500);\n",
       "            "
      ],
      "text/plain": [
       "<IPython.core.display.Javascript object>"
      ]
     },
     "metadata": {},
     "output_type": "display_data"
    }
   ],
   "source": [
    "def get_split_data(df4model, testsize):\n",
    "    y = df4model[\"event_code\"]\n",
    "    X = df4model.iloc[:, :-1]\n",
    "\n",
    "    # Scale features based on training data\n",
    "    std_scale = StandardScaler()\n",
    "    X_scale = std_scale.fit_transform(X)\n",
    "\n",
    "    X_train_scale, X_test_scale, y_train, y_test = train_test_split(\n",
    "        X_scale, y, test_size=testsize, random_state=19\n",
    "    )\n",
    "\n",
    "    return X_train_scale, X_test_scale, y_train, y_test"
   ]
  },
  {
   "cell_type": "code",
   "execution_count": 134,
   "metadata": {
    "ExecuteTime": {
     "end_time": "2020-01-30T06:12:00.283174Z",
     "start_time": "2020-01-30T06:12:00.267881Z"
    }
   },
   "outputs": [
    {
     "data": {
      "application/javascript": [
       "\n",
       "            setTimeout(function() {\n",
       "                var nbb_cell_id = 134;\n",
       "                var nbb_unformatted_code = \"X_train_scale_b1b2, X_test_scale_b1b2, y_train_b1b2, y_test_b1b2 = get_split_data(\\n    df_sc_events_b1b2_bpe_4model, 0.4\\n)\";\n",
       "                var nbb_formatted_code = \"X_train_scale_b1b2, X_test_scale_b1b2, y_train_b1b2, y_test_b1b2 = get_split_data(\\n    df_sc_events_b1b2_bpe_4model, 0.4\\n)\";\n",
       "                var nbb_cells = Jupyter.notebook.get_cells();\n",
       "                for (var i = 0; i < nbb_cells.length; ++i) {\n",
       "                    if (nbb_cells[i].input_prompt_number == nbb_cell_id) {\n",
       "                        if (nbb_cells[i].get_text() == nbb_unformatted_code) {\n",
       "                             nbb_cells[i].set_text(nbb_formatted_code);\n",
       "                        }\n",
       "                        break;\n",
       "                    }\n",
       "                }\n",
       "            }, 500);\n",
       "            "
      ],
      "text/plain": [
       "<IPython.core.display.Javascript object>"
      ]
     },
     "metadata": {},
     "output_type": "display_data"
    }
   ],
   "source": [
    "X_train_scale_b1b2, X_test_scale_b1b2, y_train_b1b2, y_test_b1b2 = get_split_data(\n",
    "    df_sc_events_b1b2_bpe_4model, 0.4\n",
    ")"
   ]
  },
  {
   "cell_type": "code",
   "execution_count": 135,
   "metadata": {
    "ExecuteTime": {
     "end_time": "2020-01-30T06:12:03.546031Z",
     "start_time": "2020-01-30T06:12:03.527608Z"
    },
    "code_folding": [
     0
    ]
   },
   "outputs": [
    {
     "data": {
      "application/javascript": [
       "\n",
       "            setTimeout(function() {\n",
       "                var nbb_cell_id = 135;\n",
       "                var nbb_unformatted_code = \"def run_logreg_model(X_train_scale_set, y_train_set, X_test_scale_set, y_test_set):\\n\\n    log_reg = LogisticRegression(class_weight=\\\"balanced\\\")\\n    log_reg.fit(X_train_scale_set, y_train_set)\\n\\n    y_pred = log_reg.predict(X_test_scale_set)\\n    y_predprob = log_reg.predict_proba(X_test_scale_set)[:, 1]\\n    df_eval = pd.DataFrame({\\\"test\\\": y_test_set, \\\"pred\\\": y_pred, \\\"predprob\\\": y_predprob})\\n\\n    return log_reg, df_eval\";\n",
       "                var nbb_formatted_code = \"def run_logreg_model(X_train_scale_set, y_train_set, X_test_scale_set, y_test_set):\\n\\n    log_reg = LogisticRegression(class_weight=\\\"balanced\\\")\\n    log_reg.fit(X_train_scale_set, y_train_set)\\n\\n    y_pred = log_reg.predict(X_test_scale_set)\\n    y_predprob = log_reg.predict_proba(X_test_scale_set)[:, 1]\\n    df_eval = pd.DataFrame({\\\"test\\\": y_test_set, \\\"pred\\\": y_pred, \\\"predprob\\\": y_predprob})\\n\\n    return log_reg, df_eval\";\n",
       "                var nbb_cells = Jupyter.notebook.get_cells();\n",
       "                for (var i = 0; i < nbb_cells.length; ++i) {\n",
       "                    if (nbb_cells[i].input_prompt_number == nbb_cell_id) {\n",
       "                        if (nbb_cells[i].get_text() == nbb_unformatted_code) {\n",
       "                             nbb_cells[i].set_text(nbb_formatted_code);\n",
       "                        }\n",
       "                        break;\n",
       "                    }\n",
       "                }\n",
       "            }, 500);\n",
       "            "
      ],
      "text/plain": [
       "<IPython.core.display.Javascript object>"
      ]
     },
     "metadata": {},
     "output_type": "display_data"
    }
   ],
   "source": [
    "def run_logreg_model(X_train_scale_set, y_train_set, X_test_scale_set, y_test_set):\n",
    "\n",
    "    log_reg = LogisticRegression(class_weight=\"balanced\")\n",
    "    log_reg.fit(X_train_scale_set, y_train_set)\n",
    "\n",
    "    y_pred = log_reg.predict(X_test_scale_set)\n",
    "    y_predprob = log_reg.predict_proba(X_test_scale_set)[:, 1]\n",
    "    df_eval = pd.DataFrame({\"test\": y_test_set, \"pred\": y_pred, \"predprob\": y_predprob})\n",
    "\n",
    "    return log_reg, df_eval"
   ]
  },
  {
   "cell_type": "code",
   "execution_count": 136,
   "metadata": {
    "ExecuteTime": {
     "end_time": "2020-01-30T06:12:04.915154Z",
     "start_time": "2020-01-30T06:12:04.896967Z"
    }
   },
   "outputs": [
    {
     "data": {
      "application/javascript": [
       "\n",
       "            setTimeout(function() {\n",
       "                var nbb_cell_id = 136;\n",
       "                var nbb_unformatted_code = \"# Run models\\nlog_reg_b1b2, df_eval_b1b2 = run_logreg_model(\\n    X_train_scale_b1b2, y_train_b1b2, X_test_scale_b1b2, y_test_b1b2\\n)\";\n",
       "                var nbb_formatted_code = \"# Run models\\nlog_reg_b1b2, df_eval_b1b2 = run_logreg_model(\\n    X_train_scale_b1b2, y_train_b1b2, X_test_scale_b1b2, y_test_b1b2\\n)\";\n",
       "                var nbb_cells = Jupyter.notebook.get_cells();\n",
       "                for (var i = 0; i < nbb_cells.length; ++i) {\n",
       "                    if (nbb_cells[i].input_prompt_number == nbb_cell_id) {\n",
       "                        if (nbb_cells[i].get_text() == nbb_unformatted_code) {\n",
       "                             nbb_cells[i].set_text(nbb_formatted_code);\n",
       "                        }\n",
       "                        break;\n",
       "                    }\n",
       "                }\n",
       "            }, 500);\n",
       "            "
      ],
      "text/plain": [
       "<IPython.core.display.Javascript object>"
      ]
     },
     "metadata": {},
     "output_type": "display_data"
    }
   ],
   "source": [
    "# Run models\n",
    "log_reg_b1b2, df_eval_b1b2 = run_logreg_model(\n",
    "    X_train_scale_b1b2, y_train_b1b2, X_test_scale_b1b2, y_test_b1b2\n",
    ")\n"
   ]
  },
  {
   "cell_type": "code",
   "execution_count": 137,
   "metadata": {
    "ExecuteTime": {
     "end_time": "2020-01-30T06:12:06.392225Z",
     "start_time": "2020-01-30T06:12:06.379846Z"
    }
   },
   "outputs": [
    {
     "data": {
      "text/html": [
       "<div>\n",
       "<style scoped>\n",
       "    .dataframe tbody tr th:only-of-type {\n",
       "        vertical-align: middle;\n",
       "    }\n",
       "\n",
       "    .dataframe tbody tr th {\n",
       "        vertical-align: top;\n",
       "    }\n",
       "\n",
       "    .dataframe thead th {\n",
       "        text-align: right;\n",
       "    }\n",
       "</style>\n",
       "<table border=\"1\" class=\"dataframe\">\n",
       "  <thead>\n",
       "    <tr style=\"text-align: right;\">\n",
       "      <th></th>\n",
       "      <th>test</th>\n",
       "      <th>pred</th>\n",
       "      <th>predprob</th>\n",
       "    </tr>\n",
       "  </thead>\n",
       "  <tbody>\n",
       "    <tr>\n",
       "      <th>271</th>\n",
       "      <td>1</td>\n",
       "      <td>0</td>\n",
       "      <td>0.473426</td>\n",
       "    </tr>\n",
       "    <tr>\n",
       "      <th>203</th>\n",
       "      <td>0</td>\n",
       "      <td>0</td>\n",
       "      <td>0.473426</td>\n",
       "    </tr>\n",
       "    <tr>\n",
       "      <th>272</th>\n",
       "      <td>0</td>\n",
       "      <td>1</td>\n",
       "      <td>0.535937</td>\n",
       "    </tr>\n",
       "    <tr>\n",
       "      <th>157</th>\n",
       "      <td>1</td>\n",
       "      <td>1</td>\n",
       "      <td>0.537720</td>\n",
       "    </tr>\n",
       "    <tr>\n",
       "      <th>198</th>\n",
       "      <td>0</td>\n",
       "      <td>1</td>\n",
       "      <td>0.506387</td>\n",
       "    </tr>\n",
       "  </tbody>\n",
       "</table>\n",
       "</div>"
      ],
      "text/plain": [
       "     test  pred  predprob\n",
       "271     1     0  0.473426\n",
       "203     0     0  0.473426\n",
       "272     0     1  0.535937\n",
       "157     1     1  0.537720\n",
       "198     0     1  0.506387"
      ]
     },
     "execution_count": 137,
     "metadata": {},
     "output_type": "execute_result"
    },
    {
     "data": {
      "application/javascript": [
       "\n",
       "            setTimeout(function() {\n",
       "                var nbb_cell_id = 137;\n",
       "                var nbb_unformatted_code = \"df_eval_b1b2.head()\";\n",
       "                var nbb_formatted_code = \"df_eval_b1b2.head()\";\n",
       "                var nbb_cells = Jupyter.notebook.get_cells();\n",
       "                for (var i = 0; i < nbb_cells.length; ++i) {\n",
       "                    if (nbb_cells[i].input_prompt_number == nbb_cell_id) {\n",
       "                        if (nbb_cells[i].get_text() == nbb_unformatted_code) {\n",
       "                             nbb_cells[i].set_text(nbb_formatted_code);\n",
       "                        }\n",
       "                        break;\n",
       "                    }\n",
       "                }\n",
       "            }, 500);\n",
       "            "
      ],
      "text/plain": [
       "<IPython.core.display.Javascript object>"
      ]
     },
     "metadata": {},
     "output_type": "display_data"
    }
   ],
   "source": [
    "df_eval_b1b2.head()"
   ]
  },
  {
   "cell_type": "code",
   "execution_count": 138,
   "metadata": {
    "ExecuteTime": {
     "end_time": "2020-01-30T06:12:09.465446Z",
     "start_time": "2020-01-30T06:12:09.449414Z"
    }
   },
   "outputs": [
    {
     "name": "stdout",
     "output_type": "stream",
     "text": [
      "              precision    recall  f1-score   support\n",
      "\n",
      "           0       0.67      0.44      0.53       441\n",
      "           1       0.32      0.55      0.41       213\n",
      "\n",
      "    accuracy                           0.48       654\n",
      "   macro avg       0.50      0.50      0.47       654\n",
      "weighted avg       0.56      0.48      0.49       654\n",
      "\n"
     ]
    },
    {
     "data": {
      "application/javascript": [
       "\n",
       "            setTimeout(function() {\n",
       "                var nbb_cell_id = 138;\n",
       "                var nbb_unformatted_code = \"print(metrics.classification_report(df_eval_b1b2[\\\"test\\\"], df_eval_b1b2[\\\"pred\\\"]))\";\n",
       "                var nbb_formatted_code = \"print(metrics.classification_report(df_eval_b1b2[\\\"test\\\"], df_eval_b1b2[\\\"pred\\\"]))\";\n",
       "                var nbb_cells = Jupyter.notebook.get_cells();\n",
       "                for (var i = 0; i < nbb_cells.length; ++i) {\n",
       "                    if (nbb_cells[i].input_prompt_number == nbb_cell_id) {\n",
       "                        if (nbb_cells[i].get_text() == nbb_unformatted_code) {\n",
       "                             nbb_cells[i].set_text(nbb_formatted_code);\n",
       "                        }\n",
       "                        break;\n",
       "                    }\n",
       "                }\n",
       "            }, 500);\n",
       "            "
      ],
      "text/plain": [
       "<IPython.core.display.Javascript object>"
      ]
     },
     "metadata": {},
     "output_type": "display_data"
    }
   ],
   "source": [
    "print(metrics.classification_report(df_eval_b1b2[\"test\"], df_eval_b1b2[\"pred\"]))"
   ]
  },
  {
   "cell_type": "code",
   "execution_count": 139,
   "metadata": {
    "ExecuteTime": {
     "end_time": "2020-01-30T06:12:14.529030Z",
     "start_time": "2020-01-30T06:12:14.517856Z"
    }
   },
   "outputs": [
    {
     "data": {
      "text/plain": [
       "0.5056065239551478"
      ]
     },
     "execution_count": 139,
     "metadata": {},
     "output_type": "execute_result"
    },
    {
     "data": {
      "application/javascript": [
       "\n",
       "            setTimeout(function() {\n",
       "                var nbb_cell_id = 139;\n",
       "                var nbb_unformatted_code = \"log_reg_b1b2.score(X_train_scale_b1b2, y_train_b1b2)\";\n",
       "                var nbb_formatted_code = \"log_reg_b1b2.score(X_train_scale_b1b2, y_train_b1b2)\";\n",
       "                var nbb_cells = Jupyter.notebook.get_cells();\n",
       "                for (var i = 0; i < nbb_cells.length; ++i) {\n",
       "                    if (nbb_cells[i].input_prompt_number == nbb_cell_id) {\n",
       "                        if (nbb_cells[i].get_text() == nbb_unformatted_code) {\n",
       "                             nbb_cells[i].set_text(nbb_formatted_code);\n",
       "                        }\n",
       "                        break;\n",
       "                    }\n",
       "                }\n",
       "            }, 500);\n",
       "            "
      ],
      "text/plain": [
       "<IPython.core.display.Javascript object>"
      ]
     },
     "metadata": {},
     "output_type": "display_data"
    }
   ],
   "source": [
    "log_reg_b1b2.score(X_train_scale_b1b2, y_train_b1b2)"
   ]
  },
  {
   "cell_type": "code",
   "execution_count": 140,
   "metadata": {
    "ExecuteTime": {
     "end_time": "2020-01-30T06:12:15.636936Z",
     "start_time": "2020-01-30T06:12:15.625608Z"
    }
   },
   "outputs": [
    {
     "data": {
      "text/plain": [
       "0.4785932721712538"
      ]
     },
     "execution_count": 140,
     "metadata": {},
     "output_type": "execute_result"
    },
    {
     "data": {
      "application/javascript": [
       "\n",
       "            setTimeout(function() {\n",
       "                var nbb_cell_id = 140;\n",
       "                var nbb_unformatted_code = \"log_reg_b1b2.score(X_test_scale_b1b2, y_test_b1b2)\";\n",
       "                var nbb_formatted_code = \"log_reg_b1b2.score(X_test_scale_b1b2, y_test_b1b2)\";\n",
       "                var nbb_cells = Jupyter.notebook.get_cells();\n",
       "                for (var i = 0; i < nbb_cells.length; ++i) {\n",
       "                    if (nbb_cells[i].input_prompt_number == nbb_cell_id) {\n",
       "                        if (nbb_cells[i].get_text() == nbb_unformatted_code) {\n",
       "                             nbb_cells[i].set_text(nbb_formatted_code);\n",
       "                        }\n",
       "                        break;\n",
       "                    }\n",
       "                }\n",
       "            }, 500);\n",
       "            "
      ],
      "text/plain": [
       "<IPython.core.display.Javascript object>"
      ]
     },
     "metadata": {},
     "output_type": "display_data"
    }
   ],
   "source": [
    "log_reg_b1b2.score(X_test_scale_b1b2, y_test_b1b2)"
   ]
  },
  {
   "cell_type": "code",
   "execution_count": 141,
   "metadata": {
    "ExecuteTime": {
     "end_time": "2020-01-30T06:12:17.490330Z",
     "start_time": "2020-01-30T06:12:17.182849Z"
    }
   },
   "outputs": [
    {
     "data": {
      "text/plain": [
       "<matplotlib.collections.PathCollection at 0x1a2686b358>"
      ]
     },
     "execution_count": 141,
     "metadata": {},
     "output_type": "execute_result"
    },
    {
     "data": {
      "image/png": "[encoded data removed]",
      "text/plain": [
       "<Figure size 864x288 with 2 Axes>"
      ]
     },
     "metadata": {
      "needs_background": "light"
     },
     "output_type": "display_data"
    },
    {
     "data": {
      "application/javascript": [
       "\n",
       "            setTimeout(function() {\n",
       "                var nbb_cell_id = 141;\n",
       "                var nbb_unformatted_code = \"f, (ax1, ax2) = plt.subplots(1, 2, figsize=(12, 4))\\nax1.hist(log_reg_b1b2.decision_function(X_test_scale_b1b2))\\nax2.scatter(log_reg_b1b2.decision_function(X_test_scale_b1b2), y_test_b1b2)\";\n",
       "                var nbb_formatted_code = \"f, (ax1, ax2) = plt.subplots(1, 2, figsize=(12, 4))\\nax1.hist(log_reg_b1b2.decision_function(X_test_scale_b1b2))\\nax2.scatter(log_reg_b1b2.decision_function(X_test_scale_b1b2), y_test_b1b2)\";\n",
       "                var nbb_cells = Jupyter.notebook.get_cells();\n",
       "                for (var i = 0; i < nbb_cells.length; ++i) {\n",
       "                    if (nbb_cells[i].input_prompt_number == nbb_cell_id) {\n",
       "                        if (nbb_cells[i].get_text() == nbb_unformatted_code) {\n",
       "                             nbb_cells[i].set_text(nbb_formatted_code);\n",
       "                        }\n",
       "                        break;\n",
       "                    }\n",
       "                }\n",
       "            }, 500);\n",
       "            "
      ],
      "text/plain": [
       "<IPython.core.display.Javascript object>"
      ]
     },
     "metadata": {},
     "output_type": "display_data"
    }
   ],
   "source": [
    "f, (ax1, ax2) = plt.subplots(1, 2, figsize=(12, 4))\n",
    "ax1.hist(log_reg_b1b2.decision_function(X_test_scale_b1b2))\n",
    "ax2.scatter(log_reg_b1b2.decision_function(X_test_scale_b1b2), y_test_b1b2)"
   ]
  },
  {
   "cell_type": "code",
   "execution_count": 142,
   "metadata": {
    "ExecuteTime": {
     "end_time": "2020-01-30T06:12:22.495426Z",
     "start_time": "2020-01-30T06:12:22.485903Z"
    }
   },
   "outputs": [
    {
     "data": {
      "text/plain": [
       "array([[ 0.63611255, -1.54892492, -0.95279482],\n",
       "       [ 0.63611255, -1.54892492, -0.95279482],\n",
       "       [-1.57204885,  0.64560909,  1.04954391],\n",
       "       ...,\n",
       "       [ 0.63611255,  0.64560909,  1.04954391],\n",
       "       [ 0.63611255, -1.54892492,  1.04954391],\n",
       "       [ 0.63611255, -1.54892492, -0.95279482]])"
      ]
     },
     "execution_count": 142,
     "metadata": {},
     "output_type": "execute_result"
    },
    {
     "data": {
      "application/javascript": [
       "\n",
       "            setTimeout(function() {\n",
       "                var nbb_cell_id = 142;\n",
       "                var nbb_unformatted_code = \"X_test_scale_b1b2\";\n",
       "                var nbb_formatted_code = \"X_test_scale_b1b2\";\n",
       "                var nbb_cells = Jupyter.notebook.get_cells();\n",
       "                for (var i = 0; i < nbb_cells.length; ++i) {\n",
       "                    if (nbb_cells[i].input_prompt_number == nbb_cell_id) {\n",
       "                        if (nbb_cells[i].get_text() == nbb_unformatted_code) {\n",
       "                             nbb_cells[i].set_text(nbb_formatted_code);\n",
       "                        }\n",
       "                        break;\n",
       "                    }\n",
       "                }\n",
       "            }, 500);\n",
       "            "
      ],
      "text/plain": [
       "<IPython.core.display.Javascript object>"
      ]
     },
     "metadata": {},
     "output_type": "display_data"
    }
   ],
   "source": [
    "X_test_scale_b1b2"
   ]
  },
  {
   "cell_type": "code",
   "execution_count": 143,
   "metadata": {
    "ExecuteTime": {
     "end_time": "2020-01-30T06:12:23.855515Z",
     "start_time": "2020-01-30T06:12:23.844407Z"
    }
   },
   "outputs": [
    {
     "data": {
      "text/plain": [
       "array([[-0.11664244,  0.06012455, -0.06947827]])"
      ]
     },
     "execution_count": 143,
     "metadata": {},
     "output_type": "execute_result"
    },
    {
     "data": {
      "application/javascript": [
       "\n",
       "            setTimeout(function() {\n",
       "                var nbb_cell_id = 143;\n",
       "                var nbb_unformatted_code = \"log_reg_b1b2.coef_\";\n",
       "                var nbb_formatted_code = \"log_reg_b1b2.coef_\";\n",
       "                var nbb_cells = Jupyter.notebook.get_cells();\n",
       "                for (var i = 0; i < nbb_cells.length; ++i) {\n",
       "                    if (nbb_cells[i].input_prompt_number == nbb_cell_id) {\n",
       "                        if (nbb_cells[i].get_text() == nbb_unformatted_code) {\n",
       "                             nbb_cells[i].set_text(nbb_formatted_code);\n",
       "                        }\n",
       "                        break;\n",
       "                    }\n",
       "                }\n",
       "            }, 500);\n",
       "            "
      ],
      "text/plain": [
       "<IPython.core.display.Javascript object>"
      ]
     },
     "metadata": {},
     "output_type": "display_data"
    }
   ],
   "source": [
    "log_reg_b1b2.coef_"
   ]
  },
  {
   "cell_type": "code",
   "execution_count": null,
   "metadata": {},
   "outputs": [],
   "source": []
  },
  {
   "cell_type": "code",
   "execution_count": null,
   "metadata": {},
   "outputs": [],
   "source": []
  },
  {
   "cell_type": "code",
   "execution_count": null,
   "metadata": {},
   "outputs": [],
   "source": []
  },
  {
   "cell_type": "markdown",
   "metadata": {},
   "source": [
    "## Validation"
   ]
  },
  {
   "cell_type": "code",
   "execution_count": null,
   "metadata": {},
   "outputs": [],
   "source": []
  },
  {
   "cell_type": "code",
   "execution_count": null,
   "metadata": {},
   "outputs": [],
   "source": []
  },
  {
   "cell_type": "code",
   "execution_count": null,
   "metadata": {},
   "outputs": [],
   "source": []
  },
  {
   "cell_type": "code",
   "execution_count": null,
   "metadata": {},
   "outputs": [],
   "source": []
  },
  {
   "cell_type": "markdown",
   "metadata": {},
   "source": [
    "# Predict singles, home runs, etc."
   ]
  },
  {
   "cell_type": "code",
   "execution_count": 145,
   "metadata": {
    "ExecuteTime": {
     "end_time": "2020-01-30T06:18:47.299435Z",
     "start_time": "2020-01-30T06:18:47.220618Z"
    },
    "code_folding": [
     0
    ]
   },
   "outputs": [
    {
     "data": {
      "application/javascript": [
       "\n",
       "            setTimeout(function() {\n",
       "                var nbb_cell_id = 145;\n",
       "                var nbb_unformatted_code = \"def get_predf4model_detailed(pid1, pid2):\\n    df_sc_events_b1 = get_sc_batter_df(pid_of_interest1, date_of_interest, 5000)\\n    df_sc_events_b2 = get_sc_batter_df(pid_of_interest2, date_of_interest, 5000)\\n    df_sc_events_b1b2 = pd.concat([df_sc_events_b1, df_sc_events_b2], axis=0)\\n\\n    col2keep = [\\n        \\\"game_date\\\",\\n        \\\"batter\\\",\\n        \\\"stand\\\",\\n        \\\"pitcher\\\",\\n        \\\"p_throws\\\",\\n        \\\"events\\\",\\n        \\\"inning_topbot\\\",\\n    ]\\n\\n    df_sc_events_b1b2_bpe = df_sc_events_b1b2[col2keep].copy()\\n\\n    batter_code = {\\n        df_sc_events_b1b2_bpe[\\\"batter\\\"].unique()[0]: 0,\\n        df_sc_events_b1b2_bpe[\\\"batter\\\"].unique()[1]: 1,\\n    }\\n\\n    df_sc_events_b1b2_bpe[\\\"batter\\\"].replace(batter_code, inplace=True)\\n\\n    df_sc_events_b1b2_bpe[\\\"stand\\\"].replace({\\\"L\\\": 0, \\\"R\\\": 1}, inplace=True)\\n\\n    pitcher_code = dict(\\n        zip(\\n            range(len(df_sc_events_b1b2_bpe[\\\"pitcher\\\"].unique())),\\n            df_sc_events_b1b2_bpe[\\\"pitcher\\\"].unique(),\\n        )\\n    )\\n    df_sc_events_b1b2_bpe[\\\"pitcher\\\"].replace(pitcher_code, inplace=True)\\n\\n    df_sc_events_b1b2_bpe[\\\"p_throws\\\"].replace({\\\"L\\\": 0, \\\"R\\\": 1}, inplace=True)\\n\\n    df_sc_events_b1b2_bpe[\\\"inning_topbot\\\"].replace({\\\"Top\\\": 0, \\\"Bot\\\": 1}, inplace=True)\\n\\n    #     events2count = [\\\"walk\\\", \\\"single\\\", \\\"double\\\", \\\"triple\\\", \\\"home_run\\\"]\\n    #     df_sc_events_b1b2_bpe[\\\"event_code\\\"] = 0\\n    #     df_sc_events_b1b2_bpe.loc[\\n    #         df_sc_events_b1b2_bpe[\\\"events\\\"].isin(events2count), \\\"event_code\\\"\\n    #     ] = 1\\n\\n    return df_sc_events_b1b2_bpe\";\n",
       "                var nbb_formatted_code = \"def get_predf4model_detailed(pid1, pid2):\\n    df_sc_events_b1 = get_sc_batter_df(pid_of_interest1, date_of_interest, 5000)\\n    df_sc_events_b2 = get_sc_batter_df(pid_of_interest2, date_of_interest, 5000)\\n    df_sc_events_b1b2 = pd.concat([df_sc_events_b1, df_sc_events_b2], axis=0)\\n\\n    col2keep = [\\n        \\\"game_date\\\",\\n        \\\"batter\\\",\\n        \\\"stand\\\",\\n        \\\"pitcher\\\",\\n        \\\"p_throws\\\",\\n        \\\"events\\\",\\n        \\\"inning_topbot\\\",\\n    ]\\n\\n    df_sc_events_b1b2_bpe = df_sc_events_b1b2[col2keep].copy()\\n\\n    batter_code = {\\n        df_sc_events_b1b2_bpe[\\\"batter\\\"].unique()[0]: 0,\\n        df_sc_events_b1b2_bpe[\\\"batter\\\"].unique()[1]: 1,\\n    }\\n\\n    df_sc_events_b1b2_bpe[\\\"batter\\\"].replace(batter_code, inplace=True)\\n\\n    df_sc_events_b1b2_bpe[\\\"stand\\\"].replace({\\\"L\\\": 0, \\\"R\\\": 1}, inplace=True)\\n\\n    pitcher_code = dict(\\n        zip(\\n            range(len(df_sc_events_b1b2_bpe[\\\"pitcher\\\"].unique())),\\n            df_sc_events_b1b2_bpe[\\\"pitcher\\\"].unique(),\\n        )\\n    )\\n    df_sc_events_b1b2_bpe[\\\"pitcher\\\"].replace(pitcher_code, inplace=True)\\n\\n    df_sc_events_b1b2_bpe[\\\"p_throws\\\"].replace({\\\"L\\\": 0, \\\"R\\\": 1}, inplace=True)\\n\\n    df_sc_events_b1b2_bpe[\\\"inning_topbot\\\"].replace({\\\"Top\\\": 0, \\\"Bot\\\": 1}, inplace=True)\\n\\n    #     events2count = [\\\"walk\\\", \\\"single\\\", \\\"double\\\", \\\"triple\\\", \\\"home_run\\\"]\\n    #     df_sc_events_b1b2_bpe[\\\"event_code\\\"] = 0\\n    #     df_sc_events_b1b2_bpe.loc[\\n    #         df_sc_events_b1b2_bpe[\\\"events\\\"].isin(events2count), \\\"event_code\\\"\\n    #     ] = 1\\n\\n    return df_sc_events_b1b2_bpe\";\n",
       "                var nbb_cells = Jupyter.notebook.get_cells();\n",
       "                for (var i = 0; i < nbb_cells.length; ++i) {\n",
       "                    if (nbb_cells[i].input_prompt_number == nbb_cell_id) {\n",
       "                        if (nbb_cells[i].get_text() == nbb_unformatted_code) {\n",
       "                             nbb_cells[i].set_text(nbb_formatted_code);\n",
       "                        }\n",
       "                        break;\n",
       "                    }\n",
       "                }\n",
       "            }, 500);\n",
       "            "
      ],
      "text/plain": [
       "<IPython.core.display.Javascript object>"
      ]
     },
     "metadata": {},
     "output_type": "display_data"
    }
   ],
   "source": [
    "def get_predf4model_detailed(pid1, pid2):\n",
    "    df_sc_events_b1 = get_sc_batter_df(pid_of_interest1, date_of_interest, 5000)\n",
    "    df_sc_events_b2 = get_sc_batter_df(pid_of_interest2, date_of_interest, 5000)\n",
    "    df_sc_events_b1b2 = pd.concat([df_sc_events_b1, df_sc_events_b2], axis=0)\n",
    "\n",
    "    col2keep = [\n",
    "        \"game_date\",\n",
    "        \"batter\",\n",
    "        \"stand\",\n",
    "        \"pitcher\",\n",
    "        \"p_throws\",\n",
    "        \"events\",\n",
    "        \"inning_topbot\",\n",
    "    ]\n",
    "\n",
    "    df_sc_events_b1b2_bpe = df_sc_events_b1b2[col2keep].copy()\n",
    "\n",
    "    batter_code = {\n",
    "        df_sc_events_b1b2_bpe[\"batter\"].unique()[0]: 0,\n",
    "        df_sc_events_b1b2_bpe[\"batter\"].unique()[1]: 1,\n",
    "    }\n",
    "\n",
    "    df_sc_events_b1b2_bpe[\"batter\"].replace(batter_code, inplace=True)\n",
    "\n",
    "    df_sc_events_b1b2_bpe[\"stand\"].replace({\"L\": 0, \"R\": 1}, inplace=True)\n",
    "\n",
    "    pitcher_code = dict(\n",
    "        zip(\n",
    "            range(len(df_sc_events_b1b2_bpe[\"pitcher\"].unique())),\n",
    "            df_sc_events_b1b2_bpe[\"pitcher\"].unique(),\n",
    "        )\n",
    "    )\n",
    "    df_sc_events_b1b2_bpe[\"pitcher\"].replace(pitcher_code, inplace=True)\n",
    "\n",
    "    df_sc_events_b1b2_bpe[\"p_throws\"].replace({\"L\": 0, \"R\": 1}, inplace=True)\n",
    "\n",
    "    df_sc_events_b1b2_bpe[\"inning_topbot\"].replace({\"Top\": 0, \"Bot\": 1}, inplace=True)\n",
    "\n",
    "    #     events2count = [\"walk\", \"single\", \"double\", \"triple\", \"home_run\"]\n",
    "    #     df_sc_events_b1b2_bpe[\"event_code\"] = 0\n",
    "    #     df_sc_events_b1b2_bpe.loc[\n",
    "    #         df_sc_events_b1b2_bpe[\"events\"].isin(events2count), \"event_code\"\n",
    "    #     ] = 1\n",
    "\n",
    "    return df_sc_events_b1b2_bpe"
   ]
  },
  {
   "cell_type": "code",
   "execution_count": 146,
   "metadata": {
    "ExecuteTime": {
     "end_time": "2020-01-30T06:19:28.865860Z",
     "start_time": "2020-01-30T06:19:14.231956Z"
    }
   },
   "outputs": [
    {
     "data": {
      "application/javascript": [
       "\n",
       "            setTimeout(function() {\n",
       "                var nbb_cell_id = 146;\n",
       "                var nbb_unformatted_code = \"df_sc_b1b2_det = get_predf4model_detailed(pid_of_interest1, pid_of_interest2)\";\n",
       "                var nbb_formatted_code = \"df_sc_b1b2_det = get_predf4model_detailed(pid_of_interest1, pid_of_interest2)\";\n",
       "                var nbb_cells = Jupyter.notebook.get_cells();\n",
       "                for (var i = 0; i < nbb_cells.length; ++i) {\n",
       "                    if (nbb_cells[i].input_prompt_number == nbb_cell_id) {\n",
       "                        if (nbb_cells[i].get_text() == nbb_unformatted_code) {\n",
       "                             nbb_cells[i].set_text(nbb_formatted_code);\n",
       "                        }\n",
       "                        break;\n",
       "                    }\n",
       "                }\n",
       "            }, 500);\n",
       "            "
      ],
      "text/plain": [
       "<IPython.core.display.Javascript object>"
      ]
     },
     "metadata": {},
     "output_type": "display_data"
    }
   ],
   "source": [
    "df_sc_b1b2_det = get_predf4model_detailed(pid_of_interest1, pid_of_interest2)"
   ]
  },
  {
   "cell_type": "code",
   "execution_count": null,
   "metadata": {},
   "outputs": [],
   "source": []
  },
  {
   "cell_type": "code",
   "execution_count": 147,
   "metadata": {
    "ExecuteTime": {
     "end_time": "2020-01-30T06:19:29.339706Z",
     "start_time": "2020-01-30T06:19:29.320739Z"
    }
   },
   "outputs": [
    {
     "data": {
      "text/html": [
       "<div>\n",
       "<style scoped>\n",
       "    .dataframe tbody tr th:only-of-type {\n",
       "        vertical-align: middle;\n",
       "    }\n",
       "\n",
       "    .dataframe tbody tr th {\n",
       "        vertical-align: top;\n",
       "    }\n",
       "\n",
       "    .dataframe thead th {\n",
       "        text-align: right;\n",
       "    }\n",
       "</style>\n",
       "<table border=\"1\" class=\"dataframe\">\n",
       "  <thead>\n",
       "    <tr style=\"text-align: right;\">\n",
       "      <th></th>\n",
       "      <th>game_date</th>\n",
       "      <th>batter</th>\n",
       "      <th>stand</th>\n",
       "      <th>pitcher</th>\n",
       "      <th>p_throws</th>\n",
       "      <th>events</th>\n",
       "      <th>inning_topbot</th>\n",
       "    </tr>\n",
       "  </thead>\n",
       "  <tbody>\n",
       "    <tr>\n",
       "      <th>0</th>\n",
       "      <td>2019-09-04</td>\n",
       "      <td>0.0</td>\n",
       "      <td>0</td>\n",
       "      <td>570632.0</td>\n",
       "      <td>1</td>\n",
       "      <td>single</td>\n",
       "      <td>1</td>\n",
       "    </tr>\n",
       "    <tr>\n",
       "      <th>1</th>\n",
       "      <td>2019-09-04</td>\n",
       "      <td>0.0</td>\n",
       "      <td>1</td>\n",
       "      <td>543045.0</td>\n",
       "      <td>0</td>\n",
       "      <td>strikeout</td>\n",
       "      <td>1</td>\n",
       "    </tr>\n",
       "    <tr>\n",
       "      <th>2</th>\n",
       "      <td>2019-09-04</td>\n",
       "      <td>0.0</td>\n",
       "      <td>0</td>\n",
       "      <td>667498.0</td>\n",
       "      <td>1</td>\n",
       "      <td>field_out</td>\n",
       "      <td>1</td>\n",
       "    </tr>\n",
       "    <tr>\n",
       "      <th>3</th>\n",
       "      <td>2019-09-04</td>\n",
       "      <td>0.0</td>\n",
       "      <td>0</td>\n",
       "      <td>667498.0</td>\n",
       "      <td>1</td>\n",
       "      <td>double</td>\n",
       "      <td>1</td>\n",
       "    </tr>\n",
       "    <tr>\n",
       "      <th>4</th>\n",
       "      <td>2019-09-04</td>\n",
       "      <td>0.0</td>\n",
       "      <td>0</td>\n",
       "      <td>667498.0</td>\n",
       "      <td>1</td>\n",
       "      <td>field_error</td>\n",
       "      <td>1</td>\n",
       "    </tr>\n",
       "  </tbody>\n",
       "</table>\n",
       "</div>"
      ],
      "text/plain": [
       "   game_date  batter  stand   pitcher  p_throws       events  inning_topbot\n",
       "0 2019-09-04     0.0      0  570632.0         1       single              1\n",
       "1 2019-09-04     0.0      1  543045.0         0    strikeout              1\n",
       "2 2019-09-04     0.0      0  667498.0         1    field_out              1\n",
       "3 2019-09-04     0.0      0  667498.0         1       double              1\n",
       "4 2019-09-04     0.0      0  667498.0         1  field_error              1"
      ]
     },
     "execution_count": 147,
     "metadata": {},
     "output_type": "execute_result"
    },
    {
     "data": {
      "application/javascript": [
       "\n",
       "            setTimeout(function() {\n",
       "                var nbb_cell_id = 147;\n",
       "                var nbb_unformatted_code = \"df_sc_b1b2_det.head()\";\n",
       "                var nbb_formatted_code = \"df_sc_b1b2_det.head()\";\n",
       "                var nbb_cells = Jupyter.notebook.get_cells();\n",
       "                for (var i = 0; i < nbb_cells.length; ++i) {\n",
       "                    if (nbb_cells[i].input_prompt_number == nbb_cell_id) {\n",
       "                        if (nbb_cells[i].get_text() == nbb_unformatted_code) {\n",
       "                             nbb_cells[i].set_text(nbb_formatted_code);\n",
       "                        }\n",
       "                        break;\n",
       "                    }\n",
       "                }\n",
       "            }, 500);\n",
       "            "
      ],
      "text/plain": [
       "<IPython.core.display.Javascript object>"
      ]
     },
     "metadata": {},
     "output_type": "display_data"
    }
   ],
   "source": [
    "df_sc_b1b2_det.head()"
   ]
  },
  {
   "cell_type": "code",
   "execution_count": null,
   "metadata": {},
   "outputs": [],
   "source": []
  },
  {
   "cell_type": "code",
   "execution_count": null,
   "metadata": {},
   "outputs": [],
   "source": []
  },
  {
   "cell_type": "markdown",
   "metadata": {},
   "source": [
    "# Add other features"
   ]
  },
  {
   "cell_type": "code",
   "execution_count": null,
   "metadata": {},
   "outputs": [],
   "source": []
  },
  {
   "cell_type": "code",
   "execution_count": null,
   "metadata": {},
   "outputs": [],
   "source": []
  },
  {
   "cell_type": "code",
   "execution_count": null,
   "metadata": {},
   "outputs": [],
   "source": []
  },
  {
   "cell_type": "code",
   "execution_count": null,
   "metadata": {},
   "outputs": [],
   "source": []
  },
  {
   "cell_type": "code",
   "execution_count": null,
   "metadata": {},
   "outputs": [],
   "source": []
  },
  {
   "cell_type": "code",
   "execution_count": null,
   "metadata": {},
   "outputs": [],
   "source": []
  },
  {
   "cell_type": "code",
   "execution_count": null,
   "metadata": {},
   "outputs": [],
   "source": []
  },
  {
   "cell_type": "code",
   "execution_count": null,
   "metadata": {},
   "outputs": [],
   "source": []
  },
  {
   "cell_type": "markdown",
   "metadata": {},
   "source": [
    "# Valid for higher probability of predicting 1 identifies better player?\n",
    "\n",
    "- Do models for each player and look at probabilities of outputting 1\n"
   ]
  },
  {
   "cell_type": "markdown",
   "metadata": {},
   "source": [
    "## Input both batters and date\n",
    "\n",
    "SQL query gets everything **before** the date. The validation and checking gets data on the day of."
   ]
  },
  {
   "cell_type": "code",
   "execution_count": 683,
   "metadata": {
    "ExecuteTime": {
     "end_time": "2020-01-30T00:36:12.407288Z",
     "start_time": "2020-01-30T00:36:12.395951Z"
    },
    "code_folding": []
   },
   "outputs": [
    {
     "data": {
      "application/javascript": [
       "\n",
       "            setTimeout(function() {\n",
       "                var nbb_cell_id = 683;\n",
       "                var nbb_unformatted_code = \"# FUNCTION FOR GETTING STATCAST DATA\\n\\n# Enter key_mlbam (Mike Trout, ESPN rank 1)\\n# pid_of_interest1 = 545361\\n# Enter key_mlbam (Jesse Winker, ESPN rank 280)\\n# pid_of_interest2 = 608385\\n\\n# Enter key_mlbam (Mookie Betts, ESPN rank 2?)\\npid_of_interest1 = 605141\\n\\n# Enter key_mlbam (Leury Garcia, ESPN rank 300)\\npid_of_interest2 = 544725\\n\\ndate_of_interest = \\\"'2019-09-04'\\\"  # Note internal single quotes\\n\\nno_total_ab_events = 1000\\n\\n# Note: SQL union of two different searches doesn't preserve order\\n# It's easier to make a dataframe for each player\\n# https://stackoverflow.com/questions/21181664/sql-server-union-but-keep-order/21181766\\n# ---------------------------------------------------\";\n",
       "                var nbb_formatted_code = \"# FUNCTION FOR GETTING STATCAST DATA\\n\\n# Enter key_mlbam (Mike Trout, ESPN rank 1)\\n# pid_of_interest1 = 545361\\n# Enter key_mlbam (Jesse Winker, ESPN rank 280)\\n# pid_of_interest2 = 608385\\n\\n# Enter key_mlbam (Mookie Betts, ESPN rank 2?)\\npid_of_interest1 = 605141\\n\\n# Enter key_mlbam (Leury Garcia, ESPN rank 300)\\npid_of_interest2 = 544725\\n\\ndate_of_interest = \\\"'2019-09-04'\\\"  # Note internal single quotes\\n\\nno_total_ab_events = 1000\\n\\n# Note: SQL union of two different searches doesn't preserve order\\n# It's easier to make a dataframe for each player\\n# https://stackoverflow.com/questions/21181664/sql-server-union-but-keep-order/21181766\\n# ---------------------------------------------------\";\n",
       "                var nbb_cells = Jupyter.notebook.get_cells();\n",
       "                for (var i = 0; i < nbb_cells.length; ++i) {\n",
       "                    if (nbb_cells[i].input_prompt_number == nbb_cell_id) {\n",
       "                        if (nbb_cells[i].get_text() == nbb_unformatted_code) {\n",
       "                             nbb_cells[i].set_text(nbb_formatted_code);\n",
       "                        }\n",
       "                        break;\n",
       "                    }\n",
       "                }\n",
       "            }, 500);\n",
       "            "
      ],
      "text/plain": [
       "<IPython.core.display.Javascript object>"
      ]
     },
     "metadata": {},
     "output_type": "display_data"
    }
   ],
   "source": [
    "# FUNCTION FOR GETTING STATCAST DATA\n",
    "\n",
    "# Enter key_mlbam (Mike Trout, ESPN rank 1)\n",
    "# pid_of_interest1 = 545361\n",
    "# Enter key_mlbam (Jesse Winker, ESPN rank 280)\n",
    "# pid_of_interest2 = 608385\n",
    "\n",
    "# Enter key_mlbam (Mookie Betts, ESPN rank 2?)\n",
    "pid_of_interest1 = 605141\n",
    "\n",
    "# Enter key_mlbam (Leury Garcia, ESPN rank 300)\n",
    "pid_of_interest2 = 544725\n",
    "\n",
    "date_of_interest = \"'2019-09-04'\"  # Note internal single quotes\n",
    "\n",
    "no_total_ab_events = 1000\n",
    "\n",
    "# Note: SQL union of two different searches doesn't preserve order\n",
    "# It's easier to make a dataframe for each player\n",
    "# https://stackoverflow.com/questions/21181664/sql-server-union-but-keep-order/21181766\n",
    "# ---------------------------------------------------"
   ]
  },
  {
   "cell_type": "code",
   "execution_count": 684,
   "metadata": {
    "ExecuteTime": {
     "end_time": "2020-01-30T00:36:13.996262Z",
     "start_time": "2020-01-30T00:36:13.978016Z"
    },
    "code_folding": [
     0
    ]
   },
   "outputs": [
    {
     "data": {
      "application/javascript": [
       "\n",
       "            setTimeout(function() {\n",
       "                var nbb_cell_id = 684;\n",
       "                var nbb_unformatted_code = \"def get_sc_batter_df(player_id, date, n_ab_events):\\n    sql_query = (\\n        \\\"\\\"\\\"\\n    (SELECT * FROM statcast \\n    JOIN player_id ON statcast.batter=player_id.key_mlbam \\n    WHERE statcast.batter= \\n    \\\"\\\"\\\"\\n        + str(player_id)\\n        + \\\"\\\"\\\"\\n    AND statcast.game_date<=\\n    \\\"\\\"\\\"\\n        + str(date)\\n        + \\\"\\\"\\\" \\n    AND statcast.events IS NOT NULL \\n    ORDER BY statcast.game_date DESC, statcast.inning DESC, statcast.outs_when_up DESC \\n    LIMIT\\n    \\\"\\\"\\\"\\n        + str(n_ab_events)\\n        + \\\");\\\"\\n    )\\n\\n    # print(sql_query)\\n\\n    df_sc_events = pd.read_sql_query(sql_query, con)\\n    df_sc_events.drop([\\\"level_0\\\", \\\"index\\\"], axis=1, inplace=True)  # Clean up df\\n\\n    return df_sc_events\";\n",
       "                var nbb_formatted_code = \"def get_sc_batter_df(player_id, date, n_ab_events):\\n    sql_query = (\\n        \\\"\\\"\\\"\\n    (SELECT * FROM statcast \\n    JOIN player_id ON statcast.batter=player_id.key_mlbam \\n    WHERE statcast.batter= \\n    \\\"\\\"\\\"\\n        + str(player_id)\\n        + \\\"\\\"\\\"\\n    AND statcast.game_date<=\\n    \\\"\\\"\\\"\\n        + str(date)\\n        + \\\"\\\"\\\" \\n    AND statcast.events IS NOT NULL \\n    ORDER BY statcast.game_date DESC, statcast.inning DESC, statcast.outs_when_up DESC \\n    LIMIT\\n    \\\"\\\"\\\"\\n        + str(n_ab_events)\\n        + \\\");\\\"\\n    )\\n\\n    # print(sql_query)\\n\\n    df_sc_events = pd.read_sql_query(sql_query, con)\\n    df_sc_events.drop([\\\"level_0\\\", \\\"index\\\"], axis=1, inplace=True)  # Clean up df\\n\\n    return df_sc_events\";\n",
       "                var nbb_cells = Jupyter.notebook.get_cells();\n",
       "                for (var i = 0; i < nbb_cells.length; ++i) {\n",
       "                    if (nbb_cells[i].input_prompt_number == nbb_cell_id) {\n",
       "                        if (nbb_cells[i].get_text() == nbb_unformatted_code) {\n",
       "                             nbb_cells[i].set_text(nbb_formatted_code);\n",
       "                        }\n",
       "                        break;\n",
       "                    }\n",
       "                }\n",
       "            }, 500);\n",
       "            "
      ],
      "text/plain": [
       "<IPython.core.display.Javascript object>"
      ]
     },
     "metadata": {},
     "output_type": "display_data"
    }
   ],
   "source": [
    "def get_sc_batter_df(player_id, date, n_ab_events):\n",
    "    sql_query = (\n",
    "        \"\"\"\n",
    "    (SELECT * FROM statcast \n",
    "    JOIN player_id ON statcast.batter=player_id.key_mlbam \n",
    "    WHERE statcast.batter= \n",
    "    \"\"\"\n",
    "        + str(player_id)\n",
    "        + \"\"\"\n",
    "    AND statcast.game_date<=\n",
    "    \"\"\"\n",
    "        + str(date)\n",
    "        + \"\"\" \n",
    "    AND statcast.events IS NOT NULL \n",
    "    ORDER BY statcast.game_date DESC, statcast.inning DESC, statcast.outs_when_up DESC \n",
    "    LIMIT\n",
    "    \"\"\"\n",
    "        + str(n_ab_events)\n",
    "        + \");\"\n",
    "    )\n",
    "\n",
    "    # print(sql_query)\n",
    "\n",
    "    df_sc_events = pd.read_sql_query(sql_query, con)\n",
    "    df_sc_events.drop([\"level_0\", \"index\"], axis=1, inplace=True)  # Clean up df\n",
    "\n",
    "    return df_sc_events"
   ]
  },
  {
   "cell_type": "code",
   "execution_count": 685,
   "metadata": {
    "ExecuteTime": {
     "end_time": "2020-01-30T00:36:26.268978Z",
     "start_time": "2020-01-30T00:36:18.537724Z"
    }
   },
   "outputs": [
    {
     "data": {
      "application/javascript": [
       "\n",
       "            setTimeout(function() {\n",
       "                var nbb_cell_id = 685;\n",
       "                var nbb_unformatted_code = \"df_sc_events_b1 = get_sc_batter_df(pid_of_interest1, date_of_interest, 1000)\\ndf_sc_events_b2 = get_sc_batter_df(pid_of_interest2, date_of_interest, 1000)\";\n",
       "                var nbb_formatted_code = \"df_sc_events_b1 = get_sc_batter_df(pid_of_interest1, date_of_interest, 1000)\\ndf_sc_events_b2 = get_sc_batter_df(pid_of_interest2, date_of_interest, 1000)\";\n",
       "                var nbb_cells = Jupyter.notebook.get_cells();\n",
       "                for (var i = 0; i < nbb_cells.length; ++i) {\n",
       "                    if (nbb_cells[i].input_prompt_number == nbb_cell_id) {\n",
       "                        if (nbb_cells[i].get_text() == nbb_unformatted_code) {\n",
       "                             nbb_cells[i].set_text(nbb_formatted_code);\n",
       "                        }\n",
       "                        break;\n",
       "                    }\n",
       "                }\n",
       "            }, 500);\n",
       "            "
      ],
      "text/plain": [
       "<IPython.core.display.Javascript object>"
      ]
     },
     "metadata": {},
     "output_type": "display_data"
    }
   ],
   "source": [
    "df_sc_events_b1 = get_sc_batter_df(pid_of_interest1, date_of_interest, 1000)\n",
    "df_sc_events_b2 = get_sc_batter_df(pid_of_interest2, date_of_interest, 1000)"
   ]
  },
  {
   "cell_type": "code",
   "execution_count": 749,
   "metadata": {
    "ExecuteTime": {
     "end_time": "2020-01-30T01:18:30.045207Z",
     "start_time": "2020-01-30T01:18:29.903106Z"
    }
   },
   "outputs": [
    {
     "data": {
      "text/html": [
       "<div>\n",
       "<style scoped>\n",
       "    .dataframe tbody tr th:only-of-type {\n",
       "        vertical-align: middle;\n",
       "    }\n",
       "\n",
       "    .dataframe tbody tr th {\n",
       "        vertical-align: top;\n",
       "    }\n",
       "\n",
       "    .dataframe thead th {\n",
       "        text-align: right;\n",
       "    }\n",
       "</style>\n",
       "<table border=\"1\" class=\"dataframe\">\n",
       "  <thead>\n",
       "    <tr style=\"text-align: right;\">\n",
       "      <th></th>\n",
       "      <th>pitch_type</th>\n",
       "      <th>game_date</th>\n",
       "      <th>release_speed</th>\n",
       "      <th>release_pos_x</th>\n",
       "      <th>release_pos_z</th>\n",
       "      <th>player_name</th>\n",
       "      <th>batter</th>\n",
       "      <th>pitcher</th>\n",
       "      <th>events</th>\n",
       "      <th>description</th>\n",
       "      <th>...</th>\n",
       "      <th>if_fielding_alignment</th>\n",
       "      <th>of_fielding_alignment</th>\n",
       "      <th>name_last</th>\n",
       "      <th>name_first</th>\n",
       "      <th>key_mlbam</th>\n",
       "      <th>key_retro</th>\n",
       "      <th>key_bbref</th>\n",
       "      <th>key_fangraphs</th>\n",
       "      <th>mlb_played_first</th>\n",
       "      <th>mlb_played_last</th>\n",
       "    </tr>\n",
       "  </thead>\n",
       "  <tbody>\n",
       "    <tr>\n",
       "      <th>0</th>\n",
       "      <td>SL</td>\n",
       "      <td>2019-09-24</td>\n",
       "      <td>84.1</td>\n",
       "      <td>-1.1610</td>\n",
       "      <td>6.2490</td>\n",
       "      <td>Ariel Jurado</td>\n",
       "      <td>605141.0</td>\n",
       "      <td>642558.0</td>\n",
       "      <td>home_run</td>\n",
       "      <td>hit_into_play_score</td>\n",
       "      <td>...</td>\n",
       "      <td>Infield shift</td>\n",
       "      <td>Standard</td>\n",
       "      <td>betts</td>\n",
       "      <td>mookie</td>\n",
       "      <td>605141</td>\n",
       "      <td>bettm001</td>\n",
       "      <td>bettsmo01</td>\n",
       "      <td>13611</td>\n",
       "      <td>2014.0</td>\n",
       "      <td>2019.0</td>\n",
       "    </tr>\n",
       "    <tr>\n",
       "      <th>1</th>\n",
       "      <td>SI</td>\n",
       "      <td>2019-09-24</td>\n",
       "      <td>95.5</td>\n",
       "      <td>-1.6659</td>\n",
       "      <td>5.7278</td>\n",
       "      <td>Edinson Volquez</td>\n",
       "      <td>605141.0</td>\n",
       "      <td>450172.0</td>\n",
       "      <td>field_out</td>\n",
       "      <td>hit_into_play</td>\n",
       "      <td>...</td>\n",
       "      <td>Infield shift</td>\n",
       "      <td>Standard</td>\n",
       "      <td>betts</td>\n",
       "      <td>mookie</td>\n",
       "      <td>605141</td>\n",
       "      <td>bettm001</td>\n",
       "      <td>bettsmo01</td>\n",
       "      <td>13611</td>\n",
       "      <td>2014.0</td>\n",
       "      <td>2019.0</td>\n",
       "    </tr>\n",
       "    <tr>\n",
       "      <th>2</th>\n",
       "      <td>FC</td>\n",
       "      <td>2019-09-23</td>\n",
       "      <td>86.0</td>\n",
       "      <td>-1.6035</td>\n",
       "      <td>5.4984</td>\n",
       "      <td>Emilio Pagan</td>\n",
       "      <td>605141.0</td>\n",
       "      <td>641941.0</td>\n",
       "      <td>single</td>\n",
       "      <td>hit_into_play_no_out</td>\n",
       "      <td>...</td>\n",
       "      <td>Strategic</td>\n",
       "      <td>Standard</td>\n",
       "      <td>betts</td>\n",
       "      <td>mookie</td>\n",
       "      <td>605141</td>\n",
       "      <td>bettm001</td>\n",
       "      <td>bettsmo01</td>\n",
       "      <td>13611</td>\n",
       "      <td>2014.0</td>\n",
       "      <td>2019.0</td>\n",
       "    </tr>\n",
       "    <tr>\n",
       "      <th>3</th>\n",
       "      <td>FF</td>\n",
       "      <td>2019-09-23</td>\n",
       "      <td>93.9</td>\n",
       "      <td>1.4466</td>\n",
       "      <td>6.3134</td>\n",
       "      <td>Oliver Drake</td>\n",
       "      <td>605141.0</td>\n",
       "      <td>543118.0</td>\n",
       "      <td>field_out</td>\n",
       "      <td>hit_into_play</td>\n",
       "      <td>...</td>\n",
       "      <td>Infield shift</td>\n",
       "      <td>Standard</td>\n",
       "      <td>betts</td>\n",
       "      <td>mookie</td>\n",
       "      <td>605141</td>\n",
       "      <td>bettm001</td>\n",
       "      <td>bettsmo01</td>\n",
       "      <td>13611</td>\n",
       "      <td>2014.0</td>\n",
       "      <td>2019.0</td>\n",
       "    </tr>\n",
       "    <tr>\n",
       "      <th>4</th>\n",
       "      <td>FF</td>\n",
       "      <td>2019-09-23</td>\n",
       "      <td>92.0</td>\n",
       "      <td>-0.3094</td>\n",
       "      <td>5.8277</td>\n",
       "      <td>Austin Pruitt</td>\n",
       "      <td>605141.0</td>\n",
       "      <td>643493.0</td>\n",
       "      <td>single</td>\n",
       "      <td>hit_into_play_no_out</td>\n",
       "      <td>...</td>\n",
       "      <td>Infield shift</td>\n",
       "      <td>Standard</td>\n",
       "      <td>betts</td>\n",
       "      <td>mookie</td>\n",
       "      <td>605141</td>\n",
       "      <td>bettm001</td>\n",
       "      <td>bettsmo01</td>\n",
       "      <td>13611</td>\n",
       "      <td>2014.0</td>\n",
       "      <td>2019.0</td>\n",
       "    </tr>\n",
       "    <tr>\n",
       "      <th>5</th>\n",
       "      <td>FC</td>\n",
       "      <td>2019-09-23</td>\n",
       "      <td>85.3</td>\n",
       "      <td>-2.0997</td>\n",
       "      <td>6.2343</td>\n",
       "      <td>Chaz Roe</td>\n",
       "      <td>605141.0</td>\n",
       "      <td>475054.0</td>\n",
       "      <td>field_out</td>\n",
       "      <td>hit_into_play</td>\n",
       "      <td>...</td>\n",
       "      <td>Standard</td>\n",
       "      <td>Standard</td>\n",
       "      <td>betts</td>\n",
       "      <td>mookie</td>\n",
       "      <td>605141</td>\n",
       "      <td>bettm001</td>\n",
       "      <td>bettsmo01</td>\n",
       "      <td>13611</td>\n",
       "      <td>2014.0</td>\n",
       "      <td>2019.0</td>\n",
       "    </tr>\n",
       "    <tr>\n",
       "      <th>6</th>\n",
       "      <td>FF</td>\n",
       "      <td>2019-09-23</td>\n",
       "      <td>95.5</td>\n",
       "      <td>1.5494</td>\n",
       "      <td>6.8716</td>\n",
       "      <td>Blake Snell</td>\n",
       "      <td>605141.0</td>\n",
       "      <td>605483.0</td>\n",
       "      <td>walk</td>\n",
       "      <td>ball</td>\n",
       "      <td>...</td>\n",
       "      <td>Standard</td>\n",
       "      <td>Standard</td>\n",
       "      <td>betts</td>\n",
       "      <td>mookie</td>\n",
       "      <td>605141</td>\n",
       "      <td>bettm001</td>\n",
       "      <td>bettsmo01</td>\n",
       "      <td>13611</td>\n",
       "      <td>2014.0</td>\n",
       "      <td>2019.0</td>\n",
       "    </tr>\n",
       "    <tr>\n",
       "      <th>7</th>\n",
       "      <td>FC</td>\n",
       "      <td>2019-09-21</td>\n",
       "      <td>86.5</td>\n",
       "      <td>-1.5623</td>\n",
       "      <td>5.6209</td>\n",
       "      <td>Emilio Pagan</td>\n",
       "      <td>605141.0</td>\n",
       "      <td>641941.0</td>\n",
       "      <td>field_out</td>\n",
       "      <td>hit_into_play</td>\n",
       "      <td>...</td>\n",
       "      <td>Infield shift</td>\n",
       "      <td>Standard</td>\n",
       "      <td>betts</td>\n",
       "      <td>mookie</td>\n",
       "      <td>605141</td>\n",
       "      <td>bettm001</td>\n",
       "      <td>bettsmo01</td>\n",
       "      <td>13611</td>\n",
       "      <td>2014.0</td>\n",
       "      <td>2019.0</td>\n",
       "    </tr>\n",
       "    <tr>\n",
       "      <th>8</th>\n",
       "      <td>FF</td>\n",
       "      <td>2019-09-21</td>\n",
       "      <td>96.0</td>\n",
       "      <td>-0.4617</td>\n",
       "      <td>6.6518</td>\n",
       "      <td>Nick Anderson</td>\n",
       "      <td>605141.0</td>\n",
       "      <td>623433.0</td>\n",
       "      <td>single</td>\n",
       "      <td>hit_into_play_no_out</td>\n",
       "      <td>...</td>\n",
       "      <td>Strategic</td>\n",
       "      <td>Standard</td>\n",
       "      <td>betts</td>\n",
       "      <td>mookie</td>\n",
       "      <td>605141</td>\n",
       "      <td>bettm001</td>\n",
       "      <td>bettsmo01</td>\n",
       "      <td>13611</td>\n",
       "      <td>2014.0</td>\n",
       "      <td>2019.0</td>\n",
       "    </tr>\n",
       "    <tr>\n",
       "      <th>9</th>\n",
       "      <td>FT</td>\n",
       "      <td>2019-09-21</td>\n",
       "      <td>94.6</td>\n",
       "      <td>-1.7130</td>\n",
       "      <td>5.7539</td>\n",
       "      <td>Andrew Kittredge</td>\n",
       "      <td>605141.0</td>\n",
       "      <td>552640.0</td>\n",
       "      <td>force_out</td>\n",
       "      <td>hit_into_play</td>\n",
       "      <td>...</td>\n",
       "      <td>Standard</td>\n",
       "      <td>Standard</td>\n",
       "      <td>betts</td>\n",
       "      <td>mookie</td>\n",
       "      <td>605141</td>\n",
       "      <td>bettm001</td>\n",
       "      <td>bettsmo01</td>\n",
       "      <td>13611</td>\n",
       "      <td>2014.0</td>\n",
       "      <td>2019.0</td>\n",
       "    </tr>\n",
       "  </tbody>\n",
       "</table>\n",
       "<p>10 rows × 97 columns</p>\n",
       "</div>"
      ],
      "text/plain": [
       "  pitch_type  game_date  release_speed  release_pos_x  release_pos_z  \\\n",
       "0         SL 2019-09-24           84.1        -1.1610         6.2490   \n",
       "1         SI 2019-09-24           95.5        -1.6659         5.7278   \n",
       "2         FC 2019-09-23           86.0        -1.6035         5.4984   \n",
       "3         FF 2019-09-23           93.9         1.4466         6.3134   \n",
       "4         FF 2019-09-23           92.0        -0.3094         5.8277   \n",
       "5         FC 2019-09-23           85.3        -2.0997         6.2343   \n",
       "6         FF 2019-09-23           95.5         1.5494         6.8716   \n",
       "7         FC 2019-09-21           86.5        -1.5623         5.6209   \n",
       "8         FF 2019-09-21           96.0        -0.4617         6.6518   \n",
       "9         FT 2019-09-21           94.6        -1.7130         5.7539   \n",
       "\n",
       "        player_name    batter   pitcher     events           description  ...  \\\n",
       "0      Ariel Jurado  605141.0  642558.0   home_run   hit_into_play_score  ...   \n",
       "1   Edinson Volquez  605141.0  450172.0  field_out         hit_into_play  ...   \n",
       "2      Emilio Pagan  605141.0  641941.0     single  hit_into_play_no_out  ...   \n",
       "3      Oliver Drake  605141.0  543118.0  field_out         hit_into_play  ...   \n",
       "4     Austin Pruitt  605141.0  643493.0     single  hit_into_play_no_out  ...   \n",
       "5          Chaz Roe  605141.0  475054.0  field_out         hit_into_play  ...   \n",
       "6       Blake Snell  605141.0  605483.0       walk                  ball  ...   \n",
       "7      Emilio Pagan  605141.0  641941.0  field_out         hit_into_play  ...   \n",
       "8     Nick Anderson  605141.0  623433.0     single  hit_into_play_no_out  ...   \n",
       "9  Andrew Kittredge  605141.0  552640.0  force_out         hit_into_play  ...   \n",
       "\n",
       "  if_fielding_alignment of_fielding_alignment name_last name_first  key_mlbam  \\\n",
       "0         Infield shift              Standard     betts     mookie     605141   \n",
       "1         Infield shift              Standard     betts     mookie     605141   \n",
       "2             Strategic              Standard     betts     mookie     605141   \n",
       "3         Infield shift              Standard     betts     mookie     605141   \n",
       "4         Infield shift              Standard     betts     mookie     605141   \n",
       "5              Standard              Standard     betts     mookie     605141   \n",
       "6              Standard              Standard     betts     mookie     605141   \n",
       "7         Infield shift              Standard     betts     mookie     605141   \n",
       "8             Strategic              Standard     betts     mookie     605141   \n",
       "9              Standard              Standard     betts     mookie     605141   \n",
       "\n",
       "  key_retro  key_bbref key_fangraphs mlb_played_first mlb_played_last  \n",
       "0  bettm001  bettsmo01         13611           2014.0          2019.0  \n",
       "1  bettm001  bettsmo01         13611           2014.0          2019.0  \n",
       "2  bettm001  bettsmo01         13611           2014.0          2019.0  \n",
       "3  bettm001  bettsmo01         13611           2014.0          2019.0  \n",
       "4  bettm001  bettsmo01         13611           2014.0          2019.0  \n",
       "5  bettm001  bettsmo01         13611           2014.0          2019.0  \n",
       "6  bettm001  bettsmo01         13611           2014.0          2019.0  \n",
       "7  bettm001  bettsmo01         13611           2014.0          2019.0  \n",
       "8  bettm001  bettsmo01         13611           2014.0          2019.0  \n",
       "9  bettm001  bettsmo01         13611           2014.0          2019.0  \n",
       "\n",
       "[10 rows x 97 columns]"
      ]
     },
     "execution_count": 749,
     "metadata": {},
     "output_type": "execute_result"
    },
    {
     "data": {
      "application/javascript": [
       "\n",
       "            setTimeout(function() {\n",
       "                var nbb_cell_id = 749;\n",
       "                var nbb_unformatted_code = \"df_sc_events_b1.head(10)\";\n",
       "                var nbb_formatted_code = \"df_sc_events_b1.head(10)\";\n",
       "                var nbb_cells = Jupyter.notebook.get_cells();\n",
       "                for (var i = 0; i < nbb_cells.length; ++i) {\n",
       "                    if (nbb_cells[i].input_prompt_number == nbb_cell_id) {\n",
       "                        if (nbb_cells[i].get_text() == nbb_unformatted_code) {\n",
       "                             nbb_cells[i].set_text(nbb_formatted_code);\n",
       "                        }\n",
       "                        break;\n",
       "                    }\n",
       "                }\n",
       "            }, 500);\n",
       "            "
      ],
      "text/plain": [
       "<IPython.core.display.Javascript object>"
      ]
     },
     "metadata": {},
     "output_type": "display_data"
    }
   ],
   "source": [
    "df_sc_events_b1.head(10)"
   ]
  },
  {
   "cell_type": "code",
   "execution_count": 687,
   "metadata": {
    "ExecuteTime": {
     "end_time": "2020-01-30T00:36:29.886079Z",
     "start_time": "2020-01-30T00:36:29.849516Z"
    }
   },
   "outputs": [
    {
     "data": {
      "text/html": [
       "<div>\n",
       "<style scoped>\n",
       "    .dataframe tbody tr th:only-of-type {\n",
       "        vertical-align: middle;\n",
       "    }\n",
       "\n",
       "    .dataframe tbody tr th {\n",
       "        vertical-align: top;\n",
       "    }\n",
       "\n",
       "    .dataframe thead th {\n",
       "        text-align: right;\n",
       "    }\n",
       "</style>\n",
       "<table border=\"1\" class=\"dataframe\">\n",
       "  <thead>\n",
       "    <tr style=\"text-align: right;\">\n",
       "      <th></th>\n",
       "      <th>pitch_type</th>\n",
       "      <th>game_date</th>\n",
       "      <th>release_speed</th>\n",
       "      <th>release_pos_x</th>\n",
       "      <th>release_pos_z</th>\n",
       "      <th>player_name</th>\n",
       "      <th>batter</th>\n",
       "      <th>pitcher</th>\n",
       "      <th>events</th>\n",
       "      <th>description</th>\n",
       "      <th>...</th>\n",
       "      <th>if_fielding_alignment</th>\n",
       "      <th>of_fielding_alignment</th>\n",
       "      <th>name_last</th>\n",
       "      <th>name_first</th>\n",
       "      <th>key_mlbam</th>\n",
       "      <th>key_retro</th>\n",
       "      <th>key_bbref</th>\n",
       "      <th>key_fangraphs</th>\n",
       "      <th>mlb_played_first</th>\n",
       "      <th>mlb_played_last</th>\n",
       "    </tr>\n",
       "  </thead>\n",
       "  <tbody>\n",
       "    <tr>\n",
       "      <th>0</th>\n",
       "      <td>FF</td>\n",
       "      <td>2019-09-04</td>\n",
       "      <td>91.9</td>\n",
       "      <td>2.8175</td>\n",
       "      <td>6.0013</td>\n",
       "      <td>Brad Hand</td>\n",
       "      <td>544725.0</td>\n",
       "      <td>543272.0</td>\n",
       "      <td>single</td>\n",
       "      <td>hit_into_play_no_out</td>\n",
       "      <td>...</td>\n",
       "      <td>Standard</td>\n",
       "      <td>Standard</td>\n",
       "      <td>garcia</td>\n",
       "      <td>leury</td>\n",
       "      <td>544725</td>\n",
       "      <td>garcl004</td>\n",
       "      <td>garcile02</td>\n",
       "      <td>5913</td>\n",
       "      <td>2013.0</td>\n",
       "      <td>2019.0</td>\n",
       "    </tr>\n",
       "    <tr>\n",
       "      <th>1</th>\n",
       "      <td>KC</td>\n",
       "      <td>2019-09-04</td>\n",
       "      <td>83.2</td>\n",
       "      <td>-1.3917</td>\n",
       "      <td>5.7539</td>\n",
       "      <td>Shane Bieber</td>\n",
       "      <td>544725.0</td>\n",
       "      <td>669456.0</td>\n",
       "      <td>strikeout</td>\n",
       "      <td>swinging_strike_blocked</td>\n",
       "      <td>...</td>\n",
       "      <td>Standard</td>\n",
       "      <td>Standard</td>\n",
       "      <td>garcia</td>\n",
       "      <td>leury</td>\n",
       "      <td>544725</td>\n",
       "      <td>garcl004</td>\n",
       "      <td>garcile02</td>\n",
       "      <td>5913</td>\n",
       "      <td>2013.0</td>\n",
       "      <td>2019.0</td>\n",
       "    </tr>\n",
       "    <tr>\n",
       "      <th>2</th>\n",
       "      <td>KC</td>\n",
       "      <td>2019-09-04</td>\n",
       "      <td>82.5</td>\n",
       "      <td>-1.5268</td>\n",
       "      <td>5.7392</td>\n",
       "      <td>Shane Bieber</td>\n",
       "      <td>544725.0</td>\n",
       "      <td>669456.0</td>\n",
       "      <td>force_out</td>\n",
       "      <td>hit_into_play</td>\n",
       "      <td>...</td>\n",
       "      <td>Standard</td>\n",
       "      <td>Standard</td>\n",
       "      <td>garcia</td>\n",
       "      <td>leury</td>\n",
       "      <td>544725</td>\n",
       "      <td>garcl004</td>\n",
       "      <td>garcile02</td>\n",
       "      <td>5913</td>\n",
       "      <td>2013.0</td>\n",
       "      <td>2019.0</td>\n",
       "    </tr>\n",
       "    <tr>\n",
       "      <th>3</th>\n",
       "      <td>KC</td>\n",
       "      <td>2019-09-04</td>\n",
       "      <td>83.7</td>\n",
       "      <td>-1.4992</td>\n",
       "      <td>5.8262</td>\n",
       "      <td>Shane Bieber</td>\n",
       "      <td>544725.0</td>\n",
       "      <td>669456.0</td>\n",
       "      <td>strikeout</td>\n",
       "      <td>swinging_strike_blocked</td>\n",
       "      <td>...</td>\n",
       "      <td>Standard</td>\n",
       "      <td>Standard</td>\n",
       "      <td>garcia</td>\n",
       "      <td>leury</td>\n",
       "      <td>544725</td>\n",
       "      <td>garcl004</td>\n",
       "      <td>garcile02</td>\n",
       "      <td>5913</td>\n",
       "      <td>2013.0</td>\n",
       "      <td>2019.0</td>\n",
       "    </tr>\n",
       "    <tr>\n",
       "      <th>4</th>\n",
       "      <td>CH</td>\n",
       "      <td>2019-09-04</td>\n",
       "      <td>87.6</td>\n",
       "      <td>-1.6473</td>\n",
       "      <td>5.7523</td>\n",
       "      <td>Shane Bieber</td>\n",
       "      <td>544725.0</td>\n",
       "      <td>669456.0</td>\n",
       "      <td>single</td>\n",
       "      <td>hit_into_play_no_out</td>\n",
       "      <td>...</td>\n",
       "      <td>Standard</td>\n",
       "      <td>Standard</td>\n",
       "      <td>garcia</td>\n",
       "      <td>leury</td>\n",
       "      <td>544725</td>\n",
       "      <td>garcl004</td>\n",
       "      <td>garcile02</td>\n",
       "      <td>5913</td>\n",
       "      <td>2013.0</td>\n",
       "      <td>2019.0</td>\n",
       "    </tr>\n",
       "  </tbody>\n",
       "</table>\n",
       "<p>5 rows × 97 columns</p>\n",
       "</div>"
      ],
      "text/plain": [
       "  pitch_type  game_date  release_speed  release_pos_x  release_pos_z  \\\n",
       "0         FF 2019-09-04           91.9         2.8175         6.0013   \n",
       "1         KC 2019-09-04           83.2        -1.3917         5.7539   \n",
       "2         KC 2019-09-04           82.5        -1.5268         5.7392   \n",
       "3         KC 2019-09-04           83.7        -1.4992         5.8262   \n",
       "4         CH 2019-09-04           87.6        -1.6473         5.7523   \n",
       "\n",
       "    player_name    batter   pitcher     events              description  ...  \\\n",
       "0     Brad Hand  544725.0  543272.0     single     hit_into_play_no_out  ...   \n",
       "1  Shane Bieber  544725.0  669456.0  strikeout  swinging_strike_blocked  ...   \n",
       "2  Shane Bieber  544725.0  669456.0  force_out            hit_into_play  ...   \n",
       "3  Shane Bieber  544725.0  669456.0  strikeout  swinging_strike_blocked  ...   \n",
       "4  Shane Bieber  544725.0  669456.0     single     hit_into_play_no_out  ...   \n",
       "\n",
       "  if_fielding_alignment of_fielding_alignment name_last name_first  key_mlbam  \\\n",
       "0              Standard              Standard    garcia      leury     544725   \n",
       "1              Standard              Standard    garcia      leury     544725   \n",
       "2              Standard              Standard    garcia      leury     544725   \n",
       "3              Standard              Standard    garcia      leury     544725   \n",
       "4              Standard              Standard    garcia      leury     544725   \n",
       "\n",
       "  key_retro  key_bbref key_fangraphs mlb_played_first mlb_played_last  \n",
       "0  garcl004  garcile02          5913           2013.0          2019.0  \n",
       "1  garcl004  garcile02          5913           2013.0          2019.0  \n",
       "2  garcl004  garcile02          5913           2013.0          2019.0  \n",
       "3  garcl004  garcile02          5913           2013.0          2019.0  \n",
       "4  garcl004  garcile02          5913           2013.0          2019.0  \n",
       "\n",
       "[5 rows x 97 columns]"
      ]
     },
     "execution_count": 687,
     "metadata": {},
     "output_type": "execute_result"
    },
    {
     "data": {
      "application/javascript": [
       "\n",
       "            setTimeout(function() {\n",
       "                var nbb_cell_id = 687;\n",
       "                var nbb_unformatted_code = \"df_sc_events_b2.head()\";\n",
       "                var nbb_formatted_code = \"df_sc_events_b2.head()\";\n",
       "                var nbb_cells = Jupyter.notebook.get_cells();\n",
       "                for (var i = 0; i < nbb_cells.length; ++i) {\n",
       "                    if (nbb_cells[i].input_prompt_number == nbb_cell_id) {\n",
       "                        if (nbb_cells[i].get_text() == nbb_unformatted_code) {\n",
       "                             nbb_cells[i].set_text(nbb_formatted_code);\n",
       "                        }\n",
       "                        break;\n",
       "                    }\n",
       "                }\n",
       "            }, 500);\n",
       "            "
      ],
      "text/plain": [
       "<IPython.core.display.Javascript object>"
      ]
     },
     "metadata": {},
     "output_type": "display_data"
    }
   ],
   "source": [
    "df_sc_events_b2.head()"
   ]
  },
  {
   "cell_type": "code",
   "execution_count": 688,
   "metadata": {
    "ExecuteTime": {
     "end_time": "2020-01-30T00:36:34.096216Z",
     "start_time": "2020-01-30T00:36:34.064107Z"
    },
    "code_folding": [
     0
    ]
   },
   "outputs": [
    {
     "data": {
      "application/javascript": [
       "\n",
       "            setTimeout(function() {\n",
       "                var nbb_cell_id = 688;\n",
       "                var nbb_unformatted_code = \"def plot_events_over_time(sc_events_df, ev_list):\\n    df_temp = sc_events_df.copy()\\n    df_temp = df_temp[df_temp[\\\"game_date\\\"].between(\\\"2019-04-01\\\", \\\"2019-09-09\\\")]\\n    df_temp.reset_index(inplace=True)\\n\\n    # Encode on-base events, including walks\\n    df_temp[\\\"event_code\\\"] = 0\\n    df_temp.loc[df_temp[\\\"events\\\"].isin(ev_list), \\\"event_code\\\"] = 1\\n\\n    f, ax1 = plt.subplots()\\n    ax1.scatter(\\n        df_temp[\\\"game_date\\\"],\\n        df_temp[\\\"event_code\\\"] + np.random.normal(0, 0.01, len(df_temp)),\\n        facecolors=\\\"none\\\",\\n        edgecolors=\\\"black\\\",\\n    )\\n\\n    # figure out date formatting\\n    # ax1.xticks(rotation=45)\\n    #     xlocs, xlabels = ax1.xticks()\\n    #     ax1.set_xticklabels(xlabels, rotation=45)  # to Rotate Xticks Label Text\\n\\n    return df_temp[[\\\"events\\\", \\\"event_code\\\"]].head(10)\";\n",
       "                var nbb_formatted_code = \"def plot_events_over_time(sc_events_df, ev_list):\\n    df_temp = sc_events_df.copy()\\n    df_temp = df_temp[df_temp[\\\"game_date\\\"].between(\\\"2019-04-01\\\", \\\"2019-09-09\\\")]\\n    df_temp.reset_index(inplace=True)\\n\\n    # Encode on-base events, including walks\\n    df_temp[\\\"event_code\\\"] = 0\\n    df_temp.loc[df_temp[\\\"events\\\"].isin(ev_list), \\\"event_code\\\"] = 1\\n\\n    f, ax1 = plt.subplots()\\n    ax1.scatter(\\n        df_temp[\\\"game_date\\\"],\\n        df_temp[\\\"event_code\\\"] + np.random.normal(0, 0.01, len(df_temp)),\\n        facecolors=\\\"none\\\",\\n        edgecolors=\\\"black\\\",\\n    )\\n\\n    # figure out date formatting\\n    # ax1.xticks(rotation=45)\\n    #     xlocs, xlabels = ax1.xticks()\\n    #     ax1.set_xticklabels(xlabels, rotation=45)  # to Rotate Xticks Label Text\\n\\n    return df_temp[[\\\"events\\\", \\\"event_code\\\"]].head(10)\";\n",
       "                var nbb_cells = Jupyter.notebook.get_cells();\n",
       "                for (var i = 0; i < nbb_cells.length; ++i) {\n",
       "                    if (nbb_cells[i].input_prompt_number == nbb_cell_id) {\n",
       "                        if (nbb_cells[i].get_text() == nbb_unformatted_code) {\n",
       "                             nbb_cells[i].set_text(nbb_formatted_code);\n",
       "                        }\n",
       "                        break;\n",
       "                    }\n",
       "                }\n",
       "            }, 500);\n",
       "            "
      ],
      "text/plain": [
       "<IPython.core.display.Javascript object>"
      ]
     },
     "metadata": {},
     "output_type": "display_data"
    }
   ],
   "source": [
    "def plot_events_over_time(sc_events_df, ev_list):\n",
    "    df_temp = sc_events_df.copy()\n",
    "    df_temp = df_temp[df_temp[\"game_date\"].between(\"2019-04-01\", \"2019-09-09\")]\n",
    "    df_temp.reset_index(inplace=True)\n",
    "\n",
    "    # Encode on-base events, including walks\n",
    "    df_temp[\"event_code\"] = 0\n",
    "    df_temp.loc[df_temp[\"events\"].isin(ev_list), \"event_code\"] = 1\n",
    "\n",
    "    f, ax1 = plt.subplots()\n",
    "    ax1.scatter(\n",
    "        df_temp[\"game_date\"],\n",
    "        df_temp[\"event_code\"] + np.random.normal(0, 0.01, len(df_temp)),\n",
    "        facecolors=\"none\",\n",
    "        edgecolors=\"black\",\n",
    "    )\n",
    "\n",
    "    # figure out date formatting\n",
    "    # ax1.xticks(rotation=45)\n",
    "    #     xlocs, xlabels = ax1.xticks()\n",
    "    #     ax1.set_xticklabels(xlabels, rotation=45)  # to Rotate Xticks Label Text\n",
    "\n",
    "    return df_temp[[\"events\", \"event_code\"]].head(10)"
   ]
  },
  {
   "cell_type": "code",
   "execution_count": 689,
   "metadata": {
    "ExecuteTime": {
     "end_time": "2020-01-30T00:36:36.524130Z",
     "start_time": "2020-01-30T00:36:36.297569Z"
    }
   },
   "outputs": [
    {
     "data": {
      "text/html": [
       "<div>\n",
       "<style scoped>\n",
       "    .dataframe tbody tr th:only-of-type {\n",
       "        vertical-align: middle;\n",
       "    }\n",
       "\n",
       "    .dataframe tbody tr th {\n",
       "        vertical-align: top;\n",
       "    }\n",
       "\n",
       "    .dataframe thead th {\n",
       "        text-align: right;\n",
       "    }\n",
       "</style>\n",
       "<table border=\"1\" class=\"dataframe\">\n",
       "  <thead>\n",
       "    <tr style=\"text-align: right;\">\n",
       "      <th></th>\n",
       "      <th>events</th>\n",
       "      <th>event_code</th>\n",
       "    </tr>\n",
       "  </thead>\n",
       "  <tbody>\n",
       "    <tr>\n",
       "      <th>0</th>\n",
       "      <td>field_out</td>\n",
       "      <td>0</td>\n",
       "    </tr>\n",
       "    <tr>\n",
       "      <th>1</th>\n",
       "      <td>single</td>\n",
       "      <td>1</td>\n",
       "    </tr>\n",
       "    <tr>\n",
       "      <th>2</th>\n",
       "      <td>single</td>\n",
       "      <td>1</td>\n",
       "    </tr>\n",
       "    <tr>\n",
       "      <th>3</th>\n",
       "      <td>home_run</td>\n",
       "      <td>1</td>\n",
       "    </tr>\n",
       "    <tr>\n",
       "      <th>4</th>\n",
       "      <td>home_run</td>\n",
       "      <td>1</td>\n",
       "    </tr>\n",
       "    <tr>\n",
       "      <th>5</th>\n",
       "      <td>field_out</td>\n",
       "      <td>0</td>\n",
       "    </tr>\n",
       "    <tr>\n",
       "      <th>6</th>\n",
       "      <td>walk</td>\n",
       "      <td>1</td>\n",
       "    </tr>\n",
       "    <tr>\n",
       "      <th>7</th>\n",
       "      <td>field_out</td>\n",
       "      <td>0</td>\n",
       "    </tr>\n",
       "    <tr>\n",
       "      <th>8</th>\n",
       "      <td>field_out</td>\n",
       "      <td>0</td>\n",
       "    </tr>\n",
       "    <tr>\n",
       "      <th>9</th>\n",
       "      <td>field_out</td>\n",
       "      <td>0</td>\n",
       "    </tr>\n",
       "  </tbody>\n",
       "</table>\n",
       "</div>"
      ],
      "text/plain": [
       "      events  event_code\n",
       "0  field_out           0\n",
       "1     single           1\n",
       "2     single           1\n",
       "3   home_run           1\n",
       "4   home_run           1\n",
       "5  field_out           0\n",
       "6       walk           1\n",
       "7  field_out           0\n",
       "8  field_out           0\n",
       "9  field_out           0"
      ]
     },
     "execution_count": 689,
     "metadata": {},
     "output_type": "execute_result"
    },
    {
     "data": {
      "image/png": "[encoded data removed]",
      "text/plain": [
       "<Figure size 432x288 with 1 Axes>"
      ]
     },
     "metadata": {
      "needs_background": "light"
     },
     "output_type": "display_data"
    },
    {
     "data": {
      "application/javascript": [
       "\n",
       "            setTimeout(function() {\n",
       "                var nbb_cell_id = 689;\n",
       "                var nbb_unformatted_code = \"event_list = [\\\"walk\\\", \\\"single\\\", \\\"double\\\", \\\"triple\\\", \\\"home_run\\\"]\\nplot_events_over_time(df_sc_events_b1, event_list)\";\n",
       "                var nbb_formatted_code = \"event_list = [\\\"walk\\\", \\\"single\\\", \\\"double\\\", \\\"triple\\\", \\\"home_run\\\"]\\nplot_events_over_time(df_sc_events_b1, event_list)\";\n",
       "                var nbb_cells = Jupyter.notebook.get_cells();\n",
       "                for (var i = 0; i < nbb_cells.length; ++i) {\n",
       "                    if (nbb_cells[i].input_prompt_number == nbb_cell_id) {\n",
       "                        if (nbb_cells[i].get_text() == nbb_unformatted_code) {\n",
       "                             nbb_cells[i].set_text(nbb_formatted_code);\n",
       "                        }\n",
       "                        break;\n",
       "                    }\n",
       "                }\n",
       "            }, 500);\n",
       "            "
      ],
      "text/plain": [
       "<IPython.core.display.Javascript object>"
      ]
     },
     "metadata": {},
     "output_type": "display_data"
    }
   ],
   "source": [
    "event_list = [\"walk\", \"single\", \"double\", \"triple\", \"home_run\"]\n",
    "plot_events_over_time(df_sc_events_b1, event_list)"
   ]
  },
  {
   "cell_type": "code",
   "execution_count": 690,
   "metadata": {
    "ExecuteTime": {
     "end_time": "2020-01-30T00:36:43.004441Z",
     "start_time": "2020-01-30T00:36:42.782155Z"
    }
   },
   "outputs": [
    {
     "data": {
      "text/html": [
       "<div>\n",
       "<style scoped>\n",
       "    .dataframe tbody tr th:only-of-type {\n",
       "        vertical-align: middle;\n",
       "    }\n",
       "\n",
       "    .dataframe tbody tr th {\n",
       "        vertical-align: top;\n",
       "    }\n",
       "\n",
       "    .dataframe thead th {\n",
       "        text-align: right;\n",
       "    }\n",
       "</style>\n",
       "<table border=\"1\" class=\"dataframe\">\n",
       "  <thead>\n",
       "    <tr style=\"text-align: right;\">\n",
       "      <th></th>\n",
       "      <th>events</th>\n",
       "      <th>event_code</th>\n",
       "    </tr>\n",
       "  </thead>\n",
       "  <tbody>\n",
       "    <tr>\n",
       "      <th>0</th>\n",
       "      <td>single</td>\n",
       "      <td>1</td>\n",
       "    </tr>\n",
       "    <tr>\n",
       "      <th>1</th>\n",
       "      <td>strikeout</td>\n",
       "      <td>0</td>\n",
       "    </tr>\n",
       "    <tr>\n",
       "      <th>2</th>\n",
       "      <td>force_out</td>\n",
       "      <td>0</td>\n",
       "    </tr>\n",
       "    <tr>\n",
       "      <th>3</th>\n",
       "      <td>strikeout</td>\n",
       "      <td>0</td>\n",
       "    </tr>\n",
       "    <tr>\n",
       "      <th>4</th>\n",
       "      <td>single</td>\n",
       "      <td>1</td>\n",
       "    </tr>\n",
       "    <tr>\n",
       "      <th>5</th>\n",
       "      <td>strikeout</td>\n",
       "      <td>0</td>\n",
       "    </tr>\n",
       "    <tr>\n",
       "      <th>6</th>\n",
       "      <td>single</td>\n",
       "      <td>1</td>\n",
       "    </tr>\n",
       "    <tr>\n",
       "      <th>7</th>\n",
       "      <td>field_out</td>\n",
       "      <td>0</td>\n",
       "    </tr>\n",
       "    <tr>\n",
       "      <th>8</th>\n",
       "      <td>strikeout</td>\n",
       "      <td>0</td>\n",
       "    </tr>\n",
       "    <tr>\n",
       "      <th>9</th>\n",
       "      <td>strikeout</td>\n",
       "      <td>0</td>\n",
       "    </tr>\n",
       "  </tbody>\n",
       "</table>\n",
       "</div>"
      ],
      "text/plain": [
       "      events  event_code\n",
       "0     single           1\n",
       "1  strikeout           0\n",
       "2  force_out           0\n",
       "3  strikeout           0\n",
       "4     single           1\n",
       "5  strikeout           0\n",
       "6     single           1\n",
       "7  field_out           0\n",
       "8  strikeout           0\n",
       "9  strikeout           0"
      ]
     },
     "execution_count": 690,
     "metadata": {},
     "output_type": "execute_result"
    },
    {
     "data": {
      "image/png": "[encoded data removed]",
      "text/plain": [
       "<Figure size 432x288 with 1 Axes>"
      ]
     },
     "metadata": {
      "needs_background": "light"
     },
     "output_type": "display_data"
    },
    {
     "data": {
      "application/javascript": [
       "\n",
       "            setTimeout(function() {\n",
       "                var nbb_cell_id = 690;\n",
       "                var nbb_unformatted_code = \"event_list = [\\\"walk\\\", \\\"single\\\", \\\"double\\\", \\\"triple\\\", \\\"home_run\\\"]\\nplot_events_over_time(df_sc_events_b2, event_list)\";\n",
       "                var nbb_formatted_code = \"event_list = [\\\"walk\\\", \\\"single\\\", \\\"double\\\", \\\"triple\\\", \\\"home_run\\\"]\\nplot_events_over_time(df_sc_events_b2, event_list)\";\n",
       "                var nbb_cells = Jupyter.notebook.get_cells();\n",
       "                for (var i = 0; i < nbb_cells.length; ++i) {\n",
       "                    if (nbb_cells[i].input_prompt_number == nbb_cell_id) {\n",
       "                        if (nbb_cells[i].get_text() == nbb_unformatted_code) {\n",
       "                             nbb_cells[i].set_text(nbb_formatted_code);\n",
       "                        }\n",
       "                        break;\n",
       "                    }\n",
       "                }\n",
       "            }, 500);\n",
       "            "
      ],
      "text/plain": [
       "<IPython.core.display.Javascript object>"
      ]
     },
     "metadata": {},
     "output_type": "display_data"
    }
   ],
   "source": [
    "event_list = [\"walk\", \"single\", \"double\", \"triple\", \"home_run\"]\n",
    "plot_events_over_time(df_sc_events_b2, event_list)"
   ]
  },
  {
   "cell_type": "code",
   "execution_count": 418,
   "metadata": {
    "ExecuteTime": {
     "end_time": "2020-01-29T18:33:08.122022Z",
     "start_time": "2020-01-29T18:33:08.114979Z"
    }
   },
   "outputs": [
    {
     "data": {
      "application/javascript": [
       "\n",
       "            setTimeout(function() {\n",
       "                var nbb_cell_id = 418;\n",
       "                var nbb_unformatted_code = \"# def get_model_prob(df4model)\\n\\n# Output probabilities of\";\n",
       "                var nbb_formatted_code = \"# def get_model_prob(df4model)\\n\\n# Output probabilities of\";\n",
       "                var nbb_cells = Jupyter.notebook.get_cells();\n",
       "                for (var i = 0; i < nbb_cells.length; ++i) {\n",
       "                    if (nbb_cells[i].input_prompt_number == nbb_cell_id) {\n",
       "                        if (nbb_cells[i].get_text() == nbb_unformatted_code) {\n",
       "                             nbb_cells[i].set_text(nbb_formatted_code);\n",
       "                        }\n",
       "                        break;\n",
       "                    }\n",
       "                }\n",
       "            }, 500);\n",
       "            "
      ],
      "text/plain": [
       "<IPython.core.display.Javascript object>"
      ]
     },
     "metadata": {},
     "output_type": "display_data"
    }
   ],
   "source": [
    "# def get_model_prob(df4model)\n",
    "\n",
    "# Output probabilities of"
   ]
  },
  {
   "cell_type": "code",
   "execution_count": 760,
   "metadata": {
    "ExecuteTime": {
     "end_time": "2020-01-30T02:42:43.599069Z",
     "start_time": "2020-01-30T02:42:43.543956Z"
    },
    "code_folding": [
     0
    ]
   },
   "outputs": [
    {
     "data": {
      "application/javascript": [
       "\n",
       "            setTimeout(function() {\n",
       "                var nbb_cell_id = 760;\n",
       "                var nbb_unformatted_code = \"def get_df4model(df, n_back_PA, m_size):\\n    \\\"\\\"\\\"\\n    Function for getting summarized DF\\n    \\\"\\\"\\\"\\n    # sample values -----------\\n    # n_back_PA = 100\\n    # df = df_sc_events.copy()\\n    # pid = pid_of_interest1\\n    # m_size = 200\\n    # -------------------------\\n\\n    # Reset index so that code below works\\n    df.reset_index(inplace=True)\\n\\n    # Encode on-base events, including walks\\n    ob_list = [\\\"walk\\\", \\\"single\\\", \\\"double\\\", \\\"triple\\\", \\\"home_run\\\"]\\n    df[\\\"event_code\\\"] = 0\\n    df.loc[df[\\\"events\\\"].isin(ob_list), \\\"event_code\\\"] = 1\\n\\n    # Sum of on-base events - critical that order matters! (should be addressed above)\\n    # rolling was close, but needed to tweak\\n    df[\\\"num_events_sum_nback\\\"] = (\\n        df[\\\"event_code\\\"].iloc[::-1].rolling(n_back_PA).sum().iloc[::-1]\\n    )\\n\\n    # Percent of on-base events (overall)\\n    df[\\\"prop_events_nback\\\"] = df[\\\"num_events_sum_nback\\\"] / n_back_PA\\n\\n    # Percent of on-base events against handedness of pitcher\\n    for i in df.index:\\n        p_throws = df[\\\"p_throws\\\"].iloc[i]  # Get handedness of pitcher\\n        df_pt_throw = df[df[\\\"p_throws\\\"] == p_throws]\\n        n_pt_events = df_pt_throw[\\\"event_code\\\"].iloc[i : i + n_back_PA].sum()\\n        df.loc[i, \\\"num_events_sum_nback_pt\\\"] = n_pt_events\\n        df.loc[i, \\\"prop_events_sum_nback_pt\\\"] = n_pt_events / n_back_PA\\n\\n    col4model = [\\n        \\\"event_code\\\",\\n        \\\"p_throws\\\",\\n        \\\"prop_events_nback\\\",\\n        \\\"prop_events_sum_nback_pt\\\",\\n    ]\\n\\n    df_4model = df[col4model].copy()\\n    df_4model_overall = df_4model.loc[:m_size]\\n\\n    df_meta_w_model_overall = pd.merge(\\n        df[[\\\"game_date\\\", \\\"inning\\\", \\\"outs_when_up\\\", \\\"events\\\", \\\"player_name\\\", \\\"pitcher\\\"]],\\n        df_4model_overall,\\n        left_index=True,\\n        right_index=True,\\n    )\\n\\n    return df_meta_w_model_overall\";\n",
       "                var nbb_formatted_code = \"def get_df4model(df, n_back_PA, m_size):\\n    \\\"\\\"\\\"\\n    Function for getting summarized DF\\n    \\\"\\\"\\\"\\n    # sample values -----------\\n    # n_back_PA = 100\\n    # df = df_sc_events.copy()\\n    # pid = pid_of_interest1\\n    # m_size = 200\\n    # -------------------------\\n\\n    # Reset index so that code below works\\n    df.reset_index(inplace=True)\\n\\n    # Encode on-base events, including walks\\n    ob_list = [\\\"walk\\\", \\\"single\\\", \\\"double\\\", \\\"triple\\\", \\\"home_run\\\"]\\n    df[\\\"event_code\\\"] = 0\\n    df.loc[df[\\\"events\\\"].isin(ob_list), \\\"event_code\\\"] = 1\\n\\n    # Sum of on-base events - critical that order matters! (should be addressed above)\\n    # rolling was close, but needed to tweak\\n    df[\\\"num_events_sum_nback\\\"] = (\\n        df[\\\"event_code\\\"].iloc[::-1].rolling(n_back_PA).sum().iloc[::-1]\\n    )\\n\\n    # Percent of on-base events (overall)\\n    df[\\\"prop_events_nback\\\"] = df[\\\"num_events_sum_nback\\\"] / n_back_PA\\n\\n    # Percent of on-base events against handedness of pitcher\\n    for i in df.index:\\n        p_throws = df[\\\"p_throws\\\"].iloc[i]  # Get handedness of pitcher\\n        df_pt_throw = df[df[\\\"p_throws\\\"] == p_throws]\\n        n_pt_events = df_pt_throw[\\\"event_code\\\"].iloc[i : i + n_back_PA].sum()\\n        df.loc[i, \\\"num_events_sum_nback_pt\\\"] = n_pt_events\\n        df.loc[i, \\\"prop_events_sum_nback_pt\\\"] = n_pt_events / n_back_PA\\n\\n    col4model = [\\n        \\\"event_code\\\",\\n        \\\"p_throws\\\",\\n        \\\"prop_events_nback\\\",\\n        \\\"prop_events_sum_nback_pt\\\",\\n    ]\\n\\n    df_4model = df[col4model].copy()\\n    df_4model_overall = df_4model.loc[:m_size]\\n\\n    df_meta_w_model_overall = pd.merge(\\n        df[[\\\"game_date\\\", \\\"inning\\\", \\\"outs_when_up\\\", \\\"events\\\", \\\"player_name\\\", \\\"pitcher\\\"]],\\n        df_4model_overall,\\n        left_index=True,\\n        right_index=True,\\n    )\\n\\n    return df_meta_w_model_overall\";\n",
       "                var nbb_cells = Jupyter.notebook.get_cells();\n",
       "                for (var i = 0; i < nbb_cells.length; ++i) {\n",
       "                    if (nbb_cells[i].input_prompt_number == nbb_cell_id) {\n",
       "                        if (nbb_cells[i].get_text() == nbb_unformatted_code) {\n",
       "                             nbb_cells[i].set_text(nbb_formatted_code);\n",
       "                        }\n",
       "                        break;\n",
       "                    }\n",
       "                }\n",
       "            }, 500);\n",
       "            "
      ],
      "text/plain": [
       "<IPython.core.display.Javascript object>"
      ]
     },
     "metadata": {},
     "output_type": "display_data"
    }
   ],
   "source": [
    "def get_df4model(df, n_back_PA, m_size):\n",
    "    \"\"\"\n",
    "    Function for getting summarized DF\n",
    "    \"\"\"\n",
    "    # sample values -----------\n",
    "    # n_back_PA = 100\n",
    "    # df = df_sc_events.copy()\n",
    "    # pid = pid_of_interest1\n",
    "    # m_size = 200\n",
    "    # -------------------------\n",
    "\n",
    "    # Reset index so that code below works\n",
    "    df.reset_index(inplace=True)\n",
    "\n",
    "    # Encode on-base events, including walks\n",
    "    ob_list = [\"walk\", \"single\", \"double\", \"triple\", \"home_run\"]\n",
    "    df[\"event_code\"] = 0\n",
    "    df.loc[df[\"events\"].isin(ob_list), \"event_code\"] = 1\n",
    "\n",
    "    # Sum of on-base events - critical that order matters! (should be addressed above)\n",
    "    # rolling was close, but needed to tweak\n",
    "    df[\"num_events_sum_nback\"] = (\n",
    "        df[\"event_code\"].iloc[::-1].rolling(n_back_PA).sum().iloc[::-1]\n",
    "    )\n",
    "\n",
    "    # Percent of on-base events (overall)\n",
    "    df[\"prop_events_nback\"] = df[\"num_events_sum_nback\"] / n_back_PA\n",
    "\n",
    "    # Percent of on-base events against handedness of pitcher\n",
    "    for i in df.index:\n",
    "        p_throws = df[\"p_throws\"].iloc[i]  # Get handedness of pitcher\n",
    "        df_pt_throw = df[df[\"p_throws\"] == p_throws]\n",
    "        n_pt_events = df_pt_throw[\"event_code\"].iloc[i : i + n_back_PA].sum()\n",
    "        df.loc[i, \"num_events_sum_nback_pt\"] = n_pt_events\n",
    "        df.loc[i, \"prop_events_sum_nback_pt\"] = n_pt_events / n_back_PA\n",
    "\n",
    "    col4model = [\n",
    "        \"event_code\",\n",
    "        \"p_throws\",\n",
    "        \"prop_events_nback\",\n",
    "        \"prop_events_sum_nback_pt\",\n",
    "    ]\n",
    "\n",
    "    df_4model = df[col4model].copy()\n",
    "    df_4model_overall = df_4model.loc[:m_size]\n",
    "\n",
    "    df_meta_w_model_overall = pd.merge(\n",
    "        df[[\"game_date\", \"inning\", \"outs_when_up\", \"events\", \"player_name\", \"pitcher\"]],\n",
    "        df_4model_overall,\n",
    "        left_index=True,\n",
    "        right_index=True,\n",
    "    )\n",
    "\n",
    "    return df_meta_w_model_overall"
   ]
  },
  {
   "cell_type": "code",
   "execution_count": 692,
   "metadata": {
    "ExecuteTime": {
     "end_time": "2020-01-30T00:36:55.817566Z",
     "start_time": "2020-01-30T00:36:55.779327Z"
    }
   },
   "outputs": [
    {
     "data": {
      "text/html": [
       "<div>\n",
       "<style scoped>\n",
       "    .dataframe tbody tr th:only-of-type {\n",
       "        vertical-align: middle;\n",
       "    }\n",
       "\n",
       "    .dataframe tbody tr th {\n",
       "        vertical-align: top;\n",
       "    }\n",
       "\n",
       "    .dataframe thead th {\n",
       "        text-align: right;\n",
       "    }\n",
       "</style>\n",
       "<table border=\"1\" class=\"dataframe\">\n",
       "  <thead>\n",
       "    <tr style=\"text-align: right;\">\n",
       "      <th></th>\n",
       "      <th>pitch_type</th>\n",
       "      <th>game_date</th>\n",
       "      <th>release_speed</th>\n",
       "      <th>release_pos_x</th>\n",
       "      <th>release_pos_z</th>\n",
       "      <th>player_name</th>\n",
       "      <th>batter</th>\n",
       "      <th>pitcher</th>\n",
       "      <th>events</th>\n",
       "      <th>description</th>\n",
       "      <th>...</th>\n",
       "      <th>if_fielding_alignment</th>\n",
       "      <th>of_fielding_alignment</th>\n",
       "      <th>name_last</th>\n",
       "      <th>name_first</th>\n",
       "      <th>key_mlbam</th>\n",
       "      <th>key_retro</th>\n",
       "      <th>key_bbref</th>\n",
       "      <th>key_fangraphs</th>\n",
       "      <th>mlb_played_first</th>\n",
       "      <th>mlb_played_last</th>\n",
       "    </tr>\n",
       "  </thead>\n",
       "  <tbody>\n",
       "    <tr>\n",
       "      <th>0</th>\n",
       "      <td>SI</td>\n",
       "      <td>2019-09-04</td>\n",
       "      <td>98.5</td>\n",
       "      <td>-1.6845</td>\n",
       "      <td>6.2965</td>\n",
       "      <td>Brusdar Graterol</td>\n",
       "      <td>605141.0</td>\n",
       "      <td>660813.0</td>\n",
       "      <td>field_out</td>\n",
       "      <td>hit_into_play</td>\n",
       "      <td>...</td>\n",
       "      <td>Infield shift</td>\n",
       "      <td>Standard</td>\n",
       "      <td>betts</td>\n",
       "      <td>mookie</td>\n",
       "      <td>605141</td>\n",
       "      <td>bettm001</td>\n",
       "      <td>bettsmo01</td>\n",
       "      <td>13611</td>\n",
       "      <td>2014.0</td>\n",
       "      <td>2019.0</td>\n",
       "    </tr>\n",
       "    <tr>\n",
       "      <th>1</th>\n",
       "      <td>SL</td>\n",
       "      <td>2019-09-04</td>\n",
       "      <td>81.9</td>\n",
       "      <td>-1.3157</td>\n",
       "      <td>5.9479</td>\n",
       "      <td>Cody Stashak</td>\n",
       "      <td>605141.0</td>\n",
       "      <td>664054.0</td>\n",
       "      <td>single</td>\n",
       "      <td>hit_into_play_score</td>\n",
       "      <td>...</td>\n",
       "      <td>Infield shift</td>\n",
       "      <td>Standard</td>\n",
       "      <td>betts</td>\n",
       "      <td>mookie</td>\n",
       "      <td>605141</td>\n",
       "      <td>bettm001</td>\n",
       "      <td>bettsmo01</td>\n",
       "      <td>13611</td>\n",
       "      <td>2014.0</td>\n",
       "      <td>2019.0</td>\n",
       "    </tr>\n",
       "    <tr>\n",
       "      <th>2</th>\n",
       "      <td>CH</td>\n",
       "      <td>2019-09-04</td>\n",
       "      <td>83.3</td>\n",
       "      <td>-3.5462</td>\n",
       "      <td>5.1358</td>\n",
       "      <td>Jose Berrios</td>\n",
       "      <td>605141.0</td>\n",
       "      <td>621244.0</td>\n",
       "      <td>single</td>\n",
       "      <td>hit_into_play_no_out</td>\n",
       "      <td>...</td>\n",
       "      <td>Infield shift</td>\n",
       "      <td>Standard</td>\n",
       "      <td>betts</td>\n",
       "      <td>mookie</td>\n",
       "      <td>605141</td>\n",
       "      <td>bettm001</td>\n",
       "      <td>bettsmo01</td>\n",
       "      <td>13611</td>\n",
       "      <td>2014.0</td>\n",
       "      <td>2019.0</td>\n",
       "    </tr>\n",
       "    <tr>\n",
       "      <th>3</th>\n",
       "      <td>CU</td>\n",
       "      <td>2019-09-04</td>\n",
       "      <td>81.8</td>\n",
       "      <td>-3.6135</td>\n",
       "      <td>5.3624</td>\n",
       "      <td>Jose Berrios</td>\n",
       "      <td>605141.0</td>\n",
       "      <td>621244.0</td>\n",
       "      <td>home_run</td>\n",
       "      <td>hit_into_play_score</td>\n",
       "      <td>...</td>\n",
       "      <td>Infield shift</td>\n",
       "      <td>Standard</td>\n",
       "      <td>betts</td>\n",
       "      <td>mookie</td>\n",
       "      <td>605141</td>\n",
       "      <td>bettm001</td>\n",
       "      <td>bettsmo01</td>\n",
       "      <td>13611</td>\n",
       "      <td>2014.0</td>\n",
       "      <td>2019.0</td>\n",
       "    </tr>\n",
       "    <tr>\n",
       "      <th>4</th>\n",
       "      <td>FF</td>\n",
       "      <td>2019-09-04</td>\n",
       "      <td>93.7</td>\n",
       "      <td>-3.5782</td>\n",
       "      <td>5.4881</td>\n",
       "      <td>Jose Berrios</td>\n",
       "      <td>605141.0</td>\n",
       "      <td>621244.0</td>\n",
       "      <td>home_run</td>\n",
       "      <td>hit_into_play_score</td>\n",
       "      <td>...</td>\n",
       "      <td>Infield shift</td>\n",
       "      <td>Standard</td>\n",
       "      <td>betts</td>\n",
       "      <td>mookie</td>\n",
       "      <td>605141</td>\n",
       "      <td>bettm001</td>\n",
       "      <td>bettsmo01</td>\n",
       "      <td>13611</td>\n",
       "      <td>2014.0</td>\n",
       "      <td>2019.0</td>\n",
       "    </tr>\n",
       "  </tbody>\n",
       "</table>\n",
       "<p>5 rows × 97 columns</p>\n",
       "</div>"
      ],
      "text/plain": [
       "  pitch_type  game_date  release_speed  release_pos_x  release_pos_z  \\\n",
       "0         SI 2019-09-04           98.5        -1.6845         6.2965   \n",
       "1         SL 2019-09-04           81.9        -1.3157         5.9479   \n",
       "2         CH 2019-09-04           83.3        -3.5462         5.1358   \n",
       "3         CU 2019-09-04           81.8        -3.6135         5.3624   \n",
       "4         FF 2019-09-04           93.7        -3.5782         5.4881   \n",
       "\n",
       "        player_name    batter   pitcher     events           description  ...  \\\n",
       "0  Brusdar Graterol  605141.0  660813.0  field_out         hit_into_play  ...   \n",
       "1      Cody Stashak  605141.0  664054.0     single   hit_into_play_score  ...   \n",
       "2      Jose Berrios  605141.0  621244.0     single  hit_into_play_no_out  ...   \n",
       "3      Jose Berrios  605141.0  621244.0   home_run   hit_into_play_score  ...   \n",
       "4      Jose Berrios  605141.0  621244.0   home_run   hit_into_play_score  ...   \n",
       "\n",
       "  if_fielding_alignment of_fielding_alignment name_last name_first  key_mlbam  \\\n",
       "0         Infield shift              Standard     betts     mookie     605141   \n",
       "1         Infield shift              Standard     betts     mookie     605141   \n",
       "2         Infield shift              Standard     betts     mookie     605141   \n",
       "3         Infield shift              Standard     betts     mookie     605141   \n",
       "4         Infield shift              Standard     betts     mookie     605141   \n",
       "\n",
       "  key_retro  key_bbref key_fangraphs mlb_played_first mlb_played_last  \n",
       "0  bettm001  bettsmo01         13611           2014.0          2019.0  \n",
       "1  bettm001  bettsmo01         13611           2014.0          2019.0  \n",
       "2  bettm001  bettsmo01         13611           2014.0          2019.0  \n",
       "3  bettm001  bettsmo01         13611           2014.0          2019.0  \n",
       "4  bettm001  bettsmo01         13611           2014.0          2019.0  \n",
       "\n",
       "[5 rows x 97 columns]"
      ]
     },
     "execution_count": 692,
     "metadata": {},
     "output_type": "execute_result"
    },
    {
     "data": {
      "application/javascript": [
       "\n",
       "            setTimeout(function() {\n",
       "                var nbb_cell_id = 692;\n",
       "                var nbb_unformatted_code = \"df_sc_events_b1.head()\";\n",
       "                var nbb_formatted_code = \"df_sc_events_b1.head()\";\n",
       "                var nbb_cells = Jupyter.notebook.get_cells();\n",
       "                for (var i = 0; i < nbb_cells.length; ++i) {\n",
       "                    if (nbb_cells[i].input_prompt_number == nbb_cell_id) {\n",
       "                        if (nbb_cells[i].get_text() == nbb_unformatted_code) {\n",
       "                             nbb_cells[i].set_text(nbb_formatted_code);\n",
       "                        }\n",
       "                        break;\n",
       "                    }\n",
       "                }\n",
       "            }, 500);\n",
       "            "
      ],
      "text/plain": [
       "<IPython.core.display.Javascript object>"
      ]
     },
     "metadata": {},
     "output_type": "display_data"
    }
   ],
   "source": [
    "df_sc_events_b1.head()"
   ]
  },
  {
   "cell_type": "code",
   "execution_count": 761,
   "metadata": {
    "ExecuteTime": {
     "end_time": "2020-01-30T02:42:50.603006Z",
     "start_time": "2020-01-30T02:42:49.245314Z"
    }
   },
   "outputs": [
    {
     "data": {
      "application/javascript": [
       "\n",
       "            setTimeout(function() {\n",
       "                var nbb_cell_id = 761;\n",
       "                var nbb_unformatted_code = \"df4model_b1 = get_df4model(df=df_sc_events_b1.copy(), n_back_PA=100, m_size=200)\";\n",
       "                var nbb_formatted_code = \"df4model_b1 = get_df4model(df=df_sc_events_b1.copy(), n_back_PA=100, m_size=200)\";\n",
       "                var nbb_cells = Jupyter.notebook.get_cells();\n",
       "                for (var i = 0; i < nbb_cells.length; ++i) {\n",
       "                    if (nbb_cells[i].input_prompt_number == nbb_cell_id) {\n",
       "                        if (nbb_cells[i].get_text() == nbb_unformatted_code) {\n",
       "                             nbb_cells[i].set_text(nbb_formatted_code);\n",
       "                        }\n",
       "                        break;\n",
       "                    }\n",
       "                }\n",
       "            }, 500);\n",
       "            "
      ],
      "text/plain": [
       "<IPython.core.display.Javascript object>"
      ]
     },
     "metadata": {},
     "output_type": "display_data"
    }
   ],
   "source": [
    "df4model_b1 = get_df4model(df=df_sc_events_b1.copy(), n_back_PA=100, m_size=200)"
   ]
  },
  {
   "cell_type": "code",
   "execution_count": 762,
   "metadata": {
    "ExecuteTime": {
     "end_time": "2020-01-30T02:42:51.362949Z",
     "start_time": "2020-01-30T02:42:51.339450Z"
    }
   },
   "outputs": [
    {
     "data": {
      "text/html": [
       "<div>\n",
       "<style scoped>\n",
       "    .dataframe tbody tr th:only-of-type {\n",
       "        vertical-align: middle;\n",
       "    }\n",
       "\n",
       "    .dataframe tbody tr th {\n",
       "        vertical-align: top;\n",
       "    }\n",
       "\n",
       "    .dataframe thead th {\n",
       "        text-align: right;\n",
       "    }\n",
       "</style>\n",
       "<table border=\"1\" class=\"dataframe\">\n",
       "  <thead>\n",
       "    <tr style=\"text-align: right;\">\n",
       "      <th></th>\n",
       "      <th>game_date</th>\n",
       "      <th>inning</th>\n",
       "      <th>outs_when_up</th>\n",
       "      <th>events</th>\n",
       "      <th>player_name</th>\n",
       "      <th>pitcher</th>\n",
       "      <th>event_code</th>\n",
       "      <th>p_throws</th>\n",
       "      <th>prop_events_nback</th>\n",
       "      <th>prop_events_sum_nback_pt</th>\n",
       "    </tr>\n",
       "  </thead>\n",
       "  <tbody>\n",
       "    <tr>\n",
       "      <th>0</th>\n",
       "      <td>2019-09-25</td>\n",
       "      <td>1.0</td>\n",
       "      <td>1.0</td>\n",
       "      <td>field_out</td>\n",
       "      <td>Jon Lester</td>\n",
       "      <td>452657.0</td>\n",
       "      <td>0</td>\n",
       "      <td>L</td>\n",
       "      <td>0.28</td>\n",
       "      <td>0.26</td>\n",
       "    </tr>\n",
       "    <tr>\n",
       "      <th>1</th>\n",
       "      <td>2019-09-24</td>\n",
       "      <td>8.0</td>\n",
       "      <td>2.0</td>\n",
       "      <td>field_out</td>\n",
       "      <td>Derek Holland</td>\n",
       "      <td>502706.0</td>\n",
       "      <td>0</td>\n",
       "      <td>L</td>\n",
       "      <td>0.29</td>\n",
       "      <td>0.26</td>\n",
       "    </tr>\n",
       "    <tr>\n",
       "      <th>2</th>\n",
       "      <td>2019-09-24</td>\n",
       "      <td>7.0</td>\n",
       "      <td>1.0</td>\n",
       "      <td>fielders_choice</td>\n",
       "      <td>Danny Hultzen</td>\n",
       "      <td>543343.0</td>\n",
       "      <td>0</td>\n",
       "      <td>L</td>\n",
       "      <td>0.29</td>\n",
       "      <td>0.26</td>\n",
       "    </tr>\n",
       "    <tr>\n",
       "      <th>3</th>\n",
       "      <td>2019-09-24</td>\n",
       "      <td>6.0</td>\n",
       "      <td>1.0</td>\n",
       "      <td>field_out</td>\n",
       "      <td>Kyle Hendricks</td>\n",
       "      <td>543294.0</td>\n",
       "      <td>0</td>\n",
       "      <td>R</td>\n",
       "      <td>0.29</td>\n",
       "      <td>0.33</td>\n",
       "    </tr>\n",
       "    <tr>\n",
       "      <th>4</th>\n",
       "      <td>2019-09-24</td>\n",
       "      <td>4.0</td>\n",
       "      <td>0.0</td>\n",
       "      <td>field_out</td>\n",
       "      <td>Kyle Hendricks</td>\n",
       "      <td>543294.0</td>\n",
       "      <td>0</td>\n",
       "      <td>R</td>\n",
       "      <td>0.29</td>\n",
       "      <td>0.33</td>\n",
       "    </tr>\n",
       "  </tbody>\n",
       "</table>\n",
       "</div>"
      ],
      "text/plain": [
       "   game_date  inning  outs_when_up           events     player_name   pitcher  \\\n",
       "0 2019-09-25     1.0           1.0        field_out      Jon Lester  452657.0   \n",
       "1 2019-09-24     8.0           2.0        field_out   Derek Holland  502706.0   \n",
       "2 2019-09-24     7.0           1.0  fielders_choice   Danny Hultzen  543343.0   \n",
       "3 2019-09-24     6.0           1.0        field_out  Kyle Hendricks  543294.0   \n",
       "4 2019-09-24     4.0           0.0        field_out  Kyle Hendricks  543294.0   \n",
       "\n",
       "   event_code p_throws  prop_events_nback  prop_events_sum_nback_pt  \n",
       "0           0        L               0.28                      0.26  \n",
       "1           0        L               0.29                      0.26  \n",
       "2           0        L               0.29                      0.26  \n",
       "3           0        R               0.29                      0.33  \n",
       "4           0        R               0.29                      0.33  "
      ]
     },
     "execution_count": 762,
     "metadata": {},
     "output_type": "execute_result"
    },
    {
     "data": {
      "application/javascript": [
       "\n",
       "            setTimeout(function() {\n",
       "                var nbb_cell_id = 762;\n",
       "                var nbb_unformatted_code = \"df4model_b1.head()\";\n",
       "                var nbb_formatted_code = \"df4model_b1.head()\";\n",
       "                var nbb_cells = Jupyter.notebook.get_cells();\n",
       "                for (var i = 0; i < nbb_cells.length; ++i) {\n",
       "                    if (nbb_cells[i].input_prompt_number == nbb_cell_id) {\n",
       "                        if (nbb_cells[i].get_text() == nbb_unformatted_code) {\n",
       "                             nbb_cells[i].set_text(nbb_formatted_code);\n",
       "                        }\n",
       "                        break;\n",
       "                    }\n",
       "                }\n",
       "            }, 500);\n",
       "            "
      ],
      "text/plain": [
       "<IPython.core.display.Javascript object>"
      ]
     },
     "metadata": {},
     "output_type": "display_data"
    }
   ],
   "source": [
    "df4model_b1.head()"
   ]
  },
  {
   "cell_type": "code",
   "execution_count": 763,
   "metadata": {
    "ExecuteTime": {
     "end_time": "2020-01-30T02:42:55.584922Z",
     "start_time": "2020-01-30T02:42:55.569214Z"
    }
   },
   "outputs": [
    {
     "name": "stdout",
     "output_type": "stream",
     "text": [
      "   game_date  inning  outs_when_up           events     player_name   pitcher  \\\n",
      "0 2019-09-25     1.0           1.0        field_out      Jon Lester  452657.0   \n",
      "1 2019-09-24     8.0           2.0        field_out   Derek Holland  502706.0   \n",
      "2 2019-09-24     7.0           1.0  fielders_choice   Danny Hultzen  543343.0   \n",
      "3 2019-09-24     6.0           1.0        field_out  Kyle Hendricks  543294.0   \n",
      "4 2019-09-24     4.0           0.0        field_out  Kyle Hendricks  543294.0   \n",
      "\n",
      "   event_code p_throws  prop_events_nback  prop_events_sum_nback_pt  \n",
      "0           0        L               0.28                      0.26  \n",
      "1           0        L               0.29                      0.26  \n",
      "2           0        L               0.29                      0.26  \n",
      "3           0        R               0.29                      0.33  \n",
      "4           0        R               0.29                      0.33  \n",
      "(201, 10)\n"
     ]
    },
    {
     "data": {
      "application/javascript": [
       "\n",
       "            setTimeout(function() {\n",
       "                var nbb_cell_id = 763;\n",
       "                var nbb_unformatted_code = \"print(df4model_b1.head())\\nprint(df4model_b1.shape)\";\n",
       "                var nbb_formatted_code = \"print(df4model_b1.head())\\nprint(df4model_b1.shape)\";\n",
       "                var nbb_cells = Jupyter.notebook.get_cells();\n",
       "                for (var i = 0; i < nbb_cells.length; ++i) {\n",
       "                    if (nbb_cells[i].input_prompt_number == nbb_cell_id) {\n",
       "                        if (nbb_cells[i].get_text() == nbb_unformatted_code) {\n",
       "                             nbb_cells[i].set_text(nbb_formatted_code);\n",
       "                        }\n",
       "                        break;\n",
       "                    }\n",
       "                }\n",
       "            }, 500);\n",
       "            "
      ],
      "text/plain": [
       "<IPython.core.display.Javascript object>"
      ]
     },
     "metadata": {},
     "output_type": "display_data"
    }
   ],
   "source": [
    "print(df4model_b1.head())\n",
    "print(df4model_b1.shape)"
   ]
  },
  {
   "cell_type": "code",
   "execution_count": 764,
   "metadata": {
    "ExecuteTime": {
     "end_time": "2020-01-30T02:43:00.862301Z",
     "start_time": "2020-01-30T02:42:58.031707Z"
    }
   },
   "outputs": [
    {
     "data": {
      "application/javascript": [
       "\n",
       "            setTimeout(function() {\n",
       "                var nbb_cell_id = 764;\n",
       "                var nbb_unformatted_code = \"df4model_b2 = get_df4model(df=df_sc_events_b2.copy(), n_back_PA=100, m_size=200)\";\n",
       "                var nbb_formatted_code = \"df4model_b2 = get_df4model(df=df_sc_events_b2.copy(), n_back_PA=100, m_size=200)\";\n",
       "                var nbb_cells = Jupyter.notebook.get_cells();\n",
       "                for (var i = 0; i < nbb_cells.length; ++i) {\n",
       "                    if (nbb_cells[i].input_prompt_number == nbb_cell_id) {\n",
       "                        if (nbb_cells[i].get_text() == nbb_unformatted_code) {\n",
       "                             nbb_cells[i].set_text(nbb_formatted_code);\n",
       "                        }\n",
       "                        break;\n",
       "                    }\n",
       "                }\n",
       "            }, 500);\n",
       "            "
      ],
      "text/plain": [
       "<IPython.core.display.Javascript object>"
      ]
     },
     "metadata": {},
     "output_type": "display_data"
    }
   ],
   "source": [
    "df4model_b2 = get_df4model(df=df_sc_events_b2.copy(), n_back_PA=100, m_size=200)"
   ]
  },
  {
   "cell_type": "code",
   "execution_count": 765,
   "metadata": {
    "ExecuteTime": {
     "end_time": "2020-01-30T02:43:01.285047Z",
     "start_time": "2020-01-30T02:43:01.267670Z"
    }
   },
   "outputs": [
    {
     "name": "stdout",
     "output_type": "stream",
     "text": [
      "   game_date  inning  outs_when_up                 events     player_name  \\\n",
      "0 2019-09-25     4.0           1.0              strikeout    Shane Bieber   \n",
      "1 2019-09-25     2.0           1.0  strikeout_double_play    Shane Bieber   \n",
      "2 2019-09-25     1.0           0.0               home_run    Shane Bieber   \n",
      "3 2019-09-24     5.0           2.0              field_out  Mike Clevinger   \n",
      "4 2019-09-24     3.0           2.0                 double  Mike Clevinger   \n",
      "\n",
      "    pitcher  event_code p_throws  prop_events_nback  prop_events_sum_nback_pt  \n",
      "0  669456.0           0        R               0.26                      0.26  \n",
      "1  669456.0           0        R               0.27                      0.26  \n",
      "2  669456.0           1        R               0.28                      0.26  \n",
      "3  605182.0           0        R               0.27                      0.25  \n",
      "4  605182.0           1        R               0.27                      0.25  \n",
      "(201, 10)\n"
     ]
    },
    {
     "data": {
      "application/javascript": [
       "\n",
       "            setTimeout(function() {\n",
       "                var nbb_cell_id = 765;\n",
       "                var nbb_unformatted_code = \"print(df4model_b2.head())\\nprint(df4model_b2.shape)\";\n",
       "                var nbb_formatted_code = \"print(df4model_b2.head())\\nprint(df4model_b2.shape)\";\n",
       "                var nbb_cells = Jupyter.notebook.get_cells();\n",
       "                for (var i = 0; i < nbb_cells.length; ++i) {\n",
       "                    if (nbb_cells[i].input_prompt_number == nbb_cell_id) {\n",
       "                        if (nbb_cells[i].get_text() == nbb_unformatted_code) {\n",
       "                             nbb_cells[i].set_text(nbb_formatted_code);\n",
       "                        }\n",
       "                        break;\n",
       "                    }\n",
       "                }\n",
       "            }, 500);\n",
       "            "
      ],
      "text/plain": [
       "<IPython.core.display.Javascript object>"
      ]
     },
     "metadata": {},
     "output_type": "display_data"
    }
   ],
   "source": [
    "print(df4model_b2.head())\n",
    "print(df4model_b2.shape)"
   ]
  },
  {
   "cell_type": "code",
   "execution_count": 697,
   "metadata": {
    "ExecuteTime": {
     "end_time": "2020-01-30T00:37:23.289126Z",
     "start_time": "2020-01-30T00:37:23.280261Z"
    }
   },
   "outputs": [
    {
     "name": "stdout",
     "output_type": "stream",
     "text": [
      "605141 544725\n"
     ]
    },
    {
     "data": {
      "application/javascript": [
       "\n",
       "            setTimeout(function() {\n",
       "                var nbb_cell_id = 697;\n",
       "                var nbb_unformatted_code = \"print(pid_of_interest1, pid_of_interest2)\";\n",
       "                var nbb_formatted_code = \"print(pid_of_interest1, pid_of_interest2)\";\n",
       "                var nbb_cells = Jupyter.notebook.get_cells();\n",
       "                for (var i = 0; i < nbb_cells.length; ++i) {\n",
       "                    if (nbb_cells[i].input_prompt_number == nbb_cell_id) {\n",
       "                        if (nbb_cells[i].get_text() == nbb_unformatted_code) {\n",
       "                             nbb_cells[i].set_text(nbb_formatted_code);\n",
       "                        }\n",
       "                        break;\n",
       "                    }\n",
       "                }\n",
       "            }, 500);\n",
       "            "
      ],
      "text/plain": [
       "<IPython.core.display.Javascript object>"
      ]
     },
     "metadata": {},
     "output_type": "display_data"
    }
   ],
   "source": [
    "print(pid_of_interest1, pid_of_interest2)"
   ]
  },
  {
   "cell_type": "markdown",
   "metadata": {},
   "source": [
    "## EDA"
   ]
  },
  {
   "cell_type": "code",
   "execution_count": 698,
   "metadata": {
    "ExecuteTime": {
     "end_time": "2020-01-30T00:37:27.420187Z",
     "start_time": "2020-01-30T00:37:27.172237Z"
    }
   },
   "outputs": [
    {
     "data": {
      "text/plain": [
       "Text(0, 0.5, 'event rate')"
      ]
     },
     "execution_count": 698,
     "metadata": {},
     "output_type": "execute_result"
    },
    {
     "data": {
      "image/png": "[encoded data removed]",
      "text/plain": [
       "<Figure size 864x432 with 1 Axes>"
      ]
     },
     "metadata": {
      "needs_background": "light"
     },
     "output_type": "display_data"
    },
    {
     "data": {
      "application/javascript": [
       "\n",
       "            setTimeout(function() {\n",
       "                var nbb_cell_id = 698;\n",
       "                var nbb_unformatted_code = \"# Lineplot of each player\\n\\n# Sanity checking that df is in order\\nf, (ax1) = plt.subplots(1, 1, figsize=(12, 6))\\nax1.plot(df4model_b1[\\\"game_date\\\"], df4model_b1[\\\"prop_events_nback\\\"], c='red', label='Player A (M. Trout)')\\nax1.set_xlabel(\\\"game_date\\\")\\n\\nax1.plot(df4model_b2[\\\"game_date\\\"], df4model_b2[\\\"prop_events_nback\\\"], c='black', label='Player B (L. Garcia)')\\nax1.set_xlabel(\\\"game_date\\\")\\nax1.set_ylabel('event rate')\";\n",
       "                var nbb_formatted_code = \"# Lineplot of each player\\n\\n# Sanity checking that df is in order\\nf, (ax1) = plt.subplots(1, 1, figsize=(12, 6))\\nax1.plot(\\n    df4model_b1[\\\"game_date\\\"],\\n    df4model_b1[\\\"prop_events_nback\\\"],\\n    c=\\\"red\\\",\\n    label=\\\"Player A (M. Trout)\\\",\\n)\\nax1.set_xlabel(\\\"game_date\\\")\\n\\nax1.plot(\\n    df4model_b2[\\\"game_date\\\"],\\n    df4model_b2[\\\"prop_events_nback\\\"],\\n    c=\\\"black\\\",\\n    label=\\\"Player B (L. Garcia)\\\",\\n)\\nax1.set_xlabel(\\\"game_date\\\")\\nax1.set_ylabel(\\\"event rate\\\")\";\n",
       "                var nbb_cells = Jupyter.notebook.get_cells();\n",
       "                for (var i = 0; i < nbb_cells.length; ++i) {\n",
       "                    if (nbb_cells[i].input_prompt_number == nbb_cell_id) {\n",
       "                        if (nbb_cells[i].get_text() == nbb_unformatted_code) {\n",
       "                             nbb_cells[i].set_text(nbb_formatted_code);\n",
       "                        }\n",
       "                        break;\n",
       "                    }\n",
       "                }\n",
       "            }, 500);\n",
       "            "
      ],
      "text/plain": [
       "<IPython.core.display.Javascript object>"
      ]
     },
     "metadata": {},
     "output_type": "display_data"
    }
   ],
   "source": [
    "# Lineplot of each player\n",
    "\n",
    "# Sanity checking that df is in order\n",
    "f, (ax1) = plt.subplots(1, 1, figsize=(12, 6))\n",
    "ax1.plot(df4model_b1[\"game_date\"], df4model_b1[\"prop_events_nback\"], c='red', label='Player A (M. Trout)')\n",
    "ax1.set_xlabel(\"game_date\")\n",
    "\n",
    "ax1.plot(df4model_b2[\"game_date\"], df4model_b2[\"prop_events_nback\"], c='black', label='Player B (L. Garcia)')\n",
    "ax1.set_xlabel(\"game_date\")\n",
    "ax1.set_ylabel('event rate')\n"
   ]
  },
  {
   "cell_type": "code",
   "execution_count": 699,
   "metadata": {
    "ExecuteTime": {
     "end_time": "2020-01-30T00:37:37.674095Z",
     "start_time": "2020-01-30T00:37:36.165458Z"
    }
   },
   "outputs": [
    {
     "data": {
      "text/plain": [
       "Text(0.5, 0, 'proportion of event')"
      ]
     },
     "execution_count": 699,
     "metadata": {},
     "output_type": "execute_result"
    },
    {
     "data": {
      "image/png": "[encoded data removed]",
      "text/plain": [
       "<Figure size 432x432 with 2 Axes>"
      ]
     },
     "metadata": {
      "needs_background": "light"
     },
     "output_type": "display_data"
    },
    {
     "data": {
      "application/javascript": [
       "\n",
       "            setTimeout(function() {\n",
       "                var nbb_cell_id = 699;\n",
       "                var nbb_unformatted_code = \"f, (ax1, ax2) = plt.subplots(2, 1, figsize=(6, 6), sharex=True)\\ndf4model_b1[\\\"prop_events_nback\\\"].hist(ax=ax1)\\nax1.set_xlim([0.15, 0.5])\\nax1.set_title(\\\"Player A\\\")\\n\\ndf4model_b2[\\\"prop_events_nback\\\"].hist(ax=ax2)\\nax2.set_xlim([0.15, 0.5])\\nax2.set_title(\\\"Player B\\\")\\nax2.set_xlabel(\\\"proportion of event\\\")\";\n",
       "                var nbb_formatted_code = \"f, (ax1, ax2) = plt.subplots(2, 1, figsize=(6, 6), sharex=True)\\ndf4model_b1[\\\"prop_events_nback\\\"].hist(ax=ax1)\\nax1.set_xlim([0.15, 0.5])\\nax1.set_title(\\\"Player A\\\")\\n\\ndf4model_b2[\\\"prop_events_nback\\\"].hist(ax=ax2)\\nax2.set_xlim([0.15, 0.5])\\nax2.set_title(\\\"Player B\\\")\\nax2.set_xlabel(\\\"proportion of event\\\")\";\n",
       "                var nbb_cells = Jupyter.notebook.get_cells();\n",
       "                for (var i = 0; i < nbb_cells.length; ++i) {\n",
       "                    if (nbb_cells[i].input_prompt_number == nbb_cell_id) {\n",
       "                        if (nbb_cells[i].get_text() == nbb_unformatted_code) {\n",
       "                             nbb_cells[i].set_text(nbb_formatted_code);\n",
       "                        }\n",
       "                        break;\n",
       "                    }\n",
       "                }\n",
       "            }, 500);\n",
       "            "
      ],
      "text/plain": [
       "<IPython.core.display.Javascript object>"
      ]
     },
     "metadata": {},
     "output_type": "display_data"
    }
   ],
   "source": [
    "f, (ax1, ax2) = plt.subplots(2, 1, figsize=(6, 6), sharex=True)\n",
    "df4model_b1[\"prop_events_nback\"].hist(ax=ax1)\n",
    "ax1.set_xlim([0.15, 0.5])\n",
    "ax1.set_title(\"Player A\")\n",
    "\n",
    "df4model_b2[\"prop_events_nback\"].hist(ax=ax2)\n",
    "ax2.set_xlim([0.15, 0.5])\n",
    "ax2.set_title(\"Player B\")\n",
    "ax2.set_xlabel(\"proportion of event\")"
   ]
  },
  {
   "cell_type": "code",
   "execution_count": 700,
   "metadata": {
    "ExecuteTime": {
     "end_time": "2020-01-30T00:37:41.781489Z",
     "start_time": "2020-01-30T00:37:41.767691Z"
    }
   },
   "outputs": [
    {
     "name": "stdout",
     "output_type": "stream",
     "text": [
      "0.382 0.279\n"
     ]
    },
    {
     "data": {
      "application/javascript": [
       "\n",
       "            setTimeout(function() {\n",
       "                var nbb_cell_id = 700;\n",
       "                var nbb_unformatted_code = \"print(\\n    round(df4model_b1[\\\"prop_events_nback\\\"].mean(), 3),\\n    round(df4model_b2[\\\"prop_events_nback\\\"].mean(), 3),\\n)\";\n",
       "                var nbb_formatted_code = \"print(\\n    round(df4model_b1[\\\"prop_events_nback\\\"].mean(), 3),\\n    round(df4model_b2[\\\"prop_events_nback\\\"].mean(), 3),\\n)\";\n",
       "                var nbb_cells = Jupyter.notebook.get_cells();\n",
       "                for (var i = 0; i < nbb_cells.length; ++i) {\n",
       "                    if (nbb_cells[i].input_prompt_number == nbb_cell_id) {\n",
       "                        if (nbb_cells[i].get_text() == nbb_unformatted_code) {\n",
       "                             nbb_cells[i].set_text(nbb_formatted_code);\n",
       "                        }\n",
       "                        break;\n",
       "                    }\n",
       "                }\n",
       "            }, 500);\n",
       "            "
      ],
      "text/plain": [
       "<IPython.core.display.Javascript object>"
      ]
     },
     "metadata": {},
     "output_type": "display_data"
    }
   ],
   "source": [
    "print(\n",
    "    round(df4model_b1[\"prop_events_nback\"].mean(), 3),\n",
    "    round(df4model_b2[\"prop_events_nback\"].mean(), 3),\n",
    ")"
   ]
  },
  {
   "cell_type": "code",
   "execution_count": 701,
   "metadata": {
    "ExecuteTime": {
     "end_time": "2020-01-30T00:37:44.603852Z",
     "start_time": "2020-01-30T00:37:44.221195Z"
    }
   },
   "outputs": [
    {
     "data": {
      "text/plain": [
       "Text(0.5, 1.0, 'Player 2 (overall)')"
      ]
     },
     "execution_count": 701,
     "metadata": {},
     "output_type": "execute_result"
    },
    {
     "data": {
      "image/png": "[encoded data removed]",
      "text/plain": [
       "<Figure size 864x288 with 2 Axes>"
      ]
     },
     "metadata": {
      "needs_background": "light"
     },
     "output_type": "display_data"
    },
    {
     "data": {
      "application/javascript": [
       "\n",
       "            setTimeout(function() {\n",
       "                var nbb_cell_id = 701;\n",
       "                var nbb_unformatted_code = \"f, (ax1, ax2) = plt.subplots(1, 2, figsize=(12, 4))\\nax1.scatter(\\n    df4model_b1[\\\"prop_events_nback\\\"],\\n    df4model_b1[\\\"event_code\\\"] + np.random.normal(0, 0.025, len(df4model_b1)),\\n    facecolors=\\\"none\\\",\\n    edgecolors=\\\"black\\\",\\n)\\nax1.set_title(\\\"Player 1 (overall)\\\")\\n\\nax2.scatter(\\n    df4model_b2[\\\"prop_events_nback\\\"],\\n    df4model_b2[\\\"event_code\\\"] + np.random.normal(0, 0.025, len(df4model_b2)),\\n    facecolors=\\\"none\\\",\\n    edgecolors=\\\"black\\\",\\n)\\nax2.set_title(\\\"Player 2 (overall)\\\")\";\n",
       "                var nbb_formatted_code = \"f, (ax1, ax2) = plt.subplots(1, 2, figsize=(12, 4))\\nax1.scatter(\\n    df4model_b1[\\\"prop_events_nback\\\"],\\n    df4model_b1[\\\"event_code\\\"] + np.random.normal(0, 0.025, len(df4model_b1)),\\n    facecolors=\\\"none\\\",\\n    edgecolors=\\\"black\\\",\\n)\\nax1.set_title(\\\"Player 1 (overall)\\\")\\n\\nax2.scatter(\\n    df4model_b2[\\\"prop_events_nback\\\"],\\n    df4model_b2[\\\"event_code\\\"] + np.random.normal(0, 0.025, len(df4model_b2)),\\n    facecolors=\\\"none\\\",\\n    edgecolors=\\\"black\\\",\\n)\\nax2.set_title(\\\"Player 2 (overall)\\\")\";\n",
       "                var nbb_cells = Jupyter.notebook.get_cells();\n",
       "                for (var i = 0; i < nbb_cells.length; ++i) {\n",
       "                    if (nbb_cells[i].input_prompt_number == nbb_cell_id) {\n",
       "                        if (nbb_cells[i].get_text() == nbb_unformatted_code) {\n",
       "                             nbb_cells[i].set_text(nbb_formatted_code);\n",
       "                        }\n",
       "                        break;\n",
       "                    }\n",
       "                }\n",
       "            }, 500);\n",
       "            "
      ],
      "text/plain": [
       "<IPython.core.display.Javascript object>"
      ]
     },
     "metadata": {},
     "output_type": "display_data"
    }
   ],
   "source": [
    "f, (ax1, ax2) = plt.subplots(1, 2, figsize=(12, 4))\n",
    "ax1.scatter(\n",
    "    df4model_b1[\"prop_events_nback\"],\n",
    "    df4model_b1[\"event_code\"] + np.random.normal(0, 0.025, len(df4model_b1)),\n",
    "    facecolors=\"none\",\n",
    "    edgecolors=\"black\",\n",
    ")\n",
    "ax1.set_title(\"Player 1 (overall)\")\n",
    "\n",
    "ax2.scatter(\n",
    "    df4model_b2[\"prop_events_nback\"],\n",
    "    df4model_b2[\"event_code\"] + np.random.normal(0, 0.025, len(df4model_b2)),\n",
    "    facecolors=\"none\",\n",
    "    edgecolors=\"black\",\n",
    ")\n",
    "ax2.set_title(\"Player 2 (overall)\")"
   ]
  },
  {
   "cell_type": "code",
   "execution_count": 702,
   "metadata": {
    "ExecuteTime": {
     "end_time": "2020-01-30T00:37:53.695882Z",
     "start_time": "2020-01-30T00:37:53.232213Z"
    }
   },
   "outputs": [
    {
     "data": {
      "image/png": "[encoded data removed]",
      "text/plain": [
       "<Figure size 864x288 with 2 Axes>"
      ]
     },
     "metadata": {
      "needs_background": "light"
     },
     "output_type": "display_data"
    },
    {
     "data": {
      "application/javascript": [
       "\n",
       "            setTimeout(function() {\n",
       "                var nbb_cell_id = 702;\n",
       "                var nbb_unformatted_code = \"f, (ax1, ax2) = plt.subplots(1, 2, figsize=(12, 4))\\nc_hand_list = [\\\"blue\\\", \\\"red\\\"]\\n\\nfor i, hand in enumerate([\\\"L\\\", \\\"R\\\"]):\\n    df4model_b1_hand = df4model_b1[df4model_b1[\\\"p_throws\\\"] == hand].copy()\\n    df4model_b2_hand = df4model_b2[df4model_b2[\\\"p_throws\\\"] == hand].copy()\\n\\n    ax1.scatter(\\n        df4model_b1_hand[\\\"prop_events_nback\\\"],\\n        df4model_b1_hand[\\\"event_code\\\"]\\n        + +np.random.normal(0, 0.05, len(df4model_b1_hand)),\\n        facecolors=\\\"none\\\",\\n        edgecolors=c_hand_list[i],\\n    )\\n    ax1.set_title(\\\"Player 1 (by pitcher hand)\\\")\\n\\n    ax2.scatter(\\n        df4model_b2_hand[\\\"prop_events_nback\\\"],\\n        df4model_b2_hand[\\\"event_code\\\"]\\n        + np.random.normal(0, 0.05, len(df4model_b2_hand)),\\n        facecolors=\\\"none\\\",\\n        edgecolors=c_hand_list[i],\\n    )\\n    ax2.set_title(\\\"Player 2 (by pitcher hand)\\\")\";\n",
       "                var nbb_formatted_code = \"f, (ax1, ax2) = plt.subplots(1, 2, figsize=(12, 4))\\nc_hand_list = [\\\"blue\\\", \\\"red\\\"]\\n\\nfor i, hand in enumerate([\\\"L\\\", \\\"R\\\"]):\\n    df4model_b1_hand = df4model_b1[df4model_b1[\\\"p_throws\\\"] == hand].copy()\\n    df4model_b2_hand = df4model_b2[df4model_b2[\\\"p_throws\\\"] == hand].copy()\\n\\n    ax1.scatter(\\n        df4model_b1_hand[\\\"prop_events_nback\\\"],\\n        df4model_b1_hand[\\\"event_code\\\"]\\n        + +np.random.normal(0, 0.05, len(df4model_b1_hand)),\\n        facecolors=\\\"none\\\",\\n        edgecolors=c_hand_list[i],\\n    )\\n    ax1.set_title(\\\"Player 1 (by pitcher hand)\\\")\\n\\n    ax2.scatter(\\n        df4model_b2_hand[\\\"prop_events_nback\\\"],\\n        df4model_b2_hand[\\\"event_code\\\"]\\n        + np.random.normal(0, 0.05, len(df4model_b2_hand)),\\n        facecolors=\\\"none\\\",\\n        edgecolors=c_hand_list[i],\\n    )\\n    ax2.set_title(\\\"Player 2 (by pitcher hand)\\\")\";\n",
       "                var nbb_cells = Jupyter.notebook.get_cells();\n",
       "                for (var i = 0; i < nbb_cells.length; ++i) {\n",
       "                    if (nbb_cells[i].input_prompt_number == nbb_cell_id) {\n",
       "                        if (nbb_cells[i].get_text() == nbb_unformatted_code) {\n",
       "                             nbb_cells[i].set_text(nbb_formatted_code);\n",
       "                        }\n",
       "                        break;\n",
       "                    }\n",
       "                }\n",
       "            }, 500);\n",
       "            "
      ],
      "text/plain": [
       "<IPython.core.display.Javascript object>"
      ]
     },
     "metadata": {},
     "output_type": "display_data"
    }
   ],
   "source": [
    "f, (ax1, ax2) = plt.subplots(1, 2, figsize=(12, 4))\n",
    "c_hand_list = [\"blue\", \"red\"]\n",
    "\n",
    "for i, hand in enumerate([\"L\", \"R\"]):\n",
    "    df4model_b1_hand = df4model_b1[df4model_b1[\"p_throws\"] == hand].copy()\n",
    "    df4model_b2_hand = df4model_b2[df4model_b2[\"p_throws\"] == hand].copy()\n",
    "\n",
    "    ax1.scatter(\n",
    "        df4model_b1_hand[\"prop_events_nback\"],\n",
    "        df4model_b1_hand[\"event_code\"]\n",
    "        + +np.random.normal(0, 0.05, len(df4model_b1_hand)),\n",
    "        facecolors=\"none\",\n",
    "        edgecolors=c_hand_list[i],\n",
    "    )\n",
    "    ax1.set_title(\"Player 1 (by pitcher hand)\")\n",
    "\n",
    "    ax2.scatter(\n",
    "        df4model_b2_hand[\"prop_events_nback\"],\n",
    "        df4model_b2_hand[\"event_code\"]\n",
    "        + np.random.normal(0, 0.05, len(df4model_b2_hand)),\n",
    "        facecolors=\"none\",\n",
    "        edgecolors=c_hand_list[i],\n",
    "    )\n",
    "    ax2.set_title(\"Player 2 (by pitcher hand)\")"
   ]
  },
  {
   "cell_type": "code",
   "execution_count": 703,
   "metadata": {
    "ExecuteTime": {
     "end_time": "2020-01-30T00:37:58.240638Z",
     "start_time": "2020-01-30T00:37:57.805609Z"
    }
   },
   "outputs": [
    {
     "data": {
      "image/png": "[encoded data removed]",
      "text/plain": [
       "<Figure size 864x288 with 2 Axes>"
      ]
     },
     "metadata": {
      "needs_background": "light"
     },
     "output_type": "display_data"
    },
    {
     "data": {
      "application/javascript": [
       "\n",
       "            setTimeout(function() {\n",
       "                var nbb_cell_id = 703;\n",
       "                var nbb_unformatted_code = \"f, (ax1, ax2) = plt.subplots(1, 2, figsize=(12, 4), sharey=True)\\n\\nsns.boxplot(\\n    x=\\\"p_throws\\\",\\n    hue=\\\"event_code\\\",\\n    y=\\\"prop_events_nback\\\",\\n    data=df4model_b1,\\n    palette=[\\\"w\\\", \\\"teal\\\"],\\n    order=[\\\"L\\\", \\\"R\\\"],\\n    hue_order=[0, 1],\\n    ax=ax1,\\n)\\nax1.set_title(\\\"Player 1\\\")\\nax1.get_legend().remove()\\n\\nsns.boxplot(\\n    x=\\\"p_throws\\\",\\n    hue=\\\"event_code\\\",\\n    y=\\\"prop_events_nback\\\",\\n    data=df4model_b2,\\n    palette=[\\\"w\\\", \\\"teal\\\"],\\n    order=[\\\"L\\\", \\\"R\\\"],\\n    hue_order=[0, 1],\\n    ax=ax2,\\n)\\nax2.set_title(\\\"Player 2\\\")\\nax2.get_legend().remove()\";\n",
       "                var nbb_formatted_code = \"f, (ax1, ax2) = plt.subplots(1, 2, figsize=(12, 4), sharey=True)\\n\\nsns.boxplot(\\n    x=\\\"p_throws\\\",\\n    hue=\\\"event_code\\\",\\n    y=\\\"prop_events_nback\\\",\\n    data=df4model_b1,\\n    palette=[\\\"w\\\", \\\"teal\\\"],\\n    order=[\\\"L\\\", \\\"R\\\"],\\n    hue_order=[0, 1],\\n    ax=ax1,\\n)\\nax1.set_title(\\\"Player 1\\\")\\nax1.get_legend().remove()\\n\\nsns.boxplot(\\n    x=\\\"p_throws\\\",\\n    hue=\\\"event_code\\\",\\n    y=\\\"prop_events_nback\\\",\\n    data=df4model_b2,\\n    palette=[\\\"w\\\", \\\"teal\\\"],\\n    order=[\\\"L\\\", \\\"R\\\"],\\n    hue_order=[0, 1],\\n    ax=ax2,\\n)\\nax2.set_title(\\\"Player 2\\\")\\nax2.get_legend().remove()\";\n",
       "                var nbb_cells = Jupyter.notebook.get_cells();\n",
       "                for (var i = 0; i < nbb_cells.length; ++i) {\n",
       "                    if (nbb_cells[i].input_prompt_number == nbb_cell_id) {\n",
       "                        if (nbb_cells[i].get_text() == nbb_unformatted_code) {\n",
       "                             nbb_cells[i].set_text(nbb_formatted_code);\n",
       "                        }\n",
       "                        break;\n",
       "                    }\n",
       "                }\n",
       "            }, 500);\n",
       "            "
      ],
      "text/plain": [
       "<IPython.core.display.Javascript object>"
      ]
     },
     "metadata": {},
     "output_type": "display_data"
    }
   ],
   "source": [
    "f, (ax1, ax2) = plt.subplots(1, 2, figsize=(12, 4), sharey=True)\n",
    "\n",
    "sns.boxplot(\n",
    "    x=\"p_throws\",\n",
    "    hue=\"event_code\",\n",
    "    y=\"prop_events_nback\",\n",
    "    data=df4model_b1,\n",
    "    palette=[\"w\", \"teal\"],\n",
    "    order=[\"L\", \"R\"],\n",
    "    hue_order=[0, 1],\n",
    "    ax=ax1,\n",
    ")\n",
    "ax1.set_title(\"Player 1\")\n",
    "ax1.get_legend().remove()\n",
    "\n",
    "sns.boxplot(\n",
    "    x=\"p_throws\",\n",
    "    hue=\"event_code\",\n",
    "    y=\"prop_events_nback\",\n",
    "    data=df4model_b2,\n",
    "    palette=[\"w\", \"teal\"],\n",
    "    order=[\"L\", \"R\"],\n",
    "    hue_order=[0, 1],\n",
    "    ax=ax2,\n",
    ")\n",
    "ax2.set_title(\"Player 2\")\n",
    "ax2.get_legend().remove()"
   ]
  },
  {
   "cell_type": "code",
   "execution_count": 707,
   "metadata": {
    "ExecuteTime": {
     "end_time": "2020-01-30T00:42:46.329142Z",
     "start_time": "2020-01-30T00:42:46.277609Z"
    }
   },
   "outputs": [
    {
     "name": "stdout",
     "output_type": "stream",
     "text": [
      "Player A vs. LHP, MW:  0.3932740428366445 Player A vs. LHP, t-test:  0.8485847091388969\n",
      "Player A vs. RHP, MW:  0.05342558818436174 Player A vs. RHP, t-test:  0.22370429388275034\n"
     ]
    },
    {
     "data": {
      "application/javascript": [
       "\n",
       "            setTimeout(function() {\n",
       "                var nbb_cell_id = 707;\n",
       "                var nbb_unformatted_code = \"groupA1_vals = df4model_b1.loc[(df4model_b1[\\\"p_throws\\\"] == 'L') & (df4model_b1[\\\"event_code\\\"] == 0), \\\"prop_events_nback\\\"]\\ngroupA2_vals = df4model_b1.loc[(df4model_b1[\\\"p_throws\\\"] == 'L') & (df4model_b1[\\\"event_code\\\"] == 1), \\\"prop_events_nback\\\"]\\n\\nmw_p_A = mannwhitneyu(groupA1_vals, groupA2_vals)[1]\\n# Welch's test (does not assume variances are equal)\\nttest_p_A = ttest_ind(groupA1_vals, groupA2_vals, equal_var=False)[1]\\nprint(\\\"Player A vs. LHP, MW: \\\", mw_p_A, \\\"Player A vs. LHP, t-test: \\\", ttest_p_A)\\n\\ngroupB1_vals = df4model_b1.loc[(df4model_b1[\\\"p_throws\\\"] == 'R') & (df4model_b1[\\\"event_code\\\"] == 0), \\\"prop_events_nback\\\"]\\ngroupB2_vals = df4model_b1.loc[(df4model_b1[\\\"p_throws\\\"] == 'R') & (df4model_b1[\\\"event_code\\\"] == 1), \\\"prop_events_nback\\\"]\\n\\nmw_p_B = mannwhitneyu(groupB1_vals, groupB2_vals)[1]\\n# Welch's test (does not assume variances are equal)\\nttest_p_B = ttest_ind(groupB1_vals, groupB2_vals, equal_var=False)[1]\\nprint(\\\"Player A vs. RHP, MW: \\\", mw_p_B, \\\"Player A vs. RHP, t-test: \\\", ttest_p_B)\";\n",
       "                var nbb_formatted_code = \"groupA1_vals = df4model_b1.loc[\\n    (df4model_b1[\\\"p_throws\\\"] == \\\"L\\\") & (df4model_b1[\\\"event_code\\\"] == 0),\\n    \\\"prop_events_nback\\\",\\n]\\ngroupA2_vals = df4model_b1.loc[\\n    (df4model_b1[\\\"p_throws\\\"] == \\\"L\\\") & (df4model_b1[\\\"event_code\\\"] == 1),\\n    \\\"prop_events_nback\\\",\\n]\\n\\nmw_p_A = mannwhitneyu(groupA1_vals, groupA2_vals)[1]\\n# Welch's test (does not assume variances are equal)\\nttest_p_A = ttest_ind(groupA1_vals, groupA2_vals, equal_var=False)[1]\\nprint(\\\"Player A vs. LHP, MW: \\\", mw_p_A, \\\"Player A vs. LHP, t-test: \\\", ttest_p_A)\\n\\ngroupB1_vals = df4model_b1.loc[\\n    (df4model_b1[\\\"p_throws\\\"] == \\\"R\\\") & (df4model_b1[\\\"event_code\\\"] == 0),\\n    \\\"prop_events_nback\\\",\\n]\\ngroupB2_vals = df4model_b1.loc[\\n    (df4model_b1[\\\"p_throws\\\"] == \\\"R\\\") & (df4model_b1[\\\"event_code\\\"] == 1),\\n    \\\"prop_events_nback\\\",\\n]\\n\\nmw_p_B = mannwhitneyu(groupB1_vals, groupB2_vals)[1]\\n# Welch's test (does not assume variances are equal)\\nttest_p_B = ttest_ind(groupB1_vals, groupB2_vals, equal_var=False)[1]\\nprint(\\\"Player A vs. RHP, MW: \\\", mw_p_B, \\\"Player A vs. RHP, t-test: \\\", ttest_p_B)\";\n",
       "                var nbb_cells = Jupyter.notebook.get_cells();\n",
       "                for (var i = 0; i < nbb_cells.length; ++i) {\n",
       "                    if (nbb_cells[i].input_prompt_number == nbb_cell_id) {\n",
       "                        if (nbb_cells[i].get_text() == nbb_unformatted_code) {\n",
       "                             nbb_cells[i].set_text(nbb_formatted_code);\n",
       "                        }\n",
       "                        break;\n",
       "                    }\n",
       "                }\n",
       "            }, 500);\n",
       "            "
      ],
      "text/plain": [
       "<IPython.core.display.Javascript object>"
      ]
     },
     "metadata": {},
     "output_type": "display_data"
    }
   ],
   "source": [
    "groupA1_vals = df4model_b1.loc[(df4model_b1[\"p_throws\"] == 'L') & (df4model_b1[\"event_code\"] == 0), \"prop_events_nback\"]\n",
    "groupA2_vals = df4model_b1.loc[(df4model_b1[\"p_throws\"] == 'L') & (df4model_b1[\"event_code\"] == 1), \"prop_events_nback\"]\n",
    "\n",
    "mw_p_A = mannwhitneyu(groupA1_vals, groupA2_vals)[1]\n",
    "# Welch's test (does not assume variances are equal)\n",
    "ttest_p_A = ttest_ind(groupA1_vals, groupA2_vals, equal_var=False)[1]\n",
    "print(\"Player A vs. LHP, MW: \", mw_p_A, \"Player A vs. LHP, t-test: \", ttest_p_A)\n",
    "\n",
    "groupB1_vals = df4model_b1.loc[(df4model_b1[\"p_throws\"] == 'R') & (df4model_b1[\"event_code\"] == 0), \"prop_events_nback\"]\n",
    "groupB2_vals = df4model_b1.loc[(df4model_b1[\"p_throws\"] == 'R') & (df4model_b1[\"event_code\"] == 1), \"prop_events_nback\"]\n",
    "\n",
    "mw_p_B = mannwhitneyu(groupB1_vals, groupB2_vals)[1]\n",
    "# Welch's test (does not assume variances are equal)\n",
    "ttest_p_B = ttest_ind(groupB1_vals, groupB2_vals, equal_var=False)[1]\n",
    "print(\"Player A vs. RHP, MW: \", mw_p_B, \"Player A vs. RHP, t-test: \", ttest_p_B)\n"
   ]
  },
  {
   "cell_type": "code",
   "execution_count": 708,
   "metadata": {
    "ExecuteTime": {
     "end_time": "2020-01-30T00:42:47.153136Z",
     "start_time": "2020-01-30T00:42:47.075609Z"
    }
   },
   "outputs": [
    {
     "name": "stdout",
     "output_type": "stream",
     "text": [
      "Player B vs. LHP, MW:  0.08498558771377174 Player B vs. LHP, t-test:  0.1949851865051548\n",
      "Player B vs. RHP, MW:  0.17369298762047164 Player B vs. RHP, t-test:  0.522985948121288\n"
     ]
    },
    {
     "data": {
      "application/javascript": [
       "\n",
       "            setTimeout(function() {\n",
       "                var nbb_cell_id = 708;\n",
       "                var nbb_unformatted_code = \"groupA1_vals = df4model_b2.loc[(df4model_b2[\\\"p_throws\\\"] == 'L') & (df4model_b2[\\\"event_code\\\"] == 0), \\\"prop_events_nback\\\"]\\ngroupA2_vals = df4model_b2.loc[(df4model_b2[\\\"p_throws\\\"] == 'L') & (df4model_b2[\\\"event_code\\\"] == 1), \\\"prop_events_nback\\\"]\\n\\nmw_p_A = mannwhitneyu(groupA1_vals, groupA2_vals)[1]\\n# Welch's test (does not assume variances are equal)\\nttest_p_A = ttest_ind(groupA1_vals, groupA2_vals, equal_var=False)[1]\\nprint(\\\"Player B vs. LHP, MW: \\\", mw_p_A, \\\"Player B vs. LHP, t-test: \\\", ttest_p_A)\\n\\ngroupb2_vals = df4model_b2.loc[(df4model_b2[\\\"p_throws\\\"] == 'R') & (df4model_b2[\\\"event_code\\\"] == 0), \\\"prop_events_nback\\\"]\\ngroupB2_vals = df4model_b2.loc[(df4model_b2[\\\"p_throws\\\"] == 'R') & (df4model_b2[\\\"event_code\\\"] == 1), \\\"prop_events_nback\\\"]\\n\\nmw_p_B = mannwhitneyu(groupb2_vals, groupB2_vals)[1]\\n# Welch's test (does not assume variances are equal)\\nttest_p_B = ttest_ind(groupb2_vals, groupB2_vals, equal_var=False)[1]\\nprint(\\\"Player B vs. RHP, MW: \\\", mw_p_B, \\\"Player B vs. RHP, t-test: \\\", ttest_p_B)\";\n",
       "                var nbb_formatted_code = \"groupA1_vals = df4model_b2.loc[\\n    (df4model_b2[\\\"p_throws\\\"] == \\\"L\\\") & (df4model_b2[\\\"event_code\\\"] == 0),\\n    \\\"prop_events_nback\\\",\\n]\\ngroupA2_vals = df4model_b2.loc[\\n    (df4model_b2[\\\"p_throws\\\"] == \\\"L\\\") & (df4model_b2[\\\"event_code\\\"] == 1),\\n    \\\"prop_events_nback\\\",\\n]\\n\\nmw_p_A = mannwhitneyu(groupA1_vals, groupA2_vals)[1]\\n# Welch's test (does not assume variances are equal)\\nttest_p_A = ttest_ind(groupA1_vals, groupA2_vals, equal_var=False)[1]\\nprint(\\\"Player B vs. LHP, MW: \\\", mw_p_A, \\\"Player B vs. LHP, t-test: \\\", ttest_p_A)\\n\\ngroupb2_vals = df4model_b2.loc[\\n    (df4model_b2[\\\"p_throws\\\"] == \\\"R\\\") & (df4model_b2[\\\"event_code\\\"] == 0),\\n    \\\"prop_events_nback\\\",\\n]\\ngroupB2_vals = df4model_b2.loc[\\n    (df4model_b2[\\\"p_throws\\\"] == \\\"R\\\") & (df4model_b2[\\\"event_code\\\"] == 1),\\n    \\\"prop_events_nback\\\",\\n]\\n\\nmw_p_B = mannwhitneyu(groupb2_vals, groupB2_vals)[1]\\n# Welch's test (does not assume variances are equal)\\nttest_p_B = ttest_ind(groupb2_vals, groupB2_vals, equal_var=False)[1]\\nprint(\\\"Player B vs. RHP, MW: \\\", mw_p_B, \\\"Player B vs. RHP, t-test: \\\", ttest_p_B)\";\n",
       "                var nbb_cells = Jupyter.notebook.get_cells();\n",
       "                for (var i = 0; i < nbb_cells.length; ++i) {\n",
       "                    if (nbb_cells[i].input_prompt_number == nbb_cell_id) {\n",
       "                        if (nbb_cells[i].get_text() == nbb_unformatted_code) {\n",
       "                             nbb_cells[i].set_text(nbb_formatted_code);\n",
       "                        }\n",
       "                        break;\n",
       "                    }\n",
       "                }\n",
       "            }, 500);\n",
       "            "
      ],
      "text/plain": [
       "<IPython.core.display.Javascript object>"
      ]
     },
     "metadata": {},
     "output_type": "display_data"
    }
   ],
   "source": [
    "groupA1_vals = df4model_b2.loc[(df4model_b2[\"p_throws\"] == 'L') & (df4model_b2[\"event_code\"] == 0), \"prop_events_nback\"]\n",
    "groupA2_vals = df4model_b2.loc[(df4model_b2[\"p_throws\"] == 'L') & (df4model_b2[\"event_code\"] == 1), \"prop_events_nback\"]\n",
    "\n",
    "mw_p_A = mannwhitneyu(groupA1_vals, groupA2_vals)[1]\n",
    "# Welch's test (does not assume variances are equal)\n",
    "ttest_p_A = ttest_ind(groupA1_vals, groupA2_vals, equal_var=False)[1]\n",
    "print(\"Player B vs. LHP, MW: \", mw_p_A, \"Player B vs. LHP, t-test: \", ttest_p_A)\n",
    "\n",
    "groupb2_vals = df4model_b2.loc[(df4model_b2[\"p_throws\"] == 'R') & (df4model_b2[\"event_code\"] == 0), \"prop_events_nback\"]\n",
    "groupB2_vals = df4model_b2.loc[(df4model_b2[\"p_throws\"] == 'R') & (df4model_b2[\"event_code\"] == 1), \"prop_events_nback\"]\n",
    "\n",
    "mw_p_B = mannwhitneyu(groupb2_vals, groupB2_vals)[1]\n",
    "# Welch's test (does not assume variances are equal)\n",
    "ttest_p_B = ttest_ind(groupb2_vals, groupB2_vals, equal_var=False)[1]\n",
    "print(\"Player B vs. RHP, MW: \", mw_p_B, \"Player B vs. RHP, t-test: \", ttest_p_B)\n"
   ]
  },
  {
   "cell_type": "markdown",
   "metadata": {},
   "source": [
    "## Logistic regression"
   ]
  },
  {
   "cell_type": "markdown",
   "metadata": {
    "ExecuteTime": {
     "end_time": "2020-01-29T18:21:39.901687Z",
     "start_time": "2020-01-29T18:21:39.892503Z"
    }
   },
   "source": [
    "### Separate \"day of\" from \"pre-date\" data"
   ]
  },
  {
   "cell_type": "code",
   "execution_count": 766,
   "metadata": {
    "ExecuteTime": {
     "end_time": "2020-01-30T02:43:18.582534Z",
     "start_time": "2020-01-30T02:43:18.558679Z"
    }
   },
   "outputs": [
    {
     "data": {
      "text/html": [
       "<div>\n",
       "<style scoped>\n",
       "    .dataframe tbody tr th:only-of-type {\n",
       "        vertical-align: middle;\n",
       "    }\n",
       "\n",
       "    .dataframe tbody tr th {\n",
       "        vertical-align: top;\n",
       "    }\n",
       "\n",
       "    .dataframe thead th {\n",
       "        text-align: right;\n",
       "    }\n",
       "</style>\n",
       "<table border=\"1\" class=\"dataframe\">\n",
       "  <thead>\n",
       "    <tr style=\"text-align: right;\">\n",
       "      <th></th>\n",
       "      <th>game_date</th>\n",
       "      <th>inning</th>\n",
       "      <th>outs_when_up</th>\n",
       "      <th>events</th>\n",
       "      <th>player_name</th>\n",
       "      <th>pitcher</th>\n",
       "      <th>event_code</th>\n",
       "      <th>p_throws</th>\n",
       "      <th>prop_events_nback</th>\n",
       "      <th>prop_events_sum_nback_pt</th>\n",
       "    </tr>\n",
       "  </thead>\n",
       "  <tbody>\n",
       "    <tr>\n",
       "      <th>0</th>\n",
       "      <td>2019-09-25</td>\n",
       "      <td>1.0</td>\n",
       "      <td>1.0</td>\n",
       "      <td>field_out</td>\n",
       "      <td>Jon Lester</td>\n",
       "      <td>452657.0</td>\n",
       "      <td>0</td>\n",
       "      <td>L</td>\n",
       "      <td>0.28</td>\n",
       "      <td>0.26</td>\n",
       "    </tr>\n",
       "  </tbody>\n",
       "</table>\n",
       "</div>"
      ],
      "text/plain": [
       "   game_date  inning  outs_when_up     events player_name   pitcher  \\\n",
       "0 2019-09-25     1.0           1.0  field_out  Jon Lester  452657.0   \n",
       "\n",
       "   event_code p_throws  prop_events_nback  prop_events_sum_nback_pt  \n",
       "0           0        L               0.28                      0.26  "
      ]
     },
     "execution_count": 766,
     "metadata": {},
     "output_type": "execute_result"
    },
    {
     "data": {
      "application/javascript": [
       "\n",
       "            setTimeout(function() {\n",
       "                var nbb_cell_id = 766;\n",
       "                var nbb_unformatted_code = \"df4model_dayof_b1 = df4model_b1[df4model_b1[\\\"game_date\\\"] == date_of_interest].copy()\\ndf4model_dayof_b1\";\n",
       "                var nbb_formatted_code = \"df4model_dayof_b1 = df4model_b1[df4model_b1[\\\"game_date\\\"] == date_of_interest].copy()\\ndf4model_dayof_b1\";\n",
       "                var nbb_cells = Jupyter.notebook.get_cells();\n",
       "                for (var i = 0; i < nbb_cells.length; ++i) {\n",
       "                    if (nbb_cells[i].input_prompt_number == nbb_cell_id) {\n",
       "                        if (nbb_cells[i].get_text() == nbb_unformatted_code) {\n",
       "                             nbb_cells[i].set_text(nbb_formatted_code);\n",
       "                        }\n",
       "                        break;\n",
       "                    }\n",
       "                }\n",
       "            }, 500);\n",
       "            "
      ],
      "text/plain": [
       "<IPython.core.display.Javascript object>"
      ]
     },
     "metadata": {},
     "output_type": "display_data"
    }
   ],
   "source": [
    "df4model_dayof_b1 = df4model_b1[df4model_b1[\"game_date\"] == date_of_interest].copy()\n",
    "df4model_dayof_b1"
   ]
  },
  {
   "cell_type": "code",
   "execution_count": 767,
   "metadata": {
    "ExecuteTime": {
     "end_time": "2020-01-30T02:43:21.173065Z",
     "start_time": "2020-01-30T02:43:21.148522Z"
    }
   },
   "outputs": [
    {
     "data": {
      "text/html": [
       "<div>\n",
       "<style scoped>\n",
       "    .dataframe tbody tr th:only-of-type {\n",
       "        vertical-align: middle;\n",
       "    }\n",
       "\n",
       "    .dataframe tbody tr th {\n",
       "        vertical-align: top;\n",
       "    }\n",
       "\n",
       "    .dataframe thead th {\n",
       "        text-align: right;\n",
       "    }\n",
       "</style>\n",
       "<table border=\"1\" class=\"dataframe\">\n",
       "  <thead>\n",
       "    <tr style=\"text-align: right;\">\n",
       "      <th></th>\n",
       "      <th>game_date</th>\n",
       "      <th>inning</th>\n",
       "      <th>outs_when_up</th>\n",
       "      <th>events</th>\n",
       "      <th>player_name</th>\n",
       "      <th>pitcher</th>\n",
       "      <th>event_code</th>\n",
       "      <th>p_throws</th>\n",
       "      <th>prop_events_nback</th>\n",
       "      <th>prop_events_sum_nback_pt</th>\n",
       "    </tr>\n",
       "  </thead>\n",
       "  <tbody>\n",
       "    <tr>\n",
       "      <th>0</th>\n",
       "      <td>2019-09-25</td>\n",
       "      <td>4.0</td>\n",
       "      <td>1.0</td>\n",
       "      <td>strikeout</td>\n",
       "      <td>Shane Bieber</td>\n",
       "      <td>669456.0</td>\n",
       "      <td>0</td>\n",
       "      <td>R</td>\n",
       "      <td>0.26</td>\n",
       "      <td>0.26</td>\n",
       "    </tr>\n",
       "    <tr>\n",
       "      <th>1</th>\n",
       "      <td>2019-09-25</td>\n",
       "      <td>2.0</td>\n",
       "      <td>1.0</td>\n",
       "      <td>strikeout_double_play</td>\n",
       "      <td>Shane Bieber</td>\n",
       "      <td>669456.0</td>\n",
       "      <td>0</td>\n",
       "      <td>R</td>\n",
       "      <td>0.27</td>\n",
       "      <td>0.26</td>\n",
       "    </tr>\n",
       "    <tr>\n",
       "      <th>2</th>\n",
       "      <td>2019-09-25</td>\n",
       "      <td>1.0</td>\n",
       "      <td>0.0</td>\n",
       "      <td>home_run</td>\n",
       "      <td>Shane Bieber</td>\n",
       "      <td>669456.0</td>\n",
       "      <td>1</td>\n",
       "      <td>R</td>\n",
       "      <td>0.28</td>\n",
       "      <td>0.26</td>\n",
       "    </tr>\n",
       "  </tbody>\n",
       "</table>\n",
       "</div>"
      ],
      "text/plain": [
       "   game_date  inning  outs_when_up                 events   player_name  \\\n",
       "0 2019-09-25     4.0           1.0              strikeout  Shane Bieber   \n",
       "1 2019-09-25     2.0           1.0  strikeout_double_play  Shane Bieber   \n",
       "2 2019-09-25     1.0           0.0               home_run  Shane Bieber   \n",
       "\n",
       "    pitcher  event_code p_throws  prop_events_nback  prop_events_sum_nback_pt  \n",
       "0  669456.0           0        R               0.26                      0.26  \n",
       "1  669456.0           0        R               0.27                      0.26  \n",
       "2  669456.0           1        R               0.28                      0.26  "
      ]
     },
     "execution_count": 767,
     "metadata": {},
     "output_type": "execute_result"
    },
    {
     "data": {
      "application/javascript": [
       "\n",
       "            setTimeout(function() {\n",
       "                var nbb_cell_id = 767;\n",
       "                var nbb_unformatted_code = \"df4model_dayof_b2 = df4model_b2[df4model_b2[\\\"game_date\\\"] == date_of_interest].copy()\\ndf4model_dayof_b2\";\n",
       "                var nbb_formatted_code = \"df4model_dayof_b2 = df4model_b2[df4model_b2[\\\"game_date\\\"] == date_of_interest].copy()\\ndf4model_dayof_b2\";\n",
       "                var nbb_cells = Jupyter.notebook.get_cells();\n",
       "                for (var i = 0; i < nbb_cells.length; ++i) {\n",
       "                    if (nbb_cells[i].input_prompt_number == nbb_cell_id) {\n",
       "                        if (nbb_cells[i].get_text() == nbb_unformatted_code) {\n",
       "                             nbb_cells[i].set_text(nbb_formatted_code);\n",
       "                        }\n",
       "                        break;\n",
       "                    }\n",
       "                }\n",
       "            }, 500);\n",
       "            "
      ],
      "text/plain": [
       "<IPython.core.display.Javascript object>"
      ]
     },
     "metadata": {},
     "output_type": "display_data"
    }
   ],
   "source": [
    "df4model_dayof_b2 = df4model_b2[df4model_b2[\"game_date\"] == date_of_interest].copy()\n",
    "df4model_dayof_b2"
   ]
  },
  {
   "cell_type": "code",
   "execution_count": 768,
   "metadata": {
    "ExecuteTime": {
     "end_time": "2020-01-30T02:43:31.927396Z",
     "start_time": "2020-01-30T02:43:31.899223Z"
    }
   },
   "outputs": [
    {
     "data": {
      "application/javascript": [
       "\n",
       "            setTimeout(function() {\n",
       "                var nbb_cell_id = 768;\n",
       "                var nbb_unformatted_code = \"col4model = [\\\"event_code\\\", \\\"p_throws\\\", \\\"prop_events_nback\\\", \\\"prop_events_sum_nback_pt\\\"]\\ndf4model_b1_lim = df4model_b1.loc[\\n    df4model_b1[\\\"game_date\\\"] < date_of_interest, col4model\\n].copy()\\n\\ndf4model_b2_lim = df4model_b2.loc[\\n    df4model_b2[\\\"game_date\\\"] < date_of_interest, col4model\\n].copy()\\n\\n\\n# df4model_b1_lim = df4model_b1[col4model].copy()\\n# df4model_b2_lim = df4model_b2[col4model].copy()\";\n",
       "                var nbb_formatted_code = \"col4model = [\\\"event_code\\\", \\\"p_throws\\\", \\\"prop_events_nback\\\", \\\"prop_events_sum_nback_pt\\\"]\\ndf4model_b1_lim = df4model_b1.loc[\\n    df4model_b1[\\\"game_date\\\"] < date_of_interest, col4model\\n].copy()\\n\\ndf4model_b2_lim = df4model_b2.loc[\\n    df4model_b2[\\\"game_date\\\"] < date_of_interest, col4model\\n].copy()\\n\\n\\n# df4model_b1_lim = df4model_b1[col4model].copy()\\n# df4model_b2_lim = df4model_b2[col4model].copy()\";\n",
       "                var nbb_cells = Jupyter.notebook.get_cells();\n",
       "                for (var i = 0; i < nbb_cells.length; ++i) {\n",
       "                    if (nbb_cells[i].input_prompt_number == nbb_cell_id) {\n",
       "                        if (nbb_cells[i].get_text() == nbb_unformatted_code) {\n",
       "                             nbb_cells[i].set_text(nbb_formatted_code);\n",
       "                        }\n",
       "                        break;\n",
       "                    }\n",
       "                }\n",
       "            }, 500);\n",
       "            "
      ],
      "text/plain": [
       "<IPython.core.display.Javascript object>"
      ]
     },
     "metadata": {},
     "output_type": "display_data"
    }
   ],
   "source": [
    "col4model = [\"event_code\", \"p_throws\", \"prop_events_nback\", \"prop_events_sum_nback_pt\"]\n",
    "df4model_b1_lim = df4model_b1.loc[\n",
    "    df4model_b1[\"game_date\"] < date_of_interest, col4model\n",
    "].copy()\n",
    "\n",
    "df4model_b2_lim = df4model_b2.loc[\n",
    "    df4model_b2[\"game_date\"] < date_of_interest, col4model\n",
    "].copy()\n",
    "\n",
    "\n",
    "# df4model_b1_lim = df4model_b1[col4model].copy()\n",
    "# df4model_b2_lim = df4model_b2[col4model].copy()"
   ]
  },
  {
   "cell_type": "code",
   "execution_count": 769,
   "metadata": {
    "ExecuteTime": {
     "end_time": "2020-01-30T02:43:33.192283Z",
     "start_time": "2020-01-30T02:43:33.165974Z"
    }
   },
   "outputs": [
    {
     "data": {
      "text/html": [
       "<div>\n",
       "<style scoped>\n",
       "    .dataframe tbody tr th:only-of-type {\n",
       "        vertical-align: middle;\n",
       "    }\n",
       "\n",
       "    .dataframe tbody tr th {\n",
       "        vertical-align: top;\n",
       "    }\n",
       "\n",
       "    .dataframe thead th {\n",
       "        text-align: right;\n",
       "    }\n",
       "</style>\n",
       "<table border=\"1\" class=\"dataframe\">\n",
       "  <thead>\n",
       "    <tr style=\"text-align: right;\">\n",
       "      <th></th>\n",
       "      <th>event_code</th>\n",
       "      <th>p_throws</th>\n",
       "      <th>prop_events_nback</th>\n",
       "      <th>prop_events_sum_nback_pt</th>\n",
       "      <th>event_code</th>\n",
       "      <th>p_throws</th>\n",
       "      <th>prop_events_nback</th>\n",
       "      <th>prop_events_sum_nback_pt</th>\n",
       "    </tr>\n",
       "  </thead>\n",
       "  <tbody>\n",
       "    <tr>\n",
       "      <th>1</th>\n",
       "      <td>0.0</td>\n",
       "      <td>L</td>\n",
       "      <td>0.29</td>\n",
       "      <td>0.26</td>\n",
       "      <td>NaN</td>\n",
       "      <td>NaN</td>\n",
       "      <td>NaN</td>\n",
       "      <td>NaN</td>\n",
       "    </tr>\n",
       "    <tr>\n",
       "      <th>2</th>\n",
       "      <td>0.0</td>\n",
       "      <td>L</td>\n",
       "      <td>0.29</td>\n",
       "      <td>0.26</td>\n",
       "      <td>NaN</td>\n",
       "      <td>NaN</td>\n",
       "      <td>NaN</td>\n",
       "      <td>NaN</td>\n",
       "    </tr>\n",
       "    <tr>\n",
       "      <th>3</th>\n",
       "      <td>0.0</td>\n",
       "      <td>R</td>\n",
       "      <td>0.29</td>\n",
       "      <td>0.33</td>\n",
       "      <td>0.0</td>\n",
       "      <td>R</td>\n",
       "      <td>0.27</td>\n",
       "      <td>0.25</td>\n",
       "    </tr>\n",
       "    <tr>\n",
       "      <th>4</th>\n",
       "      <td>0.0</td>\n",
       "      <td>R</td>\n",
       "      <td>0.29</td>\n",
       "      <td>0.33</td>\n",
       "      <td>1.0</td>\n",
       "      <td>R</td>\n",
       "      <td>0.27</td>\n",
       "      <td>0.25</td>\n",
       "    </tr>\n",
       "    <tr>\n",
       "      <th>5</th>\n",
       "      <td>0.0</td>\n",
       "      <td>R</td>\n",
       "      <td>0.29</td>\n",
       "      <td>0.33</td>\n",
       "      <td>0.0</td>\n",
       "      <td>R</td>\n",
       "      <td>0.27</td>\n",
       "      <td>0.25</td>\n",
       "    </tr>\n",
       "    <tr>\n",
       "      <th>6</th>\n",
       "      <td>NaN</td>\n",
       "      <td>NaN</td>\n",
       "      <td>NaN</td>\n",
       "      <td>NaN</td>\n",
       "      <td>1.0</td>\n",
       "      <td>R</td>\n",
       "      <td>0.28</td>\n",
       "      <td>0.25</td>\n",
       "    </tr>\n",
       "    <tr>\n",
       "      <th>7</th>\n",
       "      <td>NaN</td>\n",
       "      <td>NaN</td>\n",
       "      <td>NaN</td>\n",
       "      <td>NaN</td>\n",
       "      <td>0.0</td>\n",
       "      <td>R</td>\n",
       "      <td>0.27</td>\n",
       "      <td>0.24</td>\n",
       "    </tr>\n",
       "  </tbody>\n",
       "</table>\n",
       "</div>"
      ],
      "text/plain": [
       "   event_code p_throws  prop_events_nback  prop_events_sum_nback_pt  \\\n",
       "1         0.0        L               0.29                      0.26   \n",
       "2         0.0        L               0.29                      0.26   \n",
       "3         0.0        R               0.29                      0.33   \n",
       "4         0.0        R               0.29                      0.33   \n",
       "5         0.0        R               0.29                      0.33   \n",
       "6         NaN      NaN                NaN                       NaN   \n",
       "7         NaN      NaN                NaN                       NaN   \n",
       "\n",
       "   event_code p_throws  prop_events_nback  prop_events_sum_nback_pt  \n",
       "1         NaN      NaN                NaN                       NaN  \n",
       "2         NaN      NaN                NaN                       NaN  \n",
       "3         0.0        R               0.27                      0.25  \n",
       "4         1.0        R               0.27                      0.25  \n",
       "5         0.0        R               0.27                      0.25  \n",
       "6         1.0        R               0.28                      0.25  \n",
       "7         0.0        R               0.27                      0.24  "
      ]
     },
     "execution_count": 769,
     "metadata": {},
     "output_type": "execute_result"
    },
    {
     "data": {
      "application/javascript": [
       "\n",
       "            setTimeout(function() {\n",
       "                var nbb_cell_id = 769;\n",
       "                var nbb_unformatted_code = \"pd.concat([df4model_b1_lim.head(), df4model_b2_lim.head()], axis=1)\";\n",
       "                var nbb_formatted_code = \"pd.concat([df4model_b1_lim.head(), df4model_b2_lim.head()], axis=1)\";\n",
       "                var nbb_cells = Jupyter.notebook.get_cells();\n",
       "                for (var i = 0; i < nbb_cells.length; ++i) {\n",
       "                    if (nbb_cells[i].input_prompt_number == nbb_cell_id) {\n",
       "                        if (nbb_cells[i].get_text() == nbb_unformatted_code) {\n",
       "                             nbb_cells[i].set_text(nbb_formatted_code);\n",
       "                        }\n",
       "                        break;\n",
       "                    }\n",
       "                }\n",
       "            }, 500);\n",
       "            "
      ],
      "text/plain": [
       "<IPython.core.display.Javascript object>"
      ]
     },
     "metadata": {},
     "output_type": "display_data"
    }
   ],
   "source": [
    "pd.concat([df4model_b1_lim.head(), df4model_b2_lim.head()], axis=1)"
   ]
  },
  {
   "cell_type": "code",
   "execution_count": 770,
   "metadata": {
    "ExecuteTime": {
     "end_time": "2020-01-30T02:43:42.379773Z",
     "start_time": "2020-01-30T02:43:42.364343Z"
    }
   },
   "outputs": [
    {
     "data": {
      "application/javascript": [
       "\n",
       "            setTimeout(function() {\n",
       "                var nbb_cell_id = 770;\n",
       "                var nbb_unformatted_code = \"# FUNCTION TO REPLACE CATEGORICAL INPUT\\ndf4model_b1_lim[\\\"p_throws\\\"].replace({\\\"L\\\": 0, \\\"R\\\": 1}, inplace=True)\\ndf4model_b2_lim[\\\"p_throws\\\"].replace({\\\"L\\\": 0, \\\"R\\\": 1}, inplace=True)\";\n",
       "                var nbb_formatted_code = \"# FUNCTION TO REPLACE CATEGORICAL INPUT\\ndf4model_b1_lim[\\\"p_throws\\\"].replace({\\\"L\\\": 0, \\\"R\\\": 1}, inplace=True)\\ndf4model_b2_lim[\\\"p_throws\\\"].replace({\\\"L\\\": 0, \\\"R\\\": 1}, inplace=True)\";\n",
       "                var nbb_cells = Jupyter.notebook.get_cells();\n",
       "                for (var i = 0; i < nbb_cells.length; ++i) {\n",
       "                    if (nbb_cells[i].input_prompt_number == nbb_cell_id) {\n",
       "                        if (nbb_cells[i].get_text() == nbb_unformatted_code) {\n",
       "                             nbb_cells[i].set_text(nbb_formatted_code);\n",
       "                        }\n",
       "                        break;\n",
       "                    }\n",
       "                }\n",
       "            }, 500);\n",
       "            "
      ],
      "text/plain": [
       "<IPython.core.display.Javascript object>"
      ]
     },
     "metadata": {},
     "output_type": "display_data"
    }
   ],
   "source": [
    "# FUNCTION TO REPLACE CATEGORICAL INPUT\n",
    "df4model_b1_lim[\"p_throws\"].replace({\"L\": 0, \"R\": 1}, inplace=True)\n",
    "df4model_b2_lim[\"p_throws\"].replace({\"L\": 0, \"R\": 1}, inplace=True)"
   ]
  },
  {
   "cell_type": "code",
   "execution_count": 210,
   "metadata": {
    "ExecuteTime": {
     "end_time": "2020-01-29T06:09:36.042124Z",
     "start_time": "2020-01-29T06:09:36.035250Z"
    },
    "code_folding": [
     0
    ]
   },
   "outputs": [
    {
     "data": {
      "application/javascript": [
       "\n",
       "            setTimeout(function() {\n",
       "                var nbb_cell_id = 210;\n",
       "                var nbb_unformatted_code = \"# f, ((ax1, ax2, ax3), (ax4, ax5, ax6)) = plt.subplots(2, 3, figsize=(12, 6))\\n\\n# df4model_b1_lim[\\\"prop_events_nback\\\"].hist(ax=ax1)\\n# ax1.set_title(\\\"overall events, player 1\\\")\\n\\n# df_temp = df4model_b1_lim[df4model_b1_lim[\\\"p_throws\\\"] == 0]\\n# df_temp[\\\"prop_events_nback\\\"].hist(ax=ax2)\\n# ax2.set_title(\\\"events against left-handers, player 1\\\")\\n\\n# df_temp = df4model_b1_lim[df4model_b1_lim[\\\"p_throws\\\"] == 1]\\n# df_temp[\\\"prop_events_nback\\\"].hist(ax=ax3)\\n# ax3.set_title(\\\"events against right-handers, player 1\\\")\\n\\n# df4model_p2[\\\"prop_events_nback\\\"].hist(ax=ax4)\\n# ax4.set_title(\\\"overall events, player 2\\\")\\n\\n# df_temp = df4model_p2[df4model_p2[\\\"p_throws\\\"] == 0]\\n# df_temp[\\\"prop_events_nback\\\"].hist(ax=ax5)\\n# ax5.set_title(\\\"events against left-handers, player 2\\\")\\n\\n# df_temp = df4model_p2[df4model_p2[\\\"p_throws\\\"] == 1]\\n# df_temp[\\\"prop_events_nback\\\"].hist(ax=ax6)\\n# ax6.set_title(\\\"events against right-handers, player 2\\\")\\n\\n# plt.tight_layout()\";\n",
       "                var nbb_formatted_code = \"# f, ((ax1, ax2, ax3), (ax4, ax5, ax6)) = plt.subplots(2, 3, figsize=(12, 6))\\n\\n# df4model_b1_lim[\\\"prop_events_nback\\\"].hist(ax=ax1)\\n# ax1.set_title(\\\"overall events, player 1\\\")\\n\\n# df_temp = df4model_b1_lim[df4model_b1_lim[\\\"p_throws\\\"] == 0]\\n# df_temp[\\\"prop_events_nback\\\"].hist(ax=ax2)\\n# ax2.set_title(\\\"events against left-handers, player 1\\\")\\n\\n# df_temp = df4model_b1_lim[df4model_b1_lim[\\\"p_throws\\\"] == 1]\\n# df_temp[\\\"prop_events_nback\\\"].hist(ax=ax3)\\n# ax3.set_title(\\\"events against right-handers, player 1\\\")\\n\\n# df4model_p2[\\\"prop_events_nback\\\"].hist(ax=ax4)\\n# ax4.set_title(\\\"overall events, player 2\\\")\\n\\n# df_temp = df4model_p2[df4model_p2[\\\"p_throws\\\"] == 0]\\n# df_temp[\\\"prop_events_nback\\\"].hist(ax=ax5)\\n# ax5.set_title(\\\"events against left-handers, player 2\\\")\\n\\n# df_temp = df4model_p2[df4model_p2[\\\"p_throws\\\"] == 1]\\n# df_temp[\\\"prop_events_nback\\\"].hist(ax=ax6)\\n# ax6.set_title(\\\"events against right-handers, player 2\\\")\\n\\n# plt.tight_layout()\";\n",
       "                var nbb_cells = Jupyter.notebook.get_cells();\n",
       "                for (var i = 0; i < nbb_cells.length; ++i) {\n",
       "                    if (nbb_cells[i].input_prompt_number == nbb_cell_id) {\n",
       "                        if (nbb_cells[i].get_text() == nbb_unformatted_code) {\n",
       "                             nbb_cells[i].set_text(nbb_formatted_code);\n",
       "                        }\n",
       "                        break;\n",
       "                    }\n",
       "                }\n",
       "            }, 500);\n",
       "            "
      ],
      "text/plain": [
       "<IPython.core.display.Javascript object>"
      ]
     },
     "metadata": {},
     "output_type": "display_data"
    }
   ],
   "source": [
    "# f, ((ax1, ax2, ax3), (ax4, ax5, ax6)) = plt.subplots(2, 3, figsize=(12, 6))\n",
    "\n",
    "# df4model_b1_lim[\"prop_events_nback\"].hist(ax=ax1)\n",
    "# ax1.set_title(\"overall events, player 1\")\n",
    "\n",
    "# df_temp = df4model_b1_lim[df4model_b1_lim[\"p_throws\"] == 0]\n",
    "# df_temp[\"prop_events_nback\"].hist(ax=ax2)\n",
    "# ax2.set_title(\"events against left-handers, player 1\")\n",
    "\n",
    "# df_temp = df4model_b1_lim[df4model_b1_lim[\"p_throws\"] == 1]\n",
    "# df_temp[\"prop_events_nback\"].hist(ax=ax3)\n",
    "# ax3.set_title(\"events against right-handers, player 1\")\n",
    "\n",
    "# df4model_p2[\"prop_events_nback\"].hist(ax=ax4)\n",
    "# ax4.set_title(\"overall events, player 2\")\n",
    "\n",
    "# df_temp = df4model_p2[df4model_p2[\"p_throws\"] == 0]\n",
    "# df_temp[\"prop_events_nback\"].hist(ax=ax5)\n",
    "# ax5.set_title(\"events against left-handers, player 2\")\n",
    "\n",
    "# df_temp = df4model_p2[df4model_p2[\"p_throws\"] == 1]\n",
    "# df_temp[\"prop_events_nback\"].hist(ax=ax6)\n",
    "# ax6.set_title(\"events against right-handers, player 2\")\n",
    "\n",
    "# plt.tight_layout()"
   ]
  },
  {
   "cell_type": "code",
   "execution_count": 717,
   "metadata": {
    "ExecuteTime": {
     "end_time": "2020-01-30T00:43:39.116035Z",
     "start_time": "2020-01-30T00:43:39.096509Z"
    },
    "code_folding": [
     0
    ]
   },
   "outputs": [
    {
     "data": {
      "application/javascript": [
       "\n",
       "            setTimeout(function() {\n",
       "                var nbb_cell_id = 717;\n",
       "                var nbb_unformatted_code = \"def get_split_data(df4model, testsize):\\n    y = df4model[\\\"event_code\\\"]\\n    X = df4model.iloc[:, 1::]\\n\\n    # Scale features based on training data\\n    std_scale = StandardScaler()\\n    X_scale = std_scale.fit_transform(X)\\n\\n    X_train_scale, X_test_scale, y_train, y_test = train_test_split(\\n        X_scale, y, test_size=testsize, random_state=19\\n    )\\n\\n    return X_train_scale, X_test_scale, y_train, y_test\";\n",
       "                var nbb_formatted_code = \"def get_split_data(df4model, testsize):\\n    y = df4model[\\\"event_code\\\"]\\n    X = df4model.iloc[:, 1::]\\n\\n    # Scale features based on training data\\n    std_scale = StandardScaler()\\n    X_scale = std_scale.fit_transform(X)\\n\\n    X_train_scale, X_test_scale, y_train, y_test = train_test_split(\\n        X_scale, y, test_size=testsize, random_state=19\\n    )\\n\\n    return X_train_scale, X_test_scale, y_train, y_test\";\n",
       "                var nbb_cells = Jupyter.notebook.get_cells();\n",
       "                for (var i = 0; i < nbb_cells.length; ++i) {\n",
       "                    if (nbb_cells[i].input_prompt_number == nbb_cell_id) {\n",
       "                        if (nbb_cells[i].get_text() == nbb_unformatted_code) {\n",
       "                             nbb_cells[i].set_text(nbb_formatted_code);\n",
       "                        }\n",
       "                        break;\n",
       "                    }\n",
       "                }\n",
       "            }, 500);\n",
       "            "
      ],
      "text/plain": [
       "<IPython.core.display.Javascript object>"
      ]
     },
     "metadata": {},
     "output_type": "display_data"
    }
   ],
   "source": [
    "def get_split_data(df4model, testsize):\n",
    "    y = df4model[\"event_code\"]\n",
    "    X = df4model.iloc[:, 1::]\n",
    "\n",
    "    # Scale features based on training data\n",
    "    std_scale = StandardScaler()\n",
    "    X_scale = std_scale.fit_transform(X)\n",
    "\n",
    "    X_train_scale, X_test_scale, y_train, y_test = train_test_split(\n",
    "        X_scale, y, test_size=testsize, random_state=19\n",
    "    )\n",
    "\n",
    "    return X_train_scale, X_test_scale, y_train, y_test"
   ]
  },
  {
   "cell_type": "code",
   "execution_count": 718,
   "metadata": {
    "ExecuteTime": {
     "end_time": "2020-01-30T00:43:43.017997Z",
     "start_time": "2020-01-30T00:43:43.010090Z"
    }
   },
   "outputs": [
    {
     "data": {
      "text/plain": [
       "(196, 4)"
      ]
     },
     "execution_count": 718,
     "metadata": {},
     "output_type": "execute_result"
    },
    {
     "data": {
      "application/javascript": [
       "\n",
       "            setTimeout(function() {\n",
       "                var nbb_cell_id = 718;\n",
       "                var nbb_unformatted_code = \"df4model_b1_lim.shape\";\n",
       "                var nbb_formatted_code = \"df4model_b1_lim.shape\";\n",
       "                var nbb_cells = Jupyter.notebook.get_cells();\n",
       "                for (var i = 0; i < nbb_cells.length; ++i) {\n",
       "                    if (nbb_cells[i].input_prompt_number == nbb_cell_id) {\n",
       "                        if (nbb_cells[i].get_text() == nbb_unformatted_code) {\n",
       "                             nbb_cells[i].set_text(nbb_formatted_code);\n",
       "                        }\n",
       "                        break;\n",
       "                    }\n",
       "                }\n",
       "            }, 500);\n",
       "            "
      ],
      "text/plain": [
       "<IPython.core.display.Javascript object>"
      ]
     },
     "metadata": {},
     "output_type": "display_data"
    }
   ],
   "source": [
    "df4model_b1_lim.shape"
   ]
  },
  {
   "cell_type": "code",
   "execution_count": 719,
   "metadata": {
    "ExecuteTime": {
     "end_time": "2020-01-30T00:43:43.787694Z",
     "start_time": "2020-01-30T00:43:43.779352Z"
    }
   },
   "outputs": [
    {
     "data": {
      "text/plain": [
       "(196, 4)"
      ]
     },
     "execution_count": 719,
     "metadata": {},
     "output_type": "execute_result"
    },
    {
     "data": {
      "application/javascript": [
       "\n",
       "            setTimeout(function() {\n",
       "                var nbb_cell_id = 719;\n",
       "                var nbb_unformatted_code = \"df4model_b2_lim.shape\";\n",
       "                var nbb_formatted_code = \"df4model_b2_lim.shape\";\n",
       "                var nbb_cells = Jupyter.notebook.get_cells();\n",
       "                for (var i = 0; i < nbb_cells.length; ++i) {\n",
       "                    if (nbb_cells[i].input_prompt_number == nbb_cell_id) {\n",
       "                        if (nbb_cells[i].get_text() == nbb_unformatted_code) {\n",
       "                             nbb_cells[i].set_text(nbb_formatted_code);\n",
       "                        }\n",
       "                        break;\n",
       "                    }\n",
       "                }\n",
       "            }, 500);\n",
       "            "
      ],
      "text/plain": [
       "<IPython.core.display.Javascript object>"
      ]
     },
     "metadata": {},
     "output_type": "display_data"
    }
   ],
   "source": [
    "df4model_b2_lim.shape"
   ]
  },
  {
   "cell_type": "code",
   "execution_count": 720,
   "metadata": {
    "ExecuteTime": {
     "end_time": "2020-01-30T00:43:45.799905Z",
     "start_time": "2020-01-30T00:43:45.776702Z"
    }
   },
   "outputs": [
    {
     "data": {
      "application/javascript": [
       "\n",
       "            setTimeout(function() {\n",
       "                var nbb_cell_id = 720;\n",
       "                var nbb_unformatted_code = \"X_train_scale_b1, X_test_scale_b1, y_train_b1, y_test_b1 = get_split_data(\\n    df4model_b1_lim, 0.4\\n)\\nX_train_scale_b2, X_test_scale_b2, y_train_b2, y_test_b2 = get_split_data(\\n    df4model_b2_lim, 0.4\\n)\";\n",
       "                var nbb_formatted_code = \"X_train_scale_b1, X_test_scale_b1, y_train_b1, y_test_b1 = get_split_data(\\n    df4model_b1_lim, 0.4\\n)\\nX_train_scale_b2, X_test_scale_b2, y_train_b2, y_test_b2 = get_split_data(\\n    df4model_b2_lim, 0.4\\n)\";\n",
       "                var nbb_cells = Jupyter.notebook.get_cells();\n",
       "                for (var i = 0; i < nbb_cells.length; ++i) {\n",
       "                    if (nbb_cells[i].input_prompt_number == nbb_cell_id) {\n",
       "                        if (nbb_cells[i].get_text() == nbb_unformatted_code) {\n",
       "                             nbb_cells[i].set_text(nbb_formatted_code);\n",
       "                        }\n",
       "                        break;\n",
       "                    }\n",
       "                }\n",
       "            }, 500);\n",
       "            "
      ],
      "text/plain": [
       "<IPython.core.display.Javascript object>"
      ]
     },
     "metadata": {},
     "output_type": "display_data"
    }
   ],
   "source": [
    "X_train_scale_b1, X_test_scale_b1, y_train_b1, y_test_b1 = get_split_data(\n",
    "    df4model_b1_lim, 0.4\n",
    ")\n",
    "X_train_scale_b2, X_test_scale_b2, y_train_b2, y_test_b2 = get_split_data(\n",
    "    df4model_b2_lim, 0.4\n",
    ")"
   ]
  },
  {
   "cell_type": "code",
   "execution_count": 721,
   "metadata": {
    "ExecuteTime": {
     "end_time": "2020-01-30T00:43:48.185212Z",
     "start_time": "2020-01-30T00:43:48.171437Z"
    }
   },
   "outputs": [
    {
     "name": "stdout",
     "output_type": "stream",
     "text": [
      "(117, 3) (79, 3) (117,) (79,)\n",
      "(117, 3) (79, 3) (117,) (79,)\n"
     ]
    },
    {
     "data": {
      "application/javascript": [
       "\n",
       "            setTimeout(function() {\n",
       "                var nbb_cell_id = 721;\n",
       "                var nbb_unformatted_code = \"print(X_train_scale_b1.shape, X_test_scale_b1.shape, y_train_b1.shape, y_test_b1.shape)\\nprint(X_train_scale_b2.shape, X_test_scale_b2.shape, y_train_b2.shape, y_test_b2.shape)\";\n",
       "                var nbb_formatted_code = \"print(X_train_scale_b1.shape, X_test_scale_b1.shape, y_train_b1.shape, y_test_b1.shape)\\nprint(X_train_scale_b2.shape, X_test_scale_b2.shape, y_train_b2.shape, y_test_b2.shape)\";\n",
       "                var nbb_cells = Jupyter.notebook.get_cells();\n",
       "                for (var i = 0; i < nbb_cells.length; ++i) {\n",
       "                    if (nbb_cells[i].input_prompt_number == nbb_cell_id) {\n",
       "                        if (nbb_cells[i].get_text() == nbb_unformatted_code) {\n",
       "                             nbb_cells[i].set_text(nbb_formatted_code);\n",
       "                        }\n",
       "                        break;\n",
       "                    }\n",
       "                }\n",
       "            }, 500);\n",
       "            "
      ],
      "text/plain": [
       "<IPython.core.display.Javascript object>"
      ]
     },
     "metadata": {},
     "output_type": "display_data"
    }
   ],
   "source": [
    "print(X_train_scale_b1.shape, X_test_scale_b1.shape, y_train_b1.shape, y_test_b1.shape)\n",
    "print(X_train_scale_b2.shape, X_test_scale_b2.shape, y_train_b2.shape, y_test_b2.shape)"
   ]
  },
  {
   "cell_type": "code",
   "execution_count": 722,
   "metadata": {
    "ExecuteTime": {
     "end_time": "2020-01-30T00:43:52.603703Z",
     "start_time": "2020-01-30T00:43:52.585065Z"
    },
    "code_folding": [
     0
    ]
   },
   "outputs": [
    {
     "data": {
      "application/javascript": [
       "\n",
       "            setTimeout(function() {\n",
       "                var nbb_cell_id = 722;\n",
       "                var nbb_unformatted_code = \"def run_logreg_model(X_train_scale_set, y_train_set, X_test_scale_set, y_test_set):\\n\\n    log_reg = LogisticRegression()\\n    log_reg.fit(X_train_scale_set, y_train_set)\\n\\n    y_pred = log_reg.predict(X_test_scale_set)\\n    y_predprob = log_reg.predict_proba(X_test_scale_set)[:, 1]\\n    df_eval = pd.DataFrame({\\\"test\\\": y_test_set, \\\"pred\\\": y_pred, \\\"predprob\\\": y_predprob})\\n\\n    return log_reg, df_eval\";\n",
       "                var nbb_formatted_code = \"def run_logreg_model(X_train_scale_set, y_train_set, X_test_scale_set, y_test_set):\\n\\n    log_reg = LogisticRegression()\\n    log_reg.fit(X_train_scale_set, y_train_set)\\n\\n    y_pred = log_reg.predict(X_test_scale_set)\\n    y_predprob = log_reg.predict_proba(X_test_scale_set)[:, 1]\\n    df_eval = pd.DataFrame({\\\"test\\\": y_test_set, \\\"pred\\\": y_pred, \\\"predprob\\\": y_predprob})\\n\\n    return log_reg, df_eval\";\n",
       "                var nbb_cells = Jupyter.notebook.get_cells();\n",
       "                for (var i = 0; i < nbb_cells.length; ++i) {\n",
       "                    if (nbb_cells[i].input_prompt_number == nbb_cell_id) {\n",
       "                        if (nbb_cells[i].get_text() == nbb_unformatted_code) {\n",
       "                             nbb_cells[i].set_text(nbb_formatted_code);\n",
       "                        }\n",
       "                        break;\n",
       "                    }\n",
       "                }\n",
       "            }, 500);\n",
       "            "
      ],
      "text/plain": [
       "<IPython.core.display.Javascript object>"
      ]
     },
     "metadata": {},
     "output_type": "display_data"
    }
   ],
   "source": [
    "def run_logreg_model(X_train_scale_set, y_train_set, X_test_scale_set, y_test_set):\n",
    "\n",
    "    log_reg = LogisticRegression()\n",
    "    log_reg.fit(X_train_scale_set, y_train_set)\n",
    "\n",
    "    y_pred = log_reg.predict(X_test_scale_set)\n",
    "    y_predprob = log_reg.predict_proba(X_test_scale_set)[:, 1]\n",
    "    df_eval = pd.DataFrame({\"test\": y_test_set, \"pred\": y_pred, \"predprob\": y_predprob})\n",
    "\n",
    "    return log_reg, df_eval"
   ]
  },
  {
   "cell_type": "code",
   "execution_count": 723,
   "metadata": {
    "ExecuteTime": {
     "end_time": "2020-01-30T00:43:58.108264Z",
     "start_time": "2020-01-30T00:43:58.071884Z"
    },
    "code_folding": []
   },
   "outputs": [
    {
     "data": {
      "application/javascript": [
       "\n",
       "            setTimeout(function() {\n",
       "                var nbb_cell_id = 723;\n",
       "                var nbb_unformatted_code = \"# Run models\\nlog_reg_b1, df_eval_b1 = run_logreg_model(\\n    X_train_scale_b1, y_train_b1, X_test_scale_b1, y_test_b1\\n)\\n\\nlog_reg_b2, df_eval_b2 = run_logreg_model(\\n    X_train_scale_b2, y_train_b2, X_test_scale_b2, y_test_b2\\n)\";\n",
       "                var nbb_formatted_code = \"# Run models\\nlog_reg_b1, df_eval_b1 = run_logreg_model(\\n    X_train_scale_b1, y_train_b1, X_test_scale_b1, y_test_b1\\n)\\n\\nlog_reg_b2, df_eval_b2 = run_logreg_model(\\n    X_train_scale_b2, y_train_b2, X_test_scale_b2, y_test_b2\\n)\";\n",
       "                var nbb_cells = Jupyter.notebook.get_cells();\n",
       "                for (var i = 0; i < nbb_cells.length; ++i) {\n",
       "                    if (nbb_cells[i].input_prompt_number == nbb_cell_id) {\n",
       "                        if (nbb_cells[i].get_text() == nbb_unformatted_code) {\n",
       "                             nbb_cells[i].set_text(nbb_formatted_code);\n",
       "                        }\n",
       "                        break;\n",
       "                    }\n",
       "                }\n",
       "            }, 500);\n",
       "            "
      ],
      "text/plain": [
       "<IPython.core.display.Javascript object>"
      ]
     },
     "metadata": {},
     "output_type": "display_data"
    }
   ],
   "source": [
    "# Run models\n",
    "log_reg_b1, df_eval_b1 = run_logreg_model(\n",
    "    X_train_scale_b1, y_train_b1, X_test_scale_b1, y_test_b1\n",
    ")\n",
    "\n",
    "log_reg_b2, df_eval_b2 = run_logreg_model(\n",
    "    X_train_scale_b2, y_train_b2, X_test_scale_b2, y_test_b2\n",
    ")"
   ]
  },
  {
   "cell_type": "code",
   "execution_count": 728,
   "metadata": {
    "ExecuteTime": {
     "end_time": "2020-01-30T00:44:58.297806Z",
     "start_time": "2020-01-30T00:44:58.279418Z"
    },
    "collapsed": true
   },
   "outputs": [
    {
     "data": {
      "text/html": [
       "<div>\n",
       "<style scoped>\n",
       "    .dataframe tbody tr th:only-of-type {\n",
       "        vertical-align: middle;\n",
       "    }\n",
       "\n",
       "    .dataframe tbody tr th {\n",
       "        vertical-align: top;\n",
       "    }\n",
       "\n",
       "    .dataframe thead th {\n",
       "        text-align: right;\n",
       "    }\n",
       "</style>\n",
       "<table border=\"1\" class=\"dataframe\">\n",
       "  <thead>\n",
       "    <tr style=\"text-align: right;\">\n",
       "      <th></th>\n",
       "      <th>test</th>\n",
       "      <th>pred</th>\n",
       "      <th>predprob</th>\n",
       "    </tr>\n",
       "  </thead>\n",
       "  <tbody>\n",
       "    <tr>\n",
       "      <th>36</th>\n",
       "      <td>0</td>\n",
       "      <td>0</td>\n",
       "      <td>0.234481</td>\n",
       "    </tr>\n",
       "    <tr>\n",
       "      <th>155</th>\n",
       "      <td>0</td>\n",
       "      <td>0</td>\n",
       "      <td>0.198830</td>\n",
       "    </tr>\n",
       "    <tr>\n",
       "      <th>149</th>\n",
       "      <td>1</td>\n",
       "      <td>0</td>\n",
       "      <td>0.227086</td>\n",
       "    </tr>\n",
       "    <tr>\n",
       "      <th>42</th>\n",
       "      <td>0</td>\n",
       "      <td>0</td>\n",
       "      <td>0.272737</td>\n",
       "    </tr>\n",
       "    <tr>\n",
       "      <th>141</th>\n",
       "      <td>0</td>\n",
       "      <td>0</td>\n",
       "      <td>0.250035</td>\n",
       "    </tr>\n",
       "    <tr>\n",
       "      <th>...</th>\n",
       "      <td>...</td>\n",
       "      <td>...</td>\n",
       "      <td>...</td>\n",
       "    </tr>\n",
       "    <tr>\n",
       "      <th>182</th>\n",
       "      <td>0</td>\n",
       "      <td>0</td>\n",
       "      <td>0.257748</td>\n",
       "    </tr>\n",
       "    <tr>\n",
       "      <th>190</th>\n",
       "      <td>0</td>\n",
       "      <td>1</td>\n",
       "      <td>0.509997</td>\n",
       "    </tr>\n",
       "    <tr>\n",
       "      <th>88</th>\n",
       "      <td>0</td>\n",
       "      <td>0</td>\n",
       "      <td>0.155930</td>\n",
       "    </tr>\n",
       "    <tr>\n",
       "      <th>73</th>\n",
       "      <td>0</td>\n",
       "      <td>0</td>\n",
       "      <td>0.242173</td>\n",
       "    </tr>\n",
       "    <tr>\n",
       "      <th>156</th>\n",
       "      <td>0</td>\n",
       "      <td>0</td>\n",
       "      <td>0.198830</td>\n",
       "    </tr>\n",
       "  </tbody>\n",
       "</table>\n",
       "<p>79 rows × 3 columns</p>\n",
       "</div>"
      ],
      "text/plain": [
       "     test  pred  predprob\n",
       "36      0     0  0.234481\n",
       "155     0     0  0.198830\n",
       "149     1     0  0.227086\n",
       "42      0     0  0.272737\n",
       "141     0     0  0.250035\n",
       "..    ...   ...       ...\n",
       "182     0     0  0.257748\n",
       "190     0     1  0.509997\n",
       "88      0     0  0.155930\n",
       "73      0     0  0.242173\n",
       "156     0     0  0.198830\n",
       "\n",
       "[79 rows x 3 columns]"
      ]
     },
     "execution_count": 728,
     "metadata": {},
     "output_type": "execute_result"
    },
    {
     "data": {
      "application/javascript": [
       "\n",
       "            setTimeout(function() {\n",
       "                var nbb_cell_id = 728;\n",
       "                var nbb_unformatted_code = \"df_eval_b2\";\n",
       "                var nbb_formatted_code = \"df_eval_b2\";\n",
       "                var nbb_cells = Jupyter.notebook.get_cells();\n",
       "                for (var i = 0; i < nbb_cells.length; ++i) {\n",
       "                    if (nbb_cells[i].input_prompt_number == nbb_cell_id) {\n",
       "                        if (nbb_cells[i].get_text() == nbb_unformatted_code) {\n",
       "                             nbb_cells[i].set_text(nbb_formatted_code);\n",
       "                        }\n",
       "                        break;\n",
       "                    }\n",
       "                }\n",
       "            }, 500);\n",
       "            "
      ],
      "text/plain": [
       "<IPython.core.display.Javascript object>"
      ]
     },
     "metadata": {},
     "output_type": "display_data"
    }
   ],
   "source": [
    "df_eval_b2"
   ]
  },
  {
   "cell_type": "code",
   "execution_count": 670,
   "metadata": {
    "ExecuteTime": {
     "end_time": "2020-01-30T00:29:52.786340Z",
     "start_time": "2020-01-30T00:29:52.760193Z"
    }
   },
   "outputs": [
    {
     "data": {
      "text/html": [
       "<div>\n",
       "<style scoped>\n",
       "    .dataframe tbody tr th:only-of-type {\n",
       "        vertical-align: middle;\n",
       "    }\n",
       "\n",
       "    .dataframe tbody tr th {\n",
       "        vertical-align: top;\n",
       "    }\n",
       "\n",
       "    .dataframe thead th {\n",
       "        text-align: right;\n",
       "    }\n",
       "</style>\n",
       "<table border=\"1\" class=\"dataframe\">\n",
       "  <thead>\n",
       "    <tr style=\"text-align: right;\">\n",
       "      <th></th>\n",
       "      <th>index</th>\n",
       "      <th>test</th>\n",
       "      <th>pred</th>\n",
       "      <th>predprob</th>\n",
       "      <th>index</th>\n",
       "      <th>test</th>\n",
       "      <th>pred</th>\n",
       "      <th>predprob</th>\n",
       "    </tr>\n",
       "  </thead>\n",
       "  <tbody>\n",
       "    <tr>\n",
       "      <th>0</th>\n",
       "      <td>33</td>\n",
       "      <td>0</td>\n",
       "      <td>0</td>\n",
       "      <td>0.375885</td>\n",
       "      <td>34</td>\n",
       "      <td>0</td>\n",
       "      <td>0</td>\n",
       "      <td>0.255355</td>\n",
       "    </tr>\n",
       "    <tr>\n",
       "      <th>1</th>\n",
       "      <td>77</td>\n",
       "      <td>0</td>\n",
       "      <td>0</td>\n",
       "      <td>0.307078</td>\n",
       "      <td>78</td>\n",
       "      <td>0</td>\n",
       "      <td>0</td>\n",
       "      <td>0.237118</td>\n",
       "    </tr>\n",
       "    <tr>\n",
       "      <th>2</th>\n",
       "      <td>149</td>\n",
       "      <td>1</td>\n",
       "      <td>0</td>\n",
       "      <td>0.245903</td>\n",
       "      <td>149</td>\n",
       "      <td>0</td>\n",
       "      <td>0</td>\n",
       "      <td>0.347667</td>\n",
       "    </tr>\n",
       "    <tr>\n",
       "      <th>3</th>\n",
       "      <td>39</td>\n",
       "      <td>1</td>\n",
       "      <td>0</td>\n",
       "      <td>0.386789</td>\n",
       "      <td>40</td>\n",
       "      <td>0</td>\n",
       "      <td>0</td>\n",
       "      <td>0.256470</td>\n",
       "    </tr>\n",
       "    <tr>\n",
       "      <th>4</th>\n",
       "      <td>84</td>\n",
       "      <td>0</td>\n",
       "      <td>0</td>\n",
       "      <td>0.304194</td>\n",
       "      <td>85</td>\n",
       "      <td>0</td>\n",
       "      <td>0</td>\n",
       "      <td>0.250267</td>\n",
       "    </tr>\n",
       "  </tbody>\n",
       "</table>\n",
       "</div>"
      ],
      "text/plain": [
       "   index  test  pred  predprob  index  test  pred  predprob\n",
       "0     33     0     0  0.375885     34     0     0  0.255355\n",
       "1     77     0     0  0.307078     78     0     0  0.237118\n",
       "2    149     1     0  0.245903    149     0     0  0.347667\n",
       "3     39     1     0  0.386789     40     0     0  0.256470\n",
       "4     84     0     0  0.304194     85     0     0  0.250267"
      ]
     },
     "execution_count": 670,
     "metadata": {},
     "output_type": "execute_result"
    },
    {
     "data": {
      "application/javascript": [
       "\n",
       "            setTimeout(function() {\n",
       "                var nbb_cell_id = 670;\n",
       "                var nbb_unformatted_code = \"pd.concat([df_eval_b1.reset_index().head(), df_eval_b2.reset_index().head()], axis=1)\";\n",
       "                var nbb_formatted_code = \"pd.concat([df_eval_b1.reset_index().head(), df_eval_b2.reset_index().head()], axis=1)\";\n",
       "                var nbb_cells = Jupyter.notebook.get_cells();\n",
       "                for (var i = 0; i < nbb_cells.length; ++i) {\n",
       "                    if (nbb_cells[i].input_prompt_number == nbb_cell_id) {\n",
       "                        if (nbb_cells[i].get_text() == nbb_unformatted_code) {\n",
       "                             nbb_cells[i].set_text(nbb_formatted_code);\n",
       "                        }\n",
       "                        break;\n",
       "                    }\n",
       "                }\n",
       "            }, 500);\n",
       "            "
      ],
      "text/plain": [
       "<IPython.core.display.Javascript object>"
      ]
     },
     "metadata": {},
     "output_type": "display_data"
    }
   ],
   "source": [
    "pd.concat([df_eval_b1.reset_index().head(), df_eval_b2.reset_index().head()], axis=1)"
   ]
  },
  {
   "cell_type": "code",
   "execution_count": 729,
   "metadata": {
    "ExecuteTime": {
     "end_time": "2020-01-30T00:45:13.629507Z",
     "start_time": "2020-01-30T00:45:13.282820Z"
    }
   },
   "outputs": [
    {
     "data": {
      "text/plain": [
       "<matplotlib.collections.PathCollection at 0x1a273662b0>"
      ]
     },
     "execution_count": 729,
     "metadata": {},
     "output_type": "execute_result"
    },
    {
     "data": {
      "image/png": "[encoded data removed]",
      "text/plain": [
       "<Figure size 864x288 with 2 Axes>"
      ]
     },
     "metadata": {
      "needs_background": "light"
     },
     "output_type": "display_data"
    },
    {
     "data": {
      "application/javascript": [
       "\n",
       "            setTimeout(function() {\n",
       "                var nbb_cell_id = 729;\n",
       "                var nbb_unformatted_code = \"f, (ax1, ax2) = plt.subplots(1, 2, figsize=(12, 4))\\n\\nax1.scatter(\\n    df_eval_b1[\\\"predprob\\\"],\\n    df_eval_b1[\\\"test\\\"] + np.random.normal(0, 0.025, len(df_eval_b1)),\\n    facecolors=\\\"none\\\",\\n    edgecolors=\\\"black\\\",\\n)\\n\\nax2.scatter(\\n    df_eval_b2[\\\"predprob\\\"],\\n    df_eval_b2[\\\"test\\\"] + np.random.normal(0, 0.025, len(df_eval_b2)),\\n    facecolors=\\\"none\\\",\\n    edgecolors=\\\"black\\\",\\n)\";\n",
       "                var nbb_formatted_code = \"f, (ax1, ax2) = plt.subplots(1, 2, figsize=(12, 4))\\n\\nax1.scatter(\\n    df_eval_b1[\\\"predprob\\\"],\\n    df_eval_b1[\\\"test\\\"] + np.random.normal(0, 0.025, len(df_eval_b1)),\\n    facecolors=\\\"none\\\",\\n    edgecolors=\\\"black\\\",\\n)\\n\\nax2.scatter(\\n    df_eval_b2[\\\"predprob\\\"],\\n    df_eval_b2[\\\"test\\\"] + np.random.normal(0, 0.025, len(df_eval_b2)),\\n    facecolors=\\\"none\\\",\\n    edgecolors=\\\"black\\\",\\n)\";\n",
       "                var nbb_cells = Jupyter.notebook.get_cells();\n",
       "                for (var i = 0; i < nbb_cells.length; ++i) {\n",
       "                    if (nbb_cells[i].input_prompt_number == nbb_cell_id) {\n",
       "                        if (nbb_cells[i].get_text() == nbb_unformatted_code) {\n",
       "                             nbb_cells[i].set_text(nbb_formatted_code);\n",
       "                        }\n",
       "                        break;\n",
       "                    }\n",
       "                }\n",
       "            }, 500);\n",
       "            "
      ],
      "text/plain": [
       "<IPython.core.display.Javascript object>"
      ]
     },
     "metadata": {},
     "output_type": "display_data"
    }
   ],
   "source": [
    "f, (ax1, ax2) = plt.subplots(1, 2, figsize=(12, 4))\n",
    "\n",
    "ax1.scatter(\n",
    "    df_eval_b1[\"predprob\"],\n",
    "    df_eval_b1[\"test\"] + np.random.normal(0, 0.025, len(df_eval_b1)),\n",
    "    facecolors=\"none\",\n",
    "    edgecolors=\"black\",\n",
    ")\n",
    "\n",
    "ax2.scatter(\n",
    "    df_eval_b2[\"predprob\"],\n",
    "    df_eval_b2[\"test\"] + np.random.normal(0, 0.025, len(df_eval_b2)),\n",
    "    facecolors=\"none\",\n",
    "    edgecolors=\"black\",\n",
    ")"
   ]
  },
  {
   "cell_type": "code",
   "execution_count": 730,
   "metadata": {
    "ExecuteTime": {
     "end_time": "2020-01-30T00:45:16.053872Z",
     "start_time": "2020-01-30T00:45:16.040539Z"
    }
   },
   "outputs": [
    {
     "name": "stdout",
     "output_type": "stream",
     "text": [
      "Player 1 coefficients:  [[-0.18090405  0.03527459  0.19690786]]\n",
      "Player 2 coefficients:  [[-0.03456852  0.34511474 -0.40894548]]\n"
     ]
    },
    {
     "data": {
      "application/javascript": [
       "\n",
       "            setTimeout(function() {\n",
       "                var nbb_cell_id = 730;\n",
       "                var nbb_unformatted_code = \"print(\\\"Player 1 coefficients: \\\", log_reg_b1.coef_)\\nprint(\\\"Player 2 coefficients: \\\", log_reg_b2.coef_)\";\n",
       "                var nbb_formatted_code = \"print(\\\"Player 1 coefficients: \\\", log_reg_b1.coef_)\\nprint(\\\"Player 2 coefficients: \\\", log_reg_b2.coef_)\";\n",
       "                var nbb_cells = Jupyter.notebook.get_cells();\n",
       "                for (var i = 0; i < nbb_cells.length; ++i) {\n",
       "                    if (nbb_cells[i].input_prompt_number == nbb_cell_id) {\n",
       "                        if (nbb_cells[i].get_text() == nbb_unformatted_code) {\n",
       "                             nbb_cells[i].set_text(nbb_formatted_code);\n",
       "                        }\n",
       "                        break;\n",
       "                    }\n",
       "                }\n",
       "            }, 500);\n",
       "            "
      ],
      "text/plain": [
       "<IPython.core.display.Javascript object>"
      ]
     },
     "metadata": {},
     "output_type": "display_data"
    }
   ],
   "source": [
    "print(\"Player 1 coefficients: \", log_reg_b1.coef_)\n",
    "print(\"Player 2 coefficients: \", log_reg_b2.coef_)"
   ]
  },
  {
   "cell_type": "code",
   "execution_count": 456,
   "metadata": {
    "ExecuteTime": {
     "end_time": "2020-01-29T18:39:20.523388Z",
     "start_time": "2020-01-29T18:39:20.517364Z"
    }
   },
   "outputs": [
    {
     "data": {
      "application/javascript": [
       "\n",
       "            setTimeout(function() {\n",
       "                var nbb_cell_id = 456;\n",
       "                var nbb_unformatted_code = \"# INPUT HANDEDNESS CORRECTLY - it's transformed\\n\\n# L -1.41421356\\n# R 0.70710678\";\n",
       "                var nbb_formatted_code = \"# INPUT HANDEDNESS CORRECTLY - it's transformed\\n\\n# L -1.41421356\\n# R 0.70710678\";\n",
       "                var nbb_cells = Jupyter.notebook.get_cells();\n",
       "                for (var i = 0; i < nbb_cells.length; ++i) {\n",
       "                    if (nbb_cells[i].input_prompt_number == nbb_cell_id) {\n",
       "                        if (nbb_cells[i].get_text() == nbb_unformatted_code) {\n",
       "                             nbb_cells[i].set_text(nbb_formatted_code);\n",
       "                        }\n",
       "                        break;\n",
       "                    }\n",
       "                }\n",
       "            }, 500);\n",
       "            "
      ],
      "text/plain": [
       "<IPython.core.display.Javascript object>"
      ]
     },
     "metadata": {},
     "output_type": "display_data"
    }
   ],
   "source": [
    "# INPUT HANDEDNESS CORRECTLY - it's transformed\n",
    "\n",
    "# L -1.41421356\n",
    "# R 0.70710678\n"
   ]
  },
  {
   "cell_type": "markdown",
   "metadata": {},
   "source": [
    "## Output for new case - check this"
   ]
  },
  {
   "cell_type": "code",
   "execution_count": 731,
   "metadata": {
    "ExecuteTime": {
     "end_time": "2020-01-30T00:45:24.699438Z",
     "start_time": "2020-01-30T00:45:24.673702Z"
    }
   },
   "outputs": [
    {
     "data": {
      "application/javascript": [
       "\n",
       "            setTimeout(function() {\n",
       "                var nbb_cell_id = 731;\n",
       "                var nbb_unformatted_code = \"# \\\"Day of\\\" data was extracted above\\n\\n# col4model = [\\\"event_code\\\", \\\"p_throws\\\", \\\"prop_events_nback\\\", \\\"prop_events_sum_nback_pt\\\"]\\n# This variable was already assigned above - just put here as a reminder\\n\\n# Get up to last 3 at-bats for the input\\ndf4model_dayof_4model_b1 = df4model_dayof_b1[col4model].iloc[-3:, :].copy()\\ndf4model_dayof_4model_b2 = df4model_dayof_b2[col4model].iloc[-3:, :].copy()\\n\\n# replace categorical input\\ndf4model_dayof_4model_b1[\\\"p_throws\\\"].replace({\\\"L\\\": 0, \\\"R\\\": 1}, inplace=True)\\ndf4model_dayof_4model_b2[\\\"p_throws\\\"].replace({\\\"L\\\": 0, \\\"R\\\": 1}, inplace=True)\";\n",
       "                var nbb_formatted_code = \"# \\\"Day of\\\" data was extracted above\\n\\n# col4model = [\\\"event_code\\\", \\\"p_throws\\\", \\\"prop_events_nback\\\", \\\"prop_events_sum_nback_pt\\\"]\\n# This variable was already assigned above - just put here as a reminder\\n\\n# Get up to last 3 at-bats for the input\\ndf4model_dayof_4model_b1 = df4model_dayof_b1[col4model].iloc[-3:, :].copy()\\ndf4model_dayof_4model_b2 = df4model_dayof_b2[col4model].iloc[-3:, :].copy()\\n\\n# replace categorical input\\ndf4model_dayof_4model_b1[\\\"p_throws\\\"].replace({\\\"L\\\": 0, \\\"R\\\": 1}, inplace=True)\\ndf4model_dayof_4model_b2[\\\"p_throws\\\"].replace({\\\"L\\\": 0, \\\"R\\\": 1}, inplace=True)\";\n",
       "                var nbb_cells = Jupyter.notebook.get_cells();\n",
       "                for (var i = 0; i < nbb_cells.length; ++i) {\n",
       "                    if (nbb_cells[i].input_prompt_number == nbb_cell_id) {\n",
       "                        if (nbb_cells[i].get_text() == nbb_unformatted_code) {\n",
       "                             nbb_cells[i].set_text(nbb_formatted_code);\n",
       "                        }\n",
       "                        break;\n",
       "                    }\n",
       "                }\n",
       "            }, 500);\n",
       "            "
      ],
      "text/plain": [
       "<IPython.core.display.Javascript object>"
      ]
     },
     "metadata": {},
     "output_type": "display_data"
    }
   ],
   "source": [
    "# \"Day of\" data was extracted above\n",
    "\n",
    "# col4model = [\"event_code\", \"p_throws\", \"prop_events_nback\", \"prop_events_sum_nback_pt\"]\n",
    "# This variable was already assigned above - just put here as a reminder\n",
    "\n",
    "# Get up to last 3 at-bats for the input\n",
    "df4model_dayof_4model_b1 = df4model_dayof_b1[col4model].iloc[-3:, :].copy()\n",
    "df4model_dayof_4model_b2 = df4model_dayof_b2[col4model].iloc[-3:, :].copy()\n",
    "\n",
    "# replace categorical input\n",
    "df4model_dayof_4model_b1[\"p_throws\"].replace({\"L\": 0, \"R\": 1}, inplace=True)\n",
    "df4model_dayof_4model_b2[\"p_throws\"].replace({\"L\": 0, \"R\": 1}, inplace=True)"
   ]
  },
  {
   "cell_type": "markdown",
   "metadata": {},
   "source": [
    "### Predict and compare to real performance"
   ]
  },
  {
   "cell_type": "code",
   "execution_count": 734,
   "metadata": {
    "ExecuteTime": {
     "end_time": "2020-01-30T00:45:48.693277Z",
     "start_time": "2020-01-30T00:45:48.680190Z"
    }
   },
   "outputs": [
    {
     "data": {
      "text/html": [
       "<div>\n",
       "<style scoped>\n",
       "    .dataframe tbody tr th:only-of-type {\n",
       "        vertical-align: middle;\n",
       "    }\n",
       "\n",
       "    .dataframe tbody tr th {\n",
       "        vertical-align: top;\n",
       "    }\n",
       "\n",
       "    .dataframe thead th {\n",
       "        text-align: right;\n",
       "    }\n",
       "</style>\n",
       "<table border=\"1\" class=\"dataframe\">\n",
       "  <thead>\n",
       "    <tr style=\"text-align: right;\">\n",
       "      <th></th>\n",
       "      <th>event_code</th>\n",
       "      <th>p_throws</th>\n",
       "      <th>prop_events_nback</th>\n",
       "      <th>prop_events_sum_nback_pt</th>\n",
       "    </tr>\n",
       "  </thead>\n",
       "  <tbody>\n",
       "    <tr>\n",
       "      <th>2</th>\n",
       "      <td>1</td>\n",
       "      <td>1</td>\n",
       "      <td>0.38</td>\n",
       "      <td>0.33</td>\n",
       "    </tr>\n",
       "    <tr>\n",
       "      <th>3</th>\n",
       "      <td>1</td>\n",
       "      <td>1</td>\n",
       "      <td>0.37</td>\n",
       "      <td>0.32</td>\n",
       "    </tr>\n",
       "    <tr>\n",
       "      <th>4</th>\n",
       "      <td>1</td>\n",
       "      <td>1</td>\n",
       "      <td>0.36</td>\n",
       "      <td>0.31</td>\n",
       "    </tr>\n",
       "  </tbody>\n",
       "</table>\n",
       "</div>"
      ],
      "text/plain": [
       "   event_code  p_throws  prop_events_nback  prop_events_sum_nback_pt\n",
       "2           1         1               0.38                      0.33\n",
       "3           1         1               0.37                      0.32\n",
       "4           1         1               0.36                      0.31"
      ]
     },
     "execution_count": 734,
     "metadata": {},
     "output_type": "execute_result"
    },
    {
     "data": {
      "application/javascript": [
       "\n",
       "            setTimeout(function() {\n",
       "                var nbb_cell_id = 734;\n",
       "                var nbb_unformatted_code = \"df4model_dayof_4model_b1\";\n",
       "                var nbb_formatted_code = \"df4model_dayof_4model_b1\";\n",
       "                var nbb_cells = Jupyter.notebook.get_cells();\n",
       "                for (var i = 0; i < nbb_cells.length; ++i) {\n",
       "                    if (nbb_cells[i].input_prompt_number == nbb_cell_id) {\n",
       "                        if (nbb_cells[i].get_text() == nbb_unformatted_code) {\n",
       "                             nbb_cells[i].set_text(nbb_formatted_code);\n",
       "                        }\n",
       "                        break;\n",
       "                    }\n",
       "                }\n",
       "            }, 500);\n",
       "            "
      ],
      "text/plain": [
       "<IPython.core.display.Javascript object>"
      ]
     },
     "metadata": {},
     "output_type": "display_data"
    }
   ],
   "source": [
    "df4model_dayof_4model_b1"
   ]
  },
  {
   "cell_type": "code",
   "execution_count": 735,
   "metadata": {
    "ExecuteTime": {
     "end_time": "2020-01-30T00:45:50.727091Z",
     "start_time": "2020-01-30T00:45:50.712910Z"
    }
   },
   "outputs": [
    {
     "data": {
      "text/html": [
       "<div>\n",
       "<style scoped>\n",
       "    .dataframe tbody tr th:only-of-type {\n",
       "        vertical-align: middle;\n",
       "    }\n",
       "\n",
       "    .dataframe tbody tr th {\n",
       "        vertical-align: top;\n",
       "    }\n",
       "\n",
       "    .dataframe thead th {\n",
       "        text-align: right;\n",
       "    }\n",
       "</style>\n",
       "<table border=\"1\" class=\"dataframe\">\n",
       "  <thead>\n",
       "    <tr style=\"text-align: right;\">\n",
       "      <th></th>\n",
       "      <th>event_code</th>\n",
       "      <th>p_throws</th>\n",
       "      <th>prop_events_nback</th>\n",
       "      <th>prop_events_sum_nback_pt</th>\n",
       "    </tr>\n",
       "  </thead>\n",
       "  <tbody>\n",
       "    <tr>\n",
       "      <th>2</th>\n",
       "      <td>0</td>\n",
       "      <td>1</td>\n",
       "      <td>0.22</td>\n",
       "      <td>0.24</td>\n",
       "    </tr>\n",
       "    <tr>\n",
       "      <th>3</th>\n",
       "      <td>0</td>\n",
       "      <td>1</td>\n",
       "      <td>0.23</td>\n",
       "      <td>0.25</td>\n",
       "    </tr>\n",
       "    <tr>\n",
       "      <th>4</th>\n",
       "      <td>1</td>\n",
       "      <td>1</td>\n",
       "      <td>0.23</td>\n",
       "      <td>0.24</td>\n",
       "    </tr>\n",
       "  </tbody>\n",
       "</table>\n",
       "</div>"
      ],
      "text/plain": [
       "   event_code  p_throws  prop_events_nback  prop_events_sum_nback_pt\n",
       "2           0         1               0.22                      0.24\n",
       "3           0         1               0.23                      0.25\n",
       "4           1         1               0.23                      0.24"
      ]
     },
     "execution_count": 735,
     "metadata": {},
     "output_type": "execute_result"
    },
    {
     "data": {
      "application/javascript": [
       "\n",
       "            setTimeout(function() {\n",
       "                var nbb_cell_id = 735;\n",
       "                var nbb_unformatted_code = \"df4model_dayof_4model_b2\";\n",
       "                var nbb_formatted_code = \"df4model_dayof_4model_b2\";\n",
       "                var nbb_cells = Jupyter.notebook.get_cells();\n",
       "                for (var i = 0; i < nbb_cells.length; ++i) {\n",
       "                    if (nbb_cells[i].input_prompt_number == nbb_cell_id) {\n",
       "                        if (nbb_cells[i].get_text() == nbb_unformatted_code) {\n",
       "                             nbb_cells[i].set_text(nbb_formatted_code);\n",
       "                        }\n",
       "                        break;\n",
       "                    }\n",
       "                }\n",
       "            }, 500);\n",
       "            "
      ],
      "text/plain": [
       "<IPython.core.display.Javascript object>"
      ]
     },
     "metadata": {},
     "output_type": "display_data"
    }
   ],
   "source": [
    "df4model_dayof_4model_b2"
   ]
  },
  {
   "cell_type": "code",
   "execution_count": 746,
   "metadata": {
    "ExecuteTime": {
     "end_time": "2020-01-30T00:48:00.411799Z",
     "start_time": "2020-01-30T00:48:00.371219Z"
    },
    "code_folding": []
   },
   "outputs": [
    {
     "data": {
      "application/javascript": [
       "\n",
       "            setTimeout(function() {\n",
       "                var nbb_cell_id = 746;\n",
       "                var nbb_unformatted_code = \"def return_series_of_player_prediction(\\n    df4model_dayof_b1, df4model_dayof_b2, log_reg_b1, log_reg_b2\\n):\\n    s_new_case = pd.Series()\\n\\n    df4model_dayof_b1 = df4model_dayof_4model_b1.copy()\\n    df4model_dayof_b2 = df4model_dayof_4model_b2.copy()\\n\\n    # actual performance\\n    s_new_case[\\\"actual_performance_batterA\\\"] = df4model_dayof_b1.reset_index()[\\n        \\\"event_code\\\"\\n    ].mean()\\n    s_new_case[\\\"actual_performance_batterB\\\"] = df4model_dayof_b2.reset_index()[\\n        \\\"event_code\\\"\\n    ].mean()\\n\\n    # ADD VARIANCE - TBD\\n    s_new_case[\\\"pred_var_batterA\\\"] = None\\n    s_new_case[\\\"pred_var_batterB\\\"] = None\\n\\n    # vs actual pitcher\\n    s_new_case[\\\"pred_vs_gamepitcher_batterA\\\"] = log_reg_b1.predict_proba(\\n        df4model_dayof_b1.iloc[:, 1:]\\n    )[:, 1].mean()\\n\\n    s_new_case[\\\"pred_vs_gamepitcher_batterB\\\"] = log_reg_b2.predict_proba(\\n        df4model_dayof_b2.iloc[:, 1:]\\n    )[:, 1].mean()\\n\\n    # Prediction\\n    if (\\n        s_new_case[\\\"pred_vs_gamepitcher_batterA\\\"]\\n        > s_new_case[\\\"pred_vs_gamepitcher_batterB\\\"]\\n    ):\\n        predict_for_day = \\\"predict_A\\\"\\n    else:\\n        predict_for_day = \\\"predict_B\\\"\\n\\n    # Actual case\\n    if (\\n        s_new_case[\\\"actual_performance_batterA\\\"]\\n        > s_new_case[\\\"actual_performance_batterB\\\"]\\n    ):\\n        actual_for_day = \\\"actual_A\\\"\\n    else:\\n        actual_for_day = \\\"actual_B\\\"\\n\\n    validation_entries = (\\n        date_of_interest,\\n        pid_of_interest1,\\n        pid_of_interest2,\\n        predict_for_day,\\n        actual_for_day,\\n    )\\n\\n    return s_new_case, validation_entries\";\n",
       "                var nbb_formatted_code = \"def return_series_of_player_prediction(\\n    df4model_dayof_b1, df4model_dayof_b2, log_reg_b1, log_reg_b2\\n):\\n    s_new_case = pd.Series()\\n\\n    df4model_dayof_b1 = df4model_dayof_4model_b1.copy()\\n    df4model_dayof_b2 = df4model_dayof_4model_b2.copy()\\n\\n    # actual performance\\n    s_new_case[\\\"actual_performance_batterA\\\"] = df4model_dayof_b1.reset_index()[\\n        \\\"event_code\\\"\\n    ].mean()\\n    s_new_case[\\\"actual_performance_batterB\\\"] = df4model_dayof_b2.reset_index()[\\n        \\\"event_code\\\"\\n    ].mean()\\n\\n    # ADD VARIANCE - TBD\\n    s_new_case[\\\"pred_var_batterA\\\"] = None\\n    s_new_case[\\\"pred_var_batterB\\\"] = None\\n\\n    # vs actual pitcher\\n    s_new_case[\\\"pred_vs_gamepitcher_batterA\\\"] = log_reg_b1.predict_proba(\\n        df4model_dayof_b1.iloc[:, 1:]\\n    )[:, 1].mean()\\n\\n    s_new_case[\\\"pred_vs_gamepitcher_batterB\\\"] = log_reg_b2.predict_proba(\\n        df4model_dayof_b2.iloc[:, 1:]\\n    )[:, 1].mean()\\n\\n    # Prediction\\n    if (\\n        s_new_case[\\\"pred_vs_gamepitcher_batterA\\\"]\\n        > s_new_case[\\\"pred_vs_gamepitcher_batterB\\\"]\\n    ):\\n        predict_for_day = \\\"predict_A\\\"\\n    else:\\n        predict_for_day = \\\"predict_B\\\"\\n\\n    # Actual case\\n    if (\\n        s_new_case[\\\"actual_performance_batterA\\\"]\\n        > s_new_case[\\\"actual_performance_batterB\\\"]\\n    ):\\n        actual_for_day = \\\"actual_A\\\"\\n    else:\\n        actual_for_day = \\\"actual_B\\\"\\n\\n    validation_entries = (\\n        date_of_interest,\\n        pid_of_interest1,\\n        pid_of_interest2,\\n        predict_for_day,\\n        actual_for_day,\\n    )\\n\\n    return s_new_case, validation_entries\";\n",
       "                var nbb_cells = Jupyter.notebook.get_cells();\n",
       "                for (var i = 0; i < nbb_cells.length; ++i) {\n",
       "                    if (nbb_cells[i].input_prompt_number == nbb_cell_id) {\n",
       "                        if (nbb_cells[i].get_text() == nbb_unformatted_code) {\n",
       "                             nbb_cells[i].set_text(nbb_formatted_code);\n",
       "                        }\n",
       "                        break;\n",
       "                    }\n",
       "                }\n",
       "            }, 500);\n",
       "            "
      ],
      "text/plain": [
       "<IPython.core.display.Javascript object>"
      ]
     },
     "metadata": {},
     "output_type": "display_data"
    }
   ],
   "source": [
    "def return_series_of_player_prediction(\n",
    "    df4model_dayof_b1, df4model_dayof_b2, log_reg_b1, log_reg_b2\n",
    "):\n",
    "    s_new_case = pd.Series()\n",
    "\n",
    "    df4model_dayof_b1 = df4model_dayof_4model_b1.copy()\n",
    "    df4model_dayof_b2 = df4model_dayof_4model_b2.copy()\n",
    "\n",
    "    # actual performance\n",
    "    s_new_case[\"actual_performance_batterA\"] = df4model_dayof_b1.reset_index()[\n",
    "        \"event_code\"\n",
    "    ].mean()\n",
    "    s_new_case[\"actual_performance_batterB\"] = df4model_dayof_b2.reset_index()[\n",
    "        \"event_code\"\n",
    "    ].mean()\n",
    "\n",
    "    # ADD VARIANCE - TBD\n",
    "    s_new_case[\"pred_var_batterA\"] = None\n",
    "    s_new_case[\"pred_var_batterB\"] = None\n",
    "\n",
    "    # vs actual pitcher\n",
    "    s_new_case[\"pred_vs_gamepitcher_batterA\"] = log_reg_b1.predict_proba(\n",
    "        df4model_dayof_b1.iloc[:, 1:]\n",
    "    )[:, 1].mean()\n",
    "\n",
    "    s_new_case[\"pred_vs_gamepitcher_batterB\"] = log_reg_b2.predict_proba(\n",
    "        df4model_dayof_b2.iloc[:, 1:]\n",
    "    )[:, 1].mean()\n",
    "\n",
    "    # Prediction\n",
    "    if (\n",
    "        s_new_case[\"pred_vs_gamepitcher_batterA\"]\n",
    "        > s_new_case[\"pred_vs_gamepitcher_batterB\"]\n",
    "    ):\n",
    "        predict_for_day = \"predict_A\"\n",
    "    else:\n",
    "        predict_for_day = \"predict_B\"\n",
    "\n",
    "    # Actual case\n",
    "    if (\n",
    "        s_new_case[\"actual_performance_batterA\"]\n",
    "        > s_new_case[\"actual_performance_batterB\"]\n",
    "    ):\n",
    "        actual_for_day = \"actual_A\"\n",
    "    else:\n",
    "        actual_for_day = \"actual_B\"\n",
    "\n",
    "    validation_entries = (\n",
    "        date_of_interest,\n",
    "        pid_of_interest1,\n",
    "        pid_of_interest2,\n",
    "        predict_for_day,\n",
    "        actual_for_day,\n",
    "    )\n",
    "\n",
    "    return s_new_case, validation_entries"
   ]
  },
  {
   "cell_type": "code",
   "execution_count": 655,
   "metadata": {
    "ExecuteTime": {
     "end_time": "2020-01-30T00:20:53.520738Z",
     "start_time": "2020-01-30T00:20:53.507832Z"
    },
    "code_folding": [
     0
    ]
   },
   "outputs": [
    {
     "data": {
      "application/javascript": [
       "\n",
       "            setTimeout(function() {\n",
       "                var nbb_cell_id = 655;\n",
       "                var nbb_unformatted_code = \"# May not need\\n# def return_df_of_player_prediction(df4model_dayof_b1, df4model_dayof_b2):\\n\\n#     df_new_case = pd.DataFrame()\\n\\n#     # actual performance\\n#     df_new_case[\\\"actual_performance_batterA\\\"] = df4model_dayof_b1.reset_index()[\\n#         \\\"event_code\\\"\\n#     ]\\n#     df_new_case[\\\"actual_performance_batterB\\\"] = df4model_dayof_b2.reset_index()[\\n#         \\\"event_code\\\"\\n#     ]\\n\\n#     # ADD VARIANCE - TBD\\n#     df_new_case[\\\"pred_var_batterA\\\"] = None\\n#     df_new_case[\\\"pred_var_batterB\\\"] = None\\n\\n#     # vs actual pitcher\\n#     df_new_case[\\\"pred_vs_gamepitcher_batterA\\\"] = log_reg_b1.predict_proba(\\n#         df4model_dayof_b1.iloc[:, 1:]\\n#     )[:, 1]\\n\\n#     df_new_case[\\\"pred_vs_gamepitcher_batterB\\\"] = log_reg_b2.predict_proba(\\n#         df4model_dayof_b2.iloc[:, 1:]\\n#     )[:, 1]\\n\\n#     #     # vs LHP pitcher - player A\\n#     #     df_temp_left = df4model_dayof_b1.iloc[:, 1:]\\n#     #     df_temp_left.loc[:, \\\"p_throws\\\"] = [0] * len(df4model_dayof_4model_b1)\\n#     #     df_new_case[\\\"pred_vs_LHP_batterA\\\"] = log_reg_b1.predict_proba(df_temp_left)[:, 1]\\n\\n#     #     # vs LHP pitcher - player B\\n#     #     df_temp_left = df4model_dayof_b2.iloc[:, 1:]\\n#     #     df_temp_left.loc[:, \\\"p_throws\\\"] = [0] * len(df4model_dayof_b2)\\n#     #     df_new_case[\\\"pred_vs_LHP_batterB\\\"] = log_reg_b2.predict_proba(df_temp_left)[:, 1]\\n\\n#     #     # vs RHP pitcher - player A\\n#     #     df_temp_left = df4model_dayof_b1.iloc[:, 1:]\\n#     #     df_temp_left.loc[:, \\\"p_throws\\\"] = [1] * len(df4model_dayof_b1)\\n#     #     df_new_case[\\\"pred_vs_RHP_batterA\\\"] = log_reg_b1.predict_proba(df_temp_left)[:, 1]\\n\\n#     #     # vs RHP pitcher - player B\\n#     #     df_temp_left = df4model_dayof_b2.iloc[:, 1:]\\n#     #     df_temp_left.loc[:, \\\"p_throws\\\"] = [1] * len(df4model_dayof_b2)\\n#     #     df_new_case[\\\"pred_vs_RHP_batterB\\\"] = log_reg_b2.predict_proba(df_temp_left)[:, 1]\\n\\n#     # Prediction\\n#     if (\\n#         df_new_case[\\\"pred_vs_gamepitcher_batterA\\\"].mean()\\n#         > df_new_case[\\\"pred_vs_gamepitcher_batterB\\\"].mean()\\n#     ):\\n#         predict_for_day = \\\"predict_A\\\"\\n#     else:\\n#         predict_for_day = \\\"predict_B\\\"\\n\\n#     # Actual case\\n#     if (\\n#         df_new_case[\\\"actual_performance_batterA\\\"].mean()\\n#         > df_new_case[\\\"actual_performance_batterB\\\"].mean()\\n#     ):\\n#         actual_for_day = \\\"actual_A\\\"\\n#     else:\\n#         actual_for_day = \\\"actual_B\\\"\\n\\n#     validation_entries = (\\n#         date_of_interest,\\n#         pid_of_interest1,\\n#         pid_of_interest2,\\n#         predict_for_day,\\n#         actual_for_day,\\n#     )\\n\\n#     return df_new_case, validation_entries\";\n",
       "                var nbb_formatted_code = \"# May not need\\n# def return_df_of_player_prediction(df4model_dayof_b1, df4model_dayof_b2):\\n\\n#     df_new_case = pd.DataFrame()\\n\\n#     # actual performance\\n#     df_new_case[\\\"actual_performance_batterA\\\"] = df4model_dayof_b1.reset_index()[\\n#         \\\"event_code\\\"\\n#     ]\\n#     df_new_case[\\\"actual_performance_batterB\\\"] = df4model_dayof_b2.reset_index()[\\n#         \\\"event_code\\\"\\n#     ]\\n\\n#     # ADD VARIANCE - TBD\\n#     df_new_case[\\\"pred_var_batterA\\\"] = None\\n#     df_new_case[\\\"pred_var_batterB\\\"] = None\\n\\n#     # vs actual pitcher\\n#     df_new_case[\\\"pred_vs_gamepitcher_batterA\\\"] = log_reg_b1.predict_proba(\\n#         df4model_dayof_b1.iloc[:, 1:]\\n#     )[:, 1]\\n\\n#     df_new_case[\\\"pred_vs_gamepitcher_batterB\\\"] = log_reg_b2.predict_proba(\\n#         df4model_dayof_b2.iloc[:, 1:]\\n#     )[:, 1]\\n\\n#     #     # vs LHP pitcher - player A\\n#     #     df_temp_left = df4model_dayof_b1.iloc[:, 1:]\\n#     #     df_temp_left.loc[:, \\\"p_throws\\\"] = [0] * len(df4model_dayof_4model_b1)\\n#     #     df_new_case[\\\"pred_vs_LHP_batterA\\\"] = log_reg_b1.predict_proba(df_temp_left)[:, 1]\\n\\n#     #     # vs LHP pitcher - player B\\n#     #     df_temp_left = df4model_dayof_b2.iloc[:, 1:]\\n#     #     df_temp_left.loc[:, \\\"p_throws\\\"] = [0] * len(df4model_dayof_b2)\\n#     #     df_new_case[\\\"pred_vs_LHP_batterB\\\"] = log_reg_b2.predict_proba(df_temp_left)[:, 1]\\n\\n#     #     # vs RHP pitcher - player A\\n#     #     df_temp_left = df4model_dayof_b1.iloc[:, 1:]\\n#     #     df_temp_left.loc[:, \\\"p_throws\\\"] = [1] * len(df4model_dayof_b1)\\n#     #     df_new_case[\\\"pred_vs_RHP_batterA\\\"] = log_reg_b1.predict_proba(df_temp_left)[:, 1]\\n\\n#     #     # vs RHP pitcher - player B\\n#     #     df_temp_left = df4model_dayof_b2.iloc[:, 1:]\\n#     #     df_temp_left.loc[:, \\\"p_throws\\\"] = [1] * len(df4model_dayof_b2)\\n#     #     df_new_case[\\\"pred_vs_RHP_batterB\\\"] = log_reg_b2.predict_proba(df_temp_left)[:, 1]\\n\\n#     # Prediction\\n#     if (\\n#         df_new_case[\\\"pred_vs_gamepitcher_batterA\\\"].mean()\\n#         > df_new_case[\\\"pred_vs_gamepitcher_batterB\\\"].mean()\\n#     ):\\n#         predict_for_day = \\\"predict_A\\\"\\n#     else:\\n#         predict_for_day = \\\"predict_B\\\"\\n\\n#     # Actual case\\n#     if (\\n#         df_new_case[\\\"actual_performance_batterA\\\"].mean()\\n#         > df_new_case[\\\"actual_performance_batterB\\\"].mean()\\n#     ):\\n#         actual_for_day = \\\"actual_A\\\"\\n#     else:\\n#         actual_for_day = \\\"actual_B\\\"\\n\\n#     validation_entries = (\\n#         date_of_interest,\\n#         pid_of_interest1,\\n#         pid_of_interest2,\\n#         predict_for_day,\\n#         actual_for_day,\\n#     )\\n\\n#     return df_new_case, validation_entries\";\n",
       "                var nbb_cells = Jupyter.notebook.get_cells();\n",
       "                for (var i = 0; i < nbb_cells.length; ++i) {\n",
       "                    if (nbb_cells[i].input_prompt_number == nbb_cell_id) {\n",
       "                        if (nbb_cells[i].get_text() == nbb_unformatted_code) {\n",
       "                             nbb_cells[i].set_text(nbb_formatted_code);\n",
       "                        }\n",
       "                        break;\n",
       "                    }\n",
       "                }\n",
       "            }, 500);\n",
       "            "
      ],
      "text/plain": [
       "<IPython.core.display.Javascript object>"
      ]
     },
     "metadata": {},
     "output_type": "display_data"
    }
   ],
   "source": [
    "# May not need\n",
    "# def return_df_of_player_prediction(df4model_dayof_b1, df4model_dayof_b2):\n",
    "\n",
    "#     df_new_case = pd.DataFrame()\n",
    "\n",
    "#     # actual performance\n",
    "#     df_new_case[\"actual_performance_batterA\"] = df4model_dayof_b1.reset_index()[\n",
    "#         \"event_code\"\n",
    "#     ]\n",
    "#     df_new_case[\"actual_performance_batterB\"] = df4model_dayof_b2.reset_index()[\n",
    "#         \"event_code\"\n",
    "#     ]\n",
    "\n",
    "#     # ADD VARIANCE - TBD\n",
    "#     df_new_case[\"pred_var_batterA\"] = None\n",
    "#     df_new_case[\"pred_var_batterB\"] = None\n",
    "\n",
    "#     # vs actual pitcher\n",
    "#     df_new_case[\"pred_vs_gamepitcher_batterA\"] = log_reg_b1.predict_proba(\n",
    "#         df4model_dayof_b1.iloc[:, 1:]\n",
    "#     )[:, 1]\n",
    "\n",
    "#     df_new_case[\"pred_vs_gamepitcher_batterB\"] = log_reg_b2.predict_proba(\n",
    "#         df4model_dayof_b2.iloc[:, 1:]\n",
    "#     )[:, 1]\n",
    "\n",
    "#     #     # vs LHP pitcher - player A\n",
    "#     #     df_temp_left = df4model_dayof_b1.iloc[:, 1:]\n",
    "#     #     df_temp_left.loc[:, \"p_throws\"] = [0] * len(df4model_dayof_4model_b1)\n",
    "#     #     df_new_case[\"pred_vs_LHP_batterA\"] = log_reg_b1.predict_proba(df_temp_left)[:, 1]\n",
    "\n",
    "#     #     # vs LHP pitcher - player B\n",
    "#     #     df_temp_left = df4model_dayof_b2.iloc[:, 1:]\n",
    "#     #     df_temp_left.loc[:, \"p_throws\"] = [0] * len(df4model_dayof_b2)\n",
    "#     #     df_new_case[\"pred_vs_LHP_batterB\"] = log_reg_b2.predict_proba(df_temp_left)[:, 1]\n",
    "\n",
    "#     #     # vs RHP pitcher - player A\n",
    "#     #     df_temp_left = df4model_dayof_b1.iloc[:, 1:]\n",
    "#     #     df_temp_left.loc[:, \"p_throws\"] = [1] * len(df4model_dayof_b1)\n",
    "#     #     df_new_case[\"pred_vs_RHP_batterA\"] = log_reg_b1.predict_proba(df_temp_left)[:, 1]\n",
    "\n",
    "#     #     # vs RHP pitcher - player B\n",
    "#     #     df_temp_left = df4model_dayof_b2.iloc[:, 1:]\n",
    "#     #     df_temp_left.loc[:, \"p_throws\"] = [1] * len(df4model_dayof_b2)\n",
    "#     #     df_new_case[\"pred_vs_RHP_batterB\"] = log_reg_b2.predict_proba(df_temp_left)[:, 1]\n",
    "\n",
    "#     # Prediction\n",
    "#     if (\n",
    "#         df_new_case[\"pred_vs_gamepitcher_batterA\"].mean()\n",
    "#         > df_new_case[\"pred_vs_gamepitcher_batterB\"].mean()\n",
    "#     ):\n",
    "#         predict_for_day = \"predict_A\"\n",
    "#     else:\n",
    "#         predict_for_day = \"predict_B\"\n",
    "\n",
    "#     # Actual case\n",
    "#     if (\n",
    "#         df_new_case[\"actual_performance_batterA\"].mean()\n",
    "#         > df_new_case[\"actual_performance_batterB\"].mean()\n",
    "#     ):\n",
    "#         actual_for_day = \"actual_A\"\n",
    "#     else:\n",
    "#         actual_for_day = \"actual_B\"\n",
    "\n",
    "#     validation_entries = (\n",
    "#         date_of_interest,\n",
    "#         pid_of_interest1,\n",
    "#         pid_of_interest2,\n",
    "#         predict_for_day,\n",
    "#         actual_for_day,\n",
    "#     )\n",
    "\n",
    "#     return df_new_case, validation_entries"
   ]
  },
  {
   "cell_type": "code",
   "execution_count": 737,
   "metadata": {
    "ExecuteTime": {
     "end_time": "2020-01-30T00:46:06.884629Z",
     "start_time": "2020-01-30T00:46:06.857965Z"
    }
   },
   "outputs": [
    {
     "data": {
      "text/plain": [
       "(actual_performance_batterA            1\n",
       " actual_performance_batterB     0.333333\n",
       " pred_var_batterA                   None\n",
       " pred_var_batterB                   None\n",
       " pred_vs_gamepitcher_batterA    0.310539\n",
       " pred_vs_gamepitcher_batterB    0.231098\n",
       " dtype: object, (\"'2019-09-04'\", 605141, 544725, 'predict_A', 'actual_A'))"
      ]
     },
     "execution_count": 737,
     "metadata": {},
     "output_type": "execute_result"
    },
    {
     "data": {
      "application/javascript": [
       "\n",
       "            setTimeout(function() {\n",
       "                var nbb_cell_id = 737;\n",
       "                var nbb_unformatted_code = \"return_series_of_player_prediction(\\n    df4model_dayof_4model_b1, df4model_dayof_4model_b2, log_reg_b1, log_reg_b2\\n)\";\n",
       "                var nbb_formatted_code = \"return_series_of_player_prediction(\\n    df4model_dayof_4model_b1, df4model_dayof_4model_b2, log_reg_b1, log_reg_b2\\n)\";\n",
       "                var nbb_cells = Jupyter.notebook.get_cells();\n",
       "                for (var i = 0; i < nbb_cells.length; ++i) {\n",
       "                    if (nbb_cells[i].input_prompt_number == nbb_cell_id) {\n",
       "                        if (nbb_cells[i].get_text() == nbb_unformatted_code) {\n",
       "                             nbb_cells[i].set_text(nbb_formatted_code);\n",
       "                        }\n",
       "                        break;\n",
       "                    }\n",
       "                }\n",
       "            }, 500);\n",
       "            "
      ],
      "text/plain": [
       "<IPython.core.display.Javascript object>"
      ]
     },
     "metadata": {},
     "output_type": "display_data"
    }
   ],
   "source": [
    "return_series_of_player_prediction(\n",
    "    df4model_dayof_4model_b1, df4model_dayof_4model_b2, log_reg_b1, log_reg_b2\n",
    ")"
   ]
  },
  {
   "cell_type": "markdown",
   "metadata": {},
   "source": [
    "## Assessments"
   ]
  },
  {
   "cell_type": "code",
   "execution_count": 738,
   "metadata": {
    "ExecuteTime": {
     "end_time": "2020-01-30T00:46:12.163539Z",
     "start_time": "2020-01-30T00:46:12.150016Z"
    }
   },
   "outputs": [
    {
     "data": {
      "text/plain": [
       "0.625"
      ]
     },
     "execution_count": 738,
     "metadata": {},
     "output_type": "execute_result"
    },
    {
     "data": {
      "application/javascript": [
       "\n",
       "            setTimeout(function() {\n",
       "                var nbb_cell_id = 738;\n",
       "                var nbb_unformatted_code = \"# Look at r2 value  - predicts variance - but there's lots of zeros\\n\\nlog_reg_p1.score(X_train_scale_p1, y_train_p1)\";\n",
       "                var nbb_formatted_code = \"# Look at r2 value  - predicts variance - but there's lots of zeros\\n\\nlog_reg_p1.score(X_train_scale_p1, y_train_p1)\";\n",
       "                var nbb_cells = Jupyter.notebook.get_cells();\n",
       "                for (var i = 0; i < nbb_cells.length; ++i) {\n",
       "                    if (nbb_cells[i].input_prompt_number == nbb_cell_id) {\n",
       "                        if (nbb_cells[i].get_text() == nbb_unformatted_code) {\n",
       "                             nbb_cells[i].set_text(nbb_formatted_code);\n",
       "                        }\n",
       "                        break;\n",
       "                    }\n",
       "                }\n",
       "            }, 500);\n",
       "            "
      ],
      "text/plain": [
       "<IPython.core.display.Javascript object>"
      ]
     },
     "metadata": {},
     "output_type": "display_data"
    }
   ],
   "source": [
    "# Look at r2 value  - predicts variance - but there's lots of zeros\n",
    "\n",
    "log_reg_p1.score(X_train_scale_p1, y_train_p1)"
   ]
  },
  {
   "cell_type": "code",
   "execution_count": 739,
   "metadata": {
    "ExecuteTime": {
     "end_time": "2020-01-30T00:46:15.304597Z",
     "start_time": "2020-01-30T00:46:15.293184Z"
    }
   },
   "outputs": [
    {
     "data": {
      "text/plain": [
       "0.6172839506172839"
      ]
     },
     "execution_count": 739,
     "metadata": {},
     "output_type": "execute_result"
    },
    {
     "data": {
      "application/javascript": [
       "\n",
       "            setTimeout(function() {\n",
       "                var nbb_cell_id = 739;\n",
       "                var nbb_unformatted_code = \"log_reg_p1.score(X_test_scale_p1, y_test_p1)\";\n",
       "                var nbb_formatted_code = \"log_reg_p1.score(X_test_scale_p1, y_test_p1)\";\n",
       "                var nbb_cells = Jupyter.notebook.get_cells();\n",
       "                for (var i = 0; i < nbb_cells.length; ++i) {\n",
       "                    if (nbb_cells[i].input_prompt_number == nbb_cell_id) {\n",
       "                        if (nbb_cells[i].get_text() == nbb_unformatted_code) {\n",
       "                             nbb_cells[i].set_text(nbb_formatted_code);\n",
       "                        }\n",
       "                        break;\n",
       "                    }\n",
       "                }\n",
       "            }, 500);\n",
       "            "
      ],
      "text/plain": [
       "<IPython.core.display.Javascript object>"
      ]
     },
     "metadata": {},
     "output_type": "display_data"
    }
   ],
   "source": [
    "log_reg_p1.score(X_test_scale_p1, y_test_p1)"
   ]
  },
  {
   "cell_type": "code",
   "execution_count": 740,
   "metadata": {
    "ExecuteTime": {
     "end_time": "2020-01-30T00:46:17.603249Z",
     "start_time": "2020-01-30T00:46:17.584649Z"
    }
   },
   "outputs": [
    {
     "name": "stdout",
     "output_type": "stream",
     "text": [
      "              precision    recall  f1-score   support\n",
      "\n",
      "           0       0.62      1.00      0.76        50\n",
      "           1       0.00      0.00      0.00        31\n",
      "\n",
      "    accuracy                           0.62        81\n",
      "   macro avg       0.31      0.50      0.38        81\n",
      "weighted avg       0.38      0.62      0.47        81\n",
      "\n"
     ]
    },
    {
     "name": "stderr",
     "output_type": "stream",
     "text": [
      "/Users/lacar/anaconda/envs/insight/lib/python3.6/site-packages/sklearn/metrics/_classification.py:1268: UndefinedMetricWarning: Precision and F-score are ill-defined and being set to 0.0 in labels with no predicted samples. Use `zero_division` parameter to control this behavior.\n",
      "  _warn_prf(average, modifier, msg_start, len(result))\n"
     ]
    },
    {
     "data": {
      "application/javascript": [
       "\n",
       "            setTimeout(function() {\n",
       "                var nbb_cell_id = 740;\n",
       "                var nbb_unformatted_code = \"print(metrics.classification_report(y_test_p1, y_pred_p1))\";\n",
       "                var nbb_formatted_code = \"print(metrics.classification_report(y_test_p1, y_pred_p1))\";\n",
       "                var nbb_cells = Jupyter.notebook.get_cells();\n",
       "                for (var i = 0; i < nbb_cells.length; ++i) {\n",
       "                    if (nbb_cells[i].input_prompt_number == nbb_cell_id) {\n",
       "                        if (nbb_cells[i].get_text() == nbb_unformatted_code) {\n",
       "                             nbb_cells[i].set_text(nbb_formatted_code);\n",
       "                        }\n",
       "                        break;\n",
       "                    }\n",
       "                }\n",
       "            }, 500);\n",
       "            "
      ],
      "text/plain": [
       "<IPython.core.display.Javascript object>"
      ]
     },
     "metadata": {},
     "output_type": "display_data"
    }
   ],
   "source": [
    "print(metrics.classification_report(y_test_p1, y_pred_p1))"
   ]
  },
  {
   "cell_type": "code",
   "execution_count": 741,
   "metadata": {
    "ExecuteTime": {
     "end_time": "2020-01-30T00:46:21.375017Z",
     "start_time": "2020-01-30T00:46:21.362723Z"
    }
   },
   "outputs": [
    {
     "data": {
      "text/plain": [
       "0.725"
      ]
     },
     "execution_count": 741,
     "metadata": {},
     "output_type": "execute_result"
    },
    {
     "data": {
      "application/javascript": [
       "\n",
       "            setTimeout(function() {\n",
       "                var nbb_cell_id = 741;\n",
       "                var nbb_unformatted_code = \"log_reg_p2.score(X_train_scale_p2, y_train_p2)\";\n",
       "                var nbb_formatted_code = \"log_reg_p2.score(X_train_scale_p2, y_train_p2)\";\n",
       "                var nbb_cells = Jupyter.notebook.get_cells();\n",
       "                for (var i = 0; i < nbb_cells.length; ++i) {\n",
       "                    if (nbb_cells[i].input_prompt_number == nbb_cell_id) {\n",
       "                        if (nbb_cells[i].get_text() == nbb_unformatted_code) {\n",
       "                             nbb_cells[i].set_text(nbb_formatted_code);\n",
       "                        }\n",
       "                        break;\n",
       "                    }\n",
       "                }\n",
       "            }, 500);\n",
       "            "
      ],
      "text/plain": [
       "<IPython.core.display.Javascript object>"
      ]
     },
     "metadata": {},
     "output_type": "display_data"
    }
   ],
   "source": [
    "log_reg_p2.score(X_train_scale_p2, y_train_p2)"
   ]
  },
  {
   "cell_type": "code",
   "execution_count": 742,
   "metadata": {
    "ExecuteTime": {
     "end_time": "2020-01-30T00:46:22.197089Z",
     "start_time": "2020-01-30T00:46:22.186913Z"
    }
   },
   "outputs": [
    {
     "data": {
      "text/plain": [
       "0.7283950617283951"
      ]
     },
     "execution_count": 742,
     "metadata": {},
     "output_type": "execute_result"
    },
    {
     "data": {
      "application/javascript": [
       "\n",
       "            setTimeout(function() {\n",
       "                var nbb_cell_id = 742;\n",
       "                var nbb_unformatted_code = \"log_reg_p2.score(X_test_scale_p2, y_test_p2)\";\n",
       "                var nbb_formatted_code = \"log_reg_p2.score(X_test_scale_p2, y_test_p2)\";\n",
       "                var nbb_cells = Jupyter.notebook.get_cells();\n",
       "                for (var i = 0; i < nbb_cells.length; ++i) {\n",
       "                    if (nbb_cells[i].input_prompt_number == nbb_cell_id) {\n",
       "                        if (nbb_cells[i].get_text() == nbb_unformatted_code) {\n",
       "                             nbb_cells[i].set_text(nbb_formatted_code);\n",
       "                        }\n",
       "                        break;\n",
       "                    }\n",
       "                }\n",
       "            }, 500);\n",
       "            "
      ],
      "text/plain": [
       "<IPython.core.display.Javascript object>"
      ]
     },
     "metadata": {},
     "output_type": "display_data"
    }
   ],
   "source": [
    "log_reg_p2.score(X_test_scale_p2, y_test_p2)"
   ]
  },
  {
   "cell_type": "code",
   "execution_count": 743,
   "metadata": {
    "ExecuteTime": {
     "end_time": "2020-01-30T00:46:24.409552Z",
     "start_time": "2020-01-30T00:46:24.393747Z"
    }
   },
   "outputs": [
    {
     "name": "stdout",
     "output_type": "stream",
     "text": [
      "              precision    recall  f1-score   support\n",
      "\n",
      "           0       0.75      0.97      0.84        61\n",
      "           1       0.00      0.00      0.00        20\n",
      "\n",
      "    accuracy                           0.73        81\n",
      "   macro avg       0.37      0.48      0.42        81\n",
      "weighted avg       0.56      0.73      0.63        81\n",
      "\n"
     ]
    },
    {
     "data": {
      "application/javascript": [
       "\n",
       "            setTimeout(function() {\n",
       "                var nbb_cell_id = 743;\n",
       "                var nbb_unformatted_code = \"print(metrics.classification_report(y_test_p2, y_pred_p2))\";\n",
       "                var nbb_formatted_code = \"print(metrics.classification_report(y_test_p2, y_pred_p2))\";\n",
       "                var nbb_cells = Jupyter.notebook.get_cells();\n",
       "                for (var i = 0; i < nbb_cells.length; ++i) {\n",
       "                    if (nbb_cells[i].input_prompt_number == nbb_cell_id) {\n",
       "                        if (nbb_cells[i].get_text() == nbb_unformatted_code) {\n",
       "                             nbb_cells[i].set_text(nbb_formatted_code);\n",
       "                        }\n",
       "                        break;\n",
       "                    }\n",
       "                }\n",
       "            }, 500);\n",
       "            "
      ],
      "text/plain": [
       "<IPython.core.display.Javascript object>"
      ]
     },
     "metadata": {},
     "output_type": "display_data"
    }
   ],
   "source": [
    "print(metrics.classification_report(y_test_p2, y_pred_p2))"
   ]
  },
  {
   "cell_type": "code",
   "execution_count": null,
   "metadata": {},
   "outputs": [],
   "source": [
    "# Add validation for similar players and different dates\n",
    "# Use a set of outfielders and dates"
   ]
  },
  {
   "cell_type": "markdown",
   "metadata": {},
   "source": [
    "# VALIDATION with multiple dates"
   ]
  },
  {
   "cell_type": "markdown",
   "metadata": {},
   "source": [
    "## Easy case - one player excellent, one not as good"
   ]
  },
  {
   "cell_type": "code",
   "execution_count": 747,
   "metadata": {
    "ExecuteTime": {
     "end_time": "2020-01-30T00:49:04.977448Z",
     "start_time": "2020-01-30T00:48:06.635548Z"
    },
    "code_folding": [
     0
    ],
    "collapsed": true
   },
   "outputs": [
    {
     "name": "stdout",
     "output_type": "stream",
     "text": [
      "'2019-09-03'\n",
      "Player 1 coefficients:  [[-0.29567287  0.40906969 -0.2279361 ]]\n",
      "Player 2 coefficients:  [[-0.14162716  0.85450561 -0.69842035]]\n",
      "'2019-09-04'\n",
      "Player 1 coefficients:  [[-0.18090405  0.03527459  0.19690786]]\n",
      "Player 2 coefficients:  [[-0.03456852  0.34511474 -0.40894548]]\n",
      "'2019-09-10'\n",
      "Player 1 coefficients:  [[-0.35508744  0.32553199 -0.07321985]]\n",
      "Player 2 coefficients:  [[-0.09884784  0.46756796 -0.3059968 ]]\n",
      "'2019-09-12'\n",
      "Player 1 coefficients:  [[-0.18688283  0.32786408 -0.06770639]]\n",
      "Player 2 coefficients:  [[ 0.04362555  0.7196835  -0.27039   ]]\n",
      "'2019-09-21'\n",
      "Player 1 coefficients:  [[ 0.03173438  0.07046448 -0.04977249]]\n",
      "Player 2 coefficients:  [[ 0.27651973 -0.08529109  0.04497934]]\n",
      "'2019-09-24'\n",
      "Player 1 coefficients:  [[-0.24147022  0.07315032 -0.21812568]]\n",
      "Player 2 coefficients:  [[-0.06084687  0.20645047 -0.02396882]]\n",
      "done getting dates\n"
     ]
    },
    {
     "data": {
      "application/javascript": [
       "\n",
       "            setTimeout(function() {\n",
       "                var nbb_cell_id = 747;\n",
       "                var nbb_unformatted_code = \"# Betts and Garcia (605141, 544725)\\npid1 = 605141\\npid2 = 544725\\n\\ndate_list = [\\n    \\\"'2019-09-03'\\\",\\n    \\\"'2019-09-04'\\\",\\n    \\\"'2019-09-10'\\\",\\n    \\\"'2019-09-12'\\\",\\n    \\\"'2019-09-21'\\\",\\n    \\\"'2019-09-24'\\\",\\n]\\n\\nno_total_ab_events = 1000\\n\\n# GOAL\\n# Tabulate the prediction and the actual performance\\n# prediction A, prediction B, performance A, performance B\\n\\ndf_pred_actual_bydate = pd.DataFrame()\\n\\nfor date_of_interest in date_list:\\n\\n    print(date_of_interest)\\n\\n    # Input batters, date\\n    df_sc_events_b1 = get_sc_batter_df(pid1, date_of_interest, 1000)\\n    df_sc_events_b2 = get_sc_batter_df(pid2, date_of_interest, 1000)\\n\\n    # Build model dataframe\\n    df4model_b1 = get_df4model(df=df_sc_events_b1.copy(), n_back_PA=100, m_size=200)\\n    df4model_b2 = get_df4model(df=df_sc_events_b2.copy(), n_back_PA=100, m_size=200)\\n\\n    # Separate \\\"day of\\\" from \\\"pre-date\\\"\\n    df4model_dayof_b1 = df4model_b1[df4model_b1[\\\"game_date\\\"] == date_of_interest].copy()\\n    df4model_dayof_b2 = df4model_b2[df4model_b2[\\\"game_date\\\"] == date_of_interest].copy()\\n\\n    # Format dataframe for model\\n    col4model = [\\n        \\\"event_code\\\",\\n        \\\"p_throws\\\",\\n        \\\"prop_events_nback\\\",\\n        \\\"prop_events_sum_nback_pt\\\",\\n    ]\\n    df4model_b1_lim = df4model_b1.loc[\\n        df4model_b1[\\\"game_date\\\"] < date_of_interest, col4model\\n    ].copy()\\n\\n    df4model_b2_lim = df4model_b2.loc[\\n        df4model_b2[\\\"game_date\\\"] < date_of_interest, col4model\\n    ].copy()\\n\\n    df4model_b1_lim[\\\"p_throws\\\"].replace({\\\"L\\\": 0, \\\"R\\\": 1}, inplace=True)\\n    df4model_b2_lim[\\\"p_throws\\\"].replace({\\\"L\\\": 0, \\\"R\\\": 1}, inplace=True)\\n\\n    X_train_scale_b1, X_test_scale_b1, y_train_b1, y_test_b1 = get_split_data(\\n        df4model_b1_lim, 0.4\\n    )\\n    X_train_scale_b2, X_test_scale_b2, y_train_b2, y_test_b2 = get_split_data(\\n        df4model_b2_lim, 0.4\\n    )\\n\\n    # Run models\\n    log_reg_b1, df_eval_b1 = run_logreg_model(\\n        X_train_scale_b1, y_train_b1, X_test_scale_b1, y_test_b1\\n    )\\n\\n    log_reg_b2, df_eval_b2 = run_logreg_model(\\n        X_train_scale_b2, y_train_b2, X_test_scale_b2, y_test_b2\\n    )\\n\\n    print(\\\"Player 1 coefficients: \\\", log_reg_b1.coef_)\\n    print(\\\"Player 2 coefficients: \\\", log_reg_b2.coef_)\\n\\n    # Assess day of performance  ---------\\n    # Get last 2 at-bats for the input\\n    df4model_dayof_4model_b1 = df4model_dayof_b1[col4model].iloc[-3:, :].copy()\\n    df4model_dayof_4model_b2 = df4model_dayof_b2[col4model].iloc[-3:, :].copy()\\n\\n    # replace categorical input\\n    df4model_dayof_4model_b1[\\\"p_throws\\\"].replace({\\\"L\\\": 0, \\\"R\\\": 1}, inplace=True)\\n    df4model_dayof_4model_b2[\\\"p_throws\\\"].replace({\\\"L\\\": 0, \\\"R\\\": 1}, inplace=True)\\n\\n    df_pred_actual, val_entries = return_series_of_player_prediction(\\n        df4model_dayof_4model_b1, df4model_dayof_4model_b2, log_reg_b1, log_reg_b2\\n    )\\n\\n    colname = \\\"A_vs_B_\\\" + str(date_of_interest).strip(\\\"'\\\")\\n    df_pred_actual_bydate[colname] = [i for i in val_entries]\\n\\n    df_pred_actual_bydate.index = [\\n        \\\"game_date\\\",\\n        \\\"key_batterA\\\",\\n        \\\"key_batterB\\\",\\n        \\\"prediction\\\",\\n        \\\"actual\\\",\\n    ]\\n\\n    if date_of_interest == date_list[-1]:\\n        print(\\\"done getting dates\\\")\";\n",
       "                var nbb_formatted_code = \"# Betts and Garcia (605141, 544725)\\npid1 = 605141\\npid2 = 544725\\n\\ndate_list = [\\n    \\\"'2019-09-03'\\\",\\n    \\\"'2019-09-04'\\\",\\n    \\\"'2019-09-10'\\\",\\n    \\\"'2019-09-12'\\\",\\n    \\\"'2019-09-21'\\\",\\n    \\\"'2019-09-24'\\\",\\n]\\n\\nno_total_ab_events = 1000\\n\\n# GOAL\\n# Tabulate the prediction and the actual performance\\n# prediction A, prediction B, performance A, performance B\\n\\ndf_pred_actual_bydate = pd.DataFrame()\\n\\nfor date_of_interest in date_list:\\n\\n    print(date_of_interest)\\n\\n    # Input batters, date\\n    df_sc_events_b1 = get_sc_batter_df(pid1, date_of_interest, 1000)\\n    df_sc_events_b2 = get_sc_batter_df(pid2, date_of_interest, 1000)\\n\\n    # Build model dataframe\\n    df4model_b1 = get_df4model(df=df_sc_events_b1.copy(), n_back_PA=100, m_size=200)\\n    df4model_b2 = get_df4model(df=df_sc_events_b2.copy(), n_back_PA=100, m_size=200)\\n\\n    # Separate \\\"day of\\\" from \\\"pre-date\\\"\\n    df4model_dayof_b1 = df4model_b1[df4model_b1[\\\"game_date\\\"] == date_of_interest].copy()\\n    df4model_dayof_b2 = df4model_b2[df4model_b2[\\\"game_date\\\"] == date_of_interest].copy()\\n\\n    # Format dataframe for model\\n    col4model = [\\n        \\\"event_code\\\",\\n        \\\"p_throws\\\",\\n        \\\"prop_events_nback\\\",\\n        \\\"prop_events_sum_nback_pt\\\",\\n    ]\\n    df4model_b1_lim = df4model_b1.loc[\\n        df4model_b1[\\\"game_date\\\"] < date_of_interest, col4model\\n    ].copy()\\n\\n    df4model_b2_lim = df4model_b2.loc[\\n        df4model_b2[\\\"game_date\\\"] < date_of_interest, col4model\\n    ].copy()\\n\\n    df4model_b1_lim[\\\"p_throws\\\"].replace({\\\"L\\\": 0, \\\"R\\\": 1}, inplace=True)\\n    df4model_b2_lim[\\\"p_throws\\\"].replace({\\\"L\\\": 0, \\\"R\\\": 1}, inplace=True)\\n\\n    X_train_scale_b1, X_test_scale_b1, y_train_b1, y_test_b1 = get_split_data(\\n        df4model_b1_lim, 0.4\\n    )\\n    X_train_scale_b2, X_test_scale_b2, y_train_b2, y_test_b2 = get_split_data(\\n        df4model_b2_lim, 0.4\\n    )\\n\\n    # Run models\\n    log_reg_b1, df_eval_b1 = run_logreg_model(\\n        X_train_scale_b1, y_train_b1, X_test_scale_b1, y_test_b1\\n    )\\n\\n    log_reg_b2, df_eval_b2 = run_logreg_model(\\n        X_train_scale_b2, y_train_b2, X_test_scale_b2, y_test_b2\\n    )\\n\\n    print(\\\"Player 1 coefficients: \\\", log_reg_b1.coef_)\\n    print(\\\"Player 2 coefficients: \\\", log_reg_b2.coef_)\\n\\n    # Assess day of performance  ---------\\n    # Get last 2 at-bats for the input\\n    df4model_dayof_4model_b1 = df4model_dayof_b1[col4model].iloc[-3:, :].copy()\\n    df4model_dayof_4model_b2 = df4model_dayof_b2[col4model].iloc[-3:, :].copy()\\n\\n    # replace categorical input\\n    df4model_dayof_4model_b1[\\\"p_throws\\\"].replace({\\\"L\\\": 0, \\\"R\\\": 1}, inplace=True)\\n    df4model_dayof_4model_b2[\\\"p_throws\\\"].replace({\\\"L\\\": 0, \\\"R\\\": 1}, inplace=True)\\n\\n    df_pred_actual, val_entries = return_series_of_player_prediction(\\n        df4model_dayof_4model_b1, df4model_dayof_4model_b2, log_reg_b1, log_reg_b2\\n    )\\n\\n    colname = \\\"A_vs_B_\\\" + str(date_of_interest).strip(\\\"'\\\")\\n    df_pred_actual_bydate[colname] = [i for i in val_entries]\\n\\n    df_pred_actual_bydate.index = [\\n        \\\"game_date\\\",\\n        \\\"key_batterA\\\",\\n        \\\"key_batterB\\\",\\n        \\\"prediction\\\",\\n        \\\"actual\\\",\\n    ]\\n\\n    if date_of_interest == date_list[-1]:\\n        print(\\\"done getting dates\\\")\";\n",
       "                var nbb_cells = Jupyter.notebook.get_cells();\n",
       "                for (var i = 0; i < nbb_cells.length; ++i) {\n",
       "                    if (nbb_cells[i].input_prompt_number == nbb_cell_id) {\n",
       "                        if (nbb_cells[i].get_text() == nbb_unformatted_code) {\n",
       "                             nbb_cells[i].set_text(nbb_formatted_code);\n",
       "                        }\n",
       "                        break;\n",
       "                    }\n",
       "                }\n",
       "            }, 500);\n",
       "            "
      ],
      "text/plain": [
       "<IPython.core.display.Javascript object>"
      ]
     },
     "metadata": {},
     "output_type": "display_data"
    }
   ],
   "source": [
    "# Betts and Garcia (605141, 544725)\n",
    "pid1 = 605141\n",
    "pid2 = 544725\n",
    "\n",
    "# (43 dates)\n",
    "\n",
    "date_list = [\"'2019-07-16'\",\n",
    " \"'2019-07-17'\",\n",
    " \"'2019-07-18'\",\n",
    " \"'2019-07-19'\",\n",
    " \"'2019-07-20'\",\n",
    " \"'2019-07-21'\",\n",
    " \"'2019-07-22'\",\n",
    " \"'2019-07-23'\",\n",
    " \"'2019-07-24'\",\n",
    " \"'2019-07-25'\",\n",
    " \"'2019-07-26'\",\n",
    " \"'2019-07-27'\",\n",
    " \"'2019-07-28'\",\n",
    " \"'2019-07-30'\",\n",
    " \"'2019-07-31'\",\n",
    " \"'2019-08-01'\",\n",
    " \"'2019-08-02'\",\n",
    " \"'2019-08-03'\",\n",
    " \"'2019-08-04'\",\n",
    " \"'2019-08-05'\",\n",
    " \"'2019-08-06'\",\n",
    " \"'2019-08-07'\",\n",
    " \"'2019-08-09'\",\n",
    " \"'2019-08-10'\",\n",
    " \"'2019-08-16'\",\n",
    " \"'2019-08-17'\",\n",
    " \"'2019-08-18'\",\n",
    " \"'2019-08-20'\",\n",
    " \"'2019-08-21'\",\n",
    " \"'2019-08-23'\",\n",
    " \"'2019-08-24'\",\n",
    " \"'2019-08-25'\",\n",
    " \"'2019-08-27'\",\n",
    " \"'2019-08-28'\",\n",
    " \"'2019-08-30'\",\n",
    " \"'2019-08-31'\",\n",
    " \"'2019-09-01'\",\n",
    " \"'2019-09-03'\",\n",
    " \"'2019-09-04'\",\n",
    " \"'2019-09-10'\",\n",
    " \"'2019-09-12'\",\n",
    " \"'2019-09-21'\",\n",
    " \"'2019-09-24']\n",
    "\n",
    "no_total_ab_events = 1000\n",
    "\n",
    "# GOAL\n",
    "# Tabulate the prediction and the actual performance\n",
    "# prediction A, prediction B, performance A, performance B\n",
    "\n",
    "df_pred_actual_bydate = pd.DataFrame()\n",
    "\n",
    "for date_of_interest in date_list:\n",
    "\n",
    "    print(date_of_interest)\n",
    "\n",
    "    # Input batters, date\n",
    "    df_sc_events_b1 = get_sc_batter_df(pid1, date_of_interest, 1000)\n",
    "    df_sc_events_b2 = get_sc_batter_df(pid2, date_of_interest, 1000)\n",
    "\n",
    "    # Build model dataframe\n",
    "    df4model_b1 = get_df4model(df=df_sc_events_b1.copy(), n_back_PA=100, m_size=200)\n",
    "    df4model_b2 = get_df4model(df=df_sc_events_b2.copy(), n_back_PA=100, m_size=200)\n",
    "\n",
    "    # Separate \"day of\" from \"pre-date\"\n",
    "    df4model_dayof_b1 = df4model_b1[df4model_b1[\"game_date\"] == date_of_interest].copy()\n",
    "    df4model_dayof_b2 = df4model_b2[df4model_b2[\"game_date\"] == date_of_interest].copy()\n",
    "\n",
    "    # Format dataframe for model\n",
    "    col4model = [\n",
    "        \"event_code\",\n",
    "        \"p_throws\",\n",
    "        \"prop_events_nback\",\n",
    "        \"prop_events_sum_nback_pt\",\n",
    "    ]\n",
    "    df4model_b1_lim = df4model_b1.loc[\n",
    "        df4model_b1[\"game_date\"] < date_of_interest, col4model\n",
    "    ].copy()\n",
    "\n",
    "    df4model_b2_lim = df4model_b2.loc[\n",
    "        df4model_b2[\"game_date\"] < date_of_interest, col4model\n",
    "    ].copy()\n",
    "\n",
    "    df4model_b1_lim[\"p_throws\"].replace({\"L\": 0, \"R\": 1}, inplace=True)\n",
    "    df4model_b2_lim[\"p_throws\"].replace({\"L\": 0, \"R\": 1}, inplace=True)\n",
    "\n",
    "    X_train_scale_b1, X_test_scale_b1, y_train_b1, y_test_b1 = get_split_data(\n",
    "        df4model_b1_lim, 0.4\n",
    "    )\n",
    "    X_train_scale_b2, X_test_scale_b2, y_train_b2, y_test_b2 = get_split_data(\n",
    "        df4model_b2_lim, 0.4\n",
    "    )\n",
    "\n",
    "    # Run models\n",
    "    log_reg_b1, df_eval_b1 = run_logreg_model(\n",
    "        X_train_scale_b1, y_train_b1, X_test_scale_b1, y_test_b1\n",
    "    )\n",
    "\n",
    "    log_reg_b2, df_eval_b2 = run_logreg_model(\n",
    "        X_train_scale_b2, y_train_b2, X_test_scale_b2, y_test_b2\n",
    "    )\n",
    "\n",
    "    print(\"Player 1 coefficients: \", log_reg_b1.coef_)\n",
    "    print(\"Player 2 coefficients: \", log_reg_b2.coef_)\n",
    "\n",
    "    # Assess day of performance  ---------\n",
    "    # Get last 2 at-bats for the input\n",
    "    df4model_dayof_4model_b1 = df4model_dayof_b1[col4model].iloc[-3:, :].copy()\n",
    "    df4model_dayof_4model_b2 = df4model_dayof_b2[col4model].iloc[-3:, :].copy()\n",
    "\n",
    "    # replace categorical input\n",
    "    df4model_dayof_4model_b1[\"p_throws\"].replace({\"L\": 0, \"R\": 1}, inplace=True)\n",
    "    df4model_dayof_4model_b2[\"p_throws\"].replace({\"L\": 0, \"R\": 1}, inplace=True)\n",
    "\n",
    "    df_pred_actual, val_entries = return_series_of_player_prediction(\n",
    "        df4model_dayof_4model_b1, df4model_dayof_4model_b2, log_reg_b1, log_reg_b2\n",
    "    )\n",
    "\n",
    "    colname = \"A_vs_B_\" + str(date_of_interest).strip(\"'\")\n",
    "    df_pred_actual_bydate[colname] = [i for i in val_entries]\n",
    "\n",
    "    df_pred_actual_bydate.index = [\n",
    "        \"game_date\",\n",
    "        \"key_batterA\",\n",
    "        \"key_batterB\",\n",
    "        \"prediction\",\n",
    "        \"actual\",\n",
    "    ]\n",
    "\n",
    "    if date_of_interest == date_list[-1]:\n",
    "        print(\"done getting dates\")"
   ]
  },
  {
   "cell_type": "markdown",
   "metadata": {},
   "source": [
    "When looking at 6 common playing dates after September 1, the model made a correct prediction 4 of the 6 dates."
   ]
  },
  {
   "cell_type": "code",
   "execution_count": 748,
   "metadata": {
    "ExecuteTime": {
     "end_time": "2020-01-30T00:49:36.496853Z",
     "start_time": "2020-01-30T00:49:36.480696Z"
    }
   },
   "outputs": [
    {
     "data": {
      "text/html": [
       "<div>\n",
       "<style scoped>\n",
       "    .dataframe tbody tr th:only-of-type {\n",
       "        vertical-align: middle;\n",
       "    }\n",
       "\n",
       "    .dataframe tbody tr th {\n",
       "        vertical-align: top;\n",
       "    }\n",
       "\n",
       "    .dataframe thead th {\n",
       "        text-align: right;\n",
       "    }\n",
       "</style>\n",
       "<table border=\"1\" class=\"dataframe\">\n",
       "  <thead>\n",
       "    <tr style=\"text-align: right;\">\n",
       "      <th></th>\n",
       "      <th>A_vs_B_2019-09-03</th>\n",
       "      <th>A_vs_B_2019-09-04</th>\n",
       "      <th>A_vs_B_2019-09-10</th>\n",
       "      <th>A_vs_B_2019-09-12</th>\n",
       "      <th>A_vs_B_2019-09-21</th>\n",
       "      <th>A_vs_B_2019-09-24</th>\n",
       "    </tr>\n",
       "  </thead>\n",
       "  <tbody>\n",
       "    <tr>\n",
       "      <th>game_date</th>\n",
       "      <td>'2019-09-03'</td>\n",
       "      <td>'2019-09-04'</td>\n",
       "      <td>'2019-09-10'</td>\n",
       "      <td>'2019-09-12'</td>\n",
       "      <td>'2019-09-21'</td>\n",
       "      <td>'2019-09-24'</td>\n",
       "    </tr>\n",
       "    <tr>\n",
       "      <th>key_batterA</th>\n",
       "      <td>605141</td>\n",
       "      <td>605141</td>\n",
       "      <td>605141</td>\n",
       "      <td>605141</td>\n",
       "      <td>605141</td>\n",
       "      <td>605141</td>\n",
       "    </tr>\n",
       "    <tr>\n",
       "      <th>key_batterB</th>\n",
       "      <td>544725</td>\n",
       "      <td>544725</td>\n",
       "      <td>544725</td>\n",
       "      <td>544725</td>\n",
       "      <td>544725</td>\n",
       "      <td>544725</td>\n",
       "    </tr>\n",
       "    <tr>\n",
       "      <th>prediction</th>\n",
       "      <td>predict_A</td>\n",
       "      <td>predict_A</td>\n",
       "      <td>predict_A</td>\n",
       "      <td>predict_A</td>\n",
       "      <td>predict_A</td>\n",
       "      <td>predict_A</td>\n",
       "    </tr>\n",
       "    <tr>\n",
       "      <th>actual</th>\n",
       "      <td>actual_B</td>\n",
       "      <td>actual_A</td>\n",
       "      <td>actual_A</td>\n",
       "      <td>actual_A</td>\n",
       "      <td>actual_B</td>\n",
       "      <td>actual_A</td>\n",
       "    </tr>\n",
       "  </tbody>\n",
       "</table>\n",
       "</div>"
      ],
      "text/plain": [
       "            A_vs_B_2019-09-03 A_vs_B_2019-09-04 A_vs_B_2019-09-10  \\\n",
       "game_date        '2019-09-03'      '2019-09-04'      '2019-09-10'   \n",
       "key_batterA            605141            605141            605141   \n",
       "key_batterB            544725            544725            544725   \n",
       "prediction          predict_A         predict_A         predict_A   \n",
       "actual               actual_B          actual_A          actual_A   \n",
       "\n",
       "            A_vs_B_2019-09-12 A_vs_B_2019-09-21 A_vs_B_2019-09-24  \n",
       "game_date        '2019-09-12'      '2019-09-21'      '2019-09-24'  \n",
       "key_batterA            605141            605141            605141  \n",
       "key_batterB            544725            544725            544725  \n",
       "prediction          predict_A         predict_A         predict_A  \n",
       "actual               actual_A          actual_B          actual_A  "
      ]
     },
     "execution_count": 748,
     "metadata": {},
     "output_type": "execute_result"
    },
    {
     "data": {
      "application/javascript": [
       "\n",
       "            setTimeout(function() {\n",
       "                var nbb_cell_id = 748;\n",
       "                var nbb_unformatted_code = \"df_pred_actual_bydate\";\n",
       "                var nbb_formatted_code = \"df_pred_actual_bydate\";\n",
       "                var nbb_cells = Jupyter.notebook.get_cells();\n",
       "                for (var i = 0; i < nbb_cells.length; ++i) {\n",
       "                    if (nbb_cells[i].input_prompt_number == nbb_cell_id) {\n",
       "                        if (nbb_cells[i].get_text() == nbb_unformatted_code) {\n",
       "                             nbb_cells[i].set_text(nbb_formatted_code);\n",
       "                        }\n",
       "                        break;\n",
       "                    }\n",
       "                }\n",
       "            }, 500);\n",
       "            "
      ],
      "text/plain": [
       "<IPython.core.display.Javascript object>"
      ]
     },
     "metadata": {},
     "output_type": "display_data"
    }
   ],
   "source": [
    "df_pred_actual_bydate"
   ]
  },
  {
   "cell_type": "markdown",
   "metadata": {},
   "source": [
    "## Medium case - one player average, one not as good"
   ]
  },
  {
   "cell_type": "code",
   "execution_count": 753,
   "metadata": {
    "ExecuteTime": {
     "end_time": "2020-01-30T01:56:26.611819Z",
     "start_time": "2020-01-30T01:55:13.311303Z"
    }
   },
   "outputs": [
    {
     "name": "stdout",
     "output_type": "stream",
     "text": [
      "'2019-09-03'\n",
      "Player 1 coefficients:  [[0.14819114 0.23785505 0.27588519]]\n",
      "Player 2 coefficients:  [[-0.14162716  0.85450561 -0.69842035]]\n",
      "'2019-09-04'\n",
      "Player 1 coefficients:  [[0.14236542 0.00191787 0.58597128]]\n",
      "Player 2 coefficients:  [[-0.03456852  0.34511474 -0.40894548]]\n",
      "'2019-09-10'\n",
      "Player 1 coefficients:  [[0.04334415 0.25728826 0.28985815]]\n",
      "Player 2 coefficients:  [[-0.09884784  0.46756796 -0.3059968 ]]\n",
      "'2019-09-11'\n",
      "Player 1 coefficients:  [[-0.44933511  0.49806653  0.57496996]]\n",
      "Player 2 coefficients:  [[-0.30400136  0.1216691  -0.29519645]]\n",
      "'2019-09-12'\n",
      "Player 1 coefficients:  [[ 0.23155709 -0.11502046  0.02581148]]\n",
      "Player 2 coefficients:  [[ 0.0605822   0.68096994 -0.22498146]]\n",
      "'2019-09-13'\n",
      "Player 1 coefficients:  [[-0.27087977  0.26818208  0.47517779]]\n",
      "Player 2 coefficients:  [[-0.47583599  0.59867173 -0.7150733 ]]\n",
      "'2019-09-18'\n",
      "Player 1 coefficients:  [[-0.17683546  0.19843019  0.26926683]]\n",
      "Player 2 coefficients:  [[-0.23354343  0.65799609 -0.62038385]]\n",
      "'2019-09-21'\n",
      "Player 1 coefficients:  [[-0.05402152  0.25044675  0.1813268 ]]\n",
      "Player 2 coefficients:  [[ 0.27651973 -0.08529109  0.04497934]]\n",
      "'2019-09-22'\n",
      "Player 1 coefficients:  [[ 0.31763765  0.25244862 -0.03757199]]\n",
      "Player 2 coefficients:  [[ 0.03120132  0.59131632 -0.32891451]]\n",
      "'2019-09-24'\n",
      "Player 1 coefficients:  [[-0.34305838  0.59323995  0.657729  ]]\n",
      "Player 2 coefficients:  [[-0.06084687  0.20645047 -0.02396882]]\n",
      "'2019-09-25'\n",
      "Player 1 coefficients:  [[-0.35046192  0.42045784  0.5194703 ]]\n",
      "Player 2 coefficients:  [[-0.28171127  0.4656303  -0.44636526]]\n",
      "done getting dates\n"
     ]
    },
    {
     "data": {
      "application/javascript": [
       "\n",
       "            setTimeout(function() {\n",
       "                var nbb_cell_id = 753;\n",
       "                var nbb_unformatted_code = \"# Reynolds and Garcia (668804, 544725)\\n# Bryan Reynolds (PIT)\\n\\npid1 = 668804\\npid2 = 544725\\n\\ndate_list = [\\\"'2019-09-03'\\\",\\n \\\"'2019-09-04'\\\",\\n \\\"'2019-09-10'\\\",\\n \\\"'2019-09-11'\\\",\\n \\\"'2019-09-12'\\\",\\n \\\"'2019-09-13'\\\",\\n \\\"'2019-09-18'\\\",\\n \\\"'2019-09-21'\\\",\\n \\\"'2019-09-22'\\\",\\n \\\"'2019-09-24'\\\",\\n \\\"'2019-09-25'\\\"]\\n\\nno_total_ab_events = 1000\\n\\n# GOAL\\n# Tabulate the prediction and the actual performance\\n# prediction A, prediction B, performance A, performance B\\n\\ndf_pred_actual_bydate = pd.DataFrame()\\n\\nfor date_of_interest in date_list:\\n\\n    print(date_of_interest)\\n\\n    # Input batters, date\\n    df_sc_events_b1 = get_sc_batter_df(pid1, date_of_interest, 1000)\\n    df_sc_events_b2 = get_sc_batter_df(pid2, date_of_interest, 1000)\\n\\n    # Build model dataframe\\n    df4model_b1 = get_df4model(df=df_sc_events_b1.copy(), n_back_PA=100, m_size=200)\\n    df4model_b2 = get_df4model(df=df_sc_events_b2.copy(), n_back_PA=100, m_size=200)\\n\\n    # Separate \\\"day of\\\" from \\\"pre-date\\\"\\n    df4model_dayof_b1 = df4model_b1[df4model_b1[\\\"game_date\\\"] == date_of_interest].copy()\\n    df4model_dayof_b2 = df4model_b2[df4model_b2[\\\"game_date\\\"] == date_of_interest].copy()\\n\\n    # Format dataframe for model\\n    col4model = [\\n        \\\"event_code\\\",\\n        \\\"p_throws\\\",\\n        \\\"prop_events_nback\\\",\\n        \\\"prop_events_sum_nback_pt\\\",\\n    ]\\n    df4model_b1_lim = df4model_b1.loc[\\n        df4model_b1[\\\"game_date\\\"] < date_of_interest, col4model\\n    ].copy()\\n\\n    df4model_b2_lim = df4model_b2.loc[\\n        df4model_b2[\\\"game_date\\\"] < date_of_interest, col4model\\n    ].copy()\\n\\n    df4model_b1_lim[\\\"p_throws\\\"].replace({\\\"L\\\": 0, \\\"R\\\": 1}, inplace=True)\\n    df4model_b2_lim[\\\"p_throws\\\"].replace({\\\"L\\\": 0, \\\"R\\\": 1}, inplace=True)\\n\\n    X_train_scale_b1, X_test_scale_b1, y_train_b1, y_test_b1 = get_split_data(\\n        df4model_b1_lim, 0.4\\n    )\\n    X_train_scale_b2, X_test_scale_b2, y_train_b2, y_test_b2 = get_split_data(\\n        df4model_b2_lim, 0.4\\n    )\\n\\n    # Run models\\n    log_reg_b1, df_eval_b1 = run_logreg_model(\\n        X_train_scale_b1, y_train_b1, X_test_scale_b1, y_test_b1\\n    )\\n\\n    log_reg_b2, df_eval_b2 = run_logreg_model(\\n        X_train_scale_b2, y_train_b2, X_test_scale_b2, y_test_b2\\n    )\\n\\n    print(\\\"Player 1 coefficients: \\\", log_reg_b1.coef_)\\n    print(\\\"Player 2 coefficients: \\\", log_reg_b2.coef_)\\n\\n    # Assess day of performance  ---------\\n    # Get last 2 at-bats for the input\\n    df4model_dayof_4model_b1 = df4model_dayof_b1[col4model].iloc[-3:, :].copy()\\n    df4model_dayof_4model_b2 = df4model_dayof_b2[col4model].iloc[-3:, :].copy()\\n\\n    # replace categorical input\\n    df4model_dayof_4model_b1[\\\"p_throws\\\"].replace({\\\"L\\\": 0, \\\"R\\\": 1}, inplace=True)\\n    df4model_dayof_4model_b2[\\\"p_throws\\\"].replace({\\\"L\\\": 0, \\\"R\\\": 1}, inplace=True)\\n\\n    df_pred_actual, val_entries = return_series_of_player_prediction(\\n        df4model_dayof_4model_b1, df4model_dayof_4model_b2, log_reg_b1, log_reg_b2\\n    )\\n\\n    colname = \\\"A_vs_B_\\\" + str(date_of_interest).strip(\\\"'\\\")\\n    df_pred_actual_bydate[colname] = [i for i in val_entries]\\n\\n    df_pred_actual_bydate.index = [\\n        \\\"game_date\\\",\\n        \\\"key_batterA\\\",\\n        \\\"key_batterB\\\",\\n        \\\"prediction\\\",\\n        \\\"actual\\\",\\n    ]\\n\\n    if date_of_interest == date_list[-1]:\\n        print(\\\"done getting dates\\\")\";\n",
       "                var nbb_formatted_code = \"# Reynolds and Garcia (668804, 544725)\\n# Bryan Reynolds (PIT)\\n\\npid1 = 668804\\npid2 = 544725\\n\\ndate_list = [\\n    \\\"'2019-09-03'\\\",\\n    \\\"'2019-09-04'\\\",\\n    \\\"'2019-09-10'\\\",\\n    \\\"'2019-09-11'\\\",\\n    \\\"'2019-09-12'\\\",\\n    \\\"'2019-09-13'\\\",\\n    \\\"'2019-09-18'\\\",\\n    \\\"'2019-09-21'\\\",\\n    \\\"'2019-09-22'\\\",\\n    \\\"'2019-09-24'\\\",\\n    \\\"'2019-09-25'\\\",\\n]\\n\\nno_total_ab_events = 1000\\n\\n# GOAL\\n# Tabulate the prediction and the actual performance\\n# prediction A, prediction B, performance A, performance B\\n\\ndf_pred_actual_bydate = pd.DataFrame()\\n\\nfor date_of_interest in date_list:\\n\\n    print(date_of_interest)\\n\\n    # Input batters, date\\n    df_sc_events_b1 = get_sc_batter_df(pid1, date_of_interest, 1000)\\n    df_sc_events_b2 = get_sc_batter_df(pid2, date_of_interest, 1000)\\n\\n    # Build model dataframe\\n    df4model_b1 = get_df4model(df=df_sc_events_b1.copy(), n_back_PA=100, m_size=200)\\n    df4model_b2 = get_df4model(df=df_sc_events_b2.copy(), n_back_PA=100, m_size=200)\\n\\n    # Separate \\\"day of\\\" from \\\"pre-date\\\"\\n    df4model_dayof_b1 = df4model_b1[df4model_b1[\\\"game_date\\\"] == date_of_interest].copy()\\n    df4model_dayof_b2 = df4model_b2[df4model_b2[\\\"game_date\\\"] == date_of_interest].copy()\\n\\n    # Format dataframe for model\\n    col4model = [\\n        \\\"event_code\\\",\\n        \\\"p_throws\\\",\\n        \\\"prop_events_nback\\\",\\n        \\\"prop_events_sum_nback_pt\\\",\\n    ]\\n    df4model_b1_lim = df4model_b1.loc[\\n        df4model_b1[\\\"game_date\\\"] < date_of_interest, col4model\\n    ].copy()\\n\\n    df4model_b2_lim = df4model_b2.loc[\\n        df4model_b2[\\\"game_date\\\"] < date_of_interest, col4model\\n    ].copy()\\n\\n    df4model_b1_lim[\\\"p_throws\\\"].replace({\\\"L\\\": 0, \\\"R\\\": 1}, inplace=True)\\n    df4model_b2_lim[\\\"p_throws\\\"].replace({\\\"L\\\": 0, \\\"R\\\": 1}, inplace=True)\\n\\n    X_train_scale_b1, X_test_scale_b1, y_train_b1, y_test_b1 = get_split_data(\\n        df4model_b1_lim, 0.4\\n    )\\n    X_train_scale_b2, X_test_scale_b2, y_train_b2, y_test_b2 = get_split_data(\\n        df4model_b2_lim, 0.4\\n    )\\n\\n    # Run models\\n    log_reg_b1, df_eval_b1 = run_logreg_model(\\n        X_train_scale_b1, y_train_b1, X_test_scale_b1, y_test_b1\\n    )\\n\\n    log_reg_b2, df_eval_b2 = run_logreg_model(\\n        X_train_scale_b2, y_train_b2, X_test_scale_b2, y_test_b2\\n    )\\n\\n    print(\\\"Player 1 coefficients: \\\", log_reg_b1.coef_)\\n    print(\\\"Player 2 coefficients: \\\", log_reg_b2.coef_)\\n\\n    # Assess day of performance  ---------\\n    # Get last 2 at-bats for the input\\n    df4model_dayof_4model_b1 = df4model_dayof_b1[col4model].iloc[-3:, :].copy()\\n    df4model_dayof_4model_b2 = df4model_dayof_b2[col4model].iloc[-3:, :].copy()\\n\\n    # replace categorical input\\n    df4model_dayof_4model_b1[\\\"p_throws\\\"].replace({\\\"L\\\": 0, \\\"R\\\": 1}, inplace=True)\\n    df4model_dayof_4model_b2[\\\"p_throws\\\"].replace({\\\"L\\\": 0, \\\"R\\\": 1}, inplace=True)\\n\\n    df_pred_actual, val_entries = return_series_of_player_prediction(\\n        df4model_dayof_4model_b1, df4model_dayof_4model_b2, log_reg_b1, log_reg_b2\\n    )\\n\\n    colname = \\\"A_vs_B_\\\" + str(date_of_interest).strip(\\\"'\\\")\\n    df_pred_actual_bydate[colname] = [i for i in val_entries]\\n\\n    df_pred_actual_bydate.index = [\\n        \\\"game_date\\\",\\n        \\\"key_batterA\\\",\\n        \\\"key_batterB\\\",\\n        \\\"prediction\\\",\\n        \\\"actual\\\",\\n    ]\\n\\n    if date_of_interest == date_list[-1]:\\n        print(\\\"done getting dates\\\")\";\n",
       "                var nbb_cells = Jupyter.notebook.get_cells();\n",
       "                for (var i = 0; i < nbb_cells.length; ++i) {\n",
       "                    if (nbb_cells[i].input_prompt_number == nbb_cell_id) {\n",
       "                        if (nbb_cells[i].get_text() == nbb_unformatted_code) {\n",
       "                             nbb_cells[i].set_text(nbb_formatted_code);\n",
       "                        }\n",
       "                        break;\n",
       "                    }\n",
       "                }\n",
       "            }, 500);\n",
       "            "
      ],
      "text/plain": [
       "<IPython.core.display.Javascript object>"
      ]
     },
     "metadata": {},
     "output_type": "display_data"
    }
   ],
   "source": [
    "# Reynolds and Garcia (668804, 544725)\n",
    "# Bryan Reynolds (PIT)\n",
    "\n",
    "pid1 = 668804\n",
    "pid2 = 544725\n",
    "\n",
    "date_list = [\"'2019-09-03'\",\n",
    " \"'2019-09-04'\",\n",
    " \"'2019-09-10'\",\n",
    " \"'2019-09-11'\",\n",
    " \"'2019-09-12'\",\n",
    " \"'2019-09-13'\",\n",
    " \"'2019-09-18'\",\n",
    " \"'2019-09-21'\",\n",
    " \"'2019-09-22'\",\n",
    " \"'2019-09-24'\",\n",
    " \"'2019-09-25'\"]\n",
    "\n",
    "no_total_ab_events = 1000\n",
    "\n",
    "# GOAL\n",
    "# Tabulate the prediction and the actual performance\n",
    "# prediction A, prediction B, performance A, performance B\n",
    "\n",
    "df_pred_actual_bydate = pd.DataFrame()\n",
    "\n",
    "for date_of_interest in date_list:\n",
    "\n",
    "    print(date_of_interest)\n",
    "\n",
    "    # Input batters, date\n",
    "    df_sc_events_b1 = get_sc_batter_df(pid1, date_of_interest, 1000)\n",
    "    df_sc_events_b2 = get_sc_batter_df(pid2, date_of_interest, 1000)\n",
    "\n",
    "    # Build model dataframe\n",
    "    df4model_b1 = get_df4model(df=df_sc_events_b1.copy(), n_back_PA=100, m_size=200)\n",
    "    df4model_b2 = get_df4model(df=df_sc_events_b2.copy(), n_back_PA=100, m_size=200)\n",
    "\n",
    "    # Separate \"day of\" from \"pre-date\"\n",
    "    df4model_dayof_b1 = df4model_b1[df4model_b1[\"game_date\"] == date_of_interest].copy()\n",
    "    df4model_dayof_b2 = df4model_b2[df4model_b2[\"game_date\"] == date_of_interest].copy()\n",
    "\n",
    "    # Format dataframe for model\n",
    "    col4model = [\n",
    "        \"event_code\",\n",
    "        \"p_throws\",\n",
    "        \"prop_events_nback\",\n",
    "        \"prop_events_sum_nback_pt\",\n",
    "    ]\n",
    "    df4model_b1_lim = df4model_b1.loc[\n",
    "        df4model_b1[\"game_date\"] < date_of_interest, col4model\n",
    "    ].copy()\n",
    "\n",
    "    df4model_b2_lim = df4model_b2.loc[\n",
    "        df4model_b2[\"game_date\"] < date_of_interest, col4model\n",
    "    ].copy()\n",
    "\n",
    "    df4model_b1_lim[\"p_throws\"].replace({\"L\": 0, \"R\": 1}, inplace=True)\n",
    "    df4model_b2_lim[\"p_throws\"].replace({\"L\": 0, \"R\": 1}, inplace=True)\n",
    "\n",
    "    X_train_scale_b1, X_test_scale_b1, y_train_b1, y_test_b1 = get_split_data(\n",
    "        df4model_b1_lim, 0.4\n",
    "    )\n",
    "    X_train_scale_b2, X_test_scale_b2, y_train_b2, y_test_b2 = get_split_data(\n",
    "        df4model_b2_lim, 0.4\n",
    "    )\n",
    "\n",
    "    # Run models\n",
    "    log_reg_b1, df_eval_b1 = run_logreg_model(\n",
    "        X_train_scale_b1, y_train_b1, X_test_scale_b1, y_test_b1\n",
    "    )\n",
    "\n",
    "    log_reg_b2, df_eval_b2 = run_logreg_model(\n",
    "        X_train_scale_b2, y_train_b2, X_test_scale_b2, y_test_b2\n",
    "    )\n",
    "\n",
    "    print(\"Player 1 coefficients: \", log_reg_b1.coef_)\n",
    "    print(\"Player 2 coefficients: \", log_reg_b2.coef_)\n",
    "\n",
    "    # Assess day of performance  ---------\n",
    "    # Get last 2 at-bats for the input\n",
    "    df4model_dayof_4model_b1 = df4model_dayof_b1[col4model].iloc[-3:, :].copy()\n",
    "    df4model_dayof_4model_b2 = df4model_dayof_b2[col4model].iloc[-3:, :].copy()\n",
    "\n",
    "    # replace categorical input\n",
    "    df4model_dayof_4model_b1[\"p_throws\"].replace({\"L\": 0, \"R\": 1}, inplace=True)\n",
    "    df4model_dayof_4model_b2[\"p_throws\"].replace({\"L\": 0, \"R\": 1}, inplace=True)\n",
    "\n",
    "    df_pred_actual, val_entries = return_series_of_player_prediction(\n",
    "        df4model_dayof_4model_b1, df4model_dayof_4model_b2, log_reg_b1, log_reg_b2\n",
    "    )\n",
    "\n",
    "    colname = \"A_vs_B_\" + str(date_of_interest).strip(\"'\")\n",
    "    df_pred_actual_bydate[colname] = [i for i in val_entries]\n",
    "\n",
    "    df_pred_actual_bydate.index = [\n",
    "        \"game_date\",\n",
    "        \"key_batterA\",\n",
    "        \"key_batterB\",\n",
    "        \"prediction\",\n",
    "        \"actual\",\n",
    "    ]\n",
    "\n",
    "    if date_of_interest == date_list[-1]:\n",
    "        print(\"done getting dates\")\n"
   ]
  },
  {
   "cell_type": "code",
   "execution_count": 754,
   "metadata": {
    "ExecuteTime": {
     "end_time": "2020-01-30T01:56:46.200827Z",
     "start_time": "2020-01-30T01:56:46.180026Z"
    }
   },
   "outputs": [
    {
     "data": {
      "text/html": [
       "<div>\n",
       "<style scoped>\n",
       "    .dataframe tbody tr th:only-of-type {\n",
       "        vertical-align: middle;\n",
       "    }\n",
       "\n",
       "    .dataframe tbody tr th {\n",
       "        vertical-align: top;\n",
       "    }\n",
       "\n",
       "    .dataframe thead th {\n",
       "        text-align: right;\n",
       "    }\n",
       "</style>\n",
       "<table border=\"1\" class=\"dataframe\">\n",
       "  <thead>\n",
       "    <tr style=\"text-align: right;\">\n",
       "      <th></th>\n",
       "      <th>A_vs_B_2019-09-03</th>\n",
       "      <th>A_vs_B_2019-09-04</th>\n",
       "      <th>A_vs_B_2019-09-10</th>\n",
       "      <th>A_vs_B_2019-09-11</th>\n",
       "      <th>A_vs_B_2019-09-12</th>\n",
       "      <th>A_vs_B_2019-09-13</th>\n",
       "      <th>A_vs_B_2019-09-18</th>\n",
       "      <th>A_vs_B_2019-09-21</th>\n",
       "      <th>A_vs_B_2019-09-22</th>\n",
       "      <th>A_vs_B_2019-09-24</th>\n",
       "      <th>A_vs_B_2019-09-25</th>\n",
       "    </tr>\n",
       "  </thead>\n",
       "  <tbody>\n",
       "    <tr>\n",
       "      <th>game_date</th>\n",
       "      <td>'2019-09-03'</td>\n",
       "      <td>'2019-09-04'</td>\n",
       "      <td>'2019-09-10'</td>\n",
       "      <td>'2019-09-11'</td>\n",
       "      <td>'2019-09-12'</td>\n",
       "      <td>'2019-09-13'</td>\n",
       "      <td>'2019-09-18'</td>\n",
       "      <td>'2019-09-21'</td>\n",
       "      <td>'2019-09-22'</td>\n",
       "      <td>'2019-09-24'</td>\n",
       "      <td>'2019-09-25'</td>\n",
       "    </tr>\n",
       "    <tr>\n",
       "      <th>key_batterA</th>\n",
       "      <td>605141</td>\n",
       "      <td>605141</td>\n",
       "      <td>605141</td>\n",
       "      <td>605141</td>\n",
       "      <td>605141</td>\n",
       "      <td>605141</td>\n",
       "      <td>605141</td>\n",
       "      <td>605141</td>\n",
       "      <td>605141</td>\n",
       "      <td>605141</td>\n",
       "      <td>605141</td>\n",
       "    </tr>\n",
       "    <tr>\n",
       "      <th>key_batterB</th>\n",
       "      <td>544725</td>\n",
       "      <td>544725</td>\n",
       "      <td>544725</td>\n",
       "      <td>544725</td>\n",
       "      <td>544725</td>\n",
       "      <td>544725</td>\n",
       "      <td>544725</td>\n",
       "      <td>544725</td>\n",
       "      <td>544725</td>\n",
       "      <td>544725</td>\n",
       "      <td>544725</td>\n",
       "    </tr>\n",
       "    <tr>\n",
       "      <th>prediction</th>\n",
       "      <td>predict_A</td>\n",
       "      <td>predict_A</td>\n",
       "      <td>predict_A</td>\n",
       "      <td>predict_A</td>\n",
       "      <td>predict_A</td>\n",
       "      <td>predict_A</td>\n",
       "      <td>predict_A</td>\n",
       "      <td>predict_A</td>\n",
       "      <td>predict_A</td>\n",
       "      <td>predict_A</td>\n",
       "      <td>predict_A</td>\n",
       "    </tr>\n",
       "    <tr>\n",
       "      <th>actual</th>\n",
       "      <td>actual_B</td>\n",
       "      <td>actual_B</td>\n",
       "      <td>actual_B</td>\n",
       "      <td>actual_B</td>\n",
       "      <td>actual_A</td>\n",
       "      <td>actual_B</td>\n",
       "      <td>actual_B</td>\n",
       "      <td>actual_B</td>\n",
       "      <td>actual_B</td>\n",
       "      <td>actual_B</td>\n",
       "      <td>actual_B</td>\n",
       "    </tr>\n",
       "  </tbody>\n",
       "</table>\n",
       "</div>"
      ],
      "text/plain": [
       "            A_vs_B_2019-09-03 A_vs_B_2019-09-04 A_vs_B_2019-09-10  \\\n",
       "game_date        '2019-09-03'      '2019-09-04'      '2019-09-10'   \n",
       "key_batterA            605141            605141            605141   \n",
       "key_batterB            544725            544725            544725   \n",
       "prediction          predict_A         predict_A         predict_A   \n",
       "actual               actual_B          actual_B          actual_B   \n",
       "\n",
       "            A_vs_B_2019-09-11 A_vs_B_2019-09-12 A_vs_B_2019-09-13  \\\n",
       "game_date        '2019-09-11'      '2019-09-12'      '2019-09-13'   \n",
       "key_batterA            605141            605141            605141   \n",
       "key_batterB            544725            544725            544725   \n",
       "prediction          predict_A         predict_A         predict_A   \n",
       "actual               actual_B          actual_A          actual_B   \n",
       "\n",
       "            A_vs_B_2019-09-18 A_vs_B_2019-09-21 A_vs_B_2019-09-22  \\\n",
       "game_date        '2019-09-18'      '2019-09-21'      '2019-09-22'   \n",
       "key_batterA            605141            605141            605141   \n",
       "key_batterB            544725            544725            544725   \n",
       "prediction          predict_A         predict_A         predict_A   \n",
       "actual               actual_B          actual_B          actual_B   \n",
       "\n",
       "            A_vs_B_2019-09-24 A_vs_B_2019-09-25  \n",
       "game_date        '2019-09-24'      '2019-09-25'  \n",
       "key_batterA            605141            605141  \n",
       "key_batterB            544725            544725  \n",
       "prediction          predict_A         predict_A  \n",
       "actual               actual_B          actual_B  "
      ]
     },
     "execution_count": 754,
     "metadata": {},
     "output_type": "execute_result"
    },
    {
     "data": {
      "application/javascript": [
       "\n",
       "            setTimeout(function() {\n",
       "                var nbb_cell_id = 754;\n",
       "                var nbb_unformatted_code = \"df_pred_actual_bydate\";\n",
       "                var nbb_formatted_code = \"df_pred_actual_bydate\";\n",
       "                var nbb_cells = Jupyter.notebook.get_cells();\n",
       "                for (var i = 0; i < nbb_cells.length; ++i) {\n",
       "                    if (nbb_cells[i].input_prompt_number == nbb_cell_id) {\n",
       "                        if (nbb_cells[i].get_text() == nbb_unformatted_code) {\n",
       "                             nbb_cells[i].set_text(nbb_formatted_code);\n",
       "                        }\n",
       "                        break;\n",
       "                    }\n",
       "                }\n",
       "            }, 500);\n",
       "            "
      ],
      "text/plain": [
       "<IPython.core.display.Javascript object>"
      ]
     },
     "metadata": {},
     "output_type": "display_data"
    }
   ],
   "source": [
    "df_pred_actual_bydate"
   ]
  },
  {
   "cell_type": "markdown",
   "metadata": {},
   "source": [
    "**When looking at 11 common playing dates after September 1, the model made a correct prediction 1 of the 11 dates.**"
   ]
  },
  {
   "cell_type": "code",
   "execution_count": 756,
   "metadata": {
    "ExecuteTime": {
     "end_time": "2020-01-30T02:00:35.842826Z",
     "start_time": "2020-01-30T02:00:35.825537Z"
    }
   },
   "outputs": [
    {
     "data": {
      "text/html": [
       "<div>\n",
       "<style scoped>\n",
       "    .dataframe tbody tr th:only-of-type {\n",
       "        vertical-align: middle;\n",
       "    }\n",
       "\n",
       "    .dataframe tbody tr th {\n",
       "        vertical-align: top;\n",
       "    }\n",
       "\n",
       "    .dataframe thead th {\n",
       "        text-align: right;\n",
       "    }\n",
       "</style>\n",
       "<table border=\"1\" class=\"dataframe\">\n",
       "  <thead>\n",
       "    <tr style=\"text-align: right;\">\n",
       "      <th></th>\n",
       "      <th>test</th>\n",
       "      <th>pred</th>\n",
       "      <th>predprob</th>\n",
       "    </tr>\n",
       "  </thead>\n",
       "  <tbody>\n",
       "    <tr>\n",
       "      <th>41</th>\n",
       "      <td>0</td>\n",
       "      <td>0</td>\n",
       "      <td>0.274096</td>\n",
       "    </tr>\n",
       "    <tr>\n",
       "      <th>141</th>\n",
       "      <td>1</td>\n",
       "      <td>0</td>\n",
       "      <td>0.248559</td>\n",
       "    </tr>\n",
       "    <tr>\n",
       "      <th>34</th>\n",
       "      <td>0</td>\n",
       "      <td>0</td>\n",
       "      <td>0.239243</td>\n",
       "    </tr>\n",
       "    <tr>\n",
       "      <th>92</th>\n",
       "      <td>1</td>\n",
       "      <td>0</td>\n",
       "      <td>0.372372</td>\n",
       "    </tr>\n",
       "    <tr>\n",
       "      <th>14</th>\n",
       "      <td>1</td>\n",
       "      <td>0</td>\n",
       "      <td>0.153745</td>\n",
       "    </tr>\n",
       "    <tr>\n",
       "      <th>...</th>\n",
       "      <td>...</td>\n",
       "      <td>...</td>\n",
       "      <td>...</td>\n",
       "    </tr>\n",
       "    <tr>\n",
       "      <th>198</th>\n",
       "      <td>0</td>\n",
       "      <td>0</td>\n",
       "      <td>0.494873</td>\n",
       "    </tr>\n",
       "    <tr>\n",
       "      <th>19</th>\n",
       "      <td>0</td>\n",
       "      <td>0</td>\n",
       "      <td>0.195789</td>\n",
       "    </tr>\n",
       "    <tr>\n",
       "      <th>172</th>\n",
       "      <td>1</td>\n",
       "      <td>0</td>\n",
       "      <td>0.423505</td>\n",
       "    </tr>\n",
       "    <tr>\n",
       "      <th>190</th>\n",
       "      <td>0</td>\n",
       "      <td>0</td>\n",
       "      <td>0.423505</td>\n",
       "    </tr>\n",
       "    <tr>\n",
       "      <th>122</th>\n",
       "      <td>0</td>\n",
       "      <td>0</td>\n",
       "      <td>0.385989</td>\n",
       "    </tr>\n",
       "  </tbody>\n",
       "</table>\n",
       "<p>80 rows × 3 columns</p>\n",
       "</div>"
      ],
      "text/plain": [
       "     test  pred  predprob\n",
       "41      0     0  0.274096\n",
       "141     1     0  0.248559\n",
       "34      0     0  0.239243\n",
       "92      1     0  0.372372\n",
       "14      1     0  0.153745\n",
       "..    ...   ...       ...\n",
       "198     0     0  0.494873\n",
       "19      0     0  0.195789\n",
       "172     1     0  0.423505\n",
       "190     0     0  0.423505\n",
       "122     0     0  0.385989\n",
       "\n",
       "[80 rows x 3 columns]"
      ]
     },
     "execution_count": 756,
     "metadata": {},
     "output_type": "execute_result"
    },
    {
     "data": {
      "application/javascript": [
       "\n",
       "            setTimeout(function() {\n",
       "                var nbb_cell_id = 756;\n",
       "                var nbb_unformatted_code = \"df_eval_b1\";\n",
       "                var nbb_formatted_code = \"df_eval_b1\";\n",
       "                var nbb_cells = Jupyter.notebook.get_cells();\n",
       "                for (var i = 0; i < nbb_cells.length; ++i) {\n",
       "                    if (nbb_cells[i].input_prompt_number == nbb_cell_id) {\n",
       "                        if (nbb_cells[i].get_text() == nbb_unformatted_code) {\n",
       "                             nbb_cells[i].set_text(nbb_formatted_code);\n",
       "                        }\n",
       "                        break;\n",
       "                    }\n",
       "                }\n",
       "            }, 500);\n",
       "            "
      ],
      "text/plain": [
       "<IPython.core.display.Javascript object>"
      ]
     },
     "metadata": {},
     "output_type": "display_data"
    }
   ],
   "source": [
    "df_eval_b1"
   ]
  },
  {
   "cell_type": "code",
   "execution_count": 757,
   "metadata": {
    "ExecuteTime": {
     "end_time": "2020-01-30T02:00:42.121009Z",
     "start_time": "2020-01-30T02:00:42.101074Z"
    }
   },
   "outputs": [
    {
     "data": {
      "text/html": [
       "<div>\n",
       "<style scoped>\n",
       "    .dataframe tbody tr th:only-of-type {\n",
       "        vertical-align: middle;\n",
       "    }\n",
       "\n",
       "    .dataframe tbody tr th {\n",
       "        vertical-align: top;\n",
       "    }\n",
       "\n",
       "    .dataframe thead th {\n",
       "        text-align: right;\n",
       "    }\n",
       "</style>\n",
       "<table border=\"1\" class=\"dataframe\">\n",
       "  <thead>\n",
       "    <tr style=\"text-align: right;\">\n",
       "      <th></th>\n",
       "      <th>test</th>\n",
       "      <th>pred</th>\n",
       "      <th>predprob</th>\n",
       "    </tr>\n",
       "  </thead>\n",
       "  <tbody>\n",
       "    <tr>\n",
       "      <th>34</th>\n",
       "      <td>1</td>\n",
       "      <td>0</td>\n",
       "      <td>0.191440</td>\n",
       "    </tr>\n",
       "    <tr>\n",
       "      <th>78</th>\n",
       "      <td>0</td>\n",
       "      <td>0</td>\n",
       "      <td>0.192407</td>\n",
       "    </tr>\n",
       "    <tr>\n",
       "      <th>149</th>\n",
       "      <td>0</td>\n",
       "      <td>0</td>\n",
       "      <td>0.289083</td>\n",
       "    </tr>\n",
       "    <tr>\n",
       "      <th>40</th>\n",
       "      <td>1</td>\n",
       "      <td>0</td>\n",
       "      <td>0.236161</td>\n",
       "    </tr>\n",
       "    <tr>\n",
       "      <th>85</th>\n",
       "      <td>0</td>\n",
       "      <td>0</td>\n",
       "      <td>0.216773</td>\n",
       "    </tr>\n",
       "    <tr>\n",
       "      <th>...</th>\n",
       "      <td>...</td>\n",
       "      <td>...</td>\n",
       "      <td>...</td>\n",
       "    </tr>\n",
       "    <tr>\n",
       "      <th>172</th>\n",
       "      <td>0</td>\n",
       "      <td>0</td>\n",
       "      <td>0.403339</td>\n",
       "    </tr>\n",
       "    <tr>\n",
       "      <th>190</th>\n",
       "      <td>1</td>\n",
       "      <td>0</td>\n",
       "      <td>0.274596</td>\n",
       "    </tr>\n",
       "    <tr>\n",
       "      <th>145</th>\n",
       "      <td>1</td>\n",
       "      <td>0</td>\n",
       "      <td>0.336623</td>\n",
       "    </tr>\n",
       "    <tr>\n",
       "      <th>71</th>\n",
       "      <td>1</td>\n",
       "      <td>0</td>\n",
       "      <td>0.127556</td>\n",
       "    </tr>\n",
       "    <tr>\n",
       "      <th>122</th>\n",
       "      <td>0</td>\n",
       "      <td>0</td>\n",
       "      <td>0.156877</td>\n",
       "    </tr>\n",
       "  </tbody>\n",
       "</table>\n",
       "<p>80 rows × 3 columns</p>\n",
       "</div>"
      ],
      "text/plain": [
       "     test  pred  predprob\n",
       "34      1     0  0.191440\n",
       "78      0     0  0.192407\n",
       "149     0     0  0.289083\n",
       "40      1     0  0.236161\n",
       "85      0     0  0.216773\n",
       "..    ...   ...       ...\n",
       "172     0     0  0.403339\n",
       "190     1     0  0.274596\n",
       "145     1     0  0.336623\n",
       "71      1     0  0.127556\n",
       "122     0     0  0.156877\n",
       "\n",
       "[80 rows x 3 columns]"
      ]
     },
     "execution_count": 757,
     "metadata": {},
     "output_type": "execute_result"
    },
    {
     "data": {
      "application/javascript": [
       "\n",
       "            setTimeout(function() {\n",
       "                var nbb_cell_id = 757;\n",
       "                var nbb_unformatted_code = \"df_eval_b2\";\n",
       "                var nbb_formatted_code = \"df_eval_b2\";\n",
       "                var nbb_cells = Jupyter.notebook.get_cells();\n",
       "                for (var i = 0; i < nbb_cells.length; ++i) {\n",
       "                    if (nbb_cells[i].input_prompt_number == nbb_cell_id) {\n",
       "                        if (nbb_cells[i].get_text() == nbb_unformatted_code) {\n",
       "                             nbb_cells[i].set_text(nbb_formatted_code);\n",
       "                        }\n",
       "                        break;\n",
       "                    }\n",
       "                }\n",
       "            }, 500);\n",
       "            "
      ],
      "text/plain": [
       "<IPython.core.display.Javascript object>"
      ]
     },
     "metadata": {},
     "output_type": "display_data"
    }
   ],
   "source": [
    "df_eval_b2"
   ]
  },
  {
   "cell_type": "markdown",
   "metadata": {},
   "source": [
    "## End of validation"
   ]
  },
  {
   "cell_type": "code",
   "execution_count": null,
   "metadata": {},
   "outputs": [],
   "source": []
  },
  {
   "cell_type": "markdown",
   "metadata": {},
   "source": [
    "# Add pitcher features, at-bat level\n",
    "\n",
    "SQL query gets everything **before** the date. The validation and checking gets data on the day of."
   ]
  },
  {
   "cell_type": "code",
   "execution_count": 772,
   "metadata": {
    "ExecuteTime": {
     "end_time": "2020-01-30T02:43:53.796343Z",
     "start_time": "2020-01-30T02:43:53.777723Z"
    }
   },
   "outputs": [
    {
     "data": {
      "text/html": [
       "<div>\n",
       "<style scoped>\n",
       "    .dataframe tbody tr th:only-of-type {\n",
       "        vertical-align: middle;\n",
       "    }\n",
       "\n",
       "    .dataframe tbody tr th {\n",
       "        vertical-align: top;\n",
       "    }\n",
       "\n",
       "    .dataframe thead th {\n",
       "        text-align: right;\n",
       "    }\n",
       "</style>\n",
       "<table border=\"1\" class=\"dataframe\">\n",
       "  <thead>\n",
       "    <tr style=\"text-align: right;\">\n",
       "      <th></th>\n",
       "      <th>game_date</th>\n",
       "      <th>inning</th>\n",
       "      <th>outs_when_up</th>\n",
       "      <th>events</th>\n",
       "      <th>player_name</th>\n",
       "      <th>pitcher</th>\n",
       "      <th>event_code</th>\n",
       "      <th>p_throws</th>\n",
       "      <th>prop_events_nback</th>\n",
       "      <th>prop_events_sum_nback_pt</th>\n",
       "    </tr>\n",
       "  </thead>\n",
       "  <tbody>\n",
       "    <tr>\n",
       "      <th>0</th>\n",
       "      <td>2019-09-25</td>\n",
       "      <td>1.0</td>\n",
       "      <td>1.0</td>\n",
       "      <td>field_out</td>\n",
       "      <td>Jon Lester</td>\n",
       "      <td>452657.0</td>\n",
       "      <td>0</td>\n",
       "      <td>L</td>\n",
       "      <td>0.28</td>\n",
       "      <td>0.26</td>\n",
       "    </tr>\n",
       "  </tbody>\n",
       "</table>\n",
       "</div>"
      ],
      "text/plain": [
       "   game_date  inning  outs_when_up     events player_name   pitcher  \\\n",
       "0 2019-09-25     1.0           1.0  field_out  Jon Lester  452657.0   \n",
       "\n",
       "   event_code p_throws  prop_events_nback  prop_events_sum_nback_pt  \n",
       "0           0        L               0.28                      0.26  "
      ]
     },
     "execution_count": 772,
     "metadata": {},
     "output_type": "execute_result"
    },
    {
     "data": {
      "application/javascript": [
       "\n",
       "            setTimeout(function() {\n",
       "                var nbb_cell_id = 772;\n",
       "                var nbb_unformatted_code = \"df4model_dayof_b1.head()\";\n",
       "                var nbb_formatted_code = \"df4model_dayof_b1.head()\";\n",
       "                var nbb_cells = Jupyter.notebook.get_cells();\n",
       "                for (var i = 0; i < nbb_cells.length; ++i) {\n",
       "                    if (nbb_cells[i].input_prompt_number == nbb_cell_id) {\n",
       "                        if (nbb_cells[i].get_text() == nbb_unformatted_code) {\n",
       "                             nbb_cells[i].set_text(nbb_formatted_code);\n",
       "                        }\n",
       "                        break;\n",
       "                    }\n",
       "                }\n",
       "            }, 500);\n",
       "            "
      ],
      "text/plain": [
       "<IPython.core.display.Javascript object>"
      ]
     },
     "metadata": {},
     "output_type": "display_data"
    }
   ],
   "source": [
    "df4model_dayof_b1.head()"
   ]
  },
  {
   "cell_type": "code",
   "execution_count": 1457,
   "metadata": {
    "ExecuteTime": {
     "end_time": "2020-01-28T20:24:36.073177Z",
     "start_time": "2020-01-28T20:24:36.054703Z"
    }
   },
   "outputs": [
    {
     "data": {
      "application/javascript": [
       "\n",
       "            setTimeout(function() {\n",
       "                var nbb_cell_id = 1457;\n",
       "                var nbb_unformatted_code = \"# This will capture starting pitcher most of the time\\n# Not completely right (somoene could start but leave game before hitter's at-bat)\\n# but will leave this for validation\\n\\n# INPUT DATE AND DF OF PITCHER\\n\\ndate_of_interest = date_of_interest\\ndf4_bp_match = df_sc_events1.copy()\\n\\n# bool_pitcher = df_sc_events1[\\\"game_date\\\"] == date_of_interest\\n# pid_opp_pitcher = df4_bp_match.loc[bool_pitcher, \\\"pitcher\\\"].iloc[-1]\";\n",
       "                var nbb_formatted_code = \"# This will capture starting pitcher most of the time\\n# Not completely right (somoene could start but leave game before hitter's at-bat)\\n# but will leave this for validation\\n\\n# INPUT DATE AND DF OF PITCHER\\n\\ndate_of_interest = date_of_interest\\ndf4_bp_match = df_sc_events1.copy()\\n\\n# bool_pitcher = df_sc_events1[\\\"game_date\\\"] == date_of_interest\\n# pid_opp_pitcher = df4_bp_match.loc[bool_pitcher, \\\"pitcher\\\"].iloc[-1]\";\n",
       "                var nbb_cells = Jupyter.notebook.get_cells();\n",
       "                for (var i = 0; i < nbb_cells.length; ++i) {\n",
       "                    if (nbb_cells[i].input_prompt_number == nbb_cell_id) {\n",
       "                        if (nbb_cells[i].get_text() == nbb_unformatted_code) {\n",
       "                             nbb_cells[i].set_text(nbb_formatted_code);\n",
       "                        }\n",
       "                        break;\n",
       "                    }\n",
       "                }\n",
       "            }, 500);\n",
       "            "
      ],
      "text/plain": [
       "<IPython.core.display.Javascript object>"
      ]
     },
     "metadata": {},
     "output_type": "display_data"
    }
   ],
   "source": [
    "# This will capture starting pitcher most of the time\n",
    "# Not completely right (somoene could start but leave game before hitter's at-bat)\n",
    "# but will leave this for validation\n",
    "\n",
    "# INPUT DATE AND DF OF PITCHER\n",
    "\n",
    "date_of_interest = date_of_interest\n",
    "df4_bp_match = df_sc_events1.copy()\n",
    "\n",
    "# bool_pitcher = df_sc_events1[\"game_date\"] == date_of_interest\n",
    "# pid_opp_pitcher = df4_bp_match.loc[bool_pitcher, \"pitcher\"].iloc[-1]"
   ]
  },
  {
   "cell_type": "code",
   "execution_count": 1458,
   "metadata": {
    "ExecuteTime": {
     "end_time": "2020-01-28T20:24:37.462335Z",
     "start_time": "2020-01-28T20:24:37.425049Z"
    }
   },
   "outputs": [
    {
     "data": {
      "text/html": [
       "<div>\n",
       "<style scoped>\n",
       "    .dataframe tbody tr th:only-of-type {\n",
       "        vertical-align: middle;\n",
       "    }\n",
       "\n",
       "    .dataframe tbody tr th {\n",
       "        vertical-align: top;\n",
       "    }\n",
       "\n",
       "    .dataframe thead th {\n",
       "        text-align: right;\n",
       "    }\n",
       "</style>\n",
       "<table border=\"1\" class=\"dataframe\">\n",
       "  <thead>\n",
       "    <tr style=\"text-align: right;\">\n",
       "      <th></th>\n",
       "      <th>pitch_type</th>\n",
       "      <th>game_date</th>\n",
       "      <th>release_speed</th>\n",
       "      <th>release_pos_x</th>\n",
       "      <th>release_pos_z</th>\n",
       "      <th>player_name</th>\n",
       "      <th>batter</th>\n",
       "      <th>pitcher</th>\n",
       "      <th>events</th>\n",
       "      <th>description</th>\n",
       "      <th>...</th>\n",
       "      <th>if_fielding_alignment</th>\n",
       "      <th>of_fielding_alignment</th>\n",
       "      <th>name_last</th>\n",
       "      <th>name_first</th>\n",
       "      <th>key_mlbam</th>\n",
       "      <th>key_retro</th>\n",
       "      <th>key_bbref</th>\n",
       "      <th>key_fangraphs</th>\n",
       "      <th>mlb_played_first</th>\n",
       "      <th>mlb_played_last</th>\n",
       "    </tr>\n",
       "  </thead>\n",
       "  <tbody>\n",
       "    <tr>\n",
       "      <th>0</th>\n",
       "      <td>SI</td>\n",
       "      <td>2019-09-09</td>\n",
       "      <td>84.7</td>\n",
       "      <td>-2.3591</td>\n",
       "      <td>5.8620</td>\n",
       "      <td>Kyle Hendricks</td>\n",
       "      <td>592518.0</td>\n",
       "      <td>543294.0</td>\n",
       "      <td>single</td>\n",
       "      <td>hit_into_play_no_out</td>\n",
       "      <td>...</td>\n",
       "      <td>Standard</td>\n",
       "      <td>Standard</td>\n",
       "      <td>machado</td>\n",
       "      <td>manny</td>\n",
       "      <td>592518</td>\n",
       "      <td>machm001</td>\n",
       "      <td>machama01</td>\n",
       "      <td>11493</td>\n",
       "      <td>2012.0</td>\n",
       "      <td>2019.0</td>\n",
       "    </tr>\n",
       "    <tr>\n",
       "      <th>1</th>\n",
       "      <td>SI</td>\n",
       "      <td>2019-09-09</td>\n",
       "      <td>85.4</td>\n",
       "      <td>-2.4186</td>\n",
       "      <td>5.8800</td>\n",
       "      <td>Kyle Hendricks</td>\n",
       "      <td>592518.0</td>\n",
       "      <td>543294.0</td>\n",
       "      <td>single</td>\n",
       "      <td>hit_into_play_no_out</td>\n",
       "      <td>...</td>\n",
       "      <td>Standard</td>\n",
       "      <td>Standard</td>\n",
       "      <td>machado</td>\n",
       "      <td>manny</td>\n",
       "      <td>592518</td>\n",
       "      <td>machm001</td>\n",
       "      <td>machama01</td>\n",
       "      <td>11493</td>\n",
       "      <td>2012.0</td>\n",
       "      <td>2019.0</td>\n",
       "    </tr>\n",
       "    <tr>\n",
       "      <th>2</th>\n",
       "      <td>CU</td>\n",
       "      <td>2019-09-09</td>\n",
       "      <td>71.5</td>\n",
       "      <td>-2.2610</td>\n",
       "      <td>5.9986</td>\n",
       "      <td>Kyle Hendricks</td>\n",
       "      <td>592518.0</td>\n",
       "      <td>543294.0</td>\n",
       "      <td>field_out</td>\n",
       "      <td>hit_into_play</td>\n",
       "      <td>...</td>\n",
       "      <td>Standard</td>\n",
       "      <td>Standard</td>\n",
       "      <td>machado</td>\n",
       "      <td>manny</td>\n",
       "      <td>592518</td>\n",
       "      <td>machm001</td>\n",
       "      <td>machama01</td>\n",
       "      <td>11493</td>\n",
       "      <td>2012.0</td>\n",
       "      <td>2019.0</td>\n",
       "    </tr>\n",
       "    <tr>\n",
       "      <th>3</th>\n",
       "      <td>SI</td>\n",
       "      <td>2019-09-08</td>\n",
       "      <td>92.4</td>\n",
       "      <td>-1.2178</td>\n",
       "      <td>6.0300</td>\n",
       "      <td>Jesus Tinoco</td>\n",
       "      <td>592518.0</td>\n",
       "      <td>622786.0</td>\n",
       "      <td>walk</td>\n",
       "      <td>ball</td>\n",
       "      <td>...</td>\n",
       "      <td>Standard</td>\n",
       "      <td>Standard</td>\n",
       "      <td>machado</td>\n",
       "      <td>manny</td>\n",
       "      <td>592518</td>\n",
       "      <td>machm001</td>\n",
       "      <td>machama01</td>\n",
       "      <td>11493</td>\n",
       "      <td>2012.0</td>\n",
       "      <td>2019.0</td>\n",
       "    </tr>\n",
       "    <tr>\n",
       "      <th>4</th>\n",
       "      <td>FC</td>\n",
       "      <td>2019-09-08</td>\n",
       "      <td>93.2</td>\n",
       "      <td>-2.9951</td>\n",
       "      <td>6.0254</td>\n",
       "      <td>Bryan Shaw</td>\n",
       "      <td>592518.0</td>\n",
       "      <td>543766.0</td>\n",
       "      <td>walk</td>\n",
       "      <td>ball</td>\n",
       "      <td>...</td>\n",
       "      <td>Standard</td>\n",
       "      <td>Standard</td>\n",
       "      <td>machado</td>\n",
       "      <td>manny</td>\n",
       "      <td>592518</td>\n",
       "      <td>machm001</td>\n",
       "      <td>machama01</td>\n",
       "      <td>11493</td>\n",
       "      <td>2012.0</td>\n",
       "      <td>2019.0</td>\n",
       "    </tr>\n",
       "  </tbody>\n",
       "</table>\n",
       "<p>5 rows × 97 columns</p>\n",
       "</div>"
      ],
      "text/plain": [
       "  pitch_type  game_date  release_speed  release_pos_x  release_pos_z  \\\n",
       "0         SI 2019-09-09           84.7        -2.3591         5.8620   \n",
       "1         SI 2019-09-09           85.4        -2.4186         5.8800   \n",
       "2         CU 2019-09-09           71.5        -2.2610         5.9986   \n",
       "3         SI 2019-09-08           92.4        -1.2178         6.0300   \n",
       "4         FC 2019-09-08           93.2        -2.9951         6.0254   \n",
       "\n",
       "      player_name    batter   pitcher     events           description  ...  \\\n",
       "0  Kyle Hendricks  592518.0  543294.0     single  hit_into_play_no_out  ...   \n",
       "1  Kyle Hendricks  592518.0  543294.0     single  hit_into_play_no_out  ...   \n",
       "2  Kyle Hendricks  592518.0  543294.0  field_out         hit_into_play  ...   \n",
       "3    Jesus Tinoco  592518.0  622786.0       walk                  ball  ...   \n",
       "4      Bryan Shaw  592518.0  543766.0       walk                  ball  ...   \n",
       "\n",
       "  if_fielding_alignment of_fielding_alignment name_last name_first  key_mlbam  \\\n",
       "0              Standard              Standard   machado      manny     592518   \n",
       "1              Standard              Standard   machado      manny     592518   \n",
       "2              Standard              Standard   machado      manny     592518   \n",
       "3              Standard              Standard   machado      manny     592518   \n",
       "4              Standard              Standard   machado      manny     592518   \n",
       "\n",
       "  key_retro  key_bbref key_fangraphs mlb_played_first mlb_played_last  \n",
       "0  machm001  machama01         11493           2012.0          2019.0  \n",
       "1  machm001  machama01         11493           2012.0          2019.0  \n",
       "2  machm001  machama01         11493           2012.0          2019.0  \n",
       "3  machm001  machama01         11493           2012.0          2019.0  \n",
       "4  machm001  machama01         11493           2012.0          2019.0  \n",
       "\n",
       "[5 rows x 97 columns]"
      ]
     },
     "execution_count": 1458,
     "metadata": {},
     "output_type": "execute_result"
    },
    {
     "data": {
      "application/javascript": [
       "\n",
       "            setTimeout(function() {\n",
       "                var nbb_cell_id = 1458;\n",
       "                var nbb_unformatted_code = \"df_sc_events1.head()\";\n",
       "                var nbb_formatted_code = \"df_sc_events1.head()\";\n",
       "                var nbb_cells = Jupyter.notebook.get_cells();\n",
       "                for (var i = 0; i < nbb_cells.length; ++i) {\n",
       "                    if (nbb_cells[i].input_prompt_number == nbb_cell_id) {\n",
       "                        if (nbb_cells[i].get_text() == nbb_unformatted_code) {\n",
       "                             nbb_cells[i].set_text(nbb_formatted_code);\n",
       "                        }\n",
       "                        break;\n",
       "                    }\n",
       "                }\n",
       "            }, 500);\n",
       "            "
      ],
      "text/plain": [
       "<IPython.core.display.Javascript object>"
      ]
     },
     "metadata": {},
     "output_type": "display_data"
    }
   ],
   "source": [
    "df_sc_events1.head()"
   ]
  },
  {
   "cell_type": "code",
   "execution_count": 959,
   "metadata": {
    "ExecuteTime": {
     "end_time": "2020-01-27T19:07:32.551311Z",
     "start_time": "2020-01-27T19:07:32.541422Z"
    }
   },
   "outputs": [
    {
     "name": "stdout",
     "output_type": "stream",
     "text": [
      "543294.0\n"
     ]
    },
    {
     "data": {
      "application/javascript": [
       "\n",
       "            setTimeout(function() {\n",
       "                var nbb_cell_id = 959;\n",
       "                var nbb_unformatted_code = \"print(pid_opp_pitcher)\";\n",
       "                var nbb_formatted_code = \"print(pid_opp_pitcher)\";\n",
       "                var nbb_cells = Jupyter.notebook.get_cells();\n",
       "                for (var i = 0; i < nbb_cells.length; ++i) {\n",
       "                    if (nbb_cells[i].input_prompt_number == nbb_cell_id) {\n",
       "                        if (nbb_cells[i].get_text() == nbb_unformatted_code) {\n",
       "                             nbb_cells[i].set_text(nbb_formatted_code);\n",
       "                        }\n",
       "                        break;\n",
       "                    }\n",
       "                }\n",
       "            }, 500);\n",
       "            "
      ],
      "text/plain": [
       "<IPython.core.display.Javascript object>"
      ]
     },
     "metadata": {},
     "output_type": "display_data"
    }
   ],
   "source": [
    "#print(pid_opp_pitcher)"
   ]
  },
  {
   "cell_type": "code",
   "execution_count": 1459,
   "metadata": {
    "ExecuteTime": {
     "end_time": "2020-01-28T20:24:48.839994Z",
     "start_time": "2020-01-28T20:24:48.827677Z"
    }
   },
   "outputs": [
    {
     "data": {
      "application/javascript": [
       "\n",
       "            setTimeout(function() {\n",
       "                var nbb_cell_id = 1459;\n",
       "                var nbb_unformatted_code = \"# df_sc_events1_temp = df_sc_events1.iloc[0:5, :].copy()\\ndf_sc_events1_temp = df_sc_events1.copy()\";\n",
       "                var nbb_formatted_code = \"# df_sc_events1_temp = df_sc_events1.iloc[0:5, :].copy()\\ndf_sc_events1_temp = df_sc_events1.copy()\";\n",
       "                var nbb_cells = Jupyter.notebook.get_cells();\n",
       "                for (var i = 0; i < nbb_cells.length; ++i) {\n",
       "                    if (nbb_cells[i].input_prompt_number == nbb_cell_id) {\n",
       "                        if (nbb_cells[i].get_text() == nbb_unformatted_code) {\n",
       "                             nbb_cells[i].set_text(nbb_formatted_code);\n",
       "                        }\n",
       "                        break;\n",
       "                    }\n",
       "                }\n",
       "            }, 500);\n",
       "            "
      ],
      "text/plain": [
       "<IPython.core.display.Javascript object>"
      ]
     },
     "metadata": {},
     "output_type": "display_data"
    }
   ],
   "source": [
    "# df_sc_events1_temp = df_sc_events1.iloc[0:5, :].copy()\n",
    "df_sc_events1_temp = df_sc_events1.copy()"
   ]
  },
  {
   "cell_type": "code",
   "execution_count": 1460,
   "metadata": {
    "ExecuteTime": {
     "end_time": "2020-01-28T20:24:51.171872Z",
     "start_time": "2020-01-28T20:24:51.116711Z"
    }
   },
   "outputs": [
    {
     "data": {
      "text/html": [
       "<div>\n",
       "<style scoped>\n",
       "    .dataframe tbody tr th:only-of-type {\n",
       "        vertical-align: middle;\n",
       "    }\n",
       "\n",
       "    .dataframe tbody tr th {\n",
       "        vertical-align: top;\n",
       "    }\n",
       "\n",
       "    .dataframe thead th {\n",
       "        text-align: right;\n",
       "    }\n",
       "</style>\n",
       "<table border=\"1\" class=\"dataframe\">\n",
       "  <thead>\n",
       "    <tr style=\"text-align: right;\">\n",
       "      <th></th>\n",
       "      <th>pitch_type</th>\n",
       "      <th>game_date</th>\n",
       "      <th>release_speed</th>\n",
       "      <th>release_pos_x</th>\n",
       "      <th>release_pos_z</th>\n",
       "      <th>player_name</th>\n",
       "      <th>batter</th>\n",
       "      <th>pitcher</th>\n",
       "      <th>events</th>\n",
       "      <th>description</th>\n",
       "      <th>...</th>\n",
       "      <th>if_fielding_alignment</th>\n",
       "      <th>of_fielding_alignment</th>\n",
       "      <th>name_last</th>\n",
       "      <th>name_first</th>\n",
       "      <th>key_mlbam</th>\n",
       "      <th>key_retro</th>\n",
       "      <th>key_bbref</th>\n",
       "      <th>key_fangraphs</th>\n",
       "      <th>mlb_played_first</th>\n",
       "      <th>mlb_played_last</th>\n",
       "    </tr>\n",
       "  </thead>\n",
       "  <tbody>\n",
       "    <tr>\n",
       "      <th>0</th>\n",
       "      <td>SI</td>\n",
       "      <td>2019-09-09</td>\n",
       "      <td>84.7</td>\n",
       "      <td>-2.3591</td>\n",
       "      <td>5.8620</td>\n",
       "      <td>Kyle Hendricks</td>\n",
       "      <td>592518.0</td>\n",
       "      <td>543294.0</td>\n",
       "      <td>single</td>\n",
       "      <td>hit_into_play_no_out</td>\n",
       "      <td>...</td>\n",
       "      <td>Standard</td>\n",
       "      <td>Standard</td>\n",
       "      <td>machado</td>\n",
       "      <td>manny</td>\n",
       "      <td>592518</td>\n",
       "      <td>machm001</td>\n",
       "      <td>machama01</td>\n",
       "      <td>11493</td>\n",
       "      <td>2012.0</td>\n",
       "      <td>2019.0</td>\n",
       "    </tr>\n",
       "    <tr>\n",
       "      <th>1</th>\n",
       "      <td>SI</td>\n",
       "      <td>2019-09-09</td>\n",
       "      <td>85.4</td>\n",
       "      <td>-2.4186</td>\n",
       "      <td>5.8800</td>\n",
       "      <td>Kyle Hendricks</td>\n",
       "      <td>592518.0</td>\n",
       "      <td>543294.0</td>\n",
       "      <td>single</td>\n",
       "      <td>hit_into_play_no_out</td>\n",
       "      <td>...</td>\n",
       "      <td>Standard</td>\n",
       "      <td>Standard</td>\n",
       "      <td>machado</td>\n",
       "      <td>manny</td>\n",
       "      <td>592518</td>\n",
       "      <td>machm001</td>\n",
       "      <td>machama01</td>\n",
       "      <td>11493</td>\n",
       "      <td>2012.0</td>\n",
       "      <td>2019.0</td>\n",
       "    </tr>\n",
       "    <tr>\n",
       "      <th>2</th>\n",
       "      <td>CU</td>\n",
       "      <td>2019-09-09</td>\n",
       "      <td>71.5</td>\n",
       "      <td>-2.2610</td>\n",
       "      <td>5.9986</td>\n",
       "      <td>Kyle Hendricks</td>\n",
       "      <td>592518.0</td>\n",
       "      <td>543294.0</td>\n",
       "      <td>field_out</td>\n",
       "      <td>hit_into_play</td>\n",
       "      <td>...</td>\n",
       "      <td>Standard</td>\n",
       "      <td>Standard</td>\n",
       "      <td>machado</td>\n",
       "      <td>manny</td>\n",
       "      <td>592518</td>\n",
       "      <td>machm001</td>\n",
       "      <td>machama01</td>\n",
       "      <td>11493</td>\n",
       "      <td>2012.0</td>\n",
       "      <td>2019.0</td>\n",
       "    </tr>\n",
       "    <tr>\n",
       "      <th>3</th>\n",
       "      <td>SI</td>\n",
       "      <td>2019-09-08</td>\n",
       "      <td>92.4</td>\n",
       "      <td>-1.2178</td>\n",
       "      <td>6.0300</td>\n",
       "      <td>Jesus Tinoco</td>\n",
       "      <td>592518.0</td>\n",
       "      <td>622786.0</td>\n",
       "      <td>walk</td>\n",
       "      <td>ball</td>\n",
       "      <td>...</td>\n",
       "      <td>Standard</td>\n",
       "      <td>Standard</td>\n",
       "      <td>machado</td>\n",
       "      <td>manny</td>\n",
       "      <td>592518</td>\n",
       "      <td>machm001</td>\n",
       "      <td>machama01</td>\n",
       "      <td>11493</td>\n",
       "      <td>2012.0</td>\n",
       "      <td>2019.0</td>\n",
       "    </tr>\n",
       "    <tr>\n",
       "      <th>4</th>\n",
       "      <td>FC</td>\n",
       "      <td>2019-09-08</td>\n",
       "      <td>93.2</td>\n",
       "      <td>-2.9951</td>\n",
       "      <td>6.0254</td>\n",
       "      <td>Bryan Shaw</td>\n",
       "      <td>592518.0</td>\n",
       "      <td>543766.0</td>\n",
       "      <td>walk</td>\n",
       "      <td>ball</td>\n",
       "      <td>...</td>\n",
       "      <td>Standard</td>\n",
       "      <td>Standard</td>\n",
       "      <td>machado</td>\n",
       "      <td>manny</td>\n",
       "      <td>592518</td>\n",
       "      <td>machm001</td>\n",
       "      <td>machama01</td>\n",
       "      <td>11493</td>\n",
       "      <td>2012.0</td>\n",
       "      <td>2019.0</td>\n",
       "    </tr>\n",
       "  </tbody>\n",
       "</table>\n",
       "<p>5 rows × 97 columns</p>\n",
       "</div>"
      ],
      "text/plain": [
       "  pitch_type  game_date  release_speed  release_pos_x  release_pos_z  \\\n",
       "0         SI 2019-09-09           84.7        -2.3591         5.8620   \n",
       "1         SI 2019-09-09           85.4        -2.4186         5.8800   \n",
       "2         CU 2019-09-09           71.5        -2.2610         5.9986   \n",
       "3         SI 2019-09-08           92.4        -1.2178         6.0300   \n",
       "4         FC 2019-09-08           93.2        -2.9951         6.0254   \n",
       "\n",
       "      player_name    batter   pitcher     events           description  ...  \\\n",
       "0  Kyle Hendricks  592518.0  543294.0     single  hit_into_play_no_out  ...   \n",
       "1  Kyle Hendricks  592518.0  543294.0     single  hit_into_play_no_out  ...   \n",
       "2  Kyle Hendricks  592518.0  543294.0  field_out         hit_into_play  ...   \n",
       "3    Jesus Tinoco  592518.0  622786.0       walk                  ball  ...   \n",
       "4      Bryan Shaw  592518.0  543766.0       walk                  ball  ...   \n",
       "\n",
       "  if_fielding_alignment of_fielding_alignment name_last name_first  key_mlbam  \\\n",
       "0              Standard              Standard   machado      manny     592518   \n",
       "1              Standard              Standard   machado      manny     592518   \n",
       "2              Standard              Standard   machado      manny     592518   \n",
       "3              Standard              Standard   machado      manny     592518   \n",
       "4              Standard              Standard   machado      manny     592518   \n",
       "\n",
       "  key_retro  key_bbref key_fangraphs mlb_played_first mlb_played_last  \n",
       "0  machm001  machama01         11493           2012.0          2019.0  \n",
       "1  machm001  machama01         11493           2012.0          2019.0  \n",
       "2  machm001  machama01         11493           2012.0          2019.0  \n",
       "3  machm001  machama01         11493           2012.0          2019.0  \n",
       "4  machm001  machama01         11493           2012.0          2019.0  \n",
       "\n",
       "[5 rows x 97 columns]"
      ]
     },
     "execution_count": 1460,
     "metadata": {},
     "output_type": "execute_result"
    },
    {
     "data": {
      "application/javascript": [
       "\n",
       "            setTimeout(function() {\n",
       "                var nbb_cell_id = 1460;\n",
       "                var nbb_unformatted_code = \"df_sc_events1_temp.head()\";\n",
       "                var nbb_formatted_code = \"df_sc_events1_temp.head()\";\n",
       "                var nbb_cells = Jupyter.notebook.get_cells();\n",
       "                for (var i = 0; i < nbb_cells.length; ++i) {\n",
       "                    if (nbb_cells[i].input_prompt_number == nbb_cell_id) {\n",
       "                        if (nbb_cells[i].get_text() == nbb_unformatted_code) {\n",
       "                             nbb_cells[i].set_text(nbb_formatted_code);\n",
       "                        }\n",
       "                        break;\n",
       "                    }\n",
       "                }\n",
       "            }, 500);\n",
       "            "
      ],
      "text/plain": [
       "<IPython.core.display.Javascript object>"
      ]
     },
     "metadata": {},
     "output_type": "display_data"
    }
   ],
   "source": [
    "df_sc_events1_temp.head()"
   ]
  },
  {
   "cell_type": "code",
   "execution_count": null,
   "metadata": {},
   "outputs": [],
   "source": []
  },
  {
   "cell_type": "code",
   "execution_count": null,
   "metadata": {},
   "outputs": [],
   "source": []
  },
  {
   "cell_type": "markdown",
   "metadata": {},
   "source": [
    "## Add pitcher info"
   ]
  },
  {
   "cell_type": "code",
   "execution_count": 1461,
   "metadata": {
    "ExecuteTime": {
     "end_time": "2020-01-28T20:24:55.464834Z",
     "start_time": "2020-01-28T20:24:55.404020Z"
    },
    "collapsed": true
   },
   "outputs": [
    {
     "data": {
      "text/html": [
       "<div>\n",
       "<style scoped>\n",
       "    .dataframe tbody tr th:only-of-type {\n",
       "        vertical-align: middle;\n",
       "    }\n",
       "\n",
       "    .dataframe tbody tr th {\n",
       "        vertical-align: top;\n",
       "    }\n",
       "\n",
       "    .dataframe thead th {\n",
       "        text-align: right;\n",
       "    }\n",
       "</style>\n",
       "<table border=\"1\" class=\"dataframe\">\n",
       "  <thead>\n",
       "    <tr style=\"text-align: right;\">\n",
       "      <th></th>\n",
       "      <th>pitch_type</th>\n",
       "      <th>game_date</th>\n",
       "      <th>release_speed</th>\n",
       "      <th>release_pos_x</th>\n",
       "      <th>release_pos_z</th>\n",
       "      <th>player_name</th>\n",
       "      <th>batter</th>\n",
       "      <th>pitcher</th>\n",
       "      <th>events</th>\n",
       "      <th>description</th>\n",
       "      <th>...</th>\n",
       "      <th>if_fielding_alignment</th>\n",
       "      <th>of_fielding_alignment</th>\n",
       "      <th>name_last</th>\n",
       "      <th>name_first</th>\n",
       "      <th>key_mlbam</th>\n",
       "      <th>key_retro</th>\n",
       "      <th>key_bbref</th>\n",
       "      <th>key_fangraphs</th>\n",
       "      <th>mlb_played_first</th>\n",
       "      <th>mlb_played_last</th>\n",
       "    </tr>\n",
       "  </thead>\n",
       "  <tbody>\n",
       "    <tr>\n",
       "      <th>0</th>\n",
       "      <td>SI</td>\n",
       "      <td>2019-09-09</td>\n",
       "      <td>84.7</td>\n",
       "      <td>-2.3591</td>\n",
       "      <td>5.8620</td>\n",
       "      <td>Kyle Hendricks</td>\n",
       "      <td>592518.0</td>\n",
       "      <td>543294.0</td>\n",
       "      <td>single</td>\n",
       "      <td>hit_into_play_no_out</td>\n",
       "      <td>...</td>\n",
       "      <td>Standard</td>\n",
       "      <td>Standard</td>\n",
       "      <td>machado</td>\n",
       "      <td>manny</td>\n",
       "      <td>592518</td>\n",
       "      <td>machm001</td>\n",
       "      <td>machama01</td>\n",
       "      <td>11493</td>\n",
       "      <td>2012.0</td>\n",
       "      <td>2019.0</td>\n",
       "    </tr>\n",
       "    <tr>\n",
       "      <th>1</th>\n",
       "      <td>SI</td>\n",
       "      <td>2019-09-09</td>\n",
       "      <td>85.4</td>\n",
       "      <td>-2.4186</td>\n",
       "      <td>5.8800</td>\n",
       "      <td>Kyle Hendricks</td>\n",
       "      <td>592518.0</td>\n",
       "      <td>543294.0</td>\n",
       "      <td>single</td>\n",
       "      <td>hit_into_play_no_out</td>\n",
       "      <td>...</td>\n",
       "      <td>Standard</td>\n",
       "      <td>Standard</td>\n",
       "      <td>machado</td>\n",
       "      <td>manny</td>\n",
       "      <td>592518</td>\n",
       "      <td>machm001</td>\n",
       "      <td>machama01</td>\n",
       "      <td>11493</td>\n",
       "      <td>2012.0</td>\n",
       "      <td>2019.0</td>\n",
       "    </tr>\n",
       "    <tr>\n",
       "      <th>2</th>\n",
       "      <td>CU</td>\n",
       "      <td>2019-09-09</td>\n",
       "      <td>71.5</td>\n",
       "      <td>-2.2610</td>\n",
       "      <td>5.9986</td>\n",
       "      <td>Kyle Hendricks</td>\n",
       "      <td>592518.0</td>\n",
       "      <td>543294.0</td>\n",
       "      <td>field_out</td>\n",
       "      <td>hit_into_play</td>\n",
       "      <td>...</td>\n",
       "      <td>Standard</td>\n",
       "      <td>Standard</td>\n",
       "      <td>machado</td>\n",
       "      <td>manny</td>\n",
       "      <td>592518</td>\n",
       "      <td>machm001</td>\n",
       "      <td>machama01</td>\n",
       "      <td>11493</td>\n",
       "      <td>2012.0</td>\n",
       "      <td>2019.0</td>\n",
       "    </tr>\n",
       "    <tr>\n",
       "      <th>3</th>\n",
       "      <td>SI</td>\n",
       "      <td>2019-09-08</td>\n",
       "      <td>92.4</td>\n",
       "      <td>-1.2178</td>\n",
       "      <td>6.0300</td>\n",
       "      <td>Jesus Tinoco</td>\n",
       "      <td>592518.0</td>\n",
       "      <td>622786.0</td>\n",
       "      <td>walk</td>\n",
       "      <td>ball</td>\n",
       "      <td>...</td>\n",
       "      <td>Standard</td>\n",
       "      <td>Standard</td>\n",
       "      <td>machado</td>\n",
       "      <td>manny</td>\n",
       "      <td>592518</td>\n",
       "      <td>machm001</td>\n",
       "      <td>machama01</td>\n",
       "      <td>11493</td>\n",
       "      <td>2012.0</td>\n",
       "      <td>2019.0</td>\n",
       "    </tr>\n",
       "    <tr>\n",
       "      <th>4</th>\n",
       "      <td>FC</td>\n",
       "      <td>2019-09-08</td>\n",
       "      <td>93.2</td>\n",
       "      <td>-2.9951</td>\n",
       "      <td>6.0254</td>\n",
       "      <td>Bryan Shaw</td>\n",
       "      <td>592518.0</td>\n",
       "      <td>543766.0</td>\n",
       "      <td>walk</td>\n",
       "      <td>ball</td>\n",
       "      <td>...</td>\n",
       "      <td>Standard</td>\n",
       "      <td>Standard</td>\n",
       "      <td>machado</td>\n",
       "      <td>manny</td>\n",
       "      <td>592518</td>\n",
       "      <td>machm001</td>\n",
       "      <td>machama01</td>\n",
       "      <td>11493</td>\n",
       "      <td>2012.0</td>\n",
       "      <td>2019.0</td>\n",
       "    </tr>\n",
       "    <tr>\n",
       "      <th>5</th>\n",
       "      <td>FF</td>\n",
       "      <td>2019-09-08</td>\n",
       "      <td>92.8</td>\n",
       "      <td>-1.6397</td>\n",
       "      <td>6.3764</td>\n",
       "      <td>Peter Lambert</td>\n",
       "      <td>592518.0</td>\n",
       "      <td>663567.0</td>\n",
       "      <td>field_out</td>\n",
       "      <td>hit_into_play</td>\n",
       "      <td>...</td>\n",
       "      <td>Standard</td>\n",
       "      <td>Standard</td>\n",
       "      <td>machado</td>\n",
       "      <td>manny</td>\n",
       "      <td>592518</td>\n",
       "      <td>machm001</td>\n",
       "      <td>machama01</td>\n",
       "      <td>11493</td>\n",
       "      <td>2012.0</td>\n",
       "      <td>2019.0</td>\n",
       "    </tr>\n",
       "    <tr>\n",
       "      <th>6</th>\n",
       "      <td>FF</td>\n",
       "      <td>2019-09-08</td>\n",
       "      <td>92.3</td>\n",
       "      <td>-1.6056</td>\n",
       "      <td>6.1773</td>\n",
       "      <td>Peter Lambert</td>\n",
       "      <td>592518.0</td>\n",
       "      <td>663567.0</td>\n",
       "      <td>field_out</td>\n",
       "      <td>hit_into_play</td>\n",
       "      <td>...</td>\n",
       "      <td>Standard</td>\n",
       "      <td>Standard</td>\n",
       "      <td>machado</td>\n",
       "      <td>manny</td>\n",
       "      <td>592518</td>\n",
       "      <td>machm001</td>\n",
       "      <td>machama01</td>\n",
       "      <td>11493</td>\n",
       "      <td>2012.0</td>\n",
       "      <td>2019.0</td>\n",
       "    </tr>\n",
       "    <tr>\n",
       "      <th>7</th>\n",
       "      <td>FF</td>\n",
       "      <td>2019-09-08</td>\n",
       "      <td>93.4</td>\n",
       "      <td>-1.8561</td>\n",
       "      <td>6.3373</td>\n",
       "      <td>Peter Lambert</td>\n",
       "      <td>592518.0</td>\n",
       "      <td>663567.0</td>\n",
       "      <td>grounded_into_double_play</td>\n",
       "      <td>hit_into_play</td>\n",
       "      <td>...</td>\n",
       "      <td>Standard</td>\n",
       "      <td>Standard</td>\n",
       "      <td>machado</td>\n",
       "      <td>manny</td>\n",
       "      <td>592518</td>\n",
       "      <td>machm001</td>\n",
       "      <td>machama01</td>\n",
       "      <td>11493</td>\n",
       "      <td>2012.0</td>\n",
       "      <td>2019.0</td>\n",
       "    </tr>\n",
       "    <tr>\n",
       "      <th>8</th>\n",
       "      <td>FF</td>\n",
       "      <td>2019-09-07</td>\n",
       "      <td>95.2</td>\n",
       "      <td>-1.9341</td>\n",
       "      <td>5.7132</td>\n",
       "      <td>Joe Harvey</td>\n",
       "      <td>592518.0</td>\n",
       "      <td>642840.0</td>\n",
       "      <td>field_out</td>\n",
       "      <td>hit_into_play</td>\n",
       "      <td>...</td>\n",
       "      <td>Standard</td>\n",
       "      <td>Standard</td>\n",
       "      <td>machado</td>\n",
       "      <td>manny</td>\n",
       "      <td>592518</td>\n",
       "      <td>machm001</td>\n",
       "      <td>machama01</td>\n",
       "      <td>11493</td>\n",
       "      <td>2012.0</td>\n",
       "      <td>2019.0</td>\n",
       "    </tr>\n",
       "    <tr>\n",
       "      <th>9</th>\n",
       "      <td>FF</td>\n",
       "      <td>2019-09-07</td>\n",
       "      <td>94.1</td>\n",
       "      <td>-1.8584</td>\n",
       "      <td>6.1324</td>\n",
       "      <td>Jeff Hoffman</td>\n",
       "      <td>592518.0</td>\n",
       "      <td>656546.0</td>\n",
       "      <td>home_run</td>\n",
       "      <td>hit_into_play_score</td>\n",
       "      <td>...</td>\n",
       "      <td>Standard</td>\n",
       "      <td>Standard</td>\n",
       "      <td>machado</td>\n",
       "      <td>manny</td>\n",
       "      <td>592518</td>\n",
       "      <td>machm001</td>\n",
       "      <td>machama01</td>\n",
       "      <td>11493</td>\n",
       "      <td>2012.0</td>\n",
       "      <td>2019.0</td>\n",
       "    </tr>\n",
       "    <tr>\n",
       "      <th>10</th>\n",
       "      <td>CH</td>\n",
       "      <td>2019-09-07</td>\n",
       "      <td>83.3</td>\n",
       "      <td>-1.9818</td>\n",
       "      <td>6.0910</td>\n",
       "      <td>Jeff Hoffman</td>\n",
       "      <td>592518.0</td>\n",
       "      <td>656546.0</td>\n",
       "      <td>strikeout</td>\n",
       "      <td>swinging_strike</td>\n",
       "      <td>...</td>\n",
       "      <td>Standard</td>\n",
       "      <td>Standard</td>\n",
       "      <td>machado</td>\n",
       "      <td>manny</td>\n",
       "      <td>592518</td>\n",
       "      <td>machm001</td>\n",
       "      <td>machama01</td>\n",
       "      <td>11493</td>\n",
       "      <td>2012.0</td>\n",
       "      <td>2019.0</td>\n",
       "    </tr>\n",
       "    <tr>\n",
       "      <th>11</th>\n",
       "      <td>FF</td>\n",
       "      <td>2019-09-07</td>\n",
       "      <td>93.5</td>\n",
       "      <td>-2.1605</td>\n",
       "      <td>6.0363</td>\n",
       "      <td>Jeff Hoffman</td>\n",
       "      <td>592518.0</td>\n",
       "      <td>656546.0</td>\n",
       "      <td>grounded_into_double_play</td>\n",
       "      <td>hit_into_play</td>\n",
       "      <td>...</td>\n",
       "      <td>Standard</td>\n",
       "      <td>Standard</td>\n",
       "      <td>machado</td>\n",
       "      <td>manny</td>\n",
       "      <td>592518</td>\n",
       "      <td>machm001</td>\n",
       "      <td>machama01</td>\n",
       "      <td>11493</td>\n",
       "      <td>2012.0</td>\n",
       "      <td>2019.0</td>\n",
       "    </tr>\n",
       "    <tr>\n",
       "      <th>12</th>\n",
       "      <td>FF</td>\n",
       "      <td>2019-09-06</td>\n",
       "      <td>98.8</td>\n",
       "      <td>-1.8022</td>\n",
       "      <td>5.8609</td>\n",
       "      <td>Carlos Estevez</td>\n",
       "      <td>592518.0</td>\n",
       "      <td>608032.0</td>\n",
       "      <td>field_out</td>\n",
       "      <td>hit_into_play</td>\n",
       "      <td>...</td>\n",
       "      <td>Standard</td>\n",
       "      <td>Standard</td>\n",
       "      <td>machado</td>\n",
       "      <td>manny</td>\n",
       "      <td>592518</td>\n",
       "      <td>machm001</td>\n",
       "      <td>machama01</td>\n",
       "      <td>11493</td>\n",
       "      <td>2012.0</td>\n",
       "      <td>2019.0</td>\n",
       "    </tr>\n",
       "    <tr>\n",
       "      <th>13</th>\n",
       "      <td>SL</td>\n",
       "      <td>2019-09-06</td>\n",
       "      <td>83.7</td>\n",
       "      <td>-2.7790</td>\n",
       "      <td>5.6321</td>\n",
       "      <td>Tim Melville</td>\n",
       "      <td>592518.0</td>\n",
       "      <td>543532.0</td>\n",
       "      <td>strikeout</td>\n",
       "      <td>swinging_strike</td>\n",
       "      <td>...</td>\n",
       "      <td>Standard</td>\n",
       "      <td>Standard</td>\n",
       "      <td>machado</td>\n",
       "      <td>manny</td>\n",
       "      <td>592518</td>\n",
       "      <td>machm001</td>\n",
       "      <td>machama01</td>\n",
       "      <td>11493</td>\n",
       "      <td>2012.0</td>\n",
       "      <td>2019.0</td>\n",
       "    </tr>\n",
       "    <tr>\n",
       "      <th>14</th>\n",
       "      <td>SL</td>\n",
       "      <td>2019-09-06</td>\n",
       "      <td>84.9</td>\n",
       "      <td>-2.9178</td>\n",
       "      <td>5.5836</td>\n",
       "      <td>Tim Melville</td>\n",
       "      <td>592518.0</td>\n",
       "      <td>543532.0</td>\n",
       "      <td>strikeout</td>\n",
       "      <td>swinging_strike_blocked</td>\n",
       "      <td>...</td>\n",
       "      <td>Standard</td>\n",
       "      <td>Standard</td>\n",
       "      <td>machado</td>\n",
       "      <td>manny</td>\n",
       "      <td>592518</td>\n",
       "      <td>machm001</td>\n",
       "      <td>machama01</td>\n",
       "      <td>11493</td>\n",
       "      <td>2012.0</td>\n",
       "      <td>2019.0</td>\n",
       "    </tr>\n",
       "    <tr>\n",
       "      <th>15</th>\n",
       "      <td>SL</td>\n",
       "      <td>2019-09-06</td>\n",
       "      <td>83.1</td>\n",
       "      <td>-2.9113</td>\n",
       "      <td>5.6431</td>\n",
       "      <td>Tim Melville</td>\n",
       "      <td>592518.0</td>\n",
       "      <td>543532.0</td>\n",
       "      <td>double_play</td>\n",
       "      <td>hit_into_play</td>\n",
       "      <td>...</td>\n",
       "      <td>Standard</td>\n",
       "      <td>Standard</td>\n",
       "      <td>machado</td>\n",
       "      <td>manny</td>\n",
       "      <td>592518</td>\n",
       "      <td>machm001</td>\n",
       "      <td>machama01</td>\n",
       "      <td>11493</td>\n",
       "      <td>2012.0</td>\n",
       "      <td>2019.0</td>\n",
       "    </tr>\n",
       "    <tr>\n",
       "      <th>16</th>\n",
       "      <td>FT</td>\n",
       "      <td>2019-09-04</td>\n",
       "      <td>93.6</td>\n",
       "      <td>-1.6953</td>\n",
       "      <td>6.1762</td>\n",
       "      <td>Archie Bradley</td>\n",
       "      <td>592518.0</td>\n",
       "      <td>605151.0</td>\n",
       "      <td>walk</td>\n",
       "      <td>ball</td>\n",
       "      <td>...</td>\n",
       "      <td>Standard</td>\n",
       "      <td>Standard</td>\n",
       "      <td>machado</td>\n",
       "      <td>manny</td>\n",
       "      <td>592518</td>\n",
       "      <td>machm001</td>\n",
       "      <td>machama01</td>\n",
       "      <td>11493</td>\n",
       "      <td>2012.0</td>\n",
       "      <td>2019.0</td>\n",
       "    </tr>\n",
       "    <tr>\n",
       "      <th>17</th>\n",
       "      <td>FF</td>\n",
       "      <td>2019-09-04</td>\n",
       "      <td>90.4</td>\n",
       "      <td>-3.1396</td>\n",
       "      <td>6.1387</td>\n",
       "      <td>Zac Gallen</td>\n",
       "      <td>592518.0</td>\n",
       "      <td>668678.0</td>\n",
       "      <td>single</td>\n",
       "      <td>hit_into_play_no_out</td>\n",
       "      <td>...</td>\n",
       "      <td>Standard</td>\n",
       "      <td>Standard</td>\n",
       "      <td>machado</td>\n",
       "      <td>manny</td>\n",
       "      <td>592518</td>\n",
       "      <td>machm001</td>\n",
       "      <td>machama01</td>\n",
       "      <td>11493</td>\n",
       "      <td>2012.0</td>\n",
       "      <td>2019.0</td>\n",
       "    </tr>\n",
       "    <tr>\n",
       "      <th>18</th>\n",
       "      <td>FC</td>\n",
       "      <td>2019-09-04</td>\n",
       "      <td>88.5</td>\n",
       "      <td>-3.3697</td>\n",
       "      <td>6.0070</td>\n",
       "      <td>Zac Gallen</td>\n",
       "      <td>592518.0</td>\n",
       "      <td>668678.0</td>\n",
       "      <td>field_error</td>\n",
       "      <td>hit_into_play_no_out</td>\n",
       "      <td>...</td>\n",
       "      <td>Strategic</td>\n",
       "      <td>Standard</td>\n",
       "      <td>machado</td>\n",
       "      <td>manny</td>\n",
       "      <td>592518</td>\n",
       "      <td>machm001</td>\n",
       "      <td>machama01</td>\n",
       "      <td>11493</td>\n",
       "      <td>2012.0</td>\n",
       "      <td>2019.0</td>\n",
       "    </tr>\n",
       "    <tr>\n",
       "      <th>19</th>\n",
       "      <td>KC</td>\n",
       "      <td>2019-09-04</td>\n",
       "      <td>80.5</td>\n",
       "      <td>-3.1256</td>\n",
       "      <td>5.9862</td>\n",
       "      <td>Zac Gallen</td>\n",
       "      <td>592518.0</td>\n",
       "      <td>668678.0</td>\n",
       "      <td>double_play</td>\n",
       "      <td>hit_into_play</td>\n",
       "      <td>...</td>\n",
       "      <td>Strategic</td>\n",
       "      <td>Standard</td>\n",
       "      <td>machado</td>\n",
       "      <td>manny</td>\n",
       "      <td>592518</td>\n",
       "      <td>machm001</td>\n",
       "      <td>machama01</td>\n",
       "      <td>11493</td>\n",
       "      <td>2012.0</td>\n",
       "      <td>2019.0</td>\n",
       "    </tr>\n",
       "  </tbody>\n",
       "</table>\n",
       "<p>20 rows × 97 columns</p>\n",
       "</div>"
      ],
      "text/plain": [
       "   pitch_type  game_date  release_speed  release_pos_x  release_pos_z  \\\n",
       "0          SI 2019-09-09           84.7        -2.3591         5.8620   \n",
       "1          SI 2019-09-09           85.4        -2.4186         5.8800   \n",
       "2          CU 2019-09-09           71.5        -2.2610         5.9986   \n",
       "3          SI 2019-09-08           92.4        -1.2178         6.0300   \n",
       "4          FC 2019-09-08           93.2        -2.9951         6.0254   \n",
       "5          FF 2019-09-08           92.8        -1.6397         6.3764   \n",
       "6          FF 2019-09-08           92.3        -1.6056         6.1773   \n",
       "7          FF 2019-09-08           93.4        -1.8561         6.3373   \n",
       "8          FF 2019-09-07           95.2        -1.9341         5.7132   \n",
       "9          FF 2019-09-07           94.1        -1.8584         6.1324   \n",
       "10         CH 2019-09-07           83.3        -1.9818         6.0910   \n",
       "11         FF 2019-09-07           93.5        -2.1605         6.0363   \n",
       "12         FF 2019-09-06           98.8        -1.8022         5.8609   \n",
       "13         SL 2019-09-06           83.7        -2.7790         5.6321   \n",
       "14         SL 2019-09-06           84.9        -2.9178         5.5836   \n",
       "15         SL 2019-09-06           83.1        -2.9113         5.6431   \n",
       "16         FT 2019-09-04           93.6        -1.6953         6.1762   \n",
       "17         FF 2019-09-04           90.4        -3.1396         6.1387   \n",
       "18         FC 2019-09-04           88.5        -3.3697         6.0070   \n",
       "19         KC 2019-09-04           80.5        -3.1256         5.9862   \n",
       "\n",
       "       player_name    batter   pitcher                     events  \\\n",
       "0   Kyle Hendricks  592518.0  543294.0                     single   \n",
       "1   Kyle Hendricks  592518.0  543294.0                     single   \n",
       "2   Kyle Hendricks  592518.0  543294.0                  field_out   \n",
       "3     Jesus Tinoco  592518.0  622786.0                       walk   \n",
       "4       Bryan Shaw  592518.0  543766.0                       walk   \n",
       "5    Peter Lambert  592518.0  663567.0                  field_out   \n",
       "6    Peter Lambert  592518.0  663567.0                  field_out   \n",
       "7    Peter Lambert  592518.0  663567.0  grounded_into_double_play   \n",
       "8       Joe Harvey  592518.0  642840.0                  field_out   \n",
       "9     Jeff Hoffman  592518.0  656546.0                   home_run   \n",
       "10    Jeff Hoffman  592518.0  656546.0                  strikeout   \n",
       "11    Jeff Hoffman  592518.0  656546.0  grounded_into_double_play   \n",
       "12  Carlos Estevez  592518.0  608032.0                  field_out   \n",
       "13    Tim Melville  592518.0  543532.0                  strikeout   \n",
       "14    Tim Melville  592518.0  543532.0                  strikeout   \n",
       "15    Tim Melville  592518.0  543532.0                double_play   \n",
       "16  Archie Bradley  592518.0  605151.0                       walk   \n",
       "17      Zac Gallen  592518.0  668678.0                     single   \n",
       "18      Zac Gallen  592518.0  668678.0                field_error   \n",
       "19      Zac Gallen  592518.0  668678.0                double_play   \n",
       "\n",
       "                description  ... if_fielding_alignment of_fielding_alignment  \\\n",
       "0      hit_into_play_no_out  ...              Standard              Standard   \n",
       "1      hit_into_play_no_out  ...              Standard              Standard   \n",
       "2             hit_into_play  ...              Standard              Standard   \n",
       "3                      ball  ...              Standard              Standard   \n",
       "4                      ball  ...              Standard              Standard   \n",
       "5             hit_into_play  ...              Standard              Standard   \n",
       "6             hit_into_play  ...              Standard              Standard   \n",
       "7             hit_into_play  ...              Standard              Standard   \n",
       "8             hit_into_play  ...              Standard              Standard   \n",
       "9       hit_into_play_score  ...              Standard              Standard   \n",
       "10          swinging_strike  ...              Standard              Standard   \n",
       "11            hit_into_play  ...              Standard              Standard   \n",
       "12            hit_into_play  ...              Standard              Standard   \n",
       "13          swinging_strike  ...              Standard              Standard   \n",
       "14  swinging_strike_blocked  ...              Standard              Standard   \n",
       "15            hit_into_play  ...              Standard              Standard   \n",
       "16                     ball  ...              Standard              Standard   \n",
       "17     hit_into_play_no_out  ...              Standard              Standard   \n",
       "18     hit_into_play_no_out  ...             Strategic              Standard   \n",
       "19            hit_into_play  ...             Strategic              Standard   \n",
       "\n",
       "   name_last name_first  key_mlbam key_retro  key_bbref key_fangraphs  \\\n",
       "0    machado      manny     592518  machm001  machama01         11493   \n",
       "1    machado      manny     592518  machm001  machama01         11493   \n",
       "2    machado      manny     592518  machm001  machama01         11493   \n",
       "3    machado      manny     592518  machm001  machama01         11493   \n",
       "4    machado      manny     592518  machm001  machama01         11493   \n",
       "5    machado      manny     592518  machm001  machama01         11493   \n",
       "6    machado      manny     592518  machm001  machama01         11493   \n",
       "7    machado      manny     592518  machm001  machama01         11493   \n",
       "8    machado      manny     592518  machm001  machama01         11493   \n",
       "9    machado      manny     592518  machm001  machama01         11493   \n",
       "10   machado      manny     592518  machm001  machama01         11493   \n",
       "11   machado      manny     592518  machm001  machama01         11493   \n",
       "12   machado      manny     592518  machm001  machama01         11493   \n",
       "13   machado      manny     592518  machm001  machama01         11493   \n",
       "14   machado      manny     592518  machm001  machama01         11493   \n",
       "15   machado      manny     592518  machm001  machama01         11493   \n",
       "16   machado      manny     592518  machm001  machama01         11493   \n",
       "17   machado      manny     592518  machm001  machama01         11493   \n",
       "18   machado      manny     592518  machm001  machama01         11493   \n",
       "19   machado      manny     592518  machm001  machama01         11493   \n",
       "\n",
       "   mlb_played_first mlb_played_last  \n",
       "0            2012.0          2019.0  \n",
       "1            2012.0          2019.0  \n",
       "2            2012.0          2019.0  \n",
       "3            2012.0          2019.0  \n",
       "4            2012.0          2019.0  \n",
       "5            2012.0          2019.0  \n",
       "6            2012.0          2019.0  \n",
       "7            2012.0          2019.0  \n",
       "8            2012.0          2019.0  \n",
       "9            2012.0          2019.0  \n",
       "10           2012.0          2019.0  \n",
       "11           2012.0          2019.0  \n",
       "12           2012.0          2019.0  \n",
       "13           2012.0          2019.0  \n",
       "14           2012.0          2019.0  \n",
       "15           2012.0          2019.0  \n",
       "16           2012.0          2019.0  \n",
       "17           2012.0          2019.0  \n",
       "18           2012.0          2019.0  \n",
       "19           2012.0          2019.0  \n",
       "\n",
       "[20 rows x 97 columns]"
      ]
     },
     "execution_count": 1461,
     "metadata": {},
     "output_type": "execute_result"
    },
    {
     "data": {
      "application/javascript": [
       "\n",
       "            setTimeout(function() {\n",
       "                var nbb_cell_id = 1461;\n",
       "                var nbb_unformatted_code = \"df_sc_events1_temp.head(20)\";\n",
       "                var nbb_formatted_code = \"df_sc_events1_temp.head(20)\";\n",
       "                var nbb_cells = Jupyter.notebook.get_cells();\n",
       "                for (var i = 0; i < nbb_cells.length; ++i) {\n",
       "                    if (nbb_cells[i].input_prompt_number == nbb_cell_id) {\n",
       "                        if (nbb_cells[i].get_text() == nbb_unformatted_code) {\n",
       "                             nbb_cells[i].set_text(nbb_formatted_code);\n",
       "                        }\n",
       "                        break;\n",
       "                    }\n",
       "                }\n",
       "            }, 500);\n",
       "            "
      ],
      "text/plain": [
       "<IPython.core.display.Javascript object>"
      ]
     },
     "metadata": {},
     "output_type": "display_data"
    }
   ],
   "source": [
    "df_sc_events1_temp.head(20)"
   ]
  },
  {
   "cell_type": "code",
   "execution_count": null,
   "metadata": {},
   "outputs": [],
   "source": []
  },
  {
   "cell_type": "code",
   "execution_count": 1468,
   "metadata": {
    "ExecuteTime": {
     "end_time": "2020-01-28T20:28:06.372553Z",
     "start_time": "2020-01-28T20:28:06.353555Z"
    },
    "code_folding": []
   },
   "outputs": [
    {
     "data": {
      "application/javascript": [
       "\n",
       "            setTimeout(function() {\n",
       "                var nbb_cell_id = 1468;\n",
       "                var nbb_unformatted_code = \"def get_df4sc_info_opp_pitcher(pitcher_id, date):\\n\\n    # (Save info for doing pitcher level)\\n    # Estimated no. pitches in a season - 34 starts x 100 pitches\\n\\n    no_ab = 500\\n\\n    # Getting all the pitches BEFORE facing the batter (< game date)\\n\\n    sql_query = (\\n        \\\"\\\"\\\"\\n    (SELECT * FROM statcast \\n    JOIN player_id ON statcast.pitcher=player_id.key_mlbam \\n    WHERE statcast.pitcher= \\n    \\\"\\\"\\\"\\n        + str(pitcher_id)\\n        + \\\"\\\"\\\"\\n    AND statcast.game_date<\\n    \\\"\\\"\\\"\\n        + str(date_of_interest)\\n        + \\\"\\\"\\\" \\n    AND statcast.events IS NOT NULL \\n    ORDER BY statcast.game_date DESC, \\n    statcast.index ASC \\n    LIMIT \\n    \\\"\\\"\\\"\\n        + str(no_ab)\\n        + \\\");\\\"\\n    )\\n\\n    # print(sql_query)\\n\\n    df_sc_pitcher = pd.read_sql_query(sql_query, con)\\n    df_sc_pitcher.drop([\\\"level_0\\\", \\\"index\\\"], axis=1, inplace=True)  # Clean up df\\n\\n    # print(\\\"head: \\\", df_sc_pitcher.head())\\n\\n    return df_sc_pitcher\";\n",
       "                var nbb_formatted_code = \"def get_df4sc_info_opp_pitcher(pitcher_id, date):\\n\\n    # (Save info for doing pitcher level)\\n    # Estimated no. pitches in a season - 34 starts x 100 pitches\\n\\n    no_ab = 500\\n\\n    # Getting all the pitches BEFORE facing the batter (< game date)\\n\\n    sql_query = (\\n        \\\"\\\"\\\"\\n    (SELECT * FROM statcast \\n    JOIN player_id ON statcast.pitcher=player_id.key_mlbam \\n    WHERE statcast.pitcher= \\n    \\\"\\\"\\\"\\n        + str(pitcher_id)\\n        + \\\"\\\"\\\"\\n    AND statcast.game_date<\\n    \\\"\\\"\\\"\\n        + str(date_of_interest)\\n        + \\\"\\\"\\\" \\n    AND statcast.events IS NOT NULL \\n    ORDER BY statcast.game_date DESC, \\n    statcast.index ASC \\n    LIMIT \\n    \\\"\\\"\\\"\\n        + str(no_ab)\\n        + \\\");\\\"\\n    )\\n\\n    # print(sql_query)\\n\\n    df_sc_pitcher = pd.read_sql_query(sql_query, con)\\n    df_sc_pitcher.drop([\\\"level_0\\\", \\\"index\\\"], axis=1, inplace=True)  # Clean up df\\n\\n    # print(\\\"head: \\\", df_sc_pitcher.head())\\n\\n    return df_sc_pitcher\";\n",
       "                var nbb_cells = Jupyter.notebook.get_cells();\n",
       "                for (var i = 0; i < nbb_cells.length; ++i) {\n",
       "                    if (nbb_cells[i].input_prompt_number == nbb_cell_id) {\n",
       "                        if (nbb_cells[i].get_text() == nbb_unformatted_code) {\n",
       "                             nbb_cells[i].set_text(nbb_formatted_code);\n",
       "                        }\n",
       "                        break;\n",
       "                    }\n",
       "                }\n",
       "            }, 500);\n",
       "            "
      ],
      "text/plain": [
       "<IPython.core.display.Javascript object>"
      ]
     },
     "metadata": {},
     "output_type": "display_data"
    }
   ],
   "source": [
    "def get_df4sc_info_opp_pitcher(pitcher_id, date):\n",
    "\n",
    "    # (Save info for doing pitcher level)\n",
    "    # Estimated no. pitches in a season - 34 starts x 100 pitches\n",
    "    # number of at-bats\n",
    "\n",
    "    no_ab = 500\n",
    "\n",
    "    # Getting all the at-bats BEFORE facing the batter (< game date)\n",
    "\n",
    "    sql_query = (\n",
    "        \"\"\"\n",
    "    (SELECT * FROM statcast \n",
    "    JOIN player_id ON statcast.pitcher=player_id.key_mlbam \n",
    "    WHERE statcast.pitcher= \n",
    "    \"\"\"\n",
    "        + str(pitcher_id)\n",
    "        + \"\"\"\n",
    "    AND statcast.game_date<\n",
    "    \"\"\"\n",
    "        + str(date_of_interest)\n",
    "        + \"\"\" \n",
    "    AND statcast.events IS NOT NULL \n",
    "    ORDER BY statcast.game_date DESC, \n",
    "    statcast.index ASC \n",
    "    LIMIT \n",
    "    \"\"\"\n",
    "        + str(no_ab)\n",
    "        + \");\"\n",
    "    )\n",
    "\n",
    "    # print(sql_query)\n",
    "\n",
    "    df_sc_pitcher = pd.read_sql_query(sql_query, con)\n",
    "    df_sc_pitcher.drop([\"level_0\", \"index\"], axis=1, inplace=True)  # Clean up df\n",
    "\n",
    "    # print(\"head: \", df_sc_pitcher.head())\n",
    "\n",
    "    return df_sc_pitcher"
   ]
  },
  {
   "cell_type": "code",
   "execution_count": 1185,
   "metadata": {
    "ExecuteTime": {
     "end_time": "2020-01-27T23:47:05.394888Z",
     "start_time": "2020-01-27T23:47:00.778187Z"
    },
    "collapsed": true
   },
   "outputs": [
    {
     "name": "stdout",
     "output_type": "stream",
     "text": [
      "\n",
      "    (SELECT * FROM statcast \n",
      "    JOIN player_id ON statcast.pitcher=player_id.key_mlbam \n",
      "    WHERE statcast.pitcher= \n",
      "    543294.0\n",
      "    AND statcast.game_date<\n",
      "    '2019-09-09' \n",
      "    AND statcast.events IS NOT NULL \n",
      "    ORDER BY statcast.game_date DESC, \n",
      "    statcast.index ASC \n",
      "    LIMIT \n",
      "    500);\n"
     ]
    },
    {
     "data": {
      "text/html": [
       "<div>\n",
       "<style scoped>\n",
       "    .dataframe tbody tr th:only-of-type {\n",
       "        vertical-align: middle;\n",
       "    }\n",
       "\n",
       "    .dataframe tbody tr th {\n",
       "        vertical-align: top;\n",
       "    }\n",
       "\n",
       "    .dataframe thead th {\n",
       "        text-align: right;\n",
       "    }\n",
       "</style>\n",
       "<table border=\"1\" class=\"dataframe\">\n",
       "  <thead>\n",
       "    <tr style=\"text-align: right;\">\n",
       "      <th></th>\n",
       "      <th>pitch_type</th>\n",
       "      <th>game_date</th>\n",
       "      <th>release_speed</th>\n",
       "      <th>release_pos_x</th>\n",
       "      <th>release_pos_z</th>\n",
       "      <th>player_name</th>\n",
       "      <th>batter</th>\n",
       "      <th>pitcher</th>\n",
       "      <th>events</th>\n",
       "      <th>description</th>\n",
       "      <th>...</th>\n",
       "      <th>if_fielding_alignment</th>\n",
       "      <th>of_fielding_alignment</th>\n",
       "      <th>name_last</th>\n",
       "      <th>name_first</th>\n",
       "      <th>key_mlbam</th>\n",
       "      <th>key_retro</th>\n",
       "      <th>key_bbref</th>\n",
       "      <th>key_fangraphs</th>\n",
       "      <th>mlb_played_first</th>\n",
       "      <th>mlb_played_last</th>\n",
       "    </tr>\n",
       "  </thead>\n",
       "  <tbody>\n",
       "    <tr>\n",
       "      <th>0</th>\n",
       "      <td>CH</td>\n",
       "      <td>2019-09-02</td>\n",
       "      <td>78.0</td>\n",
       "      <td>-2.3667</td>\n",
       "      <td>6.1277</td>\n",
       "      <td>Kyle Hendricks</td>\n",
       "      <td>572122.0</td>\n",
       "      <td>543294.0</td>\n",
       "      <td>field_out</td>\n",
       "      <td>hit_into_play</td>\n",
       "      <td>...</td>\n",
       "      <td>Infield shift</td>\n",
       "      <td>Standard</td>\n",
       "      <td>hendricks</td>\n",
       "      <td>kyle</td>\n",
       "      <td>543294</td>\n",
       "      <td>hendk001</td>\n",
       "      <td>hendrky01</td>\n",
       "      <td>12049</td>\n",
       "      <td>2014.0</td>\n",
       "      <td>2019.0</td>\n",
       "    </tr>\n",
       "    <tr>\n",
       "      <th>1</th>\n",
       "      <td>FF</td>\n",
       "      <td>2019-09-02</td>\n",
       "      <td>86.0</td>\n",
       "      <td>-2.4230</td>\n",
       "      <td>5.9470</td>\n",
       "      <td>Kyle Hendricks</td>\n",
       "      <td>641584.0</td>\n",
       "      <td>543294.0</td>\n",
       "      <td>field_out</td>\n",
       "      <td>hit_into_play</td>\n",
       "      <td>...</td>\n",
       "      <td>Standard</td>\n",
       "      <td>Standard</td>\n",
       "      <td>hendricks</td>\n",
       "      <td>kyle</td>\n",
       "      <td>543294</td>\n",
       "      <td>hendk001</td>\n",
       "      <td>hendrky01</td>\n",
       "      <td>12049</td>\n",
       "      <td>2014.0</td>\n",
       "      <td>2019.0</td>\n",
       "    </tr>\n",
       "    <tr>\n",
       "      <th>2</th>\n",
       "      <td>FF</td>\n",
       "      <td>2019-09-02</td>\n",
       "      <td>85.6</td>\n",
       "      <td>-2.4557</td>\n",
       "      <td>6.0064</td>\n",
       "      <td>Kyle Hendricks</td>\n",
       "      <td>605480.0</td>\n",
       "      <td>543294.0</td>\n",
       "      <td>field_out</td>\n",
       "      <td>hit_into_play</td>\n",
       "      <td>...</td>\n",
       "      <td>Standard</td>\n",
       "      <td>Standard</td>\n",
       "      <td>hendricks</td>\n",
       "      <td>kyle</td>\n",
       "      <td>543294</td>\n",
       "      <td>hendk001</td>\n",
       "      <td>hendrky01</td>\n",
       "      <td>12049</td>\n",
       "      <td>2014.0</td>\n",
       "      <td>2019.0</td>\n",
       "    </tr>\n",
       "    <tr>\n",
       "      <th>3</th>\n",
       "      <td>CH</td>\n",
       "      <td>2019-09-02</td>\n",
       "      <td>76.9</td>\n",
       "      <td>-2.4274</td>\n",
       "      <td>6.0741</td>\n",
       "      <td>Kyle Hendricks</td>\n",
       "      <td>656954.0</td>\n",
       "      <td>543294.0</td>\n",
       "      <td>strikeout</td>\n",
       "      <td>swinging_strike</td>\n",
       "      <td>...</td>\n",
       "      <td>Standard</td>\n",
       "      <td>Strategic</td>\n",
       "      <td>hendricks</td>\n",
       "      <td>kyle</td>\n",
       "      <td>543294</td>\n",
       "      <td>hendk001</td>\n",
       "      <td>hendrky01</td>\n",
       "      <td>12049</td>\n",
       "      <td>2014.0</td>\n",
       "      <td>2019.0</td>\n",
       "    </tr>\n",
       "    <tr>\n",
       "      <th>4</th>\n",
       "      <td>CU</td>\n",
       "      <td>2019-09-02</td>\n",
       "      <td>71.6</td>\n",
       "      <td>-2.3022</td>\n",
       "      <td>6.0875</td>\n",
       "      <td>Kyle Hendricks</td>\n",
       "      <td>623323.0</td>\n",
       "      <td>543294.0</td>\n",
       "      <td>strikeout</td>\n",
       "      <td>swinging_strike</td>\n",
       "      <td>...</td>\n",
       "      <td>Standard</td>\n",
       "      <td>Standard</td>\n",
       "      <td>hendricks</td>\n",
       "      <td>kyle</td>\n",
       "      <td>543294</td>\n",
       "      <td>hendk001</td>\n",
       "      <td>hendrky01</td>\n",
       "      <td>12049</td>\n",
       "      <td>2014.0</td>\n",
       "      <td>2019.0</td>\n",
       "    </tr>\n",
       "  </tbody>\n",
       "</table>\n",
       "<p>5 rows × 97 columns</p>\n",
       "</div>"
      ],
      "text/plain": [
       "  pitch_type  game_date  release_speed  release_pos_x  release_pos_z  \\\n",
       "0         CH 2019-09-02           78.0        -2.3667         6.1277   \n",
       "1         FF 2019-09-02           86.0        -2.4230         5.9470   \n",
       "2         FF 2019-09-02           85.6        -2.4557         6.0064   \n",
       "3         CH 2019-09-02           76.9        -2.4274         6.0741   \n",
       "4         CU 2019-09-02           71.6        -2.3022         6.0875   \n",
       "\n",
       "      player_name    batter   pitcher     events      description  ...  \\\n",
       "0  Kyle Hendricks  572122.0  543294.0  field_out    hit_into_play  ...   \n",
       "1  Kyle Hendricks  641584.0  543294.0  field_out    hit_into_play  ...   \n",
       "2  Kyle Hendricks  605480.0  543294.0  field_out    hit_into_play  ...   \n",
       "3  Kyle Hendricks  656954.0  543294.0  strikeout  swinging_strike  ...   \n",
       "4  Kyle Hendricks  623323.0  543294.0  strikeout  swinging_strike  ...   \n",
       "\n",
       "  if_fielding_alignment of_fielding_alignment  name_last name_first  \\\n",
       "0         Infield shift              Standard  hendricks       kyle   \n",
       "1              Standard              Standard  hendricks       kyle   \n",
       "2              Standard              Standard  hendricks       kyle   \n",
       "3              Standard             Strategic  hendricks       kyle   \n",
       "4              Standard              Standard  hendricks       kyle   \n",
       "\n",
       "   key_mlbam key_retro  key_bbref key_fangraphs mlb_played_first  \\\n",
       "0     543294  hendk001  hendrky01         12049           2014.0   \n",
       "1     543294  hendk001  hendrky01         12049           2014.0   \n",
       "2     543294  hendk001  hendrky01         12049           2014.0   \n",
       "3     543294  hendk001  hendrky01         12049           2014.0   \n",
       "4     543294  hendk001  hendrky01         12049           2014.0   \n",
       "\n",
       "  mlb_played_last  \n",
       "0          2019.0  \n",
       "1          2019.0  \n",
       "2          2019.0  \n",
       "3          2019.0  \n",
       "4          2019.0  \n",
       "\n",
       "[5 rows x 97 columns]"
      ]
     },
     "execution_count": 1185,
     "metadata": {},
     "output_type": "execute_result"
    },
    {
     "data": {
      "application/javascript": [
       "\n",
       "            setTimeout(function() {\n",
       "                var nbb_cell_id = 1185;\n",
       "                var nbb_unformatted_code = \"df_temp = get_df4sc_info_opp_pitcher(df_sc_events1, date2stop)\\ndf_temp.head()\";\n",
       "                var nbb_formatted_code = \"df_temp = get_df4sc_info_opp_pitcher(df_sc_events1, date2stop)\\ndf_temp.head()\";\n",
       "                var nbb_cells = Jupyter.notebook.get_cells();\n",
       "                for (var i = 0; i < nbb_cells.length; ++i) {\n",
       "                    if (nbb_cells[i].input_prompt_number == nbb_cell_id) {\n",
       "                        if (nbb_cells[i].get_text() == nbb_unformatted_code) {\n",
       "                             nbb_cells[i].set_text(nbb_formatted_code);\n",
       "                        }\n",
       "                        break;\n",
       "                    }\n",
       "                }\n",
       "            }, 500);\n",
       "            "
      ],
      "text/plain": [
       "<IPython.core.display.Javascript object>"
      ]
     },
     "metadata": {},
     "output_type": "display_data"
    }
   ],
   "source": [
    "# df_temp = get_df4sc_info_opp_pitcher(df_sc_events1, date2stop)\n",
    "# df_temp.head()"
   ]
  },
  {
   "cell_type": "code",
   "execution_count": 1096,
   "metadata": {
    "ExecuteTime": {
     "end_time": "2020-01-27T20:25:55.489990Z",
     "start_time": "2020-01-27T20:25:55.483254Z"
    },
    "code_folding": [
     0
    ]
   },
   "outputs": [
    {
     "data": {
      "application/javascript": [
       "\n",
       "            setTimeout(function() {\n",
       "                var nbb_cell_id = 1096;\n",
       "                var nbb_unformatted_code = \"# Get pitch characteristics - lower priority\\n\\n# fastball velocity, fastball proportion, breaking ball velocity\\n# df_sc_pitcher.groupby(\\\"pitch_type\\\")[\\\"release_speed\\\"].mean()\\n\\n# df_sc_pitcher.groupby(\\\"pitch_type\\\")[\\\"release_speed\\\"].mean()\";\n",
       "                var nbb_formatted_code = \"# Get pitch characteristics - lower priority\\n\\n# fastball velocity, fastball proportion, breaking ball velocity\\n# df_sc_pitcher.groupby(\\\"pitch_type\\\")[\\\"release_speed\\\"].mean()\\n\\n# df_sc_pitcher.groupby(\\\"pitch_type\\\")[\\\"release_speed\\\"].mean()\";\n",
       "                var nbb_cells = Jupyter.notebook.get_cells();\n",
       "                for (var i = 0; i < nbb_cells.length; ++i) {\n",
       "                    if (nbb_cells[i].input_prompt_number == nbb_cell_id) {\n",
       "                        if (nbb_cells[i].get_text() == nbb_unformatted_code) {\n",
       "                             nbb_cells[i].set_text(nbb_formatted_code);\n",
       "                        }\n",
       "                        break;\n",
       "                    }\n",
       "                }\n",
       "            }, 500);\n",
       "            "
      ],
      "text/plain": [
       "<IPython.core.display.Javascript object>"
      ]
     },
     "metadata": {},
     "output_type": "display_data"
    }
   ],
   "source": [
    "# Get pitch characteristics - lower priority\n",
    "\n",
    "# fastball velocity, fastball proportion, breaking ball velocity\n",
    "# df_sc_pitcher.groupby(\"pitch_type\")[\"release_speed\"].mean()\n",
    "\n",
    "# df_sc_pitcher.groupby(\"pitch_type\")[\"release_speed\"].mean()"
   ]
  },
  {
   "cell_type": "code",
   "execution_count": 1469,
   "metadata": {
    "ExecuteTime": {
     "end_time": "2020-01-28T20:28:07.509791Z",
     "start_time": "2020-01-28T20:28:07.478309Z"
    },
    "code_folding": [
     0
    ]
   },
   "outputs": [
    {
     "data": {
      "application/javascript": [
       "\n",
       "            setTimeout(function() {\n",
       "                var nbb_cell_id = 1469;\n",
       "                var nbb_unformatted_code = \"def get_series4model_4pitcher_for_ab(df, n_back_PA):\\n    \\\"\\\"\\\"\\n    Function for getting summarized series for that pitcher\\n    \\\"\\\"\\\"\\n    # sample values -----------\\n    # n_back_PA = 100\\n    # df = df_sc_events.copy()\\n    # pid = pid_of_interest1\\n    # m_size = 200\\n\\n    # -------------------------\\n\\n    # Reset index so that code below works\\n    # df.reset_index(inplace=True)\\n\\n    df = df.iloc[0 : n_back_PA + 5, :].copy()\\n\\n    # Encode on-base events, including walks\\n    ob_list = [\\\"walk\\\", \\\"single\\\", \\\"double\\\", \\\"triple\\\", \\\"home_run\\\"]\\n    df[\\\"event_code\\\"] = 0\\n    df.loc[df[\\\"events\\\"].isin(ob_list), \\\"event_code\\\"] = 1\\n\\n    # Sum of on-base events - critical that order matters! (should be addressed above)\\n    # rolling was close, but needed to tweak\\n\\n    s_for_summary = pd.Series()\\n\\n    # Total number of events\\n    s_for_summary[\\\"num_events_sum_nback_bs\\\"] = df[\\\"event_code\\\"].iloc[0:n_back_PA].sum()\\n    # Percent of on-base events (overall)\\n    s_for_summary[\\\"prop_events_nback_bs\\\"] = (\\n        s_for_summary[\\\"num_events_sum_nback_bs\\\"] / n_back_PA\\n    )\\n\\n    # Percent of on-base events against handedness of batter\\n    # Tweaked code from old function, just need first row\\n    for i_stand in [\\\"L\\\", \\\"R\\\"]:\\n        df_b_stand = df[df[\\\"stand\\\"] == i_stand]\\n        n_bat_events = df_b_stand[\\\"event_code\\\"].iloc[0:n_back_PA].sum()\\n        s_for_summary[\\\"num_events_sum_nback_bs\\\" + \\\"_\\\" + i_stand] = n_bat_events\\n        s_for_summary[\\\"prop_events_sum_nback_bs\\\" + \\\"_\\\" + i_stand] = (\\n            n_bat_events / n_back_PA\\n        )\\n\\n    return s_for_summary\";\n",
       "                var nbb_formatted_code = \"def get_series4model_4pitcher_for_ab(df, n_back_PA):\\n    \\\"\\\"\\\"\\n    Function for getting summarized series for that pitcher\\n    \\\"\\\"\\\"\\n    # sample values -----------\\n    # n_back_PA = 100\\n    # df = df_sc_events.copy()\\n    # pid = pid_of_interest1\\n    # m_size = 200\\n\\n    # -------------------------\\n\\n    # Reset index so that code below works\\n    # df.reset_index(inplace=True)\\n\\n    df = df.iloc[0 : n_back_PA + 5, :].copy()\\n\\n    # Encode on-base events, including walks\\n    ob_list = [\\\"walk\\\", \\\"single\\\", \\\"double\\\", \\\"triple\\\", \\\"home_run\\\"]\\n    df[\\\"event_code\\\"] = 0\\n    df.loc[df[\\\"events\\\"].isin(ob_list), \\\"event_code\\\"] = 1\\n\\n    # Sum of on-base events - critical that order matters! (should be addressed above)\\n    # rolling was close, but needed to tweak\\n\\n    s_for_summary = pd.Series()\\n\\n    # Total number of events\\n    s_for_summary[\\\"num_events_sum_nback_bs\\\"] = df[\\\"event_code\\\"].iloc[0:n_back_PA].sum()\\n    # Percent of on-base events (overall)\\n    s_for_summary[\\\"prop_events_nback_bs\\\"] = (\\n        s_for_summary[\\\"num_events_sum_nback_bs\\\"] / n_back_PA\\n    )\\n\\n    # Percent of on-base events against handedness of batter\\n    # Tweaked code from old function, just need first row\\n    for i_stand in [\\\"L\\\", \\\"R\\\"]:\\n        df_b_stand = df[df[\\\"stand\\\"] == i_stand]\\n        n_bat_events = df_b_stand[\\\"event_code\\\"].iloc[0:n_back_PA].sum()\\n        s_for_summary[\\\"num_events_sum_nback_bs\\\" + \\\"_\\\" + i_stand] = n_bat_events\\n        s_for_summary[\\\"prop_events_sum_nback_bs\\\" + \\\"_\\\" + i_stand] = (\\n            n_bat_events / n_back_PA\\n        )\\n\\n    return s_for_summary\";\n",
       "                var nbb_cells = Jupyter.notebook.get_cells();\n",
       "                for (var i = 0; i < nbb_cells.length; ++i) {\n",
       "                    if (nbb_cells[i].input_prompt_number == nbb_cell_id) {\n",
       "                        if (nbb_cells[i].get_text() == nbb_unformatted_code) {\n",
       "                             nbb_cells[i].set_text(nbb_formatted_code);\n",
       "                        }\n",
       "                        break;\n",
       "                    }\n",
       "                }\n",
       "            }, 500);\n",
       "            "
      ],
      "text/plain": [
       "<IPython.core.display.Javascript object>"
      ]
     },
     "metadata": {},
     "output_type": "display_data"
    }
   ],
   "source": [
    "def get_series4model_4pitcher_for_ab(df, n_back_PA):\n",
    "    \"\"\"\n",
    "    Function for getting summarized series for that pitcher\n",
    "    \"\"\"\n",
    "    # sample values -----------\n",
    "    # n_back_PA = 100\n",
    "    # df = df_sc_events.copy()\n",
    "    # pid = pid_of_interest1\n",
    "    # m_size = 200\n",
    "\n",
    "    # -------------------------\n",
    "\n",
    "    # Reset index so that code below works\n",
    "    # df.reset_index(inplace=True)\n",
    "\n",
    "    df = df.iloc[0 : n_back_PA + 5, :].copy()\n",
    "\n",
    "    # Encode on-base events, including walks\n",
    "    ob_list = [\"walk\", \"single\", \"double\", \"triple\", \"home_run\"]\n",
    "    df[\"event_code\"] = 0\n",
    "    df.loc[df[\"events\"].isin(ob_list), \"event_code\"] = 1\n",
    "\n",
    "    # Sum of on-base events - critical that order matters! (should be addressed above)\n",
    "    # rolling was close, but needed to tweak\n",
    "\n",
    "    s_for_summary = pd.Series()\n",
    "\n",
    "    # Total number of events\n",
    "    s_for_summary[\"num_events_sum_nback_bs\"] = df[\"event_code\"].iloc[0:n_back_PA].sum()\n",
    "    # Percent of on-base events (overall)\n",
    "    s_for_summary[\"prop_events_nback_bs\"] = (\n",
    "        s_for_summary[\"num_events_sum_nback_bs\"] / n_back_PA\n",
    "    )\n",
    "\n",
    "    # Percent of on-base events against handedness of batter\n",
    "    # Tweaked code from old function, just need first row\n",
    "    for i_stand in [\"L\", \"R\"]:\n",
    "        df_b_stand = df[df[\"stand\"] == i_stand]\n",
    "        n_bat_events = df_b_stand[\"event_code\"].iloc[0:n_back_PA].sum()\n",
    "        s_for_summary[\"num_events_sum_nback_bs\" + \"_\" + i_stand] = n_bat_events\n",
    "        s_for_summary[\"prop_events_sum_nback_bs\" + \"_\" + i_stand] = (\n",
    "            n_bat_events / n_back_PA\n",
    "        )\n",
    "\n",
    "    return s_for_summary"
   ]
  },
  {
   "cell_type": "markdown",
   "metadata": {},
   "source": [
    "Get pitcher info separately then merge on its own"
   ]
  },
  {
   "cell_type": "code",
   "execution_count": 1466,
   "metadata": {
    "ExecuteTime": {
     "end_time": "2020-01-28T20:25:14.930003Z",
     "start_time": "2020-01-28T20:25:14.877077Z"
    },
    "code_folding": []
   },
   "outputs": [
    {
     "data": {
      "application/javascript": [
       "\n",
       "            setTimeout(function() {\n",
       "                var nbb_cell_id = 1466;\n",
       "                var nbb_unformatted_code = \"def merge_batter_pitcher_dfs(df_sc_events4func, batter_df):\\n    col2add2df = [\\n        \\\"num_events_sum_nback_bs\\\",\\n        \\\"prop_events_nback_bs\\\",\\n        \\\"num_events_sum_nback_bs_L\\\",\\n        \\\"prop_events_sum_nback_bs_L\\\",\\n        \\\"num_events_sum_nback_bs_R\\\",\\n        \\\"prop_events_sum_nback_bs_R\\\",\\n    ]\\n\\n    # Limit this to the length of the batter_df\\n    df_sc_events4func = df_sc_events4func.iloc[0 : len(batter_df), :].copy()\\n\\n    for col in col2add2df:\\n        df_sc_events4func[col] = None\\n\\n    for i, pitcher in enumerate(df_sc_events4func[\\\"pitcher\\\"]):\\n\\n        date2stop = df_sc_events4func[\\\"game_date\\\"].iloc[i]\\n        if i == 0:\\n            pid_opp_in_mem = pitcher\\n            print(i, \\\"starting pitcher list: \\\", pitcher)\\n\\n            # Get data from SQL\\n            df_p_info4date = get_df4sc_info_opp_pitcher(pid_opp_in_mem, date2stop)\\n            p_summary = get_series4model_4pitcher_for_ab(df_p_info4date, 100)\\n\\n            # Add series to df\\n            df_sc_events4func.loc[i, col2add2df] = p_summary\\n\\n        elif (pitcher == pid_opp_in_mem) & (i > 0):\\n            print(i, \\\"same pitcher: \\\", pitcher)\\n            pid_opp_in_mem = pitcher\\n\\n            # Add series to df\\n            df_sc_events4func.loc[i, col2add2df] = p_summary\\n\\n        else:\\n            print(i, \\\"new pitcher: from \\\", pid_opp_in_mem, \\\"to \\\", pitcher)\\n            pid_opp_in_mem = pitcher\\n\\n            # SQL entry\\n            # Get data from SQL\\n            df_p_info4date = get_df4sc_info_opp_pitcher(pid_opp_in_mem, date2stop)\\n            p_summary = get_series4model_4pitcher_for_ab(df_p_info4date, 100)\\n\\n            # Add series to df\\n            df_sc_events4func.loc[i, col2add2df] = p_summary\\n\\n    col2add2df = [\\n        \\\"prop_events_nback_bs\\\",\\n        \\\"prop_events_sum_nback_bs_L\\\",\\n        \\\"prop_events_sum_nback_bs_R\\\",\\n    ]\\n    # Join dfs on index\\n    df_merged = pd.merge(\\n        batter_df,\\n        df_sc_events4func[col2add2df],\\n        how=\\\"left\\\",\\n        left_index=True,\\n        right_index=True,\\n    )\\n\\n    return df_merged\";\n",
       "                var nbb_formatted_code = \"def merge_batter_pitcher_dfs(df_sc_events4func, batter_df):\\n    col2add2df = [\\n        \\\"num_events_sum_nback_bs\\\",\\n        \\\"prop_events_nback_bs\\\",\\n        \\\"num_events_sum_nback_bs_L\\\",\\n        \\\"prop_events_sum_nback_bs_L\\\",\\n        \\\"num_events_sum_nback_bs_R\\\",\\n        \\\"prop_events_sum_nback_bs_R\\\",\\n    ]\\n\\n    # Limit this to the length of the batter_df\\n    df_sc_events4func = df_sc_events4func.iloc[0 : len(batter_df), :].copy()\\n\\n    for col in col2add2df:\\n        df_sc_events4func[col] = None\\n\\n    for i, pitcher in enumerate(df_sc_events4func[\\\"pitcher\\\"]):\\n\\n        date2stop = df_sc_events4func[\\\"game_date\\\"].iloc[i]\\n        if i == 0:\\n            pid_opp_in_mem = pitcher\\n            print(i, \\\"starting pitcher list: \\\", pitcher)\\n\\n            # Get data from SQL\\n            df_p_info4date = get_df4sc_info_opp_pitcher(pid_opp_in_mem, date2stop)\\n            p_summary = get_series4model_4pitcher_for_ab(df_p_info4date, 100)\\n\\n            # Add series to df\\n            df_sc_events4func.loc[i, col2add2df] = p_summary\\n\\n        elif (pitcher == pid_opp_in_mem) & (i > 0):\\n            print(i, \\\"same pitcher: \\\", pitcher)\\n            pid_opp_in_mem = pitcher\\n\\n            # Add series to df\\n            df_sc_events4func.loc[i, col2add2df] = p_summary\\n\\n        else:\\n            print(i, \\\"new pitcher: from \\\", pid_opp_in_mem, \\\"to \\\", pitcher)\\n            pid_opp_in_mem = pitcher\\n\\n            # SQL entry\\n            # Get data from SQL\\n            df_p_info4date = get_df4sc_info_opp_pitcher(pid_opp_in_mem, date2stop)\\n            p_summary = get_series4model_4pitcher_for_ab(df_p_info4date, 100)\\n\\n            # Add series to df\\n            df_sc_events4func.loc[i, col2add2df] = p_summary\\n\\n    col2add2df = [\\n        \\\"prop_events_nback_bs\\\",\\n        \\\"prop_events_sum_nback_bs_L\\\",\\n        \\\"prop_events_sum_nback_bs_R\\\",\\n    ]\\n    # Join dfs on index\\n    df_merged = pd.merge(\\n        batter_df,\\n        df_sc_events4func[col2add2df],\\n        how=\\\"left\\\",\\n        left_index=True,\\n        right_index=True,\\n    )\\n\\n    return df_merged\";\n",
       "                var nbb_cells = Jupyter.notebook.get_cells();\n",
       "                for (var i = 0; i < nbb_cells.length; ++i) {\n",
       "                    if (nbb_cells[i].input_prompt_number == nbb_cell_id) {\n",
       "                        if (nbb_cells[i].get_text() == nbb_unformatted_code) {\n",
       "                             nbb_cells[i].set_text(nbb_formatted_code);\n",
       "                        }\n",
       "                        break;\n",
       "                    }\n",
       "                }\n",
       "            }, 500);\n",
       "            "
      ],
      "text/plain": [
       "<IPython.core.display.Javascript object>"
      ]
     },
     "metadata": {},
     "output_type": "display_data"
    }
   ],
   "source": [
    "def merge_batter_pitcher_dfs(df_sc_events4func, batter_df):\n",
    "    col2add2df = [\n",
    "        \"num_events_sum_nback_bs\",\n",
    "        \"prop_events_nback_bs\",\n",
    "        \"num_events_sum_nback_bs_L\",\n",
    "        \"prop_events_sum_nback_bs_L\",\n",
    "        \"num_events_sum_nback_bs_R\",\n",
    "        \"prop_events_sum_nback_bs_R\",\n",
    "    ]\n",
    "\n",
    "    # Limit this to the length of the batter_df\n",
    "    df_sc_events4func = df_sc_events4func.iloc[0 : len(batter_df), :].copy()\n",
    "\n",
    "    for col in col2add2df:\n",
    "        df_sc_events4func[col] = None\n",
    "\n",
    "    for i, pitcher in enumerate(df_sc_events4func[\"pitcher\"]):\n",
    "\n",
    "        date2stop = df_sc_events4func[\"game_date\"].iloc[i]\n",
    "        if i == 0:\n",
    "            pid_opp_in_mem = pitcher\n",
    "            print(i, \"starting pitcher list: \", pitcher)\n",
    "\n",
    "            # Get data from SQL\n",
    "            df_p_info4date = get_df4sc_info_opp_pitcher(pid_opp_in_mem, date2stop)\n",
    "            p_summary = get_series4model_4pitcher_for_ab(df_p_info4date, 100)\n",
    "\n",
    "            # Add series to df\n",
    "            df_sc_events4func.loc[i, col2add2df] = p_summary\n",
    "\n",
    "        elif (pitcher == pid_opp_in_mem) & (i > 0):\n",
    "            print(i, \"same pitcher: \", pitcher)\n",
    "            pid_opp_in_mem = pitcher\n",
    "\n",
    "            # Add series to df\n",
    "            df_sc_events4func.loc[i, col2add2df] = p_summary\n",
    "\n",
    "        else:\n",
    "            print(i, \"new pitcher: from \", pid_opp_in_mem, \"to \", pitcher)\n",
    "            pid_opp_in_mem = pitcher\n",
    "\n",
    "            # SQL entry\n",
    "            # Get data from SQL\n",
    "            df_p_info4date = get_df4sc_info_opp_pitcher(pid_opp_in_mem, date2stop)\n",
    "            p_summary = get_series4model_4pitcher_for_ab(df_p_info4date, 100)\n",
    "\n",
    "            # Add series to df\n",
    "            df_sc_events4func.loc[i, col2add2df] = p_summary\n",
    "\n",
    "    col2add2df = [\n",
    "        \"prop_events_nback_bs\",\n",
    "        \"prop_events_sum_nback_bs_L\",\n",
    "        \"prop_events_sum_nback_bs_R\",\n",
    "    ]\n",
    "    # Join dfs on index\n",
    "    df_merged = pd.merge(\n",
    "        batter_df,\n",
    "        df_sc_events4func[col2add2df],\n",
    "        how=\"left\",\n",
    "        left_index=True,\n",
    "        right_index=True,\n",
    "    )\n",
    "\n",
    "    return df_merged"
   ]
  },
  {
   "cell_type": "code",
   "execution_count": 1467,
   "metadata": {
    "ExecuteTime": {
     "end_time": "2020-01-28T20:28:05.249333Z",
     "start_time": "2020-01-28T20:25:17.664476Z"
    },
    "code_folding": [],
    "collapsed": true
   },
   "outputs": [
    {
     "name": "stdout",
     "output_type": "stream",
     "text": [
      "0 starting pitcher list:  543294.0\n",
      "1 same pitcher:  543294.0\n",
      "2 same pitcher:  543294.0\n",
      "3 new pitcher: from  543294.0 to  622786.0\n",
      "4 new pitcher: from  622786.0 to  543766.0\n",
      "5 new pitcher: from  543766.0 to  663567.0\n",
      "6 same pitcher:  663567.0\n",
      "7 same pitcher:  663567.0\n",
      "8 new pitcher: from  663567.0 to  642840.0\n",
      "9 new pitcher: from  642840.0 to  656546.0\n",
      "10 same pitcher:  656546.0\n",
      "11 same pitcher:  656546.0\n",
      "12 new pitcher: from  656546.0 to  608032.0\n",
      "13 new pitcher: from  608032.0 to  543532.0\n",
      "14 same pitcher:  543532.0\n",
      "15 same pitcher:  543532.0\n",
      "16 new pitcher: from  543532.0 to  605151.0\n",
      "17 new pitcher: from  605151.0 to  668678.0\n",
      "18 same pitcher:  668678.0\n",
      "19 same pitcher:  668678.0\n",
      "20 new pitcher: from  668678.0 to  656464.0\n",
      "21 new pitcher: from  656464.0 to  518876.0\n",
      "22 same pitcher:  518876.0\n",
      "23 same pitcher:  518876.0\n",
      "24 new pitcher: from  518876.0 to  592233.0\n",
      "25 new pitcher: from  592233.0 to  502190.0\n",
      "26 same pitcher:  502190.0\n",
      "27 same pitcher:  502190.0\n",
      "28 new pitcher: from  502190.0 to  641312.0\n",
      "29 new pitcher: from  641312.0 to  669214.0\n",
      "30 new pitcher: from  669214.0 to  502188.0\n",
      "31 same pitcher:  502188.0\n",
      "32 same pitcher:  502188.0\n",
      "33 new pitcher: from  502188.0 to  519293.0\n",
      "34 new pitcher: from  519293.0 to  453265.0\n",
      "35 new pitcher: from  453265.0 to  657277.0\n",
      "36 same pitcher:  657277.0\n",
      "37 same pitcher:  657277.0\n",
      "38 new pitcher: from  657277.0 to  643511.0\n",
      "39 new pitcher: from  643511.0 to  518516.0\n",
      "40 same pitcher:  518516.0\n",
      "41 same pitcher:  518516.0\n",
      "42 new pitcher: from  518516.0 to  472551.0\n",
      "43 new pitcher: from  472551.0 to  605446.0\n",
      "44 same pitcher:  605446.0\n",
      "45 same pitcher:  605446.0\n",
      "46 new pitcher: from  605446.0 to  594987.0\n",
      "47 new pitcher: from  594987.0 to  520980.0\n",
      "48 new pitcher: from  520980.0 to  523260.0\n",
      "49 new pitcher: from  523260.0 to  628317.0\n",
      "50 same pitcher:  628317.0\n",
      "51 new pitcher: from  628317.0 to  621111.0\n",
      "52 same pitcher:  621111.0\n",
      "53 same pitcher:  621111.0\n",
      "54 same pitcher:  621111.0\n",
      "55 new pitcher: from  621111.0 to  669160.0\n",
      "56 same pitcher:  669160.0\n",
      "57 same pitcher:  669160.0\n",
      "58 new pitcher: from  669160.0 to  598264.0\n",
      "59 new pitcher: from  598264.0 to  488768.0\n",
      "60 new pitcher: from  488768.0 to  598271.0\n",
      "61 same pitcher:  598271.0\n",
      "62 new pitcher: from  598271.0 to  519443.0\n",
      "63 new pitcher: from  519443.0 to  657031.0\n",
      "64 new pitcher: from  657031.0 to  650382.0\n",
      "65 new pitcher: from  650382.0 to  543135.0\n",
      "66 same pitcher:  543135.0\n",
      "67 new pitcher: from  543135.0 to  593958.0\n",
      "68 same pitcher:  593958.0\n",
      "69 new pitcher: from  593958.0 to  547179.0\n",
      "70 new pitcher: from  547179.0 to  543243.0\n",
      "71 same pitcher:  543243.0\n",
      "72 same pitcher:  543243.0\n",
      "73 new pitcher: from  543243.0 to  608371.0\n",
      "74 new pitcher: from  608371.0 to  545333.0\n",
      "75 same pitcher:  545333.0\n",
      "76 same pitcher:  545333.0\n",
      "77 new pitcher: from  545333.0 to  573046.0\n",
      "78 new pitcher: from  573046.0 to  450306.0\n",
      "79 same pitcher:  450306.0\n",
      "80 same pitcher:  450306.0\n",
      "81 new pitcher: from  450306.0 to  501625.0\n",
      "82 new pitcher: from  501625.0 to  624133.0\n",
      "83 new pitcher: from  624133.0 to  601713.0\n",
      "84 new pitcher: from  601713.0 to  621107.0\n",
      "85 same pitcher:  621107.0\n",
      "86 new pitcher: from  621107.0 to  501625.0\n",
      "87 new pitcher: from  501625.0 to  592826.0\n",
      "88 same pitcher:  592826.0\n",
      "89 same pitcher:  592826.0\n",
      "90 new pitcher: from  592826.0 to  621363.0\n",
      "91 new pitcher: from  621363.0 to  592254.0\n",
      "92 new pitcher: from  592254.0 to  656222.0\n",
      "93 same pitcher:  656222.0\n",
      "94 same pitcher:  656222.0\n",
      "95 new pitcher: from  656222.0 to  641941.0\n",
      "96 new pitcher: from  641941.0 to  475054.0\n",
      "97 new pitcher: from  475054.0 to  656713.0\n",
      "98 same pitcher:  656713.0\n",
      "99 same pitcher:  656713.0\n",
      "100 new pitcher: from  656713.0 to  543118.0\n",
      "101 new pitcher: from  543118.0 to  643493.0\n",
      "102 same pitcher:  643493.0\n",
      "103 new pitcher: from  643493.0 to  650895.0\n",
      "104 new pitcher: from  650895.0 to  608566.0\n",
      "105 same pitcher:  608566.0\n",
      "106 same pitcher:  608566.0\n",
      "107 same pitcher:  608566.0\n",
      "108 new pitcher: from  608566.0 to  545064.0\n",
      "109 new pitcher: from  545064.0 to  592346.0\n",
      "110 same pitcher:  592346.0\n",
      "111 same pitcher:  592346.0\n",
      "112 new pitcher: from  592346.0 to  451584.0\n",
      "113 new pitcher: from  451584.0 to  607536.0\n",
      "114 same pitcher:  607536.0\n",
      "115 same pitcher:  607536.0\n",
      "116 new pitcher: from  607536.0 to  545064.0\n",
      "117 new pitcher: from  545064.0 to  592351.0\n",
      "118 same pitcher:  592351.0\n",
      "119 same pitcher:  592351.0\n",
      "120 new pitcher: from  592351.0 to  592815.0\n",
      "121 new pitcher: from  592815.0 to  579328.0\n",
      "122 same pitcher:  579328.0\n",
      "123 same pitcher:  579328.0\n",
      "124 new pitcher: from  579328.0 to  665093.0\n",
      "125 new pitcher: from  665093.0 to  657024.0\n",
      "126 new pitcher: from  657024.0 to  453281.0\n",
      "127 same pitcher:  453281.0\n",
      "128 new pitcher: from  453281.0 to  605538.0\n",
      "129 new pitcher: from  605538.0 to  608638.0\n",
      "130 new pitcher: from  608638.0 to  628711.0\n",
      "131 same pitcher:  628711.0\n",
      "132 new pitcher: from  628711.0 to  628317.0\n",
      "133 same pitcher:  628317.0\n",
      "134 new pitcher: from  628317.0 to  621111.0\n",
      "135 same pitcher:  621111.0\n",
      "136 same pitcher:  621111.0\n",
      "137 same pitcher:  621111.0\n",
      "138 new pitcher: from  621111.0 to  554340.0\n",
      "139 new pitcher: from  554340.0 to  520980.0\n",
      "140 new pitcher: from  520980.0 to  669160.0\n",
      "141 same pitcher:  669160.0\n",
      "142 same pitcher:  669160.0\n",
      "143 new pitcher: from  669160.0 to  554340.0\n",
      "144 new pitcher: from  554340.0 to  523260.0\n",
      "145 new pitcher: from  523260.0 to  477132.0\n",
      "146 same pitcher:  477132.0\n",
      "147 same pitcher:  477132.0\n",
      "148 new pitcher: from  477132.0 to  542888.0\n",
      "149 new pitcher: from  542888.0 to  612434.0\n",
      "150 new pitcher: from  612434.0 to  593679.0\n",
      "151 new pitcher: from  593679.0 to  664045.0\n",
      "152 same pitcher:  664045.0\n",
      "153 new pitcher: from  664045.0 to  622253.0\n",
      "154 new pitcher: from  622253.0 to  605276.0\n",
      "155 same pitcher:  605276.0\n",
      "156 same pitcher:  605276.0\n",
      "157 new pitcher: from  605276.0 to  473879.0\n",
      "158 new pitcher: from  473879.0 to  518516.0\n",
      "159 same pitcher:  518516.0\n",
      "160 same pitcher:  518516.0\n",
      "161 new pitcher: from  518516.0 to  519141.0\n",
      "162 new pitcher: from  519141.0 to  641312.0\n",
      "163 same pitcher:  641312.0\n",
      "164 same pitcher:  641312.0\n",
      "165 new pitcher: from  641312.0 to  519293.0\n",
      "166 new pitcher: from  519293.0 to  473879.0\n",
      "167 new pitcher: from  473879.0 to  502188.0\n",
      "168 same pitcher:  502188.0\n",
      "169 same pitcher:  502188.0\n",
      "170 new pitcher: from  502188.0 to  621242.0\n",
      "171 new pitcher: from  621242.0 to  594798.0\n",
      "172 same pitcher:  594798.0\n",
      "173 same pitcher:  594798.0\n",
      "174 new pitcher: from  594798.0 to  668665.0\n",
      "175 new pitcher: from  668665.0 to  592789.0\n",
      "176 same pitcher:  592789.0\n",
      "177 same pitcher:  592789.0\n",
      "178 same pitcher:  592789.0\n",
      "179 new pitcher: from  592789.0 to  607229.0\n",
      "180 new pitcher: from  607229.0 to  450306.0\n",
      "181 same pitcher:  450306.0\n",
      "182 same pitcher:  450306.0\n",
      "183 new pitcher: from  450306.0 to  542960.0\n",
      "184 new pitcher: from  542960.0 to  543294.0\n",
      "185 same pitcher:  543294.0\n",
      "186 same pitcher:  543294.0\n",
      "187 new pitcher: from  543294.0 to  518886.0\n",
      "188 new pitcher: from  518886.0 to  518553.0\n",
      "189 new pitcher: from  518553.0 to  500779.0\n",
      "190 same pitcher:  500779.0\n",
      "191 same pitcher:  500779.0\n",
      "192 new pitcher: from  500779.0 to  467008.0\n",
      "193 new pitcher: from  467008.0 to  452657.0\n",
      "194 same pitcher:  452657.0\n",
      "195 same pitcher:  452657.0\n",
      "196 same pitcher:  452657.0\n",
      "197 new pitcher: from  452657.0 to  623433.0\n",
      "198 new pitcher: from  623433.0 to  592761.0\n",
      "199 same pitcher:  592761.0\n",
      "200 same pitcher:  592761.0\n"
     ]
    },
    {
     "data": {
      "application/javascript": [
       "\n",
       "            setTimeout(function() {\n",
       "                var nbb_cell_id = 1467;\n",
       "                var nbb_unformatted_code = \"# TRY THREADING\\n\\ndf_b_p_merged = merge_batter_pitcher_dfs(df_sc_events1_temp, df4model_p1)\";\n",
       "                var nbb_formatted_code = \"# TRY THREADING\\n\\ndf_b_p_merged = merge_batter_pitcher_dfs(df_sc_events1_temp, df4model_p1)\";\n",
       "                var nbb_cells = Jupyter.notebook.get_cells();\n",
       "                for (var i = 0; i < nbb_cells.length; ++i) {\n",
       "                    if (nbb_cells[i].input_prompt_number == nbb_cell_id) {\n",
       "                        if (nbb_cells[i].get_text() == nbb_unformatted_code) {\n",
       "                             nbb_cells[i].set_text(nbb_formatted_code);\n",
       "                        }\n",
       "                        break;\n",
       "                    }\n",
       "                }\n",
       "            }, 500);\n",
       "            "
      ],
      "text/plain": [
       "<IPython.core.display.Javascript object>"
      ]
     },
     "metadata": {},
     "output_type": "display_data"
    }
   ],
   "source": [
    "# TRY THREADING\n",
    "\n",
    "df_b_p_merged = merge_batter_pitcher_dfs(df_sc_events1_temp, df4model_p1)"
   ]
  },
  {
   "cell_type": "code",
   "execution_count": null,
   "metadata": {},
   "outputs": [],
   "source": []
  },
  {
   "cell_type": "code",
   "execution_count": 1470,
   "metadata": {
    "ExecuteTime": {
     "end_time": "2020-01-28T20:28:08.631774Z",
     "start_time": "2020-01-28T20:28:08.613138Z"
    }
   },
   "outputs": [
    {
     "data": {
      "text/html": [
       "<div>\n",
       "<style scoped>\n",
       "    .dataframe tbody tr th:only-of-type {\n",
       "        vertical-align: middle;\n",
       "    }\n",
       "\n",
       "    .dataframe tbody tr th {\n",
       "        vertical-align: top;\n",
       "    }\n",
       "\n",
       "    .dataframe thead th {\n",
       "        text-align: right;\n",
       "    }\n",
       "</style>\n",
       "<table border=\"1\" class=\"dataframe\">\n",
       "  <thead>\n",
       "    <tr style=\"text-align: right;\">\n",
       "      <th></th>\n",
       "      <th>event_code</th>\n",
       "      <th>p_throws</th>\n",
       "      <th>prop_events_nback</th>\n",
       "      <th>prop_events_sum_nback_pt</th>\n",
       "      <th>prop_events_nback_bs</th>\n",
       "      <th>prop_events_sum_nback_bs_L</th>\n",
       "      <th>prop_events_sum_nback_bs_R</th>\n",
       "    </tr>\n",
       "  </thead>\n",
       "  <tbody>\n",
       "    <tr>\n",
       "      <th>0</th>\n",
       "      <td>1</td>\n",
       "      <td>1</td>\n",
       "      <td>0.33</td>\n",
       "      <td>0.29</td>\n",
       "      <td>0.26</td>\n",
       "      <td>0.14</td>\n",
       "      <td>0.14</td>\n",
       "    </tr>\n",
       "    <tr>\n",
       "      <th>1</th>\n",
       "      <td>1</td>\n",
       "      <td>1</td>\n",
       "      <td>0.32</td>\n",
       "      <td>0.29</td>\n",
       "      <td>0.26</td>\n",
       "      <td>0.14</td>\n",
       "      <td>0.14</td>\n",
       "    </tr>\n",
       "    <tr>\n",
       "      <th>2</th>\n",
       "      <td>0</td>\n",
       "      <td>1</td>\n",
       "      <td>0.32</td>\n",
       "      <td>0.28</td>\n",
       "      <td>0.26</td>\n",
       "      <td>0.14</td>\n",
       "      <td>0.14</td>\n",
       "    </tr>\n",
       "    <tr>\n",
       "      <th>3</th>\n",
       "      <td>1</td>\n",
       "      <td>1</td>\n",
       "      <td>0.32</td>\n",
       "      <td>0.28</td>\n",
       "      <td>0.36</td>\n",
       "      <td>0.22</td>\n",
       "      <td>0.17</td>\n",
       "    </tr>\n",
       "    <tr>\n",
       "      <th>4</th>\n",
       "      <td>1</td>\n",
       "      <td>1</td>\n",
       "      <td>0.31</td>\n",
       "      <td>0.27</td>\n",
       "      <td>0.35</td>\n",
       "      <td>0.09</td>\n",
       "      <td>0.26</td>\n",
       "    </tr>\n",
       "  </tbody>\n",
       "</table>\n",
       "</div>"
      ],
      "text/plain": [
       "   event_code  p_throws  prop_events_nback  prop_events_sum_nback_pt  \\\n",
       "0           1         1               0.33                      0.29   \n",
       "1           1         1               0.32                      0.29   \n",
       "2           0         1               0.32                      0.28   \n",
       "3           1         1               0.32                      0.28   \n",
       "4           1         1               0.31                      0.27   \n",
       "\n",
       "  prop_events_nback_bs prop_events_sum_nback_bs_L prop_events_sum_nback_bs_R  \n",
       "0                 0.26                       0.14                       0.14  \n",
       "1                 0.26                       0.14                       0.14  \n",
       "2                 0.26                       0.14                       0.14  \n",
       "3                 0.36                       0.22                       0.17  \n",
       "4                 0.35                       0.09                       0.26  "
      ]
     },
     "execution_count": 1470,
     "metadata": {},
     "output_type": "execute_result"
    },
    {
     "data": {
      "application/javascript": [
       "\n",
       "            setTimeout(function() {\n",
       "                var nbb_cell_id = 1470;\n",
       "                var nbb_unformatted_code = \"df_b_p_merged.head()\";\n",
       "                var nbb_formatted_code = \"df_b_p_merged.head()\";\n",
       "                var nbb_cells = Jupyter.notebook.get_cells();\n",
       "                for (var i = 0; i < nbb_cells.length; ++i) {\n",
       "                    if (nbb_cells[i].input_prompt_number == nbb_cell_id) {\n",
       "                        if (nbb_cells[i].get_text() == nbb_unformatted_code) {\n",
       "                             nbb_cells[i].set_text(nbb_formatted_code);\n",
       "                        }\n",
       "                        break;\n",
       "                    }\n",
       "                }\n",
       "            }, 500);\n",
       "            "
      ],
      "text/plain": [
       "<IPython.core.display.Javascript object>"
      ]
     },
     "metadata": {},
     "output_type": "display_data"
    }
   ],
   "source": [
    "df_b_p_merged.head()"
   ]
  },
  {
   "cell_type": "code",
   "execution_count": 1471,
   "metadata": {
    "ExecuteTime": {
     "end_time": "2020-01-28T20:28:09.824874Z",
     "start_time": "2020-01-28T20:28:09.811678Z"
    }
   },
   "outputs": [
    {
     "data": {
      "application/javascript": [
       "\n",
       "            setTimeout(function() {\n",
       "                var nbb_cell_id = 1471;\n",
       "                var nbb_unformatted_code = \"df_sc_events2_temp = df_sc_events2.copy()\";\n",
       "                var nbb_formatted_code = \"df_sc_events2_temp = df_sc_events2.copy()\";\n",
       "                var nbb_cells = Jupyter.notebook.get_cells();\n",
       "                for (var i = 0; i < nbb_cells.length; ++i) {\n",
       "                    if (nbb_cells[i].input_prompt_number == nbb_cell_id) {\n",
       "                        if (nbb_cells[i].get_text() == nbb_unformatted_code) {\n",
       "                             nbb_cells[i].set_text(nbb_formatted_code);\n",
       "                        }\n",
       "                        break;\n",
       "                    }\n",
       "                }\n",
       "            }, 500);\n",
       "            "
      ],
      "text/plain": [
       "<IPython.core.display.Javascript object>"
      ]
     },
     "metadata": {},
     "output_type": "display_data"
    }
   ],
   "source": [
    "df_sc_events2_temp = df_sc_events2.copy()"
   ]
  },
  {
   "cell_type": "code",
   "execution_count": 1472,
   "metadata": {
    "ExecuteTime": {
     "end_time": "2020-01-28T20:31:22.032429Z",
     "start_time": "2020-01-28T20:28:10.941582Z"
    },
    "collapsed": true
   },
   "outputs": [
    {
     "name": "stdout",
     "output_type": "stream",
     "text": [
      "0 starting pitcher list:  592314.0\n",
      "1 same pitcher:  592314.0\n",
      "2 new pitcher: from  592314.0 to  544727.0\n",
      "3 new pitcher: from  544727.0 to  641341.0\n",
      "4 new pitcher: from  641341.0 to  501593.0\n",
      "5 new pitcher: from  501593.0 to  592789.0\n",
      "6 same pitcher:  592789.0\n",
      "7 new pitcher: from  592789.0 to  458677.0\n",
      "8 new pitcher: from  458677.0 to  571927.0\n",
      "9 same pitcher:  571927.0\n",
      "10 same pitcher:  571927.0\n",
      "11 new pitcher: from  571927.0 to  606424.0\n",
      "12 new pitcher: from  606424.0 to  622694.0\n",
      "13 same pitcher:  622694.0\n",
      "14 new pitcher: from  622694.0 to  612672.0\n",
      "15 new pitcher: from  612672.0 to  650671.0\n",
      "16 new pitcher: from  650671.0 to  656257.0\n",
      "17 new pitcher: from  656257.0 to  612672.0\n",
      "18 new pitcher: from  612672.0 to  605240.0\n",
      "19 new pitcher: from  605240.0 to  446321.0\n",
      "20 same pitcher:  446321.0\n",
      "21 new pitcher: from  446321.0 to  592612.0\n",
      "22 new pitcher: from  592612.0 to  608334.0\n",
      "23 new pitcher: from  608334.0 to  614179.0\n",
      "24 new pitcher: from  614179.0 to  605359.0\n",
      "25 new pitcher: from  605359.0 to  594311.0\n",
      "26 new pitcher: from  594311.0 to  572125.0\n",
      "27 new pitcher: from  572125.0 to  605446.0\n",
      "28 same pitcher:  605446.0\n",
      "29 new pitcher: from  605446.0 to  453265.0\n",
      "30 new pitcher: from  453265.0 to  502188.0\n",
      "31 same pitcher:  502188.0\n",
      "32 new pitcher: from  502188.0 to  519141.0\n",
      "33 new pitcher: from  519141.0 to  595881.0\n",
      "34 same pitcher:  595881.0\n",
      "35 same pitcher:  595881.0\n",
      "36 new pitcher: from  595881.0 to  458708.0\n",
      "37 new pitcher: from  458708.0 to  592332.0\n",
      "38 same pitcher:  592332.0\n",
      "39 same pitcher:  592332.0\n",
      "40 new pitcher: from  592332.0 to  668683.0\n",
      "41 new pitcher: from  668683.0 to  656977.0\n",
      "42 new pitcher: from  656977.0 to  608331.0\n",
      "43 same pitcher:  608331.0\n",
      "44 same pitcher:  608331.0\n",
      "45 new pitcher: from  608331.0 to  458708.0\n",
      "46 new pitcher: from  458708.0 to  621345.0\n",
      "47 new pitcher: from  621345.0 to  647336.0\n",
      "48 same pitcher:  647336.0\n",
      "49 new pitcher: from  647336.0 to  642397.0\n",
      "50 new pitcher: from  642397.0 to  542585.0\n",
      "51 new pitcher: from  542585.0 to  519455.0\n",
      "52 same pitcher:  519455.0\n",
      "53 new pitcher: from  519455.0 to  598286.0\n",
      "54 new pitcher: from  598286.0 to  543278.0\n",
      "55 new pitcher: from  543278.0 to  572888.0\n",
      "56 new pitcher: from  572888.0 to  571510.0\n",
      "57 same pitcher:  571510.0\n",
      "58 new pitcher: from  571510.0 to  608717.0\n",
      "59 new pitcher: from  608717.0 to  553878.0\n",
      "60 new pitcher: from  553878.0 to  593140.0\n",
      "61 new pitcher: from  593140.0 to  605280.0\n",
      "62 new pitcher: from  605280.0 to  605195.0\n",
      "63 new pitcher: from  605195.0 to  593144.0\n",
      "64 new pitcher: from  593144.0 to  543475.0\n",
      "65 same pitcher:  543475.0\n",
      "66 new pitcher: from  543475.0 to  608638.0\n",
      "67 new pitcher: from  608638.0 to  554340.0\n",
      "68 new pitcher: from  554340.0 to  548389.0\n",
      "69 same pitcher:  548389.0\n",
      "70 new pitcher: from  548389.0 to  628711.0\n",
      "71 new pitcher: from  628711.0 to  621111.0\n",
      "72 new pitcher: from  621111.0 to  594987.0\n",
      "73 new pitcher: from  594987.0 to  477132.0\n",
      "74 same pitcher:  477132.0\n",
      "75 same pitcher:  477132.0\n",
      "76 new pitcher: from  477132.0 to  594840.0\n",
      "77 new pitcher: from  594840.0 to  434671.0\n",
      "78 same pitcher:  434671.0\n",
      "79 same pitcher:  434671.0\n",
      "80 new pitcher: from  434671.0 to  448281.0\n",
      "81 new pitcher: from  448281.0 to  571578.0\n",
      "82 same pitcher:  571578.0\n",
      "83 same pitcher:  571578.0\n",
      "84 new pitcher: from  571578.0 to  448281.0\n",
      "85 new pitcher: from  448281.0 to  544931.0\n",
      "86 same pitcher:  544931.0\n",
      "87 same pitcher:  544931.0\n",
      "88 new pitcher: from  544931.0 to  521655.0\n",
      "89 new pitcher: from  521655.0 to  544727.0\n",
      "90 new pitcher: from  544727.0 to  554430.0\n",
      "91 new pitcher: from  554430.0 to  607625.0\n",
      "92 new pitcher: from  607625.0 to  458677.0\n",
      "93 new pitcher: from  458677.0 to  592789.0\n",
      "94 same pitcher:  592789.0\n",
      "95 new pitcher: from  592789.0 to  621242.0\n",
      "96 new pitcher: from  621242.0 to  594798.0\n",
      "97 same pitcher:  594798.0\n",
      "98 same pitcher:  594798.0\n",
      "99 new pitcher: from  594798.0 to  647336.0\n",
      "100 new pitcher: from  647336.0 to  656794.0\n",
      "101 new pitcher: from  656794.0 to  669060.0\n",
      "102 same pitcher:  669060.0\n",
      "103 new pitcher: from  669060.0 to  460283.0\n",
      "104 new pitcher: from  460283.0 to  572971.0\n",
      "105 same pitcher:  572971.0\n",
      "106 same pitcher:  572971.0\n",
      "107 new pitcher: from  572971.0 to  650671.0\n",
      "108 new pitcher: from  650671.0 to  656257.0\n",
      "109 new pitcher: from  656257.0 to  612672.0\n",
      "110 new pitcher: from  612672.0 to  670950.0\n",
      "111 same pitcher:  670950.0\n",
      "112 new pitcher: from  670950.0 to  623433.0\n",
      "113 new pitcher: from  623433.0 to  543045.0\n",
      "114 new pitcher: from  543045.0 to  657141.0\n",
      "115 same pitcher:  657141.0\n",
      "116 new pitcher: from  657141.0 to  592169.0\n",
      "117 new pitcher: from  592169.0 to  622694.0\n",
      "118 same pitcher:  622694.0\n",
      "119 new pitcher: from  622694.0 to  621242.0\n",
      "120 new pitcher: from  621242.0 to  572044.0\n",
      "121 new pitcher: from  572044.0 to  554430.0\n",
      "122 same pitcher:  554430.0\n",
      "123 new pitcher: from  554430.0 to  607229.0\n",
      "124 new pitcher: from  607229.0 to  607625.0\n",
      "125 new pitcher: from  607625.0 to  450306.0\n",
      "126 new pitcher: from  450306.0 to  623167.0\n",
      "127 new pitcher: from  623167.0 to  521655.0\n",
      "128 new pitcher: from  521655.0 to  621141.0\n",
      "129 same pitcher:  621141.0\n",
      "130 new pitcher: from  621141.0 to  668665.0\n",
      "131 new pitcher: from  668665.0 to  572044.0\n",
      "132 new pitcher: from  572044.0 to  571927.0\n",
      "133 same pitcher:  571927.0\n",
      "134 new pitcher: from  571927.0 to  606424.0\n",
      "135 new pitcher: from  606424.0 to  622694.0\n",
      "136 new pitcher: from  622694.0 to  593833.0\n",
      "137 new pitcher: from  593833.0 to  457915.0\n",
      "138 new pitcher: from  457915.0 to  607200.0\n",
      "139 same pitcher:  607200.0\n",
      "140 new pitcher: from  607200.0 to  660623.0\n",
      "141 new pitcher: from  660623.0 to  592314.0\n",
      "142 same pitcher:  592314.0\n",
      "143 same pitcher:  592314.0\n",
      "144 new pitcher: from  592314.0 to  461872.0\n",
      "145 new pitcher: from  461872.0 to  518876.0\n",
      "146 same pitcher:  518876.0\n",
      "147 same pitcher:  518876.0\n",
      "148 new pitcher: from  518876.0 to  518813.0\n",
      "149 new pitcher: from  518813.0 to  542882.0\n",
      "150 new pitcher: from  542882.0 to  643327.0\n",
      "151 new pitcher: from  643327.0 to  664199.0\n",
      "152 same pitcher:  664199.0\n",
      "153 new pitcher: from  664199.0 to  547179.0\n",
      "154 new pitcher: from  547179.0 to  543243.0\n",
      "155 same pitcher:  543243.0\n",
      "156 new pitcher: from  543243.0 to  543699.0\n",
      "157 same pitcher:  543699.0\n",
      "158 new pitcher: from  543699.0 to  453172.0\n",
      "159 new pitcher: from  453172.0 to  641816.0\n",
      "160 same pitcher:  641816.0\n",
      "161 new pitcher: from  641816.0 to  622259.0\n",
      "162 new pitcher: from  622259.0 to  606131.0\n",
      "163 new pitcher: from  606131.0 to  448179.0\n",
      "164 new pitcher: from  448179.0 to  628711.0\n",
      "165 new pitcher: from  628711.0 to  477132.0\n",
      "166 same pitcher:  477132.0\n",
      "167 same pitcher:  477132.0\n",
      "168 new pitcher: from  477132.0 to  520980.0\n",
      "169 new pitcher: from  520980.0 to  663855.0\n",
      "170 new pitcher: from  663855.0 to  593372.0\n",
      "171 new pitcher: from  593372.0 to  641712.0\n",
      "172 same pitcher:  641712.0\n",
      "173 new pitcher: from  641712.0 to  605154.0\n",
      "174 new pitcher: from  605154.0 to  608379.0\n",
      "175 new pitcher: from  608379.0 to  650893.0\n",
      "176 same pitcher:  650893.0\n",
      "177 new pitcher: from  650893.0 to  606149.0\n",
      "178 new pitcher: from  606149.0 to  458006.0\n",
      "179 new pitcher: from  458006.0 to  605540.0\n",
      "180 same pitcher:  605540.0\n",
      "181 new pitcher: from  605540.0 to  669203.0\n",
      "182 new pitcher: from  669203.0 to  642547.0\n",
      "183 new pitcher: from  642547.0 to  502624.0\n",
      "184 same pitcher:  502624.0\n",
      "185 new pitcher: from  502624.0 to  445213.0\n",
      "186 new pitcher: from  445213.0 to  543022.0\n",
      "187 same pitcher:  543022.0\n",
      "188 new pitcher: from  543022.0 to  430935.0\n",
      "189 same pitcher:  430935.0\n",
      "190 new pitcher: from  430935.0 to  594986.0\n",
      "191 new pitcher: from  594986.0 to  605218.0\n",
      "192 new pitcher: from  605218.0 to  500779.0\n",
      "193 same pitcher:  500779.0\n",
      "194 new pitcher: from  500779.0 to  542960.0\n",
      "195 new pitcher: from  542960.0 to  543557.0\n",
      "196 new pitcher: from  543557.0 to  506433.0\n",
      "197 same pitcher:  506433.0\n",
      "198 new pitcher: from  506433.0 to  622075.0\n",
      "199 new pitcher: from  622075.0 to  543766.0\n",
      "200 new pitcher: from  543766.0 to  518452.0\n"
     ]
    },
    {
     "data": {
      "application/javascript": [
       "\n",
       "            setTimeout(function() {\n",
       "                var nbb_cell_id = 1472;\n",
       "                var nbb_unformatted_code = \"df_b_p_merged_p2 = merge_batter_pitcher_dfs(df_sc_events2_temp, df4model_p2)\";\n",
       "                var nbb_formatted_code = \"df_b_p_merged_p2 = merge_batter_pitcher_dfs(df_sc_events2_temp, df4model_p2)\";\n",
       "                var nbb_cells = Jupyter.notebook.get_cells();\n",
       "                for (var i = 0; i < nbb_cells.length; ++i) {\n",
       "                    if (nbb_cells[i].input_prompt_number == nbb_cell_id) {\n",
       "                        if (nbb_cells[i].get_text() == nbb_unformatted_code) {\n",
       "                             nbb_cells[i].set_text(nbb_formatted_code);\n",
       "                        }\n",
       "                        break;\n",
       "                    }\n",
       "                }\n",
       "            }, 500);\n",
       "            "
      ],
      "text/plain": [
       "<IPython.core.display.Javascript object>"
      ]
     },
     "metadata": {},
     "output_type": "display_data"
    }
   ],
   "source": [
    "df_b_p_merged_p2 = merge_batter_pitcher_dfs(df_sc_events2_temp, df4model_p2)"
   ]
  },
  {
   "cell_type": "code",
   "execution_count": null,
   "metadata": {},
   "outputs": [],
   "source": []
  },
  {
   "cell_type": "markdown",
   "metadata": {},
   "source": [
    "## EDA"
   ]
  },
  {
   "cell_type": "code",
   "execution_count": 1473,
   "metadata": {
    "ExecuteTime": {
     "end_time": "2020-01-28T20:37:37.802636Z",
     "start_time": "2020-01-28T20:37:37.129307Z"
    }
   },
   "outputs": [
    {
     "data": {
      "image/png": "[encoded data removed]",
      "text/plain": [
       "<Figure size 864x288 with 3 Axes>"
      ]
     },
     "metadata": {
      "needs_background": "light"
     },
     "output_type": "display_data"
    },
    {
     "data": {
      "application/javascript": [
       "\n",
       "            setTimeout(function() {\n",
       "                var nbb_cell_id = 1473;\n",
       "                var nbb_unformatted_code = \"# Hitter performance with pitcher performance - player 1\\n\\nf, (ax1, ax2, ax3) = plt.subplots(1, 3, figsize=(12, 4))\\nax1.scatter(df_b_p_merged[\\\"prop_events_nback_bs\\\"], df_b_p_merged[\\\"prop_events_nback\\\"])\\nax1.set_xlabel(\\\"hit rate against pitcher\\\")\\nax1.set_ylabel(\\\"hit rate for batter\\\")\\n\\n# Hits against left-handed pitchers, when facing a left-handed pitcher\\ndf_b_p_merged_L = df_b_p_merged[df_b_p_merged[\\\"p_throws\\\"] == 0].copy()\\nax2.scatter(\\n    df_b_p_merged_L[\\\"prop_events_sum_nback_bs_L\\\"], df_b_p_merged_L[\\\"prop_events_nback\\\"]\\n)\\nax2.set_xlabel(\\\"left-handed batter hit rate against pitcher\\\")\\nax2.set_ylabel(\\\"hit rate for batter, when facing left-handed pitcher\\\")\\n\\n# Hits against right-handed pitchers, when facing a right-handed pitcher\\ndf_b_p_merged_R = df_b_p_merged[df_b_p_merged[\\\"p_throws\\\"] == 1].copy()\\nax3.scatter(\\n    df_b_p_merged_R[\\\"prop_events_sum_nback_bs_R\\\"], df_b_p_merged_R[\\\"prop_events_nback\\\"]\\n)\\nax3.set_xlabel(\\\"right-handed batter hit rate against pitcher\\\")\\nax3.set_ylabel(\\\"hit rate for batter, when facing right-handed pitcher\\\")\\nplt.tight_layout()\";\n",
       "                var nbb_formatted_code = \"# Hitter performance with pitcher performance - player 1\\n\\nf, (ax1, ax2, ax3) = plt.subplots(1, 3, figsize=(12, 4))\\nax1.scatter(df_b_p_merged[\\\"prop_events_nback_bs\\\"], df_b_p_merged[\\\"prop_events_nback\\\"])\\nax1.set_xlabel(\\\"hit rate against pitcher\\\")\\nax1.set_ylabel(\\\"hit rate for batter\\\")\\n\\n# Hits against left-handed pitchers, when facing a left-handed pitcher\\ndf_b_p_merged_L = df_b_p_merged[df_b_p_merged[\\\"p_throws\\\"] == 0].copy()\\nax2.scatter(\\n    df_b_p_merged_L[\\\"prop_events_sum_nback_bs_L\\\"], df_b_p_merged_L[\\\"prop_events_nback\\\"]\\n)\\nax2.set_xlabel(\\\"left-handed batter hit rate against pitcher\\\")\\nax2.set_ylabel(\\\"hit rate for batter, when facing left-handed pitcher\\\")\\n\\n# Hits against right-handed pitchers, when facing a right-handed pitcher\\ndf_b_p_merged_R = df_b_p_merged[df_b_p_merged[\\\"p_throws\\\"] == 1].copy()\\nax3.scatter(\\n    df_b_p_merged_R[\\\"prop_events_sum_nback_bs_R\\\"], df_b_p_merged_R[\\\"prop_events_nback\\\"]\\n)\\nax3.set_xlabel(\\\"right-handed batter hit rate against pitcher\\\")\\nax3.set_ylabel(\\\"hit rate for batter, when facing right-handed pitcher\\\")\\nplt.tight_layout()\";\n",
       "                var nbb_cells = Jupyter.notebook.get_cells();\n",
       "                for (var i = 0; i < nbb_cells.length; ++i) {\n",
       "                    if (nbb_cells[i].input_prompt_number == nbb_cell_id) {\n",
       "                        if (nbb_cells[i].get_text() == nbb_unformatted_code) {\n",
       "                             nbb_cells[i].set_text(nbb_formatted_code);\n",
       "                        }\n",
       "                        break;\n",
       "                    }\n",
       "                }\n",
       "            }, 500);\n",
       "            "
      ],
      "text/plain": [
       "<IPython.core.display.Javascript object>"
      ]
     },
     "metadata": {},
     "output_type": "display_data"
    }
   ],
   "source": [
    "# Hitter performance with pitcher performance - player 1\n",
    "\n",
    "f, (ax1, ax2, ax3) = plt.subplots(1, 3, figsize=(12, 4))\n",
    "ax1.scatter(df_b_p_merged[\"prop_events_nback_bs\"], df_b_p_merged[\"prop_events_nback\"])\n",
    "ax1.set_xlabel(\"hit rate against pitcher\")\n",
    "ax1.set_ylabel(\"hit rate for batter\")\n",
    "\n",
    "# Hits against left-handed pitchers, when facing a left-handed pitcher\n",
    "df_b_p_merged_L = df_b_p_merged[df_b_p_merged[\"p_throws\"] == 0].copy()\n",
    "ax2.scatter(\n",
    "    df_b_p_merged_L[\"prop_events_sum_nback_bs_L\"], df_b_p_merged_L[\"prop_events_nback\"]\n",
    ")\n",
    "ax2.set_xlabel(\"left-handed batter hit rate against pitcher\")\n",
    "ax2.set_ylabel(\"hit rate for batter, when facing left-handed pitcher\")\n",
    "\n",
    "# Hits against right-handed pitchers, when facing a right-handed pitcher\n",
    "df_b_p_merged_R = df_b_p_merged[df_b_p_merged[\"p_throws\"] == 1].copy()\n",
    "ax3.scatter(\n",
    "    df_b_p_merged_R[\"prop_events_sum_nback_bs_R\"], df_b_p_merged_R[\"prop_events_nback\"]\n",
    ")\n",
    "ax3.set_xlabel(\"right-handed batter hit rate against pitcher\")\n",
    "ax3.set_ylabel(\"hit rate for batter, when facing right-handed pitcher\")\n",
    "plt.tight_layout()"
   ]
  },
  {
   "cell_type": "code",
   "execution_count": 1474,
   "metadata": {
    "ExecuteTime": {
     "end_time": "2020-01-28T20:38:34.253082Z",
     "start_time": "2020-01-28T20:38:34.069771Z"
    }
   },
   "outputs": [
    {
     "data": {
      "text/plain": [
       "Text(0.5, 1.0, 'Player 1 (overall)')"
      ]
     },
     "execution_count": 1474,
     "metadata": {},
     "output_type": "execute_result"
    },
    {
     "data": {
      "image/png": "[encoded data removed]",
      "text/plain": [
       "<Figure size 288x216 with 1 Axes>"
      ]
     },
     "metadata": {
      "needs_background": "light"
     },
     "output_type": "display_data"
    },
    {
     "data": {
      "application/javascript": [
       "\n",
       "            setTimeout(function() {\n",
       "                var nbb_cell_id = 1474;\n",
       "                var nbb_unformatted_code = \"f, (ax1) = plt.subplots(1, 1, figsize=(4, 3))\\nax1.scatter(\\n    df_b_p_merged[\\\"prop_events_nback_bs\\\"], df_b_p_merged[\\\"event_code\\\"] + np.random.normal(0, 0.025, len(df4model_p1)),\\n    facecolors=\\\"none\\\",\\n    edgecolors=\\\"black\\\",\\n)\\nax1.set_title(\\\"Player 1 (overall)\\\")\";\n",
       "                var nbb_formatted_code = \"f, (ax1) = plt.subplots(1, 1, figsize=(4, 3))\\nax1.scatter(\\n    df_b_p_merged[\\\"prop_events_nback_bs\\\"],\\n    df_b_p_merged[\\\"event_code\\\"] + np.random.normal(0, 0.025, len(df4model_p1)),\\n    facecolors=\\\"none\\\",\\n    edgecolors=\\\"black\\\",\\n)\\nax1.set_title(\\\"Player 1 (overall)\\\")\";\n",
       "                var nbb_cells = Jupyter.notebook.get_cells();\n",
       "                for (var i = 0; i < nbb_cells.length; ++i) {\n",
       "                    if (nbb_cells[i].input_prompt_number == nbb_cell_id) {\n",
       "                        if (nbb_cells[i].get_text() == nbb_unformatted_code) {\n",
       "                             nbb_cells[i].set_text(nbb_formatted_code);\n",
       "                        }\n",
       "                        break;\n",
       "                    }\n",
       "                }\n",
       "            }, 500);\n",
       "            "
      ],
      "text/plain": [
       "<IPython.core.display.Javascript object>"
      ]
     },
     "metadata": {},
     "output_type": "display_data"
    }
   ],
   "source": [
    "f, (ax1) = plt.subplots(1, 1, figsize=(4, 3))\n",
    "ax1.scatter(\n",
    "    df_b_p_merged[\"prop_events_nback_bs\"], df_b_p_merged[\"event_code\"] + np.random.normal(0, 0.025, len(df4model_p1)),\n",
    "    facecolors=\"none\",\n",
    "    edgecolors=\"black\",\n",
    ")\n",
    "ax1.set_title(\"Player 1 (overall)\")\n"
   ]
  },
  {
   "cell_type": "code",
   "execution_count": 1475,
   "metadata": {
    "ExecuteTime": {
     "end_time": "2020-01-28T20:38:38.357835Z",
     "start_time": "2020-01-28T20:38:37.765046Z"
    }
   },
   "outputs": [
    {
     "data": {
      "image/png": "[encoded data removed]",
      "text/plain": [
       "<Figure size 864x288 with 3 Axes>"
      ]
     },
     "metadata": {
      "needs_background": "light"
     },
     "output_type": "display_data"
    },
    {
     "data": {
      "application/javascript": [
       "\n",
       "            setTimeout(function() {\n",
       "                var nbb_cell_id = 1475;\n",
       "                var nbb_unformatted_code = \"# Hitter performance with pitcher performance - player 2\\n\\nf, (ax1, ax2, ax3) = plt.subplots(1, 3, figsize=(12, 4))\\nax1.scatter(\\n    df_b_p_merged_p2[\\\"prop_events_nback_bs\\\"], df_b_p_merged_p2[\\\"prop_events_nback\\\"]\\n)\\nax1.set_xlabel(\\\"hit rate against pitcher\\\")\\nax1.set_ylabel(\\\"hit rate for batter\\\")\\n\\n# Hits against left-handed pitchers, when facing a left-handed pitcher\\ndf_b_p_merged_p2_L = df_b_p_merged_p2[df_b_p_merged_p2[\\\"p_throws\\\"] == 0].copy()\\nax2.scatter(\\n    df_b_p_merged_p2_L[\\\"prop_events_sum_nback_bs_L\\\"],\\n    df_b_p_merged_p2_L[\\\"prop_events_nback\\\"],\\n)\\nax2.set_xlabel(\\\"left-handed batter hit rate against pitcher\\\")\\nax2.set_ylabel(\\\"hit rate for batter, when facing left-handed pitcher\\\")\\n\\n# Hits against right-handed pitchers, when facing a right-handed pitcher\\ndf_b_p_merged_p2_R = df_b_p_merged_p2[df_b_p_merged_p2[\\\"p_throws\\\"] == 1].copy()\\nax3.scatter(\\n    df_b_p_merged_p2_R[\\\"prop_events_sum_nback_bs_R\\\"],\\n    df_b_p_merged_p2_R[\\\"prop_events_nback\\\"],\\n)\\nax3.set_xlabel(\\\"right-handed batter hit rate against pitcher\\\")\\nax3.set_ylabel(\\\"hit rate for batter, when facing right-handed pitcher\\\")\\nplt.tight_layout()\";\n",
       "                var nbb_formatted_code = \"# Hitter performance with pitcher performance - player 2\\n\\nf, (ax1, ax2, ax3) = plt.subplots(1, 3, figsize=(12, 4))\\nax1.scatter(\\n    df_b_p_merged_p2[\\\"prop_events_nback_bs\\\"], df_b_p_merged_p2[\\\"prop_events_nback\\\"]\\n)\\nax1.set_xlabel(\\\"hit rate against pitcher\\\")\\nax1.set_ylabel(\\\"hit rate for batter\\\")\\n\\n# Hits against left-handed pitchers, when facing a left-handed pitcher\\ndf_b_p_merged_p2_L = df_b_p_merged_p2[df_b_p_merged_p2[\\\"p_throws\\\"] == 0].copy()\\nax2.scatter(\\n    df_b_p_merged_p2_L[\\\"prop_events_sum_nback_bs_L\\\"],\\n    df_b_p_merged_p2_L[\\\"prop_events_nback\\\"],\\n)\\nax2.set_xlabel(\\\"left-handed batter hit rate against pitcher\\\")\\nax2.set_ylabel(\\\"hit rate for batter, when facing left-handed pitcher\\\")\\n\\n# Hits against right-handed pitchers, when facing a right-handed pitcher\\ndf_b_p_merged_p2_R = df_b_p_merged_p2[df_b_p_merged_p2[\\\"p_throws\\\"] == 1].copy()\\nax3.scatter(\\n    df_b_p_merged_p2_R[\\\"prop_events_sum_nback_bs_R\\\"],\\n    df_b_p_merged_p2_R[\\\"prop_events_nback\\\"],\\n)\\nax3.set_xlabel(\\\"right-handed batter hit rate against pitcher\\\")\\nax3.set_ylabel(\\\"hit rate for batter, when facing right-handed pitcher\\\")\\nplt.tight_layout()\";\n",
       "                var nbb_cells = Jupyter.notebook.get_cells();\n",
       "                for (var i = 0; i < nbb_cells.length; ++i) {\n",
       "                    if (nbb_cells[i].input_prompt_number == nbb_cell_id) {\n",
       "                        if (nbb_cells[i].get_text() == nbb_unformatted_code) {\n",
       "                             nbb_cells[i].set_text(nbb_formatted_code);\n",
       "                        }\n",
       "                        break;\n",
       "                    }\n",
       "                }\n",
       "            }, 500);\n",
       "            "
      ],
      "text/plain": [
       "<IPython.core.display.Javascript object>"
      ]
     },
     "metadata": {},
     "output_type": "display_data"
    }
   ],
   "source": [
    "# Hitter performance with pitcher performance - player 2\n",
    "\n",
    "f, (ax1, ax2, ax3) = plt.subplots(1, 3, figsize=(12, 4))\n",
    "ax1.scatter(\n",
    "    df_b_p_merged_p2[\"prop_events_nback_bs\"], df_b_p_merged_p2[\"prop_events_nback\"]\n",
    ")\n",
    "ax1.set_xlabel(\"hit rate against pitcher\")\n",
    "ax1.set_ylabel(\"hit rate for batter\")\n",
    "\n",
    "# Hits against left-handed pitchers, when facing a left-handed pitcher\n",
    "df_b_p_merged_p2_L = df_b_p_merged_p2[df_b_p_merged_p2[\"p_throws\"] == 0].copy()\n",
    "ax2.scatter(\n",
    "    df_b_p_merged_p2_L[\"prop_events_sum_nback_bs_L\"],\n",
    "    df_b_p_merged_p2_L[\"prop_events_nback\"],\n",
    ")\n",
    "ax2.set_xlabel(\"left-handed batter hit rate against pitcher\")\n",
    "ax2.set_ylabel(\"hit rate for batter, when facing left-handed pitcher\")\n",
    "\n",
    "# Hits against right-handed pitchers, when facing a right-handed pitcher\n",
    "df_b_p_merged_p2_R = df_b_p_merged_p2[df_b_p_merged_p2[\"p_throws\"] == 1].copy()\n",
    "ax3.scatter(\n",
    "    df_b_p_merged_p2_R[\"prop_events_sum_nback_bs_R\"],\n",
    "    df_b_p_merged_p2_R[\"prop_events_nback\"],\n",
    ")\n",
    "ax3.set_xlabel(\"right-handed batter hit rate against pitcher\")\n",
    "ax3.set_ylabel(\"hit rate for batter, when facing right-handed pitcher\")\n",
    "plt.tight_layout()"
   ]
  },
  {
   "cell_type": "code",
   "execution_count": 1476,
   "metadata": {
    "ExecuteTime": {
     "end_time": "2020-01-28T20:38:40.811880Z",
     "start_time": "2020-01-28T20:38:40.610215Z"
    }
   },
   "outputs": [
    {
     "data": {
      "text/plain": [
       "Text(0.5, 1.0, 'Player 2 (overall)')"
      ]
     },
     "execution_count": 1476,
     "metadata": {},
     "output_type": "execute_result"
    },
    {
     "data": {
      "image/png": "[encoded data removed]",
      "text/plain": [
       "<Figure size 288x216 with 1 Axes>"
      ]
     },
     "metadata": {
      "needs_background": "light"
     },
     "output_type": "display_data"
    },
    {
     "data": {
      "application/javascript": [
       "\n",
       "            setTimeout(function() {\n",
       "                var nbb_cell_id = 1476;\n",
       "                var nbb_unformatted_code = \"f, (ax1) = plt.subplots(1, 1, figsize=(4, 3))\\nax1.scatter(\\n    df_b_p_merged_p2[\\\"prop_events_nback_bs\\\"],\\n    df_b_p_merged_p2[\\\"event_code\\\"] + np.random.normal(0, 0.025, len(df4model_p1)),\\n    facecolors=\\\"none\\\",\\n    edgecolors=\\\"black\\\",\\n)\\nax1.set_title(\\\"Player 2 (overall)\\\")\";\n",
       "                var nbb_formatted_code = \"f, (ax1) = plt.subplots(1, 1, figsize=(4, 3))\\nax1.scatter(\\n    df_b_p_merged_p2[\\\"prop_events_nback_bs\\\"],\\n    df_b_p_merged_p2[\\\"event_code\\\"] + np.random.normal(0, 0.025, len(df4model_p1)),\\n    facecolors=\\\"none\\\",\\n    edgecolors=\\\"black\\\",\\n)\\nax1.set_title(\\\"Player 2 (overall)\\\")\";\n",
       "                var nbb_cells = Jupyter.notebook.get_cells();\n",
       "                for (var i = 0; i < nbb_cells.length; ++i) {\n",
       "                    if (nbb_cells[i].input_prompt_number == nbb_cell_id) {\n",
       "                        if (nbb_cells[i].get_text() == nbb_unformatted_code) {\n",
       "                             nbb_cells[i].set_text(nbb_formatted_code);\n",
       "                        }\n",
       "                        break;\n",
       "                    }\n",
       "                }\n",
       "            }, 500);\n",
       "            "
      ],
      "text/plain": [
       "<IPython.core.display.Javascript object>"
      ]
     },
     "metadata": {},
     "output_type": "display_data"
    }
   ],
   "source": [
    "f, (ax1) = plt.subplots(1, 1, figsize=(4, 3))\n",
    "ax1.scatter(\n",
    "    df_b_p_merged_p2[\"prop_events_nback_bs\"],\n",
    "    df_b_p_merged_p2[\"event_code\"] + np.random.normal(0, 0.025, len(df4model_p1)),\n",
    "    facecolors=\"none\",\n",
    "    edgecolors=\"black\",\n",
    ")\n",
    "ax1.set_title(\"Player 2 (overall)\")"
   ]
  },
  {
   "cell_type": "markdown",
   "metadata": {},
   "source": [
    "## Logistic regression"
   ]
  },
  {
   "cell_type": "code",
   "execution_count": 1477,
   "metadata": {
    "ExecuteTime": {
     "end_time": "2020-01-28T20:39:08.483567Z",
     "start_time": "2020-01-28T20:39:08.454514Z"
    }
   },
   "outputs": [
    {
     "data": {
      "application/javascript": [
       "\n",
       "            setTimeout(function() {\n",
       "                var nbb_cell_id = 1477;\n",
       "                var nbb_unformatted_code = \"X_train_scale_p1, X_test_scale_p1, y_train_p1, y_test_p1 = get_split_data(\\n    df_b_p_merged, 0.3\\n)\\nX_train_scale_p2, X_test_scale_p2, y_train_p2, y_test_p2 = get_split_data(\\n    df_b_p_merged_p2, 0.3\\n)\";\n",
       "                var nbb_formatted_code = \"X_train_scale_p1, X_test_scale_p1, y_train_p1, y_test_p1 = get_split_data(\\n    df_b_p_merged, 0.3\\n)\\nX_train_scale_p2, X_test_scale_p2, y_train_p2, y_test_p2 = get_split_data(\\n    df_b_p_merged_p2, 0.3\\n)\";\n",
       "                var nbb_cells = Jupyter.notebook.get_cells();\n",
       "                for (var i = 0; i < nbb_cells.length; ++i) {\n",
       "                    if (nbb_cells[i].input_prompt_number == nbb_cell_id) {\n",
       "                        if (nbb_cells[i].get_text() == nbb_unformatted_code) {\n",
       "                             nbb_cells[i].set_text(nbb_formatted_code);\n",
       "                        }\n",
       "                        break;\n",
       "                    }\n",
       "                }\n",
       "            }, 500);\n",
       "            "
      ],
      "text/plain": [
       "<IPython.core.display.Javascript object>"
      ]
     },
     "metadata": {},
     "output_type": "display_data"
    }
   ],
   "source": [
    "X_train_scale_p1, X_test_scale_p1, y_train_p1, y_test_p1 = get_split_data(\n",
    "    df_b_p_merged, 0.3\n",
    ")\n",
    "X_train_scale_p2, X_test_scale_p2, y_train_p2, y_test_p2 = get_split_data(\n",
    "    df_b_p_merged_p2, 0.3\n",
    ")"
   ]
  },
  {
   "cell_type": "code",
   "execution_count": 1478,
   "metadata": {
    "ExecuteTime": {
     "end_time": "2020-01-28T20:39:09.873997Z",
     "start_time": "2020-01-28T20:39:09.864489Z"
    }
   },
   "outputs": [
    {
     "data": {
      "text/plain": [
       "(201, 7)"
      ]
     },
     "execution_count": 1478,
     "metadata": {},
     "output_type": "execute_result"
    },
    {
     "data": {
      "application/javascript": [
       "\n",
       "            setTimeout(function() {\n",
       "                var nbb_cell_id = 1478;\n",
       "                var nbb_unformatted_code = \"df_b_p_merged.shape\";\n",
       "                var nbb_formatted_code = \"df_b_p_merged.shape\";\n",
       "                var nbb_cells = Jupyter.notebook.get_cells();\n",
       "                for (var i = 0; i < nbb_cells.length; ++i) {\n",
       "                    if (nbb_cells[i].input_prompt_number == nbb_cell_id) {\n",
       "                        if (nbb_cells[i].get_text() == nbb_unformatted_code) {\n",
       "                             nbb_cells[i].set_text(nbb_formatted_code);\n",
       "                        }\n",
       "                        break;\n",
       "                    }\n",
       "                }\n",
       "            }, 500);\n",
       "            "
      ],
      "text/plain": [
       "<IPython.core.display.Javascript object>"
      ]
     },
     "metadata": {},
     "output_type": "display_data"
    }
   ],
   "source": [
    "df_b_p_merged.shape"
   ]
  },
  {
   "cell_type": "markdown",
   "metadata": {},
   "source": []
  },
  {
   "cell_type": "code",
   "execution_count": 1479,
   "metadata": {
    "ExecuteTime": {
     "end_time": "2020-01-28T20:39:12.943878Z",
     "start_time": "2020-01-28T20:39:12.931359Z"
    }
   },
   "outputs": [
    {
     "name": "stdout",
     "output_type": "stream",
     "text": [
      "(140, 6) (61, 6) (140,) (61,)\n",
      "(140, 6) (61, 6) (140,) (61,)\n"
     ]
    },
    {
     "data": {
      "application/javascript": [
       "\n",
       "            setTimeout(function() {\n",
       "                var nbb_cell_id = 1479;\n",
       "                var nbb_unformatted_code = \"print(X_train_scale_p1.shape, X_test_scale_p1.shape, y_train_p1.shape, y_test_p1.shape)\\nprint(X_train_scale_p2.shape, X_test_scale_p2.shape, y_train_p2.shape, y_test_p2.shape)\";\n",
       "                var nbb_formatted_code = \"print(X_train_scale_p1.shape, X_test_scale_p1.shape, y_train_p1.shape, y_test_p1.shape)\\nprint(X_train_scale_p2.shape, X_test_scale_p2.shape, y_train_p2.shape, y_test_p2.shape)\";\n",
       "                var nbb_cells = Jupyter.notebook.get_cells();\n",
       "                for (var i = 0; i < nbb_cells.length; ++i) {\n",
       "                    if (nbb_cells[i].input_prompt_number == nbb_cell_id) {\n",
       "                        if (nbb_cells[i].get_text() == nbb_unformatted_code) {\n",
       "                             nbb_cells[i].set_text(nbb_formatted_code);\n",
       "                        }\n",
       "                        break;\n",
       "                    }\n",
       "                }\n",
       "            }, 500);\n",
       "            "
      ],
      "text/plain": [
       "<IPython.core.display.Javascript object>"
      ]
     },
     "metadata": {},
     "output_type": "display_data"
    }
   ],
   "source": [
    "print(X_train_scale_p1.shape, X_test_scale_p1.shape, y_train_p1.shape, y_test_p1.shape)\n",
    "print(X_train_scale_p2.shape, X_test_scale_p2.shape, y_train_p2.shape, y_test_p2.shape)"
   ]
  },
  {
   "cell_type": "code",
   "execution_count": 1480,
   "metadata": {
    "ExecuteTime": {
     "end_time": "2020-01-28T20:39:14.608364Z",
     "start_time": "2020-01-28T20:39:14.583683Z"
    }
   },
   "outputs": [
    {
     "data": {
      "text/plain": [
       "LogisticRegression(C=1.0, class_weight=None, dual=False, fit_intercept=True,\n",
       "                   intercept_scaling=1, l1_ratio=None, max_iter=100,\n",
       "                   multi_class='auto', n_jobs=None, penalty='l2',\n",
       "                   random_state=None, solver='lbfgs', tol=0.0001, verbose=0,\n",
       "                   warm_start=False)"
      ]
     },
     "execution_count": 1480,
     "metadata": {},
     "output_type": "execute_result"
    },
    {
     "data": {
      "application/javascript": [
       "\n",
       "            setTimeout(function() {\n",
       "                var nbb_cell_id = 1480;\n",
       "                var nbb_unformatted_code = \"log_reg_p1_wp = LogisticRegression()\\nlog_reg_p1_wp.fit(X_train_scale_p1, y_train_p1)\";\n",
       "                var nbb_formatted_code = \"log_reg_p1_wp = LogisticRegression()\\nlog_reg_p1_wp.fit(X_train_scale_p1, y_train_p1)\";\n",
       "                var nbb_cells = Jupyter.notebook.get_cells();\n",
       "                for (var i = 0; i < nbb_cells.length; ++i) {\n",
       "                    if (nbb_cells[i].input_prompt_number == nbb_cell_id) {\n",
       "                        if (nbb_cells[i].get_text() == nbb_unformatted_code) {\n",
       "                             nbb_cells[i].set_text(nbb_formatted_code);\n",
       "                        }\n",
       "                        break;\n",
       "                    }\n",
       "                }\n",
       "            }, 500);\n",
       "            "
      ],
      "text/plain": [
       "<IPython.core.display.Javascript object>"
      ]
     },
     "metadata": {},
     "output_type": "display_data"
    }
   ],
   "source": [
    "log_reg_p1_wp = LogisticRegression()\n",
    "log_reg_p1_wp.fit(X_train_scale_p1, y_train_p1)"
   ]
  },
  {
   "cell_type": "code",
   "execution_count": 1481,
   "metadata": {
    "ExecuteTime": {
     "end_time": "2020-01-28T20:39:17.933861Z",
     "start_time": "2020-01-28T20:39:17.924002Z"
    }
   },
   "outputs": [
    {
     "data": {
      "application/javascript": [
       "\n",
       "            setTimeout(function() {\n",
       "                var nbb_cell_id = 1481;\n",
       "                var nbb_unformatted_code = \"y_pred_p1 = log_reg_p1_wp.predict(X_test_scale_p1)\\ny_predprob_p1 = log_reg_p1_wp.predict_proba(X_test_scale_p1)[:, 1]\";\n",
       "                var nbb_formatted_code = \"y_pred_p1 = log_reg_p1_wp.predict(X_test_scale_p1)\\ny_predprob_p1 = log_reg_p1_wp.predict_proba(X_test_scale_p1)[:, 1]\";\n",
       "                var nbb_cells = Jupyter.notebook.get_cells();\n",
       "                for (var i = 0; i < nbb_cells.length; ++i) {\n",
       "                    if (nbb_cells[i].input_prompt_number == nbb_cell_id) {\n",
       "                        if (nbb_cells[i].get_text() == nbb_unformatted_code) {\n",
       "                             nbb_cells[i].set_text(nbb_formatted_code);\n",
       "                        }\n",
       "                        break;\n",
       "                    }\n",
       "                }\n",
       "            }, 500);\n",
       "            "
      ],
      "text/plain": [
       "<IPython.core.display.Javascript object>"
      ]
     },
     "metadata": {},
     "output_type": "display_data"
    }
   ],
   "source": [
    "y_pred_p1 = log_reg_p1_wp.predict(X_test_scale_p1)\n",
    "y_predprob_p1 = log_reg_p1_wp.predict_proba(X_test_scale_p1)[:, 1]"
   ]
  },
  {
   "cell_type": "code",
   "execution_count": 1482,
   "metadata": {
    "ExecuteTime": {
     "end_time": "2020-01-28T20:39:19.344057Z",
     "start_time": "2020-01-28T20:39:19.323472Z"
    }
   },
   "outputs": [
    {
     "data": {
      "text/html": [
       "<div>\n",
       "<style scoped>\n",
       "    .dataframe tbody tr th:only-of-type {\n",
       "        vertical-align: middle;\n",
       "    }\n",
       "\n",
       "    .dataframe tbody tr th {\n",
       "        vertical-align: top;\n",
       "    }\n",
       "\n",
       "    .dataframe thead th {\n",
       "        text-align: right;\n",
       "    }\n",
       "</style>\n",
       "<table border=\"1\" class=\"dataframe\">\n",
       "  <thead>\n",
       "    <tr style=\"text-align: right;\">\n",
       "      <th></th>\n",
       "      <th>test</th>\n",
       "      <th>pred</th>\n",
       "      <th>predprob</th>\n",
       "    </tr>\n",
       "  </thead>\n",
       "  <tbody>\n",
       "    <tr>\n",
       "      <th>40</th>\n",
       "      <td>1</td>\n",
       "      <td>0</td>\n",
       "      <td>0.315222</td>\n",
       "    </tr>\n",
       "    <tr>\n",
       "      <th>141</th>\n",
       "      <td>0</td>\n",
       "      <td>0</td>\n",
       "      <td>0.327202</td>\n",
       "    </tr>\n",
       "    <tr>\n",
       "      <th>33</th>\n",
       "      <td>0</td>\n",
       "      <td>0</td>\n",
       "      <td>0.296921</td>\n",
       "    </tr>\n",
       "    <tr>\n",
       "      <th>91</th>\n",
       "      <td>1</td>\n",
       "      <td>0</td>\n",
       "      <td>0.466917</td>\n",
       "    </tr>\n",
       "    <tr>\n",
       "      <th>13</th>\n",
       "      <td>0</td>\n",
       "      <td>0</td>\n",
       "      <td>0.260403</td>\n",
       "    </tr>\n",
       "  </tbody>\n",
       "</table>\n",
       "</div>"
      ],
      "text/plain": [
       "     test  pred  predprob\n",
       "40      1     0  0.315222\n",
       "141     0     0  0.327202\n",
       "33      0     0  0.296921\n",
       "91      1     0  0.466917\n",
       "13      0     0  0.260403"
      ]
     },
     "execution_count": 1482,
     "metadata": {},
     "output_type": "execute_result"
    },
    {
     "data": {
      "application/javascript": [
       "\n",
       "            setTimeout(function() {\n",
       "                var nbb_cell_id = 1482;\n",
       "                var nbb_unformatted_code = \"df_eval_p1 = pd.DataFrame(\\n    {\\\"test\\\": y_test_p1, \\\"pred\\\": y_pred_p1, \\\"predprob\\\": y_predprob_p1}\\n)\\ndf_eval_p1.head()\";\n",
       "                var nbb_formatted_code = \"df_eval_p1 = pd.DataFrame(\\n    {\\\"test\\\": y_test_p1, \\\"pred\\\": y_pred_p1, \\\"predprob\\\": y_predprob_p1}\\n)\\ndf_eval_p1.head()\";\n",
       "                var nbb_cells = Jupyter.notebook.get_cells();\n",
       "                for (var i = 0; i < nbb_cells.length; ++i) {\n",
       "                    if (nbb_cells[i].input_prompt_number == nbb_cell_id) {\n",
       "                        if (nbb_cells[i].get_text() == nbb_unformatted_code) {\n",
       "                             nbb_cells[i].set_text(nbb_formatted_code);\n",
       "                        }\n",
       "                        break;\n",
       "                    }\n",
       "                }\n",
       "            }, 500);\n",
       "            "
      ],
      "text/plain": [
       "<IPython.core.display.Javascript object>"
      ]
     },
     "metadata": {},
     "output_type": "display_data"
    }
   ],
   "source": [
    "df_eval_p1 = pd.DataFrame(\n",
    "    {\"test\": y_test_p1, \"pred\": y_pred_p1, \"predprob\": y_predprob_p1}\n",
    ")\n",
    "df_eval_p1.head()"
   ]
  },
  {
   "cell_type": "code",
   "execution_count": 1483,
   "metadata": {
    "ExecuteTime": {
     "end_time": "2020-01-28T20:39:23.146662Z",
     "start_time": "2020-01-28T20:39:22.954658Z"
    }
   },
   "outputs": [
    {
     "data": {
      "text/plain": [
       "<matplotlib.collections.PathCollection at 0x1a3c24ec18>"
      ]
     },
     "execution_count": 1483,
     "metadata": {},
     "output_type": "execute_result"
    },
    {
     "data": {
      "image/png": "[encoded data removed]",
      "text/plain": [
       "<Figure size 432x288 with 1 Axes>"
      ]
     },
     "metadata": {
      "needs_background": "light"
     },
     "output_type": "display_data"
    },
    {
     "data": {
      "application/javascript": [
       "\n",
       "            setTimeout(function() {\n",
       "                var nbb_cell_id = 1483;\n",
       "                var nbb_unformatted_code = \"f, ax1 = plt.subplots()\\n\\n#\\nax1.scatter(\\n    df_eval_p1[\\\"predprob\\\"],\\n    df_eval_p1[\\\"test\\\"] + np.random.normal(0, 0.025, len(df_eval_p1)),\\n    facecolors=\\\"none\\\",\\n    edgecolors=\\\"black\\\",\\n)\";\n",
       "                var nbb_formatted_code = \"f, ax1 = plt.subplots()\\n\\n#\\nax1.scatter(\\n    df_eval_p1[\\\"predprob\\\"],\\n    df_eval_p1[\\\"test\\\"] + np.random.normal(0, 0.025, len(df_eval_p1)),\\n    facecolors=\\\"none\\\",\\n    edgecolors=\\\"black\\\",\\n)\";\n",
       "                var nbb_cells = Jupyter.notebook.get_cells();\n",
       "                for (var i = 0; i < nbb_cells.length; ++i) {\n",
       "                    if (nbb_cells[i].input_prompt_number == nbb_cell_id) {\n",
       "                        if (nbb_cells[i].get_text() == nbb_unformatted_code) {\n",
       "                             nbb_cells[i].set_text(nbb_formatted_code);\n",
       "                        }\n",
       "                        break;\n",
       "                    }\n",
       "                }\n",
       "            }, 500);\n",
       "            "
      ],
      "text/plain": [
       "<IPython.core.display.Javascript object>"
      ]
     },
     "metadata": {},
     "output_type": "display_data"
    }
   ],
   "source": [
    "f, ax1 = plt.subplots()\n",
    "\n",
    "#\n",
    "ax1.scatter(\n",
    "    df_eval_p1[\"predprob\"],\n",
    "    df_eval_p1[\"test\"] + np.random.normal(0, 0.025, len(df_eval_p1)),\n",
    "    facecolors=\"none\",\n",
    "    edgecolors=\"black\",\n",
    ")"
   ]
  },
  {
   "cell_type": "code",
   "execution_count": 1484,
   "metadata": {
    "ExecuteTime": {
     "end_time": "2020-01-28T20:39:26.306925Z",
     "start_time": "2020-01-28T20:39:26.297554Z"
    }
   },
   "outputs": [
    {
     "data": {
      "text/plain": [
       "array([[-0.28088299,  0.06408509,  0.01514172,  0.20912622, -0.30236944,\n",
       "        -0.59698024]])"
      ]
     },
     "execution_count": 1484,
     "metadata": {},
     "output_type": "execute_result"
    },
    {
     "data": {
      "application/javascript": [
       "\n",
       "            setTimeout(function() {\n",
       "                var nbb_cell_id = 1484;\n",
       "                var nbb_unformatted_code = \"log_reg_p1_wp.coef_\";\n",
       "                var nbb_formatted_code = \"log_reg_p1_wp.coef_\";\n",
       "                var nbb_cells = Jupyter.notebook.get_cells();\n",
       "                for (var i = 0; i < nbb_cells.length; ++i) {\n",
       "                    if (nbb_cells[i].input_prompt_number == nbb_cell_id) {\n",
       "                        if (nbb_cells[i].get_text() == nbb_unformatted_code) {\n",
       "                             nbb_cells[i].set_text(nbb_formatted_code);\n",
       "                        }\n",
       "                        break;\n",
       "                    }\n",
       "                }\n",
       "            }, 500);\n",
       "            "
      ],
      "text/plain": [
       "<IPython.core.display.Javascript object>"
      ]
     },
     "metadata": {},
     "output_type": "display_data"
    }
   ],
   "source": [
    "log_reg_p1_wp.coef_"
   ]
  },
  {
   "cell_type": "code",
   "execution_count": 1372,
   "metadata": {
    "ExecuteTime": {
     "end_time": "2020-01-28T04:42:04.755705Z",
     "start_time": "2020-01-28T04:42:04.591970Z"
    }
   },
   "outputs": [
    {
     "name": "stdout",
     "output_type": "stream",
     "text": [
      "low prob, 0:  16\n",
      "low prob, 1:  9\n",
      "high prob, 0:  24\n",
      "high prob, 1:  12\n"
     ]
    },
    {
     "data": {
      "application/javascript": [
       "\n",
       "            setTimeout(function() {\n",
       "                var nbb_cell_id = 1372;\n",
       "                var nbb_unformatted_code = \"print(\\n    \\\"low prob, 0: \\\", ((df_eval_p1[\\\"predprob\\\"] < 0.29) & (df_eval_p1[\\\"test\\\"] == 0)).sum()\\n)\\nprint(\\n    \\\"low prob, 1: \\\", ((df_eval_p1[\\\"predprob\\\"] < 0.29) & (df_eval_p1[\\\"test\\\"] == 1)).sum()\\n)\\nprint(\\n    \\\"high prob, 0: \\\",\\n    ((df_eval_p1[\\\"predprob\\\"] > 0.29) & (df_eval_p1[\\\"test\\\"] == 0)).sum(),\\n)\\nprint(\\n    \\\"high prob, 1: \\\",\\n    ((df_eval_p1[\\\"predprob\\\"] > 0.29) & (df_eval_p1[\\\"test\\\"] == 1)).sum(),\\n)\";\n",
       "                var nbb_formatted_code = \"print(\\n    \\\"low prob, 0: \\\", ((df_eval_p1[\\\"predprob\\\"] < 0.29) & (df_eval_p1[\\\"test\\\"] == 0)).sum()\\n)\\nprint(\\n    \\\"low prob, 1: \\\", ((df_eval_p1[\\\"predprob\\\"] < 0.29) & (df_eval_p1[\\\"test\\\"] == 1)).sum()\\n)\\nprint(\\n    \\\"high prob, 0: \\\",\\n    ((df_eval_p1[\\\"predprob\\\"] > 0.29) & (df_eval_p1[\\\"test\\\"] == 0)).sum(),\\n)\\nprint(\\n    \\\"high prob, 1: \\\",\\n    ((df_eval_p1[\\\"predprob\\\"] > 0.29) & (df_eval_p1[\\\"test\\\"] == 1)).sum(),\\n)\";\n",
       "                var nbb_cells = Jupyter.notebook.get_cells();\n",
       "                for (var i = 0; i < nbb_cells.length; ++i) {\n",
       "                    if (nbb_cells[i].input_prompt_number == nbb_cell_id) {\n",
       "                        if (nbb_cells[i].get_text() == nbb_unformatted_code) {\n",
       "                             nbb_cells[i].set_text(nbb_formatted_code);\n",
       "                        }\n",
       "                        break;\n",
       "                    }\n",
       "                }\n",
       "            }, 500);\n",
       "            "
      ],
      "text/plain": [
       "<IPython.core.display.Javascript object>"
      ]
     },
     "metadata": {},
     "output_type": "display_data"
    }
   ],
   "source": [
    "# print(\n",
    "#     \"low prob, 0: \", ((df_eval_p1[\"predprob\"] < 0.29) & (df_eval_p1[\"test\"] == 0)).sum()\n",
    "# )\n",
    "# print(\n",
    "#     \"low prob, 1: \", ((df_eval_p1[\"predprob\"] < 0.29) & (df_eval_p1[\"test\"] == 1)).sum()\n",
    "# )\n",
    "# print(\n",
    "#     \"high prob, 0: \",\n",
    "#     ((df_eval_p1[\"predprob\"] > 0.29) & (df_eval_p1[\"test\"] == 0)).sum(),\n",
    "# )\n",
    "# print(\n",
    "#     \"high prob, 1: \",\n",
    "#     ((df_eval_p1[\"predprob\"] > 0.29) & (df_eval_p1[\"test\"] == 1)).sum(),\n",
    "# )"
   ]
  },
  {
   "cell_type": "code",
   "execution_count": 1011,
   "metadata": {
    "ExecuteTime": {
     "end_time": "2020-01-27T19:30:43.078124Z",
     "start_time": "2020-01-27T19:30:43.068535Z"
    }
   },
   "outputs": [
    {
     "data": {
      "text/plain": [
       "48"
      ]
     },
     "execution_count": 1011,
     "metadata": {},
     "output_type": "execute_result"
    },
    {
     "data": {
      "application/javascript": [
       "\n",
       "            setTimeout(function() {\n",
       "                var nbb_cell_id = 1011;\n",
       "                var nbb_unformatted_code = \"# The number of right-handed pitchers matches the \\\"high probability\\\"\\nX_test_p1[\\\"p_throws\\\"].sum()\";\n",
       "                var nbb_formatted_code = \"# The number of right-handed pitchers matches the \\\"high probability\\\"\\nX_test_p1[\\\"p_throws\\\"].sum()\";\n",
       "                var nbb_cells = Jupyter.notebook.get_cells();\n",
       "                for (var i = 0; i < nbb_cells.length; ++i) {\n",
       "                    if (nbb_cells[i].input_prompt_number == nbb_cell_id) {\n",
       "                        if (nbb_cells[i].get_text() == nbb_unformatted_code) {\n",
       "                             nbb_cells[i].set_text(nbb_formatted_code);\n",
       "                        }\n",
       "                        break;\n",
       "                    }\n",
       "                }\n",
       "            }, 500);\n",
       "            "
      ],
      "text/plain": [
       "<IPython.core.display.Javascript object>"
      ]
     },
     "metadata": {},
     "output_type": "display_data"
    }
   ],
   "source": [
    "# The number of right-handed pitchers matches the \"high probability\"\n",
    "# X_test_p1[\"p_throws\"].sum()"
   ]
  },
  {
   "cell_type": "code",
   "execution_count": null,
   "metadata": {},
   "outputs": [],
   "source": []
  },
  {
   "cell_type": "code",
   "execution_count": null,
   "metadata": {},
   "outputs": [],
   "source": []
  },
  {
   "cell_type": "code",
   "execution_count": null,
   "metadata": {},
   "outputs": [],
   "source": []
  },
  {
   "cell_type": "code",
   "execution_count": null,
   "metadata": {},
   "outputs": [],
   "source": []
  },
  {
   "cell_type": "code",
   "execution_count": null,
   "metadata": {},
   "outputs": [],
   "source": []
  },
  {
   "cell_type": "code",
   "execution_count": null,
   "metadata": {},
   "outputs": [],
   "source": []
  },
  {
   "cell_type": "markdown",
   "metadata": {},
   "source": [
    "# Game condition features"
   ]
  },
  {
   "cell_type": "code",
   "execution_count": null,
   "metadata": {},
   "outputs": [],
   "source": []
  },
  {
   "cell_type": "code",
   "execution_count": null,
   "metadata": {},
   "outputs": [],
   "source": []
  },
  {
   "cell_type": "code",
   "execution_count": null,
   "metadata": {},
   "outputs": [],
   "source": []
  }
 ],
 "metadata": {
  "kernelspec": {
   "display_name": "Python 3",
   "language": "python",
   "name": "python3"
  },
  "language_info": {
   "codemirror_mode": {
    "name": "ipython",
    "version": 3
   },
   "file_extension": ".py",
   "mimetype": "text/x-python",
   "name": "python",
   "nbconvert_exporter": "python",
   "pygments_lexer": "ipython3",
   "version": "3.6.9"
  },
  "toc": {
   "base_numbering": 1,
   "nav_menu": {},
   "number_sections": true,
   "sideBar": true,
   "skip_h1_title": false,
   "title_cell": "Table of Contents",
   "title_sidebar": "Contents",
   "toc_cell": false,
   "toc_position": {
    "height": "calc(100% - 180px)",
    "left": "10px",
    "top": "150px",
    "width": "194.03750610351562px"
   },
   "toc_section_display": true,
   "toc_window_display": true
  },
  "varInspector": {
   "cols": {
    "lenName": 16,
    "lenType": 16,
    "lenVar": 40
   },
   "kernels_config": {
    "python": {
     "delete_cmd_postfix": "",
     "delete_cmd_prefix": "del ",
     "library": "var_list.py",
     "varRefreshCmd": "print(var_dic_list())"
    },
    "r": {
     "delete_cmd_postfix": ") ",
     "delete_cmd_prefix": "rm(",
     "library": "var_list.r",
     "varRefreshCmd": "cat(var_dic_list()) "
    }
   },
   "types_to_exclude": [
    "module",
    "function",
    "builtin_function_or_method",
    "instance",
    "_Feature"
   ],
   "window_display": false
  }
 },
 "nbformat": 4,
 "nbformat_minor": 2
}
