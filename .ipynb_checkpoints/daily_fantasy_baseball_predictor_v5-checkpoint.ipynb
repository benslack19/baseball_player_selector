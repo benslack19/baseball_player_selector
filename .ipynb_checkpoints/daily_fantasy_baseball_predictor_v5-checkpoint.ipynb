{
 "cells": [
  {
   "cell_type": "markdown",
   "metadata": {},
   "source": [
    "**How to identify position players on a given date?**\n",
    "\n",
    "**Problem:**\n",
    "<br>\n",
    "In daily fantasy baseball, a participant sets up their team against another player of their league. Some position players are stars and should play nearly all the time, but often a position is shared between other players on your roster. How do you choose which platooning player to start (especially if there is a limited sample size for the batter facing that pitcher)?\n",
    "\n",
    "**Strategy:**\n",
    "<br>\n",
    "- Focus on features of the batter (e.g. historical batting average) and pitcher (e.g. historical ERA, WHIP) to predict whether the batter would output a hit (or HR, single, double, etc.) in a given batter-pitcher at-bat matchup.\n",
    "\n",
    "- If you choose a given date (e.g. May 9), you know the starting pitcher a batter would face. Use data to build a model taht predicts how well a batter would do against the pitcher as a guide for a decision. (Lower priority: If the matchup for a particular batter-pitcher is small, find similar players to serve as a guide. Similar players can be found by using Erdos score.)\n",
    "\n",
    "- How do I know if my strategy is improved over other models? Look at which player one would choose from a simple player ranking.\n",
    "\n",
    "- Validation: Historical data\n",
    "\n",
    "This notebook was created within my \"insight\" virtual environment."
   ]
  },
  {
   "cell_type": "markdown",
   "metadata": {},
   "source": [
    "**Inputs and outputs**\n",
    "\n",
    "*Version 1:*\n",
    "- Input: Two players under consideration for one position and a date of interest (2019 season for historical validation).\n",
    "- Output: Player recommendation for that position with a predicted score.\n",
    "\n",
    "*Version 2:*\n",
    "- Input: A participant's player roster (e.g. 20 players)\n",
    "- Output: A recommended lineup."
   ]
  },
  {
   "cell_type": "markdown",
   "metadata": {},
   "source": [
    "Order of features of product to incorporate: (still to be determined)\n",
    "\n",
    "0.  Try a simple model where each at-bat batter-pitcher matchup is simply its own row and selected features are done. (DONE)\n",
    "1.\tRoster’s “basic” baseball statistics from 2018 season? Or 50 games (including previous season) - (minimum viable product level) (DONE)\n",
    "2.\tSpecific matchup against that pitcher - “basic” baseball statistics\n",
    "3.\tRoster’s statcast statistics from last 50 games (including previous season) (DONE)\n",
    "4.\tLimit to more recent performance (last 100 at-bats games - dataframe for model does 200 rows)\n",
    "5.\tWeather, park effects, team defense, night/day, lineup order\n",
    "6. Use batted ball characteristics as a feature of player and pitcher (launch angle average, launch speed average)\n",
    "7.\tUse of player similarity (lower priority)\n",
    "\n",
    "Similar idea\n",
    "https://community.fangraphs.com/the-outcome-machine-predicting-at-bats-before-they-happen/\n",
    "\n",
    "https://blogs.fangraphs.com/bettermatch-up-data-forecasting-strikeout-rate/\n",
    "\n",
    "EDA, do HR over time and by date for each player\n",
    "\n",
    "\n",
    "**Focus on predicting just the proportion of it happening using historical batter pitcher data**\n",
    "\n",
    "- use aggregated stats\n",
    "- get CI for each?\n",
    "- linear regression with batter and pitcher as a variable \n",
    "- do for HR, etc "
   ]
  },
  {
   "cell_type": "markdown",
   "metadata": {},
   "source": [
    "**Product pitch**\n",
    "\n",
    "I'm creating a fantasy baseball application that suggests players on a given day. Fantasy baseball has over 11 million participants with the winners of leagues collecting entry fees and host platforms receiving a commission. The projected market for fantasy baseball in 2020 is over 8 billion dollars. A participant's success depends in part on daily player selection. For player selection, participants must rely on their own research or use a site's recommendation, which uses black-box algorithms behind pay walls. I'm developing an alternative algorithm to assist in player selection to save participants time and expose the important features in player performance prediction."
   ]
  },
  {
   "cell_type": "markdown",
   "metadata": {},
   "source": [
    "# Ideas\n",
    "\n",
    "- Will hit happen based on pitch count\n",
    "- Use last 100 at-bats from the date of interest.\n",
    "- Use Bayesian?\n",
    "- EDA  - plot someone's hits over game-dates as a time series\n",
    "- Look at the player's last 100 hits \n",
    "\n",
    "Other:\n",
    "- Use all info for at-bat and then do backwards selection.\n",
    "\n",
    "**Motivation: Learning analytics requries some skills I can develop here**"
   ]
  },
  {
   "cell_type": "markdown",
   "metadata": {},
   "source": [
    "# Setup"
   ]
  },
  {
   "cell_type": "code",
   "execution_count": 1,
   "metadata": {
    "ExecuteTime": {
     "end_time": "2020-02-03T04:57:05.005109Z",
     "start_time": "2020-02-03T04:57:00.444116Z"
    }
   },
   "outputs": [],
   "source": [
    "import os\n",
    "import numpy as np\n",
    "import pandas as pd\n",
    "import matplotlib\n",
    "import matplotlib.pyplot as plt\n",
    "import seaborn as sns\n",
    "import sklearn\n",
    "\n",
    "from termcolor import colored\n",
    "\n",
    "# Web/database stuff\n",
    "import urllib.request\n",
    "import xml.etree.ElementTree as ET\n",
    "from bs4 import BeautifulSoup\n",
    "\n",
    "# Multiprocessing/threading\n",
    "import multiprocess\n",
    "import threading\n",
    "from threading import Thread"
   ]
  },
  {
   "cell_type": "code",
   "execution_count": 2,
   "metadata": {
    "ExecuteTime": {
     "end_time": "2020-02-03T04:57:25.475431Z",
     "start_time": "2020-02-03T04:57:23.784483Z"
    }
   },
   "outputs": [],
   "source": [
    "# Web/database stuff\n",
    "# import urllib.request\n",
    "# import xml.etree.ElementTree as ET\n",
    "# from bs4 import BeautifulSoup\n",
    "import sqlalchemy\n",
    "import sqlalchemy_utils\n",
    "from sqlalchemy import create_engine\n",
    "from sqlalchemy_utils import database_exists, create_database\n",
    "import psycopg2\n",
    "\n",
    "# Multiprocessing/threading\n",
    "import multiprocess\n",
    "import threading   # included in base"
   ]
  },
  {
   "cell_type": "code",
   "execution_count": 3,
   "metadata": {
    "ExecuteTime": {
     "end_time": "2020-02-03T04:57:25.837601Z",
     "start_time": "2020-02-03T04:57:25.832972Z"
    }
   },
   "outputs": [],
   "source": [
    "# Stats\n",
    "from scipy.stats import mannwhitneyu\n",
    "from scipy.stats import ttest_ind"
   ]
  },
  {
   "cell_type": "code",
   "execution_count": 4,
   "metadata": {
    "ExecuteTime": {
     "end_time": "2020-02-03T04:57:27.246097Z",
     "start_time": "2020-02-03T04:57:26.947418Z"
    }
   },
   "outputs": [],
   "source": [
    "# ML\n",
    "from sklearn.linear_model import LinearRegression\n",
    "from sklearn.linear_model import LogisticRegression\n",
    "from sklearn.preprocessing import StandardScaler\n",
    "from sklearn.model_selection import train_test_split\n",
    "from sklearn import metrics\n",
    "from sklearn.metrics import accuracy_score\n",
    "from sklearn.metrics import classification_report"
   ]
  },
  {
   "cell_type": "code",
   "execution_count": 5,
   "metadata": {
    "ExecuteTime": {
     "end_time": "2020-02-03T04:57:28.157808Z",
     "start_time": "2020-02-03T04:57:28.146539Z"
    }
   },
   "outputs": [
    {
     "name": "stdout",
     "output_type": "stream",
     "text": [
      "numpy:  1.17.4\n",
      "pandas:  0.25.3\n",
      "matplotlib:  3.1.1\n",
      "seaborn:  0.9.0\n",
      "sklearn:  0.22\n",
      "psycopg2:  2.8.4 (dt dec pq3 ext lo64)\n",
      "sqlalchemy:  1.3.11\n",
      "sqlalchemy_utils:  0.36.1\n",
      "multiprocess:  0.70.9\n"
     ]
    }
   ],
   "source": [
    "# Check versioning\n",
    "print('numpy: ', np.__version__)\n",
    "print('pandas: ', pd.__version__)\n",
    "print('matplotlib: ', matplotlib.__version__)\n",
    "print('seaborn: ', sns.__version__)\n",
    "print('sklearn: ', sklearn.__version__)\n",
    "\n",
    "print('psycopg2: ', psycopg2.__version__)\n",
    "print('sqlalchemy: ', sqlalchemy.__version__)\n",
    "print('sqlalchemy_utils: ', sqlalchemy_utils.__version__)\n",
    "print('multiprocess: ', multiprocess.__version__)"
   ]
  },
  {
   "cell_type": "code",
   "execution_count": 6,
   "metadata": {
    "ExecuteTime": {
     "end_time": "2020-02-03T04:57:29.598966Z",
     "start_time": "2020-02-03T04:57:29.422034Z"
    }
   },
   "outputs": [
    {
     "data": {
      "application/javascript": [
       "\n",
       "            setTimeout(function() {\n",
       "                var nbb_cell_id = 6;\n",
       "                var nbb_unformatted_code = \"# Code formatting with Jupyter black\\n%load_ext nb_black\";\n",
       "                var nbb_formatted_code = \"# Code formatting with Jupyter black\\n%load_ext nb_black\";\n",
       "                var nbb_cells = Jupyter.notebook.get_cells();\n",
       "                for (var i = 0; i < nbb_cells.length; ++i) {\n",
       "                    if (nbb_cells[i].input_prompt_number == nbb_cell_id) {\n",
       "                        if (nbb_cells[i].get_text() == nbb_unformatted_code) {\n",
       "                             nbb_cells[i].set_text(nbb_formatted_code);\n",
       "                        }\n",
       "                        break;\n",
       "                    }\n",
       "                }\n",
       "            }, 500);\n",
       "            "
      ],
      "text/plain": [
       "<IPython.core.display.Javascript object>"
      ]
     },
     "metadata": {},
     "output_type": "display_data"
    }
   ],
   "source": [
    "# Code formatting with Jupyter black\n",
    "%load_ext nb_black"
   ]
  },
  {
   "cell_type": "code",
   "execution_count": 7,
   "metadata": {
    "ExecuteTime": {
     "end_time": "2020-02-03T04:57:30.544144Z",
     "start_time": "2020-02-03T04:57:30.365997Z"
    }
   },
   "outputs": [
    {
     "data": {
      "application/javascript": [
       "\n",
       "            setTimeout(function() {\n",
       "                var nbb_cell_id = 7;\n",
       "                var nbb_unformatted_code = \"from pybaseball import pitching_stats\\nfrom pybaseball import batting_stats\\nfrom pybaseball import statcast_pitcher\\nfrom pybaseball import playerid_lookup\\nfrom pybaseball import statcast\\nfrom pybaseball import playerid_reverse_lookup\";\n",
       "                var nbb_formatted_code = \"from pybaseball import pitching_stats\\nfrom pybaseball import batting_stats\\nfrom pybaseball import statcast_pitcher\\nfrom pybaseball import playerid_lookup\\nfrom pybaseball import statcast\\nfrom pybaseball import playerid_reverse_lookup\";\n",
       "                var nbb_cells = Jupyter.notebook.get_cells();\n",
       "                for (var i = 0; i < nbb_cells.length; ++i) {\n",
       "                    if (nbb_cells[i].input_prompt_number == nbb_cell_id) {\n",
       "                        if (nbb_cells[i].get_text() == nbb_unformatted_code) {\n",
       "                             nbb_cells[i].set_text(nbb_formatted_code);\n",
       "                        }\n",
       "                        break;\n",
       "                    }\n",
       "                }\n",
       "            }, 500);\n",
       "            "
      ],
      "text/plain": [
       "<IPython.core.display.Javascript object>"
      ]
     },
     "metadata": {},
     "output_type": "display_data"
    }
   ],
   "source": [
    "from pybaseball import pitching_stats\n",
    "from pybaseball import batting_stats\n",
    "from pybaseball import statcast_pitcher\n",
    "from pybaseball import playerid_lookup\n",
    "from pybaseball import statcast\n",
    "from pybaseball import playerid_reverse_lookup"
   ]
  },
  {
   "cell_type": "markdown",
   "metadata": {
    "ExecuteTime": {
     "end_time": "2020-01-25T23:36:27.350958Z",
     "start_time": "2020-01-25T23:36:27.343990Z"
    }
   },
   "source": [
    "# Database info"
   ]
  },
  {
   "cell_type": "code",
   "execution_count": 8,
   "metadata": {
    "ExecuteTime": {
     "end_time": "2020-02-03T04:57:33.299269Z",
     "start_time": "2020-02-03T04:57:33.287615Z"
    }
   },
   "outputs": [
    {
     "data": {
      "application/javascript": [
       "\n",
       "            setTimeout(function() {\n",
       "                var nbb_cell_id = 8;\n",
       "                var nbb_unformatted_code = \"# Define a database name\\n# Set your postgres username\\ndbname = \\\"baseball\\\"\\nusername = \\\"lacar\\\"  # change this to your username\";\n",
       "                var nbb_formatted_code = \"# Define a database name\\n# Set your postgres username\\ndbname = \\\"baseball\\\"\\nusername = \\\"lacar\\\"  # change this to your username\";\n",
       "                var nbb_cells = Jupyter.notebook.get_cells();\n",
       "                for (var i = 0; i < nbb_cells.length; ++i) {\n",
       "                    if (nbb_cells[i].input_prompt_number == nbb_cell_id) {\n",
       "                        if (nbb_cells[i].get_text() == nbb_unformatted_code) {\n",
       "                             nbb_cells[i].set_text(nbb_formatted_code);\n",
       "                        }\n",
       "                        break;\n",
       "                    }\n",
       "                }\n",
       "            }, 500);\n",
       "            "
      ],
      "text/plain": [
       "<IPython.core.display.Javascript object>"
      ]
     },
     "metadata": {},
     "output_type": "display_data"
    }
   ],
   "source": [
    "# Define a database name\n",
    "# Set your postgres username\n",
    "dbname = \"baseball\"\n",
    "username = \"lacar\"  # change this to your username"
   ]
  },
  {
   "cell_type": "code",
   "execution_count": 9,
   "metadata": {
    "ExecuteTime": {
     "end_time": "2020-02-03T04:57:34.036073Z",
     "start_time": "2020-02-03T04:57:34.022819Z"
    }
   },
   "outputs": [
    {
     "name": "stdout",
     "output_type": "stream",
     "text": [
      "postgres://lacar@localhost/baseball\n"
     ]
    },
    {
     "data": {
      "application/javascript": [
       "\n",
       "            setTimeout(function() {\n",
       "                var nbb_cell_id = 9;\n",
       "                var nbb_unformatted_code = \"## 'engine' is a connection to a database\\n## Here, we're using postgres, but sqlalchemy can connect to other things too.\\nengine = create_engine(\\\"postgres://%s@localhost/%s\\\" % (username, dbname))\\nprint(engine.url)\";\n",
       "                var nbb_formatted_code = \"## 'engine' is a connection to a database\\n## Here, we're using postgres, but sqlalchemy can connect to other things too.\\nengine = create_engine(\\\"postgres://%s@localhost/%s\\\" % (username, dbname))\\nprint(engine.url)\";\n",
       "                var nbb_cells = Jupyter.notebook.get_cells();\n",
       "                for (var i = 0; i < nbb_cells.length; ++i) {\n",
       "                    if (nbb_cells[i].input_prompt_number == nbb_cell_id) {\n",
       "                        if (nbb_cells[i].get_text() == nbb_unformatted_code) {\n",
       "                             nbb_cells[i].set_text(nbb_formatted_code);\n",
       "                        }\n",
       "                        break;\n",
       "                    }\n",
       "                }\n",
       "            }, 500);\n",
       "            "
      ],
      "text/plain": [
       "<IPython.core.display.Javascript object>"
      ]
     },
     "metadata": {},
     "output_type": "display_data"
    }
   ],
   "source": [
    "## 'engine' is a connection to a database\n",
    "## Here, we're using postgres, but sqlalchemy can connect to other things too.\n",
    "engine = create_engine(\"postgres://%s@localhost/%s\" % (username, dbname))\n",
    "print(engine.url)"
   ]
  },
  {
   "cell_type": "markdown",
   "metadata": {
    "ExecuteTime": {
     "end_time": "2020-01-25T23:37:21.428885Z",
     "start_time": "2020-01-25T23:37:21.423228Z"
    }
   },
   "source": [
    "**Statcast data to database**\n",
    "<br>\n",
    "(done already, see previous versions of notebooks)"
   ]
  },
  {
   "cell_type": "code",
   "execution_count": 140,
   "metadata": {
    "ExecuteTime": {
     "end_time": "2020-02-01T15:35:48.412856Z",
     "start_time": "2020-02-01T15:27:38.102821Z"
    },
    "collapsed": true
   },
   "outputs": [
    {
     "name": "stdout",
     "output_type": "stream",
     "text": [
      "This is a large query, it may take a moment to complete\n",
      "Completed sub-query from 2015-04-05 to 2015-04-10\n",
      "Completed sub-query from 2015-04-11 to 2015-04-16\n",
      "Completed sub-query from 2015-04-17 to 2015-04-22\n",
      "Completed sub-query from 2015-04-23 to 2015-04-28\n",
      "Completed sub-query from 2015-04-29 to 2015-05-04\n",
      "Completed sub-query from 2015-05-05 to 2015-05-10\n",
      "Completed sub-query from 2015-05-11 to 2015-05-16\n",
      "Completed sub-query from 2015-05-17 to 2015-05-22\n",
      "Completed sub-query from 2015-05-23 to 2015-05-28\n",
      "Completed sub-query from 2015-05-29 to 2015-06-03\n",
      "Completed sub-query from 2015-06-04 to 2015-06-09\n",
      "Completed sub-query from 2015-06-10 to 2015-06-15\n",
      "Completed sub-query from 2015-06-16 to 2015-06-21\n",
      "Completed sub-query from 2015-06-22 to 2015-06-27\n",
      "Completed sub-query from 2015-06-28 to 2015-07-03\n",
      "Completed sub-query from 2015-07-04 to 2015-07-09\n",
      "Completed sub-query from 2015-07-10 to 2015-07-15\n",
      "Completed sub-query from 2015-07-16 to 2015-07-21\n",
      "Completed sub-query from 2015-07-22 to 2015-07-27\n",
      "Completed sub-query from 2015-07-28 to 2015-08-02\n",
      "Completed sub-query from 2015-08-03 to 2015-08-08\n",
      "Completed sub-query from 2015-08-09 to 2015-08-14\n",
      "Completed sub-query from 2015-08-15 to 2015-08-20\n",
      "Completed sub-query from 2015-08-21 to 2015-08-26\n",
      "Completed sub-query from 2015-08-27 to 2015-09-01\n",
      "Completed sub-query from 2015-09-02 to 2015-09-07\n",
      "Completed sub-query from 2015-09-08 to 2015-09-13\n",
      "Completed sub-query from 2015-09-14 to 2015-09-19\n",
      "Completed sub-query from 2015-09-20 to 2015-09-25\n",
      "Completed sub-query from 2015-09-26 to 2015-10-01\n",
      "Completed sub-query from 2015-10-02 to 2015-10-04\n"
     ]
    },
    {
     "data": {
      "application/javascript": [
       "\n",
       "            setTimeout(function() {\n",
       "                var nbb_cell_id = 140;\n",
       "                var nbb_unformatted_code = \"# Get more data, 2015 and 2016 seasons when launch angle was available\\n\\n# 2015 regular season\\ndf_statcast_15 = statcast('2015-04-05', '2015-10-04')\";\n",
       "                var nbb_formatted_code = \"# Get more data, 2015 and 2016 seasons when launch angle was available\\n\\n# 2015 regular season\\ndf_statcast_15 = statcast(\\\"2015-04-05\\\", \\\"2015-10-04\\\")\";\n",
       "                var nbb_cells = Jupyter.notebook.get_cells();\n",
       "                for (var i = 0; i < nbb_cells.length; ++i) {\n",
       "                    if (nbb_cells[i].input_prompt_number == nbb_cell_id) {\n",
       "                        if (nbb_cells[i].get_text() == nbb_unformatted_code) {\n",
       "                             nbb_cells[i].set_text(nbb_formatted_code);\n",
       "                        }\n",
       "                        break;\n",
       "                    }\n",
       "                }\n",
       "            }, 500);\n",
       "            "
      ],
      "text/plain": [
       "<IPython.core.display.Javascript object>"
      ]
     },
     "metadata": {},
     "output_type": "display_data"
    }
   ],
   "source": [
    "# Get more data, 2015 and 2016 seasons when launch angle was available\n",
    "\n",
    "# 2015 regular season\n",
    "# df_statcast_15 = statcast('2015-04-05', '2015-10-04')\n"
   ]
  },
  {
   "cell_type": "code",
   "execution_count": 141,
   "metadata": {
    "ExecuteTime": {
     "end_time": "2020-02-01T16:11:02.403013Z",
     "start_time": "2020-02-01T16:11:02.304254Z"
    }
   },
   "outputs": [
    {
     "data": {
      "text/html": [
       "<div>\n",
       "<style scoped>\n",
       "    .dataframe tbody tr th:only-of-type {\n",
       "        vertical-align: middle;\n",
       "    }\n",
       "\n",
       "    .dataframe tbody tr th {\n",
       "        vertical-align: top;\n",
       "    }\n",
       "\n",
       "    .dataframe thead th {\n",
       "        text-align: right;\n",
       "    }\n",
       "</style>\n",
       "<table border=\"1\" class=\"dataframe\">\n",
       "  <thead>\n",
       "    <tr style=\"text-align: right;\">\n",
       "      <th></th>\n",
       "      <th>index</th>\n",
       "      <th>pitch_type</th>\n",
       "      <th>game_date</th>\n",
       "      <th>release_speed</th>\n",
       "      <th>release_pos_x</th>\n",
       "      <th>release_pos_z</th>\n",
       "      <th>player_name</th>\n",
       "      <th>batter</th>\n",
       "      <th>pitcher</th>\n",
       "      <th>events</th>\n",
       "      <th>...</th>\n",
       "      <th>home_score</th>\n",
       "      <th>away_score</th>\n",
       "      <th>bat_score</th>\n",
       "      <th>fld_score</th>\n",
       "      <th>post_away_score</th>\n",
       "      <th>post_home_score</th>\n",
       "      <th>post_bat_score</th>\n",
       "      <th>post_fld_score</th>\n",
       "      <th>if_fielding_alignment</th>\n",
       "      <th>of_fielding_alignment</th>\n",
       "    </tr>\n",
       "  </thead>\n",
       "  <tbody>\n",
       "    <tr>\n",
       "      <th>702297</th>\n",
       "      <td>17574</td>\n",
       "      <td>CU</td>\n",
       "      <td>2015-04-05</td>\n",
       "      <td>75.9</td>\n",
       "      <td>NaN</td>\n",
       "      <td>NaN</td>\n",
       "      <td>Jon Lester</td>\n",
       "      <td>572761.0</td>\n",
       "      <td>452657.0</td>\n",
       "      <td>NaN</td>\n",
       "      <td>...</td>\n",
       "      <td>0.0</td>\n",
       "      <td>0.0</td>\n",
       "      <td>0.0</td>\n",
       "      <td>0.0</td>\n",
       "      <td>0.0</td>\n",
       "      <td>0.0</td>\n",
       "      <td>0.0</td>\n",
       "      <td>0.0</td>\n",
       "      <td>NaN</td>\n",
       "      <td>NaN</td>\n",
       "    </tr>\n",
       "    <tr>\n",
       "      <th>702298</th>\n",
       "      <td>17575</td>\n",
       "      <td>FF</td>\n",
       "      <td>2015-04-05</td>\n",
       "      <td>91.6</td>\n",
       "      <td>NaN</td>\n",
       "      <td>NaN</td>\n",
       "      <td>Jon Lester</td>\n",
       "      <td>572761.0</td>\n",
       "      <td>452657.0</td>\n",
       "      <td>NaN</td>\n",
       "      <td>...</td>\n",
       "      <td>0.0</td>\n",
       "      <td>0.0</td>\n",
       "      <td>0.0</td>\n",
       "      <td>0.0</td>\n",
       "      <td>0.0</td>\n",
       "      <td>0.0</td>\n",
       "      <td>0.0</td>\n",
       "      <td>0.0</td>\n",
       "      <td>NaN</td>\n",
       "      <td>NaN</td>\n",
       "    </tr>\n",
       "    <tr>\n",
       "      <th>702299</th>\n",
       "      <td>17576</td>\n",
       "      <td>FF</td>\n",
       "      <td>2015-04-05</td>\n",
       "      <td>94.8</td>\n",
       "      <td>2.6267</td>\n",
       "      <td>5.2936</td>\n",
       "      <td>Jon Lester</td>\n",
       "      <td>572761.0</td>\n",
       "      <td>452657.0</td>\n",
       "      <td>NaN</td>\n",
       "      <td>...</td>\n",
       "      <td>0.0</td>\n",
       "      <td>0.0</td>\n",
       "      <td>0.0</td>\n",
       "      <td>0.0</td>\n",
       "      <td>0.0</td>\n",
       "      <td>0.0</td>\n",
       "      <td>0.0</td>\n",
       "      <td>0.0</td>\n",
       "      <td>NaN</td>\n",
       "      <td>NaN</td>\n",
       "    </tr>\n",
       "    <tr>\n",
       "      <th>702300</th>\n",
       "      <td>17577</td>\n",
       "      <td>FF</td>\n",
       "      <td>2015-04-05</td>\n",
       "      <td>93.4</td>\n",
       "      <td>2.5694</td>\n",
       "      <td>5.6476</td>\n",
       "      <td>Jon Lester</td>\n",
       "      <td>572761.0</td>\n",
       "      <td>452657.0</td>\n",
       "      <td>NaN</td>\n",
       "      <td>...</td>\n",
       "      <td>0.0</td>\n",
       "      <td>0.0</td>\n",
       "      <td>0.0</td>\n",
       "      <td>0.0</td>\n",
       "      <td>0.0</td>\n",
       "      <td>0.0</td>\n",
       "      <td>0.0</td>\n",
       "      <td>0.0</td>\n",
       "      <td>NaN</td>\n",
       "      <td>NaN</td>\n",
       "    </tr>\n",
       "    <tr>\n",
       "      <th>702301</th>\n",
       "      <td>17578</td>\n",
       "      <td>FF</td>\n",
       "      <td>2015-04-05</td>\n",
       "      <td>93.6</td>\n",
       "      <td>2.5520</td>\n",
       "      <td>5.5293</td>\n",
       "      <td>Jon Lester</td>\n",
       "      <td>572761.0</td>\n",
       "      <td>452657.0</td>\n",
       "      <td>NaN</td>\n",
       "      <td>...</td>\n",
       "      <td>0.0</td>\n",
       "      <td>0.0</td>\n",
       "      <td>0.0</td>\n",
       "      <td>0.0</td>\n",
       "      <td>0.0</td>\n",
       "      <td>0.0</td>\n",
       "      <td>0.0</td>\n",
       "      <td>0.0</td>\n",
       "      <td>NaN</td>\n",
       "      <td>NaN</td>\n",
       "    </tr>\n",
       "  </tbody>\n",
       "</table>\n",
       "<p>5 rows × 90 columns</p>\n",
       "</div>"
      ],
      "text/plain": [
       "        index pitch_type  game_date  release_speed  release_pos_x  \\\n",
       "702297  17574         CU 2015-04-05           75.9            NaN   \n",
       "702298  17575         FF 2015-04-05           91.6            NaN   \n",
       "702299  17576         FF 2015-04-05           94.8         2.6267   \n",
       "702300  17577         FF 2015-04-05           93.4         2.5694   \n",
       "702301  17578         FF 2015-04-05           93.6         2.5520   \n",
       "\n",
       "        release_pos_z player_name    batter   pitcher events  ... home_score  \\\n",
       "702297            NaN  Jon Lester  572761.0  452657.0    NaN  ...        0.0   \n",
       "702298            NaN  Jon Lester  572761.0  452657.0    NaN  ...        0.0   \n",
       "702299         5.2936  Jon Lester  572761.0  452657.0    NaN  ...        0.0   \n",
       "702300         5.6476  Jon Lester  572761.0  452657.0    NaN  ...        0.0   \n",
       "702301         5.5293  Jon Lester  572761.0  452657.0    NaN  ...        0.0   \n",
       "\n",
       "        away_score  bat_score  fld_score  post_away_score  post_home_score  \\\n",
       "702297         0.0        0.0        0.0              0.0              0.0   \n",
       "702298         0.0        0.0        0.0              0.0              0.0   \n",
       "702299         0.0        0.0        0.0              0.0              0.0   \n",
       "702300         0.0        0.0        0.0              0.0              0.0   \n",
       "702301         0.0        0.0        0.0              0.0              0.0   \n",
       "\n",
       "       post_bat_score post_fld_score if_fielding_alignment  \\\n",
       "702297            0.0            0.0                   NaN   \n",
       "702298            0.0            0.0                   NaN   \n",
       "702299            0.0            0.0                   NaN   \n",
       "702300            0.0            0.0                   NaN   \n",
       "702301            0.0            0.0                   NaN   \n",
       "\n",
       "       of_fielding_alignment  \n",
       "702297                   NaN  \n",
       "702298                   NaN  \n",
       "702299                   NaN  \n",
       "702300                   NaN  \n",
       "702301                   NaN  \n",
       "\n",
       "[5 rows x 90 columns]"
      ]
     },
     "execution_count": 141,
     "metadata": {},
     "output_type": "execute_result"
    },
    {
     "data": {
      "application/javascript": [
       "\n",
       "            setTimeout(function() {\n",
       "                var nbb_cell_id = 141;\n",
       "                var nbb_unformatted_code = \"df_statcast_15.tail()\";\n",
       "                var nbb_formatted_code = \"df_statcast_15.tail()\";\n",
       "                var nbb_cells = Jupyter.notebook.get_cells();\n",
       "                for (var i = 0; i < nbb_cells.length; ++i) {\n",
       "                    if (nbb_cells[i].input_prompt_number == nbb_cell_id) {\n",
       "                        if (nbb_cells[i].get_text() == nbb_unformatted_code) {\n",
       "                             nbb_cells[i].set_text(nbb_formatted_code);\n",
       "                        }\n",
       "                        break;\n",
       "                    }\n",
       "                }\n",
       "            }, 500);\n",
       "            "
      ],
      "text/plain": [
       "<IPython.core.display.Javascript object>"
      ]
     },
     "metadata": {},
     "output_type": "display_data"
    }
   ],
   "source": [
    "# df_statcast_15.tail()"
   ]
  },
  {
   "cell_type": "code",
   "execution_count": 142,
   "metadata": {
    "ExecuteTime": {
     "end_time": "2020-02-01T16:40:55.951940Z",
     "start_time": "2020-02-01T16:12:31.747214Z"
    }
   },
   "outputs": [
    {
     "data": {
      "application/javascript": [
       "\n",
       "            setTimeout(function() {\n",
       "                var nbb_cell_id = 142;\n",
       "                var nbb_unformatted_code = \"# Send to database\\ndf_statcast_15.to_sql(\\\"statcast_15\\\", engine)\";\n",
       "                var nbb_formatted_code = \"# Send to database\\ndf_statcast_15.to_sql(\\\"statcast_15\\\", engine)\";\n",
       "                var nbb_cells = Jupyter.notebook.get_cells();\n",
       "                for (var i = 0; i < nbb_cells.length; ++i) {\n",
       "                    if (nbb_cells[i].input_prompt_number == nbb_cell_id) {\n",
       "                        if (nbb_cells[i].get_text() == nbb_unformatted_code) {\n",
       "                             nbb_cells[i].set_text(nbb_formatted_code);\n",
       "                        }\n",
       "                        break;\n",
       "                    }\n",
       "                }\n",
       "            }, 500);\n",
       "            "
      ],
      "text/plain": [
       "<IPython.core.display.Javascript object>"
      ]
     },
     "metadata": {},
     "output_type": "display_data"
    }
   ],
   "source": [
    "# Send to database\n",
    "#df_statcast_15.to_sql(\"statcast_15\", engine)"
   ]
  },
  {
   "cell_type": "code",
   "execution_count": null,
   "metadata": {},
   "outputs": [],
   "source": [
    "\n",
    "# 2016 regular season (do this in other notebook)\n",
    "# df_statcast_16 = statcast('2016-04-03', '2016-10-02')\n",
    "\n"
   ]
  },
  {
   "cell_type": "markdown",
   "metadata": {},
   "source": [
    "Filter out Astros data?"
   ]
  },
  {
   "cell_type": "code",
   "execution_count": 10,
   "metadata": {
    "ExecuteTime": {
     "end_time": "2020-01-30T04:12:05.318684Z",
     "start_time": "2020-01-30T04:12:05.313125Z"
    }
   },
   "outputs": [
    {
     "data": {
      "application/javascript": [
       "\n",
       "            setTimeout(function() {\n",
       "                var nbb_cell_id = 10;\n",
       "                var nbb_unformatted_code = \"## create a database (if it doesn't exist)\\n# if not database_exists(engine.url):\\n#     create_database(engine.url)\\n# print(database_exists(engine.url))\";\n",
       "                var nbb_formatted_code = \"## create a database (if it doesn't exist)\\n# if not database_exists(engine.url):\\n#     create_database(engine.url)\\n# print(database_exists(engine.url))\";\n",
       "                var nbb_cells = Jupyter.notebook.get_cells();\n",
       "                for (var i = 0; i < nbb_cells.length; ++i) {\n",
       "                    if (nbb_cells[i].input_prompt_number == nbb_cell_id) {\n",
       "                        if (nbb_cells[i].get_text() == nbb_unformatted_code) {\n",
       "                             nbb_cells[i].set_text(nbb_formatted_code);\n",
       "                        }\n",
       "                        break;\n",
       "                    }\n",
       "                }\n",
       "            }, 500);\n",
       "            "
      ],
      "text/plain": [
       "<IPython.core.display.Javascript object>"
      ]
     },
     "metadata": {},
     "output_type": "display_data"
    }
   ],
   "source": [
    "## create a database (if it doesn't exist)\n",
    "# if not database_exists(engine.url):\n",
    "#     create_database(engine.url)\n",
    "# print(database_exists(engine.url))"
   ]
  },
  {
   "cell_type": "code",
   "execution_count": 11,
   "metadata": {
    "ExecuteTime": {
     "end_time": "2020-01-30T04:12:07.279979Z",
     "start_time": "2020-01-30T04:12:07.272493Z"
    }
   },
   "outputs": [
    {
     "data": {
      "application/javascript": [
       "\n",
       "            setTimeout(function() {\n",
       "                var nbb_cell_id = 11;\n",
       "                var nbb_unformatted_code = \"# This is done, but note it's out of order\\n\\n# date_list = [\\n#     (\\\"2019-03-20\\\", \\\"2019-09-29\\\"),\\n#     (\\\"2018-03-29\\\", \\\"2018-10-01\\\"),\\n#     (\\\"2017-04-02\\\", \\\"2017-10-01\\\"),\\n# ]\\n\\n# Above gave **2,174,906** pitch-by-pitch results in the database\\n\\n#     (\\\"2016-04-03\\\", \\\"2016-10-02\\\"),   # didn't get\\n#     (\\\"2015-04-05\\\", \\\"2015-10-04\\\"),   # didn't get \\n\\n\\n# for i, date_pair in enumerate(date_list):\\n#     if i < 1:\\n#         df_sc = statcast(date_pair[0], date_pair[1])\\n#         df_sc.to_sql(\\\"statcast\\\", engine, if_exists=\\\"replace\\\")\\n#         print(date_pair, \\\"replace mode\\\")\\n#     else:\\n#         df_sc = statcast(date_pair[0], date_pair[1])\\n#         df_sc.to_sql(\\\"statcast\\\", engine, if_exists=\\\"append\\\")\\n#         print(date_pair, \\\"append mode\\\")\";\n",
       "                var nbb_formatted_code = \"# This is done, but note it's out of order\\n\\n# date_list = [\\n#     (\\\"2019-03-20\\\", \\\"2019-09-29\\\"),\\n#     (\\\"2018-03-29\\\", \\\"2018-10-01\\\"),\\n#     (\\\"2017-04-02\\\", \\\"2017-10-01\\\"),\\n# ]\\n\\n# Above gave **2,174,906** pitch-by-pitch results in the database\\n\\n#     (\\\"2016-04-03\\\", \\\"2016-10-02\\\"),   # didn't get\\n#     (\\\"2015-04-05\\\", \\\"2015-10-04\\\"),   # didn't get\\n\\n\\n# for i, date_pair in enumerate(date_list):\\n#     if i < 1:\\n#         df_sc = statcast(date_pair[0], date_pair[1])\\n#         df_sc.to_sql(\\\"statcast\\\", engine, if_exists=\\\"replace\\\")\\n#         print(date_pair, \\\"replace mode\\\")\\n#     else:\\n#         df_sc = statcast(date_pair[0], date_pair[1])\\n#         df_sc.to_sql(\\\"statcast\\\", engine, if_exists=\\\"append\\\")\\n#         print(date_pair, \\\"append mode\\\")\";\n",
       "                var nbb_cells = Jupyter.notebook.get_cells();\n",
       "                for (var i = 0; i < nbb_cells.length; ++i) {\n",
       "                    if (nbb_cells[i].input_prompt_number == nbb_cell_id) {\n",
       "                        if (nbb_cells[i].get_text() == nbb_unformatted_code) {\n",
       "                             nbb_cells[i].set_text(nbb_formatted_code);\n",
       "                        }\n",
       "                        break;\n",
       "                    }\n",
       "                }\n",
       "            }, 500);\n",
       "            "
      ],
      "text/plain": [
       "<IPython.core.display.Javascript object>"
      ]
     },
     "metadata": {},
     "output_type": "display_data"
    }
   ],
   "source": [
    "# This is done, but note it's out of order\n",
    "\n",
    "# date_list = [\n",
    "#     (\"2019-03-20\", \"2019-09-29\"),\n",
    "#     (\"2018-03-29\", \"2018-10-01\"),\n",
    "#     (\"2017-04-02\", \"2017-10-01\"),\n",
    "# ]\n",
    "\n",
    "# Above gave **2,174,906** pitch-by-pitch results in the database\n",
    "\n",
    "#     (\"2016-04-03\", \"2016-10-02\"),   # didn't get\n",
    "#     (\"2015-04-05\", \"2015-10-04\"),   # didn't get\n",
    "\n",
    "\n",
    "# for i, date_pair in enumerate(date_list):\n",
    "#     if i < 1:\n",
    "#         df_sc = statcast(date_pair[0], date_pair[1])\n",
    "#         df_sc.to_sql(\"statcast\", engine, if_exists=\"replace\")\n",
    "#         print(date_pair, \"replace mode\")\n",
    "#     else:\n",
    "#         df_sc = statcast(date_pair[0], date_pair[1])\n",
    "#         df_sc.to_sql(\"statcast\", engine, if_exists=\"append\")\n",
    "#         print(date_pair, \"append mode\")"
   ]
  },
  {
   "cell_type": "code",
   "execution_count": 10,
   "metadata": {
    "ExecuteTime": {
     "end_time": "2020-02-03T04:57:39.311940Z",
     "start_time": "2020-02-03T04:57:39.290289Z"
    }
   },
   "outputs": [
    {
     "data": {
      "application/javascript": [
       "\n",
       "            setTimeout(function() {\n",
       "                var nbb_cell_id = 10;\n",
       "                var nbb_unformatted_code = \"# Working with PostgreSQL in Python\\n# Connect to make queries using psycopg2\\ncon = None\\ncon = psycopg2.connect(database=dbname, user=username)\";\n",
       "                var nbb_formatted_code = \"# Working with PostgreSQL in Python\\n# Connect to make queries using psycopg2\\ncon = None\\ncon = psycopg2.connect(database=dbname, user=username)\";\n",
       "                var nbb_cells = Jupyter.notebook.get_cells();\n",
       "                for (var i = 0; i < nbb_cells.length; ++i) {\n",
       "                    if (nbb_cells[i].input_prompt_number == nbb_cell_id) {\n",
       "                        if (nbb_cells[i].get_text() == nbb_unformatted_code) {\n",
       "                             nbb_cells[i].set_text(nbb_formatted_code);\n",
       "                        }\n",
       "                        break;\n",
       "                    }\n",
       "                }\n",
       "            }, 500);\n",
       "            "
      ],
      "text/plain": [
       "<IPython.core.display.Javascript object>"
      ]
     },
     "metadata": {},
     "output_type": "display_data"
    }
   ],
   "source": [
    "# Working with PostgreSQL in Python\n",
    "# Connect to make queries using psycopg2\n",
    "con = None\n",
    "con = psycopg2.connect(database=dbname, user=username)"
   ]
  },
  {
   "cell_type": "markdown",
   "metadata": {},
   "source": [
    "See other notebook for more info\n",
    "\n"
   ]
  },
  {
   "cell_type": "code",
   "execution_count": 11,
   "metadata": {
    "ExecuteTime": {
     "end_time": "2020-02-03T04:57:41.722105Z",
     "start_time": "2020-02-03T04:57:41.574801Z"
    }
   },
   "outputs": [
    {
     "data": {
      "application/javascript": [
       "\n",
       "            setTimeout(function() {\n",
       "                var nbb_cell_id = 11;\n",
       "                var nbb_unformatted_code = \"# Get player id\\nsql_query = \\\"\\\"\\\"\\nSELECT * FROM player_id;\\n\\\"\\\"\\\"\\n\\ndf_player_id = pd.read_sql_query(sql_query, con)\";\n",
       "                var nbb_formatted_code = \"# Get player id\\nsql_query = \\\"\\\"\\\"\\nSELECT * FROM player_id;\\n\\\"\\\"\\\"\\n\\ndf_player_id = pd.read_sql_query(sql_query, con)\";\n",
       "                var nbb_cells = Jupyter.notebook.get_cells();\n",
       "                for (var i = 0; i < nbb_cells.length; ++i) {\n",
       "                    if (nbb_cells[i].input_prompt_number == nbb_cell_id) {\n",
       "                        if (nbb_cells[i].get_text() == nbb_unformatted_code) {\n",
       "                             nbb_cells[i].set_text(nbb_formatted_code);\n",
       "                        }\n",
       "                        break;\n",
       "                    }\n",
       "                }\n",
       "            }, 500);\n",
       "            "
      ],
      "text/plain": [
       "<IPython.core.display.Javascript object>"
      ]
     },
     "metadata": {},
     "output_type": "display_data"
    }
   ],
   "source": [
    "# Get player id\n",
    "sql_query = \"\"\"\n",
    "SELECT * FROM player_id;\n",
    "\"\"\"\n",
    "\n",
    "df_player_id = pd.read_sql_query(sql_query, con)"
   ]
  },
  {
   "cell_type": "code",
   "execution_count": 12,
   "metadata": {
    "ExecuteTime": {
     "end_time": "2020-02-03T04:57:53.871941Z",
     "start_time": "2020-02-03T04:57:53.350629Z"
    }
   },
   "outputs": [
    {
     "data": {
      "application/javascript": [
       "\n",
       "            setTimeout(function() {\n",
       "                var nbb_cell_id = 12;\n",
       "                var nbb_unformatted_code = \"# Batting stats\\n\\nsql_query = \\\"\\\"\\\"\\nSELECT * FROM batting_stats18_wpid;\\n\\\"\\\"\\\"\\n\\ndf_batting_stats_wpid = pd.read_sql_query(sql_query, con)\";\n",
       "                var nbb_formatted_code = \"# Batting stats\\n\\nsql_query = \\\"\\\"\\\"\\nSELECT * FROM batting_stats18_wpid;\\n\\\"\\\"\\\"\\n\\ndf_batting_stats_wpid = pd.read_sql_query(sql_query, con)\";\n",
       "                var nbb_cells = Jupyter.notebook.get_cells();\n",
       "                for (var i = 0; i < nbb_cells.length; ++i) {\n",
       "                    if (nbb_cells[i].input_prompt_number == nbb_cell_id) {\n",
       "                        if (nbb_cells[i].get_text() == nbb_unformatted_code) {\n",
       "                             nbb_cells[i].set_text(nbb_formatted_code);\n",
       "                        }\n",
       "                        break;\n",
       "                    }\n",
       "                }\n",
       "            }, 500);\n",
       "            "
      ],
      "text/plain": [
       "<IPython.core.display.Javascript object>"
      ]
     },
     "metadata": {},
     "output_type": "display_data"
    }
   ],
   "source": [
    "# Batting stats\n",
    "\n",
    "sql_query = \"\"\"\n",
    "SELECT * FROM batting_stats18_wpid;\n",
    "\"\"\"\n",
    "\n",
    "df_batting_stats_wpid = pd.read_sql_query(sql_query, con)"
   ]
  },
  {
   "cell_type": "code",
   "execution_count": 13,
   "metadata": {
    "ExecuteTime": {
     "end_time": "2020-02-03T04:57:54.377889Z",
     "start_time": "2020-02-03T04:57:54.368747Z"
    }
   },
   "outputs": [
    {
     "data": {
      "text/plain": [
       "(955, 300)"
      ]
     },
     "execution_count": 13,
     "metadata": {},
     "output_type": "execute_result"
    },
    {
     "data": {
      "application/javascript": [
       "\n",
       "            setTimeout(function() {\n",
       "                var nbb_cell_id = 13;\n",
       "                var nbb_unformatted_code = \"df_batting_stats_wpid.shape\";\n",
       "                var nbb_formatted_code = \"df_batting_stats_wpid.shape\";\n",
       "                var nbb_cells = Jupyter.notebook.get_cells();\n",
       "                for (var i = 0; i < nbb_cells.length; ++i) {\n",
       "                    if (nbb_cells[i].input_prompt_number == nbb_cell_id) {\n",
       "                        if (nbb_cells[i].get_text() == nbb_unformatted_code) {\n",
       "                             nbb_cells[i].set_text(nbb_formatted_code);\n",
       "                        }\n",
       "                        break;\n",
       "                    }\n",
       "                }\n",
       "            }, 500);\n",
       "            "
      ],
      "text/plain": [
       "<IPython.core.display.Javascript object>"
      ]
     },
     "metadata": {},
     "output_type": "display_data"
    }
   ],
   "source": [
    "df_batting_stats_wpid.shape"
   ]
  },
  {
   "cell_type": "code",
   "execution_count": 14,
   "metadata": {
    "ExecuteTime": {
     "end_time": "2020-02-03T04:57:55.360753Z",
     "start_time": "2020-02-03T04:57:55.322927Z"
    }
   },
   "outputs": [
    {
     "data": {
      "text/html": [
       "<div>\n",
       "<style scoped>\n",
       "    .dataframe tbody tr th:only-of-type {\n",
       "        vertical-align: middle;\n",
       "    }\n",
       "\n",
       "    .dataframe tbody tr th {\n",
       "        vertical-align: top;\n",
       "    }\n",
       "\n",
       "    .dataframe thead th {\n",
       "        text-align: right;\n",
       "    }\n",
       "</style>\n",
       "<table border=\"1\" class=\"dataframe\">\n",
       "  <thead>\n",
       "    <tr style=\"text-align: right;\">\n",
       "      <th></th>\n",
       "      <th>index</th>\n",
       "      <th>index_x</th>\n",
       "      <th>Season</th>\n",
       "      <th>Name</th>\n",
       "      <th>Team</th>\n",
       "      <th>Age</th>\n",
       "      <th>G</th>\n",
       "      <th>AB</th>\n",
       "      <th>PA</th>\n",
       "      <th>H</th>\n",
       "      <th>...</th>\n",
       "      <th>first_name</th>\n",
       "      <th>index_y</th>\n",
       "      <th>name_last</th>\n",
       "      <th>name_first</th>\n",
       "      <th>key_mlbam</th>\n",
       "      <th>key_retro</th>\n",
       "      <th>key_bbref</th>\n",
       "      <th>key_fangraphs</th>\n",
       "      <th>mlb_played_first</th>\n",
       "      <th>mlb_played_last</th>\n",
       "    </tr>\n",
       "  </thead>\n",
       "  <tbody>\n",
       "    <tr>\n",
       "      <th>0</th>\n",
       "      <td>0</td>\n",
       "      <td>63</td>\n",
       "      <td>2018.0</td>\n",
       "      <td>Mookie Betts</td>\n",
       "      <td>Red Sox</td>\n",
       "      <td>25.0</td>\n",
       "      <td>136.0</td>\n",
       "      <td>520.0</td>\n",
       "      <td>614.0</td>\n",
       "      <td>180.0</td>\n",
       "      <td>...</td>\n",
       "      <td>mookie</td>\n",
       "      <td>166</td>\n",
       "      <td>betts</td>\n",
       "      <td>mookie</td>\n",
       "      <td>605141</td>\n",
       "      <td>bettm001</td>\n",
       "      <td>bettsmo01</td>\n",
       "      <td>13611</td>\n",
       "      <td>2014.0</td>\n",
       "      <td>2019.0</td>\n",
       "    </tr>\n",
       "    <tr>\n",
       "      <th>1</th>\n",
       "      <td>1</td>\n",
       "      <td>67</td>\n",
       "      <td>2018.0</td>\n",
       "      <td>Mike Trout</td>\n",
       "      <td>Angels</td>\n",
       "      <td>26.0</td>\n",
       "      <td>140.0</td>\n",
       "      <td>471.0</td>\n",
       "      <td>608.0</td>\n",
       "      <td>147.0</td>\n",
       "      <td>...</td>\n",
       "      <td>mike</td>\n",
       "      <td>1789</td>\n",
       "      <td>trout</td>\n",
       "      <td>mike</td>\n",
       "      <td>545361</td>\n",
       "      <td>troum001</td>\n",
       "      <td>troutmi01</td>\n",
       "      <td>10155</td>\n",
       "      <td>2011.0</td>\n",
       "      <td>2019.0</td>\n",
       "    </tr>\n",
       "    <tr>\n",
       "      <th>2</th>\n",
       "      <td>2</td>\n",
       "      <td>153</td>\n",
       "      <td>2018.0</td>\n",
       "      <td>Jose Ramirez</td>\n",
       "      <td>Indians</td>\n",
       "      <td>25.0</td>\n",
       "      <td>157.0</td>\n",
       "      <td>578.0</td>\n",
       "      <td>698.0</td>\n",
       "      <td>156.0</td>\n",
       "      <td>...</td>\n",
       "      <td>jose</td>\n",
       "      <td>1417</td>\n",
       "      <td>ramirez</td>\n",
       "      <td>jose</td>\n",
       "      <td>542432</td>\n",
       "      <td>ramij004</td>\n",
       "      <td>ramirjo02</td>\n",
       "      <td>10171</td>\n",
       "      <td>2014.0</td>\n",
       "      <td>2018.0</td>\n",
       "    </tr>\n",
       "    <tr>\n",
       "      <th>3</th>\n",
       "      <td>68</td>\n",
       "      <td>38</td>\n",
       "      <td>2018.0</td>\n",
       "      <td>Ryder Jones</td>\n",
       "      <td>Giants</td>\n",
       "      <td>24.0</td>\n",
       "      <td>5.0</td>\n",
       "      <td>8.0</td>\n",
       "      <td>8.0</td>\n",
       "      <td>3.0</td>\n",
       "      <td>...</td>\n",
       "      <td>ryder</td>\n",
       "      <td>903</td>\n",
       "      <td>jones</td>\n",
       "      <td>ryder</td>\n",
       "      <td>624507</td>\n",
       "      <td>joner005</td>\n",
       "      <td>jonesry01</td>\n",
       "      <td>15982</td>\n",
       "      <td>2017.0</td>\n",
       "      <td>2018.0</td>\n",
       "    </tr>\n",
       "    <tr>\n",
       "      <th>4</th>\n",
       "      <td>3</td>\n",
       "      <td>153</td>\n",
       "      <td>2018.0</td>\n",
       "      <td>Jose Ramirez</td>\n",
       "      <td>Indians</td>\n",
       "      <td>25.0</td>\n",
       "      <td>157.0</td>\n",
       "      <td>578.0</td>\n",
       "      <td>698.0</td>\n",
       "      <td>156.0</td>\n",
       "      <td>...</td>\n",
       "      <td>jose</td>\n",
       "      <td>1418</td>\n",
       "      <td>ramirez</td>\n",
       "      <td>jose</td>\n",
       "      <td>608070</td>\n",
       "      <td>ramij003</td>\n",
       "      <td>ramirjo01</td>\n",
       "      <td>13510</td>\n",
       "      <td>2013.0</td>\n",
       "      <td>2019.0</td>\n",
       "    </tr>\n",
       "  </tbody>\n",
       "</table>\n",
       "<p>5 rows × 300 columns</p>\n",
       "</div>"
      ],
      "text/plain": [
       "   index  index_x  Season          Name     Team   Age      G     AB     PA  \\\n",
       "0      0       63  2018.0  Mookie Betts  Red Sox  25.0  136.0  520.0  614.0   \n",
       "1      1       67  2018.0    Mike Trout   Angels  26.0  140.0  471.0  608.0   \n",
       "2      2      153  2018.0  Jose Ramirez  Indians  25.0  157.0  578.0  698.0   \n",
       "3     68       38  2018.0   Ryder Jones   Giants  24.0    5.0    8.0    8.0   \n",
       "4      3      153  2018.0  Jose Ramirez  Indians  25.0  157.0  578.0  698.0   \n",
       "\n",
       "       H  ...  first_name  index_y  name_last  name_first  key_mlbam  \\\n",
       "0  180.0  ...      mookie      166      betts      mookie     605141   \n",
       "1  147.0  ...        mike     1789      trout        mike     545361   \n",
       "2  156.0  ...        jose     1417    ramirez        jose     542432   \n",
       "3    3.0  ...       ryder      903      jones       ryder     624507   \n",
       "4  156.0  ...        jose     1418    ramirez        jose     608070   \n",
       "\n",
       "   key_retro  key_bbref  key_fangraphs  mlb_played_first  mlb_played_last  \n",
       "0   bettm001  bettsmo01          13611            2014.0           2019.0  \n",
       "1   troum001  troutmi01          10155            2011.0           2019.0  \n",
       "2   ramij004  ramirjo02          10171            2014.0           2018.0  \n",
       "3   joner005  jonesry01          15982            2017.0           2018.0  \n",
       "4   ramij003  ramirjo01          13510            2013.0           2019.0  \n",
       "\n",
       "[5 rows x 300 columns]"
      ]
     },
     "execution_count": 14,
     "metadata": {},
     "output_type": "execute_result"
    },
    {
     "data": {
      "application/javascript": [
       "\n",
       "            setTimeout(function() {\n",
       "                var nbb_cell_id = 14;\n",
       "                var nbb_unformatted_code = \"df_batting_stats_wpid.head()\";\n",
       "                var nbb_formatted_code = \"df_batting_stats_wpid.head()\";\n",
       "                var nbb_cells = Jupyter.notebook.get_cells();\n",
       "                for (var i = 0; i < nbb_cells.length; ++i) {\n",
       "                    if (nbb_cells[i].input_prompt_number == nbb_cell_id) {\n",
       "                        if (nbb_cells[i].get_text() == nbb_unformatted_code) {\n",
       "                             nbb_cells[i].set_text(nbb_formatted_code);\n",
       "                        }\n",
       "                        break;\n",
       "                    }\n",
       "                }\n",
       "            }, 500);\n",
       "            "
      ],
      "text/plain": [
       "<IPython.core.display.Javascript object>"
      ]
     },
     "metadata": {},
     "output_type": "display_data"
    }
   ],
   "source": [
    "df_batting_stats_wpid.head()"
   ]
  },
  {
   "cell_type": "code",
   "execution_count": 15,
   "metadata": {
    "ExecuteTime": {
     "end_time": "2020-02-03T04:58:03.686734Z",
     "start_time": "2020-02-03T04:58:03.015730Z"
    }
   },
   "outputs": [
    {
     "data": {
      "application/javascript": [
       "\n",
       "            setTimeout(function() {\n",
       "                var nbb_cell_id = 15;\n",
       "                var nbb_unformatted_code = \"# Pitching stats\\n\\nsql_query = \\\"\\\"\\\"\\nSELECT * FROM pitching_stats_wpid;\\n\\\"\\\"\\\"\\n\\ndf_pitching_stats_wpid = pd.read_sql_query(sql_query, con)\\n# Limit to 2018, like with baseball stats\\ndf_pitching_stats_wpid = df_pitching_stats_wpid[\\n    df_pitching_stats_wpid[\\\"Season\\\"] == 2018\\n].copy()\";\n",
       "                var nbb_formatted_code = \"# Pitching stats\\n\\nsql_query = \\\"\\\"\\\"\\nSELECT * FROM pitching_stats_wpid;\\n\\\"\\\"\\\"\\n\\ndf_pitching_stats_wpid = pd.read_sql_query(sql_query, con)\\n# Limit to 2018, like with baseball stats\\ndf_pitching_stats_wpid = df_pitching_stats_wpid[\\n    df_pitching_stats_wpid[\\\"Season\\\"] == 2018\\n].copy()\";\n",
       "                var nbb_cells = Jupyter.notebook.get_cells();\n",
       "                for (var i = 0; i < nbb_cells.length; ++i) {\n",
       "                    if (nbb_cells[i].input_prompt_number == nbb_cell_id) {\n",
       "                        if (nbb_cells[i].get_text() == nbb_unformatted_code) {\n",
       "                             nbb_cells[i].set_text(nbb_formatted_code);\n",
       "                        }\n",
       "                        break;\n",
       "                    }\n",
       "                }\n",
       "            }, 500);\n",
       "            "
      ],
      "text/plain": [
       "<IPython.core.display.Javascript object>"
      ]
     },
     "metadata": {},
     "output_type": "display_data"
    }
   ],
   "source": [
    "# Pitching stats\n",
    "\n",
    "sql_query = \"\"\"\n",
    "SELECT * FROM pitching_stats_wpid;\n",
    "\"\"\"\n",
    "\n",
    "df_pitching_stats_wpid = pd.read_sql_query(sql_query, con)\n",
    "# Limit to 2018, like with baseball stats\n",
    "df_pitching_stats_wpid = df_pitching_stats_wpid[\n",
    "    df_pitching_stats_wpid[\"Season\"] == 2018\n",
    "].copy()"
   ]
  },
  {
   "cell_type": "code",
   "execution_count": 16,
   "metadata": {
    "ExecuteTime": {
     "end_time": "2020-02-03T04:58:04.492658Z",
     "start_time": "2020-02-03T04:58:04.481691Z"
    }
   },
   "outputs": [
    {
     "data": {
      "text/plain": [
       "(789, 310)"
      ]
     },
     "execution_count": 16,
     "metadata": {},
     "output_type": "execute_result"
    },
    {
     "data": {
      "application/javascript": [
       "\n",
       "            setTimeout(function() {\n",
       "                var nbb_cell_id = 16;\n",
       "                var nbb_unformatted_code = \"df_pitching_stats_wpid.shape\";\n",
       "                var nbb_formatted_code = \"df_pitching_stats_wpid.shape\";\n",
       "                var nbb_cells = Jupyter.notebook.get_cells();\n",
       "                for (var i = 0; i < nbb_cells.length; ++i) {\n",
       "                    if (nbb_cells[i].input_prompt_number == nbb_cell_id) {\n",
       "                        if (nbb_cells[i].get_text() == nbb_unformatted_code) {\n",
       "                             nbb_cells[i].set_text(nbb_formatted_code);\n",
       "                        }\n",
       "                        break;\n",
       "                    }\n",
       "                }\n",
       "            }, 500);\n",
       "            "
      ],
      "text/plain": [
       "<IPython.core.display.Javascript object>"
      ]
     },
     "metadata": {},
     "output_type": "display_data"
    }
   ],
   "source": [
    "df_pitching_stats_wpid.shape"
   ]
  },
  {
   "cell_type": "code",
   "execution_count": 17,
   "metadata": {
    "ExecuteTime": {
     "end_time": "2020-02-03T04:58:05.228151Z",
     "start_time": "2020-02-03T04:58:05.192351Z"
    }
   },
   "outputs": [
    {
     "data": {
      "text/html": [
       "<div>\n",
       "<style scoped>\n",
       "    .dataframe tbody tr th:only-of-type {\n",
       "        vertical-align: middle;\n",
       "    }\n",
       "\n",
       "    .dataframe tbody tr th {\n",
       "        vertical-align: top;\n",
       "    }\n",
       "\n",
       "    .dataframe thead th {\n",
       "        text-align: right;\n",
       "    }\n",
       "</style>\n",
       "<table border=\"1\" class=\"dataframe\">\n",
       "  <thead>\n",
       "    <tr style=\"text-align: right;\">\n",
       "      <th></th>\n",
       "      <th>index</th>\n",
       "      <th>Season</th>\n",
       "      <th>Name</th>\n",
       "      <th>Team</th>\n",
       "      <th>Age</th>\n",
       "      <th>W</th>\n",
       "      <th>L</th>\n",
       "      <th>ERA</th>\n",
       "      <th>WAR</th>\n",
       "      <th>G</th>\n",
       "      <th>...</th>\n",
       "      <th>first_name</th>\n",
       "      <th>last_name</th>\n",
       "      <th>name_last</th>\n",
       "      <th>name_first</th>\n",
       "      <th>key_mlbam</th>\n",
       "      <th>key_retro</th>\n",
       "      <th>key_bbref</th>\n",
       "      <th>key_fangraphs</th>\n",
       "      <th>mlb_played_first</th>\n",
       "      <th>mlb_played_last</th>\n",
       "    </tr>\n",
       "  </thead>\n",
       "  <tbody>\n",
       "    <tr>\n",
       "      <th>0</th>\n",
       "      <td>0</td>\n",
       "      <td>2018.0</td>\n",
       "      <td>Jacob deGrom</td>\n",
       "      <td>Mets</td>\n",
       "      <td>30.0</td>\n",
       "      <td>10.0</td>\n",
       "      <td>9.0</td>\n",
       "      <td>1.70</td>\n",
       "      <td>9.0</td>\n",
       "      <td>32.0</td>\n",
       "      <td>...</td>\n",
       "      <td>jacob</td>\n",
       "      <td>degrom</td>\n",
       "      <td>degrom</td>\n",
       "      <td>jacob</td>\n",
       "      <td>594798.0</td>\n",
       "      <td>degrj001</td>\n",
       "      <td>degroja01</td>\n",
       "      <td>10954.0</td>\n",
       "      <td>2014.0</td>\n",
       "      <td>2019.0</td>\n",
       "    </tr>\n",
       "    <tr>\n",
       "      <th>2</th>\n",
       "      <td>2</td>\n",
       "      <td>2018.0</td>\n",
       "      <td>Max Scherzer</td>\n",
       "      <td>Nationals</td>\n",
       "      <td>33.0</td>\n",
       "      <td>18.0</td>\n",
       "      <td>7.0</td>\n",
       "      <td>2.53</td>\n",
       "      <td>7.5</td>\n",
       "      <td>33.0</td>\n",
       "      <td>...</td>\n",
       "      <td>max</td>\n",
       "      <td>scherzer</td>\n",
       "      <td>scherzer</td>\n",
       "      <td>max</td>\n",
       "      <td>453286.0</td>\n",
       "      <td>schem001</td>\n",
       "      <td>scherma01</td>\n",
       "      <td>3137.0</td>\n",
       "      <td>2008.0</td>\n",
       "      <td>2019.0</td>\n",
       "    </tr>\n",
       "    <tr>\n",
       "      <th>4</th>\n",
       "      <td>1587</td>\n",
       "      <td>2018.0</td>\n",
       "      <td>Scott Kingery</td>\n",
       "      <td>Phillies</td>\n",
       "      <td>24.0</td>\n",
       "      <td>0.0</td>\n",
       "      <td>0.0</td>\n",
       "      <td>13.50</td>\n",
       "      <td>0.0</td>\n",
       "      <td>1.0</td>\n",
       "      <td>...</td>\n",
       "      <td>scott</td>\n",
       "      <td>kingery</td>\n",
       "      <td>kingery</td>\n",
       "      <td>scott</td>\n",
       "      <td>664068.0</td>\n",
       "      <td>kings001</td>\n",
       "      <td>kingesc01</td>\n",
       "      <td>17975.0</td>\n",
       "      <td>2018.0</td>\n",
       "      <td>2019.0</td>\n",
       "    </tr>\n",
       "    <tr>\n",
       "      <th>8</th>\n",
       "      <td>7</td>\n",
       "      <td>2018.0</td>\n",
       "      <td>Justin Verlander</td>\n",
       "      <td>Astros</td>\n",
       "      <td>35.0</td>\n",
       "      <td>16.0</td>\n",
       "      <td>9.0</td>\n",
       "      <td>2.52</td>\n",
       "      <td>6.6</td>\n",
       "      <td>34.0</td>\n",
       "      <td>...</td>\n",
       "      <td>justin</td>\n",
       "      <td>verlander</td>\n",
       "      <td>verlander</td>\n",
       "      <td>justin</td>\n",
       "      <td>434378.0</td>\n",
       "      <td>verlj001</td>\n",
       "      <td>verlaju01</td>\n",
       "      <td>8700.0</td>\n",
       "      <td>2005.0</td>\n",
       "      <td>2019.0</td>\n",
       "    </tr>\n",
       "    <tr>\n",
       "      <th>12</th>\n",
       "      <td>11</td>\n",
       "      <td>2018.0</td>\n",
       "      <td>Chris Sale</td>\n",
       "      <td>Red Sox</td>\n",
       "      <td>29.0</td>\n",
       "      <td>12.0</td>\n",
       "      <td>4.0</td>\n",
       "      <td>2.11</td>\n",
       "      <td>6.2</td>\n",
       "      <td>27.0</td>\n",
       "      <td>...</td>\n",
       "      <td>chris</td>\n",
       "      <td>sale</td>\n",
       "      <td>sale</td>\n",
       "      <td>chris</td>\n",
       "      <td>519242.0</td>\n",
       "      <td>salec001</td>\n",
       "      <td>salech01</td>\n",
       "      <td>10603.0</td>\n",
       "      <td>2010.0</td>\n",
       "      <td>2019.0</td>\n",
       "    </tr>\n",
       "  </tbody>\n",
       "</table>\n",
       "<p>5 rows × 310 columns</p>\n",
       "</div>"
      ],
      "text/plain": [
       "    index  Season              Name       Team   Age     W    L    ERA  WAR  \\\n",
       "0       0  2018.0      Jacob deGrom       Mets  30.0  10.0  9.0   1.70  9.0   \n",
       "2       2  2018.0      Max Scherzer  Nationals  33.0  18.0  7.0   2.53  7.5   \n",
       "4    1587  2018.0     Scott Kingery   Phillies  24.0   0.0  0.0  13.50  0.0   \n",
       "8       7  2018.0  Justin Verlander     Astros  35.0  16.0  9.0   2.52  6.6   \n",
       "12     11  2018.0        Chris Sale    Red Sox  29.0  12.0  4.0   2.11  6.2   \n",
       "\n",
       "       G  ...  first_name  last_name  name_last  name_first  key_mlbam  \\\n",
       "0   32.0  ...       jacob     degrom     degrom       jacob   594798.0   \n",
       "2   33.0  ...         max   scherzer   scherzer         max   453286.0   \n",
       "4    1.0  ...       scott    kingery    kingery       scott   664068.0   \n",
       "8   34.0  ...      justin  verlander  verlander      justin   434378.0   \n",
       "12  27.0  ...       chris       sale       sale       chris   519242.0   \n",
       "\n",
       "    key_retro  key_bbref  key_fangraphs  mlb_played_first  mlb_played_last  \n",
       "0    degrj001  degroja01        10954.0            2014.0           2019.0  \n",
       "2    schem001  scherma01         3137.0            2008.0           2019.0  \n",
       "4    kings001  kingesc01        17975.0            2018.0           2019.0  \n",
       "8    verlj001  verlaju01         8700.0            2005.0           2019.0  \n",
       "12   salec001   salech01        10603.0            2010.0           2019.0  \n",
       "\n",
       "[5 rows x 310 columns]"
      ]
     },
     "execution_count": 17,
     "metadata": {},
     "output_type": "execute_result"
    },
    {
     "data": {
      "application/javascript": [
       "\n",
       "            setTimeout(function() {\n",
       "                var nbb_cell_id = 17;\n",
       "                var nbb_unformatted_code = \"df_pitching_stats_wpid.head()\";\n",
       "                var nbb_formatted_code = \"df_pitching_stats_wpid.head()\";\n",
       "                var nbb_cells = Jupyter.notebook.get_cells();\n",
       "                for (var i = 0; i < nbb_cells.length; ++i) {\n",
       "                    if (nbb_cells[i].input_prompt_number == nbb_cell_id) {\n",
       "                        if (nbb_cells[i].get_text() == nbb_unformatted_code) {\n",
       "                             nbb_cells[i].set_text(nbb_formatted_code);\n",
       "                        }\n",
       "                        break;\n",
       "                    }\n",
       "                }\n",
       "            }, 500);\n",
       "            "
      ],
      "text/plain": [
       "<IPython.core.display.Javascript object>"
      ]
     },
     "metadata": {},
     "output_type": "display_data"
    }
   ],
   "source": [
    "df_pitching_stats_wpid.head()"
   ]
  },
  {
   "cell_type": "markdown",
   "metadata": {},
   "source": [
    "# Notes"
   ]
  },
  {
   "cell_type": "markdown",
   "metadata": {},
   "source": [
    "## Contingencies\n",
    "\n",
    "1. What if player has day off? or no game is scheduled?\n",
    "2. What if player or pitcher doesn't have minimum nback at-bats?\n",
    "3. What if player doesn't have minimum nback at-bats against same or opposite handedness?"
   ]
  },
  {
   "cell_type": "markdown",
   "metadata": {},
   "source": [
    "**Quora answer on number of plate appearances**\n",
    "https://www.quora.com/How-many-at-bats-does-the-average-MLB-player-go-through-per-year\n",
    "\n",
    "One direction to go with is how many PA wpild a player accumulate if theu were to play every day, and not rest. That would be around 725. Though that total is not really an average as few players exceed such a total each year.\n",
    "\n",
    "A second number would be how many plate appearances bases on normal rest during a season if a player never was injured, about 145-150 games for position players other then the catcher and 110 to 115 for catchers. Those totals would be around 650 and 450 respectively.\n",
    "\n",
    "Yet another way to answer this would be the number of PA by all position players on a roster that were supposed to be starters, but may receive less playing time due to injury or a team developing, trading for or discovering a better player. That would probably be closer to 400.\n",
    "\n",
    "You could also thing about all position players on a team including bench players, if we include them our total now is closer to 200-250.\n",
    "\n",
    "Yet another way to look at this is to include all players on the roster including pitcher who may notbat intentionally. Include them and tour total is closer to 100-120."
   ]
  },
  {
   "cell_type": "markdown",
   "metadata": {},
   "source": [
    "## Other ideas"
   ]
  },
  {
   "cell_type": "markdown",
   "metadata": {},
   "source": [
    "\n",
    "- Look at probabilities, instead of looking for 1 (done - not strong)\n",
    "- Aggregate per game (potentially something there - not sure)\n",
    "- Look at Ty France\n",
    "- Add in pitcher info \n",
    "- See what pitches they're hitting, then see how that matches with pitchers \n",
    "- Remember that ultimately, we want to see that we're picking the right player - someone who has a higher probability overall will be better choice\n",
    "\n",
    "\n",
    "**Motivation: Learning analytics requries some skills I can develop here**"
   ]
  },
  {
   "cell_type": "markdown",
   "metadata": {},
   "source": [
    "## Questions to ask\n",
    "\n",
    "- Am I inputting handedness correctly? How to input values if they're transformed in the model? (L -1.41421356, R 0.70710678)\n",
    "- Add pitcher specific ID as a factor?\n"
   ]
  },
  {
   "cell_type": "markdown",
   "metadata": {},
   "source": [
    "## Things to fix\n",
    "\n",
    "- Standardize train-test before split (done)"
   ]
  },
  {
   "cell_type": "code",
   "execution_count": null,
   "metadata": {},
   "outputs": [],
   "source": []
  },
  {
   "cell_type": "markdown",
   "metadata": {},
   "source": [
    "# Data acquisition"
   ]
  },
  {
   "cell_type": "markdown",
   "metadata": {},
   "source": [
    "## Get statcast data"
   ]
  },
  {
   "cell_type": "code",
   "execution_count": 18,
   "metadata": {
    "ExecuteTime": {
     "end_time": "2020-02-03T04:58:12.809993Z",
     "start_time": "2020-02-03T04:58:12.798421Z"
    },
    "code_folding": [
     0
    ]
   },
   "outputs": [
    {
     "data": {
      "application/javascript": [
       "\n",
       "            setTimeout(function() {\n",
       "                var nbb_cell_id = 18;\n",
       "                var nbb_unformatted_code = \"def get_sc_event_data():\\n    sql_query = \\\"\\\"\\\"\\n    (SELECT statcast.game_date, statcast.batter,\\n    statcast.pitcher, statcast.events,\\n    statcast.stand, statcast.p_throws,\\n    statcast.inning_topbot\\n    FROM statcast\\n    WHERE statcast.events IS NOT NULL);\\n    \\\"\\\"\\\"\\n\\n    print(sql_query)\\n\\n    df_sc_events = pd.read_sql_query(sql_query, con)\\n\\n    return df_sc_events\";\n",
       "                var nbb_formatted_code = \"def get_sc_event_data():\\n    sql_query = \\\"\\\"\\\"\\n    (SELECT statcast.game_date, statcast.batter,\\n    statcast.pitcher, statcast.events,\\n    statcast.stand, statcast.p_throws,\\n    statcast.inning_topbot\\n    FROM statcast\\n    WHERE statcast.events IS NOT NULL);\\n    \\\"\\\"\\\"\\n\\n    print(sql_query)\\n\\n    df_sc_events = pd.read_sql_query(sql_query, con)\\n\\n    return df_sc_events\";\n",
       "                var nbb_cells = Jupyter.notebook.get_cells();\n",
       "                for (var i = 0; i < nbb_cells.length; ++i) {\n",
       "                    if (nbb_cells[i].input_prompt_number == nbb_cell_id) {\n",
       "                        if (nbb_cells[i].get_text() == nbb_unformatted_code) {\n",
       "                             nbb_cells[i].set_text(nbb_formatted_code);\n",
       "                        }\n",
       "                        break;\n",
       "                    }\n",
       "                }\n",
       "            }, 500);\n",
       "            "
      ],
      "text/plain": [
       "<IPython.core.display.Javascript object>"
      ]
     },
     "metadata": {},
     "output_type": "display_data"
    }
   ],
   "source": [
    "def get_sc_event_data():\n",
    "    sql_query = \"\"\"\n",
    "    (SELECT statcast.game_date, statcast.batter,\n",
    "    statcast.pitcher, statcast.events,\n",
    "    statcast.stand, statcast.p_throws,\n",
    "    statcast.inning_topbot\n",
    "    FROM statcast\n",
    "    WHERE statcast.events IS NOT NULL);\n",
    "    \"\"\"\n",
    "\n",
    "    print(sql_query)\n",
    "\n",
    "    df_sc_events = pd.read_sql_query(sql_query, con)\n",
    "\n",
    "    return df_sc_events"
   ]
  },
  {
   "cell_type": "code",
   "execution_count": 19,
   "metadata": {
    "ExecuteTime": {
     "end_time": "2020-02-03T04:58:23.685770Z",
     "start_time": "2020-02-03T04:58:13.908552Z"
    }
   },
   "outputs": [
    {
     "name": "stdout",
     "output_type": "stream",
     "text": [
      "\n",
      "    (SELECT statcast.game_date, statcast.batter,\n",
      "    statcast.pitcher, statcast.events,\n",
      "    statcast.stand, statcast.p_throws,\n",
      "    statcast.inning_topbot\n",
      "    FROM statcast\n",
      "    WHERE statcast.events IS NOT NULL);\n",
      "    \n"
     ]
    },
    {
     "data": {
      "application/javascript": [
       "\n",
       "            setTimeout(function() {\n",
       "                var nbb_cell_id = 19;\n",
       "                var nbb_unformatted_code = \"df_sc_events = get_sc_event_data()\";\n",
       "                var nbb_formatted_code = \"df_sc_events = get_sc_event_data()\";\n",
       "                var nbb_cells = Jupyter.notebook.get_cells();\n",
       "                for (var i = 0; i < nbb_cells.length; ++i) {\n",
       "                    if (nbb_cells[i].input_prompt_number == nbb_cell_id) {\n",
       "                        if (nbb_cells[i].get_text() == nbb_unformatted_code) {\n",
       "                             nbb_cells[i].set_text(nbb_formatted_code);\n",
       "                        }\n",
       "                        break;\n",
       "                    }\n",
       "                }\n",
       "            }, 500);\n",
       "            "
      ],
      "text/plain": [
       "<IPython.core.display.Javascript object>"
      ]
     },
     "metadata": {},
     "output_type": "display_data"
    }
   ],
   "source": [
    "df_sc_events = get_sc_event_data()"
   ]
  },
  {
   "cell_type": "code",
   "execution_count": 20,
   "metadata": {
    "ExecuteTime": {
     "end_time": "2020-02-03T04:58:24.850816Z",
     "start_time": "2020-02-03T04:58:24.817308Z"
    }
   },
   "outputs": [
    {
     "name": "stdout",
     "output_type": "stream",
     "text": [
      "2017-04-02 00:00:00 2019-09-29 00:00:00\n"
     ]
    },
    {
     "data": {
      "application/javascript": [
       "\n",
       "            setTimeout(function() {\n",
       "                var nbb_cell_id = 20;\n",
       "                var nbb_unformatted_code = \"print(df_sc_events[\\\"game_date\\\"].min(), df_sc_events[\\\"game_date\\\"].max())\";\n",
       "                var nbb_formatted_code = \"print(df_sc_events[\\\"game_date\\\"].min(), df_sc_events[\\\"game_date\\\"].max())\";\n",
       "                var nbb_cells = Jupyter.notebook.get_cells();\n",
       "                for (var i = 0; i < nbb_cells.length; ++i) {\n",
       "                    if (nbb_cells[i].input_prompt_number == nbb_cell_id) {\n",
       "                        if (nbb_cells[i].get_text() == nbb_unformatted_code) {\n",
       "                             nbb_cells[i].set_text(nbb_formatted_code);\n",
       "                        }\n",
       "                        break;\n",
       "                    }\n",
       "                }\n",
       "            }, 500);\n",
       "            "
      ],
      "text/plain": [
       "<IPython.core.display.Javascript object>"
      ]
     },
     "metadata": {},
     "output_type": "display_data"
    }
   ],
   "source": [
    "print(df_sc_events[\"game_date\"].min(), df_sc_events[\"game_date\"].max())"
   ]
  },
  {
   "cell_type": "code",
   "execution_count": 21,
   "metadata": {
    "ExecuteTime": {
     "end_time": "2020-02-03T04:58:26.486635Z",
     "start_time": "2020-02-03T04:58:26.465314Z"
    }
   },
   "outputs": [
    {
     "data": {
      "text/html": [
       "<div>\n",
       "<style scoped>\n",
       "    .dataframe tbody tr th:only-of-type {\n",
       "        vertical-align: middle;\n",
       "    }\n",
       "\n",
       "    .dataframe tbody tr th {\n",
       "        vertical-align: top;\n",
       "    }\n",
       "\n",
       "    .dataframe thead th {\n",
       "        text-align: right;\n",
       "    }\n",
       "</style>\n",
       "<table border=\"1\" class=\"dataframe\">\n",
       "  <thead>\n",
       "    <tr style=\"text-align: right;\">\n",
       "      <th></th>\n",
       "      <th>game_date</th>\n",
       "      <th>batter</th>\n",
       "      <th>pitcher</th>\n",
       "      <th>events</th>\n",
       "      <th>stand</th>\n",
       "      <th>p_throws</th>\n",
       "      <th>inning_topbot</th>\n",
       "    </tr>\n",
       "  </thead>\n",
       "  <tbody>\n",
       "    <tr>\n",
       "      <th>0</th>\n",
       "      <td>2017-04-03</td>\n",
       "      <td>425783.0</td>\n",
       "      <td>446372.0</td>\n",
       "      <td>strikeout</td>\n",
       "      <td>L</td>\n",
       "      <td>R</td>\n",
       "      <td>Bot</td>\n",
       "    </tr>\n",
       "    <tr>\n",
       "      <th>1</th>\n",
       "      <td>2017-04-03</td>\n",
       "      <td>488726.0</td>\n",
       "      <td>506433.0</td>\n",
       "      <td>field_out</td>\n",
       "      <td>L</td>\n",
       "      <td>R</td>\n",
       "      <td>Top</td>\n",
       "    </tr>\n",
       "    <tr>\n",
       "      <th>2</th>\n",
       "      <td>2017-04-03</td>\n",
       "      <td>596019.0</td>\n",
       "      <td>506433.0</td>\n",
       "      <td>grounded_into_double_play</td>\n",
       "      <td>L</td>\n",
       "      <td>R</td>\n",
       "      <td>Top</td>\n",
       "    </tr>\n",
       "    <tr>\n",
       "      <th>3</th>\n",
       "      <td>2017-04-03</td>\n",
       "      <td>467793.0</td>\n",
       "      <td>506433.0</td>\n",
       "      <td>walk</td>\n",
       "      <td>L</td>\n",
       "      <td>R</td>\n",
       "      <td>Top</td>\n",
       "    </tr>\n",
       "    <tr>\n",
       "      <th>4</th>\n",
       "      <td>2017-04-03</td>\n",
       "      <td>501659.0</td>\n",
       "      <td>506433.0</td>\n",
       "      <td>walk</td>\n",
       "      <td>L</td>\n",
       "      <td>R</td>\n",
       "      <td>Top</td>\n",
       "    </tr>\n",
       "  </tbody>\n",
       "</table>\n",
       "</div>"
      ],
      "text/plain": [
       "   game_date    batter   pitcher                     events stand p_throws  \\\n",
       "0 2017-04-03  425783.0  446372.0                  strikeout     L        R   \n",
       "1 2017-04-03  488726.0  506433.0                  field_out     L        R   \n",
       "2 2017-04-03  596019.0  506433.0  grounded_into_double_play     L        R   \n",
       "3 2017-04-03  467793.0  506433.0                       walk     L        R   \n",
       "4 2017-04-03  501659.0  506433.0                       walk     L        R   \n",
       "\n",
       "  inning_topbot  \n",
       "0           Bot  \n",
       "1           Top  \n",
       "2           Top  \n",
       "3           Top  \n",
       "4           Top  "
      ]
     },
     "execution_count": 21,
     "metadata": {},
     "output_type": "execute_result"
    },
    {
     "data": {
      "application/javascript": [
       "\n",
       "            setTimeout(function() {\n",
       "                var nbb_cell_id = 21;\n",
       "                var nbb_unformatted_code = \"df_sc_events.head()\";\n",
       "                var nbb_formatted_code = \"df_sc_events.head()\";\n",
       "                var nbb_cells = Jupyter.notebook.get_cells();\n",
       "                for (var i = 0; i < nbb_cells.length; ++i) {\n",
       "                    if (nbb_cells[i].input_prompt_number == nbb_cell_id) {\n",
       "                        if (nbb_cells[i].get_text() == nbb_unformatted_code) {\n",
       "                             nbb_cells[i].set_text(nbb_formatted_code);\n",
       "                        }\n",
       "                        break;\n",
       "                    }\n",
       "                }\n",
       "            }, 500);\n",
       "            "
      ],
      "text/plain": [
       "<IPython.core.display.Javascript object>"
      ]
     },
     "metadata": {},
     "output_type": "display_data"
    }
   ],
   "source": [
    "df_sc_events.head()"
   ]
  },
  {
   "cell_type": "code",
   "execution_count": 22,
   "metadata": {
    "ExecuteTime": {
     "end_time": "2020-02-03T04:58:33.897579Z",
     "start_time": "2020-02-03T04:58:33.886011Z"
    }
   },
   "outputs": [
    {
     "data": {
      "application/javascript": [
       "\n",
       "            setTimeout(function() {\n",
       "                var nbb_cell_id = 22;\n",
       "                var nbb_unformatted_code = \"def get_sc_event_data_15():\\n    sql_query = \\\"\\\"\\\"\\n    (SELECT statcast_15.game_date, statcast_15.batter,\\n    statcast_15.pitcher, statcast_15.events,\\n    statcast_15.stand, statcast_15.p_throws,\\n    statcast_15.inning_topbot\\n    FROM statcast_15\\n    WHERE statcast_15.events IS NOT NULL);\\n    \\\"\\\"\\\"\\n\\n    print(sql_query)\\n\\n    df_sc_events = pd.read_sql_query(sql_query, con)\\n\\n    return df_sc_events\";\n",
       "                var nbb_formatted_code = \"def get_sc_event_data_15():\\n    sql_query = \\\"\\\"\\\"\\n    (SELECT statcast_15.game_date, statcast_15.batter,\\n    statcast_15.pitcher, statcast_15.events,\\n    statcast_15.stand, statcast_15.p_throws,\\n    statcast_15.inning_topbot\\n    FROM statcast_15\\n    WHERE statcast_15.events IS NOT NULL);\\n    \\\"\\\"\\\"\\n\\n    print(sql_query)\\n\\n    df_sc_events = pd.read_sql_query(sql_query, con)\\n\\n    return df_sc_events\";\n",
       "                var nbb_cells = Jupyter.notebook.get_cells();\n",
       "                for (var i = 0; i < nbb_cells.length; ++i) {\n",
       "                    if (nbb_cells[i].input_prompt_number == nbb_cell_id) {\n",
       "                        if (nbb_cells[i].get_text() == nbb_unformatted_code) {\n",
       "                             nbb_cells[i].set_text(nbb_formatted_code);\n",
       "                        }\n",
       "                        break;\n",
       "                    }\n",
       "                }\n",
       "            }, 500);\n",
       "            "
      ],
      "text/plain": [
       "<IPython.core.display.Javascript object>"
      ]
     },
     "metadata": {},
     "output_type": "display_data"
    }
   ],
   "source": [
    "def get_sc_event_data_15():\n",
    "    sql_query = \"\"\"\n",
    "    (SELECT statcast_15.game_date, statcast_15.batter,\n",
    "    statcast_15.pitcher, statcast_15.events,\n",
    "    statcast_15.stand, statcast_15.p_throws,\n",
    "    statcast_15.inning_topbot\n",
    "    FROM statcast_15\n",
    "    WHERE statcast_15.events IS NOT NULL);\n",
    "    \"\"\"\n",
    "\n",
    "    print(sql_query)\n",
    "\n",
    "    df_sc_events = pd.read_sql_query(sql_query, con)\n",
    "\n",
    "    return df_sc_events"
   ]
  },
  {
   "cell_type": "code",
   "execution_count": 23,
   "metadata": {
    "ExecuteTime": {
     "end_time": "2020-02-03T04:58:38.346355Z",
     "start_time": "2020-02-03T04:58:35.677146Z"
    }
   },
   "outputs": [
    {
     "name": "stdout",
     "output_type": "stream",
     "text": [
      "\n",
      "    (SELECT statcast_15.game_date, statcast_15.batter,\n",
      "    statcast_15.pitcher, statcast_15.events,\n",
      "    statcast_15.stand, statcast_15.p_throws,\n",
      "    statcast_15.inning_topbot\n",
      "    FROM statcast_15\n",
      "    WHERE statcast_15.events IS NOT NULL);\n",
      "    \n"
     ]
    },
    {
     "data": {
      "application/javascript": [
       "\n",
       "            setTimeout(function() {\n",
       "                var nbb_cell_id = 23;\n",
       "                var nbb_unformatted_code = \"df_sc_events_15 = get_sc_event_data_15()\";\n",
       "                var nbb_formatted_code = \"df_sc_events_15 = get_sc_event_data_15()\";\n",
       "                var nbb_cells = Jupyter.notebook.get_cells();\n",
       "                for (var i = 0; i < nbb_cells.length; ++i) {\n",
       "                    if (nbb_cells[i].input_prompt_number == nbb_cell_id) {\n",
       "                        if (nbb_cells[i].get_text() == nbb_unformatted_code) {\n",
       "                             nbb_cells[i].set_text(nbb_formatted_code);\n",
       "                        }\n",
       "                        break;\n",
       "                    }\n",
       "                }\n",
       "            }, 500);\n",
       "            "
      ],
      "text/plain": [
       "<IPython.core.display.Javascript object>"
      ]
     },
     "metadata": {},
     "output_type": "display_data"
    }
   ],
   "source": [
    "df_sc_events_15 = get_sc_event_data_15()"
   ]
  },
  {
   "cell_type": "code",
   "execution_count": 24,
   "metadata": {
    "ExecuteTime": {
     "end_time": "2020-02-03T04:58:39.162208Z",
     "start_time": "2020-02-03T04:58:39.149804Z"
    }
   },
   "outputs": [
    {
     "name": "stdout",
     "output_type": "stream",
     "text": [
      "2015-04-05 00:00:00 2015-10-04 00:00:00\n"
     ]
    },
    {
     "data": {
      "application/javascript": [
       "\n",
       "            setTimeout(function() {\n",
       "                var nbb_cell_id = 24;\n",
       "                var nbb_unformatted_code = \"print(df_sc_events_15[\\\"game_date\\\"].min(), df_sc_events_15[\\\"game_date\\\"].max())\";\n",
       "                var nbb_formatted_code = \"print(df_sc_events_15[\\\"game_date\\\"].min(), df_sc_events_15[\\\"game_date\\\"].max())\";\n",
       "                var nbb_cells = Jupyter.notebook.get_cells();\n",
       "                for (var i = 0; i < nbb_cells.length; ++i) {\n",
       "                    if (nbb_cells[i].input_prompt_number == nbb_cell_id) {\n",
       "                        if (nbb_cells[i].get_text() == nbb_unformatted_code) {\n",
       "                             nbb_cells[i].set_text(nbb_formatted_code);\n",
       "                        }\n",
       "                        break;\n",
       "                    }\n",
       "                }\n",
       "            }, 500);\n",
       "            "
      ],
      "text/plain": [
       "<IPython.core.display.Javascript object>"
      ]
     },
     "metadata": {},
     "output_type": "display_data"
    }
   ],
   "source": [
    "print(df_sc_events_15[\"game_date\"].min(), df_sc_events_15[\"game_date\"].max())"
   ]
  },
  {
   "cell_type": "code",
   "execution_count": 25,
   "metadata": {
    "ExecuteTime": {
     "end_time": "2020-02-03T04:58:40.090726Z",
     "start_time": "2020-02-03T04:58:40.072472Z"
    }
   },
   "outputs": [
    {
     "data": {
      "text/html": [
       "<div>\n",
       "<style scoped>\n",
       "    .dataframe tbody tr th:only-of-type {\n",
       "        vertical-align: middle;\n",
       "    }\n",
       "\n",
       "    .dataframe tbody tr th {\n",
       "        vertical-align: top;\n",
       "    }\n",
       "\n",
       "    .dataframe thead th {\n",
       "        text-align: right;\n",
       "    }\n",
       "</style>\n",
       "<table border=\"1\" class=\"dataframe\">\n",
       "  <thead>\n",
       "    <tr style=\"text-align: right;\">\n",
       "      <th></th>\n",
       "      <th>game_date</th>\n",
       "      <th>batter</th>\n",
       "      <th>pitcher</th>\n",
       "      <th>events</th>\n",
       "      <th>stand</th>\n",
       "      <th>p_throws</th>\n",
       "      <th>inning_topbot</th>\n",
       "    </tr>\n",
       "  </thead>\n",
       "  <tbody>\n",
       "    <tr>\n",
       "      <th>0</th>\n",
       "      <td>2015-10-04</td>\n",
       "      <td>150029.0</td>\n",
       "      <td>544727.0</td>\n",
       "      <td>field_out</td>\n",
       "      <td>R</td>\n",
       "      <td>R</td>\n",
       "      <td>Top</td>\n",
       "    </tr>\n",
       "    <tr>\n",
       "      <th>1</th>\n",
       "      <td>2015-10-04</td>\n",
       "      <td>547180.0</td>\n",
       "      <td>544727.0</td>\n",
       "      <td>double</td>\n",
       "      <td>L</td>\n",
       "      <td>R</td>\n",
       "      <td>Top</td>\n",
       "    </tr>\n",
       "    <tr>\n",
       "      <th>2</th>\n",
       "      <td>2015-10-04</td>\n",
       "      <td>607208.0</td>\n",
       "      <td>544727.0</td>\n",
       "      <td>strikeout</td>\n",
       "      <td>R</td>\n",
       "      <td>R</td>\n",
       "      <td>Top</td>\n",
       "    </tr>\n",
       "    <tr>\n",
       "      <th>3</th>\n",
       "      <td>2015-10-04</td>\n",
       "      <td>543685.0</td>\n",
       "      <td>544727.0</td>\n",
       "      <td>field_out</td>\n",
       "      <td>R</td>\n",
       "      <td>R</td>\n",
       "      <td>Top</td>\n",
       "    </tr>\n",
       "    <tr>\n",
       "      <th>4</th>\n",
       "      <td>2015-10-04</td>\n",
       "      <td>502517.0</td>\n",
       "      <td>595014.0</td>\n",
       "      <td>grounded_into_double_play</td>\n",
       "      <td>L</td>\n",
       "      <td>R</td>\n",
       "      <td>Bot</td>\n",
       "    </tr>\n",
       "  </tbody>\n",
       "</table>\n",
       "</div>"
      ],
      "text/plain": [
       "   game_date    batter   pitcher                     events stand p_throws  \\\n",
       "0 2015-10-04  150029.0  544727.0                  field_out     R        R   \n",
       "1 2015-10-04  547180.0  544727.0                     double     L        R   \n",
       "2 2015-10-04  607208.0  544727.0                  strikeout     R        R   \n",
       "3 2015-10-04  543685.0  544727.0                  field_out     R        R   \n",
       "4 2015-10-04  502517.0  595014.0  grounded_into_double_play     L        R   \n",
       "\n",
       "  inning_topbot  \n",
       "0           Top  \n",
       "1           Top  \n",
       "2           Top  \n",
       "3           Top  \n",
       "4           Bot  "
      ]
     },
     "execution_count": 25,
     "metadata": {},
     "output_type": "execute_result"
    },
    {
     "data": {
      "application/javascript": [
       "\n",
       "            setTimeout(function() {\n",
       "                var nbb_cell_id = 25;\n",
       "                var nbb_unformatted_code = \"df_sc_events_15.head()\";\n",
       "                var nbb_formatted_code = \"df_sc_events_15.head()\";\n",
       "                var nbb_cells = Jupyter.notebook.get_cells();\n",
       "                for (var i = 0; i < nbb_cells.length; ++i) {\n",
       "                    if (nbb_cells[i].input_prompt_number == nbb_cell_id) {\n",
       "                        if (nbb_cells[i].get_text() == nbb_unformatted_code) {\n",
       "                             nbb_cells[i].set_text(nbb_formatted_code);\n",
       "                        }\n",
       "                        break;\n",
       "                    }\n",
       "                }\n",
       "            }, 500);\n",
       "            "
      ],
      "text/plain": [
       "<IPython.core.display.Javascript object>"
      ]
     },
     "metadata": {},
     "output_type": "display_data"
    }
   ],
   "source": [
    "df_sc_events_15.head()"
   ]
  },
  {
   "cell_type": "code",
   "execution_count": 26,
   "metadata": {
    "ExecuteTime": {
     "end_time": "2020-02-03T04:58:43.375454Z",
     "start_time": "2020-02-03T04:58:43.364493Z"
    }
   },
   "outputs": [
    {
     "data": {
      "application/javascript": [
       "\n",
       "            setTimeout(function() {\n",
       "                var nbb_cell_id = 26;\n",
       "                var nbb_unformatted_code = \"def get_sc_event_data_16():\\n    sql_query = \\\"\\\"\\\"\\n    (SELECT statcast_16.game_date, statcast_16.batter,\\n    statcast_16.pitcher, statcast_16.events,\\n    statcast_16.stand, statcast_16.p_throws,\\n    statcast_16.inning_topbot\\n    FROM statcast_16\\n    WHERE statcast_16.events IS NOT NULL);\\n    \\\"\\\"\\\"\\n\\n    print(sql_query)\\n\\n    df_sc_events = pd.read_sql_query(sql_query, con)\\n\\n    return df_sc_events\";\n",
       "                var nbb_formatted_code = \"def get_sc_event_data_16():\\n    sql_query = \\\"\\\"\\\"\\n    (SELECT statcast_16.game_date, statcast_16.batter,\\n    statcast_16.pitcher, statcast_16.events,\\n    statcast_16.stand, statcast_16.p_throws,\\n    statcast_16.inning_topbot\\n    FROM statcast_16\\n    WHERE statcast_16.events IS NOT NULL);\\n    \\\"\\\"\\\"\\n\\n    print(sql_query)\\n\\n    df_sc_events = pd.read_sql_query(sql_query, con)\\n\\n    return df_sc_events\";\n",
       "                var nbb_cells = Jupyter.notebook.get_cells();\n",
       "                for (var i = 0; i < nbb_cells.length; ++i) {\n",
       "                    if (nbb_cells[i].input_prompt_number == nbb_cell_id) {\n",
       "                        if (nbb_cells[i].get_text() == nbb_unformatted_code) {\n",
       "                             nbb_cells[i].set_text(nbb_formatted_code);\n",
       "                        }\n",
       "                        break;\n",
       "                    }\n",
       "                }\n",
       "            }, 500);\n",
       "            "
      ],
      "text/plain": [
       "<IPython.core.display.Javascript object>"
      ]
     },
     "metadata": {},
     "output_type": "display_data"
    }
   ],
   "source": [
    "def get_sc_event_data_16():\n",
    "    sql_query = \"\"\"\n",
    "    (SELECT statcast_16.game_date, statcast_16.batter,\n",
    "    statcast_16.pitcher, statcast_16.events,\n",
    "    statcast_16.stand, statcast_16.p_throws,\n",
    "    statcast_16.inning_topbot\n",
    "    FROM statcast_16\n",
    "    WHERE statcast_16.events IS NOT NULL);\n",
    "    \"\"\"\n",
    "\n",
    "    print(sql_query)\n",
    "\n",
    "    df_sc_events = pd.read_sql_query(sql_query, con)\n",
    "\n",
    "    return df_sc_events"
   ]
  },
  {
   "cell_type": "code",
   "execution_count": 27,
   "metadata": {
    "ExecuteTime": {
     "end_time": "2020-02-03T04:58:48.905493Z",
     "start_time": "2020-02-03T04:58:44.381465Z"
    }
   },
   "outputs": [
    {
     "name": "stdout",
     "output_type": "stream",
     "text": [
      "\n",
      "    (SELECT statcast_16.game_date, statcast_16.batter,\n",
      "    statcast_16.pitcher, statcast_16.events,\n",
      "    statcast_16.stand, statcast_16.p_throws,\n",
      "    statcast_16.inning_topbot\n",
      "    FROM statcast_16\n",
      "    WHERE statcast_16.events IS NOT NULL);\n",
      "    \n"
     ]
    },
    {
     "data": {
      "application/javascript": [
       "\n",
       "            setTimeout(function() {\n",
       "                var nbb_cell_id = 27;\n",
       "                var nbb_unformatted_code = \"df_sc_events_16 = get_sc_event_data_16()\";\n",
       "                var nbb_formatted_code = \"df_sc_events_16 = get_sc_event_data_16()\";\n",
       "                var nbb_cells = Jupyter.notebook.get_cells();\n",
       "                for (var i = 0; i < nbb_cells.length; ++i) {\n",
       "                    if (nbb_cells[i].input_prompt_number == nbb_cell_id) {\n",
       "                        if (nbb_cells[i].get_text() == nbb_unformatted_code) {\n",
       "                             nbb_cells[i].set_text(nbb_formatted_code);\n",
       "                        }\n",
       "                        break;\n",
       "                    }\n",
       "                }\n",
       "            }, 500);\n",
       "            "
      ],
      "text/plain": [
       "<IPython.core.display.Javascript object>"
      ]
     },
     "metadata": {},
     "output_type": "display_data"
    }
   ],
   "source": [
    "df_sc_events_16 = get_sc_event_data_16()"
   ]
  },
  {
   "cell_type": "code",
   "execution_count": 28,
   "metadata": {
    "ExecuteTime": {
     "end_time": "2020-02-03T04:58:50.429829Z",
     "start_time": "2020-02-03T04:58:50.405836Z"
    }
   },
   "outputs": [
    {
     "name": "stdout",
     "output_type": "stream",
     "text": [
      "2016-04-03 00:00:00 2016-09-30 00:00:00\n"
     ]
    },
    {
     "data": {
      "application/javascript": [
       "\n",
       "            setTimeout(function() {\n",
       "                var nbb_cell_id = 28;\n",
       "                var nbb_unformatted_code = \"print(df_sc_events_16[\\\"game_date\\\"].min(), df_sc_events_16[\\\"game_date\\\"].max())\";\n",
       "                var nbb_formatted_code = \"print(df_sc_events_16[\\\"game_date\\\"].min(), df_sc_events_16[\\\"game_date\\\"].max())\";\n",
       "                var nbb_cells = Jupyter.notebook.get_cells();\n",
       "                for (var i = 0; i < nbb_cells.length; ++i) {\n",
       "                    if (nbb_cells[i].input_prompt_number == nbb_cell_id) {\n",
       "                        if (nbb_cells[i].get_text() == nbb_unformatted_code) {\n",
       "                             nbb_cells[i].set_text(nbb_formatted_code);\n",
       "                        }\n",
       "                        break;\n",
       "                    }\n",
       "                }\n",
       "            }, 500);\n",
       "            "
      ],
      "text/plain": [
       "<IPython.core.display.Javascript object>"
      ]
     },
     "metadata": {},
     "output_type": "display_data"
    }
   ],
   "source": [
    "print(df_sc_events_16[\"game_date\"].min(), df_sc_events_16[\"game_date\"].max())"
   ]
  },
  {
   "cell_type": "code",
   "execution_count": 29,
   "metadata": {
    "ExecuteTime": {
     "end_time": "2020-02-03T04:58:51.353714Z",
     "start_time": "2020-02-03T04:58:51.334512Z"
    }
   },
   "outputs": [
    {
     "data": {
      "text/html": [
       "<div>\n",
       "<style scoped>\n",
       "    .dataframe tbody tr th:only-of-type {\n",
       "        vertical-align: middle;\n",
       "    }\n",
       "\n",
       "    .dataframe tbody tr th {\n",
       "        vertical-align: top;\n",
       "    }\n",
       "\n",
       "    .dataframe thead th {\n",
       "        text-align: right;\n",
       "    }\n",
       "</style>\n",
       "<table border=\"1\" class=\"dataframe\">\n",
       "  <thead>\n",
       "    <tr style=\"text-align: right;\">\n",
       "      <th></th>\n",
       "      <th>game_date</th>\n",
       "      <th>batter</th>\n",
       "      <th>pitcher</th>\n",
       "      <th>events</th>\n",
       "      <th>stand</th>\n",
       "      <th>p_throws</th>\n",
       "      <th>inning_topbot</th>\n",
       "    </tr>\n",
       "  </thead>\n",
       "  <tbody>\n",
       "    <tr>\n",
       "      <th>0</th>\n",
       "      <td>2016-09-30</td>\n",
       "      <td>425900.0</td>\n",
       "      <td>518886.0</td>\n",
       "      <td>strikeout</td>\n",
       "      <td>L</td>\n",
       "      <td>R</td>\n",
       "      <td>Top</td>\n",
       "    </tr>\n",
       "    <tr>\n",
       "      <th>1</th>\n",
       "      <td>2016-09-30</td>\n",
       "      <td>453064.0</td>\n",
       "      <td>518886.0</td>\n",
       "      <td>walk</td>\n",
       "      <td>R</td>\n",
       "      <td>R</td>\n",
       "      <td>Top</td>\n",
       "    </tr>\n",
       "    <tr>\n",
       "      <th>2</th>\n",
       "      <td>2016-09-30</td>\n",
       "      <td>431145.0</td>\n",
       "      <td>518886.0</td>\n",
       "      <td>field_out</td>\n",
       "      <td>R</td>\n",
       "      <td>R</td>\n",
       "      <td>Top</td>\n",
       "    </tr>\n",
       "    <tr>\n",
       "      <th>3</th>\n",
       "      <td>2016-09-30</td>\n",
       "      <td>430832.0</td>\n",
       "      <td>518886.0</td>\n",
       "      <td>walk</td>\n",
       "      <td>R</td>\n",
       "      <td>R</td>\n",
       "      <td>Top</td>\n",
       "    </tr>\n",
       "    <tr>\n",
       "      <th>4</th>\n",
       "      <td>2016-09-30</td>\n",
       "      <td>429665.0</td>\n",
       "      <td>518886.0</td>\n",
       "      <td>field_out</td>\n",
       "      <td>R</td>\n",
       "      <td>R</td>\n",
       "      <td>Top</td>\n",
       "    </tr>\n",
       "  </tbody>\n",
       "</table>\n",
       "</div>"
      ],
      "text/plain": [
       "   game_date    batter   pitcher     events stand p_throws inning_topbot\n",
       "0 2016-09-30  425900.0  518886.0  strikeout     L        R           Top\n",
       "1 2016-09-30  453064.0  518886.0       walk     R        R           Top\n",
       "2 2016-09-30  431145.0  518886.0  field_out     R        R           Top\n",
       "3 2016-09-30  430832.0  518886.0       walk     R        R           Top\n",
       "4 2016-09-30  429665.0  518886.0  field_out     R        R           Top"
      ]
     },
     "execution_count": 29,
     "metadata": {},
     "output_type": "execute_result"
    },
    {
     "data": {
      "application/javascript": [
       "\n",
       "            setTimeout(function() {\n",
       "                var nbb_cell_id = 29;\n",
       "                var nbb_unformatted_code = \"df_sc_events_16.head()\";\n",
       "                var nbb_formatted_code = \"df_sc_events_16.head()\";\n",
       "                var nbb_cells = Jupyter.notebook.get_cells();\n",
       "                for (var i = 0; i < nbb_cells.length; ++i) {\n",
       "                    if (nbb_cells[i].input_prompt_number == nbb_cell_id) {\n",
       "                        if (nbb_cells[i].get_text() == nbb_unformatted_code) {\n",
       "                             nbb_cells[i].set_text(nbb_formatted_code);\n",
       "                        }\n",
       "                        break;\n",
       "                    }\n",
       "                }\n",
       "            }, 500);\n",
       "            "
      ],
      "text/plain": [
       "<IPython.core.display.Javascript object>"
      ]
     },
     "metadata": {},
     "output_type": "display_data"
    }
   ],
   "source": [
    "df_sc_events_16.head()"
   ]
  },
  {
   "cell_type": "markdown",
   "metadata": {},
   "source": [
    "### Concatenate statcast data from different years together"
   ]
  },
  {
   "cell_type": "code",
   "execution_count": 30,
   "metadata": {
    "ExecuteTime": {
     "end_time": "2020-02-03T04:58:55.797029Z",
     "start_time": "2020-02-03T04:58:55.557769Z"
    }
   },
   "outputs": [
    {
     "data": {
      "application/javascript": [
       "\n",
       "            setTimeout(function() {\n",
       "                var nbb_cell_id = 30;\n",
       "                var nbb_unformatted_code = \"df_sc_events_all = pd.concat([df_sc_events_15, df_sc_events_16, df_sc_events], axis=0)\";\n",
       "                var nbb_formatted_code = \"df_sc_events_all = pd.concat([df_sc_events_15, df_sc_events_16, df_sc_events], axis=0)\";\n",
       "                var nbb_cells = Jupyter.notebook.get_cells();\n",
       "                for (var i = 0; i < nbb_cells.length; ++i) {\n",
       "                    if (nbb_cells[i].input_prompt_number == nbb_cell_id) {\n",
       "                        if (nbb_cells[i].get_text() == nbb_unformatted_code) {\n",
       "                             nbb_cells[i].set_text(nbb_formatted_code);\n",
       "                        }\n",
       "                        break;\n",
       "                    }\n",
       "                }\n",
       "            }, 500);\n",
       "            "
      ],
      "text/plain": [
       "<IPython.core.display.Javascript object>"
      ]
     },
     "metadata": {},
     "output_type": "display_data"
    }
   ],
   "source": [
    "df_sc_events_all = pd.concat([df_sc_events_15, df_sc_events_16, df_sc_events], axis=0)"
   ]
  },
  {
   "cell_type": "code",
   "execution_count": 31,
   "metadata": {
    "ExecuteTime": {
     "end_time": "2020-02-03T04:58:56.757294Z",
     "start_time": "2020-02-03T04:58:56.738318Z"
    }
   },
   "outputs": [
    {
     "data": {
      "text/html": [
       "<div>\n",
       "<style scoped>\n",
       "    .dataframe tbody tr th:only-of-type {\n",
       "        vertical-align: middle;\n",
       "    }\n",
       "\n",
       "    .dataframe tbody tr th {\n",
       "        vertical-align: top;\n",
       "    }\n",
       "\n",
       "    .dataframe thead th {\n",
       "        text-align: right;\n",
       "    }\n",
       "</style>\n",
       "<table border=\"1\" class=\"dataframe\">\n",
       "  <thead>\n",
       "    <tr style=\"text-align: right;\">\n",
       "      <th></th>\n",
       "      <th>game_date</th>\n",
       "      <th>batter</th>\n",
       "      <th>pitcher</th>\n",
       "      <th>events</th>\n",
       "      <th>stand</th>\n",
       "      <th>p_throws</th>\n",
       "      <th>inning_topbot</th>\n",
       "    </tr>\n",
       "  </thead>\n",
       "  <tbody>\n",
       "    <tr>\n",
       "      <th>0</th>\n",
       "      <td>2015-10-04</td>\n",
       "      <td>150029.0</td>\n",
       "      <td>544727.0</td>\n",
       "      <td>field_out</td>\n",
       "      <td>R</td>\n",
       "      <td>R</td>\n",
       "      <td>Top</td>\n",
       "    </tr>\n",
       "    <tr>\n",
       "      <th>1</th>\n",
       "      <td>2015-10-04</td>\n",
       "      <td>547180.0</td>\n",
       "      <td>544727.0</td>\n",
       "      <td>double</td>\n",
       "      <td>L</td>\n",
       "      <td>R</td>\n",
       "      <td>Top</td>\n",
       "    </tr>\n",
       "    <tr>\n",
       "      <th>2</th>\n",
       "      <td>2015-10-04</td>\n",
       "      <td>607208.0</td>\n",
       "      <td>544727.0</td>\n",
       "      <td>strikeout</td>\n",
       "      <td>R</td>\n",
       "      <td>R</td>\n",
       "      <td>Top</td>\n",
       "    </tr>\n",
       "    <tr>\n",
       "      <th>3</th>\n",
       "      <td>2015-10-04</td>\n",
       "      <td>543685.0</td>\n",
       "      <td>544727.0</td>\n",
       "      <td>field_out</td>\n",
       "      <td>R</td>\n",
       "      <td>R</td>\n",
       "      <td>Top</td>\n",
       "    </tr>\n",
       "    <tr>\n",
       "      <th>4</th>\n",
       "      <td>2015-10-04</td>\n",
       "      <td>502517.0</td>\n",
       "      <td>595014.0</td>\n",
       "      <td>grounded_into_double_play</td>\n",
       "      <td>L</td>\n",
       "      <td>R</td>\n",
       "      <td>Bot</td>\n",
       "    </tr>\n",
       "  </tbody>\n",
       "</table>\n",
       "</div>"
      ],
      "text/plain": [
       "   game_date    batter   pitcher                     events stand p_throws  \\\n",
       "0 2015-10-04  150029.0  544727.0                  field_out     R        R   \n",
       "1 2015-10-04  547180.0  544727.0                     double     L        R   \n",
       "2 2015-10-04  607208.0  544727.0                  strikeout     R        R   \n",
       "3 2015-10-04  543685.0  544727.0                  field_out     R        R   \n",
       "4 2015-10-04  502517.0  595014.0  grounded_into_double_play     L        R   \n",
       "\n",
       "  inning_topbot  \n",
       "0           Top  \n",
       "1           Top  \n",
       "2           Top  \n",
       "3           Top  \n",
       "4           Bot  "
      ]
     },
     "execution_count": 31,
     "metadata": {},
     "output_type": "execute_result"
    },
    {
     "data": {
      "application/javascript": [
       "\n",
       "            setTimeout(function() {\n",
       "                var nbb_cell_id = 31;\n",
       "                var nbb_unformatted_code = \"df_sc_events_all.head()\";\n",
       "                var nbb_formatted_code = \"df_sc_events_all.head()\";\n",
       "                var nbb_cells = Jupyter.notebook.get_cells();\n",
       "                for (var i = 0; i < nbb_cells.length; ++i) {\n",
       "                    if (nbb_cells[i].input_prompt_number == nbb_cell_id) {\n",
       "                        if (nbb_cells[i].get_text() == nbb_unformatted_code) {\n",
       "                             nbb_cells[i].set_text(nbb_formatted_code);\n",
       "                        }\n",
       "                        break;\n",
       "                    }\n",
       "                }\n",
       "            }, 500);\n",
       "            "
      ],
      "text/plain": [
       "<IPython.core.display.Javascript object>"
      ]
     },
     "metadata": {},
     "output_type": "display_data"
    }
   ],
   "source": [
    "df_sc_events_all.head()"
   ]
  },
  {
   "cell_type": "code",
   "execution_count": 32,
   "metadata": {
    "ExecuteTime": {
     "end_time": "2020-02-03T04:59:01.690440Z",
     "start_time": "2020-02-03T04:59:01.680456Z"
    }
   },
   "outputs": [
    {
     "name": "stdout",
     "output_type": "stream",
     "text": [
      "size of data frame:  (922195, 7)\n"
     ]
    },
    {
     "data": {
      "application/javascript": [
       "\n",
       "            setTimeout(function() {\n",
       "                var nbb_cell_id = 32;\n",
       "                var nbb_unformatted_code = \"print(\\\"size of data frame: \\\", df_sc_events_all.shape)\";\n",
       "                var nbb_formatted_code = \"print(\\\"size of data frame: \\\", df_sc_events_all.shape)\";\n",
       "                var nbb_cells = Jupyter.notebook.get_cells();\n",
       "                for (var i = 0; i < nbb_cells.length; ++i) {\n",
       "                    if (nbb_cells[i].input_prompt_number == nbb_cell_id) {\n",
       "                        if (nbb_cells[i].get_text() == nbb_unformatted_code) {\n",
       "                             nbb_cells[i].set_text(nbb_formatted_code);\n",
       "                        }\n",
       "                        break;\n",
       "                    }\n",
       "                }\n",
       "            }, 500);\n",
       "            "
      ],
      "text/plain": [
       "<IPython.core.display.Javascript object>"
      ]
     },
     "metadata": {},
     "output_type": "display_data"
    }
   ],
   "source": [
    "print(\"size of data frame: \", df_sc_events_all.shape)"
   ]
  },
  {
   "cell_type": "code",
   "execution_count": 34,
   "metadata": {
    "ExecuteTime": {
     "end_time": "2020-02-03T05:03:59.749431Z",
     "start_time": "2020-02-03T05:03:59.708000Z"
    }
   },
   "outputs": [
    {
     "data": {
      "application/javascript": [
       "\n",
       "            setTimeout(function() {\n",
       "                var nbb_cell_id = 34;\n",
       "                var nbb_unformatted_code = \"df_temp = df_sc_events_all.iloc[0:1000, :]\";\n",
       "                var nbb_formatted_code = \"df_temp = df_sc_events_all.iloc[0:1000, :]\";\n",
       "                var nbb_cells = Jupyter.notebook.get_cells();\n",
       "                for (var i = 0; i < nbb_cells.length; ++i) {\n",
       "                    if (nbb_cells[i].input_prompt_number == nbb_cell_id) {\n",
       "                        if (nbb_cells[i].get_text() == nbb_unformatted_code) {\n",
       "                             nbb_cells[i].set_text(nbb_formatted_code);\n",
       "                        }\n",
       "                        break;\n",
       "                    }\n",
       "                }\n",
       "            }, 500);\n",
       "            "
      ],
      "text/plain": [
       "<IPython.core.display.Javascript object>"
      ]
     },
     "metadata": {},
     "output_type": "display_data"
    }
   ],
   "source": [
    "df_temp = df_sc_events_all.iloc[0:1000, :]"
   ]
  },
  {
   "cell_type": "code",
   "execution_count": null,
   "metadata": {
    "ExecuteTime": {
     "end_time": "2020-02-03T05:00:11.645456Z",
     "start_time": "2020-02-03T05:00:11.635370Z"
    }
   },
   "outputs": [],
   "source": [
    "# Feature engineering - maybe if there's time"
   ]
  },
  {
   "cell_type": "code",
   "execution_count": null,
   "metadata": {},
   "outputs": [],
   "source": [
    "# choices = ['strikeout', 'on-base', 'home_run']\n",
    "# feature_for_rate = 'on-base'\n",
    "\n",
    "# if feature_for_rate=='on-base':\n",
    "# plate_appearance_filter = 200"
   ]
  },
  {
   "cell_type": "code",
   "execution_count": null,
   "metadata": {},
   "outputs": [],
   "source": []
  },
  {
   "cell_type": "code",
   "execution_count": null,
   "metadata": {},
   "outputs": [],
   "source": []
  },
  {
   "cell_type": "code",
   "execution_count": null,
   "metadata": {},
   "outputs": [],
   "source": []
  },
  {
   "cell_type": "markdown",
   "metadata": {},
   "source": [
    "## Batter stats - to get a quick filter of batters"
   ]
  },
  {
   "cell_type": "code",
   "execution_count": 86,
   "metadata": {
    "ExecuteTime": {
     "end_time": "2020-02-03T05:38:55.014480Z",
     "start_time": "2020-02-03T05:38:54.169916Z"
    },
    "code_folding": []
   },
   "outputs": [
    {
     "name": "stdout",
     "output_type": "stream",
     "text": [
      "\n",
      "SELECT * FROM batting_stats18_wpid;\n",
      "\n"
     ]
    },
    {
     "data": {
      "text/html": [
       "<div>\n",
       "<style scoped>\n",
       "    .dataframe tbody tr th:only-of-type {\n",
       "        vertical-align: middle;\n",
       "    }\n",
       "\n",
       "    .dataframe tbody tr th {\n",
       "        vertical-align: top;\n",
       "    }\n",
       "\n",
       "    .dataframe thead th {\n",
       "        text-align: right;\n",
       "    }\n",
       "</style>\n",
       "<table border=\"1\" class=\"dataframe\">\n",
       "  <thead>\n",
       "    <tr style=\"text-align: right;\">\n",
       "      <th></th>\n",
       "      <th>Season</th>\n",
       "      <th>Name</th>\n",
       "      <th>Team</th>\n",
       "      <th>Age</th>\n",
       "      <th>G</th>\n",
       "      <th>AB</th>\n",
       "      <th>PA</th>\n",
       "      <th>H</th>\n",
       "      <th>1B</th>\n",
       "      <th>2B</th>\n",
       "      <th>...</th>\n",
       "      <th>first_name</th>\n",
       "      <th>index_y</th>\n",
       "      <th>name_last</th>\n",
       "      <th>name_first</th>\n",
       "      <th>key_mlbam</th>\n",
       "      <th>key_retro</th>\n",
       "      <th>key_bbref</th>\n",
       "      <th>key_fangraphs</th>\n",
       "      <th>mlb_played_first</th>\n",
       "      <th>mlb_played_last</th>\n",
       "    </tr>\n",
       "  </thead>\n",
       "  <tbody>\n",
       "    <tr>\n",
       "      <th>0</th>\n",
       "      <td>2018.0</td>\n",
       "      <td>Mookie Betts</td>\n",
       "      <td>Red Sox</td>\n",
       "      <td>25.0</td>\n",
       "      <td>136.0</td>\n",
       "      <td>520.0</td>\n",
       "      <td>614.0</td>\n",
       "      <td>180.0</td>\n",
       "      <td>96.0</td>\n",
       "      <td>47.0</td>\n",
       "      <td>...</td>\n",
       "      <td>mookie</td>\n",
       "      <td>166</td>\n",
       "      <td>betts</td>\n",
       "      <td>mookie</td>\n",
       "      <td>605141</td>\n",
       "      <td>bettm001</td>\n",
       "      <td>bettsmo01</td>\n",
       "      <td>13611</td>\n",
       "      <td>2014.0</td>\n",
       "      <td>2019.0</td>\n",
       "    </tr>\n",
       "    <tr>\n",
       "      <th>1</th>\n",
       "      <td>2018.0</td>\n",
       "      <td>Mike Trout</td>\n",
       "      <td>Angels</td>\n",
       "      <td>26.0</td>\n",
       "      <td>140.0</td>\n",
       "      <td>471.0</td>\n",
       "      <td>608.0</td>\n",
       "      <td>147.0</td>\n",
       "      <td>80.0</td>\n",
       "      <td>24.0</td>\n",
       "      <td>...</td>\n",
       "      <td>mike</td>\n",
       "      <td>1789</td>\n",
       "      <td>trout</td>\n",
       "      <td>mike</td>\n",
       "      <td>545361</td>\n",
       "      <td>troum001</td>\n",
       "      <td>troutmi01</td>\n",
       "      <td>10155</td>\n",
       "      <td>2011.0</td>\n",
       "      <td>2019.0</td>\n",
       "    </tr>\n",
       "    <tr>\n",
       "      <th>2</th>\n",
       "      <td>2018.0</td>\n",
       "      <td>Jose Ramirez</td>\n",
       "      <td>Indians</td>\n",
       "      <td>25.0</td>\n",
       "      <td>157.0</td>\n",
       "      <td>578.0</td>\n",
       "      <td>698.0</td>\n",
       "      <td>156.0</td>\n",
       "      <td>75.0</td>\n",
       "      <td>38.0</td>\n",
       "      <td>...</td>\n",
       "      <td>jose</td>\n",
       "      <td>1417</td>\n",
       "      <td>ramirez</td>\n",
       "      <td>jose</td>\n",
       "      <td>542432</td>\n",
       "      <td>ramij004</td>\n",
       "      <td>ramirjo02</td>\n",
       "      <td>10171</td>\n",
       "      <td>2014.0</td>\n",
       "      <td>2018.0</td>\n",
       "    </tr>\n",
       "    <tr>\n",
       "      <th>3</th>\n",
       "      <td>2018.0</td>\n",
       "      <td>Ryder Jones</td>\n",
       "      <td>Giants</td>\n",
       "      <td>24.0</td>\n",
       "      <td>5.0</td>\n",
       "      <td>8.0</td>\n",
       "      <td>8.0</td>\n",
       "      <td>3.0</td>\n",
       "      <td>1.0</td>\n",
       "      <td>0.0</td>\n",
       "      <td>...</td>\n",
       "      <td>ryder</td>\n",
       "      <td>903</td>\n",
       "      <td>jones</td>\n",
       "      <td>ryder</td>\n",
       "      <td>624507</td>\n",
       "      <td>joner005</td>\n",
       "      <td>jonesry01</td>\n",
       "      <td>15982</td>\n",
       "      <td>2017.0</td>\n",
       "      <td>2018.0</td>\n",
       "    </tr>\n",
       "    <tr>\n",
       "      <th>4</th>\n",
       "      <td>2018.0</td>\n",
       "      <td>Jose Ramirez</td>\n",
       "      <td>Indians</td>\n",
       "      <td>25.0</td>\n",
       "      <td>157.0</td>\n",
       "      <td>578.0</td>\n",
       "      <td>698.0</td>\n",
       "      <td>156.0</td>\n",
       "      <td>75.0</td>\n",
       "      <td>38.0</td>\n",
       "      <td>...</td>\n",
       "      <td>jose</td>\n",
       "      <td>1418</td>\n",
       "      <td>ramirez</td>\n",
       "      <td>jose</td>\n",
       "      <td>608070</td>\n",
       "      <td>ramij003</td>\n",
       "      <td>ramirjo01</td>\n",
       "      <td>13510</td>\n",
       "      <td>2013.0</td>\n",
       "      <td>2019.0</td>\n",
       "    </tr>\n",
       "    <tr>\n",
       "      <th>...</th>\n",
       "      <td>...</td>\n",
       "      <td>...</td>\n",
       "      <td>...</td>\n",
       "      <td>...</td>\n",
       "      <td>...</td>\n",
       "      <td>...</td>\n",
       "      <td>...</td>\n",
       "      <td>...</td>\n",
       "      <td>...</td>\n",
       "      <td>...</td>\n",
       "      <td>...</td>\n",
       "      <td>...</td>\n",
       "      <td>...</td>\n",
       "      <td>...</td>\n",
       "      <td>...</td>\n",
       "      <td>...</td>\n",
       "      <td>...</td>\n",
       "      <td>...</td>\n",
       "      <td>...</td>\n",
       "      <td>...</td>\n",
       "      <td>...</td>\n",
       "    </tr>\n",
       "    <tr>\n",
       "      <th>950</th>\n",
       "      <td>2018.0</td>\n",
       "      <td>Pat Valaika</td>\n",
       "      <td>Rockies</td>\n",
       "      <td>25.0</td>\n",
       "      <td>68.0</td>\n",
       "      <td>122.0</td>\n",
       "      <td>133.0</td>\n",
       "      <td>19.0</td>\n",
       "      <td>12.0</td>\n",
       "      <td>5.0</td>\n",
       "      <td>...</td>\n",
       "      <td>pat</td>\n",
       "      <td>1813</td>\n",
       "      <td>valaika</td>\n",
       "      <td>pat</td>\n",
       "      <td>642162</td>\n",
       "      <td>valap001</td>\n",
       "      <td>valaipa01</td>\n",
       "      <td>14885</td>\n",
       "      <td>2016.0</td>\n",
       "      <td>2019.0</td>\n",
       "    </tr>\n",
       "    <tr>\n",
       "      <th>951</th>\n",
       "      <td>2018.0</td>\n",
       "      <td>Yangervis Solarte</td>\n",
       "      <td>Blue Jays</td>\n",
       "      <td>30.0</td>\n",
       "      <td>122.0</td>\n",
       "      <td>468.0</td>\n",
       "      <td>506.0</td>\n",
       "      <td>106.0</td>\n",
       "      <td>69.0</td>\n",
       "      <td>20.0</td>\n",
       "      <td>...</td>\n",
       "      <td>yangervis</td>\n",
       "      <td>1660</td>\n",
       "      <td>solarte</td>\n",
       "      <td>yangervis</td>\n",
       "      <td>500208</td>\n",
       "      <td>solay001</td>\n",
       "      <td>solarya01</td>\n",
       "      <td>5352</td>\n",
       "      <td>2014.0</td>\n",
       "      <td>2019.0</td>\n",
       "    </tr>\n",
       "    <tr>\n",
       "      <th>952</th>\n",
       "      <td>2018.0</td>\n",
       "      <td>Magneuris Sierra</td>\n",
       "      <td>Marlins</td>\n",
       "      <td>22.0</td>\n",
       "      <td>54.0</td>\n",
       "      <td>147.0</td>\n",
       "      <td>156.0</td>\n",
       "      <td>28.0</td>\n",
       "      <td>25.0</td>\n",
       "      <td>3.0</td>\n",
       "      <td>...</td>\n",
       "      <td>magneuris</td>\n",
       "      <td>1615</td>\n",
       "      <td>sierra</td>\n",
       "      <td>magneuris</td>\n",
       "      <td>642423</td>\n",
       "      <td>sierm002</td>\n",
       "      <td>sierrma01</td>\n",
       "      <td>17023</td>\n",
       "      <td>2017.0</td>\n",
       "      <td>2019.0</td>\n",
       "    </tr>\n",
       "    <tr>\n",
       "      <th>953</th>\n",
       "      <td>2018.0</td>\n",
       "      <td>Victor Martinez</td>\n",
       "      <td>Tigers</td>\n",
       "      <td>39.0</td>\n",
       "      <td>133.0</td>\n",
       "      <td>467.0</td>\n",
       "      <td>508.0</td>\n",
       "      <td>117.0</td>\n",
       "      <td>87.0</td>\n",
       "      <td>21.0</td>\n",
       "      <td>...</td>\n",
       "      <td>victor</td>\n",
       "      <td>1100</td>\n",
       "      <td>martinez</td>\n",
       "      <td>victor</td>\n",
       "      <td>400121</td>\n",
       "      <td>martv001</td>\n",
       "      <td>martivi01</td>\n",
       "      <td>393</td>\n",
       "      <td>2002.0</td>\n",
       "      <td>2018.0</td>\n",
       "    </tr>\n",
       "    <tr>\n",
       "      <th>954</th>\n",
       "      <td>2018.0</td>\n",
       "      <td>Chris Davis</td>\n",
       "      <td>Orioles</td>\n",
       "      <td>32.0</td>\n",
       "      <td>128.0</td>\n",
       "      <td>470.0</td>\n",
       "      <td>522.0</td>\n",
       "      <td>79.0</td>\n",
       "      <td>51.0</td>\n",
       "      <td>12.0</td>\n",
       "      <td>...</td>\n",
       "      <td>chris</td>\n",
       "      <td>411</td>\n",
       "      <td>davis</td>\n",
       "      <td>chris</td>\n",
       "      <td>448801</td>\n",
       "      <td>davic003</td>\n",
       "      <td>davisch02</td>\n",
       "      <td>9272</td>\n",
       "      <td>2008.0</td>\n",
       "      <td>2019.0</td>\n",
       "    </tr>\n",
       "  </tbody>\n",
       "</table>\n",
       "<p>955 rows × 298 columns</p>\n",
       "</div>"
      ],
      "text/plain": [
       "     Season               Name       Team   Age      G     AB     PA      H  \\\n",
       "0    2018.0       Mookie Betts    Red Sox  25.0  136.0  520.0  614.0  180.0   \n",
       "1    2018.0         Mike Trout     Angels  26.0  140.0  471.0  608.0  147.0   \n",
       "2    2018.0       Jose Ramirez    Indians  25.0  157.0  578.0  698.0  156.0   \n",
       "3    2018.0        Ryder Jones     Giants  24.0    5.0    8.0    8.0    3.0   \n",
       "4    2018.0       Jose Ramirez    Indians  25.0  157.0  578.0  698.0  156.0   \n",
       "..      ...                ...        ...   ...    ...    ...    ...    ...   \n",
       "950  2018.0        Pat Valaika    Rockies  25.0   68.0  122.0  133.0   19.0   \n",
       "951  2018.0  Yangervis Solarte  Blue Jays  30.0  122.0  468.0  506.0  106.0   \n",
       "952  2018.0   Magneuris Sierra    Marlins  22.0   54.0  147.0  156.0   28.0   \n",
       "953  2018.0    Victor Martinez     Tigers  39.0  133.0  467.0  508.0  117.0   \n",
       "954  2018.0        Chris Davis    Orioles  32.0  128.0  470.0  522.0   79.0   \n",
       "\n",
       "       1B    2B  ...  first_name  index_y  name_last  name_first  key_mlbam  \\\n",
       "0    96.0  47.0  ...      mookie      166      betts      mookie     605141   \n",
       "1    80.0  24.0  ...        mike     1789      trout        mike     545361   \n",
       "2    75.0  38.0  ...        jose     1417    ramirez        jose     542432   \n",
       "3     1.0   0.0  ...       ryder      903      jones       ryder     624507   \n",
       "4    75.0  38.0  ...        jose     1418    ramirez        jose     608070   \n",
       "..    ...   ...  ...         ...      ...        ...         ...        ...   \n",
       "950  12.0   5.0  ...         pat     1813    valaika         pat     642162   \n",
       "951  69.0  20.0  ...   yangervis     1660    solarte   yangervis     500208   \n",
       "952  25.0   3.0  ...   magneuris     1615     sierra   magneuris     642423   \n",
       "953  87.0  21.0  ...      victor     1100   martinez      victor     400121   \n",
       "954  51.0  12.0  ...       chris      411      davis       chris     448801   \n",
       "\n",
       "     key_retro  key_bbref  key_fangraphs  mlb_played_first  mlb_played_last  \n",
       "0     bettm001  bettsmo01          13611            2014.0           2019.0  \n",
       "1     troum001  troutmi01          10155            2011.0           2019.0  \n",
       "2     ramij004  ramirjo02          10171            2014.0           2018.0  \n",
       "3     joner005  jonesry01          15982            2017.0           2018.0  \n",
       "4     ramij003  ramirjo01          13510            2013.0           2019.0  \n",
       "..         ...        ...            ...               ...              ...  \n",
       "950   valap001  valaipa01          14885            2016.0           2019.0  \n",
       "951   solay001  solarya01           5352            2014.0           2019.0  \n",
       "952   sierm002  sierrma01          17023            2017.0           2019.0  \n",
       "953   martv001  martivi01            393            2002.0           2018.0  \n",
       "954   davic003  davisch02           9272            2008.0           2019.0  \n",
       "\n",
       "[955 rows x 298 columns]"
      ]
     },
     "execution_count": 86,
     "metadata": {},
     "output_type": "execute_result"
    },
    {
     "data": {
      "application/javascript": [
       "\n",
       "            setTimeout(function() {\n",
       "                var nbb_cell_id = 86;\n",
       "                var nbb_unformatted_code = \"sql_query = \\\"\\\"\\\"\\nSELECT * FROM batting_stats18_wpid;\\n\\\"\\\"\\\"\\n\\nprint(sql_query)\\n\\ndf_batting = pd.read_sql_query(sql_query, con)\\ndf_batting.drop([\\\"index\\\", \\\"index_x\\\"], axis=1)\";\n",
       "                var nbb_formatted_code = \"sql_query = \\\"\\\"\\\"\\nSELECT * FROM batting_stats18_wpid;\\n\\\"\\\"\\\"\\n\\nprint(sql_query)\\n\\ndf_batting = pd.read_sql_query(sql_query, con)\\ndf_batting.drop([\\\"index\\\", \\\"index_x\\\"], axis=1)\";\n",
       "                var nbb_cells = Jupyter.notebook.get_cells();\n",
       "                for (var i = 0; i < nbb_cells.length; ++i) {\n",
       "                    if (nbb_cells[i].input_prompt_number == nbb_cell_id) {\n",
       "                        if (nbb_cells[i].get_text() == nbb_unformatted_code) {\n",
       "                             nbb_cells[i].set_text(nbb_formatted_code);\n",
       "                        }\n",
       "                        break;\n",
       "                    }\n",
       "                }\n",
       "            }, 500);\n",
       "            "
      ],
      "text/plain": [
       "<IPython.core.display.Javascript object>"
      ]
     },
     "metadata": {},
     "output_type": "display_data"
    }
   ],
   "source": [
    "sql_query = \"\"\"\n",
    "SELECT * FROM batting_stats18_wpid;\n",
    "\"\"\"\n",
    "\n",
    "print(sql_query)\n",
    "\n",
    "df_batting = pd.read_sql_query(sql_query, con)\n",
    "df_batting.drop([\"index\", \"index_x\"], axis=1)"
   ]
  },
  {
   "cell_type": "code",
   "execution_count": 35,
   "metadata": {
    "ExecuteTime": {
     "end_time": "2020-02-03T05:05:14.601411Z",
     "start_time": "2020-02-03T05:04:42.038448Z"
    }
   },
   "outputs": [
    {
     "data": {
      "application/javascript": [
       "\n",
       "            setTimeout(function() {\n",
       "                var nbb_cell_id = 35;\n",
       "                var nbb_unformatted_code = \"# Aggregate over 2015-2019\\n\\n# 200 PA, aggregated\\ndf_batting1519agg_200pa = batting_stats(2015, 2019, qual=200, ind=0)\\n# df_temp = statcast_batter('2015-04-05', '2015-10-04')\";\n",
       "                var nbb_formatted_code = \"# Aggregate over 2015-2019\\n\\n# 200 PA, aggregated\\ndf_batting1519agg_200pa = batting_stats(2015, 2019, qual=200, ind=0)\\n# df_temp = statcast_batter('2015-04-05', '2015-10-04')\";\n",
       "                var nbb_cells = Jupyter.notebook.get_cells();\n",
       "                for (var i = 0; i < nbb_cells.length; ++i) {\n",
       "                    if (nbb_cells[i].input_prompt_number == nbb_cell_id) {\n",
       "                        if (nbb_cells[i].get_text() == nbb_unformatted_code) {\n",
       "                             nbb_cells[i].set_text(nbb_formatted_code);\n",
       "                        }\n",
       "                        break;\n",
       "                    }\n",
       "                }\n",
       "            }, 500);\n",
       "            "
      ],
      "text/plain": [
       "<IPython.core.display.Javascript object>"
      ]
     },
     "metadata": {},
     "output_type": "display_data"
    }
   ],
   "source": [
    "# Aggregate over 2015-2019 - can't use this until I change column headers and put on database\n",
    "\n",
    "# 200 PA, aggregated\n",
    "# df_batting1519agg_200pa = batting_stats(2015, 2019, qual=200, ind=0)\n",
    "# df_temp = statcast_batter('2015-04-05', '2015-10-04')"
   ]
  },
  {
   "cell_type": "code",
   "execution_count": 36,
   "metadata": {
    "ExecuteTime": {
     "end_time": "2020-02-03T05:05:16.921682Z",
     "start_time": "2020-02-03T05:05:16.884161Z"
    }
   },
   "outputs": [
    {
     "data": {
      "text/html": [
       "<div>\n",
       "<style scoped>\n",
       "    .dataframe tbody tr th:only-of-type {\n",
       "        vertical-align: middle;\n",
       "    }\n",
       "\n",
       "    .dataframe tbody tr th {\n",
       "        vertical-align: top;\n",
       "    }\n",
       "\n",
       "    .dataframe thead th {\n",
       "        text-align: right;\n",
       "    }\n",
       "</style>\n",
       "<table border=\"1\" class=\"dataframe\">\n",
       "  <thead>\n",
       "    <tr style=\"text-align: right;\">\n",
       "      <th></th>\n",
       "      <th>Name</th>\n",
       "      <th>Team</th>\n",
       "      <th>Age</th>\n",
       "      <th>G</th>\n",
       "      <th>AB</th>\n",
       "      <th>PA</th>\n",
       "      <th>H</th>\n",
       "      <th>1B</th>\n",
       "      <th>2B</th>\n",
       "      <th>3B</th>\n",
       "      <th>...</th>\n",
       "      <th>wSL/C (pi)</th>\n",
       "      <th>wXX/C (pi)</th>\n",
       "      <th>O-Swing% (pi)</th>\n",
       "      <th>Z-Swing% (pi)</th>\n",
       "      <th>Swing% (pi)</th>\n",
       "      <th>O-Contact% (pi)</th>\n",
       "      <th>Z-Contact% (pi)</th>\n",
       "      <th>Contact% (pi)</th>\n",
       "      <th>Zone% (pi)</th>\n",
       "      <th>Pace (pi)</th>\n",
       "    </tr>\n",
       "  </thead>\n",
       "  <tbody>\n",
       "    <tr>\n",
       "      <th>1</th>\n",
       "      <td>Mike Trout</td>\n",
       "      <td>Angels</td>\n",
       "      <td>25.0</td>\n",
       "      <td>706.0</td>\n",
       "      <td>2467.0</td>\n",
       "      <td>3078.0</td>\n",
       "      <td>752.0</td>\n",
       "      <td>405.0</td>\n",
       "      <td>140.0</td>\n",
       "      <td>20.0</td>\n",
       "      <td>...</td>\n",
       "      <td>1.31</td>\n",
       "      <td>-3.38</td>\n",
       "      <td>0.218</td>\n",
       "      <td>0.558</td>\n",
       "      <td>0.379</td>\n",
       "      <td>0.680</td>\n",
       "      <td>0.881</td>\n",
       "      <td>0.820</td>\n",
       "      <td>0.473</td>\n",
       "      <td>23.4</td>\n",
       "    </tr>\n",
       "    <tr>\n",
       "      <th>24</th>\n",
       "      <td>Mookie Betts</td>\n",
       "      <td>Red Sox</td>\n",
       "      <td>24.0</td>\n",
       "      <td>742.0</td>\n",
       "      <td>3014.0</td>\n",
       "      <td>3416.0</td>\n",
       "      <td>910.0</td>\n",
       "      <td>534.0</td>\n",
       "      <td>217.0</td>\n",
       "      <td>25.0</td>\n",
       "      <td>...</td>\n",
       "      <td>1.31</td>\n",
       "      <td>-5.50</td>\n",
       "      <td>0.228</td>\n",
       "      <td>0.540</td>\n",
       "      <td>0.383</td>\n",
       "      <td>0.701</td>\n",
       "      <td>0.934</td>\n",
       "      <td>0.865</td>\n",
       "      <td>0.498</td>\n",
       "      <td>22.6</td>\n",
       "    </tr>\n",
       "    <tr>\n",
       "      <th>19</th>\n",
       "      <td>Kris Bryant</td>\n",
       "      <td>Cubs</td>\n",
       "      <td>25.0</td>\n",
       "      <td>706.0</td>\n",
       "      <td>2643.0</td>\n",
       "      <td>3105.0</td>\n",
       "      <td>751.0</td>\n",
       "      <td>430.0</td>\n",
       "      <td>167.0</td>\n",
       "      <td>16.0</td>\n",
       "      <td>...</td>\n",
       "      <td>0.68</td>\n",
       "      <td>141.09</td>\n",
       "      <td>0.290</td>\n",
       "      <td>0.722</td>\n",
       "      <td>0.480</td>\n",
       "      <td>0.529</td>\n",
       "      <td>0.832</td>\n",
       "      <td>0.729</td>\n",
       "      <td>0.439</td>\n",
       "      <td>24.6</td>\n",
       "    </tr>\n",
       "    <tr>\n",
       "      <th>18</th>\n",
       "      <td>Christian Yelich</td>\n",
       "      <td>- - -</td>\n",
       "      <td>25.0</td>\n",
       "      <td>714.0</td>\n",
       "      <td>2719.0</td>\n",
       "      <td>3110.0</td>\n",
       "      <td>833.0</td>\n",
       "      <td>523.0</td>\n",
       "      <td>167.0</td>\n",
       "      <td>17.0</td>\n",
       "      <td>...</td>\n",
       "      <td>0.95</td>\n",
       "      <td>-70.25</td>\n",
       "      <td>0.264</td>\n",
       "      <td>0.626</td>\n",
       "      <td>0.429</td>\n",
       "      <td>0.566</td>\n",
       "      <td>0.883</td>\n",
       "      <td>0.777</td>\n",
       "      <td>0.455</td>\n",
       "      <td>23.9</td>\n",
       "    </tr>\n",
       "    <tr>\n",
       "      <th>9</th>\n",
       "      <td>Josh Donaldson</td>\n",
       "      <td>- - -</td>\n",
       "      <td>31.0</td>\n",
       "      <td>633.0</td>\n",
       "      <td>2348.0</td>\n",
       "      <td>2785.0</td>\n",
       "      <td>648.0</td>\n",
       "      <td>344.0</td>\n",
       "      <td>141.0</td>\n",
       "      <td>7.0</td>\n",
       "      <td>...</td>\n",
       "      <td>0.06</td>\n",
       "      <td>-0.65</td>\n",
       "      <td>0.249</td>\n",
       "      <td>0.652</td>\n",
       "      <td>0.434</td>\n",
       "      <td>0.589</td>\n",
       "      <td>0.812</td>\n",
       "      <td>0.743</td>\n",
       "      <td>0.459</td>\n",
       "      <td>24.3</td>\n",
       "    </tr>\n",
       "  </tbody>\n",
       "</table>\n",
       "<p>5 rows × 286 columns</p>\n",
       "</div>"
      ],
      "text/plain": [
       "                Name     Team   Age      G      AB      PA      H     1B  \\\n",
       "1         Mike Trout   Angels  25.0  706.0  2467.0  3078.0  752.0  405.0   \n",
       "24      Mookie Betts  Red Sox  24.0  742.0  3014.0  3416.0  910.0  534.0   \n",
       "19       Kris Bryant     Cubs  25.0  706.0  2643.0  3105.0  751.0  430.0   \n",
       "18  Christian Yelich    - - -  25.0  714.0  2719.0  3110.0  833.0  523.0   \n",
       "9     Josh Donaldson    - - -  31.0  633.0  2348.0  2785.0  648.0  344.0   \n",
       "\n",
       "       2B    3B  ...  wSL/C (pi)  wXX/C (pi)  O-Swing% (pi)  Z-Swing% (pi)  \\\n",
       "1   140.0  20.0  ...        1.31       -3.38          0.218          0.558   \n",
       "24  217.0  25.0  ...        1.31       -5.50          0.228          0.540   \n",
       "19  167.0  16.0  ...        0.68      141.09          0.290          0.722   \n",
       "18  167.0  17.0  ...        0.95      -70.25          0.264          0.626   \n",
       "9   141.0   7.0  ...        0.06       -0.65          0.249          0.652   \n",
       "\n",
       "    Swing% (pi)  O-Contact% (pi)  Z-Contact% (pi)  Contact% (pi)  Zone% (pi)  \\\n",
       "1         0.379            0.680            0.881          0.820       0.473   \n",
       "24        0.383            0.701            0.934          0.865       0.498   \n",
       "19        0.480            0.529            0.832          0.729       0.439   \n",
       "18        0.429            0.566            0.883          0.777       0.455   \n",
       "9         0.434            0.589            0.812          0.743       0.459   \n",
       "\n",
       "    Pace (pi)  \n",
       "1        23.4  \n",
       "24       22.6  \n",
       "19       24.6  \n",
       "18       23.9  \n",
       "9        24.3  \n",
       "\n",
       "[5 rows x 286 columns]"
      ]
     },
     "execution_count": 36,
     "metadata": {},
     "output_type": "execute_result"
    },
    {
     "data": {
      "application/javascript": [
       "\n",
       "            setTimeout(function() {\n",
       "                var nbb_cell_id = 36;\n",
       "                var nbb_unformatted_code = \"df_batting1519agg_200pa.head()\";\n",
       "                var nbb_formatted_code = \"df_batting1519agg_200pa.head()\";\n",
       "                var nbb_cells = Jupyter.notebook.get_cells();\n",
       "                for (var i = 0; i < nbb_cells.length; ++i) {\n",
       "                    if (nbb_cells[i].input_prompt_number == nbb_cell_id) {\n",
       "                        if (nbb_cells[i].get_text() == nbb_unformatted_code) {\n",
       "                             nbb_cells[i].set_text(nbb_formatted_code);\n",
       "                        }\n",
       "                        break;\n",
       "                    }\n",
       "                }\n",
       "            }, 500);\n",
       "            "
      ],
      "text/plain": [
       "<IPython.core.display.Javascript object>"
      ]
     },
     "metadata": {},
     "output_type": "display_data"
    }
   ],
   "source": [
    "# df_batting1519agg_200pa.head()"
   ]
  },
  {
   "cell_type": "code",
   "execution_count": 37,
   "metadata": {
    "ExecuteTime": {
     "end_time": "2020-02-03T05:05:21.689175Z",
     "start_time": "2020-02-03T05:05:21.680121Z"
    }
   },
   "outputs": [
    {
     "data": {
      "text/plain": [
       "(748, 286)"
      ]
     },
     "execution_count": 37,
     "metadata": {},
     "output_type": "execute_result"
    },
    {
     "data": {
      "application/javascript": [
       "\n",
       "            setTimeout(function() {\n",
       "                var nbb_cell_id = 37;\n",
       "                var nbb_unformatted_code = \"df_batting1519agg_200pa.shape\";\n",
       "                var nbb_formatted_code = \"df_batting1519agg_200pa.shape\";\n",
       "                var nbb_cells = Jupyter.notebook.get_cells();\n",
       "                for (var i = 0; i < nbb_cells.length; ++i) {\n",
       "                    if (nbb_cells[i].input_prompt_number == nbb_cell_id) {\n",
       "                        if (nbb_cells[i].get_text() == nbb_unformatted_code) {\n",
       "                             nbb_cells[i].set_text(nbb_formatted_code);\n",
       "                        }\n",
       "                        break;\n",
       "                    }\n",
       "                }\n",
       "            }, 500);\n",
       "            "
      ],
      "text/plain": [
       "<IPython.core.display.Javascript object>"
      ]
     },
     "metadata": {},
     "output_type": "display_data"
    }
   ],
   "source": [
    "# df_batting1519agg_200pa.shape"
   ]
  },
  {
   "cell_type": "code",
   "execution_count": 38,
   "metadata": {
    "ExecuteTime": {
     "end_time": "2020-02-03T05:05:27.567093Z",
     "start_time": "2020-02-03T05:05:27.495914Z"
    },
    "code_folding": []
   },
   "outputs": [
    {
     "data": {
      "application/javascript": [
       "\n",
       "            setTimeout(function() {\n",
       "                var nbb_cell_id = 38;\n",
       "                var nbb_unformatted_code = \"first_name_list = list()\\nlast_name_list = list()\\n\\nfor name in df_batting1519agg_200pa[\\\"Name\\\"]:\\n    name_list = name.split()\\n    if len(name_list) > 2:\\n        # print(name_list)\\n        if (name_list[2] is \\\"Jr.\\\") or (name_list[2] is \\\"II\\\"):\\n            this_first_name = name_list[0]\\n            this_last_name = name_list[1]\\n        elif \\\"Kang\\\" in name_list:\\n            this_first_name = name_list[0] + \\\" \\\" + name_list[1]\\n            this_last_name = name_list[2]\\n        elif \\\"Taylor\\\" in name_list:\\n            this_first_name = name_list[0]\\n            this_last_name = name_list[1]\\n        elif \\\"Stella\\\" in name_list:\\n            this_first_name = name_list[0]\\n            this_last_name = name_list[1] + \\\" \\\" + name_list[2]\\n        elif \\\"Murphy\\\" in name_list:\\n            this_first_name = name_list[0] + \\\" \\\" + name_list[1]\\n            this_last_name = name_list[2]\\n        elif \\\"Jesus\\\" in name_list:\\n            this_first_name = name_list[0]\\n            this_last_name = name_list[1] + \\\" \\\" + name_list[2]\\n        elif \\\"Slyke\\\" in name_list:\\n            this_first_name = name_list[0]\\n            this_last_name = name_list[1] + \\\" \\\" + name_list[2]\\n        elif \\\"Aza\\\" in name_list:\\n            this_first_name = name_list[0]\\n            this_last_name = name_list[1] + \\\" \\\" + name_list[2]\\n        elif \\\"Kim\\\" in name_list:\\n            this_first_name = name_list[0] + \\\" \\\" + name_list[1]\\n            this_last_name = name_list[2]\\n    else:\\n        this_first_name = name_list[0]\\n        this_last_name = name_list[1]\\n\\n    first_name_list.append(this_first_name.lower())\\n    last_name_list.append(this_last_name.lower())\";\n",
       "                var nbb_formatted_code = \"first_name_list = list()\\nlast_name_list = list()\\n\\nfor name in df_batting1519agg_200pa[\\\"Name\\\"]:\\n    name_list = name.split()\\n    if len(name_list) > 2:\\n        # print(name_list)\\n        if (name_list[2] is \\\"Jr.\\\") or (name_list[2] is \\\"II\\\"):\\n            this_first_name = name_list[0]\\n            this_last_name = name_list[1]\\n        elif \\\"Kang\\\" in name_list:\\n            this_first_name = name_list[0] + \\\" \\\" + name_list[1]\\n            this_last_name = name_list[2]\\n        elif \\\"Taylor\\\" in name_list:\\n            this_first_name = name_list[0]\\n            this_last_name = name_list[1]\\n        elif \\\"Stella\\\" in name_list:\\n            this_first_name = name_list[0]\\n            this_last_name = name_list[1] + \\\" \\\" + name_list[2]\\n        elif \\\"Murphy\\\" in name_list:\\n            this_first_name = name_list[0] + \\\" \\\" + name_list[1]\\n            this_last_name = name_list[2]\\n        elif \\\"Jesus\\\" in name_list:\\n            this_first_name = name_list[0]\\n            this_last_name = name_list[1] + \\\" \\\" + name_list[2]\\n        elif \\\"Slyke\\\" in name_list:\\n            this_first_name = name_list[0]\\n            this_last_name = name_list[1] + \\\" \\\" + name_list[2]\\n        elif \\\"Aza\\\" in name_list:\\n            this_first_name = name_list[0]\\n            this_last_name = name_list[1] + \\\" \\\" + name_list[2]\\n        elif \\\"Kim\\\" in name_list:\\n            this_first_name = name_list[0] + \\\" \\\" + name_list[1]\\n            this_last_name = name_list[2]\\n    else:\\n        this_first_name = name_list[0]\\n        this_last_name = name_list[1]\\n\\n    first_name_list.append(this_first_name.lower())\\n    last_name_list.append(this_last_name.lower())\";\n",
       "                var nbb_cells = Jupyter.notebook.get_cells();\n",
       "                for (var i = 0; i < nbb_cells.length; ++i) {\n",
       "                    if (nbb_cells[i].input_prompt_number == nbb_cell_id) {\n",
       "                        if (nbb_cells[i].get_text() == nbb_unformatted_code) {\n",
       "                             nbb_cells[i].set_text(nbb_formatted_code);\n",
       "                        }\n",
       "                        break;\n",
       "                    }\n",
       "                }\n",
       "            }, 500);\n",
       "            "
      ],
      "text/plain": [
       "<IPython.core.display.Javascript object>"
      ]
     },
     "metadata": {},
     "output_type": "display_data"
    }
   ],
   "source": [
    "# first_name_list = list()\n",
    "# last_name_list = list()\n",
    "\n",
    "# for name in df_batting1519agg_200pa[\"Name\"]:\n",
    "#     name_list = name.split()\n",
    "#     if len(name_list) > 2:\n",
    "#         # print(name_list)\n",
    "#         if (name_list[2] is \"Jr.\") or (name_list[2] is \"II\"):\n",
    "#             this_first_name = name_list[0]\n",
    "#             this_last_name = name_list[1]\n",
    "#         elif \"Kang\" in name_list:\n",
    "#             this_first_name = name_list[0] + \" \" + name_list[1]\n",
    "#             this_last_name = name_list[2]\n",
    "#         elif \"Taylor\" in name_list:\n",
    "#             this_first_name = name_list[0]\n",
    "#             this_last_name = name_list[1]\n",
    "#         elif \"Stella\" in name_list:\n",
    "#             this_first_name = name_list[0]\n",
    "#             this_last_name = name_list[1] + \" \" + name_list[2]\n",
    "#         elif \"Murphy\" in name_list:\n",
    "#             this_first_name = name_list[0] + \" \" + name_list[1]\n",
    "#             this_last_name = name_list[2]\n",
    "#         elif \"Jesus\" in name_list:\n",
    "#             this_first_name = name_list[0]\n",
    "#             this_last_name = name_list[1] + \" \" + name_list[2]\n",
    "#         elif \"Slyke\" in name_list:\n",
    "#             this_first_name = name_list[0]\n",
    "#             this_last_name = name_list[1] + \" \" + name_list[2]\n",
    "#         elif \"Aza\" in name_list:\n",
    "#             this_first_name = name_list[0]\n",
    "#             this_last_name = name_list[1] + \" \" + name_list[2]\n",
    "#         elif \"Kim\" in name_list:\n",
    "#             this_first_name = name_list[0] + \" \" + name_list[1]\n",
    "#             this_last_name = name_list[2]\n",
    "#     else:\n",
    "#         this_first_name = name_list[0]\n",
    "#         this_last_name = name_list[1]\n",
    "\n",
    "#     first_name_list.append(this_first_name.lower())\n",
    "#     last_name_list.append(this_last_name.lower())"
   ]
  },
  {
   "cell_type": "code",
   "execution_count": 39,
   "metadata": {
    "ExecuteTime": {
     "end_time": "2020-02-03T05:05:29.443572Z",
     "start_time": "2020-02-03T05:05:29.425035Z"
    }
   },
   "outputs": [
    {
     "data": {
      "application/javascript": [
       "\n",
       "            setTimeout(function() {\n",
       "                var nbb_cell_id = 39;\n",
       "                var nbb_unformatted_code = \"df_batting1519agg_200pa[\\\"firstname4pid\\\"] = first_name_list\\ndf_batting1519agg_200pa[\\\"lastname4pid\\\"] = last_name_list\";\n",
       "                var nbb_formatted_code = \"df_batting1519agg_200pa[\\\"firstname4pid\\\"] = first_name_list\\ndf_batting1519agg_200pa[\\\"lastname4pid\\\"] = last_name_list\";\n",
       "                var nbb_cells = Jupyter.notebook.get_cells();\n",
       "                for (var i = 0; i < nbb_cells.length; ++i) {\n",
       "                    if (nbb_cells[i].input_prompt_number == nbb_cell_id) {\n",
       "                        if (nbb_cells[i].get_text() == nbb_unformatted_code) {\n",
       "                             nbb_cells[i].set_text(nbb_formatted_code);\n",
       "                        }\n",
       "                        break;\n",
       "                    }\n",
       "                }\n",
       "            }, 500);\n",
       "            "
      ],
      "text/plain": [
       "<IPython.core.display.Javascript object>"
      ]
     },
     "metadata": {},
     "output_type": "display_data"
    }
   ],
   "source": [
    "# df_batting1519agg_200pa[\"firstname4pid\"] = first_name_list\n",
    "# df_batting1519agg_200pa[\"lastname4pid\"] = last_name_list"
   ]
  },
  {
   "cell_type": "code",
   "execution_count": 40,
   "metadata": {
    "ExecuteTime": {
     "end_time": "2020-02-03T05:05:35.523392Z",
     "start_time": "2020-02-03T05:05:35.496978Z"
    }
   },
   "outputs": [
    {
     "data": {
      "application/javascript": [
       "\n",
       "            setTimeout(function() {\n",
       "                var nbb_cell_id = 40;\n",
       "                var nbb_unformatted_code = \"df_batting1519agg_200pa_onlywpid = pd.merge(\\n    df_batting1519agg_200pa,\\n    df_player_id,\\n    left_on=[\\\"lastname4pid\\\", \\\"firstname4pid\\\"],\\n    right_on=[\\\"name_last\\\", \\\"name_first\\\"],\\n)\";\n",
       "                var nbb_formatted_code = \"df_batting1519agg_200pa_onlywpid = pd.merge(\\n    df_batting1519agg_200pa,\\n    df_player_id,\\n    left_on=[\\\"lastname4pid\\\", \\\"firstname4pid\\\"],\\n    right_on=[\\\"name_last\\\", \\\"name_first\\\"],\\n)\";\n",
       "                var nbb_cells = Jupyter.notebook.get_cells();\n",
       "                for (var i = 0; i < nbb_cells.length; ++i) {\n",
       "                    if (nbb_cells[i].input_prompt_number == nbb_cell_id) {\n",
       "                        if (nbb_cells[i].get_text() == nbb_unformatted_code) {\n",
       "                             nbb_cells[i].set_text(nbb_formatted_code);\n",
       "                        }\n",
       "                        break;\n",
       "                    }\n",
       "                }\n",
       "            }, 500);\n",
       "            "
      ],
      "text/plain": [
       "<IPython.core.display.Javascript object>"
      ]
     },
     "metadata": {},
     "output_type": "display_data"
    }
   ],
   "source": [
    "# df_batting1519agg_200pa_onlywpid = pd.merge(\n",
    "#     df_batting1519agg_200pa,\n",
    "#     df_player_id,\n",
    "#     left_on=[\"lastname4pid\", \"firstname4pid\"],\n",
    "#     right_on=[\"name_last\", \"name_first\"],\n",
    "# )"
   ]
  },
  {
   "cell_type": "code",
   "execution_count": 41,
   "metadata": {
    "ExecuteTime": {
     "end_time": "2020-02-03T05:05:43.881965Z",
     "start_time": "2020-02-03T05:05:43.872796Z"
    }
   },
   "outputs": [
    {
     "data": {
      "text/plain": [
       "(649, 297)"
      ]
     },
     "execution_count": 41,
     "metadata": {},
     "output_type": "execute_result"
    },
    {
     "data": {
      "application/javascript": [
       "\n",
       "            setTimeout(function() {\n",
       "                var nbb_cell_id = 41;\n",
       "                var nbb_unformatted_code = \"df_batting1519agg_200pa_onlywpid.shape\";\n",
       "                var nbb_formatted_code = \"df_batting1519agg_200pa_onlywpid.shape\";\n",
       "                var nbb_cells = Jupyter.notebook.get_cells();\n",
       "                for (var i = 0; i < nbb_cells.length; ++i) {\n",
       "                    if (nbb_cells[i].input_prompt_number == nbb_cell_id) {\n",
       "                        if (nbb_cells[i].get_text() == nbb_unformatted_code) {\n",
       "                             nbb_cells[i].set_text(nbb_formatted_code);\n",
       "                        }\n",
       "                        break;\n",
       "                    }\n",
       "                }\n",
       "            }, 500);\n",
       "            "
      ],
      "text/plain": [
       "<IPython.core.display.Javascript object>"
      ]
     },
     "metadata": {},
     "output_type": "display_data"
    }
   ],
   "source": [
    "# df_batting1519agg_200pa_onlywpid.shape"
   ]
  },
  {
   "cell_type": "code",
   "execution_count": 42,
   "metadata": {
    "ExecuteTime": {
     "end_time": "2020-02-03T05:05:45.428586Z",
     "start_time": "2020-02-03T05:05:45.391188Z"
    }
   },
   "outputs": [
    {
     "data": {
      "text/html": [
       "<div>\n",
       "<style scoped>\n",
       "    .dataframe tbody tr th:only-of-type {\n",
       "        vertical-align: middle;\n",
       "    }\n",
       "\n",
       "    .dataframe tbody tr th {\n",
       "        vertical-align: top;\n",
       "    }\n",
       "\n",
       "    .dataframe thead th {\n",
       "        text-align: right;\n",
       "    }\n",
       "</style>\n",
       "<table border=\"1\" class=\"dataframe\">\n",
       "  <thead>\n",
       "    <tr style=\"text-align: right;\">\n",
       "      <th></th>\n",
       "      <th>Name</th>\n",
       "      <th>Team</th>\n",
       "      <th>Age</th>\n",
       "      <th>G</th>\n",
       "      <th>AB</th>\n",
       "      <th>PA</th>\n",
       "      <th>H</th>\n",
       "      <th>1B</th>\n",
       "      <th>2B</th>\n",
       "      <th>3B</th>\n",
       "      <th>...</th>\n",
       "      <th>lastname4pid</th>\n",
       "      <th>index</th>\n",
       "      <th>name_last</th>\n",
       "      <th>name_first</th>\n",
       "      <th>key_mlbam</th>\n",
       "      <th>key_retro</th>\n",
       "      <th>key_bbref</th>\n",
       "      <th>key_fangraphs</th>\n",
       "      <th>mlb_played_first</th>\n",
       "      <th>mlb_played_last</th>\n",
       "    </tr>\n",
       "  </thead>\n",
       "  <tbody>\n",
       "    <tr>\n",
       "      <th>0</th>\n",
       "      <td>Mike Trout</td>\n",
       "      <td>Angels</td>\n",
       "      <td>25.0</td>\n",
       "      <td>706.0</td>\n",
       "      <td>2467.0</td>\n",
       "      <td>3078.0</td>\n",
       "      <td>752.0</td>\n",
       "      <td>405.0</td>\n",
       "      <td>140.0</td>\n",
       "      <td>20.0</td>\n",
       "      <td>...</td>\n",
       "      <td>trout</td>\n",
       "      <td>1789</td>\n",
       "      <td>trout</td>\n",
       "      <td>mike</td>\n",
       "      <td>545361</td>\n",
       "      <td>troum001</td>\n",
       "      <td>troutmi01</td>\n",
       "      <td>10155</td>\n",
       "      <td>2011.0</td>\n",
       "      <td>2019.0</td>\n",
       "    </tr>\n",
       "    <tr>\n",
       "      <th>1</th>\n",
       "      <td>Mookie Betts</td>\n",
       "      <td>Red Sox</td>\n",
       "      <td>24.0</td>\n",
       "      <td>742.0</td>\n",
       "      <td>3014.0</td>\n",
       "      <td>3416.0</td>\n",
       "      <td>910.0</td>\n",
       "      <td>534.0</td>\n",
       "      <td>217.0</td>\n",
       "      <td>25.0</td>\n",
       "      <td>...</td>\n",
       "      <td>betts</td>\n",
       "      <td>166</td>\n",
       "      <td>betts</td>\n",
       "      <td>mookie</td>\n",
       "      <td>605141</td>\n",
       "      <td>bettm001</td>\n",
       "      <td>bettsmo01</td>\n",
       "      <td>13611</td>\n",
       "      <td>2014.0</td>\n",
       "      <td>2019.0</td>\n",
       "    </tr>\n",
       "    <tr>\n",
       "      <th>2</th>\n",
       "      <td>Kris Bryant</td>\n",
       "      <td>Cubs</td>\n",
       "      <td>25.0</td>\n",
       "      <td>706.0</td>\n",
       "      <td>2643.0</td>\n",
       "      <td>3105.0</td>\n",
       "      <td>751.0</td>\n",
       "      <td>430.0</td>\n",
       "      <td>167.0</td>\n",
       "      <td>16.0</td>\n",
       "      <td>...</td>\n",
       "      <td>bryant</td>\n",
       "      <td>241</td>\n",
       "      <td>bryant</td>\n",
       "      <td>kris</td>\n",
       "      <td>592178</td>\n",
       "      <td>bryak001</td>\n",
       "      <td>bryankr01</td>\n",
       "      <td>15429</td>\n",
       "      <td>2015.0</td>\n",
       "      <td>2019.0</td>\n",
       "    </tr>\n",
       "    <tr>\n",
       "      <th>3</th>\n",
       "      <td>Christian Yelich</td>\n",
       "      <td>- - -</td>\n",
       "      <td>25.0</td>\n",
       "      <td>714.0</td>\n",
       "      <td>2719.0</td>\n",
       "      <td>3110.0</td>\n",
       "      <td>833.0</td>\n",
       "      <td>523.0</td>\n",
       "      <td>167.0</td>\n",
       "      <td>17.0</td>\n",
       "      <td>...</td>\n",
       "      <td>yelich</td>\n",
       "      <td>1944</td>\n",
       "      <td>yelich</td>\n",
       "      <td>christian</td>\n",
       "      <td>592885</td>\n",
       "      <td>yelic001</td>\n",
       "      <td>yelicch01</td>\n",
       "      <td>11477</td>\n",
       "      <td>2013.0</td>\n",
       "      <td>2019.0</td>\n",
       "    </tr>\n",
       "    <tr>\n",
       "      <th>4</th>\n",
       "      <td>Josh Donaldson</td>\n",
       "      <td>- - -</td>\n",
       "      <td>31.0</td>\n",
       "      <td>633.0</td>\n",
       "      <td>2348.0</td>\n",
       "      <td>2785.0</td>\n",
       "      <td>648.0</td>\n",
       "      <td>344.0</td>\n",
       "      <td>141.0</td>\n",
       "      <td>7.0</td>\n",
       "      <td>...</td>\n",
       "      <td>donaldson</td>\n",
       "      <td>470</td>\n",
       "      <td>donaldson</td>\n",
       "      <td>josh</td>\n",
       "      <td>518626</td>\n",
       "      <td>donaj001</td>\n",
       "      <td>donaljo02</td>\n",
       "      <td>5038</td>\n",
       "      <td>2010.0</td>\n",
       "      <td>2019.0</td>\n",
       "    </tr>\n",
       "  </tbody>\n",
       "</table>\n",
       "<p>5 rows × 297 columns</p>\n",
       "</div>"
      ],
      "text/plain": [
       "               Name     Team   Age      G      AB      PA      H     1B  \\\n",
       "0        Mike Trout   Angels  25.0  706.0  2467.0  3078.0  752.0  405.0   \n",
       "1      Mookie Betts  Red Sox  24.0  742.0  3014.0  3416.0  910.0  534.0   \n",
       "2       Kris Bryant     Cubs  25.0  706.0  2643.0  3105.0  751.0  430.0   \n",
       "3  Christian Yelich    - - -  25.0  714.0  2719.0  3110.0  833.0  523.0   \n",
       "4    Josh Donaldson    - - -  31.0  633.0  2348.0  2785.0  648.0  344.0   \n",
       "\n",
       "      2B    3B  ...  lastname4pid  index  name_last  name_first  key_mlbam  \\\n",
       "0  140.0  20.0  ...         trout   1789      trout        mike     545361   \n",
       "1  217.0  25.0  ...         betts    166      betts      mookie     605141   \n",
       "2  167.0  16.0  ...        bryant    241     bryant        kris     592178   \n",
       "3  167.0  17.0  ...        yelich   1944     yelich   christian     592885   \n",
       "4  141.0   7.0  ...     donaldson    470  donaldson        josh     518626   \n",
       "\n",
       "   key_retro  key_bbref  key_fangraphs  mlb_played_first  mlb_played_last  \n",
       "0   troum001  troutmi01          10155            2011.0           2019.0  \n",
       "1   bettm001  bettsmo01          13611            2014.0           2019.0  \n",
       "2   bryak001  bryankr01          15429            2015.0           2019.0  \n",
       "3   yelic001  yelicch01          11477            2013.0           2019.0  \n",
       "4   donaj001  donaljo02           5038            2010.0           2019.0  \n",
       "\n",
       "[5 rows x 297 columns]"
      ]
     },
     "execution_count": 42,
     "metadata": {},
     "output_type": "execute_result"
    },
    {
     "data": {
      "application/javascript": [
       "\n",
       "            setTimeout(function() {\n",
       "                var nbb_cell_id = 42;\n",
       "                var nbb_unformatted_code = \"df_batting1519agg_200pa_onlywpid.head()\";\n",
       "                var nbb_formatted_code = \"df_batting1519agg_200pa_onlywpid.head()\";\n",
       "                var nbb_cells = Jupyter.notebook.get_cells();\n",
       "                for (var i = 0; i < nbb_cells.length; ++i) {\n",
       "                    if (nbb_cells[i].input_prompt_number == nbb_cell_id) {\n",
       "                        if (nbb_cells[i].get_text() == nbb_unformatted_code) {\n",
       "                             nbb_cells[i].set_text(nbb_formatted_code);\n",
       "                        }\n",
       "                        break;\n",
       "                    }\n",
       "                }\n",
       "            }, 500);\n",
       "            "
      ],
      "text/plain": [
       "<IPython.core.display.Javascript object>"
      ]
     },
     "metadata": {},
     "output_type": "display_data"
    }
   ],
   "source": [
    "# df_batting1519agg_200pa_onlywpid.head()"
   ]
  },
  {
   "cell_type": "markdown",
   "metadata": {},
   "source": [
    "### Find batter names where pid is needed\n",
    "\n"
   ]
  },
  {
   "cell_type": "code",
   "execution_count": 43,
   "metadata": {
    "ExecuteTime": {
     "end_time": "2020-02-03T05:05:51.401452Z",
     "start_time": "2020-02-03T05:05:51.389116Z"
    }
   },
   "outputs": [
    {
     "data": {
      "application/javascript": [
       "\n",
       "            setTimeout(function() {\n",
       "                var nbb_cell_id = 43;\n",
       "                var nbb_unformatted_code = \"full_list = list(\\n    tuple(\\n        zip(\\n            df_batting1519agg_200pa[\\\"lastname4pid\\\"],\\n            df_batting1519agg_200pa[\\\"firstname4pid\\\"],\\n        )\\n    )\\n)\";\n",
       "                var nbb_formatted_code = \"full_list = list(\\n    tuple(\\n        zip(\\n            df_batting1519agg_200pa[\\\"lastname4pid\\\"],\\n            df_batting1519agg_200pa[\\\"firstname4pid\\\"],\\n        )\\n    )\\n)\";\n",
       "                var nbb_cells = Jupyter.notebook.get_cells();\n",
       "                for (var i = 0; i < nbb_cells.length; ++i) {\n",
       "                    if (nbb_cells[i].input_prompt_number == nbb_cell_id) {\n",
       "                        if (nbb_cells[i].get_text() == nbb_unformatted_code) {\n",
       "                             nbb_cells[i].set_text(nbb_formatted_code);\n",
       "                        }\n",
       "                        break;\n",
       "                    }\n",
       "                }\n",
       "            }, 500);\n",
       "            "
      ],
      "text/plain": [
       "<IPython.core.display.Javascript object>"
      ]
     },
     "metadata": {},
     "output_type": "display_data"
    }
   ],
   "source": [
    "# full_list = list(\n",
    "#     tuple(\n",
    "#         zip(\n",
    "#             df_batting1519agg_200pa[\"lastname4pid\"],\n",
    "#             df_batting1519agg_200pa[\"firstname4pid\"],\n",
    "#         )\n",
    "#     )\n",
    "# )"
   ]
  },
  {
   "cell_type": "code",
   "execution_count": 44,
   "metadata": {
    "ExecuteTime": {
     "end_time": "2020-02-03T05:05:53.158173Z",
     "start_time": "2020-02-03T05:05:53.145130Z"
    }
   },
   "outputs": [
    {
     "data": {
      "application/javascript": [
       "\n",
       "            setTimeout(function() {\n",
       "                var nbb_cell_id = 44;\n",
       "                var nbb_unformatted_code = \"list_w_pid = list(\\n    tuple(\\n        zip(\\n            df_batting1519agg_200pa_onlywpid[\\\"lastname4pid\\\"],\\n            df_batting1519agg_200pa_onlywpid[\\\"firstname4pid\\\"],\\n        )\\n    )\\n)\";\n",
       "                var nbb_formatted_code = \"list_w_pid = list(\\n    tuple(\\n        zip(\\n            df_batting1519agg_200pa_onlywpid[\\\"lastname4pid\\\"],\\n            df_batting1519agg_200pa_onlywpid[\\\"firstname4pid\\\"],\\n        )\\n    )\\n)\";\n",
       "                var nbb_cells = Jupyter.notebook.get_cells();\n",
       "                for (var i = 0; i < nbb_cells.length; ++i) {\n",
       "                    if (nbb_cells[i].input_prompt_number == nbb_cell_id) {\n",
       "                        if (nbb_cells[i].get_text() == nbb_unformatted_code) {\n",
       "                             nbb_cells[i].set_text(nbb_formatted_code);\n",
       "                        }\n",
       "                        break;\n",
       "                    }\n",
       "                }\n",
       "            }, 500);\n",
       "            "
      ],
      "text/plain": [
       "<IPython.core.display.Javascript object>"
      ]
     },
     "metadata": {},
     "output_type": "display_data"
    }
   ],
   "source": [
    "# list_w_pid = list(\n",
    "#     tuple(\n",
    "#         zip(\n",
    "#             df_batting1519agg_200pa_onlywpid[\"lastname4pid\"],\n",
    "#             df_batting1519agg_200pa_onlywpid[\"firstname4pid\"],\n",
    "#         )\n",
    "#     )\n",
    "# )"
   ]
  },
  {
   "cell_type": "code",
   "execution_count": 45,
   "metadata": {
    "ExecuteTime": {
     "end_time": "2020-02-03T05:05:54.611717Z",
     "start_time": "2020-02-03T05:05:54.602491Z"
    }
   },
   "outputs": [
    {
     "data": {
      "application/javascript": [
       "\n",
       "            setTimeout(function() {\n",
       "                var nbb_cell_id = 45;\n",
       "                var nbb_unformatted_code = \"list_wo_pid = list(set(full_list) - set(list_w_pid))\";\n",
       "                var nbb_formatted_code = \"list_wo_pid = list(set(full_list) - set(list_w_pid))\";\n",
       "                var nbb_cells = Jupyter.notebook.get_cells();\n",
       "                for (var i = 0; i < nbb_cells.length; ++i) {\n",
       "                    if (nbb_cells[i].input_prompt_number == nbb_cell_id) {\n",
       "                        if (nbb_cells[i].get_text() == nbb_unformatted_code) {\n",
       "                             nbb_cells[i].set_text(nbb_formatted_code);\n",
       "                        }\n",
       "                        break;\n",
       "                    }\n",
       "                }\n",
       "            }, 500);\n",
       "            "
      ],
      "text/plain": [
       "<IPython.core.display.Javascript object>"
      ]
     },
     "metadata": {},
     "output_type": "display_data"
    }
   ],
   "source": [
    "# list_wo_pid = list(set(full_list) - set(list_w_pid))"
   ]
  },
  {
   "cell_type": "code",
   "execution_count": 46,
   "metadata": {
    "ExecuteTime": {
     "end_time": "2020-02-03T05:05:56.151328Z",
     "start_time": "2020-02-03T05:05:56.137496Z"
    }
   },
   "outputs": [
    {
     "data": {
      "text/plain": [
       "[('ervin', 'phillip'), ('laroche', 'adam'), ('robinson', 'clint')]"
      ]
     },
     "execution_count": 46,
     "metadata": {},
     "output_type": "execute_result"
    },
    {
     "data": {
      "application/javascript": [
       "\n",
       "            setTimeout(function() {\n",
       "                var nbb_cell_id = 46;\n",
       "                var nbb_unformatted_code = \"list_wo_pid[0:3]\";\n",
       "                var nbb_formatted_code = \"list_wo_pid[0:3]\";\n",
       "                var nbb_cells = Jupyter.notebook.get_cells();\n",
       "                for (var i = 0; i < nbb_cells.length; ++i) {\n",
       "                    if (nbb_cells[i].input_prompt_number == nbb_cell_id) {\n",
       "                        if (nbb_cells[i].get_text() == nbb_unformatted_code) {\n",
       "                             nbb_cells[i].set_text(nbb_formatted_code);\n",
       "                        }\n",
       "                        break;\n",
       "                    }\n",
       "                }\n",
       "            }, 500);\n",
       "            "
      ],
      "text/plain": [
       "<IPython.core.display.Javascript object>"
      ]
     },
     "metadata": {},
     "output_type": "display_data"
    }
   ],
   "source": [
    "# list_wo_pid[0:3]"
   ]
  },
  {
   "cell_type": "code",
   "execution_count": 47,
   "metadata": {
    "ExecuteTime": {
     "end_time": "2020-02-03T05:05:57.983898Z",
     "start_time": "2020-02-03T05:05:57.965985Z"
    }
   },
   "outputs": [
    {
     "data": {
      "text/html": [
       "<div>\n",
       "<style scoped>\n",
       "    .dataframe tbody tr th:only-of-type {\n",
       "        vertical-align: middle;\n",
       "    }\n",
       "\n",
       "    .dataframe tbody tr th {\n",
       "        vertical-align: top;\n",
       "    }\n",
       "\n",
       "    .dataframe thead th {\n",
       "        text-align: right;\n",
       "    }\n",
       "</style>\n",
       "<table border=\"1\" class=\"dataframe\">\n",
       "  <thead>\n",
       "    <tr style=\"text-align: right;\">\n",
       "      <th></th>\n",
       "      <th>index</th>\n",
       "      <th>name_last</th>\n",
       "      <th>name_first</th>\n",
       "      <th>key_mlbam</th>\n",
       "      <th>key_retro</th>\n",
       "      <th>key_bbref</th>\n",
       "      <th>key_fangraphs</th>\n",
       "      <th>mlb_played_first</th>\n",
       "      <th>mlb_played_last</th>\n",
       "    </tr>\n",
       "  </thead>\n",
       "  <tbody>\n",
       "    <tr>\n",
       "      <th>0</th>\n",
       "      <td>0</td>\n",
       "      <td>abad</td>\n",
       "      <td>fernando</td>\n",
       "      <td>472551</td>\n",
       "      <td>abadf001</td>\n",
       "      <td>abadfe01</td>\n",
       "      <td>4994</td>\n",
       "      <td>2010.0</td>\n",
       "      <td>2019.0</td>\n",
       "    </tr>\n",
       "    <tr>\n",
       "      <th>1</th>\n",
       "      <td>1</td>\n",
       "      <td>abreu</td>\n",
       "      <td>bryan</td>\n",
       "      <td>650556</td>\n",
       "      <td>abreb002</td>\n",
       "      <td>abreubr01</td>\n",
       "      <td>16609</td>\n",
       "      <td>2019.0</td>\n",
       "      <td>2019.0</td>\n",
       "    </tr>\n",
       "    <tr>\n",
       "      <th>2</th>\n",
       "      <td>2</td>\n",
       "      <td>abreu</td>\n",
       "      <td>jose</td>\n",
       "      <td>547989</td>\n",
       "      <td>abrej003</td>\n",
       "      <td>abreujo02</td>\n",
       "      <td>15676</td>\n",
       "      <td>2014.0</td>\n",
       "      <td>2019.0</td>\n",
       "    </tr>\n",
       "    <tr>\n",
       "      <th>3</th>\n",
       "      <td>3</td>\n",
       "      <td>acuna</td>\n",
       "      <td>ronald</td>\n",
       "      <td>660670</td>\n",
       "      <td>acunr001</td>\n",
       "      <td>acunaro01</td>\n",
       "      <td>18401</td>\n",
       "      <td>2018.0</td>\n",
       "      <td>2019.0</td>\n",
       "    </tr>\n",
       "    <tr>\n",
       "      <th>4</th>\n",
       "      <td>4</td>\n",
       "      <td>adam</td>\n",
       "      <td>jason</td>\n",
       "      <td>592094</td>\n",
       "      <td>adamj002</td>\n",
       "      <td>adamja01</td>\n",
       "      <td>11861</td>\n",
       "      <td>2018.0</td>\n",
       "      <td>2019.0</td>\n",
       "    </tr>\n",
       "  </tbody>\n",
       "</table>\n",
       "</div>"
      ],
      "text/plain": [
       "   index name_last name_first  key_mlbam key_retro  key_bbref  key_fangraphs  \\\n",
       "0      0      abad   fernando     472551  abadf001   abadfe01           4994   \n",
       "1      1     abreu      bryan     650556  abreb002  abreubr01          16609   \n",
       "2      2     abreu       jose     547989  abrej003  abreujo02          15676   \n",
       "3      3     acuna     ronald     660670  acunr001  acunaro01          18401   \n",
       "4      4      adam      jason     592094  adamj002   adamja01          11861   \n",
       "\n",
       "   mlb_played_first  mlb_played_last  \n",
       "0            2010.0           2019.0  \n",
       "1            2019.0           2019.0  \n",
       "2            2014.0           2019.0  \n",
       "3            2018.0           2019.0  \n",
       "4            2018.0           2019.0  "
      ]
     },
     "execution_count": 47,
     "metadata": {},
     "output_type": "execute_result"
    },
    {
     "data": {
      "application/javascript": [
       "\n",
       "            setTimeout(function() {\n",
       "                var nbb_cell_id = 47;\n",
       "                var nbb_unformatted_code = \"df_player_id.head()\";\n",
       "                var nbb_formatted_code = \"df_player_id.head()\";\n",
       "                var nbb_cells = Jupyter.notebook.get_cells();\n",
       "                for (var i = 0; i < nbb_cells.length; ++i) {\n",
       "                    if (nbb_cells[i].input_prompt_number == nbb_cell_id) {\n",
       "                        if (nbb_cells[i].get_text() == nbb_unformatted_code) {\n",
       "                             nbb_cells[i].set_text(nbb_formatted_code);\n",
       "                        }\n",
       "                        break;\n",
       "                    }\n",
       "                }\n",
       "            }, 500);\n",
       "            "
      ],
      "text/plain": [
       "<IPython.core.display.Javascript object>"
      ]
     },
     "metadata": {},
     "output_type": "display_data"
    }
   ],
   "source": [
    "# df_player_id.head()"
   ]
  },
  {
   "cell_type": "code",
   "execution_count": 62,
   "metadata": {
    "ExecuteTime": {
     "end_time": "2020-02-03T03:56:46.484845Z",
     "start_time": "2020-02-03T03:48:40.517359Z"
    },
    "collapsed": true
   },
   "outputs": [
    {
     "name": "stdout",
     "output_type": "stream",
     "text": [
      "0 of  101 ('callaspo', 'alberto')\n",
      "Gathering player lookup table. This may take a moment.\n",
      "1 of  101 ('fuld', 'sam')\n",
      "Gathering player lookup table. This may take a moment.\n",
      "2 of  101 ('ellis', 'a.j.')\n",
      "Gathering player lookup table. This may take a moment.\n",
      "----no data-----\n",
      "3 of  101 ('teixeira', 'mark')\n",
      "Gathering player lookup table. This may take a moment.\n",
      "4 of  101 ('realmuto', 'j.t.')\n",
      "Gathering player lookup table. This may take a moment.\n",
      "----no data-----\n",
      "5 of  101 ('bourgeois', 'jason')\n",
      "Gathering player lookup table. This may take a moment.\n",
      "----too much data----- (2, 8)\n",
      "6 of  101 ('swisher', 'nick')\n",
      "Gathering player lookup table. This may take a moment.\n",
      "7 of  101 ('victorino', 'shane')\n",
      "Gathering player lookup table. This may take a moment.\n",
      "8 of  101 ('herrera', 'elian')\n",
      "Gathering player lookup table. This may take a moment.\n",
      "9 of  101 ('morse', 'michael')\n",
      "Gathering player lookup table. This may take a moment.\n",
      "----no data-----\n",
      "10 of  101 ('butler', 'joey')\n",
      "Gathering player lookup table. This may take a moment.\n",
      "11 of  101 ('cuddyer', 'michael')\n",
      "Gathering player lookup table. This may take a moment.\n",
      "12 of  101 ('laroche', 'adam')\n",
      "Gathering player lookup table. This may take a moment.\n",
      "13 of  101 ('pena', 'brayan')\n",
      "Gathering player lookup table. This may take a moment.\n",
      "14 of  101 ('joyce', 'matt')\n",
      "Gathering player lookup table. This may take a moment.\n",
      "----no data-----\n",
      "15 of  101 ('infante', 'omar')\n",
      "Gathering player lookup table. This may take a moment.\n",
      "16 of  101 ('denorfia', 'chris')\n",
      "Gathering player lookup table. This may take a moment.\n",
      "17 of  101 ('ruf', 'darin')\n",
      "Gathering player lookup table. This may take a moment.\n",
      "18 of  101 ('arcia', 'oswaldo')\n",
      "Gathering player lookup table. This may take a moment.\n",
      "19 of  101 ('murphy', 'david')\n",
      "Gathering player lookup table. This may take a moment.\n",
      "----too much data----- (4, 8)\n",
      "20 of  101 ('reimold', 'nolan')\n",
      "Gathering player lookup table. This may take a moment.\n",
      "21 of  101 ('fielder', 'prince')\n",
      "Gathering player lookup table. This may take a moment.\n",
      "22 of  101 ('ervin', 'phillip')\n",
      "Gathering player lookup table. This may take a moment.\n",
      "----no data-----\n",
      "23 of  101 ('navarro', 'dioner')\n",
      "Gathering player lookup table. This may take a moment.\n",
      "24 of  101 ('rogers', 'jason')\n",
      "Gathering player lookup table. This may take a moment.\n",
      "----too much data----- (2, 8)\n",
      "25 of  101 ('conger', 'hank')\n",
      "Gathering player lookup table. This may take a moment.\n",
      "26 of  101 ('barmes', 'clint')\n",
      "Gathering player lookup table. This may take a moment.\n",
      "27 of  101 ('howard', 'ryan')\n",
      "Gathering player lookup table. This may take a moment.\n",
      "----too much data----- (4, 8)\n",
      "28 of  101 ('colabello', 'chris')\n",
      "Gathering player lookup table. This may take a moment.\n",
      "29 of  101 ('ackley', 'dustin')\n",
      "Gathering player lookup table. This may take a moment.\n",
      "30 of  101 ('goeddel', 'tyler')\n",
      "Gathering player lookup table. This may take a moment.\n",
      "31 of  101 ('maxwell', 'justin')\n",
      "Gathering player lookup table. This may take a moment.\n",
      "32 of  101 (\"o'malley\", 'shawn')\n",
      "Gathering player lookup table. This may take a moment.\n",
      "33 of  101 ('gillespie', 'cole')\n",
      "Gathering player lookup table. This may take a moment.\n",
      "34 of  101 ('rosario', 'wilin')\n",
      "Gathering player lookup table. This may take a moment.\n",
      "35 of  101 ('snider', 'travis')\n",
      "Gathering player lookup table. This may take a moment.\n",
      "----too much data----- (2, 8)\n",
      "36 of  101 ('johnson', 'kelly')\n",
      "Gathering player lookup table. This may take a moment.\n",
      "----too much data----- (3, 8)\n",
      "37 of  101 ('schumaker', 'skip')\n",
      "Gathering player lookup table. This may take a moment.\n",
      "38 of  101 ('riddle', 'j.t.')\n",
      "Gathering player lookup table. This may take a moment.\n",
      "----no data-----\n",
      "39 of  101 ('bourn', 'michael')\n",
      "Gathering player lookup table. This may take a moment.\n",
      "40 of  101 ('wilkerson', 'steve')\n",
      "Gathering player lookup table. This may take a moment.\n",
      "----no data-----\n",
      "41 of  101 ('pierzynski', 'a.j.')\n",
      "Gathering player lookup table. This may take a moment.\n",
      "----no data-----\n",
      "42 of  101 ('sizemore', 'grady')\n",
      "Gathering player lookup table. This may take a moment.\n",
      "43 of  101 ('hardy', 'j.j.')\n",
      "Gathering player lookup table. This may take a moment.\n",
      "----no data-----\n",
      "44 of  101 ('lawrie', 'brett')\n",
      "Gathering player lookup table. This may take a moment.\n",
      "45 of  101 ('loney', 'james')\n",
      "Gathering player lookup table. This may take a moment.\n",
      "46 of  101 ('vogelbach', 'daniel')\n",
      "Gathering player lookup table. This may take a moment.\n",
      "----no data-----\n",
      "47 of  101 ('morneau', 'justin')\n",
      "Gathering player lookup table. This may take a moment.\n",
      "48 of  101 ('pagan', 'angel')\n",
      "Gathering player lookup table. This may take a moment.\n",
      "----too much data----- (2, 8)\n",
      "49 of  101 ('rios', 'alex')\n",
      "Gathering player lookup table. This may take a moment.\n",
      "50 of  101 ('delmonico', 'nicky')\n",
      "Gathering player lookup table. This may take a moment.\n",
      "----no data-----\n",
      "51 of  101 ('ross', 'david')\n",
      "Gathering player lookup table. This may take a moment.\n",
      "----too much data----- (6, 8)\n",
      "52 of  101 ('rollins', 'jimmy')\n",
      "Gathering player lookup table. This may take a moment.\n",
      "----too much data----- (2, 8)\n",
      "53 of  101 ('lee', 'dae-ho')\n",
      "Gathering player lookup table. This may take a moment.\n",
      "54 of  101 ('crawford', 'carl')\n",
      "Gathering player lookup table. This may take a moment.\n",
      "55 of  101 ('ortiz', 'david')\n",
      "Gathering player lookup table. This may take a moment.\n",
      "----too much data----- (2, 8)\n",
      "56 of  101 ('gose', 'anthony')\n",
      "Gathering player lookup table. This may take a moment.\n",
      "57 of  101 ('martinez', 'j.d.')\n",
      "Gathering player lookup table. This may take a moment.\n",
      "----no data-----\n",
      "58 of  101 ('castellanos', 'nicholas')\n",
      "Gathering player lookup table. This may take a moment.\n",
      "----no data-----\n",
      "59 of  101 ('pollock', 'a.j.')\n",
      "Gathering player lookup table. This may take a moment.\n",
      "----no data-----\n",
      "60 of  101 ('davis', 'j.d.')\n",
      "Gathering player lookup table. This may take a moment.\n",
      "----no data-----\n",
      "61 of  101 ('davis', 'ike')\n",
      "Gathering player lookup table. This may take a moment.\n",
      "----too much data----- (2, 8)\n",
      "62 of  101 ('de jesus', 'ivan')\n",
      "Gathering player lookup table. This may take a moment.\n",
      "----too much data----- (3, 8)\n",
      "63 of  101 ('robinson', 'clint')\n",
      "Gathering player lookup table. This may take a moment.\n",
      "64 of  101 ('butler', 'billy')\n",
      "Gathering player lookup table. This may take a moment.\n",
      "----too much data----- (2, 8)\n",
      "65 of  101 ('francoeur', 'jeff')\n",
      "Gathering player lookup table. This may take a moment.\n",
      "66 of  101 ('ramirez', 'alexei')\n",
      "Gathering player lookup table. This may take a moment.\n",
      "67 of  101 ('guerrero', 'alex')\n",
      "Gathering player lookup table. This may take a moment.\n",
      "----too much data----- (2, 8)\n",
      "68 of  101 ('johnson', 'chris')\n",
      "Gathering player lookup table. This may take a moment.\n",
      "----too much data----- (10, 8)\n",
      "69 of  101 ('byrd', 'marlon')\n",
      "Gathering player lookup table. This may take a moment.\n",
      "70 of  101 ('brown', 'trevor')\n",
      "Gathering player lookup table. This may take a moment.\n",
      "----too much data----- (5, 8)\n",
      "71 of  101 ('park', 'byung-ho')\n",
      "Gathering player lookup table. This may take a moment.\n",
      "----no data-----\n",
      "72 of  101 ('paulsen', 'ben')\n",
      "Gathering player lookup table. This may take a moment.\n",
      "73 of  101 ('sanchez', 'yolmer')\n",
      "Gathering player lookup table. This may take a moment.\n",
      "----no data-----\n",
      "74 of  101 ('mcgehee', 'casey')\n",
      "Gathering player lookup table. This may take a moment.\n",
      "75 of  101 ('rivera', 't.j.')\n",
      "Gathering player lookup table. This may take a moment.\n",
      "----no data-----\n",
      "76 of  101 ('lough', 'david')\n",
      "Gathering player lookup table. This may take a moment.\n",
      "77 of  101 ('urshela', 'giovanny')\n",
      "Gathering player lookup table. This may take a moment.\n",
      "----no data-----\n",
      "78 of  101 ('cabrera', 'ramon')\n",
      "Gathering player lookup table. This may take a moment.\n",
      "79 of  101 ('schafer', 'logan')\n",
      "Gathering player lookup table. This may take a moment.\n",
      "80 of  101 ('crisp', 'coco')\n",
      "Gathering player lookup table. This may take a moment.\n",
      "81 of  101 ('gosselin', 'phil')\n",
      "Gathering player lookup table. This may take a moment.\n",
      "----no data-----\n",
      "82 of  101 ('alonso', 'peter')\n",
      "Gathering player lookup table. This may take a moment.\n",
      "----no data-----\n",
      "83 of  101 ('a.', 'michael')\n",
      "Gathering player lookup table. This may take a moment.\n",
      "----no data-----\n",
      "84 of  101 ('castillo', 'rusney')\n",
      "Gathering player lookup table. This may take a moment.\n"
     ]
    },
    {
     "name": "stdout",
     "output_type": "stream",
     "text": [
      "85 of  101 ('brown', 'domonic')\n",
      "Gathering player lookup table. This may take a moment.\n",
      "86 of  101 ('crawford', 'j.p.')\n",
      "Gathering player lookup table. This may take a moment.\n",
      "----no data-----\n",
      "87 of  101 ('dejesus', 'david')\n",
      "Gathering player lookup table. This may take a moment.\n",
      "88 of  101 ('holt', 'tyler')\n",
      "Gathering player lookup table. This may take a moment.\n",
      "----too much data----- (4, 8)\n",
      "89 of  101 ('jennings', 'desmond')\n",
      "Gathering player lookup table. This may take a moment.\n",
      "90 of  101 ('campbell', 'eric')\n",
      "Gathering player lookup table. This may take a moment.\n",
      "----too much data----- (4, 8)\n",
      "91 of  101 ('gomes', 'jonny')\n",
      "Gathering player lookup table. This may take a moment.\n",
      "92 of  101 ('hunter', 'torii')\n",
      "Gathering player lookup table. This may take a moment.\n",
      "----too much data----- (2, 8)\n",
      "93 of  101 ('paredes', 'jimmy')\n",
      "Gathering player lookup table. This may take a moment.\n",
      "94 of  101 ('venable', 'will')\n",
      "Gathering player lookup table. This may take a moment.\n",
      "95 of  101 ('uribe', 'juan')\n",
      "Gathering player lookup table. This may take a moment.\n",
      "----too much data----- (2, 8)\n",
      "96 of  101 ('cron', 'c.j.')\n",
      "Gathering player lookup table. This may take a moment.\n",
      "----no data-----\n",
      "97 of  101 ('ramirez', 'aramis')\n",
      "Gathering player lookup table. This may take a moment.\n",
      "98 of  101 ('wallace', 'brett')\n",
      "Gathering player lookup table. This may take a moment.\n",
      "----too much data----- (2, 8)\n",
      "99 of  101 ('murphy', 'john ryan')\n",
      "Gathering player lookup table. This may take a moment.\n",
      "----no data-----\n",
      "100 of  101 ('rodriguez', 'alex')\n",
      "Gathering player lookup table. This may take a moment.\n",
      "----too much data----- (11, 8)\n"
     ]
    },
    {
     "data": {
      "application/javascript": [
       "\n",
       "            setTimeout(function() {\n",
       "                var nbb_cell_id = 62;\n",
       "                var nbb_unformatted_code = \"pid_series_list = []\\nmissing_list = []\\nfor i, name in enumerate(list_wo_pid):\\n    print(i, \\\"of \\\", str(len(list_wo_pid)), name)\\n    p_values = playerid_lookup(last=name[0], first=name[1])\\n    if p_values.shape[0] == 1:\\n        pid_series_list.append(p_values.copy())\\n    elif p_values.shape[0] == 0:\\n        print(\\\"----no data-----\\\")\\n    else:\\n        print(\\\"----too much data-----\\\", p_values.shape)\\n        missing_list.append(p_values)\\n\\ndf_4playerid = pd.concat(pid_series_list, axis=0)\";\n",
       "                var nbb_formatted_code = \"pid_series_list = []\\nmissing_list = []\\nfor i, name in enumerate(list_wo_pid):\\n    print(i, \\\"of \\\", str(len(list_wo_pid)), name)\\n    p_values = playerid_lookup(last=name[0], first=name[1])\\n    if p_values.shape[0] == 1:\\n        pid_series_list.append(p_values.copy())\\n    elif p_values.shape[0] == 0:\\n        print(\\\"----no data-----\\\")\\n    else:\\n        print(\\\"----too much data-----\\\", p_values.shape)\\n        missing_list.append(p_values)\\n\\ndf_4playerid = pd.concat(pid_series_list, axis=0)\";\n",
       "                var nbb_cells = Jupyter.notebook.get_cells();\n",
       "                for (var i = 0; i < nbb_cells.length; ++i) {\n",
       "                    if (nbb_cells[i].input_prompt_number == nbb_cell_id) {\n",
       "                        if (nbb_cells[i].get_text() == nbb_unformatted_code) {\n",
       "                             nbb_cells[i].set_text(nbb_formatted_code);\n",
       "                        }\n",
       "                        break;\n",
       "                    }\n",
       "                }\n",
       "            }, 500);\n",
       "            "
      ],
      "text/plain": [
       "<IPython.core.display.Javascript object>"
      ]
     },
     "metadata": {},
     "output_type": "display_data"
    }
   ],
   "source": [
    "# pid_series_list = []\n",
    "# missing_list = []\n",
    "# for i, name in enumerate(list_wo_pid):\n",
    "#     print(i, \"of \", str(len(list_wo_pid)), name)\n",
    "#     p_values = playerid_lookup(last=name[0], first=name[1])\n",
    "#     if p_values.shape[0] == 1:\n",
    "#         pid_series_list.append(p_values.copy())\n",
    "#     elif p_values.shape[0] == 0:\n",
    "#         print(\"----no data-----\")\n",
    "#     else:\n",
    "#         print(\"----too much data-----\", p_values.shape)\n",
    "#         missing_list.append(p_values)\n",
    "\n",
    "# df_4playerid = pd.concat(pid_series_list, axis=0)"
   ]
  },
  {
   "cell_type": "code",
   "execution_count": 64,
   "metadata": {
    "ExecuteTime": {
     "end_time": "2020-02-03T03:56:56.484157Z",
     "start_time": "2020-02-03T03:56:56.456431Z"
    }
   },
   "outputs": [
    {
     "data": {
      "application/javascript": [
       "\n",
       "            setTimeout(function() {\n",
       "                var nbb_cell_id = 64;\n",
       "                var nbb_unformatted_code = \"df_missing = pd.concat(missing_list, axis=0)\";\n",
       "                var nbb_formatted_code = \"df_missing = pd.concat(missing_list, axis=0)\";\n",
       "                var nbb_cells = Jupyter.notebook.get_cells();\n",
       "                for (var i = 0; i < nbb_cells.length; ++i) {\n",
       "                    if (nbb_cells[i].input_prompt_number == nbb_cell_id) {\n",
       "                        if (nbb_cells[i].get_text() == nbb_unformatted_code) {\n",
       "                             nbb_cells[i].set_text(nbb_formatted_code);\n",
       "                        }\n",
       "                        break;\n",
       "                    }\n",
       "                }\n",
       "            }, 500);\n",
       "            "
      ],
      "text/plain": [
       "<IPython.core.display.Javascript object>"
      ]
     },
     "metadata": {},
     "output_type": "display_data"
    }
   ],
   "source": [
    "# # df_missing = pd.concat(missing_list, axis=0)\n",
    "\n",
    "\n",
    "# df_4playerid_r2 = df_missing[df_missing[\"mlb_played_last\"] > 2014].copy()\n",
    "\n",
    "# df_4playerid_combined = pd.concat([df_4playerid, df_4playerid_r2], axis=0)\n",
    "\n",
    "# df_player_id.head()"
   ]
  },
  {
   "cell_type": "code",
   "execution_count": 68,
   "metadata": {
    "ExecuteTime": {
     "end_time": "2020-02-03T03:57:10.697507Z",
     "start_time": "2020-02-03T03:57:10.680883Z"
    }
   },
   "outputs": [
    {
     "data": {
      "application/javascript": [
       "\n",
       "            setTimeout(function() {\n",
       "                var nbb_cell_id = 68;\n",
       "                var nbb_unformatted_code = \"df_player_id_new = pd.concat(\\n    [df_player_id.drop(\\\"index\\\", axis=1), df_4playerid_combined], axis=0\\n)\";\n",
       "                var nbb_formatted_code = \"df_player_id_new = pd.concat(\\n    [df_player_id.drop(\\\"index\\\", axis=1), df_4playerid_combined], axis=0\\n)\";\n",
       "                var nbb_cells = Jupyter.notebook.get_cells();\n",
       "                for (var i = 0; i < nbb_cells.length; ++i) {\n",
       "                    if (nbb_cells[i].input_prompt_number == nbb_cell_id) {\n",
       "                        if (nbb_cells[i].get_text() == nbb_unformatted_code) {\n",
       "                             nbb_cells[i].set_text(nbb_formatted_code);\n",
       "                        }\n",
       "                        break;\n",
       "                    }\n",
       "                }\n",
       "            }, 500);\n",
       "            "
      ],
      "text/plain": [
       "<IPython.core.display.Javascript object>"
      ]
     },
     "metadata": {},
     "output_type": "display_data"
    }
   ],
   "source": [
    "# df_player_id_new = pd.concat(\n",
    "#     [df_player_id.drop(\"index\", axis=1), df_4playerid_combined], axis=0\n",
    "# )"
   ]
  },
  {
   "cell_type": "code",
   "execution_count": 69,
   "metadata": {
    "ExecuteTime": {
     "end_time": "2020-02-03T03:57:13.772089Z",
     "start_time": "2020-02-03T03:57:13.763017Z"
    }
   },
   "outputs": [
    {
     "data": {
      "text/plain": [
       "(2042, 8)"
      ]
     },
     "execution_count": 69,
     "metadata": {},
     "output_type": "execute_result"
    },
    {
     "data": {
      "application/javascript": [
       "\n",
       "            setTimeout(function() {\n",
       "                var nbb_cell_id = 69;\n",
       "                var nbb_unformatted_code = \"df_player_id_new.shape\";\n",
       "                var nbb_formatted_code = \"df_player_id_new.shape\";\n",
       "                var nbb_cells = Jupyter.notebook.get_cells();\n",
       "                for (var i = 0; i < nbb_cells.length; ++i) {\n",
       "                    if (nbb_cells[i].input_prompt_number == nbb_cell_id) {\n",
       "                        if (nbb_cells[i].get_text() == nbb_unformatted_code) {\n",
       "                             nbb_cells[i].set_text(nbb_formatted_code);\n",
       "                        }\n",
       "                        break;\n",
       "                    }\n",
       "                }\n",
       "            }, 500);\n",
       "            "
      ],
      "text/plain": [
       "<IPython.core.display.Javascript object>"
      ]
     },
     "metadata": {},
     "output_type": "display_data"
    }
   ],
   "source": [
    "# df_player_id_new.shape"
   ]
  },
  {
   "cell_type": "code",
   "execution_count": null,
   "metadata": {
    "ExecuteTime": {
     "start_time": "2020-02-03T03:57:21.381Z"
    }
   },
   "outputs": [],
   "source": [
    "# Send to SQL when it's joined with the player\n",
    "# df_player_id_new.to_sql(\"player_id\", engine, if_exists=\"replace\")"
   ]
  },
  {
   "cell_type": "code",
   "execution_count": null,
   "metadata": {},
   "outputs": [],
   "source": [
    "# df_sc.to_sql(\"player\", engine, if_exists=\"replace\")"
   ]
  },
  {
   "cell_type": "code",
   "execution_count": 52,
   "metadata": {
    "ExecuteTime": {
     "end_time": "2020-02-03T05:10:34.991896Z",
     "start_time": "2020-02-03T05:10:34.965953Z"
    }
   },
   "outputs": [
    {
     "data": {
      "text/plain": [
       "(748, 288)"
      ]
     },
     "execution_count": 52,
     "metadata": {},
     "output_type": "execute_result"
    },
    {
     "data": {
      "application/javascript": [
       "\n",
       "            setTimeout(function() {\n",
       "                var nbb_cell_id = 52;\n",
       "                var nbb_unformatted_code = \"df_batting1519agg_200pa.shape\";\n",
       "                var nbb_formatted_code = \"df_batting1519agg_200pa.shape\";\n",
       "                var nbb_cells = Jupyter.notebook.get_cells();\n",
       "                for (var i = 0; i < nbb_cells.length; ++i) {\n",
       "                    if (nbb_cells[i].input_prompt_number == nbb_cell_id) {\n",
       "                        if (nbb_cells[i].get_text() == nbb_unformatted_code) {\n",
       "                             nbb_cells[i].set_text(nbb_formatted_code);\n",
       "                        }\n",
       "                        break;\n",
       "                    }\n",
       "                }\n",
       "            }, 500);\n",
       "            "
      ],
      "text/plain": [
       "<IPython.core.display.Javascript object>"
      ]
     },
     "metadata": {},
     "output_type": "display_data"
    }
   ],
   "source": [
    "# df_batting1519agg_200pa.shape"
   ]
  },
  {
   "cell_type": "code",
   "execution_count": 60,
   "metadata": {
    "ExecuteTime": {
     "end_time": "2020-02-03T05:13:30.108781Z",
     "start_time": "2020-02-03T05:13:30.034884Z"
    }
   },
   "outputs": [
    {
     "data": {
      "application/javascript": [
       "\n",
       "            setTimeout(function() {\n",
       "                var nbb_cell_id = 60;\n",
       "                var nbb_unformatted_code = \"df_batting1519agg_200pa_wpid = pd.merge(\\n    df_batting1519agg_200pa, df_player_id, left_on=['lastname4pid', 'firstname4pid'], right_on=['name_last', 'name_first'])\";\n",
       "                var nbb_formatted_code = \"df_batting1519agg_200pa_wpid = pd.merge(\\n    df_batting1519agg_200pa,\\n    df_player_id,\\n    left_on=[\\\"lastname4pid\\\", \\\"firstname4pid\\\"],\\n    right_on=[\\\"name_last\\\", \\\"name_first\\\"],\\n)\";\n",
       "                var nbb_cells = Jupyter.notebook.get_cells();\n",
       "                for (var i = 0; i < nbb_cells.length; ++i) {\n",
       "                    if (nbb_cells[i].input_prompt_number == nbb_cell_id) {\n",
       "                        if (nbb_cells[i].get_text() == nbb_unformatted_code) {\n",
       "                             nbb_cells[i].set_text(nbb_formatted_code);\n",
       "                        }\n",
       "                        break;\n",
       "                    }\n",
       "                }\n",
       "            }, 500);\n",
       "            "
      ],
      "text/plain": [
       "<IPython.core.display.Javascript object>"
      ]
     },
     "metadata": {},
     "output_type": "display_data"
    }
   ],
   "source": [
    "# df_batting1519agg_200pa_wpid = pd.merge(\n",
    "#     df_batting1519agg_200pa,\n",
    "#     df_player_id,\n",
    "#     left_on=[\"lastname4pid\", \"firstname4pid\"],\n",
    "#     right_on=[\"name_last\", \"name_first\"],\n",
    "# )"
   ]
  },
  {
   "cell_type": "markdown",
   "metadata": {},
   "source": [
    "## EDA of batters"
   ]
  },
  {
   "cell_type": "code",
   "execution_count": 87,
   "metadata": {
    "ExecuteTime": {
     "end_time": "2020-02-03T05:41:21.002739Z",
     "start_time": "2020-02-03T05:41:20.962424Z"
    }
   },
   "outputs": [
    {
     "data": {
      "text/html": [
       "<div>\n",
       "<style scoped>\n",
       "    .dataframe tbody tr th:only-of-type {\n",
       "        vertical-align: middle;\n",
       "    }\n",
       "\n",
       "    .dataframe tbody tr th {\n",
       "        vertical-align: top;\n",
       "    }\n",
       "\n",
       "    .dataframe thead th {\n",
       "        text-align: right;\n",
       "    }\n",
       "</style>\n",
       "<table border=\"1\" class=\"dataframe\">\n",
       "  <thead>\n",
       "    <tr style=\"text-align: right;\">\n",
       "      <th></th>\n",
       "      <th>index</th>\n",
       "      <th>index_x</th>\n",
       "      <th>Season</th>\n",
       "      <th>Name</th>\n",
       "      <th>Team</th>\n",
       "      <th>Age</th>\n",
       "      <th>G</th>\n",
       "      <th>AB</th>\n",
       "      <th>PA</th>\n",
       "      <th>H</th>\n",
       "      <th>...</th>\n",
       "      <th>first_name</th>\n",
       "      <th>index_y</th>\n",
       "      <th>name_last</th>\n",
       "      <th>name_first</th>\n",
       "      <th>key_mlbam</th>\n",
       "      <th>key_retro</th>\n",
       "      <th>key_bbref</th>\n",
       "      <th>key_fangraphs</th>\n",
       "      <th>mlb_played_first</th>\n",
       "      <th>mlb_played_last</th>\n",
       "    </tr>\n",
       "  </thead>\n",
       "  <tbody>\n",
       "    <tr>\n",
       "      <th>0</th>\n",
       "      <td>0</td>\n",
       "      <td>63</td>\n",
       "      <td>2018.0</td>\n",
       "      <td>Mookie Betts</td>\n",
       "      <td>Red Sox</td>\n",
       "      <td>25.0</td>\n",
       "      <td>136.0</td>\n",
       "      <td>520.0</td>\n",
       "      <td>614.0</td>\n",
       "      <td>180.0</td>\n",
       "      <td>...</td>\n",
       "      <td>mookie</td>\n",
       "      <td>166</td>\n",
       "      <td>betts</td>\n",
       "      <td>mookie</td>\n",
       "      <td>605141</td>\n",
       "      <td>bettm001</td>\n",
       "      <td>bettsmo01</td>\n",
       "      <td>13611</td>\n",
       "      <td>2014.0</td>\n",
       "      <td>2019.0</td>\n",
       "    </tr>\n",
       "    <tr>\n",
       "      <th>1</th>\n",
       "      <td>1</td>\n",
       "      <td>67</td>\n",
       "      <td>2018.0</td>\n",
       "      <td>Mike Trout</td>\n",
       "      <td>Angels</td>\n",
       "      <td>26.0</td>\n",
       "      <td>140.0</td>\n",
       "      <td>471.0</td>\n",
       "      <td>608.0</td>\n",
       "      <td>147.0</td>\n",
       "      <td>...</td>\n",
       "      <td>mike</td>\n",
       "      <td>1789</td>\n",
       "      <td>trout</td>\n",
       "      <td>mike</td>\n",
       "      <td>545361</td>\n",
       "      <td>troum001</td>\n",
       "      <td>troutmi01</td>\n",
       "      <td>10155</td>\n",
       "      <td>2011.0</td>\n",
       "      <td>2019.0</td>\n",
       "    </tr>\n",
       "    <tr>\n",
       "      <th>2</th>\n",
       "      <td>2</td>\n",
       "      <td>153</td>\n",
       "      <td>2018.0</td>\n",
       "      <td>Jose Ramirez</td>\n",
       "      <td>Indians</td>\n",
       "      <td>25.0</td>\n",
       "      <td>157.0</td>\n",
       "      <td>578.0</td>\n",
       "      <td>698.0</td>\n",
       "      <td>156.0</td>\n",
       "      <td>...</td>\n",
       "      <td>jose</td>\n",
       "      <td>1417</td>\n",
       "      <td>ramirez</td>\n",
       "      <td>jose</td>\n",
       "      <td>542432</td>\n",
       "      <td>ramij004</td>\n",
       "      <td>ramirjo02</td>\n",
       "      <td>10171</td>\n",
       "      <td>2014.0</td>\n",
       "      <td>2018.0</td>\n",
       "    </tr>\n",
       "    <tr>\n",
       "      <th>3</th>\n",
       "      <td>68</td>\n",
       "      <td>38</td>\n",
       "      <td>2018.0</td>\n",
       "      <td>Ryder Jones</td>\n",
       "      <td>Giants</td>\n",
       "      <td>24.0</td>\n",
       "      <td>5.0</td>\n",
       "      <td>8.0</td>\n",
       "      <td>8.0</td>\n",
       "      <td>3.0</td>\n",
       "      <td>...</td>\n",
       "      <td>ryder</td>\n",
       "      <td>903</td>\n",
       "      <td>jones</td>\n",
       "      <td>ryder</td>\n",
       "      <td>624507</td>\n",
       "      <td>joner005</td>\n",
       "      <td>jonesry01</td>\n",
       "      <td>15982</td>\n",
       "      <td>2017.0</td>\n",
       "      <td>2018.0</td>\n",
       "    </tr>\n",
       "    <tr>\n",
       "      <th>4</th>\n",
       "      <td>3</td>\n",
       "      <td>153</td>\n",
       "      <td>2018.0</td>\n",
       "      <td>Jose Ramirez</td>\n",
       "      <td>Indians</td>\n",
       "      <td>25.0</td>\n",
       "      <td>157.0</td>\n",
       "      <td>578.0</td>\n",
       "      <td>698.0</td>\n",
       "      <td>156.0</td>\n",
       "      <td>...</td>\n",
       "      <td>jose</td>\n",
       "      <td>1418</td>\n",
       "      <td>ramirez</td>\n",
       "      <td>jose</td>\n",
       "      <td>608070</td>\n",
       "      <td>ramij003</td>\n",
       "      <td>ramirjo01</td>\n",
       "      <td>13510</td>\n",
       "      <td>2013.0</td>\n",
       "      <td>2019.0</td>\n",
       "    </tr>\n",
       "  </tbody>\n",
       "</table>\n",
       "<p>5 rows × 300 columns</p>\n",
       "</div>"
      ],
      "text/plain": [
       "   index  index_x  Season          Name     Team   Age      G     AB     PA  \\\n",
       "0      0       63  2018.0  Mookie Betts  Red Sox  25.0  136.0  520.0  614.0   \n",
       "1      1       67  2018.0    Mike Trout   Angels  26.0  140.0  471.0  608.0   \n",
       "2      2      153  2018.0  Jose Ramirez  Indians  25.0  157.0  578.0  698.0   \n",
       "3     68       38  2018.0   Ryder Jones   Giants  24.0    5.0    8.0    8.0   \n",
       "4      3      153  2018.0  Jose Ramirez  Indians  25.0  157.0  578.0  698.0   \n",
       "\n",
       "       H  ...  first_name  index_y  name_last  name_first  key_mlbam  \\\n",
       "0  180.0  ...      mookie      166      betts      mookie     605141   \n",
       "1  147.0  ...        mike     1789      trout        mike     545361   \n",
       "2  156.0  ...        jose     1417    ramirez        jose     542432   \n",
       "3    3.0  ...       ryder      903      jones       ryder     624507   \n",
       "4  156.0  ...        jose     1418    ramirez        jose     608070   \n",
       "\n",
       "   key_retro  key_bbref  key_fangraphs  mlb_played_first  mlb_played_last  \n",
       "0   bettm001  bettsmo01          13611            2014.0           2019.0  \n",
       "1   troum001  troutmi01          10155            2011.0           2019.0  \n",
       "2   ramij004  ramirjo02          10171            2014.0           2018.0  \n",
       "3   joner005  jonesry01          15982            2017.0           2018.0  \n",
       "4   ramij003  ramirjo01          13510            2013.0           2019.0  \n",
       "\n",
       "[5 rows x 300 columns]"
      ]
     },
     "execution_count": 87,
     "metadata": {},
     "output_type": "execute_result"
    },
    {
     "data": {
      "application/javascript": [
       "\n",
       "            setTimeout(function() {\n",
       "                var nbb_cell_id = 87;\n",
       "                var nbb_unformatted_code = \"df_batting.head()\";\n",
       "                var nbb_formatted_code = \"df_batting.head()\";\n",
       "                var nbb_cells = Jupyter.notebook.get_cells();\n",
       "                for (var i = 0; i < nbb_cells.length; ++i) {\n",
       "                    if (nbb_cells[i].input_prompt_number == nbb_cell_id) {\n",
       "                        if (nbb_cells[i].get_text() == nbb_unformatted_code) {\n",
       "                             nbb_cells[i].set_text(nbb_formatted_code);\n",
       "                        }\n",
       "                        break;\n",
       "                    }\n",
       "                }\n",
       "            }, 500);\n",
       "            "
      ],
      "text/plain": [
       "<IPython.core.display.Javascript object>"
      ]
     },
     "metadata": {},
     "output_type": "display_data"
    }
   ],
   "source": [
    "df_batting.head()"
   ]
  },
  {
   "cell_type": "code",
   "execution_count": 89,
   "metadata": {
    "ExecuteTime": {
     "end_time": "2020-02-03T05:42:57.906383Z",
     "start_time": "2020-02-03T05:42:57.858641Z"
    }
   },
   "outputs": [
    {
     "data": {
      "application/javascript": [
       "\n",
       "            setTimeout(function() {\n",
       "                var nbb_cell_id = 89;\n",
       "                var nbb_unformatted_code = \"df_batting_100pa = df_batting[df_batting['PA']>100].copy()\";\n",
       "                var nbb_formatted_code = \"df_batting_100pa = df_batting[df_batting[\\\"PA\\\"] > 100].copy()\";\n",
       "                var nbb_cells = Jupyter.notebook.get_cells();\n",
       "                for (var i = 0; i < nbb_cells.length; ++i) {\n",
       "                    if (nbb_cells[i].input_prompt_number == nbb_cell_id) {\n",
       "                        if (nbb_cells[i].get_text() == nbb_unformatted_code) {\n",
       "                             nbb_cells[i].set_text(nbb_formatted_code);\n",
       "                        }\n",
       "                        break;\n",
       "                    }\n",
       "                }\n",
       "            }, 500);\n",
       "            "
      ],
      "text/plain": [
       "<IPython.core.display.Javascript object>"
      ]
     },
     "metadata": {},
     "output_type": "display_data"
    }
   ],
   "source": [
    "df_batting_100pa = df_batting[df_batting[\"PA\"] > 100].copy()"
   ]
  },
  {
   "cell_type": "code",
   "execution_count": 90,
   "metadata": {
    "ExecuteTime": {
     "end_time": "2020-02-03T05:43:03.523910Z",
     "start_time": "2020-02-03T05:43:03.512996Z"
    }
   },
   "outputs": [
    {
     "data": {
      "text/plain": [
       "(432, 300)"
      ]
     },
     "execution_count": 90,
     "metadata": {},
     "output_type": "execute_result"
    },
    {
     "data": {
      "application/javascript": [
       "\n",
       "            setTimeout(function() {\n",
       "                var nbb_cell_id = 90;\n",
       "                var nbb_unformatted_code = \"df_batting_100pa.shape\";\n",
       "                var nbb_formatted_code = \"df_batting_100pa.shape\";\n",
       "                var nbb_cells = Jupyter.notebook.get_cells();\n",
       "                for (var i = 0; i < nbb_cells.length; ++i) {\n",
       "                    if (nbb_cells[i].input_prompt_number == nbb_cell_id) {\n",
       "                        if (nbb_cells[i].get_text() == nbb_unformatted_code) {\n",
       "                             nbb_cells[i].set_text(nbb_formatted_code);\n",
       "                        }\n",
       "                        break;\n",
       "                    }\n",
       "                }\n",
       "            }, 500);\n",
       "            "
      ],
      "text/plain": [
       "<IPython.core.display.Javascript object>"
      ]
     },
     "metadata": {},
     "output_type": "display_data"
    }
   ],
   "source": [
    "df_batting_100pa.shape"
   ]
  },
  {
   "cell_type": "code",
   "execution_count": 91,
   "metadata": {
    "ExecuteTime": {
     "end_time": "2020-02-03T05:43:40.906596Z",
     "start_time": "2020-02-03T05:43:40.450689Z"
    }
   },
   "outputs": [
    {
     "data": {
      "text/plain": [
       "<matplotlib.axes._subplots.AxesSubplot at 0x1a3f2a1908>"
      ]
     },
     "execution_count": 91,
     "metadata": {},
     "output_type": "execute_result"
    },
    {
     "data": {
      "image/png": "[encoded data removed]",
      "text/plain": [
       "<Figure size 864x288 with 2 Axes>"
      ]
     },
     "metadata": {
      "needs_background": "light"
     },
     "output_type": "display_data"
    },
    {
     "data": {
      "application/javascript": [
       "\n",
       "            setTimeout(function() {\n",
       "                var nbb_cell_id = 91;\n",
       "                var nbb_unformatted_code = \"f, (ax1, ax2) = plt.subplots(1, 2, figsize=(12, 4))\\ndf_batting_100pa[\\\"PA\\\"].hist(ax=ax1)\\ndf_batting_100pa[\\\"OBP\\\"].hist(ax=ax2)\";\n",
       "                var nbb_formatted_code = \"f, (ax1, ax2) = plt.subplots(1, 2, figsize=(12, 4))\\ndf_batting_100pa[\\\"PA\\\"].hist(ax=ax1)\\ndf_batting_100pa[\\\"OBP\\\"].hist(ax=ax2)\";\n",
       "                var nbb_cells = Jupyter.notebook.get_cells();\n",
       "                for (var i = 0; i < nbb_cells.length; ++i) {\n",
       "                    if (nbb_cells[i].input_prompt_number == nbb_cell_id) {\n",
       "                        if (nbb_cells[i].get_text() == nbb_unformatted_code) {\n",
       "                             nbb_cells[i].set_text(nbb_formatted_code);\n",
       "                        }\n",
       "                        break;\n",
       "                    }\n",
       "                }\n",
       "            }, 500);\n",
       "            "
      ],
      "text/plain": [
       "<IPython.core.display.Javascript object>"
      ]
     },
     "metadata": {},
     "output_type": "display_data"
    }
   ],
   "source": [
    "f, (ax1, ax2) = plt.subplots(1, 2, figsize=(12, 4))\n",
    "df_batting_100pa[\"PA\"].hist(ax=ax1)\n",
    "ax1.set_xlabel('Number of plate appearances')\n",
    "ax1.set_ylabel('Number of players')\n",
    "\n",
    "df_batting_100pa[\"OBP\"].hist(ax=ax2)\n",
    "ax2.set_xlabel('On-base percentage')\n",
    "ax2.set_ylabel('Number of players')"
   ]
  },
  {
   "cell_type": "code",
   "execution_count": 92,
   "metadata": {
    "ExecuteTime": {
     "end_time": "2020-02-03T05:44:28.821730Z",
     "start_time": "2020-02-03T05:44:28.789875Z"
    },
    "scrolled": true
   },
   "outputs": [
    {
     "data": {
      "text/plain": [
       "432"
      ]
     },
     "execution_count": 92,
     "metadata": {},
     "output_type": "execute_result"
    },
    {
     "data": {
      "application/javascript": [
       "\n",
       "            setTimeout(function() {\n",
       "                var nbb_cell_id = 92;\n",
       "                var nbb_unformatted_code = \"len(df_batting_100pa[\\\"key_mlbam\\\"].unique())\";\n",
       "                var nbb_formatted_code = \"len(df_batting_100pa[\\\"key_mlbam\\\"].unique())\";\n",
       "                var nbb_cells = Jupyter.notebook.get_cells();\n",
       "                for (var i = 0; i < nbb_cells.length; ++i) {\n",
       "                    if (nbb_cells[i].input_prompt_number == nbb_cell_id) {\n",
       "                        if (nbb_cells[i].get_text() == nbb_unformatted_code) {\n",
       "                             nbb_cells[i].set_text(nbb_formatted_code);\n",
       "                        }\n",
       "                        break;\n",
       "                    }\n",
       "                }\n",
       "            }, 500);\n",
       "            "
      ],
      "text/plain": [
       "<IPython.core.display.Javascript object>"
      ]
     },
     "metadata": {},
     "output_type": "display_data"
    }
   ],
   "source": [
    "len(df_batting_100pa[\"key_mlbam\"].unique())"
   ]
  },
  {
   "cell_type": "code",
   "execution_count": null,
   "metadata": {},
   "outputs": [],
   "source": [
    "# Who are the lower OBPs?\n"
   ]
  },
  {
   "cell_type": "markdown",
   "metadata": {},
   "source": [
    "## Pitcher stats -  to get a quick filter of pitchers\n",
    "\n",
    "- may have to engineer the OBP directly for a pitcher\n",
    "- just do WHIP for now\n",
    "- I could probably due a better filter than 100 ip but will leave it alone"
   ]
  },
  {
   "cell_type": "code",
   "execution_count": 93,
   "metadata": {
    "ExecuteTime": {
     "end_time": "2020-02-03T05:44:55.097341Z",
     "start_time": "2020-02-03T05:44:53.819053Z"
    }
   },
   "outputs": [
    {
     "name": "stdout",
     "output_type": "stream",
     "text": [
      "\n",
      "SELECT * FROM pitching_stats_wpid;\n",
      "\n"
     ]
    },
    {
     "data": {
      "text/html": [
       "<div>\n",
       "<style scoped>\n",
       "    .dataframe tbody tr th:only-of-type {\n",
       "        vertical-align: middle;\n",
       "    }\n",
       "\n",
       "    .dataframe tbody tr th {\n",
       "        vertical-align: top;\n",
       "    }\n",
       "\n",
       "    .dataframe thead th {\n",
       "        text-align: right;\n",
       "    }\n",
       "</style>\n",
       "<table border=\"1\" class=\"dataframe\">\n",
       "  <thead>\n",
       "    <tr style=\"text-align: right;\">\n",
       "      <th></th>\n",
       "      <th>Season</th>\n",
       "      <th>Name</th>\n",
       "      <th>Team</th>\n",
       "      <th>Age</th>\n",
       "      <th>W</th>\n",
       "      <th>L</th>\n",
       "      <th>ERA</th>\n",
       "      <th>WAR</th>\n",
       "      <th>G</th>\n",
       "      <th>GS</th>\n",
       "      <th>...</th>\n",
       "      <th>first_name</th>\n",
       "      <th>last_name</th>\n",
       "      <th>name_last</th>\n",
       "      <th>name_first</th>\n",
       "      <th>key_mlbam</th>\n",
       "      <th>key_retro</th>\n",
       "      <th>key_bbref</th>\n",
       "      <th>key_fangraphs</th>\n",
       "      <th>mlb_played_first</th>\n",
       "      <th>mlb_played_last</th>\n",
       "    </tr>\n",
       "  </thead>\n",
       "  <tbody>\n",
       "    <tr>\n",
       "      <th>0</th>\n",
       "      <td>2018.0</td>\n",
       "      <td>Jacob deGrom</td>\n",
       "      <td>Mets</td>\n",
       "      <td>30.0</td>\n",
       "      <td>10.0</td>\n",
       "      <td>9.0</td>\n",
       "      <td>1.70</td>\n",
       "      <td>9.0</td>\n",
       "      <td>32.0</td>\n",
       "      <td>32.0</td>\n",
       "      <td>...</td>\n",
       "      <td>jacob</td>\n",
       "      <td>degrom</td>\n",
       "      <td>degrom</td>\n",
       "      <td>jacob</td>\n",
       "      <td>594798.0</td>\n",
       "      <td>degrj001</td>\n",
       "      <td>degroja01</td>\n",
       "      <td>10954.0</td>\n",
       "      <td>2014.0</td>\n",
       "      <td>2019.0</td>\n",
       "    </tr>\n",
       "    <tr>\n",
       "      <th>2</th>\n",
       "      <td>2018.0</td>\n",
       "      <td>Max Scherzer</td>\n",
       "      <td>Nationals</td>\n",
       "      <td>33.0</td>\n",
       "      <td>18.0</td>\n",
       "      <td>7.0</td>\n",
       "      <td>2.53</td>\n",
       "      <td>7.5</td>\n",
       "      <td>33.0</td>\n",
       "      <td>33.0</td>\n",
       "      <td>...</td>\n",
       "      <td>max</td>\n",
       "      <td>scherzer</td>\n",
       "      <td>scherzer</td>\n",
       "      <td>max</td>\n",
       "      <td>453286.0</td>\n",
       "      <td>schem001</td>\n",
       "      <td>scherma01</td>\n",
       "      <td>3137.0</td>\n",
       "      <td>2008.0</td>\n",
       "      <td>2019.0</td>\n",
       "    </tr>\n",
       "    <tr>\n",
       "      <th>4</th>\n",
       "      <td>2018.0</td>\n",
       "      <td>Scott Kingery</td>\n",
       "      <td>Phillies</td>\n",
       "      <td>24.0</td>\n",
       "      <td>0.0</td>\n",
       "      <td>0.0</td>\n",
       "      <td>13.50</td>\n",
       "      <td>0.0</td>\n",
       "      <td>1.0</td>\n",
       "      <td>0.0</td>\n",
       "      <td>...</td>\n",
       "      <td>scott</td>\n",
       "      <td>kingery</td>\n",
       "      <td>kingery</td>\n",
       "      <td>scott</td>\n",
       "      <td>664068.0</td>\n",
       "      <td>kings001</td>\n",
       "      <td>kingesc01</td>\n",
       "      <td>17975.0</td>\n",
       "      <td>2018.0</td>\n",
       "      <td>2019.0</td>\n",
       "    </tr>\n",
       "    <tr>\n",
       "      <th>8</th>\n",
       "      <td>2018.0</td>\n",
       "      <td>Justin Verlander</td>\n",
       "      <td>Astros</td>\n",
       "      <td>35.0</td>\n",
       "      <td>16.0</td>\n",
       "      <td>9.0</td>\n",
       "      <td>2.52</td>\n",
       "      <td>6.6</td>\n",
       "      <td>34.0</td>\n",
       "      <td>34.0</td>\n",
       "      <td>...</td>\n",
       "      <td>justin</td>\n",
       "      <td>verlander</td>\n",
       "      <td>verlander</td>\n",
       "      <td>justin</td>\n",
       "      <td>434378.0</td>\n",
       "      <td>verlj001</td>\n",
       "      <td>verlaju01</td>\n",
       "      <td>8700.0</td>\n",
       "      <td>2005.0</td>\n",
       "      <td>2019.0</td>\n",
       "    </tr>\n",
       "    <tr>\n",
       "      <th>12</th>\n",
       "      <td>2018.0</td>\n",
       "      <td>Chris Sale</td>\n",
       "      <td>Red Sox</td>\n",
       "      <td>29.0</td>\n",
       "      <td>12.0</td>\n",
       "      <td>4.0</td>\n",
       "      <td>2.11</td>\n",
       "      <td>6.2</td>\n",
       "      <td>27.0</td>\n",
       "      <td>27.0</td>\n",
       "      <td>...</td>\n",
       "      <td>chris</td>\n",
       "      <td>sale</td>\n",
       "      <td>sale</td>\n",
       "      <td>chris</td>\n",
       "      <td>519242.0</td>\n",
       "      <td>salec001</td>\n",
       "      <td>salech01</td>\n",
       "      <td>10603.0</td>\n",
       "      <td>2010.0</td>\n",
       "      <td>2019.0</td>\n",
       "    </tr>\n",
       "    <tr>\n",
       "      <th>...</th>\n",
       "      <td>...</td>\n",
       "      <td>...</td>\n",
       "      <td>...</td>\n",
       "      <td>...</td>\n",
       "      <td>...</td>\n",
       "      <td>...</td>\n",
       "      <td>...</td>\n",
       "      <td>...</td>\n",
       "      <td>...</td>\n",
       "      <td>...</td>\n",
       "      <td>...</td>\n",
       "      <td>...</td>\n",
       "      <td>...</td>\n",
       "      <td>...</td>\n",
       "      <td>...</td>\n",
       "      <td>...</td>\n",
       "      <td>...</td>\n",
       "      <td>...</td>\n",
       "      <td>...</td>\n",
       "      <td>...</td>\n",
       "      <td>...</td>\n",
       "    </tr>\n",
       "    <tr>\n",
       "      <th>2334</th>\n",
       "      <td>2018.0</td>\n",
       "      <td>Blaine Boyer</td>\n",
       "      <td>Royals</td>\n",
       "      <td>36.0</td>\n",
       "      <td>2.0</td>\n",
       "      <td>1.0</td>\n",
       "      <td>12.05</td>\n",
       "      <td>-0.8</td>\n",
       "      <td>21.0</td>\n",
       "      <td>0.0</td>\n",
       "      <td>...</td>\n",
       "      <td>blaine</td>\n",
       "      <td>boyer</td>\n",
       "      <td>boyer</td>\n",
       "      <td>blaine</td>\n",
       "      <td>430641.0</td>\n",
       "      <td>boyeb001</td>\n",
       "      <td>boyerbl01</td>\n",
       "      <td>2237.0</td>\n",
       "      <td>2005.0</td>\n",
       "      <td>2018.0</td>\n",
       "    </tr>\n",
       "    <tr>\n",
       "      <th>2336</th>\n",
       "      <td>2018.0</td>\n",
       "      <td>Brandon Maurer</td>\n",
       "      <td>Royals</td>\n",
       "      <td>27.0</td>\n",
       "      <td>0.0</td>\n",
       "      <td>4.0</td>\n",
       "      <td>7.76</td>\n",
       "      <td>-0.8</td>\n",
       "      <td>37.0</td>\n",
       "      <td>0.0</td>\n",
       "      <td>...</td>\n",
       "      <td>brandon</td>\n",
       "      <td>maurer</td>\n",
       "      <td>maurer</td>\n",
       "      <td>brandon</td>\n",
       "      <td>543506.0</td>\n",
       "      <td>maurb001</td>\n",
       "      <td>maurebr01</td>\n",
       "      <td>4878.0</td>\n",
       "      <td>2013.0</td>\n",
       "      <td>2018.0</td>\n",
       "    </tr>\n",
       "    <tr>\n",
       "      <th>2341</th>\n",
       "      <td>2018.0</td>\n",
       "      <td>Matt Albers</td>\n",
       "      <td>Brewers</td>\n",
       "      <td>35.0</td>\n",
       "      <td>3.0</td>\n",
       "      <td>3.0</td>\n",
       "      <td>7.34</td>\n",
       "      <td>-0.9</td>\n",
       "      <td>34.0</td>\n",
       "      <td>0.0</td>\n",
       "      <td>...</td>\n",
       "      <td>matt</td>\n",
       "      <td>albers</td>\n",
       "      <td>albers</td>\n",
       "      <td>matt</td>\n",
       "      <td>458006.0</td>\n",
       "      <td>albem001</td>\n",
       "      <td>alberma01</td>\n",
       "      <td>4300.0</td>\n",
       "      <td>2006.0</td>\n",
       "      <td>2019.0</td>\n",
       "    </tr>\n",
       "    <tr>\n",
       "      <th>2359</th>\n",
       "      <td>2018.0</td>\n",
       "      <td>Jarlin Garcia</td>\n",
       "      <td>Marlins</td>\n",
       "      <td>25.0</td>\n",
       "      <td>3.0</td>\n",
       "      <td>3.0</td>\n",
       "      <td>4.91</td>\n",
       "      <td>-1.3</td>\n",
       "      <td>29.0</td>\n",
       "      <td>7.0</td>\n",
       "      <td>...</td>\n",
       "      <td>jarlin</td>\n",
       "      <td>garcia</td>\n",
       "      <td>garcia</td>\n",
       "      <td>jarlin</td>\n",
       "      <td>606424.0</td>\n",
       "      <td>garcj006</td>\n",
       "      <td>garcija04</td>\n",
       "      <td>18282.0</td>\n",
       "      <td>2017.0</td>\n",
       "      <td>2019.0</td>\n",
       "    </tr>\n",
       "    <tr>\n",
       "      <th>2360</th>\n",
       "      <td>2018.0</td>\n",
       "      <td>Josh Tomlin</td>\n",
       "      <td>Indians</td>\n",
       "      <td>33.0</td>\n",
       "      <td>2.0</td>\n",
       "      <td>5.0</td>\n",
       "      <td>6.14</td>\n",
       "      <td>-1.4</td>\n",
       "      <td>32.0</td>\n",
       "      <td>9.0</td>\n",
       "      <td>...</td>\n",
       "      <td>josh</td>\n",
       "      <td>tomlin</td>\n",
       "      <td>tomlin</td>\n",
       "      <td>josh</td>\n",
       "      <td>458708.0</td>\n",
       "      <td>tomlj001</td>\n",
       "      <td>tomlijo01</td>\n",
       "      <td>9388.0</td>\n",
       "      <td>2010.0</td>\n",
       "      <td>2019.0</td>\n",
       "    </tr>\n",
       "  </tbody>\n",
       "</table>\n",
       "<p>789 rows × 309 columns</p>\n",
       "</div>"
      ],
      "text/plain": [
       "      Season              Name       Team   Age     W    L    ERA  WAR     G  \\\n",
       "0     2018.0      Jacob deGrom       Mets  30.0  10.0  9.0   1.70  9.0  32.0   \n",
       "2     2018.0      Max Scherzer  Nationals  33.0  18.0  7.0   2.53  7.5  33.0   \n",
       "4     2018.0     Scott Kingery   Phillies  24.0   0.0  0.0  13.50  0.0   1.0   \n",
       "8     2018.0  Justin Verlander     Astros  35.0  16.0  9.0   2.52  6.6  34.0   \n",
       "12    2018.0        Chris Sale    Red Sox  29.0  12.0  4.0   2.11  6.2  27.0   \n",
       "...      ...               ...        ...   ...   ...  ...    ...  ...   ...   \n",
       "2334  2018.0      Blaine Boyer     Royals  36.0   2.0  1.0  12.05 -0.8  21.0   \n",
       "2336  2018.0    Brandon Maurer     Royals  27.0   0.0  4.0   7.76 -0.8  37.0   \n",
       "2341  2018.0       Matt Albers    Brewers  35.0   3.0  3.0   7.34 -0.9  34.0   \n",
       "2359  2018.0     Jarlin Garcia    Marlins  25.0   3.0  3.0   4.91 -1.3  29.0   \n",
       "2360  2018.0       Josh Tomlin    Indians  33.0   2.0  5.0   6.14 -1.4  32.0   \n",
       "\n",
       "        GS  ...  first_name  last_name  name_last  name_first  key_mlbam  \\\n",
       "0     32.0  ...       jacob     degrom     degrom       jacob   594798.0   \n",
       "2     33.0  ...         max   scherzer   scherzer         max   453286.0   \n",
       "4      0.0  ...       scott    kingery    kingery       scott   664068.0   \n",
       "8     34.0  ...      justin  verlander  verlander      justin   434378.0   \n",
       "12    27.0  ...       chris       sale       sale       chris   519242.0   \n",
       "...    ...  ...         ...        ...        ...         ...        ...   \n",
       "2334   0.0  ...      blaine      boyer      boyer      blaine   430641.0   \n",
       "2336   0.0  ...     brandon     maurer     maurer     brandon   543506.0   \n",
       "2341   0.0  ...        matt     albers     albers        matt   458006.0   \n",
       "2359   7.0  ...      jarlin     garcia     garcia      jarlin   606424.0   \n",
       "2360   9.0  ...        josh     tomlin     tomlin        josh   458708.0   \n",
       "\n",
       "      key_retro  key_bbref  key_fangraphs  mlb_played_first  mlb_played_last  \n",
       "0      degrj001  degroja01        10954.0            2014.0           2019.0  \n",
       "2      schem001  scherma01         3137.0            2008.0           2019.0  \n",
       "4      kings001  kingesc01        17975.0            2018.0           2019.0  \n",
       "8      verlj001  verlaju01         8700.0            2005.0           2019.0  \n",
       "12     salec001   salech01        10603.0            2010.0           2019.0  \n",
       "...         ...        ...            ...               ...              ...  \n",
       "2334   boyeb001  boyerbl01         2237.0            2005.0           2018.0  \n",
       "2336   maurb001  maurebr01         4878.0            2013.0           2018.0  \n",
       "2341   albem001  alberma01         4300.0            2006.0           2019.0  \n",
       "2359   garcj006  garcija04        18282.0            2017.0           2019.0  \n",
       "2360   tomlj001  tomlijo01         9388.0            2010.0           2019.0  \n",
       "\n",
       "[789 rows x 309 columns]"
      ]
     },
     "execution_count": 93,
     "metadata": {},
     "output_type": "execute_result"
    },
    {
     "data": {
      "application/javascript": [
       "\n",
       "            setTimeout(function() {\n",
       "                var nbb_cell_id = 93;\n",
       "                var nbb_unformatted_code = \"sql_query = \\\"\\\"\\\"\\nSELECT * FROM pitching_stats_wpid;\\n\\\"\\\"\\\"\\n\\nprint(sql_query)\\n\\ndf_pitching = pd.read_sql_query(sql_query, con)\\ndf_pitching = df_pitching[df_pitching[\\\"Season\\\"] == 2018].copy()\\n\\ndf_pitching.drop([\\\"index\\\"], axis=1)\";\n",
       "                var nbb_formatted_code = \"sql_query = \\\"\\\"\\\"\\nSELECT * FROM pitching_stats_wpid;\\n\\\"\\\"\\\"\\n\\nprint(sql_query)\\n\\ndf_pitching = pd.read_sql_query(sql_query, con)\\ndf_pitching = df_pitching[df_pitching[\\\"Season\\\"] == 2018].copy()\\n\\ndf_pitching.drop([\\\"index\\\"], axis=1)\";\n",
       "                var nbb_cells = Jupyter.notebook.get_cells();\n",
       "                for (var i = 0; i < nbb_cells.length; ++i) {\n",
       "                    if (nbb_cells[i].input_prompt_number == nbb_cell_id) {\n",
       "                        if (nbb_cells[i].get_text() == nbb_unformatted_code) {\n",
       "                             nbb_cells[i].set_text(nbb_formatted_code);\n",
       "                        }\n",
       "                        break;\n",
       "                    }\n",
       "                }\n",
       "            }, 500);\n",
       "            "
      ],
      "text/plain": [
       "<IPython.core.display.Javascript object>"
      ]
     },
     "metadata": {},
     "output_type": "display_data"
    }
   ],
   "source": [
    "sql_query = \"\"\"\n",
    "SELECT * FROM pitching_stats_wpid;\n",
    "\"\"\"\n",
    "\n",
    "print(sql_query)\n",
    "\n",
    "df_pitching = pd.read_sql_query(sql_query, con)\n",
    "df_pitching = df_pitching[df_pitching[\"Season\"] == 2018].copy()\n",
    "\n",
    "df_pitching.drop([\"index\"], axis=1)"
   ]
  },
  {
   "cell_type": "code",
   "execution_count": 68,
   "metadata": {
    "ExecuteTime": {
     "end_time": "2020-02-03T05:22:24.803349Z",
     "start_time": "2020-02-03T05:22:05.672911Z"
    }
   },
   "outputs": [
    {
     "data": {
      "application/javascript": [
       "\n",
       "            setTimeout(function() {\n",
       "                var nbb_cell_id = 68;\n",
       "                var nbb_unformatted_code = \"# Aggregate over 2015-2019\\n\\n# 100 IP, aggregated\\ndf_pitching1519agg_100ip = pitching_stats(2015, 2019, qual=100, ind=0)\";\n",
       "                var nbb_formatted_code = \"# Aggregate over 2015-2019\\n\\n# 100 IP, aggregated\\ndf_pitching1519agg_100ip = pitching_stats(2015, 2019, qual=100, ind=0)\";\n",
       "                var nbb_cells = Jupyter.notebook.get_cells();\n",
       "                for (var i = 0; i < nbb_cells.length; ++i) {\n",
       "                    if (nbb_cells[i].input_prompt_number == nbb_cell_id) {\n",
       "                        if (nbb_cells[i].get_text() == nbb_unformatted_code) {\n",
       "                             nbb_cells[i].set_text(nbb_formatted_code);\n",
       "                        }\n",
       "                        break;\n",
       "                    }\n",
       "                }\n",
       "            }, 500);\n",
       "            "
      ],
      "text/plain": [
       "<IPython.core.display.Javascript object>"
      ]
     },
     "metadata": {},
     "output_type": "display_data"
    }
   ],
   "source": [
    "# Aggregate over 2015-2019\n",
    "\n",
    "# 100 IP, aggregated\n",
    "# df_pitching1519agg_100ip = pitching_stats(2015, 2019, qual=100, ind=0)"
   ]
  },
  {
   "cell_type": "code",
   "execution_count": 76,
   "metadata": {
    "ExecuteTime": {
     "end_time": "2020-02-03T05:28:35.484890Z",
     "start_time": "2020-02-03T05:28:35.409471Z"
    },
    "code_folding": [],
    "collapsed": true
   },
   "outputs": [
    {
     "name": "stdout",
     "output_type": "stream",
     "text": [
      "['Lance', 'McCullers', 'Jr.']\n",
      "['Carl', 'Edwards', 'Jr.']\n",
      "['Jorge', 'De', 'La', 'Rosa']\n",
      "['Rubby', 'de', 'la', 'Rosa']\n",
      "['Robbie', 'Ross', 'Jr.']\n",
      "['Chi', 'Chi', 'Gonzalez']\n",
      "['Mike', 'Wright', 'Jr.']\n",
      "['Josh', 'A.', 'Smith']\n"
     ]
    },
    {
     "data": {
      "application/javascript": [
       "\n",
       "            setTimeout(function() {\n",
       "                var nbb_cell_id = 76;\n",
       "                var nbb_unformatted_code = \"first_name_list = list()\\nlast_name_list = list()\\n\\nfor name in df_pitching1519agg_100ip[\\\"Name\\\"]:\\n    name_list = name.split()\\n    if len(name_list) > 2:\\n        print(name_list)\\n        if (name_list[2] is \\\"Jr.\\\") or (name_list[2] is \\\"II\\\"):\\n            this_first_name = name_list[0]\\n            this_last_name = name_list[1]\\n        elif \\\"Rosa\\\" in name_list:\\n            this_first_name = name_list[0]\\n            this_last_name = name_list[1] + \\\" \\\" + name_list[2] + \\\" \\\" + name_list[3]\\n        elif \\\"Gonzalez\\\" in name_list:\\n            this_first_name = name_list[0] + name_list[1]\\n            this_last_name = name_list[2]\\n        elif \\\"Smith\\\" in name_list:\\n            this_first_name = name_list[0]\\n            this_last_name = name_list[2]\\n\\n    else:\\n        this_first_name = name_list[0]\\n        this_last_name = name_list[1]\\n\\n    first_name_list.append(this_first_name.lower())\\n    last_name_list.append(this_last_name.lower())\";\n",
       "                var nbb_formatted_code = \"first_name_list = list()\\nlast_name_list = list()\\n\\nfor name in df_pitching1519agg_100ip[\\\"Name\\\"]:\\n    name_list = name.split()\\n    if len(name_list) > 2:\\n        print(name_list)\\n        if (name_list[2] is \\\"Jr.\\\") or (name_list[2] is \\\"II\\\"):\\n            this_first_name = name_list[0]\\n            this_last_name = name_list[1]\\n        elif \\\"Rosa\\\" in name_list:\\n            this_first_name = name_list[0]\\n            this_last_name = name_list[1] + \\\" \\\" + name_list[2] + \\\" \\\" + name_list[3]\\n        elif \\\"Gonzalez\\\" in name_list:\\n            this_first_name = name_list[0] + name_list[1]\\n            this_last_name = name_list[2]\\n        elif \\\"Smith\\\" in name_list:\\n            this_first_name = name_list[0]\\n            this_last_name = name_list[2]\\n\\n    else:\\n        this_first_name = name_list[0]\\n        this_last_name = name_list[1]\\n\\n    first_name_list.append(this_first_name.lower())\\n    last_name_list.append(this_last_name.lower())\";\n",
       "                var nbb_cells = Jupyter.notebook.get_cells();\n",
       "                for (var i = 0; i < nbb_cells.length; ++i) {\n",
       "                    if (nbb_cells[i].input_prompt_number == nbb_cell_id) {\n",
       "                        if (nbb_cells[i].get_text() == nbb_unformatted_code) {\n",
       "                             nbb_cells[i].set_text(nbb_formatted_code);\n",
       "                        }\n",
       "                        break;\n",
       "                    }\n",
       "                }\n",
       "            }, 500);\n",
       "            "
      ],
      "text/plain": [
       "<IPython.core.display.Javascript object>"
      ]
     },
     "metadata": {},
     "output_type": "display_data"
    }
   ],
   "source": [
    "# first_name_list = list()\n",
    "# last_name_list = list()\n",
    "\n",
    "# for name in df_pitching1519agg_100ip[\"Name\"]:\n",
    "#     name_list = name.split()\n",
    "#     if len(name_list) > 2:\n",
    "#         print(name_list)\n",
    "#         if (name_list[2] is \"Jr.\") or (name_list[2] is \"II\"):\n",
    "#             this_first_name = name_list[0]\n",
    "#             this_last_name = name_list[1]\n",
    "#         elif \"Rosa\" in name_list:\n",
    "#             this_first_name = name_list[0]\n",
    "#             this_last_name = name_list[1] + \" \" + name_list[2] + \" \" + name_list[3]\n",
    "#         elif \"Gonzalez\" in name_list:\n",
    "#             this_first_name = name_list[0] + name_list[1]\n",
    "#             this_last_name = name_list[2]\n",
    "#         elif \"Smith\" in name_list:\n",
    "#             this_first_name = name_list[0]\n",
    "#             this_last_name = name_list[2]\n",
    "\n",
    "#     else:\n",
    "#         this_first_name = name_list[0]\n",
    "#         this_last_name = name_list[1]\n",
    "\n",
    "#     first_name_list.append(this_first_name.lower())\n",
    "#     last_name_list.append(this_last_name.lower())"
   ]
  },
  {
   "cell_type": "code",
   "execution_count": 77,
   "metadata": {
    "ExecuteTime": {
     "end_time": "2020-02-03T05:28:47.706620Z",
     "start_time": "2020-02-03T05:28:47.688814Z"
    }
   },
   "outputs": [
    {
     "data": {
      "application/javascript": [
       "\n",
       "            setTimeout(function() {\n",
       "                var nbb_cell_id = 77;\n",
       "                var nbb_unformatted_code = \"df_pitching1519agg_100ip[\\\"firstname4pid\\\"] = first_name_list\\ndf_pitching1519agg_100ip[\\\"lastname4pid\\\"] = last_name_list\";\n",
       "                var nbb_formatted_code = \"df_pitching1519agg_100ip[\\\"firstname4pid\\\"] = first_name_list\\ndf_pitching1519agg_100ip[\\\"lastname4pid\\\"] = last_name_list\";\n",
       "                var nbb_cells = Jupyter.notebook.get_cells();\n",
       "                for (var i = 0; i < nbb_cells.length; ++i) {\n",
       "                    if (nbb_cells[i].input_prompt_number == nbb_cell_id) {\n",
       "                        if (nbb_cells[i].get_text() == nbb_unformatted_code) {\n",
       "                             nbb_cells[i].set_text(nbb_formatted_code);\n",
       "                        }\n",
       "                        break;\n",
       "                    }\n",
       "                }\n",
       "            }, 500);\n",
       "            "
      ],
      "text/plain": [
       "<IPython.core.display.Javascript object>"
      ]
     },
     "metadata": {},
     "output_type": "display_data"
    }
   ],
   "source": [
    "# df_pitching1519agg_100ip[\"firstname4pid\"] = first_name_list\n",
    "# df_pitching1519agg_100ip[\"lastname4pid\"] = last_name_list\n",
    "\n",
    "# df_pitching1519agg_100ip_wpid = pd.merge(\n",
    "#     df_pitching1519agg_100ip,\n",
    "#     df_player_id,\n",
    "#     left_on=[\"lastname4pid\", \"firstname4pid\"],\n",
    "#     right_on=[\"name_last\", \"name_first\"],\n",
    "# )\n",
    "\n",
    "# df_pitching1519agg_100ip_wpid.shape"
   ]
  },
  {
   "cell_type": "code",
   "execution_count": 95,
   "metadata": {
    "ExecuteTime": {
     "end_time": "2020-02-03T05:46:49.866603Z",
     "start_time": "2020-02-03T05:46:49.845353Z"
    }
   },
   "outputs": [
    {
     "data": {
      "application/javascript": [
       "\n",
       "            setTimeout(function() {\n",
       "                var nbb_cell_id = 95;\n",
       "                var nbb_unformatted_code = \"df_pitching_50ip = df_pitching[df_pitching[\\\"IP\\\"]>50].copy()\";\n",
       "                var nbb_formatted_code = \"df_pitching_50ip = df_pitching[df_pitching[\\\"IP\\\"] > 50].copy()\";\n",
       "                var nbb_cells = Jupyter.notebook.get_cells();\n",
       "                for (var i = 0; i < nbb_cells.length; ++i) {\n",
       "                    if (nbb_cells[i].input_prompt_number == nbb_cell_id) {\n",
       "                        if (nbb_cells[i].get_text() == nbb_unformatted_code) {\n",
       "                             nbb_cells[i].set_text(nbb_formatted_code);\n",
       "                        }\n",
       "                        break;\n",
       "                    }\n",
       "                }\n",
       "            }, 500);\n",
       "            "
      ],
      "text/plain": [
       "<IPython.core.display.Javascript object>"
      ]
     },
     "metadata": {},
     "output_type": "display_data"
    }
   ],
   "source": [
    "df_pitching_50ip = df_pitching[df_pitching[\"IP\"] > 50].copy()"
   ]
  },
  {
   "cell_type": "code",
   "execution_count": 96,
   "metadata": {
    "ExecuteTime": {
     "end_time": "2020-02-03T05:46:57.526565Z",
     "start_time": "2020-02-03T05:46:57.485402Z"
    }
   },
   "outputs": [
    {
     "data": {
      "text/html": [
       "<div>\n",
       "<style scoped>\n",
       "    .dataframe tbody tr th:only-of-type {\n",
       "        vertical-align: middle;\n",
       "    }\n",
       "\n",
       "    .dataframe tbody tr th {\n",
       "        vertical-align: top;\n",
       "    }\n",
       "\n",
       "    .dataframe thead th {\n",
       "        text-align: right;\n",
       "    }\n",
       "</style>\n",
       "<table border=\"1\" class=\"dataframe\">\n",
       "  <thead>\n",
       "    <tr style=\"text-align: right;\">\n",
       "      <th></th>\n",
       "      <th>index</th>\n",
       "      <th>Season</th>\n",
       "      <th>Name</th>\n",
       "      <th>Team</th>\n",
       "      <th>Age</th>\n",
       "      <th>W</th>\n",
       "      <th>L</th>\n",
       "      <th>ERA</th>\n",
       "      <th>WAR</th>\n",
       "      <th>G</th>\n",
       "      <th>...</th>\n",
       "      <th>first_name</th>\n",
       "      <th>last_name</th>\n",
       "      <th>name_last</th>\n",
       "      <th>name_first</th>\n",
       "      <th>key_mlbam</th>\n",
       "      <th>key_retro</th>\n",
       "      <th>key_bbref</th>\n",
       "      <th>key_fangraphs</th>\n",
       "      <th>mlb_played_first</th>\n",
       "      <th>mlb_played_last</th>\n",
       "    </tr>\n",
       "  </thead>\n",
       "  <tbody>\n",
       "    <tr>\n",
       "      <th>0</th>\n",
       "      <td>0</td>\n",
       "      <td>2018.0</td>\n",
       "      <td>Jacob deGrom</td>\n",
       "      <td>Mets</td>\n",
       "      <td>30.0</td>\n",
       "      <td>10.0</td>\n",
       "      <td>9.0</td>\n",
       "      <td>1.70</td>\n",
       "      <td>9.0</td>\n",
       "      <td>32.0</td>\n",
       "      <td>...</td>\n",
       "      <td>jacob</td>\n",
       "      <td>degrom</td>\n",
       "      <td>degrom</td>\n",
       "      <td>jacob</td>\n",
       "      <td>594798.0</td>\n",
       "      <td>degrj001</td>\n",
       "      <td>degroja01</td>\n",
       "      <td>10954.0</td>\n",
       "      <td>2014.0</td>\n",
       "      <td>2019.0</td>\n",
       "    </tr>\n",
       "    <tr>\n",
       "      <th>2</th>\n",
       "      <td>2</td>\n",
       "      <td>2018.0</td>\n",
       "      <td>Max Scherzer</td>\n",
       "      <td>Nationals</td>\n",
       "      <td>33.0</td>\n",
       "      <td>18.0</td>\n",
       "      <td>7.0</td>\n",
       "      <td>2.53</td>\n",
       "      <td>7.5</td>\n",
       "      <td>33.0</td>\n",
       "      <td>...</td>\n",
       "      <td>max</td>\n",
       "      <td>scherzer</td>\n",
       "      <td>scherzer</td>\n",
       "      <td>max</td>\n",
       "      <td>453286.0</td>\n",
       "      <td>schem001</td>\n",
       "      <td>scherma01</td>\n",
       "      <td>3137.0</td>\n",
       "      <td>2008.0</td>\n",
       "      <td>2019.0</td>\n",
       "    </tr>\n",
       "    <tr>\n",
       "      <th>8</th>\n",
       "      <td>7</td>\n",
       "      <td>2018.0</td>\n",
       "      <td>Justin Verlander</td>\n",
       "      <td>Astros</td>\n",
       "      <td>35.0</td>\n",
       "      <td>16.0</td>\n",
       "      <td>9.0</td>\n",
       "      <td>2.52</td>\n",
       "      <td>6.6</td>\n",
       "      <td>34.0</td>\n",
       "      <td>...</td>\n",
       "      <td>justin</td>\n",
       "      <td>verlander</td>\n",
       "      <td>verlander</td>\n",
       "      <td>justin</td>\n",
       "      <td>434378.0</td>\n",
       "      <td>verlj001</td>\n",
       "      <td>verlaju01</td>\n",
       "      <td>8700.0</td>\n",
       "      <td>2005.0</td>\n",
       "      <td>2019.0</td>\n",
       "    </tr>\n",
       "    <tr>\n",
       "      <th>12</th>\n",
       "      <td>11</td>\n",
       "      <td>2018.0</td>\n",
       "      <td>Chris Sale</td>\n",
       "      <td>Red Sox</td>\n",
       "      <td>29.0</td>\n",
       "      <td>12.0</td>\n",
       "      <td>4.0</td>\n",
       "      <td>2.11</td>\n",
       "      <td>6.2</td>\n",
       "      <td>27.0</td>\n",
       "      <td>...</td>\n",
       "      <td>chris</td>\n",
       "      <td>sale</td>\n",
       "      <td>sale</td>\n",
       "      <td>chris</td>\n",
       "      <td>519242.0</td>\n",
       "      <td>salec001</td>\n",
       "      <td>salech01</td>\n",
       "      <td>10603.0</td>\n",
       "      <td>2010.0</td>\n",
       "      <td>2019.0</td>\n",
       "    </tr>\n",
       "    <tr>\n",
       "      <th>14</th>\n",
       "      <td>13</td>\n",
       "      <td>2018.0</td>\n",
       "      <td>Gerrit Cole</td>\n",
       "      <td>Astros</td>\n",
       "      <td>27.0</td>\n",
       "      <td>15.0</td>\n",
       "      <td>5.0</td>\n",
       "      <td>2.88</td>\n",
       "      <td>6.0</td>\n",
       "      <td>32.0</td>\n",
       "      <td>...</td>\n",
       "      <td>gerrit</td>\n",
       "      <td>cole</td>\n",
       "      <td>cole</td>\n",
       "      <td>gerrit</td>\n",
       "      <td>543037.0</td>\n",
       "      <td>coleg001</td>\n",
       "      <td>colege01</td>\n",
       "      <td>13125.0</td>\n",
       "      <td>2013.0</td>\n",
       "      <td>2019.0</td>\n",
       "    </tr>\n",
       "  </tbody>\n",
       "</table>\n",
       "<p>5 rows × 310 columns</p>\n",
       "</div>"
      ],
      "text/plain": [
       "    index  Season              Name       Team   Age     W    L   ERA  WAR  \\\n",
       "0       0  2018.0      Jacob deGrom       Mets  30.0  10.0  9.0  1.70  9.0   \n",
       "2       2  2018.0      Max Scherzer  Nationals  33.0  18.0  7.0  2.53  7.5   \n",
       "8       7  2018.0  Justin Verlander     Astros  35.0  16.0  9.0  2.52  6.6   \n",
       "12     11  2018.0        Chris Sale    Red Sox  29.0  12.0  4.0  2.11  6.2   \n",
       "14     13  2018.0       Gerrit Cole     Astros  27.0  15.0  5.0  2.88  6.0   \n",
       "\n",
       "       G  ...  first_name  last_name  name_last  name_first  key_mlbam  \\\n",
       "0   32.0  ...       jacob     degrom     degrom       jacob   594798.0   \n",
       "2   33.0  ...         max   scherzer   scherzer         max   453286.0   \n",
       "8   34.0  ...      justin  verlander  verlander      justin   434378.0   \n",
       "12  27.0  ...       chris       sale       sale       chris   519242.0   \n",
       "14  32.0  ...      gerrit       cole       cole      gerrit   543037.0   \n",
       "\n",
       "    key_retro  key_bbref  key_fangraphs  mlb_played_first  mlb_played_last  \n",
       "0    degrj001  degroja01        10954.0            2014.0           2019.0  \n",
       "2    schem001  scherma01         3137.0            2008.0           2019.0  \n",
       "8    verlj001  verlaju01         8700.0            2005.0           2019.0  \n",
       "12   salec001   salech01        10603.0            2010.0           2019.0  \n",
       "14   coleg001   colege01        13125.0            2013.0           2019.0  \n",
       "\n",
       "[5 rows x 310 columns]"
      ]
     },
     "execution_count": 96,
     "metadata": {},
     "output_type": "execute_result"
    },
    {
     "data": {
      "application/javascript": [
       "\n",
       "            setTimeout(function() {\n",
       "                var nbb_cell_id = 96;\n",
       "                var nbb_unformatted_code = \"df_pitching_50ip.head()\";\n",
       "                var nbb_formatted_code = \"df_pitching_50ip.head()\";\n",
       "                var nbb_cells = Jupyter.notebook.get_cells();\n",
       "                for (var i = 0; i < nbb_cells.length; ++i) {\n",
       "                    if (nbb_cells[i].input_prompt_number == nbb_cell_id) {\n",
       "                        if (nbb_cells[i].get_text() == nbb_unformatted_code) {\n",
       "                             nbb_cells[i].set_text(nbb_formatted_code);\n",
       "                        }\n",
       "                        break;\n",
       "                    }\n",
       "                }\n",
       "            }, 500);\n",
       "            "
      ],
      "text/plain": [
       "<IPython.core.display.Javascript object>"
      ]
     },
     "metadata": {},
     "output_type": "display_data"
    }
   ],
   "source": [
    "df_pitching_50ip.head()"
   ]
  },
  {
   "cell_type": "markdown",
   "metadata": {},
   "source": [
    "## Merge statcast, batting, pitching dfs"
   ]
  },
  {
   "cell_type": "code",
   "execution_count": 82,
   "metadata": {
    "ExecuteTime": {
     "end_time": "2020-02-03T05:34:08.876951Z",
     "start_time": "2020-02-03T05:34:08.855382Z"
    }
   },
   "outputs": [
    {
     "data": {
      "text/html": [
       "<div>\n",
       "<style scoped>\n",
       "    .dataframe tbody tr th:only-of-type {\n",
       "        vertical-align: middle;\n",
       "    }\n",
       "\n",
       "    .dataframe tbody tr th {\n",
       "        vertical-align: top;\n",
       "    }\n",
       "\n",
       "    .dataframe thead th {\n",
       "        text-align: right;\n",
       "    }\n",
       "</style>\n",
       "<table border=\"1\" class=\"dataframe\">\n",
       "  <thead>\n",
       "    <tr style=\"text-align: right;\">\n",
       "      <th></th>\n",
       "      <th>game_date</th>\n",
       "      <th>batter</th>\n",
       "      <th>pitcher</th>\n",
       "      <th>events</th>\n",
       "      <th>stand</th>\n",
       "      <th>p_throws</th>\n",
       "      <th>inning_topbot</th>\n",
       "    </tr>\n",
       "  </thead>\n",
       "  <tbody>\n",
       "    <tr>\n",
       "      <th>0</th>\n",
       "      <td>2015-10-04</td>\n",
       "      <td>150029.0</td>\n",
       "      <td>544727.0</td>\n",
       "      <td>field_out</td>\n",
       "      <td>R</td>\n",
       "      <td>R</td>\n",
       "      <td>Top</td>\n",
       "    </tr>\n",
       "    <tr>\n",
       "      <th>1</th>\n",
       "      <td>2015-10-04</td>\n",
       "      <td>547180.0</td>\n",
       "      <td>544727.0</td>\n",
       "      <td>double</td>\n",
       "      <td>L</td>\n",
       "      <td>R</td>\n",
       "      <td>Top</td>\n",
       "    </tr>\n",
       "    <tr>\n",
       "      <th>2</th>\n",
       "      <td>2015-10-04</td>\n",
       "      <td>607208.0</td>\n",
       "      <td>544727.0</td>\n",
       "      <td>strikeout</td>\n",
       "      <td>R</td>\n",
       "      <td>R</td>\n",
       "      <td>Top</td>\n",
       "    </tr>\n",
       "    <tr>\n",
       "      <th>3</th>\n",
       "      <td>2015-10-04</td>\n",
       "      <td>543685.0</td>\n",
       "      <td>544727.0</td>\n",
       "      <td>field_out</td>\n",
       "      <td>R</td>\n",
       "      <td>R</td>\n",
       "      <td>Top</td>\n",
       "    </tr>\n",
       "    <tr>\n",
       "      <th>4</th>\n",
       "      <td>2015-10-04</td>\n",
       "      <td>502517.0</td>\n",
       "      <td>595014.0</td>\n",
       "      <td>grounded_into_double_play</td>\n",
       "      <td>L</td>\n",
       "      <td>R</td>\n",
       "      <td>Bot</td>\n",
       "    </tr>\n",
       "  </tbody>\n",
       "</table>\n",
       "</div>"
      ],
      "text/plain": [
       "   game_date    batter   pitcher                     events stand p_throws  \\\n",
       "0 2015-10-04  150029.0  544727.0                  field_out     R        R   \n",
       "1 2015-10-04  547180.0  544727.0                     double     L        R   \n",
       "2 2015-10-04  607208.0  544727.0                  strikeout     R        R   \n",
       "3 2015-10-04  543685.0  544727.0                  field_out     R        R   \n",
       "4 2015-10-04  502517.0  595014.0  grounded_into_double_play     L        R   \n",
       "\n",
       "  inning_topbot  \n",
       "0           Top  \n",
       "1           Top  \n",
       "2           Top  \n",
       "3           Top  \n",
       "4           Bot  "
      ]
     },
     "execution_count": 82,
     "metadata": {},
     "output_type": "execute_result"
    },
    {
     "data": {
      "application/javascript": [
       "\n",
       "            setTimeout(function() {\n",
       "                var nbb_cell_id = 82;\n",
       "                var nbb_unformatted_code = \"df_sc_events_all.head()\";\n",
       "                var nbb_formatted_code = \"df_sc_events_all.head()\";\n",
       "                var nbb_cells = Jupyter.notebook.get_cells();\n",
       "                for (var i = 0; i < nbb_cells.length; ++i) {\n",
       "                    if (nbb_cells[i].input_prompt_number == nbb_cell_id) {\n",
       "                        if (nbb_cells[i].get_text() == nbb_unformatted_code) {\n",
       "                             nbb_cells[i].set_text(nbb_formatted_code);\n",
       "                        }\n",
       "                        break;\n",
       "                    }\n",
       "                }\n",
       "            }, 500);\n",
       "            "
      ],
      "text/plain": [
       "<IPython.core.display.Javascript object>"
      ]
     },
     "metadata": {},
     "output_type": "display_data"
    }
   ],
   "source": [
    "df_sc_events_all.head()"
   ]
  },
  {
   "cell_type": "code",
   "execution_count": 98,
   "metadata": {
    "ExecuteTime": {
     "end_time": "2020-02-03T05:48:03.829303Z",
     "start_time": "2020-02-03T05:48:01.950082Z"
    }
   },
   "outputs": [
    {
     "data": {
      "application/javascript": [
       "\n",
       "            setTimeout(function() {\n",
       "                var nbb_cell_id = 98;\n",
       "                var nbb_unformatted_code = \"# Merge statcast data to batter characteristics\\ncolbatter2get = [\\\"WAR\\\", \\\"OBP\\\", \\\"SLG\\\", \\\"OPS\\\", \\\"BB_perc\\\", \\\"K_perc\\\", \\\"key_mlbam\\\"]\\n\\ndf_sc_events_all_b = pd.merge(\\n    df_sc_events_all,\\n    df_batting_100pa[colbatter2get],\\n    left_on=\\\"batter\\\",\\n    right_on=\\\"key_mlbam\\\",\\n)\";\n",
       "                var nbb_formatted_code = \"# Merge statcast data to batter characteristics\\ncolbatter2get = [\\\"WAR\\\", \\\"OBP\\\", \\\"SLG\\\", \\\"OPS\\\", \\\"BB_perc\\\", \\\"K_perc\\\", \\\"key_mlbam\\\"]\\n\\ndf_sc_events_all_b = pd.merge(\\n    df_sc_events_all,\\n    df_batting_100pa[colbatter2get],\\n    left_on=\\\"batter\\\",\\n    right_on=\\\"key_mlbam\\\",\\n)\";\n",
       "                var nbb_cells = Jupyter.notebook.get_cells();\n",
       "                for (var i = 0; i < nbb_cells.length; ++i) {\n",
       "                    if (nbb_cells[i].input_prompt_number == nbb_cell_id) {\n",
       "                        if (nbb_cells[i].get_text() == nbb_unformatted_code) {\n",
       "                             nbb_cells[i].set_text(nbb_formatted_code);\n",
       "                        }\n",
       "                        break;\n",
       "                    }\n",
       "                }\n",
       "            }, 500);\n",
       "            "
      ],
      "text/plain": [
       "<IPython.core.display.Javascript object>"
      ]
     },
     "metadata": {},
     "output_type": "display_data"
    }
   ],
   "source": [
    "# Merge statcast data to batter characteristics\n",
    "colbatter2get = [\"WAR\", \"OBP\", \"SLG\", \"OPS\", \"BB_perc\", \"K_perc\", \"key_mlbam\"]\n",
    "\n",
    "df_sc_events_all_b = pd.merge(\n",
    "    df_sc_events_all,\n",
    "    df_batting_100pa[colbatter2get],\n",
    "    left_on=\"batter\",\n",
    "    right_on=\"key_mlbam\",\n",
    ")"
   ]
  },
  {
   "cell_type": "code",
   "execution_count": null,
   "metadata": {},
   "outputs": [],
   "source": []
  },
  {
   "cell_type": "code",
   "execution_count": 100,
   "metadata": {
    "ExecuteTime": {
     "end_time": "2020-02-03T05:51:39.757922Z",
     "start_time": "2020-02-03T05:51:39.274890Z"
    }
   },
   "outputs": [
    {
     "data": {
      "application/javascript": [
       "\n",
       "            setTimeout(function() {\n",
       "                var nbb_cell_id = 100;\n",
       "                var nbb_unformatted_code = \"# Merge pitcher characteristics\\ncolpitcher2get = [\\\"WAR\\\", \\\"WHIP\\\", \\\"ERA\\\", \\\"BB/9\\\", \\\"K/9\\\", \\\"HR/9\\\", \\\"key_mlbam\\\"]\\n\\ndf_sc_events_all_bp = pd.merge(\\n    df_sc_events_all_b,\\n    df_pitching_50ip[colpitcher2get],\\n    left_on=\\\"pitcher\\\",\\n    right_on=\\\"key_mlbam\\\",\\n)\";\n",
       "                var nbb_formatted_code = \"# Merge pitcher characteristics\\ncolpitcher2get = [\\\"WAR\\\", \\\"WHIP\\\", \\\"ERA\\\", \\\"BB/9\\\", \\\"K/9\\\", \\\"HR/9\\\", \\\"key_mlbam\\\"]\\n\\ndf_sc_events_all_bp = pd.merge(\\n    df_sc_events_all_b,\\n    df_pitching_50ip[colpitcher2get],\\n    left_on=\\\"pitcher\\\",\\n    right_on=\\\"key_mlbam\\\",\\n)\";\n",
       "                var nbb_cells = Jupyter.notebook.get_cells();\n",
       "                for (var i = 0; i < nbb_cells.length; ++i) {\n",
       "                    if (nbb_cells[i].input_prompt_number == nbb_cell_id) {\n",
       "                        if (nbb_cells[i].get_text() == nbb_unformatted_code) {\n",
       "                             nbb_cells[i].set_text(nbb_formatted_code);\n",
       "                        }\n",
       "                        break;\n",
       "                    }\n",
       "                }\n",
       "            }, 500);\n",
       "            "
      ],
      "text/plain": [
       "<IPython.core.display.Javascript object>"
      ]
     },
     "metadata": {},
     "output_type": "display_data"
    }
   ],
   "source": [
    "# Merge pitcher characteristics\n",
    "colpitcher2get = [\"WAR\", \"WHIP\", \"ERA\", \"BB/9\", \"K/9\", \"HR/9\", \"key_mlbam\"]\n",
    "\n",
    "df_sc_events_all_bp = pd.merge(\n",
    "    df_sc_events_all_b,\n",
    "    df_pitching_50ip[colpitcher2get],\n",
    "    left_on=\"pitcher\",\n",
    "    right_on=\"key_mlbam\",\n",
    ")"
   ]
  },
  {
   "cell_type": "code",
   "execution_count": 101,
   "metadata": {
    "ExecuteTime": {
     "end_time": "2020-02-03T05:51:47.338542Z",
     "start_time": "2020-02-03T05:51:47.329815Z"
    }
   },
   "outputs": [
    {
     "data": {
      "text/plain": [
       "(413566, 21)"
      ]
     },
     "execution_count": 101,
     "metadata": {},
     "output_type": "execute_result"
    },
    {
     "data": {
      "application/javascript": [
       "\n",
       "            setTimeout(function() {\n",
       "                var nbb_cell_id = 101;\n",
       "                var nbb_unformatted_code = \"df_sc_events_all_bp.shape\";\n",
       "                var nbb_formatted_code = \"df_sc_events_all_bp.shape\";\n",
       "                var nbb_cells = Jupyter.notebook.get_cells();\n",
       "                for (var i = 0; i < nbb_cells.length; ++i) {\n",
       "                    if (nbb_cells[i].input_prompt_number == nbb_cell_id) {\n",
       "                        if (nbb_cells[i].get_text() == nbb_unformatted_code) {\n",
       "                             nbb_cells[i].set_text(nbb_formatted_code);\n",
       "                        }\n",
       "                        break;\n",
       "                    }\n",
       "                }\n",
       "            }, 500);\n",
       "            "
      ],
      "text/plain": [
       "<IPython.core.display.Javascript object>"
      ]
     },
     "metadata": {},
     "output_type": "display_data"
    }
   ],
   "source": [
    "df_sc_events_all_bp.shape"
   ]
  },
  {
   "cell_type": "code",
   "execution_count": 102,
   "metadata": {
    "ExecuteTime": {
     "end_time": "2020-02-03T05:52:50.206117Z",
     "start_time": "2020-02-03T05:52:50.159482Z"
    }
   },
   "outputs": [
    {
     "data": {
      "text/html": [
       "<div>\n",
       "<style scoped>\n",
       "    .dataframe tbody tr th:only-of-type {\n",
       "        vertical-align: middle;\n",
       "    }\n",
       "\n",
       "    .dataframe tbody tr th {\n",
       "        vertical-align: top;\n",
       "    }\n",
       "\n",
       "    .dataframe thead th {\n",
       "        text-align: right;\n",
       "    }\n",
       "</style>\n",
       "<table border=\"1\" class=\"dataframe\">\n",
       "  <thead>\n",
       "    <tr style=\"text-align: right;\">\n",
       "      <th></th>\n",
       "      <th>game_date</th>\n",
       "      <th>batter</th>\n",
       "      <th>pitcher</th>\n",
       "      <th>events</th>\n",
       "      <th>stand</th>\n",
       "      <th>p_throws</th>\n",
       "      <th>inning_topbot</th>\n",
       "      <th>WAR_x</th>\n",
       "      <th>OBP</th>\n",
       "      <th>SLG</th>\n",
       "      <th>...</th>\n",
       "      <th>BB_perc</th>\n",
       "      <th>K_perc</th>\n",
       "      <th>key_mlbam_x</th>\n",
       "      <th>WAR_y</th>\n",
       "      <th>WHIP</th>\n",
       "      <th>ERA</th>\n",
       "      <th>BB/9</th>\n",
       "      <th>K/9</th>\n",
       "      <th>HR/9</th>\n",
       "      <th>key_mlbam_y</th>\n",
       "    </tr>\n",
       "  </thead>\n",
       "  <tbody>\n",
       "    <tr>\n",
       "      <th>0</th>\n",
       "      <td>2015-10-04</td>\n",
       "      <td>547180.0</td>\n",
       "      <td>544727.0</td>\n",
       "      <td>double</td>\n",
       "      <td>L</td>\n",
       "      <td>R</td>\n",
       "      <td>Top</td>\n",
       "      <td>3.4</td>\n",
       "      <td>0.393</td>\n",
       "      <td>0.496</td>\n",
       "      <td>...</td>\n",
       "      <td>0.187</td>\n",
       "      <td>0.243</td>\n",
       "      <td>547180</td>\n",
       "      <td>1.8</td>\n",
       "      <td>1.22</td>\n",
       "      <td>3.13</td>\n",
       "      <td>3.5</td>\n",
       "      <td>10.38</td>\n",
       "      <td>0.38</td>\n",
       "      <td>544727.0</td>\n",
       "    </tr>\n",
       "    <tr>\n",
       "      <th>1</th>\n",
       "      <td>2015-09-08</td>\n",
       "      <td>547180.0</td>\n",
       "      <td>544727.0</td>\n",
       "      <td>walk</td>\n",
       "      <td>L</td>\n",
       "      <td>R</td>\n",
       "      <td>Bot</td>\n",
       "      <td>3.4</td>\n",
       "      <td>0.393</td>\n",
       "      <td>0.496</td>\n",
       "      <td>...</td>\n",
       "      <td>0.187</td>\n",
       "      <td>0.243</td>\n",
       "      <td>547180</td>\n",
       "      <td>1.8</td>\n",
       "      <td>1.22</td>\n",
       "      <td>3.13</td>\n",
       "      <td>3.5</td>\n",
       "      <td>10.38</td>\n",
       "      <td>0.38</td>\n",
       "      <td>544727.0</td>\n",
       "    </tr>\n",
       "    <tr>\n",
       "      <th>2</th>\n",
       "      <td>2015-09-07</td>\n",
       "      <td>547180.0</td>\n",
       "      <td>544727.0</td>\n",
       "      <td>strikeout</td>\n",
       "      <td>L</td>\n",
       "      <td>R</td>\n",
       "      <td>Bot</td>\n",
       "      <td>3.4</td>\n",
       "      <td>0.393</td>\n",
       "      <td>0.496</td>\n",
       "      <td>...</td>\n",
       "      <td>0.187</td>\n",
       "      <td>0.243</td>\n",
       "      <td>547180</td>\n",
       "      <td>1.8</td>\n",
       "      <td>1.22</td>\n",
       "      <td>3.13</td>\n",
       "      <td>3.5</td>\n",
       "      <td>10.38</td>\n",
       "      <td>0.38</td>\n",
       "      <td>544727.0</td>\n",
       "    </tr>\n",
       "    <tr>\n",
       "      <th>3</th>\n",
       "      <td>2015-07-21</td>\n",
       "      <td>547180.0</td>\n",
       "      <td>544727.0</td>\n",
       "      <td>hit_by_pitch</td>\n",
       "      <td>L</td>\n",
       "      <td>R</td>\n",
       "      <td>Bot</td>\n",
       "      <td>3.4</td>\n",
       "      <td>0.393</td>\n",
       "      <td>0.496</td>\n",
       "      <td>...</td>\n",
       "      <td>0.187</td>\n",
       "      <td>0.243</td>\n",
       "      <td>547180</td>\n",
       "      <td>1.8</td>\n",
       "      <td>1.22</td>\n",
       "      <td>3.13</td>\n",
       "      <td>3.5</td>\n",
       "      <td>10.38</td>\n",
       "      <td>0.38</td>\n",
       "      <td>544727.0</td>\n",
       "    </tr>\n",
       "    <tr>\n",
       "      <th>4</th>\n",
       "      <td>2015-05-03</td>\n",
       "      <td>547180.0</td>\n",
       "      <td>544727.0</td>\n",
       "      <td>strikeout</td>\n",
       "      <td>L</td>\n",
       "      <td>R</td>\n",
       "      <td>Top</td>\n",
       "      <td>3.4</td>\n",
       "      <td>0.393</td>\n",
       "      <td>0.496</td>\n",
       "      <td>...</td>\n",
       "      <td>0.187</td>\n",
       "      <td>0.243</td>\n",
       "      <td>547180</td>\n",
       "      <td>1.8</td>\n",
       "      <td>1.22</td>\n",
       "      <td>3.13</td>\n",
       "      <td>3.5</td>\n",
       "      <td>10.38</td>\n",
       "      <td>0.38</td>\n",
       "      <td>544727.0</td>\n",
       "    </tr>\n",
       "  </tbody>\n",
       "</table>\n",
       "<p>5 rows × 21 columns</p>\n",
       "</div>"
      ],
      "text/plain": [
       "   game_date    batter   pitcher        events stand p_throws inning_topbot  \\\n",
       "0 2015-10-04  547180.0  544727.0        double     L        R           Top   \n",
       "1 2015-09-08  547180.0  544727.0          walk     L        R           Bot   \n",
       "2 2015-09-07  547180.0  544727.0     strikeout     L        R           Bot   \n",
       "3 2015-07-21  547180.0  544727.0  hit_by_pitch     L        R           Bot   \n",
       "4 2015-05-03  547180.0  544727.0     strikeout     L        R           Top   \n",
       "\n",
       "   WAR_x    OBP    SLG  ...  BB_perc  K_perc  key_mlbam_x  WAR_y  WHIP   ERA  \\\n",
       "0    3.4  0.393  0.496  ...    0.187   0.243       547180    1.8  1.22  3.13   \n",
       "1    3.4  0.393  0.496  ...    0.187   0.243       547180    1.8  1.22  3.13   \n",
       "2    3.4  0.393  0.496  ...    0.187   0.243       547180    1.8  1.22  3.13   \n",
       "3    3.4  0.393  0.496  ...    0.187   0.243       547180    1.8  1.22  3.13   \n",
       "4    3.4  0.393  0.496  ...    0.187   0.243       547180    1.8  1.22  3.13   \n",
       "\n",
       "   BB/9    K/9  HR/9  key_mlbam_y  \n",
       "0   3.5  10.38  0.38     544727.0  \n",
       "1   3.5  10.38  0.38     544727.0  \n",
       "2   3.5  10.38  0.38     544727.0  \n",
       "3   3.5  10.38  0.38     544727.0  \n",
       "4   3.5  10.38  0.38     544727.0  \n",
       "\n",
       "[5 rows x 21 columns]"
      ]
     },
     "execution_count": 102,
     "metadata": {},
     "output_type": "execute_result"
    },
    {
     "data": {
      "application/javascript": [
       "\n",
       "            setTimeout(function() {\n",
       "                var nbb_cell_id = 102;\n",
       "                var nbb_unformatted_code = \"df_sc_events_all_bp.head()\";\n",
       "                var nbb_formatted_code = \"df_sc_events_all_bp.head()\";\n",
       "                var nbb_cells = Jupyter.notebook.get_cells();\n",
       "                for (var i = 0; i < nbb_cells.length; ++i) {\n",
       "                    if (nbb_cells[i].input_prompt_number == nbb_cell_id) {\n",
       "                        if (nbb_cells[i].get_text() == nbb_unformatted_code) {\n",
       "                             nbb_cells[i].set_text(nbb_formatted_code);\n",
       "                        }\n",
       "                        break;\n",
       "                    }\n",
       "                }\n",
       "            }, 500);\n",
       "            "
      ],
      "text/plain": [
       "<IPython.core.display.Javascript object>"
      ]
     },
     "metadata": {},
     "output_type": "display_data"
    }
   ],
   "source": [
    "df_sc_events_all_bp.head()"
   ]
  },
  {
   "cell_type": "code",
   "execution_count": 103,
   "metadata": {
    "ExecuteTime": {
     "end_time": "2020-02-03T05:53:31.608431Z",
     "start_time": "2020-02-03T05:53:31.125291Z"
    }
   },
   "outputs": [
    {
     "data": {
      "text/html": [
       "<div>\n",
       "<style scoped>\n",
       "    .dataframe tbody tr th:only-of-type {\n",
       "        vertical-align: middle;\n",
       "    }\n",
       "\n",
       "    .dataframe tbody tr th {\n",
       "        vertical-align: top;\n",
       "    }\n",
       "\n",
       "    .dataframe thead th {\n",
       "        text-align: right;\n",
       "    }\n",
       "</style>\n",
       "<table border=\"1\" class=\"dataframe\">\n",
       "  <thead>\n",
       "    <tr style=\"text-align: right;\">\n",
       "      <th></th>\n",
       "      <th></th>\n",
       "      <th>game_date</th>\n",
       "      <th>batter</th>\n",
       "      <th>pitcher</th>\n",
       "      <th>events</th>\n",
       "      <th>inning_topbot</th>\n",
       "      <th>WAR_x</th>\n",
       "      <th>OBP</th>\n",
       "      <th>SLG</th>\n",
       "      <th>OPS</th>\n",
       "      <th>BB_perc</th>\n",
       "      <th>K_perc</th>\n",
       "      <th>key_mlbam_x</th>\n",
       "      <th>WAR_y</th>\n",
       "      <th>WHIP</th>\n",
       "      <th>ERA</th>\n",
       "      <th>BB/9</th>\n",
       "      <th>K/9</th>\n",
       "      <th>HR/9</th>\n",
       "      <th>key_mlbam_y</th>\n",
       "    </tr>\n",
       "    <tr>\n",
       "      <th>stand</th>\n",
       "      <th>p_throws</th>\n",
       "      <th></th>\n",
       "      <th></th>\n",
       "      <th></th>\n",
       "      <th></th>\n",
       "      <th></th>\n",
       "      <th></th>\n",
       "      <th></th>\n",
       "      <th></th>\n",
       "      <th></th>\n",
       "      <th></th>\n",
       "      <th></th>\n",
       "      <th></th>\n",
       "      <th></th>\n",
       "      <th></th>\n",
       "      <th></th>\n",
       "      <th></th>\n",
       "      <th></th>\n",
       "      <th></th>\n",
       "      <th></th>\n",
       "    </tr>\n",
       "  </thead>\n",
       "  <tbody>\n",
       "    <tr>\n",
       "      <th rowspan=\"2\" valign=\"top\">L</th>\n",
       "      <th>L</th>\n",
       "      <td>31479</td>\n",
       "      <td>31479</td>\n",
       "      <td>31479</td>\n",
       "      <td>31479</td>\n",
       "      <td>31479</td>\n",
       "      <td>31479</td>\n",
       "      <td>31479</td>\n",
       "      <td>31479</td>\n",
       "      <td>31479</td>\n",
       "      <td>31479</td>\n",
       "      <td>31479</td>\n",
       "      <td>31479</td>\n",
       "      <td>31479</td>\n",
       "      <td>31479</td>\n",
       "      <td>31479</td>\n",
       "      <td>31479</td>\n",
       "      <td>31479</td>\n",
       "      <td>31479</td>\n",
       "      <td>31479</td>\n",
       "    </tr>\n",
       "    <tr>\n",
       "      <th>R</th>\n",
       "      <td>140603</td>\n",
       "      <td>140603</td>\n",
       "      <td>140603</td>\n",
       "      <td>140603</td>\n",
       "      <td>140603</td>\n",
       "      <td>140603</td>\n",
       "      <td>140603</td>\n",
       "      <td>140603</td>\n",
       "      <td>140603</td>\n",
       "      <td>140603</td>\n",
       "      <td>140603</td>\n",
       "      <td>140603</td>\n",
       "      <td>140603</td>\n",
       "      <td>140603</td>\n",
       "      <td>140603</td>\n",
       "      <td>140603</td>\n",
       "      <td>140603</td>\n",
       "      <td>140603</td>\n",
       "      <td>140603</td>\n",
       "    </tr>\n",
       "    <tr>\n",
       "      <th rowspan=\"2\" valign=\"top\">R</th>\n",
       "      <th>L</th>\n",
       "      <td>85516</td>\n",
       "      <td>85516</td>\n",
       "      <td>85516</td>\n",
       "      <td>85516</td>\n",
       "      <td>85516</td>\n",
       "      <td>85516</td>\n",
       "      <td>85516</td>\n",
       "      <td>85516</td>\n",
       "      <td>85516</td>\n",
       "      <td>85516</td>\n",
       "      <td>85516</td>\n",
       "      <td>85516</td>\n",
       "      <td>85516</td>\n",
       "      <td>85516</td>\n",
       "      <td>85516</td>\n",
       "      <td>85516</td>\n",
       "      <td>85516</td>\n",
       "      <td>85516</td>\n",
       "      <td>85516</td>\n",
       "    </tr>\n",
       "    <tr>\n",
       "      <th>R</th>\n",
       "      <td>155968</td>\n",
       "      <td>155968</td>\n",
       "      <td>155968</td>\n",
       "      <td>155968</td>\n",
       "      <td>155968</td>\n",
       "      <td>155968</td>\n",
       "      <td>155968</td>\n",
       "      <td>155968</td>\n",
       "      <td>155968</td>\n",
       "      <td>155968</td>\n",
       "      <td>155968</td>\n",
       "      <td>155968</td>\n",
       "      <td>155968</td>\n",
       "      <td>155968</td>\n",
       "      <td>155968</td>\n",
       "      <td>155968</td>\n",
       "      <td>155968</td>\n",
       "      <td>155968</td>\n",
       "      <td>155968</td>\n",
       "    </tr>\n",
       "  </tbody>\n",
       "</table>\n",
       "</div>"
      ],
      "text/plain": [
       "                game_date  batter  pitcher  events  inning_topbot   WAR_x  \\\n",
       "stand p_throws                                                              \n",
       "L     L             31479   31479    31479   31479          31479   31479   \n",
       "      R            140603  140603   140603  140603         140603  140603   \n",
       "R     L             85516   85516    85516   85516          85516   85516   \n",
       "      R            155968  155968   155968  155968         155968  155968   \n",
       "\n",
       "                   OBP     SLG     OPS  BB_perc  K_perc  key_mlbam_x   WAR_y  \\\n",
       "stand p_throws                                                                 \n",
       "L     L          31479   31479   31479    31479   31479        31479   31479   \n",
       "      R         140603  140603  140603   140603  140603       140603  140603   \n",
       "R     L          85516   85516   85516    85516   85516        85516   85516   \n",
       "      R         155968  155968  155968   155968  155968       155968  155968   \n",
       "\n",
       "                  WHIP     ERA    BB/9     K/9    HR/9  key_mlbam_y  \n",
       "stand p_throws                                                       \n",
       "L     L          31479   31479   31479   31479   31479        31479  \n",
       "      R         140603  140603  140603  140603  140603       140603  \n",
       "R     L          85516   85516   85516   85516   85516        85516  \n",
       "      R         155968  155968  155968  155968  155968       155968  "
      ]
     },
     "execution_count": 103,
     "metadata": {},
     "output_type": "execute_result"
    },
    {
     "data": {
      "application/javascript": [
       "\n",
       "            setTimeout(function() {\n",
       "                var nbb_cell_id = 103;\n",
       "                var nbb_unformatted_code = \"df_sc_events_all_bp.groupby(['stand', 'p_throws']).count()\";\n",
       "                var nbb_formatted_code = \"df_sc_events_all_bp.groupby([\\\"stand\\\", \\\"p_throws\\\"]).count()\";\n",
       "                var nbb_cells = Jupyter.notebook.get_cells();\n",
       "                for (var i = 0; i < nbb_cells.length; ++i) {\n",
       "                    if (nbb_cells[i].input_prompt_number == nbb_cell_id) {\n",
       "                        if (nbb_cells[i].get_text() == nbb_unformatted_code) {\n",
       "                             nbb_cells[i].set_text(nbb_formatted_code);\n",
       "                        }\n",
       "                        break;\n",
       "                    }\n",
       "                }\n",
       "            }, 500);\n",
       "            "
      ],
      "text/plain": [
       "<IPython.core.display.Javascript object>"
      ]
     },
     "metadata": {},
     "output_type": "display_data"
    }
   ],
   "source": [
    "df_sc_events_all_bp.groupby([\"stand\", \"p_throws\"]).count()"
   ]
  },
  {
   "cell_type": "markdown",
   "metadata": {},
   "source": [
    "### Start encoding for feeding into model"
   ]
  },
  {
   "cell_type": "code",
   "execution_count": 104,
   "metadata": {
    "ExecuteTime": {
     "end_time": "2020-02-03T05:55:53.236027Z",
     "start_time": "2020-02-03T05:55:53.194129Z"
    }
   },
   "outputs": [
    {
     "data": {
      "text/html": [
       "<div>\n",
       "<style scoped>\n",
       "    .dataframe tbody tr th:only-of-type {\n",
       "        vertical-align: middle;\n",
       "    }\n",
       "\n",
       "    .dataframe tbody tr th {\n",
       "        vertical-align: top;\n",
       "    }\n",
       "\n",
       "    .dataframe thead th {\n",
       "        text-align: right;\n",
       "    }\n",
       "</style>\n",
       "<table border=\"1\" class=\"dataframe\">\n",
       "  <thead>\n",
       "    <tr style=\"text-align: right;\">\n",
       "      <th></th>\n",
       "      <th>game_date</th>\n",
       "      <th>batter</th>\n",
       "      <th>pitcher</th>\n",
       "      <th>events</th>\n",
       "      <th>stand</th>\n",
       "      <th>p_throws</th>\n",
       "      <th>inning_topbot</th>\n",
       "      <th>WAR_x</th>\n",
       "      <th>OBP</th>\n",
       "      <th>SLG</th>\n",
       "      <th>...</th>\n",
       "      <th>BB_perc</th>\n",
       "      <th>K_perc</th>\n",
       "      <th>key_mlbam_x</th>\n",
       "      <th>WAR_y</th>\n",
       "      <th>WHIP</th>\n",
       "      <th>ERA</th>\n",
       "      <th>BB/9</th>\n",
       "      <th>K/9</th>\n",
       "      <th>HR/9</th>\n",
       "      <th>key_mlbam_y</th>\n",
       "    </tr>\n",
       "  </thead>\n",
       "  <tbody>\n",
       "    <tr>\n",
       "      <th>0</th>\n",
       "      <td>2015-10-04</td>\n",
       "      <td>547180.0</td>\n",
       "      <td>544727.0</td>\n",
       "      <td>double</td>\n",
       "      <td>L</td>\n",
       "      <td>R</td>\n",
       "      <td>Top</td>\n",
       "      <td>3.4</td>\n",
       "      <td>0.393</td>\n",
       "      <td>0.496</td>\n",
       "      <td>...</td>\n",
       "      <td>0.187</td>\n",
       "      <td>0.243</td>\n",
       "      <td>547180</td>\n",
       "      <td>1.8</td>\n",
       "      <td>1.22</td>\n",
       "      <td>3.13</td>\n",
       "      <td>3.5</td>\n",
       "      <td>10.38</td>\n",
       "      <td>0.38</td>\n",
       "      <td>544727.0</td>\n",
       "    </tr>\n",
       "    <tr>\n",
       "      <th>1</th>\n",
       "      <td>2015-09-08</td>\n",
       "      <td>547180.0</td>\n",
       "      <td>544727.0</td>\n",
       "      <td>walk</td>\n",
       "      <td>L</td>\n",
       "      <td>R</td>\n",
       "      <td>Bot</td>\n",
       "      <td>3.4</td>\n",
       "      <td>0.393</td>\n",
       "      <td>0.496</td>\n",
       "      <td>...</td>\n",
       "      <td>0.187</td>\n",
       "      <td>0.243</td>\n",
       "      <td>547180</td>\n",
       "      <td>1.8</td>\n",
       "      <td>1.22</td>\n",
       "      <td>3.13</td>\n",
       "      <td>3.5</td>\n",
       "      <td>10.38</td>\n",
       "      <td>0.38</td>\n",
       "      <td>544727.0</td>\n",
       "    </tr>\n",
       "    <tr>\n",
       "      <th>2</th>\n",
       "      <td>2015-09-07</td>\n",
       "      <td>547180.0</td>\n",
       "      <td>544727.0</td>\n",
       "      <td>strikeout</td>\n",
       "      <td>L</td>\n",
       "      <td>R</td>\n",
       "      <td>Bot</td>\n",
       "      <td>3.4</td>\n",
       "      <td>0.393</td>\n",
       "      <td>0.496</td>\n",
       "      <td>...</td>\n",
       "      <td>0.187</td>\n",
       "      <td>0.243</td>\n",
       "      <td>547180</td>\n",
       "      <td>1.8</td>\n",
       "      <td>1.22</td>\n",
       "      <td>3.13</td>\n",
       "      <td>3.5</td>\n",
       "      <td>10.38</td>\n",
       "      <td>0.38</td>\n",
       "      <td>544727.0</td>\n",
       "    </tr>\n",
       "    <tr>\n",
       "      <th>3</th>\n",
       "      <td>2015-07-21</td>\n",
       "      <td>547180.0</td>\n",
       "      <td>544727.0</td>\n",
       "      <td>hit_by_pitch</td>\n",
       "      <td>L</td>\n",
       "      <td>R</td>\n",
       "      <td>Bot</td>\n",
       "      <td>3.4</td>\n",
       "      <td>0.393</td>\n",
       "      <td>0.496</td>\n",
       "      <td>...</td>\n",
       "      <td>0.187</td>\n",
       "      <td>0.243</td>\n",
       "      <td>547180</td>\n",
       "      <td>1.8</td>\n",
       "      <td>1.22</td>\n",
       "      <td>3.13</td>\n",
       "      <td>3.5</td>\n",
       "      <td>10.38</td>\n",
       "      <td>0.38</td>\n",
       "      <td>544727.0</td>\n",
       "    </tr>\n",
       "    <tr>\n",
       "      <th>4</th>\n",
       "      <td>2015-05-03</td>\n",
       "      <td>547180.0</td>\n",
       "      <td>544727.0</td>\n",
       "      <td>strikeout</td>\n",
       "      <td>L</td>\n",
       "      <td>R</td>\n",
       "      <td>Top</td>\n",
       "      <td>3.4</td>\n",
       "      <td>0.393</td>\n",
       "      <td>0.496</td>\n",
       "      <td>...</td>\n",
       "      <td>0.187</td>\n",
       "      <td>0.243</td>\n",
       "      <td>547180</td>\n",
       "      <td>1.8</td>\n",
       "      <td>1.22</td>\n",
       "      <td>3.13</td>\n",
       "      <td>3.5</td>\n",
       "      <td>10.38</td>\n",
       "      <td>0.38</td>\n",
       "      <td>544727.0</td>\n",
       "    </tr>\n",
       "  </tbody>\n",
       "</table>\n",
       "<p>5 rows × 21 columns</p>\n",
       "</div>"
      ],
      "text/plain": [
       "   game_date    batter   pitcher        events stand p_throws inning_topbot  \\\n",
       "0 2015-10-04  547180.0  544727.0        double     L        R           Top   \n",
       "1 2015-09-08  547180.0  544727.0          walk     L        R           Bot   \n",
       "2 2015-09-07  547180.0  544727.0     strikeout     L        R           Bot   \n",
       "3 2015-07-21  547180.0  544727.0  hit_by_pitch     L        R           Bot   \n",
       "4 2015-05-03  547180.0  544727.0     strikeout     L        R           Top   \n",
       "\n",
       "   WAR_x    OBP    SLG  ...  BB_perc  K_perc  key_mlbam_x  WAR_y  WHIP   ERA  \\\n",
       "0    3.4  0.393  0.496  ...    0.187   0.243       547180    1.8  1.22  3.13   \n",
       "1    3.4  0.393  0.496  ...    0.187   0.243       547180    1.8  1.22  3.13   \n",
       "2    3.4  0.393  0.496  ...    0.187   0.243       547180    1.8  1.22  3.13   \n",
       "3    3.4  0.393  0.496  ...    0.187   0.243       547180    1.8  1.22  3.13   \n",
       "4    3.4  0.393  0.496  ...    0.187   0.243       547180    1.8  1.22  3.13   \n",
       "\n",
       "   BB/9    K/9  HR/9  key_mlbam_y  \n",
       "0   3.5  10.38  0.38     544727.0  \n",
       "1   3.5  10.38  0.38     544727.0  \n",
       "2   3.5  10.38  0.38     544727.0  \n",
       "3   3.5  10.38  0.38     544727.0  \n",
       "4   3.5  10.38  0.38     544727.0  \n",
       "\n",
       "[5 rows x 21 columns]"
      ]
     },
     "execution_count": 104,
     "metadata": {},
     "output_type": "execute_result"
    },
    {
     "data": {
      "application/javascript": [
       "\n",
       "            setTimeout(function() {\n",
       "                var nbb_cell_id = 104;\n",
       "                var nbb_unformatted_code = \"df_sc_events_all_bp.head()\";\n",
       "                var nbb_formatted_code = \"df_sc_events_all_bp.head()\";\n",
       "                var nbb_cells = Jupyter.notebook.get_cells();\n",
       "                for (var i = 0; i < nbb_cells.length; ++i) {\n",
       "                    if (nbb_cells[i].input_prompt_number == nbb_cell_id) {\n",
       "                        if (nbb_cells[i].get_text() == nbb_unformatted_code) {\n",
       "                             nbb_cells[i].set_text(nbb_formatted_code);\n",
       "                        }\n",
       "                        break;\n",
       "                    }\n",
       "                }\n",
       "            }, 500);\n",
       "            "
      ],
      "text/plain": [
       "<IPython.core.display.Javascript object>"
      ]
     },
     "metadata": {},
     "output_type": "display_data"
    }
   ],
   "source": [
    "df_sc_events_all_bp.head()"
   ]
  },
  {
   "cell_type": "code",
   "execution_count": 105,
   "metadata": {
    "ExecuteTime": {
     "end_time": "2020-02-03T05:56:19.769298Z",
     "start_time": "2020-02-03T05:56:19.625292Z"
    }
   },
   "outputs": [
    {
     "data": {
      "application/javascript": [
       "\n",
       "            setTimeout(function() {\n",
       "                var nbb_cell_id = 105;\n",
       "                var nbb_unformatted_code = \"df_sc_events4model_bp = df_sc_events_all_bp.copy()\";\n",
       "                var nbb_formatted_code = \"df_sc_events4model_bp = df_sc_events_all_bp.copy()\";\n",
       "                var nbb_cells = Jupyter.notebook.get_cells();\n",
       "                for (var i = 0; i < nbb_cells.length; ++i) {\n",
       "                    if (nbb_cells[i].input_prompt_number == nbb_cell_id) {\n",
       "                        if (nbb_cells[i].get_text() == nbb_unformatted_code) {\n",
       "                             nbb_cells[i].set_text(nbb_formatted_code);\n",
       "                        }\n",
       "                        break;\n",
       "                    }\n",
       "                }\n",
       "            }, 500);\n",
       "            "
      ],
      "text/plain": [
       "<IPython.core.display.Javascript object>"
      ]
     },
     "metadata": {},
     "output_type": "display_data"
    }
   ],
   "source": [
    "df_sc_events4model_bp = df_sc_events_all_bp.copy()"
   ]
  },
  {
   "cell_type": "code",
   "execution_count": 106,
   "metadata": {
    "ExecuteTime": {
     "end_time": "2020-02-03T05:57:57.072345Z",
     "start_time": "2020-02-03T05:57:56.882180Z"
    }
   },
   "outputs": [
    {
     "data": {
      "application/javascript": [
       "\n",
       "            setTimeout(function() {\n",
       "                var nbb_cell_id = 106;\n",
       "                var nbb_unformatted_code = \"# Encode events\\nevent_list = [\\\"hit_by_pitch\\\", \\\"walk\\\", \\\"single\\\", \\\"double\\\", \\\"triple\\\", \\\"home_run\\\"]\\ndf_sc_events4model_bp[\\\"event_code\\\"] = 0\\ndf_sc_events4model_bp.loc[\\n    df_sc_events4model_bp[\\\"events\\\"].isin(event_list), \\\"event_code\\\"\\n] = 1\";\n",
       "                var nbb_formatted_code = \"# Encode events\\nevent_list = [\\\"hit_by_pitch\\\", \\\"walk\\\", \\\"single\\\", \\\"double\\\", \\\"triple\\\", \\\"home_run\\\"]\\ndf_sc_events4model_bp[\\\"event_code\\\"] = 0\\ndf_sc_events4model_bp.loc[\\n    df_sc_events4model_bp[\\\"events\\\"].isin(event_list), \\\"event_code\\\"\\n] = 1\";\n",
       "                var nbb_cells = Jupyter.notebook.get_cells();\n",
       "                for (var i = 0; i < nbb_cells.length; ++i) {\n",
       "                    if (nbb_cells[i].input_prompt_number == nbb_cell_id) {\n",
       "                        if (nbb_cells[i].get_text() == nbb_unformatted_code) {\n",
       "                             nbb_cells[i].set_text(nbb_formatted_code);\n",
       "                        }\n",
       "                        break;\n",
       "                    }\n",
       "                }\n",
       "            }, 500);\n",
       "            "
      ],
      "text/plain": [
       "<IPython.core.display.Javascript object>"
      ]
     },
     "metadata": {},
     "output_type": "display_data"
    }
   ],
   "source": [
    "# Encode events\n",
    "event_list = [\"hit_by_pitch\", \"walk\", \"single\", \"double\", \"triple\", \"home_run\"]\n",
    "df_sc_events4model_bp[\"event_code\"] = 0\n",
    "df_sc_events4model_bp.loc[\n",
    "    df_sc_events4model_bp[\"events\"].isin(event_list), \"event_code\"\n",
    "] = 1"
   ]
  },
  {
   "cell_type": "code",
   "execution_count": 107,
   "metadata": {
    "ExecuteTime": {
     "end_time": "2020-02-03T06:00:44.604800Z",
     "start_time": "2020-02-03T06:00:43.505567Z"
    }
   },
   "outputs": [
    {
     "data": {
      "application/javascript": [
       "\n",
       "            setTimeout(function() {\n",
       "                var nbb_cell_id = 107;\n",
       "                var nbb_unformatted_code = \"df_sc_events4model_bp['stand'].replace({'L':0, 'R':1}, inplace=True)\\ndf_sc_events4model_bp['p_throws'].replace({'L':0, 'R':1}, inplace=True)\\ndf_sc_events4model_bp['inning_topbot'].replace({'Top':0, 'Bot':1}, inplace=True)\";\n",
       "                var nbb_formatted_code = \"df_sc_events4model_bp[\\\"stand\\\"].replace({\\\"L\\\": 0, \\\"R\\\": 1}, inplace=True)\\ndf_sc_events4model_bp[\\\"p_throws\\\"].replace({\\\"L\\\": 0, \\\"R\\\": 1}, inplace=True)\\ndf_sc_events4model_bp[\\\"inning_topbot\\\"].replace({\\\"Top\\\": 0, \\\"Bot\\\": 1}, inplace=True)\";\n",
       "                var nbb_cells = Jupyter.notebook.get_cells();\n",
       "                for (var i = 0; i < nbb_cells.length; ++i) {\n",
       "                    if (nbb_cells[i].input_prompt_number == nbb_cell_id) {\n",
       "                        if (nbb_cells[i].get_text() == nbb_unformatted_code) {\n",
       "                             nbb_cells[i].set_text(nbb_formatted_code);\n",
       "                        }\n",
       "                        break;\n",
       "                    }\n",
       "                }\n",
       "            }, 500);\n",
       "            "
      ],
      "text/plain": [
       "<IPython.core.display.Javascript object>"
      ]
     },
     "metadata": {},
     "output_type": "display_data"
    }
   ],
   "source": [
    "df_sc_events4model_bp[\"stand\"].replace({\"L\": 0, \"R\": 1}, inplace=True)\n",
    "df_sc_events4model_bp[\"p_throws\"].replace({\"L\": 0, \"R\": 1}, inplace=True)\n",
    "df_sc_events4model_bp[\"inning_topbot\"].replace({\"Top\": 0, \"Bot\": 1}, inplace=True)"
   ]
  },
  {
   "cell_type": "code",
   "execution_count": null,
   "metadata": {},
   "outputs": [],
   "source": []
  },
  {
   "cell_type": "markdown",
   "metadata": {},
   "source": [
    "# Model based on historical proportions"
   ]
  },
  {
   "cell_type": "markdown",
   "metadata": {},
   "source": [
    "## What happens historically when batter with 10% OBP meets a pitcher with 12% OBP?"
   ]
  },
  {
   "cell_type": "code",
   "execution_count": 109,
   "metadata": {
    "ExecuteTime": {
     "end_time": "2020-02-03T06:04:20.018496Z",
     "start_time": "2020-02-03T06:04:19.964504Z"
    }
   },
   "outputs": [
    {
     "data": {
      "text/html": [
       "<div>\n",
       "<style scoped>\n",
       "    .dataframe tbody tr th:only-of-type {\n",
       "        vertical-align: middle;\n",
       "    }\n",
       "\n",
       "    .dataframe tbody tr th {\n",
       "        vertical-align: top;\n",
       "    }\n",
       "\n",
       "    .dataframe thead th {\n",
       "        text-align: right;\n",
       "    }\n",
       "</style>\n",
       "<table border=\"1\" class=\"dataframe\">\n",
       "  <thead>\n",
       "    <tr style=\"text-align: right;\">\n",
       "      <th></th>\n",
       "      <th>game_date</th>\n",
       "      <th>batter</th>\n",
       "      <th>pitcher</th>\n",
       "      <th>events</th>\n",
       "      <th>stand</th>\n",
       "      <th>p_throws</th>\n",
       "      <th>inning_topbot</th>\n",
       "      <th>WAR_x</th>\n",
       "      <th>OBP</th>\n",
       "      <th>SLG</th>\n",
       "      <th>...</th>\n",
       "      <th>K_perc</th>\n",
       "      <th>key_mlbam_x</th>\n",
       "      <th>WAR_y</th>\n",
       "      <th>WHIP</th>\n",
       "      <th>ERA</th>\n",
       "      <th>BB/9</th>\n",
       "      <th>K/9</th>\n",
       "      <th>HR/9</th>\n",
       "      <th>key_mlbam_y</th>\n",
       "      <th>event_code</th>\n",
       "    </tr>\n",
       "  </thead>\n",
       "  <tbody>\n",
       "    <tr>\n",
       "      <th>0</th>\n",
       "      <td>2015-10-04</td>\n",
       "      <td>547180.0</td>\n",
       "      <td>544727.0</td>\n",
       "      <td>double</td>\n",
       "      <td>0</td>\n",
       "      <td>1</td>\n",
       "      <td>0</td>\n",
       "      <td>3.4</td>\n",
       "      <td>0.393</td>\n",
       "      <td>0.496</td>\n",
       "      <td>...</td>\n",
       "      <td>0.243</td>\n",
       "      <td>547180</td>\n",
       "      <td>1.8</td>\n",
       "      <td>1.22</td>\n",
       "      <td>3.13</td>\n",
       "      <td>3.5</td>\n",
       "      <td>10.38</td>\n",
       "      <td>0.38</td>\n",
       "      <td>544727.0</td>\n",
       "      <td>1</td>\n",
       "    </tr>\n",
       "    <tr>\n",
       "      <th>1</th>\n",
       "      <td>2015-09-08</td>\n",
       "      <td>547180.0</td>\n",
       "      <td>544727.0</td>\n",
       "      <td>walk</td>\n",
       "      <td>0</td>\n",
       "      <td>1</td>\n",
       "      <td>1</td>\n",
       "      <td>3.4</td>\n",
       "      <td>0.393</td>\n",
       "      <td>0.496</td>\n",
       "      <td>...</td>\n",
       "      <td>0.243</td>\n",
       "      <td>547180</td>\n",
       "      <td>1.8</td>\n",
       "      <td>1.22</td>\n",
       "      <td>3.13</td>\n",
       "      <td>3.5</td>\n",
       "      <td>10.38</td>\n",
       "      <td>0.38</td>\n",
       "      <td>544727.0</td>\n",
       "      <td>1</td>\n",
       "    </tr>\n",
       "    <tr>\n",
       "      <th>2</th>\n",
       "      <td>2015-09-07</td>\n",
       "      <td>547180.0</td>\n",
       "      <td>544727.0</td>\n",
       "      <td>strikeout</td>\n",
       "      <td>0</td>\n",
       "      <td>1</td>\n",
       "      <td>1</td>\n",
       "      <td>3.4</td>\n",
       "      <td>0.393</td>\n",
       "      <td>0.496</td>\n",
       "      <td>...</td>\n",
       "      <td>0.243</td>\n",
       "      <td>547180</td>\n",
       "      <td>1.8</td>\n",
       "      <td>1.22</td>\n",
       "      <td>3.13</td>\n",
       "      <td>3.5</td>\n",
       "      <td>10.38</td>\n",
       "      <td>0.38</td>\n",
       "      <td>544727.0</td>\n",
       "      <td>0</td>\n",
       "    </tr>\n",
       "    <tr>\n",
       "      <th>3</th>\n",
       "      <td>2015-07-21</td>\n",
       "      <td>547180.0</td>\n",
       "      <td>544727.0</td>\n",
       "      <td>hit_by_pitch</td>\n",
       "      <td>0</td>\n",
       "      <td>1</td>\n",
       "      <td>1</td>\n",
       "      <td>3.4</td>\n",
       "      <td>0.393</td>\n",
       "      <td>0.496</td>\n",
       "      <td>...</td>\n",
       "      <td>0.243</td>\n",
       "      <td>547180</td>\n",
       "      <td>1.8</td>\n",
       "      <td>1.22</td>\n",
       "      <td>3.13</td>\n",
       "      <td>3.5</td>\n",
       "      <td>10.38</td>\n",
       "      <td>0.38</td>\n",
       "      <td>544727.0</td>\n",
       "      <td>1</td>\n",
       "    </tr>\n",
       "    <tr>\n",
       "      <th>4</th>\n",
       "      <td>2015-05-03</td>\n",
       "      <td>547180.0</td>\n",
       "      <td>544727.0</td>\n",
       "      <td>strikeout</td>\n",
       "      <td>0</td>\n",
       "      <td>1</td>\n",
       "      <td>0</td>\n",
       "      <td>3.4</td>\n",
       "      <td>0.393</td>\n",
       "      <td>0.496</td>\n",
       "      <td>...</td>\n",
       "      <td>0.243</td>\n",
       "      <td>547180</td>\n",
       "      <td>1.8</td>\n",
       "      <td>1.22</td>\n",
       "      <td>3.13</td>\n",
       "      <td>3.5</td>\n",
       "      <td>10.38</td>\n",
       "      <td>0.38</td>\n",
       "      <td>544727.0</td>\n",
       "      <td>0</td>\n",
       "    </tr>\n",
       "  </tbody>\n",
       "</table>\n",
       "<p>5 rows × 22 columns</p>\n",
       "</div>"
      ],
      "text/plain": [
       "   game_date    batter   pitcher        events  stand  p_throws  \\\n",
       "0 2015-10-04  547180.0  544727.0        double      0         1   \n",
       "1 2015-09-08  547180.0  544727.0          walk      0         1   \n",
       "2 2015-09-07  547180.0  544727.0     strikeout      0         1   \n",
       "3 2015-07-21  547180.0  544727.0  hit_by_pitch      0         1   \n",
       "4 2015-05-03  547180.0  544727.0     strikeout      0         1   \n",
       "\n",
       "   inning_topbot  WAR_x    OBP    SLG  ...  K_perc  key_mlbam_x  WAR_y  WHIP  \\\n",
       "0              0    3.4  0.393  0.496  ...   0.243       547180    1.8  1.22   \n",
       "1              1    3.4  0.393  0.496  ...   0.243       547180    1.8  1.22   \n",
       "2              1    3.4  0.393  0.496  ...   0.243       547180    1.8  1.22   \n",
       "3              1    3.4  0.393  0.496  ...   0.243       547180    1.8  1.22   \n",
       "4              0    3.4  0.393  0.496  ...   0.243       547180    1.8  1.22   \n",
       "\n",
       "    ERA  BB/9    K/9  HR/9  key_mlbam_y  event_code  \n",
       "0  3.13   3.5  10.38  0.38     544727.0           1  \n",
       "1  3.13   3.5  10.38  0.38     544727.0           1  \n",
       "2  3.13   3.5  10.38  0.38     544727.0           0  \n",
       "3  3.13   3.5  10.38  0.38     544727.0           1  \n",
       "4  3.13   3.5  10.38  0.38     544727.0           0  \n",
       "\n",
       "[5 rows x 22 columns]"
      ]
     },
     "execution_count": 109,
     "metadata": {},
     "output_type": "execute_result"
    },
    {
     "data": {
      "application/javascript": [
       "\n",
       "            setTimeout(function() {\n",
       "                var nbb_cell_id = 109;\n",
       "                var nbb_unformatted_code = \"df_sc_events4model_bp.head()\";\n",
       "                var nbb_formatted_code = \"df_sc_events4model_bp.head()\";\n",
       "                var nbb_cells = Jupyter.notebook.get_cells();\n",
       "                for (var i = 0; i < nbb_cells.length; ++i) {\n",
       "                    if (nbb_cells[i].input_prompt_number == nbb_cell_id) {\n",
       "                        if (nbb_cells[i].get_text() == nbb_unformatted_code) {\n",
       "                             nbb_cells[i].set_text(nbb_formatted_code);\n",
       "                        }\n",
       "                        break;\n",
       "                    }\n",
       "                }\n",
       "            }, 500);\n",
       "            "
      ],
      "text/plain": [
       "<IPython.core.display.Javascript object>"
      ]
     },
     "metadata": {},
     "output_type": "display_data"
    }
   ],
   "source": [
    "df_sc_events4model_bp.head()"
   ]
  },
  {
   "cell_type": "markdown",
   "metadata": {},
   "source": [
    "## Bin each group and plot"
   ]
  },
  {
   "cell_type": "code",
   "execution_count": 122,
   "metadata": {
    "ExecuteTime": {
     "end_time": "2020-02-03T06:23:21.690711Z",
     "start_time": "2020-02-03T06:23:21.560222Z"
    }
   },
   "outputs": [
    {
     "data": {
      "application/javascript": [
       "\n",
       "            setTimeout(function() {\n",
       "                var nbb_cell_id = 122;\n",
       "                var nbb_unformatted_code = \"# Bin these so that the most frequent categories are subdivided more\\ndf_sc_events4model_bp[\\\"OBP_cat\\\"] = pd.qcut(\\n    df_sc_events4model_bp[\\\"OBP\\\"], 25\\n)\\ndf_sc_events4model_bp[\\\"WHIP_cat\\\"] = pd.qcut(\\n    df_sc_events4model_bp[\\\"WHIP\\\"], 25\\n)\";\n",
       "                var nbb_formatted_code = \"# Bin these so that the most frequent categories are subdivided more\\ndf_sc_events4model_bp[\\\"OBP_cat\\\"] = pd.qcut(df_sc_events4model_bp[\\\"OBP\\\"], 25)\\ndf_sc_events4model_bp[\\\"WHIP_cat\\\"] = pd.qcut(df_sc_events4model_bp[\\\"WHIP\\\"], 25)\";\n",
       "                var nbb_cells = Jupyter.notebook.get_cells();\n",
       "                for (var i = 0; i < nbb_cells.length; ++i) {\n",
       "                    if (nbb_cells[i].input_prompt_number == nbb_cell_id) {\n",
       "                        if (nbb_cells[i].get_text() == nbb_unformatted_code) {\n",
       "                             nbb_cells[i].set_text(nbb_formatted_code);\n",
       "                        }\n",
       "                        break;\n",
       "                    }\n",
       "                }\n",
       "            }, 500);\n",
       "            "
      ],
      "text/plain": [
       "<IPython.core.display.Javascript object>"
      ]
     },
     "metadata": {},
     "output_type": "display_data"
    }
   ],
   "source": [
    "# Bin these so that the most frequent categories are subdivided more\n",
    "df_sc_events4model_bp[\"OBP_cat\"] = pd.qcut(df_sc_events4model_bp[\"OBP\"], 25)\n",
    "df_sc_events4model_bp[\"WHIP_cat\"] = pd.qcut(df_sc_events4model_bp[\"WHIP\"], 25)"
   ]
  },
  {
   "cell_type": "code",
   "execution_count": 123,
   "metadata": {
    "ExecuteTime": {
     "end_time": "2020-02-03T06:23:28.025574Z",
     "start_time": "2020-02-03T06:23:27.979515Z"
    }
   },
   "outputs": [
    {
     "data": {
      "text/html": [
       "<div>\n",
       "<style scoped>\n",
       "    .dataframe tbody tr th:only-of-type {\n",
       "        vertical-align: middle;\n",
       "    }\n",
       "\n",
       "    .dataframe tbody tr th {\n",
       "        vertical-align: top;\n",
       "    }\n",
       "\n",
       "    .dataframe thead th {\n",
       "        text-align: right;\n",
       "    }\n",
       "</style>\n",
       "<table border=\"1\" class=\"dataframe\">\n",
       "  <thead>\n",
       "    <tr style=\"text-align: right;\">\n",
       "      <th></th>\n",
       "      <th>game_date</th>\n",
       "      <th>batter</th>\n",
       "      <th>pitcher</th>\n",
       "      <th>events</th>\n",
       "      <th>stand</th>\n",
       "      <th>p_throws</th>\n",
       "      <th>inning_topbot</th>\n",
       "      <th>WAR_x</th>\n",
       "      <th>OBP</th>\n",
       "      <th>SLG</th>\n",
       "      <th>...</th>\n",
       "      <th>WAR_y</th>\n",
       "      <th>WHIP</th>\n",
       "      <th>ERA</th>\n",
       "      <th>BB/9</th>\n",
       "      <th>K/9</th>\n",
       "      <th>HR/9</th>\n",
       "      <th>key_mlbam_y</th>\n",
       "      <th>event_code</th>\n",
       "      <th>OBP_cat</th>\n",
       "      <th>WHIP_cat</th>\n",
       "    </tr>\n",
       "  </thead>\n",
       "  <tbody>\n",
       "    <tr>\n",
       "      <th>0</th>\n",
       "      <td>2015-10-04</td>\n",
       "      <td>547180.0</td>\n",
       "      <td>544727.0</td>\n",
       "      <td>double</td>\n",
       "      <td>0</td>\n",
       "      <td>1</td>\n",
       "      <td>0</td>\n",
       "      <td>3.4</td>\n",
       "      <td>0.393</td>\n",
       "      <td>0.496</td>\n",
       "      <td>...</td>\n",
       "      <td>1.8</td>\n",
       "      <td>1.22</td>\n",
       "      <td>3.13</td>\n",
       "      <td>3.5</td>\n",
       "      <td>10.38</td>\n",
       "      <td>0.38</td>\n",
       "      <td>544727.0</td>\n",
       "      <td>1</td>\n",
       "      <td>(0.378, 0.394]</td>\n",
       "      <td>(1.21, 1.24]</td>\n",
       "    </tr>\n",
       "    <tr>\n",
       "      <th>1</th>\n",
       "      <td>2015-09-08</td>\n",
       "      <td>547180.0</td>\n",
       "      <td>544727.0</td>\n",
       "      <td>walk</td>\n",
       "      <td>0</td>\n",
       "      <td>1</td>\n",
       "      <td>1</td>\n",
       "      <td>3.4</td>\n",
       "      <td>0.393</td>\n",
       "      <td>0.496</td>\n",
       "      <td>...</td>\n",
       "      <td>1.8</td>\n",
       "      <td>1.22</td>\n",
       "      <td>3.13</td>\n",
       "      <td>3.5</td>\n",
       "      <td>10.38</td>\n",
       "      <td>0.38</td>\n",
       "      <td>544727.0</td>\n",
       "      <td>1</td>\n",
       "      <td>(0.378, 0.394]</td>\n",
       "      <td>(1.21, 1.24]</td>\n",
       "    </tr>\n",
       "    <tr>\n",
       "      <th>2</th>\n",
       "      <td>2015-09-07</td>\n",
       "      <td>547180.0</td>\n",
       "      <td>544727.0</td>\n",
       "      <td>strikeout</td>\n",
       "      <td>0</td>\n",
       "      <td>1</td>\n",
       "      <td>1</td>\n",
       "      <td>3.4</td>\n",
       "      <td>0.393</td>\n",
       "      <td>0.496</td>\n",
       "      <td>...</td>\n",
       "      <td>1.8</td>\n",
       "      <td>1.22</td>\n",
       "      <td>3.13</td>\n",
       "      <td>3.5</td>\n",
       "      <td>10.38</td>\n",
       "      <td>0.38</td>\n",
       "      <td>544727.0</td>\n",
       "      <td>0</td>\n",
       "      <td>(0.378, 0.394]</td>\n",
       "      <td>(1.21, 1.24]</td>\n",
       "    </tr>\n",
       "    <tr>\n",
       "      <th>3</th>\n",
       "      <td>2015-07-21</td>\n",
       "      <td>547180.0</td>\n",
       "      <td>544727.0</td>\n",
       "      <td>hit_by_pitch</td>\n",
       "      <td>0</td>\n",
       "      <td>1</td>\n",
       "      <td>1</td>\n",
       "      <td>3.4</td>\n",
       "      <td>0.393</td>\n",
       "      <td>0.496</td>\n",
       "      <td>...</td>\n",
       "      <td>1.8</td>\n",
       "      <td>1.22</td>\n",
       "      <td>3.13</td>\n",
       "      <td>3.5</td>\n",
       "      <td>10.38</td>\n",
       "      <td>0.38</td>\n",
       "      <td>544727.0</td>\n",
       "      <td>1</td>\n",
       "      <td>(0.378, 0.394]</td>\n",
       "      <td>(1.21, 1.24]</td>\n",
       "    </tr>\n",
       "    <tr>\n",
       "      <th>4</th>\n",
       "      <td>2015-05-03</td>\n",
       "      <td>547180.0</td>\n",
       "      <td>544727.0</td>\n",
       "      <td>strikeout</td>\n",
       "      <td>0</td>\n",
       "      <td>1</td>\n",
       "      <td>0</td>\n",
       "      <td>3.4</td>\n",
       "      <td>0.393</td>\n",
       "      <td>0.496</td>\n",
       "      <td>...</td>\n",
       "      <td>1.8</td>\n",
       "      <td>1.22</td>\n",
       "      <td>3.13</td>\n",
       "      <td>3.5</td>\n",
       "      <td>10.38</td>\n",
       "      <td>0.38</td>\n",
       "      <td>544727.0</td>\n",
       "      <td>0</td>\n",
       "      <td>(0.378, 0.394]</td>\n",
       "      <td>(1.21, 1.24]</td>\n",
       "    </tr>\n",
       "  </tbody>\n",
       "</table>\n",
       "<p>5 rows × 24 columns</p>\n",
       "</div>"
      ],
      "text/plain": [
       "   game_date    batter   pitcher        events  stand  p_throws  \\\n",
       "0 2015-10-04  547180.0  544727.0        double      0         1   \n",
       "1 2015-09-08  547180.0  544727.0          walk      0         1   \n",
       "2 2015-09-07  547180.0  544727.0     strikeout      0         1   \n",
       "3 2015-07-21  547180.0  544727.0  hit_by_pitch      0         1   \n",
       "4 2015-05-03  547180.0  544727.0     strikeout      0         1   \n",
       "\n",
       "   inning_topbot  WAR_x    OBP    SLG  ...  WAR_y  WHIP   ERA  BB/9    K/9  \\\n",
       "0              0    3.4  0.393  0.496  ...    1.8  1.22  3.13   3.5  10.38   \n",
       "1              1    3.4  0.393  0.496  ...    1.8  1.22  3.13   3.5  10.38   \n",
       "2              1    3.4  0.393  0.496  ...    1.8  1.22  3.13   3.5  10.38   \n",
       "3              1    3.4  0.393  0.496  ...    1.8  1.22  3.13   3.5  10.38   \n",
       "4              0    3.4  0.393  0.496  ...    1.8  1.22  3.13   3.5  10.38   \n",
       "\n",
       "   HR/9  key_mlbam_y  event_code         OBP_cat      WHIP_cat  \n",
       "0  0.38     544727.0           1  (0.378, 0.394]  (1.21, 1.24]  \n",
       "1  0.38     544727.0           1  (0.378, 0.394]  (1.21, 1.24]  \n",
       "2  0.38     544727.0           0  (0.378, 0.394]  (1.21, 1.24]  \n",
       "3  0.38     544727.0           1  (0.378, 0.394]  (1.21, 1.24]  \n",
       "4  0.38     544727.0           0  (0.378, 0.394]  (1.21, 1.24]  \n",
       "\n",
       "[5 rows x 24 columns]"
      ]
     },
     "execution_count": 123,
     "metadata": {},
     "output_type": "execute_result"
    },
    {
     "data": {
      "application/javascript": [
       "\n",
       "            setTimeout(function() {\n",
       "                var nbb_cell_id = 123;\n",
       "                var nbb_unformatted_code = \"df_sc_events4model_bp.head()\";\n",
       "                var nbb_formatted_code = \"df_sc_events4model_bp.head()\";\n",
       "                var nbb_cells = Jupyter.notebook.get_cells();\n",
       "                for (var i = 0; i < nbb_cells.length; ++i) {\n",
       "                    if (nbb_cells[i].input_prompt_number == nbb_cell_id) {\n",
       "                        if (nbb_cells[i].get_text() == nbb_unformatted_code) {\n",
       "                             nbb_cells[i].set_text(nbb_formatted_code);\n",
       "                        }\n",
       "                        break;\n",
       "                    }\n",
       "                }\n",
       "            }, 500);\n",
       "            "
      ],
      "text/plain": [
       "<IPython.core.display.Javascript object>"
      ]
     },
     "metadata": {},
     "output_type": "display_data"
    }
   ],
   "source": [
    "df_sc_events4model_bp.head()"
   ]
  },
  {
   "cell_type": "code",
   "execution_count": 124,
   "metadata": {
    "ExecuteTime": {
     "end_time": "2020-02-03T06:24:37.885293Z",
     "start_time": "2020-02-03T06:24:37.730062Z"
    }
   },
   "outputs": [
    {
     "data": {
      "application/javascript": [
       "\n",
       "            setTimeout(function() {\n",
       "                var nbb_cell_id = 124;\n",
       "                var nbb_unformatted_code = \"# Get the proportion from each category combination with groupby\\n\\ndf_sc_events4model_bp_agg = df_sc_events4model_bp.groupby([\\\"OBP_cat\\\", \\\"WHIP_cat\\\"])[\\\"event_code\\\"].mean()\";\n",
       "                var nbb_formatted_code = \"# Get the proportion from each category combination with groupby\\n\\ndf_sc_events4model_bp_agg = df_sc_events4model_bp.groupby([\\\"OBP_cat\\\", \\\"WHIP_cat\\\"])[\\n    \\\"event_code\\\"\\n].mean()\";\n",
       "                var nbb_cells = Jupyter.notebook.get_cells();\n",
       "                for (var i = 0; i < nbb_cells.length; ++i) {\n",
       "                    if (nbb_cells[i].input_prompt_number == nbb_cell_id) {\n",
       "                        if (nbb_cells[i].get_text() == nbb_unformatted_code) {\n",
       "                             nbb_cells[i].set_text(nbb_formatted_code);\n",
       "                        }\n",
       "                        break;\n",
       "                    }\n",
       "                }\n",
       "            }, 500);\n",
       "            "
      ],
      "text/plain": [
       "<IPython.core.display.Javascript object>"
      ]
     },
     "metadata": {},
     "output_type": "display_data"
    }
   ],
   "source": [
    "# Get the proportion from each category combination with groupby\n",
    "\n",
    "df_sc_events4model_bp_agg = df_sc_events4model_bp.groupby([\"OBP_cat\", \"WHIP_cat\"])[\n",
    "    \"event_code\"\n",
    "].mean()"
   ]
  },
  {
   "cell_type": "code",
   "execution_count": 125,
   "metadata": {
    "ExecuteTime": {
     "end_time": "2020-02-03T06:24:44.236783Z",
     "start_time": "2020-02-03T06:24:44.212204Z"
    }
   },
   "outputs": [
    {
     "data": {
      "text/plain": [
       "OBP_cat        WHIP_cat     \n",
       "(0.161, 0.26]  (0.789, 0.91]    0.221154\n",
       "               (0.91, 0.99]     0.263848\n",
       "               (0.99, 1.04]     0.269930\n",
       "               (1.04, 1.08]     0.271264\n",
       "               (1.08, 1.1]      0.268595\n",
       "                                  ...   \n",
       "(0.394, 0.46]  (1.41, 1.45]     0.364952\n",
       "               (1.45, 1.49]     0.399632\n",
       "               (1.49, 1.53]     0.391555\n",
       "               (1.53, 1.62]     0.436207\n",
       "               (1.62, 1.8]      0.382696\n",
       "Name: event_code, Length: 625, dtype: float64"
      ]
     },
     "execution_count": 125,
     "metadata": {},
     "output_type": "execute_result"
    },
    {
     "data": {
      "application/javascript": [
       "\n",
       "            setTimeout(function() {\n",
       "                var nbb_cell_id = 125;\n",
       "                var nbb_unformatted_code = \"df_sc_events4model_bp_agg\";\n",
       "                var nbb_formatted_code = \"df_sc_events4model_bp_agg\";\n",
       "                var nbb_cells = Jupyter.notebook.get_cells();\n",
       "                for (var i = 0; i < nbb_cells.length; ++i) {\n",
       "                    if (nbb_cells[i].input_prompt_number == nbb_cell_id) {\n",
       "                        if (nbb_cells[i].get_text() == nbb_unformatted_code) {\n",
       "                             nbb_cells[i].set_text(nbb_formatted_code);\n",
       "                        }\n",
       "                        break;\n",
       "                    }\n",
       "                }\n",
       "            }, 500);\n",
       "            "
      ],
      "text/plain": [
       "<IPython.core.display.Javascript object>"
      ]
     },
     "metadata": {},
     "output_type": "display_data"
    }
   ],
   "source": [
    "df_sc_events4model_bp_agg"
   ]
  },
  {
   "cell_type": "code",
   "execution_count": 126,
   "metadata": {
    "ExecuteTime": {
     "end_time": "2020-02-03T06:25:47.114734Z",
     "start_time": "2020-02-03T06:25:47.013903Z"
    }
   },
   "outputs": [
    {
     "data": {
      "application/javascript": [
       "\n",
       "            setTimeout(function() {\n",
       "                var nbb_cell_id = 126;\n",
       "                var nbb_unformatted_code = \"bat_cat_mp = pd.Series(df_sc_events4model_bp_agg.index.get_level_values(0).tolist()).apply(\\n    lambda x: x.mid\\n)\\npitch_cat_mp = pd.Series(df_sc_events4model_bp_agg.index.get_level_values(1).tolist()).apply(\\n    lambda x: x.mid\\n)\\n\\ndf_sc_events4model_bp_agg_4model = pd.DataFrame(\\n    {\\\"event_mean\\\": df_sc_events4model_bp_agg.tolist(), \\\"batter_cat\\\": bat_cat_mp, \\\"pitcher_cat\\\": pitch_cat_mp}\\n)\";\n",
       "                var nbb_formatted_code = \"bat_cat_mp = pd.Series(\\n    df_sc_events4model_bp_agg.index.get_level_values(0).tolist()\\n).apply(lambda x: x.mid)\\npitch_cat_mp = pd.Series(\\n    df_sc_events4model_bp_agg.index.get_level_values(1).tolist()\\n).apply(lambda x: x.mid)\\n\\ndf_sc_events4model_bp_agg_4model = pd.DataFrame(\\n    {\\n        \\\"event_mean\\\": df_sc_events4model_bp_agg.tolist(),\\n        \\\"batter_cat\\\": bat_cat_mp,\\n        \\\"pitcher_cat\\\": pitch_cat_mp,\\n    }\\n)\";\n",
       "                var nbb_cells = Jupyter.notebook.get_cells();\n",
       "                for (var i = 0; i < nbb_cells.length; ++i) {\n",
       "                    if (nbb_cells[i].input_prompt_number == nbb_cell_id) {\n",
       "                        if (nbb_cells[i].get_text() == nbb_unformatted_code) {\n",
       "                             nbb_cells[i].set_text(nbb_formatted_code);\n",
       "                        }\n",
       "                        break;\n",
       "                    }\n",
       "                }\n",
       "            }, 500);\n",
       "            "
      ],
      "text/plain": [
       "<IPython.core.display.Javascript object>"
      ]
     },
     "metadata": {},
     "output_type": "display_data"
    }
   ],
   "source": [
    "bat_cat_mp = pd.Series(\n",
    "    df_sc_events4model_bp_agg.index.get_level_values(0).tolist()\n",
    ").apply(lambda x: x.mid)\n",
    "pitch_cat_mp = pd.Series(\n",
    "    df_sc_events4model_bp_agg.index.get_level_values(1).tolist()\n",
    ").apply(lambda x: x.mid)\n",
    "\n",
    "df_sc_events4model_bp_agg_4model = pd.DataFrame(\n",
    "    {\n",
    "        \"event_mean\": df_sc_events4model_bp_agg.tolist(),\n",
    "        \"batter_cat\": bat_cat_mp,\n",
    "        \"pitcher_cat\": pitch_cat_mp,\n",
    "    }\n",
    ")"
   ]
  },
  {
   "cell_type": "code",
   "execution_count": 127,
   "metadata": {
    "ExecuteTime": {
     "end_time": "2020-02-03T06:25:54.537059Z",
     "start_time": "2020-02-03T06:25:54.508465Z"
    }
   },
   "outputs": [
    {
     "data": {
      "text/html": [
       "<div>\n",
       "<style scoped>\n",
       "    .dataframe tbody tr th:only-of-type {\n",
       "        vertical-align: middle;\n",
       "    }\n",
       "\n",
       "    .dataframe tbody tr th {\n",
       "        vertical-align: top;\n",
       "    }\n",
       "\n",
       "    .dataframe thead th {\n",
       "        text-align: right;\n",
       "    }\n",
       "</style>\n",
       "<table border=\"1\" class=\"dataframe\">\n",
       "  <thead>\n",
       "    <tr style=\"text-align: right;\">\n",
       "      <th></th>\n",
       "      <th>event_mean</th>\n",
       "      <th>batter_cat</th>\n",
       "      <th>pitcher_cat</th>\n",
       "    </tr>\n",
       "  </thead>\n",
       "  <tbody>\n",
       "    <tr>\n",
       "      <th>0</th>\n",
       "      <td>0.221154</td>\n",
       "      <td>0.2105</td>\n",
       "      <td>0.8495</td>\n",
       "    </tr>\n",
       "    <tr>\n",
       "      <th>1</th>\n",
       "      <td>0.263848</td>\n",
       "      <td>0.2105</td>\n",
       "      <td>0.9500</td>\n",
       "    </tr>\n",
       "    <tr>\n",
       "      <th>2</th>\n",
       "      <td>0.269930</td>\n",
       "      <td>0.2105</td>\n",
       "      <td>1.0150</td>\n",
       "    </tr>\n",
       "    <tr>\n",
       "      <th>3</th>\n",
       "      <td>0.271264</td>\n",
       "      <td>0.2105</td>\n",
       "      <td>1.0600</td>\n",
       "    </tr>\n",
       "    <tr>\n",
       "      <th>4</th>\n",
       "      <td>0.268595</td>\n",
       "      <td>0.2105</td>\n",
       "      <td>1.0900</td>\n",
       "    </tr>\n",
       "    <tr>\n",
       "      <th>...</th>\n",
       "      <td>...</td>\n",
       "      <td>...</td>\n",
       "      <td>...</td>\n",
       "    </tr>\n",
       "    <tr>\n",
       "      <th>620</th>\n",
       "      <td>0.364952</td>\n",
       "      <td>0.4270</td>\n",
       "      <td>1.4300</td>\n",
       "    </tr>\n",
       "    <tr>\n",
       "      <th>621</th>\n",
       "      <td>0.399632</td>\n",
       "      <td>0.4270</td>\n",
       "      <td>1.4700</td>\n",
       "    </tr>\n",
       "    <tr>\n",
       "      <th>622</th>\n",
       "      <td>0.391555</td>\n",
       "      <td>0.4270</td>\n",
       "      <td>1.5100</td>\n",
       "    </tr>\n",
       "    <tr>\n",
       "      <th>623</th>\n",
       "      <td>0.436207</td>\n",
       "      <td>0.4270</td>\n",
       "      <td>1.5750</td>\n",
       "    </tr>\n",
       "    <tr>\n",
       "      <th>624</th>\n",
       "      <td>0.382696</td>\n",
       "      <td>0.4270</td>\n",
       "      <td>1.7100</td>\n",
       "    </tr>\n",
       "  </tbody>\n",
       "</table>\n",
       "<p>625 rows × 3 columns</p>\n",
       "</div>"
      ],
      "text/plain": [
       "     event_mean  batter_cat  pitcher_cat\n",
       "0      0.221154      0.2105       0.8495\n",
       "1      0.263848      0.2105       0.9500\n",
       "2      0.269930      0.2105       1.0150\n",
       "3      0.271264      0.2105       1.0600\n",
       "4      0.268595      0.2105       1.0900\n",
       "..          ...         ...          ...\n",
       "620    0.364952      0.4270       1.4300\n",
       "621    0.399632      0.4270       1.4700\n",
       "622    0.391555      0.4270       1.5100\n",
       "623    0.436207      0.4270       1.5750\n",
       "624    0.382696      0.4270       1.7100\n",
       "\n",
       "[625 rows x 3 columns]"
      ]
     },
     "execution_count": 127,
     "metadata": {},
     "output_type": "execute_result"
    },
    {
     "data": {
      "application/javascript": [
       "\n",
       "            setTimeout(function() {\n",
       "                var nbb_cell_id = 127;\n",
       "                var nbb_unformatted_code = \"df_sc_events4model_bp_agg_4model\";\n",
       "                var nbb_formatted_code = \"df_sc_events4model_bp_agg_4model\";\n",
       "                var nbb_cells = Jupyter.notebook.get_cells();\n",
       "                for (var i = 0; i < nbb_cells.length; ++i) {\n",
       "                    if (nbb_cells[i].input_prompt_number == nbb_cell_id) {\n",
       "                        if (nbb_cells[i].get_text() == nbb_unformatted_code) {\n",
       "                             nbb_cells[i].set_text(nbb_formatted_code);\n",
       "                        }\n",
       "                        break;\n",
       "                    }\n",
       "                }\n",
       "            }, 500);\n",
       "            "
      ],
      "text/plain": [
       "<IPython.core.display.Javascript object>"
      ]
     },
     "metadata": {},
     "output_type": "display_data"
    }
   ],
   "source": [
    "df_sc_events4model_bp_agg_4model"
   ]
  },
  {
   "cell_type": "code",
   "execution_count": 120,
   "metadata": {
    "ExecuteTime": {
     "end_time": "2020-02-01T15:13:44.129254Z",
     "start_time": "2020-02-01T15:13:44.118597Z"
    }
   },
   "outputs": [
    {
     "data": {
      "application/javascript": [
       "\n",
       "            setTimeout(function() {\n",
       "                var nbb_cell_id = 120;\n",
       "                var nbb_unformatted_code = \"# Imput missing data\\n# https://pandas.pydata.org/pandas-docs/stable/user_guide/missing_data.html\\ndf_temp2 = df_temp2.interpolate(method=\\\"spline\\\", order=2)\";\n",
       "                var nbb_formatted_code = \"# Imput missing data\\n# https://pandas.pydata.org/pandas-docs/stable/user_guide/missing_data.html\\ndf_temp2 = df_temp2.interpolate(method=\\\"spline\\\", order=2)\";\n",
       "                var nbb_cells = Jupyter.notebook.get_cells();\n",
       "                for (var i = 0; i < nbb_cells.length; ++i) {\n",
       "                    if (nbb_cells[i].input_prompt_number == nbb_cell_id) {\n",
       "                        if (nbb_cells[i].get_text() == nbb_unformatted_code) {\n",
       "                             nbb_cells[i].set_text(nbb_formatted_code);\n",
       "                        }\n",
       "                        break;\n",
       "                    }\n",
       "                }\n",
       "            }, 500);\n",
       "            "
      ],
      "text/plain": [
       "<IPython.core.display.Javascript object>"
      ]
     },
     "metadata": {},
     "output_type": "display_data"
    }
   ],
   "source": [
    "# Imput missing data - not necessary\n",
    "# https://pandas.pydata.org/pandas-docs/stable/user_guide/missing_data.html"
   ]
  },
  {
   "cell_type": "code",
   "execution_count": 130,
   "metadata": {
    "ExecuteTime": {
     "end_time": "2020-02-03T06:28:29.511939Z",
     "start_time": "2020-02-03T06:28:29.021006Z"
    }
   },
   "outputs": [
    {
     "data": {
      "text/plain": [
       "Text(0, 0.5, 'proportion getting on-base')"
      ]
     },
     "execution_count": 130,
     "metadata": {},
     "output_type": "execute_result"
    },
    {
     "data": {
      "image/png": "[encoded data removed]",
      "text/plain": [
       "<Figure size 432x288 with 1 Axes>"
      ]
     },
     "metadata": {
      "needs_background": "light"
     },
     "output_type": "display_data"
    },
    {
     "data": {
      "application/javascript": [
       "\n",
       "            setTimeout(function() {\n",
       "                var nbb_cell_id = 130;\n",
       "                var nbb_unformatted_code = \"f, ax1 = plt.subplots()\\nax1.scatter(df_sc_events4model_bp_agg_4model[\\\"batter_cat\\\"], df_sc_events4model_bp_agg_4model[\\\"event_mean\\\"])\\nax1.set_xlabel('batters historical OBP')\\nax1.set_ylabel('proportion getting on-base')\";\n",
       "                var nbb_formatted_code = \"f, ax1 = plt.subplots()\\nax1.scatter(\\n    df_sc_events4model_bp_agg_4model[\\\"batter_cat\\\"],\\n    df_sc_events4model_bp_agg_4model[\\\"event_mean\\\"],\\n)\\nax1.set_xlabel(\\\"batters historical OBP\\\")\\nax1.set_ylabel(\\\"proportion getting on-base\\\")\";\n",
       "                var nbb_cells = Jupyter.notebook.get_cells();\n",
       "                for (var i = 0; i < nbb_cells.length; ++i) {\n",
       "                    if (nbb_cells[i].input_prompt_number == nbb_cell_id) {\n",
       "                        if (nbb_cells[i].get_text() == nbb_unformatted_code) {\n",
       "                             nbb_cells[i].set_text(nbb_formatted_code);\n",
       "                        }\n",
       "                        break;\n",
       "                    }\n",
       "                }\n",
       "            }, 500);\n",
       "            "
      ],
      "text/plain": [
       "<IPython.core.display.Javascript object>"
      ]
     },
     "metadata": {},
     "output_type": "display_data"
    }
   ],
   "source": [
    "f, ax1 = plt.subplots()\n",
    "ax1.scatter(\n",
    "    df_sc_events4model_bp_agg_4model[\"batter_cat\"],\n",
    "    df_sc_events4model_bp_agg_4model[\"event_mean\"],\n",
    ")\n",
    "ax1.set_xlabel(\"batters historical OBP\")\n",
    "ax1.set_ylabel(\"proportion getting on-base\")"
   ]
  },
  {
   "cell_type": "code",
   "execution_count": 131,
   "metadata": {
    "ExecuteTime": {
     "end_time": "2020-02-03T06:29:05.800692Z",
     "start_time": "2020-02-03T06:29:05.578244Z"
    }
   },
   "outputs": [
    {
     "data": {
      "text/plain": [
       "Text(0, 0.5, 'proportion getting on-base')"
      ]
     },
     "execution_count": 131,
     "metadata": {},
     "output_type": "execute_result"
    },
    {
     "data": {
      "image/png": "[encoded data removed]",
      "text/plain": [
       "<Figure size 432x288 with 1 Axes>"
      ]
     },
     "metadata": {
      "needs_background": "light"
     },
     "output_type": "display_data"
    },
    {
     "data": {
      "application/javascript": [
       "\n",
       "            setTimeout(function() {\n",
       "                var nbb_cell_id = 131;\n",
       "                var nbb_unformatted_code = \"f, ax1 = plt.subplots()\\nax1.scatter(df_sc_events4model_bp_agg_4model[\\\"pitcher_cat\\\"], df_sc_events4model_bp_agg_4model[\\\"event_mean\\\"], )\\nax1.set_xlabel(\\\"pitchers historical WHIP\\\")\\nax1.set_ylabel(\\\"proportion getting on-base\\\")\";\n",
       "                var nbb_formatted_code = \"f, ax1 = plt.subplots()\\nax1.scatter(\\n    df_sc_events4model_bp_agg_4model[\\\"pitcher_cat\\\"],\\n    df_sc_events4model_bp_agg_4model[\\\"event_mean\\\"],\\n)\\nax1.set_xlabel(\\\"pitchers historical WHIP\\\")\\nax1.set_ylabel(\\\"proportion getting on-base\\\")\";\n",
       "                var nbb_cells = Jupyter.notebook.get_cells();\n",
       "                for (var i = 0; i < nbb_cells.length; ++i) {\n",
       "                    if (nbb_cells[i].input_prompt_number == nbb_cell_id) {\n",
       "                        if (nbb_cells[i].get_text() == nbb_unformatted_code) {\n",
       "                             nbb_cells[i].set_text(nbb_formatted_code);\n",
       "                        }\n",
       "                        break;\n",
       "                    }\n",
       "                }\n",
       "            }, 500);\n",
       "            "
      ],
      "text/plain": [
       "<IPython.core.display.Javascript object>"
      ]
     },
     "metadata": {},
     "output_type": "display_data"
    }
   ],
   "source": [
    "f, ax1 = plt.subplots()\n",
    "ax1.scatter(\n",
    "    df_sc_events4model_bp_agg_4model[\"pitcher_cat\"],\n",
    "    df_sc_events4model_bp_agg_4model[\"event_mean\"],\n",
    ")\n",
    "ax1.set_xlabel(\"pitchers historical WHIP\")\n",
    "ax1.set_ylabel(\"proportion getting on-base\")"
   ]
  },
  {
   "cell_type": "code",
   "execution_count": 132,
   "metadata": {
    "ExecuteTime": {
     "end_time": "2020-02-03T06:29:26.501471Z",
     "start_time": "2020-02-03T06:29:21.954710Z"
    }
   },
   "outputs": [
    {
     "data": {
      "text/plain": [
       "<seaborn.axisgrid.PairGrid at 0x1a3f3eccc0>"
      ]
     },
     "execution_count": 132,
     "metadata": {},
     "output_type": "execute_result"
    },
    {
     "data": {
      "image/png": "[encoded data removed]",
      "text/plain": [
       "<Figure size 540x540 with 12 Axes>"
      ]
     },
     "metadata": {
      "needs_background": "light"
     },
     "output_type": "display_data"
    },
    {
     "data": {
      "application/javascript": [
       "\n",
       "            setTimeout(function() {\n",
       "                var nbb_cell_id = 132;\n",
       "                var nbb_unformatted_code = \"sns.pairplot(df_sc_events4model_bp_agg_4model)\";\n",
       "                var nbb_formatted_code = \"sns.pairplot(df_sc_events4model_bp_agg_4model)\";\n",
       "                var nbb_cells = Jupyter.notebook.get_cells();\n",
       "                for (var i = 0; i < nbb_cells.length; ++i) {\n",
       "                    if (nbb_cells[i].input_prompt_number == nbb_cell_id) {\n",
       "                        if (nbb_cells[i].get_text() == nbb_unformatted_code) {\n",
       "                             nbb_cells[i].set_text(nbb_formatted_code);\n",
       "                        }\n",
       "                        break;\n",
       "                    }\n",
       "                }\n",
       "            }, 500);\n",
       "            "
      ],
      "text/plain": [
       "<IPython.core.display.Javascript object>"
      ]
     },
     "metadata": {},
     "output_type": "display_data"
    }
   ],
   "source": [
    "sns.pairplot(df_sc_events4model_bp_agg_4model)"
   ]
  },
  {
   "cell_type": "code",
   "execution_count": 133,
   "metadata": {
    "ExecuteTime": {
     "end_time": "2020-02-03T06:30:12.064167Z",
     "start_time": "2020-02-03T06:30:11.682963Z"
    }
   },
   "outputs": [
    {
     "data": {
      "text/plain": [
       "Text(0, 0.5, 'pitcher WHIP')"
      ]
     },
     "execution_count": 133,
     "metadata": {},
     "output_type": "execute_result"
    },
    {
     "data": {
      "image/png": "[encoded data removed]",
      "text/plain": [
       "<Figure size 432x288 with 1 Axes>"
      ]
     },
     "metadata": {
      "needs_background": "light"
     },
     "output_type": "display_data"
    },
    {
     "data": {
      "application/javascript": [
       "\n",
       "            setTimeout(function() {\n",
       "                var nbb_cell_id = 133;\n",
       "                var nbb_unformatted_code = \"f, ax1 = plt.subplots()\\nsns.scatterplot(\\n    data=df_sc_events4model_bp_agg_4model, x=\\\"batter_cat\\\", y=\\\"pitcher_cat\\\", hue=\\\"event_mean\\\", ax=ax1\\n)  # , legend=False)\\n\\nax1.set_xlabel(\\\"batter OBP\\\")\\nax1.set_ylabel(\\\"pitcher WHIP\\\")\";\n",
       "                var nbb_formatted_code = \"f, ax1 = plt.subplots()\\nsns.scatterplot(\\n    data=df_sc_events4model_bp_agg_4model,\\n    x=\\\"batter_cat\\\",\\n    y=\\\"pitcher_cat\\\",\\n    hue=\\\"event_mean\\\",\\n    ax=ax1,\\n)  # , legend=False)\\n\\nax1.set_xlabel(\\\"batter OBP\\\")\\nax1.set_ylabel(\\\"pitcher WHIP\\\")\";\n",
       "                var nbb_cells = Jupyter.notebook.get_cells();\n",
       "                for (var i = 0; i < nbb_cells.length; ++i) {\n",
       "                    if (nbb_cells[i].input_prompt_number == nbb_cell_id) {\n",
       "                        if (nbb_cells[i].get_text() == nbb_unformatted_code) {\n",
       "                             nbb_cells[i].set_text(nbb_formatted_code);\n",
       "                        }\n",
       "                        break;\n",
       "                    }\n",
       "                }\n",
       "            }, 500);\n",
       "            "
      ],
      "text/plain": [
       "<IPython.core.display.Javascript object>"
      ]
     },
     "metadata": {},
     "output_type": "display_data"
    }
   ],
   "source": [
    "f, ax1 = plt.subplots()\n",
    "sns.scatterplot(\n",
    "    data=df_sc_events4model_bp_agg_4model,\n",
    "    x=\"batter_cat\",\n",
    "    y=\"pitcher_cat\",\n",
    "    hue=\"event_mean\",\n",
    "    ax=ax1,\n",
    ")  # , legend=False)\n",
    "\n",
    "ax1.set_xlabel(\"batter OBP\")\n",
    "ax1.set_ylabel(\"pitcher WHIP\")"
   ]
  },
  {
   "cell_type": "markdown",
   "metadata": {},
   "source": [
    "## 3D plot"
   ]
  },
  {
   "cell_type": "code",
   "execution_count": 134,
   "metadata": {
    "ExecuteTime": {
     "end_time": "2020-02-03T06:36:11.401213Z",
     "start_time": "2020-02-03T06:36:11.353166Z"
    }
   },
   "outputs": [
    {
     "data": {
      "application/javascript": [
       "\n",
       "            setTimeout(function() {\n",
       "                var nbb_cell_id = 134;\n",
       "                var nbb_unformatted_code = \"from mpl_toolkits.mplot3d import Axes3D  \\nfrom matplotlib import cm\\nfrom matplotlib.ticker import LinearLocator, FormatStrFormatter\";\n",
       "                var nbb_formatted_code = \"from mpl_toolkits.mplot3d import Axes3D\\nfrom matplotlib import cm\\nfrom matplotlib.ticker import LinearLocator, FormatStrFormatter\";\n",
       "                var nbb_cells = Jupyter.notebook.get_cells();\n",
       "                for (var i = 0; i < nbb_cells.length; ++i) {\n",
       "                    if (nbb_cells[i].input_prompt_number == nbb_cell_id) {\n",
       "                        if (nbb_cells[i].get_text() == nbb_unformatted_code) {\n",
       "                             nbb_cells[i].set_text(nbb_formatted_code);\n",
       "                        }\n",
       "                        break;\n",
       "                    }\n",
       "                }\n",
       "            }, 500);\n",
       "            "
      ],
      "text/plain": [
       "<IPython.core.display.Javascript object>"
      ]
     },
     "metadata": {},
     "output_type": "display_data"
    }
   ],
   "source": [
    "from mpl_toolkits.mplot3d import Axes3D\n",
    "from matplotlib import cm\n",
    "from matplotlib.ticker import LinearLocator, FormatStrFormatter"
   ]
  },
  {
   "cell_type": "code",
   "execution_count": 142,
   "metadata": {
    "ExecuteTime": {
     "end_time": "2020-02-03T06:41:29.913176Z",
     "start_time": "2020-02-03T06:41:29.405901Z"
    }
   },
   "outputs": [
    {
     "name": "stderr",
     "output_type": "stream",
     "text": [
      "/Users/lacar/anaconda/envs/insight/lib/python3.6/site-packages/ipykernel_launcher.py:2: UserWarning: Requested projection is different from current axis projection, creating new axis with requested projection.\n",
      "  \n"
     ]
    },
    {
     "data": {
      "image/png": "[encoded data removed]",
      "text/plain": [
       "<Figure size 576x576 with 2 Axes>"
      ]
     },
     "metadata": {
      "needs_background": "light"
     },
     "output_type": "display_data"
    },
    {
     "data": {
      "application/javascript": [
       "\n",
       "            setTimeout(function() {\n",
       "                var nbb_cell_id = 142;\n",
       "                var nbb_unformatted_code = \"fig, ax = plt.subplots(figsize=(8, 8))\\nax = fig.gca(projection=\\\"3d\\\")\\n\\n# Plot the surface.\\nX = df_sc_events4model_bp_agg_4model[\\\"batter_cat\\\"]\\nY = df_sc_events4model_bp_agg_4model[\\\"pitcher_cat\\\"]\\nZ = df_sc_events4model_bp_agg_4model[\\\"event_mean\\\"]\\n\\n# surf = ax.plot_surface(X, Y, Z, cmap=cm.coolwarm, linewidth=0, antialiased=False)\\nsurf = ax.plot_trisurf(X, Y, Z, cmap=cm.coolwarm, linewidth=0, antialiased=False)\\n\\n# Add a color bar which maps values to colors.\\n#fig.colorbar(surf, shrink=0.5, aspect=5)\\n\\n# plt.show()\";\n",
       "                var nbb_formatted_code = \"fig, ax = plt.subplots(figsize=(8, 8))\\nax = fig.gca(projection=\\\"3d\\\")\\n\\n# Plot the surface.\\nX = df_sc_events4model_bp_agg_4model[\\\"batter_cat\\\"]\\nY = df_sc_events4model_bp_agg_4model[\\\"pitcher_cat\\\"]\\nZ = df_sc_events4model_bp_agg_4model[\\\"event_mean\\\"]\\n\\n# surf = ax.plot_surface(X, Y, Z, cmap=cm.coolwarm, linewidth=0, antialiased=False)\\nsurf = ax.plot_trisurf(X, Y, Z, cmap=cm.coolwarm, linewidth=0, antialiased=False)\\n\\n# Add a color bar which maps values to colors.\\n# fig.colorbar(surf, shrink=0.5, aspect=5)\\n\\n# plt.show()\";\n",
       "                var nbb_cells = Jupyter.notebook.get_cells();\n",
       "                for (var i = 0; i < nbb_cells.length; ++i) {\n",
       "                    if (nbb_cells[i].input_prompt_number == nbb_cell_id) {\n",
       "                        if (nbb_cells[i].get_text() == nbb_unformatted_code) {\n",
       "                             nbb_cells[i].set_text(nbb_formatted_code);\n",
       "                        }\n",
       "                        break;\n",
       "                    }\n",
       "                }\n",
       "            }, 500);\n",
       "            "
      ],
      "text/plain": [
       "<IPython.core.display.Javascript object>"
      ]
     },
     "metadata": {},
     "output_type": "display_data"
    }
   ],
   "source": [
    "fig, ax = plt.subplots(figsize=(8, 8))\n",
    "ax = fig.gca(projection=\"3d\")\n",
    "\n",
    "# Plot the surface.\n",
    "X = df_sc_events4model_bp_agg_4model[\"batter_cat\"]\n",
    "Y = df_sc_events4model_bp_agg_4model[\"pitcher_cat\"]\n",
    "Z = df_sc_events4model_bp_agg_4model[\"event_mean\"]\n",
    "\n",
    "# surf = ax.plot_surface(X, Y, Z, cmap=cm.coolwarm, linewidth=0, antialiased=False)\n",
    "surf = ax.plot_trisurf(X, Y, Z, cmap=cm.coolwarm, linewidth=0, antialiased=False)\n",
    "\n",
    "# Add a color bar which maps values to colors.\n",
    "#fig.colorbar(surf, shrink=0.5, aspect=5)\n",
    "\n",
    "# plt.show()"
   ]
  },
  {
   "cell_type": "code",
   "execution_count": null,
   "metadata": {},
   "outputs": [],
   "source": []
  },
  {
   "cell_type": "code",
   "execution_count": 145,
   "metadata": {
    "ExecuteTime": {
     "end_time": "2020-02-03T06:43:00.598514Z",
     "start_time": "2020-02-03T06:43:00.571334Z"
    }
   },
   "outputs": [
    {
     "data": {
      "application/javascript": [
       "\n",
       "            setTimeout(function() {\n",
       "                var nbb_cell_id = 145;\n",
       "                var nbb_unformatted_code = \"def get_split_data(X, y, testsize):\\n\\n    # Split data between train and test_and_holdout\\n    X_train, X_test, y_train, y_test = train_test_split(\\n        X, y, test_size=testsize, random_state=19\\n    )\\n    from sklearn import preprocessing\\n\\n    # Scale features based on training data\\n    scaler = preprocessing.StandardScaler().fit(X_train)\\n    X_train_scale = scaler.transform(X_train)\\n\\n    # Apply transformation to test data\\n    X_test_scale = scaler.transform(X_test)\\n\\n    return X_train_scale, X_test_scale, y_train, y_test, scaler\";\n",
       "                var nbb_formatted_code = \"def get_split_data(X, y, testsize):\\n\\n    # Split data between train and test_and_holdout\\n    X_train, X_test, y_train, y_test = train_test_split(\\n        X, y, test_size=testsize, random_state=19\\n    )\\n    from sklearn import preprocessing\\n\\n    # Scale features based on training data\\n    scaler = preprocessing.StandardScaler().fit(X_train)\\n    X_train_scale = scaler.transform(X_train)\\n\\n    # Apply transformation to test data\\n    X_test_scale = scaler.transform(X_test)\\n\\n    return X_train_scale, X_test_scale, y_train, y_test, scaler\";\n",
       "                var nbb_cells = Jupyter.notebook.get_cells();\n",
       "                for (var i = 0; i < nbb_cells.length; ++i) {\n",
       "                    if (nbb_cells[i].input_prompt_number == nbb_cell_id) {\n",
       "                        if (nbb_cells[i].get_text() == nbb_unformatted_code) {\n",
       "                             nbb_cells[i].set_text(nbb_formatted_code);\n",
       "                        }\n",
       "                        break;\n",
       "                    }\n",
       "                }\n",
       "            }, 500);\n",
       "            "
      ],
      "text/plain": [
       "<IPython.core.display.Javascript object>"
      ]
     },
     "metadata": {},
     "output_type": "display_data"
    }
   ],
   "source": [
    "def get_split_data(X, y, testsize):\n",
    "\n",
    "    # Split data between train and test_and_holdout\n",
    "    X_train, X_test, y_train, y_test = train_test_split(\n",
    "        X, y, test_size=testsize, random_state=19\n",
    "    )\n",
    "    from sklearn import preprocessing\n",
    "\n",
    "    # Scale features based on training data\n",
    "    scaler = preprocessing.StandardScaler().fit(X_train)\n",
    "    X_train_scale = scaler.transform(X_train)\n",
    "\n",
    "    # Apply transformation to test data\n",
    "    X_test_scale = scaler.transform(X_test)\n",
    "\n",
    "    return X_train_scale, X_test_scale, y_train, y_test, scaler"
   ]
  },
  {
   "cell_type": "code",
   "execution_count": 146,
   "metadata": {
    "ExecuteTime": {
     "end_time": "2020-02-03T06:43:07.027999Z",
     "start_time": "2020-02-03T06:43:06.957668Z"
    }
   },
   "outputs": [
    {
     "data": {
      "application/javascript": [
       "\n",
       "            setTimeout(function() {\n",
       "                var nbb_cell_id = 146;\n",
       "                var nbb_unformatted_code = \"feature_list = [\\\"batter_cat\\\", \\\"pitcher_cat\\\"]\\n\\nX_train_scale_d, X_test_scale_d, y_train_d, y_test_d, scaler_d = get_split_data(\\n    df_sc_events4model_bp_agg_4model[feature_list],\\n    df_sc_events4model_bp_agg_4model[\\\"event_mean\\\"],\\n    0.4,\\n)\";\n",
       "                var nbb_formatted_code = \"feature_list = [\\\"batter_cat\\\", \\\"pitcher_cat\\\"]\\n\\nX_train_scale_d, X_test_scale_d, y_train_d, y_test_d, scaler_d = get_split_data(\\n    df_sc_events4model_bp_agg_4model[feature_list],\\n    df_sc_events4model_bp_agg_4model[\\\"event_mean\\\"],\\n    0.4,\\n)\";\n",
       "                var nbb_cells = Jupyter.notebook.get_cells();\n",
       "                for (var i = 0; i < nbb_cells.length; ++i) {\n",
       "                    if (nbb_cells[i].input_prompt_number == nbb_cell_id) {\n",
       "                        if (nbb_cells[i].get_text() == nbb_unformatted_code) {\n",
       "                             nbb_cells[i].set_text(nbb_formatted_code);\n",
       "                        }\n",
       "                        break;\n",
       "                    }\n",
       "                }\n",
       "            }, 500);\n",
       "            "
      ],
      "text/plain": [
       "<IPython.core.display.Javascript object>"
      ]
     },
     "metadata": {},
     "output_type": "display_data"
    }
   ],
   "source": [
    "feature_list = [\"batter_cat\", \"pitcher_cat\"]\n",
    "\n",
    "X_train_scale_d, X_test_scale_d, y_train_d, y_test_d, scaler_d = get_split_data(\n",
    "    df_sc_events4model_bp_agg_4model[feature_list],\n",
    "    df_sc_events4model_bp_agg_4model[\"event_mean\"],\n",
    "    0.4,\n",
    ")"
   ]
  },
  {
   "cell_type": "markdown",
   "metadata": {},
   "source": [
    "## Linear regression model\n"
   ]
  },
  {
   "cell_type": "code",
   "execution_count": null,
   "metadata": {},
   "outputs": [],
   "source": []
  },
  {
   "cell_type": "code",
   "execution_count": null,
   "metadata": {},
   "outputs": [],
   "source": []
  },
  {
   "cell_type": "code",
   "execution_count": 147,
   "metadata": {
    "ExecuteTime": {
     "end_time": "2020-02-03T06:43:20.050288Z",
     "start_time": "2020-02-03T06:43:20.031078Z"
    }
   },
   "outputs": [
    {
     "data": {
      "application/javascript": [
       "\n",
       "            setTimeout(function() {\n",
       "                var nbb_cell_id = 147;\n",
       "                var nbb_unformatted_code = \"def run_linreg_model(X_train_scale_set, y_train_set, X_test_scale_set, y_test_set):\\n\\n    lin_reg = LinearRegression()\\n    lin_reg.fit(X_train_scale_set, y_train_set)\\n\\n    y_pred = lin_reg.predict(X_test_scale_set)\\n    df_eval = pd.DataFrame({\\\"test\\\": y_test_set, \\\"pred\\\": y_pred})\\n\\n    return lin_reg, df_eval\";\n",
       "                var nbb_formatted_code = \"def run_linreg_model(X_train_scale_set, y_train_set, X_test_scale_set, y_test_set):\\n\\n    lin_reg = LinearRegression()\\n    lin_reg.fit(X_train_scale_set, y_train_set)\\n\\n    y_pred = lin_reg.predict(X_test_scale_set)\\n    df_eval = pd.DataFrame({\\\"test\\\": y_test_set, \\\"pred\\\": y_pred})\\n\\n    return lin_reg, df_eval\";\n",
       "                var nbb_cells = Jupyter.notebook.get_cells();\n",
       "                for (var i = 0; i < nbb_cells.length; ++i) {\n",
       "                    if (nbb_cells[i].input_prompt_number == nbb_cell_id) {\n",
       "                        if (nbb_cells[i].get_text() == nbb_unformatted_code) {\n",
       "                             nbb_cells[i].set_text(nbb_formatted_code);\n",
       "                        }\n",
       "                        break;\n",
       "                    }\n",
       "                }\n",
       "            }, 500);\n",
       "            "
      ],
      "text/plain": [
       "<IPython.core.display.Javascript object>"
      ]
     },
     "metadata": {},
     "output_type": "display_data"
    }
   ],
   "source": [
    "def run_linreg_model(X_train_scale_set, y_train_set, X_test_scale_set, y_test_set):\n",
    "\n",
    "    lin_reg = LinearRegression()\n",
    "    lin_reg.fit(X_train_scale_set, y_train_set)\n",
    "\n",
    "    y_pred = lin_reg.predict(X_test_scale_set)\n",
    "    df_eval = pd.DataFrame({\"test\": y_test_set, \"pred\": y_pred})\n",
    "\n",
    "    return lin_reg, df_eval"
   ]
  },
  {
   "cell_type": "code",
   "execution_count": 148,
   "metadata": {
    "ExecuteTime": {
     "end_time": "2020-02-03T06:43:26.652118Z",
     "start_time": "2020-02-03T06:43:26.573751Z"
    }
   },
   "outputs": [
    {
     "data": {
      "application/javascript": [
       "\n",
       "            setTimeout(function() {\n",
       "                var nbb_cell_id = 148;\n",
       "                var nbb_unformatted_code = \"lin_reg_v0, df_eval_v0 = run_linreg_model(\\n    X_train_scale_d, y_train_d, X_test_scale_d, y_test_d\\n)\";\n",
       "                var nbb_formatted_code = \"lin_reg_v0, df_eval_v0 = run_linreg_model(\\n    X_train_scale_d, y_train_d, X_test_scale_d, y_test_d\\n)\";\n",
       "                var nbb_cells = Jupyter.notebook.get_cells();\n",
       "                for (var i = 0; i < nbb_cells.length; ++i) {\n",
       "                    if (nbb_cells[i].input_prompt_number == nbb_cell_id) {\n",
       "                        if (nbb_cells[i].get_text() == nbb_unformatted_code) {\n",
       "                             nbb_cells[i].set_text(nbb_formatted_code);\n",
       "                        }\n",
       "                        break;\n",
       "                    }\n",
       "                }\n",
       "            }, 500);\n",
       "            "
      ],
      "text/plain": [
       "<IPython.core.display.Javascript object>"
      ]
     },
     "metadata": {},
     "output_type": "display_data"
    }
   ],
   "source": [
    "lin_reg_v0, df_eval_v0 = run_linreg_model(\n",
    "    X_train_scale_d, y_train_d, X_test_scale_d, y_test_d\n",
    ")"
   ]
  },
  {
   "cell_type": "code",
   "execution_count": 149,
   "metadata": {
    "ExecuteTime": {
     "end_time": "2020-02-03T06:43:33.260987Z",
     "start_time": "2020-02-03T06:43:33.239848Z"
    }
   },
   "outputs": [
    {
     "data": {
      "text/html": [
       "<div>\n",
       "<style scoped>\n",
       "    .dataframe tbody tr th:only-of-type {\n",
       "        vertical-align: middle;\n",
       "    }\n",
       "\n",
       "    .dataframe tbody tr th {\n",
       "        vertical-align: top;\n",
       "    }\n",
       "\n",
       "    .dataframe thead th {\n",
       "        text-align: right;\n",
       "    }\n",
       "</style>\n",
       "<table border=\"1\" class=\"dataframe\">\n",
       "  <thead>\n",
       "    <tr style=\"text-align: right;\">\n",
       "      <th></th>\n",
       "      <th>test</th>\n",
       "      <th>pred</th>\n",
       "    </tr>\n",
       "  </thead>\n",
       "  <tbody>\n",
       "    <tr>\n",
       "      <th>574</th>\n",
       "      <td>0.337190</td>\n",
       "      <td>0.381983</td>\n",
       "    </tr>\n",
       "    <tr>\n",
       "      <th>601</th>\n",
       "      <td>0.363770</td>\n",
       "      <td>0.345416</td>\n",
       "    </tr>\n",
       "    <tr>\n",
       "      <th>104</th>\n",
       "      <td>0.244851</td>\n",
       "      <td>0.285871</td>\n",
       "    </tr>\n",
       "    <tr>\n",
       "      <th>278</th>\n",
       "      <td>0.312102</td>\n",
       "      <td>0.299082</td>\n",
       "    </tr>\n",
       "    <tr>\n",
       "      <th>261</th>\n",
       "      <td>0.309453</td>\n",
       "      <td>0.313288</td>\n",
       "    </tr>\n",
       "    <tr>\n",
       "      <th>...</th>\n",
       "      <td>...</td>\n",
       "      <td>...</td>\n",
       "    </tr>\n",
       "    <tr>\n",
       "      <th>419</th>\n",
       "      <td>0.312139</td>\n",
       "      <td>0.337050</td>\n",
       "    </tr>\n",
       "    <tr>\n",
       "      <th>414</th>\n",
       "      <td>0.338759</td>\n",
       "      <td>0.328465</td>\n",
       "    </tr>\n",
       "    <tr>\n",
       "      <th>542</th>\n",
       "      <td>0.382090</td>\n",
       "      <td>0.346009</td>\n",
       "    </tr>\n",
       "    <tr>\n",
       "      <th>333</th>\n",
       "      <td>0.333676</td>\n",
       "      <td>0.312278</td>\n",
       "    </tr>\n",
       "    <tr>\n",
       "      <th>117</th>\n",
       "      <td>0.317797</td>\n",
       "      <td>0.307333</td>\n",
       "    </tr>\n",
       "  </tbody>\n",
       "</table>\n",
       "<p>250 rows × 2 columns</p>\n",
       "</div>"
      ],
      "text/plain": [
       "         test      pred\n",
       "574  0.337190  0.381983\n",
       "601  0.363770  0.345416\n",
       "104  0.244851  0.285871\n",
       "278  0.312102  0.299082\n",
       "261  0.309453  0.313288\n",
       "..        ...       ...\n",
       "419  0.312139  0.337050\n",
       "414  0.338759  0.328465\n",
       "542  0.382090  0.346009\n",
       "333  0.333676  0.312278\n",
       "117  0.317797  0.307333\n",
       "\n",
       "[250 rows x 2 columns]"
      ]
     },
     "execution_count": 149,
     "metadata": {},
     "output_type": "execute_result"
    },
    {
     "data": {
      "application/javascript": [
       "\n",
       "            setTimeout(function() {\n",
       "                var nbb_cell_id = 149;\n",
       "                var nbb_unformatted_code = \"df_eval_v0\";\n",
       "                var nbb_formatted_code = \"df_eval_v0\";\n",
       "                var nbb_cells = Jupyter.notebook.get_cells();\n",
       "                for (var i = 0; i < nbb_cells.length; ++i) {\n",
       "                    if (nbb_cells[i].input_prompt_number == nbb_cell_id) {\n",
       "                        if (nbb_cells[i].get_text() == nbb_unformatted_code) {\n",
       "                             nbb_cells[i].set_text(nbb_formatted_code);\n",
       "                        }\n",
       "                        break;\n",
       "                    }\n",
       "                }\n",
       "            }, 500);\n",
       "            "
      ],
      "text/plain": [
       "<IPython.core.display.Javascript object>"
      ]
     },
     "metadata": {},
     "output_type": "display_data"
    }
   ],
   "source": [
    "df_eval_v0"
   ]
  },
  {
   "cell_type": "code",
   "execution_count": 150,
   "metadata": {
    "ExecuteTime": {
     "end_time": "2020-02-03T06:43:40.130230Z",
     "start_time": "2020-02-03T06:43:40.117090Z"
    }
   },
   "outputs": [
    {
     "data": {
      "text/plain": [
       "0.6151561338489827"
      ]
     },
     "execution_count": 150,
     "metadata": {},
     "output_type": "execute_result"
    },
    {
     "data": {
      "application/javascript": [
       "\n",
       "            setTimeout(function() {\n",
       "                var nbb_cell_id = 150;\n",
       "                var nbb_unformatted_code = \"metrics.r2_score(df_eval_v0[\\\"test\\\"], df_eval_v0[\\\"pred\\\"])\";\n",
       "                var nbb_formatted_code = \"metrics.r2_score(df_eval_v0[\\\"test\\\"], df_eval_v0[\\\"pred\\\"])\";\n",
       "                var nbb_cells = Jupyter.notebook.get_cells();\n",
       "                for (var i = 0; i < nbb_cells.length; ++i) {\n",
       "                    if (nbb_cells[i].input_prompt_number == nbb_cell_id) {\n",
       "                        if (nbb_cells[i].get_text() == nbb_unformatted_code) {\n",
       "                             nbb_cells[i].set_text(nbb_formatted_code);\n",
       "                        }\n",
       "                        break;\n",
       "                    }\n",
       "                }\n",
       "            }, 500);\n",
       "            "
      ],
      "text/plain": [
       "<IPython.core.display.Javascript object>"
      ]
     },
     "metadata": {},
     "output_type": "display_data"
    }
   ],
   "source": [
    "metrics.r2_score(df_eval_v0[\"test\"], df_eval_v0[\"pred\"])"
   ]
  },
  {
   "cell_type": "markdown",
   "metadata": {
    "ExecuteTime": {
     "end_time": "2020-02-01T15:16:17.674480Z",
     "start_time": "2020-02-01T15:16:17.669074Z"
    }
   },
   "source": [
    "see what r2 score is by just predicting median"
   ]
  },
  {
   "cell_type": "code",
   "execution_count": 138,
   "metadata": {
    "ExecuteTime": {
     "end_time": "2020-02-01T15:18:16.288822Z",
     "start_time": "2020-02-01T15:18:16.270444Z"
    }
   },
   "outputs": [
    {
     "data": {
      "application/javascript": [
       "\n",
       "            setTimeout(function() {\n",
       "                var nbb_cell_id = 138;\n",
       "                var nbb_unformatted_code = \"df_eval_v0_mean = df_eval_v0.copy()\\ndf_eval_v0_mean[\\\"test_median\\\"] = df_eval_v0_mean[\\\"test\\\"].median()\";\n",
       "                var nbb_formatted_code = \"df_eval_v0_mean = df_eval_v0.copy()\\ndf_eval_v0_mean[\\\"test_median\\\"] = df_eval_v0_mean[\\\"test\\\"].median()\";\n",
       "                var nbb_cells = Jupyter.notebook.get_cells();\n",
       "                for (var i = 0; i < nbb_cells.length; ++i) {\n",
       "                    if (nbb_cells[i].input_prompt_number == nbb_cell_id) {\n",
       "                        if (nbb_cells[i].get_text() == nbb_unformatted_code) {\n",
       "                             nbb_cells[i].set_text(nbb_formatted_code);\n",
       "                        }\n",
       "                        break;\n",
       "                    }\n",
       "                }\n",
       "            }, 500);\n",
       "            "
      ],
      "text/plain": [
       "<IPython.core.display.Javascript object>"
      ]
     },
     "metadata": {},
     "output_type": "display_data"
    }
   ],
   "source": [
    "df_eval_v0_mean = df_eval_v0.copy()\n",
    "df_eval_v0_mean[\"test_median\"] = df_eval_v0_mean[\"test\"].median()"
   ]
  },
  {
   "cell_type": "code",
   "execution_count": 139,
   "metadata": {
    "ExecuteTime": {
     "end_time": "2020-02-01T15:18:18.015485Z",
     "start_time": "2020-02-01T15:18:18.002653Z"
    }
   },
   "outputs": [
    {
     "data": {
      "text/plain": [
       "-0.010865305116677826"
      ]
     },
     "execution_count": 139,
     "metadata": {},
     "output_type": "execute_result"
    },
    {
     "data": {
      "application/javascript": [
       "\n",
       "            setTimeout(function() {\n",
       "                var nbb_cell_id = 139;\n",
       "                var nbb_unformatted_code = \"metrics.r2_score(df_eval_v0_mean[\\\"test\\\"], df_eval_v0_mean[\\\"test_median\\\"])\";\n",
       "                var nbb_formatted_code = \"metrics.r2_score(df_eval_v0_mean[\\\"test\\\"], df_eval_v0_mean[\\\"test_median\\\"])\";\n",
       "                var nbb_cells = Jupyter.notebook.get_cells();\n",
       "                for (var i = 0; i < nbb_cells.length; ++i) {\n",
       "                    if (nbb_cells[i].input_prompt_number == nbb_cell_id) {\n",
       "                        if (nbb_cells[i].get_text() == nbb_unformatted_code) {\n",
       "                             nbb_cells[i].set_text(nbb_formatted_code);\n",
       "                        }\n",
       "                        break;\n",
       "                    }\n",
       "                }\n",
       "            }, 500);\n",
       "            "
      ],
      "text/plain": [
       "<IPython.core.display.Javascript object>"
      ]
     },
     "metadata": {},
     "output_type": "display_data"
    }
   ],
   "source": [
    "metrics.r2_score(df_eval_v0_mean[\"test\"], df_eval_v0_mean[\"test_median\"])"
   ]
  },
  {
   "cell_type": "markdown",
   "metadata": {
    "ExecuteTime": {
     "end_time": "2020-02-03T07:02:12.510187Z",
     "start_time": "2020-02-03T07:02:12.487298Z"
    }
   },
   "source": [
    "**Enter a test case**"
   ]
  },
  {
   "cell_type": "code",
   "execution_count": 176,
   "metadata": {
    "ExecuteTime": {
     "end_time": "2020-02-03T07:15:44.833544Z",
     "start_time": "2020-02-03T07:15:44.821376Z"
    }
   },
   "outputs": [
    {
     "data": {
      "text/plain": [
       "array([0.25, 1.6 ])"
      ]
     },
     "execution_count": 176,
     "metadata": {},
     "output_type": "execute_result"
    },
    {
     "data": {
      "application/javascript": [
       "\n",
       "            setTimeout(function() {\n",
       "                var nbb_cell_id = 176;\n",
       "                var nbb_unformatted_code = \"np.array(new_vals)\";\n",
       "                var nbb_formatted_code = \"np.array(new_vals)\";\n",
       "                var nbb_cells = Jupyter.notebook.get_cells();\n",
       "                for (var i = 0; i < nbb_cells.length; ++i) {\n",
       "                    if (nbb_cells[i].input_prompt_number == nbb_cell_id) {\n",
       "                        if (nbb_cells[i].get_text() == nbb_unformatted_code) {\n",
       "                             nbb_cells[i].set_text(nbb_formatted_code);\n",
       "                        }\n",
       "                        break;\n",
       "                    }\n",
       "                }\n",
       "            }, 500);\n",
       "            "
      ],
      "text/plain": [
       "<IPython.core.display.Javascript object>"
      ]
     },
     "metadata": {},
     "output_type": "display_data"
    }
   ],
   "source": [
    "np.array(new_vals)"
   ]
  },
  {
   "cell_type": "code",
   "execution_count": 184,
   "metadata": {
    "ExecuteTime": {
     "end_time": "2020-02-03T07:19:11.330140Z",
     "start_time": "2020-02-03T07:19:11.316433Z"
    }
   },
   "outputs": [
    {
     "data": {
      "application/javascript": [
       "\n",
       "            setTimeout(function() {\n",
       "                var nbb_cell_id = 184;\n",
       "                var nbb_unformatted_code = \"new_vals = [[0.25, 1.6]]\\nnew_vals_scaled = scaler_d.transform(np.array(new_vals))\";\n",
       "                var nbb_formatted_code = \"new_vals = [[0.25, 1.6]]\\nnew_vals_scaled = scaler_d.transform(np.array(new_vals))\";\n",
       "                var nbb_cells = Jupyter.notebook.get_cells();\n",
       "                for (var i = 0; i < nbb_cells.length; ++i) {\n",
       "                    if (nbb_cells[i].input_prompt_number == nbb_cell_id) {\n",
       "                        if (nbb_cells[i].get_text() == nbb_unformatted_code) {\n",
       "                             nbb_cells[i].set_text(nbb_formatted_code);\n",
       "                        }\n",
       "                        break;\n",
       "                    }\n",
       "                }\n",
       "            }, 500);\n",
       "            "
      ],
      "text/plain": [
       "<IPython.core.display.Javascript object>"
      ]
     },
     "metadata": {},
     "output_type": "display_data"
    }
   ],
   "source": [
    "# Note list within list for numpy and scaler recognizance\n",
    "new_vals = [[0.25, 1.6]]\n",
    "new_vals_scaled = scaler_d.transform(np.array(new_vals))"
   ]
  },
  {
   "cell_type": "code",
   "execution_count": 188,
   "metadata": {
    "ExecuteTime": {
     "end_time": "2020-02-03T07:26:57.386994Z",
     "start_time": "2020-02-03T07:26:57.362300Z"
    }
   },
   "outputs": [
    {
     "data": {
      "text/plain": [
       "array([0.30807913])"
      ]
     },
     "execution_count": 188,
     "metadata": {},
     "output_type": "execute_result"
    },
    {
     "data": {
      "application/javascript": [
       "\n",
       "            setTimeout(function() {\n",
       "                var nbb_cell_id = 188;\n",
       "                var nbb_unformatted_code = \"lin_reg_v0.predict(new_vals_scaled)\";\n",
       "                var nbb_formatted_code = \"lin_reg_v0.predict(new_vals_scaled)\";\n",
       "                var nbb_cells = Jupyter.notebook.get_cells();\n",
       "                for (var i = 0; i < nbb_cells.length; ++i) {\n",
       "                    if (nbb_cells[i].input_prompt_number == nbb_cell_id) {\n",
       "                        if (nbb_cells[i].get_text() == nbb_unformatted_code) {\n",
       "                             nbb_cells[i].set_text(nbb_formatted_code);\n",
       "                        }\n",
       "                        break;\n",
       "                    }\n",
       "                }\n",
       "            }, 500);\n",
       "            "
      ],
      "text/plain": [
       "<IPython.core.display.Javascript object>"
      ]
     },
     "metadata": {},
     "output_type": "display_data"
    }
   ],
   "source": [
    "lin_reg_v0.predict(new_vals_scaled)"
   ]
  },
  {
   "cell_type": "code",
   "execution_count": 190,
   "metadata": {
    "ExecuteTime": {
     "end_time": "2020-02-03T07:27:45.738817Z",
     "start_time": "2020-02-03T07:27:45.721943Z"
    }
   },
   "outputs": [
    {
     "name": "stdout",
     "output_type": "stream",
     "text": [
      "0.021163257169081233\n"
     ]
    },
    {
     "data": {
      "application/javascript": [
       "\n",
       "            setTimeout(function() {\n",
       "                var nbb_cell_id = 190;\n",
       "                var nbb_unformatted_code = \"stdev = np.sqrt(sum((lin_reg_v0.predict(X_train_scale_d) - y_train_d)**2) / (len(y_train_d) - 2))\\n\\nprint(stdev)\";\n",
       "                var nbb_formatted_code = \"stdev = np.sqrt(\\n    sum((lin_reg_v0.predict(X_train_scale_d) - y_train_d) ** 2) / (len(y_train_d) - 2)\\n)\\n\\nprint(stdev)\";\n",
       "                var nbb_cells = Jupyter.notebook.get_cells();\n",
       "                for (var i = 0; i < nbb_cells.length; ++i) {\n",
       "                    if (nbb_cells[i].input_prompt_number == nbb_cell_id) {\n",
       "                        if (nbb_cells[i].get_text() == nbb_unformatted_code) {\n",
       "                             nbb_cells[i].set_text(nbb_formatted_code);\n",
       "                        }\n",
       "                        break;\n",
       "                    }\n",
       "                }\n",
       "            }, 500);\n",
       "            "
      ],
      "text/plain": [
       "<IPython.core.display.Javascript object>"
      ]
     },
     "metadata": {},
     "output_type": "display_data"
    }
   ],
   "source": [
    "stdev = np.sqrt(\n",
    "    sum((lin_reg_v0.predict(X_train_scale_d) - y_train_d) ** 2) / (len(y_train_d) - 2)\n",
    ")\n",
    "\n",
    "print(stdev)"
   ]
  },
  {
   "cell_type": "code",
   "execution_count": 187,
   "metadata": {
    "ExecuteTime": {
     "end_time": "2020-02-03T07:23:47.035007Z",
     "start_time": "2020-02-03T07:23:46.997017Z"
    }
   },
   "outputs": [
    {
     "data": {
      "application/javascript": [
       "\n",
       "            setTimeout(function() {\n",
       "                var nbb_cell_id = 187;\n",
       "                var nbb_unformatted_code = \"## prediction interval\\n# https://towardsdatascience.com/how-to-generate-prediction-intervals-with-scikit-learn-and-python-ab3899f992ed\";\n",
       "                var nbb_formatted_code = \"## prediction interval\\n# https://towardsdatascience.com/how-to-generate-prediction-intervals-with-scikit-learn-and-python-ab3899f992ed\";\n",
       "                var nbb_cells = Jupyter.notebook.get_cells();\n",
       "                for (var i = 0; i < nbb_cells.length; ++i) {\n",
       "                    if (nbb_cells[i].input_prompt_number == nbb_cell_id) {\n",
       "                        if (nbb_cells[i].get_text() == nbb_unformatted_code) {\n",
       "                             nbb_cells[i].set_text(nbb_formatted_code);\n",
       "                        }\n",
       "                        break;\n",
       "                    }\n",
       "                }\n",
       "            }, 500);\n",
       "            "
      ],
      "text/plain": [
       "<IPython.core.display.Javascript object>"
      ]
     },
     "metadata": {},
     "output_type": "display_data"
    }
   ],
   "source": [
    "## prediction interval\n",
    "# https://towardsdatascience.com/how-to-generate-prediction-intervals-with-scikit-learn-and-python-ab3899f992ed"
   ]
  },
  {
   "cell_type": "markdown",
   "metadata": {},
   "source": [
    "**Test case with names**"
   ]
  },
  {
   "cell_type": "code",
   "execution_count": 195,
   "metadata": {
    "ExecuteTime": {
     "end_time": "2020-02-03T07:32:26.640521Z",
     "start_time": "2020-02-03T07:32:26.631715Z"
    }
   },
   "outputs": [
    {
     "data": {
      "application/javascript": [
       "\n",
       "            setTimeout(function() {\n",
       "                var nbb_cell_id = 195;\n",
       "                var nbb_unformatted_code = \"batter = \\\"Mike Trout\\\"\\npitcher = \\\"Gerrit Cole\\\"\";\n",
       "                var nbb_formatted_code = \"batter = \\\"Mike Trout\\\"\\npitcher = \\\"Gerrit Cole\\\"\";\n",
       "                var nbb_cells = Jupyter.notebook.get_cells();\n",
       "                for (var i = 0; i < nbb_cells.length; ++i) {\n",
       "                    if (nbb_cells[i].input_prompt_number == nbb_cell_id) {\n",
       "                        if (nbb_cells[i].get_text() == nbb_unformatted_code) {\n",
       "                             nbb_cells[i].set_text(nbb_formatted_code);\n",
       "                        }\n",
       "                        break;\n",
       "                    }\n",
       "                }\n",
       "            }, 500);\n",
       "            "
      ],
      "text/plain": [
       "<IPython.core.display.Javascript object>"
      ]
     },
     "metadata": {},
     "output_type": "display_data"
    }
   ],
   "source": [
    "batter = \"Mike Trout\"\n",
    "pitcher = \"Gerrit Cole\""
   ]
  },
  {
   "cell_type": "code",
   "execution_count": 201,
   "metadata": {
    "ExecuteTime": {
     "end_time": "2020-02-03T07:34:12.821529Z",
     "start_time": "2020-02-03T07:34:12.778537Z"
    }
   },
   "outputs": [
    {
     "name": "stdout",
     "output_type": "stream",
     "text": [
      "0.46\n"
     ]
    },
    {
     "data": {
      "application/javascript": [
       "\n",
       "            setTimeout(function() {\n",
       "                var nbb_cell_id = 201;\n",
       "                var nbb_unformatted_code = \"batter_obp = np.float(\\n    df_batting_stats_wpid.loc[df_batting_stats_wpid[\\\"Name\\\"] == batter, \\\"OBP\\\"]\\n)\\nprint(batter_obp)\";\n",
       "                var nbb_formatted_code = \"batter_obp = np.float(\\n    df_batting_stats_wpid.loc[df_batting_stats_wpid[\\\"Name\\\"] == batter, \\\"OBP\\\"]\\n)\\nprint(batter_obp)\";\n",
       "                var nbb_cells = Jupyter.notebook.get_cells();\n",
       "                for (var i = 0; i < nbb_cells.length; ++i) {\n",
       "                    if (nbb_cells[i].input_prompt_number == nbb_cell_id) {\n",
       "                        if (nbb_cells[i].get_text() == nbb_unformatted_code) {\n",
       "                             nbb_cells[i].set_text(nbb_formatted_code);\n",
       "                        }\n",
       "                        break;\n",
       "                    }\n",
       "                }\n",
       "            }, 500);\n",
       "            "
      ],
      "text/plain": [
       "<IPython.core.display.Javascript object>"
      ]
     },
     "metadata": {},
     "output_type": "display_data"
    }
   ],
   "source": [
    "batter_obp = np.float(\n",
    "    df_batting_stats_wpid.loc[df_batting_stats_wpid[\"Name\"] == batter, \"OBP\"]\n",
    ")\n",
    "print(batter_obp)"
   ]
  },
  {
   "cell_type": "code",
   "execution_count": 198,
   "metadata": {
    "ExecuteTime": {
     "end_time": "2020-02-03T07:33:17.596038Z",
     "start_time": "2020-02-03T07:33:17.582292Z"
    }
   },
   "outputs": [
    {
     "name": "stdout",
     "output_type": "stream",
     "text": [
      "1.03\n"
     ]
    },
    {
     "data": {
      "application/javascript": [
       "\n",
       "            setTimeout(function() {\n",
       "                var nbb_cell_id = 198;\n",
       "                var nbb_unformatted_code = \"pitcher_whip = np.float(df_pitching_stats_wpid.loc[\\n    df_pitching_stats_wpid[\\\"Name\\\"] == pitcher, \\\"WHIP\\\"\\n])\\nprint(pitcher_whip)\";\n",
       "                var nbb_formatted_code = \"pitcher_whip = np.float(\\n    df_pitching_stats_wpid.loc[df_pitching_stats_wpid[\\\"Name\\\"] == pitcher, \\\"WHIP\\\"]\\n)\\nprint(pitcher_whip)\";\n",
       "                var nbb_cells = Jupyter.notebook.get_cells();\n",
       "                for (var i = 0; i < nbb_cells.length; ++i) {\n",
       "                    if (nbb_cells[i].input_prompt_number == nbb_cell_id) {\n",
       "                        if (nbb_cells[i].get_text() == nbb_unformatted_code) {\n",
       "                             nbb_cells[i].set_text(nbb_formatted_code);\n",
       "                        }\n",
       "                        break;\n",
       "                    }\n",
       "                }\n",
       "            }, 500);\n",
       "            "
      ],
      "text/plain": [
       "<IPython.core.display.Javascript object>"
      ]
     },
     "metadata": {},
     "output_type": "display_data"
    }
   ],
   "source": [
    "pitcher_whip = np.float(\n",
    "    df_pitching_stats_wpid.loc[df_pitching_stats_wpid[\"Name\"] == pitcher, \"WHIP\"]\n",
    ")\n",
    "print(pitcher_whip)"
   ]
  },
  {
   "cell_type": "code",
   "execution_count": 220,
   "metadata": {
    "ExecuteTime": {
     "end_time": "2020-02-03T07:39:56.084944Z",
     "start_time": "2020-02-03T07:39:56.060150Z"
    }
   },
   "outputs": [
    {
     "name": "stdout",
     "output_type": "stream",
     "text": [
      "0.37 +/- 0.021\n"
     ]
    },
    {
     "data": {
      "application/javascript": [
       "\n",
       "            setTimeout(function() {\n",
       "                var nbb_cell_id = 220;\n",
       "                var nbb_unformatted_code = \"# Note list within list for numpy and scaler recognizance\\nbp_test_vals = [[batter_obp, pitcher_whip]]\\nbp_vals_scaled = scaler_d.transform(np.array(bp_test_vals))\\n\\nbp_pred = lin_reg_v0.predict(bp_vals_scaled)\\nbp_stdev = np.sqrt(\\n    sum((lin_reg_v0.predict(X_train_scale_d) - y_train_d) ** 2) / (len(y_train_d) - 2)\\n)\\n\\nprint(str(np.around(bp_pred[0], 3)) + \\\" +/- \\\" + str(np.around(stdev, 3)))\";\n",
       "                var nbb_formatted_code = \"# Note list within list for numpy and scaler recognizance\\nbp_test_vals = [[batter_obp, pitcher_whip]]\\nbp_vals_scaled = scaler_d.transform(np.array(bp_test_vals))\\n\\nbp_pred = lin_reg_v0.predict(bp_vals_scaled)\\nbp_stdev = np.sqrt(\\n    sum((lin_reg_v0.predict(X_train_scale_d) - y_train_d) ** 2) / (len(y_train_d) - 2)\\n)\\n\\nprint(str(np.around(bp_pred[0], 3)) + \\\" +/- \\\" + str(np.around(stdev, 3)))\";\n",
       "                var nbb_cells = Jupyter.notebook.get_cells();\n",
       "                for (var i = 0; i < nbb_cells.length; ++i) {\n",
       "                    if (nbb_cells[i].input_prompt_number == nbb_cell_id) {\n",
       "                        if (nbb_cells[i].get_text() == nbb_unformatted_code) {\n",
       "                             nbb_cells[i].set_text(nbb_formatted_code);\n",
       "                        }\n",
       "                        break;\n",
       "                    }\n",
       "                }\n",
       "            }, 500);\n",
       "            "
      ],
      "text/plain": [
       "<IPython.core.display.Javascript object>"
      ]
     },
     "metadata": {},
     "output_type": "display_data"
    }
   ],
   "source": [
    "# Note list within list for numpy and scaler recognizance\n",
    "bp_test_vals = [[batter_obp, pitcher_whip]]\n",
    "bp_vals_scaled = scaler_d.transform(np.array(bp_test_vals))\n",
    "\n",
    "bp_pred = lin_reg_v0.predict(bp_vals_scaled)\n",
    "bp_stdev = np.sqrt(\n",
    "    sum((lin_reg_v0.predict(X_train_scale_d) - y_train_d) ** 2) / (len(y_train_d) - 2)\n",
    ")\n",
    "\n",
    "print(str(np.around(bp_pred[0], 3)) + \" +/- \" + str(np.around(stdev, 3)))"
   ]
  },
  {
   "cell_type": "code",
   "execution_count": 211,
   "metadata": {
    "ExecuteTime": {
     "end_time": "2020-02-03T07:37:46.991662Z",
     "start_time": "2020-02-03T07:37:46.981072Z"
    }
   },
   "outputs": [
    {
     "data": {
      "text/plain": [
       "array([0.36964908])"
      ]
     },
     "execution_count": 211,
     "metadata": {},
     "output_type": "execute_result"
    },
    {
     "data": {
      "application/javascript": [
       "\n",
       "            setTimeout(function() {\n",
       "                var nbb_cell_id = 211;\n",
       "                var nbb_unformatted_code = \"bp_pred\";\n",
       "                var nbb_formatted_code = \"bp_pred\";\n",
       "                var nbb_cells = Jupyter.notebook.get_cells();\n",
       "                for (var i = 0; i < nbb_cells.length; ++i) {\n",
       "                    if (nbb_cells[i].input_prompt_number == nbb_cell_id) {\n",
       "                        if (nbb_cells[i].get_text() == nbb_unformatted_code) {\n",
       "                             nbb_cells[i].set_text(nbb_formatted_code);\n",
       "                        }\n",
       "                        break;\n",
       "                    }\n",
       "                }\n",
       "            }, 500);\n",
       "            "
      ],
      "text/plain": [
       "<IPython.core.display.Javascript object>"
      ]
     },
     "metadata": {},
     "output_type": "display_data"
    }
   ],
   "source": [
    "bp_pred"
   ]
  },
  {
   "cell_type": "code",
   "execution_count": null,
   "metadata": {},
   "outputs": [],
   "source": []
  },
  {
   "cell_type": "markdown",
   "metadata": {},
   "source": [
    "## Lasso regression model"
   ]
  },
  {
   "cell_type": "code",
   "execution_count": 152,
   "metadata": {
    "ExecuteTime": {
     "end_time": "2020-02-03T06:52:23.457264Z",
     "start_time": "2020-02-03T06:52:23.443019Z"
    }
   },
   "outputs": [
    {
     "data": {
      "application/javascript": [
       "\n",
       "            setTimeout(function() {\n",
       "                var nbb_cell_id = 152;\n",
       "                var nbb_unformatted_code = \"from sklearn.linear_model import Lasso\";\n",
       "                var nbb_formatted_code = \"from sklearn.linear_model import Lasso\";\n",
       "                var nbb_cells = Jupyter.notebook.get_cells();\n",
       "                for (var i = 0; i < nbb_cells.length; ++i) {\n",
       "                    if (nbb_cells[i].input_prompt_number == nbb_cell_id) {\n",
       "                        if (nbb_cells[i].get_text() == nbb_unformatted_code) {\n",
       "                             nbb_cells[i].set_text(nbb_formatted_code);\n",
       "                        }\n",
       "                        break;\n",
       "                    }\n",
       "                }\n",
       "            }, 500);\n",
       "            "
      ],
      "text/plain": [
       "<IPython.core.display.Javascript object>"
      ]
     },
     "metadata": {},
     "output_type": "display_data"
    }
   ],
   "source": [
    "from sklearn.linear_model import Lasso"
   ]
  },
  {
   "cell_type": "code",
   "execution_count": 158,
   "metadata": {
    "ExecuteTime": {
     "end_time": "2020-02-03T06:54:05.061795Z",
     "start_time": "2020-02-03T06:54:05.048048Z"
    }
   },
   "outputs": [
    {
     "data": {
      "application/javascript": [
       "\n",
       "            setTimeout(function() {\n",
       "                var nbb_cell_id = 158;\n",
       "                var nbb_unformatted_code = \"def run_lassoreg_model(X_train_scale_set, y_train_set, X_test_scale_set, y_test_set):\\n\\n    lasso_reg = Lasso()\\n    lasso_reg.fit(X_train_scale_set, y_train_set)\\n\\n    y_pred = lasso_reg.predict(X_test_scale_set)\\n    df_eval = pd.DataFrame({\\\"test\\\": y_test_set, \\\"pred\\\": y_pred})\\n\\n    return lasso_reg, df_eval\";\n",
       "                var nbb_formatted_code = \"def run_lassoreg_model(X_train_scale_set, y_train_set, X_test_scale_set, y_test_set):\\n\\n    lasso_reg = Lasso()\\n    lasso_reg.fit(X_train_scale_set, y_train_set)\\n\\n    y_pred = lasso_reg.predict(X_test_scale_set)\\n    df_eval = pd.DataFrame({\\\"test\\\": y_test_set, \\\"pred\\\": y_pred})\\n\\n    return lasso_reg, df_eval\";\n",
       "                var nbb_cells = Jupyter.notebook.get_cells();\n",
       "                for (var i = 0; i < nbb_cells.length; ++i) {\n",
       "                    if (nbb_cells[i].input_prompt_number == nbb_cell_id) {\n",
       "                        if (nbb_cells[i].get_text() == nbb_unformatted_code) {\n",
       "                             nbb_cells[i].set_text(nbb_formatted_code);\n",
       "                        }\n",
       "                        break;\n",
       "                    }\n",
       "                }\n",
       "            }, 500);\n",
       "            "
      ],
      "text/plain": [
       "<IPython.core.display.Javascript object>"
      ]
     },
     "metadata": {},
     "output_type": "display_data"
    }
   ],
   "source": [
    "def run_lassoreg_model(X_train_scale_set, y_train_set, X_test_scale_set, y_test_set):\n",
    "\n",
    "    lasso_reg = Lasso()\n",
    "    lasso_reg.fit(X_train_scale_set, y_train_set)\n",
    "\n",
    "    y_pred = lasso_reg.predict(X_test_scale_set)\n",
    "    df_eval = pd.DataFrame({\"test\": y_test_set, \"pred\": y_pred})\n",
    "\n",
    "    return lasso_reg, df_eval"
   ]
  },
  {
   "cell_type": "code",
   "execution_count": 159,
   "metadata": {
    "ExecuteTime": {
     "end_time": "2020-02-03T06:54:11.889501Z",
     "start_time": "2020-02-03T06:54:11.877166Z"
    }
   },
   "outputs": [
    {
     "data": {
      "application/javascript": [
       "\n",
       "            setTimeout(function() {\n",
       "                var nbb_cell_id = 159;\n",
       "                var nbb_unformatted_code = \"lasso_reg_v0, df_eval_lasso_v0 = run_lassoreg_model(\\n    X_train_scale_d, y_train_d, X_test_scale_d, y_test_d\\n)\";\n",
       "                var nbb_formatted_code = \"lasso_reg_v0, df_eval_lasso_v0 = run_lassoreg_model(\\n    X_train_scale_d, y_train_d, X_test_scale_d, y_test_d\\n)\";\n",
       "                var nbb_cells = Jupyter.notebook.get_cells();\n",
       "                for (var i = 0; i < nbb_cells.length; ++i) {\n",
       "                    if (nbb_cells[i].input_prompt_number == nbb_cell_id) {\n",
       "                        if (nbb_cells[i].get_text() == nbb_unformatted_code) {\n",
       "                             nbb_cells[i].set_text(nbb_formatted_code);\n",
       "                        }\n",
       "                        break;\n",
       "                    }\n",
       "                }\n",
       "            }, 500);\n",
       "            "
      ],
      "text/plain": [
       "<IPython.core.display.Javascript object>"
      ]
     },
     "metadata": {},
     "output_type": "display_data"
    }
   ],
   "source": [
    "lasso_reg_v0, df_eval_lasso_v0 = run_lassoreg_model(\n",
    "    X_train_scale_d, y_train_d, X_test_scale_d, y_test_d\n",
    ")"
   ]
  },
  {
   "cell_type": "code",
   "execution_count": 160,
   "metadata": {
    "ExecuteTime": {
     "end_time": "2020-02-03T06:54:18.415965Z",
     "start_time": "2020-02-03T06:54:18.399807Z"
    }
   },
   "outputs": [
    {
     "data": {
      "text/html": [
       "<div>\n",
       "<style scoped>\n",
       "    .dataframe tbody tr th:only-of-type {\n",
       "        vertical-align: middle;\n",
       "    }\n",
       "\n",
       "    .dataframe tbody tr th {\n",
       "        vertical-align: top;\n",
       "    }\n",
       "\n",
       "    .dataframe thead th {\n",
       "        text-align: right;\n",
       "    }\n",
       "</style>\n",
       "<table border=\"1\" class=\"dataframe\">\n",
       "  <thead>\n",
       "    <tr style=\"text-align: right;\">\n",
       "      <th></th>\n",
       "      <th>test</th>\n",
       "      <th>pred</th>\n",
       "    </tr>\n",
       "  </thead>\n",
       "  <tbody>\n",
       "    <tr>\n",
       "      <th>574</th>\n",
       "      <td>0.337190</td>\n",
       "      <td>0.318431</td>\n",
       "    </tr>\n",
       "    <tr>\n",
       "      <th>601</th>\n",
       "      <td>0.363770</td>\n",
       "      <td>0.318431</td>\n",
       "    </tr>\n",
       "    <tr>\n",
       "      <th>104</th>\n",
       "      <td>0.244851</td>\n",
       "      <td>0.318431</td>\n",
       "    </tr>\n",
       "    <tr>\n",
       "      <th>278</th>\n",
       "      <td>0.312102</td>\n",
       "      <td>0.318431</td>\n",
       "    </tr>\n",
       "    <tr>\n",
       "      <th>261</th>\n",
       "      <td>0.309453</td>\n",
       "      <td>0.318431</td>\n",
       "    </tr>\n",
       "  </tbody>\n",
       "</table>\n",
       "</div>"
      ],
      "text/plain": [
       "         test      pred\n",
       "574  0.337190  0.318431\n",
       "601  0.363770  0.318431\n",
       "104  0.244851  0.318431\n",
       "278  0.312102  0.318431\n",
       "261  0.309453  0.318431"
      ]
     },
     "execution_count": 160,
     "metadata": {},
     "output_type": "execute_result"
    },
    {
     "data": {
      "application/javascript": [
       "\n",
       "            setTimeout(function() {\n",
       "                var nbb_cell_id = 160;\n",
       "                var nbb_unformatted_code = \"df_eval_lasso_v0.head()\";\n",
       "                var nbb_formatted_code = \"df_eval_lasso_v0.head()\";\n",
       "                var nbb_cells = Jupyter.notebook.get_cells();\n",
       "                for (var i = 0; i < nbb_cells.length; ++i) {\n",
       "                    if (nbb_cells[i].input_prompt_number == nbb_cell_id) {\n",
       "                        if (nbb_cells[i].get_text() == nbb_unformatted_code) {\n",
       "                             nbb_cells[i].set_text(nbb_formatted_code);\n",
       "                        }\n",
       "                        break;\n",
       "                    }\n",
       "                }\n",
       "            }, 500);\n",
       "            "
      ],
      "text/plain": [
       "<IPython.core.display.Javascript object>"
      ]
     },
     "metadata": {},
     "output_type": "display_data"
    }
   ],
   "source": [
    "df_eval_lasso_v0.head()"
   ]
  },
  {
   "cell_type": "code",
   "execution_count": 162,
   "metadata": {
    "ExecuteTime": {
     "end_time": "2020-02-03T06:54:52.588587Z",
     "start_time": "2020-02-03T06:54:52.333982Z"
    }
   },
   "outputs": [
    {
     "data": {
      "text/plain": [
       "<matplotlib.collections.PathCollection at 0x1a3fa8bc88>"
      ]
     },
     "execution_count": 162,
     "metadata": {},
     "output_type": "execute_result"
    },
    {
     "data": {
      "image/png": "[encoded data removed]",
      "text/plain": [
       "<Figure size 432x288 with 1 Axes>"
      ]
     },
     "metadata": {
      "needs_background": "light"
     },
     "output_type": "display_data"
    },
    {
     "data": {
      "application/javascript": [
       "\n",
       "            setTimeout(function() {\n",
       "                var nbb_cell_id = 162;\n",
       "                var nbb_unformatted_code = \"f, ax1 = plt.subplots()\\nax1.scatter(df_eval_lasso_v0['pred'], df_eval_lasso_v0['test'])\";\n",
       "                var nbb_formatted_code = \"f, ax1 = plt.subplots()\\nax1.scatter(df_eval_lasso_v0[\\\"pred\\\"], df_eval_lasso_v0[\\\"test\\\"])\";\n",
       "                var nbb_cells = Jupyter.notebook.get_cells();\n",
       "                for (var i = 0; i < nbb_cells.length; ++i) {\n",
       "                    if (nbb_cells[i].input_prompt_number == nbb_cell_id) {\n",
       "                        if (nbb_cells[i].get_text() == nbb_unformatted_code) {\n",
       "                             nbb_cells[i].set_text(nbb_formatted_code);\n",
       "                        }\n",
       "                        break;\n",
       "                    }\n",
       "                }\n",
       "            }, 500);\n",
       "            "
      ],
      "text/plain": [
       "<IPython.core.display.Javascript object>"
      ]
     },
     "metadata": {},
     "output_type": "display_data"
    }
   ],
   "source": [
    "f, ax1 = plt.subplots()\n",
    "ax1.scatter(df_eval_lasso_v0[\"pred\"], df_eval_lasso_v0[\"test\"])"
   ]
  },
  {
   "cell_type": "code",
   "execution_count": 161,
   "metadata": {
    "ExecuteTime": {
     "end_time": "2020-02-03T06:54:25.565226Z",
     "start_time": "2020-02-03T06:54:25.550191Z"
    }
   },
   "outputs": [
    {
     "data": {
      "text/plain": [
       "-0.0019602187533234172"
      ]
     },
     "execution_count": 161,
     "metadata": {},
     "output_type": "execute_result"
    },
    {
     "data": {
      "application/javascript": [
       "\n",
       "            setTimeout(function() {\n",
       "                var nbb_cell_id = 161;\n",
       "                var nbb_unformatted_code = \"metrics.r2_score(df_eval_lasso_v0[\\\"test\\\"], df_eval_lasso_v0[\\\"pred\\\"])\";\n",
       "                var nbb_formatted_code = \"metrics.r2_score(df_eval_lasso_v0[\\\"test\\\"], df_eval_lasso_v0[\\\"pred\\\"])\";\n",
       "                var nbb_cells = Jupyter.notebook.get_cells();\n",
       "                for (var i = 0; i < nbb_cells.length; ++i) {\n",
       "                    if (nbb_cells[i].input_prompt_number == nbb_cell_id) {\n",
       "                        if (nbb_cells[i].get_text() == nbb_unformatted_code) {\n",
       "                             nbb_cells[i].set_text(nbb_formatted_code);\n",
       "                        }\n",
       "                        break;\n",
       "                    }\n",
       "                }\n",
       "            }, 500);\n",
       "            "
      ],
      "text/plain": [
       "<IPython.core.display.Javascript object>"
      ]
     },
     "metadata": {},
     "output_type": "display_data"
    }
   ],
   "source": [
    "metrics.r2_score(df_eval_lasso_v0[\"test\"], df_eval_lasso_v0[\"pred\"])"
   ]
  },
  {
   "cell_type": "code",
   "execution_count": 165,
   "metadata": {
    "ExecuteTime": {
     "end_time": "2020-02-03T07:01:36.053944Z",
     "start_time": "2020-02-03T07:01:36.032626Z"
    }
   },
   "outputs": [
    {
     "data": {
      "text/plain": [
       "array([0.31843107, 0.31843107, 0.31843107, 0.31843107, 0.31843107,\n",
       "       0.31843107, 0.31843107, 0.31843107, 0.31843107, 0.31843107,\n",
       "       0.31843107, 0.31843107, 0.31843107, 0.31843107, 0.31843107,\n",
       "       0.31843107, 0.31843107, 0.31843107, 0.31843107, 0.31843107,\n",
       "       0.31843107, 0.31843107, 0.31843107, 0.31843107, 0.31843107,\n",
       "       0.31843107, 0.31843107, 0.31843107, 0.31843107, 0.31843107,\n",
       "       0.31843107, 0.31843107, 0.31843107, 0.31843107, 0.31843107,\n",
       "       0.31843107, 0.31843107, 0.31843107, 0.31843107, 0.31843107,\n",
       "       0.31843107, 0.31843107, 0.31843107, 0.31843107, 0.31843107,\n",
       "       0.31843107, 0.31843107, 0.31843107, 0.31843107, 0.31843107,\n",
       "       0.31843107, 0.31843107, 0.31843107, 0.31843107, 0.31843107,\n",
       "       0.31843107, 0.31843107, 0.31843107, 0.31843107, 0.31843107,\n",
       "       0.31843107, 0.31843107, 0.31843107, 0.31843107, 0.31843107,\n",
       "       0.31843107, 0.31843107, 0.31843107, 0.31843107, 0.31843107,\n",
       "       0.31843107, 0.31843107, 0.31843107, 0.31843107, 0.31843107,\n",
       "       0.31843107, 0.31843107, 0.31843107, 0.31843107, 0.31843107,\n",
       "       0.31843107, 0.31843107, 0.31843107, 0.31843107, 0.31843107,\n",
       "       0.31843107, 0.31843107, 0.31843107, 0.31843107, 0.31843107,\n",
       "       0.31843107, 0.31843107, 0.31843107, 0.31843107, 0.31843107,\n",
       "       0.31843107, 0.31843107, 0.31843107, 0.31843107, 0.31843107,\n",
       "       0.31843107, 0.31843107, 0.31843107, 0.31843107, 0.31843107,\n",
       "       0.31843107, 0.31843107, 0.31843107, 0.31843107, 0.31843107,\n",
       "       0.31843107, 0.31843107, 0.31843107, 0.31843107, 0.31843107,\n",
       "       0.31843107, 0.31843107, 0.31843107, 0.31843107, 0.31843107,\n",
       "       0.31843107, 0.31843107, 0.31843107, 0.31843107, 0.31843107,\n",
       "       0.31843107, 0.31843107, 0.31843107, 0.31843107, 0.31843107,\n",
       "       0.31843107, 0.31843107, 0.31843107, 0.31843107, 0.31843107,\n",
       "       0.31843107, 0.31843107, 0.31843107, 0.31843107, 0.31843107,\n",
       "       0.31843107, 0.31843107, 0.31843107, 0.31843107, 0.31843107,\n",
       "       0.31843107, 0.31843107, 0.31843107, 0.31843107, 0.31843107,\n",
       "       0.31843107, 0.31843107, 0.31843107, 0.31843107, 0.31843107,\n",
       "       0.31843107, 0.31843107, 0.31843107, 0.31843107, 0.31843107,\n",
       "       0.31843107, 0.31843107, 0.31843107, 0.31843107, 0.31843107,\n",
       "       0.31843107, 0.31843107, 0.31843107, 0.31843107, 0.31843107,\n",
       "       0.31843107, 0.31843107, 0.31843107, 0.31843107, 0.31843107,\n",
       "       0.31843107, 0.31843107, 0.31843107, 0.31843107, 0.31843107,\n",
       "       0.31843107, 0.31843107, 0.31843107, 0.31843107, 0.31843107,\n",
       "       0.31843107, 0.31843107, 0.31843107, 0.31843107, 0.31843107,\n",
       "       0.31843107, 0.31843107, 0.31843107, 0.31843107, 0.31843107,\n",
       "       0.31843107, 0.31843107, 0.31843107, 0.31843107, 0.31843107,\n",
       "       0.31843107, 0.31843107, 0.31843107, 0.31843107, 0.31843107,\n",
       "       0.31843107, 0.31843107, 0.31843107, 0.31843107, 0.31843107,\n",
       "       0.31843107, 0.31843107, 0.31843107, 0.31843107, 0.31843107,\n",
       "       0.31843107, 0.31843107, 0.31843107, 0.31843107, 0.31843107,\n",
       "       0.31843107, 0.31843107, 0.31843107, 0.31843107, 0.31843107,\n",
       "       0.31843107, 0.31843107, 0.31843107, 0.31843107, 0.31843107,\n",
       "       0.31843107, 0.31843107, 0.31843107, 0.31843107, 0.31843107,\n",
       "       0.31843107, 0.31843107, 0.31843107, 0.31843107, 0.31843107,\n",
       "       0.31843107, 0.31843107, 0.31843107, 0.31843107, 0.31843107,\n",
       "       0.31843107, 0.31843107, 0.31843107, 0.31843107, 0.31843107])"
      ]
     },
     "execution_count": 165,
     "metadata": {},
     "output_type": "execute_result"
    },
    {
     "data": {
      "application/javascript": [
       "\n",
       "            setTimeout(function() {\n",
       "                var nbb_cell_id = 165;\n",
       "                var nbb_unformatted_code = \"lasso_reg_v0.predict(X_test_scale_d)\";\n",
       "                var nbb_formatted_code = \"lasso_reg_v0.predict(X_test_scale_d)\";\n",
       "                var nbb_cells = Jupyter.notebook.get_cells();\n",
       "                for (var i = 0; i < nbb_cells.length; ++i) {\n",
       "                    if (nbb_cells[i].input_prompt_number == nbb_cell_id) {\n",
       "                        if (nbb_cells[i].get_text() == nbb_unformatted_code) {\n",
       "                             nbb_cells[i].set_text(nbb_formatted_code);\n",
       "                        }\n",
       "                        break;\n",
       "                    }\n",
       "                }\n",
       "            }, 500);\n",
       "            "
      ],
      "text/plain": [
       "<IPython.core.display.Javascript object>"
      ]
     },
     "metadata": {},
     "output_type": "display_data"
    }
   ],
   "source": [
    "lasso_reg_v0.predict(X_test_scale_d)"
   ]
  }
 ],
 "metadata": {
  "kernelspec": {
   "display_name": "Python 3",
   "language": "python",
   "name": "python3"
  },
  "language_info": {
   "codemirror_mode": {
    "name": "ipython",
    "version": 3
   },
   "file_extension": ".py",
   "mimetype": "text/x-python",
   "name": "python",
   "nbconvert_exporter": "python",
   "pygments_lexer": "ipython3",
   "version": "3.6.9"
  },
  "toc": {
   "base_numbering": 1,
   "nav_menu": {},
   "number_sections": true,
   "sideBar": true,
   "skip_h1_title": false,
   "title_cell": "Table of Contents",
   "title_sidebar": "Contents",
   "toc_cell": false,
   "toc_position": {
    "height": "calc(100% - 180px)",
    "left": "10px",
    "top": "150px",
    "width": "248.03125px"
   },
   "toc_section_display": true,
   "toc_window_display": true
  },
  "varInspector": {
   "cols": {
    "lenName": 16,
    "lenType": 16,
    "lenVar": 40
   },
   "kernels_config": {
    "python": {
     "delete_cmd_postfix": "",
     "delete_cmd_prefix": "del ",
     "library": "var_list.py",
     "varRefreshCmd": "print(var_dic_list())"
    },
    "r": {
     "delete_cmd_postfix": ") ",
     "delete_cmd_prefix": "rm(",
     "library": "var_list.r",
     "varRefreshCmd": "cat(var_dic_list()) "
    }
   },
   "types_to_exclude": [
    "module",
    "function",
    "builtin_function_or_method",
    "instance",
    "_Feature"
   ],
   "window_display": false
  }
 },
 "nbformat": 4,
 "nbformat_minor": 2
}
