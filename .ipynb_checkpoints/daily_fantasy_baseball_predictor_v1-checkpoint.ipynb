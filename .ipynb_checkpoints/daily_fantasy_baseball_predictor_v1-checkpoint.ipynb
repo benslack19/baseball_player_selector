{
 "cells": [
  {
   "cell_type": "markdown",
   "metadata": {},
   "source": [
    "**How to identify position players on a given date?**\n",
    "\n",
    "Problem:\n",
    "<br>\n",
    "In daily fantasy baseball, a participant sets up their team against another player of their league. Some position players are stars and should play nearly all the time, but often a position is shared between other players on your roster. How do you choose which platooning player to start (especially if there is a limited sample size for the batter facing that pitcher)?\n",
    "\n",
    "Strategy:\n",
    "<br>\n",
    "- Focus on features of the batter (e.g. historical batting average) and pitcher (e.g. historical ERA, WHIP) to predict whether the batter would output a hit (or HR, single, double, etc.) in a given batter-pitcher at-bat matchup.\n",
    "\n",
    "- If you choose a given date (e.g. May 1), you know the starting pitcher a batter would face. Use statistical data to make a prediction on how well that player will do against the pitcher as a guide for a decision. If the matchup for a particular batter-pitcher is small, find similar players to serve as a guide. (Similar players can be found by using Erdos score.)\n",
    "\n",
    "- How do I know if my strategy is improved over other models? Look at which player one would choose from a simple player ranking.\n",
    "\n",
    "- Validation: Historical data\n",
    "\n",
    "This notebook was created within my \"insight\" virtual environment."
   ]
  },
  {
   "cell_type": "markdown",
   "metadata": {},
   "source": [
    "**Inputs and outputs**\n",
    "\n",
    "*Version 1:*\n",
    "- Input: Two players under consideration for one position.\n",
    "- Output: Player recommendation for that position with a predicted score.\n",
    "\n",
    "*Version 2:*\n",
    "- Input: A participant's player roster (e.g. 20 players)\n",
    "- Output: A recommended lineup."
   ]
  },
  {
   "cell_type": "markdown",
   "metadata": {},
   "source": [
    "Order of features of product to incorporate: (still to be determined)\n",
    "\n",
    "0.  Try a simple model where each at-bat batter-pitcher matchup is simply its own row and selected features are done.\n",
    "1.\tRoster’s “basic” baseball statistics from 2018 season? Or 50 games (including previous season) - (minimum viable product level)\n",
    "2.\tSpecific matchup against that pitcher - “basic” baseball statistics\n",
    "3.\tRoster’s statcast statistics from last 50 games (including previous season)\n",
    "4.\tUse of player similarity\n",
    "5.\tWeather, park effects, team defense, night/day, lineup order\n",
    "6.\tLimit to more recent performance (last 7 games)\n",
    "7.\tComputer vision?\n",
    "\n",
    "Similar idea\n",
    "https://community.fangraphs.com/the-outcome-machine-predicting-at-bats-before-they-happen/\n",
    "\n",
    "\n",
    "\n",
    "EDA, do HR over time and by date for each player\n",
    "\n",
    "Use batted ball characteristics as a feature of player and pitcher (launch angle average, launch speed average)\n",
    "\n",
    "\n"
   ]
  },
  {
   "cell_type": "markdown",
   "metadata": {},
   "source": [
    "**Product pitch**\n",
    "\n",
    "I'm creating a fantasy baseball application that suggests players on a given day. Fantasy baseball has over 11 million participants with the winners of leagues collecting entry fees and host platforms receiving a commission. The projected market for fantasy baseball in 2020 is over 8 billion dollars. A participant's success depends in part on daily player selection. For player selection, participants must rely on their own research or use a site's recommendation, which uses black-box algorithms behind pay walls. I'm developing an alternative algorithm to assist in player selection to save participants time and expose the important features in player performance prediction."
   ]
  },
  {
   "cell_type": "markdown",
   "metadata": {},
   "source": [
    "# Ideas\n",
    "\n",
    "- Predicting the next pitch, based on count\n",
    "\n",
    "- Will hit happen based on pitch count\n",
    "\n",
    "- Or use all info for at-bat and then do backwards selection \n",
    "\n",
    "- 2018 season as true talent average, then update with each at bat\n",
    "- Use Bayesian \n",
    "\n",
    "- EDA  - plot someone's hits over game-dates as a time series\n",
    "\n",
    "- Look at the player's last 100 hits \n",
    "\n",
    "**Motivation: Learning analytics requries some skills I can develop here**"
   ]
  },
  {
   "cell_type": "markdown",
   "metadata": {},
   "source": [
    "# Setup"
   ]
  },
  {
   "cell_type": "code",
   "execution_count": 1,
   "metadata": {
    "ExecuteTime": {
     "end_time": "2020-01-25T23:35:13.127789Z",
     "start_time": "2020-01-25T23:35:09.367791Z"
    }
   },
   "outputs": [],
   "source": [
    "import os\n",
    "import numpy as np\n",
    "import pandas as pd\n",
    "import matplotlib\n",
    "import matplotlib.pyplot as plt\n",
    "import seaborn as sns\n",
    "import sklearn\n",
    "\n",
    "from termcolor import colored\n",
    "\n",
    "# Web/database stuff\n",
    "import urllib.request\n",
    "import xml.etree.ElementTree as ET\n",
    "from bs4 import BeautifulSoup\n",
    "\n",
    "# Multiprocessing/threading\n",
    "import multiprocess\n",
    "import threading\n",
    "from threading import Thread"
   ]
  },
  {
   "cell_type": "code",
   "execution_count": 2,
   "metadata": {
    "ExecuteTime": {
     "end_time": "2020-01-25T23:35:32.532209Z",
     "start_time": "2020-01-25T23:35:30.919678Z"
    }
   },
   "outputs": [],
   "source": [
    "# Web/database stuff\n",
    "# import urllib.request\n",
    "# import xml.etree.ElementTree as ET\n",
    "# from bs4 import BeautifulSoup\n",
    "import sqlalchemy\n",
    "import sqlalchemy_utils\n",
    "from sqlalchemy import create_engine\n",
    "from sqlalchemy_utils import database_exists, create_database\n",
    "import psycopg2\n",
    "\n",
    "# Multiprocessing/threading\n",
    "import multiprocess\n",
    "import threading   # included in base"
   ]
  },
  {
   "cell_type": "code",
   "execution_count": 622,
   "metadata": {
    "ExecuteTime": {
     "end_time": "2020-01-27T05:40:50.377445Z",
     "start_time": "2020-01-27T05:40:50.368071Z"
    }
   },
   "outputs": [
    {
     "data": {
      "application/javascript": [
       "\n",
       "            setTimeout(function() {\n",
       "                var nbb_cell_id = 622;\n",
       "                var nbb_unformatted_code = \"# Stats\\nfrom scipy.stats import mannwhitneyu\\nfrom scipy.stats import ttest_ind\";\n",
       "                var nbb_formatted_code = \"# Stats\\nfrom scipy.stats import mannwhitneyu\\nfrom scipy.stats import ttest_ind\";\n",
       "                var nbb_cells = Jupyter.notebook.get_cells();\n",
       "                for (var i = 0; i < nbb_cells.length; ++i) {\n",
       "                    if (nbb_cells[i].input_prompt_number == nbb_cell_id) {\n",
       "                        if (nbb_cells[i].get_text() == nbb_unformatted_code) {\n",
       "                             nbb_cells[i].set_text(nbb_formatted_code);\n",
       "                        }\n",
       "                        break;\n",
       "                    }\n",
       "                }\n",
       "            }, 500);\n",
       "            "
      ],
      "text/plain": [
       "<IPython.core.display.Javascript object>"
      ]
     },
     "metadata": {},
     "output_type": "display_data"
    }
   ],
   "source": [
    "# Stats\n",
    "from scipy.stats import mannwhitneyu\n",
    "from scipy.stats import ttest_ind"
   ]
  },
  {
   "cell_type": "code",
   "execution_count": 3,
   "metadata": {
    "ExecuteTime": {
     "end_time": "2020-01-25T23:35:56.937360Z",
     "start_time": "2020-01-25T23:35:56.926400Z"
    }
   },
   "outputs": [
    {
     "name": "stdout",
     "output_type": "stream",
     "text": [
      "numpy:  1.17.4\n",
      "pandas:  0.25.3\n",
      "matplotlib:  3.1.1\n",
      "seaborn:  0.9.0\n",
      "sklearn:  0.22\n",
      "psycopg2:  2.8.4 (dt dec pq3 ext lo64)\n",
      "sqlalchemy:  1.3.11\n",
      "sqlalchemy_utils:  0.36.1\n",
      "multiprocess:  0.70.9\n"
     ]
    }
   ],
   "source": [
    "# Check versioning\n",
    "print('numpy: ', np.__version__)\n",
    "print('pandas: ', pd.__version__)\n",
    "print('matplotlib: ', matplotlib.__version__)\n",
    "print('seaborn: ', sns.__version__)\n",
    "print('sklearn: ', sklearn.__version__)\n",
    "\n",
    "print('psycopg2: ', psycopg2.__version__)\n",
    "print('sqlalchemy: ', sqlalchemy.__version__)\n",
    "print('sqlalchemy_utils: ', sqlalchemy_utils.__version__)\n",
    "print('multiprocess: ', multiprocess.__version__)"
   ]
  },
  {
   "cell_type": "code",
   "execution_count": 4,
   "metadata": {
    "ExecuteTime": {
     "end_time": "2020-01-25T23:36:08.743927Z",
     "start_time": "2020-01-25T23:36:08.098442Z"
    }
   },
   "outputs": [
    {
     "data": {
      "application/javascript": [
       "\n",
       "            setTimeout(function() {\n",
       "                var nbb_cell_id = 4;\n",
       "                var nbb_unformatted_code = \"# Code formatting with Jupyter black\\n%load_ext nb_black\";\n",
       "                var nbb_formatted_code = \"# Code formatting with Jupyter black\\n%load_ext nb_black\";\n",
       "                var nbb_cells = Jupyter.notebook.get_cells();\n",
       "                for (var i = 0; i < nbb_cells.length; ++i) {\n",
       "                    if (nbb_cells[i].input_prompt_number == nbb_cell_id) {\n",
       "                        if (nbb_cells[i].get_text() == nbb_unformatted_code) {\n",
       "                             nbb_cells[i].set_text(nbb_formatted_code);\n",
       "                        }\n",
       "                        break;\n",
       "                    }\n",
       "                }\n",
       "            }, 500);\n",
       "            "
      ],
      "text/plain": [
       "<IPython.core.display.Javascript object>"
      ]
     },
     "metadata": {},
     "output_type": "display_data"
    }
   ],
   "source": [
    "# Code formatting with Jupyter black\n",
    "%load_ext nb_black"
   ]
  },
  {
   "cell_type": "code",
   "execution_count": 5,
   "metadata": {
    "ExecuteTime": {
     "end_time": "2020-01-25T23:36:15.314007Z",
     "start_time": "2020-01-25T23:36:14.913343Z"
    }
   },
   "outputs": [
    {
     "data": {
      "application/javascript": [
       "\n",
       "            setTimeout(function() {\n",
       "                var nbb_cell_id = 5;\n",
       "                var nbb_unformatted_code = \"from pybaseball import pitching_stats\\nfrom pybaseball import batting_stats\\nfrom pybaseball import statcast_pitcher\\nfrom pybaseball import playerid_lookup\\nfrom pybaseball import statcast\\nfrom pybaseball import playerid_reverse_lookup\";\n",
       "                var nbb_formatted_code = \"from pybaseball import pitching_stats\\nfrom pybaseball import batting_stats\\nfrom pybaseball import statcast_pitcher\\nfrom pybaseball import playerid_lookup\\nfrom pybaseball import statcast\\nfrom pybaseball import playerid_reverse_lookup\";\n",
       "                var nbb_cells = Jupyter.notebook.get_cells();\n",
       "                for (var i = 0; i < nbb_cells.length; ++i) {\n",
       "                    if (nbb_cells[i].input_prompt_number == nbb_cell_id) {\n",
       "                        if (nbb_cells[i].get_text() == nbb_unformatted_code) {\n",
       "                             nbb_cells[i].set_text(nbb_formatted_code);\n",
       "                        }\n",
       "                        break;\n",
       "                    }\n",
       "                }\n",
       "            }, 500);\n",
       "            "
      ],
      "text/plain": [
       "<IPython.core.display.Javascript object>"
      ]
     },
     "metadata": {},
     "output_type": "display_data"
    }
   ],
   "source": [
    "from pybaseball import pitching_stats\n",
    "from pybaseball import batting_stats\n",
    "from pybaseball import statcast_pitcher\n",
    "from pybaseball import playerid_lookup\n",
    "from pybaseball import statcast\n",
    "from pybaseball import playerid_reverse_lookup"
   ]
  },
  {
   "cell_type": "markdown",
   "metadata": {
    "ExecuteTime": {
     "end_time": "2020-01-25T23:36:27.350958Z",
     "start_time": "2020-01-25T23:36:27.343990Z"
    }
   },
   "source": [
    "# Build a database"
   ]
  },
  {
   "cell_type": "code",
   "execution_count": 7,
   "metadata": {
    "ExecuteTime": {
     "end_time": "2020-01-25T23:36:42.674113Z",
     "start_time": "2020-01-25T23:36:42.662039Z"
    }
   },
   "outputs": [
    {
     "data": {
      "application/javascript": [
       "\n",
       "            setTimeout(function() {\n",
       "                var nbb_cell_id = 7;\n",
       "                var nbb_unformatted_code = \"# Define a database name\\n# Set your postgres username\\ndbname = \\\"baseball\\\"\\nusername = \\\"lacar\\\"  # change this to your username\";\n",
       "                var nbb_formatted_code = \"# Define a database name\\n# Set your postgres username\\ndbname = \\\"baseball\\\"\\nusername = \\\"lacar\\\"  # change this to your username\";\n",
       "                var nbb_cells = Jupyter.notebook.get_cells();\n",
       "                for (var i = 0; i < nbb_cells.length; ++i) {\n",
       "                    if (nbb_cells[i].input_prompt_number == nbb_cell_id) {\n",
       "                        if (nbb_cells[i].get_text() == nbb_unformatted_code) {\n",
       "                             nbb_cells[i].set_text(nbb_formatted_code);\n",
       "                        }\n",
       "                        break;\n",
       "                    }\n",
       "                }\n",
       "            }, 500);\n",
       "            "
      ],
      "text/plain": [
       "<IPython.core.display.Javascript object>"
      ]
     },
     "metadata": {},
     "output_type": "display_data"
    }
   ],
   "source": [
    "# Define a database name\n",
    "# Set your postgres username\n",
    "dbname = \"baseball\"\n",
    "username = \"lacar\"  # change this to your username"
   ]
  },
  {
   "cell_type": "code",
   "execution_count": 8,
   "metadata": {
    "ExecuteTime": {
     "end_time": "2020-01-25T23:36:53.194405Z",
     "start_time": "2020-01-25T23:36:53.180863Z"
    }
   },
   "outputs": [
    {
     "name": "stdout",
     "output_type": "stream",
     "text": [
      "postgres://lacar@localhost/baseball\n"
     ]
    },
    {
     "data": {
      "application/javascript": [
       "\n",
       "            setTimeout(function() {\n",
       "                var nbb_cell_id = 8;\n",
       "                var nbb_unformatted_code = \"## 'engine' is a connection to a database\\n## Here, we're using postgres, but sqlalchemy can connect to other things too.\\nengine = create_engine(\\\"postgres://%s@localhost/%s\\\" % (username, dbname))\\nprint(engine.url)\";\n",
       "                var nbb_formatted_code = \"## 'engine' is a connection to a database\\n## Here, we're using postgres, but sqlalchemy can connect to other things too.\\nengine = create_engine(\\\"postgres://%s@localhost/%s\\\" % (username, dbname))\\nprint(engine.url)\";\n",
       "                var nbb_cells = Jupyter.notebook.get_cells();\n",
       "                for (var i = 0; i < nbb_cells.length; ++i) {\n",
       "                    if (nbb_cells[i].input_prompt_number == nbb_cell_id) {\n",
       "                        if (nbb_cells[i].get_text() == nbb_unformatted_code) {\n",
       "                             nbb_cells[i].set_text(nbb_formatted_code);\n",
       "                        }\n",
       "                        break;\n",
       "                    }\n",
       "                }\n",
       "            }, 500);\n",
       "            "
      ],
      "text/plain": [
       "<IPython.core.display.Javascript object>"
      ]
     },
     "metadata": {},
     "output_type": "display_data"
    }
   ],
   "source": [
    "## 'engine' is a connection to a database\n",
    "## Here, we're using postgres, but sqlalchemy can connect to other things too.\n",
    "engine = create_engine(\"postgres://%s@localhost/%s\" % (username, dbname))\n",
    "print(engine.url)"
   ]
  },
  {
   "cell_type": "code",
   "execution_count": 9,
   "metadata": {
    "ExecuteTime": {
     "end_time": "2020-01-25T23:37:02.244973Z",
     "start_time": "2020-01-25T23:37:02.132118Z"
    }
   },
   "outputs": [
    {
     "name": "stdout",
     "output_type": "stream",
     "text": [
      "True\n"
     ]
    },
    {
     "data": {
      "application/javascript": [
       "\n",
       "            setTimeout(function() {\n",
       "                var nbb_cell_id = 9;\n",
       "                var nbb_unformatted_code = \"## create a database (if it doesn't exist)\\nif not database_exists(engine.url):\\n    create_database(engine.url)\\nprint(database_exists(engine.url))\";\n",
       "                var nbb_formatted_code = \"## create a database (if it doesn't exist)\\nif not database_exists(engine.url):\\n    create_database(engine.url)\\nprint(database_exists(engine.url))\";\n",
       "                var nbb_cells = Jupyter.notebook.get_cells();\n",
       "                for (var i = 0; i < nbb_cells.length; ++i) {\n",
       "                    if (nbb_cells[i].input_prompt_number == nbb_cell_id) {\n",
       "                        if (nbb_cells[i].get_text() == nbb_unformatted_code) {\n",
       "                             nbb_cells[i].set_text(nbb_formatted_code);\n",
       "                        }\n",
       "                        break;\n",
       "                    }\n",
       "                }\n",
       "            }, 500);\n",
       "            "
      ],
      "text/plain": [
       "<IPython.core.display.Javascript object>"
      ]
     },
     "metadata": {},
     "output_type": "display_data"
    }
   ],
   "source": [
    "## create a database (if it doesn't exist)\n",
    "if not database_exists(engine.url):\n",
    "    create_database(engine.url)\n",
    "print(database_exists(engine.url))"
   ]
  },
  {
   "cell_type": "markdown",
   "metadata": {
    "ExecuteTime": {
     "end_time": "2020-01-25T23:37:21.428885Z",
     "start_time": "2020-01-25T23:37:21.423228Z"
    }
   },
   "source": [
    "## Statcast data to database"
   ]
  },
  {
   "cell_type": "code",
   "execution_count": null,
   "metadata": {},
   "outputs": [],
   "source": [
    "# This is done, but note it's out of order\n",
    "\n",
    "# date_list = [\n",
    "#     (\"2019-03-20\", \"2019-09-29\"),\n",
    "#     (\"2018-03-29\", \"2018-10-01\"),\n",
    "#     (\"2017-04-02\", \"2017-10-01\"),\n",
    "# ]\n",
    "\n",
    "# Above gave **2,174,906** pitch-by-pitch results in the database\n",
    "\n",
    "#     (\"2016-04-03\", \"2016-10-02\"),   # didn't get\n",
    "#     (\"2015-04-05\", \"2015-10-04\"),   # didn't get \n",
    "\n",
    "\n",
    "# for i, date_pair in enumerate(date_list):\n",
    "#     if i < 1:\n",
    "#         df_sc = statcast(date_pair[0], date_pair[1])\n",
    "#         df_sc.to_sql(\"statcast\", engine, if_exists=\"replace\")\n",
    "#         print(date_pair, \"replace mode\")\n",
    "#     else:\n",
    "#         df_sc = statcast(date_pair[0], date_pair[1])\n",
    "#         df_sc.to_sql(\"statcast\", engine, if_exists=\"append\")\n",
    "#         print(date_pair, \"append mode\")"
   ]
  },
  {
   "cell_type": "code",
   "execution_count": 11,
   "metadata": {
    "ExecuteTime": {
     "end_time": "2020-01-25T23:38:10.084402Z",
     "start_time": "2020-01-25T23:38:10.070982Z"
    }
   },
   "outputs": [
    {
     "data": {
      "application/javascript": [
       "\n",
       "            setTimeout(function() {\n",
       "                var nbb_cell_id = 11;\n",
       "                var nbb_unformatted_code = \"# Working with PostgreSQL in Python\\n# Connect to make queries using psycopg2\\ncon = None\\ncon = psycopg2.connect(database = dbname, user = username)\";\n",
       "                var nbb_formatted_code = \"# Working with PostgreSQL in Python\\n# Connect to make queries using psycopg2\\ncon = None\\ncon = psycopg2.connect(database=dbname, user=username)\";\n",
       "                var nbb_cells = Jupyter.notebook.get_cells();\n",
       "                for (var i = 0; i < nbb_cells.length; ++i) {\n",
       "                    if (nbb_cells[i].input_prompt_number == nbb_cell_id) {\n",
       "                        if (nbb_cells[i].get_text() == nbb_unformatted_code) {\n",
       "                             nbb_cells[i].set_text(nbb_formatted_code);\n",
       "                        }\n",
       "                        break;\n",
       "                    }\n",
       "                }\n",
       "            }, 500);\n",
       "            "
      ],
      "text/plain": [
       "<IPython.core.display.Javascript object>"
      ]
     },
     "metadata": {},
     "output_type": "display_data"
    }
   ],
   "source": [
    "# Working with PostgreSQL in Python\n",
    "# Connect to make queries using psycopg2\n",
    "con = None\n",
    "con = psycopg2.connect(database=dbname, user=username)"
   ]
  },
  {
   "cell_type": "markdown",
   "metadata": {},
   "source": [
    "See other notebook for more info\n",
    "\n"
   ]
  },
  {
   "cell_type": "code",
   "execution_count": null,
   "metadata": {},
   "outputs": [],
   "source": [
    "# Get player id\n",
    "sql_query = \"\"\"\n",
    "SELECT * FROM player_id;\n",
    "\"\"\"\n",
    "\n",
    "df_player_id = pd.read_sql_query(sql_query, con)"
   ]
  },
  {
   "cell_type": "markdown",
   "metadata": {
    "ExecuteTime": {
     "end_time": "2020-01-25T23:41:43.465512Z",
     "start_time": "2020-01-25T23:41:43.459729Z"
    }
   },
   "source": [
    "# Predicting if an at-bat will be a 1 (or higher probability)"
   ]
  },
  {
   "cell_type": "markdown",
   "metadata": {},
   "source": [
    "## Input batter and date"
   ]
  },
  {
   "cell_type": "code",
   "execution_count": 406,
   "metadata": {
    "ExecuteTime": {
     "end_time": "2020-01-26T18:45:15.800852Z",
     "start_time": "2020-01-26T18:44:58.869534Z"
    },
    "scrolled": true
   },
   "outputs": [
    {
     "data": {
      "application/javascript": [
       "\n",
       "            setTimeout(function() {\n",
       "                var nbb_cell_id = 406;\n",
       "                var nbb_unformatted_code = \"# Make a query to get player - batter matchup\\n\\n# Enter key_mlbam (Manny Machado shown below)\\n# pid_of_interest = 592518\\n\\n# Enter key_mlbam (Ty France shown below)\\npid_of_interest = 664034\\n\\n# Enter key_mlbam (Manuel Margot shown below)\\npid_of_interest = 622534\\n\\ndate_of_interest = \\\"'2019-09-09'\\\"  # Note internal single quotes\\n\\nsql_query = (\\n    \\\"\\\"\\\"\\nSELECT * FROM statcast \\nJOIN player_id ON statcast.batter=player_id.key_mlbam \\nWHERE statcast.batter= \\n\\\"\\\"\\\"\\n    + str(pid_of_interest)\\n    + \\\"\\\"\\\"\\nAND statcast.game_date<=\\n\\\"\\\"\\\"\\n    + str(date_of_interest)\\n    + \\\"\\\"\\\"\\nAND statcast.events IS NOT NULL \\nORDER BY statcast.game_date DESC, statcast.inning DESC, statcast.outs_when_up \\nLIMIT 501;\\n\\\"\\\"\\\"\\n)\\n\\n\\n# \\\"Sample query\\\"\\n\\n# pitchers and batters\\n# sql_query = \\\"\\\"\\\"\\n# (SELECT * FROM statcast WHERE \\\"game_date\\\" > '2019-01-01'\\n# AND \\\"events\\\" IS NOT NULL);\\n# \\\"\\\"\\\"\\n\\ndf_sc_events = pd.read_sql_query(sql_query, con)\\ndf_sc_events.drop([\\\"level_0\\\", \\\"index\\\"], axis=1, inplace=True)  # Clean up df\";\n",
       "                var nbb_formatted_code = \"# Make a query to get player - batter matchup\\n\\n# Enter key_mlbam (Manny Machado shown below)\\n# pid_of_interest = 592518\\n\\n# Enter key_mlbam (Ty France shown below)\\npid_of_interest = 664034\\n\\n# Enter key_mlbam (Manuel Margot shown below)\\npid_of_interest = 622534\\n\\ndate_of_interest = \\\"'2019-09-09'\\\"  # Note internal single quotes\\n\\nsql_query = (\\n    \\\"\\\"\\\"\\nSELECT * FROM statcast \\nJOIN player_id ON statcast.batter=player_id.key_mlbam \\nWHERE statcast.batter= \\n\\\"\\\"\\\"\\n    + str(pid_of_interest)\\n    + \\\"\\\"\\\"\\nAND statcast.game_date<=\\n\\\"\\\"\\\"\\n    + str(date_of_interest)\\n    + \\\"\\\"\\\"\\nAND statcast.events IS NOT NULL \\nORDER BY statcast.game_date DESC, statcast.inning DESC, statcast.outs_when_up \\nLIMIT 501;\\n\\\"\\\"\\\"\\n)\\n\\n\\n# \\\"Sample query\\\"\\n\\n# pitchers and batters\\n# sql_query = \\\"\\\"\\\"\\n# (SELECT * FROM statcast WHERE \\\"game_date\\\" > '2019-01-01'\\n# AND \\\"events\\\" IS NOT NULL);\\n# \\\"\\\"\\\"\\n\\ndf_sc_events = pd.read_sql_query(sql_query, con)\\ndf_sc_events.drop([\\\"level_0\\\", \\\"index\\\"], axis=1, inplace=True)  # Clean up df\";\n",
       "                var nbb_cells = Jupyter.notebook.get_cells();\n",
       "                for (var i = 0; i < nbb_cells.length; ++i) {\n",
       "                    if (nbb_cells[i].input_prompt_number == nbb_cell_id) {\n",
       "                        if (nbb_cells[i].get_text() == nbb_unformatted_code) {\n",
       "                             nbb_cells[i].set_text(nbb_formatted_code);\n",
       "                        }\n",
       "                        break;\n",
       "                    }\n",
       "                }\n",
       "            }, 500);\n",
       "            "
      ],
      "text/plain": [
       "<IPython.core.display.Javascript object>"
      ]
     },
     "metadata": {},
     "output_type": "display_data"
    }
   ],
   "source": [
    "# Make a query to get player - batter matchup\n",
    "\n",
    "# Enter key_mlbam (Manny Machado shown below)\n",
    "# pid_of_interest = 592518\n",
    "\n",
    "# Enter key_mlbam (Ty France shown below)\n",
    "pid_of_interest = 664034\n",
    "\n",
    "# Enter key_mlbam (Manuel Margot shown below)\n",
    "pid_of_interest = 622534\n",
    "\n",
    "date_of_interest = \"'2019-09-09'\"  # Note internal single quotes\n",
    "\n",
    "sql_query = (\n",
    "    \"\"\"\n",
    "SELECT * FROM statcast \n",
    "JOIN player_id ON statcast.batter=player_id.key_mlbam \n",
    "WHERE statcast.batter= \n",
    "\"\"\"\n",
    "    + str(pid_of_interest)\n",
    "    + \"\"\"\n",
    "AND statcast.game_date<=\n",
    "\"\"\"\n",
    "    + str(date_of_interest)\n",
    "    + \"\"\"\n",
    "AND statcast.events IS NOT NULL \n",
    "ORDER BY statcast.game_date DESC, statcast.inning DESC, statcast.outs_when_up \n",
    "LIMIT 501;\n",
    "\"\"\"\n",
    ")\n",
    "\n",
    "\n",
    "# \"Sample query\"\n",
    "\n",
    "# pitchers and batters\n",
    "# sql_query = \"\"\"\n",
    "# (SELECT * FROM statcast WHERE \"game_date\" > '2019-01-01'\n",
    "# AND \"events\" IS NOT NULL);\n",
    "# \"\"\"\n",
    "\n",
    "df_sc_events = pd.read_sql_query(sql_query, con)\n",
    "df_sc_events.drop([\"level_0\", \"index\"], axis=1, inplace=True)  # Clean up df"
   ]
  },
  {
   "cell_type": "markdown",
   "metadata": {},
   "source": [
    "## Contingencies\n",
    "\n",
    "1. What if player has day off? or no game is scheduled?\n",
    "2. What if player or pitcher doesn't have minimum nback at-bats?\n",
    "3. What if player doesn't have minimum nback at-bats against same or opposite handedness?"
   ]
  },
  {
   "cell_type": "markdown",
   "metadata": {},
   "source": [
    "**Quora answer on number of plate appearances**\n",
    "https://www.quora.com/How-many-at-bats-does-the-average-MLB-player-go-through-per-year\n",
    "\n",
    "One direction to go with is how many PA wpild a player accumulate if theu were to play every day, and not rest. That would be around 725. Though that total is not really an average as few players exceed such a total each year.\n",
    "\n",
    "A second number would be how many plate appearances bases on normal rest during a season if a player never was injured, about 145-150 games for position players other then the catcher and 110 to 115 for catchers. Those totals would be around 650 and 450 respectively.\n",
    "\n",
    "Yet another way to answer this would be the number of PA by all position players on a roster that were supposed to be starters, but may receive less playing time due to injury or a team developing, trading for or discovering a better player. That would probably be closer to 400.\n",
    "\n",
    "You could also thing about all position players on a team including bench players, if we include them our total now is closer to 200-250.\n",
    "\n",
    "Yet another way to look at this is to include all players on the roster including pitcher who may notbat intentionally. Include them and tour total is closer to 100-120."
   ]
  },
  {
   "cell_type": "code",
   "execution_count": 407,
   "metadata": {
    "ExecuteTime": {
     "end_time": "2020-01-26T18:45:16.214377Z",
     "start_time": "2020-01-26T18:45:16.164128Z"
    }
   },
   "outputs": [
    {
     "data": {
      "text/html": [
       "<div>\n",
       "<style scoped>\n",
       "    .dataframe tbody tr th:only-of-type {\n",
       "        vertical-align: middle;\n",
       "    }\n",
       "\n",
       "    .dataframe tbody tr th {\n",
       "        vertical-align: top;\n",
       "    }\n",
       "\n",
       "    .dataframe thead th {\n",
       "        text-align: right;\n",
       "    }\n",
       "</style>\n",
       "<table border=\"1\" class=\"dataframe\">\n",
       "  <thead>\n",
       "    <tr style=\"text-align: right;\">\n",
       "      <th></th>\n",
       "      <th>pitch_type</th>\n",
       "      <th>game_date</th>\n",
       "      <th>release_speed</th>\n",
       "      <th>release_pos_x</th>\n",
       "      <th>release_pos_z</th>\n",
       "      <th>player_name</th>\n",
       "      <th>batter</th>\n",
       "      <th>pitcher</th>\n",
       "      <th>events</th>\n",
       "      <th>description</th>\n",
       "      <th>...</th>\n",
       "      <th>if_fielding_alignment</th>\n",
       "      <th>of_fielding_alignment</th>\n",
       "      <th>name_last</th>\n",
       "      <th>name_first</th>\n",
       "      <th>key_mlbam</th>\n",
       "      <th>key_retro</th>\n",
       "      <th>key_bbref</th>\n",
       "      <th>key_fangraphs</th>\n",
       "      <th>mlb_played_first</th>\n",
       "      <th>mlb_played_last</th>\n",
       "    </tr>\n",
       "  </thead>\n",
       "  <tbody>\n",
       "    <tr>\n",
       "      <th>0</th>\n",
       "      <td>FS</td>\n",
       "      <td>2019-09-09</td>\n",
       "      <td>87.4</td>\n",
       "      <td>-2.5376</td>\n",
       "      <td>6.0542</td>\n",
       "      <td>James Norwood</td>\n",
       "      <td>622534.0</td>\n",
       "      <td>656803.0</td>\n",
       "      <td>strikeout</td>\n",
       "      <td>swinging_strike</td>\n",
       "      <td>...</td>\n",
       "      <td>Standard</td>\n",
       "      <td>Standard</td>\n",
       "      <td>margot</td>\n",
       "      <td>manuel</td>\n",
       "      <td>622534</td>\n",
       "      <td>margm001</td>\n",
       "      <td>margoma01</td>\n",
       "      <td>14712</td>\n",
       "      <td>2016.0</td>\n",
       "      <td>2019.0</td>\n",
       "    </tr>\n",
       "    <tr>\n",
       "      <th>1</th>\n",
       "      <td>FT</td>\n",
       "      <td>2019-09-08</td>\n",
       "      <td>94.6</td>\n",
       "      <td>-1.7748</td>\n",
       "      <td>5.7453</td>\n",
       "      <td>Jairo Diaz</td>\n",
       "      <td>622534.0</td>\n",
       "      <td>545064.0</td>\n",
       "      <td>field_out</td>\n",
       "      <td>hit_into_play</td>\n",
       "      <td>...</td>\n",
       "      <td>Standard</td>\n",
       "      <td>Standard</td>\n",
       "      <td>margot</td>\n",
       "      <td>manuel</td>\n",
       "      <td>622534</td>\n",
       "      <td>margm001</td>\n",
       "      <td>margoma01</td>\n",
       "      <td>14712</td>\n",
       "      <td>2016.0</td>\n",
       "      <td>2019.0</td>\n",
       "    </tr>\n",
       "    <tr>\n",
       "      <th>2</th>\n",
       "      <td>SI</td>\n",
       "      <td>2019-09-07</td>\n",
       "      <td>93.7</td>\n",
       "      <td>-2.4845</td>\n",
       "      <td>5.5313</td>\n",
       "      <td>Wes Parsons</td>\n",
       "      <td>622534.0</td>\n",
       "      <td>641149.0</td>\n",
       "      <td>force_out</td>\n",
       "      <td>hit_into_play</td>\n",
       "      <td>...</td>\n",
       "      <td>Standard</td>\n",
       "      <td>Standard</td>\n",
       "      <td>margot</td>\n",
       "      <td>manuel</td>\n",
       "      <td>622534</td>\n",
       "      <td>margm001</td>\n",
       "      <td>margoma01</td>\n",
       "      <td>14712</td>\n",
       "      <td>2016.0</td>\n",
       "      <td>2019.0</td>\n",
       "    </tr>\n",
       "    <tr>\n",
       "      <th>3</th>\n",
       "      <td>FF</td>\n",
       "      <td>2019-09-06</td>\n",
       "      <td>99.2</td>\n",
       "      <td>-1.7824</td>\n",
       "      <td>5.6267</td>\n",
       "      <td>Carlos Estevez</td>\n",
       "      <td>622534.0</td>\n",
       "      <td>608032.0</td>\n",
       "      <td>strikeout</td>\n",
       "      <td>foul_tip</td>\n",
       "      <td>...</td>\n",
       "      <td>Standard</td>\n",
       "      <td>Standard</td>\n",
       "      <td>margot</td>\n",
       "      <td>manuel</td>\n",
       "      <td>622534</td>\n",
       "      <td>margm001</td>\n",
       "      <td>margoma01</td>\n",
       "      <td>14712</td>\n",
       "      <td>2016.0</td>\n",
       "      <td>2019.0</td>\n",
       "    </tr>\n",
       "    <tr>\n",
       "      <th>4</th>\n",
       "      <td>FF</td>\n",
       "      <td>2019-09-04</td>\n",
       "      <td>95.4</td>\n",
       "      <td>-2.2010</td>\n",
       "      <td>6.0858</td>\n",
       "      <td>Yoan Lopez</td>\n",
       "      <td>622534.0</td>\n",
       "      <td>661255.0</td>\n",
       "      <td>field_out</td>\n",
       "      <td>hit_into_play</td>\n",
       "      <td>...</td>\n",
       "      <td>Standard</td>\n",
       "      <td>Standard</td>\n",
       "      <td>margot</td>\n",
       "      <td>manuel</td>\n",
       "      <td>622534</td>\n",
       "      <td>margm001</td>\n",
       "      <td>margoma01</td>\n",
       "      <td>14712</td>\n",
       "      <td>2016.0</td>\n",
       "      <td>2019.0</td>\n",
       "    </tr>\n",
       "  </tbody>\n",
       "</table>\n",
       "<p>5 rows × 97 columns</p>\n",
       "</div>"
      ],
      "text/plain": [
       "  pitch_type  game_date  release_speed  release_pos_x  release_pos_z  \\\n",
       "0         FS 2019-09-09           87.4        -2.5376         6.0542   \n",
       "1         FT 2019-09-08           94.6        -1.7748         5.7453   \n",
       "2         SI 2019-09-07           93.7        -2.4845         5.5313   \n",
       "3         FF 2019-09-06           99.2        -1.7824         5.6267   \n",
       "4         FF 2019-09-04           95.4        -2.2010         6.0858   \n",
       "\n",
       "      player_name    batter   pitcher     events      description  ...  \\\n",
       "0   James Norwood  622534.0  656803.0  strikeout  swinging_strike  ...   \n",
       "1      Jairo Diaz  622534.0  545064.0  field_out    hit_into_play  ...   \n",
       "2     Wes Parsons  622534.0  641149.0  force_out    hit_into_play  ...   \n",
       "3  Carlos Estevez  622534.0  608032.0  strikeout         foul_tip  ...   \n",
       "4      Yoan Lopez  622534.0  661255.0  field_out    hit_into_play  ...   \n",
       "\n",
       "  if_fielding_alignment of_fielding_alignment name_last name_first  key_mlbam  \\\n",
       "0              Standard              Standard    margot     manuel     622534   \n",
       "1              Standard              Standard    margot     manuel     622534   \n",
       "2              Standard              Standard    margot     manuel     622534   \n",
       "3              Standard              Standard    margot     manuel     622534   \n",
       "4              Standard              Standard    margot     manuel     622534   \n",
       "\n",
       "  key_retro  key_bbref key_fangraphs mlb_played_first mlb_played_last  \n",
       "0  margm001  margoma01         14712           2016.0          2019.0  \n",
       "1  margm001  margoma01         14712           2016.0          2019.0  \n",
       "2  margm001  margoma01         14712           2016.0          2019.0  \n",
       "3  margm001  margoma01         14712           2016.0          2019.0  \n",
       "4  margm001  margoma01         14712           2016.0          2019.0  \n",
       "\n",
       "[5 rows x 97 columns]"
      ]
     },
     "execution_count": 407,
     "metadata": {},
     "output_type": "execute_result"
    },
    {
     "data": {
      "application/javascript": [
       "\n",
       "            setTimeout(function() {\n",
       "                var nbb_cell_id = 407;\n",
       "                var nbb_unformatted_code = \"df_sc_events.head()\";\n",
       "                var nbb_formatted_code = \"df_sc_events.head()\";\n",
       "                var nbb_cells = Jupyter.notebook.get_cells();\n",
       "                for (var i = 0; i < nbb_cells.length; ++i) {\n",
       "                    if (nbb_cells[i].input_prompt_number == nbb_cell_id) {\n",
       "                        if (nbb_cells[i].get_text() == nbb_unformatted_code) {\n",
       "                             nbb_cells[i].set_text(nbb_formatted_code);\n",
       "                        }\n",
       "                        break;\n",
       "                    }\n",
       "                }\n",
       "            }, 500);\n",
       "            "
      ],
      "text/plain": [
       "<IPython.core.display.Javascript object>"
      ]
     },
     "metadata": {},
     "output_type": "display_data"
    }
   ],
   "source": [
    "df_sc_events.head()"
   ]
  },
  {
   "cell_type": "code",
   "execution_count": 408,
   "metadata": {
    "ExecuteTime": {
     "end_time": "2020-01-26T18:45:20.789207Z",
     "start_time": "2020-01-26T18:45:20.775909Z"
    }
   },
   "outputs": [
    {
     "data": {
      "text/plain": [
       "(501, 97)"
      ]
     },
     "execution_count": 408,
     "metadata": {},
     "output_type": "execute_result"
    },
    {
     "data": {
      "application/javascript": [
       "\n",
       "            setTimeout(function() {\n",
       "                var nbb_cell_id = 408;\n",
       "                var nbb_unformatted_code = \"df_sc_events.shape\";\n",
       "                var nbb_formatted_code = \"df_sc_events.shape\";\n",
       "                var nbb_cells = Jupyter.notebook.get_cells();\n",
       "                for (var i = 0; i < nbb_cells.length; ++i) {\n",
       "                    if (nbb_cells[i].input_prompt_number == nbb_cell_id) {\n",
       "                        if (nbb_cells[i].get_text() == nbb_unformatted_code) {\n",
       "                             nbb_cells[i].set_text(nbb_formatted_code);\n",
       "                        }\n",
       "                        break;\n",
       "                    }\n",
       "                }\n",
       "            }, 500);\n",
       "            "
      ],
      "text/plain": [
       "<IPython.core.display.Javascript object>"
      ]
     },
     "metadata": {},
     "output_type": "display_data"
    }
   ],
   "source": [
    "df_sc_events.shape"
   ]
  },
  {
   "cell_type": "code",
   "execution_count": 409,
   "metadata": {
    "ExecuteTime": {
     "end_time": "2020-01-26T18:45:23.637782Z",
     "start_time": "2020-01-26T18:45:23.602073Z"
    }
   },
   "outputs": [
    {
     "data": {
      "text/html": [
       "<div>\n",
       "<style scoped>\n",
       "    .dataframe tbody tr th:only-of-type {\n",
       "        vertical-align: middle;\n",
       "    }\n",
       "\n",
       "    .dataframe tbody tr th {\n",
       "        vertical-align: top;\n",
       "    }\n",
       "\n",
       "    .dataframe thead th {\n",
       "        text-align: right;\n",
       "    }\n",
       "</style>\n",
       "<table border=\"1\" class=\"dataframe\">\n",
       "  <thead>\n",
       "    <tr style=\"text-align: right;\">\n",
       "      <th></th>\n",
       "      <th>pitch_type</th>\n",
       "      <th>game_date</th>\n",
       "      <th>release_speed</th>\n",
       "      <th>release_pos_x</th>\n",
       "      <th>release_pos_z</th>\n",
       "      <th>player_name</th>\n",
       "      <th>batter</th>\n",
       "      <th>pitcher</th>\n",
       "      <th>events</th>\n",
       "      <th>description</th>\n",
       "      <th>...</th>\n",
       "      <th>if_fielding_alignment</th>\n",
       "      <th>of_fielding_alignment</th>\n",
       "      <th>name_last</th>\n",
       "      <th>name_first</th>\n",
       "      <th>key_mlbam</th>\n",
       "      <th>key_retro</th>\n",
       "      <th>key_bbref</th>\n",
       "      <th>key_fangraphs</th>\n",
       "      <th>mlb_played_first</th>\n",
       "      <th>mlb_played_last</th>\n",
       "    </tr>\n",
       "  </thead>\n",
       "  <tbody>\n",
       "    <tr>\n",
       "      <th>0</th>\n",
       "      <td>FS</td>\n",
       "      <td>2019-09-09</td>\n",
       "      <td>87.4</td>\n",
       "      <td>-2.5376</td>\n",
       "      <td>6.0542</td>\n",
       "      <td>James Norwood</td>\n",
       "      <td>622534.0</td>\n",
       "      <td>656803.0</td>\n",
       "      <td>strikeout</td>\n",
       "      <td>swinging_strike</td>\n",
       "      <td>...</td>\n",
       "      <td>Standard</td>\n",
       "      <td>Standard</td>\n",
       "      <td>margot</td>\n",
       "      <td>manuel</td>\n",
       "      <td>622534</td>\n",
       "      <td>margm001</td>\n",
       "      <td>margoma01</td>\n",
       "      <td>14712</td>\n",
       "      <td>2016.0</td>\n",
       "      <td>2019.0</td>\n",
       "    </tr>\n",
       "    <tr>\n",
       "      <th>1</th>\n",
       "      <td>FT</td>\n",
       "      <td>2019-09-08</td>\n",
       "      <td>94.6</td>\n",
       "      <td>-1.7748</td>\n",
       "      <td>5.7453</td>\n",
       "      <td>Jairo Diaz</td>\n",
       "      <td>622534.0</td>\n",
       "      <td>545064.0</td>\n",
       "      <td>field_out</td>\n",
       "      <td>hit_into_play</td>\n",
       "      <td>...</td>\n",
       "      <td>Standard</td>\n",
       "      <td>Standard</td>\n",
       "      <td>margot</td>\n",
       "      <td>manuel</td>\n",
       "      <td>622534</td>\n",
       "      <td>margm001</td>\n",
       "      <td>margoma01</td>\n",
       "      <td>14712</td>\n",
       "      <td>2016.0</td>\n",
       "      <td>2019.0</td>\n",
       "    </tr>\n",
       "    <tr>\n",
       "      <th>2</th>\n",
       "      <td>SI</td>\n",
       "      <td>2019-09-07</td>\n",
       "      <td>93.7</td>\n",
       "      <td>-2.4845</td>\n",
       "      <td>5.5313</td>\n",
       "      <td>Wes Parsons</td>\n",
       "      <td>622534.0</td>\n",
       "      <td>641149.0</td>\n",
       "      <td>force_out</td>\n",
       "      <td>hit_into_play</td>\n",
       "      <td>...</td>\n",
       "      <td>Standard</td>\n",
       "      <td>Standard</td>\n",
       "      <td>margot</td>\n",
       "      <td>manuel</td>\n",
       "      <td>622534</td>\n",
       "      <td>margm001</td>\n",
       "      <td>margoma01</td>\n",
       "      <td>14712</td>\n",
       "      <td>2016.0</td>\n",
       "      <td>2019.0</td>\n",
       "    </tr>\n",
       "    <tr>\n",
       "      <th>3</th>\n",
       "      <td>FF</td>\n",
       "      <td>2019-09-06</td>\n",
       "      <td>99.2</td>\n",
       "      <td>-1.7824</td>\n",
       "      <td>5.6267</td>\n",
       "      <td>Carlos Estevez</td>\n",
       "      <td>622534.0</td>\n",
       "      <td>608032.0</td>\n",
       "      <td>strikeout</td>\n",
       "      <td>foul_tip</td>\n",
       "      <td>...</td>\n",
       "      <td>Standard</td>\n",
       "      <td>Standard</td>\n",
       "      <td>margot</td>\n",
       "      <td>manuel</td>\n",
       "      <td>622534</td>\n",
       "      <td>margm001</td>\n",
       "      <td>margoma01</td>\n",
       "      <td>14712</td>\n",
       "      <td>2016.0</td>\n",
       "      <td>2019.0</td>\n",
       "    </tr>\n",
       "    <tr>\n",
       "      <th>4</th>\n",
       "      <td>FF</td>\n",
       "      <td>2019-09-04</td>\n",
       "      <td>95.4</td>\n",
       "      <td>-2.2010</td>\n",
       "      <td>6.0858</td>\n",
       "      <td>Yoan Lopez</td>\n",
       "      <td>622534.0</td>\n",
       "      <td>661255.0</td>\n",
       "      <td>field_out</td>\n",
       "      <td>hit_into_play</td>\n",
       "      <td>...</td>\n",
       "      <td>Standard</td>\n",
       "      <td>Standard</td>\n",
       "      <td>margot</td>\n",
       "      <td>manuel</td>\n",
       "      <td>622534</td>\n",
       "      <td>margm001</td>\n",
       "      <td>margoma01</td>\n",
       "      <td>14712</td>\n",
       "      <td>2016.0</td>\n",
       "      <td>2019.0</td>\n",
       "    </tr>\n",
       "  </tbody>\n",
       "</table>\n",
       "<p>5 rows × 97 columns</p>\n",
       "</div>"
      ],
      "text/plain": [
       "  pitch_type  game_date  release_speed  release_pos_x  release_pos_z  \\\n",
       "0         FS 2019-09-09           87.4        -2.5376         6.0542   \n",
       "1         FT 2019-09-08           94.6        -1.7748         5.7453   \n",
       "2         SI 2019-09-07           93.7        -2.4845         5.5313   \n",
       "3         FF 2019-09-06           99.2        -1.7824         5.6267   \n",
       "4         FF 2019-09-04           95.4        -2.2010         6.0858   \n",
       "\n",
       "      player_name    batter   pitcher     events      description  ...  \\\n",
       "0   James Norwood  622534.0  656803.0  strikeout  swinging_strike  ...   \n",
       "1      Jairo Diaz  622534.0  545064.0  field_out    hit_into_play  ...   \n",
       "2     Wes Parsons  622534.0  641149.0  force_out    hit_into_play  ...   \n",
       "3  Carlos Estevez  622534.0  608032.0  strikeout         foul_tip  ...   \n",
       "4      Yoan Lopez  622534.0  661255.0  field_out    hit_into_play  ...   \n",
       "\n",
       "  if_fielding_alignment of_fielding_alignment name_last name_first  key_mlbam  \\\n",
       "0              Standard              Standard    margot     manuel     622534   \n",
       "1              Standard              Standard    margot     manuel     622534   \n",
       "2              Standard              Standard    margot     manuel     622534   \n",
       "3              Standard              Standard    margot     manuel     622534   \n",
       "4              Standard              Standard    margot     manuel     622534   \n",
       "\n",
       "  key_retro  key_bbref key_fangraphs mlb_played_first mlb_played_last  \n",
       "0  margm001  margoma01         14712           2016.0          2019.0  \n",
       "1  margm001  margoma01         14712           2016.0          2019.0  \n",
       "2  margm001  margoma01         14712           2016.0          2019.0  \n",
       "3  margm001  margoma01         14712           2016.0          2019.0  \n",
       "4  margm001  margoma01         14712           2016.0          2019.0  \n",
       "\n",
       "[5 rows x 97 columns]"
      ]
     },
     "execution_count": 409,
     "metadata": {},
     "output_type": "execute_result"
    },
    {
     "data": {
      "application/javascript": [
       "\n",
       "            setTimeout(function() {\n",
       "                var nbb_cell_id = 409;\n",
       "                var nbb_unformatted_code = \"df_sc_events.head()\";\n",
       "                var nbb_formatted_code = \"df_sc_events.head()\";\n",
       "                var nbb_cells = Jupyter.notebook.get_cells();\n",
       "                for (var i = 0; i < nbb_cells.length; ++i) {\n",
       "                    if (nbb_cells[i].input_prompt_number == nbb_cell_id) {\n",
       "                        if (nbb_cells[i].get_text() == nbb_unformatted_code) {\n",
       "                             nbb_cells[i].set_text(nbb_formatted_code);\n",
       "                        }\n",
       "                        break;\n",
       "                    }\n",
       "                }\n",
       "            }, 500);\n",
       "            "
      ],
      "text/plain": [
       "<IPython.core.display.Javascript object>"
      ]
     },
     "metadata": {},
     "output_type": "display_data"
    }
   ],
   "source": [
    "df_sc_events.head()"
   ]
  },
  {
   "cell_type": "code",
   "execution_count": 410,
   "metadata": {
    "ExecuteTime": {
     "end_time": "2020-01-26T18:45:26.981070Z",
     "start_time": "2020-01-26T18:45:26.961389Z"
    }
   },
   "outputs": [
    {
     "data": {
      "application/javascript": [
       "\n",
       "            setTimeout(function() {\n",
       "                var nbb_cell_id = 410;\n",
       "                var nbb_unformatted_code = \"# Encode on-base events, including walks\\nob_list = [\\\"walk\\\", \\\"single\\\", \\\"double\\\", \\\"triple\\\", \\\"home_run\\\"]\\ndf_sc_events[\\\"event_code\\\"] = 0\\ndf_sc_events.loc[df_sc_events[\\\"events\\\"].isin(ob_list), \\\"event_code\\\"] = 1\";\n",
       "                var nbb_formatted_code = \"# Encode on-base events, including walks\\nob_list = [\\\"walk\\\", \\\"single\\\", \\\"double\\\", \\\"triple\\\", \\\"home_run\\\"]\\ndf_sc_events[\\\"event_code\\\"] = 0\\ndf_sc_events.loc[df_sc_events[\\\"events\\\"].isin(ob_list), \\\"event_code\\\"] = 1\";\n",
       "                var nbb_cells = Jupyter.notebook.get_cells();\n",
       "                for (var i = 0; i < nbb_cells.length; ++i) {\n",
       "                    if (nbb_cells[i].input_prompt_number == nbb_cell_id) {\n",
       "                        if (nbb_cells[i].get_text() == nbb_unformatted_code) {\n",
       "                             nbb_cells[i].set_text(nbb_formatted_code);\n",
       "                        }\n",
       "                        break;\n",
       "                    }\n",
       "                }\n",
       "            }, 500);\n",
       "            "
      ],
      "text/plain": [
       "<IPython.core.display.Javascript object>"
      ]
     },
     "metadata": {},
     "output_type": "display_data"
    }
   ],
   "source": [
    "# Encode on-base events, including walks\n",
    "ob_list = [\"walk\", \"single\", \"double\", \"triple\", \"home_run\"]\n",
    "df_sc_events[\"event_code\"] = 0\n",
    "df_sc_events.loc[df_sc_events[\"events\"].isin(ob_list), \"event_code\"] = 1"
   ]
  },
  {
   "cell_type": "code",
   "execution_count": 411,
   "metadata": {
    "ExecuteTime": {
     "end_time": "2020-01-26T18:45:29.622197Z",
     "start_time": "2020-01-26T18:45:27.835758Z"
    }
   },
   "outputs": [
    {
     "data": {
      "application/javascript": [
       "\n",
       "            setTimeout(function() {\n",
       "                var nbb_cell_id = 411;\n",
       "                var nbb_unformatted_code = \"n_back_PA = 100\\n\\n# Sum of on-base events - critical that order matters! (should be addressed above)\\n    # rolling was close, but needed to tweak\\ndf_sc_events[\\\"num_events_sum_nback\\\"] = df_sc_events[\\\"event_code\\\"].iloc[::-1].rolling(n_back_PA).sum().iloc[::-1]\\n\\n# Percent of on-base events (overall)\\ndf_sc_events[\\\"prop_events_nback\\\"] = df_sc_events[\\\"num_events_sum_nback\\\"] / n_back_PA\\n\\n# Percent of on-base events against handedness of pitcher\\nfor i in df_sc_events.index:\\n    p_throws = df_sc_events[\\\"p_throws\\\"].iloc[i]\\n    df_sc_events_pt_throw = df_sc_events[df_sc_events[\\\"p_throws\\\"] == batter_stance]\\n    n_pt_events = df_sc_events_pt_throw[\\\"event_code\\\"].iloc[i : i + n_back_PA].sum()\\n    df_sc_events.loc[i, \\\"num_events_sum_nback_pt\\\"] = n_pt_events\\n    df_sc_events.loc[i, \\\"prop_events_sum_nback_pt\\\"] = n_pt_events / n_back_PA\\n    \\n# df_sc_events.loc[: n_back_PA + 1, \\\"event_code\\\"]\";\n",
       "                var nbb_formatted_code = \"n_back_PA = 100\\n\\n# Sum of on-base events - critical that order matters! (should be addressed above)\\n# rolling was close, but needed to tweak\\ndf_sc_events[\\\"num_events_sum_nback\\\"] = (\\n    df_sc_events[\\\"event_code\\\"].iloc[::-1].rolling(n_back_PA).sum().iloc[::-1]\\n)\\n\\n# Percent of on-base events (overall)\\ndf_sc_events[\\\"prop_events_nback\\\"] = df_sc_events[\\\"num_events_sum_nback\\\"] / n_back_PA\\n\\n# Percent of on-base events against handedness of pitcher\\nfor i in df_sc_events.index:\\n    p_throws = df_sc_events[\\\"p_throws\\\"].iloc[i]\\n    df_sc_events_pt_throw = df_sc_events[df_sc_events[\\\"p_throws\\\"] == batter_stance]\\n    n_pt_events = df_sc_events_pt_throw[\\\"event_code\\\"].iloc[i : i + n_back_PA].sum()\\n    df_sc_events.loc[i, \\\"num_events_sum_nback_pt\\\"] = n_pt_events\\n    df_sc_events.loc[i, \\\"prop_events_sum_nback_pt\\\"] = n_pt_events / n_back_PA\\n\\n# df_sc_events.loc[: n_back_PA + 1, \\\"event_code\\\"]\";\n",
       "                var nbb_cells = Jupyter.notebook.get_cells();\n",
       "                for (var i = 0; i < nbb_cells.length; ++i) {\n",
       "                    if (nbb_cells[i].input_prompt_number == nbb_cell_id) {\n",
       "                        if (nbb_cells[i].get_text() == nbb_unformatted_code) {\n",
       "                             nbb_cells[i].set_text(nbb_formatted_code);\n",
       "                        }\n",
       "                        break;\n",
       "                    }\n",
       "                }\n",
       "            }, 500);\n",
       "            "
      ],
      "text/plain": [
       "<IPython.core.display.Javascript object>"
      ]
     },
     "metadata": {},
     "output_type": "display_data"
    }
   ],
   "source": [
    "n_back_PA = 100\n",
    "\n",
    "# Sum of on-base events - critical that order matters! (should be addressed above)\n",
    "    # rolling was close, but needed to tweak\n",
    "df_sc_events[\"num_events_sum_nback\"] = df_sc_events[\"event_code\"].iloc[::-1].rolling(n_back_PA).sum().iloc[::-1]\n",
    "\n",
    "# Percent of on-base events (overall)\n",
    "df_sc_events[\"prop_events_nback\"] = df_sc_events[\"num_events_sum_nback\"] / n_back_PA\n",
    "\n",
    "# Percent of on-base events against handedness of pitcher\n",
    "for i in df_sc_events.index:\n",
    "    p_throws = df_sc_events[\"p_throws\"].iloc[i]\n",
    "    df_sc_events_pt_throw = df_sc_events[df_sc_events[\"p_throws\"] == batter_stance]\n",
    "    n_pt_events = df_sc_events_pt_throw[\"event_code\"].iloc[i : i + n_back_PA].sum()\n",
    "    df_sc_events.loc[i, \"num_events_sum_nback_pt\"] = n_pt_events\n",
    "    df_sc_events.loc[i, \"prop_events_sum_nback_pt\"] = n_pt_events / n_back_PA\n",
    "    \n",
    "# df_sc_events.loc[: n_back_PA + 1, \"event_code\"]\n"
   ]
  },
  {
   "cell_type": "code",
   "execution_count": 412,
   "metadata": {
    "ExecuteTime": {
     "end_time": "2020-01-26T18:45:42.737869Z",
     "start_time": "2020-01-26T18:45:42.703497Z"
    }
   },
   "outputs": [
    {
     "data": {
      "text/html": [
       "<div>\n",
       "<style scoped>\n",
       "    .dataframe tbody tr th:only-of-type {\n",
       "        vertical-align: middle;\n",
       "    }\n",
       "\n",
       "    .dataframe tbody tr th {\n",
       "        vertical-align: top;\n",
       "    }\n",
       "\n",
       "    .dataframe thead th {\n",
       "        text-align: right;\n",
       "    }\n",
       "</style>\n",
       "<table border=\"1\" class=\"dataframe\">\n",
       "  <thead>\n",
       "    <tr style=\"text-align: right;\">\n",
       "      <th></th>\n",
       "      <th>pitch_type</th>\n",
       "      <th>game_date</th>\n",
       "      <th>release_speed</th>\n",
       "      <th>release_pos_x</th>\n",
       "      <th>release_pos_z</th>\n",
       "      <th>player_name</th>\n",
       "      <th>batter</th>\n",
       "      <th>pitcher</th>\n",
       "      <th>events</th>\n",
       "      <th>description</th>\n",
       "      <th>...</th>\n",
       "      <th>key_retro</th>\n",
       "      <th>key_bbref</th>\n",
       "      <th>key_fangraphs</th>\n",
       "      <th>mlb_played_first</th>\n",
       "      <th>mlb_played_last</th>\n",
       "      <th>event_code</th>\n",
       "      <th>num_events_sum_nback</th>\n",
       "      <th>prop_events_nback</th>\n",
       "      <th>num_events_sum_nback_pt</th>\n",
       "      <th>prop_events_sum_nback_pt</th>\n",
       "    </tr>\n",
       "  </thead>\n",
       "  <tbody>\n",
       "    <tr>\n",
       "      <th>0</th>\n",
       "      <td>FS</td>\n",
       "      <td>2019-09-09</td>\n",
       "      <td>87.4</td>\n",
       "      <td>-2.5376</td>\n",
       "      <td>6.0542</td>\n",
       "      <td>James Norwood</td>\n",
       "      <td>622534.0</td>\n",
       "      <td>656803.0</td>\n",
       "      <td>strikeout</td>\n",
       "      <td>swinging_strike</td>\n",
       "      <td>...</td>\n",
       "      <td>margm001</td>\n",
       "      <td>margoma01</td>\n",
       "      <td>14712</td>\n",
       "      <td>2016.0</td>\n",
       "      <td>2019.0</td>\n",
       "      <td>0</td>\n",
       "      <td>27.0</td>\n",
       "      <td>0.27</td>\n",
       "      <td>23.0</td>\n",
       "      <td>0.23</td>\n",
       "    </tr>\n",
       "    <tr>\n",
       "      <th>1</th>\n",
       "      <td>FT</td>\n",
       "      <td>2019-09-08</td>\n",
       "      <td>94.6</td>\n",
       "      <td>-1.7748</td>\n",
       "      <td>5.7453</td>\n",
       "      <td>Jairo Diaz</td>\n",
       "      <td>622534.0</td>\n",
       "      <td>545064.0</td>\n",
       "      <td>field_out</td>\n",
       "      <td>hit_into_play</td>\n",
       "      <td>...</td>\n",
       "      <td>margm001</td>\n",
       "      <td>margoma01</td>\n",
       "      <td>14712</td>\n",
       "      <td>2016.0</td>\n",
       "      <td>2019.0</td>\n",
       "      <td>0</td>\n",
       "      <td>27.0</td>\n",
       "      <td>0.27</td>\n",
       "      <td>23.0</td>\n",
       "      <td>0.23</td>\n",
       "    </tr>\n",
       "    <tr>\n",
       "      <th>2</th>\n",
       "      <td>SI</td>\n",
       "      <td>2019-09-07</td>\n",
       "      <td>93.7</td>\n",
       "      <td>-2.4845</td>\n",
       "      <td>5.5313</td>\n",
       "      <td>Wes Parsons</td>\n",
       "      <td>622534.0</td>\n",
       "      <td>641149.0</td>\n",
       "      <td>force_out</td>\n",
       "      <td>hit_into_play</td>\n",
       "      <td>...</td>\n",
       "      <td>margm001</td>\n",
       "      <td>margoma01</td>\n",
       "      <td>14712</td>\n",
       "      <td>2016.0</td>\n",
       "      <td>2019.0</td>\n",
       "      <td>0</td>\n",
       "      <td>27.0</td>\n",
       "      <td>0.27</td>\n",
       "      <td>23.0</td>\n",
       "      <td>0.23</td>\n",
       "    </tr>\n",
       "    <tr>\n",
       "      <th>3</th>\n",
       "      <td>FF</td>\n",
       "      <td>2019-09-06</td>\n",
       "      <td>99.2</td>\n",
       "      <td>-1.7824</td>\n",
       "      <td>5.6267</td>\n",
       "      <td>Carlos Estevez</td>\n",
       "      <td>622534.0</td>\n",
       "      <td>608032.0</td>\n",
       "      <td>strikeout</td>\n",
       "      <td>foul_tip</td>\n",
       "      <td>...</td>\n",
       "      <td>margm001</td>\n",
       "      <td>margoma01</td>\n",
       "      <td>14712</td>\n",
       "      <td>2016.0</td>\n",
       "      <td>2019.0</td>\n",
       "      <td>0</td>\n",
       "      <td>28.0</td>\n",
       "      <td>0.28</td>\n",
       "      <td>23.0</td>\n",
       "      <td>0.23</td>\n",
       "    </tr>\n",
       "    <tr>\n",
       "      <th>4</th>\n",
       "      <td>FF</td>\n",
       "      <td>2019-09-04</td>\n",
       "      <td>95.4</td>\n",
       "      <td>-2.2010</td>\n",
       "      <td>6.0858</td>\n",
       "      <td>Yoan Lopez</td>\n",
       "      <td>622534.0</td>\n",
       "      <td>661255.0</td>\n",
       "      <td>field_out</td>\n",
       "      <td>hit_into_play</td>\n",
       "      <td>...</td>\n",
       "      <td>margm001</td>\n",
       "      <td>margoma01</td>\n",
       "      <td>14712</td>\n",
       "      <td>2016.0</td>\n",
       "      <td>2019.0</td>\n",
       "      <td>0</td>\n",
       "      <td>28.0</td>\n",
       "      <td>0.28</td>\n",
       "      <td>23.0</td>\n",
       "      <td>0.23</td>\n",
       "    </tr>\n",
       "  </tbody>\n",
       "</table>\n",
       "<p>5 rows × 102 columns</p>\n",
       "</div>"
      ],
      "text/plain": [
       "  pitch_type  game_date  release_speed  release_pos_x  release_pos_z  \\\n",
       "0         FS 2019-09-09           87.4        -2.5376         6.0542   \n",
       "1         FT 2019-09-08           94.6        -1.7748         5.7453   \n",
       "2         SI 2019-09-07           93.7        -2.4845         5.5313   \n",
       "3         FF 2019-09-06           99.2        -1.7824         5.6267   \n",
       "4         FF 2019-09-04           95.4        -2.2010         6.0858   \n",
       "\n",
       "      player_name    batter   pitcher     events      description  ...  \\\n",
       "0   James Norwood  622534.0  656803.0  strikeout  swinging_strike  ...   \n",
       "1      Jairo Diaz  622534.0  545064.0  field_out    hit_into_play  ...   \n",
       "2     Wes Parsons  622534.0  641149.0  force_out    hit_into_play  ...   \n",
       "3  Carlos Estevez  622534.0  608032.0  strikeout         foul_tip  ...   \n",
       "4      Yoan Lopez  622534.0  661255.0  field_out    hit_into_play  ...   \n",
       "\n",
       "  key_retro  key_bbref key_fangraphs mlb_played_first  mlb_played_last  \\\n",
       "0  margm001  margoma01         14712           2016.0           2019.0   \n",
       "1  margm001  margoma01         14712           2016.0           2019.0   \n",
       "2  margm001  margoma01         14712           2016.0           2019.0   \n",
       "3  margm001  margoma01         14712           2016.0           2019.0   \n",
       "4  margm001  margoma01         14712           2016.0           2019.0   \n",
       "\n",
       "  event_code num_events_sum_nback prop_events_nback num_events_sum_nback_pt  \\\n",
       "0          0                 27.0              0.27                    23.0   \n",
       "1          0                 27.0              0.27                    23.0   \n",
       "2          0                 27.0              0.27                    23.0   \n",
       "3          0                 28.0              0.28                    23.0   \n",
       "4          0                 28.0              0.28                    23.0   \n",
       "\n",
       "  prop_events_sum_nback_pt  \n",
       "0                     0.23  \n",
       "1                     0.23  \n",
       "2                     0.23  \n",
       "3                     0.23  \n",
       "4                     0.23  \n",
       "\n",
       "[5 rows x 102 columns]"
      ]
     },
     "execution_count": 412,
     "metadata": {},
     "output_type": "execute_result"
    },
    {
     "data": {
      "application/javascript": [
       "\n",
       "            setTimeout(function() {\n",
       "                var nbb_cell_id = 412;\n",
       "                var nbb_unformatted_code = \"df_sc_events.head()\";\n",
       "                var nbb_formatted_code = \"df_sc_events.head()\";\n",
       "                var nbb_cells = Jupyter.notebook.get_cells();\n",
       "                for (var i = 0; i < nbb_cells.length; ++i) {\n",
       "                    if (nbb_cells[i].input_prompt_number == nbb_cell_id) {\n",
       "                        if (nbb_cells[i].get_text() == nbb_unformatted_code) {\n",
       "                             nbb_cells[i].set_text(nbb_formatted_code);\n",
       "                        }\n",
       "                        break;\n",
       "                    }\n",
       "                }\n",
       "            }, 500);\n",
       "            "
      ],
      "text/plain": [
       "<IPython.core.display.Javascript object>"
      ]
     },
     "metadata": {},
     "output_type": "display_data"
    }
   ],
   "source": [
    "df_sc_events.head()"
   ]
  },
  {
   "cell_type": "code",
   "execution_count": 388,
   "metadata": {
    "ExecuteTime": {
     "end_time": "2020-01-26T15:34:17.970787Z",
     "start_time": "2020-01-26T15:34:17.959235Z"
    }
   },
   "outputs": [
    {
     "data": {
      "text/plain": [
       "Index(['pitch_type', 'game_date', 'release_speed', 'release_pos_x',\n",
       "       'release_pos_z', 'player_name', 'batter', 'pitcher', 'events',\n",
       "       'description',\n",
       "       ...\n",
       "       'key_retro', 'key_bbref', 'key_fangraphs', 'mlb_played_first',\n",
       "       'mlb_played_last', 'event_code', 'num_events_sum_nback',\n",
       "       'prop_events_nback', 'num_events_sum_nback_pt',\n",
       "       'prop_events_sum_nback_pt'],\n",
       "      dtype='object', length=102)"
      ]
     },
     "execution_count": 388,
     "metadata": {},
     "output_type": "execute_result"
    },
    {
     "data": {
      "application/javascript": [
       "\n",
       "            setTimeout(function() {\n",
       "                var nbb_cell_id = 388;\n",
       "                var nbb_unformatted_code = \"df_sc_events.columns\";\n",
       "                var nbb_formatted_code = \"df_sc_events.columns\";\n",
       "                var nbb_cells = Jupyter.notebook.get_cells();\n",
       "                for (var i = 0; i < nbb_cells.length; ++i) {\n",
       "                    if (nbb_cells[i].input_prompt_number == nbb_cell_id) {\n",
       "                        if (nbb_cells[i].get_text() == nbb_unformatted_code) {\n",
       "                             nbb_cells[i].set_text(nbb_formatted_code);\n",
       "                        }\n",
       "                        break;\n",
       "                    }\n",
       "                }\n",
       "            }, 500);\n",
       "            "
      ],
      "text/plain": [
       "<IPython.core.display.Javascript object>"
      ]
     },
     "metadata": {},
     "output_type": "display_data"
    }
   ],
   "source": [
    "df_sc_events.columns"
   ]
  },
  {
   "cell_type": "code",
   "execution_count": 413,
   "metadata": {
    "ExecuteTime": {
     "end_time": "2020-01-26T18:46:00.043757Z",
     "start_time": "2020-01-26T18:46:00.030441Z"
    }
   },
   "outputs": [
    {
     "data": {
      "application/javascript": [
       "\n",
       "            setTimeout(function() {\n",
       "                var nbb_cell_id = 413;\n",
       "                var nbb_unformatted_code = \"col4model = [\\\"event_code\\\", \\\"p_throws\\\", \\\"prop_events_nback\\\", \\\"prop_events_sum_nback_pt\\\"]\\n\\nm_size = 200\\ndf_sc_events_4model = df_sc_events[col4model].copy()\\ndf_sc_events_4model_overall = df_sc_events_4model.loc[:m_size]\";\n",
       "                var nbb_formatted_code = \"col4model = [\\\"event_code\\\", \\\"p_throws\\\", \\\"prop_events_nback\\\", \\\"prop_events_sum_nback_pt\\\"]\\n\\nm_size = 200\\ndf_sc_events_4model = df_sc_events[col4model].copy()\\ndf_sc_events_4model_overall = df_sc_events_4model.loc[:m_size]\";\n",
       "                var nbb_cells = Jupyter.notebook.get_cells();\n",
       "                for (var i = 0; i < nbb_cells.length; ++i) {\n",
       "                    if (nbb_cells[i].input_prompt_number == nbb_cell_id) {\n",
       "                        if (nbb_cells[i].get_text() == nbb_unformatted_code) {\n",
       "                             nbb_cells[i].set_text(nbb_formatted_code);\n",
       "                        }\n",
       "                        break;\n",
       "                    }\n",
       "                }\n",
       "            }, 500);\n",
       "            "
      ],
      "text/plain": [
       "<IPython.core.display.Javascript object>"
      ]
     },
     "metadata": {},
     "output_type": "display_data"
    }
   ],
   "source": [
    "col4model = [\"event_code\", \"p_throws\", \"prop_events_nback\", \"prop_events_sum_nback_pt\"]\n",
    "\n",
    "m_size = 200\n",
    "df_sc_events_4model = df_sc_events[col4model].copy()\n",
    "df_sc_events_4model_overall = df_sc_events_4model.loc[:m_size]"
   ]
  },
  {
   "cell_type": "code",
   "execution_count": 451,
   "metadata": {
    "ExecuteTime": {
     "end_time": "2020-01-26T19:00:52.293456Z",
     "start_time": "2020-01-26T19:00:52.278408Z"
    }
   },
   "outputs": [
    {
     "data": {
      "text/html": [
       "<div>\n",
       "<style scoped>\n",
       "    .dataframe tbody tr th:only-of-type {\n",
       "        vertical-align: middle;\n",
       "    }\n",
       "\n",
       "    .dataframe tbody tr th {\n",
       "        vertical-align: top;\n",
       "    }\n",
       "\n",
       "    .dataframe thead th {\n",
       "        text-align: right;\n",
       "    }\n",
       "</style>\n",
       "<table border=\"1\" class=\"dataframe\">\n",
       "  <thead>\n",
       "    <tr style=\"text-align: right;\">\n",
       "      <th></th>\n",
       "      <th>event_code</th>\n",
       "      <th>p_throws</th>\n",
       "      <th>prop_events_nback</th>\n",
       "      <th>prop_events_sum_nback_pt</th>\n",
       "    </tr>\n",
       "  </thead>\n",
       "  <tbody>\n",
       "    <tr>\n",
       "      <th>0</th>\n",
       "      <td>0</td>\n",
       "      <td>1</td>\n",
       "      <td>0.27</td>\n",
       "      <td>0.23</td>\n",
       "    </tr>\n",
       "    <tr>\n",
       "      <th>1</th>\n",
       "      <td>0</td>\n",
       "      <td>1</td>\n",
       "      <td>0.27</td>\n",
       "      <td>0.23</td>\n",
       "    </tr>\n",
       "    <tr>\n",
       "      <th>2</th>\n",
       "      <td>0</td>\n",
       "      <td>1</td>\n",
       "      <td>0.27</td>\n",
       "      <td>0.23</td>\n",
       "    </tr>\n",
       "    <tr>\n",
       "      <th>3</th>\n",
       "      <td>0</td>\n",
       "      <td>1</td>\n",
       "      <td>0.28</td>\n",
       "      <td>0.23</td>\n",
       "    </tr>\n",
       "    <tr>\n",
       "      <th>4</th>\n",
       "      <td>0</td>\n",
       "      <td>1</td>\n",
       "      <td>0.28</td>\n",
       "      <td>0.23</td>\n",
       "    </tr>\n",
       "  </tbody>\n",
       "</table>\n",
       "</div>"
      ],
      "text/plain": [
       "   event_code  p_throws  prop_events_nback  prop_events_sum_nback_pt\n",
       "0           0         1               0.27                      0.23\n",
       "1           0         1               0.27                      0.23\n",
       "2           0         1               0.27                      0.23\n",
       "3           0         1               0.28                      0.23\n",
       "4           0         1               0.28                      0.23"
      ]
     },
     "execution_count": 451,
     "metadata": {},
     "output_type": "execute_result"
    },
    {
     "data": {
      "application/javascript": [
       "\n",
       "            setTimeout(function() {\n",
       "                var nbb_cell_id = 451;\n",
       "                var nbb_unformatted_code = \"df_sc_events_4model_overall.head()\";\n",
       "                var nbb_formatted_code = \"df_sc_events_4model_overall.head()\";\n",
       "                var nbb_cells = Jupyter.notebook.get_cells();\n",
       "                for (var i = 0; i < nbb_cells.length; ++i) {\n",
       "                    if (nbb_cells[i].input_prompt_number == nbb_cell_id) {\n",
       "                        if (nbb_cells[i].get_text() == nbb_unformatted_code) {\n",
       "                             nbb_cells[i].set_text(nbb_formatted_code);\n",
       "                        }\n",
       "                        break;\n",
       "                    }\n",
       "                }\n",
       "            }, 500);\n",
       "            "
      ],
      "text/plain": [
       "<IPython.core.display.Javascript object>"
      ]
     },
     "metadata": {},
     "output_type": "display_data"
    }
   ],
   "source": [
    "df_sc_events_4model_overall.head()"
   ]
  },
  {
   "cell_type": "code",
   "execution_count": 450,
   "metadata": {
    "ExecuteTime": {
     "end_time": "2020-01-26T19:00:22.212739Z",
     "start_time": "2020-01-26T19:00:22.190811Z"
    }
   },
   "outputs": [
    {
     "data": {
      "text/plain": [
       "(201, 4)"
      ]
     },
     "execution_count": 450,
     "metadata": {},
     "output_type": "execute_result"
    },
    {
     "data": {
      "application/javascript": [
       "\n",
       "            setTimeout(function() {\n",
       "                var nbb_cell_id = 450;\n",
       "                var nbb_unformatted_code = \"df_sc_events_4model_overall.shape\";\n",
       "                var nbb_formatted_code = \"df_sc_events_4model_overall.shape\";\n",
       "                var nbb_cells = Jupyter.notebook.get_cells();\n",
       "                for (var i = 0; i < nbb_cells.length; ++i) {\n",
       "                    if (nbb_cells[i].input_prompt_number == nbb_cell_id) {\n",
       "                        if (nbb_cells[i].get_text() == nbb_unformatted_code) {\n",
       "                             nbb_cells[i].set_text(nbb_formatted_code);\n",
       "                        }\n",
       "                        break;\n",
       "                    }\n",
       "                }\n",
       "            }, 500);\n",
       "            "
      ],
      "text/plain": [
       "<IPython.core.display.Javascript object>"
      ]
     },
     "metadata": {},
     "output_type": "display_data"
    }
   ],
   "source": [
    "df_sc_events_4model_overall.shape"
   ]
  },
  {
   "cell_type": "markdown",
   "metadata": {},
   "source": [
    "## EDA"
   ]
  },
  {
   "cell_type": "code",
   "execution_count": 415,
   "metadata": {
    "ExecuteTime": {
     "end_time": "2020-01-26T18:46:02.898740Z",
     "start_time": "2020-01-26T18:46:02.324336Z"
    }
   },
   "outputs": [
    {
     "data": {
      "text/plain": [
       "<matplotlib.legend.Legend at 0x1a2d95fbe0>"
      ]
     },
     "execution_count": 415,
     "metadata": {},
     "output_type": "execute_result"
    },
    {
     "data": {
      "image/png": "[encoded data removed]",
      "text/plain": [
       "<Figure size 864x288 with 2 Axes>"
      ]
     },
     "metadata": {
      "needs_background": "light"
     },
     "output_type": "display_data"
    },
    {
     "data": {
      "application/javascript": [
       "\n",
       "            setTimeout(function() {\n",
       "                var nbb_cell_id = 415;\n",
       "                var nbb_unformatted_code = \"f, (ax1, ax2) = plt.subplots(1, 2, figsize=(12, 4))\\n\\nax1.scatter(\\n    df_sc_events_4model_overall[\\\"prop_events_nback\\\"],\\n    df_sc_events_4model_overall[\\\"event_code\\\"]\\n    + np.random.normal(0, 0.01, len(df_sc_events_4model_overall)),\\n    facecolors=\\\"none\\\",\\n    edgecolors=\\\"black\\\",\\n)\\n\\nfor hand in [\\\"L\\\", \\\"R\\\"]:\\n    if hand == \\\"L\\\":\\n        df_temp = df_sc_events_4model[df_sc_events_4model[\\\"p_throws\\\"] == hand].iloc[\\n            :m_size, :\\n        ]\\n        ax2.scatter(\\n            df_temp[\\\"prop_events_nback\\\"],\\n            df_temp[\\\"event_code\\\"] + np.random.normal(0, 0.01, len(df_temp)),\\n            facecolors=\\\"none\\\",\\n            edgecolors=\\\"blue\\\",\\n            label=hand,\\n        )\\n    else:\\n        df_temp = df_sc_events_4model[df_sc_events_4model[\\\"p_throws\\\"] == hand].iloc[\\n            :m_size, :\\n        ]\\n        ax2.scatter(\\n            df_temp[\\\"prop_events_nback\\\"],\\n            df_temp[\\\"event_code\\\"] + 0.1 + np.random.normal(0, 0.01, len(df_temp)),\\n            facecolors=\\\"none\\\",\\n            edgecolors=\\\"red\\\",\\n            label=hand,\\n        )\\nax2.legend()\";\n",
       "                var nbb_formatted_code = \"f, (ax1, ax2) = plt.subplots(1, 2, figsize=(12, 4))\\n\\nax1.scatter(\\n    df_sc_events_4model_overall[\\\"prop_events_nback\\\"],\\n    df_sc_events_4model_overall[\\\"event_code\\\"]\\n    + np.random.normal(0, 0.01, len(df_sc_events_4model_overall)),\\n    facecolors=\\\"none\\\",\\n    edgecolors=\\\"black\\\",\\n)\\n\\nfor hand in [\\\"L\\\", \\\"R\\\"]:\\n    if hand == \\\"L\\\":\\n        df_temp = df_sc_events_4model[df_sc_events_4model[\\\"p_throws\\\"] == hand].iloc[\\n            :m_size, :\\n        ]\\n        ax2.scatter(\\n            df_temp[\\\"prop_events_nback\\\"],\\n            df_temp[\\\"event_code\\\"] + np.random.normal(0, 0.01, len(df_temp)),\\n            facecolors=\\\"none\\\",\\n            edgecolors=\\\"blue\\\",\\n            label=hand,\\n        )\\n    else:\\n        df_temp = df_sc_events_4model[df_sc_events_4model[\\\"p_throws\\\"] == hand].iloc[\\n            :m_size, :\\n        ]\\n        ax2.scatter(\\n            df_temp[\\\"prop_events_nback\\\"],\\n            df_temp[\\\"event_code\\\"] + 0.1 + np.random.normal(0, 0.01, len(df_temp)),\\n            facecolors=\\\"none\\\",\\n            edgecolors=\\\"red\\\",\\n            label=hand,\\n        )\\nax2.legend()\";\n",
       "                var nbb_cells = Jupyter.notebook.get_cells();\n",
       "                for (var i = 0; i < nbb_cells.length; ++i) {\n",
       "                    if (nbb_cells[i].input_prompt_number == nbb_cell_id) {\n",
       "                        if (nbb_cells[i].get_text() == nbb_unformatted_code) {\n",
       "                             nbb_cells[i].set_text(nbb_formatted_code);\n",
       "                        }\n",
       "                        break;\n",
       "                    }\n",
       "                }\n",
       "            }, 500);\n",
       "            "
      ],
      "text/plain": [
       "<IPython.core.display.Javascript object>"
      ]
     },
     "metadata": {},
     "output_type": "display_data"
    }
   ],
   "source": [
    "f, (ax1, ax2) = plt.subplots(1, 2, figsize=(12, 4))\n",
    "\n",
    "ax1.scatter(\n",
    "    df_sc_events_4model_overall[\"prop_events_nback\"],\n",
    "    df_sc_events_4model_overall[\"event_code\"]\n",
    "    + np.random.normal(0, 0.01, len(df_sc_events_4model_overall)),\n",
    "    facecolors=\"none\",\n",
    "    edgecolors=\"black\",\n",
    ")\n",
    "\n",
    "for hand in [\"L\", \"R\"]:\n",
    "    if hand == \"L\":\n",
    "        df_temp = df_sc_events_4model[df_sc_events_4model[\"p_throws\"] == hand].iloc[\n",
    "            :m_size, :\n",
    "        ]\n",
    "        ax2.scatter(\n",
    "            df_temp[\"prop_events_nback\"],\n",
    "            df_temp[\"event_code\"] + np.random.normal(0, 0.01, len(df_temp)),\n",
    "            facecolors=\"none\",\n",
    "            edgecolors=\"blue\",\n",
    "            label=hand,\n",
    "        )\n",
    "    else:\n",
    "        df_temp = df_sc_events_4model[df_sc_events_4model[\"p_throws\"] == hand].iloc[\n",
    "            :m_size, :\n",
    "        ]\n",
    "        ax2.scatter(\n",
    "            df_temp[\"prop_events_nback\"],\n",
    "            df_temp[\"event_code\"] + 0.1 + np.random.normal(0, 0.01, len(df_temp)),\n",
    "            facecolors=\"none\",\n",
    "            edgecolors=\"red\",\n",
    "            label=hand,\n",
    "        )\n",
    "ax2.legend()"
   ]
  },
  {
   "cell_type": "code",
   "execution_count": 453,
   "metadata": {
    "ExecuteTime": {
     "end_time": "2020-01-26T19:01:34.911414Z",
     "start_time": "2020-01-26T19:01:34.649471Z"
    }
   },
   "outputs": [
    {
     "data": {
      "text/plain": [
       "<matplotlib.axes._subplots.AxesSubplot at 0x1a2dcf7780>"
      ]
     },
     "execution_count": 453,
     "metadata": {},
     "output_type": "execute_result"
    },
    {
     "data": {
      "image/png": "[encoded data removed]",
      "text/plain": [
       "<Figure size 432x288 with 1 Axes>"
      ]
     },
     "metadata": {
      "needs_background": "light"
     },
     "output_type": "display_data"
    },
    {
     "data": {
      "application/javascript": [
       "\n",
       "            setTimeout(function() {\n",
       "                var nbb_cell_id = 453;\n",
       "                var nbb_unformatted_code = \"f, ax1 = plt.subplots()\\n\\nsns.boxplot(\\n    x=\\\"event_code\\\",\\n    y=\\\"prop_events_nback\\\",\\n    data=df_sc_events_4model_overall,\\n    palette=[\\\"w\\\", \\\"teal\\\"],\\n    order=[0, 1],\\n    ax=ax1,\\n)\";\n",
       "                var nbb_formatted_code = \"f, ax1 = plt.subplots()\\n\\nsns.boxplot(\\n    x=\\\"event_code\\\",\\n    y=\\\"prop_events_nback\\\",\\n    data=df_sc_events_4model_overall,\\n    palette=[\\\"w\\\", \\\"teal\\\"],\\n    order=[0, 1],\\n    ax=ax1,\\n)\";\n",
       "                var nbb_cells = Jupyter.notebook.get_cells();\n",
       "                for (var i = 0; i < nbb_cells.length; ++i) {\n",
       "                    if (nbb_cells[i].input_prompt_number == nbb_cell_id) {\n",
       "                        if (nbb_cells[i].get_text() == nbb_unformatted_code) {\n",
       "                             nbb_cells[i].set_text(nbb_formatted_code);\n",
       "                        }\n",
       "                        break;\n",
       "                    }\n",
       "                }\n",
       "            }, 500);\n",
       "            "
      ],
      "text/plain": [
       "<IPython.core.display.Javascript object>"
      ]
     },
     "metadata": {},
     "output_type": "display_data"
    }
   ],
   "source": [
    "f, ax1 = plt.subplots()\n",
    "\n",
    "sns.boxplot(\n",
    "    x=\"event_code\",\n",
    "    y=\"prop_events_nback\",\n",
    "    data=df_sc_events_4model_overall,\n",
    "    palette=[\"w\", \"teal\"],\n",
    "    order=[0, 1],\n",
    "    ax=ax1,\n",
    ")"
   ]
  },
  {
   "cell_type": "code",
   "execution_count": 461,
   "metadata": {
    "ExecuteTime": {
     "end_time": "2020-01-26T19:06:39.349115Z",
     "start_time": "2020-01-26T19:06:39.335185Z"
    }
   },
   "outputs": [
    {
     "data": {
      "text/html": [
       "<div>\n",
       "<style scoped>\n",
       "    .dataframe tbody tr th:only-of-type {\n",
       "        vertical-align: middle;\n",
       "    }\n",
       "\n",
       "    .dataframe tbody tr th {\n",
       "        vertical-align: top;\n",
       "    }\n",
       "\n",
       "    .dataframe thead th {\n",
       "        text-align: right;\n",
       "    }\n",
       "</style>\n",
       "<table border=\"1\" class=\"dataframe\">\n",
       "  <thead>\n",
       "    <tr style=\"text-align: right;\">\n",
       "      <th></th>\n",
       "      <th>event_code</th>\n",
       "      <th>p_throws</th>\n",
       "      <th>prop_events_nback</th>\n",
       "      <th>prop_events_sum_nback_pt</th>\n",
       "    </tr>\n",
       "  </thead>\n",
       "  <tbody>\n",
       "    <tr>\n",
       "      <th>0</th>\n",
       "      <td>0</td>\n",
       "      <td>1</td>\n",
       "      <td>0.27</td>\n",
       "      <td>0.23</td>\n",
       "    </tr>\n",
       "    <tr>\n",
       "      <th>1</th>\n",
       "      <td>0</td>\n",
       "      <td>1</td>\n",
       "      <td>0.27</td>\n",
       "      <td>0.23</td>\n",
       "    </tr>\n",
       "    <tr>\n",
       "      <th>2</th>\n",
       "      <td>0</td>\n",
       "      <td>1</td>\n",
       "      <td>0.27</td>\n",
       "      <td>0.23</td>\n",
       "    </tr>\n",
       "    <tr>\n",
       "      <th>3</th>\n",
       "      <td>0</td>\n",
       "      <td>1</td>\n",
       "      <td>0.28</td>\n",
       "      <td>0.23</td>\n",
       "    </tr>\n",
       "    <tr>\n",
       "      <th>4</th>\n",
       "      <td>0</td>\n",
       "      <td>1</td>\n",
       "      <td>0.28</td>\n",
       "      <td>0.23</td>\n",
       "    </tr>\n",
       "  </tbody>\n",
       "</table>\n",
       "</div>"
      ],
      "text/plain": [
       "   event_code  p_throws  prop_events_nback  prop_events_sum_nback_pt\n",
       "0           0         1               0.27                      0.23\n",
       "1           0         1               0.27                      0.23\n",
       "2           0         1               0.27                      0.23\n",
       "3           0         1               0.28                      0.23\n",
       "4           0         1               0.28                      0.23"
      ]
     },
     "execution_count": 461,
     "metadata": {},
     "output_type": "execute_result"
    },
    {
     "data": {
      "application/javascript": [
       "\n",
       "            setTimeout(function() {\n",
       "                var nbb_cell_id = 461;\n",
       "                var nbb_unformatted_code = \"df_sc_events_4model_overall.head()\\n\\n#\\n# df_sc_events_4model_overall[\\\"prop_events_nback\\\"]\";\n",
       "                var nbb_formatted_code = \"df_sc_events_4model_overall.head()\\n\\n#\\n# df_sc_events_4model_overall[\\\"prop_events_nback\\\"]\";\n",
       "                var nbb_cells = Jupyter.notebook.get_cells();\n",
       "                for (var i = 0; i < nbb_cells.length; ++i) {\n",
       "                    if (nbb_cells[i].input_prompt_number == nbb_cell_id) {\n",
       "                        if (nbb_cells[i].get_text() == nbb_unformatted_code) {\n",
       "                             nbb_cells[i].set_text(nbb_formatted_code);\n",
       "                        }\n",
       "                        break;\n",
       "                    }\n",
       "                }\n",
       "            }, 500);\n",
       "            "
      ],
      "text/plain": [
       "<IPython.core.display.Javascript object>"
      ]
     },
     "metadata": {},
     "output_type": "display_data"
    }
   ],
   "source": [
    "df_sc_events_4model_overall.head()\n",
    "\n",
    "#\n",
    "# df_sc_events_4model_overall[\"prop_events_nback\"]"
   ]
  },
  {
   "cell_type": "code",
   "execution_count": 468,
   "metadata": {
    "ExecuteTime": {
     "end_time": "2020-01-26T19:08:55.213697Z",
     "start_time": "2020-01-26T19:08:55.182306Z"
    },
    "scrolled": true
   },
   "outputs": [
    {
     "name": "stdout",
     "output_type": "stream",
     "text": [
      "0.0024042283217230436 0.010034862058101928\n"
     ]
    },
    {
     "data": {
      "application/javascript": [
       "\n",
       "            setTimeout(function() {\n",
       "                var nbb_cell_id = 468;\n",
       "                var nbb_unformatted_code = \"groupA1_vals = df_sc_events_4model_overall.loc[\\n    df_sc_events_4model_overall[\\\"event_code\\\"] == 0, \\\"prop_events_nback\\\"\\n]\\ngroupA2_vals = df_sc_events_4model_overall.loc[\\n    df_sc_events_4model_overall[\\\"event_code\\\"] == 1, \\\"prop_events_nback\\\"\\n]\\n\\nmw_p_A = mannwhitneyu(groupA1_vals, groupA2_vals)[1]\\n# Welch's test (does not assume variances are equal)\\nttest_p_A = ttest_ind(groupA1_vals, groupA2_vals, equal_var=False)[1]\\n\\nprint(mw_p_A, ttest_p_A)\";\n",
       "                var nbb_formatted_code = \"groupA1_vals = df_sc_events_4model_overall.loc[\\n    df_sc_events_4model_overall[\\\"event_code\\\"] == 0, \\\"prop_events_nback\\\"\\n]\\ngroupA2_vals = df_sc_events_4model_overall.loc[\\n    df_sc_events_4model_overall[\\\"event_code\\\"] == 1, \\\"prop_events_nback\\\"\\n]\\n\\nmw_p_A = mannwhitneyu(groupA1_vals, groupA2_vals)[1]\\n# Welch's test (does not assume variances are equal)\\nttest_p_A = ttest_ind(groupA1_vals, groupA2_vals, equal_var=False)[1]\\n\\nprint(mw_p_A, ttest_p_A)\";\n",
       "                var nbb_cells = Jupyter.notebook.get_cells();\n",
       "                for (var i = 0; i < nbb_cells.length; ++i) {\n",
       "                    if (nbb_cells[i].input_prompt_number == nbb_cell_id) {\n",
       "                        if (nbb_cells[i].get_text() == nbb_unformatted_code) {\n",
       "                             nbb_cells[i].set_text(nbb_formatted_code);\n",
       "                        }\n",
       "                        break;\n",
       "                    }\n",
       "                }\n",
       "            }, 500);\n",
       "            "
      ],
      "text/plain": [
       "<IPython.core.display.Javascript object>"
      ]
     },
     "metadata": {},
     "output_type": "display_data"
    }
   ],
   "source": [
    "groupA1_vals = df_sc_events_4model_overall.loc[\n",
    "    df_sc_events_4model_overall[\"event_code\"] == 0, \"prop_events_nback\"\n",
    "]\n",
    "groupA2_vals = df_sc_events_4model_overall.loc[\n",
    "    df_sc_events_4model_overall[\"event_code\"] == 1, \"prop_events_nback\"\n",
    "]\n",
    "\n",
    "mw_p_A = mannwhitneyu(groupA1_vals, groupA2_vals)[1]\n",
    "# Welch's test (does not assume variances are equal)\n",
    "ttest_p_A = ttest_ind(groupA1_vals, groupA2_vals, equal_var=False)[1]\n",
    "\n",
    "print(mw_p_A, ttest_p_A)"
   ]
  },
  {
   "cell_type": "code",
   "execution_count": null,
   "metadata": {},
   "outputs": [],
   "source": []
  },
  {
   "cell_type": "code",
   "execution_count": 417,
   "metadata": {
    "ExecuteTime": {
     "end_time": "2020-01-26T18:46:25.760341Z",
     "start_time": "2020-01-26T18:46:25.745980Z"
    }
   },
   "outputs": [
    {
     "name": "stderr",
     "output_type": "stream",
     "text": [
      "/Users/lacar/anaconda/envs/insight/lib/python3.6/site-packages/ipykernel_launcher.py:2: SettingWithCopyWarning: \n",
      "A value is trying to be set on a copy of a slice from a DataFrame.\n",
      "Try using .loc[row_indexer,col_indexer] = value instead\n",
      "\n",
      "See the caveats in the documentation: http://pandas.pydata.org/pandas-docs/stable/user_guide/indexing.html#returning-a-view-versus-a-copy\n",
      "  \n"
     ]
    },
    {
     "data": {
      "application/javascript": [
       "\n",
       "            setTimeout(function() {\n",
       "                var nbb_cell_id = 417;\n",
       "                var nbb_unformatted_code = \"df_sc_events_4model_overall[\\\"p_throws\\\"] = (\\n    df_sc_events_4model_overall[\\\"p_throws\\\"].replace({\\\"L\\\": 0, \\\"R\\\": 1}).copy()\\n)\";\n",
       "                var nbb_formatted_code = \"df_sc_events_4model_overall[\\\"p_throws\\\"] = (\\n    df_sc_events_4model_overall[\\\"p_throws\\\"].replace({\\\"L\\\": 0, \\\"R\\\": 1}).copy()\\n)\";\n",
       "                var nbb_cells = Jupyter.notebook.get_cells();\n",
       "                for (var i = 0; i < nbb_cells.length; ++i) {\n",
       "                    if (nbb_cells[i].input_prompt_number == nbb_cell_id) {\n",
       "                        if (nbb_cells[i].get_text() == nbb_unformatted_code) {\n",
       "                             nbb_cells[i].set_text(nbb_formatted_code);\n",
       "                        }\n",
       "                        break;\n",
       "                    }\n",
       "                }\n",
       "            }, 500);\n",
       "            "
      ],
      "text/plain": [
       "<IPython.core.display.Javascript object>"
      ]
     },
     "metadata": {},
     "output_type": "display_data"
    }
   ],
   "source": [
    "df_sc_events_4model_overall[\"p_throws\"] = (\n",
    "    df_sc_events_4model_overall[\"p_throws\"].replace({\"L\": 0, \"R\": 1}).copy()\n",
    ")"
   ]
  },
  {
   "cell_type": "code",
   "execution_count": 418,
   "metadata": {
    "ExecuteTime": {
     "end_time": "2020-01-26T18:46:28.323203Z",
     "start_time": "2020-01-26T18:46:28.308905Z"
    }
   },
   "outputs": [
    {
     "data": {
      "text/html": [
       "<div>\n",
       "<style scoped>\n",
       "    .dataframe tbody tr th:only-of-type {\n",
       "        vertical-align: middle;\n",
       "    }\n",
       "\n",
       "    .dataframe tbody tr th {\n",
       "        vertical-align: top;\n",
       "    }\n",
       "\n",
       "    .dataframe thead th {\n",
       "        text-align: right;\n",
       "    }\n",
       "</style>\n",
       "<table border=\"1\" class=\"dataframe\">\n",
       "  <thead>\n",
       "    <tr style=\"text-align: right;\">\n",
       "      <th></th>\n",
       "      <th>event_code</th>\n",
       "      <th>p_throws</th>\n",
       "      <th>prop_events_nback</th>\n",
       "      <th>prop_events_sum_nback_pt</th>\n",
       "    </tr>\n",
       "  </thead>\n",
       "  <tbody>\n",
       "    <tr>\n",
       "      <th>0</th>\n",
       "      <td>0</td>\n",
       "      <td>1</td>\n",
       "      <td>0.27</td>\n",
       "      <td>0.23</td>\n",
       "    </tr>\n",
       "    <tr>\n",
       "      <th>1</th>\n",
       "      <td>0</td>\n",
       "      <td>1</td>\n",
       "      <td>0.27</td>\n",
       "      <td>0.23</td>\n",
       "    </tr>\n",
       "    <tr>\n",
       "      <th>2</th>\n",
       "      <td>0</td>\n",
       "      <td>1</td>\n",
       "      <td>0.27</td>\n",
       "      <td>0.23</td>\n",
       "    </tr>\n",
       "    <tr>\n",
       "      <th>3</th>\n",
       "      <td>0</td>\n",
       "      <td>1</td>\n",
       "      <td>0.28</td>\n",
       "      <td>0.23</td>\n",
       "    </tr>\n",
       "    <tr>\n",
       "      <th>4</th>\n",
       "      <td>0</td>\n",
       "      <td>1</td>\n",
       "      <td>0.28</td>\n",
       "      <td>0.23</td>\n",
       "    </tr>\n",
       "  </tbody>\n",
       "</table>\n",
       "</div>"
      ],
      "text/plain": [
       "   event_code  p_throws  prop_events_nback  prop_events_sum_nback_pt\n",
       "0           0         1               0.27                      0.23\n",
       "1           0         1               0.27                      0.23\n",
       "2           0         1               0.27                      0.23\n",
       "3           0         1               0.28                      0.23\n",
       "4           0         1               0.28                      0.23"
      ]
     },
     "execution_count": 418,
     "metadata": {},
     "output_type": "execute_result"
    },
    {
     "data": {
      "application/javascript": [
       "\n",
       "            setTimeout(function() {\n",
       "                var nbb_cell_id = 418;\n",
       "                var nbb_unformatted_code = \"df_sc_events_4model_overall.head()\";\n",
       "                var nbb_formatted_code = \"df_sc_events_4model_overall.head()\";\n",
       "                var nbb_cells = Jupyter.notebook.get_cells();\n",
       "                for (var i = 0; i < nbb_cells.length; ++i) {\n",
       "                    if (nbb_cells[i].input_prompt_number == nbb_cell_id) {\n",
       "                        if (nbb_cells[i].get_text() == nbb_unformatted_code) {\n",
       "                             nbb_cells[i].set_text(nbb_formatted_code);\n",
       "                        }\n",
       "                        break;\n",
       "                    }\n",
       "                }\n",
       "            }, 500);\n",
       "            "
      ],
      "text/plain": [
       "<IPython.core.display.Javascript object>"
      ]
     },
     "metadata": {},
     "output_type": "display_data"
    }
   ],
   "source": [
    "df_sc_events_4model_overall.head()"
   ]
  },
  {
   "cell_type": "code",
   "execution_count": null,
   "metadata": {},
   "outputs": [],
   "source": []
  },
  {
   "cell_type": "code",
   "execution_count": 419,
   "metadata": {
    "ExecuteTime": {
     "end_time": "2020-01-26T18:46:32.201164Z",
     "start_time": "2020-01-26T18:46:32.189863Z"
    }
   },
   "outputs": [
    {
     "data": {
      "application/javascript": [
       "\n",
       "            setTimeout(function() {\n",
       "                var nbb_cell_id = 419;\n",
       "                var nbb_unformatted_code = \"# Aggregate per game\\n\\ndf_sc_events_4model_overall_bydate = df_sc_events_4model_overall.copy()\\n\\ndf_sc_events_4model_overall_bydate[\\\"game_date\\\"] = df_sc_events.loc[:m_size, \\\"game_date\\\"]\";\n",
       "                var nbb_formatted_code = \"# Aggregate per game\\n\\ndf_sc_events_4model_overall_bydate = df_sc_events_4model_overall.copy()\\n\\ndf_sc_events_4model_overall_bydate[\\\"game_date\\\"] = df_sc_events.loc[:m_size, \\\"game_date\\\"]\";\n",
       "                var nbb_cells = Jupyter.notebook.get_cells();\n",
       "                for (var i = 0; i < nbb_cells.length; ++i) {\n",
       "                    if (nbb_cells[i].input_prompt_number == nbb_cell_id) {\n",
       "                        if (nbb_cells[i].get_text() == nbb_unformatted_code) {\n",
       "                             nbb_cells[i].set_text(nbb_formatted_code);\n",
       "                        }\n",
       "                        break;\n",
       "                    }\n",
       "                }\n",
       "            }, 500);\n",
       "            "
      ],
      "text/plain": [
       "<IPython.core.display.Javascript object>"
      ]
     },
     "metadata": {},
     "output_type": "display_data"
    }
   ],
   "source": [
    "# Aggregate per game\n",
    "\n",
    "df_sc_events_4model_overall_bydate = df_sc_events_4model_overall.copy()\n",
    "\n",
    "df_sc_events_4model_overall_bydate[\"game_date\"] = df_sc_events.loc[:m_size, \"game_date\"]"
   ]
  },
  {
   "cell_type": "code",
   "execution_count": 420,
   "metadata": {
    "ExecuteTime": {
     "end_time": "2020-01-26T18:46:34.306731Z",
     "start_time": "2020-01-26T18:46:34.288337Z"
    }
   },
   "outputs": [
    {
     "data": {
      "text/html": [
       "<div>\n",
       "<style scoped>\n",
       "    .dataframe tbody tr th:only-of-type {\n",
       "        vertical-align: middle;\n",
       "    }\n",
       "\n",
       "    .dataframe tbody tr th {\n",
       "        vertical-align: top;\n",
       "    }\n",
       "\n",
       "    .dataframe thead th {\n",
       "        text-align: right;\n",
       "    }\n",
       "</style>\n",
       "<table border=\"1\" class=\"dataframe\">\n",
       "  <thead>\n",
       "    <tr style=\"text-align: right;\">\n",
       "      <th></th>\n",
       "      <th>event_code</th>\n",
       "      <th>p_throws</th>\n",
       "      <th>prop_events_nback</th>\n",
       "      <th>prop_events_sum_nback_pt</th>\n",
       "      <th>game_date</th>\n",
       "    </tr>\n",
       "  </thead>\n",
       "  <tbody>\n",
       "    <tr>\n",
       "      <th>0</th>\n",
       "      <td>0</td>\n",
       "      <td>1</td>\n",
       "      <td>0.27</td>\n",
       "      <td>0.23</td>\n",
       "      <td>2019-09-09</td>\n",
       "    </tr>\n",
       "    <tr>\n",
       "      <th>1</th>\n",
       "      <td>0</td>\n",
       "      <td>1</td>\n",
       "      <td>0.27</td>\n",
       "      <td>0.23</td>\n",
       "      <td>2019-09-08</td>\n",
       "    </tr>\n",
       "    <tr>\n",
       "      <th>2</th>\n",
       "      <td>0</td>\n",
       "      <td>1</td>\n",
       "      <td>0.27</td>\n",
       "      <td>0.23</td>\n",
       "      <td>2019-09-07</td>\n",
       "    </tr>\n",
       "    <tr>\n",
       "      <th>3</th>\n",
       "      <td>0</td>\n",
       "      <td>1</td>\n",
       "      <td>0.28</td>\n",
       "      <td>0.23</td>\n",
       "      <td>2019-09-06</td>\n",
       "    </tr>\n",
       "    <tr>\n",
       "      <th>4</th>\n",
       "      <td>0</td>\n",
       "      <td>1</td>\n",
       "      <td>0.28</td>\n",
       "      <td>0.23</td>\n",
       "      <td>2019-09-04</td>\n",
       "    </tr>\n",
       "  </tbody>\n",
       "</table>\n",
       "</div>"
      ],
      "text/plain": [
       "   event_code  p_throws  prop_events_nback  prop_events_sum_nback_pt  \\\n",
       "0           0         1               0.27                      0.23   \n",
       "1           0         1               0.27                      0.23   \n",
       "2           0         1               0.27                      0.23   \n",
       "3           0         1               0.28                      0.23   \n",
       "4           0         1               0.28                      0.23   \n",
       "\n",
       "   game_date  \n",
       "0 2019-09-09  \n",
       "1 2019-09-08  \n",
       "2 2019-09-07  \n",
       "3 2019-09-06  \n",
       "4 2019-09-04  "
      ]
     },
     "execution_count": 420,
     "metadata": {},
     "output_type": "execute_result"
    },
    {
     "data": {
      "application/javascript": [
       "\n",
       "            setTimeout(function() {\n",
       "                var nbb_cell_id = 420;\n",
       "                var nbb_unformatted_code = \"df_sc_events_4model_overall_bydate.head()\";\n",
       "                var nbb_formatted_code = \"df_sc_events_4model_overall_bydate.head()\";\n",
       "                var nbb_cells = Jupyter.notebook.get_cells();\n",
       "                for (var i = 0; i < nbb_cells.length; ++i) {\n",
       "                    if (nbb_cells[i].input_prompt_number == nbb_cell_id) {\n",
       "                        if (nbb_cells[i].get_text() == nbb_unformatted_code) {\n",
       "                             nbb_cells[i].set_text(nbb_formatted_code);\n",
       "                        }\n",
       "                        break;\n",
       "                    }\n",
       "                }\n",
       "            }, 500);\n",
       "            "
      ],
      "text/plain": [
       "<IPython.core.display.Javascript object>"
      ]
     },
     "metadata": {},
     "output_type": "display_data"
    }
   ],
   "source": [
    "df_sc_events_4model_overall_bydate.head()"
   ]
  },
  {
   "cell_type": "code",
   "execution_count": 421,
   "metadata": {
    "ExecuteTime": {
     "end_time": "2020-01-26T18:46:36.921303Z",
     "start_time": "2020-01-26T18:46:36.903273Z"
    }
   },
   "outputs": [
    {
     "data": {
      "text/plain": [
       "<pandas.core.groupby.generic.DataFrameGroupBy object at 0x1a218f03c8>"
      ]
     },
     "execution_count": 421,
     "metadata": {},
     "output_type": "execute_result"
    },
    {
     "data": {
      "application/javascript": [
       "\n",
       "            setTimeout(function() {\n",
       "                var nbb_cell_id = 421;\n",
       "                var nbb_unformatted_code = \"df_sc_events_4model_overall_bydate.groupby([\\\"game_date\\\", \\\"p_throws\\\"])\";\n",
       "                var nbb_formatted_code = \"df_sc_events_4model_overall_bydate.groupby([\\\"game_date\\\", \\\"p_throws\\\"])\";\n",
       "                var nbb_cells = Jupyter.notebook.get_cells();\n",
       "                for (var i = 0; i < nbb_cells.length; ++i) {\n",
       "                    if (nbb_cells[i].input_prompt_number == nbb_cell_id) {\n",
       "                        if (nbb_cells[i].get_text() == nbb_unformatted_code) {\n",
       "                             nbb_cells[i].set_text(nbb_formatted_code);\n",
       "                        }\n",
       "                        break;\n",
       "                    }\n",
       "                }\n",
       "            }, 500);\n",
       "            "
      ],
      "text/plain": [
       "<IPython.core.display.Javascript object>"
      ]
     },
     "metadata": {},
     "output_type": "display_data"
    }
   ],
   "source": [
    "df_sc_events_4model_overall_bydate.groupby([\"game_date\", \"p_throws\"])"
   ]
  },
  {
   "cell_type": "code",
   "execution_count": 439,
   "metadata": {
    "ExecuteTime": {
     "end_time": "2020-01-26T18:52:40.437724Z",
     "start_time": "2020-01-26T18:52:40.396186Z"
    }
   },
   "outputs": [
    {
     "data": {
      "application/javascript": [
       "\n",
       "            setTimeout(function() {\n",
       "                var nbb_cell_id = 439;\n",
       "                var nbb_unformatted_code = \"df_temp_sum = (\\n    df_sc_events_4model_overall_bydate.groupby([\\\"game_date\\\"])\\n    .sum()\\n    .sort_values(by=\\\"game_date\\\", ascending=False)\\n)\\n\\ndf_temp_count = (\\n    df_sc_events_4model_overall_bydate.groupby([\\\"game_date\\\"])\\n    .count()\\n    .sort_values(by=\\\"game_date\\\", ascending=False)\\n)\\n\\ndf_temp_mean = (\\n    df_sc_events_4model_overall_bydate.groupby([\\\"game_date\\\", \\\"p_throws\\\"])\\n    .mean()\\n    .sort_values(by=\\\"game_date\\\", ascending=False)\\n)\\n\\n# df_temp = (\\n#     df_sc_events_4model_overall_bydate.groupby([\\\"game_date\\\", \\\"p_throws\\\"])\\n#     .sum()\\n#     .sort_values(by=\\\"game_date\\\", ascending=False)\\n# )\";\n",
       "                var nbb_formatted_code = \"df_temp_sum = (\\n    df_sc_events_4model_overall_bydate.groupby([\\\"game_date\\\"])\\n    .sum()\\n    .sort_values(by=\\\"game_date\\\", ascending=False)\\n)\\n\\ndf_temp_count = (\\n    df_sc_events_4model_overall_bydate.groupby([\\\"game_date\\\"])\\n    .count()\\n    .sort_values(by=\\\"game_date\\\", ascending=False)\\n)\\n\\ndf_temp_mean = (\\n    df_sc_events_4model_overall_bydate.groupby([\\\"game_date\\\", \\\"p_throws\\\"])\\n    .mean()\\n    .sort_values(by=\\\"game_date\\\", ascending=False)\\n)\\n\\n# df_temp = (\\n#     df_sc_events_4model_overall_bydate.groupby([\\\"game_date\\\", \\\"p_throws\\\"])\\n#     .sum()\\n#     .sort_values(by=\\\"game_date\\\", ascending=False)\\n# )\";\n",
       "                var nbb_cells = Jupyter.notebook.get_cells();\n",
       "                for (var i = 0; i < nbb_cells.length; ++i) {\n",
       "                    if (nbb_cells[i].input_prompt_number == nbb_cell_id) {\n",
       "                        if (nbb_cells[i].get_text() == nbb_unformatted_code) {\n",
       "                             nbb_cells[i].set_text(nbb_formatted_code);\n",
       "                        }\n",
       "                        break;\n",
       "                    }\n",
       "                }\n",
       "            }, 500);\n",
       "            "
      ],
      "text/plain": [
       "<IPython.core.display.Javascript object>"
      ]
     },
     "metadata": {},
     "output_type": "display_data"
    }
   ],
   "source": [
    "df_temp_sum = (\n",
    "    df_sc_events_4model_overall_bydate.groupby([\"game_date\"])\n",
    "    .sum()\n",
    "    .sort_values(by=\"game_date\", ascending=False)\n",
    ")\n",
    "\n",
    "df_temp_count = (\n",
    "    df_sc_events_4model_overall_bydate.groupby([\"game_date\"])\n",
    "    .count()\n",
    "    .sort_values(by=\"game_date\", ascending=False)\n",
    ")\n",
    "\n",
    "df_temp_mean = (\n",
    "    df_sc_events_4model_overall_bydate.groupby([\"game_date\", \"p_throws\"])\n",
    "    .mean()\n",
    "    .sort_values(by=\"game_date\", ascending=False)\n",
    ")\n",
    "\n",
    "# df_temp = (\n",
    "#     df_sc_events_4model_overall_bydate.groupby([\"game_date\", \"p_throws\"])\n",
    "#     .sum()\n",
    "#     .sort_values(by=\"game_date\", ascending=False)\n",
    "# )\n",
    "\n"
   ]
  },
  {
   "cell_type": "code",
   "execution_count": 440,
   "metadata": {
    "ExecuteTime": {
     "end_time": "2020-01-26T18:52:43.114393Z",
     "start_time": "2020-01-26T18:52:43.088892Z"
    },
    "scrolled": true
   },
   "outputs": [
    {
     "data": {
      "text/html": [
       "<div>\n",
       "<style scoped>\n",
       "    .dataframe tbody tr th:only-of-type {\n",
       "        vertical-align: middle;\n",
       "    }\n",
       "\n",
       "    .dataframe tbody tr th {\n",
       "        vertical-align: top;\n",
       "    }\n",
       "\n",
       "    .dataframe thead th {\n",
       "        text-align: right;\n",
       "    }\n",
       "</style>\n",
       "<table border=\"1\" class=\"dataframe\">\n",
       "  <thead>\n",
       "    <tr style=\"text-align: right;\">\n",
       "      <th></th>\n",
       "      <th></th>\n",
       "      <th>event_code</th>\n",
       "      <th>prop_events_nback</th>\n",
       "      <th>prop_events_sum_nback_pt</th>\n",
       "    </tr>\n",
       "    <tr>\n",
       "      <th>game_date</th>\n",
       "      <th>p_throws</th>\n",
       "      <th></th>\n",
       "      <th></th>\n",
       "      <th></th>\n",
       "    </tr>\n",
       "  </thead>\n",
       "  <tbody>\n",
       "    <tr>\n",
       "      <th>2019-09-09</th>\n",
       "      <th>1</th>\n",
       "      <td>0.000000</td>\n",
       "      <td>0.270000</td>\n",
       "      <td>0.230000</td>\n",
       "    </tr>\n",
       "    <tr>\n",
       "      <th>2019-09-08</th>\n",
       "      <th>1</th>\n",
       "      <td>0.000000</td>\n",
       "      <td>0.270000</td>\n",
       "      <td>0.230000</td>\n",
       "    </tr>\n",
       "    <tr>\n",
       "      <th>2019-09-07</th>\n",
       "      <th>1</th>\n",
       "      <td>0.000000</td>\n",
       "      <td>0.270000</td>\n",
       "      <td>0.230000</td>\n",
       "    </tr>\n",
       "    <tr>\n",
       "      <th>2019-09-06</th>\n",
       "      <th>1</th>\n",
       "      <td>0.000000</td>\n",
       "      <td>0.280000</td>\n",
       "      <td>0.230000</td>\n",
       "    </tr>\n",
       "    <tr>\n",
       "      <th>2019-09-04</th>\n",
       "      <th>1</th>\n",
       "      <td>0.000000</td>\n",
       "      <td>0.286667</td>\n",
       "      <td>0.233333</td>\n",
       "    </tr>\n",
       "    <tr>\n",
       "      <th>...</th>\n",
       "      <th>...</th>\n",
       "      <td>...</td>\n",
       "      <td>...</td>\n",
       "      <td>...</td>\n",
       "    </tr>\n",
       "    <tr>\n",
       "      <th>2019-07-02</th>\n",
       "      <th>0</th>\n",
       "      <td>1.000000</td>\n",
       "      <td>0.290000</td>\n",
       "      <td>0.240000</td>\n",
       "    </tr>\n",
       "    <tr>\n",
       "      <th>2019-07-01</th>\n",
       "      <th>1</th>\n",
       "      <td>0.333333</td>\n",
       "      <td>0.290000</td>\n",
       "      <td>0.250000</td>\n",
       "    </tr>\n",
       "    <tr>\n",
       "      <th rowspan=\"2\" valign=\"top\">2019-06-30</th>\n",
       "      <th>1</th>\n",
       "      <td>0.000000</td>\n",
       "      <td>0.292500</td>\n",
       "      <td>0.257500</td>\n",
       "    </tr>\n",
       "    <tr>\n",
       "      <th>0</th>\n",
       "      <td>1.000000</td>\n",
       "      <td>0.290000</td>\n",
       "      <td>0.250000</td>\n",
       "    </tr>\n",
       "    <tr>\n",
       "      <th>2019-06-29</th>\n",
       "      <th>1</th>\n",
       "      <td>0.333333</td>\n",
       "      <td>0.293333</td>\n",
       "      <td>0.260000</td>\n",
       "    </tr>\n",
       "  </tbody>\n",
       "</table>\n",
       "<p>83 rows × 3 columns</p>\n",
       "</div>"
      ],
      "text/plain": [
       "                     event_code  prop_events_nback  prop_events_sum_nback_pt\n",
       "game_date  p_throws                                                         \n",
       "2019-09-09 1           0.000000           0.270000                  0.230000\n",
       "2019-09-08 1           0.000000           0.270000                  0.230000\n",
       "2019-09-07 1           0.000000           0.270000                  0.230000\n",
       "2019-09-06 1           0.000000           0.280000                  0.230000\n",
       "2019-09-04 1           0.000000           0.286667                  0.233333\n",
       "...                         ...                ...                       ...\n",
       "2019-07-02 0           1.000000           0.290000                  0.240000\n",
       "2019-07-01 1           0.333333           0.290000                  0.250000\n",
       "2019-06-30 1           0.000000           0.292500                  0.257500\n",
       "           0           1.000000           0.290000                  0.250000\n",
       "2019-06-29 1           0.333333           0.293333                  0.260000\n",
       "\n",
       "[83 rows x 3 columns]"
      ]
     },
     "execution_count": 440,
     "metadata": {},
     "output_type": "execute_result"
    },
    {
     "data": {
      "application/javascript": [
       "\n",
       "            setTimeout(function() {\n",
       "                var nbb_cell_id = 440;\n",
       "                var nbb_unformatted_code = \"df_temp_mean\";\n",
       "                var nbb_formatted_code = \"df_temp_mean\";\n",
       "                var nbb_cells = Jupyter.notebook.get_cells();\n",
       "                for (var i = 0; i < nbb_cells.length; ++i) {\n",
       "                    if (nbb_cells[i].input_prompt_number == nbb_cell_id) {\n",
       "                        if (nbb_cells[i].get_text() == nbb_unformatted_code) {\n",
       "                             nbb_cells[i].set_text(nbb_formatted_code);\n",
       "                        }\n",
       "                        break;\n",
       "                    }\n",
       "                }\n",
       "            }, 500);\n",
       "            "
      ],
      "text/plain": [
       "<IPython.core.display.Javascript object>"
      ]
     },
     "metadata": {},
     "output_type": "display_data"
    }
   ],
   "source": [
    "df_temp_mean"
   ]
  },
  {
   "cell_type": "code",
   "execution_count": 442,
   "metadata": {
    "ExecuteTime": {
     "end_time": "2020-01-26T18:53:12.189308Z",
     "start_time": "2020-01-26T18:53:11.939636Z"
    }
   },
   "outputs": [
    {
     "data": {
      "text/plain": [
       "<matplotlib.collections.PathCollection at 0x1a2b9cb080>"
      ]
     },
     "execution_count": 442,
     "metadata": {},
     "output_type": "execute_result"
    },
    {
     "data": {
      "image/png": "[encoded data removed]",
      "text/plain": [
       "<Figure size 432x288 with 1 Axes>"
      ]
     },
     "metadata": {
      "needs_background": "light"
     },
     "output_type": "display_data"
    },
    {
     "data": {
      "application/javascript": [
       "\n",
       "            setTimeout(function() {\n",
       "                var nbb_cell_id = 442;\n",
       "                var nbb_unformatted_code = \"f, ax1 = plt.subplots()\\n\\nax1.scatter(\\n    df_temp_mean[\\\"prop_events_nback\\\"],\\n    df_temp_mean[\\\"event_code\\\"]\\n    + np.random.normal(0, 0.01, len(df_temp_mean)),\\n    facecolors=\\\"none\\\",\\n    edgecolors=\\\"black\\\",\\n)\";\n",
       "                var nbb_formatted_code = \"f, ax1 = plt.subplots()\\n\\nax1.scatter(\\n    df_temp_mean[\\\"prop_events_nback\\\"],\\n    df_temp_mean[\\\"event_code\\\"] + np.random.normal(0, 0.01, len(df_temp_mean)),\\n    facecolors=\\\"none\\\",\\n    edgecolors=\\\"black\\\",\\n)\";\n",
       "                var nbb_cells = Jupyter.notebook.get_cells();\n",
       "                for (var i = 0; i < nbb_cells.length; ++i) {\n",
       "                    if (nbb_cells[i].input_prompt_number == nbb_cell_id) {\n",
       "                        if (nbb_cells[i].get_text() == nbb_unformatted_code) {\n",
       "                             nbb_cells[i].set_text(nbb_formatted_code);\n",
       "                        }\n",
       "                        break;\n",
       "                    }\n",
       "                }\n",
       "            }, 500);\n",
       "            "
      ],
      "text/plain": [
       "<IPython.core.display.Javascript object>"
      ]
     },
     "metadata": {},
     "output_type": "display_data"
    }
   ],
   "source": [
    "f, ax1 = plt.subplots()\n",
    "\n",
    "ax1.scatter(\n",
    "    df_temp_mean[\"prop_events_nback\"],\n",
    "    df_temp_mean[\"event_code\"]\n",
    "    + np.random.normal(0, 0.01, len(df_temp_mean)),\n",
    "    facecolors=\"none\",\n",
    "    edgecolors=\"black\",\n",
    ")\n",
    "\n"
   ]
  },
  {
   "cell_type": "code",
   "execution_count": 445,
   "metadata": {
    "ExecuteTime": {
     "end_time": "2020-01-26T18:54:20.602243Z",
     "start_time": "2020-01-26T18:54:20.592690Z"
    }
   },
   "outputs": [
    {
     "data": {
      "text/plain": [
       "(27, 3)"
      ]
     },
     "execution_count": 445,
     "metadata": {},
     "output_type": "execute_result"
    },
    {
     "data": {
      "application/javascript": [
       "\n",
       "            setTimeout(function() {\n",
       "                var nbb_cell_id = 445;\n",
       "                var nbb_unformatted_code = \"df_temp_mean_hand.shape\";\n",
       "                var nbb_formatted_code = \"df_temp_mean_hand.shape\";\n",
       "                var nbb_cells = Jupyter.notebook.get_cells();\n",
       "                for (var i = 0; i < nbb_cells.length; ++i) {\n",
       "                    if (nbb_cells[i].input_prompt_number == nbb_cell_id) {\n",
       "                        if (nbb_cells[i].get_text() == nbb_unformatted_code) {\n",
       "                             nbb_cells[i].set_text(nbb_formatted_code);\n",
       "                        }\n",
       "                        break;\n",
       "                    }\n",
       "                }\n",
       "            }, 500);\n",
       "            "
      ],
      "text/plain": [
       "<IPython.core.display.Javascript object>"
      ]
     },
     "metadata": {},
     "output_type": "display_data"
    }
   ],
   "source": [
    "df_temp_mean_hand.shape"
   ]
  },
  {
   "cell_type": "code",
   "execution_count": 447,
   "metadata": {
    "ExecuteTime": {
     "end_time": "2020-01-26T18:55:03.890986Z",
     "start_time": "2020-01-26T18:55:03.880979Z"
    },
    "collapsed": true
   },
   "outputs": [
    {
     "data": {
      "text/plain": [
       "[0.25,\n",
       " 0.25,\n",
       " 0.2475,\n",
       " 0.28,\n",
       " 0.29,\n",
       " 0.3,\n",
       " 0.28500000000000003,\n",
       " 0.29,\n",
       " 0.28,\n",
       " 0.29,\n",
       " 0.27,\n",
       " 0.27,\n",
       " 0.2733333333333334,\n",
       " 0.26,\n",
       " 0.26,\n",
       " 0.26,\n",
       " 0.23,\n",
       " 0.21666666666666667,\n",
       " 0.2225,\n",
       " 0.235,\n",
       " 0.23,\n",
       " 0.22,\n",
       " 0.235,\n",
       " 0.2333333333333333,\n",
       " 0.24,\n",
       " 0.24,\n",
       " 0.25]"
      ]
     },
     "execution_count": 447,
     "metadata": {},
     "output_type": "execute_result"
    },
    {
     "data": {
      "application/javascript": [
       "\n",
       "            setTimeout(function() {\n",
       "                var nbb_cell_id = 447;\n",
       "                var nbb_unformatted_code = \"df_temp_mean_hand[\\\"prop_events_sum_nback_pt\\\"].tolist()\";\n",
       "                var nbb_formatted_code = \"df_temp_mean_hand[\\\"prop_events_sum_nback_pt\\\"].tolist()\";\n",
       "                var nbb_cells = Jupyter.notebook.get_cells();\n",
       "                for (var i = 0; i < nbb_cells.length; ++i) {\n",
       "                    if (nbb_cells[i].input_prompt_number == nbb_cell_id) {\n",
       "                        if (nbb_cells[i].get_text() == nbb_unformatted_code) {\n",
       "                             nbb_cells[i].set_text(nbb_formatted_code);\n",
       "                        }\n",
       "                        break;\n",
       "                    }\n",
       "                }\n",
       "            }, 500);\n",
       "            "
      ],
      "text/plain": [
       "<IPython.core.display.Javascript object>"
      ]
     },
     "metadata": {},
     "output_type": "display_data"
    }
   ],
   "source": [
    "df_temp_mean_hand[\"prop_events_sum_nback_pt\"].tolist()"
   ]
  },
  {
   "cell_type": "code",
   "execution_count": 449,
   "metadata": {
    "ExecuteTime": {
     "end_time": "2020-01-26T18:55:59.683829Z",
     "start_time": "2020-01-26T18:55:59.303717Z"
    }
   },
   "outputs": [
    {
     "name": "stdout",
     "output_type": "stream",
     "text": [
      "0 (27, 3)\n",
      "1 (56, 3)\n"
     ]
    },
    {
     "data": {
      "image/png": "[encoded data removed]",
      "text/plain": [
       "<Figure size 864x288 with 2 Axes>"
      ]
     },
     "metadata": {
      "needs_background": "light"
     },
     "output_type": "display_data"
    },
    {
     "data": {
      "application/javascript": [
       "\n",
       "            setTimeout(function() {\n",
       "                var nbb_cell_id = 449;\n",
       "                var nbb_unformatted_code = \"f, (ax1, ax2) = plt.subplots(1, 2, figsize=(12, 4))\\n\\ncol_list = ['blue', 'red']\\n\\nfor hand in [0, 1]:\\n    df_temp_mean_hand = df_temp_mean.loc[df_temp_mean.index.get_level_values(1)==hand, :]\\n    print(hand, df_temp_mean_hand.shape)\\n    \\n    x_vals = df_temp_mean_hand[\\\"prop_events_sum_nback_pt\\\"].tolist()\\n    y_vals = df_temp_mean_hand[\\\"event_code\\\"].tolist()\\n    \\n    ax1.scatter(\\n    x_vals,\\n    y_vals,\\n    #+ np.random.normal(0, 0.001, len(df_temp_mean_hand)),\\n    facecolors=\\\"none\\\",\\n    edgecolors=col_list[hand])\\n    \\n    # trend line\\n#     z = np.polyfit(x_vals, y_vals, 1)\\n#     p = np.poly1d(z)\\n#     ax1.plot(x_vals, p(y_vals),\\\"--\\\")\\n    \\n\\n# ax1.scatter(\\n#     df_temp_mean[\\\"prop_events_nback\\\"],\\n#     df_temp_mean[\\\"event_code\\\"]\\n#     + np.random.normal(0, 0.1, len(df_temp_mean)),\\n#     facecolors=\\\"none\\\",\\n#     edgecolors=\\\"black\\\",\\n# )\";\n",
       "                var nbb_formatted_code = \"f, (ax1, ax2) = plt.subplots(1, 2, figsize=(12, 4))\\n\\ncol_list = [\\\"blue\\\", \\\"red\\\"]\\n\\nfor hand in [0, 1]:\\n    df_temp_mean_hand = df_temp_mean.loc[\\n        df_temp_mean.index.get_level_values(1) == hand, :\\n    ]\\n    print(hand, df_temp_mean_hand.shape)\\n\\n    x_vals = df_temp_mean_hand[\\\"prop_events_sum_nback_pt\\\"].tolist()\\n    y_vals = df_temp_mean_hand[\\\"event_code\\\"].tolist()\\n\\n    ax1.scatter(\\n        x_vals,\\n        y_vals,\\n        # + np.random.normal(0, 0.001, len(df_temp_mean_hand)),\\n        facecolors=\\\"none\\\",\\n        edgecolors=col_list[hand],\\n    )\\n\\n    # trend line\\n#     z = np.polyfit(x_vals, y_vals, 1)\\n#     p = np.poly1d(z)\\n#     ax1.plot(x_vals, p(y_vals),\\\"--\\\")\\n\\n\\n# ax1.scatter(\\n#     df_temp_mean[\\\"prop_events_nback\\\"],\\n#     df_temp_mean[\\\"event_code\\\"]\\n#     + np.random.normal(0, 0.1, len(df_temp_mean)),\\n#     facecolors=\\\"none\\\",\\n#     edgecolors=\\\"black\\\",\\n# )\";\n",
       "                var nbb_cells = Jupyter.notebook.get_cells();\n",
       "                for (var i = 0; i < nbb_cells.length; ++i) {\n",
       "                    if (nbb_cells[i].input_prompt_number == nbb_cell_id) {\n",
       "                        if (nbb_cells[i].get_text() == nbb_unformatted_code) {\n",
       "                             nbb_cells[i].set_text(nbb_formatted_code);\n",
       "                        }\n",
       "                        break;\n",
       "                    }\n",
       "                }\n",
       "            }, 500);\n",
       "            "
      ],
      "text/plain": [
       "<IPython.core.display.Javascript object>"
      ]
     },
     "metadata": {},
     "output_type": "display_data"
    }
   ],
   "source": [
    "f, (ax1, ax2) = plt.subplots(1, 2, figsize=(12, 4))\n",
    "\n",
    "col_list = ['blue', 'red']\n",
    "\n",
    "for hand in [0, 1]:\n",
    "    df_temp_mean_hand = df_temp_mean.loc[df_temp_mean.index.get_level_values(1)==hand, :]\n",
    "    print(hand, df_temp_mean_hand.shape)\n",
    "    \n",
    "    x_vals = df_temp_mean_hand[\"prop_events_sum_nback_pt\"].tolist()\n",
    "    y_vals = df_temp_mean_hand[\"event_code\"].tolist()\n",
    "    \n",
    "    ax1.scatter(\n",
    "    x_vals,\n",
    "    y_vals,\n",
    "    #+ np.random.normal(0, 0.001, len(df_temp_mean_hand)),\n",
    "    facecolors=\"none\",\n",
    "    edgecolors=col_list[hand])\n",
    "    \n",
    "    # trend line\n",
    "#     z = np.polyfit(x_vals, y_vals, 1)\n",
    "#     p = np.poly1d(z)\n",
    "#     ax1.plot(x_vals, p(y_vals),\"--\")\n",
    "    \n",
    "\n",
    "# ax1.scatter(\n",
    "#     df_temp_mean[\"prop_events_nback\"],\n",
    "#     df_temp_mean[\"event_code\"]\n",
    "#     + np.random.normal(0, 0.1, len(df_temp_mean)),\n",
    "#     facecolors=\"none\",\n",
    "#     edgecolors=\"black\",\n",
    "# )\n"
   ]
  },
  {
   "cell_type": "markdown",
   "metadata": {},
   "source": [
    "## Other ideas\n",
    "\n"
   ]
  },
  {
   "cell_type": "markdown",
   "metadata": {},
   "source": [
    "\n",
    "- Look at probabilities, instead of looking for 1 (done - not strong)\n",
    "- Aggregate per game (potentially something there - not sure)\n",
    "- Look at Ty France\n",
    "- Add in pitcher info \n",
    "- See what pitches they're hitting, then see how that matches with pitchers \n",
    "- Remember that ultimately, we want to see that we're picking the right player - someone who has a higher probability overall will be better choice\n",
    "\n",
    "\n",
    "**Motivation: Learning analytics requries some skills I can develop here**"
   ]
  },
  {
   "cell_type": "code",
   "execution_count": null,
   "metadata": {},
   "outputs": [],
   "source": []
  },
  {
   "cell_type": "markdown",
   "metadata": {
    "ExecuteTime": {
     "end_time": "2020-01-26T07:56:13.269531Z",
     "start_time": "2020-01-26T07:56:13.263934Z"
    }
   },
   "source": [
    "## Logistic regression"
   ]
  },
  {
   "cell_type": "code",
   "execution_count": 543,
   "metadata": {
    "ExecuteTime": {
     "end_time": "2020-01-27T05:02:25.498943Z",
     "start_time": "2020-01-27T05:02:25.488569Z"
    }
   },
   "outputs": [
    {
     "data": {
      "application/javascript": [
       "\n",
       "            setTimeout(function() {\n",
       "                var nbb_cell_id = 543;\n",
       "                var nbb_unformatted_code = \"from sklearn.linear_model import LogisticRegression\\nfrom sklearn.preprocessing import StandardScaler\\nfrom sklearn.model_selection import train_test_split\\nfrom sklearn import metrics\\nfrom sklearn.metrics import accuracy_score\\nfrom sklearn.metrics import classification_report\";\n",
       "                var nbb_formatted_code = \"from sklearn.linear_model import LogisticRegression\\nfrom sklearn.preprocessing import StandardScaler\\nfrom sklearn.model_selection import train_test_split\\nfrom sklearn import metrics\\nfrom sklearn.metrics import accuracy_score\\nfrom sklearn.metrics import classification_report\";\n",
       "                var nbb_cells = Jupyter.notebook.get_cells();\n",
       "                for (var i = 0; i < nbb_cells.length; ++i) {\n",
       "                    if (nbb_cells[i].input_prompt_number == nbb_cell_id) {\n",
       "                        if (nbb_cells[i].get_text() == nbb_unformatted_code) {\n",
       "                             nbb_cells[i].set_text(nbb_formatted_code);\n",
       "                        }\n",
       "                        break;\n",
       "                    }\n",
       "                }\n",
       "            }, 500);\n",
       "            "
      ],
      "text/plain": [
       "<IPython.core.display.Javascript object>"
      ]
     },
     "metadata": {},
     "output_type": "display_data"
    }
   ],
   "source": [
    "from sklearn.linear_model import LogisticRegression\n",
    "from sklearn.preprocessing import StandardScaler\n",
    "from sklearn.model_selection import train_test_split\n",
    "from sklearn import metrics\n",
    "from sklearn.metrics import accuracy_score\n",
    "from sklearn.metrics import classification_report"
   ]
  },
  {
   "cell_type": "code",
   "execution_count": 318,
   "metadata": {
    "ExecuteTime": {
     "end_time": "2020-01-26T08:05:50.660468Z",
     "start_time": "2020-01-26T08:05:50.650223Z"
    }
   },
   "outputs": [
    {
     "data": {
      "application/javascript": [
       "\n",
       "            setTimeout(function() {\n",
       "                var nbb_cell_id = 318;\n",
       "                var nbb_unformatted_code = \"y = df_sc_events_4model_overall[\\\"event_code\\\"]\\nX = df_sc_events_4model_overall.iloc[:, 1::]\";\n",
       "                var nbb_formatted_code = \"y = df_sc_events_4model_overall[\\\"event_code\\\"]\\nX = df_sc_events_4model_overall.iloc[:, 1::]\";\n",
       "                var nbb_cells = Jupyter.notebook.get_cells();\n",
       "                for (var i = 0; i < nbb_cells.length; ++i) {\n",
       "                    if (nbb_cells[i].input_prompt_number == nbb_cell_id) {\n",
       "                        if (nbb_cells[i].get_text() == nbb_unformatted_code) {\n",
       "                             nbb_cells[i].set_text(nbb_formatted_code);\n",
       "                        }\n",
       "                        break;\n",
       "                    }\n",
       "                }\n",
       "            }, 500);\n",
       "            "
      ],
      "text/plain": [
       "<IPython.core.display.Javascript object>"
      ]
     },
     "metadata": {},
     "output_type": "display_data"
    }
   ],
   "source": [
    "y = df_sc_events_4model_overall[\"event_code\"]\n",
    "X = df_sc_events_4model_overall.iloc[:, 1::]"
   ]
  },
  {
   "cell_type": "code",
   "execution_count": 319,
   "metadata": {
    "ExecuteTime": {
     "end_time": "2020-01-26T08:05:51.172015Z",
     "start_time": "2020-01-26T08:05:51.160398Z"
    }
   },
   "outputs": [
    {
     "data": {
      "application/javascript": [
       "\n",
       "            setTimeout(function() {\n",
       "                var nbb_cell_id = 319;\n",
       "                var nbb_unformatted_code = \"X_train, X_test, y_train, y_test = train_test_split(X, y, test_size=0.3)\";\n",
       "                var nbb_formatted_code = \"X_train, X_test, y_train, y_test = train_test_split(X, y, test_size=0.3)\";\n",
       "                var nbb_cells = Jupyter.notebook.get_cells();\n",
       "                for (var i = 0; i < nbb_cells.length; ++i) {\n",
       "                    if (nbb_cells[i].input_prompt_number == nbb_cell_id) {\n",
       "                        if (nbb_cells[i].get_text() == nbb_unformatted_code) {\n",
       "                             nbb_cells[i].set_text(nbb_formatted_code);\n",
       "                        }\n",
       "                        break;\n",
       "                    }\n",
       "                }\n",
       "            }, 500);\n",
       "            "
      ],
      "text/plain": [
       "<IPython.core.display.Javascript object>"
      ]
     },
     "metadata": {},
     "output_type": "display_data"
    }
   ],
   "source": [
    "X_train, X_test, y_train, y_test = train_test_split(X, y, test_size=0.3)"
   ]
  },
  {
   "cell_type": "code",
   "execution_count": 320,
   "metadata": {
    "ExecuteTime": {
     "end_time": "2020-01-26T08:05:51.654653Z",
     "start_time": "2020-01-26T08:05:51.644786Z"
    }
   },
   "outputs": [
    {
     "name": "stdout",
     "output_type": "stream",
     "text": [
      "(70, 3) (31, 3) (70,) (31,)\n"
     ]
    },
    {
     "data": {
      "application/javascript": [
       "\n",
       "            setTimeout(function() {\n",
       "                var nbb_cell_id = 320;\n",
       "                var nbb_unformatted_code = \"print(X_train.shape, X_test.shape, y_train.shape, y_test.shape)\";\n",
       "                var nbb_formatted_code = \"print(X_train.shape, X_test.shape, y_train.shape, y_test.shape)\";\n",
       "                var nbb_cells = Jupyter.notebook.get_cells();\n",
       "                for (var i = 0; i < nbb_cells.length; ++i) {\n",
       "                    if (nbb_cells[i].input_prompt_number == nbb_cell_id) {\n",
       "                        if (nbb_cells[i].get_text() == nbb_unformatted_code) {\n",
       "                             nbb_cells[i].set_text(nbb_formatted_code);\n",
       "                        }\n",
       "                        break;\n",
       "                    }\n",
       "                }\n",
       "            }, 500);\n",
       "            "
      ],
      "text/plain": [
       "<IPython.core.display.Javascript object>"
      ]
     },
     "metadata": {},
     "output_type": "display_data"
    }
   ],
   "source": [
    "print(X_train.shape, X_test.shape, y_train.shape, y_test.shape)"
   ]
  },
  {
   "cell_type": "code",
   "execution_count": 321,
   "metadata": {
    "ExecuteTime": {
     "end_time": "2020-01-26T08:05:52.775298Z",
     "start_time": "2020-01-26T08:05:52.760249Z"
    }
   },
   "outputs": [
    {
     "data": {
      "text/plain": [
       "LogisticRegression(C=1.0, class_weight=None, dual=False, fit_intercept=True,\n",
       "                   intercept_scaling=1, l1_ratio=None, max_iter=100,\n",
       "                   multi_class='auto', n_jobs=None, penalty='l2',\n",
       "                   random_state=None, solver='lbfgs', tol=0.0001, verbose=0,\n",
       "                   warm_start=False)"
      ]
     },
     "execution_count": 321,
     "metadata": {},
     "output_type": "execute_result"
    },
    {
     "data": {
      "application/javascript": [
       "\n",
       "            setTimeout(function() {\n",
       "                var nbb_cell_id = 321;\n",
       "                var nbb_unformatted_code = \"log_reg = LogisticRegression()\\nlog_reg.fit(X_train, y_train)\";\n",
       "                var nbb_formatted_code = \"log_reg = LogisticRegression()\\nlog_reg.fit(X_train, y_train)\";\n",
       "                var nbb_cells = Jupyter.notebook.get_cells();\n",
       "                for (var i = 0; i < nbb_cells.length; ++i) {\n",
       "                    if (nbb_cells[i].input_prompt_number == nbb_cell_id) {\n",
       "                        if (nbb_cells[i].get_text() == nbb_unformatted_code) {\n",
       "                             nbb_cells[i].set_text(nbb_formatted_code);\n",
       "                        }\n",
       "                        break;\n",
       "                    }\n",
       "                }\n",
       "            }, 500);\n",
       "            "
      ],
      "text/plain": [
       "<IPython.core.display.Javascript object>"
      ]
     },
     "metadata": {},
     "output_type": "display_data"
    }
   ],
   "source": [
    "log_reg = LogisticRegression()\n",
    "log_reg.fit(X_train, y_train)"
   ]
  },
  {
   "cell_type": "code",
   "execution_count": 322,
   "metadata": {
    "ExecuteTime": {
     "end_time": "2020-01-26T08:05:54.739929Z",
     "start_time": "2020-01-26T08:05:54.730230Z"
    }
   },
   "outputs": [
    {
     "data": {
      "application/javascript": [
       "\n",
       "            setTimeout(function() {\n",
       "                var nbb_cell_id = 322;\n",
       "                var nbb_unformatted_code = \"y_pred = log_reg.predict(X_test)\";\n",
       "                var nbb_formatted_code = \"y_pred = log_reg.predict(X_test)\";\n",
       "                var nbb_cells = Jupyter.notebook.get_cells();\n",
       "                for (var i = 0; i < nbb_cells.length; ++i) {\n",
       "                    if (nbb_cells[i].input_prompt_number == nbb_cell_id) {\n",
       "                        if (nbb_cells[i].get_text() == nbb_unformatted_code) {\n",
       "                             nbb_cells[i].set_text(nbb_formatted_code);\n",
       "                        }\n",
       "                        break;\n",
       "                    }\n",
       "                }\n",
       "            }, 500);\n",
       "            "
      ],
      "text/plain": [
       "<IPython.core.display.Javascript object>"
      ]
     },
     "metadata": {},
     "output_type": "display_data"
    }
   ],
   "source": [
    "y_pred = log_reg.predict(X_test)"
   ]
  },
  {
   "cell_type": "code",
   "execution_count": 323,
   "metadata": {
    "ExecuteTime": {
     "end_time": "2020-01-26T08:05:55.335997Z",
     "start_time": "2020-01-26T08:05:55.326420Z"
    }
   },
   "outputs": [
    {
     "data": {
      "application/javascript": [
       "\n",
       "            setTimeout(function() {\n",
       "                var nbb_cell_id = 323;\n",
       "                var nbb_unformatted_code = \"y_prob = log_reg.predict_proba(X_test)[:, 1]\";\n",
       "                var nbb_formatted_code = \"y_prob = log_reg.predict_proba(X_test)[:, 1]\";\n",
       "                var nbb_cells = Jupyter.notebook.get_cells();\n",
       "                for (var i = 0; i < nbb_cells.length; ++i) {\n",
       "                    if (nbb_cells[i].input_prompt_number == nbb_cell_id) {\n",
       "                        if (nbb_cells[i].get_text() == nbb_unformatted_code) {\n",
       "                             nbb_cells[i].set_text(nbb_formatted_code);\n",
       "                        }\n",
       "                        break;\n",
       "                    }\n",
       "                }\n",
       "            }, 500);\n",
       "            "
      ],
      "text/plain": [
       "<IPython.core.display.Javascript object>"
      ]
     },
     "metadata": {},
     "output_type": "display_data"
    }
   ],
   "source": [
    "y_prob = log_reg.predict_proba(X_test)[:, 1]"
   ]
  },
  {
   "cell_type": "code",
   "execution_count": 471,
   "metadata": {
    "ExecuteTime": {
     "end_time": "2020-01-26T20:54:55.186715Z",
     "start_time": "2020-01-26T20:54:55.119188Z"
    }
   },
   "outputs": [
    {
     "data": {
      "text/html": [
       "<div>\n",
       "<style scoped>\n",
       "    .dataframe tbody tr th:only-of-type {\n",
       "        vertical-align: middle;\n",
       "    }\n",
       "\n",
       "    .dataframe tbody tr th {\n",
       "        vertical-align: top;\n",
       "    }\n",
       "\n",
       "    .dataframe thead th {\n",
       "        text-align: right;\n",
       "    }\n",
       "</style>\n",
       "<table border=\"1\" class=\"dataframe\">\n",
       "  <thead>\n",
       "    <tr style=\"text-align: right;\">\n",
       "      <th></th>\n",
       "      <th>test</th>\n",
       "      <th>pred</th>\n",
       "      <th>prob</th>\n",
       "    </tr>\n",
       "  </thead>\n",
       "  <tbody>\n",
       "    <tr>\n",
       "      <th>5</th>\n",
       "      <td>0</td>\n",
       "      <td>0</td>\n",
       "      <td>0.335620</td>\n",
       "    </tr>\n",
       "    <tr>\n",
       "      <th>55</th>\n",
       "      <td>0</td>\n",
       "      <td>0</td>\n",
       "      <td>0.335580</td>\n",
       "    </tr>\n",
       "    <tr>\n",
       "      <th>31</th>\n",
       "      <td>0</td>\n",
       "      <td>0</td>\n",
       "      <td>0.336508</td>\n",
       "    </tr>\n",
       "    <tr>\n",
       "      <th>70</th>\n",
       "      <td>1</td>\n",
       "      <td>0</td>\n",
       "      <td>0.335039</td>\n",
       "    </tr>\n",
       "    <tr>\n",
       "      <th>24</th>\n",
       "      <td>0</td>\n",
       "      <td>0</td>\n",
       "      <td>0.336277</td>\n",
       "    </tr>\n",
       "  </tbody>\n",
       "</table>\n",
       "</div>"
      ],
      "text/plain": [
       "    test  pred      prob\n",
       "5      0     0  0.335620\n",
       "55     0     0  0.335580\n",
       "31     0     0  0.336508\n",
       "70     1     0  0.335039\n",
       "24     0     0  0.336277"
      ]
     },
     "execution_count": 471,
     "metadata": {},
     "output_type": "execute_result"
    },
    {
     "data": {
      "application/javascript": [
       "\n",
       "            setTimeout(function() {\n",
       "                var nbb_cell_id = 471;\n",
       "                var nbb_unformatted_code = \"df_temp = pd.DataFrame({\\\"test\\\": y_test, \\\"pred\\\": y_pred, \\\"prob\\\": y_prob})\\ndf_temp.head()\";\n",
       "                var nbb_formatted_code = \"df_temp = pd.DataFrame({\\\"test\\\": y_test, \\\"pred\\\": y_pred, \\\"prob\\\": y_prob})\\ndf_temp.head()\";\n",
       "                var nbb_cells = Jupyter.notebook.get_cells();\n",
       "                for (var i = 0; i < nbb_cells.length; ++i) {\n",
       "                    if (nbb_cells[i].input_prompt_number == nbb_cell_id) {\n",
       "                        if (nbb_cells[i].get_text() == nbb_unformatted_code) {\n",
       "                             nbb_cells[i].set_text(nbb_formatted_code);\n",
       "                        }\n",
       "                        break;\n",
       "                    }\n",
       "                }\n",
       "            }, 500);\n",
       "            "
      ],
      "text/plain": [
       "<IPython.core.display.Javascript object>"
      ]
     },
     "metadata": {},
     "output_type": "display_data"
    }
   ],
   "source": [
    "df_temp = pd.DataFrame({\"test\": y_test, \"pred\": y_pred, \"prob\": y_prob})\n",
    "df_temp.head()"
   ]
  },
  {
   "cell_type": "code",
   "execution_count": 325,
   "metadata": {
    "ExecuteTime": {
     "end_time": "2020-01-26T08:06:06.988181Z",
     "start_time": "2020-01-26T08:06:06.979079Z"
    }
   },
   "outputs": [
    {
     "data": {
      "text/plain": [
       "0"
      ]
     },
     "execution_count": 325,
     "metadata": {},
     "output_type": "execute_result"
    },
    {
     "data": {
      "application/javascript": [
       "\n",
       "            setTimeout(function() {\n",
       "                var nbb_cell_id = 325;\n",
       "                var nbb_unformatted_code = \"df_temp[\\\"pred\\\"].sum()\";\n",
       "                var nbb_formatted_code = \"df_temp[\\\"pred\\\"].sum()\";\n",
       "                var nbb_cells = Jupyter.notebook.get_cells();\n",
       "                for (var i = 0; i < nbb_cells.length; ++i) {\n",
       "                    if (nbb_cells[i].input_prompt_number == nbb_cell_id) {\n",
       "                        if (nbb_cells[i].get_text() == nbb_unformatted_code) {\n",
       "                             nbb_cells[i].set_text(nbb_formatted_code);\n",
       "                        }\n",
       "                        break;\n",
       "                    }\n",
       "                }\n",
       "            }, 500);\n",
       "            "
      ],
      "text/plain": [
       "<IPython.core.display.Javascript object>"
      ]
     },
     "metadata": {},
     "output_type": "display_data"
    }
   ],
   "source": [
    "df_temp[\"pred\"].sum()"
   ]
  },
  {
   "cell_type": "code",
   "execution_count": 326,
   "metadata": {
    "ExecuteTime": {
     "end_time": "2020-01-26T08:06:08.016516Z",
     "start_time": "2020-01-26T08:06:07.852891Z"
    }
   },
   "outputs": [
    {
     "data": {
      "text/plain": [
       "<matplotlib.collections.PathCollection at 0x1a2c1bba58>"
      ]
     },
     "execution_count": 326,
     "metadata": {},
     "output_type": "execute_result"
    },
    {
     "data": {
      "image/png": "[encoded data removed]",
      "text/plain": [
       "<Figure size 432x288 with 1 Axes>"
      ]
     },
     "metadata": {
      "needs_background": "light"
     },
     "output_type": "display_data"
    },
    {
     "data": {
      "application/javascript": [
       "\n",
       "            setTimeout(function() {\n",
       "                var nbb_cell_id = 326;\n",
       "                var nbb_unformatted_code = \"f, ax1 = plt.subplots()\\nax1.scatter(df_temp[\\\"prob\\\"], df_temp[\\\"test\\\"])\";\n",
       "                var nbb_formatted_code = \"f, ax1 = plt.subplots()\\nax1.scatter(df_temp[\\\"prob\\\"], df_temp[\\\"test\\\"])\";\n",
       "                var nbb_cells = Jupyter.notebook.get_cells();\n",
       "                for (var i = 0; i < nbb_cells.length; ++i) {\n",
       "                    if (nbb_cells[i].input_prompt_number == nbb_cell_id) {\n",
       "                        if (nbb_cells[i].get_text() == nbb_unformatted_code) {\n",
       "                             nbb_cells[i].set_text(nbb_formatted_code);\n",
       "                        }\n",
       "                        break;\n",
       "                    }\n",
       "                }\n",
       "            }, 500);\n",
       "            "
      ],
      "text/plain": [
       "<IPython.core.display.Javascript object>"
      ]
     },
     "metadata": {},
     "output_type": "display_data"
    }
   ],
   "source": [
    "f, ax1 = plt.subplots()\n",
    "ax1.scatter(df_temp[\"prob\"], df_temp[\"test\"])"
   ]
  },
  {
   "cell_type": "code",
   "execution_count": 293,
   "metadata": {
    "ExecuteTime": {
     "end_time": "2020-01-26T08:01:31.098773Z",
     "start_time": "2020-01-26T08:01:31.088958Z"
    }
   },
   "outputs": [
    {
     "data": {
      "text/plain": [
       "0"
      ]
     },
     "execution_count": 293,
     "metadata": {},
     "output_type": "execute_result"
    },
    {
     "data": {
      "application/javascript": [
       "\n",
       "            setTimeout(function() {\n",
       "                var nbb_cell_id = 293;\n",
       "                var nbb_unformatted_code = \"df_temp['pred'].sum()\";\n",
       "                var nbb_formatted_code = \"df_temp[\\\"pred\\\"].sum()\";\n",
       "                var nbb_cells = Jupyter.notebook.get_cells();\n",
       "                for (var i = 0; i < nbb_cells.length; ++i) {\n",
       "                    if (nbb_cells[i].input_prompt_number == nbb_cell_id) {\n",
       "                        if (nbb_cells[i].get_text() == nbb_unformatted_code) {\n",
       "                             nbb_cells[i].set_text(nbb_formatted_code);\n",
       "                        }\n",
       "                        break;\n",
       "                    }\n",
       "                }\n",
       "            }, 500);\n",
       "            "
      ],
      "text/plain": [
       "<IPython.core.display.Javascript object>"
      ]
     },
     "metadata": {},
     "output_type": "display_data"
    }
   ],
   "source": [
    "df_temp[\"pred\"].sum()"
   ]
  },
  {
   "cell_type": "code",
   "execution_count": 227,
   "metadata": {
    "ExecuteTime": {
     "end_time": "2020-01-26T07:23:25.547270Z",
     "start_time": "2020-01-26T07:23:25.514199Z"
    },
    "collapsed": true
   },
   "outputs": [
    {
     "data": {
      "text/html": [
       "<div>\n",
       "<style scoped>\n",
       "    .dataframe tbody tr th:only-of-type {\n",
       "        vertical-align: middle;\n",
       "    }\n",
       "\n",
       "    .dataframe tbody tr th {\n",
       "        vertical-align: top;\n",
       "    }\n",
       "\n",
       "    .dataframe thead th {\n",
       "        text-align: right;\n",
       "    }\n",
       "</style>\n",
       "<table border=\"1\" class=\"dataframe\">\n",
       "  <thead>\n",
       "    <tr style=\"text-align: right;\">\n",
       "      <th></th>\n",
       "      <th>event_code</th>\n",
       "      <th>p_throws</th>\n",
       "      <th>num_events_sum_nback</th>\n",
       "      <th>prop_events_nback</th>\n",
       "      <th>num_events_sum_nback_pt</th>\n",
       "      <th>prop_events_sum_nback_pt</th>\n",
       "    </tr>\n",
       "  </thead>\n",
       "  <tbody>\n",
       "    <tr>\n",
       "      <th>0</th>\n",
       "      <td>1</td>\n",
       "      <td>R</td>\n",
       "      <td>5.0</td>\n",
       "      <td>0.5</td>\n",
       "      <td>5.0</td>\n",
       "      <td>0.5</td>\n",
       "    </tr>\n",
       "    <tr>\n",
       "      <th>1</th>\n",
       "      <td>1</td>\n",
       "      <td>R</td>\n",
       "      <td>4.0</td>\n",
       "      <td>0.4</td>\n",
       "      <td>4.0</td>\n",
       "      <td>0.4</td>\n",
       "    </tr>\n",
       "    <tr>\n",
       "      <th>2</th>\n",
       "      <td>0</td>\n",
       "      <td>R</td>\n",
       "      <td>3.0</td>\n",
       "      <td>0.3</td>\n",
       "      <td>3.0</td>\n",
       "      <td>0.3</td>\n",
       "    </tr>\n",
       "    <tr>\n",
       "      <th>3</th>\n",
       "      <td>1</td>\n",
       "      <td>R</td>\n",
       "      <td>3.0</td>\n",
       "      <td>0.3</td>\n",
       "      <td>3.0</td>\n",
       "      <td>0.3</td>\n",
       "    </tr>\n",
       "    <tr>\n",
       "      <th>4</th>\n",
       "      <td>1</td>\n",
       "      <td>R</td>\n",
       "      <td>2.0</td>\n",
       "      <td>0.2</td>\n",
       "      <td>2.0</td>\n",
       "      <td>0.2</td>\n",
       "    </tr>\n",
       "    <tr>\n",
       "      <th>5</th>\n",
       "      <td>0</td>\n",
       "      <td>R</td>\n",
       "      <td>1.0</td>\n",
       "      <td>0.1</td>\n",
       "      <td>1.0</td>\n",
       "      <td>0.1</td>\n",
       "    </tr>\n",
       "    <tr>\n",
       "      <th>6</th>\n",
       "      <td>0</td>\n",
       "      <td>R</td>\n",
       "      <td>1.0</td>\n",
       "      <td>0.1</td>\n",
       "      <td>1.0</td>\n",
       "      <td>0.1</td>\n",
       "    </tr>\n",
       "    <tr>\n",
       "      <th>7</th>\n",
       "      <td>0</td>\n",
       "      <td>R</td>\n",
       "      <td>2.0</td>\n",
       "      <td>0.2</td>\n",
       "      <td>2.0</td>\n",
       "      <td>0.2</td>\n",
       "    </tr>\n",
       "    <tr>\n",
       "      <th>8</th>\n",
       "      <td>0</td>\n",
       "      <td>R</td>\n",
       "      <td>3.0</td>\n",
       "      <td>0.3</td>\n",
       "      <td>3.0</td>\n",
       "      <td>0.3</td>\n",
       "    </tr>\n",
       "    <tr>\n",
       "      <th>9</th>\n",
       "      <td>1</td>\n",
       "      <td>R</td>\n",
       "      <td>3.0</td>\n",
       "      <td>0.3</td>\n",
       "      <td>3.0</td>\n",
       "      <td>0.3</td>\n",
       "    </tr>\n",
       "    <tr>\n",
       "      <th>10</th>\n",
       "      <td>0</td>\n",
       "      <td>R</td>\n",
       "      <td>2.0</td>\n",
       "      <td>0.2</td>\n",
       "      <td>2.0</td>\n",
       "      <td>0.2</td>\n",
       "    </tr>\n",
       "    <tr>\n",
       "      <th>11</th>\n",
       "      <td>0</td>\n",
       "      <td>R</td>\n",
       "      <td>2.0</td>\n",
       "      <td>0.2</td>\n",
       "      <td>2.0</td>\n",
       "      <td>0.2</td>\n",
       "    </tr>\n",
       "    <tr>\n",
       "      <th>12</th>\n",
       "      <td>0</td>\n",
       "      <td>R</td>\n",
       "      <td>2.0</td>\n",
       "      <td>0.2</td>\n",
       "      <td>2.0</td>\n",
       "      <td>0.2</td>\n",
       "    </tr>\n",
       "    <tr>\n",
       "      <th>13</th>\n",
       "      <td>0</td>\n",
       "      <td>R</td>\n",
       "      <td>2.0</td>\n",
       "      <td>0.2</td>\n",
       "      <td>2.0</td>\n",
       "      <td>0.2</td>\n",
       "    </tr>\n",
       "    <tr>\n",
       "      <th>14</th>\n",
       "      <td>0</td>\n",
       "      <td>R</td>\n",
       "      <td>2.0</td>\n",
       "      <td>0.2</td>\n",
       "      <td>2.0</td>\n",
       "      <td>0.2</td>\n",
       "    </tr>\n",
       "    <tr>\n",
       "      <th>15</th>\n",
       "      <td>0</td>\n",
       "      <td>R</td>\n",
       "      <td>2.0</td>\n",
       "      <td>0.2</td>\n",
       "      <td>2.0</td>\n",
       "      <td>0.2</td>\n",
       "    </tr>\n",
       "    <tr>\n",
       "      <th>16</th>\n",
       "      <td>1</td>\n",
       "      <td>R</td>\n",
       "      <td>3.0</td>\n",
       "      <td>0.3</td>\n",
       "      <td>3.0</td>\n",
       "      <td>0.3</td>\n",
       "    </tr>\n",
       "    <tr>\n",
       "      <th>17</th>\n",
       "      <td>1</td>\n",
       "      <td>R</td>\n",
       "      <td>2.0</td>\n",
       "      <td>0.2</td>\n",
       "      <td>2.0</td>\n",
       "      <td>0.2</td>\n",
       "    </tr>\n",
       "    <tr>\n",
       "      <th>18</th>\n",
       "      <td>0</td>\n",
       "      <td>R</td>\n",
       "      <td>1.0</td>\n",
       "      <td>0.1</td>\n",
       "      <td>1.0</td>\n",
       "      <td>0.1</td>\n",
       "    </tr>\n",
       "    <tr>\n",
       "      <th>19</th>\n",
       "      <td>0</td>\n",
       "      <td>R</td>\n",
       "      <td>2.0</td>\n",
       "      <td>0.2</td>\n",
       "      <td>2.0</td>\n",
       "      <td>0.2</td>\n",
       "    </tr>\n",
       "    <tr>\n",
       "      <th>20</th>\n",
       "      <td>0</td>\n",
       "      <td>R</td>\n",
       "      <td>3.0</td>\n",
       "      <td>0.3</td>\n",
       "      <td>2.0</td>\n",
       "      <td>0.2</td>\n",
       "    </tr>\n",
       "    <tr>\n",
       "      <th>21</th>\n",
       "      <td>0</td>\n",
       "      <td>R</td>\n",
       "      <td>3.0</td>\n",
       "      <td>0.3</td>\n",
       "      <td>2.0</td>\n",
       "      <td>0.2</td>\n",
       "    </tr>\n",
       "    <tr>\n",
       "      <th>22</th>\n",
       "      <td>0</td>\n",
       "      <td>R</td>\n",
       "      <td>3.0</td>\n",
       "      <td>0.3</td>\n",
       "      <td>2.0</td>\n",
       "      <td>0.2</td>\n",
       "    </tr>\n",
       "    <tr>\n",
       "      <th>23</th>\n",
       "      <td>0</td>\n",
       "      <td>R</td>\n",
       "      <td>3.0</td>\n",
       "      <td>0.3</td>\n",
       "      <td>2.0</td>\n",
       "      <td>0.2</td>\n",
       "    </tr>\n",
       "    <tr>\n",
       "      <th>24</th>\n",
       "      <td>0</td>\n",
       "      <td>R</td>\n",
       "      <td>3.0</td>\n",
       "      <td>0.3</td>\n",
       "      <td>3.0</td>\n",
       "      <td>0.3</td>\n",
       "    </tr>\n",
       "    <tr>\n",
       "      <th>25</th>\n",
       "      <td>1</td>\n",
       "      <td>R</td>\n",
       "      <td>4.0</td>\n",
       "      <td>0.4</td>\n",
       "      <td>4.0</td>\n",
       "      <td>0.4</td>\n",
       "    </tr>\n",
       "    <tr>\n",
       "      <th>26</th>\n",
       "      <td>0</td>\n",
       "      <td>R</td>\n",
       "      <td>3.0</td>\n",
       "      <td>0.3</td>\n",
       "      <td>4.0</td>\n",
       "      <td>0.4</td>\n",
       "    </tr>\n",
       "    <tr>\n",
       "      <th>27</th>\n",
       "      <td>0</td>\n",
       "      <td>R</td>\n",
       "      <td>4.0</td>\n",
       "      <td>0.4</td>\n",
       "      <td>4.0</td>\n",
       "      <td>0.4</td>\n",
       "    </tr>\n",
       "    <tr>\n",
       "      <th>28</th>\n",
       "      <td>1</td>\n",
       "      <td>R</td>\n",
       "      <td>5.0</td>\n",
       "      <td>0.5</td>\n",
       "      <td>4.0</td>\n",
       "      <td>0.4</td>\n",
       "    </tr>\n",
       "    <tr>\n",
       "      <th>29</th>\n",
       "      <td>1</td>\n",
       "      <td>L</td>\n",
       "      <td>5.0</td>\n",
       "      <td>0.5</td>\n",
       "      <td>3.0</td>\n",
       "      <td>0.3</td>\n",
       "    </tr>\n",
       "    <tr>\n",
       "      <th>30</th>\n",
       "      <td>0</td>\n",
       "      <td>R</td>\n",
       "      <td>4.0</td>\n",
       "      <td>0.4</td>\n",
       "      <td>4.0</td>\n",
       "      <td>0.4</td>\n",
       "    </tr>\n",
       "    <tr>\n",
       "      <th>31</th>\n",
       "      <td>0</td>\n",
       "      <td>R</td>\n",
       "      <td>5.0</td>\n",
       "      <td>0.5</td>\n",
       "      <td>4.0</td>\n",
       "      <td>0.4</td>\n",
       "    </tr>\n",
       "    <tr>\n",
       "      <th>32</th>\n",
       "      <td>0</td>\n",
       "      <td>R</td>\n",
       "      <td>5.0</td>\n",
       "      <td>0.5</td>\n",
       "      <td>4.0</td>\n",
       "      <td>0.4</td>\n",
       "    </tr>\n",
       "    <tr>\n",
       "      <th>33</th>\n",
       "      <td>0</td>\n",
       "      <td>L</td>\n",
       "      <td>5.0</td>\n",
       "      <td>0.5</td>\n",
       "      <td>4.0</td>\n",
       "      <td>0.4</td>\n",
       "    </tr>\n",
       "    <tr>\n",
       "      <th>34</th>\n",
       "      <td>1</td>\n",
       "      <td>L</td>\n",
       "      <td>5.0</td>\n",
       "      <td>0.5</td>\n",
       "      <td>4.0</td>\n",
       "      <td>0.4</td>\n",
       "    </tr>\n",
       "    <tr>\n",
       "      <th>35</th>\n",
       "      <td>0</td>\n",
       "      <td>R</td>\n",
       "      <td>4.0</td>\n",
       "      <td>0.4</td>\n",
       "      <td>3.0</td>\n",
       "      <td>0.3</td>\n",
       "    </tr>\n",
       "    <tr>\n",
       "      <th>36</th>\n",
       "      <td>1</td>\n",
       "      <td>R</td>\n",
       "      <td>4.0</td>\n",
       "      <td>0.4</td>\n",
       "      <td>3.0</td>\n",
       "      <td>0.3</td>\n",
       "    </tr>\n",
       "    <tr>\n",
       "      <th>37</th>\n",
       "      <td>1</td>\n",
       "      <td>R</td>\n",
       "      <td>4.0</td>\n",
       "      <td>0.4</td>\n",
       "      <td>3.0</td>\n",
       "      <td>0.3</td>\n",
       "    </tr>\n",
       "    <tr>\n",
       "      <th>38</th>\n",
       "      <td>1</td>\n",
       "      <td>R</td>\n",
       "      <td>3.0</td>\n",
       "      <td>0.3</td>\n",
       "      <td>3.0</td>\n",
       "      <td>0.3</td>\n",
       "    </tr>\n",
       "    <tr>\n",
       "      <th>39</th>\n",
       "      <td>0</td>\n",
       "      <td>L</td>\n",
       "      <td>2.0</td>\n",
       "      <td>0.2</td>\n",
       "      <td>3.0</td>\n",
       "      <td>0.3</td>\n",
       "    </tr>\n",
       "    <tr>\n",
       "      <th>40</th>\n",
       "      <td>1</td>\n",
       "      <td>L</td>\n",
       "      <td>2.0</td>\n",
       "      <td>0.2</td>\n",
       "      <td>2.0</td>\n",
       "      <td>0.2</td>\n",
       "    </tr>\n",
       "    <tr>\n",
       "      <th>41</th>\n",
       "      <td>0</td>\n",
       "      <td>L</td>\n",
       "      <td>2.0</td>\n",
       "      <td>0.2</td>\n",
       "      <td>2.0</td>\n",
       "      <td>0.2</td>\n",
       "    </tr>\n",
       "    <tr>\n",
       "      <th>42</th>\n",
       "      <td>0</td>\n",
       "      <td>L</td>\n",
       "      <td>2.0</td>\n",
       "      <td>0.2</td>\n",
       "      <td>2.0</td>\n",
       "      <td>0.2</td>\n",
       "    </tr>\n",
       "    <tr>\n",
       "      <th>43</th>\n",
       "      <td>0</td>\n",
       "      <td>R</td>\n",
       "      <td>3.0</td>\n",
       "      <td>0.3</td>\n",
       "      <td>3.0</td>\n",
       "      <td>0.3</td>\n",
       "    </tr>\n",
       "    <tr>\n",
       "      <th>44</th>\n",
       "      <td>0</td>\n",
       "      <td>R</td>\n",
       "      <td>3.0</td>\n",
       "      <td>0.3</td>\n",
       "      <td>3.0</td>\n",
       "      <td>0.3</td>\n",
       "    </tr>\n",
       "    <tr>\n",
       "      <th>45</th>\n",
       "      <td>0</td>\n",
       "      <td>R</td>\n",
       "      <td>3.0</td>\n",
       "      <td>0.3</td>\n",
       "      <td>4.0</td>\n",
       "      <td>0.4</td>\n",
       "    </tr>\n",
       "    <tr>\n",
       "      <th>46</th>\n",
       "      <td>1</td>\n",
       "      <td>R</td>\n",
       "      <td>3.0</td>\n",
       "      <td>0.3</td>\n",
       "      <td>3.0</td>\n",
       "      <td>0.3</td>\n",
       "    </tr>\n",
       "    <tr>\n",
       "      <th>47</th>\n",
       "      <td>0</td>\n",
       "      <td>R</td>\n",
       "      <td>2.0</td>\n",
       "      <td>0.2</td>\n",
       "      <td>3.0</td>\n",
       "      <td>0.3</td>\n",
       "    </tr>\n",
       "    <tr>\n",
       "      <th>48</th>\n",
       "      <td>0</td>\n",
       "      <td>R</td>\n",
       "      <td>2.0</td>\n",
       "      <td>0.2</td>\n",
       "      <td>4.0</td>\n",
       "      <td>0.4</td>\n",
       "    </tr>\n",
       "    <tr>\n",
       "      <th>49</th>\n",
       "      <td>0</td>\n",
       "      <td>R</td>\n",
       "      <td>2.0</td>\n",
       "      <td>0.2</td>\n",
       "      <td>4.0</td>\n",
       "      <td>0.4</td>\n",
       "    </tr>\n",
       "    <tr>\n",
       "      <th>50</th>\n",
       "      <td>1</td>\n",
       "      <td>R</td>\n",
       "      <td>3.0</td>\n",
       "      <td>0.3</td>\n",
       "      <td>5.0</td>\n",
       "      <td>0.5</td>\n",
       "    </tr>\n",
       "  </tbody>\n",
       "</table>\n",
       "</div>"
      ],
      "text/plain": [
       "    event_code p_throws  num_events_sum_nback  prop_events_nback  \\\n",
       "0            1        R                   5.0                0.5   \n",
       "1            1        R                   4.0                0.4   \n",
       "2            0        R                   3.0                0.3   \n",
       "3            1        R                   3.0                0.3   \n",
       "4            1        R                   2.0                0.2   \n",
       "5            0        R                   1.0                0.1   \n",
       "6            0        R                   1.0                0.1   \n",
       "7            0        R                   2.0                0.2   \n",
       "8            0        R                   3.0                0.3   \n",
       "9            1        R                   3.0                0.3   \n",
       "10           0        R                   2.0                0.2   \n",
       "11           0        R                   2.0                0.2   \n",
       "12           0        R                   2.0                0.2   \n",
       "13           0        R                   2.0                0.2   \n",
       "14           0        R                   2.0                0.2   \n",
       "15           0        R                   2.0                0.2   \n",
       "16           1        R                   3.0                0.3   \n",
       "17           1        R                   2.0                0.2   \n",
       "18           0        R                   1.0                0.1   \n",
       "19           0        R                   2.0                0.2   \n",
       "20           0        R                   3.0                0.3   \n",
       "21           0        R                   3.0                0.3   \n",
       "22           0        R                   3.0                0.3   \n",
       "23           0        R                   3.0                0.3   \n",
       "24           0        R                   3.0                0.3   \n",
       "25           1        R                   4.0                0.4   \n",
       "26           0        R                   3.0                0.3   \n",
       "27           0        R                   4.0                0.4   \n",
       "28           1        R                   5.0                0.5   \n",
       "29           1        L                   5.0                0.5   \n",
       "30           0        R                   4.0                0.4   \n",
       "31           0        R                   5.0                0.5   \n",
       "32           0        R                   5.0                0.5   \n",
       "33           0        L                   5.0                0.5   \n",
       "34           1        L                   5.0                0.5   \n",
       "35           0        R                   4.0                0.4   \n",
       "36           1        R                   4.0                0.4   \n",
       "37           1        R                   4.0                0.4   \n",
       "38           1        R                   3.0                0.3   \n",
       "39           0        L                   2.0                0.2   \n",
       "40           1        L                   2.0                0.2   \n",
       "41           0        L                   2.0                0.2   \n",
       "42           0        L                   2.0                0.2   \n",
       "43           0        R                   3.0                0.3   \n",
       "44           0        R                   3.0                0.3   \n",
       "45           0        R                   3.0                0.3   \n",
       "46           1        R                   3.0                0.3   \n",
       "47           0        R                   2.0                0.2   \n",
       "48           0        R                   2.0                0.2   \n",
       "49           0        R                   2.0                0.2   \n",
       "50           1        R                   3.0                0.3   \n",
       "\n",
       "    num_events_sum_nback_pt  prop_events_sum_nback_pt  \n",
       "0                       5.0                       0.5  \n",
       "1                       4.0                       0.4  \n",
       "2                       3.0                       0.3  \n",
       "3                       3.0                       0.3  \n",
       "4                       2.0                       0.2  \n",
       "5                       1.0                       0.1  \n",
       "6                       1.0                       0.1  \n",
       "7                       2.0                       0.2  \n",
       "8                       3.0                       0.3  \n",
       "9                       3.0                       0.3  \n",
       "10                      2.0                       0.2  \n",
       "11                      2.0                       0.2  \n",
       "12                      2.0                       0.2  \n",
       "13                      2.0                       0.2  \n",
       "14                      2.0                       0.2  \n",
       "15                      2.0                       0.2  \n",
       "16                      3.0                       0.3  \n",
       "17                      2.0                       0.2  \n",
       "18                      1.0                       0.1  \n",
       "19                      2.0                       0.2  \n",
       "20                      2.0                       0.2  \n",
       "21                      2.0                       0.2  \n",
       "22                      2.0                       0.2  \n",
       "23                      2.0                       0.2  \n",
       "24                      3.0                       0.3  \n",
       "25                      4.0                       0.4  \n",
       "26                      4.0                       0.4  \n",
       "27                      4.0                       0.4  \n",
       "28                      4.0                       0.4  \n",
       "29                      3.0                       0.3  \n",
       "30                      4.0                       0.4  \n",
       "31                      4.0                       0.4  \n",
       "32                      4.0                       0.4  \n",
       "33                      4.0                       0.4  \n",
       "34                      4.0                       0.4  \n",
       "35                      3.0                       0.3  \n",
       "36                      3.0                       0.3  \n",
       "37                      3.0                       0.3  \n",
       "38                      3.0                       0.3  \n",
       "39                      3.0                       0.3  \n",
       "40                      2.0                       0.2  \n",
       "41                      2.0                       0.2  \n",
       "42                      2.0                       0.2  \n",
       "43                      3.0                       0.3  \n",
       "44                      3.0                       0.3  \n",
       "45                      4.0                       0.4  \n",
       "46                      3.0                       0.3  \n",
       "47                      3.0                       0.3  \n",
       "48                      4.0                       0.4  \n",
       "49                      4.0                       0.4  \n",
       "50                      5.0                       0.5  "
      ]
     },
     "execution_count": 227,
     "metadata": {},
     "output_type": "execute_result"
    },
    {
     "data": {
      "application/javascript": [
       "\n",
       "            setTimeout(function() {\n",
       "                var nbb_cell_id = 227;\n",
       "                var nbb_unformatted_code = \"df_sc_events.loc[\\n    0:50,\\n    [\\n        \\\"event_code\\\",\\n        \\\"p_throws\\\",\\n        \\\"num_events_sum_nback\\\",\\n        \\\"prop_events_nback\\\",\\n        \\\"num_events_sum_nback_pt\\\",\\n        \\\"prop_events_sum_nback_pt\\\",\\n    ],\\n]\";\n",
       "                var nbb_formatted_code = \"df_sc_events.loc[\\n    0:50,\\n    [\\n        \\\"event_code\\\",\\n        \\\"p_throws\\\",\\n        \\\"num_events_sum_nback\\\",\\n        \\\"prop_events_nback\\\",\\n        \\\"num_events_sum_nback_pt\\\",\\n        \\\"prop_events_sum_nback_pt\\\",\\n    ],\\n]\";\n",
       "                var nbb_cells = Jupyter.notebook.get_cells();\n",
       "                for (var i = 0; i < nbb_cells.length; ++i) {\n",
       "                    if (nbb_cells[i].input_prompt_number == nbb_cell_id) {\n",
       "                        if (nbb_cells[i].get_text() == nbb_unformatted_code) {\n",
       "                             nbb_cells[i].set_text(nbb_formatted_code);\n",
       "                        }\n",
       "                        break;\n",
       "                    }\n",
       "                }\n",
       "            }, 500);\n",
       "            "
      ],
      "text/plain": [
       "<IPython.core.display.Javascript object>"
      ]
     },
     "metadata": {},
     "output_type": "display_data"
    }
   ],
   "source": [
    "df_sc_events.loc[\n",
    "    0:50,\n",
    "    [\n",
    "        \"event_code\",\n",
    "        \"p_throws\",\n",
    "        \"num_events_sum_nback\",\n",
    "        \"prop_events_nback\",\n",
    "        \"num_events_sum_nback_pt\",\n",
    "        \"prop_events_sum_nback_pt\",\n",
    "    ],\n",
    "]"
   ]
  },
  {
   "cell_type": "code",
   "execution_count": 218,
   "metadata": {
    "ExecuteTime": {
     "end_time": "2020-01-26T07:16:39.810684Z",
     "start_time": "2020-01-26T07:16:38.545066Z"
    },
    "collapsed": true
   },
   "outputs": [
    {
     "name": "stdout",
     "output_type": "stream",
     "text": [
      "0 2019-09-09 00:00:00 33.0 1 end:  0 R 29\n",
      "1 2019-09-09 00:00:00 32.0 1 end:  0 R 29\n",
      "2 2019-09-09 00:00:00 32.0 0 end:  0 R 28\n",
      "3 2019-09-08 00:00:00 32.0 1 end:  1 R 28\n",
      "4 2019-09-08 00:00:00 31.0 1 end:  0 R 27\n",
      "5 2019-09-08 00:00:00 30.0 0 end:  0 R 27\n",
      "6 2019-09-08 00:00:00 30.0 0 end:  0 R 27\n",
      "7 2019-09-08 00:00:00 30.0 0 end:  0 R 27\n",
      "8 2019-09-07 00:00:00 31.0 0 end:  0 R 27\n",
      "9 2019-09-07 00:00:00 31.0 1 end:  0 R 27\n",
      "10 2019-09-07 00:00:00 31.0 0 end:  0 R 26\n",
      "11 2019-09-07 00:00:00 31.0 0 end:  1 R 26\n",
      "12 2019-09-06 00:00:00 31.0 0 end:  1 R 26\n",
      "13 2019-09-06 00:00:00 31.0 0 end:  1 R 27\n",
      "14 2019-09-06 00:00:00 31.0 0 end:  1 R 28\n",
      "15 2019-09-06 00:00:00 31.0 0 end:  1 R 29\n",
      "16 2019-09-04 00:00:00 31.0 1 end:  0 R 30\n",
      "17 2019-09-04 00:00:00 30.0 1 end:  0 R 30\n",
      "18 2019-09-04 00:00:00 29.0 0 end:  0 R 29\n",
      "19 2019-09-04 00:00:00 29.0 0 end:  1 R 29\n",
      "20 2019-09-03 00:00:00 29.0 0 end:  0 R 29\n",
      "21 2019-09-03 00:00:00 29.0 0 end:  0 R 30\n",
      "22 2019-09-03 00:00:00 29.0 0 end:  0 R 30\n",
      "23 2019-09-03 00:00:00 29.0 0 end:  0 R 30\n",
      "24 2019-09-02 00:00:00 29.0 0 end:  0 R 30\n",
      "25 2019-09-02 00:00:00 29.0 1 end:  1 R 30\n",
      "26 2019-09-02 00:00:00 28.0 0 end:  1 R 29\n",
      "27 2019-09-02 00:00:00 28.0 0 end:  0 R 30\n",
      "28 2019-09-01 00:00:00 28.0 1 end:  1 R 31\n",
      "29 2019-09-01 00:00:00 27.0 0 end:  1 L 30\n",
      "30 2019-09-01 00:00:00 26.0 0 end:  0 R 31\n",
      "31 2019-09-01 00:00:00 27.0 0 end:  0 R 32\n",
      "32 2019-08-31 00:00:00 28.0 0 end:  1 R 32\n",
      "33 2019-08-31 00:00:00 29.0 1 end:  1 L 32\n",
      "34 2019-08-31 00:00:00 29.0 1 end:  0 L 32\n",
      "35 2019-08-30 00:00:00 28.0 1 end:  0 R 32\n",
      "36 2019-08-29 00:00:00 28.0 0 end:  0 R 31\n",
      "37 2019-08-29 00:00:00 28.0 0 end:  0 R 31\n",
      "38 2019-08-29 00:00:00 27.0 0 end:  0 R 31\n",
      "39 2019-08-28 00:00:00 26.0 1 end:  0 L 31\n",
      "40 2019-08-28 00:00:00 26.0 0 end:  0 L 30\n",
      "41 2019-08-28 00:00:00 26.0 0 end:  0 L 30\n",
      "42 2019-08-28 00:00:00 26.0 0 end:  0 L 30\n",
      "43 2019-08-28 00:00:00 26.0 1 end:  1 R 30\n",
      "44 2019-08-27 00:00:00 26.0 0 end:  0 R 29\n",
      "45 2019-08-27 00:00:00 26.0 1 end:  1 R 30\n",
      "46 2019-08-27 00:00:00 26.0 0 end:  0 R 29\n",
      "47 2019-08-27 00:00:00 26.0 0 end:  0 R 30\n",
      "48 2019-08-26 00:00:00 26.0 0 end:  1 R 30\n",
      "49 2019-08-26 00:00:00 26.0 0 end:  0 R 30\n",
      "50 2019-08-26 00:00:00 26.0 0 end:  0 R 31\n",
      "51 2019-08-25 00:00:00 25.0 0 end:  0 R 31\n",
      "52 2019-08-25 00:00:00 26.0 1 end:  0 R 31\n",
      "53 2019-08-24 00:00:00 26.0 1 end:  0 R 30\n",
      "54 2019-08-24 00:00:00 27.0 1 end:  1 R 29\n",
      "55 2019-08-24 00:00:00 28.0 0 end:  0 R 28\n",
      "56 2019-08-20 00:00:00 29.0 0 end:  0 R 29\n",
      "57 2019-08-20 00:00:00 29.0 1 end:  0 R 29\n",
      "58 2019-08-20 00:00:00 29.0 0 end:  1 R 28\n",
      "59 2019-08-20 00:00:00 29.0 1 end:  0 R 28\n",
      "60 2019-08-19 00:00:00 28.0 0 end:  1 L 28\n",
      "61 2019-08-19 00:00:00 29.0 0 end:  0 L 28\n",
      "62 2019-08-19 00:00:00 29.0 0 end:  0 R 29\n",
      "63 2019-08-19 00:00:00 28.0 1 end:  0 L 29\n",
      "64 2019-08-18 00:00:00 28.0 1 end:  0 L 28\n",
      "65 2019-08-17 00:00:00 28.0 0 end:  0 R 27\n",
      "66 2019-08-17 00:00:00 28.0 0 end:  0 R 27\n",
      "67 2019-08-17 00:00:00 28.0 0 end:  0 L 27\n",
      "68 2019-08-16 00:00:00 28.0 1 end:  0 L 27\n",
      "69 2019-08-16 00:00:00 28.0 0 end:  0 R 26\n",
      "70 2019-08-16 00:00:00 28.0 0 end:  0 R 26\n",
      "71 2019-08-14 00:00:00 28.0 1 end:  0 R 26\n",
      "72 2019-08-13 00:00:00 29.0 0 end:  0 R 25\n",
      "73 2019-08-13 00:00:00 28.0 1 end:  0 R 25\n",
      "74 2019-08-12 00:00:00 29.0 0 end:  0 R 24\n",
      "75 2019-08-12 00:00:00 30.0 1 end:  0 R 24\n",
      "76 2019-08-12 00:00:00 30.0 0 end:  0 R 23\n",
      "77 2019-08-12 00:00:00 29.0 0 end:  0 R 23\n",
      "78 2019-08-11 00:00:00 29.0 0 end:  0 L 23\n",
      "79 2019-08-11 00:00:00 30.0 0 end:  0 L 23\n",
      "80 2019-08-11 00:00:00 30.0 0 end:  0 L 23\n",
      "81 2019-08-11 00:00:00 30.0 1 end:  1 L 23\n",
      "82 2019-08-10 00:00:00 30.0 0 end:  0 L 22\n",
      "83 2019-08-10 00:00:00 30.0 1 end:  0 R 23\n",
      "84 2019-08-10 00:00:00 30.0 0 end:  1 R 22\n",
      "85 2019-08-10 00:00:00 30.0 0 end:  1 R 22\n",
      "86 2019-08-09 00:00:00 30.0 0 end:  0 L 23\n",
      "87 2019-08-08 00:00:00 30.0 0 end:  0 R 24\n",
      "88 2019-08-08 00:00:00 29.0 0 end:  0 R 24\n",
      "89 2019-08-08 00:00:00 29.0 0 end:  0 R 24\n",
      "90 2019-08-08 00:00:00 29.0 0 end:  0 L 24\n",
      "91 2019-08-07 00:00:00 30.0 0 end:  0 R 24\n",
      "92 2019-08-06 00:00:00 29.0 0 end:  1 L 24\n",
      "93 2019-08-06 00:00:00 29.0 0 end:  1 L 24\n",
      "94 2019-08-06 00:00:00 29.0 0 end:  0 L 25\n",
      "95 2019-08-04 00:00:00 29.0 0 end:  0 R 26\n",
      "96 2019-08-04 00:00:00 30.0 1 end:  1 R 26\n",
      "97 2019-08-04 00:00:00 30.0 0 end:  1 L 25\n",
      "98 2019-08-03 00:00:00 30.0 0 end:  0 L 26\n",
      "99 2019-08-03 00:00:00 29.0 0 end:  1 L 27\n",
      "100 2019-08-03 00:00:00 29.0 1 end:  0 R 27\n",
      "101 2019-08-03 00:00:00 29.0 0 end:  1 R 27\n",
      "102 2019-08-02 00:00:00 29.0 0 end:  0 R 27\n",
      "103 2019-08-02 00:00:00 30.0 0 end:  1 R 28\n",
      "104 2019-08-02 00:00:00 30.0 1 end:  0 R 28\n",
      "105 2019-08-02 00:00:00 31.0 0 end:  1 R 28\n",
      "106 2019-08-02 00:00:00 32.0 0 end:  0 R 28\n",
      "107 2019-08-01 00:00:00 32.0 0 end:  1 R 29\n",
      "108 2019-08-01 00:00:00 31.0 0 end:  0 R 29\n",
      "109 2019-07-30 00:00:00 32.0 0 end:  0 R 30\n",
      "110 2019-07-30 00:00:00 31.0 0 end:  1 R 30\n",
      "111 2019-07-30 00:00:00 31.0 0 end:  0 R 30\n",
      "112 2019-07-30 00:00:00 31.0 1 end:  1 R 31\n",
      "113 2019-07-30 00:00:00 31.0 1 end:  0 L 30\n",
      "114 2019-07-29 00:00:00 31.0 1 end:  0 L 30\n",
      "115 2019-07-29 00:00:00 32.0 1 end:  1 L 29\n",
      "116 2019-07-29 00:00:00 32.0 1 end:  1 R 28\n",
      "117 2019-07-29 00:00:00 32.0 0 end:  0 R 28\n",
      "118 2019-07-28 00:00:00 32.0 0 end:  0 R 29\n",
      "119 2019-07-27 00:00:00 33.0 0 end:  0 R 29\n",
      "120 2019-07-27 00:00:00 33.0 1 end:  1 R 29\n",
      "121 2019-07-27 00:00:00 34.0 0 end:  1 L 28\n",
      "122 2019-07-26 00:00:00 35.0 0 end:  1 L 29\n",
      "123 2019-07-26 00:00:00 36.0 0 end:  0 L 30\n",
      "124 2019-07-26 00:00:00 36.0 0 end:  0 R 31\n",
      "125 2019-07-26 00:00:00 36.0 0 end:  0 R 31\n",
      "126 2019-07-25 00:00:00 36.0 1 end:  1 L 31\n",
      "127 2019-07-25 00:00:00 36.0 1 end:  0 L 30\n",
      "128 2019-07-25 00:00:00 36.0 0 end:  1 R 30\n",
      "129 2019-07-25 00:00:00 36.0 1 end:  1 R 30\n",
      "130 2019-07-24 00:00:00 36.0 1 end:  1 L 30\n",
      "131 2019-07-24 00:00:00 35.0 0 end:  0 L 30\n",
      "132 2019-07-24 00:00:00 34.0 0 end:  1 R 31\n",
      "133 2019-07-24 00:00:00 33.0 1 end:  0 R 31\n",
      "134 2019-07-24 00:00:00 33.0 1 end:  0 R 31\n",
      "135 2019-07-23 00:00:00 33.0 0 end:  1 R 30\n",
      "136 2019-07-21 00:00:00 34.0 0 end:  0 R 30\n",
      "137 2019-07-21 00:00:00 33.0 0 end:  1 R 31\n",
      "138 2019-07-21 00:00:00 34.0 0 end:  0 R 31\n",
      "139 2019-07-21 00:00:00 35.0 0 end:  1 R 32\n",
      "140 2019-07-20 00:00:00 35.0 0 end:  0 R 32\n",
      "141 2019-07-20 00:00:00 34.0 0 end:  1 R 33\n",
      "142 2019-07-19 00:00:00 34.0 0 end:  1 R 33\n",
      "143 2019-07-18 00:00:00 34.0 0 end:  0 R 34\n",
      "144 2019-07-17 00:00:00 34.0 1 end:  1 R 35\n",
      "145 2019-07-17 00:00:00 34.0 0 end:  0 L 34\n",
      "146 2019-07-17 00:00:00 34.0 1 end:  0 L 35\n",
      "147 2019-07-16 00:00:00 33.0 0 end:  0 L 34\n",
      "148 2019-07-16 00:00:00 33.0 0 end:  0 R 34\n",
      "149 2019-07-16 00:00:00 33.0 1 end:  1 R 34\n",
      "150 2019-07-16 00:00:00 33.0 0 end:  0 R 33\n",
      "151 2019-07-14 00:00:00 33.0 0 end:  0 R 34\n",
      "152 2019-07-14 00:00:00 33.0 0 end:  0 R 34\n",
      "153 2019-07-14 00:00:00 32.0 0 end:  0 R 34\n",
      "154 2019-07-14 00:00:00 31.0 0 end:  0 R 34\n",
      "155 2019-07-13 00:00:00 31.0 1 end:  0 R 34\n",
      "156 2019-07-13 00:00:00 31.0 0 end:  0 R 33\n",
      "157 2019-07-13 00:00:00 31.0 0 end:  0 R 33\n",
      "158 2019-07-13 00:00:00 31.0 0 end:  1 L 33\n",
      "159 2019-07-13 00:00:00 31.0 1 end:  1 L 33\n",
      "160 2019-07-12 00:00:00 31.0 0 end:  0 L 33\n",
      "161 2019-07-12 00:00:00 30.0 1 end:  1 L 34\n",
      "162 2019-07-07 00:00:00 29.0 0 end:  0 R 33\n",
      "163 2019-07-07 00:00:00 29.0 0 end:  0 R 34\n",
      "164 2019-07-07 00:00:00 29.0 0 end:  0 R 34\n",
      "165 2019-07-06 00:00:00 30.0 0 end:  1 L 34\n",
      "166 2019-07-06 00:00:00 29.0 0 end:  1 R 34\n",
      "167 2019-07-06 00:00:00 29.0 0 end:  0 R 35\n",
      "168 2019-07-06 00:00:00 30.0 0 end:  0 R 36\n",
      "169 2019-07-05 00:00:00 31.0 0 end:  0 R 36\n",
      "170 2019-07-04 00:00:00 32.0 0 end:  0 R 36\n",
      "171 2019-07-03 00:00:00 31.0 0 end:  0 R 36\n",
      "172 2019-07-03 00:00:00 31.0 0 end:  0 R 36\n",
      "173 2019-07-03 00:00:00 32.0 0 end:  0 R 36\n",
      "174 2019-07-03 00:00:00 31.0 0 end:  1 R 36\n",
      "175 2019-07-01 00:00:00 30.0 0 end:  0 R 36\n",
      "176 2019-07-01 00:00:00 30.0 0 end:  0 R 37\n",
      "177 2019-07-01 00:00:00 31.0 0 end:  0 R 37\n",
      "178 2019-06-30 00:00:00 31.0 0 end:  0 R 37\n",
      "179 2019-06-30 00:00:00 30.0 0 end:  0 R 37\n",
      "180 2019-06-30 00:00:00 30.0 0 end:  1 L 37\n",
      "181 2019-06-30 00:00:00 31.0 0 end:  0 L 37\n",
      "182 2019-06-30 00:00:00 30.0 1 end:  0 L 38\n",
      "183 2019-06-29 00:00:00 30.0 0 end:  1 R 37\n",
      "184 2019-06-29 00:00:00 30.0 0 end:  0 R 37\n",
      "185 2019-06-29 00:00:00 31.0 1 end:  0 R 38\n",
      "186 2019-06-29 00:00:00 31.0 1 end:  0 R 37\n",
      "187 2019-06-29 00:00:00 31.0 0 end:  0 R 36\n",
      "188 2019-06-28 00:00:00 32.0 0 end:  1 R 36\n",
      "189 2019-06-28 00:00:00 32.0 0 end:  0 L 36\n",
      "190 2019-06-28 00:00:00 33.0 0 end:  0 L 37\n",
      "191 2019-06-28 00:00:00 32.0 0 end:  0 L 37\n",
      "192 2019-06-26 00:00:00 32.0 0 end:  0 R 37\n",
      "193 2019-06-26 00:00:00 33.0 1 end:  0 L 37\n",
      "194 2019-06-26 00:00:00 34.0 1 end:  1 L 36\n",
      "195 2019-06-26 00:00:00 34.0 0 end:  0 L 35\n",
      "196 2019-06-25 00:00:00 33.0 0 end:  1 L 36\n",
      "197 2019-06-25 00:00:00 32.0 1 end:  1 R 36\n",
      "198 2019-06-25 00:00:00 33.0 1 end:  0 L 36\n",
      "199 2019-06-25 00:00:00 34.0 0 end:  0 L 36\n",
      "200 2019-06-23 00:00:00 35.0 1 end:  0 L 36\n",
      "201 2019-06-23 00:00:00 35.0 0 end:  1 L 35\n",
      "202 2019-06-22 00:00:00 34.0 1 end:  1 R 35\n",
      "203 2019-06-22 00:00:00 33.0 0 end:  0 R 35\n"
     ]
    },
    {
     "name": "stdout",
     "output_type": "stream",
     "text": [
      "204 2019-06-22 00:00:00 34.0 1 end:  1 R 36\n",
      "205 2019-06-22 00:00:00 33.0 0 end:  0 L 35\n",
      "206 2019-06-21 00:00:00 33.0 1 end:  0 R 36\n",
      "207 2019-06-21 00:00:00 34.0 0 end:  0 R 35\n",
      "208 2019-06-21 00:00:00 35.0 1 end:  0 R 35\n",
      "209 2019-06-21 00:00:00 34.0 0 end:  0 R 34\n",
      "210 2019-06-19 00:00:00 35.0 0 end:  0 R 34\n",
      "211 2019-06-19 00:00:00 36.0 1 end:  0 R 34\n",
      "212 2019-06-19 00:00:00 37.0 0 end:  0 R 33\n",
      "213 2019-06-19 00:00:00 37.0 1 end:  1 R 33\n",
      "214 2019-06-19 00:00:00 37.0 0 end:  1 R 32\n",
      "215 2019-06-18 00:00:00 37.0 0 end:  0 R 33\n",
      "216 2019-06-18 00:00:00 37.0 1 end:  0 R 34\n",
      "217 2019-06-18 00:00:00 38.0 1 end:  0 R 33\n",
      "218 2019-06-18 00:00:00 38.0 0 end:  0 R 32\n",
      "219 2019-06-17 00:00:00 38.0 0 end:  1 R 32\n",
      "220 2019-06-17 00:00:00 38.0 0 end:  1 R 32\n",
      "221 2019-06-17 00:00:00 37.0 1 end:  0 L 33\n",
      "222 2019-06-17 00:00:00 37.0 1 end:  1 L 33\n",
      "223 2019-06-16 00:00:00 37.0 1 end:  0 L 32\n",
      "224 2019-06-16 00:00:00 37.0 0 end:  1 L 32\n",
      "225 2019-06-16 00:00:00 38.0 0 end:  1 R 32\n",
      "226 2019-06-16 00:00:00 38.0 0 end:  0 R 33\n",
      "227 2019-06-16 00:00:00 38.0 1 end:  0 R 34\n",
      "228 2019-06-15 00:00:00 38.0 0 end:  0 R 33\n",
      "229 2019-06-15 00:00:00 38.0 1 end:  1 R 33\n",
      "230 2019-06-15 00:00:00 39.0 1 end:  0 R 32\n",
      "231 2019-06-14 00:00:00 39.0 1 end:  1 R 32\n",
      "232 2019-06-14 00:00:00 39.0 0 end:  0 R 31\n",
      "233 2019-06-14 00:00:00 39.0 1 end:  0 L 32\n",
      "234 2019-06-14 00:00:00 39.0 0 end:  0 L 31\n",
      "235 2019-06-14 00:00:00 39.0 0 end:  0 L 31\n",
      "236 2019-06-13 00:00:00 38.0 1 end:  0 R 31\n",
      "237 2019-06-13 00:00:00 38.0 0 end:  1 L 30\n",
      "238 2019-06-13 00:00:00 37.0 1 end:  1 L 30\n",
      "239 2019-06-13 00:00:00 36.0 0 end:  1 L 30\n",
      "240 2019-06-13 00:00:00 36.0 1 end:  0 R 31\n",
      "241 2019-06-12 00:00:00 36.0 0 end:  1 R 31\n",
      "242 2019-06-12 00:00:00 36.0 1 end:  0 R 31\n",
      "243 2019-06-12 00:00:00 37.0 1 end:  0 R 31\n",
      "244 2019-06-11 00:00:00 38.0 0 end:  0 R 30\n",
      "245 2019-06-11 00:00:00 38.0 1 end:  0 R 30\n",
      "246 2019-06-11 00:00:00 39.0 0 end:  0 R 29\n",
      "247 2019-06-11 00:00:00 39.0 0 end:  1 R 29\n",
      "248 2019-06-08 00:00:00 39.0 0 end:  0 R 29\n",
      "249 2019-06-08 00:00:00 39.0 0 end:  0 R 30\n",
      "250 2019-06-08 00:00:00 40.0 1 end:  0 R 30\n",
      "251 2019-06-08 00:00:00 41.0 0 end:  0 R 29\n",
      "252 2019-06-07 00:00:00 40.0 0 end:  0 R 29\n",
      "253 2019-06-07 00:00:00 40.0 0 end:  0 R 29\n",
      "254 2019-06-07 00:00:00 40.0 0 end:  0 R 29\n",
      "255 2019-06-06 00:00:00 39.0 0 end:  0 R 29\n",
      "256 2019-06-05 00:00:00 38.0 0 end:  1 R 29\n",
      "257 2019-06-05 00:00:00 38.0 0 end:  0 R 29\n",
      "258 2019-06-05 00:00:00 38.0 0 end:  0 R 30\n",
      "259 2019-06-05 00:00:00 38.0 1 end:  0 R 30\n",
      "260 2019-06-05 00:00:00 39.0 1 end:  1 R 29\n",
      "261 2019-06-04 00:00:00 39.0 0 end:  0 L 28\n",
      "262 2019-06-04 00:00:00 39.0 1 end:  0 R 29\n",
      "263 2019-06-04 00:00:00 39.0 0 end:  0 R 28\n",
      "264 2019-06-04 00:00:00 38.0 0 end:  0 R 28\n",
      "265 2019-06-04 00:00:00 37.0 0 end:  0 R 28\n",
      "266 2019-06-03 00:00:00 38.0 1 end:  0 R 28\n",
      "267 2019-06-03 00:00:00 38.0 1 end:  0 R 27\n",
      "268 2019-06-03 00:00:00 37.0 0 end:  0 L 26\n",
      "269 2019-06-03 00:00:00 37.0 0 end:  0 R 26\n",
      "270 2019-06-03 00:00:00 36.0 0 end:  1 R 26\n",
      "271 2019-06-02 00:00:00 37.0 0 end:  0 L 26\n",
      "272 2019-06-02 00:00:00 36.0 0 end:  0 R 27\n",
      "273 2019-06-01 00:00:00 35.0 0 end:  0 R 27\n",
      "274 2019-06-01 00:00:00 36.0 0 end:  0 L 27\n",
      "275 2019-06-01 00:00:00 37.0 1 end:  1 L 27\n",
      "276 2019-06-01 00:00:00 37.0 0 end:  0 L 26\n",
      "277 2019-05-31 00:00:00 36.0 0 end:  0 R 27\n",
      "278 2019-05-31 00:00:00 35.0 0 end:  0 L 27\n",
      "279 2019-05-29 00:00:00 35.0 0 end:  0 R 27\n",
      "280 2019-05-28 00:00:00 36.0 0 end:  0 R 27\n",
      "281 2019-05-28 00:00:00 35.0 1 end:  1 R 27\n",
      "282 2019-05-28 00:00:00 35.0 0 end:  1 R 26\n",
      "283 2019-05-28 00:00:00 34.0 0 end:  0 R 27\n",
      "284 2019-05-28 00:00:00 34.0 1 end:  0 R 28\n",
      "285 2019-05-27 00:00:00 34.0 0 end:  0 R 27\n",
      "286 2019-05-27 00:00:00 34.0 0 end:  0 R 27\n",
      "287 2019-05-27 00:00:00 34.0 0 end:  1 R 27\n",
      "288 2019-05-26 00:00:00 34.0 0 end:  0 R 27\n"
     ]
    },
    {
     "ename": "IndexError",
     "evalue": "single positional indexer is out-of-bounds",
     "output_type": "error",
     "traceback": [
      "\u001b[0;31m---------------------------------------------------------------------------\u001b[0m",
      "\u001b[0;31mIndexError\u001b[0m                                Traceback (most recent call last)",
      "\u001b[0;32m<ipython-input-218-f1e2d00cce01>\u001b[0m in \u001b[0;36m<module>\u001b[0;34m\u001b[0m\n\u001b[1;32m     11\u001b[0m         \u001b[0mdf_sc_events_pt_throw\u001b[0m\u001b[0;34m[\u001b[0m\u001b[0;34m\"event_code\"\u001b[0m\u001b[0;34m]\u001b[0m\u001b[0;34m.\u001b[0m\u001b[0miloc\u001b[0m\u001b[0;34m[\u001b[0m\u001b[0mi\u001b[0m\u001b[0;34m]\u001b[0m\u001b[0;34m,\u001b[0m\u001b[0;34m\u001b[0m\u001b[0;34m\u001b[0m\u001b[0m\n\u001b[1;32m     12\u001b[0m         \u001b[0;34m\"end: \"\u001b[0m\u001b[0;34m,\u001b[0m\u001b[0;34m\u001b[0m\u001b[0;34m\u001b[0m\u001b[0m\n\u001b[0;32m---> 13\u001b[0;31m         \u001b[0mdf_sc_events_pt_throw\u001b[0m\u001b[0;34m[\u001b[0m\u001b[0;34m\"event_code\"\u001b[0m\u001b[0;34m]\u001b[0m\u001b[0;34m.\u001b[0m\u001b[0miloc\u001b[0m\u001b[0;34m[\u001b[0m\u001b[0mi\u001b[0m \u001b[0;34m+\u001b[0m \u001b[0mn_back_PA\u001b[0m \u001b[0;34m+\u001b[0m \u001b[0;36m1\u001b[0m\u001b[0;34m]\u001b[0m\u001b[0;34m,\u001b[0m\u001b[0;34m\u001b[0m\u001b[0;34m\u001b[0m\u001b[0m\n\u001b[0m\u001b[1;32m     14\u001b[0m         \u001b[0mp_throws\u001b[0m\u001b[0;34m,\u001b[0m\u001b[0;34m\u001b[0m\u001b[0;34m\u001b[0m\u001b[0m\n\u001b[1;32m     15\u001b[0m         \u001b[0mn_pt_events\u001b[0m\u001b[0;34m,\u001b[0m\u001b[0;34m\u001b[0m\u001b[0;34m\u001b[0m\u001b[0m\n",
      "\u001b[0;32m~/anaconda/envs/insight/lib/python3.6/site-packages/pandas/core/indexing.py\u001b[0m in \u001b[0;36m__getitem__\u001b[0;34m(self, key)\u001b[0m\n\u001b[1;32m   1422\u001b[0m \u001b[0;34m\u001b[0m\u001b[0m\n\u001b[1;32m   1423\u001b[0m             \u001b[0mmaybe_callable\u001b[0m \u001b[0;34m=\u001b[0m \u001b[0mcom\u001b[0m\u001b[0;34m.\u001b[0m\u001b[0mapply_if_callable\u001b[0m\u001b[0;34m(\u001b[0m\u001b[0mkey\u001b[0m\u001b[0;34m,\u001b[0m \u001b[0mself\u001b[0m\u001b[0;34m.\u001b[0m\u001b[0mobj\u001b[0m\u001b[0;34m)\u001b[0m\u001b[0;34m\u001b[0m\u001b[0;34m\u001b[0m\u001b[0m\n\u001b[0;32m-> 1424\u001b[0;31m             \u001b[0;32mreturn\u001b[0m \u001b[0mself\u001b[0m\u001b[0;34m.\u001b[0m\u001b[0m_getitem_axis\u001b[0m\u001b[0;34m(\u001b[0m\u001b[0mmaybe_callable\u001b[0m\u001b[0;34m,\u001b[0m \u001b[0maxis\u001b[0m\u001b[0;34m=\u001b[0m\u001b[0maxis\u001b[0m\u001b[0;34m)\u001b[0m\u001b[0;34m\u001b[0m\u001b[0;34m\u001b[0m\u001b[0m\n\u001b[0m\u001b[1;32m   1425\u001b[0m \u001b[0;34m\u001b[0m\u001b[0m\n\u001b[1;32m   1426\u001b[0m     \u001b[0;32mdef\u001b[0m \u001b[0m_is_scalar_access\u001b[0m\u001b[0;34m(\u001b[0m\u001b[0mself\u001b[0m\u001b[0;34m,\u001b[0m \u001b[0mkey\u001b[0m\u001b[0;34m:\u001b[0m \u001b[0mTuple\u001b[0m\u001b[0;34m)\u001b[0m\u001b[0;34m:\u001b[0m\u001b[0;34m\u001b[0m\u001b[0;34m\u001b[0m\u001b[0m\n",
      "\u001b[0;32m~/anaconda/envs/insight/lib/python3.6/site-packages/pandas/core/indexing.py\u001b[0m in \u001b[0;36m_getitem_axis\u001b[0;34m(self, key, axis)\u001b[0m\n\u001b[1;32m   2155\u001b[0m \u001b[0;34m\u001b[0m\u001b[0m\n\u001b[1;32m   2156\u001b[0m             \u001b[0;31m# validate the location\u001b[0m\u001b[0;34m\u001b[0m\u001b[0;34m\u001b[0m\u001b[0;34m\u001b[0m\u001b[0m\n\u001b[0;32m-> 2157\u001b[0;31m             \u001b[0mself\u001b[0m\u001b[0;34m.\u001b[0m\u001b[0m_validate_integer\u001b[0m\u001b[0;34m(\u001b[0m\u001b[0mkey\u001b[0m\u001b[0;34m,\u001b[0m \u001b[0maxis\u001b[0m\u001b[0;34m)\u001b[0m\u001b[0;34m\u001b[0m\u001b[0;34m\u001b[0m\u001b[0m\n\u001b[0m\u001b[1;32m   2158\u001b[0m \u001b[0;34m\u001b[0m\u001b[0m\n\u001b[1;32m   2159\u001b[0m             \u001b[0;32mreturn\u001b[0m \u001b[0mself\u001b[0m\u001b[0;34m.\u001b[0m\u001b[0m_get_loc\u001b[0m\u001b[0;34m(\u001b[0m\u001b[0mkey\u001b[0m\u001b[0;34m,\u001b[0m \u001b[0maxis\u001b[0m\u001b[0;34m=\u001b[0m\u001b[0maxis\u001b[0m\u001b[0;34m)\u001b[0m\u001b[0;34m\u001b[0m\u001b[0;34m\u001b[0m\u001b[0m\n",
      "\u001b[0;32m~/anaconda/envs/insight/lib/python3.6/site-packages/pandas/core/indexing.py\u001b[0m in \u001b[0;36m_validate_integer\u001b[0;34m(self, key, axis)\u001b[0m\n\u001b[1;32m   2086\u001b[0m         \u001b[0mlen_axis\u001b[0m \u001b[0;34m=\u001b[0m \u001b[0mlen\u001b[0m\u001b[0;34m(\u001b[0m\u001b[0mself\u001b[0m\u001b[0;34m.\u001b[0m\u001b[0mobj\u001b[0m\u001b[0;34m.\u001b[0m\u001b[0m_get_axis\u001b[0m\u001b[0;34m(\u001b[0m\u001b[0maxis\u001b[0m\u001b[0;34m)\u001b[0m\u001b[0;34m)\u001b[0m\u001b[0;34m\u001b[0m\u001b[0;34m\u001b[0m\u001b[0m\n\u001b[1;32m   2087\u001b[0m         \u001b[0;32mif\u001b[0m \u001b[0mkey\u001b[0m \u001b[0;34m>=\u001b[0m \u001b[0mlen_axis\u001b[0m \u001b[0;32mor\u001b[0m \u001b[0mkey\u001b[0m \u001b[0;34m<\u001b[0m \u001b[0;34m-\u001b[0m\u001b[0mlen_axis\u001b[0m\u001b[0;34m:\u001b[0m\u001b[0;34m\u001b[0m\u001b[0;34m\u001b[0m\u001b[0m\n\u001b[0;32m-> 2088\u001b[0;31m             \u001b[0;32mraise\u001b[0m \u001b[0mIndexError\u001b[0m\u001b[0;34m(\u001b[0m\u001b[0;34m\"single positional indexer is out-of-bounds\"\u001b[0m\u001b[0;34m)\u001b[0m\u001b[0;34m\u001b[0m\u001b[0;34m\u001b[0m\u001b[0m\n\u001b[0m\u001b[1;32m   2089\u001b[0m \u001b[0;34m\u001b[0m\u001b[0m\n\u001b[1;32m   2090\u001b[0m     \u001b[0;32mdef\u001b[0m \u001b[0m_getitem_tuple\u001b[0m\u001b[0;34m(\u001b[0m\u001b[0mself\u001b[0m\u001b[0;34m,\u001b[0m \u001b[0mtup\u001b[0m\u001b[0;34m)\u001b[0m\u001b[0;34m:\u001b[0m\u001b[0;34m\u001b[0m\u001b[0;34m\u001b[0m\u001b[0m\n",
      "\u001b[0;31mIndexError\u001b[0m: single positional indexer is out-of-bounds"
     ]
    },
    {
     "data": {
      "application/javascript": [
       "\n",
       "            setTimeout(function() {\n",
       "                var nbb_cell_id = 218;\n",
       "                var nbb_unformatted_code = \"for i in df_sc_events.index:\\n    p_throws = df_sc_events[\\\"p_throws\\\"].iloc[i]\\n    df_sc_events_pt_throw = df_sc_events[df_sc_events[\\\"p_throws\\\"] == batter_stance]\\n    n_pt_events = df_sc_events_pt_throw[\\\"event_code\\\"].iloc[i : i + n_back_PA].sum()\\n    df_sc_events.loc[i, \\\"num_events_sum_nback_pt\\\"] = n_pt_events\\n    df_sc_events.loc[i, \\\"prop_events_sum_nback_pt\\\"] = n_pt_events / n_back_PA\\n    print(\\n        i,\\n        df_sc_events_pt_throw[\\\"game_date\\\"].iloc[i],\\n        df_sc_events[\\\"num_events_sum_nback\\\"].iloc[i],\\n        df_sc_events_pt_throw[\\\"event_code\\\"].iloc[i],\\n        \\\"end: \\\",\\n        df_sc_events_pt_throw[\\\"event_code\\\"].iloc[i + n_back_PA + 1],\\n        p_throws,\\n        n_pt_events,\\n    )\";\n",
       "                var nbb_formatted_code = \"for i in df_sc_events.index:\\n    p_throws = df_sc_events[\\\"p_throws\\\"].iloc[i]\\n    df_sc_events_pt_throw = df_sc_events[df_sc_events[\\\"p_throws\\\"] == batter_stance]\\n    n_pt_events = df_sc_events_pt_throw[\\\"event_code\\\"].iloc[i : i + n_back_PA].sum()\\n    df_sc_events.loc[i, \\\"num_events_sum_nback_pt\\\"] = n_pt_events\\n    df_sc_events.loc[i, \\\"prop_events_sum_nback_pt\\\"] = n_pt_events / n_back_PA\\n    print(\\n        i,\\n        df_sc_events_pt_throw[\\\"game_date\\\"].iloc[i],\\n        df_sc_events[\\\"num_events_sum_nback\\\"].iloc[i],\\n        df_sc_events_pt_throw[\\\"event_code\\\"].iloc[i],\\n        \\\"end: \\\",\\n        df_sc_events_pt_throw[\\\"event_code\\\"].iloc[i + n_back_PA + 1],\\n        p_throws,\\n        n_pt_events,\\n    )\";\n",
       "                var nbb_cells = Jupyter.notebook.get_cells();\n",
       "                for (var i = 0; i < nbb_cells.length; ++i) {\n",
       "                    if (nbb_cells[i].input_prompt_number == nbb_cell_id) {\n",
       "                        if (nbb_cells[i].get_text() == nbb_unformatted_code) {\n",
       "                             nbb_cells[i].set_text(nbb_formatted_code);\n",
       "                        }\n",
       "                        break;\n",
       "                    }\n",
       "                }\n",
       "            }, 500);\n",
       "            "
      ],
      "text/plain": [
       "<IPython.core.display.Javascript object>"
      ]
     },
     "metadata": {},
     "output_type": "display_data"
    }
   ],
   "source": [
    "for i in df_sc_events.index:\n",
    "    p_throws = df_sc_events[\"p_throws\"].iloc[i]\n",
    "    df_sc_events_pt_throw = df_sc_events[df_sc_events[\"p_throws\"] == batter_stance]\n",
    "    n_pt_events = df_sc_events_pt_throw[\"event_code\"].iloc[i : i + n_back_PA].sum()\n",
    "    df_sc_events.loc[i, \"num_events_sum_nback_pt\"] = n_pt_events\n",
    "    df_sc_events.loc[i, \"prop_events_sum_nback_pt\"] = n_pt_events / n_back_PA\n",
    "#     print(\n",
    "#         i,\n",
    "#         df_sc_events_pt_throw[\"game_date\"].iloc[i],\n",
    "#         df_sc_events[\"num_events_sum_nback\"].iloc[i],\n",
    "#         df_sc_events_pt_throw[\"event_code\"].iloc[i],\n",
    "#         \"end: \",\n",
    "#         df_sc_events_pt_throw[\"event_code\"].iloc[i + n_back_PA + 1],\n",
    "#         p_throws,\n",
    "#         n_pt_events,\n",
    "#     )"
   ]
  },
  {
   "cell_type": "code",
   "execution_count": 214,
   "metadata": {
    "ExecuteTime": {
     "end_time": "2020-01-26T07:12:38.365725Z",
     "start_time": "2020-01-26T07:12:38.159058Z"
    }
   },
   "outputs": [
    {
     "data": {
      "text/plain": [
       "<matplotlib.axes._subplots.AxesSubplot at 0x1a28bebf98>"
      ]
     },
     "execution_count": 214,
     "metadata": {},
     "output_type": "execute_result"
    },
    {
     "data": {
      "image/png": "[encoded data removed]",
      "text/plain": [
       "<Figure size 432x288 with 1 Axes>"
      ]
     },
     "metadata": {
      "needs_background": "light"
     },
     "output_type": "display_data"
    },
    {
     "data": {
      "application/javascript": [
       "\n",
       "            setTimeout(function() {\n",
       "                var nbb_cell_id = 214;\n",
       "                var nbb_unformatted_code = \"df_sc_events.loc[:, \\\"num_events_sum_nback_pt\\\"].hist()\";\n",
       "                var nbb_formatted_code = \"df_sc_events.loc[:, \\\"num_events_sum_nback_pt\\\"].hist()\";\n",
       "                var nbb_cells = Jupyter.notebook.get_cells();\n",
       "                for (var i = 0; i < nbb_cells.length; ++i) {\n",
       "                    if (nbb_cells[i].input_prompt_number == nbb_cell_id) {\n",
       "                        if (nbb_cells[i].get_text() == nbb_unformatted_code) {\n",
       "                             nbb_cells[i].set_text(nbb_formatted_code);\n",
       "                        }\n",
       "                        break;\n",
       "                    }\n",
       "                }\n",
       "            }, 500);\n",
       "            "
      ],
      "text/plain": [
       "<IPython.core.display.Javascript object>"
      ]
     },
     "metadata": {},
     "output_type": "display_data"
    }
   ],
   "source": [
    "df_sc_events.loc[:, \"num_events_sum_nback_pt\"].hist()"
   ]
  },
  {
   "cell_type": "code",
   "execution_count": null,
   "metadata": {},
   "outputs": [],
   "source": []
  },
  {
   "cell_type": "code",
   "execution_count": 194,
   "metadata": {
    "ExecuteTime": {
     "end_time": "2020-01-26T07:01:02.105045Z",
     "start_time": "2020-01-26T07:01:01.049321Z"
    },
    "collapsed": true
   },
   "outputs": [
    {
     "name": "stdout",
     "output_type": "stream",
     "text": [
      "0 2019-09-09 00:00:00 1 R 29\n",
      "1 2019-09-09 00:00:00 1 R 29\n",
      "2 2019-09-09 00:00:00 0 R 28\n",
      "3 2019-09-08 00:00:00 1 R 28\n",
      "4 2019-09-08 00:00:00 1 R 27\n",
      "5 2019-09-08 00:00:00 0 R 27\n",
      "6 2019-09-08 00:00:00 0 R 27\n",
      "7 2019-09-08 00:00:00 0 R 27\n",
      "8 2019-09-07 00:00:00 0 R 27\n",
      "9 2019-09-07 00:00:00 1 R 27\n",
      "10 2019-09-07 00:00:00 0 R 26\n",
      "11 2019-09-07 00:00:00 0 R 26\n",
      "12 2019-09-06 00:00:00 0 R 26\n",
      "13 2019-09-06 00:00:00 0 R 27\n",
      "14 2019-09-06 00:00:00 0 R 28\n",
      "15 2019-09-06 00:00:00 0 R 29\n",
      "16 2019-09-04 00:00:00 1 R 30\n",
      "17 2019-09-04 00:00:00 1 R 30\n",
      "18 2019-09-04 00:00:00 0 R 29\n",
      "19 2019-09-04 00:00:00 0 R 29\n",
      "20 2019-09-03 00:00:00 0 R 29\n",
      "21 2019-09-03 00:00:00 0 R 30\n",
      "22 2019-09-03 00:00:00 0 R 30\n",
      "23 2019-09-03 00:00:00 0 R 30\n",
      "24 2019-09-02 00:00:00 0 R 30\n",
      "25 2019-09-02 00:00:00 1 R 30\n",
      "26 2019-09-02 00:00:00 0 R 29\n",
      "27 2019-09-02 00:00:00 0 R 30\n",
      "28 2019-09-01 00:00:00 1 R 31\n",
      "29 2019-09-01 00:00:00 0 R 30\n",
      "30 2019-09-01 00:00:00 0 R 31\n",
      "31 2019-09-01 00:00:00 0 R 32\n",
      "32 2019-08-31 00:00:00 0 R 32\n",
      "33 2019-08-31 00:00:00 1 R 32\n",
      "34 2019-08-31 00:00:00 1 R 32\n",
      "35 2019-08-30 00:00:00 1 R 32\n",
      "36 2019-08-29 00:00:00 0 R 31\n",
      "37 2019-08-29 00:00:00 0 R 31\n",
      "38 2019-08-29 00:00:00 0 R 31\n",
      "39 2019-08-28 00:00:00 1 R 31\n",
      "40 2019-08-28 00:00:00 0 R 30\n",
      "41 2019-08-28 00:00:00 0 R 30\n",
      "42 2019-08-28 00:00:00 0 R 30\n",
      "43 2019-08-28 00:00:00 1 R 30\n",
      "44 2019-08-27 00:00:00 0 R 29\n",
      "45 2019-08-27 00:00:00 1 R 30\n",
      "46 2019-08-27 00:00:00 0 R 29\n",
      "47 2019-08-27 00:00:00 0 R 30\n",
      "48 2019-08-26 00:00:00 0 R 30\n",
      "49 2019-08-26 00:00:00 0 R 30\n",
      "50 2019-08-26 00:00:00 0 R 31\n",
      "51 2019-08-25 00:00:00 0 R 31\n",
      "52 2019-08-25 00:00:00 1 R 31\n",
      "53 2019-08-24 00:00:00 1 R 30\n",
      "54 2019-08-24 00:00:00 1 R 29\n",
      "55 2019-08-24 00:00:00 0 R 28\n",
      "56 2019-08-20 00:00:00 0 R 29\n",
      "57 2019-08-20 00:00:00 1 R 29\n",
      "58 2019-08-20 00:00:00 0 R 28\n",
      "59 2019-08-20 00:00:00 1 R 28\n",
      "60 2019-08-19 00:00:00 0 R 28\n",
      "61 2019-08-19 00:00:00 0 R 28\n",
      "62 2019-08-19 00:00:00 0 R 29\n",
      "63 2019-08-19 00:00:00 1 R 29\n",
      "64 2019-08-18 00:00:00 1 R 28\n",
      "65 2019-08-17 00:00:00 0 R 27\n",
      "66 2019-08-17 00:00:00 0 R 27\n",
      "67 2019-08-17 00:00:00 0 R 27\n",
      "68 2019-08-16 00:00:00 1 R 27\n",
      "69 2019-08-16 00:00:00 0 R 26\n",
      "70 2019-08-16 00:00:00 0 R 26\n",
      "71 2019-08-14 00:00:00 1 R 26\n",
      "72 2019-08-13 00:00:00 0 R 25\n",
      "73 2019-08-13 00:00:00 1 R 25\n",
      "74 2019-08-12 00:00:00 0 R 24\n",
      "75 2019-08-12 00:00:00 1 R 24\n",
      "76 2019-08-12 00:00:00 0 R 23\n",
      "77 2019-08-12 00:00:00 0 R 23\n",
      "78 2019-08-11 00:00:00 0 R 23\n",
      "79 2019-08-11 00:00:00 0 R 23\n",
      "80 2019-08-11 00:00:00 0 R 23\n",
      "81 2019-08-11 00:00:00 1 R 23\n",
      "82 2019-08-10 00:00:00 0 R 22\n",
      "83 2019-08-10 00:00:00 1 R 23\n",
      "84 2019-08-10 00:00:00 0 R 22\n",
      "85 2019-08-10 00:00:00 0 R 22\n",
      "86 2019-08-09 00:00:00 0 R 23\n",
      "87 2019-08-08 00:00:00 0 R 24\n",
      "88 2019-08-08 00:00:00 0 R 24\n",
      "89 2019-08-08 00:00:00 0 R 24\n",
      "90 2019-08-08 00:00:00 0 R 24\n",
      "91 2019-08-07 00:00:00 0 R 24\n",
      "92 2019-08-06 00:00:00 0 R 24\n",
      "93 2019-08-06 00:00:00 0 R 24\n",
      "94 2019-08-06 00:00:00 0 R 25\n",
      "95 2019-08-04 00:00:00 0 R 26\n",
      "96 2019-08-04 00:00:00 1 R 26\n",
      "97 2019-08-04 00:00:00 0 R 25\n",
      "98 2019-08-03 00:00:00 0 R 26\n",
      "99 2019-08-03 00:00:00 0 R 27\n",
      "100 2019-08-03 00:00:00 1 R 27\n",
      "101 2019-08-03 00:00:00 0 R 27\n",
      "102 2019-08-02 00:00:00 0 R 27\n",
      "103 2019-08-02 00:00:00 0 R 28\n",
      "104 2019-08-02 00:00:00 1 R 28\n",
      "105 2019-08-02 00:00:00 0 R 28\n",
      "106 2019-08-02 00:00:00 0 R 28\n",
      "107 2019-08-01 00:00:00 0 R 29\n",
      "108 2019-08-01 00:00:00 0 R 29\n",
      "109 2019-07-30 00:00:00 0 R 30\n",
      "110 2019-07-30 00:00:00 0 R 30\n",
      "111 2019-07-30 00:00:00 0 R 30\n",
      "112 2019-07-30 00:00:00 1 R 31\n",
      "113 2019-07-30 00:00:00 1 R 30\n",
      "114 2019-07-29 00:00:00 1 R 30\n",
      "115 2019-07-29 00:00:00 1 R 29\n",
      "116 2019-07-29 00:00:00 1 R 28\n",
      "117 2019-07-29 00:00:00 0 R 28\n",
      "118 2019-07-28 00:00:00 0 R 29\n",
      "119 2019-07-27 00:00:00 0 R 29\n",
      "120 2019-07-27 00:00:00 1 R 29\n",
      "121 2019-07-27 00:00:00 0 R 28\n",
      "122 2019-07-26 00:00:00 0 R 29\n",
      "123 2019-07-26 00:00:00 0 R 30\n",
      "124 2019-07-26 00:00:00 0 R 31\n",
      "125 2019-07-26 00:00:00 0 R 31\n",
      "126 2019-07-25 00:00:00 1 R 31\n",
      "127 2019-07-25 00:00:00 1 R 30\n",
      "128 2019-07-25 00:00:00 0 R 30\n",
      "129 2019-07-25 00:00:00 1 R 30\n",
      "130 2019-07-24 00:00:00 1 R 30\n",
      "131 2019-07-24 00:00:00 0 R 30\n",
      "132 2019-07-24 00:00:00 0 R 31\n",
      "133 2019-07-24 00:00:00 1 R 31\n",
      "134 2019-07-24 00:00:00 1 R 31\n",
      "135 2019-07-23 00:00:00 0 R 30\n",
      "136 2019-07-21 00:00:00 0 R 30\n",
      "137 2019-07-21 00:00:00 0 R 31\n",
      "138 2019-07-21 00:00:00 0 R 31\n",
      "139 2019-07-21 00:00:00 0 R 32\n",
      "140 2019-07-20 00:00:00 0 R 32\n",
      "141 2019-07-20 00:00:00 0 R 33\n",
      "142 2019-07-19 00:00:00 0 R 33\n",
      "143 2019-07-18 00:00:00 0 R 34\n",
      "144 2019-07-17 00:00:00 1 R 35\n",
      "145 2019-07-17 00:00:00 0 R 34\n",
      "146 2019-07-17 00:00:00 1 R 35\n",
      "147 2019-07-16 00:00:00 0 R 34\n",
      "148 2019-07-16 00:00:00 0 R 34\n",
      "149 2019-07-16 00:00:00 1 R 34\n",
      "150 2019-07-16 00:00:00 0 R 33\n",
      "151 2019-07-14 00:00:00 0 R 34\n",
      "152 2019-07-14 00:00:00 0 R 34\n",
      "153 2019-07-14 00:00:00 0 R 34\n",
      "154 2019-07-14 00:00:00 0 R 34\n",
      "155 2019-07-13 00:00:00 1 R 34\n",
      "156 2019-07-13 00:00:00 0 R 33\n",
      "157 2019-07-13 00:00:00 0 R 33\n",
      "158 2019-07-13 00:00:00 0 R 33\n",
      "159 2019-07-13 00:00:00 1 R 33\n",
      "160 2019-07-12 00:00:00 0 R 33\n",
      "161 2019-07-12 00:00:00 1 R 34\n",
      "162 2019-07-07 00:00:00 0 R 33\n",
      "163 2019-07-07 00:00:00 0 R 34\n",
      "164 2019-07-07 00:00:00 0 R 34\n",
      "165 2019-07-06 00:00:00 0 R 34\n",
      "166 2019-07-06 00:00:00 0 R 34\n",
      "167 2019-07-06 00:00:00 0 R 35\n",
      "168 2019-07-06 00:00:00 0 R 36\n",
      "169 2019-07-05 00:00:00 0 R 36\n",
      "170 2019-07-04 00:00:00 0 R 36\n",
      "171 2019-07-03 00:00:00 0 R 36\n",
      "172 2019-07-03 00:00:00 0 R 36\n",
      "173 2019-07-03 00:00:00 0 R 36\n",
      "174 2019-07-03 00:00:00 0 R 36\n",
      "175 2019-07-01 00:00:00 0 R 36\n",
      "176 2019-07-01 00:00:00 0 R 37\n",
      "177 2019-07-01 00:00:00 0 R 37\n",
      "178 2019-06-30 00:00:00 0 R 37\n",
      "179 2019-06-30 00:00:00 0 R 37\n",
      "180 2019-06-30 00:00:00 0 R 37\n",
      "181 2019-06-30 00:00:00 0 R 37\n",
      "182 2019-06-30 00:00:00 1 R 38\n",
      "183 2019-06-29 00:00:00 0 R 37\n",
      "184 2019-06-29 00:00:00 0 R 37\n",
      "185 2019-06-29 00:00:00 1 R 38\n",
      "186 2019-06-29 00:00:00 1 R 37\n",
      "187 2019-06-29 00:00:00 0 R 36\n",
      "188 2019-06-28 00:00:00 0 R 36\n",
      "189 2019-06-28 00:00:00 0 R 36\n",
      "190 2019-06-28 00:00:00 0 R 37\n",
      "191 2019-06-28 00:00:00 0 R 37\n",
      "192 2019-06-26 00:00:00 0 R 37\n",
      "193 2019-06-26 00:00:00 1 R 37\n",
      "194 2019-06-26 00:00:00 1 R 36\n",
      "195 2019-06-26 00:00:00 0 R 35\n",
      "196 2019-06-25 00:00:00 0 R 36\n",
      "197 2019-06-25 00:00:00 1 R 36\n",
      "198 2019-06-25 00:00:00 1 R 36\n",
      "199 2019-06-25 00:00:00 0 R 36\n",
      "200 2019-06-23 00:00:00 1 R 36\n",
      "201 2019-06-23 00:00:00 0 R 35\n",
      "202 2019-06-22 00:00:00 1 R 35\n",
      "203 2019-06-22 00:00:00 0 R 35\n",
      "204 2019-06-22 00:00:00 1 R 36\n",
      "205 2019-06-22 00:00:00 0 R 35\n",
      "206 2019-06-21 00:00:00 1 R 36\n",
      "207 2019-06-21 00:00:00 0 R 35\n",
      "208 2019-06-21 00:00:00 1 R 35\n",
      "209 2019-06-21 00:00:00 0 R 34\n",
      "210 2019-06-19 00:00:00 0 R 34\n",
      "211 2019-06-19 00:00:00 1 R 34\n",
      "212 2019-06-19 00:00:00 0 R 33\n",
      "213 2019-06-19 00:00:00 1 R 33\n",
      "214 2019-06-19 00:00:00 0 R 32\n",
      "215 2019-06-18 00:00:00 0 R 33\n",
      "216 2019-06-18 00:00:00 1 R 34\n",
      "217 2019-06-18 00:00:00 1 R 33\n",
      "218 2019-06-18 00:00:00 0 R 32\n",
      "219 2019-06-17 00:00:00 0 R 32\n",
      "220 2019-06-17 00:00:00 0 R 32\n",
      "221 2019-06-17 00:00:00 1 R 33\n",
      "222 2019-06-17 00:00:00 1 R 33\n",
      "223 2019-06-16 00:00:00 1 R 32\n",
      "224 2019-06-16 00:00:00 0 R 32\n",
      "225 2019-06-16 00:00:00 0 R 32\n",
      "226 2019-06-16 00:00:00 0 R 33\n",
      "227 2019-06-16 00:00:00 1 R 34\n",
      "228 2019-06-15 00:00:00 0 R 33\n",
      "229 2019-06-15 00:00:00 1 R 33\n",
      "230 2019-06-15 00:00:00 1 R 32\n",
      "231 2019-06-14 00:00:00 1 R 32\n",
      "232 2019-06-14 00:00:00 0 R 31\n",
      "233 2019-06-14 00:00:00 1 R 32\n",
      "234 2019-06-14 00:00:00 0 R 31\n",
      "235 2019-06-14 00:00:00 0 R 31\n",
      "236 2019-06-13 00:00:00 1 R 31\n",
      "237 2019-06-13 00:00:00 0 R 30\n",
      "238 2019-06-13 00:00:00 1 R 30\n",
      "239 2019-06-13 00:00:00 0 R 30\n",
      "240 2019-06-13 00:00:00 1 R 31\n",
      "241 2019-06-12 00:00:00 0 R 31\n",
      "242 2019-06-12 00:00:00 1 R 31\n",
      "243 2019-06-12 00:00:00 1 R 31\n",
      "244 2019-06-11 00:00:00 0 R 30\n",
      "245 2019-06-11 00:00:00 1 R 30\n",
      "246 2019-06-11 00:00:00 0 R 29\n",
      "247 2019-06-11 00:00:00 0 R 29\n",
      "248 2019-06-08 00:00:00 0 R 29\n",
      "249 2019-06-08 00:00:00 0 R 30\n",
      "250 2019-06-08 00:00:00 1 R 30\n",
      "251 2019-06-08 00:00:00 0 R 29\n",
      "252 2019-06-07 00:00:00 0 R 29\n",
      "253 2019-06-07 00:00:00 0 R 29\n",
      "254 2019-06-07 00:00:00 0 R 29\n",
      "255 2019-06-06 00:00:00 0 R 29\n",
      "256 2019-06-05 00:00:00 0 R 29\n",
      "257 2019-06-05 00:00:00 0 R 29\n",
      "258 2019-06-05 00:00:00 0 R 30\n",
      "259 2019-06-05 00:00:00 1 R 30\n",
      "260 2019-06-05 00:00:00 1 R 29\n",
      "261 2019-06-04 00:00:00 0 R 28\n",
      "262 2019-06-04 00:00:00 1 R 29\n",
      "263 2019-06-04 00:00:00 0 R 28\n",
      "264 2019-06-04 00:00:00 0 R 28\n",
      "265 2019-06-04 00:00:00 0 R 28\n",
      "266 2019-06-03 00:00:00 1 R 28\n",
      "267 2019-06-03 00:00:00 1 R 27\n",
      "268 2019-06-03 00:00:00 0 R 26\n",
      "269 2019-06-03 00:00:00 0 R 26\n",
      "270 2019-06-03 00:00:00 0 R 26\n",
      "271 2019-06-02 00:00:00 0 R 26\n",
      "272 2019-06-02 00:00:00 0 R 27\n",
      "273 2019-06-01 00:00:00 0 R 27\n",
      "274 2019-06-01 00:00:00 0 R 27\n",
      "275 2019-06-01 00:00:00 1 R 27\n"
     ]
    },
    {
     "name": "stdout",
     "output_type": "stream",
     "text": [
      "276 2019-06-01 00:00:00 0 R 26\n",
      "277 2019-05-31 00:00:00 0 R 27\n",
      "278 2019-05-31 00:00:00 0 R 27\n",
      "279 2019-05-29 00:00:00 0 R 27\n",
      "280 2019-05-28 00:00:00 0 R 27\n",
      "281 2019-05-28 00:00:00 1 R 27\n",
      "282 2019-05-28 00:00:00 0 R 26\n",
      "283 2019-05-28 00:00:00 0 R 27\n",
      "284 2019-05-28 00:00:00 1 R 28\n",
      "285 2019-05-27 00:00:00 0 R 27\n",
      "286 2019-05-27 00:00:00 0 R 27\n",
      "287 2019-05-27 00:00:00 0 R 27\n",
      "288 2019-05-26 00:00:00 0 R 27\n",
      "289 2019-05-26 00:00:00 1 R 28\n",
      "290 2019-05-26 00:00:00 0 R 27\n",
      "291 2019-05-26 00:00:00 0 R 27\n",
      "292 2019-05-25 00:00:00 0 R 27\n",
      "293 2019-05-25 00:00:00 0 R 27\n",
      "294 2019-05-25 00:00:00 0 R 27\n",
      "295 2019-05-24 00:00:00 1 R 27\n",
      "296 2019-05-24 00:00:00 0 R 26\n",
      "297 2019-05-24 00:00:00 1 R 26\n",
      "298 2019-05-24 00:00:00 1 R 25\n",
      "299 2019-05-22 00:00:00 0 R 24\n",
      "300 2019-05-22 00:00:00 0 R 24\n",
      "301 2019-05-22 00:00:00 0 R 24\n",
      "302 2019-05-21 00:00:00 1 R 24\n",
      "303 2019-05-21 00:00:00 1 R 23\n",
      "304 2019-05-21 00:00:00 0 R 22\n",
      "305 2019-05-20 00:00:00 1 R 22\n",
      "306 2019-05-20 00:00:00 0 R 21\n",
      "307 2019-05-20 00:00:00 0 R 21\n",
      "308 2019-05-19 00:00:00 0 R 21\n",
      "309 2019-05-19 00:00:00 0 R 21\n",
      "310 2019-05-19 00:00:00 0 R 21\n",
      "311 2019-05-18 00:00:00 0 R 21\n",
      "312 2019-05-18 00:00:00 0 R 21\n",
      "313 2019-05-18 00:00:00 0 R 21\n",
      "314 2019-05-17 00:00:00 1 R 21\n",
      "315 2019-05-17 00:00:00 1 R 20\n",
      "316 2019-05-17 00:00:00 0 R 19\n",
      "317 2019-05-17 00:00:00 0 R 19\n",
      "318 2019-05-16 00:00:00 0 R 19\n",
      "319 2019-05-16 00:00:00 0 R 19\n",
      "320 2019-05-16 00:00:00 1 R 19\n",
      "321 2019-05-15 00:00:00 1 R 18\n",
      "322 2019-05-15 00:00:00 0 R 17\n",
      "323 2019-05-15 00:00:00 1 R 17\n",
      "324 2019-05-15 00:00:00 0 R 16\n",
      "325 2019-05-14 00:00:00 1 R 16\n",
      "326 2019-05-12 00:00:00 1 R 15\n",
      "327 2019-05-12 00:00:00 0 R 14\n",
      "328 2019-05-12 00:00:00 0 R 14\n",
      "329 2019-05-12 00:00:00 0 R 14\n",
      "330 2019-05-12 00:00:00 1 R 14\n",
      "331 2019-05-11 00:00:00 0 R 13\n",
      "332 2019-05-11 00:00:00 1 R 13\n",
      "333 2019-05-11 00:00:00 0 R 12\n",
      "334 2019-05-11 00:00:00 0 R 12\n",
      "335 2019-05-11 00:00:00 0 R 12\n",
      "336 2019-05-10 00:00:00 0 R 12\n",
      "337 2019-05-10 00:00:00 0 R 12\n",
      "338 2019-05-10 00:00:00 1 R 12\n",
      "339 2019-05-10 00:00:00 1 R 11\n",
      "340 2019-05-10 00:00:00 1 R 10\n",
      "341 2019-05-08 00:00:00 0 R 9\n",
      "342 2019-05-08 00:00:00 1 R 9\n",
      "343 2019-05-08 00:00:00 0 R 8\n",
      "344 2019-05-08 00:00:00 0 R 8\n",
      "345 2019-05-07 00:00:00 0 R 8\n",
      "346 2019-05-07 00:00:00 0 R 8\n",
      "347 2019-05-07 00:00:00 0 R 8\n",
      "348 2019-05-07 00:00:00 1 R 8\n",
      "349 2019-05-06 00:00:00 0 R 7\n",
      "350 2019-05-06 00:00:00 0 R 7\n",
      "351 2019-05-06 00:00:00 0 R 7\n",
      "352 2019-05-05 00:00:00 0 R 7\n",
      "353 2019-05-05 00:00:00 0 R 7\n",
      "354 2019-05-05 00:00:00 0 R 7\n",
      "355 2019-05-05 00:00:00 0 R 7\n",
      "356 2019-05-04 00:00:00 0 R 7\n",
      "357 2019-05-04 00:00:00 1 R 7\n",
      "358 2019-05-04 00:00:00 0 R 6\n",
      "359 2019-05-03 00:00:00 0 R 6\n",
      "360 2019-05-02 00:00:00 0 R 6\n",
      "361 2019-05-02 00:00:00 1 R 6\n",
      "362 2019-05-02 00:00:00 0 R 5\n",
      "363 2019-05-02 00:00:00 0 R 5\n",
      "364 2019-05-02 00:00:00 0 R 5\n",
      "365 2019-05-01 00:00:00 0 R 5\n",
      "366 2019-04-30 00:00:00 0 R 5\n",
      "367 2019-04-30 00:00:00 0 R 5\n",
      "368 2019-04-30 00:00:00 0 R 5\n",
      "369 2019-04-29 00:00:00 0 R 5\n",
      "370 2019-04-29 00:00:00 0 R 5\n",
      "371 2019-04-29 00:00:00 1 R 5\n",
      "372 2019-04-29 00:00:00 0 R 4\n",
      "373 2019-04-28 00:00:00 0 R 4\n",
      "374 2019-04-28 00:00:00 0 R 4\n",
      "375 2019-04-28 00:00:00 0 R 4\n",
      "376 2019-04-28 00:00:00 1 R 4\n",
      "377 2019-04-28 00:00:00 0 R 3\n",
      "378 2019-04-27 00:00:00 0 R 3\n",
      "379 2019-04-27 00:00:00 0 R 3\n",
      "380 2019-04-27 00:00:00 0 R 3\n",
      "381 2019-04-27 00:00:00 0 R 3\n",
      "382 2019-04-27 00:00:00 1 R 3\n",
      "383 2019-04-26 00:00:00 1 R 2\n",
      "384 2019-04-26 00:00:00 0 R 1\n",
      "385 2019-04-26 00:00:00 0 R 1\n",
      "386 2019-04-24 00:00:00 0 R 1\n",
      "387 2019-04-24 00:00:00 0 R 1\n",
      "388 2019-04-24 00:00:00 1 R 1\n",
      "389 2019-04-23 00:00:00 0 R 0\n"
     ]
    },
    {
     "ename": "IndexError",
     "evalue": "single positional indexer is out-of-bounds",
     "output_type": "error",
     "traceback": [
      "\u001b[0;31m---------------------------------------------------------------------------\u001b[0m",
      "\u001b[0;31mIndexError\u001b[0m                                Traceback (most recent call last)",
      "\u001b[0;32m<ipython-input-194-39b9a95d9947>\u001b[0m in \u001b[0;36m<module>\u001b[0;34m\u001b[0m\n\u001b[1;32m      3\u001b[0m     \u001b[0mdf_sc_events_cp_throw\u001b[0m \u001b[0;34m=\u001b[0m \u001b[0mdf_sc_events\u001b[0m\u001b[0;34m[\u001b[0m\u001b[0mdf_sc_events\u001b[0m\u001b[0;34m[\u001b[0m\u001b[0;34m\"p_throws\"\u001b[0m\u001b[0;34m]\u001b[0m \u001b[0;34m==\u001b[0m \u001b[0mbatter_stance\u001b[0m\u001b[0;34m]\u001b[0m\u001b[0;34m\u001b[0m\u001b[0;34m\u001b[0m\u001b[0m\n\u001b[1;32m      4\u001b[0m     \u001b[0mn_cp_events\u001b[0m \u001b[0;34m=\u001b[0m \u001b[0mdf_sc_events_cp_throw\u001b[0m\u001b[0;34m[\u001b[0m\u001b[0;34m\"event_code\"\u001b[0m\u001b[0;34m]\u001b[0m\u001b[0;34m.\u001b[0m\u001b[0miloc\u001b[0m\u001b[0;34m[\u001b[0m\u001b[0mi\u001b[0m \u001b[0;34m:\u001b[0m \u001b[0mi\u001b[0m \u001b[0;34m+\u001b[0m \u001b[0;36m100\u001b[0m\u001b[0;34m]\u001b[0m\u001b[0;34m.\u001b[0m\u001b[0msum\u001b[0m\u001b[0;34m(\u001b[0m\u001b[0;34m)\u001b[0m\u001b[0;34m\u001b[0m\u001b[0;34m\u001b[0m\u001b[0m\n\u001b[0;32m----> 5\u001b[0;31m     \u001b[0mprint\u001b[0m\u001b[0;34m(\u001b[0m\u001b[0mi\u001b[0m\u001b[0;34m,\u001b[0m \u001b[0mdf_sc_events_cp_throw\u001b[0m\u001b[0;34m[\u001b[0m\u001b[0;34m\"game_date\"\u001b[0m\u001b[0;34m]\u001b[0m\u001b[0;34m.\u001b[0m\u001b[0miloc\u001b[0m\u001b[0;34m[\u001b[0m\u001b[0mi\u001b[0m\u001b[0;34m]\u001b[0m\u001b[0;34m,\u001b[0m \u001b[0mdf_sc_events_cp_throw\u001b[0m\u001b[0;34m[\u001b[0m\u001b[0;34m\"event_code\"\u001b[0m\u001b[0;34m]\u001b[0m\u001b[0;34m.\u001b[0m\u001b[0miloc\u001b[0m\u001b[0;34m[\u001b[0m\u001b[0mi\u001b[0m\u001b[0;34m]\u001b[0m\u001b[0;34m,\u001b[0m \u001b[0mp_throw\u001b[0m\u001b[0;34m,\u001b[0m \u001b[0mn_cp_events\u001b[0m\u001b[0;34m)\u001b[0m\u001b[0;34m\u001b[0m\u001b[0;34m\u001b[0m\u001b[0m\n\u001b[0m\u001b[1;32m      6\u001b[0m \u001b[0;34m\u001b[0m\u001b[0m\n\u001b[1;32m      7\u001b[0m \u001b[0;31m#     print(df_sc_events_cp_throw[\"event_code\"].iloc[::-1].rolling(n_back_PA).sum().iloc[::-1].iloc[\u001b[0m\u001b[0;34m\u001b[0m\u001b[0;34m\u001b[0m\u001b[0;34m\u001b[0m\u001b[0m\n",
      "\u001b[0;32m~/anaconda/envs/insight/lib/python3.6/site-packages/pandas/core/indexing.py\u001b[0m in \u001b[0;36m__getitem__\u001b[0;34m(self, key)\u001b[0m\n\u001b[1;32m   1422\u001b[0m \u001b[0;34m\u001b[0m\u001b[0m\n\u001b[1;32m   1423\u001b[0m             \u001b[0mmaybe_callable\u001b[0m \u001b[0;34m=\u001b[0m \u001b[0mcom\u001b[0m\u001b[0;34m.\u001b[0m\u001b[0mapply_if_callable\u001b[0m\u001b[0;34m(\u001b[0m\u001b[0mkey\u001b[0m\u001b[0;34m,\u001b[0m \u001b[0mself\u001b[0m\u001b[0;34m.\u001b[0m\u001b[0mobj\u001b[0m\u001b[0;34m)\u001b[0m\u001b[0;34m\u001b[0m\u001b[0;34m\u001b[0m\u001b[0m\n\u001b[0;32m-> 1424\u001b[0;31m             \u001b[0;32mreturn\u001b[0m \u001b[0mself\u001b[0m\u001b[0;34m.\u001b[0m\u001b[0m_getitem_axis\u001b[0m\u001b[0;34m(\u001b[0m\u001b[0mmaybe_callable\u001b[0m\u001b[0;34m,\u001b[0m \u001b[0maxis\u001b[0m\u001b[0;34m=\u001b[0m\u001b[0maxis\u001b[0m\u001b[0;34m)\u001b[0m\u001b[0;34m\u001b[0m\u001b[0;34m\u001b[0m\u001b[0m\n\u001b[0m\u001b[1;32m   1425\u001b[0m \u001b[0;34m\u001b[0m\u001b[0m\n\u001b[1;32m   1426\u001b[0m     \u001b[0;32mdef\u001b[0m \u001b[0m_is_scalar_access\u001b[0m\u001b[0;34m(\u001b[0m\u001b[0mself\u001b[0m\u001b[0;34m,\u001b[0m \u001b[0mkey\u001b[0m\u001b[0;34m:\u001b[0m \u001b[0mTuple\u001b[0m\u001b[0;34m)\u001b[0m\u001b[0;34m:\u001b[0m\u001b[0;34m\u001b[0m\u001b[0;34m\u001b[0m\u001b[0m\n",
      "\u001b[0;32m~/anaconda/envs/insight/lib/python3.6/site-packages/pandas/core/indexing.py\u001b[0m in \u001b[0;36m_getitem_axis\u001b[0;34m(self, key, axis)\u001b[0m\n\u001b[1;32m   2155\u001b[0m \u001b[0;34m\u001b[0m\u001b[0m\n\u001b[1;32m   2156\u001b[0m             \u001b[0;31m# validate the location\u001b[0m\u001b[0;34m\u001b[0m\u001b[0;34m\u001b[0m\u001b[0;34m\u001b[0m\u001b[0m\n\u001b[0;32m-> 2157\u001b[0;31m             \u001b[0mself\u001b[0m\u001b[0;34m.\u001b[0m\u001b[0m_validate_integer\u001b[0m\u001b[0;34m(\u001b[0m\u001b[0mkey\u001b[0m\u001b[0;34m,\u001b[0m \u001b[0maxis\u001b[0m\u001b[0;34m)\u001b[0m\u001b[0;34m\u001b[0m\u001b[0;34m\u001b[0m\u001b[0m\n\u001b[0m\u001b[1;32m   2158\u001b[0m \u001b[0;34m\u001b[0m\u001b[0m\n\u001b[1;32m   2159\u001b[0m             \u001b[0;32mreturn\u001b[0m \u001b[0mself\u001b[0m\u001b[0;34m.\u001b[0m\u001b[0m_get_loc\u001b[0m\u001b[0;34m(\u001b[0m\u001b[0mkey\u001b[0m\u001b[0;34m,\u001b[0m \u001b[0maxis\u001b[0m\u001b[0;34m=\u001b[0m\u001b[0maxis\u001b[0m\u001b[0;34m)\u001b[0m\u001b[0;34m\u001b[0m\u001b[0;34m\u001b[0m\u001b[0m\n",
      "\u001b[0;32m~/anaconda/envs/insight/lib/python3.6/site-packages/pandas/core/indexing.py\u001b[0m in \u001b[0;36m_validate_integer\u001b[0;34m(self, key, axis)\u001b[0m\n\u001b[1;32m   2086\u001b[0m         \u001b[0mlen_axis\u001b[0m \u001b[0;34m=\u001b[0m \u001b[0mlen\u001b[0m\u001b[0;34m(\u001b[0m\u001b[0mself\u001b[0m\u001b[0;34m.\u001b[0m\u001b[0mobj\u001b[0m\u001b[0;34m.\u001b[0m\u001b[0m_get_axis\u001b[0m\u001b[0;34m(\u001b[0m\u001b[0maxis\u001b[0m\u001b[0;34m)\u001b[0m\u001b[0;34m)\u001b[0m\u001b[0;34m\u001b[0m\u001b[0;34m\u001b[0m\u001b[0m\n\u001b[1;32m   2087\u001b[0m         \u001b[0;32mif\u001b[0m \u001b[0mkey\u001b[0m \u001b[0;34m>=\u001b[0m \u001b[0mlen_axis\u001b[0m \u001b[0;32mor\u001b[0m \u001b[0mkey\u001b[0m \u001b[0;34m<\u001b[0m \u001b[0;34m-\u001b[0m\u001b[0mlen_axis\u001b[0m\u001b[0;34m:\u001b[0m\u001b[0;34m\u001b[0m\u001b[0;34m\u001b[0m\u001b[0m\n\u001b[0;32m-> 2088\u001b[0;31m             \u001b[0;32mraise\u001b[0m \u001b[0mIndexError\u001b[0m\u001b[0;34m(\u001b[0m\u001b[0;34m\"single positional indexer is out-of-bounds\"\u001b[0m\u001b[0;34m)\u001b[0m\u001b[0;34m\u001b[0m\u001b[0;34m\u001b[0m\u001b[0m\n\u001b[0m\u001b[1;32m   2089\u001b[0m \u001b[0;34m\u001b[0m\u001b[0m\n\u001b[1;32m   2090\u001b[0m     \u001b[0;32mdef\u001b[0m \u001b[0m_getitem_tuple\u001b[0m\u001b[0;34m(\u001b[0m\u001b[0mself\u001b[0m\u001b[0;34m,\u001b[0m \u001b[0mtup\u001b[0m\u001b[0;34m)\u001b[0m\u001b[0;34m:\u001b[0m\u001b[0;34m\u001b[0m\u001b[0;34m\u001b[0m\u001b[0m\n",
      "\u001b[0;31mIndexError\u001b[0m: single positional indexer is out-of-bounds"
     ]
    },
    {
     "data": {
      "application/javascript": [
       "\n",
       "            setTimeout(function() {\n",
       "                var nbb_cell_id = 194;\n",
       "                var nbb_unformatted_code = \"for i in df_sc_events.index:\\n    batter_stance = df_sc_events[\\\"stand\\\"].iloc[i]\\n    df_sc_events_cp_throw = df_sc_events[df_sc_events[\\\"p_throws\\\"] == batter_stance]\\n    n_cp_events = df_sc_events_cp_throw[\\\"event_code\\\"].iloc[i : i + 100].sum()\\n    print(i, df_sc_events_cp_throw[\\\"game_date\\\"].iloc[i], df_sc_events_cp_throw[\\\"event_code\\\"].iloc[i], p_throw, n_cp_events)\\n\\n#     print(df_sc_events_cp_throw[\\\"event_code\\\"].iloc[::-1].rolling(n_back_PA).sum().iloc[::-1].iloc[\\n#     0:100)\\n# ]\";\n",
       "                var nbb_formatted_code = \"for i in df_sc_events.index:\\n    batter_stance = df_sc_events[\\\"stand\\\"].iloc[i]\\n    df_sc_events_cp_throw = df_sc_events[df_sc_events[\\\"p_throws\\\"] == batter_stance]\\n    n_cp_events = df_sc_events_cp_throw[\\\"event_code\\\"].iloc[i : i + 100].sum()\\n    print(\\n        i,\\n        df_sc_events_cp_throw[\\\"game_date\\\"].iloc[i],\\n        df_sc_events_cp_throw[\\\"event_code\\\"].iloc[i],\\n        p_throw,\\n        n_cp_events,\\n    )\\n\\n#     print(df_sc_events_cp_throw[\\\"event_code\\\"].iloc[::-1].rolling(n_back_PA).sum().iloc[::-1].iloc[\\n#     0:100)\\n# ]\";\n",
       "                var nbb_cells = Jupyter.notebook.get_cells();\n",
       "                for (var i = 0; i < nbb_cells.length; ++i) {\n",
       "                    if (nbb_cells[i].input_prompt_number == nbb_cell_id) {\n",
       "                        if (nbb_cells[i].get_text() == nbb_unformatted_code) {\n",
       "                             nbb_cells[i].set_text(nbb_formatted_code);\n",
       "                        }\n",
       "                        break;\n",
       "                    }\n",
       "                }\n",
       "            }, 500);\n",
       "            "
      ],
      "text/plain": [
       "<IPython.core.display.Javascript object>"
      ]
     },
     "metadata": {},
     "output_type": "display_data"
    }
   ],
   "source": [
    "for i in df_sc_events.index:\n",
    "    batter_stance = df_sc_events[\"stand\"].iloc[i]\n",
    "    df_sc_events_cp_throw = df_sc_events[df_sc_events[\"p_throws\"] == batter_stance]\n",
    "    n_cp_events = df_sc_events_cp_throw[\"event_code\"].iloc[i : i + 100].sum()\n",
    "    print(\n",
    "        i,\n",
    "        df_sc_events_cp_throw[\"game_date\"].iloc[i],\n",
    "        df_sc_events_cp_throw[\"event_code\"].iloc[i],\n",
    "        p_throw,\n",
    "        n_cp_events,\n",
    "    )\n",
    "\n",
    "#     print(df_sc_events_cp_throw[\"event_code\"].iloc[::-1].rolling(n_back_PA).sum().iloc[::-1].iloc[\n",
    "#     0:100)\n",
    "# ]"
   ]
  },
  {
   "cell_type": "code",
   "execution_count": 209,
   "metadata": {
    "ExecuteTime": {
     "end_time": "2020-01-26T07:09:34.518637Z",
     "start_time": "2020-01-26T07:09:34.327592Z"
    }
   },
   "outputs": [
    {
     "data": {
      "text/plain": [
       "<matplotlib.axes._subplots.AxesSubplot at 0x1a289945c0>"
      ]
     },
     "execution_count": 209,
     "metadata": {},
     "output_type": "execute_result"
    },
    {
     "data": {
      "image/png": "[encoded data removed]",
      "text/plain": [
       "<Figure size 432x288 with 1 Axes>"
      ]
     },
     "metadata": {
      "needs_background": "light"
     },
     "output_type": "display_data"
    },
    {
     "data": {
      "application/javascript": [
       "\n",
       "            setTimeout(function() {\n",
       "                var nbb_cell_id = 209;\n",
       "                var nbb_unformatted_code = \"df_sc_events[\\\"num_events_sum_nback_cp\\\"].iloc[0:100].hist()\";\n",
       "                var nbb_formatted_code = \"df_sc_events[\\\"num_events_sum_nback_cp\\\"].iloc[0:100].hist()\";\n",
       "                var nbb_cells = Jupyter.notebook.get_cells();\n",
       "                for (var i = 0; i < nbb_cells.length; ++i) {\n",
       "                    if (nbb_cells[i].input_prompt_number == nbb_cell_id) {\n",
       "                        if (nbb_cells[i].get_text() == nbb_unformatted_code) {\n",
       "                             nbb_cells[i].set_text(nbb_formatted_code);\n",
       "                        }\n",
       "                        break;\n",
       "                    }\n",
       "                }\n",
       "            }, 500);\n",
       "            "
      ],
      "text/plain": [
       "<IPython.core.display.Javascript object>"
      ]
     },
     "metadata": {},
     "output_type": "display_data"
    }
   ],
   "source": [
    "df_sc_events[\"num_events_sum_nback_cp\"].iloc[0:100].hist()"
   ]
  },
  {
   "cell_type": "code",
   "execution_count": 208,
   "metadata": {
    "ExecuteTime": {
     "end_time": "2020-01-26T07:09:03.989295Z",
     "start_time": "2020-01-26T07:09:03.796133Z"
    }
   },
   "outputs": [
    {
     "data": {
      "text/plain": [
       "<matplotlib.axes._subplots.AxesSubplot at 0x1a2870e780>"
      ]
     },
     "execution_count": 208,
     "metadata": {},
     "output_type": "execute_result"
    },
    {
     "data": {
      "image/png": "[encoded data removed]",
      "text/plain": [
       "<Figure size 432x288 with 1 Axes>"
      ]
     },
     "metadata": {
      "needs_background": "light"
     },
     "output_type": "display_data"
    },
    {
     "data": {
      "application/javascript": [
       "\n",
       "            setTimeout(function() {\n",
       "                var nbb_cell_id = 208;\n",
       "                var nbb_unformatted_code = \"df_sc_events[\\\"num_events_sum_nback_tp\\\"].iloc[0:100].hist()\";\n",
       "                var nbb_formatted_code = \"df_sc_events[\\\"num_events_sum_nback_tp\\\"].iloc[0:100].hist()\";\n",
       "                var nbb_cells = Jupyter.notebook.get_cells();\n",
       "                for (var i = 0; i < nbb_cells.length; ++i) {\n",
       "                    if (nbb_cells[i].input_prompt_number == nbb_cell_id) {\n",
       "                        if (nbb_cells[i].get_text() == nbb_unformatted_code) {\n",
       "                             nbb_cells[i].set_text(nbb_formatted_code);\n",
       "                        }\n",
       "                        break;\n",
       "                    }\n",
       "                }\n",
       "            }, 500);\n",
       "            "
      ],
      "text/plain": [
       "<IPython.core.display.Javascript object>"
      ]
     },
     "metadata": {},
     "output_type": "display_data"
    }
   ],
   "source": [
    "df_sc_events[\"num_events_sum_nback_tp\"].iloc[0:100].hist()"
   ]
  },
  {
   "cell_type": "code",
   "execution_count": 187,
   "metadata": {
    "ExecuteTime": {
     "end_time": "2020-01-26T06:52:21.859688Z",
     "start_time": "2020-01-26T06:52:21.844893Z"
    },
    "collapsed": true
   },
   "outputs": [
    {
     "data": {
      "text/plain": [
       "0      29.0\n",
       "1      29.0\n",
       "2      28.0\n",
       "3      28.0\n",
       "4      27.0\n",
       "       ... \n",
       "496     NaN\n",
       "497     NaN\n",
       "498     NaN\n",
       "499     NaN\n",
       "500     NaN\n",
       "Name: event_code, Length: 390, dtype: float64"
      ]
     },
     "execution_count": 187,
     "metadata": {},
     "output_type": "execute_result"
    },
    {
     "data": {
      "application/javascript": [
       "\n",
       "            setTimeout(function() {\n",
       "                var nbb_cell_id = 187;\n",
       "                var nbb_unformatted_code = \"df_sc_events_cp_throw[\\\"event_code\\\"].iloc[::-1].rolling(n_back_PA).sum().iloc[::-1]\";\n",
       "                var nbb_formatted_code = \"df_sc_events_cp_throw[\\\"event_code\\\"].iloc[::-1].rolling(n_back_PA).sum().iloc[::-1]\";\n",
       "                var nbb_cells = Jupyter.notebook.get_cells();\n",
       "                for (var i = 0; i < nbb_cells.length; ++i) {\n",
       "                    if (nbb_cells[i].input_prompt_number == nbb_cell_id) {\n",
       "                        if (nbb_cells[i].get_text() == nbb_unformatted_code) {\n",
       "                             nbb_cells[i].set_text(nbb_formatted_code);\n",
       "                        }\n",
       "                        break;\n",
       "                    }\n",
       "                }\n",
       "            }, 500);\n",
       "            "
      ],
      "text/plain": [
       "<IPython.core.display.Javascript object>"
      ]
     },
     "metadata": {},
     "output_type": "display_data"
    }
   ],
   "source": [
    "df_sc_events_cp_throw[\"event_code\"].iloc[::-1].rolling(n_back_PA).sum().iloc[::-1]"
   ]
  },
  {
   "cell_type": "code",
   "execution_count": 186,
   "metadata": {
    "ExecuteTime": {
     "end_time": "2020-01-26T06:50:34.541622Z",
     "start_time": "2020-01-26T06:50:34.533611Z"
    }
   },
   "outputs": [
    {
     "data": {
      "text/plain": [
       "500"
      ]
     },
     "execution_count": 186,
     "metadata": {},
     "output_type": "execute_result"
    },
    {
     "data": {
      "application/javascript": [
       "\n",
       "            setTimeout(function() {\n",
       "                var nbb_cell_id = 186;\n",
       "                var nbb_unformatted_code = \"i\";\n",
       "                var nbb_formatted_code = \"i\";\n",
       "                var nbb_cells = Jupyter.notebook.get_cells();\n",
       "                for (var i = 0; i < nbb_cells.length; ++i) {\n",
       "                    if (nbb_cells[i].input_prompt_number == nbb_cell_id) {\n",
       "                        if (nbb_cells[i].get_text() == nbb_unformatted_code) {\n",
       "                             nbb_cells[i].set_text(nbb_formatted_code);\n",
       "                        }\n",
       "                        break;\n",
       "                    }\n",
       "                }\n",
       "            }, 500);\n",
       "            "
      ],
      "text/plain": [
       "<IPython.core.display.Javascript object>"
      ]
     },
     "metadata": {},
     "output_type": "display_data"
    }
   ],
   "source": []
  },
  {
   "cell_type": "code",
   "execution_count": 185,
   "metadata": {
    "ExecuteTime": {
     "end_time": "2020-01-26T06:49:51.689906Z",
     "start_time": "2020-01-26T06:49:51.629036Z"
    }
   },
   "outputs": [
    {
     "data": {
      "text/html": [
       "<div>\n",
       "<style scoped>\n",
       "    .dataframe tbody tr th:only-of-type {\n",
       "        vertical-align: middle;\n",
       "    }\n",
       "\n",
       "    .dataframe tbody tr th {\n",
       "        vertical-align: top;\n",
       "    }\n",
       "\n",
       "    .dataframe thead th {\n",
       "        text-align: right;\n",
       "    }\n",
       "</style>\n",
       "<table border=\"1\" class=\"dataframe\">\n",
       "  <thead>\n",
       "    <tr style=\"text-align: right;\">\n",
       "      <th></th>\n",
       "      <th>pitch_type</th>\n",
       "      <th>game_date</th>\n",
       "      <th>release_speed</th>\n",
       "      <th>release_pos_x</th>\n",
       "      <th>release_pos_z</th>\n",
       "      <th>player_name</th>\n",
       "      <th>batter</th>\n",
       "      <th>pitcher</th>\n",
       "      <th>events</th>\n",
       "      <th>description</th>\n",
       "      <th>...</th>\n",
       "      <th>key_retro</th>\n",
       "      <th>key_bbref</th>\n",
       "      <th>key_fangraphs</th>\n",
       "      <th>mlb_played_first</th>\n",
       "      <th>mlb_played_last</th>\n",
       "      <th>event_code</th>\n",
       "      <th>event_code_sum_nback</th>\n",
       "      <th>num_events_sum_nback</th>\n",
       "      <th>prop_events_sum_nback</th>\n",
       "      <th>prop_events_nback</th>\n",
       "    </tr>\n",
       "  </thead>\n",
       "  <tbody>\n",
       "    <tr>\n",
       "      <th>0</th>\n",
       "      <td>SI</td>\n",
       "      <td>2019-09-09</td>\n",
       "      <td>84.7</td>\n",
       "      <td>-2.3591</td>\n",
       "      <td>5.8620</td>\n",
       "      <td>Kyle Hendricks</td>\n",
       "      <td>592518.0</td>\n",
       "      <td>543294.0</td>\n",
       "      <td>single</td>\n",
       "      <td>hit_into_play_no_out</td>\n",
       "      <td>...</td>\n",
       "      <td>machm001</td>\n",
       "      <td>machama01</td>\n",
       "      <td>11493</td>\n",
       "      <td>2012.0</td>\n",
       "      <td>2019.0</td>\n",
       "      <td>1</td>\n",
       "      <td>33.0</td>\n",
       "      <td>33.0</td>\n",
       "      <td>0.33</td>\n",
       "      <td>0.33</td>\n",
       "    </tr>\n",
       "    <tr>\n",
       "      <th>1</th>\n",
       "      <td>SI</td>\n",
       "      <td>2019-09-09</td>\n",
       "      <td>85.4</td>\n",
       "      <td>-2.4186</td>\n",
       "      <td>5.8800</td>\n",
       "      <td>Kyle Hendricks</td>\n",
       "      <td>592518.0</td>\n",
       "      <td>543294.0</td>\n",
       "      <td>single</td>\n",
       "      <td>hit_into_play_no_out</td>\n",
       "      <td>...</td>\n",
       "      <td>machm001</td>\n",
       "      <td>machama01</td>\n",
       "      <td>11493</td>\n",
       "      <td>2012.0</td>\n",
       "      <td>2019.0</td>\n",
       "      <td>1</td>\n",
       "      <td>32.0</td>\n",
       "      <td>32.0</td>\n",
       "      <td>0.32</td>\n",
       "      <td>0.32</td>\n",
       "    </tr>\n",
       "    <tr>\n",
       "      <th>2</th>\n",
       "      <td>CU</td>\n",
       "      <td>2019-09-09</td>\n",
       "      <td>71.5</td>\n",
       "      <td>-2.2610</td>\n",
       "      <td>5.9986</td>\n",
       "      <td>Kyle Hendricks</td>\n",
       "      <td>592518.0</td>\n",
       "      <td>543294.0</td>\n",
       "      <td>field_out</td>\n",
       "      <td>hit_into_play</td>\n",
       "      <td>...</td>\n",
       "      <td>machm001</td>\n",
       "      <td>machama01</td>\n",
       "      <td>11493</td>\n",
       "      <td>2012.0</td>\n",
       "      <td>2019.0</td>\n",
       "      <td>0</td>\n",
       "      <td>32.0</td>\n",
       "      <td>32.0</td>\n",
       "      <td>0.32</td>\n",
       "      <td>0.32</td>\n",
       "    </tr>\n",
       "    <tr>\n",
       "      <th>3</th>\n",
       "      <td>SI</td>\n",
       "      <td>2019-09-08</td>\n",
       "      <td>92.4</td>\n",
       "      <td>-1.2178</td>\n",
       "      <td>6.0300</td>\n",
       "      <td>Jesus Tinoco</td>\n",
       "      <td>592518.0</td>\n",
       "      <td>622786.0</td>\n",
       "      <td>walk</td>\n",
       "      <td>ball</td>\n",
       "      <td>...</td>\n",
       "      <td>machm001</td>\n",
       "      <td>machama01</td>\n",
       "      <td>11493</td>\n",
       "      <td>2012.0</td>\n",
       "      <td>2019.0</td>\n",
       "      <td>1</td>\n",
       "      <td>32.0</td>\n",
       "      <td>32.0</td>\n",
       "      <td>0.32</td>\n",
       "      <td>0.32</td>\n",
       "    </tr>\n",
       "    <tr>\n",
       "      <th>4</th>\n",
       "      <td>FC</td>\n",
       "      <td>2019-09-08</td>\n",
       "      <td>93.2</td>\n",
       "      <td>-2.9951</td>\n",
       "      <td>6.0254</td>\n",
       "      <td>Bryan Shaw</td>\n",
       "      <td>592518.0</td>\n",
       "      <td>543766.0</td>\n",
       "      <td>walk</td>\n",
       "      <td>ball</td>\n",
       "      <td>...</td>\n",
       "      <td>machm001</td>\n",
       "      <td>machama01</td>\n",
       "      <td>11493</td>\n",
       "      <td>2012.0</td>\n",
       "      <td>2019.0</td>\n",
       "      <td>1</td>\n",
       "      <td>31.0</td>\n",
       "      <td>31.0</td>\n",
       "      <td>0.31</td>\n",
       "      <td>0.31</td>\n",
       "    </tr>\n",
       "    <tr>\n",
       "      <th>...</th>\n",
       "      <td>...</td>\n",
       "      <td>...</td>\n",
       "      <td>...</td>\n",
       "      <td>...</td>\n",
       "      <td>...</td>\n",
       "      <td>...</td>\n",
       "      <td>...</td>\n",
       "      <td>...</td>\n",
       "      <td>...</td>\n",
       "      <td>...</td>\n",
       "      <td>...</td>\n",
       "      <td>...</td>\n",
       "      <td>...</td>\n",
       "      <td>...</td>\n",
       "      <td>...</td>\n",
       "      <td>...</td>\n",
       "      <td>...</td>\n",
       "      <td>...</td>\n",
       "      <td>...</td>\n",
       "      <td>...</td>\n",
       "      <td>...</td>\n",
       "    </tr>\n",
       "    <tr>\n",
       "      <th>496</th>\n",
       "      <td>SL</td>\n",
       "      <td>2019-04-26</td>\n",
       "      <td>86.0</td>\n",
       "      <td>-3.4961</td>\n",
       "      <td>5.1076</td>\n",
       "      <td>Max Scherzer</td>\n",
       "      <td>592518.0</td>\n",
       "      <td>453286.0</td>\n",
       "      <td>strikeout</td>\n",
       "      <td>swinging_strike</td>\n",
       "      <td>...</td>\n",
       "      <td>machm001</td>\n",
       "      <td>machama01</td>\n",
       "      <td>11493</td>\n",
       "      <td>2012.0</td>\n",
       "      <td>2019.0</td>\n",
       "      <td>0</td>\n",
       "      <td>NaN</td>\n",
       "      <td>NaN</td>\n",
       "      <td>NaN</td>\n",
       "      <td>NaN</td>\n",
       "    </tr>\n",
       "    <tr>\n",
       "      <th>497</th>\n",
       "      <td>SL</td>\n",
       "      <td>2019-04-24</td>\n",
       "      <td>84.2</td>\n",
       "      <td>-2.5172</td>\n",
       "      <td>5.8355</td>\n",
       "      <td>Felix Hernandez</td>\n",
       "      <td>592518.0</td>\n",
       "      <td>433587.0</td>\n",
       "      <td>field_out</td>\n",
       "      <td>hit_into_play</td>\n",
       "      <td>...</td>\n",
       "      <td>machm001</td>\n",
       "      <td>machama01</td>\n",
       "      <td>11493</td>\n",
       "      <td>2012.0</td>\n",
       "      <td>2019.0</td>\n",
       "      <td>0</td>\n",
       "      <td>NaN</td>\n",
       "      <td>NaN</td>\n",
       "      <td>NaN</td>\n",
       "      <td>NaN</td>\n",
       "    </tr>\n",
       "    <tr>\n",
       "      <th>498</th>\n",
       "      <td>SI</td>\n",
       "      <td>2019-04-24</td>\n",
       "      <td>90.3</td>\n",
       "      <td>-2.1757</td>\n",
       "      <td>5.8358</td>\n",
       "      <td>Felix Hernandez</td>\n",
       "      <td>592518.0</td>\n",
       "      <td>433587.0</td>\n",
       "      <td>field_out</td>\n",
       "      <td>hit_into_play</td>\n",
       "      <td>...</td>\n",
       "      <td>machm001</td>\n",
       "      <td>machama01</td>\n",
       "      <td>11493</td>\n",
       "      <td>2012.0</td>\n",
       "      <td>2019.0</td>\n",
       "      <td>0</td>\n",
       "      <td>NaN</td>\n",
       "      <td>NaN</td>\n",
       "      <td>NaN</td>\n",
       "      <td>NaN</td>\n",
       "    </tr>\n",
       "    <tr>\n",
       "      <th>499</th>\n",
       "      <td>SI</td>\n",
       "      <td>2019-04-24</td>\n",
       "      <td>88.9</td>\n",
       "      <td>-2.2221</td>\n",
       "      <td>5.8318</td>\n",
       "      <td>Felix Hernandez</td>\n",
       "      <td>592518.0</td>\n",
       "      <td>433587.0</td>\n",
       "      <td>single</td>\n",
       "      <td>hit_into_play_no_out</td>\n",
       "      <td>...</td>\n",
       "      <td>machm001</td>\n",
       "      <td>machama01</td>\n",
       "      <td>11493</td>\n",
       "      <td>2012.0</td>\n",
       "      <td>2019.0</td>\n",
       "      <td>1</td>\n",
       "      <td>NaN</td>\n",
       "      <td>NaN</td>\n",
       "      <td>NaN</td>\n",
       "      <td>NaN</td>\n",
       "    </tr>\n",
       "    <tr>\n",
       "      <th>500</th>\n",
       "      <td>SL</td>\n",
       "      <td>2019-04-23</td>\n",
       "      <td>86.2</td>\n",
       "      <td>-2.6532</td>\n",
       "      <td>4.7455</td>\n",
       "      <td>Cory Gearrin</td>\n",
       "      <td>592518.0</td>\n",
       "      <td>518715.0</td>\n",
       "      <td>strikeout</td>\n",
       "      <td>swinging_strike</td>\n",
       "      <td>...</td>\n",
       "      <td>machm001</td>\n",
       "      <td>machama01</td>\n",
       "      <td>11493</td>\n",
       "      <td>2012.0</td>\n",
       "      <td>2019.0</td>\n",
       "      <td>0</td>\n",
       "      <td>NaN</td>\n",
       "      <td>NaN</td>\n",
       "      <td>NaN</td>\n",
       "      <td>NaN</td>\n",
       "    </tr>\n",
       "  </tbody>\n",
       "</table>\n",
       "<p>390 rows × 102 columns</p>\n",
       "</div>"
      ],
      "text/plain": [
       "    pitch_type  game_date  release_speed  release_pos_x  release_pos_z  \\\n",
       "0           SI 2019-09-09           84.7        -2.3591         5.8620   \n",
       "1           SI 2019-09-09           85.4        -2.4186         5.8800   \n",
       "2           CU 2019-09-09           71.5        -2.2610         5.9986   \n",
       "3           SI 2019-09-08           92.4        -1.2178         6.0300   \n",
       "4           FC 2019-09-08           93.2        -2.9951         6.0254   \n",
       "..         ...        ...            ...            ...            ...   \n",
       "496         SL 2019-04-26           86.0        -3.4961         5.1076   \n",
       "497         SL 2019-04-24           84.2        -2.5172         5.8355   \n",
       "498         SI 2019-04-24           90.3        -2.1757         5.8358   \n",
       "499         SI 2019-04-24           88.9        -2.2221         5.8318   \n",
       "500         SL 2019-04-23           86.2        -2.6532         4.7455   \n",
       "\n",
       "         player_name    batter   pitcher     events           description  \\\n",
       "0     Kyle Hendricks  592518.0  543294.0     single  hit_into_play_no_out   \n",
       "1     Kyle Hendricks  592518.0  543294.0     single  hit_into_play_no_out   \n",
       "2     Kyle Hendricks  592518.0  543294.0  field_out         hit_into_play   \n",
       "3       Jesus Tinoco  592518.0  622786.0       walk                  ball   \n",
       "4         Bryan Shaw  592518.0  543766.0       walk                  ball   \n",
       "..               ...       ...       ...        ...                   ...   \n",
       "496     Max Scherzer  592518.0  453286.0  strikeout       swinging_strike   \n",
       "497  Felix Hernandez  592518.0  433587.0  field_out         hit_into_play   \n",
       "498  Felix Hernandez  592518.0  433587.0  field_out         hit_into_play   \n",
       "499  Felix Hernandez  592518.0  433587.0     single  hit_into_play_no_out   \n",
       "500     Cory Gearrin  592518.0  518715.0  strikeout       swinging_strike   \n",
       "\n",
       "     ... key_retro  key_bbref key_fangraphs mlb_played_first  mlb_played_last  \\\n",
       "0    ...  machm001  machama01         11493           2012.0           2019.0   \n",
       "1    ...  machm001  machama01         11493           2012.0           2019.0   \n",
       "2    ...  machm001  machama01         11493           2012.0           2019.0   \n",
       "3    ...  machm001  machama01         11493           2012.0           2019.0   \n",
       "4    ...  machm001  machama01         11493           2012.0           2019.0   \n",
       "..   ...       ...        ...           ...              ...              ...   \n",
       "496  ...  machm001  machama01         11493           2012.0           2019.0   \n",
       "497  ...  machm001  machama01         11493           2012.0           2019.0   \n",
       "498  ...  machm001  machama01         11493           2012.0           2019.0   \n",
       "499  ...  machm001  machama01         11493           2012.0           2019.0   \n",
       "500  ...  machm001  machama01         11493           2012.0           2019.0   \n",
       "\n",
       "    event_code event_code_sum_nback num_events_sum_nback  \\\n",
       "0            1                 33.0                 33.0   \n",
       "1            1                 32.0                 32.0   \n",
       "2            0                 32.0                 32.0   \n",
       "3            1                 32.0                 32.0   \n",
       "4            1                 31.0                 31.0   \n",
       "..         ...                  ...                  ...   \n",
       "496          0                  NaN                  NaN   \n",
       "497          0                  NaN                  NaN   \n",
       "498          0                  NaN                  NaN   \n",
       "499          1                  NaN                  NaN   \n",
       "500          0                  NaN                  NaN   \n",
       "\n",
       "    prop_events_sum_nback prop_events_nback  \n",
       "0                    0.33              0.33  \n",
       "1                    0.32              0.32  \n",
       "2                    0.32              0.32  \n",
       "3                    0.32              0.32  \n",
       "4                    0.31              0.31  \n",
       "..                    ...               ...  \n",
       "496                   NaN               NaN  \n",
       "497                   NaN               NaN  \n",
       "498                   NaN               NaN  \n",
       "499                   NaN               NaN  \n",
       "500                   NaN               NaN  \n",
       "\n",
       "[390 rows x 102 columns]"
      ]
     },
     "execution_count": 185,
     "metadata": {},
     "output_type": "execute_result"
    },
    {
     "data": {
      "application/javascript": [
       "\n",
       "            setTimeout(function() {\n",
       "                var nbb_cell_id = 185;\n",
       "                var nbb_unformatted_code = \"df_sc_events_cp_throw\";\n",
       "                var nbb_formatted_code = \"df_sc_events_cp_throw\";\n",
       "                var nbb_cells = Jupyter.notebook.get_cells();\n",
       "                for (var i = 0; i < nbb_cells.length; ++i) {\n",
       "                    if (nbb_cells[i].input_prompt_number == nbb_cell_id) {\n",
       "                        if (nbb_cells[i].get_text() == nbb_unformatted_code) {\n",
       "                             nbb_cells[i].set_text(nbb_formatted_code);\n",
       "                        }\n",
       "                        break;\n",
       "                    }\n",
       "                }\n",
       "            }, 500);\n",
       "            "
      ],
      "text/plain": [
       "<IPython.core.display.Javascript object>"
      ]
     },
     "metadata": {},
     "output_type": "display_data"
    }
   ],
   "source": [
    "df_sc_events_cp_throw"
   ]
  },
  {
   "cell_type": "code",
   "execution_count": 160,
   "metadata": {
    "ExecuteTime": {
     "end_time": "2020-01-26T04:02:28.736161Z",
     "start_time": "2020-01-26T04:02:28.727804Z"
    }
   },
   "outputs": [
    {
     "data": {
      "application/javascript": [
       "\n",
       "            setTimeout(function() {\n",
       "                var nbb_cell_id = 160;\n",
       "                var nbb_unformatted_code = \"p_throw = df_sc_events[\\\"p_throws\\\"].iloc[0]\";\n",
       "                var nbb_formatted_code = \"p_throw = df_sc_events[\\\"p_throws\\\"].iloc[0]\";\n",
       "                var nbb_cells = Jupyter.notebook.get_cells();\n",
       "                for (var i = 0; i < nbb_cells.length; ++i) {\n",
       "                    if (nbb_cells[i].input_prompt_number == nbb_cell_id) {\n",
       "                        if (nbb_cells[i].get_text() == nbb_unformatted_code) {\n",
       "                             nbb_cells[i].set_text(nbb_formatted_code);\n",
       "                        }\n",
       "                        break;\n",
       "                    }\n",
       "                }\n",
       "            }, 500);\n",
       "            "
      ],
      "text/plain": [
       "<IPython.core.display.Javascript object>"
      ]
     },
     "metadata": {},
     "output_type": "display_data"
    }
   ],
   "source": [
    "p_throw = df_sc_events[\"p_throws\"].iloc[0]"
   ]
  },
  {
   "cell_type": "code",
   "execution_count": 166,
   "metadata": {
    "ExecuteTime": {
     "end_time": "2020-01-26T04:07:02.696197Z",
     "start_time": "2020-01-26T04:07:02.686487Z"
    }
   },
   "outputs": [
    {
     "data": {
      "application/javascript": [
       "\n",
       "            setTimeout(function() {\n",
       "                var nbb_cell_id = 166;\n",
       "                var nbb_unformatted_code = \"df_sc_events_cp_throw = df_sc_events[df_sc_events[\\\"p_throws\\\"] == p_throw]\";\n",
       "                var nbb_formatted_code = \"df_sc_events_cp_throw = df_sc_events[df_sc_events[\\\"p_throws\\\"] == p_throw]\";\n",
       "                var nbb_cells = Jupyter.notebook.get_cells();\n",
       "                for (var i = 0; i < nbb_cells.length; ++i) {\n",
       "                    if (nbb_cells[i].input_prompt_number == nbb_cell_id) {\n",
       "                        if (nbb_cells[i].get_text() == nbb_unformatted_code) {\n",
       "                             nbb_cells[i].set_text(nbb_formatted_code);\n",
       "                        }\n",
       "                        break;\n",
       "                    }\n",
       "                }\n",
       "            }, 500);\n",
       "            "
      ],
      "text/plain": [
       "<IPython.core.display.Javascript object>"
      ]
     },
     "metadata": {},
     "output_type": "display_data"
    }
   ],
   "source": [
    "df_sc_events_cp_throw = df_sc_events[df_sc_events[\"p_throws\"] == p_throw]"
   ]
  },
  {
   "cell_type": "code",
   "execution_count": 176,
   "metadata": {
    "ExecuteTime": {
     "end_time": "2020-01-26T06:46:36.865366Z",
     "start_time": "2020-01-26T06:46:36.853969Z"
    }
   },
   "outputs": [
    {
     "data": {
      "text/plain": [
       "Int64Index([  0,   1,   2,   3,   4,   5,   6,   7,   8,   9,\n",
       "            ...\n",
       "            490, 491, 492, 494, 495, 496, 497, 498, 499, 500],\n",
       "           dtype='int64', length=390)"
      ]
     },
     "execution_count": 176,
     "metadata": {},
     "output_type": "execute_result"
    },
    {
     "data": {
      "application/javascript": [
       "\n",
       "            setTimeout(function() {\n",
       "                var nbb_cell_id = 176;\n",
       "                var nbb_unformatted_code = \"df_sc_events_cp_throw.index\";\n",
       "                var nbb_formatted_code = \"df_sc_events_cp_throw.index\";\n",
       "                var nbb_cells = Jupyter.notebook.get_cells();\n",
       "                for (var i = 0; i < nbb_cells.length; ++i) {\n",
       "                    if (nbb_cells[i].input_prompt_number == nbb_cell_id) {\n",
       "                        if (nbb_cells[i].get_text() == nbb_unformatted_code) {\n",
       "                             nbb_cells[i].set_text(nbb_formatted_code);\n",
       "                        }\n",
       "                        break;\n",
       "                    }\n",
       "                }\n",
       "            }, 500);\n",
       "            "
      ],
      "text/plain": [
       "<IPython.core.display.Javascript object>"
      ]
     },
     "metadata": {},
     "output_type": "display_data"
    }
   ],
   "source": [
    "df_sc_events_cp_throw.index"
   ]
  },
  {
   "cell_type": "code",
   "execution_count": 179,
   "metadata": {
    "ExecuteTime": {
     "end_time": "2020-01-26T06:47:10.790484Z",
     "start_time": "2020-01-26T06:47:10.773109Z"
    }
   },
   "outputs": [
    {
     "data": {
      "text/plain": [
       "0      29.0\n",
       "1      29.0\n",
       "2      28.0\n",
       "3      28.0\n",
       "4      27.0\n",
       "       ... \n",
       "129    26.0\n",
       "132    26.0\n",
       "133    25.0\n",
       "134    26.0\n",
       "135    27.0\n",
       "Name: event_code, Length: 100, dtype: float64"
      ]
     },
     "execution_count": 179,
     "metadata": {},
     "output_type": "execute_result"
    },
    {
     "data": {
      "application/javascript": [
       "\n",
       "            setTimeout(function() {\n",
       "                var nbb_cell_id = 179;\n",
       "                var nbb_unformatted_code = \"# df_sc_events_cp_throw[\\\"num_events_sum_nback\\\"] =\\ndf_sc_events_cp_throw[\\\"event_code\\\"].iloc[::-1].rolling(n_back_PA).sum().iloc[::-1].iloc[\\n    0:100\\n]\";\n",
       "                var nbb_formatted_code = \"# df_sc_events_cp_throw[\\\"num_events_sum_nback\\\"] =\\ndf_sc_events_cp_throw[\\\"event_code\\\"].iloc[::-1].rolling(n_back_PA).sum().iloc[::-1].iloc[\\n    0:100\\n]\";\n",
       "                var nbb_cells = Jupyter.notebook.get_cells();\n",
       "                for (var i = 0; i < nbb_cells.length; ++i) {\n",
       "                    if (nbb_cells[i].input_prompt_number == nbb_cell_id) {\n",
       "                        if (nbb_cells[i].get_text() == nbb_unformatted_code) {\n",
       "                             nbb_cells[i].set_text(nbb_formatted_code);\n",
       "                        }\n",
       "                        break;\n",
       "                    }\n",
       "                }\n",
       "            }, 500);\n",
       "            "
      ],
      "text/plain": [
       "<IPython.core.display.Javascript object>"
      ]
     },
     "metadata": {},
     "output_type": "display_data"
    }
   ],
   "source": [
    "# df_sc_events_cp_throw[\"num_events_sum_nback\"] =\n",
    "df_sc_events_cp_throw[\"event_code\"].iloc[::-1].rolling(n_back_PA).sum().iloc[::-1].iloc[\n",
    "    0:100\n",
    "]"
   ]
  },
  {
   "cell_type": "code",
   "execution_count": null,
   "metadata": {},
   "outputs": [],
   "source": []
  },
  {
   "cell_type": "code",
   "execution_count": 156,
   "metadata": {
    "ExecuteTime": {
     "end_time": "2020-01-26T04:00:23.298734Z",
     "start_time": "2020-01-26T04:00:23.288628Z"
    }
   },
   "outputs": [
    {
     "data": {
      "text/plain": [
       "'R'"
      ]
     },
     "execution_count": 156,
     "metadata": {},
     "output_type": "execute_result"
    },
    {
     "data": {
      "application/javascript": [
       "\n",
       "            setTimeout(function() {\n",
       "                var nbb_cell_id = 156;\n",
       "                var nbb_unformatted_code = \"df_sc_events[\\\"p_throws\\\"].iloc[0]\";\n",
       "                var nbb_formatted_code = \"df_sc_events[\\\"p_throws\\\"].iloc[0]\";\n",
       "                var nbb_cells = Jupyter.notebook.get_cells();\n",
       "                for (var i = 0; i < nbb_cells.length; ++i) {\n",
       "                    if (nbb_cells[i].input_prompt_number == nbb_cell_id) {\n",
       "                        if (nbb_cells[i].get_text() == nbb_unformatted_code) {\n",
       "                             nbb_cells[i].set_text(nbb_formatted_code);\n",
       "                        }\n",
       "                        break;\n",
       "                    }\n",
       "                }\n",
       "            }, 500);\n",
       "            "
      ],
      "text/plain": [
       "<IPython.core.display.Javascript object>"
      ]
     },
     "metadata": {},
     "output_type": "display_data"
    }
   ],
   "source": [
    "df_sc_events[\"p_throws\"].iloc[0]"
   ]
  },
  {
   "cell_type": "code",
   "execution_count": 152,
   "metadata": {
    "ExecuteTime": {
     "end_time": "2020-01-26T03:54:39.905749Z",
     "start_time": "2020-01-26T03:54:39.885380Z"
    }
   },
   "outputs": [
    {
     "data": {
      "text/html": [
       "<div>\n",
       "<style scoped>\n",
       "    .dataframe tbody tr th:only-of-type {\n",
       "        vertical-align: middle;\n",
       "    }\n",
       "\n",
       "    .dataframe tbody tr th {\n",
       "        vertical-align: top;\n",
       "    }\n",
       "\n",
       "    .dataframe thead th {\n",
       "        text-align: right;\n",
       "    }\n",
       "</style>\n",
       "<table border=\"1\" class=\"dataframe\">\n",
       "  <thead>\n",
       "    <tr style=\"text-align: right;\">\n",
       "      <th></th>\n",
       "      <th>event_code</th>\n",
       "      <th>num_events_sum_nback</th>\n",
       "      <th>prop_events_nback</th>\n",
       "    </tr>\n",
       "  </thead>\n",
       "  <tbody>\n",
       "    <tr>\n",
       "      <th>0</th>\n",
       "      <td>1</td>\n",
       "      <td>33.0</td>\n",
       "      <td>0.33</td>\n",
       "    </tr>\n",
       "    <tr>\n",
       "      <th>1</th>\n",
       "      <td>1</td>\n",
       "      <td>32.0</td>\n",
       "      <td>0.32</td>\n",
       "    </tr>\n",
       "    <tr>\n",
       "      <th>2</th>\n",
       "      <td>0</td>\n",
       "      <td>32.0</td>\n",
       "      <td>0.32</td>\n",
       "    </tr>\n",
       "    <tr>\n",
       "      <th>3</th>\n",
       "      <td>1</td>\n",
       "      <td>32.0</td>\n",
       "      <td>0.32</td>\n",
       "    </tr>\n",
       "    <tr>\n",
       "      <th>4</th>\n",
       "      <td>1</td>\n",
       "      <td>31.0</td>\n",
       "      <td>0.31</td>\n",
       "    </tr>\n",
       "    <tr>\n",
       "      <th>...</th>\n",
       "      <td>...</td>\n",
       "      <td>...</td>\n",
       "      <td>...</td>\n",
       "    </tr>\n",
       "    <tr>\n",
       "      <th>496</th>\n",
       "      <td>0</td>\n",
       "      <td>NaN</td>\n",
       "      <td>NaN</td>\n",
       "    </tr>\n",
       "    <tr>\n",
       "      <th>497</th>\n",
       "      <td>0</td>\n",
       "      <td>NaN</td>\n",
       "      <td>NaN</td>\n",
       "    </tr>\n",
       "    <tr>\n",
       "      <th>498</th>\n",
       "      <td>0</td>\n",
       "      <td>NaN</td>\n",
       "      <td>NaN</td>\n",
       "    </tr>\n",
       "    <tr>\n",
       "      <th>499</th>\n",
       "      <td>1</td>\n",
       "      <td>NaN</td>\n",
       "      <td>NaN</td>\n",
       "    </tr>\n",
       "    <tr>\n",
       "      <th>500</th>\n",
       "      <td>0</td>\n",
       "      <td>NaN</td>\n",
       "      <td>NaN</td>\n",
       "    </tr>\n",
       "  </tbody>\n",
       "</table>\n",
       "<p>501 rows × 3 columns</p>\n",
       "</div>"
      ],
      "text/plain": [
       "     event_code  num_events_sum_nback  prop_events_nback\n",
       "0             1                  33.0               0.33\n",
       "1             1                  32.0               0.32\n",
       "2             0                  32.0               0.32\n",
       "3             1                  32.0               0.32\n",
       "4             1                  31.0               0.31\n",
       "..          ...                   ...                ...\n",
       "496           0                   NaN                NaN\n",
       "497           0                   NaN                NaN\n",
       "498           0                   NaN                NaN\n",
       "499           1                   NaN                NaN\n",
       "500           0                   NaN                NaN\n",
       "\n",
       "[501 rows x 3 columns]"
      ]
     },
     "execution_count": 152,
     "metadata": {},
     "output_type": "execute_result"
    },
    {
     "data": {
      "application/javascript": [
       "\n",
       "            setTimeout(function() {\n",
       "                var nbb_cell_id = 152;\n",
       "                var nbb_unformatted_code = \"df_sc_events[[\\\"event_code\\\", \\\"num_events_sum_nback\\\", \\\"prop_events_nback\\\"]]\";\n",
       "                var nbb_formatted_code = \"df_sc_events[[\\\"event_code\\\", \\\"num_events_sum_nback\\\", \\\"prop_events_nback\\\"]]\";\n",
       "                var nbb_cells = Jupyter.notebook.get_cells();\n",
       "                for (var i = 0; i < nbb_cells.length; ++i) {\n",
       "                    if (nbb_cells[i].input_prompt_number == nbb_cell_id) {\n",
       "                        if (nbb_cells[i].get_text() == nbb_unformatted_code) {\n",
       "                             nbb_cells[i].set_text(nbb_formatted_code);\n",
       "                        }\n",
       "                        break;\n",
       "                    }\n",
       "                }\n",
       "            }, 500);\n",
       "            "
      ],
      "text/plain": [
       "<IPython.core.display.Javascript object>"
      ]
     },
     "metadata": {},
     "output_type": "display_data"
    }
   ],
   "source": [
    "df_sc_events[[\"event_code\", \"num_events_sum_nback\", \"prop_events_nback\"]]"
   ]
  },
  {
   "cell_type": "code",
   "execution_count": 155,
   "metadata": {
    "ExecuteTime": {
     "end_time": "2020-01-26T03:57:22.483201Z",
     "start_time": "2020-01-26T03:57:20.940850Z"
    }
   },
   "outputs": [
    {
     "data": {
      "text/plain": [
       "Text(0, 0.5, 'prop_events_nback')"
      ]
     },
     "execution_count": 155,
     "metadata": {},
     "output_type": "execute_result"
    },
    {
     "data": {
      "image/png": "[encoded data removed]",
      "text/plain": [
       "<Figure size 864x864 with 4 Axes>"
      ]
     },
     "metadata": {
      "needs_background": "light"
     },
     "output_type": "display_data"
    },
    {
     "data": {
      "application/javascript": [
       "\n",
       "            setTimeout(function() {\n",
       "                var nbb_cell_id = 155;\n",
       "                var nbb_unformatted_code = \"# Sanity checking that df is in order\\nf, ((ax1, ax2), (ax3, ax4)) = plt.subplots(2, 2, figsize=(12, 12))\\nax1.plot(df_sc_events[\\\"game_date\\\"], df_sc_events[\\\"event_code\\\"])\\nax1.set_xlabel(\\\"game_date\\\")\\n# ax1.set_xticklabels(df_sc_events[\\\"game_date\\\"], rotation=45)\\n\\nax2.bar(df_sc_events.index, df_sc_events[\\\"inning\\\"])\\nax2.set_ylabel(\\\"inning\\\")\\n\\n# Rolling average\\nax3.plot(df_sc_events[\\\"game_date\\\"], df_sc_events[\\\"prop_events_nback\\\"])\\nax3.set_ylabel(\\\"prop_events_nback\\\")\\n\\n\\n# ax2.bar(df_sc_events.index, df_sc_events[\\\"inning\\\"])\\n# ax2.set_ylabel(\\\"inning\\\")\";\n",
       "                var nbb_formatted_code = \"# Sanity checking that df is in order\\nf, ((ax1, ax2), (ax3, ax4)) = plt.subplots(2, 2, figsize=(12, 12))\\nax1.plot(df_sc_events[\\\"game_date\\\"], df_sc_events[\\\"event_code\\\"])\\nax1.set_xlabel(\\\"game_date\\\")\\n# ax1.set_xticklabels(df_sc_events[\\\"game_date\\\"], rotation=45)\\n\\nax2.bar(df_sc_events.index, df_sc_events[\\\"inning\\\"])\\nax2.set_ylabel(\\\"inning\\\")\\n\\n# Rolling average\\nax3.plot(df_sc_events[\\\"game_date\\\"], df_sc_events[\\\"prop_events_nback\\\"])\\nax3.set_ylabel(\\\"prop_events_nback\\\")\\n\\n\\n# ax2.bar(df_sc_events.index, df_sc_events[\\\"inning\\\"])\\n# ax2.set_ylabel(\\\"inning\\\")\";\n",
       "                var nbb_cells = Jupyter.notebook.get_cells();\n",
       "                for (var i = 0; i < nbb_cells.length; ++i) {\n",
       "                    if (nbb_cells[i].input_prompt_number == nbb_cell_id) {\n",
       "                        if (nbb_cells[i].get_text() == nbb_unformatted_code) {\n",
       "                             nbb_cells[i].set_text(nbb_formatted_code);\n",
       "                        }\n",
       "                        break;\n",
       "                    }\n",
       "                }\n",
       "            }, 500);\n",
       "            "
      ],
      "text/plain": [
       "<IPython.core.display.Javascript object>"
      ]
     },
     "metadata": {},
     "output_type": "display_data"
    }
   ],
   "source": [
    "# Sanity checking that df is in order\n",
    "f, ((ax1, ax2), (ax3, ax4)) = plt.subplots(2, 2, figsize=(12, 12))\n",
    "ax1.plot(df_sc_events[\"game_date\"], df_sc_events[\"event_code\"])\n",
    "ax1.set_xlabel(\"game_date\")\n",
    "# ax1.set_xticklabels(df_sc_events[\"game_date\"], rotation=45)\n",
    "\n",
    "ax2.bar(df_sc_events.index, df_sc_events[\"inning\"])\n",
    "ax2.set_ylabel(\"inning\")\n",
    "\n",
    "# Rolling average\n",
    "ax3.plot(df_sc_events[\"game_date\"], df_sc_events[\"prop_events_nback\"])\n",
    "ax3.set_ylabel(\"prop_events_nback\")\n",
    "\n",
    "\n",
    "# ax2.bar(df_sc_events.index, df_sc_events[\"inning\"])\n",
    "# ax2.set_ylabel(\"inning\")\n"
   ]
  },
  {
   "cell_type": "code",
   "execution_count": null,
   "metadata": {},
   "outputs": [],
   "source": []
  },
  {
   "cell_type": "code",
   "execution_count": 154,
   "metadata": {
    "ExecuteTime": {
     "end_time": "2020-01-26T03:54:56.432801Z",
     "start_time": "2020-01-26T03:54:56.248025Z"
    }
   },
   "outputs": [
    {
     "data": {
      "text/plain": [
       "<matplotlib.axes._subplots.AxesSubplot at 0x1a27686ef0>"
      ]
     },
     "execution_count": 154,
     "metadata": {},
     "output_type": "execute_result"
    },
    {
     "data": {
      "image/png": "[encoded data removed]",
      "text/plain": [
       "<Figure size 432x288 with 1 Axes>"
      ]
     },
     "metadata": {
      "needs_background": "light"
     },
     "output_type": "display_data"
    },
    {
     "data": {
      "application/javascript": [
       "\n",
       "            setTimeout(function() {\n",
       "                var nbb_cell_id = 154;\n",
       "                var nbb_unformatted_code = \"df_sc_events[\\\"prop_events_nback\\\"].hist()\";\n",
       "                var nbb_formatted_code = \"df_sc_events[\\\"prop_events_nback\\\"].hist()\";\n",
       "                var nbb_cells = Jupyter.notebook.get_cells();\n",
       "                for (var i = 0; i < nbb_cells.length; ++i) {\n",
       "                    if (nbb_cells[i].input_prompt_number == nbb_cell_id) {\n",
       "                        if (nbb_cells[i].get_text() == nbb_unformatted_code) {\n",
       "                             nbb_cells[i].set_text(nbb_formatted_code);\n",
       "                        }\n",
       "                        break;\n",
       "                    }\n",
       "                }\n",
       "            }, 500);\n",
       "            "
      ],
      "text/plain": [
       "<IPython.core.display.Javascript object>"
      ]
     },
     "metadata": {},
     "output_type": "display_data"
    }
   ],
   "source": [
    "df_sc_events[\"prop_events_nback\"].hist()"
   ]
  },
  {
   "cell_type": "code",
   "execution_count": 113,
   "metadata": {
    "ExecuteTime": {
     "end_time": "2020-01-26T03:35:00.284037Z",
     "start_time": "2020-01-26T03:35:00.261245Z"
    }
   },
   "outputs": [
    {
     "data": {
      "text/html": [
       "<div>\n",
       "<style scoped>\n",
       "    .dataframe tbody tr th:only-of-type {\n",
       "        vertical-align: middle;\n",
       "    }\n",
       "\n",
       "    .dataframe tbody tr th {\n",
       "        vertical-align: top;\n",
       "    }\n",
       "\n",
       "    .dataframe thead th {\n",
       "        text-align: right;\n",
       "    }\n",
       "</style>\n",
       "<table border=\"1\" class=\"dataframe\">\n",
       "  <thead>\n",
       "    <tr style=\"text-align: right;\">\n",
       "      <th></th>\n",
       "      <th>game_date</th>\n",
       "      <th>inning</th>\n",
       "      <th>event_code</th>\n",
       "      <th>event_code_sum_nback</th>\n",
       "    </tr>\n",
       "  </thead>\n",
       "  <tbody>\n",
       "    <tr>\n",
       "      <th>0</th>\n",
       "      <td>2019-09-09</td>\n",
       "      <td>5.0</td>\n",
       "      <td>1</td>\n",
       "      <td>NaN</td>\n",
       "    </tr>\n",
       "    <tr>\n",
       "      <th>1</th>\n",
       "      <td>2019-09-09</td>\n",
       "      <td>4.0</td>\n",
       "      <td>1</td>\n",
       "      <td>2.0</td>\n",
       "    </tr>\n",
       "    <tr>\n",
       "      <th>2</th>\n",
       "      <td>2019-09-09</td>\n",
       "      <td>1.0</td>\n",
       "      <td>0</td>\n",
       "      <td>2.0</td>\n",
       "    </tr>\n",
       "    <tr>\n",
       "      <th>3</th>\n",
       "      <td>2019-09-08</td>\n",
       "      <td>10.0</td>\n",
       "      <td>1</td>\n",
       "      <td>2.0</td>\n",
       "    </tr>\n",
       "    <tr>\n",
       "      <th>4</th>\n",
       "      <td>2019-09-08</td>\n",
       "      <td>7.0</td>\n",
       "      <td>1</td>\n",
       "      <td>NaN</td>\n",
       "    </tr>\n",
       "    <tr>\n",
       "      <th>...</th>\n",
       "      <td>...</td>\n",
       "      <td>...</td>\n",
       "      <td>...</td>\n",
       "      <td>...</td>\n",
       "    </tr>\n",
       "    <tr>\n",
       "      <th>96</th>\n",
       "      <td>2019-08-13</td>\n",
       "      <td>7.0</td>\n",
       "      <td>1</td>\n",
       "      <td>NaN</td>\n",
       "    </tr>\n",
       "    <tr>\n",
       "      <th>97</th>\n",
       "      <td>2019-08-13</td>\n",
       "      <td>4.0</td>\n",
       "      <td>0</td>\n",
       "      <td>NaN</td>\n",
       "    </tr>\n",
       "    <tr>\n",
       "      <th>98</th>\n",
       "      <td>2019-08-13</td>\n",
       "      <td>2.0</td>\n",
       "      <td>1</td>\n",
       "      <td>NaN</td>\n",
       "    </tr>\n",
       "    <tr>\n",
       "      <th>99</th>\n",
       "      <td>2019-08-13</td>\n",
       "      <td>1.0</td>\n",
       "      <td>0</td>\n",
       "      <td>NaN</td>\n",
       "    </tr>\n",
       "    <tr>\n",
       "      <th>100</th>\n",
       "      <td>2019-08-12</td>\n",
       "      <td>7.0</td>\n",
       "      <td>0</td>\n",
       "      <td>NaN</td>\n",
       "    </tr>\n",
       "  </tbody>\n",
       "</table>\n",
       "<p>101 rows × 4 columns</p>\n",
       "</div>"
      ],
      "text/plain": [
       "     game_date  inning  event_code  event_code_sum_nback\n",
       "0   2019-09-09     5.0           1                   NaN\n",
       "1   2019-09-09     4.0           1                   2.0\n",
       "2   2019-09-09     1.0           0                   2.0\n",
       "3   2019-09-08    10.0           1                   2.0\n",
       "4   2019-09-08     7.0           1                   NaN\n",
       "..         ...     ...         ...                   ...\n",
       "96  2019-08-13     7.0           1                   NaN\n",
       "97  2019-08-13     4.0           0                   NaN\n",
       "98  2019-08-13     2.0           1                   NaN\n",
       "99  2019-08-13     1.0           0                   NaN\n",
       "100 2019-08-12     7.0           0                   NaN\n",
       "\n",
       "[101 rows x 4 columns]"
      ]
     },
     "execution_count": 113,
     "metadata": {},
     "output_type": "execute_result"
    },
    {
     "data": {
      "application/javascript": [
       "\n",
       "            setTimeout(function() {\n",
       "                var nbb_cell_id = 113;\n",
       "                var nbb_unformatted_code = \"df_sc_events[[\\\"game_date\\\", \\\"inning\\\", \\\"event_code\\\", \\\"event_code_sum_nback\\\"]]\";\n",
       "                var nbb_formatted_code = \"df_sc_events[[\\\"game_date\\\", \\\"inning\\\", \\\"event_code\\\", \\\"event_code_sum_nback\\\"]]\";\n",
       "                var nbb_cells = Jupyter.notebook.get_cells();\n",
       "                for (var i = 0; i < nbb_cells.length; ++i) {\n",
       "                    if (nbb_cells[i].input_prompt_number == nbb_cell_id) {\n",
       "                        if (nbb_cells[i].get_text() == nbb_unformatted_code) {\n",
       "                             nbb_cells[i].set_text(nbb_formatted_code);\n",
       "                        }\n",
       "                        break;\n",
       "                    }\n",
       "                }\n",
       "            }, 500);\n",
       "            "
      ],
      "text/plain": [
       "<IPython.core.display.Javascript object>"
      ]
     },
     "metadata": {},
     "output_type": "display_data"
    }
   ],
   "source": [
    "df_sc_events[[\"game_date\", \"inning\", \"event_code\", \"event_code_sum_nback\"]]"
   ]
  },
  {
   "cell_type": "code",
   "execution_count": 57,
   "metadata": {
    "ExecuteTime": {
     "end_time": "2020-01-26T00:29:55.330153Z",
     "start_time": "2020-01-26T00:29:55.319364Z"
    },
    "collapsed": true
   },
   "outputs": [
    {
     "data": {
      "text/plain": [
       "0    1\n",
       "1    0\n",
       "2    1\n",
       "3    1\n",
       "4    0\n",
       "5    0\n",
       "6    0\n",
       "7    1\n",
       "8    0\n",
       "9    0\n",
       "Name: event_code, dtype: int64"
      ]
     },
     "execution_count": 57,
     "metadata": {},
     "output_type": "execute_result"
    },
    {
     "data": {
      "application/javascript": [
       "\n",
       "            setTimeout(function() {\n",
       "                var nbb_cell_id = 57;\n",
       "                var nbb_unformatted_code = \"df_sc_events[\\\"event_code\\\"].head(10)\";\n",
       "                var nbb_formatted_code = \"df_sc_events[\\\"event_code\\\"].head(10)\";\n",
       "                var nbb_cells = Jupyter.notebook.get_cells();\n",
       "                for (var i = 0; i < nbb_cells.length; ++i) {\n",
       "                    if (nbb_cells[i].input_prompt_number == nbb_cell_id) {\n",
       "                        if (nbb_cells[i].get_text() == nbb_unformatted_code) {\n",
       "                             nbb_cells[i].set_text(nbb_formatted_code);\n",
       "                        }\n",
       "                        break;\n",
       "                    }\n",
       "                }\n",
       "            }, 500);\n",
       "            "
      ],
      "text/plain": [
       "<IPython.core.display.Javascript object>"
      ]
     },
     "metadata": {},
     "output_type": "display_data"
    }
   ],
   "source": [
    "df_sc_events[\"event_code\"].head(10)"
   ]
  },
  {
   "cell_type": "code",
   "execution_count": null,
   "metadata": {},
   "outputs": [],
   "source": [
    "# Limit this to events of player's outcome (not caught stealing, foul, etc.)"
   ]
  },
  {
   "cell_type": "code",
   "execution_count": null,
   "metadata": {},
   "outputs": [],
   "source": []
  },
  {
   "cell_type": "markdown",
   "metadata": {},
   "source": [
    "# Valid for higher probability of predicting 1 identifies better player?\n",
    "\n",
    "- Do models for each player and look at probabilities of outputting 1\n"
   ]
  },
  {
   "cell_type": "markdown",
   "metadata": {},
   "source": [
    "## Input both batters and date"
   ]
  },
  {
   "cell_type": "code",
   "execution_count": 977,
   "metadata": {
    "ExecuteTime": {
     "end_time": "2020-01-27T19:27:19.914142Z",
     "start_time": "2020-01-27T19:27:19.902585Z"
    }
   },
   "outputs": [
    {
     "data": {
      "application/javascript": [
       "\n",
       "            setTimeout(function() {\n",
       "                var nbb_cell_id = 977;\n",
       "                var nbb_unformatted_code = \"# FUNCTION FOR GETTING STATCAST DATA\\n\\n# Enter key_mlbam (Manny Machado shown below)\\npid_of_interest1 = 592518\\n\\n# Enter key_mlbam (Maikel Franco, WAR of 0-1)\\npid_of_interest2 = 596748\\n\\ndate_of_interest = \\\"'2019-09-09'\\\"  # Note internal single quotes\\n\\nno_total_ab_events = 1000\\n\\n# Note: SQL union of two different searches doesn't preserve order\\n# It's easier to make a dataframe for each player\\n# https://stackoverflow.com/questions/21181664/sql-server-union-but-keep-order/21181766\\n\\n# ---------------------------------------------------\";\n",
       "                var nbb_formatted_code = \"# FUNCTION FOR GETTING STATCAST DATA\\n\\n# Enter key_mlbam (Manny Machado shown below)\\npid_of_interest1 = 592518\\n\\n# Enter key_mlbam (Maikel Franco, WAR of 0-1)\\npid_of_interest2 = 596748\\n\\ndate_of_interest = \\\"'2019-09-09'\\\"  # Note internal single quotes\\n\\nno_total_ab_events = 1000\\n\\n# Note: SQL union of two different searches doesn't preserve order\\n# It's easier to make a dataframe for each player\\n# https://stackoverflow.com/questions/21181664/sql-server-union-but-keep-order/21181766\\n\\n# ---------------------------------------------------\";\n",
       "                var nbb_cells = Jupyter.notebook.get_cells();\n",
       "                for (var i = 0; i < nbb_cells.length; ++i) {\n",
       "                    if (nbb_cells[i].input_prompt_number == nbb_cell_id) {\n",
       "                        if (nbb_cells[i].get_text() == nbb_unformatted_code) {\n",
       "                             nbb_cells[i].set_text(nbb_formatted_code);\n",
       "                        }\n",
       "                        break;\n",
       "                    }\n",
       "                }\n",
       "            }, 500);\n",
       "            "
      ],
      "text/plain": [
       "<IPython.core.display.Javascript object>"
      ]
     },
     "metadata": {},
     "output_type": "display_data"
    }
   ],
   "source": [
    "# FUNCTION FOR GETTING STATCAST DATA\n",
    "\n",
    "# Enter key_mlbam (Manny Machado shown below)\n",
    "pid_of_interest1 = 592518\n",
    "\n",
    "# Enter key_mlbam (Maikel Franco, WAR of 0-1)\n",
    "pid_of_interest2 = 596748\n",
    "\n",
    "date_of_interest = \"'2019-09-09'\"  # Note internal single quotes\n",
    "\n",
    "no_total_ab_events = 1000\n",
    "\n",
    "# Note: SQL union of two different searches doesn't preserve order\n",
    "# It's easier to make a dataframe for each player\n",
    "# https://stackoverflow.com/questions/21181664/sql-server-union-but-keep-order/21181766\n",
    "\n",
    "# ---------------------------------------------------"
   ]
  },
  {
   "cell_type": "code",
   "execution_count": 1180,
   "metadata": {
    "ExecuteTime": {
     "end_time": "2020-01-27T23:45:41.702109Z",
     "start_time": "2020-01-27T23:45:35.607731Z"
    }
   },
   "outputs": [
    {
     "name": "stdout",
     "output_type": "stream",
     "text": [
      "\n",
      "(SELECT * FROM statcast \n",
      "JOIN player_id ON statcast.batter=player_id.key_mlbam \n",
      "WHERE statcast.batter= \n",
      "592518\n",
      "AND statcast.game_date<=\n",
      "'2019-09-09' \n",
      "AND statcast.events IS NOT NULL \n",
      "ORDER BY statcast.game_date DESC, statcast.inning DESC, statcast.outs_when_up DESC \n",
      "LIMIT\n",
      "1000);\n"
     ]
    },
    {
     "data": {
      "application/javascript": [
       "\n",
       "            setTimeout(function() {\n",
       "                var nbb_cell_id = 1180;\n",
       "                var nbb_unformatted_code = \"# Player 1\\n\\nsql_query = (\\n    \\\"\\\"\\\"\\n(SELECT * FROM statcast \\nJOIN player_id ON statcast.batter=player_id.key_mlbam \\nWHERE statcast.batter= \\n\\\"\\\"\\\"\\n    + str(pid_of_interest1)\\n    + \\\"\\\"\\\"\\nAND statcast.game_date<=\\n\\\"\\\"\\\"\\n    + str(date_of_interest)\\n    + \\\"\\\"\\\" \\nAND statcast.events IS NOT NULL \\nORDER BY statcast.game_date DESC, statcast.inning DESC, statcast.outs_when_up DESC \\nLIMIT\\n\\\"\\\"\\\"\\n    + str(no_total_ab_events)\\n    + \\\");\\\"\\n)\\n\\nprint(sql_query)\\n\\ndf_sc_events1 = pd.read_sql_query(sql_query, con)\\ndf_sc_events1.drop([\\\"level_0\\\", \\\"index\\\"], axis=1, inplace=True)  # Clean up df\";\n",
       "                var nbb_formatted_code = \"# Player 1\\n\\nsql_query = (\\n    \\\"\\\"\\\"\\n(SELECT * FROM statcast \\nJOIN player_id ON statcast.batter=player_id.key_mlbam \\nWHERE statcast.batter= \\n\\\"\\\"\\\"\\n    + str(pid_of_interest1)\\n    + \\\"\\\"\\\"\\nAND statcast.game_date<=\\n\\\"\\\"\\\"\\n    + str(date_of_interest)\\n    + \\\"\\\"\\\" \\nAND statcast.events IS NOT NULL \\nORDER BY statcast.game_date DESC, statcast.inning DESC, statcast.outs_when_up DESC \\nLIMIT\\n\\\"\\\"\\\"\\n    + str(no_total_ab_events)\\n    + \\\");\\\"\\n)\\n\\nprint(sql_query)\\n\\ndf_sc_events1 = pd.read_sql_query(sql_query, con)\\ndf_sc_events1.drop([\\\"level_0\\\", \\\"index\\\"], axis=1, inplace=True)  # Clean up df\";\n",
       "                var nbb_cells = Jupyter.notebook.get_cells();\n",
       "                for (var i = 0; i < nbb_cells.length; ++i) {\n",
       "                    if (nbb_cells[i].input_prompt_number == nbb_cell_id) {\n",
       "                        if (nbb_cells[i].get_text() == nbb_unformatted_code) {\n",
       "                             nbb_cells[i].set_text(nbb_formatted_code);\n",
       "                        }\n",
       "                        break;\n",
       "                    }\n",
       "                }\n",
       "            }, 500);\n",
       "            "
      ],
      "text/plain": [
       "<IPython.core.display.Javascript object>"
      ]
     },
     "metadata": {},
     "output_type": "display_data"
    }
   ],
   "source": [
    "# Player 1\n",
    "\n",
    "sql_query = (\n",
    "    \"\"\"\n",
    "(SELECT * FROM statcast \n",
    "JOIN player_id ON statcast.batter=player_id.key_mlbam \n",
    "WHERE statcast.batter= \n",
    "\"\"\"\n",
    "    + str(pid_of_interest1)\n",
    "    + \"\"\"\n",
    "AND statcast.game_date<=\n",
    "\"\"\"\n",
    "    + str(date_of_interest)\n",
    "    + \"\"\" \n",
    "AND statcast.events IS NOT NULL \n",
    "ORDER BY statcast.game_date DESC, statcast.inning DESC, statcast.outs_when_up DESC \n",
    "LIMIT\n",
    "\"\"\"\n",
    "    + str(no_total_ab_events)\n",
    "    + \");\"\n",
    ")\n",
    "\n",
    "print(sql_query)\n",
    "\n",
    "df_sc_events1 = pd.read_sql_query(sql_query, con)\n",
    "df_sc_events1.drop([\"level_0\", \"index\"], axis=1, inplace=True)  # Clean up df"
   ]
  },
  {
   "cell_type": "code",
   "execution_count": 979,
   "metadata": {
    "ExecuteTime": {
     "end_time": "2020-01-27T19:27:40.064013Z",
     "start_time": "2020-01-27T19:27:33.680754Z"
    }
   },
   "outputs": [
    {
     "name": "stdout",
     "output_type": "stream",
     "text": [
      "\n",
      "(SELECT * FROM statcast \n",
      "JOIN player_id ON statcast.batter=player_id.key_mlbam \n",
      "WHERE statcast.batter= \n",
      "596748\n",
      "AND statcast.game_date<=\n",
      "'2019-09-09' \n",
      "AND statcast.events IS NOT NULL \n",
      "ORDER BY statcast.game_date DESC, statcast.inning DESC, statcast.outs_when_up DESC \n",
      "LIMIT\n",
      "1000);\n"
     ]
    },
    {
     "data": {
      "application/javascript": [
       "\n",
       "            setTimeout(function() {\n",
       "                var nbb_cell_id = 979;\n",
       "                var nbb_unformatted_code = \"# FUNCTION FOR GETTING STATCAST DATA - player 2\\n\\n# Note: SQL union of two different searches doesn't preserve order\\n# It's easier to make a dataframe for each player\\n# https://stackoverflow.com/questions/21181664/sql-server-union-but-keep-order/21181766\\n\\n# ---------------------------------------------------\\n\\nsql_query = (\\n    \\\"\\\"\\\"\\n(SELECT * FROM statcast \\nJOIN player_id ON statcast.batter=player_id.key_mlbam \\nWHERE statcast.batter= \\n\\\"\\\"\\\"\\n    + str(pid_of_interest2)\\n    + \\\"\\\"\\\"\\nAND statcast.game_date<=\\n\\\"\\\"\\\"\\n    + str(date_of_interest)\\n    + \\\"\\\"\\\" \\nAND statcast.events IS NOT NULL \\nORDER BY statcast.game_date DESC, statcast.inning DESC, statcast.outs_when_up DESC \\nLIMIT\\n\\\"\\\"\\\"\\n    + str(no_total_ab_events)\\n    + \\\");\\\"\\n)\\n\\nprint(sql_query)\\n\\ndf_sc_events2 = pd.read_sql_query(sql_query, con)\\ndf_sc_events2.drop([\\\"level_0\\\", \\\"index\\\"], axis=1, inplace=True)  # Clean up df\";\n",
       "                var nbb_formatted_code = \"# FUNCTION FOR GETTING STATCAST DATA - player 2\\n\\n# Note: SQL union of two different searches doesn't preserve order\\n# It's easier to make a dataframe for each player\\n# https://stackoverflow.com/questions/21181664/sql-server-union-but-keep-order/21181766\\n\\n# ---------------------------------------------------\\n\\nsql_query = (\\n    \\\"\\\"\\\"\\n(SELECT * FROM statcast \\nJOIN player_id ON statcast.batter=player_id.key_mlbam \\nWHERE statcast.batter= \\n\\\"\\\"\\\"\\n    + str(pid_of_interest2)\\n    + \\\"\\\"\\\"\\nAND statcast.game_date<=\\n\\\"\\\"\\\"\\n    + str(date_of_interest)\\n    + \\\"\\\"\\\" \\nAND statcast.events IS NOT NULL \\nORDER BY statcast.game_date DESC, statcast.inning DESC, statcast.outs_when_up DESC \\nLIMIT\\n\\\"\\\"\\\"\\n    + str(no_total_ab_events)\\n    + \\\");\\\"\\n)\\n\\nprint(sql_query)\\n\\ndf_sc_events2 = pd.read_sql_query(sql_query, con)\\ndf_sc_events2.drop([\\\"level_0\\\", \\\"index\\\"], axis=1, inplace=True)  # Clean up df\";\n",
       "                var nbb_cells = Jupyter.notebook.get_cells();\n",
       "                for (var i = 0; i < nbb_cells.length; ++i) {\n",
       "                    if (nbb_cells[i].input_prompt_number == nbb_cell_id) {\n",
       "                        if (nbb_cells[i].get_text() == nbb_unformatted_code) {\n",
       "                             nbb_cells[i].set_text(nbb_formatted_code);\n",
       "                        }\n",
       "                        break;\n",
       "                    }\n",
       "                }\n",
       "            }, 500);\n",
       "            "
      ],
      "text/plain": [
       "<IPython.core.display.Javascript object>"
      ]
     },
     "metadata": {},
     "output_type": "display_data"
    }
   ],
   "source": [
    "# FUNCTION FOR GETTING STATCAST DATA - player 2\n",
    "\n",
    "# Note: SQL union of two different searches doesn't preserve order\n",
    "# It's easier to make a dataframe for each player\n",
    "# https://stackoverflow.com/questions/21181664/sql-server-union-but-keep-order/21181766\n",
    "\n",
    "# ---------------------------------------------------\n",
    "\n",
    "sql_query = (\n",
    "    \"\"\"\n",
    "(SELECT * FROM statcast \n",
    "JOIN player_id ON statcast.batter=player_id.key_mlbam \n",
    "WHERE statcast.batter= \n",
    "\"\"\"\n",
    "    + str(pid_of_interest2)\n",
    "    + \"\"\"\n",
    "AND statcast.game_date<=\n",
    "\"\"\"\n",
    "    + str(date_of_interest)\n",
    "    + \"\"\" \n",
    "AND statcast.events IS NOT NULL \n",
    "ORDER BY statcast.game_date DESC, statcast.inning DESC, statcast.outs_when_up DESC \n",
    "LIMIT\n",
    "\"\"\"\n",
    "    + str(no_total_ab_events)\n",
    "    + \");\"\n",
    ")\n",
    "\n",
    "print(sql_query)\n",
    "\n",
    "df_sc_events2 = pd.read_sql_query(sql_query, con)\n",
    "df_sc_events2.drop([\"level_0\", \"index\"], axis=1, inplace=True)  # Clean up df"
   ]
  },
  {
   "cell_type": "code",
   "execution_count": 980,
   "metadata": {
    "ExecuteTime": {
     "end_time": "2020-01-27T19:27:41.079390Z",
     "start_time": "2020-01-27T19:27:41.042829Z"
    }
   },
   "outputs": [
    {
     "data": {
      "text/html": [
       "<div>\n",
       "<style scoped>\n",
       "    .dataframe tbody tr th:only-of-type {\n",
       "        vertical-align: middle;\n",
       "    }\n",
       "\n",
       "    .dataframe tbody tr th {\n",
       "        vertical-align: top;\n",
       "    }\n",
       "\n",
       "    .dataframe thead th {\n",
       "        text-align: right;\n",
       "    }\n",
       "</style>\n",
       "<table border=\"1\" class=\"dataframe\">\n",
       "  <thead>\n",
       "    <tr style=\"text-align: right;\">\n",
       "      <th></th>\n",
       "      <th>pitch_type</th>\n",
       "      <th>game_date</th>\n",
       "      <th>release_speed</th>\n",
       "      <th>release_pos_x</th>\n",
       "      <th>release_pos_z</th>\n",
       "      <th>player_name</th>\n",
       "      <th>batter</th>\n",
       "      <th>pitcher</th>\n",
       "      <th>events</th>\n",
       "      <th>description</th>\n",
       "      <th>...</th>\n",
       "      <th>if_fielding_alignment</th>\n",
       "      <th>of_fielding_alignment</th>\n",
       "      <th>name_last</th>\n",
       "      <th>name_first</th>\n",
       "      <th>key_mlbam</th>\n",
       "      <th>key_retro</th>\n",
       "      <th>key_bbref</th>\n",
       "      <th>key_fangraphs</th>\n",
       "      <th>mlb_played_first</th>\n",
       "      <th>mlb_played_last</th>\n",
       "    </tr>\n",
       "  </thead>\n",
       "  <tbody>\n",
       "    <tr>\n",
       "      <th>0</th>\n",
       "      <td>SL</td>\n",
       "      <td>2019-09-09</td>\n",
       "      <td>82.2</td>\n",
       "      <td>-2.0547</td>\n",
       "      <td>5.2492</td>\n",
       "      <td>Mike Foltynewicz</td>\n",
       "      <td>596748.0</td>\n",
       "      <td>592314.0</td>\n",
       "      <td>strikeout</td>\n",
       "      <td>swinging_strike</td>\n",
       "      <td>...</td>\n",
       "      <td>Standard</td>\n",
       "      <td>Standard</td>\n",
       "      <td>franco</td>\n",
       "      <td>maikel</td>\n",
       "      <td>596748</td>\n",
       "      <td>franm004</td>\n",
       "      <td>francma02</td>\n",
       "      <td>12179</td>\n",
       "      <td>2014.0</td>\n",
       "      <td>2019.0</td>\n",
       "    </tr>\n",
       "    <tr>\n",
       "      <th>1</th>\n",
       "      <td>FT</td>\n",
       "      <td>2019-09-09</td>\n",
       "      <td>94.9</td>\n",
       "      <td>-2.0080</td>\n",
       "      <td>5.4325</td>\n",
       "      <td>Mike Foltynewicz</td>\n",
       "      <td>596748.0</td>\n",
       "      <td>592314.0</td>\n",
       "      <td>field_out</td>\n",
       "      <td>hit_into_play</td>\n",
       "      <td>...</td>\n",
       "      <td>Standard</td>\n",
       "      <td>Standard</td>\n",
       "      <td>franco</td>\n",
       "      <td>maikel</td>\n",
       "      <td>596748</td>\n",
       "      <td>franm004</td>\n",
       "      <td>francma02</td>\n",
       "      <td>12179</td>\n",
       "      <td>2014.0</td>\n",
       "      <td>2019.0</td>\n",
       "    </tr>\n",
       "    <tr>\n",
       "      <th>2</th>\n",
       "      <td>SL</td>\n",
       "      <td>2019-09-08</td>\n",
       "      <td>88.5</td>\n",
       "      <td>-1.3398</td>\n",
       "      <td>6.4312</td>\n",
       "      <td>Jeurys Familia</td>\n",
       "      <td>596748.0</td>\n",
       "      <td>544727.0</td>\n",
       "      <td>field_error</td>\n",
       "      <td>hit_into_play_no_out</td>\n",
       "      <td>...</td>\n",
       "      <td>Standard</td>\n",
       "      <td>Standard</td>\n",
       "      <td>franco</td>\n",
       "      <td>maikel</td>\n",
       "      <td>596748</td>\n",
       "      <td>franm004</td>\n",
       "      <td>francma02</td>\n",
       "      <td>12179</td>\n",
       "      <td>2014.0</td>\n",
       "      <td>2019.0</td>\n",
       "    </tr>\n",
       "    <tr>\n",
       "      <th>3</th>\n",
       "      <td>FF</td>\n",
       "      <td>2019-09-08</td>\n",
       "      <td>94.2</td>\n",
       "      <td>-2.3628</td>\n",
       "      <td>5.5456</td>\n",
       "      <td>Tyler Bashlor</td>\n",
       "      <td>596748.0</td>\n",
       "      <td>641341.0</td>\n",
       "      <td>double</td>\n",
       "      <td>hit_into_play_no_out</td>\n",
       "      <td>...</td>\n",
       "      <td>Standard</td>\n",
       "      <td>Standard</td>\n",
       "      <td>franco</td>\n",
       "      <td>maikel</td>\n",
       "      <td>596748</td>\n",
       "      <td>franm004</td>\n",
       "      <td>francma02</td>\n",
       "      <td>12179</td>\n",
       "      <td>2014.0</td>\n",
       "      <td>2019.0</td>\n",
       "    </tr>\n",
       "    <tr>\n",
       "      <th>4</th>\n",
       "      <td>FT</td>\n",
       "      <td>2019-09-08</td>\n",
       "      <td>90.4</td>\n",
       "      <td>1.3240</td>\n",
       "      <td>6.1355</td>\n",
       "      <td>Luis Avilan</td>\n",
       "      <td>596748.0</td>\n",
       "      <td>501593.0</td>\n",
       "      <td>home_run</td>\n",
       "      <td>hit_into_play_score</td>\n",
       "      <td>...</td>\n",
       "      <td>Standard</td>\n",
       "      <td>Standard</td>\n",
       "      <td>franco</td>\n",
       "      <td>maikel</td>\n",
       "      <td>596748</td>\n",
       "      <td>franm004</td>\n",
       "      <td>francma02</td>\n",
       "      <td>12179</td>\n",
       "      <td>2014.0</td>\n",
       "      <td>2019.0</td>\n",
       "    </tr>\n",
       "  </tbody>\n",
       "</table>\n",
       "<p>5 rows × 97 columns</p>\n",
       "</div>"
      ],
      "text/plain": [
       "  pitch_type  game_date  release_speed  release_pos_x  release_pos_z  \\\n",
       "0         SL 2019-09-09           82.2        -2.0547         5.2492   \n",
       "1         FT 2019-09-09           94.9        -2.0080         5.4325   \n",
       "2         SL 2019-09-08           88.5        -1.3398         6.4312   \n",
       "3         FF 2019-09-08           94.2        -2.3628         5.5456   \n",
       "4         FT 2019-09-08           90.4         1.3240         6.1355   \n",
       "\n",
       "        player_name    batter   pitcher       events           description  \\\n",
       "0  Mike Foltynewicz  596748.0  592314.0    strikeout       swinging_strike   \n",
       "1  Mike Foltynewicz  596748.0  592314.0    field_out         hit_into_play   \n",
       "2    Jeurys Familia  596748.0  544727.0  field_error  hit_into_play_no_out   \n",
       "3     Tyler Bashlor  596748.0  641341.0       double  hit_into_play_no_out   \n",
       "4       Luis Avilan  596748.0  501593.0     home_run   hit_into_play_score   \n",
       "\n",
       "   ... if_fielding_alignment of_fielding_alignment name_last name_first  \\\n",
       "0  ...              Standard              Standard    franco     maikel   \n",
       "1  ...              Standard              Standard    franco     maikel   \n",
       "2  ...              Standard              Standard    franco     maikel   \n",
       "3  ...              Standard              Standard    franco     maikel   \n",
       "4  ...              Standard              Standard    franco     maikel   \n",
       "\n",
       "   key_mlbam key_retro  key_bbref key_fangraphs mlb_played_first  \\\n",
       "0     596748  franm004  francma02         12179           2014.0   \n",
       "1     596748  franm004  francma02         12179           2014.0   \n",
       "2     596748  franm004  francma02         12179           2014.0   \n",
       "3     596748  franm004  francma02         12179           2014.0   \n",
       "4     596748  franm004  francma02         12179           2014.0   \n",
       "\n",
       "  mlb_played_last  \n",
       "0          2019.0  \n",
       "1          2019.0  \n",
       "2          2019.0  \n",
       "3          2019.0  \n",
       "4          2019.0  \n",
       "\n",
       "[5 rows x 97 columns]"
      ]
     },
     "execution_count": 980,
     "metadata": {},
     "output_type": "execute_result"
    },
    {
     "data": {
      "application/javascript": [
       "\n",
       "            setTimeout(function() {\n",
       "                var nbb_cell_id = 980;\n",
       "                var nbb_unformatted_code = \"df_sc_events2.head()\";\n",
       "                var nbb_formatted_code = \"df_sc_events2.head()\";\n",
       "                var nbb_cells = Jupyter.notebook.get_cells();\n",
       "                for (var i = 0; i < nbb_cells.length; ++i) {\n",
       "                    if (nbb_cells[i].input_prompt_number == nbb_cell_id) {\n",
       "                        if (nbb_cells[i].get_text() == nbb_unformatted_code) {\n",
       "                             nbb_cells[i].set_text(nbb_formatted_code);\n",
       "                        }\n",
       "                        break;\n",
       "                    }\n",
       "                }\n",
       "            }, 500);\n",
       "            "
      ],
      "text/plain": [
       "<IPython.core.display.Javascript object>"
      ]
     },
     "metadata": {},
     "output_type": "display_data"
    }
   ],
   "source": [
    "df_sc_events2.head()"
   ]
  },
  {
   "cell_type": "code",
   "execution_count": 898,
   "metadata": {
    "ExecuteTime": {
     "end_time": "2020-01-27T17:54:25.070583Z",
     "start_time": "2020-01-27T17:54:24.981825Z"
    }
   },
   "outputs": [
    {
     "data": {
      "application/javascript": [
       "\n",
       "            setTimeout(function() {\n",
       "                var nbb_cell_id = 898;\n",
       "                var nbb_unformatted_code = \"df_temp = df_sc_events2.copy()\\ndf_temp = df_temp[df_temp[\\\"game_date\\\"].between(\\\"2019-04-01\\\", \\\"2019-09-09\\\")]\\n\\ndf_temp.reset_index(inplace=True)\\n\\n# Encode on-base events, including walks\\nob_list = [\\\"walk\\\", \\\"single\\\", \\\"double\\\", \\\"triple\\\", \\\"home_run\\\"]\\ndf_temp[\\\"event_code\\\"] = 0\\ndf_temp.loc[df[\\\"events\\\"].isin(ob_list), \\\"event_code\\\"] = 1\";\n",
       "                var nbb_formatted_code = \"df_temp = df_sc_events2.copy()\\ndf_temp = df_temp[df_temp[\\\"game_date\\\"].between(\\\"2019-04-01\\\", \\\"2019-09-09\\\")]\\n\\ndf_temp.reset_index(inplace=True)\\n\\n# Encode on-base events, including walks\\nob_list = [\\\"walk\\\", \\\"single\\\", \\\"double\\\", \\\"triple\\\", \\\"home_run\\\"]\\ndf_temp[\\\"event_code\\\"] = 0\\ndf_temp.loc[df[\\\"events\\\"].isin(ob_list), \\\"event_code\\\"] = 1\";\n",
       "                var nbb_cells = Jupyter.notebook.get_cells();\n",
       "                for (var i = 0; i < nbb_cells.length; ++i) {\n",
       "                    if (nbb_cells[i].input_prompt_number == nbb_cell_id) {\n",
       "                        if (nbb_cells[i].get_text() == nbb_unformatted_code) {\n",
       "                             nbb_cells[i].set_text(nbb_formatted_code);\n",
       "                        }\n",
       "                        break;\n",
       "                    }\n",
       "                }\n",
       "            }, 500);\n",
       "            "
      ],
      "text/plain": [
       "<IPython.core.display.Javascript object>"
      ]
     },
     "metadata": {},
     "output_type": "display_data"
    }
   ],
   "source": [
    "# df_temp = df_sc_events2.copy()\n",
    "# df_temp = df_temp[df_temp[\"game_date\"].between(\"2019-04-01\", \"2019-09-09\")]\n",
    "\n",
    "# df_temp.reset_index(inplace=True)\n",
    "\n",
    "# # Encode on-base events, including walks\n",
    "# ob_list = [\"walk\", \"single\", \"double\", \"triple\", \"home_run\"]\n",
    "# df_temp[\"event_code\"] = 0\n",
    "# df_temp.loc[df[\"events\"].isin(ob_list), \"event_code\"] = 1"
   ]
  },
  {
   "cell_type": "code",
   "execution_count": 775,
   "metadata": {
    "ExecuteTime": {
     "end_time": "2020-01-27T14:39:00.621229Z",
     "start_time": "2020-01-27T14:39:00.579765Z"
    },
    "scrolled": true
   },
   "outputs": [
    {
     "data": {
      "text/html": [
       "<div>\n",
       "<style scoped>\n",
       "    .dataframe tbody tr th:only-of-type {\n",
       "        vertical-align: middle;\n",
       "    }\n",
       "\n",
       "    .dataframe tbody tr th {\n",
       "        vertical-align: top;\n",
       "    }\n",
       "\n",
       "    .dataframe thead th {\n",
       "        text-align: right;\n",
       "    }\n",
       "</style>\n",
       "<table border=\"1\" class=\"dataframe\">\n",
       "  <thead>\n",
       "    <tr style=\"text-align: right;\">\n",
       "      <th></th>\n",
       "      <th>index</th>\n",
       "      <th>pitch_type</th>\n",
       "      <th>game_date</th>\n",
       "      <th>release_speed</th>\n",
       "      <th>release_pos_x</th>\n",
       "      <th>release_pos_z</th>\n",
       "      <th>player_name</th>\n",
       "      <th>batter</th>\n",
       "      <th>pitcher</th>\n",
       "      <th>events</th>\n",
       "      <th>...</th>\n",
       "      <th>of_fielding_alignment</th>\n",
       "      <th>name_last</th>\n",
       "      <th>name_first</th>\n",
       "      <th>key_mlbam</th>\n",
       "      <th>key_retro</th>\n",
       "      <th>key_bbref</th>\n",
       "      <th>key_fangraphs</th>\n",
       "      <th>mlb_played_first</th>\n",
       "      <th>mlb_played_last</th>\n",
       "      <th>event_code</th>\n",
       "    </tr>\n",
       "  </thead>\n",
       "  <tbody>\n",
       "    <tr>\n",
       "      <th>0</th>\n",
       "      <td>0</td>\n",
       "      <td>SL</td>\n",
       "      <td>2019-09-09</td>\n",
       "      <td>82.2</td>\n",
       "      <td>-2.0547</td>\n",
       "      <td>5.2492</td>\n",
       "      <td>Mike Foltynewicz</td>\n",
       "      <td>596748.0</td>\n",
       "      <td>592314.0</td>\n",
       "      <td>strikeout</td>\n",
       "      <td>...</td>\n",
       "      <td>Standard</td>\n",
       "      <td>franco</td>\n",
       "      <td>maikel</td>\n",
       "      <td>596748</td>\n",
       "      <td>franm004</td>\n",
       "      <td>francma02</td>\n",
       "      <td>12179</td>\n",
       "      <td>2014.0</td>\n",
       "      <td>2019.0</td>\n",
       "      <td>0</td>\n",
       "    </tr>\n",
       "    <tr>\n",
       "      <th>1</th>\n",
       "      <td>1</td>\n",
       "      <td>FT</td>\n",
       "      <td>2019-09-09</td>\n",
       "      <td>94.9</td>\n",
       "      <td>-2.0080</td>\n",
       "      <td>5.4325</td>\n",
       "      <td>Mike Foltynewicz</td>\n",
       "      <td>596748.0</td>\n",
       "      <td>592314.0</td>\n",
       "      <td>field_out</td>\n",
       "      <td>...</td>\n",
       "      <td>Standard</td>\n",
       "      <td>franco</td>\n",
       "      <td>maikel</td>\n",
       "      <td>596748</td>\n",
       "      <td>franm004</td>\n",
       "      <td>francma02</td>\n",
       "      <td>12179</td>\n",
       "      <td>2014.0</td>\n",
       "      <td>2019.0</td>\n",
       "      <td>0</td>\n",
       "    </tr>\n",
       "    <tr>\n",
       "      <th>2</th>\n",
       "      <td>2</td>\n",
       "      <td>SL</td>\n",
       "      <td>2019-09-08</td>\n",
       "      <td>88.5</td>\n",
       "      <td>-1.3398</td>\n",
       "      <td>6.4312</td>\n",
       "      <td>Jeurys Familia</td>\n",
       "      <td>596748.0</td>\n",
       "      <td>544727.0</td>\n",
       "      <td>field_error</td>\n",
       "      <td>...</td>\n",
       "      <td>Standard</td>\n",
       "      <td>franco</td>\n",
       "      <td>maikel</td>\n",
       "      <td>596748</td>\n",
       "      <td>franm004</td>\n",
       "      <td>francma02</td>\n",
       "      <td>12179</td>\n",
       "      <td>2014.0</td>\n",
       "      <td>2019.0</td>\n",
       "      <td>0</td>\n",
       "    </tr>\n",
       "    <tr>\n",
       "      <th>3</th>\n",
       "      <td>3</td>\n",
       "      <td>FF</td>\n",
       "      <td>2019-09-08</td>\n",
       "      <td>94.2</td>\n",
       "      <td>-2.3628</td>\n",
       "      <td>5.5456</td>\n",
       "      <td>Tyler Bashlor</td>\n",
       "      <td>596748.0</td>\n",
       "      <td>641341.0</td>\n",
       "      <td>double</td>\n",
       "      <td>...</td>\n",
       "      <td>Standard</td>\n",
       "      <td>franco</td>\n",
       "      <td>maikel</td>\n",
       "      <td>596748</td>\n",
       "      <td>franm004</td>\n",
       "      <td>francma02</td>\n",
       "      <td>12179</td>\n",
       "      <td>2014.0</td>\n",
       "      <td>2019.0</td>\n",
       "      <td>1</td>\n",
       "    </tr>\n",
       "    <tr>\n",
       "      <th>4</th>\n",
       "      <td>4</td>\n",
       "      <td>FT</td>\n",
       "      <td>2019-09-08</td>\n",
       "      <td>90.4</td>\n",
       "      <td>1.3240</td>\n",
       "      <td>6.1355</td>\n",
       "      <td>Luis Avilan</td>\n",
       "      <td>596748.0</td>\n",
       "      <td>501593.0</td>\n",
       "      <td>home_run</td>\n",
       "      <td>...</td>\n",
       "      <td>Standard</td>\n",
       "      <td>franco</td>\n",
       "      <td>maikel</td>\n",
       "      <td>596748</td>\n",
       "      <td>franm004</td>\n",
       "      <td>francma02</td>\n",
       "      <td>12179</td>\n",
       "      <td>2014.0</td>\n",
       "      <td>2019.0</td>\n",
       "      <td>1</td>\n",
       "    </tr>\n",
       "  </tbody>\n",
       "</table>\n",
       "<p>5 rows × 99 columns</p>\n",
       "</div>"
      ],
      "text/plain": [
       "   index pitch_type  game_date  release_speed  release_pos_x  release_pos_z  \\\n",
       "0      0         SL 2019-09-09           82.2        -2.0547         5.2492   \n",
       "1      1         FT 2019-09-09           94.9        -2.0080         5.4325   \n",
       "2      2         SL 2019-09-08           88.5        -1.3398         6.4312   \n",
       "3      3         FF 2019-09-08           94.2        -2.3628         5.5456   \n",
       "4      4         FT 2019-09-08           90.4         1.3240         6.1355   \n",
       "\n",
       "        player_name    batter   pitcher       events  ...  \\\n",
       "0  Mike Foltynewicz  596748.0  592314.0    strikeout  ...   \n",
       "1  Mike Foltynewicz  596748.0  592314.0    field_out  ...   \n",
       "2    Jeurys Familia  596748.0  544727.0  field_error  ...   \n",
       "3     Tyler Bashlor  596748.0  641341.0       double  ...   \n",
       "4       Luis Avilan  596748.0  501593.0     home_run  ...   \n",
       "\n",
       "  of_fielding_alignment name_last name_first key_mlbam key_retro  key_bbref  \\\n",
       "0              Standard    franco     maikel    596748  franm004  francma02   \n",
       "1              Standard    franco     maikel    596748  franm004  francma02   \n",
       "2              Standard    franco     maikel    596748  franm004  francma02   \n",
       "3              Standard    franco     maikel    596748  franm004  francma02   \n",
       "4              Standard    franco     maikel    596748  franm004  francma02   \n",
       "\n",
       "  key_fangraphs mlb_played_first mlb_played_last event_code  \n",
       "0         12179           2014.0          2019.0          0  \n",
       "1         12179           2014.0          2019.0          0  \n",
       "2         12179           2014.0          2019.0          0  \n",
       "3         12179           2014.0          2019.0          1  \n",
       "4         12179           2014.0          2019.0          1  \n",
       "\n",
       "[5 rows x 99 columns]"
      ]
     },
     "execution_count": 775,
     "metadata": {},
     "output_type": "execute_result"
    },
    {
     "data": {
      "application/javascript": [
       "\n",
       "            setTimeout(function() {\n",
       "                var nbb_cell_id = 775;\n",
       "                var nbb_unformatted_code = \"df_temp.head()\";\n",
       "                var nbb_formatted_code = \"df_temp.head()\";\n",
       "                var nbb_cells = Jupyter.notebook.get_cells();\n",
       "                for (var i = 0; i < nbb_cells.length; ++i) {\n",
       "                    if (nbb_cells[i].input_prompt_number == nbb_cell_id) {\n",
       "                        if (nbb_cells[i].get_text() == nbb_unformatted_code) {\n",
       "                             nbb_cells[i].set_text(nbb_formatted_code);\n",
       "                        }\n",
       "                        break;\n",
       "                    }\n",
       "                }\n",
       "            }, 500);\n",
       "            "
      ],
      "text/plain": [
       "<IPython.core.display.Javascript object>"
      ]
     },
     "metadata": {},
     "output_type": "display_data"
    }
   ],
   "source": [
    "# df_temp.head()"
   ]
  },
  {
   "cell_type": "code",
   "execution_count": 899,
   "metadata": {
    "ExecuteTime": {
     "end_time": "2020-01-27T17:54:28.022526Z",
     "start_time": "2020-01-27T17:54:27.637173Z"
    }
   },
   "outputs": [
    {
     "data": {
      "text/plain": [
       "<matplotlib.collections.PathCollection at 0x1a344b1ba8>"
      ]
     },
     "execution_count": 899,
     "metadata": {},
     "output_type": "execute_result"
    },
    {
     "data": {
      "image/png": "[encoded data removed]",
      "text/plain": [
       "<Figure size 432x288 with 1 Axes>"
      ]
     },
     "metadata": {
      "needs_background": "light"
     },
     "output_type": "display_data"
    },
    {
     "data": {
      "application/javascript": [
       "\n",
       "            setTimeout(function() {\n",
       "                var nbb_cell_id = 899;\n",
       "                var nbb_unformatted_code = \"f, ax1 = plt.subplots()\\nax1.scatter(\\n    df_temp[\\\"game_date\\\"],\\n    df_temp[\\\"event_code\\\"] + np.random.normal(0, 0.01, len(df_temp)),\\n    facecolors=\\\"none\\\",\\n    edgecolors=\\\"black\\\",\\n)\";\n",
       "                var nbb_formatted_code = \"f, ax1 = plt.subplots()\\nax1.scatter(\\n    df_temp[\\\"game_date\\\"],\\n    df_temp[\\\"event_code\\\"] + np.random.normal(0, 0.01, len(df_temp)),\\n    facecolors=\\\"none\\\",\\n    edgecolors=\\\"black\\\",\\n)\";\n",
       "                var nbb_cells = Jupyter.notebook.get_cells();\n",
       "                for (var i = 0; i < nbb_cells.length; ++i) {\n",
       "                    if (nbb_cells[i].input_prompt_number == nbb_cell_id) {\n",
       "                        if (nbb_cells[i].get_text() == nbb_unformatted_code) {\n",
       "                             nbb_cells[i].set_text(nbb_formatted_code);\n",
       "                        }\n",
       "                        break;\n",
       "                    }\n",
       "                }\n",
       "            }, 500);\n",
       "            "
      ],
      "text/plain": [
       "<IPython.core.display.Javascript object>"
      ]
     },
     "metadata": {},
     "output_type": "display_data"
    }
   ],
   "source": [
    "f, ax1 = plt.subplots()\n",
    "ax1.scatter(\n",
    "    df_temp[\"game_date\"],\n",
    "    df_temp[\"event_code\"] + np.random.normal(0, 0.01, len(df_temp)),\n",
    "    facecolors=\"none\",\n",
    "    edgecolors=\"black\",\n",
    ")"
   ]
  },
  {
   "cell_type": "code",
   "execution_count": 900,
   "metadata": {
    "ExecuteTime": {
     "end_time": "2020-01-27T17:54:31.686188Z",
     "start_time": "2020-01-27T17:54:31.680302Z"
    }
   },
   "outputs": [
    {
     "data": {
      "application/javascript": [
       "\n",
       "            setTimeout(function() {\n",
       "                var nbb_cell_id = 900;\n",
       "                var nbb_unformatted_code = \"# def get_model_prob(df4model)\\n\\n# Output probabilities of \";\n",
       "                var nbb_formatted_code = \"# def get_model_prob(df4model)\\n\\n# Output probabilities of\";\n",
       "                var nbb_cells = Jupyter.notebook.get_cells();\n",
       "                for (var i = 0; i < nbb_cells.length; ++i) {\n",
       "                    if (nbb_cells[i].input_prompt_number == nbb_cell_id) {\n",
       "                        if (nbb_cells[i].get_text() == nbb_unformatted_code) {\n",
       "                             nbb_cells[i].set_text(nbb_formatted_code);\n",
       "                        }\n",
       "                        break;\n",
       "                    }\n",
       "                }\n",
       "            }, 500);\n",
       "            "
      ],
      "text/plain": [
       "<IPython.core.display.Javascript object>"
      ]
     },
     "metadata": {},
     "output_type": "display_data"
    }
   ],
   "source": [
    "# def get_model_prob(df4model)\n",
    "\n",
    "# Output probabilities of"
   ]
  },
  {
   "cell_type": "code",
   "execution_count": 985,
   "metadata": {
    "ExecuteTime": {
     "end_time": "2020-01-27T19:29:20.268319Z",
     "start_time": "2020-01-27T19:29:20.233460Z"
    },
    "code_folding": []
   },
   "outputs": [
    {
     "data": {
      "application/javascript": [
       "\n",
       "            setTimeout(function() {\n",
       "                var nbb_cell_id = 985;\n",
       "                var nbb_unformatted_code = \"def get_df4model(df, n_back_PA, m_size):\\n    \\\"\\\"\\\"\\n    Function for getting summarized DF\\n    \\\"\\\"\\\"\\n    # sample values -----------\\n    # n_back_PA = 100\\n    # df = df_sc_events.copy()\\n    # pid = pid_of_interest1\\n    # m_size = 200\\n    # -------------------------\\n\\n    # Reset index so that code below works\\n    df.reset_index(inplace=True)\\n\\n    # Encode on-base events, including walks\\n    ob_list = [\\\"walk\\\", \\\"single\\\", \\\"double\\\", \\\"triple\\\", \\\"home_run\\\"]\\n    df[\\\"event_code\\\"] = 0\\n    df.loc[df[\\\"events\\\"].isin(ob_list), \\\"event_code\\\"] = 1\\n\\n    # Sum of on-base events - critical that order matters! (should be addressed above)\\n    # rolling was close, but needed to tweak\\n    df[\\\"num_events_sum_nback\\\"] = (\\n        df[\\\"event_code\\\"].iloc[::-1].rolling(n_back_PA).sum().iloc[::-1]\\n    )\\n\\n    # Percent of on-base events (overall)\\n    df[\\\"prop_events_nback\\\"] = df[\\\"num_events_sum_nback\\\"] / n_back_PA\\n\\n    # Percent of on-base events against handedness of pitcher\\n    for i in df.index:\\n        p_throws = df[\\\"p_throws\\\"].iloc[i]  # Get handedness of pitcher\\n        df_pt_throw = df[df[\\\"p_throws\\\"] == p_throws]\\n        n_pt_events = df_pt_throw[\\\"event_code\\\"].iloc[i : i + n_back_PA].sum()\\n        df.loc[i, \\\"num_events_sum_nback_pt\\\"] = n_pt_events\\n        df.loc[i, \\\"prop_events_sum_nback_pt\\\"] = n_pt_events / n_back_PA\\n\\n    col4model = [\\n        \\\"event_code\\\",\\n        \\\"p_throws\\\",\\n        \\\"prop_events_nback\\\",\\n        \\\"prop_events_sum_nback_pt\\\",\\n    ]\\n\\n    df_4model = df[col4model].copy()\\n    df_4model_overall = df_4model.loc[:m_size]\\n\\n    return df_4model_overall\";\n",
       "                var nbb_formatted_code = \"def get_df4model(df, n_back_PA, m_size):\\n    \\\"\\\"\\\"\\n    Function for getting summarized DF\\n    \\\"\\\"\\\"\\n    # sample values -----------\\n    # n_back_PA = 100\\n    # df = df_sc_events.copy()\\n    # pid = pid_of_interest1\\n    # m_size = 200\\n    # -------------------------\\n\\n    # Reset index so that code below works\\n    df.reset_index(inplace=True)\\n\\n    # Encode on-base events, including walks\\n    ob_list = [\\\"walk\\\", \\\"single\\\", \\\"double\\\", \\\"triple\\\", \\\"home_run\\\"]\\n    df[\\\"event_code\\\"] = 0\\n    df.loc[df[\\\"events\\\"].isin(ob_list), \\\"event_code\\\"] = 1\\n\\n    # Sum of on-base events - critical that order matters! (should be addressed above)\\n    # rolling was close, but needed to tweak\\n    df[\\\"num_events_sum_nback\\\"] = (\\n        df[\\\"event_code\\\"].iloc[::-1].rolling(n_back_PA).sum().iloc[::-1]\\n    )\\n\\n    # Percent of on-base events (overall)\\n    df[\\\"prop_events_nback\\\"] = df[\\\"num_events_sum_nback\\\"] / n_back_PA\\n\\n    # Percent of on-base events against handedness of pitcher\\n    for i in df.index:\\n        p_throws = df[\\\"p_throws\\\"].iloc[i]  # Get handedness of pitcher\\n        df_pt_throw = df[df[\\\"p_throws\\\"] == p_throws]\\n        n_pt_events = df_pt_throw[\\\"event_code\\\"].iloc[i : i + n_back_PA].sum()\\n        df.loc[i, \\\"num_events_sum_nback_pt\\\"] = n_pt_events\\n        df.loc[i, \\\"prop_events_sum_nback_pt\\\"] = n_pt_events / n_back_PA\\n\\n    col4model = [\\n        \\\"event_code\\\",\\n        \\\"p_throws\\\",\\n        \\\"prop_events_nback\\\",\\n        \\\"prop_events_sum_nback_pt\\\",\\n    ]\\n\\n    df_4model = df[col4model].copy()\\n    df_4model_overall = df_4model.loc[:m_size]\\n\\n    return df_4model_overall\";\n",
       "                var nbb_cells = Jupyter.notebook.get_cells();\n",
       "                for (var i = 0; i < nbb_cells.length; ++i) {\n",
       "                    if (nbb_cells[i].input_prompt_number == nbb_cell_id) {\n",
       "                        if (nbb_cells[i].get_text() == nbb_unformatted_code) {\n",
       "                             nbb_cells[i].set_text(nbb_formatted_code);\n",
       "                        }\n",
       "                        break;\n",
       "                    }\n",
       "                }\n",
       "            }, 500);\n",
       "            "
      ],
      "text/plain": [
       "<IPython.core.display.Javascript object>"
      ]
     },
     "metadata": {},
     "output_type": "display_data"
    }
   ],
   "source": [
    "def get_df4model(df, n_back_PA, m_size):\n",
    "    \"\"\"\n",
    "    Function for getting summarized DF\n",
    "    \"\"\"\n",
    "    # sample values -----------\n",
    "    # n_back_PA = 100\n",
    "    # df = df_sc_events.copy()\n",
    "    # pid = pid_of_interest1\n",
    "    # m_size = 200\n",
    "    # -------------------------\n",
    "\n",
    "    # Reset index so that code below works\n",
    "    df.reset_index(inplace=True)\n",
    "\n",
    "    # Encode on-base events, including walks\n",
    "    ob_list = [\"walk\", \"single\", \"double\", \"triple\", \"home_run\"]\n",
    "    df[\"event_code\"] = 0\n",
    "    df.loc[df[\"events\"].isin(ob_list), \"event_code\"] = 1\n",
    "\n",
    "    # Sum of on-base events - critical that order matters! (should be addressed above)\n",
    "    # rolling was close, but needed to tweak\n",
    "    df[\"num_events_sum_nback\"] = (\n",
    "        df[\"event_code\"].iloc[::-1].rolling(n_back_PA).sum().iloc[::-1]\n",
    "    )\n",
    "\n",
    "    # Percent of on-base events (overall)\n",
    "    df[\"prop_events_nback\"] = df[\"num_events_sum_nback\"] / n_back_PA\n",
    "\n",
    "    # Percent of on-base events against handedness of pitcher\n",
    "    for i in df.index:\n",
    "        p_throws = df[\"p_throws\"].iloc[i]  # Get handedness of pitcher\n",
    "        df_pt_throw = df[df[\"p_throws\"] == p_throws]\n",
    "        n_pt_events = df_pt_throw[\"event_code\"].iloc[i : i + n_back_PA].sum()\n",
    "        df.loc[i, \"num_events_sum_nback_pt\"] = n_pt_events\n",
    "        df.loc[i, \"prop_events_sum_nback_pt\"] = n_pt_events / n_back_PA\n",
    "\n",
    "    col4model = [\n",
    "        \"event_code\",\n",
    "        \"p_throws\",\n",
    "        \"prop_events_nback\",\n",
    "        \"prop_events_sum_nback_pt\",\n",
    "    ]\n",
    "\n",
    "    df_4model = df[col4model].copy()\n",
    "    df_4model_overall = df_4model.loc[:m_size]\n",
    "\n",
    "    return df_4model_overall"
   ]
  },
  {
   "cell_type": "code",
   "execution_count": 986,
   "metadata": {
    "ExecuteTime": {
     "end_time": "2020-01-27T19:29:21.771210Z",
     "start_time": "2020-01-27T19:29:21.734887Z"
    }
   },
   "outputs": [
    {
     "data": {
      "text/html": [
       "<div>\n",
       "<style scoped>\n",
       "    .dataframe tbody tr th:only-of-type {\n",
       "        vertical-align: middle;\n",
       "    }\n",
       "\n",
       "    .dataframe tbody tr th {\n",
       "        vertical-align: top;\n",
       "    }\n",
       "\n",
       "    .dataframe thead th {\n",
       "        text-align: right;\n",
       "    }\n",
       "</style>\n",
       "<table border=\"1\" class=\"dataframe\">\n",
       "  <thead>\n",
       "    <tr style=\"text-align: right;\">\n",
       "      <th></th>\n",
       "      <th>pitch_type</th>\n",
       "      <th>game_date</th>\n",
       "      <th>release_speed</th>\n",
       "      <th>release_pos_x</th>\n",
       "      <th>release_pos_z</th>\n",
       "      <th>player_name</th>\n",
       "      <th>batter</th>\n",
       "      <th>pitcher</th>\n",
       "      <th>events</th>\n",
       "      <th>description</th>\n",
       "      <th>...</th>\n",
       "      <th>if_fielding_alignment</th>\n",
       "      <th>of_fielding_alignment</th>\n",
       "      <th>name_last</th>\n",
       "      <th>name_first</th>\n",
       "      <th>key_mlbam</th>\n",
       "      <th>key_retro</th>\n",
       "      <th>key_bbref</th>\n",
       "      <th>key_fangraphs</th>\n",
       "      <th>mlb_played_first</th>\n",
       "      <th>mlb_played_last</th>\n",
       "    </tr>\n",
       "  </thead>\n",
       "  <tbody>\n",
       "    <tr>\n",
       "      <th>0</th>\n",
       "      <td>SI</td>\n",
       "      <td>2019-09-09</td>\n",
       "      <td>84.7</td>\n",
       "      <td>-2.3591</td>\n",
       "      <td>5.8620</td>\n",
       "      <td>Kyle Hendricks</td>\n",
       "      <td>592518.0</td>\n",
       "      <td>543294.0</td>\n",
       "      <td>single</td>\n",
       "      <td>hit_into_play_no_out</td>\n",
       "      <td>...</td>\n",
       "      <td>Standard</td>\n",
       "      <td>Standard</td>\n",
       "      <td>machado</td>\n",
       "      <td>manny</td>\n",
       "      <td>592518</td>\n",
       "      <td>machm001</td>\n",
       "      <td>machama01</td>\n",
       "      <td>11493</td>\n",
       "      <td>2012.0</td>\n",
       "      <td>2019.0</td>\n",
       "    </tr>\n",
       "    <tr>\n",
       "      <th>1</th>\n",
       "      <td>SI</td>\n",
       "      <td>2019-09-09</td>\n",
       "      <td>85.4</td>\n",
       "      <td>-2.4186</td>\n",
       "      <td>5.8800</td>\n",
       "      <td>Kyle Hendricks</td>\n",
       "      <td>592518.0</td>\n",
       "      <td>543294.0</td>\n",
       "      <td>single</td>\n",
       "      <td>hit_into_play_no_out</td>\n",
       "      <td>...</td>\n",
       "      <td>Standard</td>\n",
       "      <td>Standard</td>\n",
       "      <td>machado</td>\n",
       "      <td>manny</td>\n",
       "      <td>592518</td>\n",
       "      <td>machm001</td>\n",
       "      <td>machama01</td>\n",
       "      <td>11493</td>\n",
       "      <td>2012.0</td>\n",
       "      <td>2019.0</td>\n",
       "    </tr>\n",
       "    <tr>\n",
       "      <th>2</th>\n",
       "      <td>CU</td>\n",
       "      <td>2019-09-09</td>\n",
       "      <td>71.5</td>\n",
       "      <td>-2.2610</td>\n",
       "      <td>5.9986</td>\n",
       "      <td>Kyle Hendricks</td>\n",
       "      <td>592518.0</td>\n",
       "      <td>543294.0</td>\n",
       "      <td>field_out</td>\n",
       "      <td>hit_into_play</td>\n",
       "      <td>...</td>\n",
       "      <td>Standard</td>\n",
       "      <td>Standard</td>\n",
       "      <td>machado</td>\n",
       "      <td>manny</td>\n",
       "      <td>592518</td>\n",
       "      <td>machm001</td>\n",
       "      <td>machama01</td>\n",
       "      <td>11493</td>\n",
       "      <td>2012.0</td>\n",
       "      <td>2019.0</td>\n",
       "    </tr>\n",
       "    <tr>\n",
       "      <th>3</th>\n",
       "      <td>SI</td>\n",
       "      <td>2019-09-08</td>\n",
       "      <td>92.4</td>\n",
       "      <td>-1.2178</td>\n",
       "      <td>6.0300</td>\n",
       "      <td>Jesus Tinoco</td>\n",
       "      <td>592518.0</td>\n",
       "      <td>622786.0</td>\n",
       "      <td>walk</td>\n",
       "      <td>ball</td>\n",
       "      <td>...</td>\n",
       "      <td>Standard</td>\n",
       "      <td>Standard</td>\n",
       "      <td>machado</td>\n",
       "      <td>manny</td>\n",
       "      <td>592518</td>\n",
       "      <td>machm001</td>\n",
       "      <td>machama01</td>\n",
       "      <td>11493</td>\n",
       "      <td>2012.0</td>\n",
       "      <td>2019.0</td>\n",
       "    </tr>\n",
       "    <tr>\n",
       "      <th>4</th>\n",
       "      <td>FC</td>\n",
       "      <td>2019-09-08</td>\n",
       "      <td>93.2</td>\n",
       "      <td>-2.9951</td>\n",
       "      <td>6.0254</td>\n",
       "      <td>Bryan Shaw</td>\n",
       "      <td>592518.0</td>\n",
       "      <td>543766.0</td>\n",
       "      <td>walk</td>\n",
       "      <td>ball</td>\n",
       "      <td>...</td>\n",
       "      <td>Standard</td>\n",
       "      <td>Standard</td>\n",
       "      <td>machado</td>\n",
       "      <td>manny</td>\n",
       "      <td>592518</td>\n",
       "      <td>machm001</td>\n",
       "      <td>machama01</td>\n",
       "      <td>11493</td>\n",
       "      <td>2012.0</td>\n",
       "      <td>2019.0</td>\n",
       "    </tr>\n",
       "  </tbody>\n",
       "</table>\n",
       "<p>5 rows × 97 columns</p>\n",
       "</div>"
      ],
      "text/plain": [
       "  pitch_type  game_date  release_speed  release_pos_x  release_pos_z  \\\n",
       "0         SI 2019-09-09           84.7        -2.3591         5.8620   \n",
       "1         SI 2019-09-09           85.4        -2.4186         5.8800   \n",
       "2         CU 2019-09-09           71.5        -2.2610         5.9986   \n",
       "3         SI 2019-09-08           92.4        -1.2178         6.0300   \n",
       "4         FC 2019-09-08           93.2        -2.9951         6.0254   \n",
       "\n",
       "      player_name    batter   pitcher     events           description  ...  \\\n",
       "0  Kyle Hendricks  592518.0  543294.0     single  hit_into_play_no_out  ...   \n",
       "1  Kyle Hendricks  592518.0  543294.0     single  hit_into_play_no_out  ...   \n",
       "2  Kyle Hendricks  592518.0  543294.0  field_out         hit_into_play  ...   \n",
       "3    Jesus Tinoco  592518.0  622786.0       walk                  ball  ...   \n",
       "4      Bryan Shaw  592518.0  543766.0       walk                  ball  ...   \n",
       "\n",
       "  if_fielding_alignment of_fielding_alignment name_last name_first  key_mlbam  \\\n",
       "0              Standard              Standard   machado      manny     592518   \n",
       "1              Standard              Standard   machado      manny     592518   \n",
       "2              Standard              Standard   machado      manny     592518   \n",
       "3              Standard              Standard   machado      manny     592518   \n",
       "4              Standard              Standard   machado      manny     592518   \n",
       "\n",
       "  key_retro  key_bbref key_fangraphs mlb_played_first mlb_played_last  \n",
       "0  machm001  machama01         11493           2012.0          2019.0  \n",
       "1  machm001  machama01         11493           2012.0          2019.0  \n",
       "2  machm001  machama01         11493           2012.0          2019.0  \n",
       "3  machm001  machama01         11493           2012.0          2019.0  \n",
       "4  machm001  machama01         11493           2012.0          2019.0  \n",
       "\n",
       "[5 rows x 97 columns]"
      ]
     },
     "execution_count": 986,
     "metadata": {},
     "output_type": "execute_result"
    },
    {
     "data": {
      "application/javascript": [
       "\n",
       "            setTimeout(function() {\n",
       "                var nbb_cell_id = 986;\n",
       "                var nbb_unformatted_code = \"df_sc_events1.head()\";\n",
       "                var nbb_formatted_code = \"df_sc_events1.head()\";\n",
       "                var nbb_cells = Jupyter.notebook.get_cells();\n",
       "                for (var i = 0; i < nbb_cells.length; ++i) {\n",
       "                    if (nbb_cells[i].input_prompt_number == nbb_cell_id) {\n",
       "                        if (nbb_cells[i].get_text() == nbb_unformatted_code) {\n",
       "                             nbb_cells[i].set_text(nbb_formatted_code);\n",
       "                        }\n",
       "                        break;\n",
       "                    }\n",
       "                }\n",
       "            }, 500);\n",
       "            "
      ],
      "text/plain": [
       "<IPython.core.display.Javascript object>"
      ]
     },
     "metadata": {},
     "output_type": "display_data"
    }
   ],
   "source": [
    "df_sc_events1.head()"
   ]
  },
  {
   "cell_type": "code",
   "execution_count": 987,
   "metadata": {
    "ExecuteTime": {
     "end_time": "2020-01-27T19:29:29.439478Z",
     "start_time": "2020-01-27T19:29:26.301170Z"
    }
   },
   "outputs": [
    {
     "data": {
      "application/javascript": [
       "\n",
       "            setTimeout(function() {\n",
       "                var nbb_cell_id = 987;\n",
       "                var nbb_unformatted_code = \"df4model_p1 = get_df4model(df=df_sc_events1.copy(), n_back_PA=100, m_size=200)\";\n",
       "                var nbb_formatted_code = \"df4model_p1 = get_df4model(df=df_sc_events1.copy(), n_back_PA=100, m_size=200)\";\n",
       "                var nbb_cells = Jupyter.notebook.get_cells();\n",
       "                for (var i = 0; i < nbb_cells.length; ++i) {\n",
       "                    if (nbb_cells[i].input_prompt_number == nbb_cell_id) {\n",
       "                        if (nbb_cells[i].get_text() == nbb_unformatted_code) {\n",
       "                             nbb_cells[i].set_text(nbb_formatted_code);\n",
       "                        }\n",
       "                        break;\n",
       "                    }\n",
       "                }\n",
       "            }, 500);\n",
       "            "
      ],
      "text/plain": [
       "<IPython.core.display.Javascript object>"
      ]
     },
     "metadata": {},
     "output_type": "display_data"
    }
   ],
   "source": [
    "df4model_p1 = get_df4model(df=df_sc_events1.copy(), n_back_PA=100, m_size=200)"
   ]
  },
  {
   "cell_type": "code",
   "execution_count": 988,
   "metadata": {
    "ExecuteTime": {
     "end_time": "2020-01-27T19:29:30.382893Z",
     "start_time": "2020-01-27T19:29:30.366781Z"
    }
   },
   "outputs": [
    {
     "name": "stdout",
     "output_type": "stream",
     "text": [
      "   event_code p_throws  prop_events_nback  prop_events_sum_nback_pt\n",
      "0           1        R               0.33                      0.29\n",
      "1           1        R               0.32                      0.29\n",
      "2           0        R               0.32                      0.28\n",
      "3           1        R               0.32                      0.28\n",
      "4           1        R               0.31                      0.27\n",
      "(201, 4)\n"
     ]
    },
    {
     "data": {
      "application/javascript": [
       "\n",
       "            setTimeout(function() {\n",
       "                var nbb_cell_id = 988;\n",
       "                var nbb_unformatted_code = \"print(df4model_p1.head())\\nprint(df4model_p1.shape)\";\n",
       "                var nbb_formatted_code = \"print(df4model_p1.head())\\nprint(df4model_p1.shape)\";\n",
       "                var nbb_cells = Jupyter.notebook.get_cells();\n",
       "                for (var i = 0; i < nbb_cells.length; ++i) {\n",
       "                    if (nbb_cells[i].input_prompt_number == nbb_cell_id) {\n",
       "                        if (nbb_cells[i].get_text() == nbb_unformatted_code) {\n",
       "                             nbb_cells[i].set_text(nbb_formatted_code);\n",
       "                        }\n",
       "                        break;\n",
       "                    }\n",
       "                }\n",
       "            }, 500);\n",
       "            "
      ],
      "text/plain": [
       "<IPython.core.display.Javascript object>"
      ]
     },
     "metadata": {},
     "output_type": "display_data"
    }
   ],
   "source": [
    "print(df4model_p1.head())\n",
    "print(df4model_p1.shape)"
   ]
  },
  {
   "cell_type": "code",
   "execution_count": 989,
   "metadata": {
    "ExecuteTime": {
     "end_time": "2020-01-27T19:29:38.832885Z",
     "start_time": "2020-01-27T19:29:35.098110Z"
    }
   },
   "outputs": [
    {
     "data": {
      "application/javascript": [
       "\n",
       "            setTimeout(function() {\n",
       "                var nbb_cell_id = 989;\n",
       "                var nbb_unformatted_code = \"df4model_p2 = get_df4model(df=df_sc_events2.copy(), n_back_PA=100, m_size=200)\";\n",
       "                var nbb_formatted_code = \"df4model_p2 = get_df4model(df=df_sc_events2.copy(), n_back_PA=100, m_size=200)\";\n",
       "                var nbb_cells = Jupyter.notebook.get_cells();\n",
       "                for (var i = 0; i < nbb_cells.length; ++i) {\n",
       "                    if (nbb_cells[i].input_prompt_number == nbb_cell_id) {\n",
       "                        if (nbb_cells[i].get_text() == nbb_unformatted_code) {\n",
       "                             nbb_cells[i].set_text(nbb_formatted_code);\n",
       "                        }\n",
       "                        break;\n",
       "                    }\n",
       "                }\n",
       "            }, 500);\n",
       "            "
      ],
      "text/plain": [
       "<IPython.core.display.Javascript object>"
      ]
     },
     "metadata": {},
     "output_type": "display_data"
    }
   ],
   "source": [
    "df4model_p2 = get_df4model(df=df_sc_events2.copy(), n_back_PA=100, m_size=200)"
   ]
  },
  {
   "cell_type": "code",
   "execution_count": 990,
   "metadata": {
    "ExecuteTime": {
     "end_time": "2020-01-27T19:29:39.832321Z",
     "start_time": "2020-01-27T19:29:39.817302Z"
    }
   },
   "outputs": [
    {
     "name": "stdout",
     "output_type": "stream",
     "text": [
      "   event_code p_throws  prop_events_nback  prop_events_sum_nback_pt\n",
      "0           0        R               0.31                      0.29\n",
      "1           0        R               0.31                      0.29\n",
      "2           0        R               0.31                      0.29\n",
      "3           1        R               0.32                      0.30\n",
      "4           1        L               0.31                      0.26\n",
      "(201, 4)\n"
     ]
    },
    {
     "data": {
      "application/javascript": [
       "\n",
       "            setTimeout(function() {\n",
       "                var nbb_cell_id = 990;\n",
       "                var nbb_unformatted_code = \"print(df4model_p2.head())\\nprint(df4model_p2.shape)\";\n",
       "                var nbb_formatted_code = \"print(df4model_p2.head())\\nprint(df4model_p2.shape)\";\n",
       "                var nbb_cells = Jupyter.notebook.get_cells();\n",
       "                for (var i = 0; i < nbb_cells.length; ++i) {\n",
       "                    if (nbb_cells[i].input_prompt_number == nbb_cell_id) {\n",
       "                        if (nbb_cells[i].get_text() == nbb_unformatted_code) {\n",
       "                             nbb_cells[i].set_text(nbb_formatted_code);\n",
       "                        }\n",
       "                        break;\n",
       "                    }\n",
       "                }\n",
       "            }, 500);\n",
       "            "
      ],
      "text/plain": [
       "<IPython.core.display.Javascript object>"
      ]
     },
     "metadata": {},
     "output_type": "display_data"
    }
   ],
   "source": [
    "print(df4model_p2.head())\n",
    "print(df4model_p2.shape)"
   ]
  },
  {
   "cell_type": "code",
   "execution_count": 991,
   "metadata": {
    "ExecuteTime": {
     "end_time": "2020-01-27T19:29:43.685461Z",
     "start_time": "2020-01-27T19:29:43.676642Z"
    }
   },
   "outputs": [
    {
     "name": "stdout",
     "output_type": "stream",
     "text": [
      "592518 596748\n"
     ]
    },
    {
     "data": {
      "application/javascript": [
       "\n",
       "            setTimeout(function() {\n",
       "                var nbb_cell_id = 991;\n",
       "                var nbb_unformatted_code = \"print(pid_of_interest1, pid_of_interest2)\";\n",
       "                var nbb_formatted_code = \"print(pid_of_interest1, pid_of_interest2)\";\n",
       "                var nbb_cells = Jupyter.notebook.get_cells();\n",
       "                for (var i = 0; i < nbb_cells.length; ++i) {\n",
       "                    if (nbb_cells[i].input_prompt_number == nbb_cell_id) {\n",
       "                        if (nbb_cells[i].get_text() == nbb_unformatted_code) {\n",
       "                             nbb_cells[i].set_text(nbb_formatted_code);\n",
       "                        }\n",
       "                        break;\n",
       "                    }\n",
       "                }\n",
       "            }, 500);\n",
       "            "
      ],
      "text/plain": [
       "<IPython.core.display.Javascript object>"
      ]
     },
     "metadata": {},
     "output_type": "display_data"
    }
   ],
   "source": [
    "print(pid_of_interest1, pid_of_interest2)"
   ]
  },
  {
   "cell_type": "markdown",
   "metadata": {},
   "source": [
    "## EDA"
   ]
  },
  {
   "cell_type": "code",
   "execution_count": 992,
   "metadata": {
    "ExecuteTime": {
     "end_time": "2020-01-27T19:29:47.434041Z",
     "start_time": "2020-01-27T19:29:46.990910Z"
    }
   },
   "outputs": [
    {
     "data": {
      "text/plain": [
       "<matplotlib.axes._subplots.AxesSubplot at 0x1a357b5f60>"
      ]
     },
     "execution_count": 992,
     "metadata": {},
     "output_type": "execute_result"
    },
    {
     "data": {
      "image/png": "[encoded data removed]",
      "text/plain": [
       "<Figure size 864x288 with 2 Axes>"
      ]
     },
     "metadata": {
      "needs_background": "light"
     },
     "output_type": "display_data"
    },
    {
     "data": {
      "application/javascript": [
       "\n",
       "            setTimeout(function() {\n",
       "                var nbb_cell_id = 992;\n",
       "                var nbb_unformatted_code = \"f, (ax1, ax2) = plt.subplots(1, 2, figsize=(12, 4))\\ndf4model_p1[\\\"prop_events_nback\\\"].hist(ax=ax1)\\ndf4model_p2[\\\"prop_events_nback\\\"].hist(ax=ax2)\";\n",
       "                var nbb_formatted_code = \"f, (ax1, ax2) = plt.subplots(1, 2, figsize=(12, 4))\\ndf4model_p1[\\\"prop_events_nback\\\"].hist(ax=ax1)\\ndf4model_p2[\\\"prop_events_nback\\\"].hist(ax=ax2)\";\n",
       "                var nbb_cells = Jupyter.notebook.get_cells();\n",
       "                for (var i = 0; i < nbb_cells.length; ++i) {\n",
       "                    if (nbb_cells[i].input_prompt_number == nbb_cell_id) {\n",
       "                        if (nbb_cells[i].get_text() == nbb_unformatted_code) {\n",
       "                             nbb_cells[i].set_text(nbb_formatted_code);\n",
       "                        }\n",
       "                        break;\n",
       "                    }\n",
       "                }\n",
       "            }, 500);\n",
       "            "
      ],
      "text/plain": [
       "<IPython.core.display.Javascript object>"
      ]
     },
     "metadata": {},
     "output_type": "display_data"
    }
   ],
   "source": [
    "f, (ax1, ax2) = plt.subplots(1, 2, figsize=(12, 4))\n",
    "df4model_p1[\"prop_events_nback\"].hist(ax=ax1)\n",
    "df4model_p2[\"prop_events_nback\"].hist(ax=ax2)"
   ]
  },
  {
   "cell_type": "code",
   "execution_count": 993,
   "metadata": {
    "ExecuteTime": {
     "end_time": "2020-01-27T19:29:49.818018Z",
     "start_time": "2020-01-27T19:29:49.803115Z"
    }
   },
   "outputs": [
    {
     "name": "stdout",
     "output_type": "stream",
     "text": [
      "0.305 0.25\n"
     ]
    },
    {
     "data": {
      "application/javascript": [
       "\n",
       "            setTimeout(function() {\n",
       "                var nbb_cell_id = 993;\n",
       "                var nbb_unformatted_code = \"print(\\n    round(df4model_p1[\\\"prop_events_nback\\\"].mean(), 3),\\n    round(df4model_p2[\\\"prop_events_nback\\\"].mean(), 3),\\n)\";\n",
       "                var nbb_formatted_code = \"print(\\n    round(df4model_p1[\\\"prop_events_nback\\\"].mean(), 3),\\n    round(df4model_p2[\\\"prop_events_nback\\\"].mean(), 3),\\n)\";\n",
       "                var nbb_cells = Jupyter.notebook.get_cells();\n",
       "                for (var i = 0; i < nbb_cells.length; ++i) {\n",
       "                    if (nbb_cells[i].input_prompt_number == nbb_cell_id) {\n",
       "                        if (nbb_cells[i].get_text() == nbb_unformatted_code) {\n",
       "                             nbb_cells[i].set_text(nbb_formatted_code);\n",
       "                        }\n",
       "                        break;\n",
       "                    }\n",
       "                }\n",
       "            }, 500);\n",
       "            "
      ],
      "text/plain": [
       "<IPython.core.display.Javascript object>"
      ]
     },
     "metadata": {},
     "output_type": "display_data"
    }
   ],
   "source": [
    "print(\n",
    "    round(df4model_p1[\"prop_events_nback\"].mean(), 3),\n",
    "    round(df4model_p2[\"prop_events_nback\"].mean(), 3),\n",
    ")"
   ]
  },
  {
   "cell_type": "code",
   "execution_count": 994,
   "metadata": {
    "ExecuteTime": {
     "end_time": "2020-01-27T19:29:51.289485Z",
     "start_time": "2020-01-27T19:29:50.893482Z"
    }
   },
   "outputs": [
    {
     "data": {
      "text/plain": [
       "Text(0.5, 1.0, 'Player 2 (overall)')"
      ]
     },
     "execution_count": 994,
     "metadata": {},
     "output_type": "execute_result"
    },
    {
     "data": {
      "image/png": "[encoded data removed]",
      "text/plain": [
       "<Figure size 864x288 with 2 Axes>"
      ]
     },
     "metadata": {
      "needs_background": "light"
     },
     "output_type": "display_data"
    },
    {
     "data": {
      "application/javascript": [
       "\n",
       "            setTimeout(function() {\n",
       "                var nbb_cell_id = 994;\n",
       "                var nbb_unformatted_code = \"f, (ax1, ax2) = plt.subplots(1, 2, figsize=(12, 4))\\nax1.scatter(\\n    df4model_p1[\\\"prop_events_nback\\\"],\\n    df4model_p1[\\\"event_code\\\"] + np.random.normal(0, 0.025, len(df4model_p1)),\\n    facecolors=\\\"none\\\",\\n    edgecolors=\\\"black\\\",\\n)\\nax1.set_title(\\\"Player 1 (overall)\\\")\\n\\nax2.scatter(\\n    df4model_p2[\\\"prop_events_nback\\\"],\\n    df4model_p2[\\\"event_code\\\"] + np.random.normal(0, 0.025, len(df4model_p2)),\\n    facecolors=\\\"none\\\",\\n    edgecolors=\\\"black\\\",\\n)\\nax2.set_title(\\\"Player 2 (overall)\\\")\";\n",
       "                var nbb_formatted_code = \"f, (ax1, ax2) = plt.subplots(1, 2, figsize=(12, 4))\\nax1.scatter(\\n    df4model_p1[\\\"prop_events_nback\\\"],\\n    df4model_p1[\\\"event_code\\\"] + np.random.normal(0, 0.025, len(df4model_p1)),\\n    facecolors=\\\"none\\\",\\n    edgecolors=\\\"black\\\",\\n)\\nax1.set_title(\\\"Player 1 (overall)\\\")\\n\\nax2.scatter(\\n    df4model_p2[\\\"prop_events_nback\\\"],\\n    df4model_p2[\\\"event_code\\\"] + np.random.normal(0, 0.025, len(df4model_p2)),\\n    facecolors=\\\"none\\\",\\n    edgecolors=\\\"black\\\",\\n)\\nax2.set_title(\\\"Player 2 (overall)\\\")\";\n",
       "                var nbb_cells = Jupyter.notebook.get_cells();\n",
       "                for (var i = 0; i < nbb_cells.length; ++i) {\n",
       "                    if (nbb_cells[i].input_prompt_number == nbb_cell_id) {\n",
       "                        if (nbb_cells[i].get_text() == nbb_unformatted_code) {\n",
       "                             nbb_cells[i].set_text(nbb_formatted_code);\n",
       "                        }\n",
       "                        break;\n",
       "                    }\n",
       "                }\n",
       "            }, 500);\n",
       "            "
      ],
      "text/plain": [
       "<IPython.core.display.Javascript object>"
      ]
     },
     "metadata": {},
     "output_type": "display_data"
    }
   ],
   "source": [
    "f, (ax1, ax2) = plt.subplots(1, 2, figsize=(12, 4))\n",
    "ax1.scatter(\n",
    "    df4model_p1[\"prop_events_nback\"],\n",
    "    df4model_p1[\"event_code\"] + np.random.normal(0, 0.025, len(df4model_p1)),\n",
    "    facecolors=\"none\",\n",
    "    edgecolors=\"black\",\n",
    ")\n",
    "ax1.set_title(\"Player 1 (overall)\")\n",
    "\n",
    "ax2.scatter(\n",
    "    df4model_p2[\"prop_events_nback\"],\n",
    "    df4model_p2[\"event_code\"] + np.random.normal(0, 0.025, len(df4model_p2)),\n",
    "    facecolors=\"none\",\n",
    "    edgecolors=\"black\",\n",
    ")\n",
    "ax2.set_title(\"Player 2 (overall)\")"
   ]
  },
  {
   "cell_type": "code",
   "execution_count": 995,
   "metadata": {
    "ExecuteTime": {
     "end_time": "2020-01-27T19:29:54.425194Z",
     "start_time": "2020-01-27T19:29:53.961863Z"
    }
   },
   "outputs": [
    {
     "data": {
      "image/png": "[encoded data removed]",
      "text/plain": [
       "<Figure size 864x288 with 2 Axes>"
      ]
     },
     "metadata": {
      "needs_background": "light"
     },
     "output_type": "display_data"
    },
    {
     "data": {
      "application/javascript": [
       "\n",
       "            setTimeout(function() {\n",
       "                var nbb_cell_id = 995;\n",
       "                var nbb_unformatted_code = \"f, (ax1, ax2) = plt.subplots(1, 2, figsize=(12, 4))\\nc_hand_list = [\\\"blue\\\", \\\"red\\\"]\\n\\nfor i, hand in enumerate([\\\"L\\\", \\\"R\\\"]):\\n    df4model_p1_hand = df4model_p1[df4model_p1[\\\"p_throws\\\"] == hand].copy()\\n    df4model_p2_hand = df4model_p2[df4model_p2[\\\"p_throws\\\"] == hand].copy()\\n\\n    ax1.scatter(\\n        df4model_p1_hand[\\\"prop_events_nback\\\"],\\n        df4model_p1_hand[\\\"event_code\\\"]\\n        + +np.random.normal(0, 0.05, len(df4model_p1_hand)),\\n        facecolors=\\\"none\\\",\\n        edgecolors=c_hand_list[i],\\n    )\\n    ax1.set_title(\\\"Player 1 (by pitcher hand)\\\")\\n\\n    ax2.scatter(\\n        df4model_p2_hand[\\\"prop_events_nback\\\"],\\n        df4model_p2_hand[\\\"event_code\\\"]\\n        + np.random.normal(0, 0.05, len(df4model_p2_hand)),\\n        facecolors=\\\"none\\\",\\n        edgecolors=c_hand_list[i],\\n    )\\n    ax2.set_title(\\\"Player 2 (by pitcher hand)\\\")\";\n",
       "                var nbb_formatted_code = \"f, (ax1, ax2) = plt.subplots(1, 2, figsize=(12, 4))\\nc_hand_list = [\\\"blue\\\", \\\"red\\\"]\\n\\nfor i, hand in enumerate([\\\"L\\\", \\\"R\\\"]):\\n    df4model_p1_hand = df4model_p1[df4model_p1[\\\"p_throws\\\"] == hand].copy()\\n    df4model_p2_hand = df4model_p2[df4model_p2[\\\"p_throws\\\"] == hand].copy()\\n\\n    ax1.scatter(\\n        df4model_p1_hand[\\\"prop_events_nback\\\"],\\n        df4model_p1_hand[\\\"event_code\\\"]\\n        + +np.random.normal(0, 0.05, len(df4model_p1_hand)),\\n        facecolors=\\\"none\\\",\\n        edgecolors=c_hand_list[i],\\n    )\\n    ax1.set_title(\\\"Player 1 (by pitcher hand)\\\")\\n\\n    ax2.scatter(\\n        df4model_p2_hand[\\\"prop_events_nback\\\"],\\n        df4model_p2_hand[\\\"event_code\\\"]\\n        + np.random.normal(0, 0.05, len(df4model_p2_hand)),\\n        facecolors=\\\"none\\\",\\n        edgecolors=c_hand_list[i],\\n    )\\n    ax2.set_title(\\\"Player 2 (by pitcher hand)\\\")\";\n",
       "                var nbb_cells = Jupyter.notebook.get_cells();\n",
       "                for (var i = 0; i < nbb_cells.length; ++i) {\n",
       "                    if (nbb_cells[i].input_prompt_number == nbb_cell_id) {\n",
       "                        if (nbb_cells[i].get_text() == nbb_unformatted_code) {\n",
       "                             nbb_cells[i].set_text(nbb_formatted_code);\n",
       "                        }\n",
       "                        break;\n",
       "                    }\n",
       "                }\n",
       "            }, 500);\n",
       "            "
      ],
      "text/plain": [
       "<IPython.core.display.Javascript object>"
      ]
     },
     "metadata": {},
     "output_type": "display_data"
    }
   ],
   "source": [
    "f, (ax1, ax2) = plt.subplots(1, 2, figsize=(12, 4))\n",
    "c_hand_list = [\"blue\", \"red\"]\n",
    "\n",
    "for i, hand in enumerate([\"L\", \"R\"]):\n",
    "    df4model_p1_hand = df4model_p1[df4model_p1[\"p_throws\"] == hand].copy()\n",
    "    df4model_p2_hand = df4model_p2[df4model_p2[\"p_throws\"] == hand].copy()\n",
    "\n",
    "    ax1.scatter(\n",
    "        df4model_p1_hand[\"prop_events_nback\"],\n",
    "        df4model_p1_hand[\"event_code\"]\n",
    "        + +np.random.normal(0, 0.05, len(df4model_p1_hand)),\n",
    "        facecolors=\"none\",\n",
    "        edgecolors=c_hand_list[i],\n",
    "    )\n",
    "    ax1.set_title(\"Player 1 (by pitcher hand)\")\n",
    "\n",
    "    ax2.scatter(\n",
    "        df4model_p2_hand[\"prop_events_nback\"],\n",
    "        df4model_p2_hand[\"event_code\"]\n",
    "        + np.random.normal(0, 0.05, len(df4model_p2_hand)),\n",
    "        facecolors=\"none\",\n",
    "        edgecolors=c_hand_list[i],\n",
    "    )\n",
    "    ax2.set_title(\"Player 2 (by pitcher hand)\")"
   ]
  },
  {
   "cell_type": "code",
   "execution_count": 996,
   "metadata": {
    "ExecuteTime": {
     "end_time": "2020-01-27T19:29:59.396086Z",
     "start_time": "2020-01-27T19:29:58.977430Z"
    }
   },
   "outputs": [
    {
     "data": {
      "text/plain": [
       "Text(0.5, 1.0, 'Player 2')"
      ]
     },
     "execution_count": 996,
     "metadata": {},
     "output_type": "execute_result"
    },
    {
     "data": {
      "image/png": "[encoded data removed]",
      "text/plain": [
       "<Figure size 864x288 with 2 Axes>"
      ]
     },
     "metadata": {
      "needs_background": "light"
     },
     "output_type": "display_data"
    },
    {
     "data": {
      "application/javascript": [
       "\n",
       "            setTimeout(function() {\n",
       "                var nbb_cell_id = 996;\n",
       "                var nbb_unformatted_code = \"f, (ax1, ax2) = plt.subplots(1, 2, figsize=(12, 4))\\n\\nsns.boxplot(\\n    x=\\\"event_code\\\",\\n    y=\\\"prop_events_nback\\\",\\n    data=df4model_p1,\\n    palette=[\\\"w\\\", \\\"teal\\\"],\\n    order=[0, 1],\\n    ax=ax1,\\n)\\nax1.set_title(\\\"Player 1\\\")\\n\\nsns.boxplot(\\n    x=\\\"event_code\\\",\\n    y=\\\"prop_events_nback\\\",\\n    data=df4model_p2,\\n    palette=[\\\"w\\\", \\\"teal\\\"],\\n    order=[0, 1],\\n    ax=ax2,\\n)\\nax2.set_title(\\\"Player 2\\\")\";\n",
       "                var nbb_formatted_code = \"f, (ax1, ax2) = plt.subplots(1, 2, figsize=(12, 4))\\n\\nsns.boxplot(\\n    x=\\\"event_code\\\",\\n    y=\\\"prop_events_nback\\\",\\n    data=df4model_p1,\\n    palette=[\\\"w\\\", \\\"teal\\\"],\\n    order=[0, 1],\\n    ax=ax1,\\n)\\nax1.set_title(\\\"Player 1\\\")\\n\\nsns.boxplot(\\n    x=\\\"event_code\\\",\\n    y=\\\"prop_events_nback\\\",\\n    data=df4model_p2,\\n    palette=[\\\"w\\\", \\\"teal\\\"],\\n    order=[0, 1],\\n    ax=ax2,\\n)\\nax2.set_title(\\\"Player 2\\\")\";\n",
       "                var nbb_cells = Jupyter.notebook.get_cells();\n",
       "                for (var i = 0; i < nbb_cells.length; ++i) {\n",
       "                    if (nbb_cells[i].input_prompt_number == nbb_cell_id) {\n",
       "                        if (nbb_cells[i].get_text() == nbb_unformatted_code) {\n",
       "                             nbb_cells[i].set_text(nbb_formatted_code);\n",
       "                        }\n",
       "                        break;\n",
       "                    }\n",
       "                }\n",
       "            }, 500);\n",
       "            "
      ],
      "text/plain": [
       "<IPython.core.display.Javascript object>"
      ]
     },
     "metadata": {},
     "output_type": "display_data"
    }
   ],
   "source": [
    "f, (ax1, ax2) = plt.subplots(1, 2, figsize=(12, 4))\n",
    "\n",
    "sns.boxplot(\n",
    "    x=\"event_code\",\n",
    "    y=\"prop_events_nback\",\n",
    "    data=df4model_p1,\n",
    "    palette=[\"w\", \"teal\"],\n",
    "    order=[0, 1],\n",
    "    ax=ax1,\n",
    ")\n",
    "ax1.set_title(\"Player 1\")\n",
    "\n",
    "sns.boxplot(\n",
    "    x=\"event_code\",\n",
    "    y=\"prop_events_nback\",\n",
    "    data=df4model_p2,\n",
    "    palette=[\"w\", \"teal\"],\n",
    "    order=[0, 1],\n",
    "    ax=ax2,\n",
    ")\n",
    "ax2.set_title(\"Player 2\")"
   ]
  },
  {
   "cell_type": "code",
   "execution_count": 997,
   "metadata": {
    "ExecuteTime": {
     "end_time": "2020-01-27T19:30:02.093360Z",
     "start_time": "2020-01-27T19:30:02.064714Z"
    }
   },
   "outputs": [
    {
     "name": "stdout",
     "output_type": "stream",
     "text": [
      "Player 1 MW:  0.4405279587243318 Player 1 t-test:  0.9847319393233707\n"
     ]
    },
    {
     "data": {
      "application/javascript": [
       "\n",
       "            setTimeout(function() {\n",
       "                var nbb_cell_id = 997;\n",
       "                var nbb_unformatted_code = \"groupA1_vals = df4model_p1.loc[df4model_p1[\\\"event_code\\\"] == 0, \\\"prop_events_nback\\\"]\\ngroupA2_vals = df4model_p1.loc[df4model_p1[\\\"event_code\\\"] == 1, \\\"prop_events_nback\\\"]\\n\\nmw_p_A = mannwhitneyu(groupA1_vals, groupA2_vals)[1]\\n# Welch's test (does not assume variances are equal)\\nttest_p_A = ttest_ind(groupA1_vals, groupA2_vals, equal_var=False)[1]\\n\\nprint(\\\"Player 1 MW: \\\", mw_p_A, \\\"Player 1 t-test: \\\", ttest_p_A)\";\n",
       "                var nbb_formatted_code = \"groupA1_vals = df4model_p1.loc[df4model_p1[\\\"event_code\\\"] == 0, \\\"prop_events_nback\\\"]\\ngroupA2_vals = df4model_p1.loc[df4model_p1[\\\"event_code\\\"] == 1, \\\"prop_events_nback\\\"]\\n\\nmw_p_A = mannwhitneyu(groupA1_vals, groupA2_vals)[1]\\n# Welch's test (does not assume variances are equal)\\nttest_p_A = ttest_ind(groupA1_vals, groupA2_vals, equal_var=False)[1]\\n\\nprint(\\\"Player 1 MW: \\\", mw_p_A, \\\"Player 1 t-test: \\\", ttest_p_A)\";\n",
       "                var nbb_cells = Jupyter.notebook.get_cells();\n",
       "                for (var i = 0; i < nbb_cells.length; ++i) {\n",
       "                    if (nbb_cells[i].input_prompt_number == nbb_cell_id) {\n",
       "                        if (nbb_cells[i].get_text() == nbb_unformatted_code) {\n",
       "                             nbb_cells[i].set_text(nbb_formatted_code);\n",
       "                        }\n",
       "                        break;\n",
       "                    }\n",
       "                }\n",
       "            }, 500);\n",
       "            "
      ],
      "text/plain": [
       "<IPython.core.display.Javascript object>"
      ]
     },
     "metadata": {},
     "output_type": "display_data"
    }
   ],
   "source": [
    "groupA1_vals = df4model_p1.loc[df4model_p1[\"event_code\"] == 0, \"prop_events_nback\"]\n",
    "groupA2_vals = df4model_p1.loc[df4model_p1[\"event_code\"] == 1, \"prop_events_nback\"]\n",
    "\n",
    "mw_p_A = mannwhitneyu(groupA1_vals, groupA2_vals)[1]\n",
    "# Welch's test (does not assume variances are equal)\n",
    "ttest_p_A = ttest_ind(groupA1_vals, groupA2_vals, equal_var=False)[1]\n",
    "\n",
    "print(\"Player 1 MW: \", mw_p_A, \"Player 1 t-test: \", ttest_p_A)"
   ]
  },
  {
   "cell_type": "code",
   "execution_count": 998,
   "metadata": {
    "ExecuteTime": {
     "end_time": "2020-01-27T19:30:04.471597Z",
     "start_time": "2020-01-27T19:30:04.449107Z"
    }
   },
   "outputs": [
    {
     "name": "stdout",
     "output_type": "stream",
     "text": [
      "Player 2 MW:  0.40942158467676454 Player 2 t-test:  0.8198983945378358\n"
     ]
    },
    {
     "data": {
      "application/javascript": [
       "\n",
       "            setTimeout(function() {\n",
       "                var nbb_cell_id = 998;\n",
       "                var nbb_unformatted_code = \"groupA1_vals = df4model_p1.loc[df4model_p2[\\\"event_code\\\"] == 0, \\\"prop_events_nback\\\"]\\ngroupA2_vals = df4model_p1.loc[df4model_p2[\\\"event_code\\\"] == 1, \\\"prop_events_nback\\\"]\\n\\nmw_p_A = mannwhitneyu(groupA1_vals, groupA2_vals)[1]\\n# Welch's test (does not assume variances are equal)\\nttest_p_A = ttest_ind(groupA1_vals, groupA2_vals, equal_var=False)[1]\\n\\nprint(\\\"Player 2 MW: \\\", mw_p_A, \\\"Player 2 t-test: \\\", ttest_p_A)\";\n",
       "                var nbb_formatted_code = \"groupA1_vals = df4model_p1.loc[df4model_p2[\\\"event_code\\\"] == 0, \\\"prop_events_nback\\\"]\\ngroupA2_vals = df4model_p1.loc[df4model_p2[\\\"event_code\\\"] == 1, \\\"prop_events_nback\\\"]\\n\\nmw_p_A = mannwhitneyu(groupA1_vals, groupA2_vals)[1]\\n# Welch's test (does not assume variances are equal)\\nttest_p_A = ttest_ind(groupA1_vals, groupA2_vals, equal_var=False)[1]\\n\\nprint(\\\"Player 2 MW: \\\", mw_p_A, \\\"Player 2 t-test: \\\", ttest_p_A)\";\n",
       "                var nbb_cells = Jupyter.notebook.get_cells();\n",
       "                for (var i = 0; i < nbb_cells.length; ++i) {\n",
       "                    if (nbb_cells[i].input_prompt_number == nbb_cell_id) {\n",
       "                        if (nbb_cells[i].get_text() == nbb_unformatted_code) {\n",
       "                             nbb_cells[i].set_text(nbb_formatted_code);\n",
       "                        }\n",
       "                        break;\n",
       "                    }\n",
       "                }\n",
       "            }, 500);\n",
       "            "
      ],
      "text/plain": [
       "<IPython.core.display.Javascript object>"
      ]
     },
     "metadata": {},
     "output_type": "display_data"
    }
   ],
   "source": [
    "groupA1_vals = df4model_p1.loc[df4model_p2[\"event_code\"] == 0, \"prop_events_nback\"]\n",
    "groupA2_vals = df4model_p1.loc[df4model_p2[\"event_code\"] == 1, \"prop_events_nback\"]\n",
    "\n",
    "mw_p_A = mannwhitneyu(groupA1_vals, groupA2_vals)[1]\n",
    "# Welch's test (does not assume variances are equal)\n",
    "ttest_p_A = ttest_ind(groupA1_vals, groupA2_vals, equal_var=False)[1]\n",
    "\n",
    "print(\"Player 2 MW: \", mw_p_A, \"Player 2 t-test: \", ttest_p_A)"
   ]
  },
  {
   "cell_type": "markdown",
   "metadata": {},
   "source": [
    "## Logistic regression"
   ]
  },
  {
   "cell_type": "code",
   "execution_count": 999,
   "metadata": {
    "ExecuteTime": {
     "end_time": "2020-01-27T19:30:07.449901Z",
     "start_time": "2020-01-27T19:30:07.434777Z"
    }
   },
   "outputs": [
    {
     "data": {
      "application/javascript": [
       "\n",
       "            setTimeout(function() {\n",
       "                var nbb_cell_id = 999;\n",
       "                var nbb_unformatted_code = \"# FUNCTION TO REPLACE CATEGORICAL INPUT\\ndf4model_p1['p_throws'].replace({'L':0, 'R':1}, inplace=True)\\ndf4model_p2['p_throws'].replace({'L':0, 'R':1}, inplace=True)\";\n",
       "                var nbb_formatted_code = \"# FUNCTION TO REPLACE CATEGORICAL INPUT\\ndf4model_p1[\\\"p_throws\\\"].replace({\\\"L\\\": 0, \\\"R\\\": 1}, inplace=True)\\ndf4model_p2[\\\"p_throws\\\"].replace({\\\"L\\\": 0, \\\"R\\\": 1}, inplace=True)\";\n",
       "                var nbb_cells = Jupyter.notebook.get_cells();\n",
       "                for (var i = 0; i < nbb_cells.length; ++i) {\n",
       "                    if (nbb_cells[i].input_prompt_number == nbb_cell_id) {\n",
       "                        if (nbb_cells[i].get_text() == nbb_unformatted_code) {\n",
       "                             nbb_cells[i].set_text(nbb_formatted_code);\n",
       "                        }\n",
       "                        break;\n",
       "                    }\n",
       "                }\n",
       "            }, 500);\n",
       "            "
      ],
      "text/plain": [
       "<IPython.core.display.Javascript object>"
      ]
     },
     "metadata": {},
     "output_type": "display_data"
    }
   ],
   "source": [
    "# FUNCTION TO REPLACE CATEGORICAL INPUT\n",
    "df4model_p1['p_throws'].replace({'L':0, 'R':1}, inplace=True)\n",
    "df4model_p2['p_throws'].replace({'L':0, 'R':1}, inplace=True)\n"
   ]
  },
  {
   "cell_type": "code",
   "execution_count": 1000,
   "metadata": {
    "ExecuteTime": {
     "end_time": "2020-01-27T19:30:08.573751Z",
     "start_time": "2020-01-27T19:30:08.558704Z"
    }
   },
   "outputs": [
    {
     "data": {
      "text/html": [
       "<div>\n",
       "<style scoped>\n",
       "    .dataframe tbody tr th:only-of-type {\n",
       "        vertical-align: middle;\n",
       "    }\n",
       "\n",
       "    .dataframe tbody tr th {\n",
       "        vertical-align: top;\n",
       "    }\n",
       "\n",
       "    .dataframe thead th {\n",
       "        text-align: right;\n",
       "    }\n",
       "</style>\n",
       "<table border=\"1\" class=\"dataframe\">\n",
       "  <thead>\n",
       "    <tr style=\"text-align: right;\">\n",
       "      <th></th>\n",
       "      <th>event_code</th>\n",
       "      <th>p_throws</th>\n",
       "      <th>prop_events_nback</th>\n",
       "      <th>prop_events_sum_nback_pt</th>\n",
       "    </tr>\n",
       "  </thead>\n",
       "  <tbody>\n",
       "    <tr>\n",
       "      <th>0</th>\n",
       "      <td>1</td>\n",
       "      <td>1</td>\n",
       "      <td>0.33</td>\n",
       "      <td>0.29</td>\n",
       "    </tr>\n",
       "    <tr>\n",
       "      <th>1</th>\n",
       "      <td>1</td>\n",
       "      <td>1</td>\n",
       "      <td>0.32</td>\n",
       "      <td>0.29</td>\n",
       "    </tr>\n",
       "    <tr>\n",
       "      <th>2</th>\n",
       "      <td>0</td>\n",
       "      <td>1</td>\n",
       "      <td>0.32</td>\n",
       "      <td>0.28</td>\n",
       "    </tr>\n",
       "    <tr>\n",
       "      <th>3</th>\n",
       "      <td>1</td>\n",
       "      <td>1</td>\n",
       "      <td>0.32</td>\n",
       "      <td>0.28</td>\n",
       "    </tr>\n",
       "    <tr>\n",
       "      <th>4</th>\n",
       "      <td>1</td>\n",
       "      <td>1</td>\n",
       "      <td>0.31</td>\n",
       "      <td>0.27</td>\n",
       "    </tr>\n",
       "  </tbody>\n",
       "</table>\n",
       "</div>"
      ],
      "text/plain": [
       "   event_code  p_throws  prop_events_nback  prop_events_sum_nback_pt\n",
       "0           1         1               0.33                      0.29\n",
       "1           1         1               0.32                      0.29\n",
       "2           0         1               0.32                      0.28\n",
       "3           1         1               0.32                      0.28\n",
       "4           1         1               0.31                      0.27"
      ]
     },
     "execution_count": 1000,
     "metadata": {},
     "output_type": "execute_result"
    },
    {
     "data": {
      "application/javascript": [
       "\n",
       "            setTimeout(function() {\n",
       "                var nbb_cell_id = 1000;\n",
       "                var nbb_unformatted_code = \"df4model_p1.head()\";\n",
       "                var nbb_formatted_code = \"df4model_p1.head()\";\n",
       "                var nbb_cells = Jupyter.notebook.get_cells();\n",
       "                for (var i = 0; i < nbb_cells.length; ++i) {\n",
       "                    if (nbb_cells[i].input_prompt_number == nbb_cell_id) {\n",
       "                        if (nbb_cells[i].get_text() == nbb_unformatted_code) {\n",
       "                             nbb_cells[i].set_text(nbb_formatted_code);\n",
       "                        }\n",
       "                        break;\n",
       "                    }\n",
       "                }\n",
       "            }, 500);\n",
       "            "
      ],
      "text/plain": [
       "<IPython.core.display.Javascript object>"
      ]
     },
     "metadata": {},
     "output_type": "display_data"
    }
   ],
   "source": [
    "df4model_p1.head()"
   ]
  },
  {
   "cell_type": "code",
   "execution_count": 1001,
   "metadata": {
    "ExecuteTime": {
     "end_time": "2020-01-27T19:30:13.584478Z",
     "start_time": "2020-01-27T19:30:12.344664Z"
    }
   },
   "outputs": [
    {
     "data": {
      "image/png": "[encoded data removed]",
      "text/plain": [
       "<Figure size 864x432 with 6 Axes>"
      ]
     },
     "metadata": {
      "needs_background": "light"
     },
     "output_type": "display_data"
    },
    {
     "data": {
      "application/javascript": [
       "\n",
       "            setTimeout(function() {\n",
       "                var nbb_cell_id = 1001;\n",
       "                var nbb_unformatted_code = \"f, ((ax1, ax2, ax3), (ax4, ax5, ax6)) = plt.subplots(2, 3, figsize=(12, 6))\\n\\ndf4model_p1[\\\"prop_events_nback\\\"].hist(ax=ax1)\\nax1.set_title(\\\"overall events, player 1\\\")\\n\\ndf_temp = df4model_p1[df4model_p1[\\\"p_throws\\\"] == 0]\\ndf_temp[\\\"prop_events_nback\\\"].hist(ax=ax2)\\nax2.set_title(\\\"events against left-handers, player 1\\\")\\n\\ndf_temp = df4model_p1[df4model_p1[\\\"p_throws\\\"] == 1]\\ndf_temp[\\\"prop_events_nback\\\"].hist(ax=ax3)\\nax3.set_title(\\\"events against right-handers, player 1\\\")\\n\\ndf4model_p2[\\\"prop_events_nback\\\"].hist(ax=ax4)\\nax4.set_title(\\\"overall events, player 2\\\")\\n\\ndf_temp = df4model_p2[df4model_p2[\\\"p_throws\\\"] == 0]\\ndf_temp[\\\"prop_events_nback\\\"].hist(ax=ax5)\\nax5.set_title(\\\"events against left-handers, player 2\\\")\\n\\ndf_temp = df4model_p2[df4model_p2[\\\"p_throws\\\"] == 1]\\ndf_temp[\\\"prop_events_nback\\\"].hist(ax=ax6)\\nax6.set_title(\\\"events against right-handers, player 2\\\")\\n\\nplt.tight_layout()\";\n",
       "                var nbb_formatted_code = \"f, ((ax1, ax2, ax3), (ax4, ax5, ax6)) = plt.subplots(2, 3, figsize=(12, 6))\\n\\ndf4model_p1[\\\"prop_events_nback\\\"].hist(ax=ax1)\\nax1.set_title(\\\"overall events, player 1\\\")\\n\\ndf_temp = df4model_p1[df4model_p1[\\\"p_throws\\\"] == 0]\\ndf_temp[\\\"prop_events_nback\\\"].hist(ax=ax2)\\nax2.set_title(\\\"events against left-handers, player 1\\\")\\n\\ndf_temp = df4model_p1[df4model_p1[\\\"p_throws\\\"] == 1]\\ndf_temp[\\\"prop_events_nback\\\"].hist(ax=ax3)\\nax3.set_title(\\\"events against right-handers, player 1\\\")\\n\\ndf4model_p2[\\\"prop_events_nback\\\"].hist(ax=ax4)\\nax4.set_title(\\\"overall events, player 2\\\")\\n\\ndf_temp = df4model_p2[df4model_p2[\\\"p_throws\\\"] == 0]\\ndf_temp[\\\"prop_events_nback\\\"].hist(ax=ax5)\\nax5.set_title(\\\"events against left-handers, player 2\\\")\\n\\ndf_temp = df4model_p2[df4model_p2[\\\"p_throws\\\"] == 1]\\ndf_temp[\\\"prop_events_nback\\\"].hist(ax=ax6)\\nax6.set_title(\\\"events against right-handers, player 2\\\")\\n\\nplt.tight_layout()\";\n",
       "                var nbb_cells = Jupyter.notebook.get_cells();\n",
       "                for (var i = 0; i < nbb_cells.length; ++i) {\n",
       "                    if (nbb_cells[i].input_prompt_number == nbb_cell_id) {\n",
       "                        if (nbb_cells[i].get_text() == nbb_unformatted_code) {\n",
       "                             nbb_cells[i].set_text(nbb_formatted_code);\n",
       "                        }\n",
       "                        break;\n",
       "                    }\n",
       "                }\n",
       "            }, 500);\n",
       "            "
      ],
      "text/plain": [
       "<IPython.core.display.Javascript object>"
      ]
     },
     "metadata": {},
     "output_type": "display_data"
    }
   ],
   "source": [
    "f, ((ax1, ax2, ax3), (ax4, ax5, ax6)) = plt.subplots(2, 3, figsize=(12, 6))\n",
    "\n",
    "df4model_p1[\"prop_events_nback\"].hist(ax=ax1)\n",
    "ax1.set_title(\"overall events, player 1\")\n",
    "\n",
    "df_temp = df4model_p1[df4model_p1[\"p_throws\"] == 0]\n",
    "df_temp[\"prop_events_nback\"].hist(ax=ax2)\n",
    "ax2.set_title(\"events against left-handers, player 1\")\n",
    "\n",
    "df_temp = df4model_p1[df4model_p1[\"p_throws\"] == 1]\n",
    "df_temp[\"prop_events_nback\"].hist(ax=ax3)\n",
    "ax3.set_title(\"events against right-handers, player 1\")\n",
    "\n",
    "df4model_p2[\"prop_events_nback\"].hist(ax=ax4)\n",
    "ax4.set_title(\"overall events, player 2\")\n",
    "\n",
    "df_temp = df4model_p2[df4model_p2[\"p_throws\"] == 0]\n",
    "df_temp[\"prop_events_nback\"].hist(ax=ax5)\n",
    "ax5.set_title(\"events against left-handers, player 2\")\n",
    "\n",
    "df_temp = df4model_p2[df4model_p2[\"p_throws\"] == 1]\n",
    "df_temp[\"prop_events_nback\"].hist(ax=ax6)\n",
    "ax6.set_title(\"events against right-handers, player 2\")\n",
    "\n",
    "plt.tight_layout()"
   ]
  },
  {
   "cell_type": "code",
   "execution_count": 1002,
   "metadata": {
    "ExecuteTime": {
     "end_time": "2020-01-27T19:30:17.393164Z",
     "start_time": "2020-01-27T19:30:17.373651Z"
    },
    "code_folding": [
     0
    ]
   },
   "outputs": [
    {
     "data": {
      "application/javascript": [
       "\n",
       "            setTimeout(function() {\n",
       "                var nbb_cell_id = 1002;\n",
       "                var nbb_unformatted_code = \"def get_split_data(df4model, testsize):\\n    y = df4model[\\\"event_code\\\"]\\n    X = df4model.iloc[:, 1::]\\n    X_train, X_test, y_train, y_test = train_test_split(\\n        X, y, test_size=testsize, random_state=19\\n    )\\n\\n    # Scale features based on training data\\n    std_scale = StandardScaler()\\n    X_train_scale = std_scale.fit_transform(X_train)\\n\\n    # Apply scale to test\\n    X_test_scale = std_scale.transform(X_test)\\n\\n    return X_train_scale, X_test_scale, y_train, y_test\";\n",
       "                var nbb_formatted_code = \"def get_split_data(df4model, testsize):\\n    y = df4model[\\\"event_code\\\"]\\n    X = df4model.iloc[:, 1::]\\n    X_train, X_test, y_train, y_test = train_test_split(\\n        X, y, test_size=testsize, random_state=19\\n    )\\n\\n    # Scale features based on training data\\n    std_scale = StandardScaler()\\n    X_train_scale = std_scale.fit_transform(X_train)\\n\\n    # Apply scale to test\\n    X_test_scale = std_scale.transform(X_test)\\n\\n    return X_train_scale, X_test_scale, y_train, y_test\";\n",
       "                var nbb_cells = Jupyter.notebook.get_cells();\n",
       "                for (var i = 0; i < nbb_cells.length; ++i) {\n",
       "                    if (nbb_cells[i].input_prompt_number == nbb_cell_id) {\n",
       "                        if (nbb_cells[i].get_text() == nbb_unformatted_code) {\n",
       "                             nbb_cells[i].set_text(nbb_formatted_code);\n",
       "                        }\n",
       "                        break;\n",
       "                    }\n",
       "                }\n",
       "            }, 500);\n",
       "            "
      ],
      "text/plain": [
       "<IPython.core.display.Javascript object>"
      ]
     },
     "metadata": {},
     "output_type": "display_data"
    }
   ],
   "source": [
    "def get_split_data(df4model, testsize):\n",
    "    y = df4model[\"event_code\"]\n",
    "    X = df4model.iloc[:, 1::]\n",
    "    X_train, X_test, y_train, y_test = train_test_split(\n",
    "        X, y, test_size=testsize, random_state=19\n",
    "    )\n",
    "\n",
    "    # Scale features based on training data\n",
    "    std_scale = StandardScaler()\n",
    "    X_train_scale = std_scale.fit_transform(X_train)\n",
    "\n",
    "    # Apply scale to test\n",
    "    X_test_scale = std_scale.transform(X_test)\n",
    "\n",
    "    return X_train_scale, X_test_scale, y_train, y_test"
   ]
  },
  {
   "cell_type": "code",
   "execution_count": 1003,
   "metadata": {
    "ExecuteTime": {
     "end_time": "2020-01-27T19:30:19.760714Z",
     "start_time": "2020-01-27T19:30:19.748317Z"
    }
   },
   "outputs": [
    {
     "data": {
      "text/plain": [
       "(201, 4)"
      ]
     },
     "execution_count": 1003,
     "metadata": {},
     "output_type": "execute_result"
    },
    {
     "data": {
      "application/javascript": [
       "\n",
       "            setTimeout(function() {\n",
       "                var nbb_cell_id = 1003;\n",
       "                var nbb_unformatted_code = \"df4model_p2.shape\";\n",
       "                var nbb_formatted_code = \"df4model_p2.shape\";\n",
       "                var nbb_cells = Jupyter.notebook.get_cells();\n",
       "                for (var i = 0; i < nbb_cells.length; ++i) {\n",
       "                    if (nbb_cells[i].input_prompt_number == nbb_cell_id) {\n",
       "                        if (nbb_cells[i].get_text() == nbb_unformatted_code) {\n",
       "                             nbb_cells[i].set_text(nbb_formatted_code);\n",
       "                        }\n",
       "                        break;\n",
       "                    }\n",
       "                }\n",
       "            }, 500);\n",
       "            "
      ],
      "text/plain": [
       "<IPython.core.display.Javascript object>"
      ]
     },
     "metadata": {},
     "output_type": "display_data"
    }
   ],
   "source": [
    "df4model_p2.shape"
   ]
  },
  {
   "cell_type": "code",
   "execution_count": 1004,
   "metadata": {
    "ExecuteTime": {
     "end_time": "2020-01-27T19:30:21.486153Z",
     "start_time": "2020-01-27T19:30:21.448726Z"
    }
   },
   "outputs": [
    {
     "data": {
      "application/javascript": [
       "\n",
       "            setTimeout(function() {\n",
       "                var nbb_cell_id = 1004;\n",
       "                var nbb_unformatted_code = \"X_train_scale_p1, X_test_scale_p1, y_train_p1, y_test_p1 = get_split_data(\\n    df4model_p1, 0.3\\n)\\nX_train_scale_p2, X_test_scale_p2, y_train_p2, y_test_p2 = get_split_data(\\n    df4model_p2, 0.3\\n)\";\n",
       "                var nbb_formatted_code = \"X_train_scale_p1, X_test_scale_p1, y_train_p1, y_test_p1 = get_split_data(\\n    df4model_p1, 0.3\\n)\\nX_train_scale_p2, X_test_scale_p2, y_train_p2, y_test_p2 = get_split_data(\\n    df4model_p2, 0.3\\n)\";\n",
       "                var nbb_cells = Jupyter.notebook.get_cells();\n",
       "                for (var i = 0; i < nbb_cells.length; ++i) {\n",
       "                    if (nbb_cells[i].input_prompt_number == nbb_cell_id) {\n",
       "                        if (nbb_cells[i].get_text() == nbb_unformatted_code) {\n",
       "                             nbb_cells[i].set_text(nbb_formatted_code);\n",
       "                        }\n",
       "                        break;\n",
       "                    }\n",
       "                }\n",
       "            }, 500);\n",
       "            "
      ],
      "text/plain": [
       "<IPython.core.display.Javascript object>"
      ]
     },
     "metadata": {},
     "output_type": "display_data"
    }
   ],
   "source": [
    "X_train_scale_p1, X_test_scale_p1, y_train_p1, y_test_p1 = get_split_data(\n",
    "    df4model_p1, 0.3\n",
    ")\n",
    "X_train_scale_p2, X_test_scale_p2, y_train_p2, y_test_p2 = get_split_data(\n",
    "    df4model_p2, 0.3\n",
    ")"
   ]
  },
  {
   "cell_type": "code",
   "execution_count": 1005,
   "metadata": {
    "ExecuteTime": {
     "end_time": "2020-01-27T19:30:23.512802Z",
     "start_time": "2020-01-27T19:30:23.448026Z"
    }
   },
   "outputs": [
    {
     "name": "stdout",
     "output_type": "stream",
     "text": [
      "(140, 3) (61, 3) (140,) (61,)\n",
      "(140, 3) (61, 3) (140,) (61,)\n"
     ]
    },
    {
     "data": {
      "application/javascript": [
       "\n",
       "            setTimeout(function() {\n",
       "                var nbb_cell_id = 1005;\n",
       "                var nbb_unformatted_code = \"print(X_train_p1.shape, X_test_p1.shape, y_train_p1.shape, y_test_p1.shape)\\nprint(X_train_p2.shape, X_test_p2.shape, y_train_p2.shape, y_test_p2.shape)\";\n",
       "                var nbb_formatted_code = \"print(X_train_p1.shape, X_test_p1.shape, y_train_p1.shape, y_test_p1.shape)\\nprint(X_train_p2.shape, X_test_p2.shape, y_train_p2.shape, y_test_p2.shape)\";\n",
       "                var nbb_cells = Jupyter.notebook.get_cells();\n",
       "                for (var i = 0; i < nbb_cells.length; ++i) {\n",
       "                    if (nbb_cells[i].input_prompt_number == nbb_cell_id) {\n",
       "                        if (nbb_cells[i].get_text() == nbb_unformatted_code) {\n",
       "                             nbb_cells[i].set_text(nbb_formatted_code);\n",
       "                        }\n",
       "                        break;\n",
       "                    }\n",
       "                }\n",
       "            }, 500);\n",
       "            "
      ],
      "text/plain": [
       "<IPython.core.display.Javascript object>"
      ]
     },
     "metadata": {},
     "output_type": "display_data"
    }
   ],
   "source": [
    "print(X_train_p1.shape, X_test_p1.shape, y_train_p1.shape, y_test_p1.shape)\n",
    "print(X_train_p2.shape, X_test_p2.shape, y_train_p2.shape, y_test_p2.shape)"
   ]
  },
  {
   "cell_type": "code",
   "execution_count": 1006,
   "metadata": {
    "ExecuteTime": {
     "end_time": "2020-01-27T19:30:26.142330Z",
     "start_time": "2020-01-27T19:30:26.114677Z"
    }
   },
   "outputs": [
    {
     "data": {
      "text/plain": [
       "LogisticRegression(C=1.0, class_weight=None, dual=False, fit_intercept=True,\n",
       "                   intercept_scaling=1, l1_ratio=None, max_iter=100,\n",
       "                   multi_class='auto', n_jobs=None, penalty='l2',\n",
       "                   random_state=None, solver='lbfgs', tol=0.0001, verbose=0,\n",
       "                   warm_start=False)"
      ]
     },
     "execution_count": 1006,
     "metadata": {},
     "output_type": "execute_result"
    },
    {
     "data": {
      "application/javascript": [
       "\n",
       "            setTimeout(function() {\n",
       "                var nbb_cell_id = 1006;\n",
       "                var nbb_unformatted_code = \"log_reg_p1 = LogisticRegression()\\nlog_reg_p1.fit(X_train_p1, y_train_p1)\";\n",
       "                var nbb_formatted_code = \"log_reg_p1 = LogisticRegression()\\nlog_reg_p1.fit(X_train_p1, y_train_p1)\";\n",
       "                var nbb_cells = Jupyter.notebook.get_cells();\n",
       "                for (var i = 0; i < nbb_cells.length; ++i) {\n",
       "                    if (nbb_cells[i].input_prompt_number == nbb_cell_id) {\n",
       "                        if (nbb_cells[i].get_text() == nbb_unformatted_code) {\n",
       "                             nbb_cells[i].set_text(nbb_formatted_code);\n",
       "                        }\n",
       "                        break;\n",
       "                    }\n",
       "                }\n",
       "            }, 500);\n",
       "            "
      ],
      "text/plain": [
       "<IPython.core.display.Javascript object>"
      ]
     },
     "metadata": {},
     "output_type": "display_data"
    }
   ],
   "source": [
    "log_reg_p1 = LogisticRegression()\n",
    "log_reg_p1.fit(X_train_p1, y_train_p1)"
   ]
  },
  {
   "cell_type": "code",
   "execution_count": 1007,
   "metadata": {
    "ExecuteTime": {
     "end_time": "2020-01-27T19:30:29.211687Z",
     "start_time": "2020-01-27T19:30:29.160196Z"
    }
   },
   "outputs": [
    {
     "data": {
      "application/javascript": [
       "\n",
       "            setTimeout(function() {\n",
       "                var nbb_cell_id = 1007;\n",
       "                var nbb_unformatted_code = \"y_pred_p1 = log_reg_p1.predict(X_test_p1)\\ny_predprob_p1 = log_reg_p1.predict_proba(X_test_p1)[:, 1]\";\n",
       "                var nbb_formatted_code = \"y_pred_p1 = log_reg_p1.predict(X_test_p1)\\ny_predprob_p1 = log_reg_p1.predict_proba(X_test_p1)[:, 1]\";\n",
       "                var nbb_cells = Jupyter.notebook.get_cells();\n",
       "                for (var i = 0; i < nbb_cells.length; ++i) {\n",
       "                    if (nbb_cells[i].input_prompt_number == nbb_cell_id) {\n",
       "                        if (nbb_cells[i].get_text() == nbb_unformatted_code) {\n",
       "                             nbb_cells[i].set_text(nbb_formatted_code);\n",
       "                        }\n",
       "                        break;\n",
       "                    }\n",
       "                }\n",
       "            }, 500);\n",
       "            "
      ],
      "text/plain": [
       "<IPython.core.display.Javascript object>"
      ]
     },
     "metadata": {},
     "output_type": "display_data"
    }
   ],
   "source": [
    "y_pred_p1 = log_reg_p1.predict(X_test_p1)\n",
    "y_predprob_p1 = log_reg_p1.predict_proba(X_test_p1)[:, 1]"
   ]
  },
  {
   "cell_type": "code",
   "execution_count": 1008,
   "metadata": {
    "ExecuteTime": {
     "end_time": "2020-01-27T19:30:30.459491Z",
     "start_time": "2020-01-27T19:30:30.439470Z"
    }
   },
   "outputs": [
    {
     "data": {
      "text/html": [
       "<div>\n",
       "<style scoped>\n",
       "    .dataframe tbody tr th:only-of-type {\n",
       "        vertical-align: middle;\n",
       "    }\n",
       "\n",
       "    .dataframe tbody tr th {\n",
       "        vertical-align: top;\n",
       "    }\n",
       "\n",
       "    .dataframe thead th {\n",
       "        text-align: right;\n",
       "    }\n",
       "</style>\n",
       "<table border=\"1\" class=\"dataframe\">\n",
       "  <thead>\n",
       "    <tr style=\"text-align: right;\">\n",
       "      <th></th>\n",
       "      <th>test</th>\n",
       "      <th>pred</th>\n",
       "      <th>predprob</th>\n",
       "    </tr>\n",
       "  </thead>\n",
       "  <tbody>\n",
       "    <tr>\n",
       "      <th>40</th>\n",
       "      <td>1</td>\n",
       "      <td>0</td>\n",
       "      <td>0.279643</td>\n",
       "    </tr>\n",
       "    <tr>\n",
       "      <th>141</th>\n",
       "      <td>0</td>\n",
       "      <td>0</td>\n",
       "      <td>0.296987</td>\n",
       "    </tr>\n",
       "    <tr>\n",
       "      <th>33</th>\n",
       "      <td>0</td>\n",
       "      <td>0</td>\n",
       "      <td>0.278889</td>\n",
       "    </tr>\n",
       "    <tr>\n",
       "      <th>91</th>\n",
       "      <td>1</td>\n",
       "      <td>0</td>\n",
       "      <td>0.299045</td>\n",
       "    </tr>\n",
       "    <tr>\n",
       "      <th>13</th>\n",
       "      <td>0</td>\n",
       "      <td>0</td>\n",
       "      <td>0.296955</td>\n",
       "    </tr>\n",
       "  </tbody>\n",
       "</table>\n",
       "</div>"
      ],
      "text/plain": [
       "     test  pred  predprob\n",
       "40      1     0  0.279643\n",
       "141     0     0  0.296987\n",
       "33      0     0  0.278889\n",
       "91      1     0  0.299045\n",
       "13      0     0  0.296955"
      ]
     },
     "execution_count": 1008,
     "metadata": {},
     "output_type": "execute_result"
    },
    {
     "data": {
      "application/javascript": [
       "\n",
       "            setTimeout(function() {\n",
       "                var nbb_cell_id = 1008;\n",
       "                var nbb_unformatted_code = \"df_eval_p1 = pd.DataFrame(\\n    {\\\"test\\\": y_test_p1, \\\"pred\\\": y_pred_p1, \\\"predprob\\\": y_predprob_p1}\\n)\\ndf_eval_p1.head()\";\n",
       "                var nbb_formatted_code = \"df_eval_p1 = pd.DataFrame(\\n    {\\\"test\\\": y_test_p1, \\\"pred\\\": y_pred_p1, \\\"predprob\\\": y_predprob_p1}\\n)\\ndf_eval_p1.head()\";\n",
       "                var nbb_cells = Jupyter.notebook.get_cells();\n",
       "                for (var i = 0; i < nbb_cells.length; ++i) {\n",
       "                    if (nbb_cells[i].input_prompt_number == nbb_cell_id) {\n",
       "                        if (nbb_cells[i].get_text() == nbb_unformatted_code) {\n",
       "                             nbb_cells[i].set_text(nbb_formatted_code);\n",
       "                        }\n",
       "                        break;\n",
       "                    }\n",
       "                }\n",
       "            }, 500);\n",
       "            "
      ],
      "text/plain": [
       "<IPython.core.display.Javascript object>"
      ]
     },
     "metadata": {},
     "output_type": "display_data"
    }
   ],
   "source": [
    "df_eval_p1 = pd.DataFrame(\n",
    "    {\"test\": y_test_p1, \"pred\": y_pred_p1, \"predprob\": y_predprob_p1}\n",
    ")\n",
    "df_eval_p1.head()"
   ]
  },
  {
   "cell_type": "code",
   "execution_count": 924,
   "metadata": {
    "ExecuteTime": {
     "end_time": "2020-01-27T17:55:42.620965Z",
     "start_time": "2020-01-27T17:55:42.311903Z"
    }
   },
   "outputs": [
    {
     "data": {
      "text/plain": [
       "<matplotlib.collections.PathCollection at 0x1a34eb6c18>"
      ]
     },
     "execution_count": 924,
     "metadata": {},
     "output_type": "execute_result"
    },
    {
     "data": {
      "image/png": "[encoded data removed]",
      "text/plain": [
       "<Figure size 432x288 with 1 Axes>"
      ]
     },
     "metadata": {
      "needs_background": "light"
     },
     "output_type": "display_data"
    },
    {
     "data": {
      "application/javascript": [
       "\n",
       "            setTimeout(function() {\n",
       "                var nbb_cell_id = 924;\n",
       "                var nbb_unformatted_code = \"f, ax1 = plt.subplots()\\n\\n#\\nax1.scatter(\\n    df_eval_p1[\\\"predprob\\\"],\\n    df_eval_p1[\\\"test\\\"] + np.random.normal(0, 0.025, len(df_eval_p1)),\\n    facecolors=\\\"none\\\",\\n    edgecolors=\\\"black\\\",\\n)\";\n",
       "                var nbb_formatted_code = \"f, ax1 = plt.subplots()\\n\\n#\\nax1.scatter(\\n    df_eval_p1[\\\"predprob\\\"],\\n    df_eval_p1[\\\"test\\\"] + np.random.normal(0, 0.025, len(df_eval_p1)),\\n    facecolors=\\\"none\\\",\\n    edgecolors=\\\"black\\\",\\n)\";\n",
       "                var nbb_cells = Jupyter.notebook.get_cells();\n",
       "                for (var i = 0; i < nbb_cells.length; ++i) {\n",
       "                    if (nbb_cells[i].input_prompt_number == nbb_cell_id) {\n",
       "                        if (nbb_cells[i].get_text() == nbb_unformatted_code) {\n",
       "                             nbb_cells[i].set_text(nbb_formatted_code);\n",
       "                        }\n",
       "                        break;\n",
       "                    }\n",
       "                }\n",
       "            }, 500);\n",
       "            "
      ],
      "text/plain": [
       "<IPython.core.display.Javascript object>"
      ]
     },
     "metadata": {},
     "output_type": "display_data"
    }
   ],
   "source": [
    "f, ax1 = plt.subplots()\n",
    "\n",
    "#\n",
    "ax1.scatter(\n",
    "    df_eval_p1[\"predprob\"],\n",
    "    df_eval_p1[\"test\"] + np.random.normal(0, 0.025, len(df_eval_p1)),\n",
    "    facecolors=\"none\",\n",
    "    edgecolors=\"black\",\n",
    ")"
   ]
  },
  {
   "cell_type": "code",
   "execution_count": 1009,
   "metadata": {
    "ExecuteTime": {
     "end_time": "2020-01-27T19:30:35.857616Z",
     "start_time": "2020-01-27T19:30:35.847466Z"
    }
   },
   "outputs": [
    {
     "data": {
      "text/plain": [
       "array([[ 0.0848606 , -0.01561065, -0.1873275 ]])"
      ]
     },
     "execution_count": 1009,
     "metadata": {},
     "output_type": "execute_result"
    },
    {
     "data": {
      "application/javascript": [
       "\n",
       "            setTimeout(function() {\n",
       "                var nbb_cell_id = 1009;\n",
       "                var nbb_unformatted_code = \"log_reg_p1.coef_\";\n",
       "                var nbb_formatted_code = \"log_reg_p1.coef_\";\n",
       "                var nbb_cells = Jupyter.notebook.get_cells();\n",
       "                for (var i = 0; i < nbb_cells.length; ++i) {\n",
       "                    if (nbb_cells[i].input_prompt_number == nbb_cell_id) {\n",
       "                        if (nbb_cells[i].get_text() == nbb_unformatted_code) {\n",
       "                             nbb_cells[i].set_text(nbb_formatted_code);\n",
       "                        }\n",
       "                        break;\n",
       "                    }\n",
       "                }\n",
       "            }, 500);\n",
       "            "
      ],
      "text/plain": [
       "<IPython.core.display.Javascript object>"
      ]
     },
     "metadata": {},
     "output_type": "display_data"
    }
   ],
   "source": [
    "log_reg_p1.coef_"
   ]
  },
  {
   "cell_type": "code",
   "execution_count": 1010,
   "metadata": {
    "ExecuteTime": {
     "end_time": "2020-01-27T19:30:38.145568Z",
     "start_time": "2020-01-27T19:30:38.106852Z"
    }
   },
   "outputs": [
    {
     "name": "stdout",
     "output_type": "stream",
     "text": [
      "low prob, 0:  9\n",
      "low prob, 1:  4\n",
      "high prob, 0:  31\n",
      "high prob, 1:  17\n"
     ]
    },
    {
     "data": {
      "application/javascript": [
       "\n",
       "            setTimeout(function() {\n",
       "                var nbb_cell_id = 1010;\n",
       "                var nbb_unformatted_code = \"print(\\n    \\\"low prob, 0: \\\", ((df_eval_p1[\\\"predprob\\\"] < 0.29) & (df_eval_p1[\\\"test\\\"] == 0)).sum()\\n)\\nprint(\\n    \\\"low prob, 1: \\\", ((df_eval_p1[\\\"predprob\\\"] < 0.29) & (df_eval_p1[\\\"test\\\"] == 1)).sum()\\n)\\nprint(\\n    \\\"high prob, 0: \\\",\\n    ((df_eval_p1[\\\"predprob\\\"] > 0.29) & (df_eval_p1[\\\"test\\\"] == 0)).sum(),\\n)\\nprint(\\n    \\\"high prob, 1: \\\",\\n    ((df_eval_p1[\\\"predprob\\\"] > 0.29) & (df_eval_p1[\\\"test\\\"] == 1)).sum(),\\n)\";\n",
       "                var nbb_formatted_code = \"print(\\n    \\\"low prob, 0: \\\", ((df_eval_p1[\\\"predprob\\\"] < 0.29) & (df_eval_p1[\\\"test\\\"] == 0)).sum()\\n)\\nprint(\\n    \\\"low prob, 1: \\\", ((df_eval_p1[\\\"predprob\\\"] < 0.29) & (df_eval_p1[\\\"test\\\"] == 1)).sum()\\n)\\nprint(\\n    \\\"high prob, 0: \\\",\\n    ((df_eval_p1[\\\"predprob\\\"] > 0.29) & (df_eval_p1[\\\"test\\\"] == 0)).sum(),\\n)\\nprint(\\n    \\\"high prob, 1: \\\",\\n    ((df_eval_p1[\\\"predprob\\\"] > 0.29) & (df_eval_p1[\\\"test\\\"] == 1)).sum(),\\n)\";\n",
       "                var nbb_cells = Jupyter.notebook.get_cells();\n",
       "                for (var i = 0; i < nbb_cells.length; ++i) {\n",
       "                    if (nbb_cells[i].input_prompt_number == nbb_cell_id) {\n",
       "                        if (nbb_cells[i].get_text() == nbb_unformatted_code) {\n",
       "                             nbb_cells[i].set_text(nbb_formatted_code);\n",
       "                        }\n",
       "                        break;\n",
       "                    }\n",
       "                }\n",
       "            }, 500);\n",
       "            "
      ],
      "text/plain": [
       "<IPython.core.display.Javascript object>"
      ]
     },
     "metadata": {},
     "output_type": "display_data"
    }
   ],
   "source": [
    "print(\n",
    "    \"low prob, 0: \", ((df_eval_p1[\"predprob\"] < 0.29) & (df_eval_p1[\"test\"] == 0)).sum()\n",
    ")\n",
    "print(\n",
    "    \"low prob, 1: \", ((df_eval_p1[\"predprob\"] < 0.29) & (df_eval_p1[\"test\"] == 1)).sum()\n",
    ")\n",
    "print(\n",
    "    \"high prob, 0: \",\n",
    "    ((df_eval_p1[\"predprob\"] > 0.29) & (df_eval_p1[\"test\"] == 0)).sum(),\n",
    ")\n",
    "print(\n",
    "    \"high prob, 1: \",\n",
    "    ((df_eval_p1[\"predprob\"] > 0.29) & (df_eval_p1[\"test\"] == 1)).sum(),\n",
    ")"
   ]
  },
  {
   "cell_type": "code",
   "execution_count": 1011,
   "metadata": {
    "ExecuteTime": {
     "end_time": "2020-01-27T19:30:43.078124Z",
     "start_time": "2020-01-27T19:30:43.068535Z"
    }
   },
   "outputs": [
    {
     "data": {
      "text/plain": [
       "48"
      ]
     },
     "execution_count": 1011,
     "metadata": {},
     "output_type": "execute_result"
    },
    {
     "data": {
      "application/javascript": [
       "\n",
       "            setTimeout(function() {\n",
       "                var nbb_cell_id = 1011;\n",
       "                var nbb_unformatted_code = \"# The number of right-handed pitchers matches the \\\"high probability\\\"\\nX_test_p1[\\\"p_throws\\\"].sum()\";\n",
       "                var nbb_formatted_code = \"# The number of right-handed pitchers matches the \\\"high probability\\\"\\nX_test_p1[\\\"p_throws\\\"].sum()\";\n",
       "                var nbb_cells = Jupyter.notebook.get_cells();\n",
       "                for (var i = 0; i < nbb_cells.length; ++i) {\n",
       "                    if (nbb_cells[i].input_prompt_number == nbb_cell_id) {\n",
       "                        if (nbb_cells[i].get_text() == nbb_unformatted_code) {\n",
       "                             nbb_cells[i].set_text(nbb_formatted_code);\n",
       "                        }\n",
       "                        break;\n",
       "                    }\n",
       "                }\n",
       "            }, 500);\n",
       "            "
      ],
      "text/plain": [
       "<IPython.core.display.Javascript object>"
      ]
     },
     "metadata": {},
     "output_type": "display_data"
    }
   ],
   "source": [
    "# The number of right-handed pitchers matches the \"high probability\"\n",
    "X_test_p1[\"p_throws\"].sum()"
   ]
  },
  {
   "cell_type": "code",
   "execution_count": 1012,
   "metadata": {
    "ExecuteTime": {
     "end_time": "2020-01-27T19:30:44.186056Z",
     "start_time": "2020-01-27T19:30:44.164037Z"
    }
   },
   "outputs": [
    {
     "data": {
      "application/javascript": [
       "\n",
       "            setTimeout(function() {\n",
       "                var nbb_cell_id = 1012;\n",
       "                var nbb_unformatted_code = \"log_reg_p2 = LogisticRegression()\\nlog_reg_p2.fit(X_train_p2, y_train_p2)\\n\\ny_pred_p2 = log_reg_p2.predict(X_test_p2)\\ny_predprob_p2 = log_reg_p2.predict_proba(X_test_p2)[:, 1]\";\n",
       "                var nbb_formatted_code = \"log_reg_p2 = LogisticRegression()\\nlog_reg_p2.fit(X_train_p2, y_train_p2)\\n\\ny_pred_p2 = log_reg_p2.predict(X_test_p2)\\ny_predprob_p2 = log_reg_p2.predict_proba(X_test_p2)[:, 1]\";\n",
       "                var nbb_cells = Jupyter.notebook.get_cells();\n",
       "                for (var i = 0; i < nbb_cells.length; ++i) {\n",
       "                    if (nbb_cells[i].input_prompt_number == nbb_cell_id) {\n",
       "                        if (nbb_cells[i].get_text() == nbb_unformatted_code) {\n",
       "                             nbb_cells[i].set_text(nbb_formatted_code);\n",
       "                        }\n",
       "                        break;\n",
       "                    }\n",
       "                }\n",
       "            }, 500);\n",
       "            "
      ],
      "text/plain": [
       "<IPython.core.display.Javascript object>"
      ]
     },
     "metadata": {},
     "output_type": "display_data"
    }
   ],
   "source": [
    "log_reg_p2 = LogisticRegression()\n",
    "log_reg_p2.fit(X_train_p2, y_train_p2)\n",
    "\n",
    "y_pred_p2 = log_reg_p2.predict(X_test_p2)\n",
    "y_predprob_p2 = log_reg_p2.predict_proba(X_test_p2)[:, 1]"
   ]
  },
  {
   "cell_type": "code",
   "execution_count": 1013,
   "metadata": {
    "ExecuteTime": {
     "end_time": "2020-01-27T19:30:45.459689Z",
     "start_time": "2020-01-27T19:30:45.436216Z"
    }
   },
   "outputs": [
    {
     "data": {
      "text/html": [
       "<div>\n",
       "<style scoped>\n",
       "    .dataframe tbody tr th:only-of-type {\n",
       "        vertical-align: middle;\n",
       "    }\n",
       "\n",
       "    .dataframe tbody tr th {\n",
       "        vertical-align: top;\n",
       "    }\n",
       "\n",
       "    .dataframe thead th {\n",
       "        text-align: right;\n",
       "    }\n",
       "</style>\n",
       "<table border=\"1\" class=\"dataframe\">\n",
       "  <thead>\n",
       "    <tr style=\"text-align: right;\">\n",
       "      <th></th>\n",
       "      <th>test</th>\n",
       "      <th>pred</th>\n",
       "      <th>predprob</th>\n",
       "    </tr>\n",
       "  </thead>\n",
       "  <tbody>\n",
       "    <tr>\n",
       "      <th>40</th>\n",
       "      <td>0</td>\n",
       "      <td>0</td>\n",
       "      <td>0.225441</td>\n",
       "    </tr>\n",
       "    <tr>\n",
       "      <th>141</th>\n",
       "      <td>0</td>\n",
       "      <td>0</td>\n",
       "      <td>0.224694</td>\n",
       "    </tr>\n",
       "    <tr>\n",
       "      <th>33</th>\n",
       "      <td>1</td>\n",
       "      <td>0</td>\n",
       "      <td>0.221881</td>\n",
       "    </tr>\n",
       "    <tr>\n",
       "      <th>91</th>\n",
       "      <td>1</td>\n",
       "      <td>0</td>\n",
       "      <td>0.229042</td>\n",
       "    </tr>\n",
       "    <tr>\n",
       "      <th>13</th>\n",
       "      <td>0</td>\n",
       "      <td>0</td>\n",
       "      <td>0.231885</td>\n",
       "    </tr>\n",
       "  </tbody>\n",
       "</table>\n",
       "</div>"
      ],
      "text/plain": [
       "     test  pred  predprob\n",
       "40      0     0  0.225441\n",
       "141     0     0  0.224694\n",
       "33      1     0  0.221881\n",
       "91      1     0  0.229042\n",
       "13      0     0  0.231885"
      ]
     },
     "execution_count": 1013,
     "metadata": {},
     "output_type": "execute_result"
    },
    {
     "data": {
      "application/javascript": [
       "\n",
       "            setTimeout(function() {\n",
       "                var nbb_cell_id = 1013;\n",
       "                var nbb_unformatted_code = \"df_eval_p2 = pd.DataFrame(\\n    {\\\"test\\\": y_test_p2, \\\"pred\\\": y_pred_p2, \\\"predprob\\\": y_predprob_p2}\\n)\\ndf_eval_p2.head()\";\n",
       "                var nbb_formatted_code = \"df_eval_p2 = pd.DataFrame(\\n    {\\\"test\\\": y_test_p2, \\\"pred\\\": y_pred_p2, \\\"predprob\\\": y_predprob_p2}\\n)\\ndf_eval_p2.head()\";\n",
       "                var nbb_cells = Jupyter.notebook.get_cells();\n",
       "                for (var i = 0; i < nbb_cells.length; ++i) {\n",
       "                    if (nbb_cells[i].input_prompt_number == nbb_cell_id) {\n",
       "                        if (nbb_cells[i].get_text() == nbb_unformatted_code) {\n",
       "                             nbb_cells[i].set_text(nbb_formatted_code);\n",
       "                        }\n",
       "                        break;\n",
       "                    }\n",
       "                }\n",
       "            }, 500);\n",
       "            "
      ],
      "text/plain": [
       "<IPython.core.display.Javascript object>"
      ]
     },
     "metadata": {},
     "output_type": "display_data"
    }
   ],
   "source": [
    "df_eval_p2 = pd.DataFrame(\n",
    "    {\"test\": y_test_p2, \"pred\": y_pred_p2, \"predprob\": y_predprob_p2}\n",
    ")\n",
    "df_eval_p2.head()"
   ]
  },
  {
   "cell_type": "code",
   "execution_count": 1014,
   "metadata": {
    "ExecuteTime": {
     "end_time": "2020-01-27T19:30:52.339809Z",
     "start_time": "2020-01-27T19:30:52.099981Z"
    }
   },
   "outputs": [
    {
     "data": {
      "text/plain": [
       "<matplotlib.collections.PathCollection at 0x1a370b6240>"
      ]
     },
     "execution_count": 1014,
     "metadata": {},
     "output_type": "execute_result"
    },
    {
     "data": {
      "image/png": "[encoded data removed]",
      "text/plain": [
       "<Figure size 432x288 with 1 Axes>"
      ]
     },
     "metadata": {
      "needs_background": "light"
     },
     "output_type": "display_data"
    },
    {
     "data": {
      "application/javascript": [
       "\n",
       "            setTimeout(function() {\n",
       "                var nbb_cell_id = 1014;\n",
       "                var nbb_unformatted_code = \"f, ax1 = plt.subplots()\\nax1.scatter(\\n    df_eval_p2[\\\"predprob\\\"],\\n    df_eval_p2[\\\"test\\\"] + np.random.normal(0, 0.025, len(df_eval_p2)),\\n    facecolors=\\\"none\\\",\\n    edgecolors=\\\"black\\\",\\n)\";\n",
       "                var nbb_formatted_code = \"f, ax1 = plt.subplots()\\nax1.scatter(\\n    df_eval_p2[\\\"predprob\\\"],\\n    df_eval_p2[\\\"test\\\"] + np.random.normal(0, 0.025, len(df_eval_p2)),\\n    facecolors=\\\"none\\\",\\n    edgecolors=\\\"black\\\",\\n)\";\n",
       "                var nbb_cells = Jupyter.notebook.get_cells();\n",
       "                for (var i = 0; i < nbb_cells.length; ++i) {\n",
       "                    if (nbb_cells[i].input_prompt_number == nbb_cell_id) {\n",
       "                        if (nbb_cells[i].get_text() == nbb_unformatted_code) {\n",
       "                             nbb_cells[i].set_text(nbb_formatted_code);\n",
       "                        }\n",
       "                        break;\n",
       "                    }\n",
       "                }\n",
       "            }, 500);\n",
       "            "
      ],
      "text/plain": [
       "<IPython.core.display.Javascript object>"
      ]
     },
     "metadata": {},
     "output_type": "display_data"
    }
   ],
   "source": [
    "f, ax1 = plt.subplots()\n",
    "ax1.scatter(\n",
    "    df_eval_p2[\"predprob\"],\n",
    "    df_eval_p2[\"test\"] + np.random.normal(0, 0.025, len(df_eval_p2)),\n",
    "    facecolors=\"none\",\n",
    "    edgecolors=\"black\",\n",
    ")"
   ]
  },
  {
   "cell_type": "code",
   "execution_count": 1015,
   "metadata": {
    "ExecuteTime": {
     "end_time": "2020-01-27T19:30:55.989332Z",
     "start_time": "2020-01-27T19:30:55.979164Z"
    }
   },
   "outputs": [
    {
     "data": {
      "text/plain": [
       "array([[-0.28509659, -0.34176485, -0.19256008]])"
      ]
     },
     "execution_count": 1015,
     "metadata": {},
     "output_type": "execute_result"
    },
    {
     "data": {
      "application/javascript": [
       "\n",
       "            setTimeout(function() {\n",
       "                var nbb_cell_id = 1015;\n",
       "                var nbb_unformatted_code = \"log_reg_p2.coef_\";\n",
       "                var nbb_formatted_code = \"log_reg_p2.coef_\";\n",
       "                var nbb_cells = Jupyter.notebook.get_cells();\n",
       "                for (var i = 0; i < nbb_cells.length; ++i) {\n",
       "                    if (nbb_cells[i].input_prompt_number == nbb_cell_id) {\n",
       "                        if (nbb_cells[i].get_text() == nbb_unformatted_code) {\n",
       "                             nbb_cells[i].set_text(nbb_formatted_code);\n",
       "                        }\n",
       "                        break;\n",
       "                    }\n",
       "                }\n",
       "            }, 500);\n",
       "            "
      ],
      "text/plain": [
       "<IPython.core.display.Javascript object>"
      ]
     },
     "metadata": {},
     "output_type": "display_data"
    }
   ],
   "source": [
    "log_reg_p2.coef_"
   ]
  },
  {
   "cell_type": "markdown",
   "metadata": {},
   "source": [
    "## Output for new case"
   ]
  },
  {
   "cell_type": "code",
   "execution_count": 1019,
   "metadata": {
    "ExecuteTime": {
     "end_time": "2020-01-27T19:31:06.444136Z",
     "start_time": "2020-01-27T19:31:06.434772Z"
    }
   },
   "outputs": [
    {
     "data": {
      "application/javascript": [
       "\n",
       "            setTimeout(function() {\n",
       "                var nbb_cell_id = 1019;\n",
       "                var nbb_unformatted_code = \"input_new_val = [1, 0.32, 0.32]\\ninput_new_val_array = [input_new_val] + [input_new_val]\";\n",
       "                var nbb_formatted_code = \"input_new_val = [1, 0.32, 0.32]\\ninput_new_val_array = [input_new_val] + [input_new_val]\";\n",
       "                var nbb_cells = Jupyter.notebook.get_cells();\n",
       "                for (var i = 0; i < nbb_cells.length; ++i) {\n",
       "                    if (nbb_cells[i].input_prompt_number == nbb_cell_id) {\n",
       "                        if (nbb_cells[i].get_text() == nbb_unformatted_code) {\n",
       "                             nbb_cells[i].set_text(nbb_formatted_code);\n",
       "                        }\n",
       "                        break;\n",
       "                    }\n",
       "                }\n",
       "            }, 500);\n",
       "            "
      ],
      "text/plain": [
       "<IPython.core.display.Javascript object>"
      ]
     },
     "metadata": {},
     "output_type": "display_data"
    }
   ],
   "source": [
    "input_new_val = [1, 0.32, 0.32]\n",
    "input_new_val_array = [input_new_val] + [input_new_val]"
   ]
  },
  {
   "cell_type": "code",
   "execution_count": 1020,
   "metadata": {
    "ExecuteTime": {
     "end_time": "2020-01-27T19:31:07.505294Z",
     "start_time": "2020-01-27T19:31:07.494577Z"
    }
   },
   "outputs": [
    {
     "data": {
      "text/plain": [
       "array([0.29786787, 0.29786787])"
      ]
     },
     "execution_count": 1020,
     "metadata": {},
     "output_type": "execute_result"
    },
    {
     "data": {
      "application/javascript": [
       "\n",
       "            setTimeout(function() {\n",
       "                var nbb_cell_id = 1020;\n",
       "                var nbb_unformatted_code = \"log_reg_p1.predict_proba(input_new_val_array)[:, 1]\";\n",
       "                var nbb_formatted_code = \"log_reg_p1.predict_proba(input_new_val_array)[:, 1]\";\n",
       "                var nbb_cells = Jupyter.notebook.get_cells();\n",
       "                for (var i = 0; i < nbb_cells.length; ++i) {\n",
       "                    if (nbb_cells[i].input_prompt_number == nbb_cell_id) {\n",
       "                        if (nbb_cells[i].get_text() == nbb_unformatted_code) {\n",
       "                             nbb_cells[i].set_text(nbb_formatted_code);\n",
       "                        }\n",
       "                        break;\n",
       "                    }\n",
       "                }\n",
       "            }, 500);\n",
       "            "
      ],
      "text/plain": [
       "<IPython.core.display.Javascript object>"
      ]
     },
     "metadata": {},
     "output_type": "display_data"
    }
   ],
   "source": [
    "log_reg_p1.predict_proba(input_new_val_array)[:, 1]"
   ]
  },
  {
   "cell_type": "code",
   "execution_count": 1021,
   "metadata": {
    "ExecuteTime": {
     "end_time": "2020-01-27T19:31:08.450251Z",
     "start_time": "2020-01-27T19:31:08.432685Z"
    }
   },
   "outputs": [
    {
     "data": {
      "text/plain": [
       "array([0.22765136, 0.22765136])"
      ]
     },
     "execution_count": 1021,
     "metadata": {},
     "output_type": "execute_result"
    },
    {
     "data": {
      "application/javascript": [
       "\n",
       "            setTimeout(function() {\n",
       "                var nbb_cell_id = 1021;\n",
       "                var nbb_unformatted_code = \"log_reg_p2.predict_proba(input_new_val_array)[:, 1]\";\n",
       "                var nbb_formatted_code = \"log_reg_p2.predict_proba(input_new_val_array)[:, 1]\";\n",
       "                var nbb_cells = Jupyter.notebook.get_cells();\n",
       "                for (var i = 0; i < nbb_cells.length; ++i) {\n",
       "                    if (nbb_cells[i].input_prompt_number == nbb_cell_id) {\n",
       "                        if (nbb_cells[i].get_text() == nbb_unformatted_code) {\n",
       "                             nbb_cells[i].set_text(nbb_formatted_code);\n",
       "                        }\n",
       "                        break;\n",
       "                    }\n",
       "                }\n",
       "            }, 500);\n",
       "            "
      ],
      "text/plain": [
       "<IPython.core.display.Javascript object>"
      ]
     },
     "metadata": {},
     "output_type": "display_data"
    }
   ],
   "source": [
    "log_reg_p2.predict_proba(input_new_val_array)[:, 1]"
   ]
  },
  {
   "cell_type": "code",
   "execution_count": null,
   "metadata": {},
   "outputs": [],
   "source": []
  },
  {
   "cell_type": "markdown",
   "metadata": {},
   "source": [
    "# Add pitcher features, at-bat level"
   ]
  },
  {
   "cell_type": "code",
   "execution_count": 958,
   "metadata": {
    "ExecuteTime": {
     "end_time": "2020-01-27T19:07:31.246293Z",
     "start_time": "2020-01-27T19:07:31.167805Z"
    }
   },
   "outputs": [
    {
     "data": {
      "application/javascript": [
       "\n",
       "            setTimeout(function() {\n",
       "                var nbb_cell_id = 958;\n",
       "                var nbb_unformatted_code = \"# This will capture starting pitcher most of the time\\n# Not completely right (somoene could start but leave game before hitter's at-bat)\\n# but will leave this for validation\\n\\n# INPUT DATE AND DF OF PITCHER\\n\\ndate_of_interest = date_of_interest\\ndf4_bp_match = df_sc_events1.copy()\\n\\nbool_pitcher = df_sc_events1[\\\"game_date\\\"] == date_of_interest\\npid_opp_pitcher = df4_bp_match.loc[bool_pitcher, \\\"pitcher\\\"].iloc[-1]\";\n",
       "                var nbb_formatted_code = \"# This will capture starting pitcher most of the time\\n# Not completely right (somoene could start but leave game before hitter's at-bat)\\n# but will leave this for validation\\n\\n# INPUT DATE AND DF OF PITCHER\\n\\ndate_of_interest = date_of_interest\\ndf4_bp_match = df_sc_events1.copy()\\n\\nbool_pitcher = df_sc_events1[\\\"game_date\\\"] == date_of_interest\\npid_opp_pitcher = df4_bp_match.loc[bool_pitcher, \\\"pitcher\\\"].iloc[-1]\";\n",
       "                var nbb_cells = Jupyter.notebook.get_cells();\n",
       "                for (var i = 0; i < nbb_cells.length; ++i) {\n",
       "                    if (nbb_cells[i].input_prompt_number == nbb_cell_id) {\n",
       "                        if (nbb_cells[i].get_text() == nbb_unformatted_code) {\n",
       "                             nbb_cells[i].set_text(nbb_formatted_code);\n",
       "                        }\n",
       "                        break;\n",
       "                    }\n",
       "                }\n",
       "            }, 500);\n",
       "            "
      ],
      "text/plain": [
       "<IPython.core.display.Javascript object>"
      ]
     },
     "metadata": {},
     "output_type": "display_data"
    }
   ],
   "source": [
    "# This will capture starting pitcher most of the time\n",
    "# Not completely right (somoene could start but leave game before hitter's at-bat)\n",
    "# but will leave this for validation\n",
    "\n",
    "# INPUT DATE AND DF OF PITCHER\n",
    "\n",
    "date_of_interest = date_of_interest\n",
    "df4_bp_match = df_sc_events1.copy()\n",
    "\n",
    "# bool_pitcher = df_sc_events1[\"game_date\"] == date_of_interest\n",
    "# pid_opp_pitcher = df4_bp_match.loc[bool_pitcher, \"pitcher\"].iloc[-1]"
   ]
  },
  {
   "cell_type": "code",
   "execution_count": 959,
   "metadata": {
    "ExecuteTime": {
     "end_time": "2020-01-27T19:07:32.551311Z",
     "start_time": "2020-01-27T19:07:32.541422Z"
    }
   },
   "outputs": [
    {
     "name": "stdout",
     "output_type": "stream",
     "text": [
      "543294.0\n"
     ]
    },
    {
     "data": {
      "application/javascript": [
       "\n",
       "            setTimeout(function() {\n",
       "                var nbb_cell_id = 959;\n",
       "                var nbb_unformatted_code = \"print(pid_opp_pitcher)\";\n",
       "                var nbb_formatted_code = \"print(pid_opp_pitcher)\";\n",
       "                var nbb_cells = Jupyter.notebook.get_cells();\n",
       "                for (var i = 0; i < nbb_cells.length; ++i) {\n",
       "                    if (nbb_cells[i].input_prompt_number == nbb_cell_id) {\n",
       "                        if (nbb_cells[i].get_text() == nbb_unformatted_code) {\n",
       "                             nbb_cells[i].set_text(nbb_formatted_code);\n",
       "                        }\n",
       "                        break;\n",
       "                    }\n",
       "                }\n",
       "            }, 500);\n",
       "            "
      ],
      "text/plain": [
       "<IPython.core.display.Javascript object>"
      ]
     },
     "metadata": {},
     "output_type": "display_data"
    }
   ],
   "source": [
    "#print(pid_opp_pitcher)"
   ]
  },
  {
   "cell_type": "code",
   "execution_count": 1248,
   "metadata": {
    "ExecuteTime": {
     "end_time": "2020-01-28T00:21:54.982487Z",
     "start_time": "2020-01-28T00:21:54.972296Z"
    }
   },
   "outputs": [
    {
     "data": {
      "application/javascript": [
       "\n",
       "            setTimeout(function() {\n",
       "                var nbb_cell_id = 1248;\n",
       "                var nbb_unformatted_code = \"df_sc_events1_temp = df_sc_events1.iloc[0:5, :].copy()\";\n",
       "                var nbb_formatted_code = \"df_sc_events1_temp = df_sc_events1.iloc[0:5, :].copy()\";\n",
       "                var nbb_cells = Jupyter.notebook.get_cells();\n",
       "                for (var i = 0; i < nbb_cells.length; ++i) {\n",
       "                    if (nbb_cells[i].input_prompt_number == nbb_cell_id) {\n",
       "                        if (nbb_cells[i].get_text() == nbb_unformatted_code) {\n",
       "                             nbb_cells[i].set_text(nbb_formatted_code);\n",
       "                        }\n",
       "                        break;\n",
       "                    }\n",
       "                }\n",
       "            }, 500);\n",
       "            "
      ],
      "text/plain": [
       "<IPython.core.display.Javascript object>"
      ]
     },
     "metadata": {},
     "output_type": "display_data"
    }
   ],
   "source": [
    "df_sc_events1_temp = df_sc_events1.iloc[0:5, :].copy()"
   ]
  },
  {
   "cell_type": "code",
   "execution_count": 1249,
   "metadata": {
    "ExecuteTime": {
     "end_time": "2020-01-28T00:21:56.273495Z",
     "start_time": "2020-01-28T00:21:56.240192Z"
    }
   },
   "outputs": [
    {
     "data": {
      "text/html": [
       "<div>\n",
       "<style scoped>\n",
       "    .dataframe tbody tr th:only-of-type {\n",
       "        vertical-align: middle;\n",
       "    }\n",
       "\n",
       "    .dataframe tbody tr th {\n",
       "        vertical-align: top;\n",
       "    }\n",
       "\n",
       "    .dataframe thead th {\n",
       "        text-align: right;\n",
       "    }\n",
       "</style>\n",
       "<table border=\"1\" class=\"dataframe\">\n",
       "  <thead>\n",
       "    <tr style=\"text-align: right;\">\n",
       "      <th></th>\n",
       "      <th>pitch_type</th>\n",
       "      <th>game_date</th>\n",
       "      <th>release_speed</th>\n",
       "      <th>release_pos_x</th>\n",
       "      <th>release_pos_z</th>\n",
       "      <th>player_name</th>\n",
       "      <th>batter</th>\n",
       "      <th>pitcher</th>\n",
       "      <th>events</th>\n",
       "      <th>description</th>\n",
       "      <th>...</th>\n",
       "      <th>if_fielding_alignment</th>\n",
       "      <th>of_fielding_alignment</th>\n",
       "      <th>name_last</th>\n",
       "      <th>name_first</th>\n",
       "      <th>key_mlbam</th>\n",
       "      <th>key_retro</th>\n",
       "      <th>key_bbref</th>\n",
       "      <th>key_fangraphs</th>\n",
       "      <th>mlb_played_first</th>\n",
       "      <th>mlb_played_last</th>\n",
       "    </tr>\n",
       "  </thead>\n",
       "  <tbody>\n",
       "    <tr>\n",
       "      <th>0</th>\n",
       "      <td>SI</td>\n",
       "      <td>2019-09-09</td>\n",
       "      <td>84.7</td>\n",
       "      <td>-2.3591</td>\n",
       "      <td>5.8620</td>\n",
       "      <td>Kyle Hendricks</td>\n",
       "      <td>592518.0</td>\n",
       "      <td>543294.0</td>\n",
       "      <td>single</td>\n",
       "      <td>hit_into_play_no_out</td>\n",
       "      <td>...</td>\n",
       "      <td>Standard</td>\n",
       "      <td>Standard</td>\n",
       "      <td>machado</td>\n",
       "      <td>manny</td>\n",
       "      <td>592518</td>\n",
       "      <td>machm001</td>\n",
       "      <td>machama01</td>\n",
       "      <td>11493</td>\n",
       "      <td>2012.0</td>\n",
       "      <td>2019.0</td>\n",
       "    </tr>\n",
       "    <tr>\n",
       "      <th>1</th>\n",
       "      <td>SI</td>\n",
       "      <td>2019-09-09</td>\n",
       "      <td>85.4</td>\n",
       "      <td>-2.4186</td>\n",
       "      <td>5.8800</td>\n",
       "      <td>Kyle Hendricks</td>\n",
       "      <td>592518.0</td>\n",
       "      <td>543294.0</td>\n",
       "      <td>single</td>\n",
       "      <td>hit_into_play_no_out</td>\n",
       "      <td>...</td>\n",
       "      <td>Standard</td>\n",
       "      <td>Standard</td>\n",
       "      <td>machado</td>\n",
       "      <td>manny</td>\n",
       "      <td>592518</td>\n",
       "      <td>machm001</td>\n",
       "      <td>machama01</td>\n",
       "      <td>11493</td>\n",
       "      <td>2012.0</td>\n",
       "      <td>2019.0</td>\n",
       "    </tr>\n",
       "    <tr>\n",
       "      <th>2</th>\n",
       "      <td>CU</td>\n",
       "      <td>2019-09-09</td>\n",
       "      <td>71.5</td>\n",
       "      <td>-2.2610</td>\n",
       "      <td>5.9986</td>\n",
       "      <td>Kyle Hendricks</td>\n",
       "      <td>592518.0</td>\n",
       "      <td>543294.0</td>\n",
       "      <td>field_out</td>\n",
       "      <td>hit_into_play</td>\n",
       "      <td>...</td>\n",
       "      <td>Standard</td>\n",
       "      <td>Standard</td>\n",
       "      <td>machado</td>\n",
       "      <td>manny</td>\n",
       "      <td>592518</td>\n",
       "      <td>machm001</td>\n",
       "      <td>machama01</td>\n",
       "      <td>11493</td>\n",
       "      <td>2012.0</td>\n",
       "      <td>2019.0</td>\n",
       "    </tr>\n",
       "    <tr>\n",
       "      <th>3</th>\n",
       "      <td>SI</td>\n",
       "      <td>2019-09-08</td>\n",
       "      <td>92.4</td>\n",
       "      <td>-1.2178</td>\n",
       "      <td>6.0300</td>\n",
       "      <td>Jesus Tinoco</td>\n",
       "      <td>592518.0</td>\n",
       "      <td>622786.0</td>\n",
       "      <td>walk</td>\n",
       "      <td>ball</td>\n",
       "      <td>...</td>\n",
       "      <td>Standard</td>\n",
       "      <td>Standard</td>\n",
       "      <td>machado</td>\n",
       "      <td>manny</td>\n",
       "      <td>592518</td>\n",
       "      <td>machm001</td>\n",
       "      <td>machama01</td>\n",
       "      <td>11493</td>\n",
       "      <td>2012.0</td>\n",
       "      <td>2019.0</td>\n",
       "    </tr>\n",
       "    <tr>\n",
       "      <th>4</th>\n",
       "      <td>FC</td>\n",
       "      <td>2019-09-08</td>\n",
       "      <td>93.2</td>\n",
       "      <td>-2.9951</td>\n",
       "      <td>6.0254</td>\n",
       "      <td>Bryan Shaw</td>\n",
       "      <td>592518.0</td>\n",
       "      <td>543766.0</td>\n",
       "      <td>walk</td>\n",
       "      <td>ball</td>\n",
       "      <td>...</td>\n",
       "      <td>Standard</td>\n",
       "      <td>Standard</td>\n",
       "      <td>machado</td>\n",
       "      <td>manny</td>\n",
       "      <td>592518</td>\n",
       "      <td>machm001</td>\n",
       "      <td>machama01</td>\n",
       "      <td>11493</td>\n",
       "      <td>2012.0</td>\n",
       "      <td>2019.0</td>\n",
       "    </tr>\n",
       "  </tbody>\n",
       "</table>\n",
       "<p>5 rows × 97 columns</p>\n",
       "</div>"
      ],
      "text/plain": [
       "  pitch_type  game_date  release_speed  release_pos_x  release_pos_z  \\\n",
       "0         SI 2019-09-09           84.7        -2.3591         5.8620   \n",
       "1         SI 2019-09-09           85.4        -2.4186         5.8800   \n",
       "2         CU 2019-09-09           71.5        -2.2610         5.9986   \n",
       "3         SI 2019-09-08           92.4        -1.2178         6.0300   \n",
       "4         FC 2019-09-08           93.2        -2.9951         6.0254   \n",
       "\n",
       "      player_name    batter   pitcher     events           description  ...  \\\n",
       "0  Kyle Hendricks  592518.0  543294.0     single  hit_into_play_no_out  ...   \n",
       "1  Kyle Hendricks  592518.0  543294.0     single  hit_into_play_no_out  ...   \n",
       "2  Kyle Hendricks  592518.0  543294.0  field_out         hit_into_play  ...   \n",
       "3    Jesus Tinoco  592518.0  622786.0       walk                  ball  ...   \n",
       "4      Bryan Shaw  592518.0  543766.0       walk                  ball  ...   \n",
       "\n",
       "  if_fielding_alignment of_fielding_alignment name_last name_first  key_mlbam  \\\n",
       "0              Standard              Standard   machado      manny     592518   \n",
       "1              Standard              Standard   machado      manny     592518   \n",
       "2              Standard              Standard   machado      manny     592518   \n",
       "3              Standard              Standard   machado      manny     592518   \n",
       "4              Standard              Standard   machado      manny     592518   \n",
       "\n",
       "  key_retro  key_bbref key_fangraphs mlb_played_first mlb_played_last  \n",
       "0  machm001  machama01         11493           2012.0          2019.0  \n",
       "1  machm001  machama01         11493           2012.0          2019.0  \n",
       "2  machm001  machama01         11493           2012.0          2019.0  \n",
       "3  machm001  machama01         11493           2012.0          2019.0  \n",
       "4  machm001  machama01         11493           2012.0          2019.0  \n",
       "\n",
       "[5 rows x 97 columns]"
      ]
     },
     "execution_count": 1249,
     "metadata": {},
     "output_type": "execute_result"
    },
    {
     "data": {
      "application/javascript": [
       "\n",
       "            setTimeout(function() {\n",
       "                var nbb_cell_id = 1249;\n",
       "                var nbb_unformatted_code = \"df_sc_events1_temp\";\n",
       "                var nbb_formatted_code = \"df_sc_events1_temp\";\n",
       "                var nbb_cells = Jupyter.notebook.get_cells();\n",
       "                for (var i = 0; i < nbb_cells.length; ++i) {\n",
       "                    if (nbb_cells[i].input_prompt_number == nbb_cell_id) {\n",
       "                        if (nbb_cells[i].get_text() == nbb_unformatted_code) {\n",
       "                             nbb_cells[i].set_text(nbb_formatted_code);\n",
       "                        }\n",
       "                        break;\n",
       "                    }\n",
       "                }\n",
       "            }, 500);\n",
       "            "
      ],
      "text/plain": [
       "<IPython.core.display.Javascript object>"
      ]
     },
     "metadata": {},
     "output_type": "display_data"
    }
   ],
   "source": [
    "df_sc_events1_temp"
   ]
  },
  {
   "cell_type": "markdown",
   "metadata": {},
   "source": [
    "## Add pitcher info"
   ]
  },
  {
   "cell_type": "code",
   "execution_count": 1250,
   "metadata": {
    "ExecuteTime": {
     "end_time": "2020-01-28T00:22:03.826003Z",
     "start_time": "2020-01-28T00:22:03.817075Z"
    }
   },
   "outputs": [
    {
     "data": {
      "text/plain": [
       "(5, 97)"
      ]
     },
     "execution_count": 1250,
     "metadata": {},
     "output_type": "execute_result"
    },
    {
     "data": {
      "application/javascript": [
       "\n",
       "            setTimeout(function() {\n",
       "                var nbb_cell_id = 1250;\n",
       "                var nbb_unformatted_code = \"df_sc_events1_temp.shape\";\n",
       "                var nbb_formatted_code = \"df_sc_events1_temp.shape\";\n",
       "                var nbb_cells = Jupyter.notebook.get_cells();\n",
       "                for (var i = 0; i < nbb_cells.length; ++i) {\n",
       "                    if (nbb_cells[i].input_prompt_number == nbb_cell_id) {\n",
       "                        if (nbb_cells[i].get_text() == nbb_unformatted_code) {\n",
       "                             nbb_cells[i].set_text(nbb_formatted_code);\n",
       "                        }\n",
       "                        break;\n",
       "                    }\n",
       "                }\n",
       "            }, 500);\n",
       "            "
      ],
      "text/plain": [
       "<IPython.core.display.Javascript object>"
      ]
     },
     "metadata": {},
     "output_type": "display_data"
    }
   ],
   "source": [
    "df_sc_events1_temp.shape"
   ]
  },
  {
   "cell_type": "code",
   "execution_count": 1251,
   "metadata": {
    "ExecuteTime": {
     "end_time": "2020-01-28T00:22:05.344886Z",
     "start_time": "2020-01-28T00:22:05.326705Z"
    },
    "code_folding": [
     0
    ]
   },
   "outputs": [
    {
     "data": {
      "application/javascript": [
       "\n",
       "            setTimeout(function() {\n",
       "                var nbb_cell_id = 1251;\n",
       "                var nbb_unformatted_code = \"def get_df4sc_info_opp_pitcher(pitcher_id, date):\\n\\n    # (Save info for doing pitcher level)\\n    # Estimated no. pitches in a season - 34 starts x 100 pitches\\n\\n    no_ab = 500\\n\\n    # Getting all the pitches BEFORE facing the batter (< game date)\\n\\n    sql_query = (\\n        \\\"\\\"\\\"\\n    (SELECT * FROM statcast \\n    JOIN player_id ON statcast.pitcher=player_id.key_mlbam \\n    WHERE statcast.pitcher= \\n    \\\"\\\"\\\"\\n        + str(pitcher_id)\\n        + \\\"\\\"\\\"\\n    AND statcast.game_date<\\n    \\\"\\\"\\\"\\n        + str(date_of_interest)\\n        + \\\"\\\"\\\" \\n    AND statcast.events IS NOT NULL \\n    ORDER BY statcast.game_date DESC, \\n    statcast.index ASC \\n    LIMIT \\n    \\\"\\\"\\\"\\n        + str(no_ab)\\n        + \\\");\\\"\\n    )\\n\\n    print(sql_query)\\n\\n    df_sc_pitcher = pd.read_sql_query(sql_query, con)\\n    df_sc_pitcher.drop([\\\"level_0\\\", \\\"index\\\"], axis=1, inplace=True)  # Clean up df\\n\\n    # print(\\\"head: \\\", df_sc_pitcher.head())\\n\\n    return df_sc_pitcher\";\n",
       "                var nbb_formatted_code = \"def get_df4sc_info_opp_pitcher(pitcher_id, date):\\n\\n    # (Save info for doing pitcher level)\\n    # Estimated no. pitches in a season - 34 starts x 100 pitches\\n\\n    no_ab = 500\\n\\n    # Getting all the pitches BEFORE facing the batter (< game date)\\n\\n    sql_query = (\\n        \\\"\\\"\\\"\\n    (SELECT * FROM statcast \\n    JOIN player_id ON statcast.pitcher=player_id.key_mlbam \\n    WHERE statcast.pitcher= \\n    \\\"\\\"\\\"\\n        + str(pitcher_id)\\n        + \\\"\\\"\\\"\\n    AND statcast.game_date<\\n    \\\"\\\"\\\"\\n        + str(date_of_interest)\\n        + \\\"\\\"\\\" \\n    AND statcast.events IS NOT NULL \\n    ORDER BY statcast.game_date DESC, \\n    statcast.index ASC \\n    LIMIT \\n    \\\"\\\"\\\"\\n        + str(no_ab)\\n        + \\\");\\\"\\n    )\\n\\n    print(sql_query)\\n\\n    df_sc_pitcher = pd.read_sql_query(sql_query, con)\\n    df_sc_pitcher.drop([\\\"level_0\\\", \\\"index\\\"], axis=1, inplace=True)  # Clean up df\\n\\n    # print(\\\"head: \\\", df_sc_pitcher.head())\\n\\n    return df_sc_pitcher\";\n",
       "                var nbb_cells = Jupyter.notebook.get_cells();\n",
       "                for (var i = 0; i < nbb_cells.length; ++i) {\n",
       "                    if (nbb_cells[i].input_prompt_number == nbb_cell_id) {\n",
       "                        if (nbb_cells[i].get_text() == nbb_unformatted_code) {\n",
       "                             nbb_cells[i].set_text(nbb_formatted_code);\n",
       "                        }\n",
       "                        break;\n",
       "                    }\n",
       "                }\n",
       "            }, 500);\n",
       "            "
      ],
      "text/plain": [
       "<IPython.core.display.Javascript object>"
      ]
     },
     "metadata": {},
     "output_type": "display_data"
    }
   ],
   "source": [
    "def get_df4sc_info_opp_pitcher(pitcher_id, date):\n",
    "\n",
    "    # (Save info for doing pitcher level)\n",
    "    # Estimated no. pitches in a season - 34 starts x 100 pitches\n",
    "\n",
    "    no_ab = 500\n",
    "\n",
    "    # Getting all the pitches BEFORE facing the batter (< game date)\n",
    "\n",
    "    sql_query = (\n",
    "        \"\"\"\n",
    "    (SELECT * FROM statcast \n",
    "    JOIN player_id ON statcast.pitcher=player_id.key_mlbam \n",
    "    WHERE statcast.pitcher= \n",
    "    \"\"\"\n",
    "        + str(pitcher_id)\n",
    "        + \"\"\"\n",
    "    AND statcast.game_date<\n",
    "    \"\"\"\n",
    "        + str(date_of_interest)\n",
    "        + \"\"\" \n",
    "    AND statcast.events IS NOT NULL \n",
    "    ORDER BY statcast.game_date DESC, \n",
    "    statcast.index ASC \n",
    "    LIMIT \n",
    "    \"\"\"\n",
    "        + str(no_ab)\n",
    "        + \");\"\n",
    "    )\n",
    "\n",
    "    print(sql_query)\n",
    "\n",
    "    df_sc_pitcher = pd.read_sql_query(sql_query, con)\n",
    "    df_sc_pitcher.drop([\"level_0\", \"index\"], axis=1, inplace=True)  # Clean up df\n",
    "\n",
    "    # print(\"head: \", df_sc_pitcher.head())\n",
    "\n",
    "    return df_sc_pitcher"
   ]
  },
  {
   "cell_type": "code",
   "execution_count": 1185,
   "metadata": {
    "ExecuteTime": {
     "end_time": "2020-01-27T23:47:05.394888Z",
     "start_time": "2020-01-27T23:47:00.778187Z"
    },
    "collapsed": true
   },
   "outputs": [
    {
     "name": "stdout",
     "output_type": "stream",
     "text": [
      "\n",
      "    (SELECT * FROM statcast \n",
      "    JOIN player_id ON statcast.pitcher=player_id.key_mlbam \n",
      "    WHERE statcast.pitcher= \n",
      "    543294.0\n",
      "    AND statcast.game_date<\n",
      "    '2019-09-09' \n",
      "    AND statcast.events IS NOT NULL \n",
      "    ORDER BY statcast.game_date DESC, \n",
      "    statcast.index ASC \n",
      "    LIMIT \n",
      "    500);\n"
     ]
    },
    {
     "data": {
      "text/html": [
       "<div>\n",
       "<style scoped>\n",
       "    .dataframe tbody tr th:only-of-type {\n",
       "        vertical-align: middle;\n",
       "    }\n",
       "\n",
       "    .dataframe tbody tr th {\n",
       "        vertical-align: top;\n",
       "    }\n",
       "\n",
       "    .dataframe thead th {\n",
       "        text-align: right;\n",
       "    }\n",
       "</style>\n",
       "<table border=\"1\" class=\"dataframe\">\n",
       "  <thead>\n",
       "    <tr style=\"text-align: right;\">\n",
       "      <th></th>\n",
       "      <th>pitch_type</th>\n",
       "      <th>game_date</th>\n",
       "      <th>release_speed</th>\n",
       "      <th>release_pos_x</th>\n",
       "      <th>release_pos_z</th>\n",
       "      <th>player_name</th>\n",
       "      <th>batter</th>\n",
       "      <th>pitcher</th>\n",
       "      <th>events</th>\n",
       "      <th>description</th>\n",
       "      <th>...</th>\n",
       "      <th>if_fielding_alignment</th>\n",
       "      <th>of_fielding_alignment</th>\n",
       "      <th>name_last</th>\n",
       "      <th>name_first</th>\n",
       "      <th>key_mlbam</th>\n",
       "      <th>key_retro</th>\n",
       "      <th>key_bbref</th>\n",
       "      <th>key_fangraphs</th>\n",
       "      <th>mlb_played_first</th>\n",
       "      <th>mlb_played_last</th>\n",
       "    </tr>\n",
       "  </thead>\n",
       "  <tbody>\n",
       "    <tr>\n",
       "      <th>0</th>\n",
       "      <td>CH</td>\n",
       "      <td>2019-09-02</td>\n",
       "      <td>78.0</td>\n",
       "      <td>-2.3667</td>\n",
       "      <td>6.1277</td>\n",
       "      <td>Kyle Hendricks</td>\n",
       "      <td>572122.0</td>\n",
       "      <td>543294.0</td>\n",
       "      <td>field_out</td>\n",
       "      <td>hit_into_play</td>\n",
       "      <td>...</td>\n",
       "      <td>Infield shift</td>\n",
       "      <td>Standard</td>\n",
       "      <td>hendricks</td>\n",
       "      <td>kyle</td>\n",
       "      <td>543294</td>\n",
       "      <td>hendk001</td>\n",
       "      <td>hendrky01</td>\n",
       "      <td>12049</td>\n",
       "      <td>2014.0</td>\n",
       "      <td>2019.0</td>\n",
       "    </tr>\n",
       "    <tr>\n",
       "      <th>1</th>\n",
       "      <td>FF</td>\n",
       "      <td>2019-09-02</td>\n",
       "      <td>86.0</td>\n",
       "      <td>-2.4230</td>\n",
       "      <td>5.9470</td>\n",
       "      <td>Kyle Hendricks</td>\n",
       "      <td>641584.0</td>\n",
       "      <td>543294.0</td>\n",
       "      <td>field_out</td>\n",
       "      <td>hit_into_play</td>\n",
       "      <td>...</td>\n",
       "      <td>Standard</td>\n",
       "      <td>Standard</td>\n",
       "      <td>hendricks</td>\n",
       "      <td>kyle</td>\n",
       "      <td>543294</td>\n",
       "      <td>hendk001</td>\n",
       "      <td>hendrky01</td>\n",
       "      <td>12049</td>\n",
       "      <td>2014.0</td>\n",
       "      <td>2019.0</td>\n",
       "    </tr>\n",
       "    <tr>\n",
       "      <th>2</th>\n",
       "      <td>FF</td>\n",
       "      <td>2019-09-02</td>\n",
       "      <td>85.6</td>\n",
       "      <td>-2.4557</td>\n",
       "      <td>6.0064</td>\n",
       "      <td>Kyle Hendricks</td>\n",
       "      <td>605480.0</td>\n",
       "      <td>543294.0</td>\n",
       "      <td>field_out</td>\n",
       "      <td>hit_into_play</td>\n",
       "      <td>...</td>\n",
       "      <td>Standard</td>\n",
       "      <td>Standard</td>\n",
       "      <td>hendricks</td>\n",
       "      <td>kyle</td>\n",
       "      <td>543294</td>\n",
       "      <td>hendk001</td>\n",
       "      <td>hendrky01</td>\n",
       "      <td>12049</td>\n",
       "      <td>2014.0</td>\n",
       "      <td>2019.0</td>\n",
       "    </tr>\n",
       "    <tr>\n",
       "      <th>3</th>\n",
       "      <td>CH</td>\n",
       "      <td>2019-09-02</td>\n",
       "      <td>76.9</td>\n",
       "      <td>-2.4274</td>\n",
       "      <td>6.0741</td>\n",
       "      <td>Kyle Hendricks</td>\n",
       "      <td>656954.0</td>\n",
       "      <td>543294.0</td>\n",
       "      <td>strikeout</td>\n",
       "      <td>swinging_strike</td>\n",
       "      <td>...</td>\n",
       "      <td>Standard</td>\n",
       "      <td>Strategic</td>\n",
       "      <td>hendricks</td>\n",
       "      <td>kyle</td>\n",
       "      <td>543294</td>\n",
       "      <td>hendk001</td>\n",
       "      <td>hendrky01</td>\n",
       "      <td>12049</td>\n",
       "      <td>2014.0</td>\n",
       "      <td>2019.0</td>\n",
       "    </tr>\n",
       "    <tr>\n",
       "      <th>4</th>\n",
       "      <td>CU</td>\n",
       "      <td>2019-09-02</td>\n",
       "      <td>71.6</td>\n",
       "      <td>-2.3022</td>\n",
       "      <td>6.0875</td>\n",
       "      <td>Kyle Hendricks</td>\n",
       "      <td>623323.0</td>\n",
       "      <td>543294.0</td>\n",
       "      <td>strikeout</td>\n",
       "      <td>swinging_strike</td>\n",
       "      <td>...</td>\n",
       "      <td>Standard</td>\n",
       "      <td>Standard</td>\n",
       "      <td>hendricks</td>\n",
       "      <td>kyle</td>\n",
       "      <td>543294</td>\n",
       "      <td>hendk001</td>\n",
       "      <td>hendrky01</td>\n",
       "      <td>12049</td>\n",
       "      <td>2014.0</td>\n",
       "      <td>2019.0</td>\n",
       "    </tr>\n",
       "  </tbody>\n",
       "</table>\n",
       "<p>5 rows × 97 columns</p>\n",
       "</div>"
      ],
      "text/plain": [
       "  pitch_type  game_date  release_speed  release_pos_x  release_pos_z  \\\n",
       "0         CH 2019-09-02           78.0        -2.3667         6.1277   \n",
       "1         FF 2019-09-02           86.0        -2.4230         5.9470   \n",
       "2         FF 2019-09-02           85.6        -2.4557         6.0064   \n",
       "3         CH 2019-09-02           76.9        -2.4274         6.0741   \n",
       "4         CU 2019-09-02           71.6        -2.3022         6.0875   \n",
       "\n",
       "      player_name    batter   pitcher     events      description  ...  \\\n",
       "0  Kyle Hendricks  572122.0  543294.0  field_out    hit_into_play  ...   \n",
       "1  Kyle Hendricks  641584.0  543294.0  field_out    hit_into_play  ...   \n",
       "2  Kyle Hendricks  605480.0  543294.0  field_out    hit_into_play  ...   \n",
       "3  Kyle Hendricks  656954.0  543294.0  strikeout  swinging_strike  ...   \n",
       "4  Kyle Hendricks  623323.0  543294.0  strikeout  swinging_strike  ...   \n",
       "\n",
       "  if_fielding_alignment of_fielding_alignment  name_last name_first  \\\n",
       "0         Infield shift              Standard  hendricks       kyle   \n",
       "1              Standard              Standard  hendricks       kyle   \n",
       "2              Standard              Standard  hendricks       kyle   \n",
       "3              Standard             Strategic  hendricks       kyle   \n",
       "4              Standard              Standard  hendricks       kyle   \n",
       "\n",
       "   key_mlbam key_retro  key_bbref key_fangraphs mlb_played_first  \\\n",
       "0     543294  hendk001  hendrky01         12049           2014.0   \n",
       "1     543294  hendk001  hendrky01         12049           2014.0   \n",
       "2     543294  hendk001  hendrky01         12049           2014.0   \n",
       "3     543294  hendk001  hendrky01         12049           2014.0   \n",
       "4     543294  hendk001  hendrky01         12049           2014.0   \n",
       "\n",
       "  mlb_played_last  \n",
       "0          2019.0  \n",
       "1          2019.0  \n",
       "2          2019.0  \n",
       "3          2019.0  \n",
       "4          2019.0  \n",
       "\n",
       "[5 rows x 97 columns]"
      ]
     },
     "execution_count": 1185,
     "metadata": {},
     "output_type": "execute_result"
    },
    {
     "data": {
      "application/javascript": [
       "\n",
       "            setTimeout(function() {\n",
       "                var nbb_cell_id = 1185;\n",
       "                var nbb_unformatted_code = \"df_temp = get_df4sc_info_opp_pitcher(df_sc_events1, date2stop)\\ndf_temp.head()\";\n",
       "                var nbb_formatted_code = \"df_temp = get_df4sc_info_opp_pitcher(df_sc_events1, date2stop)\\ndf_temp.head()\";\n",
       "                var nbb_cells = Jupyter.notebook.get_cells();\n",
       "                for (var i = 0; i < nbb_cells.length; ++i) {\n",
       "                    if (nbb_cells[i].input_prompt_number == nbb_cell_id) {\n",
       "                        if (nbb_cells[i].get_text() == nbb_unformatted_code) {\n",
       "                             nbb_cells[i].set_text(nbb_formatted_code);\n",
       "                        }\n",
       "                        break;\n",
       "                    }\n",
       "                }\n",
       "            }, 500);\n",
       "            "
      ],
      "text/plain": [
       "<IPython.core.display.Javascript object>"
      ]
     },
     "metadata": {},
     "output_type": "display_data"
    }
   ],
   "source": [
    "# df_temp = get_df4sc_info_opp_pitcher(df_sc_events1, date2stop)\n",
    "# df_temp.head()"
   ]
  },
  {
   "cell_type": "code",
   "execution_count": 1096,
   "metadata": {
    "ExecuteTime": {
     "end_time": "2020-01-27T20:25:55.489990Z",
     "start_time": "2020-01-27T20:25:55.483254Z"
    },
    "code_folding": [
     0
    ]
   },
   "outputs": [
    {
     "data": {
      "application/javascript": [
       "\n",
       "            setTimeout(function() {\n",
       "                var nbb_cell_id = 1096;\n",
       "                var nbb_unformatted_code = \"# Get pitch characteristics - lower priority\\n\\n# fastball velocity, fastball proportion, breaking ball velocity\\n# df_sc_pitcher.groupby(\\\"pitch_type\\\")[\\\"release_speed\\\"].mean()\\n\\n# df_sc_pitcher.groupby(\\\"pitch_type\\\")[\\\"release_speed\\\"].mean()\";\n",
       "                var nbb_formatted_code = \"# Get pitch characteristics - lower priority\\n\\n# fastball velocity, fastball proportion, breaking ball velocity\\n# df_sc_pitcher.groupby(\\\"pitch_type\\\")[\\\"release_speed\\\"].mean()\\n\\n# df_sc_pitcher.groupby(\\\"pitch_type\\\")[\\\"release_speed\\\"].mean()\";\n",
       "                var nbb_cells = Jupyter.notebook.get_cells();\n",
       "                for (var i = 0; i < nbb_cells.length; ++i) {\n",
       "                    if (nbb_cells[i].input_prompt_number == nbb_cell_id) {\n",
       "                        if (nbb_cells[i].get_text() == nbb_unformatted_code) {\n",
       "                             nbb_cells[i].set_text(nbb_formatted_code);\n",
       "                        }\n",
       "                        break;\n",
       "                    }\n",
       "                }\n",
       "            }, 500);\n",
       "            "
      ],
      "text/plain": [
       "<IPython.core.display.Javascript object>"
      ]
     },
     "metadata": {},
     "output_type": "display_data"
    }
   ],
   "source": [
    "# Get pitch characteristics - lower priority\n",
    "\n",
    "# fastball velocity, fastball proportion, breaking ball velocity\n",
    "# df_sc_pitcher.groupby(\"pitch_type\")[\"release_speed\"].mean()\n",
    "\n",
    "# df_sc_pitcher.groupby(\"pitch_type\")[\"release_speed\"].mean()"
   ]
  },
  {
   "cell_type": "code",
   "execution_count": 1240,
   "metadata": {
    "ExecuteTime": {
     "end_time": "2020-01-28T00:16:57.792427Z",
     "start_time": "2020-01-28T00:16:57.759496Z"
    },
    "code_folding": [
     0
    ]
   },
   "outputs": [
    {
     "data": {
      "application/javascript": [
       "\n",
       "            setTimeout(function() {\n",
       "                var nbb_cell_id = 1240;\n",
       "                var nbb_unformatted_code = \"def get_series4model_4pitcher_for_ab(df, n_back_PA):\\n    \\\"\\\"\\\"\\n    Function for getting summarized series for that pitcher\\n    \\\"\\\"\\\"\\n    # sample values -----------\\n    # n_back_PA = 100\\n    # df = df_sc_events.copy()\\n    # pid = pid_of_interest1\\n    # m_size = 200\\n\\n    # -------------------------\\n\\n    # Reset index so that code below works\\n    # df.reset_index(inplace=True)\\n\\n    df = df.iloc[0 : n_back_PA + 5, :].copy()\\n\\n    # Encode on-base events, including walks\\n    ob_list = [\\\"walk\\\", \\\"single\\\", \\\"double\\\", \\\"triple\\\", \\\"home_run\\\"]\\n    df[\\\"event_code\\\"] = 0\\n    df.loc[df[\\\"events\\\"].isin(ob_list), \\\"event_code\\\"] = 1\\n\\n    # Sum of on-base events - critical that order matters! (should be addressed above)\\n    # rolling was close, but needed to tweak\\n\\n    s_for_summary = pd.Series()\\n\\n    # Total number of events\\n    s_for_summary[\\\"num_events_sum_nback_bs\\\"] = df[\\\"event_code\\\"].iloc[0:n_back_PA].sum()\\n    # Percent of on-base events (overall)\\n    s_for_summary[\\\"prop_events_nback_bs\\\"] = (\\n        s_for_summary[\\\"num_events_sum_nback_bs\\\"] / n_back_PA\\n    )\\n\\n    # Percent of on-base events against handedness of batter\\n    # Tweaked code from old function, just need first row\\n    for i_stand in [\\\"L\\\", \\\"R\\\"]:\\n        df_b_stand = df[df[\\\"stand\\\"] == i_stand]\\n        n_bat_events = df_b_stand[\\\"event_code\\\"].iloc[0:n_back_PA].sum()\\n        s_for_summary[\\\"num_events_sum_nback_bs\\\" + \\\"_\\\" + i_stand] = n_bat_events\\n        s_for_summary[\\\"prop_events_sum_nback_bs\\\" + \\\"_\\\" + i_stand] = (\\n            n_bat_events / n_back_PA\\n        )\\n\\n    return s_for_summary\";\n",
       "                var nbb_formatted_code = \"def get_series4model_4pitcher_for_ab(df, n_back_PA):\\n    \\\"\\\"\\\"\\n    Function for getting summarized series for that pitcher\\n    \\\"\\\"\\\"\\n    # sample values -----------\\n    # n_back_PA = 100\\n    # df = df_sc_events.copy()\\n    # pid = pid_of_interest1\\n    # m_size = 200\\n\\n    # -------------------------\\n\\n    # Reset index so that code below works\\n    # df.reset_index(inplace=True)\\n\\n    df = df.iloc[0 : n_back_PA + 5, :].copy()\\n\\n    # Encode on-base events, including walks\\n    ob_list = [\\\"walk\\\", \\\"single\\\", \\\"double\\\", \\\"triple\\\", \\\"home_run\\\"]\\n    df[\\\"event_code\\\"] = 0\\n    df.loc[df[\\\"events\\\"].isin(ob_list), \\\"event_code\\\"] = 1\\n\\n    # Sum of on-base events - critical that order matters! (should be addressed above)\\n    # rolling was close, but needed to tweak\\n\\n    s_for_summary = pd.Series()\\n\\n    # Total number of events\\n    s_for_summary[\\\"num_events_sum_nback_bs\\\"] = df[\\\"event_code\\\"].iloc[0:n_back_PA].sum()\\n    # Percent of on-base events (overall)\\n    s_for_summary[\\\"prop_events_nback_bs\\\"] = (\\n        s_for_summary[\\\"num_events_sum_nback_bs\\\"] / n_back_PA\\n    )\\n\\n    # Percent of on-base events against handedness of batter\\n    # Tweaked code from old function, just need first row\\n    for i_stand in [\\\"L\\\", \\\"R\\\"]:\\n        df_b_stand = df[df[\\\"stand\\\"] == i_stand]\\n        n_bat_events = df_b_stand[\\\"event_code\\\"].iloc[0:n_back_PA].sum()\\n        s_for_summary[\\\"num_events_sum_nback_bs\\\" + \\\"_\\\" + i_stand] = n_bat_events\\n        s_for_summary[\\\"prop_events_sum_nback_bs\\\" + \\\"_\\\" + i_stand] = (\\n            n_bat_events / n_back_PA\\n        )\\n\\n    return s_for_summary\";\n",
       "                var nbb_cells = Jupyter.notebook.get_cells();\n",
       "                for (var i = 0; i < nbb_cells.length; ++i) {\n",
       "                    if (nbb_cells[i].input_prompt_number == nbb_cell_id) {\n",
       "                        if (nbb_cells[i].get_text() == nbb_unformatted_code) {\n",
       "                             nbb_cells[i].set_text(nbb_formatted_code);\n",
       "                        }\n",
       "                        break;\n",
       "                    }\n",
       "                }\n",
       "            }, 500);\n",
       "            "
      ],
      "text/plain": [
       "<IPython.core.display.Javascript object>"
      ]
     },
     "metadata": {},
     "output_type": "display_data"
    }
   ],
   "source": [
    "def get_series4model_4pitcher_for_ab(df, n_back_PA):\n",
    "    \"\"\"\n",
    "    Function for getting summarized series for that pitcher\n",
    "    \"\"\"\n",
    "    # sample values -----------\n",
    "    # n_back_PA = 100\n",
    "    # df = df_sc_events.copy()\n",
    "    # pid = pid_of_interest1\n",
    "    # m_size = 200\n",
    "\n",
    "    # -------------------------\n",
    "\n",
    "    # Reset index so that code below works\n",
    "    # df.reset_index(inplace=True)\n",
    "\n",
    "    df = df.iloc[0 : n_back_PA + 5, :].copy()\n",
    "\n",
    "    # Encode on-base events, including walks\n",
    "    ob_list = [\"walk\", \"single\", \"double\", \"triple\", \"home_run\"]\n",
    "    df[\"event_code\"] = 0\n",
    "    df.loc[df[\"events\"].isin(ob_list), \"event_code\"] = 1\n",
    "\n",
    "    # Sum of on-base events - critical that order matters! (should be addressed above)\n",
    "    # rolling was close, but needed to tweak\n",
    "\n",
    "    s_for_summary = pd.Series()\n",
    "\n",
    "    # Total number of events\n",
    "    s_for_summary[\"num_events_sum_nback_bs\"] = df[\"event_code\"].iloc[0:n_back_PA].sum()\n",
    "    # Percent of on-base events (overall)\n",
    "    s_for_summary[\"prop_events_nback_bs\"] = (\n",
    "        s_for_summary[\"num_events_sum_nback_bs\"] / n_back_PA\n",
    "    )\n",
    "\n",
    "    # Percent of on-base events against handedness of batter\n",
    "    # Tweaked code from old function, just need first row\n",
    "    for i_stand in [\"L\", \"R\"]:\n",
    "        df_b_stand = df[df[\"stand\"] == i_stand]\n",
    "        n_bat_events = df_b_stand[\"event_code\"].iloc[0:n_back_PA].sum()\n",
    "        s_for_summary[\"num_events_sum_nback_bs\" + \"_\" + i_stand] = n_bat_events\n",
    "        s_for_summary[\"prop_events_sum_nback_bs\" + \"_\" + i_stand] = (\n",
    "            n_bat_events / n_back_PA\n",
    "        )\n",
    "\n",
    "    return s_for_summary"
   ]
  },
  {
   "cell_type": "code",
   "execution_count": 1233,
   "metadata": {
    "ExecuteTime": {
     "end_time": "2020-01-28T00:13:51.098518Z",
     "start_time": "2020-01-28T00:13:51.082367Z"
    }
   },
   "outputs": [
    {
     "data": {
      "application/javascript": [
       "\n",
       "            setTimeout(function() {\n",
       "                var nbb_cell_id = 1233;\n",
       "                var nbb_unformatted_code = \"col2add2df = [\\n    \\\"num_events_sum_nback_bs\\\",\\n    \\\"prop_events_nback_bs\\\",\\n    \\\"num_events_sum_nback_bs_L\\\",\\n    \\\"prop_events_sum_nback_bs_L\\\",\\n    \\\"num_events_sum_nback_bs_R\\\",\\n    \\\"prop_events_sum_nback_bs_R\\\",\\n]\\nfor col in col2add2df:\\n    df_sc_events1_temp[col] = None\";\n",
       "                var nbb_formatted_code = \"col2add2df = [\\n    \\\"num_events_sum_nback_bs\\\",\\n    \\\"prop_events_nback_bs\\\",\\n    \\\"num_events_sum_nback_bs_L\\\",\\n    \\\"prop_events_sum_nback_bs_L\\\",\\n    \\\"num_events_sum_nback_bs_R\\\",\\n    \\\"prop_events_sum_nback_bs_R\\\",\\n]\\nfor col in col2add2df:\\n    df_sc_events1_temp[col] = None\";\n",
       "                var nbb_cells = Jupyter.notebook.get_cells();\n",
       "                for (var i = 0; i < nbb_cells.length; ++i) {\n",
       "                    if (nbb_cells[i].input_prompt_number == nbb_cell_id) {\n",
       "                        if (nbb_cells[i].get_text() == nbb_unformatted_code) {\n",
       "                             nbb_cells[i].set_text(nbb_formatted_code);\n",
       "                        }\n",
       "                        break;\n",
       "                    }\n",
       "                }\n",
       "            }, 500);\n",
       "            "
      ],
      "text/plain": [
       "<IPython.core.display.Javascript object>"
      ]
     },
     "metadata": {},
     "output_type": "display_data"
    }
   ],
   "source": []
  },
  {
   "cell_type": "code",
   "execution_count": 1252,
   "metadata": {
    "ExecuteTime": {
     "end_time": "2020-01-28T00:22:21.572599Z",
     "start_time": "2020-01-28T00:22:12.502141Z"
    },
    "code_folding": []
   },
   "outputs": [
    {
     "name": "stdout",
     "output_type": "stream",
     "text": [
      "0 starting pitcher list:  543294.0\n",
      "\n",
      "    (SELECT * FROM statcast \n",
      "    JOIN player_id ON statcast.pitcher=player_id.key_mlbam \n",
      "    WHERE statcast.pitcher= \n",
      "    543294.0\n",
      "    AND statcast.game_date<\n",
      "    '2019-09-09' \n",
      "    AND statcast.events IS NOT NULL \n",
      "    ORDER BY statcast.game_date DESC, \n",
      "    statcast.index ASC \n",
      "    LIMIT \n",
      "    500);\n",
      "1 same pitcher:  543294.0\n",
      "2 same pitcher:  543294.0\n",
      "3 new pitcher: from  543294.0 to  622786.0\n",
      "\n",
      "    (SELECT * FROM statcast \n",
      "    JOIN player_id ON statcast.pitcher=player_id.key_mlbam \n",
      "    WHERE statcast.pitcher= \n",
      "    622786.0\n",
      "    AND statcast.game_date<\n",
      "    '2019-09-09' \n",
      "    AND statcast.events IS NOT NULL \n",
      "    ORDER BY statcast.game_date DESC, \n",
      "    statcast.index ASC \n",
      "    LIMIT \n",
      "    500);\n",
      "4 new pitcher: from  622786.0 to  543766.0\n",
      "\n",
      "    (SELECT * FROM statcast \n",
      "    JOIN player_id ON statcast.pitcher=player_id.key_mlbam \n",
      "    WHERE statcast.pitcher= \n",
      "    543766.0\n",
      "    AND statcast.game_date<\n",
      "    '2019-09-09' \n",
      "    AND statcast.events IS NOT NULL \n",
      "    ORDER BY statcast.game_date DESC, \n",
      "    statcast.index ASC \n",
      "    LIMIT \n",
      "    500);\n"
     ]
    },
    {
     "data": {
      "application/javascript": [
       "\n",
       "            setTimeout(function() {\n",
       "                var nbb_cell_id = 1252;\n",
       "                var nbb_unformatted_code = \"col2add2df = ([\\n    \\\"num_events_sum_nback_bs\\\",\\n    \\\"prop_events_nback_bs\\\",\\n    \\\"num_events_sum_nback_bs_L\\\",\\n    \\\"prop_events_sum_nback_bs_L\\\",\\n    \\\"num_events_sum_nback_bs_R\\\",\\n    \\\"prop_events_sum_nback_bs_R\\\",\\n])\\n\\nfor col in col2add2df:\\n    df_sc_events1_temp[col] = None\\n\\nfor i, pitcher in enumerate(df_sc_events1_temp[\\\"pitcher\\\"]):\\n    \\n    date2stop = df_sc_events1_temp[\\\"game_date\\\"].iloc[i]\\n    if i == 0:\\n        pid_opp_in_mem = pitcher\\n        print(i, \\\"starting pitcher list: \\\", pitcher)\\n        \\n        # Get data from SQL        \\n        df_p_info4date = get_df4sc_info_opp_pitcher(pid_opp_in_mem, date2stop)\\n        p_summary = get_series4model_4pitcher_for_ab(df_p_info4date, 100)\\n        \\n        # Add series to df\\n        df_sc_events1_temp.loc[i, col2add2df] = p_summary\\n        \\n    elif (pitcher == pid_opp_in_mem) & (i > 0):\\n        print(i, \\\"same pitcher: \\\", pitcher)\\n        pid_opp_in_mem = pitcher\\n        \\n        # Add series to df\\n        df_sc_events1_temp.loc[i, col2add2df] = p_summary\\n        \\n    else:\\n        print(i, \\\"new pitcher: from \\\", pid_opp_in_mem, \\\"to \\\", pitcher)\\n        pid_opp_in_mem = pitcher\\n        \\n        # SQL entry\\n        # Get data from SQL        \\n        df_p_info4date = get_df4sc_info_opp_pitcher(pid_opp_in_mem, date2stop)\\n        p_summary = get_series4model_4pitcher_for_ab(df_p_info4date, 100)\\n        \\n        # Add series to df\\n        df_sc_events1_temp.loc[i, col2add2df] = p_summary\";\n",
       "                var nbb_formatted_code = \"col2add2df = [\\n    \\\"num_events_sum_nback_bs\\\",\\n    \\\"prop_events_nback_bs\\\",\\n    \\\"num_events_sum_nback_bs_L\\\",\\n    \\\"prop_events_sum_nback_bs_L\\\",\\n    \\\"num_events_sum_nback_bs_R\\\",\\n    \\\"prop_events_sum_nback_bs_R\\\",\\n]\\n\\nfor col in col2add2df:\\n    df_sc_events1_temp[col] = None\\n\\nfor i, pitcher in enumerate(df_sc_events1_temp[\\\"pitcher\\\"]):\\n\\n    date2stop = df_sc_events1_temp[\\\"game_date\\\"].iloc[i]\\n    if i == 0:\\n        pid_opp_in_mem = pitcher\\n        print(i, \\\"starting pitcher list: \\\", pitcher)\\n\\n        # Get data from SQL\\n        df_p_info4date = get_df4sc_info_opp_pitcher(pid_opp_in_mem, date2stop)\\n        p_summary = get_series4model_4pitcher_for_ab(df_p_info4date, 100)\\n\\n        # Add series to df\\n        df_sc_events1_temp.loc[i, col2add2df] = p_summary\\n\\n    elif (pitcher == pid_opp_in_mem) & (i > 0):\\n        print(i, \\\"same pitcher: \\\", pitcher)\\n        pid_opp_in_mem = pitcher\\n\\n        # Add series to df\\n        df_sc_events1_temp.loc[i, col2add2df] = p_summary\\n\\n    else:\\n        print(i, \\\"new pitcher: from \\\", pid_opp_in_mem, \\\"to \\\", pitcher)\\n        pid_opp_in_mem = pitcher\\n\\n        # SQL entry\\n        # Get data from SQL\\n        df_p_info4date = get_df4sc_info_opp_pitcher(pid_opp_in_mem, date2stop)\\n        p_summary = get_series4model_4pitcher_for_ab(df_p_info4date, 100)\\n\\n        # Add series to df\\n        df_sc_events1_temp.loc[i, col2add2df] = p_summary\";\n",
       "                var nbb_cells = Jupyter.notebook.get_cells();\n",
       "                for (var i = 0; i < nbb_cells.length; ++i) {\n",
       "                    if (nbb_cells[i].input_prompt_number == nbb_cell_id) {\n",
       "                        if (nbb_cells[i].get_text() == nbb_unformatted_code) {\n",
       "                             nbb_cells[i].set_text(nbb_formatted_code);\n",
       "                        }\n",
       "                        break;\n",
       "                    }\n",
       "                }\n",
       "            }, 500);\n",
       "            "
      ],
      "text/plain": [
       "<IPython.core.display.Javascript object>"
      ]
     },
     "metadata": {},
     "output_type": "display_data"
    }
   ],
   "source": [
    "col2add2df = ([\n",
    "    \"num_events_sum_nback_bs\",\n",
    "    \"prop_events_nback_bs\",\n",
    "    \"num_events_sum_nback_bs_L\",\n",
    "    \"prop_events_sum_nback_bs_L\",\n",
    "    \"num_events_sum_nback_bs_R\",\n",
    "    \"prop_events_sum_nback_bs_R\",\n",
    "])\n",
    "\n",
    "for col in col2add2df:\n",
    "    df_sc_events1_temp[col] = None\n",
    "\n",
    "for i, pitcher in enumerate(df_sc_events1_temp[\"pitcher\"]):\n",
    "    \n",
    "    date2stop = df_sc_events1_temp[\"game_date\"].iloc[i]\n",
    "    if i == 0:\n",
    "        pid_opp_in_mem = pitcher\n",
    "        print(i, \"starting pitcher list: \", pitcher)\n",
    "        \n",
    "        # Get data from SQL        \n",
    "        df_p_info4date = get_df4sc_info_opp_pitcher(pid_opp_in_mem, date2stop)\n",
    "        p_summary = get_series4model_4pitcher_for_ab(df_p_info4date, 100)\n",
    "        \n",
    "        # Add series to df\n",
    "        df_sc_events1_temp.loc[i, col2add2df] = p_summary\n",
    "        \n",
    "    elif (pitcher == pid_opp_in_mem) & (i > 0):\n",
    "        print(i, \"same pitcher: \", pitcher)\n",
    "        pid_opp_in_mem = pitcher\n",
    "        \n",
    "        # Add series to df\n",
    "        df_sc_events1_temp.loc[i, col2add2df] = p_summary\n",
    "        \n",
    "    else:\n",
    "        print(i, \"new pitcher: from \", pid_opp_in_mem, \"to \", pitcher)\n",
    "        pid_opp_in_mem = pitcher\n",
    "        \n",
    "        # SQL entry\n",
    "        # Get data from SQL        \n",
    "        df_p_info4date = get_df4sc_info_opp_pitcher(pid_opp_in_mem, date2stop)\n",
    "        p_summary = get_series4model_4pitcher_for_ab(df_p_info4date, 100)\n",
    "        \n",
    "        # Add series to df\n",
    "        df_sc_events1_temp.loc[i, col2add2df] = p_summary\n"
   ]
  },
  {
   "cell_type": "code",
   "execution_count": 1253,
   "metadata": {
    "ExecuteTime": {
     "end_time": "2020-01-28T00:22:31.925921Z",
     "start_time": "2020-01-28T00:22:31.885797Z"
    }
   },
   "outputs": [
    {
     "data": {
      "text/html": [
       "<div>\n",
       "<style scoped>\n",
       "    .dataframe tbody tr th:only-of-type {\n",
       "        vertical-align: middle;\n",
       "    }\n",
       "\n",
       "    .dataframe tbody tr th {\n",
       "        vertical-align: top;\n",
       "    }\n",
       "\n",
       "    .dataframe thead th {\n",
       "        text-align: right;\n",
       "    }\n",
       "</style>\n",
       "<table border=\"1\" class=\"dataframe\">\n",
       "  <thead>\n",
       "    <tr style=\"text-align: right;\">\n",
       "      <th></th>\n",
       "      <th>pitch_type</th>\n",
       "      <th>game_date</th>\n",
       "      <th>release_speed</th>\n",
       "      <th>release_pos_x</th>\n",
       "      <th>release_pos_z</th>\n",
       "      <th>player_name</th>\n",
       "      <th>batter</th>\n",
       "      <th>pitcher</th>\n",
       "      <th>events</th>\n",
       "      <th>description</th>\n",
       "      <th>...</th>\n",
       "      <th>key_bbref</th>\n",
       "      <th>key_fangraphs</th>\n",
       "      <th>mlb_played_first</th>\n",
       "      <th>mlb_played_last</th>\n",
       "      <th>num_events_sum_nback_bs</th>\n",
       "      <th>prop_events_nback_bs</th>\n",
       "      <th>num_events_sum_nback_bs_L</th>\n",
       "      <th>prop_events_sum_nback_bs_L</th>\n",
       "      <th>num_events_sum_nback_bs_R</th>\n",
       "      <th>prop_events_sum_nback_bs_R</th>\n",
       "    </tr>\n",
       "  </thead>\n",
       "  <tbody>\n",
       "    <tr>\n",
       "      <th>0</th>\n",
       "      <td>SI</td>\n",
       "      <td>2019-09-09</td>\n",
       "      <td>84.7</td>\n",
       "      <td>-2.3591</td>\n",
       "      <td>5.8620</td>\n",
       "      <td>Kyle Hendricks</td>\n",
       "      <td>592518.0</td>\n",
       "      <td>543294.0</td>\n",
       "      <td>single</td>\n",
       "      <td>hit_into_play_no_out</td>\n",
       "      <td>...</td>\n",
       "      <td>machama01</td>\n",
       "      <td>11493</td>\n",
       "      <td>2012.0</td>\n",
       "      <td>2019.0</td>\n",
       "      <td>26</td>\n",
       "      <td>0.26</td>\n",
       "      <td>14</td>\n",
       "      <td>0.14</td>\n",
       "      <td>14</td>\n",
       "      <td>0.14</td>\n",
       "    </tr>\n",
       "    <tr>\n",
       "      <th>1</th>\n",
       "      <td>SI</td>\n",
       "      <td>2019-09-09</td>\n",
       "      <td>85.4</td>\n",
       "      <td>-2.4186</td>\n",
       "      <td>5.8800</td>\n",
       "      <td>Kyle Hendricks</td>\n",
       "      <td>592518.0</td>\n",
       "      <td>543294.0</td>\n",
       "      <td>single</td>\n",
       "      <td>hit_into_play_no_out</td>\n",
       "      <td>...</td>\n",
       "      <td>machama01</td>\n",
       "      <td>11493</td>\n",
       "      <td>2012.0</td>\n",
       "      <td>2019.0</td>\n",
       "      <td>26</td>\n",
       "      <td>0.26</td>\n",
       "      <td>14</td>\n",
       "      <td>0.14</td>\n",
       "      <td>14</td>\n",
       "      <td>0.14</td>\n",
       "    </tr>\n",
       "    <tr>\n",
       "      <th>2</th>\n",
       "      <td>CU</td>\n",
       "      <td>2019-09-09</td>\n",
       "      <td>71.5</td>\n",
       "      <td>-2.2610</td>\n",
       "      <td>5.9986</td>\n",
       "      <td>Kyle Hendricks</td>\n",
       "      <td>592518.0</td>\n",
       "      <td>543294.0</td>\n",
       "      <td>field_out</td>\n",
       "      <td>hit_into_play</td>\n",
       "      <td>...</td>\n",
       "      <td>machama01</td>\n",
       "      <td>11493</td>\n",
       "      <td>2012.0</td>\n",
       "      <td>2019.0</td>\n",
       "      <td>26</td>\n",
       "      <td>0.26</td>\n",
       "      <td>14</td>\n",
       "      <td>0.14</td>\n",
       "      <td>14</td>\n",
       "      <td>0.14</td>\n",
       "    </tr>\n",
       "    <tr>\n",
       "      <th>3</th>\n",
       "      <td>SI</td>\n",
       "      <td>2019-09-08</td>\n",
       "      <td>92.4</td>\n",
       "      <td>-1.2178</td>\n",
       "      <td>6.0300</td>\n",
       "      <td>Jesus Tinoco</td>\n",
       "      <td>592518.0</td>\n",
       "      <td>622786.0</td>\n",
       "      <td>walk</td>\n",
       "      <td>ball</td>\n",
       "      <td>...</td>\n",
       "      <td>machama01</td>\n",
       "      <td>11493</td>\n",
       "      <td>2012.0</td>\n",
       "      <td>2019.0</td>\n",
       "      <td>36</td>\n",
       "      <td>0.36</td>\n",
       "      <td>22</td>\n",
       "      <td>0.22</td>\n",
       "      <td>17</td>\n",
       "      <td>0.17</td>\n",
       "    </tr>\n",
       "    <tr>\n",
       "      <th>4</th>\n",
       "      <td>FC</td>\n",
       "      <td>2019-09-08</td>\n",
       "      <td>93.2</td>\n",
       "      <td>-2.9951</td>\n",
       "      <td>6.0254</td>\n",
       "      <td>Bryan Shaw</td>\n",
       "      <td>592518.0</td>\n",
       "      <td>543766.0</td>\n",
       "      <td>walk</td>\n",
       "      <td>ball</td>\n",
       "      <td>...</td>\n",
       "      <td>machama01</td>\n",
       "      <td>11493</td>\n",
       "      <td>2012.0</td>\n",
       "      <td>2019.0</td>\n",
       "      <td>35</td>\n",
       "      <td>0.35</td>\n",
       "      <td>9</td>\n",
       "      <td>0.09</td>\n",
       "      <td>26</td>\n",
       "      <td>0.26</td>\n",
       "    </tr>\n",
       "  </tbody>\n",
       "</table>\n",
       "<p>5 rows × 103 columns</p>\n",
       "</div>"
      ],
      "text/plain": [
       "  pitch_type  game_date  release_speed  release_pos_x  release_pos_z  \\\n",
       "0         SI 2019-09-09           84.7        -2.3591         5.8620   \n",
       "1         SI 2019-09-09           85.4        -2.4186         5.8800   \n",
       "2         CU 2019-09-09           71.5        -2.2610         5.9986   \n",
       "3         SI 2019-09-08           92.4        -1.2178         6.0300   \n",
       "4         FC 2019-09-08           93.2        -2.9951         6.0254   \n",
       "\n",
       "      player_name    batter   pitcher     events           description  ...  \\\n",
       "0  Kyle Hendricks  592518.0  543294.0     single  hit_into_play_no_out  ...   \n",
       "1  Kyle Hendricks  592518.0  543294.0     single  hit_into_play_no_out  ...   \n",
       "2  Kyle Hendricks  592518.0  543294.0  field_out         hit_into_play  ...   \n",
       "3    Jesus Tinoco  592518.0  622786.0       walk                  ball  ...   \n",
       "4      Bryan Shaw  592518.0  543766.0       walk                  ball  ...   \n",
       "\n",
       "   key_bbref key_fangraphs mlb_played_first mlb_played_last  \\\n",
       "0  machama01         11493           2012.0          2019.0   \n",
       "1  machama01         11493           2012.0          2019.0   \n",
       "2  machama01         11493           2012.0          2019.0   \n",
       "3  machama01         11493           2012.0          2019.0   \n",
       "4  machama01         11493           2012.0          2019.0   \n",
       "\n",
       "   num_events_sum_nback_bs prop_events_nback_bs num_events_sum_nback_bs_L  \\\n",
       "0                       26                 0.26                        14   \n",
       "1                       26                 0.26                        14   \n",
       "2                       26                 0.26                        14   \n",
       "3                       36                 0.36                        22   \n",
       "4                       35                 0.35                         9   \n",
       "\n",
       "  prop_events_sum_nback_bs_L num_events_sum_nback_bs_R  \\\n",
       "0                       0.14                        14   \n",
       "1                       0.14                        14   \n",
       "2                       0.14                        14   \n",
       "3                       0.22                        17   \n",
       "4                       0.09                        26   \n",
       "\n",
       "  prop_events_sum_nback_bs_R  \n",
       "0                       0.14  \n",
       "1                       0.14  \n",
       "2                       0.14  \n",
       "3                       0.17  \n",
       "4                       0.26  \n",
       "\n",
       "[5 rows x 103 columns]"
      ]
     },
     "execution_count": 1253,
     "metadata": {},
     "output_type": "execute_result"
    },
    {
     "data": {
      "application/javascript": [
       "\n",
       "            setTimeout(function() {\n",
       "                var nbb_cell_id = 1253;\n",
       "                var nbb_unformatted_code = \"df_sc_events1_temp.head()\";\n",
       "                var nbb_formatted_code = \"df_sc_events1_temp.head()\";\n",
       "                var nbb_cells = Jupyter.notebook.get_cells();\n",
       "                for (var i = 0; i < nbb_cells.length; ++i) {\n",
       "                    if (nbb_cells[i].input_prompt_number == nbb_cell_id) {\n",
       "                        if (nbb_cells[i].get_text() == nbb_unformatted_code) {\n",
       "                             nbb_cells[i].set_text(nbb_formatted_code);\n",
       "                        }\n",
       "                        break;\n",
       "                    }\n",
       "                }\n",
       "            }, 500);\n",
       "            "
      ],
      "text/plain": [
       "<IPython.core.display.Javascript object>"
      ]
     },
     "metadata": {},
     "output_type": "display_data"
    }
   ],
   "source": [
    "df_sc_events1_temp.head()"
   ]
  },
  {
   "cell_type": "code",
   "execution_count": null,
   "metadata": {},
   "outputs": [],
   "source": []
  },
  {
   "cell_type": "code",
   "execution_count": null,
   "metadata": {},
   "outputs": [],
   "source": []
  },
  {
   "cell_type": "code",
   "execution_count": null,
   "metadata": {},
   "outputs": [],
   "source": []
  },
  {
   "cell_type": "code",
   "execution_count": null,
   "metadata": {},
   "outputs": [],
   "source": []
  },
  {
   "cell_type": "code",
   "execution_count": null,
   "metadata": {},
   "outputs": [],
   "source": []
  },
  {
   "cell_type": "code",
   "execution_count": null,
   "metadata": {},
   "outputs": [],
   "source": []
  },
  {
   "cell_type": "code",
   "execution_count": null,
   "metadata": {},
   "outputs": [],
   "source": []
  },
  {
   "cell_type": "markdown",
   "metadata": {},
   "source": [
    "# Pitcher features of pitch level"
   ]
  },
  {
   "cell_type": "code",
   "execution_count": null,
   "metadata": {},
   "outputs": [],
   "source": []
  },
  {
   "cell_type": "code",
   "execution_count": null,
   "metadata": {},
   "outputs": [],
   "source": []
  },
  {
   "cell_type": "markdown",
   "metadata": {},
   "source": [
    "# Is coefficient of player predictive?\n",
    "\n",
    "- Combine DFs of A and B\n",
    "- Just use A and B (with feature encoding) for the input with inputs\n"
   ]
  },
  {
   "cell_type": "code",
   "execution_count": null,
   "metadata": {},
   "outputs": [],
   "source": []
  }
 ],
 "metadata": {
  "kernelspec": {
   "display_name": "Python 3",
   "language": "python",
   "name": "python3"
  },
  "language_info": {
   "codemirror_mode": {
    "name": "ipython",
    "version": 3
   },
   "file_extension": ".py",
   "mimetype": "text/x-python",
   "name": "python",
   "nbconvert_exporter": "python",
   "pygments_lexer": "ipython3",
   "version": "3.6.9"
  },
  "toc": {
   "base_numbering": 1,
   "nav_menu": {},
   "number_sections": true,
   "sideBar": true,
   "skip_h1_title": false,
   "title_cell": "Table of Contents",
   "title_sidebar": "Contents",
   "toc_cell": false,
   "toc_position": {
    "height": "calc(100% - 180px)",
    "left": "10px",
    "top": "150px",
    "width": "194.03750610351562px"
   },
   "toc_section_display": true,
   "toc_window_display": true
  },
  "varInspector": {
   "cols": {
    "lenName": 16,
    "lenType": 16,
    "lenVar": 40
   },
   "kernels_config": {
    "python": {
     "delete_cmd_postfix": "",
     "delete_cmd_prefix": "del ",
     "library": "var_list.py",
     "varRefreshCmd": "print(var_dic_list())"
    },
    "r": {
     "delete_cmd_postfix": ") ",
     "delete_cmd_prefix": "rm(",
     "library": "var_list.r",
     "varRefreshCmd": "cat(var_dic_list()) "
    }
   },
   "types_to_exclude": [
    "module",
    "function",
    "builtin_function_or_method",
    "instance",
    "_Feature"
   ],
   "window_display": false
  }
 },
 "nbformat": 4,
 "nbformat_minor": 2
}
