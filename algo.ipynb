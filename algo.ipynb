{
 "cells": [
  {
   "cell_type": "code",
   "execution_count": 1,
   "metadata": {
    "ExecuteTime": {
     "end_time": "2020-02-12T17:54:11.312913Z",
     "start_time": "2020-02-12T17:54:10.292241Z"
    }
   },
   "outputs": [],
   "source": [
    "import numpy as np\n",
    "import pandas as pd"
   ]
  },
  {
   "cell_type": "code",
   "execution_count": null,
   "metadata": {},
   "outputs": [],
   "source": [
    "LC = leetcode\n",
    "WB = whiteboard\n",
    "O = other\n"
   ]
  },
  {
   "cell_type": "markdown",
   "metadata": {},
   "source": [
    "# LC: twoSum"
   ]
  },
  {
   "cell_type": "markdown",
   "metadata": {},
   "source": [
    "Given an array of integers, return indices of the two numbers such that they add up to a specific target.\n",
    "\n",
    "You may assume that each input would have exactly one solution, and you may not use the same element twice.\n",
    "\n",
    "Example: Given nums = [2, 7, 11, 15], target = 9,\n",
    "\n",
    "Because nums[0] + nums[1] = 2 + 7 = 9,\n",
    "return [0, 1]."
   ]
  },
  {
   "cell_type": "markdown",
   "metadata": {
    "ExecuteTime": {
     "end_time": "2020-02-13T22:47:57.377562Z",
     "start_time": "2020-02-13T22:47:57.371544Z"
    }
   },
   "source": [
    "## Brute force way\n",
    "\n",
    "Make all combinations"
   ]
  },
  {
   "cell_type": "code",
   "execution_count": 179,
   "metadata": {
    "ExecuteTime": {
     "end_time": "2020-02-17T23:43:03.658199Z",
     "start_time": "2020-02-17T23:43:03.495418Z"
    }
   },
   "outputs": [],
   "source": [
    "def twoSum(nums, target):\n",
    "    total_list = list()\n",
    "    for i, first_num in enumerate(nums):\n",
    "        #print('first num: ', first_num)\n",
    "        if i < len(nums):\n",
    "            for j, second_num in enumerate(nums[i+1:]):\n",
    "                #print('second num: ', second_num)\n",
    "                total = first_num + second_num\n",
    "                if total == target:\n",
    "                    my_answer = (i, j+i+1)\n",
    "    return my_answer"
   ]
  },
  {
   "cell_type": "code",
   "execution_count": 180,
   "metadata": {
    "ExecuteTime": {
     "end_time": "2020-02-17T23:43:04.334547Z",
     "start_time": "2020-02-17T23:43:04.295396Z"
    }
   },
   "outputs": [
    {
     "data": {
      "text/plain": [
       "(0, 1)"
      ]
     },
     "execution_count": 180,
     "metadata": {},
     "output_type": "execute_result"
    }
   ],
   "source": [
    "twoSum([2, 7, 11, 15], 9)"
   ]
  },
  {
   "cell_type": "code",
   "execution_count": 54,
   "metadata": {
    "ExecuteTime": {
     "end_time": "2020-02-14T05:29:24.117327Z",
     "start_time": "2020-02-14T05:29:24.110645Z"
    }
   },
   "outputs": [
    {
     "data": {
      "text/plain": [
       "(2, 3)"
      ]
     },
     "execution_count": 54,
     "metadata": {},
     "output_type": "execute_result"
    }
   ],
   "source": [
    "twoSum([2, 7, 11, 15], 26)"
   ]
  },
  {
   "cell_type": "code",
   "execution_count": null,
   "metadata": {},
   "outputs": [],
   "source": []
  },
  {
   "cell_type": "code",
   "execution_count": null,
   "metadata": {},
   "outputs": [],
   "source": []
  },
  {
   "cell_type": "code",
   "execution_count": null,
   "metadata": {},
   "outputs": [],
   "source": []
  },
  {
   "cell_type": "markdown",
   "metadata": {},
   "source": [
    "# WB: Subsets problem"
   ]
  },
  {
   "cell_type": "code",
   "execution_count": 9,
   "metadata": {
    "ExecuteTime": {
     "end_time": "2020-02-12T18:08:42.622346Z",
     "start_time": "2020-02-12T18:08:42.617772Z"
    },
    "code_folding": []
   },
   "outputs": [],
   "source": [
    "def subsets(arr):\n",
    "    result = [[]]\n",
    "    for i in arr:\n",
    "        result.append([i])\n",
    "        for i in \n",
    "        # Then add the last element\n",
    "#         temp = result[-1]\n",
    "#         result.append([resuli])\n",
    "        \n",
    "        \n",
    "        \n",
    "    \n",
    "    return result"
   ]
  },
  {
   "cell_type": "code",
   "execution_count": 10,
   "metadata": {
    "ExecuteTime": {
     "end_time": "2020-02-12T18:08:44.087257Z",
     "start_time": "2020-02-12T18:08:44.083683Z"
    }
   },
   "outputs": [],
   "source": [
    "my_list = [1,2,3]"
   ]
  },
  {
   "cell_type": "code",
   "execution_count": 15,
   "metadata": {
    "ExecuteTime": {
     "end_time": "2020-02-12T18:11:59.450910Z",
     "start_time": "2020-02-12T18:11:59.443713Z"
    }
   },
   "outputs": [
    {
     "data": {
      "text/plain": [
       "[[], [1], [2], [3]]"
      ]
     },
     "execution_count": 15,
     "metadata": {},
     "output_type": "execute_result"
    }
   ],
   "source": [
    "my_result = subsets(my_list)\n",
    "my_result"
   ]
  },
  {
   "cell_type": "code",
   "execution_count": 14,
   "metadata": {
    "ExecuteTime": {
     "end_time": "2020-02-12T18:09:50.397180Z",
     "start_time": "2020-02-12T18:09:50.390344Z"
    }
   },
   "outputs": [
    {
     "data": {
      "text/plain": [
       "[3]"
      ]
     },
     "execution_count": 14,
     "metadata": {},
     "output_type": "execute_result"
    }
   ],
   "source": [
    "my_result[-1]"
   ]
  },
  {
   "cell_type": "code",
   "execution_count": 16,
   "metadata": {
    "ExecuteTime": {
     "end_time": "2020-02-12T18:15:33.373999Z",
     "start_time": "2020-02-12T18:15:33.370907Z"
    }
   },
   "outputs": [],
   "source": [
    "arr_size = 3"
   ]
  },
  {
   "cell_type": "code",
   "execution_count": 17,
   "metadata": {
    "ExecuteTime": {
     "end_time": "2020-02-12T18:25:32.746413Z",
     "start_time": "2020-02-12T18:25:32.731393Z"
    }
   },
   "outputs": [],
   "source": [
    "my_list = [1,2,3]"
   ]
  },
  {
   "cell_type": "code",
   "execution_count": 21,
   "metadata": {
    "ExecuteTime": {
     "end_time": "2020-02-12T18:31:03.876058Z",
     "start_time": "2020-02-12T18:31:03.857612Z"
    }
   },
   "outputs": [
    {
     "name": "stdout",
     "output_type": "stream",
     "text": [
      "first loop:  1\n",
      "second loop:  1 0\n",
      "second loop:  1 0 0\n",
      "second loop:  1 0 1\n",
      "second loop:  1 1\n",
      "second loop:  1 1 0\n",
      "second loop:  1 1 1\n",
      "first loop:  2\n",
      "second loop:  2 0\n",
      "second loop:  2 0 0\n",
      "second loop:  2 0 1\n",
      "second loop:  2 0 2\n",
      "second loop:  2 1\n",
      "second loop:  2 1 0\n",
      "second loop:  2 1 1\n",
      "second loop:  2 1 2\n",
      "second loop:  2 2\n",
      "second loop:  2 2 0\n",
      "second loop:  2 2 1\n",
      "second loop:  2 2 2\n",
      "first loop:  3\n",
      "second loop:  3 0\n",
      "second loop:  3 0 0\n",
      "second loop:  3 0 1\n",
      "second loop:  3 0 2\n",
      "second loop:  3 0 3\n",
      "second loop:  3 1\n",
      "second loop:  3 1 0\n",
      "second loop:  3 1 1\n",
      "second loop:  3 1 2\n",
      "second loop:  3 1 3\n",
      "second loop:  3 2\n",
      "second loop:  3 2 0\n",
      "second loop:  3 2 1\n",
      "second loop:  3 2 2\n",
      "second loop:  3 2 3\n",
      "second loop:  3 3\n",
      "second loop:  3 3 0\n",
      "second loop:  3 3 1\n",
      "second loop:  3 3 2\n",
      "second loop:  3 3 3\n"
     ]
    }
   ],
   "source": [
    "#def my_subsets(arr):\n",
    "\n",
    "arr = [1,2,3]\n",
    "\n",
    "result = [[]]\n",
    "\n",
    "# Get the ones\n",
    "for i in arr:\n",
    "    result.append([i])\n",
    "    print('first loop: ', i)\n",
    "\n",
    "    # Get the pairs\n",
    "    for j in range(len(result)):\n",
    "        print('second loop: ', i, j)\n",
    "\n",
    "\n",
    "        # Get the triples\n",
    "        for k in range(len(result)):\n",
    "            print('second loop: ', i, j, k)\n",
    "\n",
    "# Get the fours\n",
    "    "
   ]
  },
  {
   "cell_type": "code",
   "execution_count": 55,
   "metadata": {
    "ExecuteTime": {
     "end_time": "2020-02-14T23:13:47.760183Z",
     "start_time": "2020-02-14T23:13:47.694708Z"
    },
    "scrolled": true
   },
   "outputs": [
    {
     "name": "stdout",
     "output_type": "stream",
     "text": [
      "0\n",
      "1\n",
      "2\n",
      "3\n",
      "4\n"
     ]
    }
   ],
   "source": [
    "for i in range(5):\n",
    "    print(i)"
   ]
  },
  {
   "cell_type": "markdown",
   "metadata": {},
   "source": [
    "# O: Binary search problem\n",
    "\n",
    "https://practice.geeksforgeeks.org/problems/who-will-win/0"
   ]
  },
  {
   "cell_type": "markdown",
   "metadata": {},
   "source": [
    "Given a sorted array arr[] of N integers and a number K is given. The task is to check if the element K is present in the array or not."
   ]
  },
  {
   "cell_type": "code",
   "execution_count": 178,
   "metadata": {
    "ExecuteTime": {
     "end_time": "2020-02-17T17:14:18.350787Z",
     "start_time": "2020-02-17T17:14:18.194389Z"
    }
   },
   "outputs": [],
   "source": [
    "# My own practice\n",
    "\n"
   ]
  },
  {
   "cell_type": "code",
   "execution_count": null,
   "metadata": {},
   "outputs": [],
   "source": [
    "# This solution is from the website - practice it yourself!\n",
    "  \n",
    "# Returns index of x in arr if present, else -1 \n",
    "def binarySearch (arr, l, r, x): \n",
    "  \n",
    "    # Check base case \n",
    "    if r >= l: \n",
    "  \n",
    "        mid = l + (r - l) // 2\n",
    "  \n",
    "        # If element is present at the middle itself \n",
    "        if arr[mid] == x: \n",
    "            return mid \n",
    "          \n",
    "        # If element is smaller than mid, then it  \n",
    "        # can only be present in left subarray \n",
    "        elif arr[mid] > x: \n",
    "            return binarySearch(arr, l, mid-1, x) \n",
    "  \n",
    "        # Else the element can only be present  \n",
    "        # in right subarray \n",
    "        else: \n",
    "            return binarySearch(arr, mid + 1, r, x) \n",
    "  \n",
    "    else: \n",
    "        # Element is not present in the array \n",
    "        return -1\n",
    "  \n",
    "# Driver Code \n",
    "arr = [ 2, 3, 4, 10, 40 ] \n",
    "x = 10\n",
    "  \n",
    "# Function call \n",
    "result = binarySearch(arr, 0, len(arr)-1, x) \n",
    "  \n",
    "if result != -1: \n",
    "    print (\"Element is present at index % d\" % result) \n",
    "else: \n",
    "    print (\"Element is not present in array\") "
   ]
  },
  {
   "cell_type": "markdown",
   "metadata": {},
   "source": [
    "# LC: Palindrome\n",
    "https://leetcode.com/problems/palindrome-number/\n"
   ]
  },
  {
   "cell_type": "markdown",
   "metadata": {},
   "source": [
    "## Brute force\n",
    "\n",
    "O(n/2)"
   ]
  },
  {
   "cell_type": "code",
   "execution_count": 139,
   "metadata": {
    "ExecuteTime": {
     "end_time": "2020-02-16T01:39:15.369254Z",
     "start_time": "2020-02-16T01:39:15.364213Z"
    }
   },
   "outputs": [],
   "source": [
    "def is_palindrome(int_value):\n",
    "    '''\n",
    "    Is the input value a palindrome?\n",
    "    '''\n",
    "    # Turn it into a string to index through\n",
    "    my_val = str(int_value)\n",
    "    # See if it's length 1\n",
    "    if len(my_val)==1:\n",
    "        return True\n",
    "    # Iterate but only up to half of the string\n",
    "    for i in range(round(len(my_val)/2)):\n",
    "        #print(i)\n",
    "        if my_val[i] != my_val[-1*(i+1)]:\n",
    "            return False\n",
    "    return True"
   ]
  },
  {
   "cell_type": "markdown",
   "metadata": {
    "ExecuteTime": {
     "end_time": "2020-02-16T01:52:21.564289Z",
     "start_time": "2020-02-16T01:52:21.559246Z"
    }
   },
   "source": [
    "## Take first half and just reverse it to see if it matches second half"
   ]
  },
  {
   "cell_type": "code",
   "execution_count": 173,
   "metadata": {
    "ExecuteTime": {
     "end_time": "2020-02-16T01:59:41.819925Z",
     "start_time": "2020-02-16T01:59:41.811783Z"
    }
   },
   "outputs": [],
   "source": [
    "def is_palindrome_take_substring(int_value):\n",
    "    '''\n",
    "    Is the input value a palindrome?\n",
    "    '''\n",
    "    # Turn it into a string to index through\n",
    "    my_val = str(int_value)\n",
    "    # See if it's length 1\n",
    "    if len(my_val)==1:\n",
    "        return True\n",
    "    # Take first half and just reverse it to see if it matches second hal\n",
    "    half_length = round(len(my_val)/2)\n",
    "    first_half = my_val[0:half_length]\n",
    "    second_half = my_val[-half_length:]\n",
    "    return first_half[::-1]==second_half"
   ]
  },
  {
   "cell_type": "code",
   "execution_count": 177,
   "metadata": {
    "ExecuteTime": {
     "end_time": "2020-02-16T01:59:55.416218Z",
     "start_time": "2020-02-16T01:59:55.410617Z"
    }
   },
   "outputs": [
    {
     "data": {
      "text/plain": [
       "True"
      ]
     },
     "execution_count": 177,
     "metadata": {},
     "output_type": "execute_result"
    }
   ],
   "source": [
    "is_palindrome_take_substring(10001)"
   ]
  },
  {
   "cell_type": "markdown",
   "metadata": {},
   "source": [
    "## Solution from board (don't fully get it)"
   ]
  },
  {
   "cell_type": "code",
   "execution_count": null,
   "metadata": {},
   "outputs": [],
   "source": [
    " def isPalindrome(self, x: int) -> bool:\n",
    "        if x < 0:\n",
    "            return False\n",
    "        \n",
    "        original = x\n",
    "        rev = 0\n",
    "        while x > 0:\n",
    "            # Essentially what we are doing here is making the least significant digit \n",
    "            # into the most significant digit in the reversed number\n",
    "            # e.g 321 => 123\n",
    "            # iteration 1: rev = 1   = 0 + 1\n",
    "            # iteration 2: rev = 12  = 1*10 + 2 # Notice how the '1' moved to the left because of the multiply by 10\n",
    "            # iteration 3: rev = 123 = 12*10 + 3 \n",
    "            rev = rev * 10 + x % 10\n",
    "            x //= 10\n",
    "            \n",
    "        return rev == original"
   ]
  },
  {
   "cell_type": "code",
   "execution_count": null,
   "metadata": {},
   "outputs": [],
   "source": [
    "# "
   ]
  }
 ],
 "metadata": {
  "kernelspec": {
   "display_name": "Python 3",
   "language": "python",
   "name": "python3"
  },
  "language_info": {
   "codemirror_mode": {
    "name": "ipython",
    "version": 3
   },
   "file_extension": ".py",
   "mimetype": "text/x-python",
   "name": "python",
   "nbconvert_exporter": "python",
   "pygments_lexer": "ipython3",
   "version": "3.6.9"
  },
  "toc": {
   "base_numbering": 1,
   "nav_menu": {},
   "number_sections": true,
   "sideBar": true,
   "skip_h1_title": false,
   "title_cell": "Table of Contents",
   "title_sidebar": "Contents",
   "toc_cell": false,
   "toc_position": {},
   "toc_section_display": true,
   "toc_window_display": true
  },
  "varInspector": {
   "cols": {
    "lenName": 16,
    "lenType": 16,
    "lenVar": 40
   },
   "kernels_config": {
    "python": {
     "delete_cmd_postfix": "",
     "delete_cmd_prefix": "del ",
     "library": "var_list.py",
     "varRefreshCmd": "print(var_dic_list())"
    },
    "r": {
     "delete_cmd_postfix": ") ",
     "delete_cmd_prefix": "rm(",
     "library": "var_list.r",
     "varRefreshCmd": "cat(var_dic_list()) "
    }
   },
   "types_to_exclude": [
    "module",
    "function",
    "builtin_function_or_method",
    "instance",
    "_Feature"
   ],
   "window_display": false
  }
 },
 "nbformat": 4,
 "nbformat_minor": 2
}
