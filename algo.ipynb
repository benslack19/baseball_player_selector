{
 "cells": [
  {
   "cell_type": "code",
   "execution_count": 1,
   "metadata": {
    "ExecuteTime": {
     "end_time": "2020-02-12T17:54:11.312913Z",
     "start_time": "2020-02-12T17:54:10.292241Z"
    }
   },
   "outputs": [],
   "source": [
    "import numpy as np\n",
    "import pandas as pd"
   ]
  },
  {
   "cell_type": "code",
   "execution_count": 9,
   "metadata": {
    "ExecuteTime": {
     "end_time": "2020-02-12T18:08:42.622346Z",
     "start_time": "2020-02-12T18:08:42.617772Z"
    },
    "code_folding": []
   },
   "outputs": [],
   "source": [
    "def subsets(arr):\n",
    "    result = [[]]\n",
    "    for i in arr:\n",
    "        result.append([i])\n",
    "        for i in \n",
    "        # Then add the last element\n",
    "#         temp = result[-1]\n",
    "#         result.append([resuli])\n",
    "        \n",
    "        \n",
    "        \n",
    "    \n",
    "    return result"
   ]
  },
  {
   "cell_type": "code",
   "execution_count": 10,
   "metadata": {
    "ExecuteTime": {
     "end_time": "2020-02-12T18:08:44.087257Z",
     "start_time": "2020-02-12T18:08:44.083683Z"
    }
   },
   "outputs": [],
   "source": [
    "my_list = [1,2,3]"
   ]
  },
  {
   "cell_type": "code",
   "execution_count": 15,
   "metadata": {
    "ExecuteTime": {
     "end_time": "2020-02-12T18:11:59.450910Z",
     "start_time": "2020-02-12T18:11:59.443713Z"
    }
   },
   "outputs": [
    {
     "data": {
      "text/plain": [
       "[[], [1], [2], [3]]"
      ]
     },
     "execution_count": 15,
     "metadata": {},
     "output_type": "execute_result"
    }
   ],
   "source": [
    "my_result = subsets(my_list)\n",
    "my_result"
   ]
  },
  {
   "cell_type": "code",
   "execution_count": 14,
   "metadata": {
    "ExecuteTime": {
     "end_time": "2020-02-12T18:09:50.397180Z",
     "start_time": "2020-02-12T18:09:50.390344Z"
    }
   },
   "outputs": [
    {
     "data": {
      "text/plain": [
       "[3]"
      ]
     },
     "execution_count": 14,
     "metadata": {},
     "output_type": "execute_result"
    }
   ],
   "source": [
    "my_result[-1]"
   ]
  },
  {
   "cell_type": "code",
   "execution_count": 16,
   "metadata": {
    "ExecuteTime": {
     "end_time": "2020-02-12T18:15:33.373999Z",
     "start_time": "2020-02-12T18:15:33.370907Z"
    }
   },
   "outputs": [],
   "source": [
    "arr_size = 3"
   ]
  },
  {
   "cell_type": "code",
   "execution_count": 17,
   "metadata": {
    "ExecuteTime": {
     "end_time": "2020-02-12T18:25:32.746413Z",
     "start_time": "2020-02-12T18:25:32.731393Z"
    }
   },
   "outputs": [],
   "source": [
    "my_list = [1,2,3]"
   ]
  },
  {
   "cell_type": "code",
   "execution_count": 21,
   "metadata": {
    "ExecuteTime": {
     "end_time": "2020-02-12T18:31:03.876058Z",
     "start_time": "2020-02-12T18:31:03.857612Z"
    }
   },
   "outputs": [
    {
     "name": "stdout",
     "output_type": "stream",
     "text": [
      "first loop:  1\n",
      "second loop:  1 0\n",
      "second loop:  1 0 0\n",
      "second loop:  1 0 1\n",
      "second loop:  1 1\n",
      "second loop:  1 1 0\n",
      "second loop:  1 1 1\n",
      "first loop:  2\n",
      "second loop:  2 0\n",
      "second loop:  2 0 0\n",
      "second loop:  2 0 1\n",
      "second loop:  2 0 2\n",
      "second loop:  2 1\n",
      "second loop:  2 1 0\n",
      "second loop:  2 1 1\n",
      "second loop:  2 1 2\n",
      "second loop:  2 2\n",
      "second loop:  2 2 0\n",
      "second loop:  2 2 1\n",
      "second loop:  2 2 2\n",
      "first loop:  3\n",
      "second loop:  3 0\n",
      "second loop:  3 0 0\n",
      "second loop:  3 0 1\n",
      "second loop:  3 0 2\n",
      "second loop:  3 0 3\n",
      "second loop:  3 1\n",
      "second loop:  3 1 0\n",
      "second loop:  3 1 1\n",
      "second loop:  3 1 2\n",
      "second loop:  3 1 3\n",
      "second loop:  3 2\n",
      "second loop:  3 2 0\n",
      "second loop:  3 2 1\n",
      "second loop:  3 2 2\n",
      "second loop:  3 2 3\n",
      "second loop:  3 3\n",
      "second loop:  3 3 0\n",
      "second loop:  3 3 1\n",
      "second loop:  3 3 2\n",
      "second loop:  3 3 3\n"
     ]
    }
   ],
   "source": [
    "#def my_subsets(arr):\n",
    "\n",
    "arr = [1,2,3]\n",
    "\n",
    "result = [[]]\n",
    "\n",
    "# Get the ones\n",
    "for i in arr:\n",
    "    result.append([i])\n",
    "    print('first loop: ', i)\n",
    "\n",
    "    # Get the pairs\n",
    "    for j in range(len(result)):\n",
    "        print('second loop: ', i, j)\n",
    "\n",
    "\n",
    "        # Get the triples\n",
    "        for k in range(len(result)):\n",
    "            print('second loop: ', i, j, k)\n",
    "\n",
    "# Get the fours\n",
    "    "
   ]
  },
  {
   "cell_type": "code",
   "execution_count": null,
   "metadata": {},
   "outputs": [],
   "source": []
  }
 ],
 "metadata": {
  "kernelspec": {
   "display_name": "Python 3",
   "language": "python",
   "name": "python3"
  },
  "language_info": {
   "codemirror_mode": {
    "name": "ipython",
    "version": 3
   },
   "file_extension": ".py",
   "mimetype": "text/x-python",
   "name": "python",
   "nbconvert_exporter": "python",
   "pygments_lexer": "ipython3",
   "version": "3.6.9"
  },
  "toc": {
   "base_numbering": 1,
   "nav_menu": {},
   "number_sections": true,
   "sideBar": true,
   "skip_h1_title": false,
   "title_cell": "Table of Contents",
   "title_sidebar": "Contents",
   "toc_cell": false,
   "toc_position": {},
   "toc_section_display": true,
   "toc_window_display": false
  },
  "varInspector": {
   "cols": {
    "lenName": 16,
    "lenType": 16,
    "lenVar": 40
   },
   "kernels_config": {
    "python": {
     "delete_cmd_postfix": "",
     "delete_cmd_prefix": "del ",
     "library": "var_list.py",
     "varRefreshCmd": "print(var_dic_list())"
    },
    "r": {
     "delete_cmd_postfix": ") ",
     "delete_cmd_prefix": "rm(",
     "library": "var_list.r",
     "varRefreshCmd": "cat(var_dic_list()) "
    }
   },
   "types_to_exclude": [
    "module",
    "function",
    "builtin_function_or_method",
    "instance",
    "_Feature"
   ],
   "window_display": false
  }
 },
 "nbformat": 4,
 "nbformat_minor": 2
}
