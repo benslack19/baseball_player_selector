{
 "cells": [
  {
   "cell_type": "markdown",
   "metadata": {},
   "source": [
    "**Querying postgreSQL in Jupyter notebook**\n",
    "\n",
    "Useful for writing notes and iterating over SQL queries. I kept an example down below to show how queries can evolve."
   ]
  },
  {
   "cell_type": "code",
   "execution_count": 1,
   "metadata": {
    "ExecuteTime": {
     "end_time": "2020-03-10T21:42:35.313475Z",
     "start_time": "2020-03-10T21:42:31.052526Z"
    }
   },
   "outputs": [],
   "source": [
    "import pandas as pd\n",
    "import sqlalchemy\n",
    "import sqlalchemy_utils\n",
    "from sqlalchemy import create_engine\n",
    "from sqlalchemy_utils import database_exists, create_database\n",
    "import psycopg2"
   ]
  },
  {
   "cell_type": "markdown",
   "metadata": {},
   "source": [
    "Enter the database:\n",
    "<br>\n",
    "`psql baseball -h localhost -U lacar`"
   ]
  },
  {
   "cell_type": "markdown",
   "metadata": {},
   "source": [
    "Get all columns of a table\n",
    "<br>\n",
    "`\\d+ my_table`\n",
    "\n",
    "Find the tables of the database:\n",
    "<br>\n",
    "`\\dt`"
   ]
  },
  {
   "cell_type": "markdown",
   "metadata": {},
   "source": [
    "# Order of execution\n",
    "\n",
    "1. FROM /JOIN (subqueries)\n",
    "2. WHERE\n",
    "3. GROUP BY\n",
    "4. HAVING\n",
    "5. SELECT\n",
    "6. DISTINCT\n",
    "7. ORDER BY\n",
    "8. LIMIT/OFFSET\n",
    "\n",
    "It can be summarized as:\n",
    "**calling -> aggregating -> displaying -> filter**\n",
    "\n",
    "<br>\n",
    "- First creates a working dataset, then filters with rows added by conditions\n",
    "<br>\n",
    "- Column name aliases are not accessed for all commands except after SELECT (aliases for table names are okay) (postgreSQL seems to have some exceptions for SELECT with column name aliasing)"
   ]
  },
  {
   "cell_type": "markdown",
   "metadata": {
    "ExecuteTime": {
     "end_time": "2020-03-04T16:20:27.901593Z",
     "start_time": "2020-03-04T16:20:27.841399Z"
    }
   },
   "source": [
    "# Skills progression\n",
    "\n",
    "Descriptions of beginner, intermediate, and advanced SQL skills from [this link](https://softwareengineering.stackexchange.com/questions/181651/are-these-sql-concepts-for-beginners-intermediate-or-advanced-developers)\n",
    "    \n",
    "    \n"
   ]
  },
  {
   "cell_type": "markdown",
   "metadata": {
    "ExecuteTime": {
     "end_time": "2020-01-25T23:53:39.852566Z",
     "start_time": "2020-01-25T23:53:39.849377Z"
    }
   },
   "source": [
    "# Example of formatting when using a Python function"
   ]
  },
  {
   "cell_type": "code",
   "execution_count": 66,
   "metadata": {
    "ExecuteTime": {
     "end_time": "2020-03-04T16:16:29.398856Z",
     "start_time": "2020-03-04T16:16:29.263598Z"
    },
    "code_folding": [
     0
    ]
   },
   "outputs": [],
   "source": [
    "def return_df_metric_rate_batter(metric, batter_id):\n",
    "\n",
    "    sql_query = \"\"\"\n",
    "    SELECT \"game_date\", \"batter\", \"events\" FROM statcast\n",
    "    WHERE \"batter\"= \n",
    "    \"\"\" + str(batter_id) + \"\"\"\n",
    "    AND \"game_date\" BETWEEN '2019-03-28' AND '2019-04-30'\n",
    "    AND \"events\" IS NOT NULL\n",
    "    \"\"\"\n",
    "\n",
    "    df_events = pd.read_sql_query(sql_query,con)\n",
    "    \n",
    "    df_summary = df_events.groupby('events').count()['game_date'] / df_events.count()[0]\n",
    "    return df_summary[metric]"
   ]
  },
  {
   "cell_type": "markdown",
   "metadata": {},
   "source": [
    "# Date-related tips\n",
    "\n",
    "from Xufeng"
   ]
  },
  {
   "cell_type": "markdown",
   "metadata": {},
   "source": [
    "[id], [datetime]\n",
    "1, 2009-8-1\n",
    "2, 2003-9-1\n",
    "\n",
    "select *\n",
    "from test_table\n",
    "where datetime > '2008-1-1'\n",
    ";\n",
    "\n",
    "select *\n",
    "from test_table\n",
    "where year(datetime) > 2008\n",
    ";\n",
    "\n",
    "if the table has an index on datetime, Q2 will be much slower than Q1\n",
    "making query SARGable (Search Aurgmentable)"
   ]
  },
  {
   "cell_type": "markdown",
   "metadata": {
    "ExecuteTime": {
     "end_time": "2020-02-12T17:08:06.102762Z",
     "start_time": "2020-02-12T17:08:06.099915Z"
    }
   },
   "source": [
    "# Using SQL with baseball database\n",
    "\n",
    "Each case poses a problem and then I iterate my queries until I get the desired answer. Some addressed and possible questions are:\n",
    "\n",
    "- What teams have done best against the shift?\n",
    "- Which pitchers have thrown the top 3 most pitches for each day?\n",
    "- What ballparks have the highest HR rate?\n",
    "- Which pitchers have the highest whiff rate?\n",
    "- What pitch for each pitcher induces the most swing and misses?\n",
    "- What pitch for each pitcher *precedes* the pitch that causes the most swing and misses?"
   ]
  },
  {
   "cell_type": "code",
   "execution_count": 2,
   "metadata": {
    "ExecuteTime": {
     "end_time": "2020-03-10T21:42:43.084065Z",
     "start_time": "2020-03-10T21:42:43.080271Z"
    }
   },
   "outputs": [],
   "source": [
    "# Define a database name\n",
    "# Set your postgres username\n",
    "dbname = \"baseball\"\n",
    "username = \"lacar\"  # change this to your username"
   ]
  },
  {
   "cell_type": "code",
   "execution_count": 3,
   "metadata": {
    "ExecuteTime": {
     "end_time": "2020-03-10T21:42:43.976403Z",
     "start_time": "2020-03-10T21:42:43.925693Z"
    }
   },
   "outputs": [],
   "source": [
    "# Working with PostgreSQL in Python\n",
    "# Connect to make queries using psycopg2\n",
    "con = None\n",
    "con = psycopg2.connect(database=dbname, user=username)"
   ]
  },
  {
   "cell_type": "code",
   "execution_count": 4,
   "metadata": {
    "ExecuteTime": {
     "end_time": "2020-03-10T21:42:44.882131Z",
     "start_time": "2020-03-10T21:42:44.875486Z"
    }
   },
   "outputs": [
    {
     "name": "stdout",
     "output_type": "stream",
     "text": [
      "postgres://lacar@localhost/baseball\n"
     ]
    }
   ],
   "source": [
    "## Here, we're using postgres, but sqlalchemy can connect to other things too.\n",
    "engine = create_engine(\"postgres://%s@localhost/%s\" % (username, dbname))\n",
    "print(engine.url)"
   ]
  },
  {
   "cell_type": "markdown",
   "metadata": {},
   "source": [
    "# Initial  queries"
   ]
  },
  {
   "cell_type": "markdown",
   "metadata": {},
   "source": [
    "## Show what statcast table looks like"
   ]
  },
  {
   "cell_type": "code",
   "execution_count": 5,
   "metadata": {
    "ExecuteTime": {
     "end_time": "2020-03-10T21:42:49.687803Z",
     "start_time": "2020-03-10T21:42:49.523903Z"
    }
   },
   "outputs": [
    {
     "name": "stdout",
     "output_type": "stream",
     "text": [
      "   level_0  index pitch_type  game_date  release_speed  release_pos_x  \\\n",
      "0   292328   5971         SL 2018-07-15           78.3         2.9663   \n",
      "1   292329   5986         FF 2018-07-15           93.3         2.4882   \n",
      "2   292330   5998         CH 2018-07-15           81.0         3.2677   \n",
      "3   292331   6013         SI 2018-07-15           90.0         3.4771   \n",
      "4   292332   6032         FF 2018-07-15           90.8         2.5508   \n",
      "5   292333   6048         SL 2018-07-15           84.4         1.7845   \n",
      "6   292334   6062         CU 2018-07-15           79.5         1.8425   \n",
      "7   292335   6075         SL 2018-07-15           84.8         1.7716   \n",
      "8   292336   6090         FT 2018-07-15           94.5         1.7428   \n",
      "9   292337   6105         SL 2018-07-15           86.0         1.7914   \n",
      "\n",
      "   release_pos_z    player_name    batter   pitcher  ... home_score  \\\n",
      "0         4.4622   Adam Kolarek  543257.0  592473.0  ...        1.0   \n",
      "1         5.4060   Adam Kolarek  543257.0  592473.0  ...        1.0   \n",
      "2         4.0872   Adam Kolarek  543257.0  592473.0  ...        1.0   \n",
      "3         4.2514   Adam Kolarek  543257.0  592473.0  ...        1.0   \n",
      "4         5.4923   Adam Kolarek  543257.0  592473.0  ...        1.0   \n",
      "5         5.7313  Taylor Rogers  543068.0  573124.0  ...        1.0   \n",
      "6         5.7241  Taylor Rogers  543068.0  573124.0  ...        1.0   \n",
      "7         5.7432  Taylor Rogers  543068.0  573124.0  ...        1.0   \n",
      "8         5.6091  Taylor Rogers  543068.0  573124.0  ...        1.0   \n",
      "9         5.7173  Taylor Rogers  543068.0  573124.0  ...        1.0   \n",
      "\n",
      "  away_score bat_score fld_score post_away_score post_home_score  \\\n",
      "0        4.0       1.0       4.0             4.0             1.0   \n",
      "1        4.0       1.0       4.0             4.0             1.0   \n",
      "2        4.0       1.0       4.0             4.0             1.0   \n",
      "3        4.0       1.0       4.0             4.0             1.0   \n",
      "4        4.0       1.0       4.0             4.0             1.0   \n",
      "5        4.0       4.0       1.0             4.0             1.0   \n",
      "6        4.0       4.0       1.0             4.0             1.0   \n",
      "7        4.0       4.0       1.0             4.0             1.0   \n",
      "8        4.0       4.0       1.0             4.0             1.0   \n",
      "9        4.0       4.0       1.0             4.0             1.0   \n",
      "\n",
      "   post_bat_score post_fld_score if_fielding_alignment of_fielding_alignment  \n",
      "0             1.0            4.0              Standard              Standard  \n",
      "1             1.0            4.0              Standard              Standard  \n",
      "2             1.0            4.0              Standard              Standard  \n",
      "3             1.0            4.0              Standard              Standard  \n",
      "4             1.0            4.0              Standard              Standard  \n",
      "5             4.0            1.0              Standard              Standard  \n",
      "6             4.0            1.0              Standard              Standard  \n",
      "7             4.0            1.0              Standard              Standard  \n",
      "8             4.0            1.0         Infield shift              Standard  \n",
      "9             4.0            1.0         Infield shift              Standard  \n",
      "\n",
      "[10 rows x 91 columns]\n"
     ]
    }
   ],
   "source": [
    "sql_query = \"\"\"\n",
    "SELECT * FROM statcast\n",
    "LIMIT 10\n",
    "\"\"\"\n",
    "\n",
    "df_query = pd.read_sql_query(sql_query,con)\n",
    "print(df_query)"
   ]
  },
  {
   "cell_type": "markdown",
   "metadata": {},
   "source": [
    "## Make a simpler table for querying"
   ]
  },
  {
   "cell_type": "code",
   "execution_count": 6,
   "metadata": {
    "ExecuteTime": {
     "end_time": "2020-03-05T05:54:04.644837Z",
     "start_time": "2020-03-05T05:53:52.916948Z"
    }
   },
   "outputs": [
    {
     "name": "stdout",
     "output_type": "stream",
     "text": [
      "      pitch_type  game_date  release_speed home_team away_team    batter  \\\n",
      "0             SL 2018-07-25           82.8        TB       NYY  622110.0   \n",
      "1             FT 2018-07-25           93.1        TB       NYY  622110.0   \n",
      "2             FF 2018-07-25           92.4        TB       NYY  622110.0   \n",
      "3             FF 2018-07-25           92.5        TB       NYY  595281.0   \n",
      "4             SL 2018-07-25           89.8        TB       NYY  519317.0   \n",
      "...          ...        ...            ...       ...       ...       ...   \n",
      "24995         CH 2018-07-15           88.2       MIN        TB  621563.0   \n",
      "24996         FF 2018-07-15           95.7       MIN        TB  543068.0   \n",
      "24997         CH 2018-07-15           90.9       MIN        TB  543068.0   \n",
      "24998         SL 2018-07-15           86.6       MIN        TB  543068.0   \n",
      "24999         FT 2018-07-15           94.5       MIN        TB  543068.0   \n",
      "\n",
      "        pitcher      player_name  balls  strikes  home_score  away_score  \n",
      "0      570666.0       Luis Cessa    1.0      1.0         0.0         0.0  \n",
      "1      570666.0       Luis Cessa    1.0      0.0         0.0         0.0  \n",
      "2      570666.0       Luis Cessa    0.0      0.0         0.0         0.0  \n",
      "3      570666.0       Luis Cessa    0.0      0.0         0.0         0.0  \n",
      "4      592773.0      Ryne Stanek    2.0      2.0         0.0         0.0  \n",
      "...         ...              ...    ...      ...         ...         ...  \n",
      "24995  622864.0  Fernando Romero    0.0      0.0         1.0         3.0  \n",
      "24996  622864.0  Fernando Romero    2.0      1.0         1.0         3.0  \n",
      "24997  622864.0  Fernando Romero    2.0      0.0         1.0         3.0  \n",
      "24998  622864.0  Fernando Romero    1.0      0.0         1.0         3.0  \n",
      "24999  622864.0  Fernando Romero    0.0      0.0         1.0         3.0  \n",
      "\n",
      "[25000 rows x 12 columns]\n"
     ]
    }
   ],
   "source": [
    "sql_query = \"\"\"\n",
    "SELECT pitch_type, game_date, release_speed, home_team, away_team, batter, pitcher, player_name, balls, strikes, home_score, away_score \n",
    "FROM statcast\n",
    "LIMIT 25000\n",
    "\"\"\"\n",
    "\n",
    "df_query = pd.read_sql_query(sql_query, con)\n",
    "print(df_query)\n",
    "\n",
    "df_query.to_sql('statcast_simple', engine, if_exists='replace')"
   ]
  },
  {
   "cell_type": "markdown",
   "metadata": {},
   "source": [
    "Selecting based on column value (note single quote marks)\n",
    "<br>\n",
    "`SELECT * FROM player_id\n",
    "WHERE name_last='machado';`"
   ]
  },
  {
   "cell_type": "markdown",
   "metadata": {
    "ExecuteTime": {
     "end_time": "2020-01-19T15:26:14.287120Z",
     "start_time": "2020-01-19T15:26:14.269633Z"
    }
   },
   "source": [
    "Selecting based on two column values\n",
    "<br>\n",
    "`SELECT * FROM player_id\n",
    "WHERE name_last='machado'\n",
    "AND name_first='manny';`"
   ]
  },
  {
   "cell_type": "markdown",
   "metadata": {
    "ExecuteTime": {
     "end_time": "2020-01-19T15:56:47.957725Z",
     "start_time": "2020-01-19T15:56:47.947991Z"
    }
   },
   "source": [
    "Count the number of games that Machado has played 3B in 2019\n",
    "<br>\n",
    "Machado's MLB key: 592518\n",
    "\n",
    "Tried several things\n",
    "\n",
    "Gives all pitches:\n",
    "`SELECT COUNT(\"game_date\") FROM statcast\n",
    "WHERE \"fielder_5\"=592518 AND \"game_date\"\n",
    "BETWEEN '2019-01-01' AND '2019-12-31' LIMIT 5;`\n",
    "\n",
    "To get unique game dates:\n",
    "`SELECT DISTINCT \"game_date\" FROM statcast WHERE \"fielder_5\"=592518 AND \"game_date\" BETWEEN '2019-01-01' AND '2019-12-31' LIMIT 5;`\n",
    "\n",
    "To get number of unique game dates (need the table AS):\n",
    "<br>\n",
    "`SELECT COUNT(*) FROM (SELECT DISTINCT \"game_date\" FROM statcast WHERE \"fielder_5\"=592518 AND \"game_date\" BETWEEN '2019-01-01' AND '2019-12-31' LIMIT 5) AS machado_3b_games;`\n",
    "\n",
    "... and without limit\n",
    "<br>\n",
    "`SELECT COUNT(*) FROM (SELECT DISTINCT \"game_date\" FROM statcast WHERE \"fielder_5\"=592518 AND \"game_date\" BETWEEN '2019-01-01' AND '2019-12-31') AS machado_3b_games;`\n",
    " \n",
    " `count \n",
    "   119\n",
    "(1 row)`\n",
    "\n",
    "Games at SS:\n",
    "<br>\n",
    "`SELECT COUNT(*) FROM (SELECT DISTINCT \"game_date\" FROM statcast WHERE \"fielder_6\"=592518 AND \"game_date\" BETWEEN '2019-01-01' AND '2019-12-31') AS machado_3b_games;`\n",
    "<br>\n",
    "`count \n",
    "    37\n",
    "(1 row)`\n",
    "\n",
    "\n"
   ]
  },
  {
   "cell_type": "code",
   "execution_count": null,
   "metadata": {},
   "outputs": [],
   "source": []
  },
  {
   "cell_type": "code",
   "execution_count": null,
   "metadata": {},
   "outputs": [],
   "source": []
  },
  {
   "cell_type": "markdown",
   "metadata": {},
   "source": [
    "## Get Padres stats for 2019"
   ]
  },
  {
   "cell_type": "code",
   "execution_count": 130,
   "metadata": {
    "ExecuteTime": {
     "end_time": "2020-02-16T08:05:03.366638Z",
     "start_time": "2020-02-16T08:05:03.352543Z"
    }
   },
   "outputs": [
    {
     "name": "stdout",
     "output_type": "stream",
     "text": [
      "   game_date    batter                     events home_team\n",
      "0 2019-04-24  570267.0  grounded_into_double_play        SD\n",
      "1 2019-04-24  596129.0                     single        SD\n",
      "2 2019-04-24  571745.0                  field_out        SD\n",
      "3 2019-04-24  571976.0                  strikeout        SD\n",
      "4 2019-04-24  665487.0                  force_out        SD\n",
      "5 2019-04-24  594824.0                     single        SD\n",
      "6 2019-04-24  642336.0                  field_out        SD\n",
      "7 2019-04-24  429665.0                  strikeout        SD\n",
      "8 2019-04-24  605480.0                  field_out        SD\n",
      "9 2019-04-24  592387.0                  field_out        SD\n"
     ]
    }
   ],
   "source": [
    "sql_query = \"\"\"\n",
    "SELECT \"game_date\", \"batter\", \"events\", \"home_team\" FROM statcast\n",
    "WHERE \"game_date\" BETWEEN '2019-03-28' AND '2019-04-30'\n",
    "AND \"events\" IS NOT NULL\n",
    "AND \"home_team\"='SD'\n",
    "LIMIT 10\n",
    "\"\"\"\n",
    "\n",
    "df_query = pd.read_sql_query(sql_query,con)\n",
    "print(df_query)"
   ]
  },
  {
   "cell_type": "markdown",
   "metadata": {},
   "source": [
    "## Get Padres away batting average for 2019"
   ]
  },
  {
   "cell_type": "code",
   "execution_count": 73,
   "metadata": {
    "ExecuteTime": {
     "end_time": "2020-03-01T01:49:58.473990Z",
     "start_time": "2020-03-01T01:49:49.123897Z"
    }
   },
   "outputs": [
    {
     "name": "stdout",
     "output_type": "stream",
     "text": [
      "   season  total_plate_appearances\n",
      "0  2019.0                     2097\n"
     ]
    }
   ],
   "source": [
    "# Get total number of hits divided by total number of plate appearances \n",
    "\n",
    "# Get total number of plate appearances\n",
    "sql_query = \"\"\"\n",
    "SELECT \n",
    "    EXTRACT(YEAR FROM game_date) AS season, \n",
    "    COUNT(events) AS total_plate_appearances\n",
    "FROM statcast\n",
    "WHERE away_team='SD'\n",
    "AND game_date BETWEEN '2019-04-01' AND '2019-06-01'\n",
    "AND events IS NOT NULL\n",
    "GROUP BY season;\n",
    "\"\"\"\n",
    "\n",
    "df_query = pd.read_sql_query(sql_query,con)\n",
    "print(df_query)"
   ]
  },
  {
   "cell_type": "code",
   "execution_count": 72,
   "metadata": {
    "ExecuteTime": {
     "end_time": "2020-03-01T01:49:11.853693Z",
     "start_time": "2020-03-01T01:49:01.865042Z"
    }
   },
   "outputs": [
    {
     "name": "stdout",
     "output_type": "stream",
     "text": [
      "   season  count\n",
      "0  2019.0    372\n"
     ]
    }
   ],
   "source": [
    "# Get total number of hits\n",
    "sql_query = \"\"\"\n",
    "SELECT \n",
    "    EXTRACT(YEAR FROM game_date) AS season, \n",
    "    COUNT(events) AS hits\n",
    "FROM statcast\n",
    "WHERE away_team='SD'\n",
    "AND game_date BETWEEN '2019-04-01' AND '2019-06-01'\n",
    "AND events IN ('single', 'double')\n",
    "GROUP BY season;\n",
    "\"\"\"\n",
    "\n",
    "df_query = pd.read_sql_query(sql_query,con)\n",
    "print(df_query)"
   ]
  },
  {
   "cell_type": "code",
   "execution_count": 81,
   "metadata": {
    "ExecuteTime": {
     "end_time": "2020-03-01T02:06:24.588054Z",
     "start_time": "2020-03-01T02:05:33.857498Z"
    }
   },
   "outputs": [
    {
     "name": "stdout",
     "output_type": "stream",
     "text": [
      "   season  hits  total_pas  imperfect_obp\n",
      "0  2018.0   666       3026       0.220093\n",
      "1  2019.0   688       3091       0.222582\n"
     ]
    }
   ],
   "source": [
    "# Use a self join to get hits and plate appearances in the same table\n",
    "\n",
    "sql_query = \"\"\"\n",
    "SELECT hits_table.season, \n",
    "       hits_table.hits, \n",
    "       total_pa_table.total_pas,\n",
    "       hits_table.hits::decimal/total_pa_table.total_pas AS imperfect_obp\n",
    "FROM \n",
    "    (SELECT \n",
    "        EXTRACT(YEAR FROM game_date) AS season, \n",
    "        COUNT(events) AS hits\n",
    "    FROM statcast\n",
    "    WHERE away_team='SD'\n",
    "    AND inning_topbot='Top'\n",
    "    AND game_date BETWEEN '2018-04-01' AND '2019-10-01'\n",
    "    AND events IN ('single', 'double', 'triple', 'home_run')\n",
    "    GROUP BY season) AS hits_table\n",
    "JOIN\n",
    "    (SELECT \n",
    "        EXTRACT(YEAR FROM game_date) AS season, \n",
    "        COUNT(events) AS total_pas\n",
    "    FROM statcast\n",
    "    WHERE away_team='SD'\n",
    "    AND inning_topbot='Top'\n",
    "    AND game_date BETWEEN '2018-04-01' AND '2019-10-01'\n",
    "    AND events IS NOT NULL\n",
    "    GROUP BY season) AS total_pa_table\n",
    "ON hits_table.season=total_pa_table.season;\n",
    "\"\"\"\n",
    "\n",
    "df_query = pd.read_sql_query(sql_query,con)\n",
    "print(df_query)"
   ]
  },
  {
   "cell_type": "code",
   "execution_count": null,
   "metadata": {},
   "outputs": [],
   "source": []
  },
  {
   "cell_type": "markdown",
   "metadata": {},
   "source": [
    "## Get batters of average WAR (Renfroe like) 2019"
   ]
  },
  {
   "cell_type": "code",
   "execution_count": 62,
   "metadata": {
    "ExecuteTime": {
     "end_time": "2020-02-14T22:56:13.963399Z",
     "start_time": "2020-02-14T22:56:13.192659Z"
    }
   },
   "outputs": [
    {
     "name": "stdout",
     "output_type": "stream",
     "text": [
      "                  Name  WAR\n",
      "0            Josh Bell  2.5\n",
      "1         Kole Calhoun  2.5\n",
      "2    Edwin Encarnacion  2.5\n",
      "3          Khris Davis  2.5\n",
      "4          Nelson Cruz  2.5\n",
      "..                 ...  ...\n",
      "231      Freddy Galvis  1.5\n",
      "232       Amed Rosario  1.5\n",
      "233    Kevin Kiermaier  1.5\n",
      "234        Kyle Seager  1.5\n",
      "235       Juan Lagares  1.5\n",
      "\n",
      "[236 rows x 2 columns]\n"
     ]
    }
   ],
   "source": [
    "sql_query = \"\"\"\n",
    "SELECT \"Name\", \"WAR\" FROM batting_stats\n",
    "WHERE \"WAR\" BETWEEN 1.5 and 2.5\n",
    "\"\"\"\n",
    "\n",
    "df_query = pd.read_sql_query(sql_query,con)\n",
    "    \n",
    "print(df_query)"
   ]
  },
  {
   "cell_type": "code",
   "execution_count": null,
   "metadata": {
    "ExecuteTime": {
     "end_time": "2020-02-14T22:56:14.855273Z",
     "start_time": "2020-02-14T22:56:12.042Z"
    }
   },
   "outputs": [],
   "source": [
    "sql_query = \"\"\"\n",
    "SELECT \"Name\", \"WAR\" FROM batting_stats\n",
    "WHERE \"Name\" LIKE '%Renfroe'\n",
    "LIMIT 10\n",
    "\"\"\"\n",
    "\n",
    "df_query = pd.read_sql_query(sql_query,con)    \n",
    "print(df_query)\n"
   ]
  },
  {
   "cell_type": "markdown",
   "metadata": {},
   "source": [
    "## Get Pitchers of average WAR (1.9-2) 2019"
   ]
  },
  {
   "cell_type": "code",
   "execution_count": 132,
   "metadata": {
    "ExecuteTime": {
     "end_time": "2020-02-16T08:06:19.955037Z",
     "start_time": "2020-02-16T08:06:19.201324Z"
    }
   },
   "outputs": [
    {
     "data": {
      "text/html": [
       "<div>\n",
       "<style scoped>\n",
       "    .dataframe tbody tr th:only-of-type {\n",
       "        vertical-align: middle;\n",
       "    }\n",
       "\n",
       "    .dataframe tbody tr th {\n",
       "        vertical-align: top;\n",
       "    }\n",
       "\n",
       "    .dataframe thead th {\n",
       "        text-align: right;\n",
       "    }\n",
       "</style>\n",
       "<table border=\"1\" class=\"dataframe\">\n",
       "  <thead>\n",
       "    <tr style=\"text-align: right;\">\n",
       "      <th></th>\n",
       "      <th>Name</th>\n",
       "      <th>WAR</th>\n",
       "      <th>Season</th>\n",
       "    </tr>\n",
       "  </thead>\n",
       "  <tbody>\n",
       "    <tr>\n",
       "      <th>0</th>\n",
       "      <td>Domingo German</td>\n",
       "      <td>2.0</td>\n",
       "      <td>2019.0</td>\n",
       "    </tr>\n",
       "    <tr>\n",
       "      <th>1</th>\n",
       "      <td>Wade Miley</td>\n",
       "      <td>2.0</td>\n",
       "      <td>2019.0</td>\n",
       "    </tr>\n",
       "    <tr>\n",
       "      <th>2</th>\n",
       "      <td>Brett Anderson</td>\n",
       "      <td>2.0</td>\n",
       "      <td>2019.0</td>\n",
       "    </tr>\n",
       "    <tr>\n",
       "      <th>3</th>\n",
       "      <td>Merrill Kelly</td>\n",
       "      <td>2.0</td>\n",
       "      <td>2019.0</td>\n",
       "    </tr>\n",
       "    <tr>\n",
       "      <th>4</th>\n",
       "      <td>Ivan Nova</td>\n",
       "      <td>2.0</td>\n",
       "      <td>2019.0</td>\n",
       "    </tr>\n",
       "    <tr>\n",
       "      <th>5</th>\n",
       "      <td>Tanner Roark</td>\n",
       "      <td>2.0</td>\n",
       "      <td>2019.0</td>\n",
       "    </tr>\n",
       "    <tr>\n",
       "      <th>6</th>\n",
       "      <td>Aroldis Chapman</td>\n",
       "      <td>2.0</td>\n",
       "      <td>2019.0</td>\n",
       "    </tr>\n",
       "    <tr>\n",
       "      <th>7</th>\n",
       "      <td>Martin Perez</td>\n",
       "      <td>1.9</td>\n",
       "      <td>2019.0</td>\n",
       "    </tr>\n",
       "    <tr>\n",
       "      <th>8</th>\n",
       "      <td>Trent Thornton</td>\n",
       "      <td>1.9</td>\n",
       "      <td>2019.0</td>\n",
       "    </tr>\n",
       "    <tr>\n",
       "      <th>9</th>\n",
       "      <td>Daniel Norris</td>\n",
       "      <td>1.9</td>\n",
       "      <td>2019.0</td>\n",
       "    </tr>\n",
       "  </tbody>\n",
       "</table>\n",
       "</div>"
      ],
      "text/plain": [
       "              Name  WAR  Season\n",
       "0   Domingo German  2.0  2019.0\n",
       "1       Wade Miley  2.0  2019.0\n",
       "2   Brett Anderson  2.0  2019.0\n",
       "3    Merrill Kelly  2.0  2019.0\n",
       "4        Ivan Nova  2.0  2019.0\n",
       "5     Tanner Roark  2.0  2019.0\n",
       "6  Aroldis Chapman  2.0  2019.0\n",
       "7     Martin Perez  1.9  2019.0\n",
       "8   Trent Thornton  1.9  2019.0\n",
       "9    Daniel Norris  1.9  2019.0"
      ]
     },
     "execution_count": 132,
     "metadata": {},
     "output_type": "execute_result"
    }
   ],
   "source": [
    "sql_query = \"\"\"\n",
    "SELECT \"Name\", \"WAR\", \"Season\" FROM pitching_stats\n",
    "WHERE \"WAR\" BETWEEN 1.9 AND 2\n",
    "AND \"Season\"=2019\n",
    "\"\"\"\n",
    "\n",
    "df_query = pd.read_sql_query(sql_query,con)\n",
    "#print(df_query)\n",
    "df_query"
   ]
  },
  {
   "cell_type": "markdown",
   "metadata": {},
   "source": [
    "## Get no. of at-bats that Tatis faced a two strike count"
   ]
  },
  {
   "cell_type": "code",
   "execution_count": 135,
   "metadata": {
    "ExecuteTime": {
     "end_time": "2020-02-16T08:08:14.617220Z",
     "start_time": "2020-02-16T08:08:14.600211Z"
    }
   },
   "outputs": [
    {
     "name": "stdout",
     "output_type": "stream",
     "text": [
      "   index name_last name_first  key_mlbam key_retro  key_bbref  key_fangraphs  \\\n",
      "0   1738     tatis   fernando     665487  tatif002  tatisfe02          19709   \n",
      "\n",
      "   mlb_played_first  mlb_played_last  \n",
      "0            2019.0           2019.0  \n"
     ]
    }
   ],
   "source": [
    "# Get Tatis keyalbam\n",
    "sql_query = \"\"\"\n",
    "SELECT * FROM player_id\n",
    "WHERE name_last='tatis';\n",
    "\"\"\"\n",
    "df_query = pd.read_sql_query(sql_query,con)    \n",
    "print(df_query)"
   ]
  },
  {
   "cell_type": "code",
   "execution_count": null,
   "metadata": {},
   "outputs": [],
   "source": [
    "# Get all at-bats hard coding the keymlbam"
   ]
  },
  {
   "cell_type": "code",
   "execution_count": 138,
   "metadata": {
    "ExecuteTime": {
     "end_time": "2020-02-16T08:09:51.586092Z",
     "start_time": "2020-02-16T08:09:51.470208Z"
    }
   },
   "outputs": [
    {
     "name": "stdout",
     "output_type": "stream",
     "text": [
      "   strikes    batter name_last\n",
      "0      0.0  665487.0     tatis\n",
      "1      0.0  665487.0     tatis\n",
      "2      0.0  665487.0     tatis\n",
      "3      2.0  665487.0     tatis\n",
      "4      1.0  665487.0     tatis\n"
     ]
    }
   ],
   "source": [
    "sql_query = \"\"\"\n",
    "SELECT \"strikes\", \"batter\", \"name_last\" FROM statcast\n",
    "JOIN player_id\n",
    "ON statcast.batter=player_id.key_mlbam\n",
    "WHERE key_mlbam='665487'\n",
    "LIMIT 5\n",
    "\"\"\"\n",
    "\n",
    "df_query = pd.read_sql_query(sql_query,con)\n",
    "print(df_query)"
   ]
  },
  {
   "cell_type": "markdown",
   "metadata": {},
   "source": [
    "### Get all at-bats using a subquery, searching for \"Tatis\""
   ]
  },
  {
   "cell_type": "code",
   "execution_count": 7,
   "metadata": {
    "ExecuteTime": {
     "end_time": "2020-02-29T18:44:28.776158Z",
     "start_time": "2020-02-29T18:45:34.533664Z"
    }
   },
   "outputs": [
    {
     "name": "stdout",
     "output_type": "stream",
     "text": [
      "   count\n",
      "0    393\n"
     ]
    }
   ],
   "source": [
    "sql_query = \"\"\"\n",
    "SELECT COUNT(\"strikes\") FROM statcast\n",
    "JOIN player_id\n",
    "ON statcast.batter=player_id.key_mlbam\n",
    "WHERE key_mlbam=\n",
    "    (SELECT key_mlbam FROM player_id\n",
    "    WHERE name_last='tatis'\n",
    "    AND name_first='fernando')\n",
    "AND \"strikes\" = 2\n",
    "LIMIT 5;\n",
    "\"\"\"\n",
    "\n",
    "df_query = pd.read_sql_query(sql_query,con)\n",
    "print(df_query)"
   ]
  },
  {
   "cell_type": "markdown",
   "metadata": {},
   "source": [
    "### Count number of Tatis at-bats"
   ]
  },
  {
   "cell_type": "code",
   "execution_count": 142,
   "metadata": {
    "ExecuteTime": {
     "end_time": "2020-02-16T08:14:02.939770Z",
     "start_time": "2020-02-16T08:13:50.079874Z"
    }
   },
   "outputs": [
    {
     "name": "stdout",
     "output_type": "stream",
     "text": [
      "   count\n",
      "0    371\n"
     ]
    }
   ],
   "source": [
    "sql_query = \"\"\"\n",
    "SELECT COUNT(\"events\") FROM statcast\n",
    "JOIN player_id\n",
    "ON statcast.batter=player_id.key_mlbam\n",
    "WHERE key_mlbam=\n",
    "    (SELECT key_mlbam FROM player_id\n",
    "    WHERE name_last='tatis'\n",
    "    AND name_first='fernando')\n",
    "AND \"events\" IS NOT NULL\n",
    "LIMIT 5;\n",
    "\"\"\"\n",
    "\n",
    "df_query = pd.read_sql_query(sql_query,con)\n",
    "print(df_query)"
   ]
  },
  {
   "cell_type": "markdown",
   "metadata": {
    "ExecuteTime": {
     "end_time": "2020-02-16T08:15:07.810481Z",
     "start_time": "2020-02-16T08:15:07.805664Z"
    }
   },
   "source": [
    "## Get the number of pitches of each pitch type that Tatis faced on two strike counts"
   ]
  },
  {
   "cell_type": "code",
   "execution_count": 150,
   "metadata": {
    "ExecuteTime": {
     "end_time": "2020-02-17T20:30:07.264559Z",
     "start_time": "2020-02-17T20:30:05.816635Z"
    }
   },
   "outputs": [
    {
     "name": "stdout",
     "output_type": "stream",
     "text": [
      "  pitch_type  no_pitches\n",
      "0         FF         126\n",
      "1         SL          97\n",
      "2         CH          57\n",
      "3         CU          34\n",
      "4         SI          22\n",
      "5         FT          21\n",
      "6         FC          17\n",
      "7         KC          14\n",
      "8         FS           5\n"
     ]
    }
   ],
   "source": [
    "sql_query = \"\"\"\n",
    "SELECT pitch_type, COUNT(*) AS no_pitches\n",
    "FROM statcast\n",
    "JOIN player_id\n",
    "ON statcast.batter=player_id.key_mlbam\n",
    "WHERE key_mlbam=\n",
    "    (SELECT key_mlbam FROM player_id\n",
    "    WHERE name_last='tatis'\n",
    "    AND name_first='fernando')\n",
    "AND \"strikes\" = 2\n",
    "GROUP BY pitch_type\n",
    "ORDER BY no_pitches DESC\n",
    "LIMIT 10;\n",
    "\"\"\"\n",
    "\n",
    "df_query = pd.read_sql_query(sql_query,con)\n",
    "print(df_query)"
   ]
  },
  {
   "cell_type": "markdown",
   "metadata": {
    "ExecuteTime": {
     "end_time": "2020-02-17T20:29:47.657088Z",
     "start_time": "2020-02-17T20:29:47.650120Z"
    }
   },
   "source": [
    "## Get the breakdown in proportion of pitch types that Tatis faced on two strike counts\n",
    "\n",
    "**Return to this**"
   ]
  },
  {
   "cell_type": "code",
   "execution_count": 195,
   "metadata": {
    "ExecuteTime": {
     "end_time": "2020-02-18T04:34:06.038400Z",
     "start_time": "2020-02-18T04:33:56.786916Z"
    }
   },
   "outputs": [
    {
     "name": "stdout",
     "output_type": "stream",
     "text": [
      "   count\n",
      "0    393\n"
     ]
    }
   ],
   "source": [
    "# Just get total no two strike counts\n",
    "sql_query = \"\"\"\n",
    "SELECT COUNT(*) \n",
    "FROM statcast\n",
    "JOIN player_id\n",
    "ON statcast.batter=player_id.key_mlbam\n",
    "WHERE key_mlbam=\n",
    "    (SELECT key_mlbam FROM player_id\n",
    "    WHERE name_last='tatis'\n",
    "    AND name_first='fernando')\n",
    "AND \"strikes\" = 2;\n",
    "\"\"\"\n",
    "\n",
    "df_query = pd.read_sql_query(sql_query,con)\n",
    "print(df_query)"
   ]
  },
  {
   "cell_type": "code",
   "execution_count": 196,
   "metadata": {
    "ExecuteTime": {
     "end_time": "2020-02-18T04:34:44.269965Z",
     "start_time": "2020-02-18T04:34:35.501816Z"
    }
   },
   "outputs": [
    {
     "name": "stdout",
     "output_type": "stream",
     "text": [
      "  pitch_type  no_pitches\n",
      "0         FF         126\n",
      "1         SL          97\n",
      "2         CH          57\n",
      "3         CU          34\n",
      "4         SI          22\n",
      "5         FT          21\n",
      "6         FC          17\n",
      "7         KC          14\n",
      "8         FS           5\n"
     ]
    }
   ],
   "source": [
    "sql_query = \"\"\"\n",
    "SELECT pitch_type, COUNT(*) AS no_pitches\n",
    "FROM statcast\n",
    "JOIN player_id\n",
    "ON statcast.batter=player_id.key_mlbam\n",
    "WHERE key_mlbam=\n",
    "    (SELECT key_mlbam FROM player_id\n",
    "    WHERE name_last='tatis'\n",
    "    AND name_first='fernando')\n",
    "AND \"strikes\" = 2\n",
    "GROUP BY pitch_type\n",
    "ORDER BY no_pitches DESC;\n",
    "\"\"\"\n",
    "\n",
    "df_query = pd.read_sql_query(sql_query,con)\n",
    "print(df_query)"
   ]
  },
  {
   "cell_type": "markdown",
   "metadata": {},
   "source": [
    "**Complex query**\n",
    "\n",
    "- use of CTE\n",
    "- note notation, where commas are\n",
    "- note use of decimal format "
   ]
  },
  {
   "cell_type": "code",
   "execution_count": 210,
   "metadata": {
    "ExecuteTime": {
     "end_time": "2020-02-18T05:04:22.381027Z",
     "start_time": "2020-02-18T05:04:08.626937Z"
    }
   },
   "outputs": [
    {
     "name": "stdout",
     "output_type": "stream",
     "text": [
      "  pitch_type  no_pitches  pitch_type_proportion\n",
      "0         FF         126               0.320611\n",
      "1         SL          97               0.246819\n",
      "2         CH          57               0.145038\n",
      "3         CU          34               0.086514\n",
      "4         SI          22               0.055980\n",
      "5         FT          21               0.053435\n",
      "6         FC          17               0.043257\n",
      "7         KC          14               0.035623\n",
      "8         FS           5               0.012723\n"
     ]
    }
   ],
   "source": [
    "sql_query = \"\"\"\n",
    "WITH\n",
    "    total_table AS\n",
    "        (SELECT COUNT(*) AS total_pitches\n",
    "        FROM statcast\n",
    "        JOIN player_id\n",
    "        ON statcast.batter=player_id.key_mlbam\n",
    "        WHERE key_mlbam=\n",
    "            (SELECT key_mlbam FROM player_id\n",
    "            WHERE name_last='tatis'\n",
    "            AND name_first='fernando')\n",
    "        AND \"strikes\" = 2),\n",
    "        \n",
    "    pitch_counts_table AS\n",
    "        (SELECT pitch_type, COUNT(*) AS no_pitches\n",
    "        FROM statcast\n",
    "        JOIN player_id\n",
    "        ON statcast.batter=player_id.key_mlbam\n",
    "        WHERE key_mlbam=\n",
    "            (SELECT key_mlbam FROM player_id\n",
    "            WHERE name_last='tatis'\n",
    "            AND name_first='fernando')\n",
    "        AND \"strikes\" = 2\n",
    "        GROUP BY pitch_type\n",
    "        ORDER BY no_pitches DESC)\n",
    "        \n",
    "SELECT\n",
    "    pitch_counts_table.pitch_type, \n",
    "    pitch_counts_table.no_pitches,\n",
    "    pitch_counts_table.no_pitches::decimal / total_table.total_pitches AS pitch_type_proportion\n",
    "FROM pitch_counts_table, total_table;\n",
    "\"\"\"\n",
    "\n",
    "df_query = pd.read_sql_query(sql_query,con)\n",
    "print(df_query)"
   ]
  },
  {
   "cell_type": "code",
   "execution_count": 236,
   "metadata": {
    "ExecuteTime": {
     "end_time": "2020-02-22T01:02:06.260056Z",
     "start_time": "2020-02-22T01:01:47.764542Z"
    }
   },
   "outputs": [
    {
     "name": "stdout",
     "output_type": "stream",
     "text": [
      "    pitch_type  game_date      player_name\n",
      "0           FF 2019-04-23     Erik Swanson\n",
      "1           FF 2019-04-23     Erik Swanson\n",
      "2           SL 2019-04-23     Erik Swanson\n",
      "3           SL 2019-04-23     Erik Swanson\n",
      "4           FF 2019-04-23     Erik Swanson\n",
      "..         ...        ...              ...\n",
      "388         FF 2019-04-26     Max Scherzer\n",
      "389         CH 2019-04-24  Felix Hernandez\n",
      "390         SI 2019-04-23     Cory Gearrin\n",
      "391         SL 2019-04-23     Cory Gearrin\n",
      "392         CH 2019-04-24  Felix Hernandez\n",
      "\n",
      "[393 rows x 3 columns]\n"
     ]
    }
   ],
   "source": [
    "# Write a SQL query to find all duplicate emails in a table named Person.\n",
    "\n",
    "sql_query = \"\"\"\n",
    "SELECT pitch_type, game_date, player_name\n",
    "        FROM statcast\n",
    "        JOIN player_id\n",
    "        ON statcast.batter=player_id.key_mlbam\n",
    "        WHERE key_mlbam=\n",
    "            (SELECT key_mlbam FROM player_id\n",
    "            WHERE name_last='tatis'\n",
    "            AND name_first='fernando')\n",
    "        AND \"strikes\" = 2;\n",
    "\"\"\"\n",
    "\n",
    "df_query = pd.read_sql_query(sql_query,con)\n",
    "print(df_query)"
   ]
  },
  {
   "cell_type": "code",
   "execution_count": null,
   "metadata": {},
   "outputs": [],
   "source": []
  },
  {
   "cell_type": "markdown",
   "metadata": {},
   "source": [
    "## Get the average speed of a pitch using a window function\n",
    "\n",
    "**using window functions**"
   ]
  },
  {
   "cell_type": "code",
   "execution_count": 237,
   "metadata": {
    "ExecuteTime": {
     "end_time": "2020-02-22T03:22:42.367269Z",
     "start_time": "2020-02-22T03:22:27.678219Z"
    }
   },
   "outputs": [
    {
     "name": "stdout",
     "output_type": "stream",
     "text": [
      "    pitch_type  game_date      player_name  release_speed\n",
      "0           FF 2019-04-23     Erik Swanson           93.5\n",
      "1           FF 2019-04-23     Erik Swanson           93.5\n",
      "2           SL 2019-04-23     Erik Swanson           85.6\n",
      "3           SL 2019-04-23     Erik Swanson           86.0\n",
      "4           FF 2019-04-23     Erik Swanson           93.9\n",
      "..         ...        ...              ...            ...\n",
      "388         SL 2019-04-26     Max Scherzer           84.9\n",
      "389         FF 2019-04-26     Max Scherzer           95.8\n",
      "390         CH 2019-04-24  Felix Hernandez           82.6\n",
      "391         SI 2019-04-23     Cory Gearrin           92.1\n",
      "392         SL 2019-04-23     Cory Gearrin           85.0\n",
      "\n",
      "[393 rows x 4 columns]\n"
     ]
    }
   ],
   "source": [
    "# base query\n",
    "sql_query = \"\"\"\n",
    "SELECT pitch_type, game_date, player_name, release_speed\n",
    "        FROM statcast\n",
    "        JOIN player_id\n",
    "        ON statcast.batter=player_id.key_mlbam\n",
    "        WHERE key_mlbam=\n",
    "            (SELECT key_mlbam FROM player_id\n",
    "            WHERE name_last='tatis'\n",
    "            AND name_first='fernando')\n",
    "        AND \"strikes\" = 2;\n",
    "\"\"\"\n",
    "\n",
    "df_query = pd.read_sql_query(sql_query,con)\n",
    "print(df_query)"
   ]
  },
  {
   "cell_type": "code",
   "execution_count": 240,
   "metadata": {
    "ExecuteTime": {
     "end_time": "2020-02-22T03:29:10.830850Z",
     "start_time": "2020-02-22T03:28:59.464531Z"
    }
   },
   "outputs": [
    {
     "name": "stdout",
     "output_type": "stream",
     "text": [
      "  pitch_type  avg_speed\n",
      "0         CH  84.650877\n",
      "1         CU  78.308824\n",
      "2         FC  88.235294\n",
      "3         FF  93.530952\n",
      "4         FS  82.380000\n",
      "5         FT  91.728571\n",
      "6         KC  82.078571\n",
      "7         SI  92.922727\n",
      "8         SL  85.253608\n"
     ]
    }
   ],
   "source": [
    "# Get average using group by, ignore player name\n",
    "sql_query = \"\"\"\n",
    "SELECT pitch_type, AVG(release_speed) AS avg_speed\n",
    "        FROM statcast\n",
    "        JOIN player_id\n",
    "        ON statcast.batter=player_id.key_mlbam\n",
    "        WHERE key_mlbam=\n",
    "            (SELECT key_mlbam FROM player_id\n",
    "            WHERE name_last='tatis'\n",
    "            AND name_first='fernando')\n",
    "        AND \"strikes\" = 2\n",
    "        GROUP BY pitch_type;\n",
    "\"\"\"\n",
    "\n",
    "df_query = pd.read_sql_query(sql_query,con)\n",
    "print(df_query)"
   ]
  },
  {
   "cell_type": "code",
   "execution_count": 244,
   "metadata": {
    "ExecuteTime": {
     "end_time": "2020-02-22T03:39:34.218691Z",
     "start_time": "2020-02-22T03:39:23.603434Z"
    }
   },
   "outputs": [
    {
     "name": "stdout",
     "output_type": "stream",
     "text": [
      "    pitch_type  release_speed  avg_speed\n",
      "0           FF           93.5  87.973791\n",
      "1           FF           93.5  87.973791\n",
      "2           SL           85.6  87.973791\n",
      "3           SL           86.0  87.973791\n",
      "4           FF           93.9  87.973791\n",
      "..         ...            ...        ...\n",
      "388         FF           95.8  87.973791\n",
      "389         SI           92.1  87.973791\n",
      "390         CH           82.6  87.973791\n",
      "391         CH           85.5  87.973791\n",
      "392         SL           85.0  87.973791\n",
      "\n",
      "[393 rows x 3 columns]\n"
     ]
    }
   ],
   "source": [
    "# Get average using window/over()\n",
    "sql_query = \"\"\"\n",
    "SELECT pitch_type, release_speed, AVG(release_speed) OVER() AS avg_speed \n",
    "        FROM statcast\n",
    "        JOIN player_id\n",
    "        ON statcast.batter=player_id.key_mlbam\n",
    "        WHERE key_mlbam=\n",
    "            (SELECT key_mlbam FROM player_id\n",
    "            WHERE name_last='tatis'\n",
    "            AND name_first='fernando')\n",
    "        AND \"strikes\" = 2;\n",
    "\"\"\"\n",
    "\n",
    "df_query = pd.read_sql_query(sql_query,con)\n",
    "print(df_query)"
   ]
  },
  {
   "cell_type": "code",
   "execution_count": 246,
   "metadata": {
    "ExecuteTime": {
     "end_time": "2020-02-22T03:43:16.095738Z",
     "start_time": "2020-02-22T03:43:07.295862Z"
    }
   },
   "outputs": [
    {
     "name": "stdout",
     "output_type": "stream",
     "text": [
      "    pitch_type       player_name  release_speed  avg_speed\n",
      "0           FF   Adam Wainwright           88.5      88.50\n",
      "1           SI   Adam Wainwright           90.6      90.60\n",
      "2           SL     Adrian Houser           86.3      86.30\n",
      "3           SL  Andrew Kittredge           89.1      88.30\n",
      "4           SL  Andrew Kittredge           87.5      88.30\n",
      "..         ...               ...            ...        ...\n",
      "388         SL      Zack Greinke           82.0      82.86\n",
      "389         SL      Zack Greinke           83.8      82.86\n",
      "390         SL      Zack Greinke           82.6      82.86\n",
      "391         SL      Zack Greinke           81.1      82.86\n",
      "392         SL      Zack Greinke           84.8      82.86\n",
      "\n",
      "[393 rows x 4 columns]\n"
     ]
    }
   ],
   "source": [
    "# Note above that the over just did for all pitches - use partition to bin by each pitch\n",
    "\n",
    "# Get average using window/over()\n",
    "sql_query = \"\"\"\n",
    "SELECT pitch_type, player_name, release_speed, AVG(release_speed) OVER(PARTITION BY player_name, pitch_type) AS avg_speed \n",
    "FROM statcast\n",
    "JOIN player_id\n",
    "ON statcast.batter=player_id.key_mlbam\n",
    "WHERE key_mlbam=\n",
    "    (SELECT key_mlbam FROM player_id\n",
    "    WHERE name_last='tatis'\n",
    "    AND name_first='fernando')\n",
    "AND \"strikes\" = 2;\n",
    "\"\"\"\n",
    "\n",
    "df_query = pd.read_sql_query(sql_query,con)\n",
    "print(df_query)"
   ]
  },
  {
   "cell_type": "code",
   "execution_count": 23,
   "metadata": {
    "ExecuteTime": {
     "end_time": "2020-02-26T18:37:47.907149Z",
     "start_time": "2020-02-26T18:37:34.151637Z"
    }
   },
   "outputs": [
    {
     "name": "stdout",
     "output_type": "stream",
     "text": [
      "    pitch_type       player_name  release_speed  max_speed\n",
      "0           FF   Adam Wainwright           88.5       88.5\n",
      "1           SI   Adam Wainwright           90.6       90.6\n",
      "2           SL     Adrian Houser           86.3       86.3\n",
      "3           SL  Andrew Kittredge           89.1       89.1\n",
      "4           SL  Andrew Kittredge           87.5       89.1\n",
      "..         ...               ...            ...        ...\n",
      "388         SL      Zack Greinke           82.0       84.8\n",
      "389         SL      Zack Greinke           83.8       84.8\n",
      "390         SL      Zack Greinke           81.1       84.8\n",
      "391         SL      Zack Greinke           82.6       84.8\n",
      "392         SL      Zack Greinke           84.8       84.8\n",
      "\n",
      "[393 rows x 4 columns]\n"
     ]
    }
   ],
   "source": [
    "# Note above that the over just did for all pitches - use partition to bin by each pitch\n",
    "\n",
    "# Get average using window/over()\n",
    "sql_query = \"\"\"\n",
    "SELECT pitch_type, player_name, release_speed, MAX(release_speed) OVER(PARTITION BY player_name, pitch_type) AS max_speed \n",
    "FROM statcast\n",
    "JOIN player_id\n",
    "ON statcast.batter=player_id.key_mlbam\n",
    "WHERE key_mlbam=\n",
    "    (SELECT key_mlbam FROM player_id\n",
    "    WHERE name_last='tatis'\n",
    "    AND name_first='fernando')\n",
    "AND \"strikes\" = 2;\n",
    "\"\"\"\n",
    "\n",
    "df_query = pd.read_sql_query(sql_query,con)\n",
    "print(df_query)"
   ]
  },
  {
   "cell_type": "code",
   "execution_count": 25,
   "metadata": {
    "ExecuteTime": {
     "end_time": "2020-02-26T18:39:54.894351Z",
     "start_time": "2020-02-26T18:39:54.850714Z"
    }
   },
   "outputs": [
    {
     "ename": "DatabaseError",
     "evalue": "Execution failed on sql '\nSELECT pitch_type, player_name, release_speed, MAX(release_speed) OVER(PARTITION BY player_name, pitch_type) AS max_speed \nFROM statcast\nJOIN player_id\nON statcast.batter=player_id.key_mlbam\nWHERE key_mlbam=\n    (SELECT key_mlbam FROM player_id\n    WHERE name_last='tatis'\n    AND name_first='fernando')\nAND \"strikes\" = 2\nAND release_speed=MAX(release_speed) OVER(PARTITION BY player_name, pitch_type);\n': window functions are not allowed in WHERE\nLINE 11: AND release_speed=MAX(release_speed) OVER(PARTITION BY playe...\n                           ^\n",
     "output_type": "error",
     "traceback": [
      "\u001b[0;31m---------------------------------------------------------------------------\u001b[0m",
      "\u001b[0;31mWindowingError\u001b[0m                            Traceback (most recent call last)",
      "\u001b[0;32m~/anaconda/envs/insight/lib/python3.6/site-packages/pandas/io/sql.py\u001b[0m in \u001b[0;36mexecute\u001b[0;34m(self, *args, **kwargs)\u001b[0m\n\u001b[1;32m   1594\u001b[0m             \u001b[0;32melse\u001b[0m\u001b[0;34m:\u001b[0m\u001b[0;34m\u001b[0m\u001b[0;34m\u001b[0m\u001b[0m\n\u001b[0;32m-> 1595\u001b[0;31m                 \u001b[0mcur\u001b[0m\u001b[0;34m.\u001b[0m\u001b[0mexecute\u001b[0m\u001b[0;34m(\u001b[0m\u001b[0;34m*\u001b[0m\u001b[0margs\u001b[0m\u001b[0;34m)\u001b[0m\u001b[0;34m\u001b[0m\u001b[0;34m\u001b[0m\u001b[0m\n\u001b[0m\u001b[1;32m   1596\u001b[0m             \u001b[0;32mreturn\u001b[0m \u001b[0mcur\u001b[0m\u001b[0;34m\u001b[0m\u001b[0;34m\u001b[0m\u001b[0m\n",
      "\u001b[0;31mWindowingError\u001b[0m: window functions are not allowed in WHERE\nLINE 11: AND release_speed=MAX(release_speed) OVER(PARTITION BY playe...\n                           ^\n",
      "\nDuring handling of the above exception, another exception occurred:\n",
      "\u001b[0;31mDatabaseError\u001b[0m                             Traceback (most recent call last)",
      "\u001b[0;32m<ipython-input-25-bfbaac8436b2>\u001b[0m in \u001b[0;36m<module>\u001b[0;34m\u001b[0m\n\u001b[1;32m     15\u001b[0m \"\"\"\n\u001b[1;32m     16\u001b[0m \u001b[0;34m\u001b[0m\u001b[0m\n\u001b[0;32m---> 17\u001b[0;31m \u001b[0mdf_query\u001b[0m \u001b[0;34m=\u001b[0m \u001b[0mpd\u001b[0m\u001b[0;34m.\u001b[0m\u001b[0mread_sql_query\u001b[0m\u001b[0;34m(\u001b[0m\u001b[0msql_query\u001b[0m\u001b[0;34m,\u001b[0m\u001b[0mcon\u001b[0m\u001b[0;34m)\u001b[0m\u001b[0;34m\u001b[0m\u001b[0;34m\u001b[0m\u001b[0m\n\u001b[0m\u001b[1;32m     18\u001b[0m \u001b[0mprint\u001b[0m\u001b[0;34m(\u001b[0m\u001b[0mdf_query\u001b[0m\u001b[0;34m)\u001b[0m\u001b[0;34m\u001b[0m\u001b[0;34m\u001b[0m\u001b[0m\n",
      "\u001b[0;32m~/anaconda/envs/insight/lib/python3.6/site-packages/pandas/io/sql.py\u001b[0m in \u001b[0;36mread_sql_query\u001b[0;34m(sql, con, index_col, coerce_float, params, parse_dates, chunksize)\u001b[0m\n\u001b[1;32m    330\u001b[0m         \u001b[0mcoerce_float\u001b[0m\u001b[0;34m=\u001b[0m\u001b[0mcoerce_float\u001b[0m\u001b[0;34m,\u001b[0m\u001b[0;34m\u001b[0m\u001b[0;34m\u001b[0m\u001b[0m\n\u001b[1;32m    331\u001b[0m         \u001b[0mparse_dates\u001b[0m\u001b[0;34m=\u001b[0m\u001b[0mparse_dates\u001b[0m\u001b[0;34m,\u001b[0m\u001b[0;34m\u001b[0m\u001b[0;34m\u001b[0m\u001b[0m\n\u001b[0;32m--> 332\u001b[0;31m         \u001b[0mchunksize\u001b[0m\u001b[0;34m=\u001b[0m\u001b[0mchunksize\u001b[0m\u001b[0;34m,\u001b[0m\u001b[0;34m\u001b[0m\u001b[0;34m\u001b[0m\u001b[0m\n\u001b[0m\u001b[1;32m    333\u001b[0m     )\n\u001b[1;32m    334\u001b[0m \u001b[0;34m\u001b[0m\u001b[0m\n",
      "\u001b[0;32m~/anaconda/envs/insight/lib/python3.6/site-packages/pandas/io/sql.py\u001b[0m in \u001b[0;36mread_query\u001b[0;34m(self, sql, index_col, coerce_float, params, parse_dates, chunksize)\u001b[0m\n\u001b[1;32m   1643\u001b[0m \u001b[0;34m\u001b[0m\u001b[0m\n\u001b[1;32m   1644\u001b[0m         \u001b[0margs\u001b[0m \u001b[0;34m=\u001b[0m \u001b[0m_convert_params\u001b[0m\u001b[0;34m(\u001b[0m\u001b[0msql\u001b[0m\u001b[0;34m,\u001b[0m \u001b[0mparams\u001b[0m\u001b[0;34m)\u001b[0m\u001b[0;34m\u001b[0m\u001b[0;34m\u001b[0m\u001b[0m\n\u001b[0;32m-> 1645\u001b[0;31m         \u001b[0mcursor\u001b[0m \u001b[0;34m=\u001b[0m \u001b[0mself\u001b[0m\u001b[0;34m.\u001b[0m\u001b[0mexecute\u001b[0m\u001b[0;34m(\u001b[0m\u001b[0;34m*\u001b[0m\u001b[0margs\u001b[0m\u001b[0;34m)\u001b[0m\u001b[0;34m\u001b[0m\u001b[0;34m\u001b[0m\u001b[0m\n\u001b[0m\u001b[1;32m   1646\u001b[0m         \u001b[0mcolumns\u001b[0m \u001b[0;34m=\u001b[0m \u001b[0;34m[\u001b[0m\u001b[0mcol_desc\u001b[0m\u001b[0;34m[\u001b[0m\u001b[0;36m0\u001b[0m\u001b[0;34m]\u001b[0m \u001b[0;32mfor\u001b[0m \u001b[0mcol_desc\u001b[0m \u001b[0;32min\u001b[0m \u001b[0mcursor\u001b[0m\u001b[0;34m.\u001b[0m\u001b[0mdescription\u001b[0m\u001b[0;34m]\u001b[0m\u001b[0;34m\u001b[0m\u001b[0;34m\u001b[0m\u001b[0m\n\u001b[1;32m   1647\u001b[0m \u001b[0;34m\u001b[0m\u001b[0m\n",
      "\u001b[0;32m~/anaconda/envs/insight/lib/python3.6/site-packages/pandas/io/sql.py\u001b[0m in \u001b[0;36mexecute\u001b[0;34m(self, *args, **kwargs)\u001b[0m\n\u001b[1;32m   1608\u001b[0m                 \u001b[0;34m\"Execution failed on sql '{sql}': {exc}\"\u001b[0m\u001b[0;34m.\u001b[0m\u001b[0mformat\u001b[0m\u001b[0;34m(\u001b[0m\u001b[0msql\u001b[0m\u001b[0;34m=\u001b[0m\u001b[0margs\u001b[0m\u001b[0;34m[\u001b[0m\u001b[0;36m0\u001b[0m\u001b[0;34m]\u001b[0m\u001b[0;34m,\u001b[0m \u001b[0mexc\u001b[0m\u001b[0;34m=\u001b[0m\u001b[0mexc\u001b[0m\u001b[0;34m)\u001b[0m\u001b[0;34m\u001b[0m\u001b[0;34m\u001b[0m\u001b[0m\n\u001b[1;32m   1609\u001b[0m             )\n\u001b[0;32m-> 1610\u001b[0;31m             \u001b[0mraise_with_traceback\u001b[0m\u001b[0;34m(\u001b[0m\u001b[0mex\u001b[0m\u001b[0;34m)\u001b[0m\u001b[0;34m\u001b[0m\u001b[0;34m\u001b[0m\u001b[0m\n\u001b[0m\u001b[1;32m   1611\u001b[0m \u001b[0;34m\u001b[0m\u001b[0m\n\u001b[1;32m   1612\u001b[0m     \u001b[0;34m@\u001b[0m\u001b[0mstaticmethod\u001b[0m\u001b[0;34m\u001b[0m\u001b[0;34m\u001b[0m\u001b[0m\n",
      "\u001b[0;32m~/anaconda/envs/insight/lib/python3.6/site-packages/pandas/compat/__init__.py\u001b[0m in \u001b[0;36mraise_with_traceback\u001b[0;34m(exc, traceback)\u001b[0m\n\u001b[1;32m     45\u001b[0m     \u001b[0;32mif\u001b[0m \u001b[0mtraceback\u001b[0m \u001b[0;34m==\u001b[0m \u001b[0mEllipsis\u001b[0m\u001b[0;34m:\u001b[0m\u001b[0;34m\u001b[0m\u001b[0;34m\u001b[0m\u001b[0m\n\u001b[1;32m     46\u001b[0m         \u001b[0m_\u001b[0m\u001b[0;34m,\u001b[0m \u001b[0m_\u001b[0m\u001b[0;34m,\u001b[0m \u001b[0mtraceback\u001b[0m \u001b[0;34m=\u001b[0m \u001b[0msys\u001b[0m\u001b[0;34m.\u001b[0m\u001b[0mexc_info\u001b[0m\u001b[0;34m(\u001b[0m\u001b[0;34m)\u001b[0m\u001b[0;34m\u001b[0m\u001b[0;34m\u001b[0m\u001b[0m\n\u001b[0;32m---> 47\u001b[0;31m     \u001b[0;32mraise\u001b[0m \u001b[0mexc\u001b[0m\u001b[0;34m.\u001b[0m\u001b[0mwith_traceback\u001b[0m\u001b[0;34m(\u001b[0m\u001b[0mtraceback\u001b[0m\u001b[0;34m)\u001b[0m\u001b[0;34m\u001b[0m\u001b[0;34m\u001b[0m\u001b[0m\n\u001b[0m\u001b[1;32m     48\u001b[0m \u001b[0;34m\u001b[0m\u001b[0m\n\u001b[1;32m     49\u001b[0m \u001b[0;34m\u001b[0m\u001b[0m\n",
      "\u001b[0;32m~/anaconda/envs/insight/lib/python3.6/site-packages/pandas/io/sql.py\u001b[0m in \u001b[0;36mexecute\u001b[0;34m(self, *args, **kwargs)\u001b[0m\n\u001b[1;32m   1593\u001b[0m                 \u001b[0mcur\u001b[0m\u001b[0;34m.\u001b[0m\u001b[0mexecute\u001b[0m\u001b[0;34m(\u001b[0m\u001b[0;34m*\u001b[0m\u001b[0margs\u001b[0m\u001b[0;34m,\u001b[0m \u001b[0;34m**\u001b[0m\u001b[0mkwargs\u001b[0m\u001b[0;34m)\u001b[0m\u001b[0;34m\u001b[0m\u001b[0;34m\u001b[0m\u001b[0m\n\u001b[1;32m   1594\u001b[0m             \u001b[0;32melse\u001b[0m\u001b[0;34m:\u001b[0m\u001b[0;34m\u001b[0m\u001b[0;34m\u001b[0m\u001b[0m\n\u001b[0;32m-> 1595\u001b[0;31m                 \u001b[0mcur\u001b[0m\u001b[0;34m.\u001b[0m\u001b[0mexecute\u001b[0m\u001b[0;34m(\u001b[0m\u001b[0;34m*\u001b[0m\u001b[0margs\u001b[0m\u001b[0;34m)\u001b[0m\u001b[0;34m\u001b[0m\u001b[0;34m\u001b[0m\u001b[0m\n\u001b[0m\u001b[1;32m   1596\u001b[0m             \u001b[0;32mreturn\u001b[0m \u001b[0mcur\u001b[0m\u001b[0;34m\u001b[0m\u001b[0;34m\u001b[0m\u001b[0m\n\u001b[1;32m   1597\u001b[0m         \u001b[0;32mexcept\u001b[0m \u001b[0mException\u001b[0m \u001b[0;32mas\u001b[0m \u001b[0mexc\u001b[0m\u001b[0;34m:\u001b[0m\u001b[0;34m\u001b[0m\u001b[0;34m\u001b[0m\u001b[0m\n",
      "\u001b[0;31mDatabaseError\u001b[0m: Execution failed on sql '\nSELECT pitch_type, player_name, release_speed, MAX(release_speed) OVER(PARTITION BY player_name, pitch_type) AS max_speed \nFROM statcast\nJOIN player_id\nON statcast.batter=player_id.key_mlbam\nWHERE key_mlbam=\n    (SELECT key_mlbam FROM player_id\n    WHERE name_last='tatis'\n    AND name_first='fernando')\nAND \"strikes\" = 2\nAND release_speed=MAX(release_speed) OVER(PARTITION BY player_name, pitch_type);\n': window functions are not allowed in WHERE\nLINE 11: AND release_speed=MAX(release_speed) OVER(PARTITION BY playe...\n                           ^\n"
     ]
    }
   ],
   "source": [
    "# DOESN'T WORK SINCE IT USED AN ALIAS - use partition to bin by each pitch\n",
    "\n",
    "# Get average using window/over()\n",
    "sql_query = \"\"\"\n",
    "SELECT pitch_type, player_name, release_speed, MAX(release_speed) OVER(PARTITION BY player_name, pitch_type) AS max_speed \n",
    "FROM statcast\n",
    "JOIN player_id\n",
    "ON statcast.batter=player_id.key_mlbam\n",
    "WHERE key_mlbam=\n",
    "    (SELECT key_mlbam FROM player_id\n",
    "    WHERE name_last='tatis'\n",
    "    AND name_first='fernando')\n",
    "AND \"strikes\" = 2\n",
    "AND release_speed=max_speed;\n",
    "\"\"\"\n",
    "\n",
    "df_query = pd.read_sql_query(sql_query,con)\n",
    "print(df_query)"
   ]
  },
  {
   "cell_type": "markdown",
   "metadata": {},
   "source": [
    "## Making comparisons on a date-to-date basis (revisit)"
   ]
  },
  {
   "cell_type": "code",
   "execution_count": 262,
   "metadata": {
    "ExecuteTime": {
     "end_time": "2020-02-23T05:15:27.840291Z",
     "start_time": "2020-02-23T05:15:27.399150Z"
    }
   },
   "outputs": [
    {
     "ename": "DatabaseError",
     "evalue": "Execution failed on sql '\nSELECT game_date, TO_DAYS(game_date), inning, strikes FROM statcast\nJOIN player_id\nON statcast.batter=player_id.key_mlbam\nWHERE key_mlbam=\n    (SELECT key_mlbam FROM player_id\n    WHERE name_last='tatis'\n    AND name_first='fernando')\nAND \"events\" IS NOT NULL\nLIMIT 10;\n': function to_days(timestamp without time zone) does not exist\nLINE 2: SELECT game_date, TO_DAYS(game_date), inning, strikes FROM s...\n                          ^\nHINT:  No function matches the given name and argument types. You might need to add explicit type casts.\n",
     "output_type": "error",
     "traceback": [
      "\u001b[0;31m---------------------------------------------------------------------------\u001b[0m",
      "\u001b[0;31mUndefinedFunction\u001b[0m                         Traceback (most recent call last)",
      "\u001b[0;32m~/anaconda/envs/insight/lib/python3.6/site-packages/pandas/io/sql.py\u001b[0m in \u001b[0;36mexecute\u001b[0;34m(self, *args, **kwargs)\u001b[0m\n\u001b[1;32m   1594\u001b[0m             \u001b[0;32melse\u001b[0m\u001b[0;34m:\u001b[0m\u001b[0;34m\u001b[0m\u001b[0;34m\u001b[0m\u001b[0m\n\u001b[0;32m-> 1595\u001b[0;31m                 \u001b[0mcur\u001b[0m\u001b[0;34m.\u001b[0m\u001b[0mexecute\u001b[0m\u001b[0;34m(\u001b[0m\u001b[0;34m*\u001b[0m\u001b[0margs\u001b[0m\u001b[0;34m)\u001b[0m\u001b[0;34m\u001b[0m\u001b[0;34m\u001b[0m\u001b[0m\n\u001b[0m\u001b[1;32m   1596\u001b[0m             \u001b[0;32mreturn\u001b[0m \u001b[0mcur\u001b[0m\u001b[0;34m\u001b[0m\u001b[0;34m\u001b[0m\u001b[0m\n",
      "\u001b[0;31mUndefinedFunction\u001b[0m: function to_days(timestamp without time zone) does not exist\nLINE 2: SELECT game_date, TO_DAYS(game_date), inning, strikes FROM s...\n                          ^\nHINT:  No function matches the given name and argument types. You might need to add explicit type casts.\n",
      "\nDuring handling of the above exception, another exception occurred:\n",
      "\u001b[0;31mDatabaseError\u001b[0m                             Traceback (most recent call last)",
      "\u001b[0;32m<ipython-input-262-ec06ee3a35e3>\u001b[0m in \u001b[0;36m<module>\u001b[0;34m\u001b[0m\n\u001b[1;32m     11\u001b[0m \"\"\"\n\u001b[1;32m     12\u001b[0m \u001b[0;34m\u001b[0m\u001b[0m\n\u001b[0;32m---> 13\u001b[0;31m \u001b[0mdf_query\u001b[0m \u001b[0;34m=\u001b[0m \u001b[0mpd\u001b[0m\u001b[0;34m.\u001b[0m\u001b[0mread_sql_query\u001b[0m\u001b[0;34m(\u001b[0m\u001b[0msql_query\u001b[0m\u001b[0;34m,\u001b[0m\u001b[0mcon\u001b[0m\u001b[0;34m)\u001b[0m\u001b[0;34m\u001b[0m\u001b[0;34m\u001b[0m\u001b[0m\n\u001b[0m\u001b[1;32m     14\u001b[0m \u001b[0mprint\u001b[0m\u001b[0;34m(\u001b[0m\u001b[0mdf_query\u001b[0m\u001b[0;34m)\u001b[0m\u001b[0;34m\u001b[0m\u001b[0;34m\u001b[0m\u001b[0m\n",
      "\u001b[0;32m~/anaconda/envs/insight/lib/python3.6/site-packages/pandas/io/sql.py\u001b[0m in \u001b[0;36mread_sql_query\u001b[0;34m(sql, con, index_col, coerce_float, params, parse_dates, chunksize)\u001b[0m\n\u001b[1;32m    330\u001b[0m         \u001b[0mcoerce_float\u001b[0m\u001b[0;34m=\u001b[0m\u001b[0mcoerce_float\u001b[0m\u001b[0;34m,\u001b[0m\u001b[0;34m\u001b[0m\u001b[0;34m\u001b[0m\u001b[0m\n\u001b[1;32m    331\u001b[0m         \u001b[0mparse_dates\u001b[0m\u001b[0;34m=\u001b[0m\u001b[0mparse_dates\u001b[0m\u001b[0;34m,\u001b[0m\u001b[0;34m\u001b[0m\u001b[0;34m\u001b[0m\u001b[0m\n\u001b[0;32m--> 332\u001b[0;31m         \u001b[0mchunksize\u001b[0m\u001b[0;34m=\u001b[0m\u001b[0mchunksize\u001b[0m\u001b[0;34m,\u001b[0m\u001b[0;34m\u001b[0m\u001b[0;34m\u001b[0m\u001b[0m\n\u001b[0m\u001b[1;32m    333\u001b[0m     )\n\u001b[1;32m    334\u001b[0m \u001b[0;34m\u001b[0m\u001b[0m\n",
      "\u001b[0;32m~/anaconda/envs/insight/lib/python3.6/site-packages/pandas/io/sql.py\u001b[0m in \u001b[0;36mread_query\u001b[0;34m(self, sql, index_col, coerce_float, params, parse_dates, chunksize)\u001b[0m\n\u001b[1;32m   1643\u001b[0m \u001b[0;34m\u001b[0m\u001b[0m\n\u001b[1;32m   1644\u001b[0m         \u001b[0margs\u001b[0m \u001b[0;34m=\u001b[0m \u001b[0m_convert_params\u001b[0m\u001b[0;34m(\u001b[0m\u001b[0msql\u001b[0m\u001b[0;34m,\u001b[0m \u001b[0mparams\u001b[0m\u001b[0;34m)\u001b[0m\u001b[0;34m\u001b[0m\u001b[0;34m\u001b[0m\u001b[0m\n\u001b[0;32m-> 1645\u001b[0;31m         \u001b[0mcursor\u001b[0m \u001b[0;34m=\u001b[0m \u001b[0mself\u001b[0m\u001b[0;34m.\u001b[0m\u001b[0mexecute\u001b[0m\u001b[0;34m(\u001b[0m\u001b[0;34m*\u001b[0m\u001b[0margs\u001b[0m\u001b[0;34m)\u001b[0m\u001b[0;34m\u001b[0m\u001b[0;34m\u001b[0m\u001b[0m\n\u001b[0m\u001b[1;32m   1646\u001b[0m         \u001b[0mcolumns\u001b[0m \u001b[0;34m=\u001b[0m \u001b[0;34m[\u001b[0m\u001b[0mcol_desc\u001b[0m\u001b[0;34m[\u001b[0m\u001b[0;36m0\u001b[0m\u001b[0;34m]\u001b[0m \u001b[0;32mfor\u001b[0m \u001b[0mcol_desc\u001b[0m \u001b[0;32min\u001b[0m \u001b[0mcursor\u001b[0m\u001b[0;34m.\u001b[0m\u001b[0mdescription\u001b[0m\u001b[0;34m]\u001b[0m\u001b[0;34m\u001b[0m\u001b[0;34m\u001b[0m\u001b[0m\n\u001b[1;32m   1647\u001b[0m \u001b[0;34m\u001b[0m\u001b[0m\n",
      "\u001b[0;32m~/anaconda/envs/insight/lib/python3.6/site-packages/pandas/io/sql.py\u001b[0m in \u001b[0;36mexecute\u001b[0;34m(self, *args, **kwargs)\u001b[0m\n\u001b[1;32m   1608\u001b[0m                 \u001b[0;34m\"Execution failed on sql '{sql}': {exc}\"\u001b[0m\u001b[0;34m.\u001b[0m\u001b[0mformat\u001b[0m\u001b[0;34m(\u001b[0m\u001b[0msql\u001b[0m\u001b[0;34m=\u001b[0m\u001b[0margs\u001b[0m\u001b[0;34m[\u001b[0m\u001b[0;36m0\u001b[0m\u001b[0;34m]\u001b[0m\u001b[0;34m,\u001b[0m \u001b[0mexc\u001b[0m\u001b[0;34m=\u001b[0m\u001b[0mexc\u001b[0m\u001b[0;34m)\u001b[0m\u001b[0;34m\u001b[0m\u001b[0;34m\u001b[0m\u001b[0m\n\u001b[1;32m   1609\u001b[0m             )\n\u001b[0;32m-> 1610\u001b[0;31m             \u001b[0mraise_with_traceback\u001b[0m\u001b[0;34m(\u001b[0m\u001b[0mex\u001b[0m\u001b[0;34m)\u001b[0m\u001b[0;34m\u001b[0m\u001b[0;34m\u001b[0m\u001b[0m\n\u001b[0m\u001b[1;32m   1611\u001b[0m \u001b[0;34m\u001b[0m\u001b[0m\n\u001b[1;32m   1612\u001b[0m     \u001b[0;34m@\u001b[0m\u001b[0mstaticmethod\u001b[0m\u001b[0;34m\u001b[0m\u001b[0;34m\u001b[0m\u001b[0m\n",
      "\u001b[0;32m~/anaconda/envs/insight/lib/python3.6/site-packages/pandas/compat/__init__.py\u001b[0m in \u001b[0;36mraise_with_traceback\u001b[0;34m(exc, traceback)\u001b[0m\n\u001b[1;32m     45\u001b[0m     \u001b[0;32mif\u001b[0m \u001b[0mtraceback\u001b[0m \u001b[0;34m==\u001b[0m \u001b[0mEllipsis\u001b[0m\u001b[0;34m:\u001b[0m\u001b[0;34m\u001b[0m\u001b[0;34m\u001b[0m\u001b[0m\n\u001b[1;32m     46\u001b[0m         \u001b[0m_\u001b[0m\u001b[0;34m,\u001b[0m \u001b[0m_\u001b[0m\u001b[0;34m,\u001b[0m \u001b[0mtraceback\u001b[0m \u001b[0;34m=\u001b[0m \u001b[0msys\u001b[0m\u001b[0;34m.\u001b[0m\u001b[0mexc_info\u001b[0m\u001b[0;34m(\u001b[0m\u001b[0;34m)\u001b[0m\u001b[0;34m\u001b[0m\u001b[0;34m\u001b[0m\u001b[0m\n\u001b[0;32m---> 47\u001b[0;31m     \u001b[0;32mraise\u001b[0m \u001b[0mexc\u001b[0m\u001b[0;34m.\u001b[0m\u001b[0mwith_traceback\u001b[0m\u001b[0;34m(\u001b[0m\u001b[0mtraceback\u001b[0m\u001b[0;34m)\u001b[0m\u001b[0;34m\u001b[0m\u001b[0;34m\u001b[0m\u001b[0m\n\u001b[0m\u001b[1;32m     48\u001b[0m \u001b[0;34m\u001b[0m\u001b[0m\n\u001b[1;32m     49\u001b[0m \u001b[0;34m\u001b[0m\u001b[0m\n",
      "\u001b[0;32m~/anaconda/envs/insight/lib/python3.6/site-packages/pandas/io/sql.py\u001b[0m in \u001b[0;36mexecute\u001b[0;34m(self, *args, **kwargs)\u001b[0m\n\u001b[1;32m   1593\u001b[0m                 \u001b[0mcur\u001b[0m\u001b[0;34m.\u001b[0m\u001b[0mexecute\u001b[0m\u001b[0;34m(\u001b[0m\u001b[0;34m*\u001b[0m\u001b[0margs\u001b[0m\u001b[0;34m,\u001b[0m \u001b[0;34m**\u001b[0m\u001b[0mkwargs\u001b[0m\u001b[0;34m)\u001b[0m\u001b[0;34m\u001b[0m\u001b[0;34m\u001b[0m\u001b[0m\n\u001b[1;32m   1594\u001b[0m             \u001b[0;32melse\u001b[0m\u001b[0;34m:\u001b[0m\u001b[0;34m\u001b[0m\u001b[0;34m\u001b[0m\u001b[0m\n\u001b[0;32m-> 1595\u001b[0;31m                 \u001b[0mcur\u001b[0m\u001b[0;34m.\u001b[0m\u001b[0mexecute\u001b[0m\u001b[0;34m(\u001b[0m\u001b[0;34m*\u001b[0m\u001b[0margs\u001b[0m\u001b[0;34m)\u001b[0m\u001b[0;34m\u001b[0m\u001b[0;34m\u001b[0m\u001b[0m\n\u001b[0m\u001b[1;32m   1596\u001b[0m             \u001b[0;32mreturn\u001b[0m \u001b[0mcur\u001b[0m\u001b[0;34m\u001b[0m\u001b[0;34m\u001b[0m\u001b[0m\n\u001b[1;32m   1597\u001b[0m         \u001b[0;32mexcept\u001b[0m \u001b[0mException\u001b[0m \u001b[0;32mas\u001b[0m \u001b[0mexc\u001b[0m\u001b[0;34m:\u001b[0m\u001b[0;34m\u001b[0m\u001b[0;34m\u001b[0m\u001b[0m\n",
      "\u001b[0;31mDatabaseError\u001b[0m: Execution failed on sql '\nSELECT game_date, TO_DAYS(game_date), inning, strikes FROM statcast\nJOIN player_id\nON statcast.batter=player_id.key_mlbam\nWHERE key_mlbam=\n    (SELECT key_mlbam FROM player_id\n    WHERE name_last='tatis'\n    AND name_first='fernando')\nAND \"events\" IS NOT NULL\nLIMIT 10;\n': function to_days(timestamp without time zone) does not exist\nLINE 2: SELECT game_date, TO_DAYS(game_date), inning, strikes FROM s...\n                          ^\nHINT:  No function matches the given name and argument types. You might need to add explicit type casts.\n"
     ]
    }
   ],
   "source": [
    "sql_query = \"\"\"\n",
    "SELECT game_date, TO_DAYS(game_date), inning, strikes FROM statcast\n",
    "JOIN player_id\n",
    "ON statcast.batter=player_id.key_mlbam\n",
    "WHERE key_mlbam=\n",
    "    (SELECT key_mlbam FROM player_id\n",
    "    WHERE name_last='tatis'\n",
    "    AND name_first='fernando')\n",
    "AND \"events\" IS NOT NULL\n",
    "LIMIT 10;\n",
    "\"\"\"\n",
    "\n",
    "df_query = pd.read_sql_query(sql_query,con)\n",
    "print(df_query)"
   ]
  },
  {
   "cell_type": "code",
   "execution_count": null,
   "metadata": {},
   "outputs": [],
   "source": []
  },
  {
   "cell_type": "markdown",
   "metadata": {},
   "source": [
    "## Using window function for sum"
   ]
  },
  {
   "cell_type": "code",
   "execution_count": 273,
   "metadata": {
    "ExecuteTime": {
     "end_time": "2020-02-24T03:54:28.720741Z",
     "start_time": "2020-02-24T03:54:19.380507Z"
    }
   },
   "outputs": [
    {
     "name": "stdout",
     "output_type": "stream",
     "text": [
      "    level_0  index pitch_type  game_date  release_speed  release_pos_x  \\\n",
      "0    730400  14598         FC 2019-03-28           86.2         2.6059   \n",
      "1    730399  14595         FC 2019-03-28           86.4         2.7543   \n",
      "2    730398  14570         FF 2019-03-28           92.1         2.6641   \n",
      "3    730397  14559         FC 2019-03-28           86.0         2.7570   \n",
      "4    730337  13655         FC 2019-03-28           85.1         2.8588   \n",
      "5    730276  12747         FF 2019-03-28           91.3         2.8440   \n",
      "6    730275  12738         CU 2019-03-28           78.7         2.8329   \n",
      "7    730274  12723         CU 2019-03-28           79.4         2.9261   \n",
      "8    730273  12703         FC 2019-03-28           85.0         2.8221   \n",
      "9    726923  10892         SL 2019-03-29           81.9         3.1131   \n",
      "10   726922  10884         SL 2019-03-29           81.9         3.3420   \n",
      "11   726853  10333         SL 2019-03-29           79.5         3.0098   \n",
      "12   726852  10324         SI 2019-03-29           91.7         3.0372   \n",
      "13   726851  10316         SI 2019-03-29           90.8         2.9628   \n",
      "14   726850  10309         SL 2019-03-29           81.5         3.0765   \n",
      "15   726849  10300         SI 2019-03-29           91.1         2.9695   \n",
      "16   726848  10292         SI 2019-03-29           91.3         2.9293   \n",
      "17   726784   9779         CU 2019-03-29           79.7        -2.8666   \n",
      "18   726783   9767         CU 2019-03-29           79.6        -2.9273   \n",
      "19   726782   9763         FF 2019-03-29           93.3        -3.0010   \n",
      "\n",
      "    release_pos_z        player_name    batter   pitcher  ...  \\\n",
      "0          5.7902  Madison Bumgarner  665487.0  518516.0  ...   \n",
      "1          5.7502  Madison Bumgarner  665487.0  518516.0  ...   \n",
      "2          5.7397  Madison Bumgarner  665487.0  518516.0  ...   \n",
      "3          5.7456  Madison Bumgarner  665487.0  518516.0  ...   \n",
      "4          5.6643  Madison Bumgarner  665487.0  518516.0  ...   \n",
      "5          5.6585  Madison Bumgarner  665487.0  518516.0  ...   \n",
      "6          5.6886  Madison Bumgarner  665487.0  518516.0  ...   \n",
      "7          5.6604  Madison Bumgarner  665487.0  518516.0  ...   \n",
      "8          5.6082  Madison Bumgarner  665487.0  518516.0  ...   \n",
      "9          5.9596      Derek Holland  665487.0  502706.0  ...   \n",
      "10         5.9572      Derek Holland  665487.0  502706.0  ...   \n",
      "11         6.0498      Derek Holland  665487.0  502706.0  ...   \n",
      "12         5.9419      Derek Holland  665487.0  502706.0  ...   \n",
      "13         5.9355      Derek Holland  665487.0  502706.0  ...   \n",
      "14         5.9139      Derek Holland  665487.0  502706.0  ...   \n",
      "15         5.9736      Derek Holland  665487.0  502706.0  ...   \n",
      "16         5.8740      Derek Holland  665487.0  502706.0  ...   \n",
      "17         5.2751        Trevor Gott  665487.0  641627.0  ...   \n",
      "18         5.1128        Trevor Gott  665487.0  641627.0  ...   \n",
      "19         5.1925        Trevor Gott  665487.0  641627.0  ...   \n",
      "\n",
      "   of_fielding_alignment index name_last name_first key_mlbam key_retro  \\\n",
      "0               Standard  1738     tatis   fernando    665487  tatif002   \n",
      "1               Standard  1738     tatis   fernando    665487  tatif002   \n",
      "2               Standard  1738     tatis   fernando    665487  tatif002   \n",
      "3               Standard  1738     tatis   fernando    665487  tatif002   \n",
      "4               Standard  1738     tatis   fernando    665487  tatif002   \n",
      "5               Standard  1738     tatis   fernando    665487  tatif002   \n",
      "6               Standard  1738     tatis   fernando    665487  tatif002   \n",
      "7               Standard  1738     tatis   fernando    665487  tatif002   \n",
      "8               Standard  1738     tatis   fernando    665487  tatif002   \n",
      "9               Standard  1738     tatis   fernando    665487  tatif002   \n",
      "10              Standard  1738     tatis   fernando    665487  tatif002   \n",
      "11              Standard  1738     tatis   fernando    665487  tatif002   \n",
      "12              Standard  1738     tatis   fernando    665487  tatif002   \n",
      "13              Standard  1738     tatis   fernando    665487  tatif002   \n",
      "14              Standard  1738     tatis   fernando    665487  tatif002   \n",
      "15              Standard  1738     tatis   fernando    665487  tatif002   \n",
      "16              Standard  1738     tatis   fernando    665487  tatif002   \n",
      "17              Standard  1738     tatis   fernando    665487  tatif002   \n",
      "18              Standard  1738     tatis   fernando    665487  tatif002   \n",
      "19              Standard  1738     tatis   fernando    665487  tatif002   \n",
      "\n",
      "    key_bbref key_fangraphs mlb_played_first mlb_played_last  \n",
      "0   tatisfe02         19709           2019.0          2019.0  \n",
      "1   tatisfe02         19709           2019.0          2019.0  \n",
      "2   tatisfe02         19709           2019.0          2019.0  \n",
      "3   tatisfe02         19709           2019.0          2019.0  \n",
      "4   tatisfe02         19709           2019.0          2019.0  \n",
      "5   tatisfe02         19709           2019.0          2019.0  \n",
      "6   tatisfe02         19709           2019.0          2019.0  \n",
      "7   tatisfe02         19709           2019.0          2019.0  \n",
      "8   tatisfe02         19709           2019.0          2019.0  \n",
      "9   tatisfe02         19709           2019.0          2019.0  \n",
      "10  tatisfe02         19709           2019.0          2019.0  \n",
      "11  tatisfe02         19709           2019.0          2019.0  \n",
      "12  tatisfe02         19709           2019.0          2019.0  \n",
      "13  tatisfe02         19709           2019.0          2019.0  \n",
      "14  tatisfe02         19709           2019.0          2019.0  \n",
      "15  tatisfe02         19709           2019.0          2019.0  \n",
      "16  tatisfe02         19709           2019.0          2019.0  \n",
      "17  tatisfe02         19709           2019.0          2019.0  \n",
      "18  tatisfe02         19709           2019.0          2019.0  \n",
      "19  tatisfe02         19709           2019.0          2019.0  \n",
      "\n",
      "[20 rows x 100 columns]\n"
     ]
    }
   ],
   "source": [
    "# First show the count - just first 20 rows\n",
    "sql_query = \"\"\"\n",
    "SELECT * FROM statcast\n",
    "JOIN player_id\n",
    "ON statcast.batter=player_id.key_mlbam\n",
    "WHERE key_mlbam=\n",
    "    (SELECT key_mlbam FROM player_id\n",
    "    WHERE name_last='tatis'\n",
    "    AND name_first='fernando')\n",
    "ORDER BY game_date, inning, balls, strikes\n",
    "LIMIT 20;\n",
    "\"\"\"\n",
    "\n",
    "df_query = pd.read_sql_query(sql_query,con)\n",
    "print(df_query)"
   ]
  },
  {
   "cell_type": "code",
   "execution_count": 274,
   "metadata": {
    "ExecuteTime": {
     "end_time": "2020-02-24T03:55:40.215861Z",
     "start_time": "2020-02-24T03:55:28.312598Z"
    }
   },
   "outputs": [
    {
     "name": "stdout",
     "output_type": "stream",
     "text": [
      "    level_0  game_date  inning  balls  strikes\n",
      "0    730400 2019-03-28     2.0    0.0      0.0\n",
      "1    730399 2019-03-28     2.0    0.0      1.0\n",
      "2    730398 2019-03-28     2.0    1.0      1.0\n",
      "3    730397 2019-03-28     2.0    2.0      1.0\n",
      "4    730337 2019-03-28     4.0    0.0      0.0\n",
      "5    730276 2019-03-28     7.0    0.0      0.0\n",
      "6    730275 2019-03-28     7.0    0.0      1.0\n",
      "7    730274 2019-03-28     7.0    0.0      2.0\n",
      "8    730273 2019-03-28     7.0    1.0      2.0\n",
      "9    726923 2019-03-29     2.0    0.0      0.0\n",
      "10   726922 2019-03-29     2.0    1.0      0.0\n",
      "11   726853 2019-03-29     4.0    0.0      0.0\n",
      "12   726852 2019-03-29     4.0    1.0      0.0\n",
      "13   726851 2019-03-29     4.0    2.0      0.0\n",
      "14   726850 2019-03-29     4.0    2.0      1.0\n",
      "15   726849 2019-03-29     4.0    3.0      1.0\n",
      "16   726848 2019-03-29     4.0    3.0      2.0\n",
      "17   726784 2019-03-29     6.0    0.0      0.0\n",
      "18   726783 2019-03-29     6.0    1.0      0.0\n",
      "19   726782 2019-03-29     6.0    2.0      0.0\n"
     ]
    }
   ],
   "source": [
    "# First show the count - just first 20 rows\n",
    "\n",
    "# level_0 is acting as an index\n",
    "sql_query = \"\"\"\n",
    "SELECT level_0, game_date, inning, balls, strikes FROM statcast\n",
    "JOIN player_id\n",
    "ON statcast.batter=player_id.key_mlbam\n",
    "WHERE key_mlbam=\n",
    "    (SELECT key_mlbam FROM player_id\n",
    "    WHERE name_last='tatis'\n",
    "    AND name_first='fernando')\n",
    "ORDER BY game_date, inning, balls, strikes\n",
    "LIMIT 20;\n",
    "\"\"\"\n",
    "\n",
    "df_query = pd.read_sql_query(sql_query,con)\n",
    "print(df_query)"
   ]
  },
  {
   "cell_type": "code",
   "execution_count": 57,
   "metadata": {
    "ExecuteTime": {
     "end_time": "2020-02-29T22:42:57.051437Z",
     "start_time": "2020-02-29T22:42:49.725525Z"
    }
   },
   "outputs": [
    {
     "name": "stdout",
     "output_type": "stream",
     "text": [
      "    game_date  inning  balls  strikes  total_balls_for_date\n",
      "0  2019-04-02     1.0    0.0      0.0                   1.0\n",
      "1  2019-04-02     1.0    0.0      1.0                   1.0\n",
      "2  2019-04-02     1.0    0.0      2.0                   1.0\n",
      "3  2019-04-02     1.0    1.0      2.0                   1.0\n",
      "4  2019-04-13     1.0    0.0      0.0                   0.0\n",
      "5  2019-04-13     1.0    0.0      1.0                   0.0\n",
      "6  2019-04-13     1.0    0.0      2.0                   0.0\n",
      "7  2019-04-18     1.0    0.0      0.0                   8.0\n",
      "8  2019-04-18     1.0    0.0      1.0                   8.0\n",
      "9  2019-04-18     1.0    1.0      1.0                   8.0\n",
      "10 2019-04-18     1.0    2.0      1.0                   8.0\n",
      "11 2019-04-18     1.0    2.0      2.0                   8.0\n",
      "12 2019-04-18     1.0    3.0      2.0                   8.0\n",
      "13 2019-04-19     1.0    0.0      0.0                   2.0\n",
      "14 2019-04-19     1.0    0.0      1.0                   2.0\n",
      "15 2019-04-19     1.0    1.0      1.0                   2.0\n",
      "16 2019-04-19     1.0    1.0      2.0                   2.0\n",
      "17 2019-04-20     1.0    0.0      0.0                   7.0\n",
      "18 2019-04-20     1.0    1.0      0.0                   7.0\n",
      "19 2019-04-20     1.0    2.0      0.0                   7.0\n",
      "20 2019-04-20     1.0    2.0      1.0                   7.0\n",
      "21 2019-04-20     1.0    2.0      2.0                   7.0\n",
      "22 2019-04-21     1.0    0.0      0.0                   0.0\n",
      "23 2019-04-21     1.0    0.0      1.0                   0.0\n",
      "24 2019-04-21     1.0    0.0      2.0                   0.0\n",
      "25 2019-04-23     1.0    0.0      0.0                  11.0\n",
      "26 2019-04-23     1.0    0.0      1.0                  11.0\n",
      "27 2019-04-23     1.0    1.0      1.0                  11.0\n",
      "28 2019-04-23     1.0    1.0      2.0                  11.0\n",
      "29 2019-04-23     1.0    2.0      2.0                  11.0\n",
      "30 2019-04-23     1.0    2.0      2.0                  11.0\n",
      "31 2019-04-23     1.0    2.0      2.0                  11.0\n",
      "32 2019-04-23     1.0    3.0      2.0                  11.0\n",
      "33 2019-04-24     1.0    0.0      0.0                   0.0\n",
      "34 2019-04-24     1.0    0.0      1.0                   0.0\n",
      "35 2019-04-24     1.0    0.0      2.0                   0.0\n",
      "36 2019-04-26     1.0    0.0      0.0                   1.0\n",
      "37 2019-04-26     1.0    0.0      1.0                   1.0\n",
      "38 2019-04-26     1.0    0.0      2.0                   1.0\n",
      "39 2019-04-26     1.0    0.0      2.0                   1.0\n"
     ]
    }
   ],
   "source": [
    "# Make running sum of number of balls - just first 20 rows - not sure if this exactly I intended\n",
    "sql_query = \"\"\"\n",
    "SELECT s.game_date, s.inning, s.balls, s.strikes, SUM(balls) OVER(PARTITION BY game_date) AS total_balls_for_date\n",
    "FROM statcast AS s\n",
    "JOIN player_id\n",
    "ON s.batter=player_id.key_mlbam\n",
    "WHERE key_mlbam=\n",
    "    (SELECT key_mlbam FROM player_id\n",
    "    WHERE name_last='tatis'\n",
    "    AND name_first='fernando')\n",
    "AND s.inning<2\n",
    "ORDER BY s.game_date, s.inning, s.balls, s.strikes\n",
    "LIMIT 40;\n",
    "\"\"\"\n",
    "\n",
    "df_query = pd.read_sql_query(sql_query,con)\n",
    "print(df_query)"
   ]
  },
  {
   "cell_type": "code",
   "execution_count": 65,
   "metadata": {
    "ExecuteTime": {
     "end_time": "2020-02-29T22:45:21.529617Z",
     "start_time": "2020-02-29T22:45:21.492204Z"
    }
   },
   "outputs": [
    {
     "ename": "DatabaseError",
     "evalue": "Execution failed on sql '\nSELECT s.game_date, s.inning AS i_alias, s.balls, s.strikes, SUM(balls) OVER(PARTITION BY game_date) AS total_balls_for_date\nFROM statcast AS s\nJOIN player_id\nON s.batter=player_id.key_mlbam\nWHERE key_mlbam=\n    (SELECT key_mlbam FROM player_id\n    WHERE name_last='tatis'\n    AND name_first='fernando')\nAND s.i_alias < 2\nORDER BY s.game_date, s.balls, s.strikes\nLIMIT 40;\n': column s.i_alias does not exist\nLINE 10: AND s.i_alias < 2\n             ^\n",
     "output_type": "error",
     "traceback": [
      "\u001b[0;31m---------------------------------------------------------------------------\u001b[0m",
      "\u001b[0;31mUndefinedColumn\u001b[0m                           Traceback (most recent call last)",
      "\u001b[0;32m~/anaconda/envs/insight/lib/python3.6/site-packages/pandas/io/sql.py\u001b[0m in \u001b[0;36mexecute\u001b[0;34m(self, *args, **kwargs)\u001b[0m\n\u001b[1;32m   1594\u001b[0m             \u001b[0;32melse\u001b[0m\u001b[0;34m:\u001b[0m\u001b[0;34m\u001b[0m\u001b[0;34m\u001b[0m\u001b[0m\n\u001b[0;32m-> 1595\u001b[0;31m                 \u001b[0mcur\u001b[0m\u001b[0;34m.\u001b[0m\u001b[0mexecute\u001b[0m\u001b[0;34m(\u001b[0m\u001b[0;34m*\u001b[0m\u001b[0margs\u001b[0m\u001b[0;34m)\u001b[0m\u001b[0;34m\u001b[0m\u001b[0;34m\u001b[0m\u001b[0m\n\u001b[0m\u001b[1;32m   1596\u001b[0m             \u001b[0;32mreturn\u001b[0m \u001b[0mcur\u001b[0m\u001b[0;34m\u001b[0m\u001b[0;34m\u001b[0m\u001b[0m\n",
      "\u001b[0;31mUndefinedColumn\u001b[0m: column s.i_alias does not exist\nLINE 10: AND s.i_alias < 2\n             ^\n",
      "\nDuring handling of the above exception, another exception occurred:\n",
      "\u001b[0;31mDatabaseError\u001b[0m                             Traceback (most recent call last)",
      "\u001b[0;32m<ipython-input-65-675ebf5333ca>\u001b[0m in \u001b[0;36m<module>\u001b[0;34m\u001b[0m\n\u001b[1;32m     14\u001b[0m \"\"\"\n\u001b[1;32m     15\u001b[0m \u001b[0;34m\u001b[0m\u001b[0m\n\u001b[0;32m---> 16\u001b[0;31m \u001b[0mdf_query\u001b[0m \u001b[0;34m=\u001b[0m \u001b[0mpd\u001b[0m\u001b[0;34m.\u001b[0m\u001b[0mread_sql_query\u001b[0m\u001b[0;34m(\u001b[0m\u001b[0msql_query\u001b[0m\u001b[0;34m,\u001b[0m\u001b[0mcon\u001b[0m\u001b[0;34m)\u001b[0m\u001b[0;34m\u001b[0m\u001b[0;34m\u001b[0m\u001b[0m\n\u001b[0m\u001b[1;32m     17\u001b[0m \u001b[0mprint\u001b[0m\u001b[0;34m(\u001b[0m\u001b[0mdf_query\u001b[0m\u001b[0;34m)\u001b[0m\u001b[0;34m\u001b[0m\u001b[0;34m\u001b[0m\u001b[0m\n",
      "\u001b[0;32m~/anaconda/envs/insight/lib/python3.6/site-packages/pandas/io/sql.py\u001b[0m in \u001b[0;36mread_sql_query\u001b[0;34m(sql, con, index_col, coerce_float, params, parse_dates, chunksize)\u001b[0m\n\u001b[1;32m    330\u001b[0m         \u001b[0mcoerce_float\u001b[0m\u001b[0;34m=\u001b[0m\u001b[0mcoerce_float\u001b[0m\u001b[0;34m,\u001b[0m\u001b[0;34m\u001b[0m\u001b[0;34m\u001b[0m\u001b[0m\n\u001b[1;32m    331\u001b[0m         \u001b[0mparse_dates\u001b[0m\u001b[0;34m=\u001b[0m\u001b[0mparse_dates\u001b[0m\u001b[0;34m,\u001b[0m\u001b[0;34m\u001b[0m\u001b[0;34m\u001b[0m\u001b[0m\n\u001b[0;32m--> 332\u001b[0;31m         \u001b[0mchunksize\u001b[0m\u001b[0;34m=\u001b[0m\u001b[0mchunksize\u001b[0m\u001b[0;34m,\u001b[0m\u001b[0;34m\u001b[0m\u001b[0;34m\u001b[0m\u001b[0m\n\u001b[0m\u001b[1;32m    333\u001b[0m     )\n\u001b[1;32m    334\u001b[0m \u001b[0;34m\u001b[0m\u001b[0m\n",
      "\u001b[0;32m~/anaconda/envs/insight/lib/python3.6/site-packages/pandas/io/sql.py\u001b[0m in \u001b[0;36mread_query\u001b[0;34m(self, sql, index_col, coerce_float, params, parse_dates, chunksize)\u001b[0m\n\u001b[1;32m   1643\u001b[0m \u001b[0;34m\u001b[0m\u001b[0m\n\u001b[1;32m   1644\u001b[0m         \u001b[0margs\u001b[0m \u001b[0;34m=\u001b[0m \u001b[0m_convert_params\u001b[0m\u001b[0;34m(\u001b[0m\u001b[0msql\u001b[0m\u001b[0;34m,\u001b[0m \u001b[0mparams\u001b[0m\u001b[0;34m)\u001b[0m\u001b[0;34m\u001b[0m\u001b[0;34m\u001b[0m\u001b[0m\n\u001b[0;32m-> 1645\u001b[0;31m         \u001b[0mcursor\u001b[0m \u001b[0;34m=\u001b[0m \u001b[0mself\u001b[0m\u001b[0;34m.\u001b[0m\u001b[0mexecute\u001b[0m\u001b[0;34m(\u001b[0m\u001b[0;34m*\u001b[0m\u001b[0margs\u001b[0m\u001b[0;34m)\u001b[0m\u001b[0;34m\u001b[0m\u001b[0;34m\u001b[0m\u001b[0m\n\u001b[0m\u001b[1;32m   1646\u001b[0m         \u001b[0mcolumns\u001b[0m \u001b[0;34m=\u001b[0m \u001b[0;34m[\u001b[0m\u001b[0mcol_desc\u001b[0m\u001b[0;34m[\u001b[0m\u001b[0;36m0\u001b[0m\u001b[0;34m]\u001b[0m \u001b[0;32mfor\u001b[0m \u001b[0mcol_desc\u001b[0m \u001b[0;32min\u001b[0m \u001b[0mcursor\u001b[0m\u001b[0;34m.\u001b[0m\u001b[0mdescription\u001b[0m\u001b[0;34m]\u001b[0m\u001b[0;34m\u001b[0m\u001b[0;34m\u001b[0m\u001b[0m\n\u001b[1;32m   1647\u001b[0m \u001b[0;34m\u001b[0m\u001b[0m\n",
      "\u001b[0;32m~/anaconda/envs/insight/lib/python3.6/site-packages/pandas/io/sql.py\u001b[0m in \u001b[0;36mexecute\u001b[0;34m(self, *args, **kwargs)\u001b[0m\n\u001b[1;32m   1608\u001b[0m                 \u001b[0;34m\"Execution failed on sql '{sql}': {exc}\"\u001b[0m\u001b[0;34m.\u001b[0m\u001b[0mformat\u001b[0m\u001b[0;34m(\u001b[0m\u001b[0msql\u001b[0m\u001b[0;34m=\u001b[0m\u001b[0margs\u001b[0m\u001b[0;34m[\u001b[0m\u001b[0;36m0\u001b[0m\u001b[0;34m]\u001b[0m\u001b[0;34m,\u001b[0m \u001b[0mexc\u001b[0m\u001b[0;34m=\u001b[0m\u001b[0mexc\u001b[0m\u001b[0;34m)\u001b[0m\u001b[0;34m\u001b[0m\u001b[0;34m\u001b[0m\u001b[0m\n\u001b[1;32m   1609\u001b[0m             )\n\u001b[0;32m-> 1610\u001b[0;31m             \u001b[0mraise_with_traceback\u001b[0m\u001b[0;34m(\u001b[0m\u001b[0mex\u001b[0m\u001b[0;34m)\u001b[0m\u001b[0;34m\u001b[0m\u001b[0;34m\u001b[0m\u001b[0m\n\u001b[0m\u001b[1;32m   1611\u001b[0m \u001b[0;34m\u001b[0m\u001b[0m\n\u001b[1;32m   1612\u001b[0m     \u001b[0;34m@\u001b[0m\u001b[0mstaticmethod\u001b[0m\u001b[0;34m\u001b[0m\u001b[0;34m\u001b[0m\u001b[0m\n",
      "\u001b[0;32m~/anaconda/envs/insight/lib/python3.6/site-packages/pandas/compat/__init__.py\u001b[0m in \u001b[0;36mraise_with_traceback\u001b[0;34m(exc, traceback)\u001b[0m\n\u001b[1;32m     45\u001b[0m     \u001b[0;32mif\u001b[0m \u001b[0mtraceback\u001b[0m \u001b[0;34m==\u001b[0m \u001b[0mEllipsis\u001b[0m\u001b[0;34m:\u001b[0m\u001b[0;34m\u001b[0m\u001b[0;34m\u001b[0m\u001b[0m\n\u001b[1;32m     46\u001b[0m         \u001b[0m_\u001b[0m\u001b[0;34m,\u001b[0m \u001b[0m_\u001b[0m\u001b[0;34m,\u001b[0m \u001b[0mtraceback\u001b[0m \u001b[0;34m=\u001b[0m \u001b[0msys\u001b[0m\u001b[0;34m.\u001b[0m\u001b[0mexc_info\u001b[0m\u001b[0;34m(\u001b[0m\u001b[0;34m)\u001b[0m\u001b[0;34m\u001b[0m\u001b[0;34m\u001b[0m\u001b[0m\n\u001b[0;32m---> 47\u001b[0;31m     \u001b[0;32mraise\u001b[0m \u001b[0mexc\u001b[0m\u001b[0;34m.\u001b[0m\u001b[0mwith_traceback\u001b[0m\u001b[0;34m(\u001b[0m\u001b[0mtraceback\u001b[0m\u001b[0;34m)\u001b[0m\u001b[0;34m\u001b[0m\u001b[0;34m\u001b[0m\u001b[0m\n\u001b[0m\u001b[1;32m     48\u001b[0m \u001b[0;34m\u001b[0m\u001b[0m\n\u001b[1;32m     49\u001b[0m \u001b[0;34m\u001b[0m\u001b[0m\n",
      "\u001b[0;32m~/anaconda/envs/insight/lib/python3.6/site-packages/pandas/io/sql.py\u001b[0m in \u001b[0;36mexecute\u001b[0;34m(self, *args, **kwargs)\u001b[0m\n\u001b[1;32m   1593\u001b[0m                 \u001b[0mcur\u001b[0m\u001b[0;34m.\u001b[0m\u001b[0mexecute\u001b[0m\u001b[0;34m(\u001b[0m\u001b[0;34m*\u001b[0m\u001b[0margs\u001b[0m\u001b[0;34m,\u001b[0m \u001b[0;34m**\u001b[0m\u001b[0mkwargs\u001b[0m\u001b[0;34m)\u001b[0m\u001b[0;34m\u001b[0m\u001b[0;34m\u001b[0m\u001b[0m\n\u001b[1;32m   1594\u001b[0m             \u001b[0;32melse\u001b[0m\u001b[0;34m:\u001b[0m\u001b[0;34m\u001b[0m\u001b[0;34m\u001b[0m\u001b[0m\n\u001b[0;32m-> 1595\u001b[0;31m                 \u001b[0mcur\u001b[0m\u001b[0;34m.\u001b[0m\u001b[0mexecute\u001b[0m\u001b[0;34m(\u001b[0m\u001b[0;34m*\u001b[0m\u001b[0margs\u001b[0m\u001b[0;34m)\u001b[0m\u001b[0;34m\u001b[0m\u001b[0;34m\u001b[0m\u001b[0m\n\u001b[0m\u001b[1;32m   1596\u001b[0m             \u001b[0;32mreturn\u001b[0m \u001b[0mcur\u001b[0m\u001b[0;34m\u001b[0m\u001b[0;34m\u001b[0m\u001b[0m\n\u001b[1;32m   1597\u001b[0m         \u001b[0;32mexcept\u001b[0m \u001b[0mException\u001b[0m \u001b[0;32mas\u001b[0m \u001b[0mexc\u001b[0m\u001b[0;34m:\u001b[0m\u001b[0;34m\u001b[0m\u001b[0;34m\u001b[0m\u001b[0m\n",
      "\u001b[0;31mDatabaseError\u001b[0m: Execution failed on sql '\nSELECT s.game_date, s.inning AS i_alias, s.balls, s.strikes, SUM(balls) OVER(PARTITION BY game_date) AS total_balls_for_date\nFROM statcast AS s\nJOIN player_id\nON s.batter=player_id.key_mlbam\nWHERE key_mlbam=\n    (SELECT key_mlbam FROM player_id\n    WHERE name_last='tatis'\n    AND name_first='fernando')\nAND s.i_alias < 2\nORDER BY s.game_date, s.balls, s.strikes\nLIMIT 40;\n': column s.i_alias does not exist\nLINE 10: AND s.i_alias < 2\n             ^\n"
     ]
    }
   ],
   "source": [
    "# Make running sum of number of balls - just first 20 rows - not sure if this exactly I intended\n",
    "sql_query = \"\"\"\n",
    "SELECT s.game_date, s.inning AS i_alias, s.balls, s.strikes, SUM(balls) OVER(PARTITION BY game_date) AS total_balls_for_date\n",
    "FROM statcast AS s\n",
    "JOIN player_id\n",
    "ON s.batter=player_id.key_mlbam\n",
    "WHERE key_mlbam=\n",
    "    (SELECT key_mlbam FROM player_id\n",
    "    WHERE name_last='tatis'\n",
    "    AND name_first='fernando')\n",
    "AND s.i_alias < 2\n",
    "ORDER BY s.game_date, s.balls, s.strikes\n",
    "LIMIT 40;\n",
    "\"\"\"\n",
    "\n",
    "df_query = pd.read_sql_query(sql_query,con)\n",
    "print(df_query)"
   ]
  },
  {
   "cell_type": "code",
   "execution_count": 37,
   "metadata": {
    "ExecuteTime": {
     "end_time": "2020-02-29T22:33:07.417523Z",
     "start_time": "2020-02-29T22:32:56.047460Z"
    }
   },
   "outputs": [
    {
     "name": "stdout",
     "output_type": "stream",
     "text": [
      "    i_alias       avg\n",
      "0       1.0  0.869565\n",
      "1       2.0  0.879032\n",
      "2       3.0  1.028708\n",
      "3       4.0  0.878261\n",
      "4       5.0  0.887931\n",
      "5       6.0  0.806897\n",
      "6       7.0  0.985714\n",
      "7       8.0  0.938650\n",
      "8       9.0  0.992593\n",
      "9      10.0  1.000000\n",
      "10     11.0  1.500000\n",
      "11     12.0  0.500000\n"
     ]
    }
   ],
   "source": [
    "# Make running sum of number of balls - just first 20 rows - not sure if this exactly I intended\n",
    "sql_query = \"\"\"\n",
    "SELECT inning AS i_alias, AVG(balls)\n",
    "FROM statcast\n",
    "JOIN player_id\n",
    "ON statcast.batter=player_id.key_mlbam\n",
    "WHERE key_mlbam=\n",
    "    (SELECT key_mlbam FROM player_id\n",
    "    WHERE name_last='tatis'\n",
    "    AND name_first='fernando')\n",
    "GROUP BY i_alias\n",
    "LIMIT 40;\n",
    "\"\"\"\n",
    "\n",
    "df_query = pd.read_sql_query(sql_query,con)\n",
    "print(df_query)"
   ]
  },
  {
   "cell_type": "code",
   "execution_count": null,
   "metadata": {},
   "outputs": [],
   "source": []
  },
  {
   "cell_type": "markdown",
   "metadata": {
    "ExecuteTime": {
     "end_time": "2020-02-24T05:44:41.307849Z",
     "start_time": "2020-02-24T05:44:41.251580Z"
    }
   },
   "source": [
    "## Using window function, rank - show pitch speed and rank"
   ]
  },
  {
   "cell_type": "code",
   "execution_count": null,
   "metadata": {},
   "outputs": [],
   "source": [
    "RANK() OVER (\n",
    "    [PARTITION BY partition_expression, ... ]\n",
    "    ORDER BY sort_expression [ASC | DESC], ...\n",
    ")"
   ]
  },
  {
   "cell_type": "code",
   "execution_count": 281,
   "metadata": {
    "ExecuteTime": {
     "end_time": "2020-02-24T05:46:03.397646Z",
     "start_time": "2020-02-24T05:45:41.199137Z"
    }
   },
   "outputs": [
    {
     "name": "stdout",
     "output_type": "stream",
     "text": [
      "         player_name  release_speed\n",
      "0  Madison Bumgarner           86.2\n",
      "1  Madison Bumgarner           86.4\n",
      "2  Madison Bumgarner           92.1\n",
      "3  Madison Bumgarner           86.0\n",
      "4  Madison Bumgarner           85.1\n",
      "5  Madison Bumgarner           91.3\n",
      "6  Madison Bumgarner           78.7\n",
      "7  Madison Bumgarner           79.4\n",
      "8  Madison Bumgarner           85.0\n",
      "9      Derek Holland           81.9\n"
     ]
    }
   ],
   "source": [
    "# First show release speed - just first 10 rows\n",
    "sql_query = \"\"\"\n",
    "SELECT player_name, release_speed FROM statcast\n",
    "JOIN player_id\n",
    "ON statcast.batter=player_id.key_mlbam\n",
    "WHERE key_mlbam=\n",
    "    (SELECT key_mlbam FROM player_id\n",
    "    WHERE name_last='tatis'\n",
    "    AND name_first='fernando')\n",
    "ORDER BY game_date, inning, balls, strikes\n",
    "LIMIT 10;\n",
    "\"\"\"\n",
    "\n",
    "df_query = pd.read_sql_query(sql_query,con)\n",
    "print(df_query)"
   ]
  },
  {
   "cell_type": "code",
   "execution_count": 26,
   "metadata": {
    "ExecuteTime": {
     "end_time": "2020-02-28T18:39:43.061526Z",
     "start_time": "2020-02-28T18:39:21.661916Z"
    }
   },
   "outputs": [
    {
     "name": "stdout",
     "output_type": "stream",
     "text": [
      "          player_name  release_speed  rank\n",
      "0   Madison Bumgarner           86.2   919\n",
      "1   Madison Bumgarner           86.4   903\n",
      "2   Madison Bumgarner           92.1   440\n",
      "3   Madison Bumgarner           86.0   928\n",
      "4   Madison Bumgarner           85.1   996\n",
      "5   Madison Bumgarner           91.3   531\n",
      "6   Madison Bumgarner           78.7  1315\n",
      "7   Madison Bumgarner           79.4  1295\n",
      "8   Madison Bumgarner           85.0  1006\n",
      "9       Derek Holland           81.9  1196\n",
      "10      Derek Holland           81.9  1196\n",
      "11      Derek Holland           79.5  1291\n",
      "12      Derek Holland           91.7   490\n",
      "13      Derek Holland           90.8   580\n",
      "14      Derek Holland           81.5  1213\n",
      "15      Derek Holland           91.1   553\n",
      "16      Derek Holland           91.3   531\n",
      "17        Trevor Gott           79.7  1281\n",
      "18        Trevor Gott           79.6  1285\n",
      "19        Trevor Gott           93.3   309\n"
     ]
    }
   ],
   "source": [
    "# Using OVER() with ORDER BY\n",
    "sql_query = \"\"\"\n",
    "SELECT player_name, release_speed, \n",
    "    RANK() OVER(ORDER BY release_speed DESC)\n",
    "FROM statcast\n",
    "JOIN player_id\n",
    "ON statcast.batter=player_id.key_mlbam\n",
    "WHERE key_mlbam=\n",
    "    (SELECT key_mlbam FROM player_id\n",
    "    WHERE name_last='tatis'\n",
    "    AND name_first='fernando')\n",
    "ORDER BY game_date, inning, balls, strikes\n",
    "LIMIT 20;\n",
    "\"\"\"\n",
    "\n",
    "df_query = pd.read_sql_query(sql_query,con)\n",
    "print(df_query)"
   ]
  },
  {
   "cell_type": "code",
   "execution_count": 42,
   "metadata": {
    "ExecuteTime": {
     "end_time": "2020-02-29T22:35:37.813583Z",
     "start_time": "2020-02-29T22:35:37.780573Z"
    }
   },
   "outputs": [
    {
     "name": "stdout",
     "output_type": "stream",
     "text": [
      "    index pitch_type  game_date  release_speed home_team away_team    batter  \\\n",
      "0       0         FT 2017-06-09           89.7        TB       OAK  446334.0   \n",
      "1       1         FC 2017-06-09           83.8        TB       OAK  446334.0   \n",
      "2       2         CH 2017-06-09           82.6        TB       OAK  572816.0   \n",
      "3       3         FT 2017-06-09           90.0        TB       OAK  605480.0   \n",
      "4       4         FT 2017-06-09           89.9        TB       OAK  605480.0   \n",
      "5       5         FT 2017-06-09           89.8        TB       OAK  605480.0   \n",
      "6       6         FT 2017-06-09           89.9        TB       OAK  605480.0   \n",
      "7       7         FT 2017-06-09           90.2        TB       OAK  491696.0   \n",
      "8       8         FT 2017-06-09           89.8        TB       OAK  491696.0   \n",
      "9       9         FC 2017-06-09           84.9        TB       OAK  491696.0   \n",
      "10     10         FT 2017-06-09           89.3        TB       OAK  621002.0   \n",
      "11     11         FC 2017-06-09           84.9        TB       OAK  621002.0   \n",
      "12     12         FT 2017-06-09           89.9        TB       OAK  621002.0   \n",
      "13     13         FF 2017-06-09           89.9        TB       OAK  542921.0   \n",
      "14     14         FF 2017-06-09           90.9        TB       OAK  595144.0   \n",
      "15     15         KC 2017-06-09           80.8        TB       OAK  595144.0   \n",
      "16     16         FS 2017-06-09           85.1        TB       OAK  595144.0   \n",
      "17     17         FF 2017-06-09           91.7        TB       OAK  595144.0   \n",
      "18     18         FS 2017-06-09           86.4        TB       OAK  595144.0   \n",
      "19     19         FF 2017-06-09           91.8        TB       OAK  640461.0   \n",
      "\n",
      "     pitcher  balls  strikes  home_score  away_score  \n",
      "0   594943.0    1.0      0.0        13.0         0.0  \n",
      "1   594943.0    0.0      0.0        13.0         0.0  \n",
      "2   594943.0    0.0      0.0        10.0         0.0  \n",
      "3   594943.0    1.0      2.0        10.0         0.0  \n",
      "4   594943.0    0.0      2.0        10.0         0.0  \n",
      "5   594943.0    0.0      1.0        10.0         0.0  \n",
      "6   594943.0    0.0      0.0        10.0         0.0  \n",
      "7   594943.0    1.0      1.0         9.0         0.0  \n",
      "8   594943.0    0.0      1.0         9.0         0.0  \n",
      "9   594943.0    0.0      0.0         9.0         0.0  \n",
      "10  594943.0    1.0      1.0         9.0         0.0  \n",
      "11  594943.0    1.0      0.0         9.0         0.0  \n",
      "12  594943.0    0.0      0.0         9.0         0.0  \n",
      "13  594943.0    0.0      0.0         8.0         0.0  \n",
      "14  502171.0    2.0      2.0         8.0         0.0  \n",
      "15  502171.0    1.0      2.0         8.0         0.0  \n",
      "16  502171.0    1.0      1.0         8.0         0.0  \n",
      "17  502171.0    1.0      0.0         8.0         0.0  \n",
      "18  502171.0    0.0      0.0         8.0         0.0  \n",
      "19  502171.0    1.0      2.0         8.0         0.0  \n"
     ]
    }
   ],
   "source": [
    "# Using OVER() with ORDER BY\n",
    "sql_query = \"\"\"\n",
    "SELECT *\n",
    "FROM statcast_simple\n",
    "LIMIT 20;\n",
    "\"\"\"\n",
    "\n",
    "df_query = pd.read_sql_query(sql_query,con)\n",
    "print(df_query)"
   ]
  },
  {
   "cell_type": "code",
   "execution_count": 50,
   "metadata": {
    "ExecuteTime": {
     "end_time": "2020-02-29T22:38:19.875603Z",
     "start_time": "2020-02-29T22:38:19.845015Z"
    }
   },
   "outputs": [
    {
     "name": "stdout",
     "output_type": "stream",
     "text": [
      "      pitcher        avg\n",
      "0    606930.0  94.385106\n",
      "1    621381.0  90.830612\n",
      "2    600526.0  93.830000\n",
      "3    519076.0  90.933333\n",
      "4    621121.0  89.980220\n",
      "..        ...        ...\n",
      "234  593423.0  95.440741\n",
      "235  542947.0  87.387500\n",
      "236  450172.0  87.234545\n",
      "237  571871.0  89.716667\n",
      "238  547179.0  91.717647\n",
      "\n",
      "[239 rows x 2 columns]\n"
     ]
    }
   ],
   "source": [
    "# Using OVER() with ORDER BY\n",
    "sql_query = \"\"\"\n",
    "SELECT pitcher, AVG(release_speed)\n",
    "FROM statcast_simple\n",
    "GROUP BY pitcher;\n",
    "\"\"\"\n",
    "\n",
    "df_query = pd.read_sql_query(sql_query,con)\n",
    "print(df_query)"
   ]
  },
  {
   "cell_type": "code",
   "execution_count": 27,
   "metadata": {
    "ExecuteTime": {
     "end_time": "2020-02-28T18:39:55.442563Z",
     "start_time": "2020-02-28T18:39:43.229866Z"
    }
   },
   "outputs": [
    {
     "name": "stdout",
     "output_type": "stream",
     "text": [
      "        player_name  release_speed  pitchers_speed_rank\n",
      "0       A.J. Minter           97.3                    1\n",
      "1       A.J. Minter           92.6                    2\n",
      "2       A.J. Minter           92.2                    3\n",
      "3   Adam Wainwright           91.0                    1\n",
      "4   Adam Wainwright           90.9                    2\n",
      "5   Adam Wainwright           90.7                    3\n",
      "6   Adam Wainwright           90.6                    4\n",
      "7   Adam Wainwright           88.5                    5\n",
      "8   Adam Wainwright           88.0                    6\n",
      "9   Adam Wainwright           85.7                    7\n",
      "10  Adam Wainwright           85.2                    8\n",
      "11  Adam Wainwright           82.2                    9\n",
      "12  Adam Wainwright           75.6                   10\n",
      "13  Adam Wainwright           75.2                   11\n",
      "14  Adam Wainwright           74.7                   12\n",
      "15    Adrian Houser           87.7                    1\n",
      "16    Adrian Houser           86.3                    2\n",
      "17    Adrian Houser           86.0                    3\n",
      "18    Adrian Houser           85.5                    4\n",
      "19       Alex Reyes           97.2                    1\n"
     ]
    }
   ],
   "source": [
    "# Using OVER() with ORDER BY, partitioning by player_name - with RANK() (not DENSE_RANK)\n",
    "sql_query = \"\"\"\n",
    "SELECT player_name, release_speed, \n",
    "    RANK() OVER(PARTITION BY player_name ORDER BY release_speed DESC) pitchers_speed_rank\n",
    "FROM statcast\n",
    "JOIN player_id\n",
    "ON statcast.batter=player_id.key_mlbam\n",
    "WHERE key_mlbam=\n",
    "    (SELECT key_mlbam FROM player_id\n",
    "    WHERE name_last='tatis'\n",
    "    AND name_first='fernando')\n",
    "ORDER BY player_name, pitchers_speed_rank\n",
    "LIMIT 20;\n",
    "\"\"\"\n",
    "\n",
    "df_query = pd.read_sql_query(sql_query,con)\n",
    "print(df_query)"
   ]
  },
  {
   "cell_type": "code",
   "execution_count": 28,
   "metadata": {
    "ExecuteTime": {
     "end_time": "2020-02-28T18:40:04.369385Z",
     "start_time": "2020-02-28T18:39:55.476322Z"
    }
   },
   "outputs": [
    {
     "name": "stdout",
     "output_type": "stream",
     "text": [
      "        player_name  release_speed  pitchers_speed_rank\n",
      "0       A.J. Minter           97.3                    1\n",
      "1       A.J. Minter           92.6                    2\n",
      "2       A.J. Minter           92.2                    3\n",
      "3   Adam Wainwright           91.0                    1\n",
      "4   Adam Wainwright           90.9                    2\n",
      "5   Adam Wainwright           90.7                    3\n",
      "6   Adam Wainwright           90.6                    4\n",
      "7   Adam Wainwright           88.5                    5\n",
      "8   Adam Wainwright           88.0                    6\n",
      "9   Adam Wainwright           85.7                    7\n",
      "10  Adam Wainwright           85.2                    8\n",
      "11  Adam Wainwright           82.2                    9\n",
      "12  Adam Wainwright           75.6                   10\n",
      "13  Adam Wainwright           75.2                   11\n",
      "14  Adam Wainwright           74.7                   12\n",
      "15    Adrian Houser           87.7                    1\n",
      "16    Adrian Houser           86.3                    2\n",
      "17    Adrian Houser           86.0                    3\n",
      "18    Adrian Houser           85.5                    4\n",
      "19       Alex Reyes           97.2                    1\n"
     ]
    }
   ],
   "source": [
    "# Using OVER() with ORDER BY, partitioning by player_name\n",
    "sql_query = \"\"\"\n",
    "SELECT player_name, release_speed, \n",
    "    DENSE_RANK() OVER(PARTITION BY player_name ORDER BY release_speed DESC) pitchers_speed_rank\n",
    "FROM statcast\n",
    "JOIN player_id\n",
    "ON statcast.batter=player_id.key_mlbam\n",
    "WHERE key_mlbam=\n",
    "    (SELECT key_mlbam FROM player_id\n",
    "    WHERE name_last='tatis'\n",
    "    AND name_first='fernando')\n",
    "ORDER BY player_name, pitchers_speed_rank\n",
    "LIMIT 20;\n",
    "\"\"\"\n",
    "\n",
    "df_query = pd.read_sql_query(sql_query,con)\n",
    "print(df_query)"
   ]
  },
  {
   "cell_type": "code",
   "execution_count": 30,
   "metadata": {
    "ExecuteTime": {
     "end_time": "2020-02-28T18:43:09.833205Z",
     "start_time": "2020-02-28T18:43:03.557461Z"
    }
   },
   "outputs": [
    {
     "name": "stdout",
     "output_type": "stream",
     "text": [
      "        player_name  round  pitchers_speed_rank\n",
      "0       A.J. Minter   97.0                    1\n",
      "1       A.J. Minter   93.0                    2\n",
      "2       A.J. Minter   92.0                    3\n",
      "3   Adam Wainwright   91.0                    1\n",
      "4   Adam Wainwright   91.0                    1\n",
      "5   Adam Wainwright   91.0                    1\n",
      "6   Adam Wainwright   91.0                    1\n",
      "7   Adam Wainwright   88.0                    5\n",
      "8   Adam Wainwright   88.0                    5\n",
      "9   Adam Wainwright   86.0                    7\n",
      "10  Adam Wainwright   85.0                    8\n",
      "11  Adam Wainwright   82.0                    9\n",
      "12  Adam Wainwright   76.0                   10\n",
      "13  Adam Wainwright   75.0                   11\n",
      "14  Adam Wainwright   75.0                   11\n",
      "15    Adrian Houser   88.0                    1\n",
      "16    Adrian Houser   86.0                    2\n",
      "17    Adrian Houser   86.0                    2\n",
      "18    Adrian Houser   86.0                    2\n",
      "19       Alex Reyes   97.0                    1\n"
     ]
    }
   ],
   "source": [
    "# Using OVER() with ORDER BY, partitioning by player_name - mimicking what ties would look like\n",
    "sql_query = \"\"\"\n",
    "SELECT player_name, ROUND(release_speed), \n",
    "    RANK() OVER(PARTITION BY player_name ORDER BY ROUND(release_speed) DESC) pitchers_speed_rank\n",
    "FROM statcast\n",
    "JOIN player_id\n",
    "ON statcast.batter=player_id.key_mlbam\n",
    "WHERE key_mlbam=\n",
    "    (SELECT key_mlbam FROM player_id\n",
    "    WHERE name_last='tatis'\n",
    "    AND name_first='fernando')\n",
    "ORDER BY player_name, pitchers_speed_rank\n",
    "LIMIT 20;\n",
    "\"\"\"\n",
    "\n",
    "df_query = pd.read_sql_query(sql_query,con)\n",
    "print(df_query)"
   ]
  },
  {
   "cell_type": "code",
   "execution_count": 31,
   "metadata": {
    "ExecuteTime": {
     "end_time": "2020-02-28T18:43:15.599567Z",
     "start_time": "2020-02-28T18:43:09.860977Z"
    }
   },
   "outputs": [
    {
     "name": "stdout",
     "output_type": "stream",
     "text": [
      "        player_name  round  pitchers_speed_rank\n",
      "0       A.J. Minter   97.0                    1\n",
      "1       A.J. Minter   93.0                    2\n",
      "2       A.J. Minter   92.0                    3\n",
      "3   Adam Wainwright   91.0                    1\n",
      "4   Adam Wainwright   91.0                    1\n",
      "5   Adam Wainwright   91.0                    1\n",
      "6   Adam Wainwright   91.0                    1\n",
      "7   Adam Wainwright   88.0                    2\n",
      "8   Adam Wainwright   88.0                    2\n",
      "9   Adam Wainwright   86.0                    3\n",
      "10  Adam Wainwright   85.0                    4\n",
      "11  Adam Wainwright   82.0                    5\n",
      "12  Adam Wainwright   76.0                    6\n",
      "13  Adam Wainwright   75.0                    7\n",
      "14  Adam Wainwright   75.0                    7\n",
      "15    Adrian Houser   88.0                    1\n",
      "16    Adrian Houser   86.0                    2\n",
      "17    Adrian Houser   86.0                    2\n",
      "18    Adrian Houser   86.0                    2\n",
      "19       Alex Reyes   97.0                    1\n"
     ]
    }
   ],
   "source": [
    "# Using OVER() with ORDER BY, partitioning by player_name - mimicking what ties would look like - with DENSE_RANK\n",
    "sql_query = \"\"\"\n",
    "SELECT player_name, ROUND(release_speed), \n",
    "    DENSE_RANK() OVER(PARTITION BY player_name ORDER BY ROUND(release_speed) DESC) pitchers_speed_rank\n",
    "FROM statcast\n",
    "JOIN player_id\n",
    "ON statcast.batter=player_id.key_mlbam\n",
    "WHERE key_mlbam=\n",
    "    (SELECT key_mlbam FROM player_id\n",
    "    WHERE name_last='tatis'\n",
    "    AND name_first='fernando')\n",
    "ORDER BY player_name, pitchers_speed_rank\n",
    "LIMIT 20;\n",
    "\"\"\"\n",
    "\n",
    "df_query = pd.read_sql_query(sql_query,con)\n",
    "print(df_query)"
   ]
  },
  {
   "cell_type": "code",
   "execution_count": null,
   "metadata": {},
   "outputs": [],
   "source": [
    "## Using a rank based on number of \n",
    "\n",
    "# https://leetcode.com/problems/rank-scores/"
   ]
  },
  {
   "cell_type": "code",
   "execution_count": 12,
   "metadata": {
    "ExecuteTime": {
     "end_time": "2020-02-26T01:58:52.474986Z",
     "start_time": "2020-02-26T01:58:39.990462Z"
    }
   },
   "outputs": [
    {
     "name": "stdout",
     "output_type": "stream",
     "text": [
      "        player_name  rounded_speed\n",
      "0   Adam Wainwright           91.0\n",
      "1   Adam Wainwright           91.0\n",
      "2   Adam Wainwright           91.0\n",
      "3   Adam Wainwright           91.0\n",
      "4   Adam Wainwright           88.0\n",
      "5   Adam Wainwright           88.0\n",
      "6   Adam Wainwright           86.0\n",
      "7   Adam Wainwright           85.0\n",
      "8   Adam Wainwright           82.0\n",
      "9   Adam Wainwright           76.0\n",
      "10  Adam Wainwright           75.0\n",
      "11  Adam Wainwright           75.0\n"
     ]
    }
   ],
   "source": [
    "# Mimicking what ties would look like...\n",
    "sql_query = \"\"\"\n",
    "SELECT player_name, ROUND(release_speed) AS rounded_speed\n",
    "FROM statcast\n",
    "JOIN player_id\n",
    "ON statcast.batter=player_id.key_mlbam\n",
    "WHERE key_mlbam=\n",
    "    (SELECT key_mlbam FROM player_id\n",
    "    WHERE name_last='tatis'\n",
    "    AND name_first='fernando')\n",
    "AND player_name LIKE '%Wainwright%'\n",
    "ORDER BY rounded_speed DESC\n",
    "LIMIT 20;\n",
    "\"\"\"\n",
    "\n",
    "df_query = pd.read_sql_query(sql_query,con)\n",
    "print(df_query)"
   ]
  },
  {
   "cell_type": "code",
   "execution_count": 14,
   "metadata": {
    "ExecuteTime": {
     "end_time": "2020-02-26T02:16:04.623028Z",
     "start_time": "2020-02-26T02:15:56.292495Z"
    }
   },
   "outputs": [
    {
     "name": "stdout",
     "output_type": "stream",
     "text": [
      "        player_name  rounded_speed\n",
      "0   Adam Wainwright           91.0\n",
      "1   Adam Wainwright           91.0\n",
      "2   Adam Wainwright           91.0\n",
      "3   Adam Wainwright           91.0\n",
      "4   Adam Wainwright           88.0\n",
      "5   Adam Wainwright           88.0\n",
      "6   Adam Wainwright           86.0\n",
      "7   Adam Wainwright           85.0\n",
      "8   Adam Wainwright           82.0\n",
      "9   Adam Wainwright           76.0\n",
      "10  Adam Wainwright           75.0\n",
      "11  Adam Wainwright           75.0\n"
     ]
    }
   ],
   "source": [
    "# Mimicking what ties would look like...\n",
    "sql_query = \"\"\"\n",
    "SELECT player_name, ROUND(release_speed) AS rounded_speed\n",
    "FROM statcast\n",
    "JOIN player_id\n",
    "ON statcast.batter=player_id.key_mlbam\n",
    "WHERE key_mlbam=\n",
    "    (SELECT key_mlbam FROM player_id\n",
    "    WHERE name_last='tatis'\n",
    "    AND name_first='fernando')\n",
    "AND player_name LIKE '%Wainwright%'\n",
    "ORDER BY rounded_speed DESC\n",
    "LIMIT 20;\n",
    "\"\"\"\n",
    "\n",
    "df_query = pd.read_sql_query(sql_query,con)\n",
    "print(df_query)"
   ]
  },
  {
   "cell_type": "code",
   "execution_count": 29,
   "metadata": {
    "ExecuteTime": {
     "end_time": "2020-02-29T22:27:08.377198Z",
     "start_time": "2020-02-29T22:27:08.371752Z"
    }
   },
   "outputs": [],
   "source": [
    "sql_query = \"\"\"\n",
    "SELECT player_name, release_speed, \n",
    "    RANK() OVER(PARTITION BY player_name ORDER BY release_speed DESC) pitchers_speed_rank\n",
    "FROM statcast\n",
    "JOIN player_id\n",
    "ON statcast.batter=player_id.key_mlbam\n",
    "WHERE key_mlbam=\n",
    "    (SELECT key_mlbam FROM player_id\n",
    "    WHERE name_last='tatis'\n",
    "    AND name_first='fernando')\n",
    "ORDER BY player_name, pitchers_speed_rank\n",
    "LIMIT 20;\n",
    "\"\"\""
   ]
  },
  {
   "cell_type": "code",
   "execution_count": null,
   "metadata": {},
   "outputs": [],
   "source": []
  },
  {
   "cell_type": "code",
   "execution_count": null,
   "metadata": {},
   "outputs": [],
   "source": [
    "# From Leetcode\n",
    "SELECT score, \n",
    "(SELECT COUNT(DISTINCT score) FROM scores WHERE score >= s.score)\n",
    " AS rank\n",
    "FROM scores AS s\n",
    "ORDER BY score DESC;"
   ]
  },
  {
   "cell_type": "code",
   "execution_count": 15,
   "metadata": {
    "ExecuteTime": {
     "end_time": "2020-02-26T02:27:44.448591Z",
     "start_time": "2020-02-26T02:27:36.845393Z"
    }
   },
   "outputs": [
    {
     "name": "stdout",
     "output_type": "stream",
     "text": [
      "        player_name  rounded_speed\n",
      "0   Adam Wainwright           91.0\n",
      "1   Adam Wainwright           91.0\n",
      "2   Adam Wainwright           91.0\n",
      "3   Adam Wainwright           91.0\n",
      "4   Adam Wainwright           88.0\n",
      "5   Adam Wainwright           88.0\n",
      "6   Adam Wainwright           86.0\n",
      "7   Adam Wainwright           85.0\n",
      "8   Adam Wainwright           82.0\n",
      "9   Adam Wainwright           76.0\n",
      "10  Adam Wainwright           75.0\n",
      "11  Adam Wainwright           75.0\n"
     ]
    }
   ],
   "source": [
    "# Getting differences in consecutive rows\n",
    "sql_query = \"\"\"\n",
    "SELECT player_name, ROUND(release_speed) AS rounded_speed\n",
    "FROM statcast\n",
    "JOIN player_id\n",
    "ON statcast.batter=player_id.key_mlbam\n",
    "WHERE key_mlbam=\n",
    "    (SELECT key_mlbam FROM player_id\n",
    "    WHERE name_last='tatis'\n",
    "    AND name_first='fernando')\n",
    "AND player_name LIKE '%Wainwright%'\n",
    "ORDER BY rounded_speed DESC\n",
    "LIMIT 20;\n",
    "\"\"\"\n",
    "\n",
    "df_query = pd.read_sql_query(sql_query,con)\n",
    "print(df_query)"
   ]
  },
  {
   "cell_type": "code",
   "execution_count": null,
   "metadata": {},
   "outputs": [],
   "source": []
  },
  {
   "cell_type": "code",
   "execution_count": null,
   "metadata": {},
   "outputs": [],
   "source": []
  },
  {
   "cell_type": "markdown",
   "metadata": {},
   "source": [
    "## Using CASE - show Tatis as being behind, ahead, or equal in the count"
   ]
  },
  {
   "cell_type": "code",
   "execution_count": 60,
   "metadata": {
    "ExecuteTime": {
     "end_time": "2020-02-28T21:38:37.835411Z",
     "start_time": "2020-02-28T21:38:20.640545Z"
    }
   },
   "outputs": [
    {
     "name": "stdout",
     "output_type": "stream",
     "text": [
      "   game_date  inning  balls  strikes count_status\n",
      "0 2019-03-28     2.0    0.0      0.0        equal\n",
      "1 2019-03-28     2.0    0.0      1.0       behind\n",
      "2 2019-03-28     2.0    1.0      1.0        equal\n",
      "3 2019-03-28     2.0    2.0      1.0        ahead\n",
      "4 2019-03-28     4.0    0.0      0.0        equal\n",
      "5 2019-03-28     7.0    0.0      0.0        equal\n",
      "6 2019-03-28     7.0    0.0      1.0       behind\n",
      "7 2019-03-28     7.0    0.0      2.0       behind\n",
      "8 2019-03-28     7.0    1.0      2.0       behind\n",
      "9 2019-03-29     2.0    0.0      0.0        equal\n"
     ]
    }
   ],
   "source": [
    "# Example with case statement\n",
    "sql_query = \"\"\"\n",
    "SELECT game_date, inning, balls, strikes, \n",
    "    CASE WHEN balls > strikes THEN 'ahead'\n",
    "         WHEN balls < strikes THEN 'behind'\n",
    "         ELSE 'equal' END AS count_status\n",
    "FROM statcast\n",
    "JOIN player_id\n",
    "ON statcast.batter=player_id.key_mlbam\n",
    "WHERE key_mlbam=\n",
    "    (SELECT key_mlbam FROM player_id\n",
    "    WHERE name_last='tatis'\n",
    "    AND name_first='fernando')\n",
    "ORDER BY game_date, inning, balls, strikes\n",
    "LIMIT 10;\n",
    "\"\"\"\n",
    "\n",
    "df_query = pd.read_sql_query(sql_query,con)\n",
    "print(df_query)"
   ]
  },
  {
   "cell_type": "markdown",
   "metadata": {},
   "source": [
    "## Using CASE (without ELSE) - show Tatis as being behind, ahead, or equal in the count"
   ]
  },
  {
   "cell_type": "code",
   "execution_count": 64,
   "metadata": {
    "ExecuteTime": {
     "end_time": "2020-02-28T21:40:56.719631Z",
     "start_time": "2020-02-28T21:40:50.264136Z"
    }
   },
   "outputs": [
    {
     "name": "stdout",
     "output_type": "stream",
     "text": [
      "   game_date  inning  balls  strikes count_status\n",
      "0 2019-03-28     2.0    0.0      0.0         None\n",
      "1 2019-03-28     2.0    0.0      1.0       behind\n",
      "2 2019-03-28     2.0    1.0      1.0         None\n",
      "3 2019-03-28     2.0    2.0      1.0        ahead\n",
      "4 2019-03-28     4.0    0.0      0.0         None\n",
      "5 2019-03-28     7.0    0.0      0.0         None\n",
      "6 2019-03-28     7.0    0.0      1.0       behind\n",
      "7 2019-03-28     7.0    0.0      2.0       behind\n",
      "8 2019-03-28     7.0    1.0      2.0       behind\n",
      "9 2019-03-29     2.0    0.0      0.0         None\n"
     ]
    }
   ],
   "source": [
    "# Example with case statement\n",
    "sql_query = \"\"\"\n",
    "SELECT game_date, inning, balls, strikes, \n",
    "    (CASE WHEN balls > strikes THEN 'ahead'\n",
    "         WHEN balls < strikes THEN 'behind'\n",
    "         END) AS count_status\n",
    "FROM statcast\n",
    "JOIN player_id\n",
    "ON statcast.batter=player_id.key_mlbam\n",
    "WHERE key_mlbam=\n",
    "    (SELECT key_mlbam FROM player_id\n",
    "    WHERE name_last='tatis'\n",
    "    AND name_first='fernando')\n",
    "ORDER BY game_date, inning, balls, strikes\n",
    "LIMIT 10;\n",
    "\"\"\"\n",
    "\n",
    "df_query = pd.read_sql_query(sql_query,con)\n",
    "print(df_query)"
   ]
  },
  {
   "cell_type": "code",
   "execution_count": null,
   "metadata": {},
   "outputs": [],
   "source": []
  },
  {
   "cell_type": "code",
   "execution_count": null,
   "metadata": {},
   "outputs": [],
   "source": []
  },
  {
   "cell_type": "code",
   "execution_count": null,
   "metadata": {},
   "outputs": [],
   "source": [
    "# SQL practice - pick max speed for each pitcher\n",
    "\n"
   ]
  },
  {
   "cell_type": "code",
   "execution_count": null,
   "metadata": {},
   "outputs": [],
   "source": []
  },
  {
   "cell_type": "markdown",
   "metadata": {},
   "source": [
    "## Rank the top 3 pitchers who have thrown the most pitches per day"
   ]
  },
  {
   "cell_type": "code",
   "execution_count": 12,
   "metadata": {
    "ExecuteTime": {
     "end_time": "2020-03-05T05:57:20.190271Z",
     "start_time": "2020-03-05T05:57:20.155623Z"
    }
   },
   "outputs": [
    {
     "name": "stdout",
     "output_type": "stream",
     "text": [
      "   game_date        player_name  n_of_pitches\n",
      "0 2018-07-07       Shawn Kelley             1\n",
      "1 2018-07-09         Brad Brach             1\n",
      "2 2018-07-15     Marcus Stroman            95\n",
      "3 2018-07-15      Brian Johnson            84\n",
      "4 2018-07-15  Jeremy Hellickson            73\n",
      "5 2018-07-15         Mike Minor            68\n",
      "6 2018-07-15        Mike Wright            64\n",
      "7 2018-07-15       Corey Oswalt            59\n",
      "8 2018-07-15      Miguel Castro            59\n",
      "9 2018-07-15       Adam Kolarek            30\n"
     ]
    }
   ],
   "source": [
    "# Will eventually use OVER() with ORDER BY, partitioning by game_date\n",
    "\n",
    "# But start with how things look using group by\n",
    "\n",
    "sql_query = \"\"\"\n",
    "SELECT game_date, player_name, COUNT(release_speed) AS n_of_pitches\n",
    "FROM statcast_simple\n",
    "GROUP BY game_date, player_name\n",
    "ORDER BY game_date, n_of_pitches DESC\n",
    "LIMIT 10;\n",
    "\"\"\"\n",
    "\n",
    "df_query = pd.read_sql_query(sql_query,con)\n",
    "print(df_query)"
   ]
  },
  {
   "cell_type": "code",
   "execution_count": 8,
   "metadata": {
    "ExecuteTime": {
     "end_time": "2020-03-05T05:54:38.672174Z",
     "start_time": "2020-03-05T05:54:38.639477Z"
    }
   },
   "outputs": [
    {
     "name": "stdout",
     "output_type": "stream",
     "text": [
      "    game_date          player_name  n_pitches  n_pitches_rank\n",
      "0  2018-07-07         Shawn Kelley          1               1\n",
      "1  2018-07-09           Brad Brach          1               1\n",
      "2  2018-07-15       Marcus Stroman         95               1\n",
      "3  2018-07-15        Brian Johnson         84               2\n",
      "4  2018-07-15    Jeremy Hellickson         73               3\n",
      "5  2018-07-15           Mike Minor         68               4\n",
      "6  2018-07-15          Mike Wright         64               5\n",
      "7  2018-07-15        Miguel Castro         59               6\n",
      "8  2018-07-15         Corey Oswalt         59               6\n",
      "9  2018-07-15        Alan Busenitz         30               8\n",
      "10 2018-07-15         Adam Kolarek         30               8\n",
      "11 2018-07-15        Matt Andriese         29              10\n",
      "12 2018-07-15        Tyler Bashlor         28              11\n",
      "13 2018-07-15  Trevor Hildenberger         27              12\n",
      "14 2018-07-15       Ryan Yarbrough         25              13\n",
      "15 2018-07-15             Paul Fry         25              13\n",
      "16 2018-07-15    Ricardo Rodriguez         24              15\n",
      "17 2018-07-15          Ryan Tepera         24              15\n",
      "18 2018-07-15         Ryan Pressly         22              17\n",
      "19 2018-07-15       Diego Castillo         21              18\n"
     ]
    }
   ],
   "source": [
    "# Try adding in OVER() with ORDER BY, partitioning by game_date\n",
    "\n",
    "# Problem is that I can't use the alias in the WHERE...\n",
    "sql_query = \"\"\"\n",
    "SELECT game_date, player_name, COUNT(release_speed) AS n_pitches,\n",
    "    RANK() OVER(PARTITION BY game_date ORDER BY COUNT(release_speed) DESC) AS n_pitches_rank\n",
    "FROM statcast_simple\n",
    "GROUP BY game_date, player_name\n",
    "ORDER BY game_date\n",
    "LIMIT 20;\n",
    "\"\"\"\n",
    "\n",
    "df_query = pd.read_sql_query(sql_query,con)\n",
    "print(df_query)"
   ]
  },
  {
   "cell_type": "code",
   "execution_count": 63,
   "metadata": {
    "ExecuteTime": {
     "end_time": "2020-03-05T06:56:31.436000Z",
     "start_time": "2020-03-05T06:56:31.377253Z"
    }
   },
   "outputs": [
    {
     "name": "stdout",
     "output_type": "stream",
     "text": [
      "    game_date           player_name  n_pitches  n_pitches_rank\n",
      "0  2018-07-07          Shawn Kelley          1               1\n",
      "1  2018-07-09            Brad Brach          1               1\n",
      "2  2018-07-15        Marcus Stroman         95               1\n",
      "3  2018-07-15         Brian Johnson         84               2\n",
      "4  2018-07-15     Jeremy Hellickson         73               3\n",
      "5  2018-07-19        Kyle Hendricks        113               1\n",
      "6  2018-07-19       Carlos Martinez         90               2\n",
      "7  2018-07-19          Steve Cishek         23               3\n",
      "8  2018-07-20           Danny Duffy        114               1\n",
      "9  2018-07-20           Tyler Mahle        111               2\n",
      "10 2018-07-20        Anibal Sanchez        111               2\n",
      "11 2018-07-20         Jack Flaherty        110               3\n",
      "12 2018-07-21            Lance Lynn        118               1\n",
      "13 2018-07-21        Marcus Stroman        107               2\n",
      "14 2018-07-21           Dylan Covey        105               3\n",
      "15 2018-07-22         Jose Quintana        121               1\n",
      "16 2018-07-22      Mike Foltynewicz        112               2\n",
      "17 2018-07-22          Zack Greinke        111               3\n",
      "18 2018-07-23  Daniel Ponce de Leon        116               1\n",
      "19 2018-07-23          Jacob deGrom        113               2\n",
      "20 2018-07-23          Gio Gonzalez        107               3\n",
      "21 2018-07-24          Homer Bailey        115               1\n",
      "22 2018-07-24          Carlos Rodon        111               2\n",
      "23 2018-07-24       Masahiro Tanaka        105               3\n",
      "24 2018-07-24        Kyle Hendricks        105               3\n",
      "25 2018-07-25           Danny Duffy        107               1\n",
      "26 2018-07-25            Jon Lester        103               2\n",
      "27 2018-07-25        Charlie Morton        102               3\n"
     ]
    }
   ],
   "source": [
    "# Use a CTE so I can use WHERE -\n",
    "\n",
    "sql_query = \"\"\"\n",
    "WITH windowed_table AS \n",
    "    (SELECT game_date, player_name, COUNT(release_speed) AS n_pitches,\n",
    "        DENSE_RANK() OVER(PARTITION BY game_date ORDER BY COUNT(release_speed) DESC) AS n_pitches_rank\n",
    "    FROM statcast_simple\n",
    "    GROUP BY game_date, player_name\n",
    "    ORDER BY game_date)\n",
    "SELECT * FROM windowed_table\n",
    "WHERE windowed_table.n_pitches_rank < 4\n",
    "LIMIT 50;\n",
    "\"\"\"\n",
    "\n",
    "df_query = pd.read_sql_query(sql_query,con)\n",
    "print(df_query)"
   ]
  },
  {
   "cell_type": "code",
   "execution_count": 42,
   "metadata": {
    "ExecuteTime": {
     "end_time": "2020-03-05T06:41:08.206173Z",
     "start_time": "2020-03-05T06:41:08.156891Z"
    }
   },
   "outputs": [
    {
     "name": "stdout",
     "output_type": "stream",
     "text": [
      "   game_date        player_name  n_of_pitches\n",
      "0 2018-07-07       Shawn Kelley             1\n",
      "1 2018-07-09         Brad Brach             1\n",
      "2 2018-07-15     Marcus Stroman            95\n",
      "3 2018-07-15      Brian Johnson            84\n",
      "4 2018-07-15  Jeremy Hellickson            73\n",
      "5 2018-07-15         Mike Minor            68\n",
      "6 2018-07-15        Mike Wright            64\n",
      "7 2018-07-15       Corey Oswalt            59\n",
      "8 2018-07-15      Miguel Castro            59\n",
      "9 2018-07-15       Adam Kolarek            30\n"
     ]
    }
   ],
   "source": [
    "# Withot a window function\n",
    "\n",
    "sql_query = \"\"\"\n",
    "SELECT game_date, player_name, COUNT(release_speed) AS n_of_pitches\n",
    "FROM statcast_simple\n",
    "GROUP BY game_date, player_name\n",
    "ORDER BY game_date, n_of_pitches DESC\n",
    "LIMIT 10;\n",
    "\"\"\"\n",
    "\n",
    "df_query = pd.read_sql_query(sql_query,con)\n",
    "print(df_query)"
   ]
  },
  {
   "cell_type": "code",
   "execution_count": null,
   "metadata": {},
   "outputs": [],
   "source": [
    "sql_query = \"\"\"\n",
    "SELECT game_date, player_name, COUNT(release_speed) AS n_of_pitches\n",
    "FROM statcast_simple\n",
    "GROUP BY game_date, player_name\n",
    "ORDER BY game_date, n_of_pitches DESC\n",
    "OFFSET LIMIT 10;\n",
    "\"\"\"\n",
    "\n",
    "df_query = pd.read_sql_query(sql_query,con)\n",
    "print(df_query)"
   ]
  },
  {
   "cell_type": "code",
   "execution_count": 27,
   "metadata": {
    "ExecuteTime": {
     "end_time": "2020-03-05T06:26:22.019748Z",
     "start_time": "2020-03-05T06:26:21.994390Z"
    },
    "collapsed": true
   },
   "outputs": [
    {
     "ename": "DatabaseError",
     "evalue": "Execution failed on sql '\n    SELECT game_date, \n           player_name, \n           COUNT(release_speed) AS n_pitches, \n           COUNT (DISTINCT COUNT(release_speed)) AS rank_n_pitches\n     FROM statcast_simple\n     GROUP BY game_date, player_name;\n': aggregate function calls cannot be nested\nLINE 5:            COUNT (DISTINCT COUNT(release_speed)) AS rank_n_p...\n                                   ^\n",
     "output_type": "error",
     "traceback": [
      "\u001b[0;31m---------------------------------------------------------------------------\u001b[0m",
      "\u001b[0;31mGroupingError\u001b[0m                             Traceback (most recent call last)",
      "\u001b[0;32m~/anaconda/envs/insight/lib/python3.6/site-packages/pandas/io/sql.py\u001b[0m in \u001b[0;36mexecute\u001b[0;34m(self, *args, **kwargs)\u001b[0m\n\u001b[1;32m   1594\u001b[0m             \u001b[0;32melse\u001b[0m\u001b[0;34m:\u001b[0m\u001b[0;34m\u001b[0m\u001b[0;34m\u001b[0m\u001b[0m\n\u001b[0;32m-> 1595\u001b[0;31m                 \u001b[0mcur\u001b[0m\u001b[0;34m.\u001b[0m\u001b[0mexecute\u001b[0m\u001b[0;34m(\u001b[0m\u001b[0;34m*\u001b[0m\u001b[0margs\u001b[0m\u001b[0;34m)\u001b[0m\u001b[0;34m\u001b[0m\u001b[0;34m\u001b[0m\u001b[0m\n\u001b[0m\u001b[1;32m   1596\u001b[0m             \u001b[0;32mreturn\u001b[0m \u001b[0mcur\u001b[0m\u001b[0;34m\u001b[0m\u001b[0;34m\u001b[0m\u001b[0m\n",
      "\u001b[0;31mGroupingError\u001b[0m: aggregate function calls cannot be nested\nLINE 5:            COUNT (DISTINCT COUNT(release_speed)) AS rank_n_p...\n                                   ^\n",
      "\nDuring handling of the above exception, another exception occurred:\n",
      "\u001b[0;31mDatabaseError\u001b[0m                             Traceback (most recent call last)",
      "\u001b[0;32m<ipython-input-27-9dc2c9f2ddac>\u001b[0m in \u001b[0;36m<module>\u001b[0;34m\u001b[0m\n\u001b[1;32m     10\u001b[0m \"\"\"\n\u001b[1;32m     11\u001b[0m \u001b[0;34m\u001b[0m\u001b[0m\n\u001b[0;32m---> 12\u001b[0;31m \u001b[0mdf_query\u001b[0m \u001b[0;34m=\u001b[0m \u001b[0mpd\u001b[0m\u001b[0;34m.\u001b[0m\u001b[0mread_sql_query\u001b[0m\u001b[0;34m(\u001b[0m\u001b[0msql_query\u001b[0m\u001b[0;34m,\u001b[0m\u001b[0mcon\u001b[0m\u001b[0;34m)\u001b[0m\u001b[0;34m\u001b[0m\u001b[0;34m\u001b[0m\u001b[0m\n\u001b[0m\u001b[1;32m     13\u001b[0m \u001b[0mprint\u001b[0m\u001b[0;34m(\u001b[0m\u001b[0mdf_query\u001b[0m\u001b[0;34m)\u001b[0m\u001b[0;34m\u001b[0m\u001b[0;34m\u001b[0m\u001b[0m\n",
      "\u001b[0;32m~/anaconda/envs/insight/lib/python3.6/site-packages/pandas/io/sql.py\u001b[0m in \u001b[0;36mread_sql_query\u001b[0;34m(sql, con, index_col, coerce_float, params, parse_dates, chunksize)\u001b[0m\n\u001b[1;32m    330\u001b[0m         \u001b[0mcoerce_float\u001b[0m\u001b[0;34m=\u001b[0m\u001b[0mcoerce_float\u001b[0m\u001b[0;34m,\u001b[0m\u001b[0;34m\u001b[0m\u001b[0;34m\u001b[0m\u001b[0m\n\u001b[1;32m    331\u001b[0m         \u001b[0mparse_dates\u001b[0m\u001b[0;34m=\u001b[0m\u001b[0mparse_dates\u001b[0m\u001b[0;34m,\u001b[0m\u001b[0;34m\u001b[0m\u001b[0;34m\u001b[0m\u001b[0m\n\u001b[0;32m--> 332\u001b[0;31m         \u001b[0mchunksize\u001b[0m\u001b[0;34m=\u001b[0m\u001b[0mchunksize\u001b[0m\u001b[0;34m,\u001b[0m\u001b[0;34m\u001b[0m\u001b[0;34m\u001b[0m\u001b[0m\n\u001b[0m\u001b[1;32m    333\u001b[0m     )\n\u001b[1;32m    334\u001b[0m \u001b[0;34m\u001b[0m\u001b[0m\n",
      "\u001b[0;32m~/anaconda/envs/insight/lib/python3.6/site-packages/pandas/io/sql.py\u001b[0m in \u001b[0;36mread_query\u001b[0;34m(self, sql, index_col, coerce_float, params, parse_dates, chunksize)\u001b[0m\n\u001b[1;32m   1643\u001b[0m \u001b[0;34m\u001b[0m\u001b[0m\n\u001b[1;32m   1644\u001b[0m         \u001b[0margs\u001b[0m \u001b[0;34m=\u001b[0m \u001b[0m_convert_params\u001b[0m\u001b[0;34m(\u001b[0m\u001b[0msql\u001b[0m\u001b[0;34m,\u001b[0m \u001b[0mparams\u001b[0m\u001b[0;34m)\u001b[0m\u001b[0;34m\u001b[0m\u001b[0;34m\u001b[0m\u001b[0m\n\u001b[0;32m-> 1645\u001b[0;31m         \u001b[0mcursor\u001b[0m \u001b[0;34m=\u001b[0m \u001b[0mself\u001b[0m\u001b[0;34m.\u001b[0m\u001b[0mexecute\u001b[0m\u001b[0;34m(\u001b[0m\u001b[0;34m*\u001b[0m\u001b[0margs\u001b[0m\u001b[0;34m)\u001b[0m\u001b[0;34m\u001b[0m\u001b[0;34m\u001b[0m\u001b[0m\n\u001b[0m\u001b[1;32m   1646\u001b[0m         \u001b[0mcolumns\u001b[0m \u001b[0;34m=\u001b[0m \u001b[0;34m[\u001b[0m\u001b[0mcol_desc\u001b[0m\u001b[0;34m[\u001b[0m\u001b[0;36m0\u001b[0m\u001b[0;34m]\u001b[0m \u001b[0;32mfor\u001b[0m \u001b[0mcol_desc\u001b[0m \u001b[0;32min\u001b[0m \u001b[0mcursor\u001b[0m\u001b[0;34m.\u001b[0m\u001b[0mdescription\u001b[0m\u001b[0;34m]\u001b[0m\u001b[0;34m\u001b[0m\u001b[0;34m\u001b[0m\u001b[0m\n\u001b[1;32m   1647\u001b[0m \u001b[0;34m\u001b[0m\u001b[0m\n",
      "\u001b[0;32m~/anaconda/envs/insight/lib/python3.6/site-packages/pandas/io/sql.py\u001b[0m in \u001b[0;36mexecute\u001b[0;34m(self, *args, **kwargs)\u001b[0m\n\u001b[1;32m   1608\u001b[0m                 \u001b[0;34m\"Execution failed on sql '{sql}': {exc}\"\u001b[0m\u001b[0;34m.\u001b[0m\u001b[0mformat\u001b[0m\u001b[0;34m(\u001b[0m\u001b[0msql\u001b[0m\u001b[0;34m=\u001b[0m\u001b[0margs\u001b[0m\u001b[0;34m[\u001b[0m\u001b[0;36m0\u001b[0m\u001b[0;34m]\u001b[0m\u001b[0;34m,\u001b[0m \u001b[0mexc\u001b[0m\u001b[0;34m=\u001b[0m\u001b[0mexc\u001b[0m\u001b[0;34m)\u001b[0m\u001b[0;34m\u001b[0m\u001b[0;34m\u001b[0m\u001b[0m\n\u001b[1;32m   1609\u001b[0m             )\n\u001b[0;32m-> 1610\u001b[0;31m             \u001b[0mraise_with_traceback\u001b[0m\u001b[0;34m(\u001b[0m\u001b[0mex\u001b[0m\u001b[0;34m)\u001b[0m\u001b[0;34m\u001b[0m\u001b[0;34m\u001b[0m\u001b[0m\n\u001b[0m\u001b[1;32m   1611\u001b[0m \u001b[0;34m\u001b[0m\u001b[0m\n\u001b[1;32m   1612\u001b[0m     \u001b[0;34m@\u001b[0m\u001b[0mstaticmethod\u001b[0m\u001b[0;34m\u001b[0m\u001b[0;34m\u001b[0m\u001b[0m\n",
      "\u001b[0;32m~/anaconda/envs/insight/lib/python3.6/site-packages/pandas/compat/__init__.py\u001b[0m in \u001b[0;36mraise_with_traceback\u001b[0;34m(exc, traceback)\u001b[0m\n\u001b[1;32m     45\u001b[0m     \u001b[0;32mif\u001b[0m \u001b[0mtraceback\u001b[0m \u001b[0;34m==\u001b[0m \u001b[0mEllipsis\u001b[0m\u001b[0;34m:\u001b[0m\u001b[0;34m\u001b[0m\u001b[0;34m\u001b[0m\u001b[0m\n\u001b[1;32m     46\u001b[0m         \u001b[0m_\u001b[0m\u001b[0;34m,\u001b[0m \u001b[0m_\u001b[0m\u001b[0;34m,\u001b[0m \u001b[0mtraceback\u001b[0m \u001b[0;34m=\u001b[0m \u001b[0msys\u001b[0m\u001b[0;34m.\u001b[0m\u001b[0mexc_info\u001b[0m\u001b[0;34m(\u001b[0m\u001b[0;34m)\u001b[0m\u001b[0;34m\u001b[0m\u001b[0;34m\u001b[0m\u001b[0m\n\u001b[0;32m---> 47\u001b[0;31m     \u001b[0;32mraise\u001b[0m \u001b[0mexc\u001b[0m\u001b[0;34m.\u001b[0m\u001b[0mwith_traceback\u001b[0m\u001b[0;34m(\u001b[0m\u001b[0mtraceback\u001b[0m\u001b[0;34m)\u001b[0m\u001b[0;34m\u001b[0m\u001b[0;34m\u001b[0m\u001b[0m\n\u001b[0m\u001b[1;32m     48\u001b[0m \u001b[0;34m\u001b[0m\u001b[0m\n\u001b[1;32m     49\u001b[0m \u001b[0;34m\u001b[0m\u001b[0m\n",
      "\u001b[0;32m~/anaconda/envs/insight/lib/python3.6/site-packages/pandas/io/sql.py\u001b[0m in \u001b[0;36mexecute\u001b[0;34m(self, *args, **kwargs)\u001b[0m\n\u001b[1;32m   1593\u001b[0m                 \u001b[0mcur\u001b[0m\u001b[0;34m.\u001b[0m\u001b[0mexecute\u001b[0m\u001b[0;34m(\u001b[0m\u001b[0;34m*\u001b[0m\u001b[0margs\u001b[0m\u001b[0;34m,\u001b[0m \u001b[0;34m**\u001b[0m\u001b[0mkwargs\u001b[0m\u001b[0;34m)\u001b[0m\u001b[0;34m\u001b[0m\u001b[0;34m\u001b[0m\u001b[0m\n\u001b[1;32m   1594\u001b[0m             \u001b[0;32melse\u001b[0m\u001b[0;34m:\u001b[0m\u001b[0;34m\u001b[0m\u001b[0;34m\u001b[0m\u001b[0m\n\u001b[0;32m-> 1595\u001b[0;31m                 \u001b[0mcur\u001b[0m\u001b[0;34m.\u001b[0m\u001b[0mexecute\u001b[0m\u001b[0;34m(\u001b[0m\u001b[0;34m*\u001b[0m\u001b[0margs\u001b[0m\u001b[0;34m)\u001b[0m\u001b[0;34m\u001b[0m\u001b[0;34m\u001b[0m\u001b[0m\n\u001b[0m\u001b[1;32m   1596\u001b[0m             \u001b[0;32mreturn\u001b[0m \u001b[0mcur\u001b[0m\u001b[0;34m\u001b[0m\u001b[0;34m\u001b[0m\u001b[0m\n\u001b[1;32m   1597\u001b[0m         \u001b[0;32mexcept\u001b[0m \u001b[0mException\u001b[0m \u001b[0;32mas\u001b[0m \u001b[0mexc\u001b[0m\u001b[0;34m:\u001b[0m\u001b[0;34m\u001b[0m\u001b[0;34m\u001b[0m\u001b[0m\n",
      "\u001b[0;31mDatabaseError\u001b[0m: Execution failed on sql '\n    SELECT game_date, \n           player_name, \n           COUNT(release_speed) AS n_pitches, \n           COUNT (DISTINCT COUNT(release_speed)) AS rank_n_pitches\n     FROM statcast_simple\n     GROUP BY game_date, player_name;\n': aggregate function calls cannot be nested\nLINE 5:            COUNT (DISTINCT COUNT(release_speed)) AS rank_n_p...\n                                   ^\n"
     ]
    }
   ],
   "source": [
    "# Try using SELECT DISTINCT\n",
    "\n",
    "# can't use nested aggregate function\n",
    "\n",
    "sql_query = \"\"\"\n",
    "    SELECT game_date, \n",
    "           player_name, \n",
    "           COUNT(release_speed) AS n_pitches, \n",
    "           COUNT (DISTINCT COUNT(release_speed)) AS rank_n_pitches\n",
    "     FROM statcast_simple\n",
    "     GROUP BY game_date, player_name;\n",
    "\"\"\"\n",
    "\n",
    "df_query = pd.read_sql_query(sql_query,con)\n",
    "print(df_query)"
   ]
  },
  {
   "cell_type": "code",
   "execution_count": 59,
   "metadata": {
    "ExecuteTime": {
     "end_time": "2020-03-05T06:55:39.168106Z",
     "start_time": "2020-03-05T06:55:39.133275Z"
    }
   },
   "outputs": [
    {
     "name": "stdout",
     "output_type": "stream",
     "text": [
      "   game_date        player_name  n_of_pitches  count\n",
      "0 2018-07-07       Shawn Kelley             1      8\n",
      "1 2018-07-09         Brad Brach             1      8\n",
      "2 2018-07-15     Marcus Stroman            95      1\n",
      "3 2018-07-15      Brian Johnson            84      2\n",
      "4 2018-07-15  Jeremy Hellickson            73      3\n",
      "5 2018-07-15         Mike Minor            68      4\n",
      "6 2018-07-15        Mike Wright            64      5\n",
      "7 2018-07-15       Corey Oswalt            59      6\n",
      "8 2018-07-15      Miguel Castro            59      6\n",
      "9 2018-07-15       Adam Kolarek            30      7\n"
     ]
    }
   ],
   "source": [
    "# Using CTE and then SELECT COUNT DISTINCT - this doesn't have date - probably window function is best\n",
    "\n",
    "\n",
    "sql_query = \"\"\"\n",
    "WITH pitch_counts_by_date AS\n",
    "    (SELECT game_date, player_name, COUNT(release_speed) AS n_of_pitches\n",
    "    FROM statcast_simple\n",
    "    GROUP BY game_date, player_name\n",
    "    ORDER BY game_date, n_of_pitches DESC\n",
    "    LIMIT 10)\n",
    "\n",
    "SELECT game_date, \n",
    "       player_name,\n",
    "       n_of_pitches,\n",
    "       (SELECT COUNT(DISTINCT n_of_pitches) \n",
    "        FROM pitch_counts_by_date \n",
    "        WHERE n_of_pitches >= pc.n_of_pitches)\n",
    "FROM pitch_counts_by_date AS pc\n",
    "ORDER BY game_date ASC,\n",
    "         n_of_pitches DESC\n",
    ";\n",
    "\"\"\"\n",
    "\n",
    "df_query = pd.read_sql_query(sql_query,con)\n",
    "print(df_query)"
   ]
  },
  {
   "cell_type": "code",
   "execution_count": null,
   "metadata": {},
   "outputs": [],
   "source": []
  },
  {
   "cell_type": "markdown",
   "metadata": {},
   "source": [
    "## Simple review of CTE tables, UNION"
   ]
  },
  {
   "cell_type": "code",
   "execution_count": 9,
   "metadata": {
    "ExecuteTime": {
     "end_time": "2020-02-29T18:47:58.448072Z",
     "start_time": "2020-02-29T18:47:57.692703Z"
    }
   },
   "outputs": [
    {
     "name": "stdout",
     "output_type": "stream",
     "text": [
      "   index name_last name_first  key_mlbam key_retro  key_bbref  key_fangraphs  \\\n",
      "0      9     adams     chance     664856  adamc002  adamsch01          18135   \n",
      "1      8     adams     austin     542866  adama001  adamsau01           7411   \n",
      "2      7     adams     austin     613534  adama002  adamsau02          13801   \n",
      "3      2     abreu       jose     547989  abrej003  abreujo02          15676   \n",
      "4      0      abad   fernando     472551  abadf001   abadfe01           4994   \n",
      "5      6    adames      willy     642715  adamw002  adamewi01          15986   \n",
      "6      5    adames  cristhian     542436  adamc001  adamecr01           6013   \n",
      "7      1     abreu      bryan     650556  abreb002  abreubr01          16609   \n",
      "8      4      adam      jason     592094  adamj002   adamja01          11861   \n",
      "9      3     acuna     ronald     660670  acunr001  acunaro01          18401   \n",
      "\n",
      "   mlb_played_first  mlb_played_last  \n",
      "0            2018.0           2019.0  \n",
      "1            2014.0           2019.0  \n",
      "2            2017.0           2019.0  \n",
      "3            2014.0           2019.0  \n",
      "4            2010.0           2019.0  \n",
      "5            2018.0           2019.0  \n",
      "6            2014.0           2019.0  \n",
      "7            2019.0           2019.0  \n",
      "8            2018.0           2019.0  \n",
      "9            2018.0           2019.0  \n"
     ]
    }
   ],
   "source": [
    "# CTE\n",
    "sql_query = \"\"\"\n",
    "WITH\n",
    "    first_five AS\n",
    "        (SELECT *\n",
    "        FROM player_id\n",
    "        LIMIT 5),\n",
    "    second_five AS\n",
    "        (SELECT *\n",
    "        FROM player_id\n",
    "        OFFSET 5 LIMIT 5)\n",
    "\n",
    "SELECT * FROM first_five\n",
    "UNION\n",
    "SELECT * FROM second_five;\n",
    "\"\"\"\n",
    "\n",
    "df_query = pd.read_sql_query(sql_query,con)\n",
    "print(df_query)"
   ]
  },
  {
   "cell_type": "code",
   "execution_count": null,
   "metadata": {},
   "outputs": [],
   "source": []
  },
  {
   "cell_type": "markdown",
   "metadata": {},
   "source": [
    "## Using simple table for complicated queries"
   ]
  },
  {
   "cell_type": "code",
   "execution_count": 13,
   "metadata": {
    "ExecuteTime": {
     "end_time": "2020-02-29T22:08:49.654827Z",
     "start_time": "2020-02-29T22:08:49.517307Z"
    }
   },
   "outputs": [
    {
     "name": "stdout",
     "output_type": "stream",
     "text": [
      "      index pitch_type  game_date  release_speed home_team away_team  \\\n",
      "0         0         FT 2017-06-09           89.7        TB       OAK   \n",
      "1         1         FC 2017-06-09           83.8        TB       OAK   \n",
      "2         2         CH 2017-06-09           82.6        TB       OAK   \n",
      "3         3         FT 2017-06-09           90.0        TB       OAK   \n",
      "4         4         FT 2017-06-09           89.9        TB       OAK   \n",
      "...     ...        ...        ...            ...       ...       ...   \n",
      "9995   9995         FF 2017-06-07           92.2       DET       LAA   \n",
      "9996   9996         FF 2017-06-07           91.9       DET       LAA   \n",
      "9997   9997         FF 2017-06-07           92.1       DET       LAA   \n",
      "9998   9998         FF 2017-06-07           93.0       DET       LAA   \n",
      "9999   9999         SL 2017-06-07           87.3       DET       LAA   \n",
      "\n",
      "        batter   pitcher  balls  strikes  home_score  away_score  \n",
      "0     446334.0  594943.0    1.0      0.0        13.0         0.0  \n",
      "1     446334.0  594943.0    0.0      0.0        13.0         0.0  \n",
      "2     572816.0  594943.0    0.0      0.0        10.0         0.0  \n",
      "3     605480.0  594943.0    1.0      2.0        10.0         0.0  \n",
      "4     605480.0  594943.0    0.0      2.0        10.0         0.0  \n",
      "...        ...       ...    ...      ...         ...         ...  \n",
      "9995  460060.0  543935.0    3.0      2.0         1.0         0.0  \n",
      "9996  460060.0  543935.0    3.0      2.0         1.0         0.0  \n",
      "9997  460060.0  543935.0    3.0      1.0         1.0         0.0  \n",
      "9998  460060.0  543935.0    3.0      0.0         1.0         0.0  \n",
      "9999  460060.0  543935.0    2.0      0.0         1.0         0.0  \n",
      "\n",
      "[10000 rows x 12 columns]\n"
     ]
    }
   ],
   "source": [
    "sql_query = \"\"\"\n",
    "SELECT *\n",
    "FROM statcast_simple;\n",
    "\"\"\"\n",
    "\n",
    "df_query = pd.read_sql_query(sql_query,con)\n",
    "print(df_query)"
   ]
  },
  {
   "cell_type": "markdown",
   "metadata": {},
   "source": [
    "## Using a subquery - show the number of pitches that are greater than the avg release speed"
   ]
  },
  {
   "cell_type": "code",
   "execution_count": 12,
   "metadata": {
    "ExecuteTime": {
     "end_time": "2020-02-29T22:08:43.428797Z",
     "start_time": "2020-02-29T22:08:43.233516Z"
    }
   },
   "outputs": [
    {
     "name": "stdout",
     "output_type": "stream",
     "text": [
      "      index pitch_type  game_date  release_speed home_team away_team  \\\n",
      "0         0         FT 2017-06-09           89.7        TB       OAK   \n",
      "1         3         FT 2017-06-09           90.0        TB       OAK   \n",
      "2         4         FT 2017-06-09           89.9        TB       OAK   \n",
      "3         5         FT 2017-06-09           89.8        TB       OAK   \n",
      "4         6         FT 2017-06-09           89.9        TB       OAK   \n",
      "...     ...        ...        ...            ...       ...       ...   \n",
      "5832   9994         FF 2017-06-07           93.5       DET       LAA   \n",
      "5833   9995         FF 2017-06-07           92.2       DET       LAA   \n",
      "5834   9996         FF 2017-06-07           91.9       DET       LAA   \n",
      "5835   9997         FF 2017-06-07           92.1       DET       LAA   \n",
      "5836   9998         FF 2017-06-07           93.0       DET       LAA   \n",
      "\n",
      "        batter   pitcher  balls  strikes  home_score  away_score  \n",
      "0     446334.0  594943.0    1.0      0.0        13.0         0.0  \n",
      "1     605480.0  594943.0    1.0      2.0        10.0         0.0  \n",
      "2     605480.0  594943.0    0.0      2.0        10.0         0.0  \n",
      "3     605480.0  594943.0    0.0      1.0        10.0         0.0  \n",
      "4     605480.0  594943.0    0.0      0.0        10.0         0.0  \n",
      "...        ...       ...    ...      ...         ...         ...  \n",
      "5832  458913.0  543935.0    0.0      0.0         1.0         0.0  \n",
      "5833  460060.0  543935.0    3.0      2.0         1.0         0.0  \n",
      "5834  460060.0  543935.0    3.0      2.0         1.0         0.0  \n",
      "5835  460060.0  543935.0    3.0      1.0         1.0         0.0  \n",
      "5836  460060.0  543935.0    3.0      0.0         1.0         0.0  \n",
      "\n",
      "[5837 rows x 12 columns]\n"
     ]
    }
   ],
   "source": [
    "sql_query = \"\"\"\n",
    "SELECT *\n",
    "FROM statcast_simple\n",
    "WHERE release_speed > (SELECT AVG(release_speed)\n",
    "        FROM statcast_simple);\n",
    "\"\"\"\n",
    "\n",
    "df_query = pd.read_sql_query(sql_query,con)\n",
    "print(df_query)"
   ]
  },
  {
   "cell_type": "markdown",
   "metadata": {},
   "source": [
    "## Using a self-join - find at-bats where a pitcher was a batter"
   ]
  },
  {
   "cell_type": "code",
   "execution_count": 8,
   "metadata": {
    "ExecuteTime": {
     "end_time": "2020-02-29T22:04:54.083027Z",
     "start_time": "2020-02-29T22:04:13.061665Z"
    },
    "collapsed": true
   },
   "outputs": [
    {
     "ename": "KeyboardInterrupt",
     "evalue": "",
     "output_type": "error",
     "traceback": [
      "\u001b[0;31m---------------------------------------------------------------------------\u001b[0m",
      "\u001b[0;31mKeyboardInterrupt\u001b[0m                         Traceback (most recent call last)",
      "\u001b[0;32m<ipython-input-8-e7111377ab5f>\u001b[0m in \u001b[0;36m<module>\u001b[0;34m\u001b[0m\n\u001b[1;32m      7\u001b[0m \"\"\"\n\u001b[1;32m      8\u001b[0m \u001b[0;34m\u001b[0m\u001b[0m\n\u001b[0;32m----> 9\u001b[0;31m \u001b[0mdf_query\u001b[0m \u001b[0;34m=\u001b[0m \u001b[0mpd\u001b[0m\u001b[0;34m.\u001b[0m\u001b[0mread_sql_query\u001b[0m\u001b[0;34m(\u001b[0m\u001b[0msql_query\u001b[0m\u001b[0;34m,\u001b[0m\u001b[0mcon\u001b[0m\u001b[0;34m)\u001b[0m\u001b[0;34m\u001b[0m\u001b[0;34m\u001b[0m\u001b[0m\n\u001b[0m\u001b[1;32m     10\u001b[0m \u001b[0mprint\u001b[0m\u001b[0;34m(\u001b[0m\u001b[0mdf_query\u001b[0m\u001b[0;34m)\u001b[0m\u001b[0;34m\u001b[0m\u001b[0;34m\u001b[0m\u001b[0m\n",
      "\u001b[0;32m~/anaconda/envs/insight/lib/python3.6/site-packages/pandas/io/sql.py\u001b[0m in \u001b[0;36mread_sql_query\u001b[0;34m(sql, con, index_col, coerce_float, params, parse_dates, chunksize)\u001b[0m\n\u001b[1;32m    330\u001b[0m         \u001b[0mcoerce_float\u001b[0m\u001b[0;34m=\u001b[0m\u001b[0mcoerce_float\u001b[0m\u001b[0;34m,\u001b[0m\u001b[0;34m\u001b[0m\u001b[0;34m\u001b[0m\u001b[0m\n\u001b[1;32m    331\u001b[0m         \u001b[0mparse_dates\u001b[0m\u001b[0;34m=\u001b[0m\u001b[0mparse_dates\u001b[0m\u001b[0;34m,\u001b[0m\u001b[0;34m\u001b[0m\u001b[0;34m\u001b[0m\u001b[0m\n\u001b[0;32m--> 332\u001b[0;31m         \u001b[0mchunksize\u001b[0m\u001b[0;34m=\u001b[0m\u001b[0mchunksize\u001b[0m\u001b[0;34m,\u001b[0m\u001b[0;34m\u001b[0m\u001b[0;34m\u001b[0m\u001b[0m\n\u001b[0m\u001b[1;32m    333\u001b[0m     )\n\u001b[1;32m    334\u001b[0m \u001b[0;34m\u001b[0m\u001b[0m\n",
      "\u001b[0;32m~/anaconda/envs/insight/lib/python3.6/site-packages/pandas/io/sql.py\u001b[0m in \u001b[0;36mread_query\u001b[0;34m(self, sql, index_col, coerce_float, params, parse_dates, chunksize)\u001b[0m\n\u001b[1;32m   1664\u001b[0m                 \u001b[0mindex_col\u001b[0m\u001b[0;34m=\u001b[0m\u001b[0mindex_col\u001b[0m\u001b[0;34m,\u001b[0m\u001b[0;34m\u001b[0m\u001b[0;34m\u001b[0m\u001b[0m\n\u001b[1;32m   1665\u001b[0m                 \u001b[0mcoerce_float\u001b[0m\u001b[0;34m=\u001b[0m\u001b[0mcoerce_float\u001b[0m\u001b[0;34m,\u001b[0m\u001b[0;34m\u001b[0m\u001b[0;34m\u001b[0m\u001b[0m\n\u001b[0;32m-> 1666\u001b[0;31m                 \u001b[0mparse_dates\u001b[0m\u001b[0;34m=\u001b[0m\u001b[0mparse_dates\u001b[0m\u001b[0;34m,\u001b[0m\u001b[0;34m\u001b[0m\u001b[0;34m\u001b[0m\u001b[0m\n\u001b[0m\u001b[1;32m   1667\u001b[0m             )\n\u001b[1;32m   1668\u001b[0m             \u001b[0;32mreturn\u001b[0m \u001b[0mframe\u001b[0m\u001b[0;34m\u001b[0m\u001b[0;34m\u001b[0m\u001b[0m\n",
      "\u001b[0;32m~/anaconda/envs/insight/lib/python3.6/site-packages/pandas/io/sql.py\u001b[0m in \u001b[0;36m_wrap_result\u001b[0;34m(data, columns, index_col, coerce_float, parse_dates)\u001b[0m\n\u001b[1;32m    123\u001b[0m     \u001b[0;34m\"\"\"Wrap result set of query in a DataFrame.\"\"\"\u001b[0m\u001b[0;34m\u001b[0m\u001b[0;34m\u001b[0m\u001b[0m\n\u001b[1;32m    124\u001b[0m \u001b[0;34m\u001b[0m\u001b[0m\n\u001b[0;32m--> 125\u001b[0;31m     \u001b[0mframe\u001b[0m \u001b[0;34m=\u001b[0m \u001b[0mDataFrame\u001b[0m\u001b[0;34m.\u001b[0m\u001b[0mfrom_records\u001b[0m\u001b[0;34m(\u001b[0m\u001b[0mdata\u001b[0m\u001b[0;34m,\u001b[0m \u001b[0mcolumns\u001b[0m\u001b[0;34m=\u001b[0m\u001b[0mcolumns\u001b[0m\u001b[0;34m,\u001b[0m \u001b[0mcoerce_float\u001b[0m\u001b[0;34m=\u001b[0m\u001b[0mcoerce_float\u001b[0m\u001b[0;34m)\u001b[0m\u001b[0;34m\u001b[0m\u001b[0;34m\u001b[0m\u001b[0m\n\u001b[0m\u001b[1;32m    126\u001b[0m \u001b[0;34m\u001b[0m\u001b[0m\n\u001b[1;32m    127\u001b[0m     \u001b[0mframe\u001b[0m \u001b[0;34m=\u001b[0m \u001b[0m_parse_date_columns\u001b[0m\u001b[0;34m(\u001b[0m\u001b[0mframe\u001b[0m\u001b[0;34m,\u001b[0m \u001b[0mparse_dates\u001b[0m\u001b[0;34m)\u001b[0m\u001b[0;34m\u001b[0m\u001b[0;34m\u001b[0m\u001b[0m\n",
      "\u001b[0;32m~/anaconda/envs/insight/lib/python3.6/site-packages/pandas/core/frame.py\u001b[0m in \u001b[0;36mfrom_records\u001b[0;34m(cls, data, index, exclude, columns, coerce_float, nrows)\u001b[0m\n\u001b[1;32m   1611\u001b[0m             \u001b[0marr_columns\u001b[0m \u001b[0;34m=\u001b[0m \u001b[0mcolumns\u001b[0m\u001b[0;34m\u001b[0m\u001b[0;34m\u001b[0m\u001b[0m\n\u001b[1;32m   1612\u001b[0m         \u001b[0;32melse\u001b[0m\u001b[0;34m:\u001b[0m\u001b[0;34m\u001b[0m\u001b[0;34m\u001b[0m\u001b[0m\n\u001b[0;32m-> 1613\u001b[0;31m             \u001b[0marrays\u001b[0m\u001b[0;34m,\u001b[0m \u001b[0marr_columns\u001b[0m \u001b[0;34m=\u001b[0m \u001b[0mto_arrays\u001b[0m\u001b[0;34m(\u001b[0m\u001b[0mdata\u001b[0m\u001b[0;34m,\u001b[0m \u001b[0mcolumns\u001b[0m\u001b[0;34m,\u001b[0m \u001b[0mcoerce_float\u001b[0m\u001b[0;34m=\u001b[0m\u001b[0mcoerce_float\u001b[0m\u001b[0;34m)\u001b[0m\u001b[0;34m\u001b[0m\u001b[0;34m\u001b[0m\u001b[0m\n\u001b[0m\u001b[1;32m   1614\u001b[0m \u001b[0;34m\u001b[0m\u001b[0m\n\u001b[1;32m   1615\u001b[0m             \u001b[0marr_columns\u001b[0m \u001b[0;34m=\u001b[0m \u001b[0mensure_index\u001b[0m\u001b[0;34m(\u001b[0m\u001b[0marr_columns\u001b[0m\u001b[0;34m)\u001b[0m\u001b[0;34m\u001b[0m\u001b[0;34m\u001b[0m\u001b[0m\n",
      "\u001b[0;32m~/anaconda/envs/insight/lib/python3.6/site-packages/pandas/core/internals/construction.py\u001b[0m in \u001b[0;36mto_arrays\u001b[0;34m(data, columns, coerce_float, dtype)\u001b[0m\n\u001b[1;32m    462\u001b[0m         \u001b[0;32mreturn\u001b[0m \u001b[0;34m[\u001b[0m\u001b[0;34m]\u001b[0m\u001b[0;34m,\u001b[0m \u001b[0;34m[\u001b[0m\u001b[0;34m]\u001b[0m  \u001b[0;31m# columns if columns is not None else []\u001b[0m\u001b[0;34m\u001b[0m\u001b[0;34m\u001b[0m\u001b[0m\n\u001b[1;32m    463\u001b[0m     \u001b[0;32mif\u001b[0m \u001b[0misinstance\u001b[0m\u001b[0;34m(\u001b[0m\u001b[0mdata\u001b[0m\u001b[0;34m[\u001b[0m\u001b[0;36m0\u001b[0m\u001b[0;34m]\u001b[0m\u001b[0;34m,\u001b[0m \u001b[0;34m(\u001b[0m\u001b[0mlist\u001b[0m\u001b[0;34m,\u001b[0m \u001b[0mtuple\u001b[0m\u001b[0;34m)\u001b[0m\u001b[0;34m)\u001b[0m\u001b[0;34m:\u001b[0m\u001b[0;34m\u001b[0m\u001b[0;34m\u001b[0m\u001b[0m\n\u001b[0;32m--> 464\u001b[0;31m         \u001b[0;32mreturn\u001b[0m \u001b[0m_list_to_arrays\u001b[0m\u001b[0;34m(\u001b[0m\u001b[0mdata\u001b[0m\u001b[0;34m,\u001b[0m \u001b[0mcolumns\u001b[0m\u001b[0;34m,\u001b[0m \u001b[0mcoerce_float\u001b[0m\u001b[0;34m=\u001b[0m\u001b[0mcoerce_float\u001b[0m\u001b[0;34m,\u001b[0m \u001b[0mdtype\u001b[0m\u001b[0;34m=\u001b[0m\u001b[0mdtype\u001b[0m\u001b[0;34m)\u001b[0m\u001b[0;34m\u001b[0m\u001b[0;34m\u001b[0m\u001b[0m\n\u001b[0m\u001b[1;32m    465\u001b[0m     \u001b[0;32melif\u001b[0m \u001b[0misinstance\u001b[0m\u001b[0;34m(\u001b[0m\u001b[0mdata\u001b[0m\u001b[0;34m[\u001b[0m\u001b[0;36m0\u001b[0m\u001b[0;34m]\u001b[0m\u001b[0;34m,\u001b[0m \u001b[0mabc\u001b[0m\u001b[0;34m.\u001b[0m\u001b[0mMapping\u001b[0m\u001b[0;34m)\u001b[0m\u001b[0;34m:\u001b[0m\u001b[0;34m\u001b[0m\u001b[0;34m\u001b[0m\u001b[0m\n\u001b[1;32m    466\u001b[0m         return _list_of_dict_to_arrays(\n",
      "\u001b[0;32m~/anaconda/envs/insight/lib/python3.6/site-packages/pandas/core/internals/construction.py\u001b[0m in \u001b[0;36m_list_to_arrays\u001b[0;34m(data, columns, coerce_float, dtype)\u001b[0m\n\u001b[1;32m    498\u001b[0m     \u001b[0;32mtry\u001b[0m\u001b[0;34m:\u001b[0m\u001b[0;34m\u001b[0m\u001b[0;34m\u001b[0m\u001b[0m\n\u001b[1;32m    499\u001b[0m         result = _convert_object_array(\n\u001b[0;32m--> 500\u001b[0;31m             \u001b[0mcontent\u001b[0m\u001b[0;34m,\u001b[0m \u001b[0mcolumns\u001b[0m\u001b[0;34m,\u001b[0m \u001b[0mdtype\u001b[0m\u001b[0;34m=\u001b[0m\u001b[0mdtype\u001b[0m\u001b[0;34m,\u001b[0m \u001b[0mcoerce_float\u001b[0m\u001b[0;34m=\u001b[0m\u001b[0mcoerce_float\u001b[0m\u001b[0;34m\u001b[0m\u001b[0;34m\u001b[0m\u001b[0m\n\u001b[0m\u001b[1;32m    501\u001b[0m         )\n\u001b[1;32m    502\u001b[0m     \u001b[0;32mexcept\u001b[0m \u001b[0mAssertionError\u001b[0m \u001b[0;32mas\u001b[0m \u001b[0me\u001b[0m\u001b[0;34m:\u001b[0m\u001b[0;34m\u001b[0m\u001b[0;34m\u001b[0m\u001b[0m\n",
      "\u001b[0;32m~/anaconda/envs/insight/lib/python3.6/site-packages/pandas/core/internals/construction.py\u001b[0m in \u001b[0;36m_convert_object_array\u001b[0;34m(content, columns, coerce_float, dtype)\u001b[0m\n\u001b[1;32m    591\u001b[0m         \u001b[0;32mreturn\u001b[0m \u001b[0marr\u001b[0m\u001b[0;34m\u001b[0m\u001b[0;34m\u001b[0m\u001b[0m\n\u001b[1;32m    592\u001b[0m \u001b[0;34m\u001b[0m\u001b[0m\n\u001b[0;32m--> 593\u001b[0;31m     \u001b[0marrays\u001b[0m \u001b[0;34m=\u001b[0m \u001b[0;34m[\u001b[0m\u001b[0mconvert\u001b[0m\u001b[0;34m(\u001b[0m\u001b[0marr\u001b[0m\u001b[0;34m)\u001b[0m \u001b[0;32mfor\u001b[0m \u001b[0marr\u001b[0m \u001b[0;32min\u001b[0m \u001b[0mcontent\u001b[0m\u001b[0;34m]\u001b[0m\u001b[0;34m\u001b[0m\u001b[0;34m\u001b[0m\u001b[0m\n\u001b[0m\u001b[1;32m    594\u001b[0m \u001b[0;34m\u001b[0m\u001b[0m\n\u001b[1;32m    595\u001b[0m     \u001b[0;32mreturn\u001b[0m \u001b[0marrays\u001b[0m\u001b[0;34m,\u001b[0m \u001b[0mcolumns\u001b[0m\u001b[0;34m\u001b[0m\u001b[0;34m\u001b[0m\u001b[0m\n",
      "\u001b[0;32m~/anaconda/envs/insight/lib/python3.6/site-packages/pandas/core/internals/construction.py\u001b[0m in \u001b[0;36m<listcomp>\u001b[0;34m(.0)\u001b[0m\n\u001b[1;32m    591\u001b[0m         \u001b[0;32mreturn\u001b[0m \u001b[0marr\u001b[0m\u001b[0;34m\u001b[0m\u001b[0;34m\u001b[0m\u001b[0m\n\u001b[1;32m    592\u001b[0m \u001b[0;34m\u001b[0m\u001b[0m\n\u001b[0;32m--> 593\u001b[0;31m     \u001b[0marrays\u001b[0m \u001b[0;34m=\u001b[0m \u001b[0;34m[\u001b[0m\u001b[0mconvert\u001b[0m\u001b[0;34m(\u001b[0m\u001b[0marr\u001b[0m\u001b[0;34m)\u001b[0m \u001b[0;32mfor\u001b[0m \u001b[0marr\u001b[0m \u001b[0;32min\u001b[0m \u001b[0mcontent\u001b[0m\u001b[0;34m]\u001b[0m\u001b[0;34m\u001b[0m\u001b[0;34m\u001b[0m\u001b[0m\n\u001b[0m\u001b[1;32m    594\u001b[0m \u001b[0;34m\u001b[0m\u001b[0m\n\u001b[1;32m    595\u001b[0m     \u001b[0;32mreturn\u001b[0m \u001b[0marrays\u001b[0m\u001b[0;34m,\u001b[0m \u001b[0mcolumns\u001b[0m\u001b[0;34m\u001b[0m\u001b[0;34m\u001b[0m\u001b[0m\n",
      "\u001b[0;32m~/anaconda/envs/insight/lib/python3.6/site-packages/pandas/core/internals/construction.py\u001b[0m in \u001b[0;36mconvert\u001b[0;34m(arr)\u001b[0m\n\u001b[1;32m    587\u001b[0m     \u001b[0;32mdef\u001b[0m \u001b[0mconvert\u001b[0m\u001b[0;34m(\u001b[0m\u001b[0marr\u001b[0m\u001b[0;34m)\u001b[0m\u001b[0;34m:\u001b[0m\u001b[0;34m\u001b[0m\u001b[0;34m\u001b[0m\u001b[0m\n\u001b[1;32m    588\u001b[0m         \u001b[0;32mif\u001b[0m \u001b[0mdtype\u001b[0m \u001b[0;34m!=\u001b[0m \u001b[0mobject\u001b[0m \u001b[0;32mand\u001b[0m \u001b[0mdtype\u001b[0m \u001b[0;34m!=\u001b[0m \u001b[0mnp\u001b[0m\u001b[0;34m.\u001b[0m\u001b[0mobject\u001b[0m\u001b[0;34m:\u001b[0m\u001b[0;34m\u001b[0m\u001b[0;34m\u001b[0m\u001b[0m\n\u001b[0;32m--> 589\u001b[0;31m             \u001b[0marr\u001b[0m \u001b[0;34m=\u001b[0m \u001b[0mlib\u001b[0m\u001b[0;34m.\u001b[0m\u001b[0mmaybe_convert_objects\u001b[0m\u001b[0;34m(\u001b[0m\u001b[0marr\u001b[0m\u001b[0;34m,\u001b[0m \u001b[0mtry_float\u001b[0m\u001b[0;34m=\u001b[0m\u001b[0mcoerce_float\u001b[0m\u001b[0;34m)\u001b[0m\u001b[0;34m\u001b[0m\u001b[0;34m\u001b[0m\u001b[0m\n\u001b[0m\u001b[1;32m    590\u001b[0m             \u001b[0marr\u001b[0m \u001b[0;34m=\u001b[0m \u001b[0mmaybe_cast_to_datetime\u001b[0m\u001b[0;34m(\u001b[0m\u001b[0marr\u001b[0m\u001b[0;34m,\u001b[0m \u001b[0mdtype\u001b[0m\u001b[0;34m)\u001b[0m\u001b[0;34m\u001b[0m\u001b[0;34m\u001b[0m\u001b[0m\n\u001b[1;32m    591\u001b[0m         \u001b[0;32mreturn\u001b[0m \u001b[0marr\u001b[0m\u001b[0;34m\u001b[0m\u001b[0;34m\u001b[0m\u001b[0m\n",
      "\u001b[0;31mKeyboardInterrupt\u001b[0m: "
     ]
    }
   ],
   "source": [
    "# I think this is wrong\n",
    "sql_query = \"\"\"\n",
    "SELECT *\n",
    "FROM statcast_simple ss1, statcast_simple ss2\n",
    "WHERE ss1.batter=ss2.pitcher;\n",
    "\"\"\"\n",
    "\n",
    "df_query = pd.read_sql_query(sql_query,con)\n",
    "print(df_query)"
   ]
  },
  {
   "cell_type": "code",
   "execution_count": 11,
   "metadata": {
    "ExecuteTime": {
     "end_time": "2020-02-29T22:07:49.469039Z",
     "start_time": "2020-02-29T22:07:35.802633Z"
    }
   },
   "outputs": [
    {
     "ename": "KeyboardInterrupt",
     "evalue": "",
     "output_type": "error",
     "traceback": [
      "\u001b[0;31m---------------------------------------------------------------------------\u001b[0m",
      "\u001b[0;31mKeyboardInterrupt\u001b[0m                         Traceback (most recent call last)",
      "\u001b[0;32m<ipython-input-11-2fefe9a634dc>\u001b[0m in \u001b[0;36m<module>\u001b[0;34m\u001b[0m\n\u001b[1;32m      6\u001b[0m \"\"\"\n\u001b[1;32m      7\u001b[0m \u001b[0;34m\u001b[0m\u001b[0m\n\u001b[0;32m----> 8\u001b[0;31m \u001b[0mdf_query\u001b[0m \u001b[0;34m=\u001b[0m \u001b[0mpd\u001b[0m\u001b[0;34m.\u001b[0m\u001b[0mread_sql_query\u001b[0m\u001b[0;34m(\u001b[0m\u001b[0msql_query\u001b[0m\u001b[0;34m,\u001b[0m\u001b[0mcon\u001b[0m\u001b[0;34m)\u001b[0m\u001b[0;34m\u001b[0m\u001b[0;34m\u001b[0m\u001b[0m\n\u001b[0m\u001b[1;32m      9\u001b[0m \u001b[0mprint\u001b[0m\u001b[0;34m(\u001b[0m\u001b[0mdf_query\u001b[0m\u001b[0;34m)\u001b[0m\u001b[0;34m\u001b[0m\u001b[0;34m\u001b[0m\u001b[0m\n",
      "\u001b[0;32m~/anaconda/envs/insight/lib/python3.6/site-packages/pandas/io/sql.py\u001b[0m in \u001b[0;36mread_sql_query\u001b[0;34m(sql, con, index_col, coerce_float, params, parse_dates, chunksize)\u001b[0m\n\u001b[1;32m    330\u001b[0m         \u001b[0mcoerce_float\u001b[0m\u001b[0;34m=\u001b[0m\u001b[0mcoerce_float\u001b[0m\u001b[0;34m,\u001b[0m\u001b[0;34m\u001b[0m\u001b[0;34m\u001b[0m\u001b[0m\n\u001b[1;32m    331\u001b[0m         \u001b[0mparse_dates\u001b[0m\u001b[0;34m=\u001b[0m\u001b[0mparse_dates\u001b[0m\u001b[0;34m,\u001b[0m\u001b[0;34m\u001b[0m\u001b[0;34m\u001b[0m\u001b[0m\n\u001b[0;32m--> 332\u001b[0;31m         \u001b[0mchunksize\u001b[0m\u001b[0;34m=\u001b[0m\u001b[0mchunksize\u001b[0m\u001b[0;34m,\u001b[0m\u001b[0;34m\u001b[0m\u001b[0;34m\u001b[0m\u001b[0m\n\u001b[0m\u001b[1;32m    333\u001b[0m     )\n\u001b[1;32m    334\u001b[0m \u001b[0;34m\u001b[0m\u001b[0m\n",
      "\u001b[0;32m~/anaconda/envs/insight/lib/python3.6/site-packages/pandas/io/sql.py\u001b[0m in \u001b[0;36mread_query\u001b[0;34m(self, sql, index_col, coerce_float, params, parse_dates, chunksize)\u001b[0m\n\u001b[1;32m   1643\u001b[0m \u001b[0;34m\u001b[0m\u001b[0m\n\u001b[1;32m   1644\u001b[0m         \u001b[0margs\u001b[0m \u001b[0;34m=\u001b[0m \u001b[0m_convert_params\u001b[0m\u001b[0;34m(\u001b[0m\u001b[0msql\u001b[0m\u001b[0;34m,\u001b[0m \u001b[0mparams\u001b[0m\u001b[0;34m)\u001b[0m\u001b[0;34m\u001b[0m\u001b[0;34m\u001b[0m\u001b[0m\n\u001b[0;32m-> 1645\u001b[0;31m         \u001b[0mcursor\u001b[0m \u001b[0;34m=\u001b[0m \u001b[0mself\u001b[0m\u001b[0;34m.\u001b[0m\u001b[0mexecute\u001b[0m\u001b[0;34m(\u001b[0m\u001b[0;34m*\u001b[0m\u001b[0margs\u001b[0m\u001b[0;34m)\u001b[0m\u001b[0;34m\u001b[0m\u001b[0;34m\u001b[0m\u001b[0m\n\u001b[0m\u001b[1;32m   1646\u001b[0m         \u001b[0mcolumns\u001b[0m \u001b[0;34m=\u001b[0m \u001b[0;34m[\u001b[0m\u001b[0mcol_desc\u001b[0m\u001b[0;34m[\u001b[0m\u001b[0;36m0\u001b[0m\u001b[0;34m]\u001b[0m \u001b[0;32mfor\u001b[0m \u001b[0mcol_desc\u001b[0m \u001b[0;32min\u001b[0m \u001b[0mcursor\u001b[0m\u001b[0;34m.\u001b[0m\u001b[0mdescription\u001b[0m\u001b[0;34m]\u001b[0m\u001b[0;34m\u001b[0m\u001b[0;34m\u001b[0m\u001b[0m\n\u001b[1;32m   1647\u001b[0m \u001b[0;34m\u001b[0m\u001b[0m\n",
      "\u001b[0;32m~/anaconda/envs/insight/lib/python3.6/site-packages/pandas/io/sql.py\u001b[0m in \u001b[0;36mexecute\u001b[0;34m(self, *args, **kwargs)\u001b[0m\n\u001b[1;32m   1593\u001b[0m                 \u001b[0mcur\u001b[0m\u001b[0;34m.\u001b[0m\u001b[0mexecute\u001b[0m\u001b[0;34m(\u001b[0m\u001b[0;34m*\u001b[0m\u001b[0margs\u001b[0m\u001b[0;34m,\u001b[0m \u001b[0;34m**\u001b[0m\u001b[0mkwargs\u001b[0m\u001b[0;34m)\u001b[0m\u001b[0;34m\u001b[0m\u001b[0;34m\u001b[0m\u001b[0m\n\u001b[1;32m   1594\u001b[0m             \u001b[0;32melse\u001b[0m\u001b[0;34m:\u001b[0m\u001b[0;34m\u001b[0m\u001b[0;34m\u001b[0m\u001b[0m\n\u001b[0;32m-> 1595\u001b[0;31m                 \u001b[0mcur\u001b[0m\u001b[0;34m.\u001b[0m\u001b[0mexecute\u001b[0m\u001b[0;34m(\u001b[0m\u001b[0;34m*\u001b[0m\u001b[0margs\u001b[0m\u001b[0;34m)\u001b[0m\u001b[0;34m\u001b[0m\u001b[0;34m\u001b[0m\u001b[0m\n\u001b[0m\u001b[1;32m   1596\u001b[0m             \u001b[0;32mreturn\u001b[0m \u001b[0mcur\u001b[0m\u001b[0;34m\u001b[0m\u001b[0;34m\u001b[0m\u001b[0m\n\u001b[1;32m   1597\u001b[0m         \u001b[0;32mexcept\u001b[0m \u001b[0mException\u001b[0m \u001b[0;32mas\u001b[0m \u001b[0mexc\u001b[0m\u001b[0;34m:\u001b[0m\u001b[0;34m\u001b[0m\u001b[0;34m\u001b[0m\u001b[0m\n",
      "\u001b[0;32m~/anaconda/envs/insight/lib/python3.6/encodings/utf_8.py\u001b[0m in \u001b[0;36mdecode\u001b[0;34m(input, errors)\u001b[0m\n\u001b[1;32m     13\u001b[0m \u001b[0mencode\u001b[0m \u001b[0;34m=\u001b[0m \u001b[0mcodecs\u001b[0m\u001b[0;34m.\u001b[0m\u001b[0mutf_8_encode\u001b[0m\u001b[0;34m\u001b[0m\u001b[0;34m\u001b[0m\u001b[0m\n\u001b[1;32m     14\u001b[0m \u001b[0;34m\u001b[0m\u001b[0m\n\u001b[0;32m---> 15\u001b[0;31m \u001b[0;32mdef\u001b[0m \u001b[0mdecode\u001b[0m\u001b[0;34m(\u001b[0m\u001b[0minput\u001b[0m\u001b[0;34m,\u001b[0m \u001b[0merrors\u001b[0m\u001b[0;34m=\u001b[0m\u001b[0;34m'strict'\u001b[0m\u001b[0;34m)\u001b[0m\u001b[0;34m:\u001b[0m\u001b[0;34m\u001b[0m\u001b[0;34m\u001b[0m\u001b[0m\n\u001b[0m\u001b[1;32m     16\u001b[0m     \u001b[0;32mreturn\u001b[0m \u001b[0mcodecs\u001b[0m\u001b[0;34m.\u001b[0m\u001b[0mutf_8_decode\u001b[0m\u001b[0;34m(\u001b[0m\u001b[0minput\u001b[0m\u001b[0;34m,\u001b[0m \u001b[0merrors\u001b[0m\u001b[0;34m,\u001b[0m \u001b[0;32mTrue\u001b[0m\u001b[0;34m)\u001b[0m\u001b[0;34m\u001b[0m\u001b[0;34m\u001b[0m\u001b[0m\n\u001b[1;32m     17\u001b[0m \u001b[0;34m\u001b[0m\u001b[0m\n",
      "\u001b[0;31mKeyboardInterrupt\u001b[0m: "
     ]
    }
   ],
   "source": [
    "sql_query = \"\"\"\n",
    "SELECT *\n",
    "FROM statcast_simple AS ss1\n",
    "JOIN statcast_simple AS ss2\n",
    "ON ss1.home_team=ss2.away_team;\n",
    "\"\"\"\n",
    "\n",
    "df_query = pd.read_sql_query(sql_query,con)\n",
    "print(df_query)"
   ]
  },
  {
   "cell_type": "code",
   "execution_count": 13,
   "metadata": {
    "ExecuteTime": {
     "end_time": "2020-02-29T21:53:06.910822Z",
     "start_time": "2020-02-29T21:53:06.819780Z"
    }
   },
   "outputs": [
    {
     "name": "stdout",
     "output_type": "stream",
     "text": [
      "     index pitch_type  game_date  release_speed    batter   pitcher  balls  \\\n",
      "0      118         FT 2017-06-14           88.9  607237.0  468504.0    0.0   \n",
      "1      127         SL 2017-06-14           80.2  468504.0  607237.0    1.0   \n",
      "2      128         FF 2017-06-14           91.2  468504.0  607237.0    1.0   \n",
      "3      129         FF 2017-06-14           90.4  468504.0  607237.0    1.0   \n",
      "4      130         SL 2017-06-14           78.2  468504.0  607237.0    0.0   \n",
      "..     ...        ...        ...            ...       ...       ...    ...   \n",
      "287   9826         SL 2017-06-11           85.6  502212.0  453286.0    2.0   \n",
      "288   9827         FF 2017-06-11           95.7  502212.0  453286.0    2.0   \n",
      "289   9828         FF 2017-06-11           94.3  502212.0  453286.0    1.0   \n",
      "290   9829         FF 2017-06-11           94.3  502212.0  453286.0    0.0   \n",
      "291   9830         FF 2017-06-11           93.6  502212.0  453286.0    0.0   \n",
      "\n",
      "     strikes  home_score  away_score  \n",
      "0        0.0         0.0         2.0  \n",
      "1        2.0         0.0         2.0  \n",
      "2        1.0         0.0         2.0  \n",
      "3        0.0         0.0         2.0  \n",
      "4        0.0         0.0         2.0  \n",
      "..       ...         ...         ...  \n",
      "287      2.0         1.0         0.0  \n",
      "288      1.0         1.0         0.0  \n",
      "289      1.0         1.0         0.0  \n",
      "290      1.0         1.0         0.0  \n",
      "291      0.0         1.0         0.0  \n",
      "\n",
      "[292 rows x 10 columns]\n"
     ]
    }
   ],
   "source": [
    "sql_query = \"\"\"\n",
    "SELECT *\n",
    "FROM statcast_simple ss1\n",
    "WHERE ss1.batter IN\n",
    "    (SELECT DISTINCT(ss2.pitcher)\n",
    "    FROM statcast_simple ss2);\n",
    "\"\"\"\n",
    "\n",
    "df_query = pd.read_sql_query(sql_query,con)\n",
    "print(df_query)"
   ]
  },
  {
   "cell_type": "code",
   "execution_count": null,
   "metadata": {},
   "outputs": [],
   "source": []
  },
  {
   "cell_type": "code",
   "execution_count": 11,
   "metadata": {
    "ExecuteTime": {
     "end_time": "2020-02-29T21:47:42.998655Z",
     "start_time": "2020-02-29T21:47:42.926429Z"
    }
   },
   "outputs": [
    {
     "name": "stdout",
     "output_type": "stream",
     "text": [
      "    index     name_last name_first  key_mlbam key_retro  key_bbref  \\\n",
      "0      84        arroyo    bronson     276520  arrob001  arroybr01   \n",
      "1     168  bibens-dirkx     austin     502212  bibea001  bibenau01   \n",
      "2     176         blach         ty     621389  blact002  blachty01   \n",
      "3     319        chacin    jhoulys     468504  chacj001  chacijh01   \n",
      "4     325      chatwood      tyler     543022  chatt001  chatwty01   \n",
      "5     350          cole     gerrit     543037  coleg001   colege01   \n",
      "6     378        cotton     jharel     605194  cottj001  cottojh01   \n",
      "7     432        degrom      jacob     594798  degrj001  degroja01   \n",
      "8     460        dickey      r. a.     285079  dickr001  dicker.01   \n",
      "9     540       feldman      scott     444857  felds001  feldmsc01   \n",
      "10    567   foltynewicz       mike     592314  foltm001  foltymi01   \n",
      "11    584      freeland       kyle     607536  freek001  freelky01   \n",
      "12    630       garrett       amir     607237  garra001  garream01   \n",
      "13    650       gimenez      chris     460269  gimec001  gimench01   \n",
      "14    671      gonzales      marco     594835  gonzm005  gonzama02   \n",
      "15    712         grimm     justin     518748  grimj002  grimmju01   \n",
      "16    773        harvey       matt     518774  harvm001  harvema01   \n",
      "17    789    hellickson     jeremy     476451  hellj001  hellije01   \n",
      "18    894       johnson      brian     598271  johnb004  johnsbr02   \n",
      "19    975        lackey       john     407793  lackj001  lackejo01   \n",
      "20   1002        lester        jon     452657  lestj001  lestejo01   \n",
      "21   1048          lynn      lance     458681  lynnl001   lynnla01   \n",
      "22   1049         lyons      tyler     544928  lyont001  lyonsty01   \n",
      "23   1193    montgomery       mike     543557  montm002  montgmi01   \n",
      "24   1242        nelson      jimmy     519076  nelsj004  nelsoji02   \n",
      "25   1341       perdomo       luis     606131  perdl002  perdolu02   \n",
      "26   1419       ramirez       neil     519166  ramin001  ramirne01   \n",
      "27   1458       richard    clayton     453385  richc002  richacl01   \n",
      "28   1470         roark     tanner     543699  roart001  roarkta01   \n",
      "29   1516          ross        joe     605452  rossj002   rossjo01   \n",
      "30   1573      scherzer        max     453286  schem001  scherma01   \n",
      "31   1648        smoker       josh     519294  smokj001  smokejo01   \n",
      "32   1702     strasburg    stephen     544931  stras001  strasst01   \n",
      "33   1722         suter      brent     608718  suteb001  suterbr01   \n",
      "34   1733       taillon    jameson     592791  tailj001  taillja01   \n",
      "35   1747       teheran      julio     527054  tehej001  teherju01   \n",
      "36   1799        turner      jacob     545363  turnj002  turneja01   \n",
      "37   1806         urena       jose     570632  urenj001  urenajo01   \n",
      "38   1825        vargas      jason     450306  vargj001  vargaja01   \n",
      "39   1833     velazquez     hector     584171  velah001  velazhe01   \n",
      "\n",
      "    key_fangraphs  mlb_played_first  mlb_played_last  \n",
      "0             978            2000.0           2017.0  \n",
      "1            9559            2017.0           2018.0  \n",
      "2           14361            2016.0           2019.0  \n",
      "3            2608            2009.0           2019.0  \n",
      "4            4338            2011.0           2019.0  \n",
      "5           13125            2013.0           2019.0  \n",
      "6           13654            2016.0           2017.0  \n",
      "7           10954            2014.0           2019.0  \n",
      "8            1245            2001.0           2017.0  \n",
      "9            6283            2005.0           2017.0  \n",
      "10          10811            2014.0           2019.0  \n",
      "11          16256            2017.0           2019.0  \n",
      "12          14375            2017.0           2019.0  \n",
      "13           7324            2009.0           2018.0  \n",
      "14          15467            2014.0           2019.0  \n",
      "15          11720            2012.0           2018.0  \n",
      "16          11713            2012.0           2019.0  \n",
      "17           4371            2010.0           2019.0  \n",
      "18          14272            2015.0           2019.0  \n",
      "19           1507            2002.0           2017.0  \n",
      "20           4930            2006.0           2019.0  \n",
      "21           2520            2011.0           2019.0  \n",
      "22          11334            2013.0           2019.0  \n",
      "23           4869            2015.0           2019.0  \n",
      "24          10547            2013.0           2019.0  \n",
      "25          14682            2016.0           2019.0  \n",
      "26           7677            2014.0           2019.0  \n",
      "27           3551            2008.0           2019.0  \n",
      "28           8753            2013.0           2019.0  \n",
      "29          12972            2015.0           2019.0  \n",
      "30           3137            2008.0           2019.0  \n",
      "31          10285            2016.0           2018.0  \n",
      "32          10131            2010.0           2019.0  \n",
      "33          13942            2016.0           2019.0  \n",
      "34          11674            2016.0           2019.0  \n",
      "35           6797            2011.0           2019.0  \n",
      "36          10185            2011.0           2018.0  \n",
      "37          11589            2015.0           2019.0  \n",
      "38           8044            2005.0           2019.0  \n",
      "39          19341            2017.0           2019.0  \n"
     ]
    }
   ],
   "source": [
    "sql_query = \"\"\"\n",
    "SELECT * FROM player_id\n",
    "WHERE key_mlbam IN\n",
    "    (SELECT DISTINCT(ss1.batter)\n",
    "    FROM statcast_simple ss1, statcast_simple ss2\n",
    "    WHERE ss1.batter=ss2.pitcher);\n",
    "\"\"\"\n",
    "\n",
    "df_query = pd.read_sql_query(sql_query,con)\n",
    "print(df_query)"
   ]
  },
  {
   "cell_type": "code",
   "execution_count": null,
   "metadata": {},
   "outputs": [],
   "source": [
    "sql_query = \"\"\"\n",
    "SELECT *\n",
    "FROM statcast_simple\n",
    "WHERE release_speed > (SELECT AVG(release_speed)\n",
    "        FROM statcast_simple);\n",
    "\"\"\"\n",
    "\n",
    "df_query = pd.read_sql_query(sql_query,con)\n",
    "print(df_query)"
   ]
  },
  {
   "cell_type": "code",
   "execution_count": null,
   "metadata": {},
   "outputs": [],
   "source": []
  },
  {
   "cell_type": "markdown",
   "metadata": {
    "ExecuteTime": {
     "end_time": "2020-02-29T06:19:39.986380Z",
     "start_time": "2020-02-29T06:19:39.975900Z"
    }
   },
   "source": [
    "## Get the months with the highest avg release speeds"
   ]
  },
  {
   "cell_type": "code",
   "execution_count": 14,
   "metadata": {
    "ExecuteTime": {
     "end_time": "2020-02-29T22:09:37.808835Z",
     "start_time": "2020-02-29T22:09:37.762162Z"
    }
   },
   "outputs": [
    {
     "name": "stdout",
     "output_type": "stream",
     "text": [
      "   index pitch_type  game_date  release_speed home_team away_team    batter  \\\n",
      "0      0         FT 2017-06-09           89.7        TB       OAK  446334.0   \n",
      "1      1         FC 2017-06-09           83.8        TB       OAK  446334.0   \n",
      "2      2         CH 2017-06-09           82.6        TB       OAK  572816.0   \n",
      "3      3         FT 2017-06-09           90.0        TB       OAK  605480.0   \n",
      "4      4         FT 2017-06-09           89.9        TB       OAK  605480.0   \n",
      "5      5         FT 2017-06-09           89.8        TB       OAK  605480.0   \n",
      "6      6         FT 2017-06-09           89.9        TB       OAK  605480.0   \n",
      "7      7         FT 2017-06-09           90.2        TB       OAK  491696.0   \n",
      "8      8         FT 2017-06-09           89.8        TB       OAK  491696.0   \n",
      "9      9         FC 2017-06-09           84.9        TB       OAK  491696.0   \n",
      "\n",
      "    pitcher  balls  strikes  home_score  away_score  \n",
      "0  594943.0    1.0      0.0        13.0         0.0  \n",
      "1  594943.0    0.0      0.0        13.0         0.0  \n",
      "2  594943.0    0.0      0.0        10.0         0.0  \n",
      "3  594943.0    1.0      2.0        10.0         0.0  \n",
      "4  594943.0    0.0      2.0        10.0         0.0  \n",
      "5  594943.0    0.0      1.0        10.0         0.0  \n",
      "6  594943.0    0.0      0.0        10.0         0.0  \n",
      "7  594943.0    1.0      1.0         9.0         0.0  \n",
      "8  594943.0    0.0      1.0         9.0         0.0  \n",
      "9  594943.0    0.0      0.0         9.0         0.0  \n"
     ]
    }
   ],
   "source": [
    "sql_query = \"\"\"\n",
    "SELECT * FROM statcast_simple\n",
    "LIMIT 10\n",
    "\"\"\"\n",
    "\n",
    "df_query = pd.read_sql_query(sql_query,con)\n",
    "print(df_query)"
   ]
  },
  {
   "cell_type": "code",
   "execution_count": 19,
   "metadata": {
    "ExecuteTime": {
     "end_time": "2020-02-29T22:12:38.713680Z",
     "start_time": "2020-02-29T22:12:38.657390Z"
    }
   },
   "outputs": [
    {
     "name": "stdout",
     "output_type": "stream",
     "text": [
      "   month\n",
      "0    6.0\n",
      "1    6.0\n",
      "2    6.0\n",
      "3    6.0\n",
      "4    6.0\n",
      "5    6.0\n",
      "6    6.0\n",
      "7    6.0\n",
      "8    6.0\n",
      "9    6.0\n"
     ]
    }
   ],
   "source": [
    "# Extract month\n",
    "sql_query = \"\"\"\n",
    "SELECT EXTRACT(MONTH FROM game_date) AS month\n",
    "FROM statcast\n",
    "LIMIT 10\n",
    "\"\"\"\n",
    "\n",
    "df_query = pd.read_sql_query(sql_query,con)\n",
    "print(df_query)"
   ]
  },
  {
   "cell_type": "code",
   "execution_count": 20,
   "metadata": {
    "ExecuteTime": {
     "end_time": "2020-02-29T22:13:15.261843Z",
     "start_time": "2020-02-29T22:12:43.939029Z"
    }
   },
   "outputs": [
    {
     "name": "stdout",
     "output_type": "stream",
     "text": [
      "   month  avg_release_speed\n",
      "0    4.0          88.430430\n",
      "1    5.0          88.544273\n",
      "2    3.0          88.563039\n",
      "3    8.0          88.643873\n",
      "4    6.0          88.733679\n",
      "5    7.0          88.741111\n",
      "6   10.0          88.758476\n",
      "7    9.0          88.769983\n"
     ]
    }
   ],
   "source": [
    "# Group by average release speeds for each month - month alias can be used in group by?\n",
    "\n",
    "sql_query = \"\"\"\n",
    "SELECT EXTRACT(MONTH FROM game_date) AS month, AVG(release_speed) AS avg_release_speed\n",
    "FROM statcast\n",
    "GROUP BY month\n",
    "ORDER BY avg_release_speed;\n",
    "\"\"\"\n",
    "\n",
    "df_query = pd.read_sql_query(sql_query,con)\n",
    "print(df_query)"
   ]
  },
  {
   "cell_type": "code",
   "execution_count": 25,
   "metadata": {
    "ExecuteTime": {
     "end_time": "2020-02-29T22:19:39.166291Z",
     "start_time": "2020-02-29T22:19:39.115966Z"
    }
   },
   "outputs": [
    {
     "name": "stdout",
     "output_type": "stream",
     "text": [
      "      b_alias  avg_release_speed\n",
      "0    429666.0          89.565789\n",
      "1    592663.0          90.721622\n",
      "2    519076.0          83.000000\n",
      "3    518792.0          92.524590\n",
      "4    547957.0          91.175000\n",
      "..        ...                ...\n",
      "394  446263.0          87.417143\n",
      "395  459431.0          85.225000\n",
      "396  502100.0          89.935714\n",
      "397  501981.0          86.831250\n",
      "398  471865.0          89.106061\n",
      "\n",
      "[399 rows x 2 columns]\n"
     ]
    }
   ],
   "source": [
    "# Group by average release speeds for each month - check if batter alias can be used in group by???\n",
    "\n",
    "sql_query = \"\"\"\n",
    "SELECT batter AS b_alias, AVG(release_speed) AS avg_release_speed\n",
    "FROM statcast_simple\n",
    "GROUP BY b_alias;\n",
    "\"\"\"\n",
    "\n",
    "df_query = pd.read_sql_query(sql_query,con)\n",
    "print(df_query)"
   ]
  },
  {
   "cell_type": "code",
   "execution_count": 27,
   "metadata": {
    "ExecuteTime": {
     "end_time": "2020-02-29T22:21:28.173481Z",
     "start_time": "2020-02-29T22:21:28.136649Z"
    }
   },
   "outputs": [
    {
     "name": "stdout",
     "output_type": "stream",
     "text": [
      "     matchup  avg_release_speed\n",
      "0   LAAvsDET          91.747516\n",
      "1   MIAvsPIT          90.760225\n",
      "2   WSHvsLAD          90.221687\n",
      "3   BOSvsNYY          90.185304\n",
      "4   PITvsBAL          90.143766\n",
      "5   COLvsCHC          89.763666\n",
      "6   NYMvsTEX          89.615331\n",
      "7    CWSvsTB          89.182215\n",
      "8   MILvsARI          89.129781\n",
      "9   TORvsOAK          88.965766\n",
      "10   MINvsSF          88.758824\n",
      "11  LAAvsHOU          88.742424\n",
      "12  MIAvsCHC          88.712420\n",
      "13  DETvsBOS          88.652454\n",
      "14   HOUvsKC          88.554582\n",
      "15   SDvsARI          88.446586\n",
      "16   SFvsMIL          88.399389\n",
      "17  NYMvsATL          88.272425\n",
      "18  MINvsSEA          88.218233\n",
      "19  BALvsWSH          87.939209\n",
      "20  CWSvsCLE          87.785357\n",
      "21    KCvsSD          87.659220\n",
      "22  BALvsNYY          87.307143\n",
      "23  CINvsLAD          87.162951\n",
      "24  PHIvsATL          86.503352\n",
      "25  STLvsCIN          86.233136\n",
      "26   OAKvsTB          85.463684\n"
     ]
    }
   ],
   "source": [
    "# Group by average release speeds for each month - check if batter alias can be used in group by???\n",
    "sql_query = \"\"\"\n",
    "SELECT CONCAT(away_team, 'vs', home_team) AS matchup, \n",
    "    AVG(release_speed) AS avg_release_speed\n",
    "FROM statcast_simple\n",
    "GROUP BY matchup\n",
    "ORDER BY avg_release_speed DESC;\n",
    "\"\"\"\n",
    "\n",
    "df_query = pd.read_sql_query(sql_query,con)\n",
    "print(df_query)"
   ]
  },
  {
   "cell_type": "code",
   "execution_count": null,
   "metadata": {},
   "outputs": [],
   "source": []
  },
  {
   "cell_type": "code",
   "execution_count": 52,
   "metadata": {
    "ExecuteTime": {
     "end_time": "2020-02-29T22:39:55.851469Z",
     "start_time": "2020-02-29T22:39:55.810051Z"
    }
   },
   "outputs": [
    {
     "name": "stdout",
     "output_type": "stream",
     "text": [
      "   a_alias  avg_release_speed\n",
      "0      LAA          90.305654\n",
      "1      WSH          90.221687\n",
      "2      BOS          90.185304\n",
      "3      PIT          90.143766\n",
      "4      MIA          90.072513\n",
      "5      COL          89.763666\n",
      "6      MIL          89.129781\n",
      "7      TOR          88.965766\n",
      "8      NYM          88.927891\n",
      "9      DET          88.652454\n",
      "10     HOU          88.554582\n",
      "11     CWS          88.505536\n",
      "12      SD          88.446586\n",
      "13      SF          88.399389\n",
      "14     MIN          88.376892\n",
      "15      KC          87.659220\n",
      "16     BAL          87.630147\n",
      "17     CIN          87.162951\n",
      "18     PHI          86.503352\n",
      "19     STL          86.233136\n",
      "20     OAK          85.463684\n"
     ]
    }
   ],
   "source": [
    "# Group by average release speeds for each month - check if batter alias can be used in group by???\n",
    "sql_query = \"\"\"\n",
    "SELECT away_team AS a_alias,\n",
    "    AVG(release_speed) AS avg_release_speed\n",
    "FROM statcast_simple\n",
    "GROUP BY a_alias\n",
    "ORDER BY avg_release_speed DESC;\n",
    "\"\"\"\n",
    "\n",
    "df_query = pd.read_sql_query(sql_query,con)\n",
    "print(df_query)"
   ]
  },
  {
   "cell_type": "code",
   "execution_count": 28,
   "metadata": {
    "ExecuteTime": {
     "end_time": "2020-02-29T22:23:45.868099Z",
     "start_time": "2020-02-29T22:23:45.435107Z"
    }
   },
   "outputs": [
    {
     "name": "stdout",
     "output_type": "stream",
     "text": [
      "      index pitch_type  game_date  release_speed home_team away_team  \\\n",
      "0         0         FT 2017-06-09           89.7        TB       OAK   \n",
      "1         1         FC 2017-06-09           83.8        TB       OAK   \n",
      "2         2         CH 2017-06-09           82.6        TB       OAK   \n",
      "3         3         FT 2017-06-09           90.0        TB       OAK   \n",
      "4         4         FT 2017-06-09           89.9        TB       OAK   \n",
      "...     ...        ...        ...            ...       ...       ...   \n",
      "9995   9995         FF 2017-06-07           92.2       DET       LAA   \n",
      "9996   9996         FF 2017-06-07           91.9       DET       LAA   \n",
      "9997   9997         FF 2017-06-07           92.1       DET       LAA   \n",
      "9998   9998         FF 2017-06-07           93.0       DET       LAA   \n",
      "9999   9999         SL 2017-06-07           87.3       DET       LAA   \n",
      "\n",
      "        batter   pitcher  balls  strikes  home_score  away_score  \n",
      "0     446334.0  594943.0    1.0      0.0        13.0         0.0  \n",
      "1     446334.0  594943.0    0.0      0.0        13.0         0.0  \n",
      "2     572816.0  594943.0    0.0      0.0        10.0         0.0  \n",
      "3     605480.0  594943.0    1.0      2.0        10.0         0.0  \n",
      "4     605480.0  594943.0    0.0      2.0        10.0         0.0  \n",
      "...        ...       ...    ...      ...         ...         ...  \n",
      "9995  460060.0  543935.0    3.0      2.0         1.0         0.0  \n",
      "9996  460060.0  543935.0    3.0      2.0         1.0         0.0  \n",
      "9997  460060.0  543935.0    3.0      1.0         1.0         0.0  \n",
      "9998  460060.0  543935.0    3.0      0.0         1.0         0.0  \n",
      "9999  460060.0  543935.0    2.0      0.0         1.0         0.0  \n",
      "\n",
      "[10000 rows x 12 columns]\n"
     ]
    }
   ],
   "source": [
    "sql_query = \"\"\"\n",
    "SELECT *\n",
    "FROM statcast_simple;\n",
    "\"\"\"\n",
    "\n",
    "df_query = pd.read_sql_query(sql_query,con)\n",
    "print(df_query)"
   ]
  },
  {
   "cell_type": "code",
   "execution_count": null,
   "metadata": {},
   "outputs": [],
   "source": [
    "# Group by average release speeds for each month - check if batter alias can be used in group by???  \n",
    "# --- check if it's allowed in window function\n",
    "\n",
    "\n",
    "sql_query = \"\"\"\n",
    "SELECT CONCAT(away_team, 'vs', home_team) AS matchup, \n",
    "    AVG(release_speed) AS avg_release_speed\n",
    "FROM statcast_simple\n",
    "GROUP BY matchup\n",
    "ORDER BY avg_release_speed DESC;\n",
    "\"\"\"\n",
    "\n",
    "df_query = pd.read_sql_query(sql_query,con)\n",
    "print(df_query)"
   ]
  },
  {
   "cell_type": "code",
   "execution_count": null,
   "metadata": {},
   "outputs": [],
   "source": []
  },
  {
   "cell_type": "markdown",
   "metadata": {},
   "source": [
    "## Rank the top 3 away home run hitters for each team by month for 2019"
   ]
  },
  {
   "cell_type": "code",
   "execution_count": null,
   "metadata": {},
   "outputs": [],
   "source": [
    "team | month | player | no_home_runs | team_rank"
   ]
  },
  {
   "cell_type": "code",
   "execution_count": 86,
   "metadata": {
    "ExecuteTime": {
     "end_time": "2020-03-01T04:11:50.376501Z",
     "start_time": "2020-03-01T04:11:35.225278Z"
    }
   },
   "outputs": [
    {
     "name": "stdout",
     "output_type": "stream",
     "text": [
      "   month    batter away_team\n",
      "0    9.0  656371.0       MIA\n",
      "1    9.0  456078.0       DET\n",
      "2    9.0  408234.0       DET\n",
      "3    9.0  543543.0       MIA\n",
      "4    9.0  445988.0       MIA\n"
     ]
    }
   ],
   "source": [
    "# extract month and year\n",
    "sql_query = \"\"\"\n",
    "SELECT \n",
    "    EXTRACT(MONTH FROM game_date) AS month, \n",
    "    batter, \n",
    "    away_team\n",
    "FROM statcast\n",
    "WHERE events='home_run'\n",
    "AND EXTRACT(YEAR FROM game_date)=2019\n",
    "LIMIT 5;\n",
    "\"\"\"\n",
    "\n",
    "df_query = pd.read_sql_query(sql_query,con)\n",
    "print(df_query)"
   ]
  },
  {
   "cell_type": "code",
   "execution_count": 111,
   "metadata": {
    "ExecuteTime": {
     "end_time": "2020-03-01T04:46:14.456327Z",
     "start_time": "2020-03-01T04:46:07.310008Z"
    }
   },
   "outputs": [
    {
     "name": "stdout",
     "output_type": "stream",
     "text": [
      "     month    batter  no_home_runs\n",
      "0      4.0  596129.0             7\n",
      "1      4.0  572228.0             7\n",
      "2      5.0  605137.0             7\n",
      "3      4.0  596142.0             6\n",
      "4      5.0  500871.0             6\n",
      "..     ...       ...           ...\n",
      "519    5.0  501896.0             1\n",
      "520    4.0  465041.0             1\n",
      "521    5.0  666971.0             1\n",
      "522    5.0  502110.0             1\n",
      "523    5.0  624428.0             1\n",
      "\n",
      "[524 rows x 3 columns]\n"
     ]
    }
   ],
   "source": [
    "# without using window function\n",
    "\n",
    "sql_query = \"\"\"\n",
    "SELECT \n",
    "    EXTRACT(MONTH FROM game_date) AS month, \n",
    "    batter, \n",
    "    COUNT(events) AS no_home_runs\n",
    "FROM statcast\n",
    "WHERE events='home_run'\n",
    "AND inning_topbot='Top'\n",
    "AND game_date BETWEEN '2019-04-01' AND '2019-05-31'\n",
    "GROUP BY month, batter\n",
    "ORDER BY no_home_runs DESC;\n",
    "\"\"\"\n",
    "\n",
    "df_query = pd.read_sql_query(sql_query,con)\n",
    "print(df_query)"
   ]
  },
  {
   "cell_type": "code",
   "execution_count": 117,
   "metadata": {
    "ExecuteTime": {
     "end_time": "2020-03-01T05:03:23.829806Z",
     "start_time": "2020-03-01T05:03:05.953304Z"
    }
   },
   "outputs": [
    {
     "name": "stdout",
     "output_type": "stream",
     "text": [
      "      month    batter  no_home_runs\n",
      "0       4.0  405395.0             4\n",
      "1       4.0  405395.0             4\n",
      "2       4.0  405395.0             4\n",
      "3       4.0  405395.0             4\n",
      "4       5.0  405395.0             5\n",
      "...     ...       ...           ...\n",
      "2141    5.0  669222.0             4\n",
      "2142    5.0  669374.0             4\n",
      "2143    5.0  669374.0             4\n",
      "2144    5.0  669374.0             4\n",
      "2145    5.0  669374.0             4\n",
      "\n",
      "[2146 rows x 3 columns]\n"
     ]
    }
   ],
   "source": [
    "# window function by game_date\n",
    "\n",
    "sql_query = \"\"\"\n",
    "SELECT \n",
    "    EXTRACT(MONTH FROM game_date) AS month, \n",
    "    batter, \n",
    "    COUNT(events) OVER(PARTITION BY batter, EXTRACT(MONTH FROM game_date)) AS no_home_runs\n",
    "FROM statcast\n",
    "WHERE events='home_run'\n",
    "AND game_date BETWEEN '2019-04-01' AND '2019-05-31';\n",
    "\"\"\"\n",
    "\n",
    "df_query = pd.read_sql_query(sql_query,con)\n",
    "print(df_query)"
   ]
  },
  {
   "cell_type": "code",
   "execution_count": 127,
   "metadata": {
    "ExecuteTime": {
     "end_time": "2020-03-01T05:37:54.994051Z",
     "start_time": "2020-03-01T05:37:53.562736Z"
    }
   },
   "outputs": [
    {
     "name": "stdout",
     "output_type": "stream",
     "text": [
      "   away_team  month    batter  count  team_hr_rank\n",
      "0         SD    4.0  614177.0      5             1\n",
      "1         SD    4.0  543333.0      4             2\n",
      "2         SD    4.0  592669.0      4             2\n",
      "3         SD    4.0  665487.0      4             2\n",
      "4         SD    4.0  592518.0      3             5\n",
      "5         SD    4.0  595978.0      2             6\n",
      "6         SD    4.0  622534.0      2             6\n",
      "7         SD    4.0  594824.0      1             8\n",
      "8         SD    4.0  571976.0      1             8\n",
      "9         SD    5.0  571976.0      5             1\n",
      "10        SD    5.0  592669.0      4             2\n",
      "11        SD    5.0  595978.0      2             3\n",
      "12        SD    5.0  614177.0      2             3\n",
      "13        SD    5.0  435079.0      2             3\n",
      "14        SD    5.0  543333.0      2             3\n",
      "15        SD    5.0  592518.0      2             3\n",
      "16        SD    5.0  594824.0      1             8\n"
     ]
    }
   ],
   "source": [
    "# Window function - showing all ranks\n",
    "\n",
    "sql_query = \"\"\"\n",
    "SELECT \n",
    "    away_team,\n",
    "    EXTRACT(MONTH FROM game_date) AS month, \n",
    "    batter,\n",
    "    COUNT(events),\n",
    "    RANK() OVER(PARTITION BY away_team, EXTRACT(MONTH FROM game_date) ORDER BY COUNT(events) DESC) AS team_hr_rank\n",
    "FROM statcast\n",
    "WHERE events='home_run'\n",
    "AND inning_topbot='Top'\n",
    "AND game_date BETWEEN '2019-04-01' AND '2019-05-31'\n",
    "GROUP BY away_team, month, batter\n",
    "HAVING away_team='SD';\n",
    "\"\"\"\n",
    "\n",
    "df_query = pd.read_sql_query(sql_query,con)\n",
    "print(df_query)"
   ]
  },
  {
   "cell_type": "code",
   "execution_count": 132,
   "metadata": {
    "ExecuteTime": {
     "end_time": "2020-03-01T05:43:17.000422Z",
     "start_time": "2020-03-01T05:43:02.720646Z"
    }
   },
   "outputs": [
    {
     "name": "stdout",
     "output_type": "stream",
     "text": [
      "   away_team  month    batter  count  team_hr_rank\n",
      "0         SD    4.0  614177.0      5             1\n",
      "1         SD    4.0  543333.0      4             2\n",
      "2         SD    4.0  592669.0      4             2\n",
      "3         SD    4.0  665487.0      4             2\n",
      "4         SD    5.0  571976.0      5             1\n",
      "5         SD    5.0  592669.0      4             2\n",
      "6         SD    5.0  595978.0      2             3\n",
      "7         SD    5.0  614177.0      2             3\n",
      "8         SD    5.0  435079.0      2             3\n",
      "9         SD    5.0  543333.0      2             3\n",
      "10        SD    5.0  592518.0      2             3\n"
     ]
    }
   ],
   "source": [
    "# Window function - limiting to top 3\n",
    "\n",
    "sql_query = \"\"\"\n",
    "SELECT *\n",
    "FROM\n",
    "    (SELECT \n",
    "        away_team,\n",
    "        EXTRACT(MONTH FROM game_date) AS month, \n",
    "        batter,\n",
    "        COUNT(events),\n",
    "        RANK() OVER(PARTITION BY away_team, EXTRACT(MONTH FROM game_date) ORDER BY COUNT(events) DESC) AS team_hr_rank\n",
    "    FROM statcast\n",
    "    WHERE events='home_run'\n",
    "    AND inning_topbot='Top'\n",
    "    AND game_date BETWEEN '2019-04-01' AND '2019-05-31'\n",
    "    GROUP BY away_team, month, batter\n",
    "    HAVING away_team='SD')\n",
    "AS tmp_table\n",
    "WHERE team_hr_rank <=3;\n",
    "\"\"\"\n",
    "\n",
    "df_query = pd.read_sql_query(sql_query,con)\n",
    "print(df_query)"
   ]
  },
  {
   "cell_type": "code",
   "execution_count": 133,
   "metadata": {
    "ExecuteTime": {
     "end_time": "2020-03-01T05:44:59.809950Z",
     "start_time": "2020-03-01T05:44:47.069331Z"
    }
   },
   "outputs": [
    {
     "name": "stdout",
     "output_type": "stream",
     "text": [
      "   away_team  month    batter  count  team_hr_rank\n",
      "0         SD    4.0  614177.0      5             1\n",
      "1         SD    4.0  543333.0      4             2\n",
      "2         SD    4.0  592669.0      4             2\n",
      "3         SD    4.0  665487.0      4             2\n",
      "4         SD    5.0  571976.0      5             1\n",
      "5         SD    5.0  592669.0      4             2\n",
      "6         SD    5.0  543333.0      2             3\n",
      "7         SD    5.0  592518.0      2             3\n",
      "8         SD    5.0  435079.0      2             3\n",
      "9         SD    5.0  595978.0      2             3\n",
      "10        SD    5.0  614177.0      2             3\n",
      "11        SD    6.0  592669.0      6             1\n",
      "12        SD    6.0  592518.0      6             1\n",
      "13        SD    6.0  665487.0      2             3\n",
      "14        SD    6.0  614177.0      2             3\n",
      "15        SD    7.0  665487.0      4             1\n",
      "16        SD    7.0  622534.0      3             2\n",
      "17        SD    7.0  592669.0      3             2\n",
      "18        SD    8.0  642336.0      3             1\n",
      "19        SD    8.0  622534.0      3             1\n",
      "20        SD    8.0  543333.0      2             3\n",
      "21        SD    8.0  647304.0      2             3\n",
      "22        SD    8.0  595978.0      2             3\n",
      "23        SD    8.0  665487.0      2             3\n",
      "24        SD    9.0  592518.0      3             1\n",
      "25        SD    9.0  664034.0      3             1\n",
      "26        SD    9.0  543333.0      2             3\n",
      "27        SD    9.0  571976.0      2             3\n",
      "28        SD    9.0  649966.0      2             3\n"
     ]
    }
   ],
   "source": [
    "# Window function - limiting to top 3\n",
    "\n",
    "sql_query = \"\"\"\n",
    "SELECT *\n",
    "FROM\n",
    "    (SELECT \n",
    "        away_team,\n",
    "        EXTRACT(MONTH FROM game_date) AS month, \n",
    "        batter,\n",
    "        COUNT(events),\n",
    "        RANK() OVER(PARTITION BY away_team, EXTRACT(MONTH FROM game_date) ORDER BY COUNT(events) DESC) AS team_hr_rank\n",
    "    FROM statcast\n",
    "    WHERE events='home_run'\n",
    "    AND inning_topbot='Top'\n",
    "    AND EXTRACT(YEAR FROM game_date)=2019\n",
    "    GROUP BY away_team, month, batter\n",
    "    HAVING away_team='SD')\n",
    "AS tmp_table\n",
    "WHERE team_hr_rank <=3;\n",
    "\"\"\"\n",
    "\n",
    "df_query = pd.read_sql_query(sql_query,con)\n",
    "print(df_query)"
   ]
  },
  {
   "cell_type": "code",
   "execution_count": null,
   "metadata": {},
   "outputs": [],
   "source": []
  },
  {
   "cell_type": "markdown",
   "metadata": {},
   "source": [
    "## What teams have done best against the shift?"
   ]
  },
  {
   "cell_type": "code",
   "execution_count": null,
   "metadata": {},
   "outputs": [],
   "source": [
    "| rank | team | OBP overall | OBP normal |  OBP vs shift "
   ]
  },
  {
   "cell_type": "code",
   "execution_count": 136,
   "metadata": {
    "ExecuteTime": {
     "end_time": "2020-03-01T23:38:11.882177Z",
     "start_time": "2020-03-01T23:38:11.686089Z"
    }
   },
   "outputs": [
    {
     "name": "stdout",
     "output_type": "stream",
     "text": [
      "   level_0  index pitch_type  game_date  release_speed  release_pos_x  \\\n",
      "0      611    959         FS 2019-09-29           82.6        -2.8489   \n",
      "1      612    976         FF 2019-09-29           94.4        -2.6751   \n",
      "2      613    991         FF 2019-09-29           94.1        -2.5993   \n",
      "3      614   1006         FS 2019-09-29           81.0        -2.9759   \n",
      "4      615   1021         CU 2019-09-29           74.3        -3.0207   \n",
      "\n",
      "   release_pos_z  player_name    batter   pitcher  ... home_score away_score  \\\n",
      "0         6.4584  Wilmer Font  643275.0  521655.0  ...        6.0        1.0   \n",
      "1         6.5472  Wilmer Font  643275.0  521655.0  ...        6.0        1.0   \n",
      "2         6.5978  Wilmer Font  643275.0  521655.0  ...        6.0        1.0   \n",
      "3         6.4140  Wilmer Font  643275.0  521655.0  ...        6.0        1.0   \n",
      "4         6.4187  Wilmer Font  572287.0  521655.0  ...        6.0        1.0   \n",
      "\n",
      "  bat_score fld_score post_away_score post_home_score  post_bat_score  \\\n",
      "0       1.0       6.0             1.0             6.0             1.0   \n",
      "1       1.0       6.0             1.0             6.0             1.0   \n",
      "2       1.0       6.0             1.0             6.0             1.0   \n",
      "3       1.0       6.0             1.0             6.0             1.0   \n",
      "4       1.0       6.0             1.0             6.0             1.0   \n",
      "\n",
      "  post_fld_score if_fielding_alignment of_fielding_alignment  \n",
      "0            6.0              Standard              Standard  \n",
      "1            6.0              Standard              Standard  \n",
      "2            6.0              Standard              Standard  \n",
      "3            6.0              Standard              Standard  \n",
      "4            6.0         Infield shift              Standard  \n",
      "\n",
      "[5 rows x 91 columns]\n"
     ]
    }
   ],
   "source": [
    "# All queries\n",
    "sql_query = \"\"\"\n",
    "SELECT * FROM statcast LIMIT 5;\n",
    "\"\"\"\n",
    "\n",
    "df_query = pd.read_sql_query(sql_query,con)\n",
    "print(df_query)"
   ]
  },
  {
   "cell_type": "code",
   "execution_count": 139,
   "metadata": {
    "ExecuteTime": {
     "end_time": "2020-03-01T23:51:00.747997Z",
     "start_time": "2020-03-01T23:51:00.716825Z"
    }
   },
   "outputs": [
    {
     "name": "stdout",
     "output_type": "stream",
     "text": [
      "     batter home_team              events if_fielding_alignment\n",
      "0  471865.0        SD           field_out         Infield shift\n",
      "1  448602.0        SD           strikeout         Infield shift\n",
      "2  448602.0        SD  caught_stealing_2b         Infield shift\n",
      "3  471865.0        SD           strikeout         Infield shift\n",
      "4  572114.0        SD           strikeout         Infield shift\n"
     ]
    }
   ],
   "source": [
    "# Calculate OBP against shift for each team\n",
    "\n",
    "# Use SD to narrow down query\n",
    "sql_query = \"\"\"\n",
    "SELECT batter, home_team, events, if_fielding_alignment\n",
    "FROM statcast\n",
    "WHERE if_fielding_alignment='Infield shift'\n",
    "AND events IS NOT NULL\n",
    "AND home_team='SD'\n",
    "LIMIT 5;\n",
    "\"\"\"\n",
    "\n",
    "df_query = pd.read_sql_query(sql_query,con)\n",
    "print(df_query)\n"
   ]
  },
  {
   "cell_type": "code",
   "execution_count": 145,
   "metadata": {
    "ExecuteTime": {
     "end_time": "2020-03-01T23:58:47.853305Z",
     "start_time": "2020-03-01T23:58:24.360282Z"
    }
   },
   "outputs": [
    {
     "name": "stdout",
     "output_type": "stream",
     "text": [
      "   hit_shift_pas  total_shift_pas\n",
      "0            445             2163\n"
     ]
    }
   ],
   "source": [
    "# Calculate OBP against shift for each team\n",
    "\n",
    "# Use SD to narrow down query and make total counts of OB events\n",
    "sql_query = \"\"\"\n",
    "\n",
    "SELECT \n",
    "(SELECT COUNT(batter)\n",
    "FROM statcast\n",
    "WHERE if_fielding_alignment='Infield shift'\n",
    "AND events IS NOT NULL\n",
    "AND events IN ('single', 'double', 'triple', 'home_run')\n",
    "AND home_team='SD') AS hit_shift_PAs,\n",
    "(SELECT COUNT(batter)\n",
    "FROM statcast\n",
    "WHERE if_fielding_alignment='Infield shift'\n",
    "AND events IS NOT NULL\n",
    "AND home_team='SD') AS total_shift_PAs;\n",
    "\"\"\"\n",
    "\n",
    "df_query = pd.read_sql_query(sql_query,con)\n",
    "print(df_query)\n"
   ]
  },
  {
   "cell_type": "code",
   "execution_count": 146,
   "metadata": {
    "ExecuteTime": {
     "end_time": "2020-03-02T00:00:15.560420Z",
     "start_time": "2020-03-01T23:59:59.197288Z"
    }
   },
   "outputs": [
    {
     "name": "stdout",
     "output_type": "stream",
     "text": [
      "   hit_shift_pas  total_shift_pas\n",
      "0            445             2163\n"
     ]
    }
   ],
   "source": [
    "# Calculate OBP against shift for each team\n",
    "\n",
    "# Use SD to narrow down query and make total counts of OB events\n",
    "sql_query = \"\"\"\n",
    "\n",
    "SELECT \n",
    "(SELECT COUNT(batter)\n",
    "FROM statcast\n",
    "WHERE if_fielding_alignment='Infield shift'\n",
    "AND events IS NOT NULL\n",
    "AND events IN ('single', 'double', 'triple', 'home_run')\n",
    "AND home_team='SD') AS hit_shift_PAs,\n",
    "(SELECT COUNT(batter)\n",
    "FROM statcast\n",
    "WHERE if_fielding_alignment='Infield shift'\n",
    "AND events IS NOT NULL\n",
    "AND home_team='SD') AS total_shift_PAs;\n",
    "\"\"\"\n",
    "\n",
    "df_query = pd.read_sql_query(sql_query,con)\n",
    "print(df_query)\n"
   ]
  },
  {
   "cell_type": "code",
   "execution_count": 10,
   "metadata": {
    "ExecuteTime": {
     "end_time": "2020-03-02T23:39:31.080320Z",
     "start_time": "2020-03-02T23:38:04.510941Z"
    }
   },
   "outputs": [
    {
     "name": "stdout",
     "output_type": "stream",
     "text": [
      "   hit_shift_pas  total_shift_pas  obp_shift\n",
      "0            200             1004   0.199203\n"
     ]
    }
   ],
   "source": [
    "# Calculate OBP against shift for each team\n",
    "\n",
    "# Use SD to narrow down query and make total counts of OB events\n",
    "sql_query = \"\"\"\n",
    "\n",
    "SELECT \n",
    "\n",
    "(SELECT COUNT(batter)\n",
    "FROM statcast\n",
    "WHERE if_fielding_alignment='Infield shift'\n",
    "AND events IS NOT NULL\n",
    "AND events IN ('single', 'double', 'triple', 'home_run')\n",
    "AND home_team='SD'\n",
    "AND inning_topbot='Bot') AS hit_shift_PAs,\n",
    "\n",
    "(SELECT COUNT(batter)\n",
    "FROM statcast\n",
    "WHERE if_fielding_alignment='Infield shift'\n",
    "AND events IS NOT NULL\n",
    "AND home_team='SD'\n",
    "AND inning_topbot='Bot') AS total_shift_PAs,\n",
    "\n",
    "(SELECT COUNT(batter)\n",
    "FROM statcast\n",
    "WHERE if_fielding_alignment='Infield shift'\n",
    "AND events IS NOT NULL\n",
    "AND events IN ('single', 'double', 'triple', 'home_run')\n",
    "AND home_team='SD'\n",
    "AND inning_topbot='Bot')::decimal / \n",
    "(SELECT COUNT(batter)\n",
    "FROM statcast\n",
    "WHERE if_fielding_alignment='Infield shift'\n",
    "AND events IS NOT NULL\n",
    "AND home_team='SD'\n",
    "AND inning_topbot='Bot') AS obp_shift;\n",
    "\"\"\"\n",
    "\n",
    "df_query = pd.read_sql_query(sql_query,con)\n",
    "print(df_query)\n"
   ]
  },
  {
   "cell_type": "code",
   "execution_count": null,
   "metadata": {},
   "outputs": [],
   "source": []
  },
  {
   "cell_type": "code",
   "execution_count": 150,
   "metadata": {
    "ExecuteTime": {
     "end_time": "2020-03-02T00:09:21.171494Z",
     "start_time": "2020-03-02T00:09:06.314637Z"
    }
   },
   "outputs": [
    {
     "name": "stdout",
     "output_type": "stream",
     "text": [
      "   home_team  count\n",
      "0        ARI    276\n",
      "1        ATL    375\n",
      "2        BAL    402\n",
      "3        BOS    443\n",
      "4        CHC    503\n",
      "5        CIN    321\n",
      "6        CLE    463\n",
      "7        COL    369\n",
      "8        CWS    221\n",
      "9        DET    319\n",
      "10       HOU    364\n",
      "11        KC    374\n",
      "12       LAA    447\n",
      "13       LAD    499\n",
      "14       MIA    189\n",
      "15       MIL    257\n",
      "16       MIN    457\n",
      "17       NYM    392\n",
      "18       NYY    433\n",
      "19       OAK    420\n",
      "20       PHI    344\n",
      "21       PIT    197\n",
      "22        SD    200\n",
      "23       SEA    358\n",
      "24        SF    272\n",
      "25       STL    348\n",
      "26        TB    380\n",
      "27       TEX    474\n",
      "28       TOR    521\n",
      "29       WSH    304\n"
     ]
    }
   ],
   "source": [
    "# Calculate OBP against shift for each team\n",
    "\n",
    "# Use group by to get each team\n",
    "sql_query = \"\"\"\n",
    "SELECT home_team, COUNT(batter)\n",
    "FROM statcast\n",
    "WHERE if_fielding_alignment='Infield shift'\n",
    "AND events IS NOT NULL\n",
    "AND events IN ('single', 'double', 'triple', 'home_run')\n",
    "AND inning_topbot='Bot'\n",
    "GROUP BY home_team;\n",
    "\"\"\"\n",
    "\n",
    "df_query = pd.read_sql_query(sql_query,con)\n",
    "print(df_query)\n"
   ]
  },
  {
   "cell_type": "code",
   "execution_count": 157,
   "metadata": {
    "ExecuteTime": {
     "end_time": "2020-03-02T00:25:23.517752Z",
     "start_time": "2020-03-02T00:25:13.432993Z"
    }
   },
   "outputs": [
    {
     "name": "stdout",
     "output_type": "stream",
     "text": [
      "   home_team  count  count  obp_shift\n",
      "0        COL    369   1310   0.281679\n",
      "1        WSH    304   1228   0.247557\n",
      "2        HOU    364   1504   0.242021\n",
      "3        CHC    503   2107   0.238728\n",
      "4        ATL    375   1578   0.237643\n",
      "5        BOS    443   1894   0.233897\n",
      "6         KC    374   1607   0.232732\n",
      "7        DET    319   1380   0.231159\n",
      "8        STL    348   1533   0.227006\n",
      "9        CIN    321   1417   0.226535\n",
      "10       MIN    457   2036   0.224460\n",
      "11        SF    272   1226   0.221860\n",
      "12       LAD    499   2250   0.221778\n",
      "13       NYY    433   1955   0.221483\n",
      "14       MIL    257   1162   0.221170\n",
      "15       PHI    344   1571   0.218969\n",
      "16       OAK    420   1923   0.218409\n",
      "17       CLE    463   2167   0.213659\n",
      "18       CWS    221   1046   0.211281\n",
      "19       MIA    189    895   0.211173\n",
      "20        TB    380   1807   0.210293\n",
      "21       TOR    521   2520   0.206746\n",
      "22       BAL    402   1960   0.205102\n",
      "23       PIT    197    967   0.203723\n",
      "24       ARI    276   1357   0.203390\n",
      "25       TEX    474   2347   0.201960\n",
      "26       SEA    358   1792   0.199777\n",
      "27        SD    200   1004   0.199203\n",
      "28       LAA    447   2301   0.194263\n",
      "29       NYM    392   2021   0.193963\n"
     ]
    }
   ],
   "source": [
    "# Calculate OBP against shift for each team\n",
    "\n",
    "# Use SD to narrow down query and make total counts of OB events\n",
    "sql_query = \"\"\"\n",
    "\n",
    "SELECT \n",
    "     hit_shift_PAs_table.home_team, \n",
    "     hit_shift_PAs_table.count, \n",
    "     total_shift_PAs_table.count,\n",
    "     (hit_shift_PAs_table.count::decimal / total_shift_PAs_table.count) AS obp_shift\n",
    "FROM\n",
    "    (SELECT home_team, COUNT(batter)\n",
    "    FROM statcast\n",
    "    WHERE if_fielding_alignment='Infield shift'\n",
    "    AND events IS NOT NULL\n",
    "    AND events IN ('single', 'double', 'triple', 'home_run')\n",
    "    AND inning_topbot='Bot'\n",
    "    GROUP BY home_team) AS hit_shift_PAs_table\n",
    "JOIN\n",
    "    (SELECT home_team, COUNT(batter)\n",
    "    FROM statcast\n",
    "    WHERE if_fielding_alignment='Infield shift'\n",
    "    AND events IS NOT NULL\n",
    "    AND inning_topbot='Bot'\n",
    "    GROUP BY home_team) AS total_shift_PAs_table\n",
    "ON\n",
    "   hit_shift_PAs_table.home_team=total_shift_PAs_table.home_team\n",
    "ORDER BY obp_shift DESC;\n",
    "\"\"\"\n",
    "\n",
    "df_query = pd.read_sql_query(sql_query,con)\n",
    "print(df_query)"
   ]
  },
  {
   "cell_type": "markdown",
   "metadata": {},
   "source": [
    "## Build on above, but use CASE to calculate based on away or home to get stats per team, regardless of its home or away"
   ]
  },
  {
   "cell_type": "code",
   "execution_count": 17,
   "metadata": {
    "ExecuteTime": {
     "end_time": "2020-03-03T00:20:47.786604Z",
     "start_time": "2020-03-03T00:20:47.371039Z"
    }
   },
   "outputs": [
    {
     "name": "stdout",
     "output_type": "stream",
     "text": [
      "   index pitch_type  game_date  release_speed home_team away_team    batter  \\\n",
      "0      0         FT 2017-06-09           89.7        TB       OAK  446334.0   \n",
      "1      1         FC 2017-06-09           83.8        TB       OAK  446334.0   \n",
      "2      2         CH 2017-06-09           82.6        TB       OAK  572816.0   \n",
      "3      3         FT 2017-06-09           90.0        TB       OAK  605480.0   \n",
      "4      4         FT 2017-06-09           89.9        TB       OAK  605480.0   \n",
      "5      5         FT 2017-06-09           89.8        TB       OAK  605480.0   \n",
      "6      6         FT 2017-06-09           89.9        TB       OAK  605480.0   \n",
      "7      7         FT 2017-06-09           90.2        TB       OAK  491696.0   \n",
      "8      8         FT 2017-06-09           89.8        TB       OAK  491696.0   \n",
      "9      9         FC 2017-06-09           84.9        TB       OAK  491696.0   \n",
      "\n",
      "    pitcher  balls  strikes  home_score  away_score  \n",
      "0  594943.0    1.0      0.0        13.0         0.0  \n",
      "1  594943.0    0.0      0.0        13.0         0.0  \n",
      "2  594943.0    0.0      0.0        10.0         0.0  \n",
      "3  594943.0    1.0      2.0        10.0         0.0  \n",
      "4  594943.0    0.0      2.0        10.0         0.0  \n",
      "5  594943.0    0.0      1.0        10.0         0.0  \n",
      "6  594943.0    0.0      0.0        10.0         0.0  \n",
      "7  594943.0    1.0      1.0         9.0         0.0  \n",
      "8  594943.0    0.0      1.0         9.0         0.0  \n",
      "9  594943.0    0.0      0.0         9.0         0.0  \n"
     ]
    }
   ],
   "source": [
    "# Calculate OBP against shift for each team\n",
    "\n",
    "# Use group by to get each team, use CASE to count for away or home\n",
    "sql_query = \"\"\"\n",
    "SELECT * FROM statcast_simple\n",
    "LIMIT 10;\n",
    "\"\"\"\n",
    "\n",
    "df_query = pd.read_sql_query(sql_query,con)\n",
    "print(df_query)\n"
   ]
  },
  {
   "cell_type": "code",
   "execution_count": 18,
   "metadata": {
    "ExecuteTime": {
     "end_time": "2020-03-03T00:21:00.846100Z",
     "start_time": "2020-03-03T00:21:00.779823Z"
    }
   },
   "outputs": [
    {
     "name": "stdout",
     "output_type": "stream",
     "text": [
      "  home_team\n",
      "0        SD\n",
      "1        SD\n",
      "2        SD\n",
      "3        SD\n",
      "4        SD\n"
     ]
    }
   ],
   "source": [
    "# Calculate OBP against shift for each team\n",
    "\n",
    "# Use group by to get each team, use CASE to count for away or home\n",
    "sql_query = \"\"\"\n",
    "SELECT home_team\n",
    "FROM statcast\n",
    "LIMIT 5;\n",
    "\"\"\"\n",
    "\n",
    "df_query = pd.read_sql_query(sql_query,con)\n",
    "print(df_query)\n"
   ]
  },
  {
   "cell_type": "code",
   "execution_count": 35,
   "metadata": {
    "ExecuteTime": {
     "end_time": "2020-03-03T00:35:41.204920Z",
     "start_time": "2020-03-03T00:35:18.368707Z"
    }
   },
   "outputs": [
    {
     "name": "stdout",
     "output_type": "stream",
     "text": [
      "  team_name  n_ob  n_total_ab  teams_prop_ob\n",
      "0       ARI   545        2586       0.210750\n",
      "1       ATL   783        3280       0.238720\n",
      "2       BAL   757        3727       0.203112\n",
      "3       BOS   832        3782       0.219989\n",
      "4       CHC   994        4428       0.224481\n"
     ]
    }
   ],
   "source": [
    "# Calculate OBP against shift for each team\n",
    "\n",
    "# Use group by to get each team, use CASE to count for away or home\n",
    "sql_query = \"\"\"\n",
    "\n",
    "SELECT ob_table.team_name, \n",
    "       ob_table.n_ob, \n",
    "       total_ab_table.n_total_ab,\n",
    "       ob_table.n_ob::decimal/total_ab_table.n_total_ab AS teams_prop_ob\n",
    "FROM\n",
    "    (SELECT \n",
    "        CASE WHEN inning_topbot='Top' THEN away_team\n",
    "             WHEN inning_topbot='Bot' THEN home_team\n",
    "             END AS team_name,\n",
    "        COUNT(batter) AS n_ob\n",
    "    FROM statcast\n",
    "    WHERE if_fielding_alignment='Infield shift'\n",
    "    AND events IS NOT NULL\n",
    "    AND events IN ('single', 'double', 'triple', 'home_run')\n",
    "    GROUP BY team_name\n",
    "    LIMIT 5) AS ob_table\n",
    "JOIN\n",
    "    (SELECT \n",
    "        CASE WHEN inning_topbot='Top' THEN away_team\n",
    "             WHEN inning_topbot='Bot' THEN home_team\n",
    "             END AS team_name,\n",
    "        COUNT(batter) AS n_total_ab\n",
    "    FROM statcast\n",
    "    WHERE if_fielding_alignment='Infield shift'\n",
    "    AND events IS NOT NULL\n",
    "    GROUP BY team_name\n",
    "    LIMIT 5) AS total_ab_table\n",
    "ON\n",
    "    ob_table.team_name=total_ab_table.team_name;\n",
    "\"\"\"\n",
    "\n",
    "df_query = pd.read_sql_query(sql_query,con)\n",
    "print(df_query)"
   ]
  },
  {
   "cell_type": "code",
   "execution_count": 46,
   "metadata": {
    "ExecuteTime": {
     "end_time": "2020-03-04T03:01:05.914564Z",
     "start_time": "2020-03-04T02:58:38.915899Z"
    },
    "scrolled": true
   },
   "outputs": [
    {
     "name": "stdout",
     "output_type": "stream",
     "text": [
      "   team_name if_fielding_alignment  n_ob   n_ob       obp\n",
      "0        ARI         Infield shift   545   2586  0.210750\n",
      "1        ARI              Standard  3244  14386  0.225497\n",
      "2        ATL         Infield shift   783   3280  0.238720\n",
      "3        ATL              Standard  3153  13437  0.234651\n",
      "4        BAL         Infield shift   757   3727  0.203112\n",
      "5        BAL              Standard  3172  13572  0.233716\n",
      "6        BOS         Infield shift   832   3782  0.219989\n",
      "7        BOS              Standard  3255  13418  0.242585\n",
      "8        CHC         Infield shift   994   4428  0.224481\n",
      "9        CHC              Standard  2787  12021  0.231844\n",
      "10       CIN         Infield shift   654   2903  0.225284\n",
      "11       CIN              Standard  3070  13655  0.224826\n",
      "12       CLE         Infield shift   964   4515  0.213511\n",
      "13       CLE              Standard  2971  12582  0.236131\n",
      "14       COL         Infield shift   684   2724  0.251101\n",
      "15       COL              Standard  3278  13734  0.238678\n",
      "16       CWS         Infield shift   462   2151  0.214784\n",
      "17       CWS              Standard  3457  14835  0.233030\n",
      "18       DET         Infield shift   596   2667  0.223472\n",
      "19       DET              Standard  3210  14134  0.227112\n",
      "20       HOU         Infield shift   684   2897  0.236106\n",
      "21       HOU              Standard  3449  14395  0.239597\n",
      "22        KC         Infield shift   772   3578  0.215763\n",
      "23        KC              Standard  3013  13034  0.231165\n",
      "24       LAA         Infield shift   923   4648  0.198580\n",
      "25       LAA              Standard  2805  12325  0.227586\n",
      "26       LAD         Infield shift   962   4305  0.223461\n",
      "27       LAD              Standard  2726  12340  0.220908\n",
      "28       MIA         Infield shift   381   1786  0.213326\n",
      "29       MIA              Standard  3366  14775  0.227817\n",
      "30       MIL         Infield shift   562   2545  0.220825\n",
      "31       MIL              Standard  3141  13972  0.224807\n",
      "32       MIN         Infield shift  1013   4397  0.230384\n",
      "33       MIN              Standard  2978  12758  0.233422\n",
      "34       NYM         Infield shift   880   4229  0.208087\n",
      "35       NYM              Standard  2847  12501  0.227742\n",
      "36       NYY         Infield shift   860   3983  0.215918\n",
      "37       NYY              Standard  3066  13091  0.234207\n",
      "38       OAK         Infield shift   867   3905  0.222023\n",
      "39       OAK              Standard  2939  13126  0.223907\n",
      "40       PHI         Infield shift   687   3267  0.210285\n",
      "41       PHI              Standard  3021  13651  0.221302\n",
      "42       PIT         Infield shift   370   1768  0.209276\n",
      "43       PIT              Standard  3374  14458  0.233366\n",
      "44        SD         Infield shift   441   2173  0.202945\n",
      "45        SD              Standard  3021  14033  0.215278\n",
      "46       SEA         Infield shift   743   3720  0.199731\n",
      "47       SEA              Standard  2981  12875  0.231534\n",
      "48        SF         Infield shift   589   2692  0.218796\n",
      "49        SF              Standard  3097  13815  0.224177\n",
      "50       STL         Infield shift   669   3091  0.216435\n",
      "51       STL              Standard  3108  13660  0.227526\n",
      "52        TB         Infield shift   722   3410  0.211730\n",
      "53        TB              Standard  3132  13644  0.229551\n",
      "54       TEX         Infield shift   972   4893  0.198651\n",
      "55       TEX              Standard  2660  11823  0.224985\n",
      "56       TOR         Infield shift  1076   5003  0.215071\n",
      "57       TOR              Standard  2637  12134  0.217323\n",
      "58       WSH         Infield shift   532   2421  0.219744\n",
      "59       WSH              Standard  3414  14417  0.236804\n"
     ]
    }
   ],
   "source": [
    "# Calculate OBP against shift for each team\n",
    "\n",
    "# Use group by to get each team, use CASE to count for away or home\n",
    "sql_query = \"\"\"\n",
    "\n",
    "SELECT \n",
    "    ob_events_table.team_name,\n",
    "    ob_events_table.if_fielding_alignment,\n",
    "    ob_events_table.n_ob,\n",
    "    total_ab_table.n_ob,\n",
    "    ob_events_table.n_ob::decimal/total_ab_table.n_ob AS obp\n",
    "FROM\n",
    "    (SELECT \n",
    "        CASE WHEN inning_topbot='Top' THEN away_team\n",
    "             WHEN inning_topbot='Bot' THEN home_team\n",
    "             END AS team_name,\n",
    "        if_fielding_alignment,\n",
    "        COUNT(batter) AS n_ob\n",
    "    FROM statcast\n",
    "    WHERE events IS NOT NULL\n",
    "    AND events IN ('single', 'double', 'triple', 'home_run')\n",
    "    GROUP BY team_name, if_fielding_alignment\n",
    "    HAVING if_fielding_alignment IN ('Infield shift', 'Standard')) AS ob_events_table\n",
    "JOIN\n",
    "    (SELECT \n",
    "        CASE WHEN inning_topbot='Top' THEN away_team\n",
    "             WHEN inning_topbot='Bot' THEN home_team\n",
    "             END AS team_name,\n",
    "        if_fielding_alignment,\n",
    "        COUNT(batter) AS n_ob\n",
    "    FROM statcast\n",
    "    WHERE events IS NOT NULL\n",
    "    GROUP BY team_name, if_fielding_alignment\n",
    "    HAVING if_fielding_alignment IN ('Infield shift', 'Standard')) AS total_ab_table\n",
    "ON\n",
    "    ob_events_table.team_name=total_ab_table.team_name\n",
    "    AND\n",
    "    ob_events_table.if_fielding_alignment=total_ab_table.if_fielding_alignment;\n",
    "\"\"\"\n",
    "\n",
    "df_query = pd.read_sql_query(sql_query,con)\n",
    "print(df_query)"
   ]
  },
  {
   "cell_type": "code",
   "execution_count": null,
   "metadata": {},
   "outputs": [],
   "source": []
  },
  {
   "cell_type": "markdown",
   "metadata": {
    "ExecuteTime": {
     "end_time": "2020-03-04T03:47:23.940805Z",
     "start_time": "2020-03-04T03:47:23.717435Z"
    }
   },
   "source": [
    "## Find the batters that faced exactly three pitches\n",
    "\n",
    "From Leetcode  - write a SQL query to find all numbers that appear **at least** three times consecutively\n",
    "https://leetcode.com/problems/consecutive-numbers/"
   ]
  },
  {
   "cell_type": "code",
   "execution_count": 49,
   "metadata": {
    "ExecuteTime": {
     "end_time": "2020-03-04T04:00:46.573383Z",
     "start_time": "2020-03-04T04:00:46.486281Z"
    }
   },
   "outputs": [
    {
     "name": "stdout",
     "output_type": "stream",
     "text": [
      "   index pitch_type  game_date  release_speed home_team away_team    batter  \\\n",
      "0      0         FT 2017-06-09           89.7        TB       OAK  446334.0   \n",
      "1      1         FC 2017-06-09           83.8        TB       OAK  446334.0   \n",
      "2      2         CH 2017-06-09           82.6        TB       OAK  572816.0   \n",
      "3      3         FT 2017-06-09           90.0        TB       OAK  605480.0   \n",
      "4      4         FT 2017-06-09           89.9        TB       OAK  605480.0   \n",
      "5      5         FT 2017-06-09           89.8        TB       OAK  605480.0   \n",
      "6      6         FT 2017-06-09           89.9        TB       OAK  605480.0   \n",
      "7      7         FT 2017-06-09           90.2        TB       OAK  491696.0   \n",
      "\n",
      "    pitcher  balls  strikes  home_score  away_score  \n",
      "0  594943.0    1.0      0.0        13.0         0.0  \n",
      "1  594943.0    0.0      0.0        13.0         0.0  \n",
      "2  594943.0    0.0      0.0        10.0         0.0  \n",
      "3  594943.0    1.0      2.0        10.0         0.0  \n",
      "4  594943.0    0.0      2.0        10.0         0.0  \n",
      "5  594943.0    0.0      1.0        10.0         0.0  \n",
      "6  594943.0    0.0      0.0        10.0         0.0  \n",
      "7  594943.0    1.0      1.0         9.0         0.0  \n"
     ]
    }
   ],
   "source": [
    "# Explore\n",
    "sql_query = \"\"\"\n",
    "SELECT * FROM statcast_simple\n",
    "LIMIT 8;\n",
    "\"\"\"\n",
    "\n",
    "df_query = pd.read_sql_query(sql_query,con)\n",
    "print(df_query)"
   ]
  },
  {
   "cell_type": "code",
   "execution_count": 123,
   "metadata": {
    "ExecuteTime": {
     "end_time": "2020-03-09T14:49:16.219686Z",
     "start_time": "2020-03-09T14:49:15.341641Z"
    }
   },
   "outputs": [
    {
     "name": "stdout",
     "output_type": "stream",
     "text": [
      "     batter\n",
      "0  622110.0\n",
      "1  622110.0\n",
      "2  622110.0\n",
      "3  595281.0\n",
      "4  519317.0\n",
      "5  519317.0\n",
      "6  519317.0\n",
      "7  519317.0\n",
      "8  519317.0\n",
      "9  519317.0\n"
     ]
    }
   ],
   "source": [
    "# Get times that a batter appears in order\n",
    "sql_query = \"\"\"\n",
    "SELECT batter FROM statcast_simple\n",
    "LIMIT 10;\n",
    "\"\"\"\n",
    "\n",
    "df_query = pd.read_sql_query(sql_query,con)\n",
    "print(df_query)"
   ]
  },
  {
   "cell_type": "code",
   "execution_count": 64,
   "metadata": {
    "ExecuteTime": {
     "end_time": "2020-03-04T04:16:53.761478Z",
     "start_time": "2020-03-04T04:16:53.745486Z"
    }
   },
   "outputs": [
    {
     "name": "stdout",
     "output_type": "stream",
     "text": [
      "    index pitch_type    batter\n",
      "0       0         FT  446334.0\n",
      "1       1         FC  446334.0\n",
      "2       2         CH  572816.0\n",
      "3       3         FT  605480.0\n",
      "4       4         FT  605480.0\n",
      "5       5         FT  605480.0\n",
      "6       6         FT  605480.0\n",
      "7       7         FT  491696.0\n",
      "8       8         FT  491696.0\n",
      "9       9         FC  491696.0\n",
      "10     10         FT  621002.0\n",
      "11     11         FC  621002.0\n",
      "12     12         FT  621002.0\n",
      "13     13         FF  542921.0\n",
      "14     14         FF  595144.0\n",
      "15     15         KC  595144.0\n",
      "16     16         FS  595144.0\n",
      "17     17         FF  595144.0\n",
      "18     18         FS  595144.0\n",
      "19     19         FF  640461.0\n"
     ]
    }
   ],
   "source": [
    "# I'm not aware of an approach so I looked at solution\n",
    "\n",
    "# Make multiple tables, then use SELECT DISTINCT and WHERE, using the ids/indexes\n",
    "\n",
    "sql_query = \"\"\"\n",
    "WITH sc20 AS \n",
    "    (SELECT index, pitch_type, batter FROM statcast_simple\n",
    "    LIMIT 20)\n",
    "SELECT *\n",
    "FROM sc20 sc_a;\n",
    "\"\"\"\n",
    "\n",
    "df_query = pd.read_sql_query(sql_query,con)\n",
    "print(df_query)"
   ]
  },
  {
   "cell_type": "code",
   "execution_count": 63,
   "metadata": {
    "ExecuteTime": {
     "end_time": "2020-03-04T04:16:26.437451Z",
     "start_time": "2020-03-04T04:16:26.373853Z"
    }
   },
   "outputs": [
    {
     "name": "stdout",
     "output_type": "stream",
     "text": [
      "   index  index  index    batter    batter    batter\n",
      "0      3      4      5  605480.0  605480.0  605480.0\n",
      "1      4      5      6  605480.0  605480.0  605480.0\n",
      "2      7      8      9  491696.0  491696.0  491696.0\n",
      "3     10     11     12  621002.0  621002.0  621002.0\n",
      "4     14     15     16  595144.0  595144.0  595144.0\n",
      "5     15     16     17  595144.0  595144.0  595144.0\n",
      "6     16     17     18  595144.0  595144.0  595144.0\n"
     ]
    }
   ],
   "source": [
    "# Make multiple tables, then and use WHERE for the ids/indexes/positions\n",
    "\n",
    "sql_query = \"\"\"\n",
    "WITH sc20 AS \n",
    "    (SELECT index, pitch_type, batter FROM statcast_simple\n",
    "    LIMIT 20)\n",
    "    \n",
    "SELECT sc_a.index, sc_b.index, sc_c.index, sc_a.batter, sc_b.batter, sc_c.batter\n",
    "FROM\n",
    "     sc20 sc_a,\n",
    "     sc20 sc_b,\n",
    "     sc20 sc_c\n",
    "WHERE\n",
    "    sc_a.index = sc_b.index-1\n",
    "AND sc_b.index = sc_c.index-1   \n",
    "AND sc_a.batter = sc_b.batter\n",
    "AND sc_b.batter = sc_c.batter;\n",
    "\"\"\"\n",
    "\n",
    "df_query = pd.read_sql_query(sql_query,con)\n",
    "print(df_query)"
   ]
  },
  {
   "cell_type": "code",
   "execution_count": 125,
   "metadata": {
    "ExecuteTime": {
     "end_time": "2020-03-09T14:49:30.932596Z",
     "start_time": "2020-03-09T14:49:30.910365Z"
    }
   },
   "outputs": [
    {
     "name": "stdout",
     "output_type": "stream",
     "text": [
      "   consecutive_numbers\n",
      "0             519317.0\n",
      "1             544369.0\n",
      "2             592450.0\n",
      "3             622110.0\n"
     ]
    }
   ],
   "source": [
    "# Make multiple tables, then and use WHERE for the ids/indexes/positions, then use SELECT DISTINCT, to output a list of numbers\n",
    "\n",
    "sql_query = \"\"\"\n",
    "WITH sc20 AS \n",
    "    (SELECT index, pitch_type, batter FROM statcast_simple\n",
    "    LIMIT 20)\n",
    "    \n",
    "SELECT DISTINCT sc_a.batter AS consecutive_numbers\n",
    "FROM\n",
    "     sc20 AS sc_a,\n",
    "     sc20 AS sc_b,\n",
    "     sc20 AS sc_c\n",
    "WHERE\n",
    "    sc_a.index = sc_b.index-1\n",
    "AND sc_b.index = sc_c.index-1   \n",
    "AND sc_a.batter = sc_b.batter\n",
    "AND sc_b.batter = sc_c.batter;\n",
    "\"\"\"\n",
    "\n",
    "df_query = pd.read_sql_query(sql_query,con)\n",
    "print(df_query)"
   ]
  },
  {
   "cell_type": "code",
   "execution_count": null,
   "metadata": {},
   "outputs": [],
   "source": []
  },
  {
   "cell_type": "markdown",
   "metadata": {},
   "source": [
    "## Determine the difference in speed from the previous pitch, without and with using lag/lead"
   ]
  },
  {
   "cell_type": "code",
   "execution_count": 6,
   "metadata": {
    "ExecuteTime": {
     "end_time": "2020-03-10T21:42:57.221124Z",
     "start_time": "2020-03-10T21:42:56.889249Z"
    },
    "scrolled": true
   },
   "outputs": [
    {
     "name": "stdout",
     "output_type": "stream",
     "text": [
      "       index pitch_type  game_date  release_speed home_team away_team  \\\n",
      "0          0         SL 2018-07-25           82.8        TB       NYY   \n",
      "1          1         FT 2018-07-25           93.1        TB       NYY   \n",
      "2          2         FF 2018-07-25           92.4        TB       NYY   \n",
      "3          3         FF 2018-07-25           92.5        TB       NYY   \n",
      "4          4         SL 2018-07-25           89.8        TB       NYY   \n",
      "...      ...        ...        ...            ...       ...       ...   \n",
      "24995  24995         CH 2018-07-15           88.2       MIN        TB   \n",
      "24996  24996         FF 2018-07-15           95.7       MIN        TB   \n",
      "24997  24997         CH 2018-07-15           90.9       MIN        TB   \n",
      "24998  24998         SL 2018-07-15           86.6       MIN        TB   \n",
      "24999  24999         FT 2018-07-15           94.5       MIN        TB   \n",
      "\n",
      "         batter   pitcher      player_name  balls  strikes  home_score  \\\n",
      "0      622110.0  570666.0       Luis Cessa    1.0      1.0         0.0   \n",
      "1      622110.0  570666.0       Luis Cessa    1.0      0.0         0.0   \n",
      "2      622110.0  570666.0       Luis Cessa    0.0      0.0         0.0   \n",
      "3      595281.0  570666.0       Luis Cessa    0.0      0.0         0.0   \n",
      "4      519317.0  592773.0      Ryne Stanek    2.0      2.0         0.0   \n",
      "...         ...       ...              ...    ...      ...         ...   \n",
      "24995  621563.0  622864.0  Fernando Romero    0.0      0.0         1.0   \n",
      "24996  543068.0  622864.0  Fernando Romero    2.0      1.0         1.0   \n",
      "24997  543068.0  622864.0  Fernando Romero    2.0      0.0         1.0   \n",
      "24998  543068.0  622864.0  Fernando Romero    1.0      0.0         1.0   \n",
      "24999  543068.0  622864.0  Fernando Romero    0.0      0.0         1.0   \n",
      "\n",
      "       away_score  \n",
      "0             0.0  \n",
      "1             0.0  \n",
      "2             0.0  \n",
      "3             0.0  \n",
      "4             0.0  \n",
      "...           ...  \n",
      "24995         3.0  \n",
      "24996         3.0  \n",
      "24997         3.0  \n",
      "24998         3.0  \n",
      "24999         3.0  \n",
      "\n",
      "[25000 rows x 13 columns]\n"
     ]
    }
   ],
   "source": [
    "# Using lag as window function\n",
    "sql_query = \"\"\"\n",
    "SELECT *\n",
    "FROM statcast_simple;\n",
    "\"\"\"\n",
    "\n",
    "df_query = pd.read_sql_query(sql_query,con)\n",
    "print(df_query)"
   ]
  },
  {
   "cell_type": "code",
   "execution_count": 17,
   "metadata": {
    "ExecuteTime": {
     "end_time": "2020-03-10T03:00:55.439105Z",
     "start_time": "2020-03-10T03:00:55.349162Z"
    }
   },
   "outputs": [
    {
     "name": "stdout",
     "output_type": "stream",
     "text": [
      "   count\n",
      "0  25000\n"
     ]
    }
   ],
   "source": [
    "# See if you can use index\n",
    "sql_query = \"\"\"\n",
    "SELECT COUNT(DISTINCT(index))\n",
    "FROM statcast_simple;\n",
    "\"\"\"\n",
    "\n",
    "df_query = pd.read_sql_query(sql_query,con)\n",
    "print(df_query)"
   ]
  },
  {
   "cell_type": "code",
   "execution_count": 24,
   "metadata": {
    "ExecuteTime": {
     "end_time": "2020-03-10T03:12:20.120713Z",
     "start_time": "2020-03-10T03:12:19.767277Z"
    }
   },
   "outputs": [
    {
     "name": "stdout",
     "output_type": "stream",
     "text": [
      "       index pitch_type  release_speed  prev_pitch_speed  diff_in_speed\n",
      "0          0         SL           82.8               NaN            NaN\n",
      "1          1         FT           93.1              82.8           10.3\n",
      "2          2         FF           92.4              93.1           -0.7\n",
      "3          3         FF           92.5              92.4            0.1\n",
      "4          4         SL           89.8              92.5           -2.7\n",
      "...      ...        ...            ...               ...            ...\n",
      "24995  24995         CH           88.2              87.8            0.4\n",
      "24996  24996         FF           95.7              88.2            7.5\n",
      "24997  24997         CH           90.9              95.7           -4.8\n",
      "24998  24998         SL           86.6              90.9           -4.3\n",
      "24999  24999         FT           94.5              86.6            7.9\n",
      "\n",
      "[25000 rows x 5 columns]\n"
     ]
    }
   ],
   "source": [
    "# Get previous speed without a window function\n",
    "sql_query = \"\"\"\n",
    "SELECT index, pitch_type, release_speed,\n",
    "    (SELECT release_speed\n",
    "     FROM statcast_simple AS ss1\n",
    "     WHERE ss1.index=statcast_simple.index-1) AS prev_pitch_speed,\n",
    "     (release_speed - (SELECT release_speed\n",
    "     FROM statcast_simple AS ss1\n",
    "     WHERE ss1.index=statcast_simple.index-1)) AS diff_in_speed\n",
    "FROM statcast_simple;\n",
    "\"\"\"\n",
    "\n",
    "df_query = pd.read_sql_query(sql_query,con)\n",
    "print(df_query)"
   ]
  },
  {
   "cell_type": "code",
   "execution_count": 29,
   "metadata": {
    "ExecuteTime": {
     "end_time": "2020-03-10T03:18:17.195811Z",
     "start_time": "2020-03-10T03:18:17.183796Z"
    }
   },
   "outputs": [
    {
     "name": "stdout",
     "output_type": "stream",
     "text": [
      "  pitch_type  release_speed  prev_pitch_speed  diff_in_speed\n",
      "0         SL           82.8               NaN            NaN\n",
      "1         FT           93.1              82.8           10.3\n",
      "2         FF           92.4              93.1           -0.7\n",
      "3         FF           92.5              92.4            0.1\n",
      "4         SL           89.8              92.5           -2.7\n",
      "5         FF           99.0              89.8            9.2\n",
      "6         FS           86.5              99.0          -12.5\n",
      "7         SL           87.9              86.5            1.4\n",
      "8         FF           97.0              87.9            9.1\n",
      "9         FF           97.7              97.0            0.7\n"
     ]
    }
   ],
   "source": [
    "# Using lag as window function\n",
    "sql_query = \"\"\"\n",
    "SELECT \n",
    "    pitch_type, release_speed,\n",
    "    LAG(release_speed, 1) OVER() AS prev_pitch_speed,\n",
    "    release_speed - (LAG(release_speed, 1) OVER()) AS diff_in_speed\n",
    "FROM statcast_simple\n",
    "LIMIT 10;\n",
    "\"\"\"\n",
    "\n",
    "df_query = pd.read_sql_query(sql_query,con)\n",
    "print(df_query)"
   ]
  },
  {
   "cell_type": "code",
   "execution_count": 27,
   "metadata": {
    "ExecuteTime": {
     "end_time": "2020-03-10T03:17:49.944106Z",
     "start_time": "2020-03-10T03:17:49.930429Z"
    }
   },
   "outputs": [
    {
     "name": "stdout",
     "output_type": "stream",
     "text": [
      "  pitch_type  release_speed  two_pitches_ahead_speed  diff_in_future_speed\n",
      "0         SL           82.8                     92.4                  -9.6\n",
      "1         FT           93.1                     92.5                   0.6\n",
      "2         FF           92.4                     89.8                   2.6\n",
      "3         FF           92.5                     99.0                  -6.5\n",
      "4         SL           89.8                     86.5                   3.3\n",
      "5         FF           99.0                     87.9                  11.1\n",
      "6         FS           86.5                     97.0                 -10.5\n",
      "7         SL           87.9                     97.7                  -9.8\n",
      "8         FF           97.0                     98.1                  -1.1\n",
      "9         FF           97.7                     97.8                  -0.1\n"
     ]
    }
   ],
   "source": [
    "# Using lead as window function - look at 2 pitches ahead\n",
    "sql_query = \"\"\"\n",
    "SELECT \n",
    "    pitch_type, release_speed,\n",
    "    LEAD(release_speed, 2) OVER() AS two_pitches_ahead_speed,\n",
    "    release_speed - (LEAD(release_speed, 2) OVER()) AS diff_in_future_speed\n",
    "FROM statcast_simple\n",
    "LIMIT 10;\n",
    "\"\"\"\n",
    "\n",
    "df_query = pd.read_sql_query(sql_query,con)\n",
    "print(df_query)"
   ]
  },
  {
   "cell_type": "code",
   "execution_count": null,
   "metadata": {},
   "outputs": [],
   "source": []
  },
  {
   "cell_type": "code",
   "execution_count": null,
   "metadata": {},
   "outputs": [],
   "source": []
  },
  {
   "cell_type": "markdown",
   "metadata": {},
   "source": [
    "## -template for next query-"
   ]
  },
  {
   "cell_type": "code",
   "execution_count": 112,
   "metadata": {
    "ExecuteTime": {
     "end_time": "2020-03-01T04:48:19.795141Z",
     "start_time": "2020-03-01T04:48:19.711874Z"
    }
   },
   "outputs": [
    {
     "ename": "DatabaseError",
     "evalue": "Execution failed on sql '\nSELECT \n    EXTRACT(MONTH FROM game_date) AS month, \n    batter, \n    SUM(events) RANK() OVER(PARTITION BY month) AS no_home_runs\nFROM statcast\nWHERE events='home_run'\nAND inning_topbot='Top'\nAND game_date BETWEEN '2019-04-01' AND '2019-05-31';\n': syntax error at or near \"(\"\nLINE 5:     SUM(events) RANK() OVER(PARTITION BY month) AS no_home_r...\n                            ^\n",
     "output_type": "error",
     "traceback": [
      "\u001b[0;31m---------------------------------------------------------------------------\u001b[0m",
      "\u001b[0;31mSyntaxError\u001b[0m                               Traceback (most recent call last)",
      "\u001b[0;32m~/anaconda/envs/insight/lib/python3.6/site-packages/pandas/io/sql.py\u001b[0m in \u001b[0;36mexecute\u001b[0;34m(self, *args, **kwargs)\u001b[0m\n\u001b[1;32m   1594\u001b[0m             \u001b[0;32melse\u001b[0m\u001b[0;34m:\u001b[0m\u001b[0;34m\u001b[0m\u001b[0;34m\u001b[0m\u001b[0m\n\u001b[0;32m-> 1595\u001b[0;31m                 \u001b[0mcur\u001b[0m\u001b[0;34m.\u001b[0m\u001b[0mexecute\u001b[0m\u001b[0;34m(\u001b[0m\u001b[0;34m*\u001b[0m\u001b[0margs\u001b[0m\u001b[0;34m)\u001b[0m\u001b[0;34m\u001b[0m\u001b[0;34m\u001b[0m\u001b[0m\n\u001b[0m\u001b[1;32m   1596\u001b[0m             \u001b[0;32mreturn\u001b[0m \u001b[0mcur\u001b[0m\u001b[0;34m\u001b[0m\u001b[0;34m\u001b[0m\u001b[0m\n",
      "\u001b[0;31mSyntaxError\u001b[0m: syntax error at or near \"(\"\nLINE 5:     SUM(events) RANK() OVER(PARTITION BY month) AS no_home_r...\n                            ^\n",
      "\nDuring handling of the above exception, another exception occurred:\n",
      "\u001b[0;31mDatabaseError\u001b[0m                             Traceback (most recent call last)",
      "\u001b[0;32m<ipython-input-112-477c87a67e22>\u001b[0m in \u001b[0;36m<module>\u001b[0;34m\u001b[0m\n\u001b[1;32m     12\u001b[0m \"\"\"\n\u001b[1;32m     13\u001b[0m \u001b[0;34m\u001b[0m\u001b[0m\n\u001b[0;32m---> 14\u001b[0;31m \u001b[0mdf_query\u001b[0m \u001b[0;34m=\u001b[0m \u001b[0mpd\u001b[0m\u001b[0;34m.\u001b[0m\u001b[0mread_sql_query\u001b[0m\u001b[0;34m(\u001b[0m\u001b[0msql_query\u001b[0m\u001b[0;34m,\u001b[0m\u001b[0mcon\u001b[0m\u001b[0;34m)\u001b[0m\u001b[0;34m\u001b[0m\u001b[0;34m\u001b[0m\u001b[0m\n\u001b[0m\u001b[1;32m     15\u001b[0m \u001b[0mprint\u001b[0m\u001b[0;34m(\u001b[0m\u001b[0mdf_query\u001b[0m\u001b[0;34m)\u001b[0m\u001b[0;34m\u001b[0m\u001b[0;34m\u001b[0m\u001b[0m\n",
      "\u001b[0;32m~/anaconda/envs/insight/lib/python3.6/site-packages/pandas/io/sql.py\u001b[0m in \u001b[0;36mread_sql_query\u001b[0;34m(sql, con, index_col, coerce_float, params, parse_dates, chunksize)\u001b[0m\n\u001b[1;32m    330\u001b[0m         \u001b[0mcoerce_float\u001b[0m\u001b[0;34m=\u001b[0m\u001b[0mcoerce_float\u001b[0m\u001b[0;34m,\u001b[0m\u001b[0;34m\u001b[0m\u001b[0;34m\u001b[0m\u001b[0m\n\u001b[1;32m    331\u001b[0m         \u001b[0mparse_dates\u001b[0m\u001b[0;34m=\u001b[0m\u001b[0mparse_dates\u001b[0m\u001b[0;34m,\u001b[0m\u001b[0;34m\u001b[0m\u001b[0;34m\u001b[0m\u001b[0m\n\u001b[0;32m--> 332\u001b[0;31m         \u001b[0mchunksize\u001b[0m\u001b[0;34m=\u001b[0m\u001b[0mchunksize\u001b[0m\u001b[0;34m,\u001b[0m\u001b[0;34m\u001b[0m\u001b[0;34m\u001b[0m\u001b[0m\n\u001b[0m\u001b[1;32m    333\u001b[0m     )\n\u001b[1;32m    334\u001b[0m \u001b[0;34m\u001b[0m\u001b[0m\n",
      "\u001b[0;32m~/anaconda/envs/insight/lib/python3.6/site-packages/pandas/io/sql.py\u001b[0m in \u001b[0;36mread_query\u001b[0;34m(self, sql, index_col, coerce_float, params, parse_dates, chunksize)\u001b[0m\n\u001b[1;32m   1643\u001b[0m \u001b[0;34m\u001b[0m\u001b[0m\n\u001b[1;32m   1644\u001b[0m         \u001b[0margs\u001b[0m \u001b[0;34m=\u001b[0m \u001b[0m_convert_params\u001b[0m\u001b[0;34m(\u001b[0m\u001b[0msql\u001b[0m\u001b[0;34m,\u001b[0m \u001b[0mparams\u001b[0m\u001b[0;34m)\u001b[0m\u001b[0;34m\u001b[0m\u001b[0;34m\u001b[0m\u001b[0m\n\u001b[0;32m-> 1645\u001b[0;31m         \u001b[0mcursor\u001b[0m \u001b[0;34m=\u001b[0m \u001b[0mself\u001b[0m\u001b[0;34m.\u001b[0m\u001b[0mexecute\u001b[0m\u001b[0;34m(\u001b[0m\u001b[0;34m*\u001b[0m\u001b[0margs\u001b[0m\u001b[0;34m)\u001b[0m\u001b[0;34m\u001b[0m\u001b[0;34m\u001b[0m\u001b[0m\n\u001b[0m\u001b[1;32m   1646\u001b[0m         \u001b[0mcolumns\u001b[0m \u001b[0;34m=\u001b[0m \u001b[0;34m[\u001b[0m\u001b[0mcol_desc\u001b[0m\u001b[0;34m[\u001b[0m\u001b[0;36m0\u001b[0m\u001b[0;34m]\u001b[0m \u001b[0;32mfor\u001b[0m \u001b[0mcol_desc\u001b[0m \u001b[0;32min\u001b[0m \u001b[0mcursor\u001b[0m\u001b[0;34m.\u001b[0m\u001b[0mdescription\u001b[0m\u001b[0;34m]\u001b[0m\u001b[0;34m\u001b[0m\u001b[0;34m\u001b[0m\u001b[0m\n\u001b[1;32m   1647\u001b[0m \u001b[0;34m\u001b[0m\u001b[0m\n",
      "\u001b[0;32m~/anaconda/envs/insight/lib/python3.6/site-packages/pandas/io/sql.py\u001b[0m in \u001b[0;36mexecute\u001b[0;34m(self, *args, **kwargs)\u001b[0m\n\u001b[1;32m   1608\u001b[0m                 \u001b[0;34m\"Execution failed on sql '{sql}': {exc}\"\u001b[0m\u001b[0;34m.\u001b[0m\u001b[0mformat\u001b[0m\u001b[0;34m(\u001b[0m\u001b[0msql\u001b[0m\u001b[0;34m=\u001b[0m\u001b[0margs\u001b[0m\u001b[0;34m[\u001b[0m\u001b[0;36m0\u001b[0m\u001b[0;34m]\u001b[0m\u001b[0;34m,\u001b[0m \u001b[0mexc\u001b[0m\u001b[0;34m=\u001b[0m\u001b[0mexc\u001b[0m\u001b[0;34m)\u001b[0m\u001b[0;34m\u001b[0m\u001b[0;34m\u001b[0m\u001b[0m\n\u001b[1;32m   1609\u001b[0m             )\n\u001b[0;32m-> 1610\u001b[0;31m             \u001b[0mraise_with_traceback\u001b[0m\u001b[0;34m(\u001b[0m\u001b[0mex\u001b[0m\u001b[0;34m)\u001b[0m\u001b[0;34m\u001b[0m\u001b[0;34m\u001b[0m\u001b[0m\n\u001b[0m\u001b[1;32m   1611\u001b[0m \u001b[0;34m\u001b[0m\u001b[0m\n\u001b[1;32m   1612\u001b[0m     \u001b[0;34m@\u001b[0m\u001b[0mstaticmethod\u001b[0m\u001b[0;34m\u001b[0m\u001b[0;34m\u001b[0m\u001b[0m\n",
      "\u001b[0;32m~/anaconda/envs/insight/lib/python3.6/site-packages/pandas/compat/__init__.py\u001b[0m in \u001b[0;36mraise_with_traceback\u001b[0;34m(exc, traceback)\u001b[0m\n\u001b[1;32m     45\u001b[0m     \u001b[0;32mif\u001b[0m \u001b[0mtraceback\u001b[0m \u001b[0;34m==\u001b[0m \u001b[0mEllipsis\u001b[0m\u001b[0;34m:\u001b[0m\u001b[0;34m\u001b[0m\u001b[0;34m\u001b[0m\u001b[0m\n\u001b[1;32m     46\u001b[0m         \u001b[0m_\u001b[0m\u001b[0;34m,\u001b[0m \u001b[0m_\u001b[0m\u001b[0;34m,\u001b[0m \u001b[0mtraceback\u001b[0m \u001b[0;34m=\u001b[0m \u001b[0msys\u001b[0m\u001b[0;34m.\u001b[0m\u001b[0mexc_info\u001b[0m\u001b[0;34m(\u001b[0m\u001b[0;34m)\u001b[0m\u001b[0;34m\u001b[0m\u001b[0;34m\u001b[0m\u001b[0m\n\u001b[0;32m---> 47\u001b[0;31m     \u001b[0;32mraise\u001b[0m \u001b[0mexc\u001b[0m\u001b[0;34m.\u001b[0m\u001b[0mwith_traceback\u001b[0m\u001b[0;34m(\u001b[0m\u001b[0mtraceback\u001b[0m\u001b[0;34m)\u001b[0m\u001b[0;34m\u001b[0m\u001b[0;34m\u001b[0m\u001b[0m\n\u001b[0m\u001b[1;32m     48\u001b[0m \u001b[0;34m\u001b[0m\u001b[0m\n\u001b[1;32m     49\u001b[0m \u001b[0;34m\u001b[0m\u001b[0m\n",
      "\u001b[0;32m~/anaconda/envs/insight/lib/python3.6/site-packages/pandas/io/sql.py\u001b[0m in \u001b[0;36mexecute\u001b[0;34m(self, *args, **kwargs)\u001b[0m\n\u001b[1;32m   1593\u001b[0m                 \u001b[0mcur\u001b[0m\u001b[0;34m.\u001b[0m\u001b[0mexecute\u001b[0m\u001b[0;34m(\u001b[0m\u001b[0;34m*\u001b[0m\u001b[0margs\u001b[0m\u001b[0;34m,\u001b[0m \u001b[0;34m**\u001b[0m\u001b[0mkwargs\u001b[0m\u001b[0;34m)\u001b[0m\u001b[0;34m\u001b[0m\u001b[0;34m\u001b[0m\u001b[0m\n\u001b[1;32m   1594\u001b[0m             \u001b[0;32melse\u001b[0m\u001b[0;34m:\u001b[0m\u001b[0;34m\u001b[0m\u001b[0;34m\u001b[0m\u001b[0m\n\u001b[0;32m-> 1595\u001b[0;31m                 \u001b[0mcur\u001b[0m\u001b[0;34m.\u001b[0m\u001b[0mexecute\u001b[0m\u001b[0;34m(\u001b[0m\u001b[0;34m*\u001b[0m\u001b[0margs\u001b[0m\u001b[0;34m)\u001b[0m\u001b[0;34m\u001b[0m\u001b[0;34m\u001b[0m\u001b[0m\n\u001b[0m\u001b[1;32m   1596\u001b[0m             \u001b[0;32mreturn\u001b[0m \u001b[0mcur\u001b[0m\u001b[0;34m\u001b[0m\u001b[0;34m\u001b[0m\u001b[0m\n\u001b[1;32m   1597\u001b[0m         \u001b[0;32mexcept\u001b[0m \u001b[0mException\u001b[0m \u001b[0;32mas\u001b[0m \u001b[0mexc\u001b[0m\u001b[0;34m:\u001b[0m\u001b[0;34m\u001b[0m\u001b[0;34m\u001b[0m\u001b[0m\n",
      "\u001b[0;31mDatabaseError\u001b[0m: Execution failed on sql '\nSELECT \n    EXTRACT(MONTH FROM game_date) AS month, \n    batter, \n    SUM(events) RANK() OVER(PARTITION BY month) AS no_home_runs\nFROM statcast\nWHERE events='home_run'\nAND inning_topbot='Top'\nAND game_date BETWEEN '2019-04-01' AND '2019-05-31';\n': syntax error at or near \"(\"\nLINE 5:     SUM(events) RANK() OVER(PARTITION BY month) AS no_home_r...\n                            ^\n"
     ]
    }
   ],
   "source": [
    "# without using window function\n",
    "\n",
    "sql_query = \"\"\"\n",
    "SELECT \n",
    "    EXTRACT(MONTH FROM game_date) AS month, \n",
    "    batter, \n",
    "    SUM(events) RANK() OVER(PARTITION BY month) AS no_home_runs\n",
    "FROM statcast\n",
    "WHERE events='home_run'\n",
    "AND inning_topbot='Top'\n",
    "AND game_date BETWEEN '2019-04-01' AND '2019-05-31';\n",
    "\"\"\"\n",
    "\n",
    "df_query = pd.read_sql_query(sql_query,con)\n",
    "print(df_query)"
   ]
  },
  {
   "cell_type": "code",
   "execution_count": null,
   "metadata": {},
   "outputs": [],
   "source": []
  },
  {
   "cell_type": "code",
   "execution_count": null,
   "metadata": {},
   "outputs": [],
   "source": []
  },
  {
   "cell_type": "code",
   "execution_count": null,
   "metadata": {},
   "outputs": [],
   "source": []
  },
  {
   "cell_type": "code",
   "execution_count": null,
   "metadata": {},
   "outputs": [],
   "source": []
  },
  {
   "cell_type": "code",
   "execution_count": null,
   "metadata": {},
   "outputs": [],
   "source": []
  },
  {
   "cell_type": "code",
   "execution_count": null,
   "metadata": {},
   "outputs": [],
   "source": []
  },
  {
   "cell_type": "markdown",
   "metadata": {},
   "source": [
    "## Other ideas"
   ]
  },
  {
   "cell_type": "code",
   "execution_count": 256,
   "metadata": {
    "ExecuteTime": {
     "end_time": "2020-02-23T05:02:21.081605Z",
     "start_time": "2020-02-23T05:02:21.067782Z"
    }
   },
   "outputs": [
    {
     "name": "stdout",
     "output_type": "stream",
     "text": [
      "   index name_last name_first  key_mlbam key_retro  key_bbref  key_fangraphs  \\\n",
      "0      0      abad   fernando     472551  abadf001   abadfe01           4994   \n",
      "1      1     abreu      bryan     650556  abreb002  abreubr01          16609   \n",
      "2      2     abreu       jose     547989  abrej003  abreujo02          15676   \n",
      "3      3     acuna     ronald     660670  acunr001  acunaro01          18401   \n",
      "4      4      adam      jason     592094  adamj002   adamja01          11861   \n",
      "\n",
      "   mlb_played_first  mlb_played_last  \n",
      "0            2010.0           2019.0  \n",
      "1            2019.0           2019.0  \n",
      "2            2014.0           2019.0  \n",
      "3            2018.0           2019.0  \n",
      "4            2018.0           2019.0  \n"
     ]
    }
   ],
   "source": [
    "# Practicing self join\n",
    "sql_query = \"\"\"\n",
    "SELECT *\n",
    "FROM player_id\n",
    "LIMIT 5;\n",
    "\"\"\"\n",
    "\n",
    "df_query = pd.read_sql_query(sql_query,con)\n",
    "print(df_query)"
   ]
  },
  {
   "cell_type": "code",
   "execution_count": 1,
   "metadata": {
    "ExecuteTime": {
     "end_time": "2020-03-02T23:35:33.975513Z",
     "start_time": "2020-03-02T23:35:32.845493Z"
    }
   },
   "outputs": [
    {
     "ename": "NameError",
     "evalue": "name 'pd' is not defined",
     "output_type": "error",
     "traceback": [
      "\u001b[0;31m---------------------------------------------------------------------------\u001b[0m",
      "\u001b[0;31mNameError\u001b[0m                                 Traceback (most recent call last)",
      "\u001b[0;32m<ipython-input-1-751c2ae99cc0>\u001b[0m in \u001b[0;36m<module>\u001b[0;34m\u001b[0m\n\u001b[1;32m      7\u001b[0m \"\"\"\n\u001b[1;32m      8\u001b[0m \u001b[0;34m\u001b[0m\u001b[0m\n\u001b[0;32m----> 9\u001b[0;31m \u001b[0mdf_query\u001b[0m \u001b[0;34m=\u001b[0m \u001b[0mpd\u001b[0m\u001b[0;34m.\u001b[0m\u001b[0mread_sql_query\u001b[0m\u001b[0;34m(\u001b[0m\u001b[0msql_query\u001b[0m\u001b[0;34m,\u001b[0m\u001b[0mcon\u001b[0m\u001b[0;34m)\u001b[0m\u001b[0;34m\u001b[0m\u001b[0;34m\u001b[0m\u001b[0m\n\u001b[0m\u001b[1;32m     10\u001b[0m \u001b[0mprint\u001b[0m\u001b[0;34m(\u001b[0m\u001b[0mdf_query\u001b[0m\u001b[0;34m)\u001b[0m\u001b[0;34m\u001b[0m\u001b[0;34m\u001b[0m\u001b[0m\n",
      "\u001b[0;31mNameError\u001b[0m: name 'pd' is not defined"
     ]
    }
   ],
   "source": [
    "# Practicing self join\n",
    "sql_query = \"\"\"\n",
    "SELECT CONCAT(t1.name_last, ' ', t1.name_first)\n",
    "FROM player_id AS t1, player_id AS t2\n",
    "WHERE \n",
    "LIMIT 5;\n",
    "\"\"\"\n",
    "\n",
    "df_query = pd.read_sql_query(sql_query,con)\n",
    "print(df_query)"
   ]
  },
  {
   "cell_type": "code",
   "execution_count": null,
   "metadata": {},
   "outputs": [],
   "source": []
  }
 ],
 "metadata": {
  "kernelspec": {
   "display_name": "Python 3",
   "language": "python",
   "name": "python3"
  },
  "language_info": {
   "codemirror_mode": {
    "name": "ipython",
    "version": 3
   },
   "file_extension": ".py",
   "mimetype": "text/x-python",
   "name": "python",
   "nbconvert_exporter": "python",
   "pygments_lexer": "ipython3",
   "version": "3.6.9"
  },
  "toc": {
   "base_numbering": 1,
   "nav_menu": {},
   "number_sections": true,
   "sideBar": true,
   "skip_h1_title": false,
   "title_cell": "Table of Contents",
   "title_sidebar": "Contents",
   "toc_cell": false,
   "toc_position": {
    "height": "calc(100% - 180px)",
    "left": "10px",
    "top": "150px",
    "width": "165px"
   },
   "toc_section_display": true,
   "toc_window_display": true
  },
  "varInspector": {
   "cols": {
    "lenName": 16,
    "lenType": 16,
    "lenVar": 40
   },
   "kernels_config": {
    "python": {
     "delete_cmd_postfix": "",
     "delete_cmd_prefix": "del ",
     "library": "var_list.py",
     "varRefreshCmd": "print(var_dic_list())"
    },
    "r": {
     "delete_cmd_postfix": ") ",
     "delete_cmd_prefix": "rm(",
     "library": "var_list.r",
     "varRefreshCmd": "cat(var_dic_list()) "
    }
   },
   "types_to_exclude": [
    "module",
    "function",
    "builtin_function_or_method",
    "instance",
    "_Feature"
   ],
   "window_display": false
  }
 },
 "nbformat": 4,
 "nbformat_minor": 2
}
