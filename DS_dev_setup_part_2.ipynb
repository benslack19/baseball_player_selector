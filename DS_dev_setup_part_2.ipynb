{
 "cells": [
  {
   "cell_type": "markdown",
   "metadata": {},
   "source": [
    "# Dev Setups: Testing Python and Data Science basic stack\n",
    "This document is iterated on every session, and a lot of work goes into making sure it is clear and as simple as possible. Please do not share outside of Insight. Thanks!"
   ]
  },
  {
   "cell_type": "markdown",
   "metadata": {},
   "source": [
    "## Jupyter notebooks\n",
    "[Jupyter](http://jupyter.org/) notebooks are a great tool for inline documentation of code and data analysis. Many data scientists use them to keep their work clean and well-commented as they explore data and build out data science prototypes. \n",
    "\n",
    "Notebooks consist of a series of cells. Each cell can be configured into different types, including `code` and `markdown`.\n",
    "\n",
    "Click into a cell to focus on those contents. Cells can be executed to run execute the contained code, or render the markdown. The keyboard shortcut to execute a cell is `Shift + Enter`. Test it out on the cells below."
   ]
  },
  {
   "cell_type": "markdown",
   "metadata": {},
   "source": [
    "### Here is a markdown cell. \n",
    "\n",
    "You can do all sorts of neat formatting tricks including **bold text**, *italics*, headers (#), \n",
    "<div class=\"alert alert-success\"> render HTML, </div>\n",
    "and even [LaTeX](https://en.wikipedia.org/wiki/LaTeX) for mathematical symbol generation, for example:\n",
    "$H\\Psi= i\\hbar \\frac{\\partial}{\\partial t}\\Psi$"
   ]
  },
  {
   "cell_type": "code",
   "execution_count": 1,
   "metadata": {},
   "outputs": [
    {
     "name": "stdout",
     "output_type": "stream",
     "text": [
      "Here is a code cell\n"
     ]
    }
   ],
   "source": [
    "print('Here is a code cell')"
   ]
  },
  {
   "cell_type": "markdown",
   "metadata": {},
   "source": [
    "There are lots of tutorials and guides describing all the tricks and ways to work with Jupyter, here a few that you might find useful:\n",
    "* [Official documentation on markdown](http://jupyter-notebook.readthedocs.io/en/latest/examples/Notebook/Working%20With%20Markdown%20Cells.html)\n",
    "* [DataQuest tips and tricks](https://www.dataquest.io/blog/jupyter-notebook-tips-tricks-shortcuts/)\n",
    "* [Python Data Science Handbook notebooks](https://github.com/jakevdp/PythonDataScienceHandbook/tree/master/notebooks)"
   ]
  },
  {
   "cell_type": "markdown",
   "metadata": {},
   "source": [
    "## Data Science basic Python stack"
   ]
  },
  {
   "cell_type": "markdown",
   "metadata": {},
   "source": [
    "## Part 5: Test your installs"
   ]
  },
  {
   "cell_type": "markdown",
   "metadata": {},
   "source": [
    "Go ahead and do a `Shift+Enter` in the cell below. \n",
    "* If you get an error message, your packages didn't install correctly. Revisit part 1 of the dev setup and check your installations.\n",
    "* If you get no error (a number appears next to the box on the left, the computation is finished), great job! Continue to part 6."
   ]
  },
  {
   "cell_type": "code",
   "execution_count": 2,
   "metadata": {},
   "outputs": [],
   "source": [
    "import pandas     # for making easy-to-use data structures\n",
    "import numpy      # a package is for scientific computing\n",
    "import matplotlib # plotting tools\n",
    "import scipy      # open-source software for mathematics, science, and engineering (higher level than numpy)\n",
    "import sklearn    # machine learning package\n",
    "import flask      # tools for web application development"
   ]
  },
  {
   "cell_type": "markdown",
   "metadata": {},
   "source": [
    "Now that we've imported your packages, we can start using them. There are a few functions that are particularly useful as you get oriented with new packages and understanding their functionality. The `help()` function pulls up the help file on a package, providing a description of the package and its contents."
   ]
  },
  {
   "cell_type": "code",
   "execution_count": 3,
   "metadata": {
    "scrolled": true
   },
   "outputs": [
    {
     "name": "stdout",
     "output_type": "stream",
     "text": [
      "Help on package pandas:\n",
      "\n",
      "NAME\n",
      "    pandas\n",
      "\n",
      "DESCRIPTION\n",
      "    pandas - a powerful data analysis and manipulation library for Python\n",
      "    =====================================================================\n",
      "    \n",
      "    **pandas** is a Python package providing fast, flexible, and expressive data\n",
      "    structures designed to make working with \"relational\" or \"labeled\" data both\n",
      "    easy and intuitive. It aims to be the fundamental high-level building block for\n",
      "    doing practical, **real world** data analysis in Python. Additionally, it has\n",
      "    the broader goal of becoming **the most powerful and flexible open source data\n",
      "    analysis / manipulation tool available in any language**. It is already well on\n",
      "    its way toward this goal.\n",
      "    \n",
      "    Main Features\n",
      "    -------------\n",
      "    Here are just a few of the things that pandas does well:\n",
      "    \n",
      "      - Easy handling of missing data in floating point as well as non-floating\n",
      "        point data.\n",
      "      - Size mutability: columns can be inserted and deleted from DataFrame and\n",
      "        higher dimensional objects\n",
      "      - Automatic and explicit data alignment: objects can be explicitly aligned\n",
      "        to a set of labels, or the user can simply ignore the labels and let\n",
      "        `Series`, `DataFrame`, etc. automatically align the data for you in\n",
      "        computations.\n",
      "      - Powerful, flexible group by functionality to perform split-apply-combine\n",
      "        operations on data sets, for both aggregating and transforming data.\n",
      "      - Make it easy to convert ragged, differently-indexed data in other Python\n",
      "        and NumPy data structures into DataFrame objects.\n",
      "      - Intelligent label-based slicing, fancy indexing, and subsetting of large\n",
      "        data sets.\n",
      "      - Intuitive merging and joining data sets.\n",
      "      - Flexible reshaping and pivoting of data sets.\n",
      "      - Hierarchical labeling of axes (possible to have multiple labels per tick).\n",
      "      - Robust IO tools for loading data from flat files (CSV and delimited),\n",
      "        Excel files, databases, and saving/loading data from the ultrafast HDF5\n",
      "        format.\n",
      "      - Time series-specific functionality: date range generation and frequency\n",
      "        conversion, moving window statistics, moving window linear regressions,\n",
      "        date shifting and lagging, etc.\n",
      "\n",
      "PACKAGE CONTENTS\n",
      "    _libs (package)\n",
      "    _version\n",
      "    api (package)\n",
      "    compat (package)\n",
      "    computation (package)\n",
      "    conftest\n",
      "    core (package)\n",
      "    errors (package)\n",
      "    formats (package)\n",
      "    io (package)\n",
      "    json\n",
      "    lib\n",
      "    parser\n",
      "    plotting (package)\n",
      "    testing\n",
      "    tests (package)\n",
      "    tools (package)\n",
      "    tseries (package)\n",
      "    tslib\n",
      "    types (package)\n",
      "    util (package)\n",
      "\n",
      "SUBMODULES\n",
      "    _hashtable\n",
      "    _lib\n",
      "    _tslib\n",
      "    offsets\n",
      "\n",
      "DATA\n",
      "    IndexSlice = <pandas.core.indexing._IndexSlice object>\n",
      "    NaT = NaT\n",
      "    __docformat__ = 'restructuredtext'\n",
      "    datetools = <module 'pandas.core.datetools' from '/Users/lac...ython3....\n",
      "    describe_option = <pandas.core.config.CallableDynamicDoc object>\n",
      "    get_option = <pandas.core.config.CallableDynamicDoc object>\n",
      "    json = <module 'pandas.json' from '/Users/lacar/anaconda/lib/python3.5...\n",
      "    lib = <module 'pandas.lib' from '/Users/lacar/anaconda/lib/python3.5/s...\n",
      "    options = <pandas.core.config.DictWrapper object>\n",
      "    parser = <module 'pandas.parser' from '/Users/lacar/anaconda/lib/pytho...\n",
      "    plot_params = {'xaxis.compat': False}\n",
      "    reset_option = <pandas.core.config.CallableDynamicDoc object>\n",
      "    set_option = <pandas.core.config.CallableDynamicDoc object>\n",
      "    tslib = <module 'pandas.tslib' from '/Users/lacar/anaconda/lib/python3...\n",
      "\n",
      "VERSION\n",
      "    0.23.4\n",
      "\n",
      "FILE\n",
      "    /Users/lacar/anaconda/lib/python3.5/site-packages/pandas/__init__.py\n",
      "\n",
      "\n"
     ]
    }
   ],
   "source": [
    "help(pandas)"
   ]
  },
  {
   "cell_type": "markdown",
   "metadata": {},
   "source": [
    "Additionally, Jupyter notebooks (and most IDEs and code-editors) features code auto-completion. This is accessed by the `<tab>` button. Here, you can use it to obtain an interactive list of functionality with a given package. \n",
    "\n",
    "* `module.<tab>` will show you all objects defined in the module (functions, classes and so on)\n",
    "* `module.ClassX.<tab>` will show you the methods and attributes of a class\n",
    "* `module.function_xy?` or `module.ClassX.method_xy?` will show you the docstring of that function / method\n",
    "* `module.function_xy??` or `module.SomeClass.method_xy??` will show you the source code of the function / method.\n"
   ]
  },
  {
   "cell_type": "markdown",
   "metadata": {},
   "source": [
    "Try it out below with the package `pandas`, and its `DataFrame` class."
   ]
  },
  {
   "cell_type": "code",
   "execution_count": 4,
   "metadata": {},
   "outputs": [],
   "source": [
    "pandas.DataFrame?"
   ]
  },
  {
   "cell_type": "code",
   "execution_count": 5,
   "metadata": {},
   "outputs": [],
   "source": [
    "pandas.DataFrame??"
   ]
  },
  {
   "cell_type": "markdown",
   "metadata": {},
   "source": [
    "<div class=\"alert alert-info\">\n",
    "**Packages, modules, functions**  \n",
    "<ul>\n",
    "<li>a Python function is a contained block of code with well-defined inputs and outputs. </li>\n",
    "<li>a Python module is a Python source file, which can expose classes and functions. </li>\n",
    "<li>a Python package is simply a directory of Python module(s). </li>\n",
    "</ul> <br>\n",
    "For example, imagine the following directory tree in `/python/packages/`:  \n",
    "<blockquote>\n",
    "`my_package/__init__.py`, this is what tells Python to treat this directory as a package  \n",
    "`my_package/my_module.py`, this is a module within the package\n",
    "</blockquote>\n",
    "\n",
    "So then you would do: <br>\n",
    "\n",
    "`import my_package`, to import the full package.<br>\n",
    "\n",
    "`import my_package.my_module`, to import a specific module.<br>\n",
    "\n",
    "`from my_package.my_module import my_class`, to import a specific class or function.<br>\n",
    "\n",
    "</div>"
   ]
  },
  {
   "cell_type": "markdown",
   "metadata": {},
   "source": [
    "## Part 6: Creating the Insight graphic\n",
    "In addition to being great for text formatting, Jupyter notebooks allow for inline visualizations. Here's a quick example."
   ]
  },
  {
   "cell_type": "code",
   "execution_count": 6,
   "metadata": {},
   "outputs": [
    {
     "data": {
      "image/png": "[encoded data removed]",
      "text/plain": [
       "<Figure size 320x128 with 1 Axes>"
      ]
     },
     "metadata": {
      "needs_background": "light"
     },
     "output_type": "display_data"
    }
   ],
   "source": [
    "%matplotlib inline \n",
    "import matplotlib.pyplot as plt\n",
    "import matplotlib.patches as mpatches\n",
    "\n",
    "dpi = 80\n",
    "fig = plt.figure(figsize=(4, 1.6),dpi=dpi)\n",
    "\n",
    "def add_background():\n",
    "    ax = fig.add_axes([0., 0., 1., 1.], facecolor='black')\n",
    "    rect = mpatches.Rectangle([0, .86], 0.05, 0.14, ec=\"none\", facecolor='black')\n",
    "    ax.add_patch(rect)\n",
    "    rect = mpatches.Rectangle([0.05, .86], 0.05, 0.14, ec=\"none\", facecolor='gray')\n",
    "    ax.add_patch(rect)\n",
    "    rect = mpatches.Rectangle([0, 0.72], 0.05, 0.14, ec=\"none\", facecolor='gray')\n",
    "    ax.add_patch(rect)\n",
    "    rect = mpatches.Rectangle([.95, 0], 0.05, 0.14, ec=\"none\", facecolor='black')\n",
    "    ax.add_patch(rect)\n",
    "    rect = mpatches.Rectangle([.90, 0], 0.05, 0.14, ec=\"none\", facecolor='gray')\n",
    "    ax.add_patch(rect)\n",
    "    rect = mpatches.Rectangle([.95, .14], 0.05, 0.14, ec=\"none\", facecolor='gray')\n",
    "    ax.add_patch(rect)\n",
    "    ax.set_axis_off()\n",
    "    return ax\n",
    "\n",
    "def add_insight_text(ax):\n",
    "    ax.text(0.52, 0.5, 'INSIGHT', color='black', fontsize=45,\n",
    "               ha='center', va='center', alpha=1.0, transform=ax.transAxes)\n",
    "\n",
    "if __name__ == '__main__':\n",
    "    main_axes = add_background()\n",
    "    add_insight_text(main_axes)"
   ]
  },
  {
   "cell_type": "markdown",
   "metadata": {},
   "source": [
    "<div class=\"alert alert-info\">\n",
    "**IPython magic**  \n",
    "Did you notice the `%matplotlib inline` command above? This is an example of an IPython magic command (Jupyter is based on the IPython kernel and thus has access to all Magics). Magics are neat functionality built into notebooks that can make life a lot easier. The `%matplotlib inline` command allows for plots to be generated directly into the notebook. The command `%lsmagic` lists all the available magics. Run the cell below to see a list. <br><br>\n",
    "\n",
    "The full documentation can be found <a href=\"http://ipython.readthedocs.io/en/stable/interactive/magics.html\">here</a>.\n",
    "</div>"
   ]
  },
  {
   "cell_type": "code",
   "execution_count": null,
   "metadata": {},
   "outputs": [],
   "source": [
    "%lsmagic"
   ]
  },
  {
   "cell_type": "markdown",
   "metadata": {},
   "source": [
    "### Open up `DS_sql_setup_part3.ipynb` to launch the last part of the dev setup materials. Note: There is a separate part3 file for Linux users. "
   ]
  }
 ],
 "metadata": {
  "anaconda-cloud": {},
  "kernelspec": {
   "display_name": "Python 3",
   "language": "python",
   "name": "python3"
  },
  "language_info": {
   "codemirror_mode": {
    "name": "ipython",
    "version": 3
   },
   "file_extension": ".py",
   "mimetype": "text/x-python",
   "name": "python",
   "nbconvert_exporter": "python",
   "pygments_lexer": "ipython3",
   "version": "3.5.6"
  },
  "toc": {
   "nav_menu": {},
   "number_sections": true,
   "sideBar": true,
   "skip_h1_title": false,
   "toc_cell": false,
   "toc_position": {},
   "toc_section_display": "block",
   "toc_window_display": false
  },
  "varInspector": {
   "cols": {
    "lenName": 16,
    "lenType": 16,
    "lenVar": 40
   },
   "kernels_config": {
    "python": {
     "delete_cmd_postfix": "",
     "delete_cmd_prefix": "del ",
     "library": "var_list.py",
     "varRefreshCmd": "print(var_dic_list())"
    },
    "r": {
     "delete_cmd_postfix": ") ",
     "delete_cmd_prefix": "rm(",
     "library": "var_list.r",
     "varRefreshCmd": "cat(var_dic_list()) "
    }
   },
   "types_to_exclude": [
    "module",
    "function",
    "builtin_function_or_method",
    "instance",
    "_Feature"
   ],
   "window_display": false
  }
 },
 "nbformat": 4,
 "nbformat_minor": 1
}
