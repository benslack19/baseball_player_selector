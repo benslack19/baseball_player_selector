{
 "cells": [
  {
   "cell_type": "markdown",
   "metadata": {},
   "source": [
    "**Notes for querying postgreSQL in the terminal**"
   ]
  },
  {
   "cell_type": "markdown",
   "metadata": {},
   "source": [
    "Enter the database:\n",
    "<br>\n",
    "`psql baseball -h localhost -U lacar`\n",
    "\n",
    "pw: "
   ]
  },
  {
   "cell_type": "markdown",
   "metadata": {
    "ExecuteTime": {
     "end_time": "2020-01-19T14:56:58.642185Z",
     "start_time": "2020-01-19T14:56:58.635666Z"
    }
   },
   "source": [
    "Find the tables of the database:\n",
    "<br>\n",
    "`\\dt`"
   ]
  },
  {
   "cell_type": "markdown",
   "metadata": {},
   "source": [
    "Get all columns of a table\n",
    "<br>\n",
    "`\\d+ my_table`"
   ]
  },
  {
   "cell_type": "markdown",
   "metadata": {},
   "source": [
    "Selecting based on column value (note single quote marks)\n",
    "<br>\n",
    "`SELECT * FROM player_id\n",
    "WHERE name_last='machado';`"
   ]
  },
  {
   "cell_type": "markdown",
   "metadata": {
    "ExecuteTime": {
     "end_time": "2020-01-19T15:26:14.287120Z",
     "start_time": "2020-01-19T15:26:14.269633Z"
    }
   },
   "source": [
    "Selecting based on two column values\n",
    "<br>\n",
    "`SELECT * FROM player_id\n",
    "WHERE name_last='machado'\n",
    "AND name_first='manny';`"
   ]
  },
  {
   "cell_type": "markdown",
   "metadata": {
    "ExecuteTime": {
     "end_time": "2020-01-19T15:56:47.957725Z",
     "start_time": "2020-01-19T15:56:47.947991Z"
    }
   },
   "source": [
    "Count the number of games that Machado has played 3B in 2019\n",
    "<br>\n",
    "Machado's MLB key: 592518\n",
    "\n",
    "Tried several things\n",
    "\n",
    "Gives all pitches:\n",
    "`SELECT COUNT(\"game_date\") FROM statcast\n",
    "WHERE \"fielder_5\"=592518 AND \"game_date\"\n",
    "BETWEEN '2019-01-01' AND '2019-12-31' LIMIT 5;`\n",
    "\n",
    "To get unique game dates:\n",
    "`SELECT DISTINCT \"game_date\" FROM statcast WHERE \"fielder_5\"=592518 AND \"game_date\" BETWEEN '2019-01-01' AND '2019-12-31' LIMIT 5;`\n",
    "\n",
    "To get number of unique game dates (need the table AS):\n",
    "<br>\n",
    "`SELECT COUNT(*) FROM (SELECT DISTINCT \"game_date\" FROM statcast WHERE \"fielder_5\"=592518 AND \"game_date\" BETWEEN '2019-01-01' AND '2019-12-31' LIMIT 5) AS machado_3b_games;`\n",
    "\n",
    "... and without limit\n",
    "<br>\n",
    "`SELECT COUNT(*) FROM (SELECT DISTINCT \"game_date\" FROM statcast WHERE \"fielder_5\"=592518 AND \"game_date\" BETWEEN '2019-01-01' AND '2019-12-31') AS machado_3b_games;`\n",
    " \n",
    " `count \n",
    "   119\n",
    "(1 row)`\n",
    "\n",
    "Games at SS:\n",
    "<br>\n",
    "`SELECT COUNT(*) FROM (SELECT DISTINCT \"game_date\" FROM statcast WHERE \"fielder_6\"=592518 AND \"game_date\" BETWEEN '2019-01-01' AND '2019-12-31') AS machado_3b_games;`\n",
    "<br>\n",
    "`count \n",
    "    37\n",
    "(1 row)`\n",
    "\n",
    "\n"
   ]
  },
  {
   "cell_type": "markdown",
   "metadata": {},
   "source": [
    "Try advanced query"
   ]
  },
  {
   "cell_type": "code",
   "execution_count": null,
   "metadata": {},
   "outputs": [],
   "source": []
  },
  {
   "cell_type": "code",
   "execution_count": null,
   "metadata": {},
   "outputs": [],
   "source": []
  }
 ],
 "metadata": {
  "kernelspec": {
   "display_name": "Python 3",
   "language": "python",
   "name": "python3"
  },
  "language_info": {
   "codemirror_mode": {
    "name": "ipython",
    "version": 3
   },
   "file_extension": ".py",
   "mimetype": "text/x-python",
   "name": "python",
   "nbconvert_exporter": "python",
   "pygments_lexer": "ipython3",
   "version": "3.6.9"
  },
  "toc": {
   "base_numbering": 1,
   "nav_menu": {},
   "number_sections": true,
   "sideBar": true,
   "skip_h1_title": false,
   "title_cell": "Table of Contents",
   "title_sidebar": "Contents",
   "toc_cell": false,
   "toc_position": {},
   "toc_section_display": true,
   "toc_window_display": false
  },
  "varInspector": {
   "cols": {
    "lenName": 16,
    "lenType": 16,
    "lenVar": 40
   },
   "kernels_config": {
    "python": {
     "delete_cmd_postfix": "",
     "delete_cmd_prefix": "del ",
     "library": "var_list.py",
     "varRefreshCmd": "print(var_dic_list())"
    },
    "r": {
     "delete_cmd_postfix": ") ",
     "delete_cmd_prefix": "rm(",
     "library": "var_list.r",
     "varRefreshCmd": "cat(var_dic_list()) "
    }
   },
   "types_to_exclude": [
    "module",
    "function",
    "builtin_function_or_method",
    "instance",
    "_Feature"
   ],
   "window_display": false
  }
 },
 "nbformat": 4,
 "nbformat_minor": 2
}
