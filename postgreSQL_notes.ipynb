{
 "cells": [
  {
   "cell_type": "markdown",
   "metadata": {},
   "source": [
    "**Notes for querying postgreSQL in the terminal**"
   ]
  },
  {
   "cell_type": "markdown",
   "metadata": {},
   "source": [
    "Enter the database:\n",
    "<br>\n",
    "`psql baseball -h localhost -U lacar`\n",
    "\n",
    "pw: "
   ]
  },
  {
   "cell_type": "markdown",
   "metadata": {
    "ExecuteTime": {
     "end_time": "2020-01-19T14:56:58.642185Z",
     "start_time": "2020-01-19T14:56:58.635666Z"
    }
   },
   "source": [
    "Find the tables of the database:\n",
    "<br>\n",
    "`\\dt`"
   ]
  },
  {
   "cell_type": "markdown",
   "metadata": {},
   "source": [
    "Get all columns of a table\n",
    "<br>\n",
    "`\\d+ my_table`"
   ]
  },
  {
   "cell_type": "markdown",
   "metadata": {},
   "source": [
    "Selecting based on column value (note single quote marks)\n",
    "<br>\n",
    "`SELECT * FROM player_id\n",
    "WHERE name_last='machado';`"
   ]
  },
  {
   "cell_type": "markdown",
   "metadata": {
    "ExecuteTime": {
     "end_time": "2020-01-19T15:26:14.287120Z",
     "start_time": "2020-01-19T15:26:14.269633Z"
    }
   },
   "source": [
    "Selecting based on two column values\n",
    "<br>\n",
    "`SELECT * FROM player_id\n",
    "WHERE name_last='machado'\n",
    "AND name_first='manny';`"
   ]
  },
  {
   "cell_type": "markdown",
   "metadata": {
    "ExecuteTime": {
     "end_time": "2020-01-19T15:56:47.957725Z",
     "start_time": "2020-01-19T15:56:47.947991Z"
    }
   },
   "source": [
    "Count the number of games that Machado has played 3B in 2019\n",
    "<br>\n",
    "Machado's MLB key: 592518\n",
    "\n",
    "Tried several things\n",
    "\n",
    "Gives all pitches:\n",
    "`SELECT COUNT(\"game_date\") FROM statcast\n",
    "WHERE \"fielder_5\"=592518 AND \"game_date\"\n",
    "BETWEEN '2019-01-01' AND '2019-12-31' LIMIT 5;`\n",
    "\n",
    "To get unique game dates:\n",
    "`SELECT DISTINCT \"game_date\" FROM statcast WHERE \"fielder_5\"=592518 AND \"game_date\" BETWEEN '2019-01-01' AND '2019-12-31' LIMIT 5;`\n",
    "\n",
    "To get number of unique game dates (need the table AS):\n",
    "<br>\n",
    "`SELECT COUNT(*) FROM (SELECT DISTINCT \"game_date\" FROM statcast WHERE \"fielder_5\"=592518 AND \"game_date\" BETWEEN '2019-01-01' AND '2019-12-31' LIMIT 5) AS machado_3b_games;`\n",
    "\n",
    "... and without limit\n",
    "<br>\n",
    "`SELECT COUNT(*) FROM (SELECT DISTINCT \"game_date\" FROM statcast WHERE \"fielder_5\"=592518 AND \"game_date\" BETWEEN '2019-01-01' AND '2019-12-31') AS machado_3b_games;`\n",
    " \n",
    " `count \n",
    "   119\n",
    "(1 row)`\n",
    "\n",
    "Games at SS:\n",
    "<br>\n",
    "`SELECT COUNT(*) FROM (SELECT DISTINCT \"game_date\" FROM statcast WHERE \"fielder_6\"=592518 AND \"game_date\" BETWEEN '2019-01-01' AND '2019-12-31') AS machado_3b_games;`\n",
    "<br>\n",
    "`count \n",
    "    37\n",
    "(1 row)`\n",
    "\n",
    "\n"
   ]
  },
  {
   "cell_type": "markdown",
   "metadata": {},
   "source": [
    "Try advanced query"
   ]
  },
  {
   "cell_type": "markdown",
   "metadata": {},
   "source": [
    "# Order of execution\n",
    "\n",
    "1. FROM /JOIN (subqueries)\n",
    "2. WHERE\n",
    "3. GROUP BY\n",
    "4. HAVING\n",
    "5. SELECT\n",
    "6. DISTINCT\n",
    "7. ORDER BY\n",
    "8. LIMIT/OFFSET\n",
    "\n",
    "<br>\n",
    "- First creates a working dataset, then filters with rows added by conditions\n",
    "<br>\n",
    "- Column name aliases are not accessed for all commands except after SELECT (aliases for table names are okay.)"
   ]
  },
  {
   "cell_type": "markdown",
   "metadata": {
    "ExecuteTime": {
     "end_time": "2020-01-25T23:53:39.852566Z",
     "start_time": "2020-01-25T23:53:39.849377Z"
    }
   },
   "source": [
    "# Example of how to format a long query"
   ]
  },
  {
   "cell_type": "code",
   "execution_count": 57,
   "metadata": {
    "ExecuteTime": {
     "end_time": "2020-02-14T22:56:11.789166Z",
     "start_time": "2020-02-14T22:56:11.700745Z"
    }
   },
   "outputs": [],
   "source": [
    "def return_df_metric_rate_batter(metric, batter_id):\n",
    "\n",
    "    sql_query = \"\"\"\n",
    "    SELECT \"game_date\", \"batter\", \"events\" FROM statcast\n",
    "    WHERE \"batter\"= \n",
    "    \"\"\" + str(batter_id) + \"\"\"\n",
    "    AND \"game_date\" BETWEEN '2019-03-28' AND '2019-04-30'\n",
    "    AND \"events\" IS NOT NULL\n",
    "    \"\"\"\n",
    "\n",
    "    df_events = pd.read_sql_query(sql_query,con)\n",
    "    \n",
    "    df_summary = df_events.groupby('events').count()['game_date'] / df_events.count()[0]\n",
    "    return df_summary[metric]"
   ]
  },
  {
   "cell_type": "markdown",
   "metadata": {
    "ExecuteTime": {
     "end_time": "2020-02-12T17:08:06.102762Z",
     "start_time": "2020-02-12T17:08:06.099915Z"
    }
   },
   "source": [
    "# SQL with baseball database"
   ]
  },
  {
   "cell_type": "code",
   "execution_count": 58,
   "metadata": {
    "ExecuteTime": {
     "end_time": "2020-02-14T22:56:11.826407Z",
     "start_time": "2020-02-14T22:56:11.797301Z"
    }
   },
   "outputs": [],
   "source": [
    "import pandas as pd\n",
    "import sqlalchemy\n",
    "import sqlalchemy_utils\n",
    "from sqlalchemy import create_engine\n",
    "from sqlalchemy_utils import database_exists, create_database\n",
    "import psycopg2"
   ]
  },
  {
   "cell_type": "code",
   "execution_count": 182,
   "metadata": {
    "ExecuteTime": {
     "end_time": "2020-02-18T04:22:27.858200Z",
     "start_time": "2020-02-18T04:22:27.851398Z"
    }
   },
   "outputs": [],
   "source": [
    "# Define a database name\n",
    "# Set your postgres username\n",
    "dbname = \"baseball\"\n",
    "username = \"lacar\"  # change this to your username"
   ]
  },
  {
   "cell_type": "code",
   "execution_count": 183,
   "metadata": {
    "ExecuteTime": {
     "end_time": "2020-02-18T04:22:28.564950Z",
     "start_time": "2020-02-18T04:22:28.444103Z"
    }
   },
   "outputs": [],
   "source": [
    "# Working with PostgreSQL in Python\n",
    "# Connect to make queries using psycopg2\n",
    "con = None\n",
    "con = psycopg2.connect(database=dbname, user=username)"
   ]
  },
  {
   "cell_type": "markdown",
   "metadata": {},
   "source": [
    "## Show what statcast table looks like"
   ]
  },
  {
   "cell_type": "code",
   "execution_count": 144,
   "metadata": {
    "ExecuteTime": {
     "end_time": "2020-02-16T08:16:24.605457Z",
     "start_time": "2020-02-16T08:16:24.402634Z"
    }
   },
   "outputs": [
    {
     "name": "stdout",
     "output_type": "stream",
     "text": [
      "   level_0  index pitch_type  game_date  release_speed  release_pos_x  \\\n",
      "0   628924   6520         SL 2019-04-23           85.6        -1.2669   \n",
      "1   628925   6540         SL 2019-04-23           84.4        -1.2766   \n",
      "2   628926   6542         FF 2019-04-23           92.9        -1.1886   \n",
      "3   628927   6570         FF 2019-04-23           92.2        -1.0392   \n",
      "4   628928   6576         FF 2019-04-23           91.2        -1.1659   \n",
      "5   628929   6599         FF 2019-04-23           86.8         2.5039   \n",
      "6   628930   6606         CU 2019-04-23           70.9         2.5916   \n",
      "7   628931   6633         FF 2019-04-23           88.5         2.4167   \n",
      "8   628932   6641         SL 2019-04-23           81.5         2.8770   \n",
      "9   628933   6666         SL 2019-04-23           80.5         2.7526   \n",
      "\n",
      "   release_pos_z       player_name    batter   pitcher  ... home_score  \\\n",
      "0         6.1763      Erik Swanson  665487.0  657024.0  ...        3.0   \n",
      "1         6.1412      Erik Swanson  594824.0  657024.0  ...        3.0   \n",
      "2         6.2243      Erik Swanson  594824.0  657024.0  ...        3.0   \n",
      "3         6.3910      Erik Swanson  594824.0  657024.0  ...        3.0   \n",
      "4         6.2824      Erik Swanson  594824.0  657024.0  ...        3.0   \n",
      "5         5.8760  Nick Margevicius  542921.0  676606.0  ...        3.0   \n",
      "6         5.8263  Nick Margevicius  542921.0  676606.0  ...        3.0   \n",
      "7         5.9490  Nick Margevicius  542921.0  676606.0  ...        3.0   \n",
      "8         5.7169  Nick Margevicius  542921.0  676606.0  ...        3.0   \n",
      "9         5.7350  Nick Margevicius  429665.0  676606.0  ...        3.0   \n",
      "\n",
      "  away_score bat_score fld_score post_away_score post_home_score  \\\n",
      "0        2.0       3.0       2.0             2.0             3.0   \n",
      "1        2.0       3.0       2.0             2.0             3.0   \n",
      "2        2.0       3.0       2.0             2.0             3.0   \n",
      "3        2.0       3.0       2.0             2.0             3.0   \n",
      "4        2.0       3.0       2.0             2.0             3.0   \n",
      "5        0.0       0.0       3.0             0.0             3.0   \n",
      "6        0.0       0.0       3.0             0.0             3.0   \n",
      "7        0.0       0.0       3.0             0.0             3.0   \n",
      "8        0.0       0.0       3.0             0.0             3.0   \n",
      "9        0.0       0.0       3.0             0.0             3.0   \n",
      "\n",
      "   post_bat_score post_fld_score if_fielding_alignment of_fielding_alignment  \n",
      "0             3.0            2.0              Standard              Standard  \n",
      "1             3.0            2.0              Standard              Standard  \n",
      "2             3.0            2.0              Standard              Standard  \n",
      "3             3.0            2.0              Standard              Standard  \n",
      "4             3.0            2.0             Strategic              Standard  \n",
      "5             0.0            3.0              Standard              Standard  \n",
      "6             0.0            3.0              Standard              Standard  \n",
      "7             0.0            3.0              Standard              Standard  \n",
      "8             0.0            3.0              Standard              Standard  \n",
      "9             0.0            3.0         Infield shift              Standard  \n",
      "\n",
      "[10 rows x 91 columns]\n"
     ]
    }
   ],
   "source": [
    "sql_query = \"\"\"\n",
    "SELECT * FROM statcast\n",
    "LIMIT 10\n",
    "\"\"\"\n",
    "\n",
    "df_query = pd.read_sql_query(sql_query,con)\n",
    "print(df_query)"
   ]
  },
  {
   "cell_type": "markdown",
   "metadata": {},
   "source": [
    "## Get Padres stats for 2019"
   ]
  },
  {
   "cell_type": "code",
   "execution_count": 130,
   "metadata": {
    "ExecuteTime": {
     "end_time": "2020-02-16T08:05:03.366638Z",
     "start_time": "2020-02-16T08:05:03.352543Z"
    }
   },
   "outputs": [
    {
     "name": "stdout",
     "output_type": "stream",
     "text": [
      "   game_date    batter                     events home_team\n",
      "0 2019-04-24  570267.0  grounded_into_double_play        SD\n",
      "1 2019-04-24  596129.0                     single        SD\n",
      "2 2019-04-24  571745.0                  field_out        SD\n",
      "3 2019-04-24  571976.0                  strikeout        SD\n",
      "4 2019-04-24  665487.0                  force_out        SD\n",
      "5 2019-04-24  594824.0                     single        SD\n",
      "6 2019-04-24  642336.0                  field_out        SD\n",
      "7 2019-04-24  429665.0                  strikeout        SD\n",
      "8 2019-04-24  605480.0                  field_out        SD\n",
      "9 2019-04-24  592387.0                  field_out        SD\n"
     ]
    }
   ],
   "source": [
    "sql_query = \"\"\"\n",
    "SELECT \"game_date\", \"batter\", \"events\", \"home_team\" FROM statcast\n",
    "WHERE \"game_date\" BETWEEN '2019-03-28' AND '2019-04-30'\n",
    "AND \"events\" IS NOT NULL\n",
    "AND \"home_team\"='SD'\n",
    "LIMIT 10\n",
    "\"\"\"\n",
    "\n",
    "df_query = pd.read_sql_query(sql_query,con)\n",
    "print(df_query)"
   ]
  },
  {
   "cell_type": "markdown",
   "metadata": {},
   "source": [
    "## Get batters of average WAR (Renfroe like) 2019"
   ]
  },
  {
   "cell_type": "code",
   "execution_count": 62,
   "metadata": {
    "ExecuteTime": {
     "end_time": "2020-02-14T22:56:13.963399Z",
     "start_time": "2020-02-14T22:56:13.192659Z"
    }
   },
   "outputs": [
    {
     "name": "stdout",
     "output_type": "stream",
     "text": [
      "                  Name  WAR\n",
      "0            Josh Bell  2.5\n",
      "1         Kole Calhoun  2.5\n",
      "2    Edwin Encarnacion  2.5\n",
      "3          Khris Davis  2.5\n",
      "4          Nelson Cruz  2.5\n",
      "..                 ...  ...\n",
      "231      Freddy Galvis  1.5\n",
      "232       Amed Rosario  1.5\n",
      "233    Kevin Kiermaier  1.5\n",
      "234        Kyle Seager  1.5\n",
      "235       Juan Lagares  1.5\n",
      "\n",
      "[236 rows x 2 columns]\n"
     ]
    }
   ],
   "source": [
    "sql_query = \"\"\"\n",
    "SELECT \"Name\", \"WAR\" FROM batting_stats\n",
    "WHERE \"WAR\" BETWEEN 1.5 and 2.5\n",
    "\"\"\"\n",
    "\n",
    "df_query = pd.read_sql_query(sql_query,con)\n",
    "    \n",
    "print(df_query)"
   ]
  },
  {
   "cell_type": "code",
   "execution_count": null,
   "metadata": {
    "ExecuteTime": {
     "end_time": "2020-02-14T22:56:14.855273Z",
     "start_time": "2020-02-14T22:56:12.042Z"
    }
   },
   "outputs": [],
   "source": [
    "sql_query = \"\"\"\n",
    "SELECT \"Name\", \"WAR\" FROM batting_stats\n",
    "WHERE \"Name\" LIKE '%Renfroe'\n",
    "LIMIT 10\n",
    "\"\"\"\n",
    "\n",
    "df_query = pd.read_sql_query(sql_query,con)    \n",
    "print(df_query)\n"
   ]
  },
  {
   "cell_type": "markdown",
   "metadata": {},
   "source": [
    "## Get Pitchers of average WAR (1.9-2) 2019"
   ]
  },
  {
   "cell_type": "code",
   "execution_count": 132,
   "metadata": {
    "ExecuteTime": {
     "end_time": "2020-02-16T08:06:19.955037Z",
     "start_time": "2020-02-16T08:06:19.201324Z"
    }
   },
   "outputs": [
    {
     "data": {
      "text/html": [
       "<div>\n",
       "<style scoped>\n",
       "    .dataframe tbody tr th:only-of-type {\n",
       "        vertical-align: middle;\n",
       "    }\n",
       "\n",
       "    .dataframe tbody tr th {\n",
       "        vertical-align: top;\n",
       "    }\n",
       "\n",
       "    .dataframe thead th {\n",
       "        text-align: right;\n",
       "    }\n",
       "</style>\n",
       "<table border=\"1\" class=\"dataframe\">\n",
       "  <thead>\n",
       "    <tr style=\"text-align: right;\">\n",
       "      <th></th>\n",
       "      <th>Name</th>\n",
       "      <th>WAR</th>\n",
       "      <th>Season</th>\n",
       "    </tr>\n",
       "  </thead>\n",
       "  <tbody>\n",
       "    <tr>\n",
       "      <th>0</th>\n",
       "      <td>Domingo German</td>\n",
       "      <td>2.0</td>\n",
       "      <td>2019.0</td>\n",
       "    </tr>\n",
       "    <tr>\n",
       "      <th>1</th>\n",
       "      <td>Wade Miley</td>\n",
       "      <td>2.0</td>\n",
       "      <td>2019.0</td>\n",
       "    </tr>\n",
       "    <tr>\n",
       "      <th>2</th>\n",
       "      <td>Brett Anderson</td>\n",
       "      <td>2.0</td>\n",
       "      <td>2019.0</td>\n",
       "    </tr>\n",
       "    <tr>\n",
       "      <th>3</th>\n",
       "      <td>Merrill Kelly</td>\n",
       "      <td>2.0</td>\n",
       "      <td>2019.0</td>\n",
       "    </tr>\n",
       "    <tr>\n",
       "      <th>4</th>\n",
       "      <td>Ivan Nova</td>\n",
       "      <td>2.0</td>\n",
       "      <td>2019.0</td>\n",
       "    </tr>\n",
       "    <tr>\n",
       "      <th>5</th>\n",
       "      <td>Tanner Roark</td>\n",
       "      <td>2.0</td>\n",
       "      <td>2019.0</td>\n",
       "    </tr>\n",
       "    <tr>\n",
       "      <th>6</th>\n",
       "      <td>Aroldis Chapman</td>\n",
       "      <td>2.0</td>\n",
       "      <td>2019.0</td>\n",
       "    </tr>\n",
       "    <tr>\n",
       "      <th>7</th>\n",
       "      <td>Martin Perez</td>\n",
       "      <td>1.9</td>\n",
       "      <td>2019.0</td>\n",
       "    </tr>\n",
       "    <tr>\n",
       "      <th>8</th>\n",
       "      <td>Trent Thornton</td>\n",
       "      <td>1.9</td>\n",
       "      <td>2019.0</td>\n",
       "    </tr>\n",
       "    <tr>\n",
       "      <th>9</th>\n",
       "      <td>Daniel Norris</td>\n",
       "      <td>1.9</td>\n",
       "      <td>2019.0</td>\n",
       "    </tr>\n",
       "  </tbody>\n",
       "</table>\n",
       "</div>"
      ],
      "text/plain": [
       "              Name  WAR  Season\n",
       "0   Domingo German  2.0  2019.0\n",
       "1       Wade Miley  2.0  2019.0\n",
       "2   Brett Anderson  2.0  2019.0\n",
       "3    Merrill Kelly  2.0  2019.0\n",
       "4        Ivan Nova  2.0  2019.0\n",
       "5     Tanner Roark  2.0  2019.0\n",
       "6  Aroldis Chapman  2.0  2019.0\n",
       "7     Martin Perez  1.9  2019.0\n",
       "8   Trent Thornton  1.9  2019.0\n",
       "9    Daniel Norris  1.9  2019.0"
      ]
     },
     "execution_count": 132,
     "metadata": {},
     "output_type": "execute_result"
    }
   ],
   "source": [
    "sql_query = \"\"\"\n",
    "SELECT \"Name\", \"WAR\", \"Season\" FROM pitching_stats\n",
    "WHERE \"WAR\" BETWEEN 1.9 AND 2\n",
    "AND \"Season\"=2019\n",
    "\"\"\"\n",
    "\n",
    "df_query = pd.read_sql_query(sql_query,con)\n",
    "#print(df_query)\n",
    "df_query"
   ]
  },
  {
   "cell_type": "markdown",
   "metadata": {},
   "source": [
    "## Get no. of at-bats that Tatis faced a two strike count"
   ]
  },
  {
   "cell_type": "code",
   "execution_count": 135,
   "metadata": {
    "ExecuteTime": {
     "end_time": "2020-02-16T08:08:14.617220Z",
     "start_time": "2020-02-16T08:08:14.600211Z"
    }
   },
   "outputs": [
    {
     "name": "stdout",
     "output_type": "stream",
     "text": [
      "   index name_last name_first  key_mlbam key_retro  key_bbref  key_fangraphs  \\\n",
      "0   1738     tatis   fernando     665487  tatif002  tatisfe02          19709   \n",
      "\n",
      "   mlb_played_first  mlb_played_last  \n",
      "0            2019.0           2019.0  \n"
     ]
    }
   ],
   "source": [
    "# Get Tatis keyalbam\n",
    "sql_query = \"\"\"\n",
    "SELECT * FROM player_id\n",
    "WHERE name_last='tatis';\n",
    "\"\"\"\n",
    "df_query = pd.read_sql_query(sql_query,con)    \n",
    "print(df_query)"
   ]
  },
  {
   "cell_type": "code",
   "execution_count": null,
   "metadata": {},
   "outputs": [],
   "source": [
    "# Get all at-bats hard coding the keymlbam"
   ]
  },
  {
   "cell_type": "code",
   "execution_count": 138,
   "metadata": {
    "ExecuteTime": {
     "end_time": "2020-02-16T08:09:51.586092Z",
     "start_time": "2020-02-16T08:09:51.470208Z"
    }
   },
   "outputs": [
    {
     "name": "stdout",
     "output_type": "stream",
     "text": [
      "   strikes    batter name_last\n",
      "0      0.0  665487.0     tatis\n",
      "1      0.0  665487.0     tatis\n",
      "2      0.0  665487.0     tatis\n",
      "3      2.0  665487.0     tatis\n",
      "4      1.0  665487.0     tatis\n"
     ]
    }
   ],
   "source": [
    "sql_query = \"\"\"\n",
    "SELECT \"strikes\", \"batter\", \"name_last\" FROM statcast\n",
    "JOIN player_id\n",
    "ON statcast.batter=player_id.key_mlbam\n",
    "WHERE key_mlbam='665487'\n",
    "LIMIT 5\n",
    "\"\"\"\n",
    "\n",
    "df_query = pd.read_sql_query(sql_query,con)\n",
    "print(df_query)"
   ]
  },
  {
   "cell_type": "markdown",
   "metadata": {},
   "source": [
    "## Get all at-bats using a subquery, searching for \"Tatis\""
   ]
  },
  {
   "cell_type": "code",
   "execution_count": 141,
   "metadata": {
    "ExecuteTime": {
     "end_time": "2020-02-16T08:13:05.368853Z",
     "start_time": "2020-02-16T08:12:46.150803Z"
    }
   },
   "outputs": [
    {
     "name": "stdout",
     "output_type": "stream",
     "text": [
      "   count\n",
      "0    393\n"
     ]
    }
   ],
   "source": [
    "sql_query = \"\"\"\n",
    "SELECT COUNT(\"strikes\") FROM statcast\n",
    "JOIN player_id\n",
    "ON statcast.batter=player_id.key_mlbam\n",
    "WHERE key_mlbam=\n",
    "    (SELECT key_mlbam FROM player_id\n",
    "    WHERE name_last='tatis'\n",
    "    AND name_first='fernando')\n",
    "AND \"strikes\" = 2\n",
    "LIMIT 5;\n",
    "\"\"\"\n",
    "\n",
    "df_query = pd.read_sql_query(sql_query,con)\n",
    "print(df_query)"
   ]
  },
  {
   "cell_type": "markdown",
   "metadata": {},
   "source": [
    "## Count number of Tatis at-bats"
   ]
  },
  {
   "cell_type": "code",
   "execution_count": 142,
   "metadata": {
    "ExecuteTime": {
     "end_time": "2020-02-16T08:14:02.939770Z",
     "start_time": "2020-02-16T08:13:50.079874Z"
    }
   },
   "outputs": [
    {
     "name": "stdout",
     "output_type": "stream",
     "text": [
      "   count\n",
      "0    371\n"
     ]
    }
   ],
   "source": [
    "sql_query = \"\"\"\n",
    "SELECT COUNT(\"events\") FROM statcast\n",
    "JOIN player_id\n",
    "ON statcast.batter=player_id.key_mlbam\n",
    "WHERE key_mlbam=\n",
    "    (SELECT key_mlbam FROM player_id\n",
    "    WHERE name_last='tatis'\n",
    "    AND name_first='fernando')\n",
    "AND \"events\" IS NOT NULL\n",
    "LIMIT 5;\n",
    "\"\"\"\n",
    "\n",
    "df_query = pd.read_sql_query(sql_query,con)\n",
    "print(df_query)"
   ]
  },
  {
   "cell_type": "markdown",
   "metadata": {
    "ExecuteTime": {
     "end_time": "2020-02-16T08:15:07.810481Z",
     "start_time": "2020-02-16T08:15:07.805664Z"
    }
   },
   "source": [
    "## Get the number of pitches of each pitch type that Tatis faced on two strike counts"
   ]
  },
  {
   "cell_type": "code",
   "execution_count": 150,
   "metadata": {
    "ExecuteTime": {
     "end_time": "2020-02-17T20:30:07.264559Z",
     "start_time": "2020-02-17T20:30:05.816635Z"
    }
   },
   "outputs": [
    {
     "name": "stdout",
     "output_type": "stream",
     "text": [
      "  pitch_type  no_pitches\n",
      "0         FF         126\n",
      "1         SL          97\n",
      "2         CH          57\n",
      "3         CU          34\n",
      "4         SI          22\n",
      "5         FT          21\n",
      "6         FC          17\n",
      "7         KC          14\n",
      "8         FS           5\n"
     ]
    }
   ],
   "source": [
    "sql_query = \"\"\"\n",
    "SELECT pitch_type, COUNT(*) AS no_pitches\n",
    "FROM statcast\n",
    "JOIN player_id\n",
    "ON statcast.batter=player_id.key_mlbam\n",
    "WHERE key_mlbam=\n",
    "    (SELECT key_mlbam FROM player_id\n",
    "    WHERE name_last='tatis'\n",
    "    AND name_first='fernando')\n",
    "AND \"strikes\" = 2\n",
    "GROUP BY pitch_type\n",
    "ORDER BY no_pitches DESC\n",
    "LIMIT 10;\n",
    "\"\"\"\n",
    "\n",
    "df_query = pd.read_sql_query(sql_query,con)\n",
    "print(df_query)"
   ]
  },
  {
   "cell_type": "markdown",
   "metadata": {
    "ExecuteTime": {
     "end_time": "2020-02-17T20:29:47.657088Z",
     "start_time": "2020-02-17T20:29:47.650120Z"
    }
   },
   "source": [
    "## Get the breakdown in proportion of pitch types that Tatis faced on two strike counts\n",
    "\n",
    "**Return to this**"
   ]
  },
  {
   "cell_type": "code",
   "execution_count": 195,
   "metadata": {
    "ExecuteTime": {
     "end_time": "2020-02-18T04:34:06.038400Z",
     "start_time": "2020-02-18T04:33:56.786916Z"
    }
   },
   "outputs": [
    {
     "name": "stdout",
     "output_type": "stream",
     "text": [
      "   count\n",
      "0    393\n"
     ]
    }
   ],
   "source": [
    "# Just get total no two strike counts\n",
    "sql_query = \"\"\"\n",
    "SELECT COUNT(*) \n",
    "FROM statcast\n",
    "JOIN player_id\n",
    "ON statcast.batter=player_id.key_mlbam\n",
    "WHERE key_mlbam=\n",
    "    (SELECT key_mlbam FROM player_id\n",
    "    WHERE name_last='tatis'\n",
    "    AND name_first='fernando')\n",
    "AND \"strikes\" = 2;\n",
    "\"\"\"\n",
    "\n",
    "df_query = pd.read_sql_query(sql_query,con)\n",
    "print(df_query)"
   ]
  },
  {
   "cell_type": "code",
   "execution_count": 196,
   "metadata": {
    "ExecuteTime": {
     "end_time": "2020-02-18T04:34:44.269965Z",
     "start_time": "2020-02-18T04:34:35.501816Z"
    }
   },
   "outputs": [
    {
     "name": "stdout",
     "output_type": "stream",
     "text": [
      "  pitch_type  no_pitches\n",
      "0         FF         126\n",
      "1         SL          97\n",
      "2         CH          57\n",
      "3         CU          34\n",
      "4         SI          22\n",
      "5         FT          21\n",
      "6         FC          17\n",
      "7         KC          14\n",
      "8         FS           5\n"
     ]
    }
   ],
   "source": [
    "sql_query = \"\"\"\n",
    "SELECT pitch_type, COUNT(*) AS no_pitches\n",
    "FROM statcast\n",
    "JOIN player_id\n",
    "ON statcast.batter=player_id.key_mlbam\n",
    "WHERE key_mlbam=\n",
    "    (SELECT key_mlbam FROM player_id\n",
    "    WHERE name_last='tatis'\n",
    "    AND name_first='fernando')\n",
    "AND \"strikes\" = 2\n",
    "GROUP BY pitch_type\n",
    "ORDER BY no_pitches DESC;\n",
    "\"\"\"\n",
    "\n",
    "df_query = pd.read_sql_query(sql_query,con)\n",
    "print(df_query)"
   ]
  },
  {
   "cell_type": "markdown",
   "metadata": {},
   "source": [
    "**Complex query**\n",
    "\n",
    "- use of CTE\n",
    "- note notation, where commas are\n",
    "- note use of decimal format "
   ]
  },
  {
   "cell_type": "code",
   "execution_count": 210,
   "metadata": {
    "ExecuteTime": {
     "end_time": "2020-02-18T05:04:22.381027Z",
     "start_time": "2020-02-18T05:04:08.626937Z"
    }
   },
   "outputs": [
    {
     "name": "stdout",
     "output_type": "stream",
     "text": [
      "  pitch_type  no_pitches  pitch_type_proportion\n",
      "0         FF         126               0.320611\n",
      "1         SL          97               0.246819\n",
      "2         CH          57               0.145038\n",
      "3         CU          34               0.086514\n",
      "4         SI          22               0.055980\n",
      "5         FT          21               0.053435\n",
      "6         FC          17               0.043257\n",
      "7         KC          14               0.035623\n",
      "8         FS           5               0.012723\n"
     ]
    }
   ],
   "source": [
    "sql_query = \"\"\"\n",
    "WITH\n",
    "    total_table AS\n",
    "        (SELECT COUNT(*) AS total_pitches\n",
    "        FROM statcast\n",
    "        JOIN player_id\n",
    "        ON statcast.batter=player_id.key_mlbam\n",
    "        WHERE key_mlbam=\n",
    "            (SELECT key_mlbam FROM player_id\n",
    "            WHERE name_last='tatis'\n",
    "            AND name_first='fernando')\n",
    "        AND \"strikes\" = 2),\n",
    "        \n",
    "    pitch_counts_table AS\n",
    "        (SELECT pitch_type, COUNT(*) AS no_pitches\n",
    "        FROM statcast\n",
    "        JOIN player_id\n",
    "        ON statcast.batter=player_id.key_mlbam\n",
    "        WHERE key_mlbam=\n",
    "            (SELECT key_mlbam FROM player_id\n",
    "            WHERE name_last='tatis'\n",
    "            AND name_first='fernando')\n",
    "        AND \"strikes\" = 2\n",
    "        GROUP BY pitch_type\n",
    "        ORDER BY no_pitches DESC)\n",
    "        \n",
    "SELECT\n",
    "    pitch_counts_table.pitch_type, \n",
    "    pitch_counts_table.no_pitches,\n",
    "    pitch_counts_table.no_pitches::decimal / total_table.total_pitches AS pitch_type_proportion\n",
    "FROM pitch_counts_table, total_table;\n",
    "\"\"\"\n",
    "\n",
    "df_query = pd.read_sql_query(sql_query,con)\n",
    "print(df_query)"
   ]
  },
  {
   "cell_type": "markdown",
   "metadata": {},
   "source": [
    "# Alise's SQL questions"
   ]
  },
  {
   "cell_type": "code",
   "execution_count": 65,
   "metadata": {
    "ExecuteTime": {
     "end_time": "2020-02-14T22:57:08.588217Z",
     "start_time": "2020-02-14T22:57:08.581841Z"
    }
   },
   "outputs": [],
   "source": [
    "import pandas as pd\n",
    "import sqlalchemy\n",
    "import sqlalchemy_utils\n",
    "from sqlalchemy import create_engine\n",
    "from sqlalchemy_utils import database_exists, create_database\n",
    "import psycopg2"
   ]
  },
  {
   "cell_type": "markdown",
   "metadata": {},
   "source": [
    "Host: ec2-54-245-31-214.us-west-2.compute.amazonaws.com\n",
    "<br>\n",
    "Port: 5291\n",
    "<br>\n",
    "User (Role): sqlpractice [Only has READ privileges]\n",
    "<br>\n",
    "Password: iloveSQL!\n",
    "<br>\n",
    "Database: ecommerce\n"
   ]
  },
  {
   "cell_type": "code",
   "execution_count": 166,
   "metadata": {
    "ExecuteTime": {
     "end_time": "2020-02-17T23:17:26.022505Z",
     "start_time": "2020-02-17T23:17:25.618544Z"
    }
   },
   "outputs": [],
   "source": [
    "# Working with PostgreSQL in Python\n",
    "# Connect to make queries using psycopg2\n",
    "con = None\n",
    "con = psycopg2.connect(host = 'ec2-54-245-31-214.us-west-2.compute.amazonaws.com',\n",
    "                       port = '5291',\n",
    "                       database = 'ecommerce',\n",
    "                       user = 'sqlpractice',\n",
    "                       password = 'iloveSQL!')"
   ]
  },
  {
   "cell_type": "markdown",
   "metadata": {},
   "source": [
    "## Overview of tables"
   ]
  },
  {
   "cell_type": "code",
   "execution_count": 167,
   "metadata": {
    "ExecuteTime": {
     "end_time": "2020-02-17T23:17:29.809163Z",
     "start_time": "2020-02-17T23:17:29.678095Z"
    }
   },
   "outputs": [
    {
     "name": "stdout",
     "output_type": "stream",
     "text": [
      "   employeeid   lastname firstname                  title titleofcourtesy  \\\n",
      "0           1    Davolio     Nancy   Sales Representative             Ms.   \n",
      "1           2     Fuller    Andrew  Vice President, Sales             Dr.   \n",
      "2           3  Leverling     Janet   Sales Representative             Ms.   \n",
      "3           4    Peacock  Margaret   Sales Representative            Mrs.   \n",
      "4           5   Buchanan    Steven          Sales Manager             Mr.   \n",
      "\n",
      "   birthdate   hiredate                    address      city region  \\\n",
      "0 1966-12-08 2010-05-01  507 - 20th Ave. E. Apt.57  New York     NY   \n",
      "1 1970-02-19 2010-08-14         908 W. Capital Way    Tacoma     WA   \n",
      "2 1981-08-30 2010-04-01         722 Moss Bay Blvd.  Kirkland     WA   \n",
      "3 1955-09-19 2011-05-03       4110 Old Redmond Rd.   Redmond     WA   \n",
      "4 1973-03-04 2011-10-17            14 Garrett Hill    London   None   \n",
      "\n",
      "  postalcode country       homephone extension  \\\n",
      "0      10027     USA  (206) 555-9857      5467   \n",
      "1      98401     USA  (206) 555-9482      3457   \n",
      "2      98033     USA  (206) 555-3412      3355   \n",
      "3      98052     USA  (206) 555-8122      5176   \n",
      "4    SW1 8JR      UK   (71) 555-4848      3453   \n",
      "\n",
      "                                               notes  reportsto  \\\n",
      "0  Education includes a BA in psychology from Col...        2.0   \n",
      "1  Andrew received his BTS commercial in 1974 and...        NaN   \n",
      "2  Janet has a BS degree in chemistry from Boston...        2.0   \n",
      "3  Margaret holds a BA in English literature from...        2.0   \n",
      "4  Steven Buchanan graduated from St. Andrews Uni...        2.0   \n",
      "\n",
      "                                photopath  \n",
      "0    http://accweb/emmployees/davolio.bmp  \n",
      "1     http://accweb/emmployees/fuller.bmp  \n",
      "2  http://accweb/emmployees/leverling.bmp  \n",
      "3    http://accweb/emmployees/peacock.bmp  \n",
      "4   http://accweb/emmployees/buchanan.bmp  \n"
     ]
    }
   ],
   "source": [
    "## Overview of table\n",
    "sql_query = \"\"\"\n",
    "SELECT * FROM public.employees \n",
    "LIMIT 5;\n",
    "\"\"\"\n",
    "\n",
    "df_query = pd.read_sql_query(sql_query,con)    \n",
    "print(df_query)"
   ]
  },
  {
   "cell_type": "code",
   "execution_count": 94,
   "metadata": {
    "ExecuteTime": {
     "end_time": "2020-02-15T03:54:56.279964Z",
     "start_time": "2020-02-15T03:54:56.242017Z"
    }
   },
   "outputs": [
    {
     "name": "stdout",
     "output_type": "stream",
     "text": [
      "   count\n",
      "0      9\n"
     ]
    }
   ],
   "source": [
    "sql_query = \"\"\"\n",
    "SELECT COUNT(*) FROM public.employees \n",
    "LIMIT 5;\n",
    "\"\"\"\n",
    "\n",
    "df_query = pd.read_sql_query(sql_query,con)    \n",
    "print(df_query)"
   ]
  },
  {
   "cell_type": "markdown",
   "metadata": {
    "ExecuteTime": {
     "end_time": "2020-02-15T00:56:07.313784Z",
     "start_time": "2020-02-15T00:56:07.310689Z"
    }
   },
   "source": [
    "## Question 1\n",
    "Return a distinct list of titles and the count of employees with this title"
   ]
  },
  {
   "cell_type": "code",
   "execution_count": 77,
   "metadata": {
    "ExecuteTime": {
     "end_time": "2020-02-15T01:01:05.768710Z",
     "start_time": "2020-02-15T01:01:05.701918Z"
    }
   },
   "outputs": [
    {
     "name": "stdout",
     "output_type": "stream",
     "text": [
      "               unique_title  count\n",
      "0             Sales Manager      1\n",
      "1     Vice President, Sales      1\n",
      "2      Sales Representative      6\n",
      "3  Inside Sales Coordinator      1\n"
     ]
    }
   ],
   "source": [
    "sql_query = \"\"\"\n",
    "SELECT DISTINCT(title) AS unique_title, COUNT(employeeid) \n",
    "FROM employees \n",
    "GROUP BY title;\n",
    "\"\"\"\n",
    "\n",
    "df_query = pd.read_sql_query(sql_query,con)\n",
    "print(df_query)"
   ]
  },
  {
   "cell_type": "markdown",
   "metadata": {},
   "source": [
    "## Question 2\n",
    "Return the employee(s) first name, last name and title who has \"Sales\" in their title and hire date before January 1, 2011"
   ]
  },
  {
   "cell_type": "code",
   "execution_count": 90,
   "metadata": {
    "ExecuteTime": {
     "end_time": "2020-02-15T03:52:47.688785Z",
     "start_time": "2020-02-15T03:52:47.648403Z"
    }
   },
   "outputs": [
    {
     "name": "stdout",
     "output_type": "stream",
     "text": [
      "  firstname   lastname                  title\n",
      "0     Nancy    Davolio   Sales Representative\n",
      "1    Andrew     Fuller  Vice President, Sales\n",
      "2     Janet  Leverling   Sales Representative\n"
     ]
    }
   ],
   "source": [
    "sql_query = \"\"\"\n",
    "SELECT firstname, lastname, title \n",
    "FROM employees \n",
    "WHERE title LIKE '%Sales%'\n",
    "AND hiredate < '2011-01-01';\n",
    "\"\"\"\n",
    "\n",
    "df_query = pd.read_sql_query(sql_query,con)\n",
    "print(df_query)"
   ]
  },
  {
   "cell_type": "code",
   "execution_count": null,
   "metadata": {},
   "outputs": [],
   "source": []
  },
  {
   "cell_type": "markdown",
   "metadata": {},
   "source": [
    "## Question 3\n",
    "Return the employees first and last name and the number of years of employment"
   ]
  },
  {
   "cell_type": "code",
   "execution_count": 92,
   "metadata": {
    "ExecuteTime": {
     "end_time": "2020-02-15T03:54:06.667200Z",
     "start_time": "2020-02-15T03:54:06.627702Z"
    }
   },
   "outputs": [
    {
     "name": "stdout",
     "output_type": "stream",
     "text": [
      "  firstname   lastname  employment_length\n",
      "0     Nancy    Davolio               10.0\n",
      "1    Andrew     Fuller               10.0\n",
      "2     Janet  Leverling               10.0\n",
      "3  Margaret    Peacock                9.0\n",
      "4    Steven   Buchanan                9.0\n",
      "5   Michael     Suyama                9.0\n",
      "6    Robert       King                8.0\n",
      "7     Laura   Callahan                8.0\n",
      "8      Anne  Dodsworth                8.0\n"
     ]
    }
   ],
   "source": [
    "sql_query = \"\"\"\n",
    "SELECT firstname, lastname, EXTRACT(YEAR FROM CURRENT_DATE)-EXTRACT(YEAR FROM hiredate) AS employment_length\n",
    "FROM employees;\n",
    "\"\"\"\n",
    "\n",
    "df_query = pd.read_sql_query(sql_query,con)\n",
    "print(df_query)"
   ]
  },
  {
   "cell_type": "code",
   "execution_count": null,
   "metadata": {},
   "outputs": [],
   "source": []
  },
  {
   "cell_type": "markdown",
   "metadata": {},
   "source": [
    "## Question 4\n",
    "Return the maximum number of years of employment for any employee"
   ]
  },
  {
   "cell_type": "code",
   "execution_count": 110,
   "metadata": {
    "ExecuteTime": {
     "end_time": "2020-02-16T03:51:24.091387Z",
     "start_time": "2020-02-16T03:51:24.053703Z"
    }
   },
   "outputs": [
    {
     "name": "stdout",
     "output_type": "stream",
     "text": [
      "   employment_length\n",
      "0               10.0\n"
     ]
    }
   ],
   "source": [
    "# Method 1\n",
    "sql_query = \"\"\"\n",
    "SELECT EXTRACT(YEAR FROM CURRENT_DATE)-EXTRACT(YEAR FROM hiredate) AS employment_length\n",
    "FROM employees\n",
    "ORDER BY employment_length DESC\n",
    "LIMIT 1;\n",
    "\"\"\"\n",
    "\n",
    "df_query = pd.read_sql_query(sql_query,con)\n",
    "print(df_query)"
   ]
  },
  {
   "cell_type": "code",
   "execution_count": 112,
   "metadata": {
    "ExecuteTime": {
     "end_time": "2020-02-16T03:52:40.596097Z",
     "start_time": "2020-02-16T03:52:40.506194Z"
    }
   },
   "outputs": [
    {
     "name": "stdout",
     "output_type": "stream",
     "text": [
      "   max_years\n",
      "0       10.0\n"
     ]
    }
   ],
   "source": [
    "# Method 2\n",
    "sql_query = \"\"\"\n",
    "SELECT MAX(EXTRACT(YEAR FROM CURRENT_DATE)-EXTRACT(YEAR FROM hiredate)) AS max_years\n",
    "FROM employees;\n",
    "\"\"\"\n",
    "\n",
    "df_query = pd.read_sql_query(sql_query,con)\n",
    "print(df_query)"
   ]
  },
  {
   "cell_type": "markdown",
   "metadata": {},
   "source": [
    "## Question 5\n",
    "Return the employee city ordered by the total number of unique employees currently employed (Assume each employeeid appears only once)"
   ]
  },
  {
   "cell_type": "code",
   "execution_count": 126,
   "metadata": {
    "ExecuteTime": {
     "end_time": "2020-02-16T08:04:22.083167Z",
     "start_time": "2020-02-16T08:04:22.044893Z"
    }
   },
   "outputs": [
    {
     "name": "stdout",
     "output_type": "stream",
     "text": [
      "         city  no_unique_employees\n",
      "0      London                    2\n",
      "1       Miner                    1\n",
      "2    New York                    1\n",
      "3     Redmond                    1\n",
      "4     Seattle                    1\n",
      "5      Tacoma                    1\n",
      "6    Kirkland                    1\n",
      "7  Winchester                    1\n"
     ]
    }
   ],
   "source": [
    "# Method 1\n",
    "sql_query = \"\"\"\n",
    "SELECT city, COUNT(DISTINCT employeeid) AS no_unique_employees\n",
    "FROM employees\n",
    "GROUP BY city\n",
    "ORDER BY no_unique_employees DESC;\n",
    "\"\"\"\n",
    "\n",
    "df_query = pd.read_sql_query(sql_query,con)\n",
    "print(df_query)"
   ]
  },
  {
   "cell_type": "code",
   "execution_count": 168,
   "metadata": {
    "ExecuteTime": {
     "end_time": "2020-02-17T23:18:33.131733Z",
     "start_time": "2020-02-17T23:18:33.090850Z"
    }
   },
   "outputs": [
    {
     "name": "stdout",
     "output_type": "stream",
     "text": [
      "         city  employeecount\n",
      "0      London              2\n",
      "1     Seattle              1\n",
      "2    Kirkland              1\n",
      "3  Winchester              1\n",
      "4       Miner              1\n",
      "5      Tacoma              1\n",
      "6    New York              1\n",
      "7     Redmond              1\n"
     ]
    }
   ],
   "source": [
    "# Method 2 (Alise method)\n",
    "\n",
    "sql_query = \"\"\"\n",
    "SELECT city, COUNT(employeeid) AS employeecount \n",
    "FROM public.employees \n",
    "GROUP BY 1 \n",
    "ORDER BY COUNT(employeeid) DESC;\n",
    "\"\"\"\n",
    "\n",
    "df_query = pd.read_sql_query(sql_query,con)\n",
    "print(df_query)"
   ]
  },
  {
   "cell_type": "markdown",
   "metadata": {
    "ExecuteTime": {
     "end_time": "2020-02-17T23:19:03.499089Z",
     "start_time": "2020-02-17T23:19:03.450076Z"
    }
   },
   "source": [
    "## Question 6\n",
    "\n",
    "Return each city and the birthdate of the oldest employee as \"mindate\""
   ]
  },
  {
   "cell_type": "code",
   "execution_count": 174,
   "metadata": {
    "ExecuteTime": {
     "end_time": "2020-02-17T23:22:32.944830Z",
     "start_time": "2020-02-17T23:22:32.902386Z"
    }
   },
   "outputs": [
    {
     "name": "stdout",
     "output_type": "stream",
     "text": [
      "         city    mindate\n",
      "0    New York 1966-12-08\n",
      "1     Seattle 1976-01-09\n",
      "2    Kirkland 1981-08-30\n",
      "3      London 1973-03-04\n",
      "4  Winchester 1978-05-29\n",
      "5       Miner 1981-07-02\n",
      "6      Tacoma 1970-02-19\n",
      "7     Redmond 1955-09-19\n"
     ]
    }
   ],
   "source": [
    "# Method 1\n",
    "\n",
    "sql_query =  \"\"\"\n",
    "SELECT city, MIN(birthdate) AS mindate\n",
    "FROM employees\n",
    "GROUP BY city\n",
    "\"\"\"\n",
    "\n",
    "df_query = pd.read_sql_query(sql_query, con)\n",
    "print(df_query)"
   ]
  },
  {
   "cell_type": "code",
   "execution_count": 175,
   "metadata": {
    "ExecuteTime": {
     "end_time": "2020-02-17T23:22:54.882461Z",
     "start_time": "2020-02-17T23:22:54.843170Z"
    }
   },
   "outputs": [
    {
     "name": "stdout",
     "output_type": "stream",
     "text": [
      "         city    mindate\n",
      "0    New York 1966-12-08\n",
      "1     Seattle 1976-01-09\n",
      "2    Kirkland 1981-08-30\n",
      "3      London 1973-03-04\n",
      "4  Winchester 1978-05-29\n",
      "5       Miner 1981-07-02\n",
      "6      Tacoma 1970-02-19\n",
      "7     Redmond 1955-09-19\n"
     ]
    }
   ],
   "source": [
    "# Method 2\n",
    "\n",
    "sql_query =  \"\"\"\n",
    "SELECT city, MIN(birthdate) AS mindate\n",
    "FROM employees\n",
    "GROUP BY 1\n",
    "\"\"\"\n",
    "\n",
    "df_query = pd.read_sql_query(sql_query, con)\n",
    "print(df_query)"
   ]
  },
  {
   "cell_type": "markdown",
   "metadata": {
    "ExecuteTime": {
     "end_time": "2020-02-17T23:23:30.071142Z",
     "start_time": "2020-02-17T23:23:30.063473Z"
    }
   },
   "source": [
    "## Question 7\n",
    "\n",
    "Return the first and last name and age of the youngest employee\n",
    "<br>\n",
    "**Review years extraction from date**"
   ]
  },
  {
   "cell_type": "code",
   "execution_count": 179,
   "metadata": {
    "ExecuteTime": {
     "end_time": "2020-02-17T23:26:18.587722Z",
     "start_time": "2020-02-17T23:26:18.545893Z"
    }
   },
   "outputs": [
    {
     "name": "stdout",
     "output_type": "stream",
     "text": [
      "  firstname   lastname   age\n",
      "0      Anne  Dodsworth  36.0\n"
     ]
    }
   ],
   "source": [
    "# Method 1\n",
    "\n",
    "sql_query =  \"\"\"\n",
    "SELECT firstname, lastname, EXTRACT(YEAR FROM CURRENT_DATE)-EXTRACT(YEAR FROM birthdate) AS age\n",
    "FROM employees\n",
    "ORDER BY age ASC\n",
    "LIMIT 1;\n",
    "\"\"\"\n",
    "\n",
    "df_query = pd.read_sql_query(sql_query, con)\n",
    "print(df_query)"
   ]
  },
  {
   "cell_type": "code",
   "execution_count": 180,
   "metadata": {
    "ExecuteTime": {
     "end_time": "2020-02-17T23:27:28.013352Z",
     "start_time": "2020-02-17T23:27:27.974838Z"
    }
   },
   "outputs": [
    {
     "name": "stdout",
     "output_type": "stream",
     "text": [
      "  firstname   lastname   age\n",
      "0      Anne  Dodsworth  36.0\n"
     ]
    }
   ],
   "source": [
    "# Method 2 - use of MAX in where\n",
    "\n",
    "sql_query =  \"\"\"\n",
    "SELECT firstname, lastname, (EXTRACT(YEAR FROM CURRENT_TIMESTAMP) - EXTRACT(YEAR FROM birthdate)) AS age \n",
    "FROM public.employees \n",
    "WHERE birthdate = (SELECT MAX(birthdate) AS maxbdate FROM public.employees);;\n",
    "\"\"\"\n",
    "\n",
    "df_query = pd.read_sql_query(sql_query, con)\n",
    "print(df_query)"
   ]
  },
  {
   "cell_type": "markdown",
   "metadata": {
    "ExecuteTime": {
     "end_time": "2020-02-14T22:55:00.488628Z",
     "start_time": "2020-02-14T22:55:00.237033Z"
    }
   },
   "source": [
    "# Bottom of notebook"
   ]
  },
  {
   "cell_type": "code",
   "execution_count": null,
   "metadata": {},
   "outputs": [],
   "source": []
  }
 ],
 "metadata": {
  "kernelspec": {
   "display_name": "Python 3",
   "language": "python",
   "name": "python3"
  },
  "language_info": {
   "codemirror_mode": {
    "name": "ipython",
    "version": 3
   },
   "file_extension": ".py",
   "mimetype": "text/x-python",
   "name": "python",
   "nbconvert_exporter": "python",
   "pygments_lexer": "ipython3",
   "version": "3.6.9"
  },
  "toc": {
   "base_numbering": 1,
   "nav_menu": {},
   "number_sections": true,
   "sideBar": true,
   "skip_h1_title": false,
   "title_cell": "Table of Contents",
   "title_sidebar": "Contents",
   "toc_cell": false,
   "toc_position": {
    "height": "calc(100% - 180px)",
    "left": "10px",
    "top": "150px",
    "width": "190.2038116455078px"
   },
   "toc_section_display": true,
   "toc_window_display": true
  },
  "varInspector": {
   "cols": {
    "lenName": 16,
    "lenType": 16,
    "lenVar": 40
   },
   "kernels_config": {
    "python": {
     "delete_cmd_postfix": "",
     "delete_cmd_prefix": "del ",
     "library": "var_list.py",
     "varRefreshCmd": "print(var_dic_list())"
    },
    "r": {
     "delete_cmd_postfix": ") ",
     "delete_cmd_prefix": "rm(",
     "library": "var_list.r",
     "varRefreshCmd": "cat(var_dic_list()) "
    }
   },
   "types_to_exclude": [
    "module",
    "function",
    "builtin_function_or_method",
    "instance",
    "_Feature"
   ],
   "window_display": false
  }
 },
 "nbformat": 4,
 "nbformat_minor": 2
}
