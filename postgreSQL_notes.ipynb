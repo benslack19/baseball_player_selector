{
 "cells": [
  {
   "cell_type": "markdown",
   "metadata": {},
   "source": [
    "**Notes for querying postgreSQL in the terminal**"
   ]
  },
  {
   "cell_type": "markdown",
   "metadata": {},
   "source": [
    "Enter the database:\n",
    "<br>\n",
    "`psql baseball -h localhost -U lacar`\n",
    "\n",
    "pw: "
   ]
  },
  {
   "cell_type": "markdown",
   "metadata": {
    "ExecuteTime": {
     "end_time": "2020-01-19T14:56:58.642185Z",
     "start_time": "2020-01-19T14:56:58.635666Z"
    }
   },
   "source": [
    "Find the tables of the database:\n",
    "<br>\n",
    "`\\dt`"
   ]
  },
  {
   "cell_type": "markdown",
   "metadata": {},
   "source": [
    "Get all columns of a table\n",
    "<br>\n",
    "`\\d+ my_table`"
   ]
  },
  {
   "cell_type": "markdown",
   "metadata": {},
   "source": [
    "Selecting based on column value (note single quote marks)\n",
    "<br>\n",
    "`SELECT * FROM player_id\n",
    "WHERE name_last='machado';`"
   ]
  },
  {
   "cell_type": "markdown",
   "metadata": {
    "ExecuteTime": {
     "end_time": "2020-01-19T15:26:14.287120Z",
     "start_time": "2020-01-19T15:26:14.269633Z"
    }
   },
   "source": [
    "Selecting based on two column values\n",
    "<br>\n",
    "`SELECT * FROM player_id\n",
    "WHERE name_last='machado'\n",
    "AND name_first='manny';`"
   ]
  },
  {
   "cell_type": "markdown",
   "metadata": {
    "ExecuteTime": {
     "end_time": "2020-01-19T15:56:47.957725Z",
     "start_time": "2020-01-19T15:56:47.947991Z"
    }
   },
   "source": [
    "Count the number of games that Machado has played 3B in 2019\n",
    "<br>\n",
    "Machado's MLB key: 592518\n",
    "\n",
    "Tried several things\n",
    "\n",
    "Gives all pitches:\n",
    "`SELECT COUNT(\"game_date\") FROM statcast\n",
    "WHERE \"fielder_5\"=592518 AND \"game_date\"\n",
    "BETWEEN '2019-01-01' AND '2019-12-31' LIMIT 5;`\n",
    "\n",
    "To get unique game dates:\n",
    "`SELECT DISTINCT \"game_date\" FROM statcast WHERE \"fielder_5\"=592518 AND \"game_date\" BETWEEN '2019-01-01' AND '2019-12-31' LIMIT 5;`\n",
    "\n",
    "To get number of unique game dates (need the table AS):\n",
    "<br>\n",
    "`SELECT COUNT(*) FROM (SELECT DISTINCT \"game_date\" FROM statcast WHERE \"fielder_5\"=592518 AND \"game_date\" BETWEEN '2019-01-01' AND '2019-12-31' LIMIT 5) AS machado_3b_games;`\n",
    "\n",
    "... and without limit\n",
    "<br>\n",
    "`SELECT COUNT(*) FROM (SELECT DISTINCT \"game_date\" FROM statcast WHERE \"fielder_5\"=592518 AND \"game_date\" BETWEEN '2019-01-01' AND '2019-12-31') AS machado_3b_games;`\n",
    " \n",
    " `count \n",
    "   119\n",
    "(1 row)`\n",
    "\n",
    "Games at SS:\n",
    "<br>\n",
    "`SELECT COUNT(*) FROM (SELECT DISTINCT \"game_date\" FROM statcast WHERE \"fielder_6\"=592518 AND \"game_date\" BETWEEN '2019-01-01' AND '2019-12-31') AS machado_3b_games;`\n",
    "<br>\n",
    "`count \n",
    "    37\n",
    "(1 row)`\n",
    "\n",
    "\n"
   ]
  },
  {
   "cell_type": "markdown",
   "metadata": {},
   "source": [
    "Try advanced query"
   ]
  },
  {
   "cell_type": "markdown",
   "metadata": {
    "ExecuteTime": {
     "end_time": "2020-01-25T23:53:39.852566Z",
     "start_time": "2020-01-25T23:53:39.849377Z"
    }
   },
   "source": [
    "# Example of how to format a long query"
   ]
  },
  {
   "cell_type": "code",
   "execution_count": null,
   "metadata": {},
   "outputs": [],
   "source": [
    "def return_df_metric_rate_batter(metric, batter_id):\n",
    "\n",
    "    sql_query = \"\"\"\n",
    "    SELECT \"game_date\", \"batter\", \"events\" FROM statcast\n",
    "    WHERE \"batter\"= \n",
    "    \"\"\" + str(batter_id) + \"\"\"\n",
    "    AND \"game_date\" BETWEEN '2019-03-28' AND '2019-04-30'\n",
    "    AND \"events\" IS NOT NULL\n",
    "    \"\"\"\n",
    "\n",
    "    df_events = pd.read_sql_query(sql_query,con)\n",
    "    \n",
    "    df_summary = df_events.groupby('events').count()['game_date'] / df_events.count()[0]\n",
    "    return df_summary[metric]"
   ]
  },
  {
   "cell_type": "code",
   "execution_count": null,
   "metadata": {},
   "outputs": [],
   "source": []
  },
  {
   "cell_type": "code",
   "execution_count": null,
   "metadata": {},
   "outputs": [],
   "source": []
  },
  {
   "cell_type": "markdown",
   "metadata": {
    "ExecuteTime": {
     "end_time": "2020-02-12T17:08:06.102762Z",
     "start_time": "2020-02-12T17:08:06.099915Z"
    }
   },
   "source": [
    "# For practice"
   ]
  },
  {
   "cell_type": "code",
   "execution_count": 6,
   "metadata": {
    "ExecuteTime": {
     "end_time": "2020-02-12T17:14:04.253280Z",
     "start_time": "2020-02-12T17:14:04.247621Z"
    }
   },
   "outputs": [],
   "source": [
    "import pandas as pd\n",
    "\n",
    "import sqlalchemy\n",
    "import sqlalchemy_utils\n",
    "from sqlalchemy import create_engine\n",
    "from sqlalchemy_utils import database_exists, create_database\n",
    "import psycopg2"
   ]
  },
  {
   "cell_type": "code",
   "execution_count": 7,
   "metadata": {
    "ExecuteTime": {
     "end_time": "2020-02-12T17:14:05.457210Z",
     "start_time": "2020-02-12T17:14:05.453020Z"
    }
   },
   "outputs": [],
   "source": [
    "# Define a database name\n",
    "# Set your postgres username\n",
    "dbname = \"baseball\"\n",
    "username = \"lacar\"  # change this to your username"
   ]
  },
  {
   "cell_type": "code",
   "execution_count": 9,
   "metadata": {
    "ExecuteTime": {
     "end_time": "2020-02-12T17:14:06.712371Z",
     "start_time": "2020-02-12T17:14:06.645207Z"
    }
   },
   "outputs": [],
   "source": [
    "# Working with PostgreSQL in Python\n",
    "# Connect to make queries using psycopg2\n",
    "con = None\n",
    "con = psycopg2.connect(database=dbname, user=username)"
   ]
  },
  {
   "cell_type": "code",
   "execution_count": 10,
   "metadata": {
    "ExecuteTime": {
     "end_time": "2020-02-12T17:14:10.147047Z",
     "start_time": "2020-02-12T17:14:08.840852Z"
    }
   },
   "outputs": [
    {
     "name": "stdout",
     "output_type": "stream",
     "text": [
      "   game_date    batter                     events home_team\n",
      "0 2019-04-24  570267.0  grounded_into_double_play        SD\n",
      "1 2019-04-24  596129.0                     single        SD\n",
      "2 2019-04-24  571745.0                  field_out        SD\n",
      "3 2019-04-24  571976.0                  strikeout        SD\n",
      "4 2019-04-24  665487.0                  force_out        SD\n",
      "5 2019-04-24  594824.0                     single        SD\n",
      "6 2019-04-24  642336.0                  field_out        SD\n",
      "7 2019-04-24  429665.0                  strikeout        SD\n",
      "8 2019-04-24  605480.0                  field_out        SD\n",
      "9 2019-04-24  592387.0                  field_out        SD\n"
     ]
    }
   ],
   "source": [
    "## Get Padres stats for 2019\n",
    "\n",
    "\n",
    "sql_query = \"\"\"\n",
    "SELECT \"game_date\", \"batter\", \"events\", \"home_team\" FROM statcast\n",
    "WHERE \"game_date\" BETWEEN '2019-03-28' AND '2019-04-30'\n",
    "AND \"events\" IS NOT NULL\n",
    "AND \"home_team\"='SD'\n",
    "LIMIT 10\n",
    "\"\"\"\n",
    "\n",
    "df_query = pd.read_sql_query(sql_query,con)\n",
    "    \n",
    "print(df_query)\n",
    "\n"
   ]
  },
  {
   "cell_type": "code",
   "execution_count": 36,
   "metadata": {
    "ExecuteTime": {
     "end_time": "2020-02-12T20:45:48.262361Z",
     "start_time": "2020-02-12T20:45:48.244858Z"
    }
   },
   "outputs": [
    {
     "name": "stdout",
     "output_type": "stream",
     "text": [
      "                  Name  WAR\n",
      "0            Josh Bell  2.5\n",
      "1         Kole Calhoun  2.5\n",
      "2    Edwin Encarnacion  2.5\n",
      "3          Khris Davis  2.5\n",
      "4          Nelson Cruz  2.5\n",
      "..                 ...  ...\n",
      "231      Freddy Galvis  1.5\n",
      "232       Amed Rosario  1.5\n",
      "233    Kevin Kiermaier  1.5\n",
      "234        Kyle Seager  1.5\n",
      "235       Juan Lagares  1.5\n",
      "\n",
      "[236 rows x 2 columns]\n"
     ]
    }
   ],
   "source": [
    "## Get batters of average WAR (Renfroe like) 2019\n",
    "\n",
    "sql_query = \"\"\"\n",
    "SELECT \"Name\", \"WAR\" FROM batting_stats\n",
    "WHERE \"WAR\" BETWEEN 1.5 and 2.5\n",
    "\"\"\"\n",
    "\n",
    "df_query = pd.read_sql_query(sql_query,con)\n",
    "    \n",
    "print(df_query)"
   ]
  },
  {
   "cell_type": "code",
   "execution_count": 47,
   "metadata": {
    "ExecuteTime": {
     "end_time": "2020-02-12T20:48:24.163937Z",
     "start_time": "2020-02-12T20:48:24.141494Z"
    }
   },
   "outputs": [
    {
     "data": {
      "text/html": [
       "<div>\n",
       "<style scoped>\n",
       "    .dataframe tbody tr th:only-of-type {\n",
       "        vertical-align: middle;\n",
       "    }\n",
       "\n",
       "    .dataframe tbody tr th {\n",
       "        vertical-align: top;\n",
       "    }\n",
       "\n",
       "    .dataframe thead th {\n",
       "        text-align: right;\n",
       "    }\n",
       "</style>\n",
       "<table border=\"1\" class=\"dataframe\">\n",
       "  <thead>\n",
       "    <tr style=\"text-align: right;\">\n",
       "      <th></th>\n",
       "      <th>Name</th>\n",
       "      <th>WAR</th>\n",
       "      <th>Season</th>\n",
       "    </tr>\n",
       "  </thead>\n",
       "  <tbody>\n",
       "    <tr>\n",
       "      <th>0</th>\n",
       "      <td>Evan Longoria</td>\n",
       "      <td>2.0</td>\n",
       "      <td>2019.0</td>\n",
       "    </tr>\n",
       "    <tr>\n",
       "      <th>1</th>\n",
       "      <td>Charlie Blackmon</td>\n",
       "      <td>2.0</td>\n",
       "      <td>2019.0</td>\n",
       "    </tr>\n",
       "    <tr>\n",
       "      <th>2</th>\n",
       "      <td>Tommy La Stella</td>\n",
       "      <td>2.0</td>\n",
       "      <td>2019.0</td>\n",
       "    </tr>\n",
       "    <tr>\n",
       "      <th>3</th>\n",
       "      <td>Andrew Benintendi</td>\n",
       "      <td>2.0</td>\n",
       "      <td>2019.0</td>\n",
       "    </tr>\n",
       "    <tr>\n",
       "      <th>4</th>\n",
       "      <td>Danny Santana</td>\n",
       "      <td>1.9</td>\n",
       "      <td>2019.0</td>\n",
       "    </tr>\n",
       "    <tr>\n",
       "      <th>5</th>\n",
       "      <td>Eric Thames</td>\n",
       "      <td>1.9</td>\n",
       "      <td>2019.0</td>\n",
       "    </tr>\n",
       "    <tr>\n",
       "      <th>6</th>\n",
       "      <td>Ryan Braun</td>\n",
       "      <td>1.9</td>\n",
       "      <td>2019.0</td>\n",
       "    </tr>\n",
       "    <tr>\n",
       "      <th>7</th>\n",
       "      <td>Jose Abreu</td>\n",
       "      <td>1.9</td>\n",
       "      <td>2019.0</td>\n",
       "    </tr>\n",
       "    <tr>\n",
       "      <th>8</th>\n",
       "      <td>Eloy Jimenez</td>\n",
       "      <td>1.9</td>\n",
       "      <td>2019.0</td>\n",
       "    </tr>\n",
       "    <tr>\n",
       "      <th>9</th>\n",
       "      <td>Carson Kelly</td>\n",
       "      <td>1.9</td>\n",
       "      <td>2019.0</td>\n",
       "    </tr>\n",
       "    <tr>\n",
       "      <th>10</th>\n",
       "      <td>Ji-Man Choi</td>\n",
       "      <td>1.9</td>\n",
       "      <td>2019.0</td>\n",
       "    </tr>\n",
       "    <tr>\n",
       "      <th>11</th>\n",
       "      <td>Brian Goodwin</td>\n",
       "      <td>1.9</td>\n",
       "      <td>2019.0</td>\n",
       "    </tr>\n",
       "    <tr>\n",
       "      <th>12</th>\n",
       "      <td>Asdrubal Cabrera</td>\n",
       "      <td>1.9</td>\n",
       "      <td>2019.0</td>\n",
       "    </tr>\n",
       "    <tr>\n",
       "      <th>13</th>\n",
       "      <td>Hunter Renfroe</td>\n",
       "      <td>1.9</td>\n",
       "      <td>2019.0</td>\n",
       "    </tr>\n",
       "    <tr>\n",
       "      <th>14</th>\n",
       "      <td>Todd Frazier</td>\n",
       "      <td>1.9</td>\n",
       "      <td>2019.0</td>\n",
       "    </tr>\n",
       "    <tr>\n",
       "      <th>15</th>\n",
       "      <td>Jason Heyward</td>\n",
       "      <td>1.9</td>\n",
       "      <td>2019.0</td>\n",
       "    </tr>\n",
       "    <tr>\n",
       "      <th>16</th>\n",
       "      <td>Hanser Alberto</td>\n",
       "      <td>1.9</td>\n",
       "      <td>2019.0</td>\n",
       "    </tr>\n",
       "    <tr>\n",
       "      <th>17</th>\n",
       "      <td>Niko Goodrum</td>\n",
       "      <td>1.9</td>\n",
       "      <td>2019.0</td>\n",
       "    </tr>\n",
       "    <tr>\n",
       "      <th>18</th>\n",
       "      <td>Miguel Rojas</td>\n",
       "      <td>1.9</td>\n",
       "      <td>2019.0</td>\n",
       "    </tr>\n",
       "  </tbody>\n",
       "</table>\n",
       "</div>"
      ],
      "text/plain": [
       "                 Name  WAR  Season\n",
       "0       Evan Longoria  2.0  2019.0\n",
       "1    Charlie Blackmon  2.0  2019.0\n",
       "2     Tommy La Stella  2.0  2019.0\n",
       "3   Andrew Benintendi  2.0  2019.0\n",
       "4       Danny Santana  1.9  2019.0\n",
       "5         Eric Thames  1.9  2019.0\n",
       "6          Ryan Braun  1.9  2019.0\n",
       "7          Jose Abreu  1.9  2019.0\n",
       "8        Eloy Jimenez  1.9  2019.0\n",
       "9        Carson Kelly  1.9  2019.0\n",
       "10        Ji-Man Choi  1.9  2019.0\n",
       "11      Brian Goodwin  1.9  2019.0\n",
       "12   Asdrubal Cabrera  1.9  2019.0\n",
       "13     Hunter Renfroe  1.9  2019.0\n",
       "14       Todd Frazier  1.9  2019.0\n",
       "15      Jason Heyward  1.9  2019.0\n",
       "16     Hanser Alberto  1.9  2019.0\n",
       "17       Niko Goodrum  1.9  2019.0\n",
       "18       Miguel Rojas  1.9  2019.0"
      ]
     },
     "execution_count": 47,
     "metadata": {},
     "output_type": "execute_result"
    }
   ],
   "source": [
    "## Get batters of average WAR (Renfroe like) 2019\n",
    "\n",
    "\n",
    "sql_query = \"\"\"\n",
    "SELECT \"Name\", \"WAR\", \"Season\" FROM batting_stats\n",
    "WHERE \"WAR\" BETWEEN 1.9 and 2\n",
    "AND \"Season\"=2019\n",
    "\n",
    "\"\"\"\n",
    "\n",
    "df_query = pd.read_sql_query(sql_query,con)\n",
    "#print(df_query)\n",
    "df_query"
   ]
  },
  {
   "cell_type": "code",
   "execution_count": 54,
   "metadata": {
    "ExecuteTime": {
     "end_time": "2020-02-12T20:54:43.721284Z",
     "start_time": "2020-02-12T20:54:43.697122Z"
    }
   },
   "outputs": [
    {
     "ename": "DatabaseError",
     "evalue": "Execution failed on sql '\nSELECT \"Name\", \"WAR\", \"Season\" FROM pitching_stats\nWHERE \"Name\"='Masahiro Tanaka'\"\nAND \"Season\"=2019\n': syntax error at or near \"\"\nAND \"\"\nLINE 3: WHERE \"Name\"='Masahiro Tanaka'\"\n                                      ^\n",
     "output_type": "error",
     "traceback": [
      "\u001b[0;31m---------------------------------------------------------------------------\u001b[0m",
      "\u001b[0;31mSyntaxError\u001b[0m                               Traceback (most recent call last)",
      "\u001b[0;32m~/anaconda/envs/insight/lib/python3.6/site-packages/pandas/io/sql.py\u001b[0m in \u001b[0;36mexecute\u001b[0;34m(self, *args, **kwargs)\u001b[0m\n\u001b[1;32m   1594\u001b[0m             \u001b[0;32melse\u001b[0m\u001b[0;34m:\u001b[0m\u001b[0;34m\u001b[0m\u001b[0;34m\u001b[0m\u001b[0m\n\u001b[0;32m-> 1595\u001b[0;31m                 \u001b[0mcur\u001b[0m\u001b[0;34m.\u001b[0m\u001b[0mexecute\u001b[0m\u001b[0;34m(\u001b[0m\u001b[0;34m*\u001b[0m\u001b[0margs\u001b[0m\u001b[0;34m)\u001b[0m\u001b[0;34m\u001b[0m\u001b[0;34m\u001b[0m\u001b[0m\n\u001b[0m\u001b[1;32m   1596\u001b[0m             \u001b[0;32mreturn\u001b[0m \u001b[0mcur\u001b[0m\u001b[0;34m\u001b[0m\u001b[0;34m\u001b[0m\u001b[0m\n",
      "\u001b[0;31mSyntaxError\u001b[0m: syntax error at or near \"\"\nAND \"\"\nLINE 3: WHERE \"Name\"='Masahiro Tanaka'\"\n                                      ^\n",
      "\nDuring handling of the above exception, another exception occurred:\n",
      "\u001b[0;31mDatabaseError\u001b[0m                             Traceback (most recent call last)",
      "\u001b[0;32m<ipython-input-54-c06836f6f1e0>\u001b[0m in \u001b[0;36m<module>\u001b[0;34m\u001b[0m\n\u001b[1;32m      8\u001b[0m \"\"\"\n\u001b[1;32m      9\u001b[0m \u001b[0;34m\u001b[0m\u001b[0m\n\u001b[0;32m---> 10\u001b[0;31m \u001b[0mdf_query\u001b[0m \u001b[0;34m=\u001b[0m \u001b[0mpd\u001b[0m\u001b[0;34m.\u001b[0m\u001b[0mread_sql_query\u001b[0m\u001b[0;34m(\u001b[0m\u001b[0msql_query\u001b[0m\u001b[0;34m,\u001b[0m\u001b[0mcon\u001b[0m\u001b[0;34m)\u001b[0m\u001b[0;34m\u001b[0m\u001b[0;34m\u001b[0m\u001b[0m\n\u001b[0m\u001b[1;32m     11\u001b[0m \u001b[0;31m#print(df_query)\u001b[0m\u001b[0;34m\u001b[0m\u001b[0;34m\u001b[0m\u001b[0;34m\u001b[0m\u001b[0m\n\u001b[1;32m     12\u001b[0m \u001b[0mdf_query\u001b[0m\u001b[0;34m\u001b[0m\u001b[0;34m\u001b[0m\u001b[0m\n",
      "\u001b[0;32m~/anaconda/envs/insight/lib/python3.6/site-packages/pandas/io/sql.py\u001b[0m in \u001b[0;36mread_sql_query\u001b[0;34m(sql, con, index_col, coerce_float, params, parse_dates, chunksize)\u001b[0m\n\u001b[1;32m    330\u001b[0m         \u001b[0mcoerce_float\u001b[0m\u001b[0;34m=\u001b[0m\u001b[0mcoerce_float\u001b[0m\u001b[0;34m,\u001b[0m\u001b[0;34m\u001b[0m\u001b[0;34m\u001b[0m\u001b[0m\n\u001b[1;32m    331\u001b[0m         \u001b[0mparse_dates\u001b[0m\u001b[0;34m=\u001b[0m\u001b[0mparse_dates\u001b[0m\u001b[0;34m,\u001b[0m\u001b[0;34m\u001b[0m\u001b[0;34m\u001b[0m\u001b[0m\n\u001b[0;32m--> 332\u001b[0;31m         \u001b[0mchunksize\u001b[0m\u001b[0;34m=\u001b[0m\u001b[0mchunksize\u001b[0m\u001b[0;34m,\u001b[0m\u001b[0;34m\u001b[0m\u001b[0;34m\u001b[0m\u001b[0m\n\u001b[0m\u001b[1;32m    333\u001b[0m     )\n\u001b[1;32m    334\u001b[0m \u001b[0;34m\u001b[0m\u001b[0m\n",
      "\u001b[0;32m~/anaconda/envs/insight/lib/python3.6/site-packages/pandas/io/sql.py\u001b[0m in \u001b[0;36mread_query\u001b[0;34m(self, sql, index_col, coerce_float, params, parse_dates, chunksize)\u001b[0m\n\u001b[1;32m   1643\u001b[0m \u001b[0;34m\u001b[0m\u001b[0m\n\u001b[1;32m   1644\u001b[0m         \u001b[0margs\u001b[0m \u001b[0;34m=\u001b[0m \u001b[0m_convert_params\u001b[0m\u001b[0;34m(\u001b[0m\u001b[0msql\u001b[0m\u001b[0;34m,\u001b[0m \u001b[0mparams\u001b[0m\u001b[0;34m)\u001b[0m\u001b[0;34m\u001b[0m\u001b[0;34m\u001b[0m\u001b[0m\n\u001b[0;32m-> 1645\u001b[0;31m         \u001b[0mcursor\u001b[0m \u001b[0;34m=\u001b[0m \u001b[0mself\u001b[0m\u001b[0;34m.\u001b[0m\u001b[0mexecute\u001b[0m\u001b[0;34m(\u001b[0m\u001b[0;34m*\u001b[0m\u001b[0margs\u001b[0m\u001b[0;34m)\u001b[0m\u001b[0;34m\u001b[0m\u001b[0;34m\u001b[0m\u001b[0m\n\u001b[0m\u001b[1;32m   1646\u001b[0m         \u001b[0mcolumns\u001b[0m \u001b[0;34m=\u001b[0m \u001b[0;34m[\u001b[0m\u001b[0mcol_desc\u001b[0m\u001b[0;34m[\u001b[0m\u001b[0;36m0\u001b[0m\u001b[0;34m]\u001b[0m \u001b[0;32mfor\u001b[0m \u001b[0mcol_desc\u001b[0m \u001b[0;32min\u001b[0m \u001b[0mcursor\u001b[0m\u001b[0;34m.\u001b[0m\u001b[0mdescription\u001b[0m\u001b[0;34m]\u001b[0m\u001b[0;34m\u001b[0m\u001b[0;34m\u001b[0m\u001b[0m\n\u001b[1;32m   1647\u001b[0m \u001b[0;34m\u001b[0m\u001b[0m\n",
      "\u001b[0;32m~/anaconda/envs/insight/lib/python3.6/site-packages/pandas/io/sql.py\u001b[0m in \u001b[0;36mexecute\u001b[0;34m(self, *args, **kwargs)\u001b[0m\n\u001b[1;32m   1608\u001b[0m                 \u001b[0;34m\"Execution failed on sql '{sql}': {exc}\"\u001b[0m\u001b[0;34m.\u001b[0m\u001b[0mformat\u001b[0m\u001b[0;34m(\u001b[0m\u001b[0msql\u001b[0m\u001b[0;34m=\u001b[0m\u001b[0margs\u001b[0m\u001b[0;34m[\u001b[0m\u001b[0;36m0\u001b[0m\u001b[0;34m]\u001b[0m\u001b[0;34m,\u001b[0m \u001b[0mexc\u001b[0m\u001b[0;34m=\u001b[0m\u001b[0mexc\u001b[0m\u001b[0;34m)\u001b[0m\u001b[0;34m\u001b[0m\u001b[0;34m\u001b[0m\u001b[0m\n\u001b[1;32m   1609\u001b[0m             )\n\u001b[0;32m-> 1610\u001b[0;31m             \u001b[0mraise_with_traceback\u001b[0m\u001b[0;34m(\u001b[0m\u001b[0mex\u001b[0m\u001b[0;34m)\u001b[0m\u001b[0;34m\u001b[0m\u001b[0;34m\u001b[0m\u001b[0m\n\u001b[0m\u001b[1;32m   1611\u001b[0m \u001b[0;34m\u001b[0m\u001b[0m\n\u001b[1;32m   1612\u001b[0m     \u001b[0;34m@\u001b[0m\u001b[0mstaticmethod\u001b[0m\u001b[0;34m\u001b[0m\u001b[0;34m\u001b[0m\u001b[0m\n",
      "\u001b[0;32m~/anaconda/envs/insight/lib/python3.6/site-packages/pandas/compat/__init__.py\u001b[0m in \u001b[0;36mraise_with_traceback\u001b[0;34m(exc, traceback)\u001b[0m\n\u001b[1;32m     45\u001b[0m     \u001b[0;32mif\u001b[0m \u001b[0mtraceback\u001b[0m \u001b[0;34m==\u001b[0m \u001b[0mEllipsis\u001b[0m\u001b[0;34m:\u001b[0m\u001b[0;34m\u001b[0m\u001b[0;34m\u001b[0m\u001b[0m\n\u001b[1;32m     46\u001b[0m         \u001b[0m_\u001b[0m\u001b[0;34m,\u001b[0m \u001b[0m_\u001b[0m\u001b[0;34m,\u001b[0m \u001b[0mtraceback\u001b[0m \u001b[0;34m=\u001b[0m \u001b[0msys\u001b[0m\u001b[0;34m.\u001b[0m\u001b[0mexc_info\u001b[0m\u001b[0;34m(\u001b[0m\u001b[0;34m)\u001b[0m\u001b[0;34m\u001b[0m\u001b[0;34m\u001b[0m\u001b[0m\n\u001b[0;32m---> 47\u001b[0;31m     \u001b[0;32mraise\u001b[0m \u001b[0mexc\u001b[0m\u001b[0;34m.\u001b[0m\u001b[0mwith_traceback\u001b[0m\u001b[0;34m(\u001b[0m\u001b[0mtraceback\u001b[0m\u001b[0;34m)\u001b[0m\u001b[0;34m\u001b[0m\u001b[0;34m\u001b[0m\u001b[0m\n\u001b[0m\u001b[1;32m     48\u001b[0m \u001b[0;34m\u001b[0m\u001b[0m\n\u001b[1;32m     49\u001b[0m \u001b[0;34m\u001b[0m\u001b[0m\n",
      "\u001b[0;32m~/anaconda/envs/insight/lib/python3.6/site-packages/pandas/io/sql.py\u001b[0m in \u001b[0;36mexecute\u001b[0;34m(self, *args, **kwargs)\u001b[0m\n\u001b[1;32m   1593\u001b[0m                 \u001b[0mcur\u001b[0m\u001b[0;34m.\u001b[0m\u001b[0mexecute\u001b[0m\u001b[0;34m(\u001b[0m\u001b[0;34m*\u001b[0m\u001b[0margs\u001b[0m\u001b[0;34m,\u001b[0m \u001b[0;34m**\u001b[0m\u001b[0mkwargs\u001b[0m\u001b[0;34m)\u001b[0m\u001b[0;34m\u001b[0m\u001b[0;34m\u001b[0m\u001b[0m\n\u001b[1;32m   1594\u001b[0m             \u001b[0;32melse\u001b[0m\u001b[0;34m:\u001b[0m\u001b[0;34m\u001b[0m\u001b[0;34m\u001b[0m\u001b[0m\n\u001b[0;32m-> 1595\u001b[0;31m                 \u001b[0mcur\u001b[0m\u001b[0;34m.\u001b[0m\u001b[0mexecute\u001b[0m\u001b[0;34m(\u001b[0m\u001b[0;34m*\u001b[0m\u001b[0margs\u001b[0m\u001b[0;34m)\u001b[0m\u001b[0;34m\u001b[0m\u001b[0;34m\u001b[0m\u001b[0m\n\u001b[0m\u001b[1;32m   1596\u001b[0m             \u001b[0;32mreturn\u001b[0m \u001b[0mcur\u001b[0m\u001b[0;34m\u001b[0m\u001b[0;34m\u001b[0m\u001b[0m\n\u001b[1;32m   1597\u001b[0m         \u001b[0;32mexcept\u001b[0m \u001b[0mException\u001b[0m \u001b[0;32mas\u001b[0m \u001b[0mexc\u001b[0m\u001b[0;34m:\u001b[0m\u001b[0;34m\u001b[0m\u001b[0;34m\u001b[0m\u001b[0m\n",
      "\u001b[0;31mDatabaseError\u001b[0m: Execution failed on sql '\nSELECT \"Name\", \"WAR\", \"Season\" FROM pitching_stats\nWHERE \"Name\"='Masahiro Tanaka'\"\nAND \"Season\"=2019\n': syntax error at or near \"\"\nAND \"\"\nLINE 3: WHERE \"Name\"='Masahiro Tanaka'\"\n                                      ^\n"
     ]
    }
   ],
   "source": [
    "## Get Pitchers of average WAR (1.9-2) 2019\n",
    "\n",
    "sql_query = \"\"\"\n",
    "SELECT \"Name\", \"WAR\", \"Season\" FROM pitching_stats\n",
    "WHERE \"Name\"='Masahiro Tanaka'\"\n",
    "AND \"Season\"=2019\n",
    "\"\"\"\n",
    "\n",
    "df_query = pd.read_sql_query(sql_query,con)\n",
    "#print(df_query)\n",
    "df_query"
   ]
  },
  {
   "cell_type": "code",
   "execution_count": null,
   "metadata": {},
   "outputs": [],
   "source": []
  },
  {
   "cell_type": "code",
   "execution_count": 26,
   "metadata": {
    "ExecuteTime": {
     "end_time": "2020-02-12T20:43:21.479839Z",
     "start_time": "2020-02-12T20:43:21.458737Z"
    }
   },
   "outputs": [
    {
     "name": "stdout",
     "output_type": "stream",
     "text": [
      "             Name  WAR\n",
      "0  Hunter Renfroe  1.9\n",
      "1  Hunter Renfroe  1.6\n",
      "2  Hunter Renfroe  0.2\n"
     ]
    }
   ],
   "source": [
    "sql_query = \"\"\"\n",
    "SELECT \"Name\", \"WAR\" FROM batting_stats\n",
    "WHERE \"Name\" LIKE '%Renfroe'\n",
    "LIMIT 10\n",
    "\"\"\"\n",
    "\n",
    "df_query = pd.read_sql_query(sql_query,con)    \n",
    "print(df_query)\n"
   ]
  },
  {
   "cell_type": "code",
   "execution_count": 55,
   "metadata": {
    "ExecuteTime": {
     "end_time": "2020-02-12T20:55:31.743138Z",
     "start_time": "2020-02-12T20:55:31.726013Z"
    }
   },
   "outputs": [
    {
     "data": {
      "text/html": [
       "<div>\n",
       "<style scoped>\n",
       "    .dataframe tbody tr th:only-of-type {\n",
       "        vertical-align: middle;\n",
       "    }\n",
       "\n",
       "    .dataframe tbody tr th {\n",
       "        vertical-align: top;\n",
       "    }\n",
       "\n",
       "    .dataframe thead th {\n",
       "        text-align: right;\n",
       "    }\n",
       "</style>\n",
       "<table border=\"1\" class=\"dataframe\">\n",
       "  <thead>\n",
       "    <tr style=\"text-align: right;\">\n",
       "      <th></th>\n",
       "      <th>Name</th>\n",
       "      <th>WAR</th>\n",
       "      <th>Season</th>\n",
       "    </tr>\n",
       "  </thead>\n",
       "  <tbody>\n",
       "    <tr>\n",
       "      <th>0</th>\n",
       "      <td>Domingo German</td>\n",
       "      <td>2.0</td>\n",
       "      <td>2019.0</td>\n",
       "    </tr>\n",
       "    <tr>\n",
       "      <th>1</th>\n",
       "      <td>Wade Miley</td>\n",
       "      <td>2.0</td>\n",
       "      <td>2019.0</td>\n",
       "    </tr>\n",
       "    <tr>\n",
       "      <th>2</th>\n",
       "      <td>Brett Anderson</td>\n",
       "      <td>2.0</td>\n",
       "      <td>2019.0</td>\n",
       "    </tr>\n",
       "    <tr>\n",
       "      <th>3</th>\n",
       "      <td>Merrill Kelly</td>\n",
       "      <td>2.0</td>\n",
       "      <td>2019.0</td>\n",
       "    </tr>\n",
       "    <tr>\n",
       "      <th>4</th>\n",
       "      <td>Ivan Nova</td>\n",
       "      <td>2.0</td>\n",
       "      <td>2019.0</td>\n",
       "    </tr>\n",
       "    <tr>\n",
       "      <th>5</th>\n",
       "      <td>Tanner Roark</td>\n",
       "      <td>2.0</td>\n",
       "      <td>2019.0</td>\n",
       "    </tr>\n",
       "    <tr>\n",
       "      <th>6</th>\n",
       "      <td>Aroldis Chapman</td>\n",
       "      <td>2.0</td>\n",
       "      <td>2019.0</td>\n",
       "    </tr>\n",
       "    <tr>\n",
       "      <th>7</th>\n",
       "      <td>Martin Perez</td>\n",
       "      <td>1.9</td>\n",
       "      <td>2019.0</td>\n",
       "    </tr>\n",
       "    <tr>\n",
       "      <th>8</th>\n",
       "      <td>Trent Thornton</td>\n",
       "      <td>1.9</td>\n",
       "      <td>2019.0</td>\n",
       "    </tr>\n",
       "    <tr>\n",
       "      <th>9</th>\n",
       "      <td>Daniel Norris</td>\n",
       "      <td>1.9</td>\n",
       "      <td>2019.0</td>\n",
       "    </tr>\n",
       "  </tbody>\n",
       "</table>\n",
       "</div>"
      ],
      "text/plain": [
       "              Name  WAR  Season\n",
       "0   Domingo German  2.0  2019.0\n",
       "1       Wade Miley  2.0  2019.0\n",
       "2   Brett Anderson  2.0  2019.0\n",
       "3    Merrill Kelly  2.0  2019.0\n",
       "4        Ivan Nova  2.0  2019.0\n",
       "5     Tanner Roark  2.0  2019.0\n",
       "6  Aroldis Chapman  2.0  2019.0\n",
       "7     Martin Perez  1.9  2019.0\n",
       "8   Trent Thornton  1.9  2019.0\n",
       "9    Daniel Norris  1.9  2019.0"
      ]
     },
     "execution_count": 55,
     "metadata": {},
     "output_type": "execute_result"
    }
   ],
   "source": [
    "## Get Pitchers of average WAR (1.9-2) 2019\n",
    "\n",
    "sql_query = \"\"\"\n",
    "SELECT \"Name\", \"WAR\", \"Season\" FROM pitching_stats\n",
    "WHERE \"WAR\" BETWEEN 1.9 AND 2\n",
    "AND \"Season\"=2019\n",
    "\"\"\"\n",
    "\n",
    "df_query = pd.read_sql_query(sql_query,con)\n",
    "#print(df_query)\n",
    "df_query\n",
    "\n"
   ]
  },
  {
   "cell_type": "code",
   "execution_count": null,
   "metadata": {},
   "outputs": [],
   "source": [
    "sql_query = \"\"\"\n",
    "SELECT \"game_date\", \"batter\", \"events\" FROM statcast\n",
    "WHERE \"batter\"= \n",
    "\"\"\" + str(batter_id) + \"\"\"\n",
    "AND \"game_date\" BETWEEN '2019-03-28' AND '2019-04-30'\n",
    "AND \"events\" IS NOT NULL\n",
    "\"\"\"\n",
    "\n",
    "df_query = pd.read_sql_query(sql_query,con)\n",
    "    \n",
    "print(df_query)\n"
   ]
  },
  {
   "cell_type": "code",
   "execution_count": null,
   "metadata": {},
   "outputs": [],
   "source": []
  },
  {
   "cell_type": "code",
   "execution_count": null,
   "metadata": {},
   "outputs": [],
   "source": []
  },
  {
   "cell_type": "code",
   "execution_count": null,
   "metadata": {},
   "outputs": [],
   "source": []
  },
  {
   "cell_type": "code",
   "execution_count": null,
   "metadata": {},
   "outputs": [],
   "source": []
  }
 ],
 "metadata": {
  "kernelspec": {
   "display_name": "Python 3",
   "language": "python",
   "name": "python3"
  },
  "language_info": {
   "codemirror_mode": {
    "name": "ipython",
    "version": 3
   },
   "file_extension": ".py",
   "mimetype": "text/x-python",
   "name": "python",
   "nbconvert_exporter": "python",
   "pygments_lexer": "ipython3",
   "version": "3.6.9"
  },
  "toc": {
   "base_numbering": 1,
   "nav_menu": {},
   "number_sections": true,
   "sideBar": true,
   "skip_h1_title": false,
   "title_cell": "Table of Contents",
   "title_sidebar": "Contents",
   "toc_cell": false,
   "toc_position": {},
   "toc_section_display": true,
   "toc_window_display": false
  },
  "varInspector": {
   "cols": {
    "lenName": 16,
    "lenType": 16,
    "lenVar": 40
   },
   "kernels_config": {
    "python": {
     "delete_cmd_postfix": "",
     "delete_cmd_prefix": "del ",
     "library": "var_list.py",
     "varRefreshCmd": "print(var_dic_list())"
    },
    "r": {
     "delete_cmd_postfix": ") ",
     "delete_cmd_prefix": "rm(",
     "library": "var_list.r",
     "varRefreshCmd": "cat(var_dic_list()) "
    }
   },
   "types_to_exclude": [
    "module",
    "function",
    "builtin_function_or_method",
    "instance",
    "_Feature"
   ],
   "window_display": false
  }
 },
 "nbformat": 4,
 "nbformat_minor": 2
}
