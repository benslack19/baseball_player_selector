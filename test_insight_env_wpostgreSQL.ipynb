{
 "cells": [
  {
   "cell_type": "markdown",
   "metadata": {},
   "source": [
    "Per insight dev setup guidelines, I created this virtual environment.\n",
    "\n",
    "`conda create --name insight python=3.6 numpy scipy pandas matplotlib flask scikit-learn seaborn sqlalchemy psycopg2 jupyter`\n",
    "\n",
    "`source activate insight`\n",
    "\n",
    "add multithreading\n",
    "\n",
    "Then:\n",
    "<br>\n",
    "`pip install multiprocess sqlalchemy_utils jupyter_contrib_nbextensions`\n",
    "\n",
    "Note that I had to this a few times as I realized what packages I needed. I deleted the environment (first inactivating) and started over if necessary.\n",
    "\n",
    "`source activate`   # goes back to base env\n",
    "<br>\n",
    "`conda remove --name insight --all`\n",
    "\n",
    "Check environment that Python is being executed within this notebook by looking in [top-right corner](\n",
    "https://stackoverflow.com/questions/37085665/in-which-conda-environment-is-jupyter-executing)\n",
    "\n",
    "\n",
    "Learned about additional useful tricks here from Jonathan Whitmore's talk here:\n",
    "https://github.com/jbwhit/jupyter-tips-and-tricks\n",
    "\n",
    "I also learned about black and Jupyter black to handle code formatting and readability.\n",
    "It formats when the cell gets executed.\n",
    "\n",
    "https://black.readthedocs.io/en/stable/\n",
    "https://pypi.org/project/nb-black/\n"
   ]
  },
  {
   "cell_type": "markdown",
   "metadata": {},
   "source": [
    "For postgresSQLsetup, I removed my previous installation of postgresSQL/pgadmin following [this link](https://nektony.com/how-to/uninstall-postgresql-on-mac).\n",
    "\n",
    "I re-installed following the Insight guidelines in the notebook \"DS_sql_setup_part_3.ipynb\"\n"
   ]
  },
  {
   "cell_type": "code",
   "execution_count": 1,
   "metadata": {
    "ExecuteTime": {
     "end_time": "2020-01-19T16:34:12.139765Z",
     "start_time": "2020-01-19T16:34:00.047328Z"
    }
   },
   "outputs": [],
   "source": [
    "import os\n",
    "import numpy as np\n",
    "import pandas as pd\n",
    "import matplotlib\n",
    "import matplotlib.pyplot as plt\n",
    "import seaborn as sns\n",
    "import sklearn\n",
    "\n",
    "from termcolor import colored\n",
    "\n",
    "# Web/database stuff\n",
    "import urllib.request\n",
    "import xml.etree.ElementTree as ET\n",
    "from bs4 import BeautifulSoup\n",
    "import sqlalchemy\n",
    "import sqlalchemy_utils\n",
    "from sqlalchemy import create_engine\n",
    "from sqlalchemy_utils import database_exists, create_database\n",
    "import psycopg2\n",
    "\n",
    "# Multiprocessing/threading\n",
    "import multiprocess\n",
    "import threading   # included in base"
   ]
  },
  {
   "cell_type": "code",
   "execution_count": 1,
   "metadata": {
    "ExecuteTime": {
     "end_time": "2020-01-23T14:03:48.360977Z",
     "start_time": "2020-01-23T14:03:48.357088Z"
    }
   },
   "outputs": [],
   "source": [
    "# Need yapf for code prettify\n",
    "import json\n",
    "# import yapf.yapflib.yapf_api"
   ]
  },
  {
   "cell_type": "code",
   "execution_count": 4,
   "metadata": {
    "ExecuteTime": {
     "end_time": "2020-01-23T14:06:57.113220Z",
     "start_time": "2020-01-23T14:06:56.933676Z"
    }
   },
   "outputs": [
    {
     "data": {
      "application/javascript": [
       "\n",
       "            setTimeout(function() {\n",
       "                var nbb_cell_id = 4;\n",
       "                var nbb_unformatted_code = \"%load_ext nb_black\";\n",
       "                var nbb_formatted_code = \"%load_ext nb_black\";\n",
       "                var nbb_cells = Jupyter.notebook.get_cells();\n",
       "                for (var i = 0; i < nbb_cells.length; ++i) {\n",
       "                    if (nbb_cells[i].input_prompt_number == nbb_cell_id) {\n",
       "                        if (nbb_cells[i].get_text() == nbb_unformatted_code) {\n",
       "                             nbb_cells[i].set_text(nbb_formatted_code);\n",
       "                        }\n",
       "                        break;\n",
       "                    }\n",
       "                }\n",
       "            }, 500);\n",
       "            "
      ],
      "text/plain": [
       "<IPython.core.display.Javascript object>"
      ]
     },
     "metadata": {},
     "output_type": "display_data"
    }
   ],
   "source": [
    "# To use jupyter black\n",
    "%load_ext nb_black"
   ]
  },
  {
   "cell_type": "code",
   "execution_count": 3,
   "metadata": {
    "code_folding": []
   },
   "outputs": [
    {
     "name": "stdout",
     "output_type": "stream",
     "text": [
      "numpy:  1.17.4\n",
      "pandas:  0.25.3\n",
      "matplotlib:  3.1.1\n",
      "seaborn:  0.9.0\n",
      "sklearn:  0.22\n",
      "psyopg2:  2.8.4 (dt dec pq3 ext lo64)\n",
      "sqlalchemy:  1.3.11\n",
      "sqlalchemy_utils:  0.36.1\n",
      "multiprocess:  0.70.9\n"
     ]
    }
   ],
   "source": [
    "# Check versioning\n",
    "\n",
    "print('numpy: ', np.__version__)\n",
    "print('pandas: ', pd.__version__)\n",
    "print('matplotlib: ', matplotlib.__version__)\n",
    "print('seaborn: ', sns.__version__)\n",
    "print('sklearn: ', sklearn.__version__)\n",
    "\n",
    "print('psyopg2: ', psycopg2.__version__)\n",
    "print('sqlalchemy: ', sqlalchemy.__version__)\n",
    "print('sqlalchemy_utils: ', sqlalchemy_utils.__version__)\n",
    "print('multiprocess: ', multiprocess.__version__)"
   ]
  },
  {
   "cell_type": "markdown",
   "metadata": {},
   "source": [
    "# Testing multithreading and multiprocessing\n",
    "\n",
    "Saw this [nice post](https://vsoch.github.io/2017/multiprocess/)"
   ]
  },
  {
   "cell_type": "code",
   "execution_count": null,
   "metadata": {},
   "outputs": [],
   "source": []
  },
  {
   "cell_type": "markdown",
   "metadata": {},
   "source": [
    "## Test on pybaseball scraping"
   ]
  },
  {
   "cell_type": "code",
   "execution_count": 6,
   "metadata": {
    "ExecuteTime": {
     "end_time": "2020-01-03T16:08:23.542448Z",
     "start_time": "2020-01-03T16:08:23.427418Z"
    }
   },
   "outputs": [],
   "source": [
    "from pybaseball import pitching_stats\n",
    "from pybaseball import statcast_pitcher\n",
    "from pybaseball import playerid_lookup\n",
    "from pybaseball import statcast"
   ]
  },
  {
   "cell_type": "code",
   "execution_count": 8,
   "metadata": {
    "ExecuteTime": {
     "end_time": "2020-01-23T14:10:45.106556Z",
     "start_time": "2020-01-23T14:10:45.080052Z"
    }
   },
   "outputs": [
    {
     "data": {
      "application/javascript": [
       "\n",
       "            setTimeout(function() {\n",
       "                var nbb_cell_id = 8;\n",
       "                var nbb_unformatted_code = \"# Pitch result designation dictionary\\n# A similar question and approach here https://www.reddit.com/r/Sabermetrics/comments/e130el/how_to_calculate_whiff_rate/\\n# Note that bunts are included\\ncontact_desc = [\\n    \\\"pitchout_hit_into_play_score\\\",\\n    \\\"hit_into_play_score\\\",\\n    \\\"hit_into_play\\\",\\n    \\\"hit_by_pitch\\\",\\n    \\\"hit_into_play_no_out\\\",\\n    \\\"pitchout_hit_into_play_no_out\\\",\\n    \\\"pitchout_hit_into_play\\\",\\n]\\nfoul_desc = [\\\"foul_pitchout\\\", \\\"foul_bunt\\\", \\\"bunt_foul_tip\\\", \\\"foul\\\", \\\"foul_tip\\\"]\\ntakeball_desc = [\\\"intent_ball\\\", \\\"blocked_ball\\\", \\\"pitchout\\\", \\\"ball\\\"]\\ntakestrike_desc = [\\\"called_strike\\\"]\\nunknownstrike_desc = [\\\"unknown_strike\\\"]\\nwhiff_desc = [ \\\"swinging_strike_blocked\\\", \\\"swinging_strike\\\", \\\"missed_bunt\\\",  \\\"swinging_strike\\\"]\\n\\ndesc_dict = {\\n    \\\"contact\\\": contact_desc,\\n    \\\"foul\\\": foul_desc,\\n    \\\"take_ball\\\": takeball_desc,\\n    \\\"take_strike\\\": takestrike_desc,\\n    \\\"unknown_strike\\\": unknownstrike_desc,\\n    \\\"whiff\\\": whiff_desc,\\n}\\n\\nbat_stand_list = [\\\"L\\\", \\\"R\\\"]\\nzone_list = list(range(1, 13))\\nsw_types = list(desc_dict.keys())\";\n",
       "                var nbb_formatted_code = \"# Pitch result designation dictionary\\n# A similar question and approach here https://www.reddit.com/r/Sabermetrics/comments/e130el/how_to_calculate_whiff_rate/\\n# Note that bunts are included\\ncontact_desc = [\\n    \\\"pitchout_hit_into_play_score\\\",\\n    \\\"hit_into_play_score\\\",\\n    \\\"hit_into_play\\\",\\n    \\\"hit_by_pitch\\\",\\n    \\\"hit_into_play_no_out\\\",\\n    \\\"pitchout_hit_into_play_no_out\\\",\\n    \\\"pitchout_hit_into_play\\\",\\n]\\nfoul_desc = [\\\"foul_pitchout\\\", \\\"foul_bunt\\\", \\\"bunt_foul_tip\\\", \\\"foul\\\", \\\"foul_tip\\\"]\\ntakeball_desc = [\\\"intent_ball\\\", \\\"blocked_ball\\\", \\\"pitchout\\\", \\\"ball\\\"]\\ntakestrike_desc = [\\\"called_strike\\\"]\\nunknownstrike_desc = [\\\"unknown_strike\\\"]\\nwhiff_desc = [\\n    \\\"swinging_strike_blocked\\\",\\n    \\\"swinging_strike\\\",\\n    \\\"missed_bunt\\\",\\n    \\\"swinging_strike\\\",\\n]\\n\\ndesc_dict = {\\n    \\\"contact\\\": contact_desc,\\n    \\\"foul\\\": foul_desc,\\n    \\\"take_ball\\\": takeball_desc,\\n    \\\"take_strike\\\": takestrike_desc,\\n    \\\"unknown_strike\\\": unknownstrike_desc,\\n    \\\"whiff\\\": whiff_desc,\\n}\\n\\nbat_stand_list = [\\\"L\\\", \\\"R\\\"]\\nzone_list = list(range(1, 13))\\nsw_types = list(desc_dict.keys())\";\n",
       "                var nbb_cells = Jupyter.notebook.get_cells();\n",
       "                for (var i = 0; i < nbb_cells.length; ++i) {\n",
       "                    if (nbb_cells[i].input_prompt_number == nbb_cell_id) {\n",
       "                        if (nbb_cells[i].get_text() == nbb_unformatted_code) {\n",
       "                             nbb_cells[i].set_text(nbb_formatted_code);\n",
       "                        }\n",
       "                        break;\n",
       "                    }\n",
       "                }\n",
       "            }, 500);\n",
       "            "
      ],
      "text/plain": [
       "<IPython.core.display.Javascript object>"
      ]
     },
     "metadata": {},
     "output_type": "display_data"
    }
   ],
   "source": [
    "# Pitch result designation dictionary\n",
    "# A similar question and approach here https://www.reddit.com/r/Sabermetrics/comments/e130el/how_to_calculate_whiff_rate/\n",
    "# Note that bunts are included\n",
    "contact_desc = [\n",
    "    \"pitchout_hit_into_play_score\",\n",
    "    \"hit_into_play_score\",\n",
    "    \"hit_into_play\",\n",
    "    \"hit_by_pitch\",\n",
    "    \"hit_into_play_no_out\",\n",
    "    \"pitchout_hit_into_play_no_out\",\n",
    "    \"pitchout_hit_into_play\",\n",
    "]\n",
    "foul_desc = [\"foul_pitchout\", \"foul_bunt\", \"bunt_foul_tip\", \"foul\", \"foul_tip\"]\n",
    "takeball_desc = [\"intent_ball\", \"blocked_ball\", \"pitchout\", \"ball\"]\n",
    "takestrike_desc = [\"called_strike\"]\n",
    "unknownstrike_desc = [\"unknown_strike\"]\n",
    "whiff_desc = [\n",
    "    \"swinging_strike_blocked\",\n",
    "    \"swinging_strike\",\n",
    "    \"missed_bunt\",\n",
    "    \"swinging_strike\",\n",
    "]\n",
    "\n",
    "desc_dict = {\n",
    "    \"contact\": contact_desc,\n",
    "    \"foul\": foul_desc,\n",
    "    \"take_ball\": takeball_desc,\n",
    "    \"take_strike\": takestrike_desc,\n",
    "    \"unknown_strike\": unknownstrike_desc,\n",
    "    \"whiff\": whiff_desc,\n",
    "}\n",
    "\n",
    "bat_stand_list = [\"L\", \"R\"]\n",
    "zone_list = list(range(1, 13))\n",
    "sw_types = list(desc_dict.keys())"
   ]
  },
  {
   "cell_type": "code",
   "execution_count": 9,
   "metadata": {
    "ExecuteTime": {
     "end_time": "2020-01-23T14:11:07.178326Z",
     "start_time": "2020-01-23T14:11:07.146124Z"
    },
    "code_folding": []
   },
   "outputs": [
    {
     "data": {
      "application/javascript": [
       "\n",
       "            setTimeout(function() {\n",
       "                var nbb_cell_id = 9;\n",
       "                var nbb_unformatted_code = \"def get_pitcher_pb_sc_data(pitcher):\\n    print(colored(pitcher, 'blue'))\\n    pitcher_for_lookup = pitcher.split()\\n    \\n    # Account for Chi Chi Gonzales since I'm splitting by space\\n    if len(pitcher_for_lookup) > 2:\\n        p_id = playerid_lookup(pitcher_for_lookup[2], pitcher_for_lookup[0] + ' ' + pitcher_for_lookup[1])\\n    else:\\n        p_id = playerid_lookup(pitcher_for_lookup[1], pitcher_for_lookup[0])\\n    \\n    # Account for common names\\n    if p_id.shape[0] > 1:\\n        p_id = p_id[p_id['mlb_played_last'] > 2008]\\n    df_pitcher_sc = statcast_pitcher('2019-03-28', '2019-09-29', player_id = int(p_id['key_mlbam']))\\n    \\n    # Swing designation info\\n    df_pitcher_sc['sw_type'] = None\\n    for key, value in desc_dict.items():\\n        df_pitcher_sc.loc[df_pitcher_sc['description'].isin(value), 'sw_type'] = key\\n    df_pitcher_sc['sw_true'] = 0\\n    df_pitcher_sc.loc[df_pitcher_sc['sw_type'].isin(['whiff', 'contact', 'foul']), 'sw_true'] = 1\\n    \\n    return p_id, df_pitcher_sc\";\n",
       "                var nbb_formatted_code = \"def get_pitcher_pb_sc_data(pitcher):\\n    print(colored(pitcher, \\\"blue\\\"))\\n    pitcher_for_lookup = pitcher.split()\\n\\n    # Account for Chi Chi Gonzales since I'm splitting by space\\n    if len(pitcher_for_lookup) > 2:\\n        p_id = playerid_lookup(\\n            pitcher_for_lookup[2], pitcher_for_lookup[0] + \\\" \\\" + pitcher_for_lookup[1]\\n        )\\n    else:\\n        p_id = playerid_lookup(pitcher_for_lookup[1], pitcher_for_lookup[0])\\n\\n    # Account for common names\\n    if p_id.shape[0] > 1:\\n        p_id = p_id[p_id[\\\"mlb_played_last\\\"] > 2008]\\n    df_pitcher_sc = statcast_pitcher(\\n        \\\"2019-03-28\\\", \\\"2019-09-29\\\", player_id=int(p_id[\\\"key_mlbam\\\"])\\n    )\\n\\n    # Swing designation info\\n    df_pitcher_sc[\\\"sw_type\\\"] = None\\n    for key, value in desc_dict.items():\\n        df_pitcher_sc.loc[df_pitcher_sc[\\\"description\\\"].isin(value), \\\"sw_type\\\"] = key\\n    df_pitcher_sc[\\\"sw_true\\\"] = 0\\n    df_pitcher_sc.loc[\\n        df_pitcher_sc[\\\"sw_type\\\"].isin([\\\"whiff\\\", \\\"contact\\\", \\\"foul\\\"]), \\\"sw_true\\\"\\n    ] = 1\\n\\n    return p_id, df_pitcher_sc\";\n",
       "                var nbb_cells = Jupyter.notebook.get_cells();\n",
       "                for (var i = 0; i < nbb_cells.length; ++i) {\n",
       "                    if (nbb_cells[i].input_prompt_number == nbb_cell_id) {\n",
       "                        if (nbb_cells[i].get_text() == nbb_unformatted_code) {\n",
       "                             nbb_cells[i].set_text(nbb_formatted_code);\n",
       "                        }\n",
       "                        break;\n",
       "                    }\n",
       "                }\n",
       "            }, 500);\n",
       "            "
      ],
      "text/plain": [
       "<IPython.core.display.Javascript object>"
      ]
     },
     "metadata": {},
     "output_type": "display_data"
    }
   ],
   "source": [
    "def get_pitcher_pb_sc_data(pitcher):\n",
    "    print(colored(pitcher, \"blue\"))\n",
    "    pitcher_for_lookup = pitcher.split()\n",
    "\n",
    "    # Account for Chi Chi Gonzales since I'm splitting by space\n",
    "    if len(pitcher_for_lookup) > 2:\n",
    "        p_id = playerid_lookup(\n",
    "            pitcher_for_lookup[2], pitcher_for_lookup[0] + \" \" + pitcher_for_lookup[1]\n",
    "        )\n",
    "    else:\n",
    "        p_id = playerid_lookup(pitcher_for_lookup[1], pitcher_for_lookup[0])\n",
    "\n",
    "    # Account for common names\n",
    "    if p_id.shape[0] > 1:\n",
    "        p_id = p_id[p_id[\"mlb_played_last\"] > 2008]\n",
    "    df_pitcher_sc = statcast_pitcher(\n",
    "        \"2019-03-28\", \"2019-09-29\", player_id=int(p_id[\"key_mlbam\"])\n",
    "    )\n",
    "\n",
    "    # Swing designation info\n",
    "    df_pitcher_sc[\"sw_type\"] = None\n",
    "    for key, value in desc_dict.items():\n",
    "        df_pitcher_sc.loc[df_pitcher_sc[\"description\"].isin(value), \"sw_type\"] = key\n",
    "    df_pitcher_sc[\"sw_true\"] = 0\n",
    "    df_pitcher_sc.loc[\n",
    "        df_pitcher_sc[\"sw_type\"].isin([\"whiff\", \"contact\", \"foul\"]), \"sw_true\"\n",
    "    ] = 1\n",
    "\n",
    "    return p_id, df_pitcher_sc"
   ]
  },
  {
   "cell_type": "code",
   "execution_count": 16,
   "metadata": {
    "ExecuteTime": {
     "end_time": "2020-01-05T06:01:26.342369Z",
     "start_time": "2020-01-05T06:01:26.333403Z"
    },
    "code_folding": [
     0
    ]
   },
   "outputs": [],
   "source": [
    "def get_pitcher_pb_sc_data_only(pitcher):\n",
    "    pitcher_for_lookup = pitcher.split()\n",
    "    \n",
    "    # Account for Chi Chi Gonzales since I'm splitting by space\n",
    "    if len(pitcher_for_lookup) > 2:\n",
    "        p_id = playerid_lookup(pitcher_for_lookup[2], pitcher_for_lookup[0] + ' ' + pitcher_for_lookup[1])\n",
    "    else:\n",
    "        p_id = playerid_lookup(pitcher_for_lookup[1], pitcher_for_lookup[0])\n",
    "    \n",
    "    # Account for common names\n",
    "    if p_id.shape[0] > 1:\n",
    "        p_id = p_id[p_id['mlb_played_last'] > 2008]\n",
    "    df_pitcher_sc = statcast_pitcher('2019-03-28', '2019-09-29', player_id = int(p_id['key_mlbam']))\n",
    "    \n",
    "\n",
    "    # Swing designation info\n",
    "    df_pitcher_sc['sw_type'] = None\n",
    "    for key, value in desc_dict.items():\n",
    "        df_pitcher_sc.loc[df_pitcher_sc['description'].isin(value), 'sw_type'] = key\n",
    "    df_pitcher_sc['sw_true'] = 0\n",
    "    df_pitcher_sc.loc[df_pitcher_sc['sw_type'].isin(['whiff', 'contact', 'foul']), 'sw_true'] = 1\n",
    "    \n",
    "    return df_pitcher_sc"
   ]
  },
  {
   "cell_type": "code",
   "execution_count": 17,
   "metadata": {
    "ExecuteTime": {
     "end_time": "2020-01-05T06:01:49.284490Z",
     "start_time": "2020-01-05T06:01:34.503034Z"
    }
   },
   "outputs": [
    {
     "name": "stdout",
     "output_type": "stream",
     "text": [
      "Gathering player lookup table. This may take a moment.\n",
      "Gathering Player Data\n"
     ]
    }
   ],
   "source": [
    "# Example\n",
    "pitcher = 'Gerrit Cole'\n",
    "df_pitcher_sc_cole = get_pitcher_pb_sc_data_only(pitcher)"
   ]
  },
  {
   "cell_type": "code",
   "execution_count": 13,
   "metadata": {
    "ExecuteTime": {
     "end_time": "2020-01-05T05:49:20.134022Z",
     "start_time": "2020-01-05T05:49:20.050578Z"
    }
   },
   "outputs": [],
   "source": [
    "pitcher_list = ['Gerrit Cole', 'Justin Verlander', 'Caleb Smith', 'Chris Paddack']"
   ]
  },
  {
   "cell_type": "code",
   "execution_count": 57,
   "metadata": {
    "ExecuteTime": {
     "end_time": "2020-01-05T06:17:18.318642Z",
     "start_time": "2020-01-05T06:17:18.314637Z"
    }
   },
   "outputs": [],
   "source": [
    "pitcher_list_werror = ['Gerrit Cole', 'Justin Verlander', 'Caleb Smith', 'Ben Lacar']"
   ]
  },
  {
   "cell_type": "code",
   "execution_count": 47,
   "metadata": {
    "ExecuteTime": {
     "end_time": "2020-01-05T06:12:56.854895Z",
     "start_time": "2020-01-05T06:12:47.968298Z"
    }
   },
   "outputs": [
    {
     "name": "stdout",
     "output_type": "stream",
     "text": [
      "Gerrit Cole\n",
      "\u001b[34mGerrit Cole\u001b[0m\n",
      "Gathering player lookup table. This may take a moment.\n",
      "Gathering Player Data\n",
      "Justin Verlander\n",
      "\u001b[34mJustin Verlander\u001b[0m\n",
      "Gathering player lookup table. This may take a moment.\n",
      "Gathering Player Data\n"
     ]
    }
   ],
   "source": [
    "# Done serially (two pitchers), takes 21.4 s\n",
    "for pitcher in pitcher_list[0:2]:\n",
    "    print(pitcher)\n",
    "    df_pitcher_sc = get_pitcher_pb_sc_data(pitcher)\n",
    "    "
   ]
  },
  {
   "cell_type": "markdown",
   "metadata": {},
   "source": [
    "## Try getting data using API in parallel\n",
    "\n",
    "https://stackoverflow.com/questions/16982569/making-multiple-api-calls-in-parallel-using-python-ipython\n",
    "\n"
   ]
  },
  {
   "cell_type": "code",
   "execution_count": 61,
   "metadata": {
    "ExecuteTime": {
     "end_time": "2020-01-05T06:24:25.449804Z",
     "start_time": "2020-01-05T06:24:25.445438Z"
    },
    "code_folding": []
   },
   "outputs": [],
   "source": [
    "def get_pitcher_pb_sc_data_range(pitcher_range, store=None):\n",
    "    \"\"\"process a number of ids, storing the results in a dict\"\"\"\n",
    "    if store is None:\n",
    "        store = {}\n",
    "    for pitcher in pitcher_range:\n",
    "        # Easy way to skip if there's an error\n",
    "        try:\n",
    "            store[pitcher] = get_pitcher_pb_sc_data(pitcher)\n",
    "        except:\n",
    "            continue\n",
    "    return store"
   ]
  },
  {
   "cell_type": "code",
   "execution_count": 49,
   "metadata": {
    "ExecuteTime": {
     "end_time": "2020-01-05T06:13:11.939485Z",
     "start_time": "2020-01-05T06:13:11.935616Z"
    }
   },
   "outputs": [],
   "source": [
    "from threading import Thread"
   ]
  },
  {
   "cell_type": "code",
   "execution_count": 28,
   "metadata": {
    "ExecuteTime": {
     "end_time": "2020-01-05T06:08:29.953710Z",
     "start_time": "2020-01-05T06:08:29.949983Z"
    },
    "code_folding": [
     0
    ]
   },
   "outputs": [],
   "source": [
    "# def threaded_process_range(nthreads, id_range):\n",
    "#     \"\"\"process the id range in a specified number of threads\"\"\"\n",
    "#     store = {}\n",
    "#     threads = []\n",
    "#     # create the threads\n",
    "#     for i in range(nthreads):\n",
    "#         ids = id_range[i::nthreads]\n",
    "#         t = Thread(target=process_range, args=(ids,store))\n",
    "#         threads.append(t)\n",
    "\n",
    "#     # start the threads\n",
    "#     [ t.start() for t in threads ]\n",
    "#     # wait for the threads to finish\n",
    "#     [ t.join() for t in threads ]\n",
    "#     return store"
   ]
  },
  {
   "cell_type": "code",
   "execution_count": 62,
   "metadata": {
    "ExecuteTime": {
     "end_time": "2020-01-05T06:24:28.639338Z",
     "start_time": "2020-01-05T06:24:28.633195Z"
    },
    "code_folding": [
     0
    ]
   },
   "outputs": [],
   "source": [
    "def threaded_process_range(nthreads, pitcher_list):\n",
    "    \"\"\"process the pitcher list in a specified number of threads\"\"\"\n",
    "    store = {}\n",
    "    threads = []\n",
    "    # create the threads\n",
    "    for i in range(nthreads):\n",
    "        ids = pitcher_list[i::nthreads]\n",
    "        t = Thread(target=get_pitcher_pb_sc_data_range, args=(ids,store))\n",
    "        threads.append(t)\n",
    "\n",
    "    # start the threads\n",
    "    [ t.start() for t in threads ]\n",
    "    # wait for the threads to finish\n",
    "    [ t.join() for t in threads ]\n",
    "    return store"
   ]
  },
  {
   "cell_type": "code",
   "execution_count": 53,
   "metadata": {
    "ExecuteTime": {
     "end_time": "2020-01-05T06:14:16.720853Z",
     "start_time": "2020-01-05T06:13:56.785278Z"
    }
   },
   "outputs": [
    {
     "name": "stdout",
     "output_type": "stream",
     "text": [
      "\u001b[34mGerrit Cole\u001b[0m\n",
      "\u001b[34mJustin Verlander\u001b[0mGathering player lookup table. This may take a moment.\n",
      "\n",
      "\u001b[34mCaleb Smith\u001b[0mGathering player lookup table. This may take a moment.\n",
      "\n",
      "Gathering player lookup table. This may take a moment.\n",
      "\u001b[34mChris Paddack\u001b[0m\n",
      "Gathering player lookup table. This may take a moment.\n",
      "Gathering Player Data\n",
      "Gathering Player Data\n",
      "Gathering Player Data\n",
      "Gathering Player Data\n"
     ]
    }
   ],
   "source": [
    "my_store = threaded_process_range(4, pitcher_list)"
   ]
  },
  {
   "cell_type": "code",
   "execution_count": 63,
   "metadata": {
    "ExecuteTime": {
     "end_time": "2020-01-05T06:24:59.001163Z",
     "start_time": "2020-01-05T06:24:31.681661Z"
    }
   },
   "outputs": [
    {
     "name": "stdout",
     "output_type": "stream",
     "text": [
      "\u001b[34mGerrit Cole\u001b[0m\n",
      "Gathering player lookup table. This may take a moment.\n",
      "\u001b[34mJustin Verlander\u001b[0m\n",
      "Gathering player lookup table. This may take a moment.\u001b[34mCaleb Smith\u001b[0m\n",
      "\n",
      "Gathering player lookup table. This may take a moment.\n",
      "\u001b[34mBen Lacar\u001b[0m\n",
      "Gathering player lookup table. This may take a moment.\n",
      "Gathering Player Data\n",
      "Gathering Player Data\n",
      "Gathering Player Data\n"
     ]
    }
   ],
   "source": [
    "my_store = threaded_process_range(4, pitcher_list_werror)"
   ]
  },
  {
   "cell_type": "code",
   "execution_count": 64,
   "metadata": {
    "ExecuteTime": {
     "end_time": "2020-01-05T06:25:02.327728Z",
     "start_time": "2020-01-05T06:25:02.321879Z"
    }
   },
   "outputs": [
    {
     "data": {
      "text/plain": [
       "dict_keys(['Gerrit Cole', 'Justin Verlander', 'Caleb Smith'])"
      ]
     },
     "execution_count": 64,
     "metadata": {},
     "output_type": "execute_result"
    }
   ],
   "source": [
    "my_store.keys()"
   ]
  },
  {
   "cell_type": "code",
   "execution_count": 56,
   "metadata": {
    "ExecuteTime": {
     "end_time": "2020-01-05T06:14:25.843732Z",
     "start_time": "2020-01-05T06:14:25.801698Z"
    }
   },
   "outputs": [
    {
     "data": {
      "text/html": [
       "<div>\n",
       "<style scoped>\n",
       "    .dataframe tbody tr th:only-of-type {\n",
       "        vertical-align: middle;\n",
       "    }\n",
       "\n",
       "    .dataframe tbody tr th {\n",
       "        vertical-align: top;\n",
       "    }\n",
       "\n",
       "    .dataframe thead th {\n",
       "        text-align: right;\n",
       "    }\n",
       "</style>\n",
       "<table border=\"1\" class=\"dataframe\">\n",
       "  <thead>\n",
       "    <tr style=\"text-align: right;\">\n",
       "      <th></th>\n",
       "      <th>pitch_type</th>\n",
       "      <th>game_date</th>\n",
       "      <th>release_speed</th>\n",
       "      <th>release_pos_x</th>\n",
       "      <th>release_pos_z</th>\n",
       "      <th>player_name</th>\n",
       "      <th>batter</th>\n",
       "      <th>pitcher</th>\n",
       "      <th>events</th>\n",
       "      <th>description</th>\n",
       "      <th>...</th>\n",
       "      <th>bat_score</th>\n",
       "      <th>fld_score</th>\n",
       "      <th>post_away_score</th>\n",
       "      <th>post_home_score</th>\n",
       "      <th>post_bat_score</th>\n",
       "      <th>post_fld_score</th>\n",
       "      <th>if_fielding_alignment</th>\n",
       "      <th>of_fielding_alignment</th>\n",
       "      <th>sw_type</th>\n",
       "      <th>sw_true</th>\n",
       "    </tr>\n",
       "  </thead>\n",
       "  <tbody>\n",
       "    <tr>\n",
       "      <th>0</th>\n",
       "      <td>FF</td>\n",
       "      <td>2019-09-29</td>\n",
       "      <td>98.4</td>\n",
       "      <td>-1.9530</td>\n",
       "      <td>5.7396</td>\n",
       "      <td>Gerrit Cole</td>\n",
       "      <td>592230</td>\n",
       "      <td>543037</td>\n",
       "      <td>strikeout</td>\n",
       "      <td>swinging_strike</td>\n",
       "      <td>...</td>\n",
       "      <td>1</td>\n",
       "      <td>8</td>\n",
       "      <td>8</td>\n",
       "      <td>1</td>\n",
       "      <td>1</td>\n",
       "      <td>8</td>\n",
       "      <td>Infield shift</td>\n",
       "      <td>Standard</td>\n",
       "      <td>whiff</td>\n",
       "      <td>1</td>\n",
       "    </tr>\n",
       "    <tr>\n",
       "      <th>1</th>\n",
       "      <td>FF</td>\n",
       "      <td>2019-09-29</td>\n",
       "      <td>99.0</td>\n",
       "      <td>-1.8961</td>\n",
       "      <td>5.7786</td>\n",
       "      <td>Gerrit Cole</td>\n",
       "      <td>592230</td>\n",
       "      <td>543037</td>\n",
       "      <td>NaN</td>\n",
       "      <td>ball</td>\n",
       "      <td>...</td>\n",
       "      <td>1</td>\n",
       "      <td>8</td>\n",
       "      <td>8</td>\n",
       "      <td>1</td>\n",
       "      <td>1</td>\n",
       "      <td>8</td>\n",
       "      <td>Infield shift</td>\n",
       "      <td>Standard</td>\n",
       "      <td>take_ball</td>\n",
       "      <td>0</td>\n",
       "    </tr>\n",
       "    <tr>\n",
       "      <th>2</th>\n",
       "      <td>KC</td>\n",
       "      <td>2019-09-29</td>\n",
       "      <td>86.2</td>\n",
       "      <td>-1.9253</td>\n",
       "      <td>5.7561</td>\n",
       "      <td>Gerrit Cole</td>\n",
       "      <td>592230</td>\n",
       "      <td>543037</td>\n",
       "      <td>NaN</td>\n",
       "      <td>foul</td>\n",
       "      <td>...</td>\n",
       "      <td>1</td>\n",
       "      <td>8</td>\n",
       "      <td>8</td>\n",
       "      <td>1</td>\n",
       "      <td>1</td>\n",
       "      <td>8</td>\n",
       "      <td>Infield shift</td>\n",
       "      <td>Standard</td>\n",
       "      <td>foul</td>\n",
       "      <td>1</td>\n",
       "    </tr>\n",
       "    <tr>\n",
       "      <th>3</th>\n",
       "      <td>FF</td>\n",
       "      <td>2019-09-29</td>\n",
       "      <td>99.4</td>\n",
       "      <td>-1.9853</td>\n",
       "      <td>5.7987</td>\n",
       "      <td>Gerrit Cole</td>\n",
       "      <td>592230</td>\n",
       "      <td>543037</td>\n",
       "      <td>NaN</td>\n",
       "      <td>foul</td>\n",
       "      <td>...</td>\n",
       "      <td>1</td>\n",
       "      <td>8</td>\n",
       "      <td>8</td>\n",
       "      <td>1</td>\n",
       "      <td>1</td>\n",
       "      <td>8</td>\n",
       "      <td>Infield shift</td>\n",
       "      <td>Standard</td>\n",
       "      <td>foul</td>\n",
       "      <td>1</td>\n",
       "    </tr>\n",
       "    <tr>\n",
       "      <th>4</th>\n",
       "      <td>FF</td>\n",
       "      <td>2019-09-29</td>\n",
       "      <td>98.5</td>\n",
       "      <td>-1.9848</td>\n",
       "      <td>5.7508</td>\n",
       "      <td>Gerrit Cole</td>\n",
       "      <td>592230</td>\n",
       "      <td>543037</td>\n",
       "      <td>NaN</td>\n",
       "      <td>swinging_strike</td>\n",
       "      <td>...</td>\n",
       "      <td>1</td>\n",
       "      <td>8</td>\n",
       "      <td>8</td>\n",
       "      <td>1</td>\n",
       "      <td>1</td>\n",
       "      <td>8</td>\n",
       "      <td>Infield shift</td>\n",
       "      <td>Standard</td>\n",
       "      <td>whiff</td>\n",
       "      <td>1</td>\n",
       "    </tr>\n",
       "    <tr>\n",
       "      <th>...</th>\n",
       "      <td>...</td>\n",
       "      <td>...</td>\n",
       "      <td>...</td>\n",
       "      <td>...</td>\n",
       "      <td>...</td>\n",
       "      <td>...</td>\n",
       "      <td>...</td>\n",
       "      <td>...</td>\n",
       "      <td>...</td>\n",
       "      <td>...</td>\n",
       "      <td>...</td>\n",
       "      <td>...</td>\n",
       "      <td>...</td>\n",
       "      <td>...</td>\n",
       "      <td>...</td>\n",
       "      <td>...</td>\n",
       "      <td>...</td>\n",
       "      <td>...</td>\n",
       "      <td>...</td>\n",
       "      <td>...</td>\n",
       "      <td>...</td>\n",
       "    </tr>\n",
       "    <tr>\n",
       "      <th>3357</th>\n",
       "      <td>SL</td>\n",
       "      <td>2019-03-29</td>\n",
       "      <td>89.8</td>\n",
       "      <td>-2.3465</td>\n",
       "      <td>5.9531</td>\n",
       "      <td>Gerrit Cole</td>\n",
       "      <td>640457</td>\n",
       "      <td>543037</td>\n",
       "      <td>NaN</td>\n",
       "      <td>foul</td>\n",
       "      <td>...</td>\n",
       "      <td>0</td>\n",
       "      <td>0</td>\n",
       "      <td>0</td>\n",
       "      <td>0</td>\n",
       "      <td>0</td>\n",
       "      <td>0</td>\n",
       "      <td>Infield shift</td>\n",
       "      <td>Standard</td>\n",
       "      <td>foul</td>\n",
       "      <td>1</td>\n",
       "    </tr>\n",
       "    <tr>\n",
       "      <th>3358</th>\n",
       "      <td>FF</td>\n",
       "      <td>2019-03-29</td>\n",
       "      <td>96.3</td>\n",
       "      <td>-2.1579</td>\n",
       "      <td>5.8887</td>\n",
       "      <td>Gerrit Cole</td>\n",
       "      <td>640457</td>\n",
       "      <td>543037</td>\n",
       "      <td>NaN</td>\n",
       "      <td>foul</td>\n",
       "      <td>...</td>\n",
       "      <td>0</td>\n",
       "      <td>0</td>\n",
       "      <td>0</td>\n",
       "      <td>0</td>\n",
       "      <td>0</td>\n",
       "      <td>0</td>\n",
       "      <td>Infield shift</td>\n",
       "      <td>Standard</td>\n",
       "      <td>foul</td>\n",
       "      <td>1</td>\n",
       "    </tr>\n",
       "    <tr>\n",
       "      <th>3359</th>\n",
       "      <td>SL</td>\n",
       "      <td>2019-03-29</td>\n",
       "      <td>88.5</td>\n",
       "      <td>-2.3414</td>\n",
       "      <td>5.9628</td>\n",
       "      <td>Gerrit Cole</td>\n",
       "      <td>640457</td>\n",
       "      <td>543037</td>\n",
       "      <td>NaN</td>\n",
       "      <td>ball</td>\n",
       "      <td>...</td>\n",
       "      <td>0</td>\n",
       "      <td>0</td>\n",
       "      <td>0</td>\n",
       "      <td>0</td>\n",
       "      <td>0</td>\n",
       "      <td>0</td>\n",
       "      <td>Infield shift</td>\n",
       "      <td>Standard</td>\n",
       "      <td>take_ball</td>\n",
       "      <td>0</td>\n",
       "    </tr>\n",
       "    <tr>\n",
       "      <th>3360</th>\n",
       "      <td>FT</td>\n",
       "      <td>2019-03-29</td>\n",
       "      <td>96.7</td>\n",
       "      <td>-2.3392</td>\n",
       "      <td>5.7665</td>\n",
       "      <td>Gerrit Cole</td>\n",
       "      <td>640457</td>\n",
       "      <td>543037</td>\n",
       "      <td>NaN</td>\n",
       "      <td>ball</td>\n",
       "      <td>...</td>\n",
       "      <td>0</td>\n",
       "      <td>0</td>\n",
       "      <td>0</td>\n",
       "      <td>0</td>\n",
       "      <td>0</td>\n",
       "      <td>0</td>\n",
       "      <td>Infield shift</td>\n",
       "      <td>Standard</td>\n",
       "      <td>take_ball</td>\n",
       "      <td>0</td>\n",
       "    </tr>\n",
       "    <tr>\n",
       "      <th>3361</th>\n",
       "      <td>FF</td>\n",
       "      <td>2019-03-29</td>\n",
       "      <td>96.2</td>\n",
       "      <td>-2.2387</td>\n",
       "      <td>5.9256</td>\n",
       "      <td>Gerrit Cole</td>\n",
       "      <td>640457</td>\n",
       "      <td>543037</td>\n",
       "      <td>NaN</td>\n",
       "      <td>swinging_strike</td>\n",
       "      <td>...</td>\n",
       "      <td>0</td>\n",
       "      <td>0</td>\n",
       "      <td>0</td>\n",
       "      <td>0</td>\n",
       "      <td>0</td>\n",
       "      <td>0</td>\n",
       "      <td>Infield shift</td>\n",
       "      <td>Standard</td>\n",
       "      <td>whiff</td>\n",
       "      <td>1</td>\n",
       "    </tr>\n",
       "  </tbody>\n",
       "</table>\n",
       "<p>3362 rows × 91 columns</p>\n",
       "</div>"
      ],
      "text/plain": [
       "     pitch_type   game_date  release_speed  release_pos_x  release_pos_z  \\\n",
       "0            FF  2019-09-29           98.4        -1.9530         5.7396   \n",
       "1            FF  2019-09-29           99.0        -1.8961         5.7786   \n",
       "2            KC  2019-09-29           86.2        -1.9253         5.7561   \n",
       "3            FF  2019-09-29           99.4        -1.9853         5.7987   \n",
       "4            FF  2019-09-29           98.5        -1.9848         5.7508   \n",
       "...         ...         ...            ...            ...            ...   \n",
       "3357         SL  2019-03-29           89.8        -2.3465         5.9531   \n",
       "3358         FF  2019-03-29           96.3        -2.1579         5.8887   \n",
       "3359         SL  2019-03-29           88.5        -2.3414         5.9628   \n",
       "3360         FT  2019-03-29           96.7        -2.3392         5.7665   \n",
       "3361         FF  2019-03-29           96.2        -2.2387         5.9256   \n",
       "\n",
       "      player_name  batter  pitcher     events      description  ...  \\\n",
       "0     Gerrit Cole  592230   543037  strikeout  swinging_strike  ...   \n",
       "1     Gerrit Cole  592230   543037        NaN             ball  ...   \n",
       "2     Gerrit Cole  592230   543037        NaN             foul  ...   \n",
       "3     Gerrit Cole  592230   543037        NaN             foul  ...   \n",
       "4     Gerrit Cole  592230   543037        NaN  swinging_strike  ...   \n",
       "...           ...     ...      ...        ...              ...  ...   \n",
       "3357  Gerrit Cole  640457   543037        NaN             foul  ...   \n",
       "3358  Gerrit Cole  640457   543037        NaN             foul  ...   \n",
       "3359  Gerrit Cole  640457   543037        NaN             ball  ...   \n",
       "3360  Gerrit Cole  640457   543037        NaN             ball  ...   \n",
       "3361  Gerrit Cole  640457   543037        NaN  swinging_strike  ...   \n",
       "\n",
       "      bat_score  fld_score  post_away_score  post_home_score  post_bat_score  \\\n",
       "0             1          8                8                1               1   \n",
       "1             1          8                8                1               1   \n",
       "2             1          8                8                1               1   \n",
       "3             1          8                8                1               1   \n",
       "4             1          8                8                1               1   \n",
       "...         ...        ...              ...              ...             ...   \n",
       "3357          0          0                0                0               0   \n",
       "3358          0          0                0                0               0   \n",
       "3359          0          0                0                0               0   \n",
       "3360          0          0                0                0               0   \n",
       "3361          0          0                0                0               0   \n",
       "\n",
       "     post_fld_score if_fielding_alignment of_fielding_alignment    sw_type  \\\n",
       "0                 8         Infield shift              Standard      whiff   \n",
       "1                 8         Infield shift              Standard  take_ball   \n",
       "2                 8         Infield shift              Standard       foul   \n",
       "3                 8         Infield shift              Standard       foul   \n",
       "4                 8         Infield shift              Standard      whiff   \n",
       "...             ...                   ...                   ...        ...   \n",
       "3357              0         Infield shift              Standard       foul   \n",
       "3358              0         Infield shift              Standard       foul   \n",
       "3359              0         Infield shift              Standard  take_ball   \n",
       "3360              0         Infield shift              Standard  take_ball   \n",
       "3361              0         Infield shift              Standard      whiff   \n",
       "\n",
       "     sw_true  \n",
       "0          1  \n",
       "1          0  \n",
       "2          1  \n",
       "3          1  \n",
       "4          1  \n",
       "...      ...  \n",
       "3357       1  \n",
       "3358       1  \n",
       "3359       0  \n",
       "3360       0  \n",
       "3361       1  \n",
       "\n",
       "[3362 rows x 91 columns]"
      ]
     },
     "execution_count": 56,
     "metadata": {},
     "output_type": "execute_result"
    }
   ],
   "source": [
    "my_store['Gerrit Cole'][1]"
   ]
  },
  {
   "cell_type": "markdown",
   "metadata": {},
   "source": [
    "## Define and populate a database\n",
    "\n",
    "Run the cells below to define your new database and populate it with data from the included CSV file. "
   ]
  },
  {
   "cell_type": "code",
   "execution_count": 3,
   "metadata": {},
   "outputs": [],
   "source": [
    "# Define a database name \n",
    "# Set your postgres username\n",
    "dbname = 'birth_db'\n",
    "username = 'lacar' # change this to your username"
   ]
  },
  {
   "cell_type": "code",
   "execution_count": 4,
   "metadata": {},
   "outputs": [
    {
     "name": "stdout",
     "output_type": "stream",
     "text": [
      "postgres://lacar@localhost/birth_db\n"
     ]
    }
   ],
   "source": [
    "## 'engine' is a connection to a database\n",
    "## Here, we're using postgres, but sqlalchemy can connect to other things too.\n",
    "engine = create_engine('postgres://%s@localhost/%s'%(username,dbname))\n",
    "print(engine.url)"
   ]
  },
  {
   "cell_type": "code",
   "execution_count": 5,
   "metadata": {},
   "outputs": [
    {
     "name": "stdout",
     "output_type": "stream",
     "text": [
      "True\n"
     ]
    }
   ],
   "source": [
    "## create a database (if it doesn't exist)\n",
    "if not database_exists(engine.url):\n",
    "    create_database(engine.url)\n",
    "print(database_exists(engine.url))"
   ]
  },
  {
   "cell_type": "code",
   "execution_count": 6,
   "metadata": {},
   "outputs": [],
   "source": [
    "# read a database from the included CSV and load it into a pandas dataframe\n",
    "# you may need to add a path in the command below if you aren't working in the same directory you saved the CSV\n",
    "csv_dir = '/Users/lacar/Documents/Goals_and_careers/Edu_Data_Science/Insight/devsetupbeforecomingtoinsight/'\n",
    "birth_data = pd.read_csv(csv_dir + 'births2012_downsampled.csv', index_col=0)"
   ]
  },
  {
   "cell_type": "code",
   "execution_count": 8,
   "metadata": {},
   "outputs": [
    {
     "data": {
      "text/plain": [
       "(2716, 37)"
      ]
     },
     "execution_count": 8,
     "metadata": {},
     "output_type": "execute_result"
    }
   ],
   "source": [
    "birth_data.shape"
   ]
  },
  {
   "cell_type": "code",
   "execution_count": 9,
   "metadata": {},
   "outputs": [],
   "source": [
    "## insert data into database from Python (proof of concept - this won't be useful for big data, of course)\n",
    "birth_data.to_sql('birth_data_table', engine, if_exists='replace')"
   ]
  },
  {
   "cell_type": "markdown",
   "metadata": {},
   "source": [
    "Some example queries (from notebook) - but ugly to read in the terminal\n",
    "\n",
    "Press q in your terminal at any time to get back to the command line. \n",
    "\n",
    "Try a few other sample queries.  Before you type in each one, ask yourself what you think the output will look like:\n",
    "\n",
    "`SELECT * FROM birth_data_table WHERE infant_sex='M';`\n",
    "\n",
    "`SELECT COUNT(infant_sex) FROM birth_data_table WHERE infant_sex='M';`\n",
    "\n",
    "`SELECT COUNT(gestation_weeks), infant_sex FROM birth_data_table WHERE infant_sex = 'M' GROUP BY gestation_weeks, infant_sex;`\n",
    "\n",
    "`SELECT gestation_weeks, COUNT(gestation_weeks) FROM birth_data_table WHERE infant_sex = 'M' GROUP BY gestation_weeks;`\n",
    "\n",
    "All the above queries run, but they are difficult to visually inspect in the Postgres terminal."
   ]
  },
  {
   "cell_type": "code",
   "execution_count": 10,
   "metadata": {},
   "outputs": [
    {
     "name": "stdout",
     "output_type": "stream",
     "text": [
      "birth_db lacar\n"
     ]
    }
   ],
   "source": [
    "print(dbname, username)"
   ]
  },
  {
   "cell_type": "code",
   "execution_count": 11,
   "metadata": {},
   "outputs": [
    {
     "data": {
      "text/html": [
       "<div>\n",
       "<style scoped>\n",
       "    .dataframe tbody tr th:only-of-type {\n",
       "        vertical-align: middle;\n",
       "    }\n",
       "\n",
       "    .dataframe tbody tr th {\n",
       "        vertical-align: top;\n",
       "    }\n",
       "\n",
       "    .dataframe thead th {\n",
       "        text-align: right;\n",
       "    }\n",
       "</style>\n",
       "<table border=\"1\" class=\"dataframe\">\n",
       "  <thead>\n",
       "    <tr style=\"text-align: right;\">\n",
       "      <th></th>\n",
       "      <th>index</th>\n",
       "      <th>alcohol_use</th>\n",
       "      <th>anencephaly</th>\n",
       "      <th>attendant</th>\n",
       "      <th>birth_loc_type</th>\n",
       "      <th>birth_month</th>\n",
       "      <th>birth_state</th>\n",
       "      <th>birth_weight</th>\n",
       "      <th>birth_year</th>\n",
       "      <th>cigarette_use</th>\n",
       "      <th>...</th>\n",
       "      <th>mother_state</th>\n",
       "      <th>population</th>\n",
       "      <th>pregnancy_weight</th>\n",
       "      <th>resident</th>\n",
       "      <th>revision</th>\n",
       "      <th>spina_bifida</th>\n",
       "      <th>table</th>\n",
       "      <th>timestamp</th>\n",
       "      <th>uses_tobacco</th>\n",
       "      <th>weight_gain</th>\n",
       "    </tr>\n",
       "  </thead>\n",
       "  <tbody>\n",
       "    <tr>\n",
       "      <th>0</th>\n",
       "      <td>1</td>\n",
       "      <td>None</td>\n",
       "      <td>NaN</td>\n",
       "      <td>MD</td>\n",
       "      <td>NaN</td>\n",
       "      <td>Jan</td>\n",
       "      <td>None</td>\n",
       "      <td>4500.0</td>\n",
       "      <td>2012</td>\n",
       "      <td>None</td>\n",
       "      <td>...</td>\n",
       "      <td>None</td>\n",
       "      <td>None</td>\n",
       "      <td>None</td>\n",
       "      <td>Intra-State/Territor Non-resident (diff county)</td>\n",
       "      <td>S</td>\n",
       "      <td>NaN</td>\n",
       "      <td>births12.txt</td>\n",
       "      <td>1325882986</td>\n",
       "      <td>None</td>\n",
       "      <td>49.0</td>\n",
       "    </tr>\n",
       "    <tr>\n",
       "      <th>1</th>\n",
       "      <td>2</td>\n",
       "      <td>None</td>\n",
       "      <td>NaN</td>\n",
       "      <td>MD</td>\n",
       "      <td>NaN</td>\n",
       "      <td>Jan</td>\n",
       "      <td>None</td>\n",
       "      <td>2500.0</td>\n",
       "      <td>2012</td>\n",
       "      <td>None</td>\n",
       "      <td>...</td>\n",
       "      <td>None</td>\n",
       "      <td>None</td>\n",
       "      <td>None</td>\n",
       "      <td>Resident</td>\n",
       "      <td>S</td>\n",
       "      <td>NaN</td>\n",
       "      <td>births12.txt</td>\n",
       "      <td>1326367089</td>\n",
       "      <td>None</td>\n",
       "      <td>30.0</td>\n",
       "    </tr>\n",
       "    <tr>\n",
       "      <th>2</th>\n",
       "      <td>13</td>\n",
       "      <td>None</td>\n",
       "      <td>NaN</td>\n",
       "      <td>MD</td>\n",
       "      <td>NaN</td>\n",
       "      <td>Mar</td>\n",
       "      <td>None</td>\n",
       "      <td>4500.0</td>\n",
       "      <td>2012</td>\n",
       "      <td>None</td>\n",
       "      <td>...</td>\n",
       "      <td>None</td>\n",
       "      <td>None</td>\n",
       "      <td>None</td>\n",
       "      <td>Resident</td>\n",
       "      <td>S</td>\n",
       "      <td>NaN</td>\n",
       "      <td>births12.txt</td>\n",
       "      <td>1331645804</td>\n",
       "      <td>None</td>\n",
       "      <td>27.0</td>\n",
       "    </tr>\n",
       "    <tr>\n",
       "      <th>3</th>\n",
       "      <td>14</td>\n",
       "      <td>None</td>\n",
       "      <td>NaN</td>\n",
       "      <td>MD</td>\n",
       "      <td>NaN</td>\n",
       "      <td>Mar</td>\n",
       "      <td>None</td>\n",
       "      <td>5000.0</td>\n",
       "      <td>2012</td>\n",
       "      <td>None</td>\n",
       "      <td>...</td>\n",
       "      <td>None</td>\n",
       "      <td>None</td>\n",
       "      <td>None</td>\n",
       "      <td>Resident</td>\n",
       "      <td>S</td>\n",
       "      <td>NaN</td>\n",
       "      <td>births12.txt</td>\n",
       "      <td>1332142969</td>\n",
       "      <td>None</td>\n",
       "      <td>70.0</td>\n",
       "    </tr>\n",
       "    <tr>\n",
       "      <th>4</th>\n",
       "      <td>18</td>\n",
       "      <td>None</td>\n",
       "      <td>NaN</td>\n",
       "      <td>MD</td>\n",
       "      <td>NaN</td>\n",
       "      <td>Apr</td>\n",
       "      <td>None</td>\n",
       "      <td>4500.0</td>\n",
       "      <td>2012</td>\n",
       "      <td>None</td>\n",
       "      <td>...</td>\n",
       "      <td>None</td>\n",
       "      <td>None</td>\n",
       "      <td>None</td>\n",
       "      <td>Resident</td>\n",
       "      <td>S</td>\n",
       "      <td>NaN</td>\n",
       "      <td>births12.txt</td>\n",
       "      <td>1334107348</td>\n",
       "      <td>None</td>\n",
       "      <td>10.0</td>\n",
       "    </tr>\n",
       "  </tbody>\n",
       "</table>\n",
       "<p>5 rows × 38 columns</p>\n",
       "</div>"
      ],
      "text/plain": [
       "   index alcohol_use  anencephaly attendant  birth_loc_type birth_month  \\\n",
       "0      1        None          NaN        MD             NaN         Jan   \n",
       "1      2        None          NaN        MD             NaN         Jan   \n",
       "2     13        None          NaN        MD             NaN         Mar   \n",
       "3     14        None          NaN        MD             NaN         Mar   \n",
       "4     18        None          NaN        MD             NaN         Apr   \n",
       "\n",
       "  birth_state  birth_weight  birth_year cigarette_use  ... mother_state  \\\n",
       "0        None        4500.0        2012          None  ...         None   \n",
       "1        None        2500.0        2012          None  ...         None   \n",
       "2        None        4500.0        2012          None  ...         None   \n",
       "3        None        5000.0        2012          None  ...         None   \n",
       "4        None        4500.0        2012          None  ...         None   \n",
       "\n",
       "   population  pregnancy_weight  \\\n",
       "0        None              None   \n",
       "1        None              None   \n",
       "2        None              None   \n",
       "3        None              None   \n",
       "4        None              None   \n",
       "\n",
       "                                          resident revision spina_bifida  \\\n",
       "0  Intra-State/Territor Non-resident (diff county)        S          NaN   \n",
       "1                                         Resident        S          NaN   \n",
       "2                                         Resident        S          NaN   \n",
       "3                                         Resident        S          NaN   \n",
       "4                                         Resident        S          NaN   \n",
       "\n",
       "          table   timestamp uses_tobacco weight_gain  \n",
       "0  births12.txt  1325882986         None        49.0  \n",
       "1  births12.txt  1326367089         None        30.0  \n",
       "2  births12.txt  1331645804         None        27.0  \n",
       "3  births12.txt  1332142969         None        70.0  \n",
       "4  births12.txt  1334107348         None        10.0  \n",
       "\n",
       "[5 rows x 38 columns]"
      ]
     },
     "execution_count": 11,
     "metadata": {},
     "output_type": "execute_result"
    }
   ],
   "source": [
    "## Working with PostgreSQL in Python\n",
    "\n",
    "# Connect to make queries using psycopg2\n",
    "con = None\n",
    "con = psycopg2.connect(database = dbname, user = username)\n",
    "\n",
    "# query:\n",
    "sql_query = \"\"\"\n",
    "SELECT * FROM birth_data_table WHERE delivery_method='Cesarean';\n",
    "\"\"\"\n",
    "birth_data_from_sql = pd.read_sql_query(sql_query,con)\n",
    "birth_data_from_sql.head()\n"
   ]
  },
  {
   "cell_type": "code",
   "execution_count": 12,
   "metadata": {},
   "outputs": [
    {
     "data": {
      "image/png": "[encoded data removed]",
      "text/plain": [
       "<Figure size 432x288 with 1 Axes>"
      ]
     },
     "metadata": {
      "needs_background": "light"
     },
     "output_type": "display_data"
    }
   ],
   "source": [
    "%matplotlib inline\n",
    "birth_data_from_sql.hist(column='birth_weight');"
   ]
  },
  {
   "cell_type": "markdown",
   "metadata": {},
   "source": [
    "### Is reading from a SQL database faster than from a Pandas dataframe?  Probably not for the amount of data you can fit on your machine."
   ]
  },
  {
   "cell_type": "code",
   "execution_count": 13,
   "metadata": {},
   "outputs": [
    {
     "name": "stdout",
     "output_type": "stream",
     "text": [
      "17.8 ms ± 666 µs per loop (mean ± std. dev. of 7 runs, 100 loops each)\n"
     ]
    },
    {
     "data": {
      "text/html": [
       "<div>\n",
       "<style scoped>\n",
       "    .dataframe tbody tr th:only-of-type {\n",
       "        vertical-align: middle;\n",
       "    }\n",
       "\n",
       "    .dataframe tbody tr th {\n",
       "        vertical-align: top;\n",
       "    }\n",
       "\n",
       "    .dataframe thead th {\n",
       "        text-align: right;\n",
       "    }\n",
       "</style>\n",
       "<table border=\"1\" class=\"dataframe\">\n",
       "  <thead>\n",
       "    <tr style=\"text-align: right;\">\n",
       "      <th></th>\n",
       "      <th>index</th>\n",
       "      <th>alcohol_use</th>\n",
       "      <th>anencephaly</th>\n",
       "      <th>attendant</th>\n",
       "      <th>birth_loc_type</th>\n",
       "      <th>birth_month</th>\n",
       "      <th>birth_state</th>\n",
       "      <th>birth_weight</th>\n",
       "      <th>birth_year</th>\n",
       "      <th>cigarette_use</th>\n",
       "      <th>...</th>\n",
       "      <th>mother_state</th>\n",
       "      <th>population</th>\n",
       "      <th>pregnancy_weight</th>\n",
       "      <th>resident</th>\n",
       "      <th>revision</th>\n",
       "      <th>spina_bifida</th>\n",
       "      <th>table</th>\n",
       "      <th>timestamp</th>\n",
       "      <th>uses_tobacco</th>\n",
       "      <th>weight_gain</th>\n",
       "    </tr>\n",
       "  </thead>\n",
       "  <tbody>\n",
       "    <tr>\n",
       "      <th>0</th>\n",
       "      <td>1</td>\n",
       "      <td>None</td>\n",
       "      <td>NaN</td>\n",
       "      <td>MD</td>\n",
       "      <td>NaN</td>\n",
       "      <td>Jan</td>\n",
       "      <td>None</td>\n",
       "      <td>4500.0</td>\n",
       "      <td>2012</td>\n",
       "      <td>None</td>\n",
       "      <td>...</td>\n",
       "      <td>None</td>\n",
       "      <td>None</td>\n",
       "      <td>None</td>\n",
       "      <td>Intra-State/Territor Non-resident (diff county)</td>\n",
       "      <td>S</td>\n",
       "      <td>NaN</td>\n",
       "      <td>births12.txt</td>\n",
       "      <td>1325882986</td>\n",
       "      <td>None</td>\n",
       "      <td>49.0</td>\n",
       "    </tr>\n",
       "    <tr>\n",
       "      <th>1</th>\n",
       "      <td>2</td>\n",
       "      <td>None</td>\n",
       "      <td>NaN</td>\n",
       "      <td>MD</td>\n",
       "      <td>NaN</td>\n",
       "      <td>Jan</td>\n",
       "      <td>None</td>\n",
       "      <td>2500.0</td>\n",
       "      <td>2012</td>\n",
       "      <td>None</td>\n",
       "      <td>...</td>\n",
       "      <td>None</td>\n",
       "      <td>None</td>\n",
       "      <td>None</td>\n",
       "      <td>Resident</td>\n",
       "      <td>S</td>\n",
       "      <td>NaN</td>\n",
       "      <td>births12.txt</td>\n",
       "      <td>1326367089</td>\n",
       "      <td>None</td>\n",
       "      <td>30.0</td>\n",
       "    </tr>\n",
       "    <tr>\n",
       "      <th>2</th>\n",
       "      <td>13</td>\n",
       "      <td>None</td>\n",
       "      <td>NaN</td>\n",
       "      <td>MD</td>\n",
       "      <td>NaN</td>\n",
       "      <td>Mar</td>\n",
       "      <td>None</td>\n",
       "      <td>4500.0</td>\n",
       "      <td>2012</td>\n",
       "      <td>None</td>\n",
       "      <td>...</td>\n",
       "      <td>None</td>\n",
       "      <td>None</td>\n",
       "      <td>None</td>\n",
       "      <td>Resident</td>\n",
       "      <td>S</td>\n",
       "      <td>NaN</td>\n",
       "      <td>births12.txt</td>\n",
       "      <td>1331645804</td>\n",
       "      <td>None</td>\n",
       "      <td>27.0</td>\n",
       "    </tr>\n",
       "    <tr>\n",
       "      <th>3</th>\n",
       "      <td>14</td>\n",
       "      <td>None</td>\n",
       "      <td>NaN</td>\n",
       "      <td>MD</td>\n",
       "      <td>NaN</td>\n",
       "      <td>Mar</td>\n",
       "      <td>None</td>\n",
       "      <td>5000.0</td>\n",
       "      <td>2012</td>\n",
       "      <td>None</td>\n",
       "      <td>...</td>\n",
       "      <td>None</td>\n",
       "      <td>None</td>\n",
       "      <td>None</td>\n",
       "      <td>Resident</td>\n",
       "      <td>S</td>\n",
       "      <td>NaN</td>\n",
       "      <td>births12.txt</td>\n",
       "      <td>1332142969</td>\n",
       "      <td>None</td>\n",
       "      <td>70.0</td>\n",
       "    </tr>\n",
       "    <tr>\n",
       "      <th>4</th>\n",
       "      <td>18</td>\n",
       "      <td>None</td>\n",
       "      <td>NaN</td>\n",
       "      <td>MD</td>\n",
       "      <td>NaN</td>\n",
       "      <td>Apr</td>\n",
       "      <td>None</td>\n",
       "      <td>4500.0</td>\n",
       "      <td>2012</td>\n",
       "      <td>None</td>\n",
       "      <td>...</td>\n",
       "      <td>None</td>\n",
       "      <td>None</td>\n",
       "      <td>None</td>\n",
       "      <td>Resident</td>\n",
       "      <td>S</td>\n",
       "      <td>NaN</td>\n",
       "      <td>births12.txt</td>\n",
       "      <td>1334107348</td>\n",
       "      <td>None</td>\n",
       "      <td>10.0</td>\n",
       "    </tr>\n",
       "  </tbody>\n",
       "</table>\n",
       "<p>5 rows × 38 columns</p>\n",
       "</div>"
      ],
      "text/plain": [
       "   index alcohol_use  anencephaly attendant  birth_loc_type birth_month  \\\n",
       "0      1        None          NaN        MD             NaN         Jan   \n",
       "1      2        None          NaN        MD             NaN         Jan   \n",
       "2     13        None          NaN        MD             NaN         Mar   \n",
       "3     14        None          NaN        MD             NaN         Mar   \n",
       "4     18        None          NaN        MD             NaN         Apr   \n",
       "\n",
       "  birth_state  birth_weight  birth_year cigarette_use  ... mother_state  \\\n",
       "0        None        4500.0        2012          None  ...         None   \n",
       "1        None        2500.0        2012          None  ...         None   \n",
       "2        None        4500.0        2012          None  ...         None   \n",
       "3        None        5000.0        2012          None  ...         None   \n",
       "4        None        4500.0        2012          None  ...         None   \n",
       "\n",
       "   population  pregnancy_weight  \\\n",
       "0        None              None   \n",
       "1        None              None   \n",
       "2        None              None   \n",
       "3        None              None   \n",
       "4        None              None   \n",
       "\n",
       "                                          resident revision spina_bifida  \\\n",
       "0  Intra-State/Territor Non-resident (diff county)        S          NaN   \n",
       "1                                         Resident        S          NaN   \n",
       "2                                         Resident        S          NaN   \n",
       "3                                         Resident        S          NaN   \n",
       "4                                         Resident        S          NaN   \n",
       "\n",
       "          table   timestamp uses_tobacco weight_gain  \n",
       "0  births12.txt  1325882986         None        49.0  \n",
       "1  births12.txt  1326367089         None        30.0  \n",
       "2  births12.txt  1331645804         None        27.0  \n",
       "3  births12.txt  1332142969         None        70.0  \n",
       "4  births12.txt  1334107348         None        10.0  \n",
       "\n",
       "[5 rows x 38 columns]"
      ]
     },
     "execution_count": 13,
     "metadata": {},
     "output_type": "execute_result"
    }
   ],
   "source": [
    "def get_data(sql_query, con):\n",
    "    data = pd.read_sql_query(sql_query, con)\n",
    "    return data\n",
    "\n",
    "%timeit get_data(sql_query, con)\n",
    "\n",
    "birth_data_from_sql = get_data(sql_query, con)\n",
    "birth_data_from_sql.head()"
   ]
  },
  {
   "cell_type": "code",
   "execution_count": 14,
   "metadata": {},
   "outputs": [
    {
     "name": "stdout",
     "output_type": "stream",
     "text": [
      "1.11 ms ± 94.8 µs per loop (mean ± std. dev. of 7 runs, 1000 loops each)\n"
     ]
    },
    {
     "data": {
      "text/html": [
       "<div>\n",
       "<style scoped>\n",
       "    .dataframe tbody tr th:only-of-type {\n",
       "        vertical-align: middle;\n",
       "    }\n",
       "\n",
       "    .dataframe tbody tr th {\n",
       "        vertical-align: top;\n",
       "    }\n",
       "\n",
       "    .dataframe thead th {\n",
       "        text-align: right;\n",
       "    }\n",
       "</style>\n",
       "<table border=\"1\" class=\"dataframe\">\n",
       "  <thead>\n",
       "    <tr style=\"text-align: right;\">\n",
       "      <th></th>\n",
       "      <th>alcohol_use</th>\n",
       "      <th>anencephaly</th>\n",
       "      <th>attendant</th>\n",
       "      <th>birth_loc_type</th>\n",
       "      <th>birth_month</th>\n",
       "      <th>birth_state</th>\n",
       "      <th>birth_weight</th>\n",
       "      <th>birth_year</th>\n",
       "      <th>cigarette_use</th>\n",
       "      <th>cigarettes_per_day</th>\n",
       "      <th>...</th>\n",
       "      <th>mother_state</th>\n",
       "      <th>population</th>\n",
       "      <th>pregnancy_weight</th>\n",
       "      <th>resident</th>\n",
       "      <th>revision</th>\n",
       "      <th>spina_bifida</th>\n",
       "      <th>table</th>\n",
       "      <th>timestamp</th>\n",
       "      <th>uses_tobacco</th>\n",
       "      <th>weight_gain</th>\n",
       "    </tr>\n",
       "  </thead>\n",
       "  <tbody>\n",
       "    <tr>\n",
       "      <th>1</th>\n",
       "      <td>NaN</td>\n",
       "      <td>NaN</td>\n",
       "      <td>MD</td>\n",
       "      <td>NaN</td>\n",
       "      <td>Jan</td>\n",
       "      <td>NaN</td>\n",
       "      <td>4500.0</td>\n",
       "      <td>2012</td>\n",
       "      <td>NaN</td>\n",
       "      <td>NaN</td>\n",
       "      <td>...</td>\n",
       "      <td>NaN</td>\n",
       "      <td>NaN</td>\n",
       "      <td>NaN</td>\n",
       "      <td>Intra-State/Territor Non-resident (diff county)</td>\n",
       "      <td>S</td>\n",
       "      <td>NaN</td>\n",
       "      <td>births12.txt</td>\n",
       "      <td>1325882986</td>\n",
       "      <td>NaN</td>\n",
       "      <td>49.0</td>\n",
       "    </tr>\n",
       "    <tr>\n",
       "      <th>2</th>\n",
       "      <td>NaN</td>\n",
       "      <td>NaN</td>\n",
       "      <td>MD</td>\n",
       "      <td>NaN</td>\n",
       "      <td>Jan</td>\n",
       "      <td>NaN</td>\n",
       "      <td>2500.0</td>\n",
       "      <td>2012</td>\n",
       "      <td>NaN</td>\n",
       "      <td>NaN</td>\n",
       "      <td>...</td>\n",
       "      <td>NaN</td>\n",
       "      <td>NaN</td>\n",
       "      <td>NaN</td>\n",
       "      <td>Resident</td>\n",
       "      <td>S</td>\n",
       "      <td>NaN</td>\n",
       "      <td>births12.txt</td>\n",
       "      <td>1326367089</td>\n",
       "      <td>NaN</td>\n",
       "      <td>30.0</td>\n",
       "    </tr>\n",
       "    <tr>\n",
       "      <th>13</th>\n",
       "      <td>NaN</td>\n",
       "      <td>NaN</td>\n",
       "      <td>MD</td>\n",
       "      <td>NaN</td>\n",
       "      <td>Mar</td>\n",
       "      <td>NaN</td>\n",
       "      <td>4500.0</td>\n",
       "      <td>2012</td>\n",
       "      <td>NaN</td>\n",
       "      <td>NaN</td>\n",
       "      <td>...</td>\n",
       "      <td>NaN</td>\n",
       "      <td>NaN</td>\n",
       "      <td>NaN</td>\n",
       "      <td>Resident</td>\n",
       "      <td>S</td>\n",
       "      <td>NaN</td>\n",
       "      <td>births12.txt</td>\n",
       "      <td>1331645804</td>\n",
       "      <td>NaN</td>\n",
       "      <td>27.0</td>\n",
       "    </tr>\n",
       "    <tr>\n",
       "      <th>14</th>\n",
       "      <td>NaN</td>\n",
       "      <td>NaN</td>\n",
       "      <td>MD</td>\n",
       "      <td>NaN</td>\n",
       "      <td>Mar</td>\n",
       "      <td>NaN</td>\n",
       "      <td>5000.0</td>\n",
       "      <td>2012</td>\n",
       "      <td>NaN</td>\n",
       "      <td>NaN</td>\n",
       "      <td>...</td>\n",
       "      <td>NaN</td>\n",
       "      <td>NaN</td>\n",
       "      <td>NaN</td>\n",
       "      <td>Resident</td>\n",
       "      <td>S</td>\n",
       "      <td>NaN</td>\n",
       "      <td>births12.txt</td>\n",
       "      <td>1332142969</td>\n",
       "      <td>NaN</td>\n",
       "      <td>70.0</td>\n",
       "    </tr>\n",
       "    <tr>\n",
       "      <th>18</th>\n",
       "      <td>NaN</td>\n",
       "      <td>NaN</td>\n",
       "      <td>MD</td>\n",
       "      <td>NaN</td>\n",
       "      <td>Apr</td>\n",
       "      <td>NaN</td>\n",
       "      <td>4500.0</td>\n",
       "      <td>2012</td>\n",
       "      <td>NaN</td>\n",
       "      <td>NaN</td>\n",
       "      <td>...</td>\n",
       "      <td>NaN</td>\n",
       "      <td>NaN</td>\n",
       "      <td>NaN</td>\n",
       "      <td>Resident</td>\n",
       "      <td>S</td>\n",
       "      <td>NaN</td>\n",
       "      <td>births12.txt</td>\n",
       "      <td>1334107348</td>\n",
       "      <td>NaN</td>\n",
       "      <td>10.0</td>\n",
       "    </tr>\n",
       "  </tbody>\n",
       "</table>\n",
       "<p>5 rows × 37 columns</p>\n",
       "</div>"
      ],
      "text/plain": [
       "    alcohol_use  anencephaly attendant  birth_loc_type birth_month  \\\n",
       "1           NaN          NaN        MD             NaN         Jan   \n",
       "2           NaN          NaN        MD             NaN         Jan   \n",
       "13          NaN          NaN        MD             NaN         Mar   \n",
       "14          NaN          NaN        MD             NaN         Mar   \n",
       "18          NaN          NaN        MD             NaN         Apr   \n",
       "\n",
       "    birth_state  birth_weight  birth_year  cigarette_use  cigarettes_per_day  \\\n",
       "1           NaN        4500.0        2012            NaN                 NaN   \n",
       "2           NaN        2500.0        2012            NaN                 NaN   \n",
       "13          NaN        4500.0        2012            NaN                 NaN   \n",
       "14          NaN        5000.0        2012            NaN                 NaN   \n",
       "18          NaN        4500.0        2012            NaN                 NaN   \n",
       "\n",
       "    ...  mother_state  population  pregnancy_weight  \\\n",
       "1   ...           NaN         NaN               NaN   \n",
       "2   ...           NaN         NaN               NaN   \n",
       "13  ...           NaN         NaN               NaN   \n",
       "14  ...           NaN         NaN               NaN   \n",
       "18  ...           NaN         NaN               NaN   \n",
       "\n",
       "                                           resident revision  spina_bifida  \\\n",
       "1   Intra-State/Territor Non-resident (diff county)        S           NaN   \n",
       "2                                          Resident        S           NaN   \n",
       "13                                         Resident        S           NaN   \n",
       "14                                         Resident        S           NaN   \n",
       "18                                         Resident        S           NaN   \n",
       "\n",
       "           table   timestamp uses_tobacco  weight_gain  \n",
       "1   births12.txt  1325882986          NaN         49.0  \n",
       "2   births12.txt  1326367089          NaN         30.0  \n",
       "13  births12.txt  1331645804          NaN         27.0  \n",
       "14  births12.txt  1332142969          NaN         70.0  \n",
       "18  births12.txt  1334107348          NaN         10.0  \n",
       "\n",
       "[5 rows x 37 columns]"
      ]
     },
     "execution_count": 14,
     "metadata": {},
     "output_type": "execute_result"
    }
   ],
   "source": [
    "def get_pandas_data(df, col, value):\n",
    "    sub_df = df.loc[(df[col] == value)]\n",
    "    return sub_df\n",
    "\n",
    "%timeit get_pandas_data(birth_data, 'delivery_method', 'Cesarean')\n",
    "\n",
    "birth_data_out = get_pandas_data(birth_data, 'delivery_method', 'Cesarean')\n",
    "birth_data_out.head()"
   ]
  },
  {
   "cell_type": "markdown",
   "metadata": {},
   "source": [
    "This should have given you a quick taste of how to use SQLALchemy, as well as how to run a few SQL queries both at the command line and in python.  You can see that `pandas` is actually a quite a bit faster than PostgreSQL here. This is because we're working with quite a small database (2716 rows × 37 columns), and there is an overhead of time it takes to communicate between python and PostGreSQL.  But as your database gets bigger (and certainly when it's too large to store in memory), working with relational databases becomes a necessity."
   ]
  },
  {
   "cell_type": "code",
   "execution_count": null,
   "metadata": {},
   "outputs": [],
   "source": []
  }
 ],
 "metadata": {
  "kernelspec": {
   "display_name": "Python 3",
   "language": "python",
   "name": "python3"
  },
  "language_info": {
   "codemirror_mode": {
    "name": "ipython",
    "version": 3
   },
   "file_extension": ".py",
   "mimetype": "text/x-python",
   "name": "python",
   "nbconvert_exporter": "python",
   "pygments_lexer": "ipython3",
   "version": "3.6.9"
  },
  "toc": {
   "base_numbering": 1,
   "nav_menu": {},
   "number_sections": true,
   "sideBar": true,
   "skip_h1_title": false,
   "title_cell": "Table of Contents",
   "title_sidebar": "Contents",
   "toc_cell": false,
   "toc_position": {
    "height": "calc(100% - 180px)",
    "left": "10px",
    "top": "150px",
    "width": "176.390625px"
   },
   "toc_section_display": "block",
   "toc_window_display": true
  },
  "varInspector": {
   "cols": {
    "lenName": 16,
    "lenType": 16,
    "lenVar": 40
   },
   "kernels_config": {
    "python": {
     "delete_cmd_postfix": "",
     "delete_cmd_prefix": "del ",
     "library": "var_list.py",
     "varRefreshCmd": "print(var_dic_list())"
    },
    "r": {
     "delete_cmd_postfix": ") ",
     "delete_cmd_prefix": "rm(",
     "library": "var_list.r",
     "varRefreshCmd": "cat(var_dic_list()) "
    }
   },
   "types_to_exclude": [
    "module",
    "function",
    "builtin_function_or_method",
    "instance",
    "_Feature"
   ],
   "window_display": false
  }
 },
 "nbformat": 4,
 "nbformat_minor": 2
}
